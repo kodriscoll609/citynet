{
 "cells": [
  {
   "cell_type": "markdown",
   "id": "35a2c7a3",
   "metadata": {},
   "source": [
    "# Task ahead"
   ]
  },
  {
   "cell_type": "code",
   "execution_count": null,
   "id": "a69bbc1d",
   "metadata": {},
   "outputs": [],
   "source": [
    "# Read wikidump\n",
    "# clean wikidump (wiki extractor)\n",
    "# open cleaned wikidump text files\n",
    "# create csv with word counts\n",
    "# check each column (= article) for city co-occurences"
   ]
  },
  {
   "cell_type": "markdown",
   "id": "ae64297a",
   "metadata": {},
   "source": [
    "# Imports"
   ]
  },
  {
   "cell_type": "code",
   "execution_count": 5,
   "id": "0ce2c7ed",
   "metadata": {},
   "outputs": [],
   "source": [
    "import os\n",
    "import pandas as pd\n",
    "import re\n",
    "from nltk.tokenize import RegexpTokenizer\n",
    "from collections import Counter\n",
    "from tqdm.notebook import tqdm\n",
    "import warnings\n",
    "\n",
    "# pd.set_option('display.max_rows', 50)"
   ]
  },
  {
   "cell_type": "markdown",
   "id": "188ea7c9",
   "metadata": {},
   "source": [
    "# Functions"
   ]
  },
  {
   "cell_type": "code",
   "execution_count": 193,
   "id": "27681d9c",
   "metadata": {},
   "outputs": [
    {
     "name": "stdout",
     "output_type": "stream",
     "text": [
      "london \"Alabama 1.0\n",
      "birmingham \"Alabama 33.0\n"
     ]
    }
   ],
   "source": [
    "for da in corpus.index.values:\n",
    "    for i,d in corpus.loc[da].items():\n",
    "        if d > 0:\n",
    "            if i == '\"Alabama':\n",
    "                print(da, i, d)\n",
    "                \n",
    "# corpus.sum(axis=1).sort_values(ascending=False)[-100:-1]"
   ]
  },
  {
   "cell_type": "code",
   "execution_count": 200,
   "id": "9a51853e",
   "metadata": {
    "scrolled": false
   },
   "outputs": [],
   "source": [
    "def preprocess_files(basefolder, corpus_path, cities, new_corpus=new_corpus):\n",
    "    with warnings.catch_warnings():\n",
    "        warnings.simplefilter('ignore')\n",
    "        \n",
    "        if new_corpus:\n",
    "            corpus = pd.DataFrame(columns=['word'])\n",
    "        else:\n",
    "            if os.path.exists(corpus_path+corpus_name):\n",
    "                try:\n",
    "                    corpus = pd.read_csv(f'{corpus_path}{corpus_name}')\n",
    "                except:\n",
    "                    print(f\"Could not open{corpus_path}{corpus_name}\")\n",
    "                    return\n",
    "            else:\n",
    "                print(f\"{corpus_path}{corpus_name} isn't a valid csv file.\")\n",
    "                return\n",
    "#         x = 0\n",
    "        for file in tqdm(os.listdir(basefolder), total=len(os.listdir(basefolder)), desc='files'):\n",
    "                full_path = f\"{basefolder}{file}\"\n",
    "                if os.path.exists(full_path):\n",
    "                    with open(full_path, \"r\", encoding=\"utf-8\") as f:\n",
    "                        lines = f.readlines()\n",
    "                        corpus = preprocess_file(filename=file, lines=lines, corpus=corpus, cities=cities)\n",
    "#                 x+= 1\n",
    "#                 if x == 4:\n",
    "#                     break\n",
    "        \n",
    "        corpus.set_index('word', inplace=True)\n",
    "        corpus.fillna(0, inplace=True)\n",
    "        corpus.to_csv(corpus_path+corpus_name)\n",
    "        \n",
    "        return corpus"
   ]
  },
  {
   "cell_type": "code",
   "execution_count": 6,
   "id": "6d3a2627",
   "metadata": {
    "scrolled": true
   },
   "outputs": [],
   "source": [
    "# %%time\n",
    "\n",
    "tokenizer = RegexpTokenizer('\\w+')\n",
    "\n",
    "# 1 csv per multistream file?\n",
    "def preprocess_file(filename, lines, corpus, cities, window_size=0):\n",
    "    lines = [x.replace('\\n', ' ') for x in lines if x.strip()]\n",
    "    \n",
    "    for line in tqdm(lines, total=len(lines), desc=filename):\n",
    "        if '<doc id' in line:\n",
    "            title, = re.findall('title=\".*\"', line)\n",
    "            article = [title, '']\n",
    "            \n",
    "        elif '</doc>' in line:\n",
    "            tokenized = tokenizer.tokenize(article[1].lower())\n",
    "            word_count = Counter(tokenized)\n",
    "            # new_file.append(article)\n",
    "#             if word_count['paris'] == 3:\n",
    "#                 global current_word_count\n",
    "#                 current_word_count = word_count\n",
    "                \n",
    "            detected_cities = set(word_count.keys()).intersection(cities)\n",
    "\n",
    "            new_word = list(detected_cities - set(corpus['word']))\n",
    "            corpus = pd.concat([corpus, pd.DataFrame({'word': new_word})], ignore_index=True)\n",
    "\n",
    "            wordlist = []\n",
    "            for word in corpus['word']:\n",
    "                if word in word_count.keys():\n",
    "                    wordlist.append(word_count[word])\n",
    "                else:\n",
    "                    wordlist.append(0)\n",
    "\n",
    "            corpus[article[0][7:-1]] = wordlist\n",
    "            \n",
    "        else:\n",
    "            article[1] += line\n",
    "    \n",
    "    return corpus"
   ]
  },
  {
   "cell_type": "markdown",
   "id": "400c9ac6",
   "metadata": {},
   "source": [
    "# Important Cell"
   ]
  },
  {
   "cell_type": "code",
   "execution_count": 150,
   "id": "cac2c370",
   "metadata": {},
   "outputs": [],
   "source": [
    "# Change accordingly\n",
    "basefolder = '../../../enwiki/AA/'\n",
    "corpus_path = '../output/'\n",
    "corpus_name = 'wiki_corpus.csv'\n",
    "new_corpus = True\n",
    "\n",
    "nr_of_cities = 100 # by population numbers\n",
    "\n",
    "\n",
    "cities_df = pd.read_csv(f'../input/List_of_cities.csv', delimiter=';')\n",
    "list_of_cities = list(cities_df['Mua'][0:nr_of_cities].str.lower())"
   ]
  },
  {
   "cell_type": "code",
   "execution_count": 202,
   "id": "ae59ec35",
   "metadata": {},
   "outputs": [
    {
     "data": {
      "application/vnd.jupyter.widget-view+json": {
       "model_id": "df589cc3dd6e4401b1b6adc3daf024f1",
       "version_major": 2,
       "version_minor": 0
      },
      "text/plain": [
       "files:   0%|          | 0/100 [00:00<?, ?it/s]"
      ]
     },
     "metadata": {},
     "output_type": "display_data"
    },
    {
     "data": {
      "application/vnd.jupyter.widget-view+json": {
       "model_id": "d6fb56f4adbf40c79ec2a8e4a1456f17",
       "version_major": 2,
       "version_minor": 0
      },
      "text/plain": [
       "wiki_00:   0%|          | 0/3854 [00:00<?, ?it/s]"
      ]
     },
     "metadata": {},
     "output_type": "display_data"
    },
    {
     "data": {
      "application/vnd.jupyter.widget-view+json": {
       "model_id": "19fe070b51a740ae8761ea33e02dee51",
       "version_major": 2,
       "version_minor": 0
      },
      "text/plain": [
       "wiki_01:   0%|          | 0/2873 [00:00<?, ?it/s]"
      ]
     },
     "metadata": {},
     "output_type": "display_data"
    },
    {
     "data": {
      "application/vnd.jupyter.widget-view+json": {
       "model_id": "5fd971a421cb4dc29d59ebed7a80ba78",
       "version_major": 2,
       "version_minor": 0
      },
      "text/plain": [
       "wiki_02:   0%|          | 0/2705 [00:00<?, ?it/s]"
      ]
     },
     "metadata": {},
     "output_type": "display_data"
    },
    {
     "data": {
      "application/vnd.jupyter.widget-view+json": {
       "model_id": "a7b3ec96708d459e91898703428009c1",
       "version_major": 2,
       "version_minor": 0
      },
      "text/plain": [
       "wiki_03:   0%|          | 0/2709 [00:00<?, ?it/s]"
      ]
     },
     "metadata": {},
     "output_type": "display_data"
    },
    {
     "data": {
      "application/vnd.jupyter.widget-view+json": {
       "model_id": "524a20370afa47af8842fdab4c1dbd6f",
       "version_major": 2,
       "version_minor": 0
      },
      "text/plain": [
       "wiki_04:   0%|          | 0/2799 [00:00<?, ?it/s]"
      ]
     },
     "metadata": {},
     "output_type": "display_data"
    },
    {
     "data": {
      "application/vnd.jupyter.widget-view+json": {
       "model_id": "fb9597f1ec9d4e61b9bf4d39adc0d591",
       "version_major": 2,
       "version_minor": 0
      },
      "text/plain": [
       "wiki_05:   0%|          | 0/3365 [00:00<?, ?it/s]"
      ]
     },
     "metadata": {},
     "output_type": "display_data"
    },
    {
     "data": {
      "application/vnd.jupyter.widget-view+json": {
       "model_id": "061b77fef2b24401ba0599e03ac1b299",
       "version_major": 2,
       "version_minor": 0
      },
      "text/plain": [
       "wiki_06:   0%|          | 0/3124 [00:00<?, ?it/s]"
      ]
     },
     "metadata": {},
     "output_type": "display_data"
    },
    {
     "data": {
      "application/vnd.jupyter.widget-view+json": {
       "model_id": "0e180cf9db674445ab8f2da9b67961a5",
       "version_major": 2,
       "version_minor": 0
      },
      "text/plain": [
       "wiki_07:   0%|          | 0/3309 [00:00<?, ?it/s]"
      ]
     },
     "metadata": {},
     "output_type": "display_data"
    },
    {
     "data": {
      "application/vnd.jupyter.widget-view+json": {
       "model_id": "8bbae761fc164fe6b4933612a9f4a51c",
       "version_major": 2,
       "version_minor": 0
      },
      "text/plain": [
       "wiki_08:   0%|          | 0/3276 [00:00<?, ?it/s]"
      ]
     },
     "metadata": {},
     "output_type": "display_data"
    },
    {
     "data": {
      "application/vnd.jupyter.widget-view+json": {
       "model_id": "84987635931a44f58548180cb76d6aad",
       "version_major": 2,
       "version_minor": 0
      },
      "text/plain": [
       "wiki_09:   0%|          | 0/3367 [00:00<?, ?it/s]"
      ]
     },
     "metadata": {},
     "output_type": "display_data"
    },
    {
     "data": {
      "application/vnd.jupyter.widget-view+json": {
       "model_id": "0e14e10977f44a008cafc00baaa30b79",
       "version_major": 2,
       "version_minor": 0
      },
      "text/plain": [
       "wiki_10:   0%|          | 0/2807 [00:00<?, ?it/s]"
      ]
     },
     "metadata": {},
     "output_type": "display_data"
    },
    {
     "data": {
      "application/vnd.jupyter.widget-view+json": {
       "model_id": "15c5125126ca4eb6b2ca9ee07d1371f4",
       "version_major": 2,
       "version_minor": 0
      },
      "text/plain": [
       "wiki_11:   0%|          | 0/3040 [00:00<?, ?it/s]"
      ]
     },
     "metadata": {},
     "output_type": "display_data"
    },
    {
     "data": {
      "application/vnd.jupyter.widget-view+json": {
       "model_id": "d4eed665174847aa84fc48feb0de782e",
       "version_major": 2,
       "version_minor": 0
      },
      "text/plain": [
       "wiki_12:   0%|          | 0/3103 [00:00<?, ?it/s]"
      ]
     },
     "metadata": {},
     "output_type": "display_data"
    },
    {
     "data": {
      "application/vnd.jupyter.widget-view+json": {
       "model_id": "fb736a56488f430b99a93988bf450ea4",
       "version_major": 2,
       "version_minor": 0
      },
      "text/plain": [
       "wiki_13:   0%|          | 0/2587 [00:00<?, ?it/s]"
      ]
     },
     "metadata": {},
     "output_type": "display_data"
    },
    {
     "data": {
      "application/vnd.jupyter.widget-view+json": {
       "model_id": "44bf6c0687bf47288a86b8f31275cc61",
       "version_major": 2,
       "version_minor": 0
      },
      "text/plain": [
       "wiki_14:   0%|          | 0/3106 [00:00<?, ?it/s]"
      ]
     },
     "metadata": {},
     "output_type": "display_data"
    },
    {
     "data": {
      "application/vnd.jupyter.widget-view+json": {
       "model_id": "53f585c4d6ac4898b83656a7e39f4d45",
       "version_major": 2,
       "version_minor": 0
      },
      "text/plain": [
       "wiki_15:   0%|          | 0/3042 [00:00<?, ?it/s]"
      ]
     },
     "metadata": {},
     "output_type": "display_data"
    },
    {
     "data": {
      "application/vnd.jupyter.widget-view+json": {
       "model_id": "05d771a60c96462493ad7224765c3e9c",
       "version_major": 2,
       "version_minor": 0
      },
      "text/plain": [
       "wiki_16:   0%|          | 0/3254 [00:00<?, ?it/s]"
      ]
     },
     "metadata": {},
     "output_type": "display_data"
    },
    {
     "data": {
      "application/vnd.jupyter.widget-view+json": {
       "model_id": "85b3bd0708ff477597ce72142d199de9",
       "version_major": 2,
       "version_minor": 0
      },
      "text/plain": [
       "wiki_17:   0%|          | 0/3300 [00:00<?, ?it/s]"
      ]
     },
     "metadata": {},
     "output_type": "display_data"
    },
    {
     "data": {
      "application/vnd.jupyter.widget-view+json": {
       "model_id": "cca496f40f1a4f62bd2bc13cec598960",
       "version_major": 2,
       "version_minor": 0
      },
      "text/plain": [
       "wiki_18:   0%|          | 0/3362 [00:00<?, ?it/s]"
      ]
     },
     "metadata": {},
     "output_type": "display_data"
    },
    {
     "data": {
      "application/vnd.jupyter.widget-view+json": {
       "model_id": "68cdb6fc8c03488ab94b6f2c8438b5db",
       "version_major": 2,
       "version_minor": 0
      },
      "text/plain": [
       "wiki_19:   0%|          | 0/3648 [00:00<?, ?it/s]"
      ]
     },
     "metadata": {},
     "output_type": "display_data"
    },
    {
     "data": {
      "application/vnd.jupyter.widget-view+json": {
       "model_id": "d7d4f767efa041ff939ab3264ed2119f",
       "version_major": 2,
       "version_minor": 0
      },
      "text/plain": [
       "wiki_20:   0%|          | 0/3293 [00:00<?, ?it/s]"
      ]
     },
     "metadata": {},
     "output_type": "display_data"
    },
    {
     "data": {
      "application/vnd.jupyter.widget-view+json": {
       "model_id": "9b2f0c379f3948d482e4d2d1359cbbc6",
       "version_major": 2,
       "version_minor": 0
      },
      "text/plain": [
       "wiki_21:   0%|          | 0/3158 [00:00<?, ?it/s]"
      ]
     },
     "metadata": {},
     "output_type": "display_data"
    },
    {
     "data": {
      "application/vnd.jupyter.widget-view+json": {
       "model_id": "d34f45aaca2d4df6a7abe671a014e6c8",
       "version_major": 2,
       "version_minor": 0
      },
      "text/plain": [
       "wiki_22:   0%|          | 0/3505 [00:00<?, ?it/s]"
      ]
     },
     "metadata": {},
     "output_type": "display_data"
    },
    {
     "data": {
      "application/vnd.jupyter.widget-view+json": {
       "model_id": "1f1eb0eb95594720b42498ff6514f561",
       "version_major": 2,
       "version_minor": 0
      },
      "text/plain": [
       "wiki_23:   0%|          | 0/3285 [00:00<?, ?it/s]"
      ]
     },
     "metadata": {},
     "output_type": "display_data"
    },
    {
     "data": {
      "application/vnd.jupyter.widget-view+json": {
       "model_id": "9630007492e645718a3bfa5cc2abd2b0",
       "version_major": 2,
       "version_minor": 0
      },
      "text/plain": [
       "wiki_24:   0%|          | 0/2693 [00:00<?, ?it/s]"
      ]
     },
     "metadata": {},
     "output_type": "display_data"
    },
    {
     "data": {
      "application/vnd.jupyter.widget-view+json": {
       "model_id": "8552e54bdf9f443e95f38074a20fdca8",
       "version_major": 2,
       "version_minor": 0
      },
      "text/plain": [
       "wiki_25:   0%|          | 0/3148 [00:00<?, ?it/s]"
      ]
     },
     "metadata": {},
     "output_type": "display_data"
    },
    {
     "data": {
      "application/vnd.jupyter.widget-view+json": {
       "model_id": "f04b7c1703e240429c0f615b7403519c",
       "version_major": 2,
       "version_minor": 0
      },
      "text/plain": [
       "wiki_26:   0%|          | 0/3512 [00:00<?, ?it/s]"
      ]
     },
     "metadata": {},
     "output_type": "display_data"
    },
    {
     "data": {
      "application/vnd.jupyter.widget-view+json": {
       "model_id": "3167d6b9077a4065aeffaf7b03d56df2",
       "version_major": 2,
       "version_minor": 0
      },
      "text/plain": [
       "wiki_27:   0%|          | 0/3115 [00:00<?, ?it/s]"
      ]
     },
     "metadata": {},
     "output_type": "display_data"
    },
    {
     "data": {
      "application/vnd.jupyter.widget-view+json": {
       "model_id": "3457fea24df64578ae22660ec61d09ae",
       "version_major": 2,
       "version_minor": 0
      },
      "text/plain": [
       "wiki_28:   0%|          | 0/2996 [00:00<?, ?it/s]"
      ]
     },
     "metadata": {},
     "output_type": "display_data"
    },
    {
     "data": {
      "application/vnd.jupyter.widget-view+json": {
       "model_id": "9107aced857448279d37e083325283cb",
       "version_major": 2,
       "version_minor": 0
      },
      "text/plain": [
       "wiki_29:   0%|          | 0/3158 [00:00<?, ?it/s]"
      ]
     },
     "metadata": {},
     "output_type": "display_data"
    },
    {
     "data": {
      "application/vnd.jupyter.widget-view+json": {
       "model_id": "2af7b6ce7c314ac6aa9f57d9d3079522",
       "version_major": 2,
       "version_minor": 0
      },
      "text/plain": [
       "wiki_30:   0%|          | 0/3131 [00:00<?, ?it/s]"
      ]
     },
     "metadata": {},
     "output_type": "display_data"
    },
    {
     "data": {
      "application/vnd.jupyter.widget-view+json": {
       "model_id": "5c49a91d43fb4d719bbcd20f16e26aea",
       "version_major": 2,
       "version_minor": 0
      },
      "text/plain": [
       "wiki_31:   0%|          | 0/2811 [00:00<?, ?it/s]"
      ]
     },
     "metadata": {},
     "output_type": "display_data"
    },
    {
     "data": {
      "application/vnd.jupyter.widget-view+json": {
       "model_id": "a0777ee82592478f8621e3949f05dc64",
       "version_major": 2,
       "version_minor": 0
      },
      "text/plain": [
       "wiki_32:   0%|          | 0/2703 [00:00<?, ?it/s]"
      ]
     },
     "metadata": {},
     "output_type": "display_data"
    },
    {
     "data": {
      "application/vnd.jupyter.widget-view+json": {
       "model_id": "36ca7511b6a54719a40aaba1c9cebdf4",
       "version_major": 2,
       "version_minor": 0
      },
      "text/plain": [
       "wiki_33:   0%|          | 0/2768 [00:00<?, ?it/s]"
      ]
     },
     "metadata": {},
     "output_type": "display_data"
    },
    {
     "data": {
      "application/vnd.jupyter.widget-view+json": {
       "model_id": "5ff2d86d5ec14f5bacd3ae82dc5212d6",
       "version_major": 2,
       "version_minor": 0
      },
      "text/plain": [
       "wiki_34:   0%|          | 0/2970 [00:00<?, ?it/s]"
      ]
     },
     "metadata": {},
     "output_type": "display_data"
    },
    {
     "data": {
      "application/vnd.jupyter.widget-view+json": {
       "model_id": "11df27878a4449c98c7df83997d56069",
       "version_major": 2,
       "version_minor": 0
      },
      "text/plain": [
       "wiki_35:   0%|          | 0/2997 [00:00<?, ?it/s]"
      ]
     },
     "metadata": {},
     "output_type": "display_data"
    },
    {
     "data": {
      "application/vnd.jupyter.widget-view+json": {
       "model_id": "e19a2f77d0e348bc9077ebfc706ef51f",
       "version_major": 2,
       "version_minor": 0
      },
      "text/plain": [
       "wiki_36:   0%|          | 0/3547 [00:00<?, ?it/s]"
      ]
     },
     "metadata": {},
     "output_type": "display_data"
    },
    {
     "data": {
      "application/vnd.jupyter.widget-view+json": {
       "model_id": "edaabadf447f4f21b2fa7b90028fa5f9",
       "version_major": 2,
       "version_minor": 0
      },
      "text/plain": [
       "wiki_37:   0%|          | 0/3290 [00:00<?, ?it/s]"
      ]
     },
     "metadata": {},
     "output_type": "display_data"
    },
    {
     "data": {
      "application/vnd.jupyter.widget-view+json": {
       "model_id": "f1a70b4397f6490d80ef01961a2b12c9",
       "version_major": 2,
       "version_minor": 0
      },
      "text/plain": [
       "wiki_38:   0%|          | 0/2941 [00:00<?, ?it/s]"
      ]
     },
     "metadata": {},
     "output_type": "display_data"
    },
    {
     "data": {
      "application/vnd.jupyter.widget-view+json": {
       "model_id": "aed6a12e0e9d4d998e6b1e0cb54059d5",
       "version_major": 2,
       "version_minor": 0
      },
      "text/plain": [
       "wiki_39:   0%|          | 0/3330 [00:00<?, ?it/s]"
      ]
     },
     "metadata": {},
     "output_type": "display_data"
    },
    {
     "data": {
      "application/vnd.jupyter.widget-view+json": {
       "model_id": "770ba9b45cbb409095c439664819cd01",
       "version_major": 2,
       "version_minor": 0
      },
      "text/plain": [
       "wiki_40:   0%|          | 0/3230 [00:00<?, ?it/s]"
      ]
     },
     "metadata": {},
     "output_type": "display_data"
    },
    {
     "data": {
      "application/vnd.jupyter.widget-view+json": {
       "model_id": "ebfc9a410e804075be27975c87e2035a",
       "version_major": 2,
       "version_minor": 0
      },
      "text/plain": [
       "wiki_41:   0%|          | 0/2870 [00:00<?, ?it/s]"
      ]
     },
     "metadata": {},
     "output_type": "display_data"
    },
    {
     "data": {
      "application/vnd.jupyter.widget-view+json": {
       "model_id": "5faa67ce25194e1a935cb37d380e14b8",
       "version_major": 2,
       "version_minor": 0
      },
      "text/plain": [
       "wiki_42:   0%|          | 0/3353 [00:00<?, ?it/s]"
      ]
     },
     "metadata": {},
     "output_type": "display_data"
    },
    {
     "data": {
      "application/vnd.jupyter.widget-view+json": {
       "model_id": "7ca09e6ccb0246d698b85cc0ad546d13",
       "version_major": 2,
       "version_minor": 0
      },
      "text/plain": [
       "wiki_43:   0%|          | 0/3181 [00:00<?, ?it/s]"
      ]
     },
     "metadata": {},
     "output_type": "display_data"
    },
    {
     "data": {
      "application/vnd.jupyter.widget-view+json": {
       "model_id": "630e7c6a4ea545ecab19344f024b47ff",
       "version_major": 2,
       "version_minor": 0
      },
      "text/plain": [
       "wiki_44:   0%|          | 0/3375 [00:00<?, ?it/s]"
      ]
     },
     "metadata": {},
     "output_type": "display_data"
    },
    {
     "data": {
      "application/vnd.jupyter.widget-view+json": {
       "model_id": "48782e3b34844cb2bda7de5395124295",
       "version_major": 2,
       "version_minor": 0
      },
      "text/plain": [
       "wiki_45:   0%|          | 0/2784 [00:00<?, ?it/s]"
      ]
     },
     "metadata": {},
     "output_type": "display_data"
    },
    {
     "data": {
      "application/vnd.jupyter.widget-view+json": {
       "model_id": "a27b8c200b684b3a936712ffcac43cad",
       "version_major": 2,
       "version_minor": 0
      },
      "text/plain": [
       "wiki_46:   0%|          | 0/2865 [00:00<?, ?it/s]"
      ]
     },
     "metadata": {},
     "output_type": "display_data"
    },
    {
     "data": {
      "application/vnd.jupyter.widget-view+json": {
       "model_id": "f936443bb8154631b6d3a30d1542329c",
       "version_major": 2,
       "version_minor": 0
      },
      "text/plain": [
       "wiki_47:   0%|          | 0/3440 [00:00<?, ?it/s]"
      ]
     },
     "metadata": {},
     "output_type": "display_data"
    },
    {
     "data": {
      "application/vnd.jupyter.widget-view+json": {
       "model_id": "19330f0b0afa48c0bd17507fc0fa81d9",
       "version_major": 2,
       "version_minor": 0
      },
      "text/plain": [
       "wiki_48:   0%|          | 0/3300 [00:00<?, ?it/s]"
      ]
     },
     "metadata": {},
     "output_type": "display_data"
    },
    {
     "data": {
      "application/vnd.jupyter.widget-view+json": {
       "model_id": "d590fa349c204b6096d1bd45ca4e96b0",
       "version_major": 2,
       "version_minor": 0
      },
      "text/plain": [
       "wiki_49:   0%|          | 0/2879 [00:00<?, ?it/s]"
      ]
     },
     "metadata": {},
     "output_type": "display_data"
    },
    {
     "data": {
      "application/vnd.jupyter.widget-view+json": {
       "model_id": "8bcdc5ccc3e04ce092ae9739868fbcd9",
       "version_major": 2,
       "version_minor": 0
      },
      "text/plain": [
       "wiki_50:   0%|          | 0/3479 [00:00<?, ?it/s]"
      ]
     },
     "metadata": {},
     "output_type": "display_data"
    },
    {
     "data": {
      "application/vnd.jupyter.widget-view+json": {
       "model_id": "b86664dffc724cbea3200941ff863a44",
       "version_major": 2,
       "version_minor": 0
      },
      "text/plain": [
       "wiki_51:   0%|          | 0/3512 [00:00<?, ?it/s]"
      ]
     },
     "metadata": {},
     "output_type": "display_data"
    },
    {
     "data": {
      "application/vnd.jupyter.widget-view+json": {
       "model_id": "ba8ae01a363243f9a7e5bb46994cf8c8",
       "version_major": 2,
       "version_minor": 0
      },
      "text/plain": [
       "wiki_52:   0%|          | 0/3313 [00:00<?, ?it/s]"
      ]
     },
     "metadata": {},
     "output_type": "display_data"
    },
    {
     "data": {
      "application/vnd.jupyter.widget-view+json": {
       "model_id": "d7c606fde6824d8e9bfce8f50551ec99",
       "version_major": 2,
       "version_minor": 0
      },
      "text/plain": [
       "wiki_53:   0%|          | 0/3076 [00:00<?, ?it/s]"
      ]
     },
     "metadata": {},
     "output_type": "display_data"
    },
    {
     "data": {
      "application/vnd.jupyter.widget-view+json": {
       "model_id": "c49803454e7b48198c619ddeb99ac31d",
       "version_major": 2,
       "version_minor": 0
      },
      "text/plain": [
       "wiki_54:   0%|          | 0/2877 [00:00<?, ?it/s]"
      ]
     },
     "metadata": {},
     "output_type": "display_data"
    },
    {
     "data": {
      "application/vnd.jupyter.widget-view+json": {
       "model_id": "20b905a281184b098731a6635e40a87d",
       "version_major": 2,
       "version_minor": 0
      },
      "text/plain": [
       "wiki_55:   0%|          | 0/2797 [00:00<?, ?it/s]"
      ]
     },
     "metadata": {},
     "output_type": "display_data"
    },
    {
     "data": {
      "application/vnd.jupyter.widget-view+json": {
       "model_id": "d2701b1a3809466aa767a1c6e5470514",
       "version_major": 2,
       "version_minor": 0
      },
      "text/plain": [
       "wiki_56:   0%|          | 0/3146 [00:00<?, ?it/s]"
      ]
     },
     "metadata": {},
     "output_type": "display_data"
    },
    {
     "data": {
      "application/vnd.jupyter.widget-view+json": {
       "model_id": "f2c261abf0aa49b58c7be74cec586c5d",
       "version_major": 2,
       "version_minor": 0
      },
      "text/plain": [
       "wiki_57:   0%|          | 0/2851 [00:00<?, ?it/s]"
      ]
     },
     "metadata": {},
     "output_type": "display_data"
    },
    {
     "data": {
      "application/vnd.jupyter.widget-view+json": {
       "model_id": "65931a3b3ee84e45a97eab3b9f44c193",
       "version_major": 2,
       "version_minor": 0
      },
      "text/plain": [
       "wiki_58:   0%|          | 0/3068 [00:00<?, ?it/s]"
      ]
     },
     "metadata": {},
     "output_type": "display_data"
    },
    {
     "data": {
      "application/vnd.jupyter.widget-view+json": {
       "model_id": "0d909da30ddd459f8a21c867fa1ac518",
       "version_major": 2,
       "version_minor": 0
      },
      "text/plain": [
       "wiki_59:   0%|          | 0/3267 [00:00<?, ?it/s]"
      ]
     },
     "metadata": {},
     "output_type": "display_data"
    },
    {
     "data": {
      "application/vnd.jupyter.widget-view+json": {
       "model_id": "c217aaf79ffe4c66b0de8070ea05d095",
       "version_major": 2,
       "version_minor": 0
      },
      "text/plain": [
       "wiki_60:   0%|          | 0/2968 [00:00<?, ?it/s]"
      ]
     },
     "metadata": {},
     "output_type": "display_data"
    },
    {
     "data": {
      "application/vnd.jupyter.widget-view+json": {
       "model_id": "10ddb19f596b43c5b5042a5cd4f2236d",
       "version_major": 2,
       "version_minor": 0
      },
      "text/plain": [
       "wiki_61:   0%|          | 0/3424 [00:00<?, ?it/s]"
      ]
     },
     "metadata": {},
     "output_type": "display_data"
    },
    {
     "data": {
      "application/vnd.jupyter.widget-view+json": {
       "model_id": "90d814d3e6af48849410746e57061dfc",
       "version_major": 2,
       "version_minor": 0
      },
      "text/plain": [
       "wiki_62:   0%|          | 0/3195 [00:00<?, ?it/s]"
      ]
     },
     "metadata": {},
     "output_type": "display_data"
    },
    {
     "data": {
      "application/vnd.jupyter.widget-view+json": {
       "model_id": "83ffd40fff1f4c7f80208529115db20c",
       "version_major": 2,
       "version_minor": 0
      },
      "text/plain": [
       "wiki_63:   0%|          | 0/3150 [00:00<?, ?it/s]"
      ]
     },
     "metadata": {},
     "output_type": "display_data"
    },
    {
     "data": {
      "application/vnd.jupyter.widget-view+json": {
       "model_id": "c7ca033f725e44e8b3aa4abd9860e0ff",
       "version_major": 2,
       "version_minor": 0
      },
      "text/plain": [
       "wiki_64:   0%|          | 0/2797 [00:00<?, ?it/s]"
      ]
     },
     "metadata": {},
     "output_type": "display_data"
    },
    {
     "data": {
      "application/vnd.jupyter.widget-view+json": {
       "model_id": "269fb528b06b469aa471ea92994306fb",
       "version_major": 2,
       "version_minor": 0
      },
      "text/plain": [
       "wiki_65:   0%|          | 0/3085 [00:00<?, ?it/s]"
      ]
     },
     "metadata": {},
     "output_type": "display_data"
    },
    {
     "data": {
      "application/vnd.jupyter.widget-view+json": {
       "model_id": "b856d4c1f8c14e629bdf4a9cede8b7c4",
       "version_major": 2,
       "version_minor": 0
      },
      "text/plain": [
       "wiki_66:   0%|          | 0/3532 [00:00<?, ?it/s]"
      ]
     },
     "metadata": {},
     "output_type": "display_data"
    },
    {
     "data": {
      "application/vnd.jupyter.widget-view+json": {
       "model_id": "44fb10376af149ea95a2efc233d3937b",
       "version_major": 2,
       "version_minor": 0
      },
      "text/plain": [
       "wiki_67:   0%|          | 0/2877 [00:00<?, ?it/s]"
      ]
     },
     "metadata": {},
     "output_type": "display_data"
    },
    {
     "data": {
      "application/vnd.jupyter.widget-view+json": {
       "model_id": "99150ac08cc94424b46462324d293b43",
       "version_major": 2,
       "version_minor": 0
      },
      "text/plain": [
       "wiki_68:   0%|          | 0/2990 [00:00<?, ?it/s]"
      ]
     },
     "metadata": {},
     "output_type": "display_data"
    },
    {
     "data": {
      "application/vnd.jupyter.widget-view+json": {
       "model_id": "fcba35800d7b4a07a0f62585fdb97b4f",
       "version_major": 2,
       "version_minor": 0
      },
      "text/plain": [
       "wiki_69:   0%|          | 0/3543 [00:00<?, ?it/s]"
      ]
     },
     "metadata": {},
     "output_type": "display_data"
    },
    {
     "data": {
      "application/vnd.jupyter.widget-view+json": {
       "model_id": "d5da085c6cf847bd8c50b53949d48743",
       "version_major": 2,
       "version_minor": 0
      },
      "text/plain": [
       "wiki_70:   0%|          | 0/3169 [00:00<?, ?it/s]"
      ]
     },
     "metadata": {},
     "output_type": "display_data"
    },
    {
     "data": {
      "application/vnd.jupyter.widget-view+json": {
       "model_id": "e4769dd8eda747aea368a7d8260d57ed",
       "version_major": 2,
       "version_minor": 0
      },
      "text/plain": [
       "wiki_71:   0%|          | 0/3164 [00:00<?, ?it/s]"
      ]
     },
     "metadata": {},
     "output_type": "display_data"
    },
    {
     "data": {
      "application/vnd.jupyter.widget-view+json": {
       "model_id": "f756296e486c4b719756e48e56eaad2e",
       "version_major": 2,
       "version_minor": 0
      },
      "text/plain": [
       "wiki_72:   0%|          | 0/3025 [00:00<?, ?it/s]"
      ]
     },
     "metadata": {},
     "output_type": "display_data"
    },
    {
     "data": {
      "application/vnd.jupyter.widget-view+json": {
       "model_id": "ae06132fdafb408bb27e2bcf21c3b481",
       "version_major": 2,
       "version_minor": 0
      },
      "text/plain": [
       "wiki_73:   0%|          | 0/2933 [00:00<?, ?it/s]"
      ]
     },
     "metadata": {},
     "output_type": "display_data"
    },
    {
     "data": {
      "application/vnd.jupyter.widget-view+json": {
       "model_id": "eb1c27040014492ca865a4c64c4dd038",
       "version_major": 2,
       "version_minor": 0
      },
      "text/plain": [
       "wiki_74:   0%|          | 0/2960 [00:00<?, ?it/s]"
      ]
     },
     "metadata": {},
     "output_type": "display_data"
    },
    {
     "data": {
      "application/vnd.jupyter.widget-view+json": {
       "model_id": "7ab56b7e51334c728ca2bcdc8fa64d3f",
       "version_major": 2,
       "version_minor": 0
      },
      "text/plain": [
       "wiki_75:   0%|          | 0/3200 [00:00<?, ?it/s]"
      ]
     },
     "metadata": {},
     "output_type": "display_data"
    },
    {
     "data": {
      "application/vnd.jupyter.widget-view+json": {
       "model_id": "96a8d42ab2dd4c3fa2f0a2bfc788c132",
       "version_major": 2,
       "version_minor": 0
      },
      "text/plain": [
       "wiki_76:   0%|          | 0/3013 [00:00<?, ?it/s]"
      ]
     },
     "metadata": {},
     "output_type": "display_data"
    },
    {
     "data": {
      "application/vnd.jupyter.widget-view+json": {
       "model_id": "c324c13bd1c74c08898354f10a642650",
       "version_major": 2,
       "version_minor": 0
      },
      "text/plain": [
       "wiki_77:   0%|          | 0/3147 [00:00<?, ?it/s]"
      ]
     },
     "metadata": {},
     "output_type": "display_data"
    },
    {
     "data": {
      "application/vnd.jupyter.widget-view+json": {
       "model_id": "bfed0d4a15fd40389c2e3923e77fe139",
       "version_major": 2,
       "version_minor": 0
      },
      "text/plain": [
       "wiki_78:   0%|          | 0/2750 [00:00<?, ?it/s]"
      ]
     },
     "metadata": {},
     "output_type": "display_data"
    },
    {
     "data": {
      "application/vnd.jupyter.widget-view+json": {
       "model_id": "1ebcfc99b9b145668a9cc3bbdb818806",
       "version_major": 2,
       "version_minor": 0
      },
      "text/plain": [
       "wiki_79:   0%|          | 0/3497 [00:00<?, ?it/s]"
      ]
     },
     "metadata": {},
     "output_type": "display_data"
    },
    {
     "data": {
      "application/vnd.jupyter.widget-view+json": {
       "model_id": "f3f0ca1bdf574d32bc3fb2dce756b0f4",
       "version_major": 2,
       "version_minor": 0
      },
      "text/plain": [
       "wiki_80:   0%|          | 0/2902 [00:00<?, ?it/s]"
      ]
     },
     "metadata": {},
     "output_type": "display_data"
    },
    {
     "data": {
      "application/vnd.jupyter.widget-view+json": {
       "model_id": "c572fd985cce409e9b242505f315b170",
       "version_major": 2,
       "version_minor": 0
      },
      "text/plain": [
       "wiki_81:   0%|          | 0/3361 [00:00<?, ?it/s]"
      ]
     },
     "metadata": {},
     "output_type": "display_data"
    },
    {
     "data": {
      "application/vnd.jupyter.widget-view+json": {
       "model_id": "c4875f2b483b412b9f3d927a035b9060",
       "version_major": 2,
       "version_minor": 0
      },
      "text/plain": [
       "wiki_82:   0%|          | 0/3376 [00:00<?, ?it/s]"
      ]
     },
     "metadata": {},
     "output_type": "display_data"
    },
    {
     "data": {
      "application/vnd.jupyter.widget-view+json": {
       "model_id": "ec4e0468ff98441f8b1b791a84c66736",
       "version_major": 2,
       "version_minor": 0
      },
      "text/plain": [
       "wiki_83:   0%|          | 0/3473 [00:00<?, ?it/s]"
      ]
     },
     "metadata": {},
     "output_type": "display_data"
    },
    {
     "data": {
      "application/vnd.jupyter.widget-view+json": {
       "model_id": "b5351a61f3dd43e582c37f8433996f84",
       "version_major": 2,
       "version_minor": 0
      },
      "text/plain": [
       "wiki_84:   0%|          | 0/3261 [00:00<?, ?it/s]"
      ]
     },
     "metadata": {},
     "output_type": "display_data"
    },
    {
     "data": {
      "application/vnd.jupyter.widget-view+json": {
       "model_id": "1f184bf083414aa2b18e632156f7f66d",
       "version_major": 2,
       "version_minor": 0
      },
      "text/plain": [
       "wiki_85:   0%|          | 0/2765 [00:00<?, ?it/s]"
      ]
     },
     "metadata": {},
     "output_type": "display_data"
    },
    {
     "data": {
      "application/vnd.jupyter.widget-view+json": {
       "model_id": "7d047e6ba8d3404886c27b53c8b903bd",
       "version_major": 2,
       "version_minor": 0
      },
      "text/plain": [
       "wiki_86:   0%|          | 0/2766 [00:00<?, ?it/s]"
      ]
     },
     "metadata": {},
     "output_type": "display_data"
    },
    {
     "data": {
      "application/vnd.jupyter.widget-view+json": {
       "model_id": "49015ea8e79f4649b3d43f7037a8c212",
       "version_major": 2,
       "version_minor": 0
      },
      "text/plain": [
       "wiki_87:   0%|          | 0/3137 [00:00<?, ?it/s]"
      ]
     },
     "metadata": {},
     "output_type": "display_data"
    },
    {
     "data": {
      "application/vnd.jupyter.widget-view+json": {
       "model_id": "efdcd440e9744c2abeb3c878c905fd94",
       "version_major": 2,
       "version_minor": 0
      },
      "text/plain": [
       "wiki_88:   0%|          | 0/3025 [00:00<?, ?it/s]"
      ]
     },
     "metadata": {},
     "output_type": "display_data"
    },
    {
     "data": {
      "application/vnd.jupyter.widget-view+json": {
       "model_id": "e0e0f1c082f44ab784cd3f60d5f3e898",
       "version_major": 2,
       "version_minor": 0
      },
      "text/plain": [
       "wiki_89:   0%|          | 0/3756 [00:00<?, ?it/s]"
      ]
     },
     "metadata": {},
     "output_type": "display_data"
    },
    {
     "data": {
      "application/vnd.jupyter.widget-view+json": {
       "model_id": "22adec6f2e5b42d49c1fa62a34c7f6cd",
       "version_major": 2,
       "version_minor": 0
      },
      "text/plain": [
       "wiki_90:   0%|          | 0/3181 [00:00<?, ?it/s]"
      ]
     },
     "metadata": {},
     "output_type": "display_data"
    },
    {
     "data": {
      "application/vnd.jupyter.widget-view+json": {
       "model_id": "0161830a3f65461d93f04bf0f07d8dff",
       "version_major": 2,
       "version_minor": 0
      },
      "text/plain": [
       "wiki_91:   0%|          | 0/3097 [00:00<?, ?it/s]"
      ]
     },
     "metadata": {},
     "output_type": "display_data"
    },
    {
     "data": {
      "application/vnd.jupyter.widget-view+json": {
       "model_id": "bbe903929a7b4ef2bb44879fac781872",
       "version_major": 2,
       "version_minor": 0
      },
      "text/plain": [
       "wiki_92:   0%|          | 0/3313 [00:00<?, ?it/s]"
      ]
     },
     "metadata": {},
     "output_type": "display_data"
    },
    {
     "data": {
      "application/vnd.jupyter.widget-view+json": {
       "model_id": "14a7d3280dc74fbb84d1593b26b099c4",
       "version_major": 2,
       "version_minor": 0
      },
      "text/plain": [
       "wiki_93:   0%|          | 0/3287 [00:00<?, ?it/s]"
      ]
     },
     "metadata": {},
     "output_type": "display_data"
    },
    {
     "data": {
      "application/vnd.jupyter.widget-view+json": {
       "model_id": "6da1753858fb4e9f8f3e323eac7cebcb",
       "version_major": 2,
       "version_minor": 0
      },
      "text/plain": [
       "wiki_94:   0%|          | 0/2901 [00:00<?, ?it/s]"
      ]
     },
     "metadata": {},
     "output_type": "display_data"
    },
    {
     "data": {
      "application/vnd.jupyter.widget-view+json": {
       "model_id": "50986980aa3b4685a1d1af53c36eb09f",
       "version_major": 2,
       "version_minor": 0
      },
      "text/plain": [
       "wiki_95:   0%|          | 0/3116 [00:00<?, ?it/s]"
      ]
     },
     "metadata": {},
     "output_type": "display_data"
    },
    {
     "data": {
      "application/vnd.jupyter.widget-view+json": {
       "model_id": "16bd21b16d46424abfc7a9cd38029395",
       "version_major": 2,
       "version_minor": 0
      },
      "text/plain": [
       "wiki_96:   0%|          | 0/3225 [00:00<?, ?it/s]"
      ]
     },
     "metadata": {},
     "output_type": "display_data"
    },
    {
     "data": {
      "application/vnd.jupyter.widget-view+json": {
       "model_id": "22a16c60105d430ea46a3f396e6e03d6",
       "version_major": 2,
       "version_minor": 0
      },
      "text/plain": [
       "wiki_97:   0%|          | 0/3239 [00:00<?, ?it/s]"
      ]
     },
     "metadata": {},
     "output_type": "display_data"
    },
    {
     "data": {
      "application/vnd.jupyter.widget-view+json": {
       "model_id": "e57ebf082b72446dac1df98fc6de05fa",
       "version_major": 2,
       "version_minor": 0
      },
      "text/plain": [
       "wiki_98:   0%|          | 0/3486 [00:00<?, ?it/s]"
      ]
     },
     "metadata": {},
     "output_type": "display_data"
    },
    {
     "data": {
      "application/vnd.jupyter.widget-view+json": {
       "model_id": "00b6576fdaf44c918c9f204863fa36c5",
       "version_major": 2,
       "version_minor": 0
      },
      "text/plain": [
       "wiki_99:   0%|          | 0/2917 [00:00<?, ?it/s]"
      ]
     },
     "metadata": {},
     "output_type": "display_data"
    }
   ],
   "source": [
    "corpus = preprocess_files(basefolder=basefolder, corpus_path=corpus_path, new_corpus=new_corpus, cities=list_of_cities)"
   ]
  },
  {
   "cell_type": "markdown",
   "id": "6e9361b4",
   "metadata": {},
   "source": [
    "# Trials"
   ]
  },
  {
   "cell_type": "code",
   "execution_count": 199,
   "id": "320ac624",
   "metadata": {},
   "outputs": [
    {
     "name": "stdout",
     "output_type": "stream",
     "text": [
      "{'paris': 3.0, 'barcelona': 2.0}\n",
      "\"Anarchism 2 5.0\n",
      "{'london': 1.0, 'birmingham': 33.0}\n",
      "\"Alabama 2 34.0\n",
      "{'thessaloniki': 1.0, 'berlin': 1.0}\n",
      "\"Aristotle 2 2.0\n",
      "{'paris': 22.0, 'london': 1.0}\n",
      "\"An American in Paris 2 23.0\n",
      "{'amsterdam': 1.0, 'madrid': 1.0}\n",
      "\"Algeria 2 2.0\n",
      "{'paris': 4.0, 'london': 3.0, 'berlin': 1.0, 'madrid': 1.0}\n",
      "\"Anthropology 4 9.0\n",
      "{'stockholm': 1.0, 'amsterdam': 2.0}\n",
      "\"Alchemy 2 3.0\n",
      "{'paris': 1.0, 'london': 1.0, 'madrid': 1.0, 'stuttgart': 1.0, 'hamburg': 1.0}\n",
      "\"Andre Agassi 5 5.0\n",
      "{'paris': 3.0, 'barcelona': 5.0, 'madrid': 1.0, 'toulouse': 5.0}\n",
      "\"Andorra 4 14.0\n",
      "{'paris': 1.0, 'london': 5.0, 'birmingham': 1.0, 'edinburgh': 1.0}\n",
      "\"Animal Farm 4 8.0\n",
      "{'paris': 2.0, 'london': 2.0}\n",
      "\"Asphalt 2 4.0\n",
      "{'paris': 1.0, 'london': 1.0}\n",
      "\"Apollo 8 2 2.0\n",
      "{'paris': 2.0, 'london': 2.0, 'edinburgh': 1.0}\n",
      "\"Andrei Tarkovsky 3 5.0\n",
      "{'barcelona': 1.0, 'oslo': 1.0}\n",
      "\"Asia 2 2.0\n",
      "{'london': 1.0, 'amsterdam': 1.0}\n",
      "\"Aruba 2 2.0\n",
      "{'paris': 2.0, 'london': 1.0}\n",
      "\"Articles of Confederation 2 3.0\n",
      "{'london': 1.0, 'berlin': 12.0, 'stuttgart': 1.0, 'hamburg': 4.0, 'bologna': 1.0, 'dresden': 6.0, 'leipzig': 4.0, 'mannheim': 1.0}\n",
      "\"Arthur Schopenhauer 8 30.0\n",
      "{'london': 2.0, 'berlin': 16.0, 'stockholm': 1.0, 'wien': 2.0, 'antwerp': 1.0, 'zürich': 8.0}\n",
      "\"Albert Einstein 6 30.0\n",
      "{'paris': 2.0, 'barcelona': 1.0, 'london': 2.0, 'berlin': 1.0, 'roma': 3.0, 'bologna': 1.0}\n",
      "\"Albania 6 10.0\n",
      "{'helsinki': 1.0, 'madrid': 1.0}\n",
      "\"Azerbaijan 2 2.0\n",
      "{'paris': 1.0, 'madrid': 1.0}\n",
      "\"Art 2 2.0\n",
      "{'paris': 15.0, 'london': 17.0}\n",
      "\"American Revolutionary War 2 32.0\n",
      "{'berlin': 2.0, 'nice': 1.0, 'palermo': 1.0}\n",
      "\"Asteroid 3 4.0\n",
      "{'thessaloniki': 1.0, 'toulouse': 1.0}\n",
      "\"Ankara 2 2.0\n",
      "{'paris': 1.0, 'london': 15.0, 'berlin': 1.0, 'nice': 1.0, 'leicester': 1.0}\n",
      "\"Alfred Hitchcock 5 19.0\n",
      "{'dresden': 1.0, 'brussels': 1.0}\n",
      "\"Austrian German 2 2.0\n",
      "{'paris': 1.0, 'toulouse': 1.0, 'budapest': 1.0, 'sofia': 1.0}\n",
      "\"Attila 4 4.0\n",
      "{'london': 2.0, 'edinburgh': 2.0}\n",
      "\"A Clockwork Orange (novel) 2 4.0\n",
      "{'paris': 5.0, 'barcelona': 1.0, 'london': 4.0, 'berlin': 1.0, 'amsterdam': 345.0, 'brussels': 2.0, 'antwerp': 2.0, 'lille': 1.0, 'rotterdam': 2.0}\n",
      "\"Amsterdam 9 363.0\n",
      "{'barcelona': 1.0, 'berlin': 1.0, 'madrid': 1.0, 'stuttgart': 3.0, 'dresden': 1.0, 'leipzig': 1.0, 'düsseldorf': 2.0, 'nürnberg': 1.0}\n",
      "\"Audi 8 11.0\n",
      "{'paris': 6.0, 'stockholm': 5.0, 'hamburg': 1.0}\n",
      "\"Alfred Nobel 3 12.0\n",
      "{'paris': 2.0, 'london': 9.0, 'edinburgh': 5.0, 'brussels': 1.0, 'dublin': 1.0}\n",
      "\"Alexander Graham Bell 5 18.0\n"
     ]
    }
   ],
   "source": [
    "for a in corpus: \n",
    "    count = corpus[a][corpus[a] != 0].count()\n",
    "    sum = corpus[a].sum()\n",
    "    if count > 1:\n",
    "        print(corpus[a][corpus[a] != 0].to_dict())\n",
    "        print(a, count, sum)"
   ]
  },
  {
   "cell_type": "code",
   "execution_count": 172,
   "id": "e272bfb7",
   "metadata": {},
   "outputs": [
    {
     "name": "stdout",
     "output_type": "stream",
     "text": [
      "oui\n",
      "paris \"Animalia (book) 1.0\n",
      "paris \"Andre Agassi 1.0\n",
      "paris \"Animal Farm 1.0\n",
      "paris \"Apollo 8 1.0\n",
      "paris \"Alkali metal 1.0\n",
      "paris \"Art 1.0\n",
      "paris \"Alfred Hitchcock 1.0\n",
      "paris \"Attila 1.0\n",
      "barcelona \"Asia 1.0\n",
      "barcelona \"Albania 1.0\n",
      "barcelona \"Amsterdam 1.0\n",
      "barcelona \"Audi 1.0\n",
      "london \"Alabama 1.0\n",
      "london \"An American in Paris 1.0\n",
      "london \"Andre Agassi 1.0\n",
      "london \"Alaska 1.0\n",
      "london \"Apollo 8 1.0\n",
      "london \"A Modest Proposal 1.0\n",
      "london \"Aardvark 1.0\n",
      "london \"Aruba 1.0\n",
      "london \"Articles of Confederation 1.0\n",
      "london \"Arthur Schopenhauer 1.0\n",
      "london \"Apple Inc. 1.0\n",
      "birmingham \"Animal Farm 1.0\n",
      "birmingham \"Angolan Armed Forces 1.0\n",
      "thessaloniki \"Aristotle 1.0\n",
      "thessaloniki \"Ankara 1.0\n",
      "berlin \"Aristotle 1.0\n",
      "berlin \"Anthropology 1.0\n",
      "berlin \"Angola 1.0\n",
      "berlin \"Albania 1.0\n",
      "berlin \"Alfred Hitchcock 1.0\n",
      "berlin \"Amsterdam 1.0\n",
      "berlin \"Audi 1.0\n",
      "roma \"Academy Awards 1.0\n",
      "stockholm \"Actrius 1.0\n",
      "stockholm \"Alchemy 1.0\n",
      "stockholm \"Albert Einstein 1.0\n",
      "helsinki \"Alain Connes 1.0\n",
      "helsinki \"Azerbaijan 1.0\n",
      "amsterdam \"Algeria 1.0\n",
      "amsterdam \"Aruba 1.0\n",
      "madrid \"Algeria 1.0\n",
      "madrid \"Anthropology 1.0\n",
      "madrid \"Andre Agassi 1.0\n",
      "madrid \"Andorra 1.0\n",
      "madrid \"Azerbaijan 1.0\n",
      "madrid \"Art 1.0\n",
      "madrid \"Audi 1.0\n",
      "stuttgart \"Andre Agassi 1.0\n",
      "stuttgart \"Arthur Schopenhauer 1.0\n",
      "hamburg \"Andre Agassi 1.0\n",
      "hamburg \"Alfred Nobel 1.0\n",
      "toulouse \"Ankara 1.0\n",
      "toulouse \"Attila 1.0\n",
      "edinburgh \"Animal Farm 1.0\n",
      "edinburgh \"Andrei Tarkovsky 1.0\n",
      "edinburgh \"Alberta 1.0\n",
      "edinburgh \"Asparagales 1.0\n",
      "bologna \"Anatomy 1.0\n",
      "bologna \"Arthur Schopenhauer 1.0\n",
      "bologna \"Albania 1.0\n",
      "oslo \"Asia 1.0\n",
      "dresden \"Mouthwash 1.0\n",
      "dresden \"Austrian German 1.0\n",
      "dresden \"Audi 1.0\n",
      "leipzig \"Audi 1.0\n",
      "mannheim \"Arthur Schopenhauer 1.0\n",
      "brussels \"Transport in Angola 1.0\n",
      "brussels \"Austrian German 1.0\n",
      "brussels \"Alexander Graham Bell 1.0\n",
      "antwerp \"Albert Einstein 1.0\n",
      "dublin \"Abortion 1.0\n",
      "dublin \"Alexander Graham Bell 1.0\n",
      "nice \"Alfred Korzybski 1.0\n",
      "nice \"Asteroid 1.0\n",
      "nice \"Alfred Hitchcock 1.0\n",
      "palermo \"Asteroid 1.0\n",
      "leicester \"Alfred Hitchcock 1.0\n",
      "budapest \"Attila 1.0\n",
      "sofia \"Attila 1.0\n",
      "lille \"Amsterdam 1.0\n",
      "nürnberg \"Audi 1.0\n"
     ]
    }
   ],
   "source": [
    "# if os.path.exists(f\"{basefolder}/wiki_01\"):\n",
    "#     print('yes')\n",
    "    \n",
    "os.getcwd()\n",
    "\n",
    "# for file in os.listdir(basefolder):\n",
    "#     print(file)\n",
    "    \n",
    "list_of_cities\n",
    "if 'paris' in current_word_count:\n",
    "    print('oui')\n",
    "    \n",
    "type(set(current_word_count.keys()).intersection(list_of_cities))\n",
    "\n",
    "# current_word_count['madrid']\n",
    "\n",
    "corpus\n",
    "corpus.sum(axis=1)\n",
    "\n",
    "\n",
    "        "
   ]
  },
  {
   "cell_type": "markdown",
   "id": "62754ebc",
   "metadata": {},
   "source": [
    "-------"
   ]
  },
  {
   "cell_type": "markdown",
   "id": "1b0ce2ca",
   "metadata": {},
   "source": [
    "-------"
   ]
  },
  {
   "cell_type": "markdown",
   "id": "3b37dd8b",
   "metadata": {},
   "source": [
    "-------"
   ]
  },
  {
   "cell_type": "code",
   "execution_count": 98,
   "id": "3033d354",
   "metadata": {},
   "outputs": [
    {
     "name": "stdout",
     "output_type": "stream",
     "text": [
      "yes\n"
     ]
    }
   ],
   "source": [
    "# basefolder = '../../../enwiki/AA/wiki_00'\n",
    "# with open(basefolder, \"r\", encoding=\"utf-8\") as f:\n",
    "#     # print(' '.join(f.readlines()))\n",
    "#     if 'Paris' in ' '.join(f.readlines()):\n",
    "#         print('yes')"
   ]
  },
  {
   "cell_type": "code",
   "execution_count": 44,
   "id": "6da6918d",
   "metadata": {
    "collapsed": true
   },
   "outputs": [
    {
     "name": "stdout",
     "output_type": "stream",
     "text": [
      "['<doc id=\"10\" url=\"https://en.wikipedia.org/wiki?curid=10\" title=\"AccessibleComputing\">\\n', 'AccessibleComputing\\n']\n",
      "['humans', 'lived', 'in', 'societies', 'without', 'formal', 'hierarchies', 'long', 'before', 'the', 'establishment', 'of', 'formal', 'states', 'realms', 'or', 'empires', 'with', 'the', 'rise', 'of', 'organised', 'hierarchical', 'bodies', 'scepticism', 'toward', 'authority', 'also', 'rose', 'although', 'traces', 'of', 'anarchist', 'thought', 'are', 'found', 'throughout', 'history', 'modern', 'anarchism', 'emerged', 'from', 'the', 'enlightenment', 'during', 'the', 'latter', 'half', 'of', 'the', '19th', 'and', 'the', 'first', 'decades', 'of', 'the', '20th', 'century', 'the', 'anarchist', 'movement', 'flourished', 'in', 'most', 'parts', 'of', 'the', 'world', 'and', 'had', 'a', 'significant', 'role', 'in', 'workers', 'struggles', 'for', 'emancipation', 'various', 'anarchist', 'schools', 'of', 'thought', 'formed', 'during', 'this', 'period', 'anarchists', 'have', 'taken', 'part', 'in', 'several', 'revolutions', 'most', 'notably', 'in', 'the', 'paris', 'commune', 'the', 'russian', 'civil', 'war', 'and', 'the', 'spanish', 'civil', 'war', 'whose', 'end', 'marked', 'the', 'end', 'of', 'the', 'classical', 'era', 'of', 'anarchism', 'in', 'the', 'last', 'decades', 'of', 'the', '20th', 'and', 'into', 'the', '21st', 'century', 'the', 'anarchist', 'movement', 'has', 'been', 'resurgent', 'once', 'more']\n"
     ]
    },
    {
     "name": "stderr",
     "output_type": "stream",
     "text": [
      "100%|███████████████████████████████████████████████████████████| 1000/1000 [00:00<00:00, 23890.73it/s]\n"
     ]
    },
    {
     "data": {
      "text/plain": [
       "2490"
      ]
     },
     "execution_count": 44,
     "metadata": {},
     "output_type": "execute_result"
    }
   ],
   "source": [
    "# s='Anarchism is a political philosophy and movement that is sceptical of authority and rejects all involuntary, coercive forms of hierarchy.'\n",
    "# # text_to_words(s)\n",
    "\n",
    "\n",
    "# text = \"This is a simple sentence. Simple methods work great on simples sentences!\"\n",
    "# print(lines[:2])\n",
    "# tokenizer = RegexpTokenizer('\\w+')\n",
    "# tokenized_text = tokenizer.tokenize(lines[10].lower())\n",
    "# print(tokenized_text)\n",
    "\n",
    "# processed_texts = [tokenizer.tokenize(text.lower()) for text in tqdm(lines[:1000], total=len(lines[:1000]))]\n",
    "\n",
    "# flatten = lambda t: [item for sublist in t for item in sublist]\n",
    "# c = Counter(flatten(processed_texts[:1000]))\n",
    "# c.most_common(10)\n",
    "# # c['the']"
   ]
  },
  {
   "cell_type": "code",
   "execution_count": 79,
   "id": "27e0bc4e",
   "metadata": {
    "collapsed": true
   },
   "outputs": [
    {
     "name": "stdout",
     "output_type": "stream",
     "text": [
      "[<doc id=\"10\" url=\"https://en.wikipedia.org/wiki?curid=10\" title=\"AccessibleComputing\">\n",
      ", AccessibleComputing\n",
      ", \n",
      ", \n",
      ", \n",
      ", </doc>\n",
      ", <doc id=\"12\" url=\"https://en.wikipedia.org/wiki?curid=12\" title=\"Anarchism\">\n",
      ", Anarchism\n",
      ", \n",
      ", Anarchism is a political philosophy and movement that is sceptical of authority and rejects all involuntary, coercive forms of hierarchy. Anarchism calls for the abolition of the state, which it holds to be unnecessary, undesirable, and harmful. As a historically left-wing movement, placed on the farthest left of the political spectrum, it is usually described alongside communalism and libertarian Marxism as the libertarian wing (libertarian socialism) of the socialist movement, and has a strong historical association with anti-capitalism and socialism.\n",
      ", Humans lived in societies without formal hierarchies long before the establishment of formal states, realms, or empires. With the rise of organised hierarchical bodies, scepticism toward authority also rose. Although traces of anarchist thought are found throughout history, modern anarchism emerged from the Enlightenment. During the latter half of the 19th and the first decades of the 20th century, the anarchist movement flourished in most parts of the world and had a significant role in workers' struggles for emancipation. Various anarchist schools of thought formed during this period. Anarchists have taken part in several revolutions, most notably in the Paris Commune, the Russian Civil War and the Spanish Civil War, whose end marked the end of the classical era of anarchism. In the last decades of the 20th and into the 21st century, the anarchist movement has been resurgent once more.\n",
      ", Anarchism employs a diversity of tactics in order to meet its ideal ends which can be broadly separated into revolutionary and evolutionary tactics; there is significant overlap between the two, which are merely descriptive. Revolutionary tactics aim to bring down authority and state, having taken a violent turn in the past, while evolutionary tactics aim to prefigure what an anarchist society would be like. Anarchist thought, criticism, and praxis have played a part in diverse areas of human society. Criticism of anarchism include claims that it is internally inconsistent, violent, or utopian.\n",
      ", Etymology, terminology, and definition.\n",
      ", The etymological origin of \"anarchism\" is from the Ancient Greek \"anarkhia\", meaning \"without a ruler\", composed of the prefix \"an-\" (\"without\") and the word \"arkhos\" (\"leader\" or \"ruler\"). The suffix \"-ism\" denotes the ideological current that favours anarchy. \"Anarchism\" appears in English from 1642 as \"anarchisme\" and \"anarchy\" from 1539; early English usages emphasised a sense of disorder. Various factions within the French Revolution labelled their opponents as \"anarchists\", although few such accused shared many views with later anarchists. Many revolutionaries of the 19th century such as William Godwin (1756–1836) and Wilhelm Weitling (1808–1871) would contribute to the anarchist doctrines of the next generation but did not use \"anarchist\" or \"anarchism\" in describing themselves or their beliefs.\n",
      ", The first political philosopher to call himself an \"anarchist\" () was Pierre-Joseph Proudhon (1809–1865), marking the formal birth of anarchism in the mid-19th century. Since the 1890s and beginning in France, \"libertarianism\" has often been used as a synonym for anarchism and its use as a synonym is still common outside the United States. Some usages of \"libertarianism\" refer to individualistic free-market philosophy only, and free-market anarchism in particular is termed \"libertarian anarchism\".\n",
      ", While the term \"libertarian\" has been largely synonymous with anarchism, its meaning has more recently diluted with wider adoption from ideologically disparate groups, including both the New Left and libertarian Marxists, who do not associate themselves with authoritarian socialists or a vanguard party, and extreme cultural liberals, who are primarily concerned with civil liberties. Additionally, some anarchists use \"libertarian socialist\" to avoid anarchism's negative connotations and emphasise its connections with socialism. \"Anarchism\" is broadly used to describe the anti-authoritarian wing of the socialist movement. Anarchism is contrasted to socialist forms which are state-oriented or from above. Scholars of anarchism generally highlight anarchism's socialist credentials and criticise attempts at creating dichotomies between the two. Some scholars describe anarchism as having many influences from liberalism, and being both liberals and socialists but more so, while most scholars reject anarcho-capitalism as a misunderstanding of anarchist principles.\n",
      ", While opposition to the state is central to anarchist thought, defining \"anarchism\" is not an easy task for scholars, as there is a lot of discussion among scholars and anarchists on the matter, and various currents perceive anarchism slightly differently. Major definitional elements include the will for a non-coercive society, the rejection of the state apparatus, the belief that human nature allows humans to exist in or progress toward such a non-coercive society, and a suggestion on how to act to pursue the ideal of anarchy.\n",
      ", History.\n",
      ", Pre-modern era.\n",
      ", Before the establishment of towns and cities, an established authority did not exist. It was after the creation of institutions of authority that anarchistic ideas espoused as a reaction. The most notable precursors to anarchism in the ancient world were in China and Greece. In China, philosophical anarchism (the discussion on the legitimacy of the state) was delineated by Taoist philosophers Zhuang Zhou and Laozi. Alongside Stoicism, Taoism has been said to have had \"significant anticipations\" of anarchism.\n",
      ", Anarchic attitudes were also articulated by tragedians and philosophers in Greece. Aeschylus and Sophocles used the myth of Antigone to illustrate the conflict between rules set by the state and personal autonomy. Socrates questioned Athenian authorities constantly and insisted on the right of individual freedom of conscience. Cynics dismissed human law (\"nomos\") and associated authorities while trying to live according to nature (\"physis\"). Stoics were supportive of a society based on unofficial and friendly relations among its citizens without the presence of a state.\n",
      ", In medieval Europe, there was no anarchistic activity except some ascetic religious movements. These, and other Muslim movements, later gave birth to religious anarchism. In the Sasanian Empire, Mazdak called for an egalitarian society and the abolition of monarchy, only to be soon executed by Emperor Kavad I.\n",
      ", In Basra, religious sects preached against the state. In Europe, various sects developed anti-state and libertarian tendencies. Renewed interest in antiquity during the Renaissance and in private judgment during the Reformation restored elements of anti-authoritarian secularism, particularly in France. Enlightenment challenges to intellectual authority (secular and religious) and the revolutions of the 1790s and 1848 all spurred the ideological development of what became the era of classical anarchism.\n",
      ", Modern era.\n",
      ", During the French Revolution, partisan groups such as the Enragés and the saw a turning point in the fermentation of anti-state and federalist sentiments. The first anarchist currents developed throughout the 18th century as William Godwin espoused philosophical anarchism in England, morally delegitimising the state, Max Stirner's thinking paved the way to individualism and Pierre-Joseph Proudhon's theory of mutualism found fertile soil in France. By the late 1870s, various anarchist schools of thought had become well-defined and a wave of then unprecedented globalisation occurred from 1880 to 1914. This era of classical anarchism lasted until the end of the Spanish Civil War and is considered the golden age of anarchism.\n",
      ", Drawing from mutualism, Mikhail Bakunin founded collectivist anarchism and entered the International Workingmen's Association, a class worker union later known as the First International that formed in 1864 to unite diverse revolutionary currents. The International became a significant political force, with Karl Marx being a leading figure and a member of its General Council. Bakunin's faction (the Jura Federation) and Proudhon's followers (the mutualists) opposed state socialism, advocating political abstentionism and small property holdings. After bitter disputes, the Bakuninists were expelled from the International by the Marxists at the 1872 Hague Congress. Anarchists were treated similarly in the Second International, being ultimately expelled in 1896. Bakunin famously predicted that if revolutionaries gained power by Marx's terms, they would end up the new tyrants of workers. In response to their expulsion from the First International, anarchists formed the St. Imier International. Under the influence of Peter Kropotkin, a Russian philosopher and scientist, anarcho-communism overlapped with collectivism. Anarcho-communists, who drew inspiration from the 1871 Paris Commune, advocated for free federation and for the distribution of goods according to one's needs.\n",
      ", At the turn of the century, anarchism had spread all over the world. It was a notable feature of the international syndicalism movement. In China, small groups of students imported the humanistic pro-science version of anarcho-communism. Tokyo was a hotspot for rebellious youth from countries of the far east, travelling to the Japanese capital to study. In Latin America, Argentina was a stronghold for anarcho-syndicalism, where it became the most prominent left-wing ideology. During this time, a minority of anarchists adopted tactics of revolutionary political violence. This strategy became known as propaganda of the deed. The dismemberment of the French socialist movement into many groups and the execution and exile of many Communards to penal colonies following the suppression of the Paris Commune favoured individualist political expression and acts. Even though many anarchists distanced themselves from these terrorist acts, infamy came upon the movement and attempts were made to exclude them from American immigration, including the Immigration Act of 1903, also called the Anarchist Exclusion Act. Illegalism was another strategy which some anarchists adopted during this period.\n",
      ", Despite concerns, anarchists enthusiastically participated in the Russian Revolution in opposition to the White movement; however, they met harsh suppression after the Bolshevik government was stabilised. Several anarchists from Petrograd and Moscow fled to Ukraine, notably leading to the Kronstadt rebellion and Nestor Makhno's struggle in the Free Territory. With the anarchists being crushed in Russia, two new antithetical currents emerged, namely platformism and synthesis anarchism. The former sought to create a coherent group that would push for revolution while the latter were against anything that would resemble a political party. Seeing the victories of the Bolsheviks in the October Revolution and the resulting Russian Civil War, many workers and activists turned to communist parties which grew at the expense of anarchism and other socialist movements. In France and the United States, members of major syndicalist movements such as the General Confederation of Labour and the Industrial Workers of the World left their organisations and joined the Communist International.\n",
      ", In the Spanish Civil War of 1936, anarchists and syndicalists (CNT and FAI) once again allied themselves with various currents of leftists. A long tradition of Spanish anarchism led to anarchists playing a pivotal role in the war. In response to the army rebellion, an anarchist-inspired movement of peasants and workers, supported by armed militias, took control of Barcelona and of large areas of rural Spain, where they collectivised the land. The Soviet Union provided some limited assistance at the beginning of the war, but the result was a bitter fight among communists and anarchists at a series of events named May Days as Joseph Stalin tried to seize control of the Republicans.\n",
      ", Post-war era.\n",
      ", At the end of World War II, the anarchist movement was severely weakened. The 1960s witnessed a revival of anarchism, likely caused by a perceived failure of Marxism–Leninism and tensions built by the Cold War. During this time, anarchism found a presence in other movements critical towards both capitalism and the state such as the anti-nuclear, environmental, and peace movements, the counterculture of the 1960s, and the New Left. It also saw a transition from its previous revolutionary nature to provocative anti-capitalist reformism. Anarchism became associated with punk subculture as exemplified by bands such as Crass and the Sex Pistols. The established feminist tendencies of anarcha-feminism returned with vigour during the second wave of feminism. Black anarchism began to take form at this time and influenced anarchism's move from a Eurocentric demographic. This coincided with its failure to gain traction in Northern Europe and its unprecedented height in Latin America.\n",
      ", Around the turn of the 21st century, anarchism grew in popularity and influence within anti-capitalist, anti-war and anti-globalisation movements. Anarchists became known for their involvement in protests against the World Trade Organization (WTO), the Group of Eight and the World Economic Forum. During the protests, \"ad hoc\" leaderless anonymous cadres known as black blocs engaged in rioting, property destruction and violent confrontations with the police. Other organisational tactics pioneered in this time include affinity groups, security culture and the use of decentralised technologies such as the Internet. A significant event of this period was the confrontations at the 1999 Seattle WTO conference. Anarchist ideas have been influential in the development of the Zapatistas in Mexico and the Democratic Federation of Northern Syria, more commonly known as Rojava, a \"de facto\" autonomous region in northern Syria.\n",
      ", Thought.\n",
      ", Anarchist schools of thought have been generally grouped into two main historical traditions, social anarchism and individualist anarchism, owing to their different origins, values and evolution. The individualist current emphasises negative liberty in opposing restraints upon the free individual, while the social current emphasises positive liberty in aiming to achieve the free potential of society through equality and social ownership. In a chronological sense, anarchism can be segmented by the classical currents of the late 19th century and the post-classical currents (anarcha-feminism, green anarchism, and post-anarchism) developed thereafter.\n",
      ", Beyond the specific factions of anarchist movements which constitute political anarchism lies philosophical anarchism which holds that the state lacks moral legitimacy, without necessarily accepting the imperative of revolution to eliminate it. A component especially of individualist anarchism, philosophical anarchism may tolerate the existence of a minimal state but claims that citizens have no moral obligation to obey government when it conflicts with individual autonomy. Anarchism pays significant attention to moral arguments since ethics have a central role in anarchist philosophy. Anarchism's emphasis on anti-capitalism, egalitarianism, and for the extension of community and individuality sets it apart from anarcho-capitalism and other types of economic libertarianism.\n",
      ", Anarchism is usually placed on the far-left of the political spectrum. Much of its economics and legal philosophy reflect anti-authoritarian, anti-statist, libertarian, and radical interpretations of left-wing and socialist politics such as collectivism, communism, individualism, mutualism, and syndicalism, among other libertarian socialist economic theories. As anarchism does not offer a fixed body of doctrine from a single particular worldview, many anarchist types and traditions exist and varieties of anarchy diverge widely. One reaction against sectarianism within the anarchist milieu was anarchism without adjectives, a call for toleration and unity among anarchists first adopted by Fernando Tarrida del Mármol in 1889 in response to the bitter debates of anarchist theory at the time. Belief in political nihilism has been espoused by anarchists. Despite separation, the various anarchist schools of thought are not seen as distinct entities but rather as tendencies that intermingle and are connected through a set of uniform principles such as individual and local autonomy, mutual aid, network organisation, communal democracy, justified authority and decentralisation.\n",
      ", Classical.\n",
      ", Inceptive currents among classical anarchist currents were mutualism and individualism. They were followed by the major currents of social anarchism (collectivist, communist and syndicalist). They differ on organisational and economic aspects of their ideal society.\n",
      ", Mutualism is an 18th-century economic theory that was developed into anarchist theory by Pierre-Joseph Proudhon. Its aims include reciprocity, free association, voluntary contract, federation and monetary reform of both credit and currency that would be regulated by a bank of the people. Mutualism has been retrospectively characterised as ideologically situated between individualist and collectivist forms of anarchism. In \"What Is Property?\" (1840), Proudhon first characterised his goal as a \"third form of society, the synthesis of communism and property.\" Collectivist anarchism is a revolutionary socialist form of anarchism commonly associated with Mikhail Bakunin. Collectivist anarchists advocate collective ownership of the means of production which is theorised to be achieved through violent revolution and that workers be paid according to time worked, rather than goods being distributed according to need as in communism. Collectivist anarchism arose alongside Marxism but rejected the dictatorship of the proletariat despite the stated Marxist goal of a collectivist stateless society.\n",
      ", Anarcho-communism is a theory of anarchism that advocates a communist society with common ownership of the means of production, direct democracy and a horizontal network of voluntary associations, workers' councils and worker cooperatives, with production and consumption based on the guiding principle \"From each according to his ability, to each according to his need.\" Anarcho-communism developed from radical socialist currents after the French Revolution but was first formulated as such in the Italian section of the First International. It was later expanded upon in the theoretical work of Peter Kropotkin, whose specific style would go onto become the dominating view of anarchists by the late 19th century. Anarcho-syndicalism is a branch of anarchism that views labour syndicates as a potential force for revolutionary social change, replacing capitalism and the state with a new society democratically self-managed by workers. The basic principles of anarcho-syndicalism are direct action, workers' solidarity and workers' self-management.\n",
      ", Individualist anarchism is a set of several traditions of thought within the anarchist movement that emphasise the individual and their will over any kinds of external determinants. Early influences on individualist forms of anarchism include William Godwin, Max Stirner, and Henry David Thoreau. Through many countries, individualist anarchism attracted a small yet diverse following of Bohemian artists and intellectuals as well as young anarchist outlaws in what became known as illegalism and individual reclamation.\n",
      ", Post-classical and contemporary.\n",
      ", Anarchist principles undergird contemporary radical social movements of the left. Interest in the anarchist movement developed alongside momentum in the anti-globalisation movement, whose leading activist networks were anarchist in orientation. As the movement shaped 21st century radicalism, wider embrace of anarchist principles signaled a revival of interest. Anarchism has continued to generate many philosophies and movements, at times eclectic, drawing upon various sources and combining disparate concepts to create new philosophical approaches. The anti-capitalist tradition of classical anarchism has remained prominent within contemporary currents.\n",
      ", Contemporary news coverage which emphasizes black bloc demonstrations has reinforced anarchism's historical association with chaos and violence. Its publicity has also led more scholars in fields such as anthropology and history to engage with the anarchist movement, although contemporary anarchism favours actions over academic theory. Various anarchist groups, tendencies, and schools of thought exist today, making it difficult to describe the contemporary anarchist movement. While theorists and activists have established \"relatively stable constellations of anarchist principles\", there is no consensus on which principles are core and commentators describe multiple \"anarchisms\", rather than a singular \"anarchism\", in which common principles are shared between schools of anarchism while each group prioritizes those principles differently. Gender equality can be a common principle, although it ranks as a higher priority to anarcha-feminists than anarcho-communists.\n",
      ", Anarchists are generally committed against coercive authority in all forms, namely \"all centralized and hierarchical forms of government (e.g., monarchy, representative democracy, state socialism, etc.), economic class systems (e.g., capitalism, Bolshevism, feudalism, slavery, etc.), autocratic religions (e.g., fundamentalist Islam, Roman Catholicism, etc.), patriarchy, heterosexism, white supremacy, and imperialism.\" Anarchist schools disagree on the methods by which these forms should be opposed. The principle of equal liberty is closer to anarchist political ethics in that it transcends both the liberal and socialist traditions. This entails that liberty and equality cannot be implemented within the state, resulting in the questioning of all forms of domination and hierarchy.\n",
      ", Tactics.\n",
      ", Anarchists' tactics take various forms but in general serve two major goals, namely to first oppose the Establishment and secondly to promote anarchist ethics and reflect an anarchist vision of society, illustrating the unity of means and ends. A broad categorisation can be made between aims to destroy oppressive states and institutions by revolutionary means on one hand and aims to change society through evolutionary means on the other. Evolutionary tactics embrace nonviolence, reject violence and take a gradual approach to anarchist aims, although there is significant overlap between the two.\n",
      ", Anarchist tactics have shifted during the course of the last century. Anarchists during the early 20th century focused more on strikes and militancy while contemporary anarchists use a broader array of approaches.\n",
      ", Classical era tactics.\n",
      ", During the classical era, anarchists had a militant tendency. Not only did they confront state armed forces, as in Spain and Ukraine, but some of them also employed terrorism as propaganda of the deed. Assassination attempts were carried out against heads of state, some of which were successful. Anarchists also took part in revolutions. Many anarchists, especially the Galleanists, believed that these attempts would be the impetus for a revolution against capitalism and the state. Many of these attacks were done by individual assailants and the majority took place in the late 1870s, the early 1880s and the 1890s, with some still occurring in the early 1900s. Their decrease in prevalence was the result of further judicial power and targeting and cataloging by state institutions.\n",
      ", Anarchist perspectives towards violence have always been controversial. Anarcho-pacifists advocate for non-violence means to achieve their stateless, nonviolent ends. Other anarchist groups advocate direct action, a tactic which can include acts of sabotage or terrorism. This attitude was quite prominent a century ago when seeing the state as a tyrant and some anarchists believing that they had every right to oppose its oppression by any means possible. Emma Goldman and Errico Malatesta, who were proponents of limited use of violence, stated that violence is merely a reaction to state violence as a necessary evil.\n",
      ", Anarchists took an active role in strike actions, although they tended to be antipathetic to formal syndicalism, seeing it as reformist. They saw it as a part of the movement which sought to overthrow the state and capitalism. Anarchists also reinforced their propaganda within the arts, some of whom practiced naturism and nudism. Those anarchists also built communities which were based on friendship and were involved in the news media.\n",
      ", Revolutionary tactics.\n",
      ", In the current era, Italian anarchist Alfredo Bonanno, a proponent of insurrectionary anarchism, has reinstated the debate on violence by rejecting the nonviolence tactic adopted since the late 19th century by Kropotkin and other prominent anarchists afterwards. Both Bonanno and the French group The Invisible Committee advocate for small, informal affiliation groups, where each member is responsible for their own actions but works together to bring down oppression utilizing sabotage and other violent means against state, capitalism, and other enemies. Members of The Invisible Committee were arrested in 2008 on various charges, terrorism included.\n",
      ", Overall, contemporary anarchists are much less violent and militant than their ideological ancestors. They mostly engage in confronting the police during demonstrations and riots, especially in countries such as Canada, Greece, and Mexico. Militant black bloc protest groups are known for clashing with the police; however, anarchists not only clash with state operators, they also engage in the struggle against fascists and racists, taking anti-fascist action and mobilizing to prevent hate rallies from happening.\n",
      ", Evolutionary tactics.\n",
      ", Anarchists commonly employ direct action. This can take the form of disrupting and protesting against unjust hierarchy, or the form of self-managing their lives through the creation of counter-institutions such as communes and non-hierarchical collectives. Decision-making is often handled in an anti-authoritarian way, with everyone having equal say in each decision, an approach known as horizontalism. Contemporary-era anarchists have been engaging with various grassroots movements that are more or less based on horizontalism, although not explicitly anarchist, respecting personal autonomy and participating in mass activism such as strikes and demonstrations. In contrast with the \"big-A anarchism\" of the classical era, the newly coined term \"small-a anarchism\" signals their tendency not to base their thoughts and actions on classical-era anarchism or to refer to classical anarchists such as Peter Kropotkin and Pierre-Joseph Proudhon to justify their opinions. Those anarchists would rather base their thought and praxis on their own experience which they will later theorize.\n",
      ", The decision-making process of small anarchist affinity groups plays a significant tactical role. Anarchists have employed various methods in order to build a rough consensus among members of their group without the need of a leader or a leading group. One way is for an individual from the group to play the role of facilitator to help achieve a consensus without taking part in the discussion themselves or promoting a specific point. Minorities usually accept rough consensus, except when they feel the proposal contradicts anarchist ethics, goals and values. Anarchists usually form small groups (5–20 individuals) to enhance autonomy and friendships among their members. These kinds of groups more often than not interconnect with each other, forming larger networks. Anarchists still support and participate in strikes, especially wildcat strikes as these are leaderless strikes not organised centrally by a syndicate.\n",
      ", As in the past, newspapers and journals are used, and anarchists have gone online in the World Wide Web to spread their message. Anarchists have found it easier to create websites because of distributional and other difficulties, hosting electronic libraries and other portals. Anarchists were also involved in developing various software that are available for free. The way these hacktivists work to develop and distribute resembles the anarchist ideals, especially when it comes to preserving users' privacy from state surveillance.\n",
      ", Anarchists organize themselves to squat and reclaim public spaces. During important events such as protests and when spaces are being occupied, they are often called Temporary Autonomous Zones (TAZ), spaces where art, poetry, and surrealism are blended to display the anarchist ideal. As seen by anarchists, squatting is a way to regain urban space from the capitalist market, serving pragmatical needs and also being an exemplary direct action. Acquiring space enables anarchists to experiment with their ideas and build social bonds. Adding up these tactics while having in mind that not all anarchists share the same attitudes towards them, along with various forms of protesting at highly symbolic events, make up a carnivalesque atmosphere that is part of contemporary anarchist vividity.\n",
      ", Key issues.\n",
      ", As anarchism is a philosophy that embodies many diverse attitudes, tendencies, and schools of thought; disagreement over questions of values, ideology, and tactics is common. Its diversity has led to widely different uses of identical terms among different anarchist traditions which has created a number of definitional concerns in anarchist theory. The compatibility of capitalism, nationalism, and religion with anarchism is widely disputed, and anarchism enjoys complex relationships with ideologies such as communism, collectivism, Marxism, and trade unionism. Anarchists may be motivated by humanism, divine authority, enlightened self-interest, veganism, or any number of alternative ethical doctrines. Phenomena such as civilisation, technology (e.g. within anarcho-primitivism), and the democratic process may be sharply criticised within some anarchist tendencies and simultaneously lauded in others.\n",
      ", Gender, sexuality, and free love.\n",
      ", As gender and sexuality carry along them dynamics of hierarchy, many anarchists address, analyse, and oppose the suppression of one's autonomy imposed by gender roles.\n",
      ", Sexuality was not often discussed by classical anarchists but the few that did felt that an anarchist society would lead to sexuality naturally developing. Sexual violence was a concern for anarchists such as Benjamin Tucker, who opposed age of consent laws, believing they would benefit predatory men. A historical current that arose and flourished during 1890 and 1920 within anarchism was free love. In contemporary anarchism, this current survives as a tendency to support polyamory and queer anarchism. Free love advocates were against marriage, which they saw as a way of men imposing authority over women, largely because marriage law greatly favoured the power of men. The notion of free love was much broader and included a critique of the established order that limited women's sexual freedom and pleasure. Those free love movements contributed to the establishment of communal houses, where large groups of travelers, anarchists and other activists slept in beds together. Free love had roots both in Europe and the United States; however, some anarchists struggled with the jealousy that arose from free love. Anarchist feminists were advocates of free love, against marriage, and pro-choice (utilising a contemporary term), and had a similar agenda. Anarchist and non-anarchist feminists differed on suffrage but were supportive of one another.\n",
      ", During the second half of the 20th century, anarchism intermingled with the second wave of feminism, radicalising some currents of the feminist movement and being influenced as well. By the latest decades of the 20th century, anarchists and feminists were advocating for the rights and autonomy of women, gays, queers and other marginalised groups, with some feminist thinkers suggesting a fusion of the two currents. With the third wave of feminism, sexual identity and compulsory heterosexuality became a subject of study for anarchists, yielding a post-structuralist critique of sexual normality. Some anarchists distanced themselves from this line of thinking, suggesting that it leaned towards an individualism that was dropping the cause of social liberation.\n",
      ", Anarchism and education.\n",
      ", The interest of anarchists in education stretches back to the first emergence of classical anarchism. Anarchists consider proper education, one which sets the foundations of the future autonomy of the individual and the society, to be an act of mutual aid. Anarchist writers such as William Godwin (\"Political Justice\") and Max Stirner (\"The False Principle of Our Education\") attacked both state education and private education as another means by which the ruling class replicate their privileges.\n",
      ", In 1901, Catalan anarchist and free thinker Francisco Ferrer established the Escuela Moderna in Barcelona as an opposition to the established education system which was dictated largely by the Catholic Church. Ferrer's approach was secular, rejecting both state and church involvement in the educational process whilst giving pupils large amounts of autonomy in planning their work and attendance. Ferrer aimed to educate the working class and explicitly sought to foster class consciousness among students. The school closed after constant harassment by the state and Ferrer was later arrested. Nonetheless, his ideas formed the inspiration for a series of modern schools around the world. Christian anarchist Leo Tolstoy, who published the essay \"Education and Culture\", also established a similar school with its founding principle being that \"for education to be effective it had to be free.\" In a similar token, A. S. Neill founded what became the Summerhill School in 1921, also declaring being free from coercion.\n",
      ", Anarchist education is based largely on the idea that a child's right to develop freely and without manipulation ought to be respected and that rationality would lead children to morally good conclusions; however, there has been little consensus among anarchist figures as to what constitutes manipulation. Ferrer believed that moral indoctrination was necessary and explicitly taught pupils that equality, liberty and social justice were not possible under capitalism, along with other critiques of government and nationalism.\n",
      ", Late 20th century and contemporary anarchist writers (Paul Goodman, Herbert Read, and Colin Ward) intensified and expanded the anarchist critique of state education, largely focusing on the need for a system that focuses on children's creativity rather than on their ability to attain a career or participate in consumerism as part of a consumer society. Contemporary anarchists such as Ward claim that state education serves to perpetuate socioeconomic inequality.\n",
      ", While few anarchist education institutions have survived to the modern-day, major tenets of anarchist schools, among them respect for child autonomy and relying on reasoning rather than indoctrination as a teaching method, have spread among mainstream educational institutions. Judith Suissa names three schools as explicitly anarchists schools, namely the Free Skool Santa Cruz in the United States which is part of a wider American-Canadian network of schools, the Self-Managed Learning College in Brighton, England, and the Paideia School in Spain.\n",
      ", Anarchism and the state.\n",
      ", Objection to the state and its institutions is a \"sine qua non\" of anarchism. Anarchists consider the state as a tool of domination and believe it to be illegitimate regardless of its political tendencies. Instead of people being able to control the aspects of their life, major decisions are taken by a small elite. Authority ultimately rests solely on power, regardless of whether that power is open or transparent, as it still has the ability to coerce people. Another anarchist argument against states is that the people constituting a government, even the most altruistic among officials, will unavoidably seek to gain more power, leading to corruption. Anarchists consider the idea that the state is the collective will of the people to be an unachievable fiction due to the fact that the ruling class is distinct from the rest of society.\n",
      ", Specific anarchist attitudes towards the state vary. Robert Paul Wolff believed that the tension between authority and autonomy would mean the state could never be legitimate. Bakunin saw the state as meaning \"coercion, domination by means of coercion, camouflaged if possible but unceremonious and overt if need be.\" A. John Simmons and Leslie Green, who leaned toward philosophical anarchism, believed that the state could be legitimate if it is governed by consensus, although they saw this as highly unlikely. Beliefs on how to abolish the state also differ.\n",
      ", Anarchism and the arts.\n",
      ", The connection between anarchism and art was quite profound during the classical era of anarchism, especially among artistic currents that were developing during that era such as futurists, surrealists and others. In literature, anarchism was mostly associated with the New Apocalyptics and the neo-romanticism movement. In music, anarchism has been associated with music scenes such as punk. Anarchists such as Leo Tolstoy and Herbert Read stated that the border between the artist and the non-artist, what separates art from a daily act, is a construct produced by the alienation caused by capitalism and it prevents humans from living a joyful life.\n",
      ", Other anarchists advocated for or used art as a means to achieve anarchist ends. In his book \"Breaking the Spell: A History of Anarchist Filmmakers, Videotape Guerrillas, and Digital Ninjas\", Chris Robé claims that \"anarchist-inflected practices have increasingly structured movement-based video activism.\" Throughout the 20th century, many prominent anarchists (Peter Kropotkin, Emma Goldman, Gustav Landauer and Camillo Berneri) and publications such as \"Anarchy\" wrote about matters pertaining to the arts.\n",
      ", Three overlapping properties made art useful to anarchists. It could depict a critique of existing society and hierarchies, serve as a prefigurative tool to reflect the anarchist ideal society and even turn into a means of direct action such as in protests. As it appeals to both emotion and reason, art could appeal to the whole human and have a powerful effect. The 19th-century neo-impressionist movement had an ecological aesthetic and offered an example of an anarchist perception of the road towards socialism. In \"Les chataigniers a Osny\" by anarchist painter Camille Pissarro, the blending of aesthetic and social harmony is prefiguring an ideal anarchistic agrarian community.\n",
      ", Analysis.\n",
      ", The most common critique of anarchism is that humans cannot self-govern and so a state is necessary for human survival. Philosopher Bertrand Russell supported this critique, stating that \"[p]eace and war, tariffs, regulations of sanitary conditions and the sale of noxious drugs, the preservation of a just system of distribution: these, among others, are functions which could hardly be performed in a community in which there was no central government.\" Another common criticism of anarchism is that it fits a world of isolation in which only the small enough entities can be self-governing; a response would be that major anarchist thinkers advocated anarchist federalism.\n",
      ", Philosophy lecturer Andrew G. Fiala composed a list of common arguments against anarchism which includes critiques such as that anarchism is innately related to violence and destruction, not only in the pragmatic world, such as at protests, but in the world of ethics as well. Secondly, anarchism is evaluated as unfeasible or utopian since the state cannot be defeated practically. This line of arguments most often calls for political action within the system to reform it. The third argument is that anarchism is self-contradictory. While it advocates for no-one to \"archiei\", if accepted by the many, then anarchism would turn into the ruling political theory. In this line of criticism also comes the self-contradiction that anarchism calls for collective action whilst endorsing the autonomy of the individual, hence no collective action can be taken. Lastly, Fiala mentions a critique towards philosophical anarchism of being ineffective (all talk and thoughts) and in the meantime capitalism and bourgeois class remains strong.\n",
      ", Philosophical anarchism has met the criticism of members of academia following the release of pro-anarchist books such as A. John Simmons' \"Moral Principles and Political Obligations\". Law professor William A. Edmundson authored an essay to argue against three major philosophical anarchist principles which he finds fallacious. Edmundson says that while the individual does not owe the state a duty of obedience, this does not imply that anarchism is the inevitable conclusion and the state is still morally legitimate. In \"The Problem of Political Authority\", Michael Huemer defends philosophical anarchism, claiming that \"political authority is a moral illusion.\"\n",
      ", One of the earliest criticisms is that anarchism defies and fails to understand the biological inclination to authority. Joseph Raz states that the acceptance of authority implies the belief that following their instructions will afford more success. Raz believes that this argument is true in following both authorities' successful and mistaken instruction. Anarchists reject this criticism because challenging or disobeying authority does not entail the disappearance of its advantages by acknowledging authority such as doctors or lawyers as reliable, nor does it involve a complete surrender of independent judgment. Anarchist perception of human nature, rejection of the state, and commitment to social revolution has been criticised by academics as naive, overly simplistic, and unrealistic, respectively. Classical anarchism has been criticised for relying too heavily on the belief that the abolition of the state will lead to human cooperation prospering.\n",
      ", Friedrich Engels, considered to be one of the principal founders of Marxism, criticised anarchism's anti-authoritarianism as inherently counter-revolutionary because in his view a revolution is by itself authoritarian. Academic John Molyneux writes in his book \"Anarchism: A Marxist Criticism\" that \"anarchism cannot win\", believing that it lacks the ability to properly implement its ideas. The Marxist criticism of anarchism is that it has a utopian character because all individuals should have anarchist views and values. According to the Marxist view, that a social idea would follow directly from this human ideal and out of the free will of every individual formed its essence. Marxists state that this contradiction was responsible for their inability to act. In the anarchist vision, the conflict between liberty and equality was resolved through coexistence and intertwining.\n",
      ", \n",
      ", </doc>\n",
      ", <doc id=\"13\" url=\"https://en.wikipedia.org/wiki?curid=13\" title=\"AfghanistanHistory\">\n",
      ", AfghanistanHistory\n",
      ", \n",
      ", \n",
      ", \n",
      ", </doc>\n",
      ", <doc id=\"14\" url=\"https://en.wikipedia.org/wiki?curid=14\" title=\"AfghanistanGeography\">\n",
      ", AfghanistanGeography\n",
      ", \n",
      ", \n",
      ", \n",
      ", </doc>\n",
      ", <doc id=\"15\" url=\"https://en.wikipedia.org/wiki?curid=15\" title=\"AfghanistanPeople\">\n",
      ", AfghanistanPeople\n",
      ", \n",
      ", \n",
      ", \n",
      ", </doc>\n",
      ", <doc id=\"18\" url=\"https://en.wikipedia.org/wiki?curid=18\" title=\"AfghanistanCommunications\">\n",
      ", AfghanistanCommunications\n",
      ", \n",
      ", \n",
      ", \n",
      ", </doc>\n",
      ", <doc id=\"19\" url=\"https://en.wikipedia.org/wiki?curid=19\" title=\"AfghanistanTransportations\">\n",
      ", AfghanistanTransportations\n",
      ", \n",
      ", \n",
      ", \n",
      ", </doc>\n",
      ", <doc id=\"20\" url=\"https://en.wikipedia.org/wiki?curid=20\" title=\"AfghanistanMilitary\">\n",
      ", AfghanistanMilitary\n",
      ", \n",
      ", \n",
      ", \n",
      ", </doc>\n",
      ", <doc id=\"21\" url=\"https://en.wikipedia.org/wiki?curid=21\" title=\"AfghanistanTransnationalIssues\">\n",
      ", AfghanistanTransnationalIssues\n",
      ", \n",
      ", \n",
      ", \n",
      ", </doc>\n",
      ", <doc id=\"23\" url=\"https://en.wikipedia.org/wiki?curid=23\" title=\"AssistiveTechnology\">\n",
      ", AssistiveTechnology\n",
      ", \n",
      ", \n",
      ", \n",
      ", </doc>\n",
      ", <doc id=\"24\" url=\"https://en.wikipedia.org/wiki?curid=24\" title=\"AmoeboidTaxa\">\n",
      ", AmoeboidTaxa\n",
      ", \n",
      ", \n",
      ", \n",
      ", </doc>\n",
      ", <doc id=\"25\" url=\"https://en.wikipedia.org/wiki?curid=25\" title=\"Autism\">\n",
      ", Autism\n",
      ", \n",
      ", Kanner autism, or classic autism, is a neurodevelopmental disorder characterized by challenges with social communication, and by restricted and repetitive behaviors. It is now considered part of the wider autism spectrum. The term 'autism' was historically used to refer specifically to Kanner autism, which is the convention used in this entry, but it is now more commonly used for the spectrum at large.\n",
      ", Parents often notice signs of autism during the first three years of their child's life. These signs often develop gradually, though some autistic children experience regression in their communication and social skills after reaching developmental milestones at a normal pace.\n",
      ", Autism has been hypothesized to be associated with a combination of genetic and environmental factors. Risk factors during pregnancy include certain infections, such as rubella, toxins including valproic acid, alcohol, cocaine, pesticides, lead, and air pollution, fetal growth restriction, and autoimmune diseases. Controversies surround other proposed environmental causes; for example, the vaccine hypothesis, which although disproven, continues to hold sway in certain communities. Autism affects information processing in the brain and how nerve cells and their synapses connect and organize; how this occurs is not well understood. The Diagnostic and Statistical Manual of Mental Disorders (DSM-5) combines forms of the condition, including high functioning autism (HFA), which was formerly known as Asperger syndrome, and pervasive developmental disorder not otherwise specified (PDD-NOS) into the diagnosis of autism spectrum disorder (ASD).\n",
      ", Several interventions have been shown to reduce symptoms and improve the ability of autistic people to function and participate independently in the community. Behavioral, psychological, education, and/or skill-building interventions may be used to assist autistic people to learn life skills necessary for living independently, as well as other social, communication, and language skills. Therapy also aims to reduce challenging behaviors and build upon strengths. Some autistic adults are unable to live independently. An autistic culture has developed, with some individuals seeking a cure and others believing autism should be accepted as a difference to be accommodated instead of cured.\n",
      ", Globally, autism is estimated to affect 24.8 million people . In the 2000s, the number of autistic people worldwide was estimated at 1–2 per 1,000 people. In the developed countries, about 1.5% of children are diagnosed with ASD , up from 0.7% in 2000 in the United States. It is diagnosed four to five times more often in males than females. The number of people diagnosed has increased considerably since the 1990s, which may be partly due to increased recognition of the condition.\n",
      ", Characteristics.\n",
      ", Autism is a highly variable neurodevelopmental disorder whose symptoms first appear during infancy or childhood, and generally follows a steady course without remission. Autistic people may be severely impaired in some respects but average, or even superior, in others. Overt symptoms gradually begin after the age of six months, become established by age two or three years and tend to continue through adulthood, although often in more muted form. It is distinguished by a characteristic triad of symptoms: impairments in social interaction, impairments in communication, and repetitive behavior. Other aspects, such as atypical eating, are also common but are not essential for diagnosis. Individual symptoms of autism occur in the general population and appear not to associate highly, without a sharp line separating pathologically severe from common traits.\n",
      ", Social development.\n",
      ", Social deficits distinguish autism and the related autism spectrum disorders (ASD; see Classification) from other developmental disorders. Autistic people have social impairments and often lack the intuition about others that many people take for granted. Noted autistic Temple Grandin described her inability to understand the social communication of neurotypicals, or people with typical neural development, as leaving her feeling \"like an anthropologist on Mars\".\n",
      ", Unusual social development becomes apparent early in childhood. Autistic infants show less attention to social stimuli, smile and look at others less often, and respond less to their own name. Autistic toddlers differ more strikingly from social norms; for example, they have less eye contact and turn-taking, and do not have the ability to use simple movements to express themselves, such as pointing at things. Three- to five-year-old autistic children are less likely to exhibit social understanding, approach others spontaneously, imitate and respond to emotions, communicate nonverbally, and take turns with others. However, they do form attachments to their primary caregivers. Most autistic children display moderately less attachment security than neurotypical children, although this difference disappears in children with higher mental development or less pronounced autistic traits. Older children and adults with ASD perform worse on tests of face and emotion recognition although this may be partly due to a lower ability to define a person's own emotions.\n",
      ", Children with high-functioning autism have more intense and frequent loneliness compared to non-autistic peers, despite the common belief that autistic children prefer to be alone. Making and maintaining friendships often proves to be difficult for autistic people. For them, the quality of friendships, not the number of friends, predicts how lonely they feel. Functional friendships, such as those resulting in invitations to parties, may affect the quality of life more deeply.\n",
      ", There are many anecdotal reports, but few systematic studies, of aggression and violence in individuals with ASD. The limited data suggest that, in children with intellectual disability, autism is associated with aggression, destruction of property, and meltdowns.\n",
      ", Communication.\n",
      ", About one third to half of autistic people do not develop enough natural speech to meet their daily communication needs. Differences in communication may be present from the first year of life, and may include delayed onset of babbling, unusual gestures, diminished responsiveness, and vocal patterns that are not synchronized with the caregiver. In the second and third years, autistic children have less frequent and less diverse babbling, consonants, words, and word combinations; their gestures are less often integrated with words. Autistic children are less likely to make requests or share experiences, and are more likely to simply repeat others' words (echolalia) or reverse pronouns. Joint attention seems to be necessary for functional speech, and deficits in joint attention seem to distinguish infants with ASD. For example, they may look at a pointing hand instead of the object to which the hand is pointing, and they consistently fail to point at objects in order to comment on or share an experience. Autistic children may have difficulty with imaginative play and with developing symbols into language.\n",
      ", In a pair of studies, high-functioning autistic children aged 8–15 performed equally well as, and as adults better than, individually matched controls at basic language tasks involving vocabulary and spelling. Both autistic groups performed worse than controls at complex language tasks such as figurative language, comprehension, and inference. As people are often sized up initially from their basic language skills, these studies suggest that people speaking to autistic individuals are more likely to overestimate what their audience comprehends.\n",
      ", Repetitive behavior.\n",
      ", Autistic individuals can display many forms of repetitive or restricted behavior, which the Repetitive Behavior Scale-Revised (RBS-R) categorizes as follows.\n",
      ", No single repetitive or self-injurious behavior seems to be specific to autism, but autism appears to have an elevated pattern of occurrence and severity of these behaviors.\n",
      ", Other symptoms.\n",
      ", Autistic individuals may have symptoms that are independent of the diagnosis, but that can affect the individual or the family.\n",
      ", An estimated 0.5% to 10% of individuals with ASD show unusual abilities, ranging from splinter skills such as the memorization of trivia to the extraordinarily rare talents of prodigious autistic savants. Many individuals with ASD show superior skills in perception and attention, relative to the general population. Sensory abnormalities are found in over 90% of autistic people, and are considered core features by some, although there is no good evidence that sensory symptoms differentiate autism from other developmental disorders. Differences are greater for under-responsivity (for example, walking into things) than for over-responsivity (for example, distress from loud noises) or for sensation seeking (for example, rhythmic movements). An estimated 60–80% of autistic people have motor signs that include poor muscle tone, poor motor planning, and toe walking; deficits in motor coordination are pervasive across ASD and are greater in autism proper. Unusual eating behavior occurs in about three-quarters of children with ASD, to the extent that it was formerly a diagnostic indicator. Selectivity is the most common problem, although eating rituals and food refusal also occur.\n",
      ", There is tentative evidence that gender dysphoria occurs more frequently in autistic people (see Autism and LGBT identities). As well as that, a 2021 anonymized online survey of 16-90 year-olds revealed that autistic males are more likely to be bisexual, while autistic females are more likely to be homosexual.\n",
      ", Gastrointestinal problems are one of the most commonly co-occurring medical conditions in autistic people. These are linked to greater social impairment, irritability, behavior and sleep problems, language impairments and mood changes.\n",
      ", Parents of children with ASD have higher levels of stress. Siblings of children with ASD report greater admiration of and less conflict with the affected sibling than siblings of unaffected children and were similar to siblings of children with Down syndrome in these aspects of the sibling relationship. However, they reported lower levels of closeness and intimacy than siblings of children with Down syndrome; siblings of individuals with ASD have greater risk of negative well-being and poorer sibling relationships as adults.\n",
      ", Causes.\n",
      ", It has long been presumed that there is a common cause at the genetic, cognitive, and neural levels for autism's characteristic triad of symptoms. However, there is increasing suspicion that autism is instead a complex disorder whose core aspects have distinct causes that often co-occur.\n",
      ", Autism has a strong genetic basis, although the genetics of autism are complex and it is unclear whether ASD is explained more by rare mutations with major effects, or by rare multigene interactions of common genetic variants. Complexity arises due to interactions among multiple genes, the environment, and epigenetic factors which do not change DNA sequencing but are heritable and influence gene expression. Many genes have been associated with autism through sequencing the genomes of affected individuals and their parents. Studies of twins suggest that heritability is 0.7 for autism and as high as 0.9 for ASD, and siblings of those with autism are about 25 times more likely to be autistic than the general population. However, most of the mutations that increase autism risk have not been identified. Typically, autism cannot be traced to a Mendelian (single-gene) mutation or to a single chromosome abnormality, and none of the genetic syndromes associated with ASDs have been shown to selectively cause ASD. Numerous candidate genes have been located, with only small effects attributable to any particular gene. Most loci individually explain less than 1% of cases of autism. The large number of autistic individuals with unaffected family members may result from spontaneous structural variation—such as deletions, duplications or inversions in genetic material during meiosis. Hence, a substantial fraction of autism cases may be traceable to genetic causes that are highly heritable but not inherited: that is, the mutation that causes the autism is not present in the parental genome. Autism may be underdiagnosed in women and girls due to an assumption that it is primarily a male condition, but genetic phenomena such as imprinting and X linkage have the ability to raise the frequency and severity of conditions in males, and theories have been put forward for a genetic reason why males are diagnosed more often, such as the imprinted brain hypothesis and the extreme male brain theory.\n",
      ", Maternal nutrition and inflammation during preconception and pregnancy influences fetal neurodevelopment. Intrauterine growth restriction is associated with ASD, in both term and preterm infants. Maternal inflammatory and autoimmune diseases may damage fetal tissues, aggravating a genetic problem or damaging the nervous system.\n",
      ", Exposure to air pollution during pregnancy, especially heavy metals and particulates, may increase the risk of autism. Environmental factors that have been claimed without evidence to contribute to or exacerbate autism include certain foods, infectious diseases, solvents, PCBs, phthalates and phenols used in plastic products, pesticides, brominated flame retardants, alcohol, smoking, illicit drugs, vaccines, and prenatal stress. Some, such as the MMR vaccine, have been completely disproven.\n",
      ", Parents may first become aware of autistic symptoms in their child around the time of a routine vaccination. This has led to unsupported theories blaming vaccine \"overload\", a vaccine preservative, or the MMR vaccine for causing autism. The latter theory was supported by a litigation-funded study that has since been shown to have been \"an elaborate fraud\". Although these theories lack convincing scientific evidence and are biologically implausible, parental concern about a potential vaccine link with autism has led to lower rates of childhood immunizations, outbreaks of previously controlled childhood diseases in some countries, and the preventable deaths of several children.\n",
      ", Mechanism.\n",
      ", Autism's symptoms result from maturation-related changes in various systems of the brain. How autism occurs is not well understood. Its mechanism can be divided into two areas: the pathophysiology of brain structures and processes associated with autism, and the neuropsychological linkages between brain structures and behaviors. The behaviors appear to have multiple pathophysiologies. \n",
      ", There is evidence that gut–brain axis abnormalities may be involved. A 2015 review proposed that immune dysregulation, gastrointestinal inflammation, malfunction of the autonomic nervous system, gut flora alterations, and food metabolites may cause brain neuroinflammation and dysfunction. A 2016 review concludes that enteric nervous system abnormalities might play a role in neurological disorders such as autism. Neural connections and the immune system are a pathway that may allow diseases originated in the intestine to spread to the brain.\n",
      ", Several lines of evidence point to synaptic dysfunction as a cause of autism. Some rare mutations may lead to autism by disrupting some synaptic pathways, such as those involved with cell adhesion. Gene replacement studies in mice suggest that autistic symptoms are closely related to later developmental steps that depend on activity in synapses and on activity-dependent changes. All known teratogens (agents that cause birth defects) related to the risk of autism appear to act during the first eight weeks from conception, and though this does not exclude the possibility that autism can be initiated or affected later, there is strong evidence that autism arises very early in development.\n",
      ", Diagnosis.\n",
      ", Diagnosis is based on behavior, not cause or mechanism. Under the DSM-5, autism is characterized by persistent deficits in social communication and interaction across multiple contexts, as well as restricted, repetitive patterns of behavior, interests, or activities. These deficits are present in early childhood, typically before age three, and lead to clinically significant functional impairment. Sample symptoms include lack of social or emotional reciprocity, stereotyped and repetitive use of language or idiosyncratic language, and persistent preoccupation with unusual objects. The disturbance must not be better accounted for by Rett syndrome, intellectual disability or global developmental delay. ICD-10 uses essentially the same definition.\n",
      ", Several diagnostic instruments are available. Two are commonly used in autism research: the Autism Diagnostic Interview-Revised (ADI-R) is a semistructured parent interview, and the Autism Diagnostic Observation Schedule (ADOS) uses observation and interaction with the child. The Childhood Autism Rating Scale (CARS) is used widely in clinical environments to assess severity of autism based on observation of children. The Diagnostic interview for social and communication disorders (DISCO) may also be used.\n",
      ", A pediatrician commonly performs a preliminary investigation by taking developmental history and physically examining the child. If warranted, diagnosis and evaluations are conducted with help from ASD specialists, observing and assessing cognitive, communication, family, and other factors using standardized tools, and taking into account any associated medical conditions. A pediatric neuropsychologist is often asked to assess behavior and cognitive skills, both to aid diagnosis and to help recommend educational interventions. A differential diagnosis for ASD at this stage might also consider intellectual disability, hearing impairment, and a specific language impairment such as Landau–Kleffner syndrome. The presence of autism can make it harder to diagnose coexisting psychiatric disorders such as depression.\n",
      ", Clinical genetics evaluations are often done once ASD is diagnosed, particularly when other symptoms already suggest a genetic cause. Although genetic technology allows clinical geneticists to link an estimated 40% of cases to genetic causes, consensus guidelines in the US and UK are limited to high-resolution chromosome and fragile X testing. A genotype-first model of diagnosis has been proposed, which would routinely assess the genome's copy number variations. As new genetic tests are developed several ethical, legal, and social issues will emerge. Commercial availability of tests may precede adequate understanding of how to use test results, given the complexity of autism's genetics. Metabolic and neuroimaging tests are sometimes helpful, but are not routine.\n",
      ", ASD can sometimes be diagnosed by age 14 months, although diagnosis becomes increasingly stable over the first three years of life: for example, a one-year-old who meets diagnostic criteria for ASD is less likely than a three-year-old to continue to do so a few years later. In the UK the National Autism Plan for Children recommends at most 30 weeks from first concern to completed diagnosis and assessment, though few cases are handled that quickly in practice. Although the symptoms of autism and ASD begin early in childhood, they are sometimes missed; years later, adults may seek diagnoses to help them or their friends and family understand themselves, to help their employers make adjustments, or in some locations to claim disability living allowances or other benefits.\n",
      ", Signs of autism may be more challenging for clinicians to detect in females. Autistic females have been shown to engage in masking more frequently than autistic males. Masking may include making oneself perform normative facial expressions and eye contact. A notable percentage of autistic females may be misdiagnosed, diagnosed after a considerable delay, or not diagnosed at all.\n",
      ", Conversely, the cost of screening and diagnosis and the challenge of obtaining payment can inhibit or delay diagnosis. It is particularly hard to diagnose autism among the visually impaired, partly because some of its diagnostic criteria depend on vision, and partly because autistic symptoms overlap with those of common blindness syndromes or blindisms.\n",
      ", Classification.\n",
      ", Autism is one of the five pervasive developmental disorders (PDD), which are characterized by widespread abnormalities of social interactions and communication, severely restricted interests, and highly repetitive behavior. These symptoms do not imply sickness, fragility, or emotional disturbance.\n",
      ", Of the five PDD forms, Asperger syndrome is closest to autism in signs and likely causes; Rett syndrome and childhood disintegrative disorder share several signs with autism, but may have unrelated causes; PDD not otherwise specified (PDD-NOS; also called \"atypical autism\") is diagnosed when the criteria are not met for a more specific disorder. Unlike with autism, people with Asperger syndrome have no substantial delay in language development. The terminology of autism can be bewildering, with autism, Asperger syndrome and PDD-NOS often called the \"autism spectrum disorders\" (ASD) or sometimes the \"autistic disorders\", whereas autism itself is often called \"autistic disorder\", \"childhood autism\", or \"infantile autism\". In this article, \"autism\" refers to the classic autistic disorder; in clinical practice, though, \"autism\", \"ASD\", and \"PDD\" are often used interchangeably. ASD, in turn, is a subset of the broader autism phenotype, which describes individuals who may not have ASD but do have autistic-like traits, such as avoiding eye contact.\n",
      ", Research into causes has been hampered by the inability to identify biologically meaningful subgroups within the autistic population and by the traditional boundaries between the disciplines of psychiatry, psychology, neurology and pediatrics. Newer technologies such as fMRI and diffusion tensor imaging can help identify biologically relevant phenotypes (observable traits) that can be viewed on brain scans, to help further neurogenetic studies of autism; one example is lowered activity in the fusiform face area of the brain, which is associated with impaired perception of people versus objects. It has been proposed to classify autism using genetics as well as behavior. (For more, see Brett Abrahams, geneticist and neuroscientist)\n",
      ", Spectrum.\n",
      ", Autism has long been thought to cover a wide spectrum, ranging from individuals with severe impairments—who may be silent, developmentally disabled, and prone to frequent repetitive behavior such as hand flapping and rocking—to high functioning individuals who may have active but distinctly odd social approaches, narrowly focused interests, and verbose, pedantic communication. Because the behavior spectrum is continuous, boundaries between diagnostic categories are necessarily somewhat arbitrary.\n",
      ", Screening.\n",
      ", About half of parents of children with ASD notice their child's unusual behaviors by age 18 months, and about four-fifths notice by age 24 months. According to an article, failure to meet any of the following milestones \"is an absolute indication to proceed with further evaluations. Delay in referral for such testing may delay early diagnosis and treatment and affect the long-term outcome\".\n",
      ", The United States Preventive Services Task Force in 2016 found it was unclear if screening was beneficial or harmful among children in whom there is no concern. The Japanese practice is to screen all children for ASD at 18 and 24 months, using autism-specific formal screening tests. In contrast, in the UK, children whose families or doctors recognize possible signs of autism are screened. It is not known which approach is more effective. Screening tools include the Modified Checklist for Autism in Toddlers (M-CHAT), the Early Screening of Autistic Traits Questionnaire, and the First Year Inventory; initial data on M-CHAT and its predecessor, the Checklist for Autism in Toddlers (CHAT), on children aged 18–30 months suggests that it is best used in a clinical setting and that it has low sensitivity (many false-negatives) but good specificity (few false-positives). It may be more accurate to precede these tests with a broadband screener that does not distinguish ASD from other developmental disorders. Screening tools designed for one culture's norms for behaviors like eye contact may be inappropriate for a different culture. Although genetic screening for autism is generally still impractical, it can be considered in some cases, such as children with neurological symptoms and dysmorphic features.\n",
      ", Some authors suggest that automatic motor assessment could be useful to screen the children with ASD for instance with behavioural motor and emotionals reactions during smartphone watching.\n",
      ", Prevention.\n",
      ", While infection with rubella during pregnancy causes fewer than 1% of cases of autism, vaccination against rubella can prevent many of those cases.\n",
      ", Management.\n",
      ", The main goals when treating autistic children are to lessen associated deficits and family distress, and to increase quality of life and functional independence. In general, higher IQs are correlated with greater responsiveness to treatment and improved treatment outcomes. No single treatment is best and treatment is typically tailored to the child's needs. Families and the educational system are the main resources for treatment. Services should be carried out by behavior analysts, special education teachers, speech pathologists, and licensed psychologists. Studies of interventions have methodological problems that prevent definitive conclusions about efficacy. However, the development of evidence-based interventions has advanced in recent years. Although many psychosocial interventions have some positive evidence, suggesting that some form of treatment is preferable to no treatment, the methodological quality of systematic reviews of these studies has generally been poor, their clinical results are mostly tentative, and there is little evidence for the relative effectiveness of treatment options. Intensive, sustained special education programs and behavior therapy early in life can help children acquire self-care, communication, and job skills, and often improve functioning and decrease symptom severity and maladaptive behaviors; claims that intervention by around age three years is crucial are not substantiated. While medications have not been found to help with core symptoms, they may be used for associated symptoms, such as irritability, inattention, or repetitive behavior patterns.\n",
      "]\n"
     ]
    },
    {
     "ename": "AttributeError",
     "evalue": "'list' object has no attribute 'text'",
     "output_type": "error",
     "traceback": [
      "\u001b[1;31m---------------------------------------------------------------------------\u001b[0m",
      "\u001b[1;31mAttributeError\u001b[0m                            Traceback (most recent call last)",
      "Input \u001b[1;32mIn [79]\u001b[0m, in \u001b[0;36m<cell line: 9>\u001b[1;34m()\u001b[0m\n\u001b[0;32m      6\u001b[0m \u001b[38;5;28mprint\u001b[39m(processed_texts)\n\u001b[0;32m      8\u001b[0m tokenized_texts \u001b[38;5;241m=\u001b[39m [[re\u001b[38;5;241m.\u001b[39msub(\u001b[38;5;124mr\u001b[39m\u001b[38;5;124m'\u001b[39m\u001b[38;5;124m\\\u001b[39m\u001b[38;5;124mW+\u001b[39m\u001b[38;5;124m'\u001b[39m, \u001b[38;5;124m'\u001b[39m\u001b[38;5;124m'\u001b[39m, word\u001b[38;5;241m.\u001b[39mtext) \u001b[38;5;28;01mfor\u001b[39;00m word \u001b[38;5;129;01min\u001b[39;00m text] \u001b[38;5;28;01mfor\u001b[39;00m text \u001b[38;5;129;01min\u001b[39;00m processed_texts]\n\u001b[1;32m----> 9\u001b[0m lemmatized_texts \u001b[38;5;241m=\u001b[39m [[\u001b[38;5;28mstr\u001b[39m(word)\u001b[38;5;241m.\u001b[39mlower() \u001b[38;5;28;01mfor\u001b[39;00m word \u001b[38;5;129;01min\u001b[39;00m text \u001b[38;5;28;01mif\u001b[39;00m \u001b[38;5;124m'\u001b[39m\u001b[38;5;124m<doc\u001b[39m\u001b[38;5;124m'\u001b[39m \u001b[38;5;129;01mnot\u001b[39;00m \u001b[38;5;129;01min\u001b[39;00m text\u001b[38;5;241m.\u001b[39mtext \u001b[38;5;129;01mand\u001b[39;00m \u001b[38;5;124m'\u001b[39m\u001b[38;5;124m</doc>\u001b[39m\u001b[38;5;124m'\u001b[39m \u001b[38;5;129;01mnot\u001b[39;00m \u001b[38;5;129;01min\u001b[39;00m text\u001b[38;5;241m.\u001b[39mtext \u001b[38;5;129;01mand\u001b[39;00m \u001b[38;5;129;01mnot\u001b[39;00m word\u001b[38;5;241m.\u001b[39mis_punct] \u001b[38;5;28;01mfor\u001b[39;00m text \u001b[38;5;129;01min\u001b[39;00m tokenized_texts]\n\u001b[0;32m     10\u001b[0m \u001b[38;5;28mprint\u001b[39m(processed_texts[\u001b[38;5;241m0\u001b[39m]\u001b[38;5;241m.\u001b[39mtext)\n\u001b[0;32m     11\u001b[0m \u001b[38;5;28mprint\u001b[39m(lemmatized_texts[:\u001b[38;5;241m10\u001b[39m])\n",
      "Input \u001b[1;32mIn [79]\u001b[0m, in \u001b[0;36m<listcomp>\u001b[1;34m(.0)\u001b[0m\n\u001b[0;32m      6\u001b[0m \u001b[38;5;28mprint\u001b[39m(processed_texts)\n\u001b[0;32m      8\u001b[0m tokenized_texts \u001b[38;5;241m=\u001b[39m [[re\u001b[38;5;241m.\u001b[39msub(\u001b[38;5;124mr\u001b[39m\u001b[38;5;124m'\u001b[39m\u001b[38;5;124m\\\u001b[39m\u001b[38;5;124mW+\u001b[39m\u001b[38;5;124m'\u001b[39m, \u001b[38;5;124m'\u001b[39m\u001b[38;5;124m'\u001b[39m, word\u001b[38;5;241m.\u001b[39mtext) \u001b[38;5;28;01mfor\u001b[39;00m word \u001b[38;5;129;01min\u001b[39;00m text] \u001b[38;5;28;01mfor\u001b[39;00m text \u001b[38;5;129;01min\u001b[39;00m processed_texts]\n\u001b[1;32m----> 9\u001b[0m lemmatized_texts \u001b[38;5;241m=\u001b[39m [[\u001b[38;5;28mstr\u001b[39m(word)\u001b[38;5;241m.\u001b[39mlower() \u001b[38;5;28;01mfor\u001b[39;00m word \u001b[38;5;129;01min\u001b[39;00m text \u001b[38;5;28;01mif\u001b[39;00m \u001b[38;5;124m'\u001b[39m\u001b[38;5;124m<doc\u001b[39m\u001b[38;5;124m'\u001b[39m \u001b[38;5;129;01mnot\u001b[39;00m \u001b[38;5;129;01min\u001b[39;00m text\u001b[38;5;241m.\u001b[39mtext \u001b[38;5;129;01mand\u001b[39;00m \u001b[38;5;124m'\u001b[39m\u001b[38;5;124m</doc>\u001b[39m\u001b[38;5;124m'\u001b[39m \u001b[38;5;129;01mnot\u001b[39;00m \u001b[38;5;129;01min\u001b[39;00m text\u001b[38;5;241m.\u001b[39mtext \u001b[38;5;129;01mand\u001b[39;00m \u001b[38;5;129;01mnot\u001b[39;00m word\u001b[38;5;241m.\u001b[39mis_punct] \u001b[38;5;28;01mfor\u001b[39;00m text \u001b[38;5;129;01min\u001b[39;00m tokenized_texts]\n\u001b[0;32m     10\u001b[0m \u001b[38;5;28mprint\u001b[39m(processed_texts[\u001b[38;5;241m0\u001b[39m]\u001b[38;5;241m.\u001b[39mtext)\n\u001b[0;32m     11\u001b[0m \u001b[38;5;28mprint\u001b[39m(lemmatized_texts[:\u001b[38;5;241m10\u001b[39m])\n",
      "Input \u001b[1;32mIn [79]\u001b[0m, in \u001b[0;36m<listcomp>\u001b[1;34m(.0)\u001b[0m\n\u001b[0;32m      6\u001b[0m \u001b[38;5;28mprint\u001b[39m(processed_texts)\n\u001b[0;32m      8\u001b[0m tokenized_texts \u001b[38;5;241m=\u001b[39m [[re\u001b[38;5;241m.\u001b[39msub(\u001b[38;5;124mr\u001b[39m\u001b[38;5;124m'\u001b[39m\u001b[38;5;124m\\\u001b[39m\u001b[38;5;124mW+\u001b[39m\u001b[38;5;124m'\u001b[39m, \u001b[38;5;124m'\u001b[39m\u001b[38;5;124m'\u001b[39m, word\u001b[38;5;241m.\u001b[39mtext) \u001b[38;5;28;01mfor\u001b[39;00m word \u001b[38;5;129;01min\u001b[39;00m text] \u001b[38;5;28;01mfor\u001b[39;00m text \u001b[38;5;129;01min\u001b[39;00m processed_texts]\n\u001b[1;32m----> 9\u001b[0m lemmatized_texts \u001b[38;5;241m=\u001b[39m [[\u001b[38;5;28mstr\u001b[39m(word)\u001b[38;5;241m.\u001b[39mlower() \u001b[38;5;28;01mfor\u001b[39;00m word \u001b[38;5;129;01min\u001b[39;00m text \u001b[38;5;28;01mif\u001b[39;00m \u001b[38;5;124m'\u001b[39m\u001b[38;5;124m<doc\u001b[39m\u001b[38;5;124m'\u001b[39m \u001b[38;5;129;01mnot\u001b[39;00m \u001b[38;5;129;01min\u001b[39;00m \u001b[43mtext\u001b[49m\u001b[38;5;241;43m.\u001b[39;49m\u001b[43mtext\u001b[49m \u001b[38;5;129;01mand\u001b[39;00m \u001b[38;5;124m'\u001b[39m\u001b[38;5;124m</doc>\u001b[39m\u001b[38;5;124m'\u001b[39m \u001b[38;5;129;01mnot\u001b[39;00m \u001b[38;5;129;01min\u001b[39;00m text\u001b[38;5;241m.\u001b[39mtext \u001b[38;5;129;01mand\u001b[39;00m \u001b[38;5;129;01mnot\u001b[39;00m word\u001b[38;5;241m.\u001b[39mis_punct] \u001b[38;5;28;01mfor\u001b[39;00m text \u001b[38;5;129;01min\u001b[39;00m tokenized_texts]\n\u001b[0;32m     10\u001b[0m \u001b[38;5;28mprint\u001b[39m(processed_texts[\u001b[38;5;241m0\u001b[39m]\u001b[38;5;241m.\u001b[39mtext)\n\u001b[0;32m     11\u001b[0m \u001b[38;5;28mprint\u001b[39m(lemmatized_texts[:\u001b[38;5;241m10\u001b[39m])\n",
      "\u001b[1;31mAttributeError\u001b[0m: 'list' object has no attribute 'text'"
     ]
    }
   ],
   "source": [
    "import re\n",
    "\n",
    "# texts = ['Image this a not a list of two texts.', 'But like millions!']\n",
    "processed_texts = [text for text in nlp.pipe(lines[:200], disable=[\"ner\", \"parser\"])]\n",
    "print(processed_texts)\n",
    "\n",
    "tokenized_texts = [[re.sub(r'\\W+', '', word.text) for word in text] for text in processed_texts]\n",
    "lemmatized_texts = [[str(word).lower() for word in text if '<doc' not in text.text and '</doc>' not in text.text and not word.is_punct] for text in tokenized_texts]\n",
    "print(processed_texts[0].text)\n",
    "print(lemmatized_texts[:10])\n",
    "cities = ['paris', 'berlin']\n",
    "for x in processed_texts[:10]:\n",
    "    print(len(x.text))\n",
    "#     if x.text == 'Image':\n",
    "#         print('yes', x.text)\n",
    "          \n",
    "# processed_text = processed_texts[0]\n",
    "# tokenized_text_sw = [word.text.lower() for word in processed_text if not word.is_stop]\n",
    "# print(tokenized_text_sw)"
   ]
  },
  {
   "cell_type": "code",
   "execution_count": 112,
   "id": "fe698c7f",
   "metadata": {
    "collapsed": true
   },
   "outputs": [
    {
     "name": "stdout",
     "output_type": "stream",
     "text": [
      "CPU times: total: 0 ns\n",
      "Wall time: 9.49 ms\n"
     ]
    },
    {
     "data": {
      "text/plain": [
       "['',\n",
       " '=\"10\" url=\"https://en.wikipedia.org/wiki?curid=10\" title=\"AccessibleComputing\">\\nAccessibleComputing\\n\\n\\n\\n</doc>\\n',\n",
       " '=\"12\" url=\"https://en.wikipedia.org/wiki?curid=12\" title=\"Anarchism\">\\nAnarchism\\n\\nAnarchism is a political philosophy and movement that is sceptical of authority and rejects all involuntary, coercive forms of hierarchy. Anarchism calls for the abolition of the state, which it holds to be unnecessary, undesirable, and harmful. As a historically left-wing movement, placed on the farthest left of the political spectrum, it is usually described alongside communalism and libertarian Marxism as the libertarian wing (libertarian socialism) of the socialist movement, and has a strong historical association with anti-capitalism and socialism.\\nHumans lived in societies without formal hierarchies long before the establishment of formal states, realms, or empires. With the rise of organised hierarchical bodies, scepticism toward authority also rose. Although traces of anarchis']"
      ]
     },
     "execution_count": 112,
     "metadata": {},
     "output_type": "execute_result"
    }
   ],
   "source": [
    "# %%time\n",
    "# from pathlib import Path\n",
    "# txt = Path('../../../enwiki/AA/wiki_00').read_text(encoding='utf8')\n",
    "# txt\n",
    "\n",
    "# !python -m spacy download en_core_web_sm\n",
    "# import spacy\n",
    "# nlp = spacy.load(\"en_core_web_sm\")"
   ]
  }
 ],
 "metadata": {
  "kernelspec": {
   "display_name": "Python 3 (ipykernel)",
   "language": "python",
   "name": "python3"
  },
  "language_info": {
   "codemirror_mode": {
    "name": "ipython",
    "version": 3
   },
   "file_extension": ".py",
   "mimetype": "text/x-python",
   "name": "python",
   "nbconvert_exporter": "python",
   "pygments_lexer": "ipython3",
   "version": "3.8.0"
  }
 },
 "nbformat": 4,
 "nbformat_minor": 5
}
