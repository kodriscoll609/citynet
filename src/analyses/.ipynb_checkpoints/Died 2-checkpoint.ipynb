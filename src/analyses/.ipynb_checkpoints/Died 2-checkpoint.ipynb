{
 "cells": [
  {
   "cell_type": "code",
   "execution_count": 10,
   "id": "cd9bdca5",
   "metadata": {},
   "outputs": [],
   "source": [
    "import os\n",
    "import pandas as pd\n",
    "import warnings\n",
    "from tqdm.notebook import tqdm\n",
    "from nltk.tokenize import RegexpTokenizer\n",
    "from collections import Counter\n",
    "import re\n",
    "import time\n",
    "from itertools import combinations"
   ]
  },
  {
   "cell_type": "markdown",
   "id": "5af097a4",
   "metadata": {},
   "source": [
    "# Settings"
   ]
  },
  {
   "cell_type": "code",
   "execution_count": 36,
   "id": "e8c07086",
   "metadata": {},
   "outputs": [],
   "source": [
    "# Settings that can be changed\n",
    "basefolder = '../../../enwiki_extracted/'\n",
    "corpus_path = '../output/'\n",
    "corpus_name = 'city_matrix.csv'\n",
    "new_corpus = False\n",
    "\n",
    "cities_df = pd.read_csv(f'../input/List_of_cities_300k.csv', delimiter=';')\n",
    "nr_of_cities = 5 # by population numbers\n",
    "window_size = 0"
   ]
  },
  {
   "cell_type": "code",
   "execution_count": 39,
   "id": "da803661",
   "metadata": {
    "scrolled": true
   },
   "outputs": [
    {
     "data": {
      "text/plain": [
       "['berlin', 'london', 'madrid', 'milan', 'paris']"
      ]
     },
     "execution_count": 39,
     "metadata": {},
     "output_type": "execute_result"
    }
   ],
   "source": [
    "list_of_cities = list(cities_df['Mua_en'][0:nr_of_cities].str.lower())\n",
    "city_pairs = list(combinations(list_of_cities, 2))\n",
    "list_of_cities.sort()\n",
    "list_of_cities"
   ]
  },
  {
   "cell_type": "code",
   "execution_count": 34,
   "id": "796cb8a1",
   "metadata": {},
   "outputs": [
    {
     "data": {
      "text/plain": [
       "4950"
      ]
     },
     "execution_count": 34,
     "metadata": {},
     "output_type": "execute_result"
    }
   ],
   "source": [
    "# All possible city pairs for 100 cities\n",
    "len(list(combinations([x for x in range(100)], 2)))"
   ]
  },
  {
   "cell_type": "markdown",
   "id": "acccdbc0",
   "metadata": {},
   "source": [
    "# Get articles per city pair"
   ]
  },
  {
   "cell_type": "code",
   "execution_count": 321,
   "id": "402aa81e",
   "metadata": {
    "scrolled": true
   },
   "outputs": [
    {
     "data": {
      "application/vnd.jupyter.widget-view+json": {
       "model_id": "7d455abb7abd48549ab635d79f57b9ac",
       "version_major": 2,
       "version_minor": 0
      },
      "text/plain": [
       "Output()"
      ]
     },
     "metadata": {},
     "output_type": "display_data"
    },
    {
     "data": {
      "application/vnd.jupyter.widget-view+json": {
       "model_id": "9a4fbb6b2d7742d488d0549d6682b923",
       "version_major": 2,
       "version_minor": 0
      },
      "text/plain": [
       "Folders:   0%|          | 0/62 [00:00<?, ?it/s]"
      ]
     },
     "metadata": {},
     "output_type": "display_data"
    },
    {
     "data": {
      "application/vnd.jupyter.widget-view+json": {
       "model_id": "",
       "version_major": 2,
       "version_minor": 0
      },
      "text/plain": [
       "Sub Folders:   0%|          | 0/4 [00:00<?, ?it/s]"
      ]
     },
     "metadata": {},
     "output_type": "display_data"
    },
    {
     "data": {
      "application/vnd.jupyter.widget-view+json": {
       "model_id": "",
       "version_major": 2,
       "version_minor": 0
      },
      "text/plain": [
       "Sub Folders:   0%|          | 0/6 [00:00<?, ?it/s]"
      ]
     },
     "metadata": {},
     "output_type": "display_data"
    },
    {
     "data": {
      "application/vnd.jupyter.widget-view+json": {
       "model_id": "",
       "version_major": 2,
       "version_minor": 0
      },
      "text/plain": [
       "Sub Folders:   0%|          | 0/6 [00:00<?, ?it/s]"
      ]
     },
     "metadata": {},
     "output_type": "display_data"
    },
    {
     "data": {
      "application/vnd.jupyter.widget-view+json": {
       "model_id": "",
       "version_major": 2,
       "version_minor": 0
      },
      "text/plain": [
       "Sub Folders:   0%|          | 0/1 [00:00<?, ?it/s]"
      ]
     },
     "metadata": {},
     "output_type": "display_data"
    },
    {
     "data": {
      "application/vnd.jupyter.widget-view+json": {
       "model_id": "",
       "version_major": 2,
       "version_minor": 0
      },
      "text/plain": [
       "Sub Folders:   0%|          | 0/4 [00:00<?, ?it/s]"
      ]
     },
     "metadata": {},
     "output_type": "display_data"
    },
    {
     "name": "stdout",
     "output_type": "stream",
     "text": [
      "CPU times: total: 2min 40s\n",
      "Wall time: 3min 36s\n"
     ]
    }
   ],
   "source": [
    "%%time\n",
    "\n",
    "from IPython.display import clear_output\n",
    "from ipywidgets import Output\n",
    "from IPython.display import display\n",
    "out = Output()\n",
    "display(out)\n",
    "\n",
    "def process_wikidump(basefolder=basefolder,\n",
    "                cities=list_of_cities,\n",
    "                city_pairs = city_pairs,\n",
    "                window_size=window_size):\n",
    "#                 corpus_path=corpus_path,\n",
    "#                 corpus_name=corpus_name,\n",
    "#                 new_corpus=new_corpus,\n",
    "    with warnings.catch_warnings():\n",
    "        warnings.simplefilter('ignore')\n",
    "        \n",
    "        # for file in tqdm(os.listdir(basefolder), total=len(os.listdir(basefolder)), desc='files'):\n",
    "        folders = [f.path for f in os.scandir(basefolder) if f.is_dir()]\n",
    "        i = 0\n",
    "        for folder in tqdm(folders, total=len(folders), leave=True, desc='Folders'):\n",
    "            i+=1\n",
    "            subfolders = [ f.path for f in os.scandir(folder) if f.is_dir()]\n",
    "            for subfolder in tqdm(subfolders, total=len(subfolders), leave=False, desc='Sub Folders'):\n",
    "                if 'processed' in subfolder:\n",
    "                    continue\n",
    "\n",
    "                for file in os.listdir(subfolder): # tqdm(os.listdir(subfolder), total=len(os.listdir(subfolder)), leave=True, desc='Text Files'):                            \n",
    "                    with open(os.path.join(subfolder, file), \"r\", encoding=\"utf-8\") as f:\n",
    "                        process_file(file, f.read(), city_pairs) \n",
    "                    with out:\n",
    "                        print(subfolder)\n",
    "                        clear_output(wait=True)\n",
    "                \n",
    "                os.replace(subfolder, subfolder + '_processed')\n",
    "                \n",
    "            if i == 5:\n",
    "                break\n",
    "            \n",
    "\n",
    "process_wikidump()"
   ]
  },
  {
   "cell_type": "code",
   "execution_count": 307,
   "id": "277d5957",
   "metadata": {},
   "outputs": [],
   "source": [
    "import sys\n",
    "tokenizer = RegexpTokenizer('\\w+')\n",
    "\n",
    "def process_file(filename, file_content, city_pairs):\n",
    "    articles = file_content.split('</doc>')\n",
    "    articles = [x.strip() for x in articles if len(x.strip())]\n",
    "    \n",
    "    for article in articles:\n",
    "        for paragraph in article.split('\\n'):\n",
    "            tokenized_paragraph = tokenizer.tokenize(paragraph.lower())\n",
    "        \n",
    "            word_count = Counter(tokenized_paragraph)\n",
    "            words = set(word_count.keys())\n",
    "            \n",
    "            for city_pair in city_pairs:\n",
    "                detected_cities = words.intersection(set(city_pair))\n",
    "\n",
    "                if len(detected_cities) == 2:\n",
    "                    reg_str = \"title=\\\"\" + \"(.*?)\" + \"\\\"\"\n",
    "                    title = re.findall(reg_str, article)\n",
    "\n",
    "                    reg_str = \"id=\\\"\" + \"(.*?)\" + \"\\\"\"\n",
    "                    article_id = re.findall(reg_str, article)\n",
    "                    \n",
    "                    with out:\n",
    "                        print('\\r',filename,\" || \", \"title: \", title[0], \" || \", \"citypair: \", city_pair, end='                                            ')\n",
    "\n",
    "                    content = f'title=\"{title[0]}\", id={article_id[0]} \\n{paragraph} \\n\\n'\n",
    "                    \n",
    "                    textfile = f'../../../enwiki_city_pairs/{city_pair[0]}_{city_pair[1]}.txt'\n",
    "#                     if not os.path.exists(textfile):\n",
    "#                         open(textfile, \"x\")\n",
    "                        \n",
    "#                     with open(textfile, 'r', encoding='utf-16') as f:\n",
    "#                         if f'id={article_id[0]}' not in f.read():\n",
    "                    with open(textfile, 'a+', encoding='utf-16') as f:\n",
    "                        f.writelines(content)\n",
    "#                         else:\n",
    "#                             print('exists!')"
   ]
  },
  {
   "cell_type": "code",
   "execution_count": 5,
   "id": "24b515aa",
   "metadata": {},
   "outputs": [
    {
     "data": {
      "text/plain": [
       "[\"There are plenty of air connections between Yerevan and other regional cities, including Athens, Barcelona, Beirut, Berlin, Bucharest, Brussels, Damascus, Doha, Dubai, Istanbul, Kyiv, Kuwait City, London, Milan, Minsk, Moscow, Paris, Prague, Riga, Rome, Tehran, Tel-Aviv, Tbilisi, Vienna, Venice and Warsaw, as well as daily connections to most major cities within the CIS region. Statistics show that the number of tourists arriving in the country by air transportation increases yearly. In 2018, passenger flow at the two main airports of Armenia reached a record high of 2,856,673 million people. In December 2019, yearly passenger flow exceeded 3,000,000 million people for the first time in Armenia's history.\",\n",
       " \"In 1478, Guido Antonio Vespucci led a Florentine diplomatic mission to Paris and invited his younger cousin, Amerigo Vespucci, to join him. Amerigo's role is not clear, but it was likely as an attache or private secretary. Along the way they had business in Bologna, Milan, and Lyon. Their objective in Paris was to obtain French support for Florence's war with Naples. Louis XI was noncommittal and the diplomatic mission returned to Florence in 1481 with little to show for their efforts.\",\n",
       " '\"Napoleon as Mars the Peacemaker\" had its inception after Canova was hired to make a bust of Napoleon in 1802. The statue was begun in 1803, with Napoleon requesting to be shown in a French General\\'s uniform, Canova rejected this, insisting on an allusion to Mars, the Roman god of War. It was completed in 1806. In 1811, the statue arrived in Paris, but not installed; neither was its bronze copy in the Foro Napoleonico in Milan. In 1815, the original went to the Duke of Wellington, after his victory at Waterloo against Napoleon.',\n",
       " '\"Napoleon as Mars the Peacemaker\" had its inception after Canova was hired to make a bust of Napoleon in 1802. The statue was begun in 1802, with Napoleon requesting to be shown in a French General\\'s uniform, Canova rejected this, insisting on an allusion to Mars, the Roman god of War. It was completed in 1806. In 1811, the statue arrived in Paris, but not installed; neither was its bronze copy in the Foro Napoleonico in Milan. In 1815, the original went to the Duke of Wellington, after his victory at Waterloo against Napoleon.',\n",
       " 'Barcelona ( , , ) is a city on the coast of northeastern Spain. It is the capital and largest city of the autonomous community of Catalonia, as well as the second most populous municipality of Spain. With a population of 1.6 million within city limits, its urban area extends to numerous neighbouring municipalities within the Province of Barcelona and is home to around 4.8 million people, making it the fifth most populous urban area in the European Union after Paris, the Ruhr area, Madrid, and Milan. It is one of the largest metropolises on the Mediterranean Sea, located on the coast between the mouths of the rivers Llobregat and Besòs, and bounded to the west by the Serra de Collserola mountain range, the tallest peak of which is high.',\n",
       " 'Barcelona was the 20th-most-visited city in the world by international visitors and the fifth most visited city in Europe after London, Paris, Istanbul and Rome, with 5.5\\xa0million international visitors in 2011. By 2015, both Prague and Milan had more international visitors. With its Rambles, Barcelona is ranked the most popular city to visit in Spain.',\n",
       " 'During the war Ettore Bugatti was sent away, initially to Milan and later to Paris, but as soon as hostilities had been concluded he returned to his factory at Molsheim. Less than four months after the Versailles Treaty formalised the transfer of Alsace from Germany to France, Bugatti was able to obtain, at the last minute, a stand at the 15th Paris motor show in October 1919. He exhibited three light cars, all of them closely based on their pre-war equivalents, and each fitted with the same overhead camshaft 4-cylinder 1,368cc engine with four valves per cylinder. Smallest of the three was a \"Type 13\" with a racing body (constructed by Bugatti themselves) and using a chassis with a wheelbase. The others were a \"Type 22\" and a \"Type 23\" with wheelbases of respectively.',\n",
       " 'David Robert Joseph Beckham (; born 2 May 1975) is an English former professional footballer, the current president &amp; co-owner of Inter Miami CF and co-owner of Salford City. He played for Manchester United, Preston North End (on loan), Real Madrid, AC Milan (on loan), LA Galaxy, Paris Saint-Germain and the England national team, for which he held the appearance record for an outfield player until 2016. He is the first English player to win league titles in four countries: England, Spain, the United States and France. He retired in May 2013 after a 20-year career, during which he won 19 major trophies.',\n",
       " 'His only red card with Manchester United came on 6 January 2000, in the 2000 FIFA Club World Championship against Necaxa. During his time at Real Madrid, he amassed 41 yellow cards and four red cards in La Liga; he also received a red card in a Copa del Rey match against Valencia on 21 January 2004, in Madrid. His only red card with LA Galaxy came on 15 August 2009, in a 2–0 home defeat to Seattle Sounders in the MLS. He received one red card while at Paris Saint-Germain – picked up in injury time – in a match against Evian on 28 April 2013. Between 2000 and 2013, Beckham played 572 competitive games for England, Milan, LA Galaxy, Manchester United, Real Madrid and PSG, and he received nine red cards – one every 63–64 matches, on average.',\n",
       " 'When considering the commuter belts or metropolitan areas, within the EU (for which comparable data is available) Moscow covers the largest population, followed in order by Istanbul, London, Paris, Madrid, Milan, Ruhr Area, Saint Petersburg, Rhein-Süd, Barcelona and Berlin.']"
      ]
     },
     "execution_count": 5,
     "metadata": {},
     "output_type": "execute_result"
    }
   ],
   "source": [
    "textfile = f'../../../enwiki_city_pairs/paris_milan.txt'\n",
    "\n",
    "with open(textfile, 'r', encoding='utf-16') as f:\n",
    "    parismilan = [x.strip() for x in f.read().split('\\n') if len(x) and 'title=' not in x]\n",
    "    \n",
    "parismilan[:10]"
   ]
  },
  {
   "cell_type": "markdown",
   "id": "e38cc09d",
   "metadata": {},
   "source": [
    "# Topic Modeling"
   ]
  },
  {
   "cell_type": "code",
   "execution_count": 40,
   "id": "02ddd425",
   "metadata": {},
   "outputs": [],
   "source": [
    "import pyLDAvis\n",
    "import pyLDAvis.gensim_models as gensimvis\n",
    "import gensim\n",
    "from gensim.corpora import Dictionary\n",
    "from gensim.models import CoherenceModel\n",
    "import spacy\n",
    "nlp = spacy.load(\"en_core_web_sm\")"
   ]
  },
  {
   "cell_type": "code",
   "execution_count": 366,
   "id": "7dc6de42",
   "metadata": {},
   "outputs": [
    {
     "name": "stdout",
     "output_type": "stream",
     "text": [
      "\n",
      "Saved under mallet-2.0.8.zip\n"
     ]
    }
   ],
   "source": [
    "# import wget\n",
    "# !python -m wget http://mallet.cs.umass.edu/dist/mallet-2.0.8.zip"
   ]
  },
  {
   "cell_type": "markdown",
   "id": "c5174ef4",
   "metadata": {},
   "source": [
    "## Important Functions"
   ]
  },
  {
   "cell_type": "code",
   "execution_count": 13,
   "id": "b3f88150",
   "metadata": {},
   "outputs": [
    {
     "data": {
      "application/vnd.jupyter.widget-view+json": {
       "model_id": "0c75fba109dd49538289b0aba153a9a5",
       "version_major": 2,
       "version_minor": 0
      },
      "text/plain": [
       "  0%|          | 0/10 [00:00<?, ?it/s]"
      ]
     },
     "metadata": {},
     "output_type": "display_data"
    }
   ],
   "source": [
    "def lemmatize(texts, POSfilter=[]):\n",
    "    POStags=[\"PROPN\", \"NOUN\", \"ADJ\", \"VERB\", \"ADV\"]\n",
    "\n",
    "    # Checks if user gave their own (list of) Part of Speech tag(s)\n",
    "    if POSfilter:\n",
    "        if isinstance(POSfilter, list):\n",
    "            for POS in POSfilter:\n",
    "                if POS not in POStags:\n",
    "                    print(f'POSfilter only allows a list with one or multiple from the following tags: {POStags}.')\n",
    "                    return\n",
    "            POStags = POSfilter\n",
    "        \n",
    "        elif isinstance(POSfilter, str):\n",
    "            if POSfilter not in POStags:\n",
    "                print(f'Provided POStag should be in the following list: {POStags}.')\n",
    "                return\n",
    "            POStags = [POSfilter]\n",
    "        else:\n",
    "            print('POSfilter should either be left out, a list of POS tags or a single POS tag.')\n",
    "            return\n",
    "        \n",
    "    # Gets triggered if a single string is given\n",
    "    if isinstance(texts, str) and len(texts):\n",
    "        processed_text = nlp(texts.lower())\n",
    "        lemmatized_text = [word.lemma_.lower() for word in processed_text if word.pos_ in POStags and not word.is_punct and not word.is_stop]\n",
    "        regexed_text = [re.sub(r'\\W+', '', word) for word in lemmatized_text]\n",
    "    \n",
    "    # Gets triggered if an array of strings is given\n",
    "    elif isinstance(texts, (pd.Series, list)) and len(texts):\n",
    "        processed_text = [text for text in tqdm(nlp.pipe(texts, n_process=-1, disable=[\"ner\", \"parser\"]), total=len(texts))]\n",
    "        lemmatized_text = [[word.lemma_.lower() for word in text if word.pos_ in POStags and not word.is_punct and not word.is_stop] for text in processed_text]\n",
    "        regexed_text = [[re.sub(r'\\W+', '', word) for word in text] for text in lemmatized_text]\n",
    "    \n",
    "    else:\n",
    "        print('Your provided text could not be processed. Check if the format of your provided text is either a string or a list of strings.')\n",
    "        return\n",
    "    \n",
    "    return regexed_text\n",
    "\n",
    "lemmatized_text = lemmatize(parismilan[:10])"
   ]
  },
  {
   "cell_type": "code",
   "execution_count": 7,
   "id": "afd9280e",
   "metadata": {},
   "outputs": [],
   "source": [
    "def vectorize(lemmatized_text, MIN_DF = 1, MAX_DF = 0.6):\n",
    "    # MIN_DF minium document frequency\n",
    "    # MAX_DF maximum document frequency\n",
    "\n",
    "    # Get vocabulary\n",
    "    dictionary = Dictionary(lemmatized_text)\n",
    "    dictionary.filter_extremes(no_below=MIN_DF, no_above=MAX_DF)\n",
    "    \n",
    "    corpus = [dictionary.doc2bow(text) for text in lemmatized_text]\n",
    "    \n",
    "    return(dictionary, corpus)"
   ]
  },
  {
   "cell_type": "code",
   "execution_count": 17,
   "id": "cb5ce427",
   "metadata": {},
   "outputs": [],
   "source": [
    "from gensim.models.wrappers import LdaMallet\n",
    "PATH_TO_MALLET = r'C:/mallet/bin/mallet.bat'\n",
    "\n",
    "def train_model(lemmatized_text, dictionary=[], corpus=[], MIN_DF = 1, MAX_DF = 0.6, N_TOPICS = 5, N_ITERATIONS = 1000):\n",
    "    # usually 1000 iterations will do\n",
    "    \n",
    "    # Call vectorization function if either dictionary or corpus is missing as parameter\n",
    "    if not type(dictionary) == gensim.corpora.dictionary.Dictionary or not corpus:\n",
    "        dictionary, corpus = vectorize(lemmatized_text, MIN_DF, MAX_DF)\n",
    "    \n",
    "    print(N_TOPICS)\n",
    "    \n",
    "    lda_model = LdaMallet(PATH_TO_MALLET,\n",
    "                corpus=corpus,\n",
    "                id2word=dictionary,\n",
    "                num_topics=N_TOPICS,\n",
    "                optimize_interval=10,\n",
    "                iterations=N_ITERATIONS)\n",
    "    \n",
    "    coherence_score = CoherenceModel(model=lda_model, texts=lemmatized_text, dictionary=dictionary, coherence='c_v').get_coherence()\n",
    "    \n",
    "    return(lda_model, coherence_score, dictionary, corpus)"
   ]
  },
  {
   "cell_type": "markdown",
   "id": "c44a57b1",
   "metadata": {},
   "source": [
    "## Word Topic Distribution"
   ]
  },
  {
   "cell_type": "code",
   "execution_count": 43,
   "id": "27a1bc98",
   "metadata": {},
   "outputs": [
    {
     "name": "stdout",
     "output_type": "stream",
     "text": [
      "[('city', 0.022), ('barcelona', 0.022), ('napoleon', 0.016), ('la', 0.016), ('international', 0.011), ('london', 0.011), ('real', 0.011), ('owner', 0.011), ('germain', 0.011), ('galaxy', 0.011)]\n",
      "[('card', 0.048), ('madrid', 0.029), ('napoleon', 0.029), ('match', 0.029), ('red', 0.029), ('war', 0.029), ('play', 0.019), ('request', 0.01), ('beckham', 0.01), ('peacemaker', 0.01)]\n"
     ]
    }
   ],
   "source": [
    "MAX_WORDS = 10\n",
    "\n",
    "for i in range(N_TOPICS):\n",
    "    words = model.show_topic(i, topn=MAX_WORDS)\n",
    "    print([(x[0], round(x[1], 3)) for x in words])"
   ]
  },
  {
   "cell_type": "markdown",
   "id": "78dd4a84",
   "metadata": {},
   "source": [
    "## Document Topic Distribution"
   ]
  },
  {
   "cell_type": "code",
   "execution_count": 46,
   "id": "d62ef471",
   "metadata": {},
   "outputs": [
    {
     "name": "stdout",
     "output_type": "stream",
     "text": [
      "Topic distributions for document 0\n",
      "\t [(0, 0.4337883703631253), (1, 0.1628256929806356), (2, 0.1773988097267572), (3, 0.225987126929482)]\n",
      "Topic distributions for document 1\n",
      "\t [(0, 0.40355466170712806), (1, 0.21564374468325456), (2, 0.15102766396483033), (3, 0.229773929644787)]\n",
      "Topic distributions for document 2\n",
      "\t [(0, 0.39401957732231), (1, 0.220972288904759), (2, 0.1703822301782096), (3, 0.21462590359472147)]\n",
      "Topic distributions for document 3\n",
      "\t [(0, 0.3668454753226894), (1, 0.20059171240504356), (2, 0.1567951791783993), (3, 0.2757676330938677)]\n",
      "Topic distributions for document 4\n",
      "\t [(0, 0.3874072337391567), (1, 0.22110848103015396), (2, 0.1699773841879418), (3, 0.2215069010427475)]\n",
      "Topic distributions for document 5\n",
      "\t [(0, 0.38747894997849935), (1, 0.19766838356049), (2, 0.17198409777825072), (3, 0.24286856868275988)]\n",
      "Topic distributions for document 6\n",
      "\t [(0, 0.40942740417301976), (1, 0.263816158685384), (2, 0.16178818539519574), (3, 0.16496825174640056)]\n",
      "Topic distributions for document 7\n",
      "\t [(0, 0.40071584112366504), (1, 0.17659734154501344), (2, 0.17990594515749564), (3, 0.2427808721738258)]\n",
      "Topic distributions for document 8\n",
      "\t [(0, 0.41526208487565053), (1, 0.3059888212478445), (2, 0.12390694002216461), (3, 0.1548421538543403)]\n",
      "Topic distributions for document 9\n",
      "\t [(0, 0.39789553865710137), (1, 0.206659957036332), (2, 0.18829041000257035), (3, 0.20715409430399623)]\n"
     ]
    }
   ],
   "source": [
    "transformed_docs = model.load_document_topics()\n",
    "\n",
    "for i, document in enumerate(transformed_docs):\n",
    "    print('Topic distributions for document {}'.format(i))\n",
    "    print('\\t', [topic for topic in document])"
   ]
  },
  {
   "cell_type": "markdown",
   "id": "8cb53aae",
   "metadata": {},
   "source": [
    "## Sample Text"
   ]
  },
  {
   "cell_type": "code",
   "execution_count": 32,
   "id": "e34c9a27",
   "metadata": {},
   "outputs": [
    {
     "data": {
      "text/plain": [
       "[\"There are plenty of air connections between Yerevan and other regional cities, including Athens, Barcelona, Beirut, Berlin, Bucharest, Brussels, Damascus, Doha, Dubai, Istanbul, Kyiv, Kuwait City, London, Milan, Minsk, Moscow, Paris, Prague, Riga, Rome, Tehran, Tel-Aviv, Tbilisi, Vienna, Venice and Warsaw, as well as daily connections to most major cities within the CIS region. Statistics show that the number of tourists arriving in the country by air transportation increases yearly. In 2018, passenger flow at the two main airports of Armenia reached a record high of 2,856,673 million people. In December 2019, yearly passenger flow exceeded 3,000,000 million people for the first time in Armenia's history.\",\n",
       " \"In 1478, Guido Antonio Vespucci led a Florentine diplomatic mission to Paris and invited his younger cousin, Amerigo Vespucci, to join him. Amerigo's role is not clear, but it was likely as an attache or private secretary. Along the way they had business in Bologna, Milan, and Lyon. Their objective in Paris was to obtain French support for Florence's war with Naples. Louis XI was noncommittal and the diplomatic mission returned to Florence in 1481 with little to show for their efforts.\",\n",
       " '\"Napoleon as Mars the Peacemaker\" had its inception after Canova was hired to make a bust of Napoleon in 1802. The statue was begun in 1803, with Napoleon requesting to be shown in a French General\\'s uniform, Canova rejected this, insisting on an allusion to Mars, the Roman god of War. It was completed in 1806. In 1811, the statue arrived in Paris, but not installed; neither was its bronze copy in the Foro Napoleonico in Milan. In 1815, the original went to the Duke of Wellington, after his victory at Waterloo against Napoleon.',\n",
       " '\"Napoleon as Mars the Peacemaker\" had its inception after Canova was hired to make a bust of Napoleon in 1802. The statue was begun in 1802, with Napoleon requesting to be shown in a French General\\'s uniform, Canova rejected this, insisting on an allusion to Mars, the Roman god of War. It was completed in 1806. In 1811, the statue arrived in Paris, but not installed; neither was its bronze copy in the Foro Napoleonico in Milan. In 1815, the original went to the Duke of Wellington, after his victory at Waterloo against Napoleon.',\n",
       " 'Barcelona ( , , ) is a city on the coast of northeastern Spain. It is the capital and largest city of the autonomous community of Catalonia, as well as the second most populous municipality of Spain. With a population of 1.6 million within city limits, its urban area extends to numerous neighbouring municipalities within the Province of Barcelona and is home to around 4.8 million people, making it the fifth most populous urban area in the European Union after Paris, the Ruhr area, Madrid, and Milan. It is one of the largest metropolises on the Mediterranean Sea, located on the coast between the mouths of the rivers Llobregat and Besòs, and bounded to the west by the Serra de Collserola mountain range, the tallest peak of which is high.',\n",
       " 'Barcelona was the 20th-most-visited city in the world by international visitors and the fifth most visited city in Europe after London, Paris, Istanbul and Rome, with 5.5\\xa0million international visitors in 2011. By 2015, both Prague and Milan had more international visitors. With its Rambles, Barcelona is ranked the most popular city to visit in Spain.',\n",
       " 'During the war Ettore Bugatti was sent away, initially to Milan and later to Paris, but as soon as hostilities had been concluded he returned to his factory at Molsheim. Less than four months after the Versailles Treaty formalised the transfer of Alsace from Germany to France, Bugatti was able to obtain, at the last minute, a stand at the 15th Paris motor show in October 1919. He exhibited three light cars, all of them closely based on their pre-war equivalents, and each fitted with the same overhead camshaft 4-cylinder 1,368cc engine with four valves per cylinder. Smallest of the three was a \"Type 13\" with a racing body (constructed by Bugatti themselves) and using a chassis with a wheelbase. The others were a \"Type 22\" and a \"Type 23\" with wheelbases of respectively.',\n",
       " 'David Robert Joseph Beckham (; born 2 May 1975) is an English former professional footballer, the current president &amp; co-owner of Inter Miami CF and co-owner of Salford City. He played for Manchester United, Preston North End (on loan), Real Madrid, AC Milan (on loan), LA Galaxy, Paris Saint-Germain and the England national team, for which he held the appearance record for an outfield player until 2016. He is the first English player to win league titles in four countries: England, Spain, the United States and France. He retired in May 2013 after a 20-year career, during which he won 19 major trophies.',\n",
       " 'His only red card with Manchester United came on 6 January 2000, in the 2000 FIFA Club World Championship against Necaxa. During his time at Real Madrid, he amassed 41 yellow cards and four red cards in La Liga; he also received a red card in a Copa del Rey match against Valencia on 21 January 2004, in Madrid. His only red card with LA Galaxy came on 15 August 2009, in a 2–0 home defeat to Seattle Sounders in the MLS. He received one red card while at Paris Saint-Germain – picked up in injury time – in a match against Evian on 28 April 2013. Between 2000 and 2013, Beckham played 572 competitive games for England, Milan, LA Galaxy, Manchester United, Real Madrid and PSG, and he received nine red cards – one every 63–64 matches, on average.',\n",
       " 'When considering the commuter belts or metropolitan areas, within the EU (for which comparable data is available) Moscow covers the largest population, followed in order by Istanbul, London, Paris, Madrid, Milan, Ruhr Area, Saint Petersburg, Rhein-Süd, Barcelona and Berlin.']"
      ]
     },
     "execution_count": 32,
     "metadata": {},
     "output_type": "execute_result"
    }
   ],
   "source": [
    "parismilan[:10]"
   ]
  },
  {
   "cell_type": "markdown",
   "id": "36c72883",
   "metadata": {},
   "source": [
    "## Visualisation"
   ]
  },
  {
   "cell_type": "code",
   "execution_count": 20,
   "id": "9f5f5dee",
   "metadata": {},
   "outputs": [
    {
     "name": "stdout",
     "output_type": "stream",
     "text": [
      "4\n"
     ]
    },
    {
     "name": "stderr",
     "output_type": "stream",
     "text": [
      "c:\\users\\deejay\\personal files [local]\\applied data science\\thesis - citynet\\citynet\\venv_citynet\\lib\\site-packages\\pandas\\core\\internals\\blocks.py:402: RuntimeWarning: divide by zero encountered in log\n",
      "  result = func(self.values, **kwargs)\n",
      "c:\\users\\deejay\\personal files [local]\\applied data science\\thesis - citynet\\citynet\\venv_citynet\\lib\\site-packages\\pyLDAvis\\_prepare.py:246: FutureWarning: In a future version of pandas all arguments of DataFrame.drop except for the argument 'labels' will be keyword-only.\n",
      "  default_term_info = default_term_info.sort_values(\n",
      "c:\\users\\deejay\\personal files [local]\\applied data science\\thesis - citynet\\citynet\\venv_citynet\\lib\\site-packages\\pandas\\core\\internals\\blocks.py:402: RuntimeWarning: divide by zero encountered in log\n",
      "  result = func(self.values, **kwargs)\n"
     ]
    },
    {
     "data": {
      "text/html": [
       "\n",
       "<link rel=\"stylesheet\" type=\"text/css\" href=\"https://cdn.jsdelivr.net/gh/bmabey/pyLDAvis@3.3.1/pyLDAvis/js/ldavis.v1.0.0.css\">\n",
       "\n",
       "\n",
       "<div id=\"ldavis_el113322672263889184243514066\"></div>\n",
       "<script type=\"text/javascript\">\n",
       "\n",
       "var ldavis_el113322672263889184243514066_data = {\"mdsDat\": {\"x\": [-0.0603661736927049, 0.23335760306318779, 0.16264990374672672, -0.3356413331172098], \"y\": [0.26807586811097023, 0.05854221566077602, -0.21494475086259804, -0.111673332909148], \"topics\": [1, 2, 3, 4], \"cluster\": [1, 1, 1, 1], \"Freq\": [40.33699164940746, 21.898056252080565, 21.50209706319911, 16.262855035312864]}, \"tinfo\": {\"Term\": [\"card\", \"match\", \"barcelona\", \"war\", \"statue\", \"passenger\", \"bronze\", \"yearly\", \"large\", \"istanbul\", \"madrid\", \"uniform\", \"foro\", \"play\", \"area\", \"arrive\", \"red\", \"napoleon\", \"canova\", \"mars\", \"receive\", \"international\", \"prague\", \"populous\", \"god\", \"rome\", \"florence\", \"coast\", \"air\", \"show\", \"airport\", \"armenia\", \"athens\", \"beirut\", \"brussels\", \"bucharest\", \"cis\", \"country\", \"december\", \"history\", \"include\", \"main\", \"number\", \"reach\", \"region\", \"regional\", \"riga\", \"statistic\", \"tourist\", \"warsaw\", \"yerevan\", \"antonio\", \"clear\", \"effort\", \"invite\", \"louis\", \"naples\", \"private\", \"role\", \"young\", \"duke\", \"insist\", \"municipality\", \"urban\", \"cylinder\", \"wheelbase\", \"germain\", \"owner\", \"la\", \"barcelona\", \"london\", \"bugatti\", \"galaxy\", \"real\", \"international\", \"receive\", \"city\", \"napoleon\", \"united\", \"statue\", \"area\", \"red\", \"card\", \"air\", \"arrive\", \"minsk\", \"plenty\", \"bologna\", \"florentine\", \"guido\", \"lead\", \"secretary\", \"support\", \"catalonia\", \"extend\", \"mediterranean\", \"metropolis\", \"mountain\", \"northeastern\", \"river\", \"europe\", \"15th\", \"base\", \"body\", \"camshaft\", \"car\", \"chassis\", \"germany\", \"initially\", \"motor\", \"overhead\", \"race\", \"small\", \"stand\", \"ac\", \"match\", \"play\", \"card\", \"war\", \"madrid\", \"red\", \"napoleon\", \"berlin\", \"city\", \"istanbul\", \"london\", \"major\", \"moscow\", \"time\", \"diplomatic\", \"french\", \"return\", \"vespucci\", \"canova\", \"general\", \"hire\", \"inception\", \"aviv\", \"daily\", \"doha\", \"dubai\", \"increase\", \"kuwait\", \"kyiv\", \"tbilisi\", \"transportation\", \"venice\", \"vienna\", \"attache\", \"join\", \"lyon\", \"noncommittal\", \"objective\", \"xi\", \"foro\", \"uniform\", \"collserola\", \"limit\", \"locate\", \"make\", \"mouth\", \"province\", \"serra\", \"tall\", \"20th\", \"rank\", \"factory\", \"arrive\", \"city\", \"canova\", \"spain\", \"mars\", \"war\", \"madrid\", \"napoleon\", \"berlin\", \"connection\", \"flow\", \"high\", \"major\", \"people\", \"prague\", \"rome\", \"damascus\", \"exceed\", \"passenger\", \"tehran\", \"tel\", \"yearly\", \"business\", \"cousin\", \"bronze\", \"bound\", \"capital\", \"de\", \"range\", \"sea\", \"alsace\", \"conclude\", \"engine\", \"fit\", \"formalise\", \"light\", \"versailles\", \"appearance\", \"david\", \"league\", \"outfield\", \"president\", \"retire\", \"year\", \"game\", \"rey\", \"istanbul\", \"large\", \"statue\", \"area\", \"barcelona\", \"air\", \"city\", \"people\", \"prague\", \"record\", \"rome\", \"time\", \"amerigo\", \"florence\", \"obtain\", \"allusion\", \"begin\", \"canova\", \"copy\", \"god\", \"mars\"], \"Freq\": [7.0, 3.0, 6.0, 5.0, 4.0, 2.0, 2.0, 2.0, 3.0, 3.0, 6.0, 2.0, 2.0, 2.0, 5.0, 3.0, 6.0, 8.0, 4.0, 4.0, 3.0, 3.0, 2.0, 2.0, 2.0, 2.0, 2.0, 2.0, 2.0, 2.0, 1.0602236602931687, 2.1204473205863374, 1.0602236602931687, 1.0602236602931687, 1.0602236602931687, 1.0602236602931687, 1.0602236602931687, 2.1204473205863374, 1.0602236602931687, 1.0602236602931687, 1.0602236602931687, 1.0602236602931687, 1.0602236602931687, 1.0602236602931687, 1.0602236602931687, 1.0602236602931687, 1.0602236602931687, 1.0602236602931687, 1.0602236602931687, 1.0602236602931687, 1.0602236602931687, 1.0602236602931687, 1.0602236602931687, 1.0602236602931687, 1.0602236602931687, 1.0602236602931687, 1.0602236602931687, 1.0602236602931687, 1.0602236602931687, 1.0602236602931687, 2.1204473205863374, 2.1204473205863374, 2.1204473205863374, 2.1204473205863374, 2.1204473205863374, 2.1204473205863374, 2.1204473205863374, 2.1204473205863374, 3.1806709808795066, 4.240894641172675, 2.1204473205863374, 2.1204473205863374, 2.1204473205863374, 2.1204473205863374, 2.1204473205863374, 2.1204473205863374, 4.240894641172675, 3.1806709808795066, 2.1204473205863374, 2.1204473205863374, 2.1204473205863374, 2.1204473205863374, 2.1204473205863374, 1.0602236602931687, 1.0602236602931687, 1.0127851016587264, 1.0127851016587264, 1.0127851016587264, 1.0127851016587264, 1.0127851016587264, 1.0127851016587264, 1.0127851016587264, 1.0127851016587264, 1.0127851016587264, 1.0127851016587264, 1.0127851016587264, 1.0127851016587264, 1.0127851016587264, 1.0127851016587264, 1.0127851016587264, 1.0127851016587264, 1.0127851016587264, 1.0127851016587264, 1.0127851016587264, 1.0127851016587264, 1.0127851016587264, 1.0127851016587264, 1.0127851016587264, 1.0127851016587264, 1.0127851016587264, 1.0127851016587264, 1.0127851016587264, 1.0127851016587264, 1.0127851016587264, 1.0127851016587264, 3.038355304976179, 2.0255702033174527, 5.063925508293631, 3.038355304976179, 3.038355304976179, 3.038355304976179, 3.038355304976179, 1.0127851016587264, 1.0127851016587264, 1.0127851016587264, 1.0127851016587264, 1.0127851016587264, 1.0127851016587264, 1.0127851016587264, 1.0127851016587264, 1.0127851016587264, 1.0127851016587264, 1.0127851016587264, 1.0127851016587264, 1.0127851016587264, 1.0127851016587264, 1.0127851016587264, 1.0240107611285911, 1.0240107611285911, 1.0240107611285911, 1.0240107611285911, 1.0240107611285911, 1.0240107611285911, 1.0240107611285911, 1.0240107611285911, 1.0240107611285911, 1.0240107611285911, 1.0240107611285911, 1.0240107611285911, 1.0240107611285911, 1.0240107611285911, 1.0240107611285911, 1.0240107611285911, 1.0240107611285911, 2.0480215222571823, 2.0480215222571823, 1.0240107611285911, 1.0240107611285911, 1.0240107611285911, 1.0240107611285911, 1.0240107611285911, 1.0240107611285911, 1.0240107611285911, 1.0240107611285911, 1.0240107611285911, 1.0240107611285911, 1.0240107611285911, 2.0480215222571823, 4.0960430445143645, 2.0480215222571823, 2.0480215222571823, 2.0480215222571823, 2.0480215222571823, 2.0480215222571823, 2.0480215222571823, 1.0240107611285911, 1.0240107611285911, 1.0240107611285911, 1.0240107611285911, 1.0240107611285911, 1.0240107611285911, 1.0240107611285911, 1.0240107611285911, 1.0429911029313985, 1.0429911029313985, 2.085982205862797, 1.0429911029313985, 1.0429911029313985, 2.085982205862797, 1.0429911029313985, 1.0429911029313985, 2.085982205862797, 1.0429911029313985, 1.0429911029313985, 1.0429911029313985, 1.0429911029313985, 1.0429911029313985, 1.0429911029313985, 1.0429911029313985, 1.0429911029313985, 1.0429911029313985, 1.0429911029313985, 1.0429911029313985, 1.0429911029313985, 1.0429911029313985, 1.0429911029313985, 1.0429911029313985, 1.0429911029313985, 1.0429911029313985, 1.0429911029313985, 1.0429911029313985, 1.0429911029313985, 1.0429911029313985, 2.085982205862797, 2.085982205862797, 2.085982205862797, 2.085982205862797, 2.085982205862797, 1.0429911029313985, 1.0429911029313985, 1.0429911029313985, 1.0429911029313985, 1.0429911029313985, 1.0429911029313985, 1.0429911029313985, 1.0429911029313985, 1.0429911029313985, 1.0429911029313985, 1.0429911029313985, 1.0429911029313985, 1.0429911029313985, 1.0429911029313985, 1.0429911029313985, 1.0429911029313985], \"Total\": [7.0, 3.0, 6.0, 5.0, 4.0, 2.0, 2.0, 2.0, 3.0, 3.0, 6.0, 2.0, 2.0, 2.0, 5.0, 3.0, 6.0, 8.0, 4.0, 4.0, 3.0, 3.0, 2.0, 2.0, 2.0, 2.0, 2.0, 2.0, 2.0, 2.0, 1.0602236602931687, 2.1204473205863374, 1.0602236602931687, 1.0602236602931687, 1.0602236602931687, 1.0602236602931687, 1.0602236602931687, 2.1204473205863374, 1.0602236602931687, 1.0602236602931687, 1.0602236602931687, 1.0602236602931687, 1.0602236602931687, 1.0602236602931687, 1.0602236602931687, 1.0602236602931687, 1.0602236602931687, 1.0602236602931687, 1.0602236602931687, 1.0602236602931687, 1.0602236602931687, 1.0602236602931687, 1.0602236602931687, 1.0602236602931687, 1.0602236602931687, 1.0602236602931687, 1.0602236602931687, 1.0602236602931687, 1.0602236602931687, 1.0602236602931687, 2.1204473205863374, 2.1204473205863374, 2.1204473205863374, 2.1204473205863374, 2.1204473205863374, 2.1204473205863374, 2.1204473205863374, 2.1204473205863374, 4.193456082538233, 6.3268768470354715, 3.133232422245064, 3.133232422245064, 3.133232422245064, 3.1444580817149284, 3.1634384235177357, 3.1634384235177357, 10.392713890277165, 8.267047808112867, 4.157243183373655, 4.206429526449135, 5.219214628107861, 6.182813386691108, 7.184372828879969, 2.1032147632245675, 3.108245182550351, 1.0127851016587264, 1.0127851016587264, 1.0127851016587264, 1.0127851016587264, 1.0127851016587264, 1.0127851016587264, 1.0127851016587264, 1.0127851016587264, 1.0127851016587264, 1.0127851016587264, 1.0127851016587264, 1.0127851016587264, 1.0127851016587264, 1.0127851016587264, 1.0127851016587264, 1.0127851016587264, 1.0127851016587264, 1.0127851016587264, 1.0127851016587264, 1.0127851016587264, 1.0127851016587264, 1.0127851016587264, 1.0127851016587264, 1.0127851016587264, 1.0127851016587264, 1.0127851016587264, 1.0127851016587264, 1.0127851016587264, 1.0127851016587264, 1.0127851016587264, 3.038355304976179, 2.0255702033174527, 7.184372828879969, 5.086376827233361, 6.1466004875265305, 6.182813386691108, 8.267047808112867, 2.0367958627873177, 10.392713890277165, 3.0987673075215234, 3.133232422245064, 2.0367958627873177, 2.073008761951895, 3.1159998648832934, 2.0367958627873177, 3.097019523080486, 2.073008761951895, 2.073008761951895, 4.103797726847307, 2.073008761951895, 2.0367958627873177, 2.073008761951895, 1.0240107611285911, 1.0240107611285911, 1.0240107611285911, 1.0240107611285911, 1.0240107611285911, 1.0240107611285911, 1.0240107611285911, 1.0240107611285911, 1.0240107611285911, 1.0240107611285911, 1.0240107611285911, 1.0240107611285911, 1.0240107611285911, 1.0240107611285911, 1.0240107611285911, 1.0240107611285911, 1.0240107611285911, 2.0480215222571823, 2.0480215222571823, 1.0240107611285911, 1.0240107611285911, 1.0240107611285911, 1.0240107611285911, 1.0240107611285911, 1.0240107611285911, 1.0240107611285911, 1.0240107611285911, 1.0240107611285911, 1.0240107611285911, 1.0240107611285911, 3.108245182550351, 10.392713890277165, 4.103797726847307, 4.121030284209077, 4.151236285481749, 5.086376827233361, 6.1466004875265305, 8.267047808112867, 2.0367958627873177, 2.08423442142176, 2.08423442142176, 2.08423442142176, 2.0367958627873177, 3.1272255243531584, 2.0670018640599896, 2.0670018640599896, 1.0429911029313985, 1.0429911029313985, 2.085982205862797, 1.0429911029313985, 1.0429911029313985, 2.085982205862797, 1.0429911029313985, 1.0429911029313985, 2.085982205862797, 1.0429911029313985, 1.0429911029313985, 1.0429911029313985, 1.0429911029313985, 1.0429911029313985, 1.0429911029313985, 1.0429911029313985, 1.0429911029313985, 1.0429911029313985, 1.0429911029313985, 1.0429911029313985, 1.0429911029313985, 1.0429911029313985, 1.0429911029313985, 1.0429911029313985, 1.0429911029313985, 1.0429911029313985, 1.0429911029313985, 1.0429911029313985, 1.0429911029313985, 1.0429911029313985, 3.0987673075215234, 3.0987673075215234, 4.206429526449135, 5.219214628107861, 6.3268768470354715, 2.1032147632245675, 10.392713890277165, 3.1272255243531584, 2.0670018640599896, 2.1032147632245675, 2.0670018640599896, 3.1159998648832934, 2.1032147632245675, 2.0670018640599896, 2.1032147632245675, 2.1032147632245675, 2.1032147632245675, 4.103797726847307, 2.1032147632245675, 2.0670018640599896, 4.151236285481749], \"Category\": [\"Default\", \"Default\", \"Default\", \"Default\", \"Default\", \"Default\", \"Default\", \"Default\", \"Default\", \"Default\", \"Default\", \"Default\", \"Default\", \"Default\", \"Default\", \"Default\", \"Default\", \"Default\", \"Default\", \"Default\", \"Default\", \"Default\", \"Default\", \"Default\", \"Default\", \"Default\", \"Default\", \"Default\", \"Default\", \"Default\", \"Topic1\", \"Topic1\", \"Topic1\", \"Topic1\", \"Topic1\", \"Topic1\", \"Topic1\", \"Topic1\", \"Topic1\", \"Topic1\", \"Topic1\", \"Topic1\", \"Topic1\", \"Topic1\", \"Topic1\", \"Topic1\", \"Topic1\", \"Topic1\", \"Topic1\", \"Topic1\", \"Topic1\", \"Topic1\", \"Topic1\", \"Topic1\", \"Topic1\", \"Topic1\", \"Topic1\", \"Topic1\", \"Topic1\", \"Topic1\", \"Topic1\", \"Topic1\", \"Topic1\", \"Topic1\", \"Topic1\", \"Topic1\", \"Topic1\", \"Topic1\", \"Topic1\", \"Topic1\", \"Topic1\", \"Topic1\", \"Topic1\", \"Topic1\", \"Topic1\", \"Topic1\", \"Topic1\", \"Topic1\", \"Topic1\", \"Topic1\", \"Topic1\", \"Topic1\", \"Topic1\", \"Topic1\", \"Topic1\", \"Topic2\", \"Topic2\", \"Topic2\", \"Topic2\", \"Topic2\", \"Topic2\", \"Topic2\", \"Topic2\", \"Topic2\", \"Topic2\", \"Topic2\", \"Topic2\", \"Topic2\", \"Topic2\", \"Topic2\", \"Topic2\", \"Topic2\", \"Topic2\", \"Topic2\", \"Topic2\", \"Topic2\", \"Topic2\", \"Topic2\", \"Topic2\", \"Topic2\", \"Topic2\", \"Topic2\", \"Topic2\", \"Topic2\", \"Topic2\", \"Topic2\", \"Topic2\", \"Topic2\", \"Topic2\", \"Topic2\", \"Topic2\", \"Topic2\", \"Topic2\", \"Topic2\", \"Topic2\", \"Topic2\", \"Topic2\", \"Topic2\", \"Topic2\", \"Topic2\", \"Topic2\", \"Topic2\", \"Topic2\", \"Topic2\", \"Topic2\", \"Topic2\", \"Topic2\", \"Topic3\", \"Topic3\", \"Topic3\", \"Topic3\", \"Topic3\", \"Topic3\", \"Topic3\", \"Topic3\", \"Topic3\", \"Topic3\", \"Topic3\", \"Topic3\", \"Topic3\", \"Topic3\", \"Topic3\", \"Topic3\", \"Topic3\", \"Topic3\", \"Topic3\", \"Topic3\", \"Topic3\", \"Topic3\", \"Topic3\", \"Topic3\", \"Topic3\", \"Topic3\", \"Topic3\", \"Topic3\", \"Topic3\", \"Topic3\", \"Topic3\", \"Topic3\", \"Topic3\", \"Topic3\", \"Topic3\", \"Topic3\", \"Topic3\", \"Topic3\", \"Topic3\", \"Topic3\", \"Topic3\", \"Topic3\", \"Topic3\", \"Topic3\", \"Topic3\", \"Topic3\", \"Topic4\", \"Topic4\", \"Topic4\", \"Topic4\", \"Topic4\", \"Topic4\", \"Topic4\", \"Topic4\", \"Topic4\", \"Topic4\", \"Topic4\", \"Topic4\", \"Topic4\", \"Topic4\", \"Topic4\", \"Topic4\", \"Topic4\", \"Topic4\", \"Topic4\", \"Topic4\", \"Topic4\", \"Topic4\", \"Topic4\", \"Topic4\", \"Topic4\", \"Topic4\", \"Topic4\", \"Topic4\", \"Topic4\", \"Topic4\", \"Topic4\", \"Topic4\", \"Topic4\", \"Topic4\", \"Topic4\", \"Topic4\", \"Topic4\", \"Topic4\", \"Topic4\", \"Topic4\", \"Topic4\", \"Topic4\", \"Topic4\", \"Topic4\", \"Topic4\", \"Topic4\", \"Topic4\", \"Topic4\", \"Topic4\", \"Topic4\", \"Topic4\"], \"logprob\": [30.0, 29.0, 28.0, 27.0, 26.0, 25.0, 24.0, 23.0, 22.0, 21.0, 20.0, 19.0, 18.0, 17.0, 16.0, 15.0, 14.0, 13.0, 12.0, 11.0, 10.0, 9.0, 8.0, 7.0, 6.0, 5.0, 4.0, 3.0, 2.0, 1.0, -5.2095, -4.5163, -5.2095, -5.2095, -5.2095, -5.2095, -5.2095, -4.5163, -5.2095, -5.2095, -5.2095, -5.2095, -5.2095, -5.2095, -5.2095, -5.2095, -5.2095, -5.2095, -5.2095, -5.2095, -5.2095, -5.2095, -5.2095, -5.2095, -5.2095, -5.2095, -5.2095, -5.2095, -5.2095, -5.2095, -4.5163, -4.5163, -4.5163, -4.5163, -4.5163, -4.5163, -4.5163, -4.5163, -4.1109, -3.8232, -4.5163, -4.5163, -4.5163, -4.5163, -4.5163, -4.5163, -3.8232, -4.1109, -4.5163, -4.5163, -4.5163, -4.5163, -4.5163, -5.2095, -5.2095, -4.6444, -4.6444, -4.6444, -4.6444, -4.6444, -4.6444, -4.6444, -4.6444, -4.6444, -4.6444, -4.6444, -4.6444, -4.6444, -4.6444, -4.6444, -4.6444, -4.6444, -4.6444, -4.6444, -4.6444, -4.6444, -4.6444, -4.6444, -4.6444, -4.6444, -4.6444, -4.6444, -4.6444, -4.6444, -4.6444, -3.5458, -3.9512, -3.035, -3.5458, -3.5458, -3.5458, -3.5458, -4.6444, -4.6444, -4.6444, -4.6444, -4.6444, -4.6444, -4.6444, -4.6444, -4.6444, -4.6444, -4.6444, -4.6444, -4.6444, -4.6444, -4.6444, -4.6151, -4.6151, -4.6151, -4.6151, -4.6151, -4.6151, -4.6151, -4.6151, -4.6151, -4.6151, -4.6151, -4.6151, -4.6151, -4.6151, -4.6151, -4.6151, -4.6151, -3.922, -3.922, -4.6151, -4.6151, -4.6151, -4.6151, -4.6151, -4.6151, -4.6151, -4.6151, -4.6151, -4.6151, -4.6151, -3.922, -3.2288, -3.922, -3.922, -3.922, -3.922, -3.922, -3.922, -4.6151, -4.6151, -4.6151, -4.6151, -4.6151, -4.6151, -4.6151, -4.6151, -4.3175, -4.3175, -3.6243, -4.3175, -4.3175, -3.6243, -4.3175, -4.3175, -3.6243, -4.3175, -4.3175, -4.3175, -4.3175, -4.3175, -4.3175, -4.3175, -4.3175, -4.3175, -4.3175, -4.3175, -4.3175, -4.3175, -4.3175, -4.3175, -4.3175, -4.3175, -4.3175, -4.3175, -4.3175, -4.3175, -3.6243, -3.6243, -3.6243, -3.6243, -3.6243, -4.3175, -4.3175, -4.3175, -4.3175, -4.3175, -4.3175, -4.3175, -4.3175, -4.3175, -4.3175, -4.3175, -4.3175, -4.3175, -4.3175, -4.3175, -4.3175], \"loglift\": [30.0, 29.0, 28.0, 27.0, 26.0, 25.0, 24.0, 23.0, 22.0, 21.0, 20.0, 19.0, 18.0, 17.0, 16.0, 15.0, 14.0, 13.0, 12.0, 11.0, 10.0, 9.0, 8.0, 7.0, 6.0, 5.0, 4.0, 3.0, 2.0, 1.0, 0.9079, 0.9079, 0.9079, 0.9079, 0.9079, 0.9079, 0.9079, 0.9079, 0.9079, 0.9079, 0.9079, 0.9079, 0.9079, 0.9079, 0.9079, 0.9079, 0.9079, 0.9079, 0.9079, 0.9079, 0.9079, 0.9079, 0.9079, 0.9079, 0.9079, 0.9079, 0.9079, 0.9079, 0.9079, 0.9079, 0.9079, 0.9079, 0.9079, 0.9079, 0.9079, 0.9079, 0.9079, 0.9079, 0.6315, 0.5079, 0.5175, 0.5175, 0.5175, 0.5139, 0.5079, 0.5079, 0.0116, -0.0473, 0.2347, 0.2229, 0.0072, -0.1622, -0.3124, 0.2229, -0.1677, 1.5188, 1.5188, 1.5188, 1.5188, 1.5188, 1.5188, 1.5188, 1.5188, 1.5188, 1.5188, 1.5188, 1.5188, 1.5188, 1.5188, 1.5188, 1.5188, 1.5188, 1.5188, 1.5188, 1.5188, 1.5188, 1.5188, 1.5188, 1.5188, 1.5188, 1.5188, 1.5188, 1.5188, 1.5188, 1.5188, 1.5188, 1.5188, 1.169, 1.0035, 0.8142, 0.8083, 0.5178, 0.8201, -0.8096, 0.4005, 0.3894, 0.8201, 0.8025, 0.3949, 0.8201, 0.401, 0.8025, 0.8025, 0.1196, 0.8025, 0.8201, 0.8025, 1.537, 1.537, 1.537, 1.537, 1.537, 1.537, 1.537, 1.537, 1.537, 1.537, 1.537, 1.537, 1.537, 1.537, 1.537, 1.537, 1.537, 1.537, 1.537, 1.537, 1.537, 1.537, 1.537, 1.537, 1.537, 1.537, 1.537, 1.537, 1.537, 1.537, 1.1198, 0.6059, 0.842, 0.8378, 0.8305, 0.6273, 0.438, 0.1416, 0.8494, 0.8263, 0.8263, 0.8263, 0.8494, 0.4206, 0.8346, 0.8346, 1.8163, 1.8163, 1.8163, 1.8163, 1.8163, 1.8163, 1.8163, 1.8163, 1.8163, 1.8163, 1.8163, 1.8163, 1.8163, 1.8163, 1.8163, 1.8163, 1.8163, 1.8163, 1.8163, 1.8163, 1.8163, 1.8163, 1.8163, 1.8163, 1.8163, 1.8163, 1.8163, 1.8163, 1.8163, 1.8163, 1.4205, 1.4205, 1.1149, 0.8992, 0.7067, 1.1149, -0.4827, 0.7182, 1.1323, 1.1149, 1.1323, 0.7218, 1.1149, 1.1323, 1.1149, 1.1149, 1.1149, 0.4465, 1.1149, 1.1323, 0.435]}, \"token.table\": {\"Topic\": [2, 3, 2, 1, 4, 1, 1, 4, 4, 1, 4, 1, 4, 1, 2, 4, 1, 1, 3, 1, 3, 3, 1, 4, 2, 1, 4, 1, 2, 3, 2, 2, 4, 4, 1, 1, 1, 2, 4, 2, 2, 3, 4, 4, 2, 1, 2, 2, 2, 1, 1, 2, 3, 4, 1, 2, 4, 3, 4, 1, 3, 1, 4, 1, 4, 1, 3, 4, 4, 4, 1, 2, 3, 3, 3, 1, 1, 4, 2, 4, 2, 3, 4, 3, 4, 2, 1, 3, 4, 3, 1, 2, 3, 1, 2, 4, 1, 2, 1, 2, 3, 4, 2, 1, 3, 2, 3, 1, 1, 2, 1, 3, 2, 1, 1, 4, 1, 2, 4, 3, 3, 3, 1, 2, 2, 4, 2, 4, 4, 3, 3, 1, 2, 1, 3, 1, 2, 3, 1, 2, 3, 3, 1, 3, 4, 2, 2, 2, 2, 1, 2, 2, 2, 3, 1, 1, 1, 2, 3, 3, 2, 1, 3, 1, 4, 4, 2, 1, 4, 1, 3, 4, 2, 2, 3, 4, 3, 4, 4, 1, 3, 2, 4, 3, 1, 1, 3, 1, 4, 1, 4, 1, 2, 3, 1, 1, 4, 1, 2, 4, 1, 2, 1, 3, 4, 4, 2, 3, 1, 4, 2, 1, 2, 3, 2, 1, 1, 4, 2, 3, 3, 4, 4, 1, 2, 4, 1, 3, 3, 1, 2, 3, 1, 3, 4, 1, 2, 3, 2, 3, 1, 1, 3, 4, 4, 1, 1], \"Freq\": [0.9873762937095075, 0.9765522374958949, 0.9873762937095075, 0.4754626191701121, 0.4754626191701121, 0.9431972115425947, 0.4754626191701121, 0.4754626191701121, 0.9587809495109124, 0.4754626191701121, 0.4754626191701121, 0.9431972115425947, 0.9587809495109124, 0.3831994164848259, 0.19159970824241296, 0.3831994164848259, 0.9431972115425947, 0.3217249416532477, 0.6434498833064954, 0.9431972115425947, 0.9765522374958949, 0.9765522374958949, 0.6322234645477958, 0.3161117322738979, 0.9873762937095075, 0.4754626191701121, 0.4754626191701121, 0.9431972115425947, 0.49096721879212696, 0.49096721879212696, 0.9873762937095075, 0.9873762937095075, 0.9587809495109124, 0.9587809495109124, 0.9431972115425947, 0.9431972115425947, 0.638318429810877, 0.3191592149054385, 0.9587809495109124, 0.9873762937095075, 0.24367672740250723, 0.48735345480501446, 0.24367672740250723, 0.9587809495109124, 0.9873762937095075, 0.27838198930327457, 0.6959549732581864, 0.9873762937095075, 0.9873762937095075, 0.9431972115425947, 0.3848850302462549, 0.09622125756156373, 0.3848850302462549, 0.09622125756156373, 0.9431972115425947, 0.4864342712826454, 0.4864342712826454, 0.9765522374958949, 0.9587809495109124, 0.4797924790618563, 0.4797924790618563, 0.4754626191701121, 0.4754626191701121, 0.9431972115425947, 0.9587809495109124, 0.9431972115425947, 0.9765522374958949, 0.9587809495109124, 0.9587809495109124, 0.9587809495109124, 0.9431972115425947, 0.49096721879212696, 0.49096721879212696, 0.9765522374958949, 0.9765522374958949, 0.9431972115425947, 0.9431972115425947, 0.9587809495109124, 0.9873762937095075, 0.9587809495109124, 0.9873762937095075, 0.9765522374958949, 0.9587809495109124, 0.4837925003298291, 0.4837925003298291, 0.9873762937095075, 0.4797924790618563, 0.4797924790618563, 0.9587809495109124, 0.9765522374958949, 0.3228910869135686, 0.3228910869135686, 0.3228910869135686, 0.638318429810877, 0.3191592149054385, 0.9587809495109124, 0.4823906287103312, 0.4823906287103312, 0.9431972115425947, 0.9873762937095075, 0.4837925003298291, 0.4837925003298291, 0.9873762937095075, 0.4797924790618563, 0.4797924790618563, 0.49096721879212696, 0.49096721879212696, 0.9431972115425947, 0.4823906287103312, 0.4823906287103312, 0.9431972115425947, 0.9765522374958949, 0.9873762937095075, 0.9431972115425947, 0.6322234645477958, 0.3161117322738979, 0.9431972115425947, 0.3227089680379475, 0.645417936075895, 0.9765522374958949, 0.9765522374958949, 0.9765522374958949, 0.7154003621242522, 0.23846678737475072, 0.3227089680379475, 0.645417936075895, 0.9873762937095075, 0.9587809495109124, 0.9587809495109124, 0.9765522374958949, 0.9765522374958949, 0.638318429810877, 0.3191592149054385, 0.9431972115425947, 0.9765522374958949, 0.16269155641875996, 0.48807466925627985, 0.3253831128375199, 0.9431972115425947, 0.49096721879212696, 0.49096721879212696, 0.9765522374958949, 0.24089209363902792, 0.48178418727805583, 0.24089209363902792, 0.9873762937095075, 0.9873762937095075, 0.9873762937095075, 0.9873762937095075, 0.4823906287103312, 0.4823906287103312, 0.9873762937095075, 0.9873762937095075, 0.9765522374958949, 0.9431972115425947, 0.9431972115425947, 0.36288649462701184, 0.36288649462701184, 0.24192432975134123, 0.9765522374958949, 0.9873762937095075, 0.9431972115425947, 0.9765522374958949, 0.4754626191701121, 0.4754626191701121, 0.9587809495109124, 0.9873762937095075, 0.9431972115425947, 0.9587809495109124, 0.319772268489284, 0.319772268489284, 0.319772268489284, 0.9873762937095075, 0.9873762937095075, 0.4837925003298291, 0.4837925003298291, 0.4837925003298291, 0.4837925003298291, 0.9587809495109124, 0.9431972115425947, 0.9765522374958949, 0.9873762937095075, 0.9587809495109124, 0.9765522374958949, 0.9431972115425947, 0.6360396443603528, 0.3180198221801764, 0.6322234645477958, 0.3161117322738979, 0.4754626191701121, 0.4754626191701121, 0.32347733546432517, 0.4852160031964878, 0.16173866773216258, 0.9431972115425947, 0.9431972115425947, 0.9587809495109124, 0.4823906287103312, 0.4823906287103312, 0.9587809495109124, 0.9431972115425947, 0.9873762937095075, 0.9431972115425947, 0.4837925003298291, 0.4837925003298291, 0.9587809495109124, 0.9873762937095075, 0.9765522374958949, 0.4754626191701121, 0.4754626191701121, 0.9873762937095075, 0.2426577654213778, 0.2426577654213778, 0.4853155308427556, 0.9873762937095075, 0.9431972115425947, 0.4754626191701121, 0.4754626191701121, 0.9873762937095075, 0.9765522374958949, 0.9765522374958949, 0.9587809495109124, 0.9587809495109124, 0.32092427579018973, 0.32092427579018973, 0.32092427579018973, 0.9431972115425947, 0.9765522374958949, 0.9765522374958949, 0.48108804603943683, 0.24054402301971842, 0.24054402301971842, 0.9431972115425947, 0.9765522374958949, 0.9587809495109124, 0.4823906287103312, 0.4823906287103312, 0.9765522374958949, 0.5898108028366025, 0.39320720189106834, 0.9431972115425947, 0.9431972115425947, 0.9765522374958949, 0.9587809495109124, 0.9587809495109124, 0.9431972115425947, 0.9431972115425947], \"Term\": [\"15th\", \"20th\", \"ac\", \"air\", \"air\", \"airport\", \"allusion\", \"allusion\", \"alsace\", \"amerigo\", \"amerigo\", \"antonio\", \"appearance\", \"area\", \"area\", \"area\", \"armenia\", \"arrive\", \"arrive\", \"athens\", \"attache\", \"aviv\", \"barcelona\", \"barcelona\", \"base\", \"begin\", \"begin\", \"beirut\", \"berlin\", \"berlin\", \"body\", \"bologna\", \"bound\", \"bronze\", \"brussels\", \"bucharest\", \"bugatti\", \"bugatti\", \"business\", \"camshaft\", \"canova\", \"canova\", \"canova\", \"capital\", \"car\", \"card\", \"card\", \"catalonia\", \"chassis\", \"cis\", \"city\", \"city\", \"city\", \"city\", \"clear\", \"coast\", \"coast\", \"collserola\", \"conclude\", \"connection\", \"connection\", \"copy\", \"copy\", \"country\", \"cousin\", \"cylinder\", \"daily\", \"damascus\", \"david\", \"de\", \"december\", \"diplomatic\", \"diplomatic\", \"doha\", \"dubai\", \"duke\", \"effort\", \"engine\", \"europe\", \"exceed\", \"extend\", \"factory\", \"fit\", \"florence\", \"florence\", \"florentine\", \"flow\", \"flow\", \"formalise\", \"foro\", \"french\", \"french\", \"french\", \"galaxy\", \"galaxy\", \"game\", \"general\", \"general\", \"germain\", \"germany\", \"god\", \"god\", \"guido\", \"high\", \"high\", \"hire\", \"hire\", \"history\", \"inception\", \"inception\", \"include\", \"increase\", \"initially\", \"insist\", \"international\", \"international\", \"invite\", \"istanbul\", \"istanbul\", \"join\", \"kuwait\", \"kyiv\", \"la\", \"la\", \"large\", \"large\", \"lead\", \"league\", \"light\", \"limit\", \"locate\", \"london\", \"london\", \"louis\", \"lyon\", \"madrid\", \"madrid\", \"madrid\", \"main\", \"major\", \"major\", \"make\", \"mars\", \"mars\", \"mars\", \"match\", \"mediterranean\", \"metropolis\", \"minsk\", \"moscow\", \"moscow\", \"motor\", \"mountain\", \"mouth\", \"municipality\", \"naples\", \"napoleon\", \"napoleon\", \"napoleon\", \"noncommittal\", \"northeastern\", \"number\", \"objective\", \"obtain\", \"obtain\", \"outfield\", \"overhead\", \"owner\", \"passenger\", \"people\", \"people\", \"people\", \"play\", \"plenty\", \"populous\", \"populous\", \"prague\", \"prague\", \"president\", \"private\", \"province\", \"race\", \"range\", \"rank\", \"reach\", \"real\", \"real\", \"receive\", \"receive\", \"record\", \"record\", \"red\", \"red\", \"red\", \"region\", \"regional\", \"retire\", \"return\", \"return\", \"rey\", \"riga\", \"river\", \"role\", \"rome\", \"rome\", \"sea\", \"secretary\", \"serra\", \"show\", \"show\", \"small\", \"spain\", \"spain\", \"spain\", \"stand\", \"statistic\", \"statue\", \"statue\", \"support\", \"tall\", \"tbilisi\", \"tehran\", \"tel\", \"time\", \"time\", \"time\", \"tourist\", \"transportation\", \"uniform\", \"united\", \"united\", \"united\", \"urban\", \"venice\", \"versailles\", \"vespucci\", \"vespucci\", \"vienna\", \"war\", \"war\", \"warsaw\", \"wheelbase\", \"xi\", \"year\", \"yearly\", \"yerevan\", \"young\"]}, \"R\": 30, \"lambda.step\": 0.01, \"plot.opts\": {\"xlab\": \"PC1\", \"ylab\": \"PC2\"}, \"topic.order\": [1, 2, 4, 3]};\n",
       "\n",
       "function LDAvis_load_lib(url, callback){\n",
       "  var s = document.createElement('script');\n",
       "  s.src = url;\n",
       "  s.async = true;\n",
       "  s.onreadystatechange = s.onload = callback;\n",
       "  s.onerror = function(){console.warn(\"failed to load library \" + url);};\n",
       "  document.getElementsByTagName(\"head\")[0].appendChild(s);\n",
       "}\n",
       "\n",
       "if(typeof(LDAvis) !== \"undefined\"){\n",
       "   // already loaded: just create the visualization\n",
       "   !function(LDAvis){\n",
       "       new LDAvis(\"#\" + \"ldavis_el113322672263889184243514066\", ldavis_el113322672263889184243514066_data);\n",
       "   }(LDAvis);\n",
       "}else if(typeof define === \"function\" && define.amd){\n",
       "   // require.js is available: use it to load d3/LDAvis\n",
       "   require.config({paths: {d3: \"https://d3js.org/d3.v5\"}});\n",
       "   require([\"d3\"], function(d3){\n",
       "      window.d3 = d3;\n",
       "      LDAvis_load_lib(\"https://cdn.jsdelivr.net/gh/bmabey/pyLDAvis@3.3.1/pyLDAvis/js/ldavis.v3.0.0.js\", function(){\n",
       "        new LDAvis(\"#\" + \"ldavis_el113322672263889184243514066\", ldavis_el113322672263889184243514066_data);\n",
       "      });\n",
       "    });\n",
       "}else{\n",
       "    // require.js not available: dynamically load d3 & LDAvis\n",
       "    LDAvis_load_lib(\"https://d3js.org/d3.v5.js\", function(){\n",
       "         LDAvis_load_lib(\"https://cdn.jsdelivr.net/gh/bmabey/pyLDAvis@3.3.1/pyLDAvis/js/ldavis.v3.0.0.js\", function(){\n",
       "                 new LDAvis(\"#\" + \"ldavis_el113322672263889184243514066\", ldavis_el113322672263889184243514066_data);\n",
       "            })\n",
       "         });\n",
       "}\n",
       "</script>"
      ],
      "text/plain": [
       "PreparedData(topic_coordinates=              x         y  topics  cluster       Freq\n",
       "topic                                                \n",
       "0     -0.060366  0.268076       1        1  40.336992\n",
       "1      0.233358  0.058542       2        1  21.898056\n",
       "3      0.162650 -0.214945       3        1  21.502097\n",
       "2     -0.335641 -0.111673       4        1  16.262855, topic_info=          Term      Freq     Total Category  logprob  loglift\n",
       "270       card  7.000000  7.000000  Default  30.0000  30.0000\n",
       "284      match  3.000000  3.000000  Default  29.0000  29.0000\n",
       "6    barcelona  6.000000  6.000000  Default  28.0000  28.0000\n",
       "88         war  5.000000  5.000000  Default  27.0000  27.0000\n",
       "117     statue  4.000000  4.000000  Default  26.0000  26.0000\n",
       "..         ...       ...       ...      ...      ...      ...\n",
       "93       begin  1.042991  2.103215   Topic4  -4.3175   1.1149\n",
       "96      canova  1.042991  4.103798   Topic4  -4.3175   0.4465\n",
       "98        copy  1.042991  2.103215   Topic4  -4.3175   1.1149\n",
       "103        god  1.042991  2.067002   Topic4  -4.3175   1.1323\n",
       "108       mars  1.042991  4.151236   Topic4  -4.3175   0.4350\n",
       "\n",
       "[234 rows x 6 columns], token_table=      Topic      Freq     Term\n",
       "term                          \n",
       "175       2  0.987376     15th\n",
       "165       3  0.976552     20th\n",
       "220       2  0.987376       ac\n",
       "0         1  0.475463      air\n",
       "0         4  0.475463      air\n",
       "...     ...       ...      ...\n",
       "90        3  0.976552       xi\n",
       "264       4  0.958781     year\n",
       "55        4  0.958781   yearly\n",
       "56        1  0.943197  yerevan\n",
       "91        1  0.943197    young\n",
       "\n",
       "[247 rows x 3 columns], R=30, lambda_step=0.01, plot_opts={'xlab': 'PC1', 'ylab': 'PC2'}, topic_order=[1, 2, 4, 3])"
      ]
     },
     "execution_count": 20,
     "metadata": {},
     "output_type": "execute_result"
    }
   ],
   "source": [
    "pyLDAvis.enable_notebook()\n",
    "\n",
    "dictionary, corpus = vectorize(lemmatized_text, MIN_DF=1, MAX_DF=0.6)\n",
    "model, coherence, dictionary, corpus = train_model(lemmatized_text=lemmatized_text, dictionary=[], corpus=[], N_TOPICS=4)\n",
    "\n",
    "lda_conv = gensim.models.wrappers.ldamallet.malletmodel2ldamodel(model)\n",
    "gensimvis.prepare(lda_conv, corpus, dictionary)"
   ]
  },
  {
   "cell_type": "code",
   "execution_count": 2,
   "id": "7e03845d",
   "metadata": {
    "scrolled": true
   },
   "outputs": [],
   "source": [
    "# \n",
    "\n",
    "# MIN_DF = 1 # minium document frequency\n",
    "# MAX_DF = 0.6 # maximum document frequency\n",
    "\n",
    "# tokenized_texts = [['politics', 'is', 'quite', 'intresting', 'but', 'polticians', 'are','not'],\n",
    "#                     ['cats', 'like', 'to', 'explore'],\n",
    "#                     ['johnson', 'trump', 'politicians', 'of', 'the', 'new', 'era'] ,\n",
    "#                      ['war', 'is', 'not', 'essential', 'to', 'politics'],\n",
    "#                      ['dogs', 'and', 'cats', 'fight', 'sometimes'],\n",
    "#                      ['where', 'can', 'i', 'buy', 'guns', 'for', 'the', 'war'],\n",
    "#                     ['my','favorite', 'animal', 'is', 'my', 'cat'],\n",
    "#                     ['my', 'least', 'favorite', 'my', 'dog'],\n",
    "#                     ['world', 'war', 'two', 'started', 'in', '1939']\n",
    "#                     ]\n",
    "# dictionary = Dictionary(tokenized_texts) # get the vocabulary\n",
    "# dictionary.filter_extremes(no_below=MIN_DF, \n",
    "#                            no_above=MAX_DF)\n",
    "# corpus = [dictionary.doc2bow(text) for text in tokenized_texts]"
   ]
  },
  {
   "cell_type": "code",
   "execution_count": 3,
   "id": "b538a887",
   "metadata": {},
   "outputs": [],
   "source": [
    "\n",
    "# #models.wrappers import LdaMallet\n",
    "\n",
    "# PATH_TO_MALLET = r'C:/mallet/bin/mallet.bat'\n",
    "\n",
    "# N_TOPICS = 2 # k\n",
    "# N_ITERATIONS = 1000 # usually 1000 will do\n",
    "\n",
    "# lda = LdaMallet(PATH_TO_MALLET,\n",
    "#                 corpus=corpus,\n",
    "#                 id2word=dictionary,\n",
    "#                 num_topics=N_TOPICS,\n",
    "#                 optimize_interval=10,\n",
    "#                 iterations=N_ITERATIONS)"
   ]
  }
 ],
 "metadata": {
  "kernelspec": {
   "display_name": "Python 3 (ipykernel)",
   "language": "python",
   "name": "python3"
  },
  "language_info": {
   "codemirror_mode": {
    "name": "ipython",
    "version": 3
   },
   "file_extension": ".py",
   "mimetype": "text/x-python",
   "name": "python",
   "nbconvert_exporter": "python",
   "pygments_lexer": "ipython3",
   "version": "3.8.0"
  }
 },
 "nbformat": 4,
 "nbformat_minor": 5
}
