{
 "cells": [
  {
   "cell_type": "markdown",
   "id": "d3c92351",
   "metadata": {},
   "source": [
    "# 1. Wikidump downloading files"
   ]
  },
  {
   "cell_type": "code",
   "execution_count": 77,
   "id": "56ff0120",
   "metadata": {},
   "outputs": [],
   "source": [
    "import os\n",
    "import requests\n",
    "from bs4 import BeautifulSoup\n",
    "import wget # (to download wikidump files!)\n",
    "import pathlib"
   ]
  },
  {
   "cell_type": "markdown",
   "id": "1eb4a06d",
   "metadata": {},
   "source": [
    "## IMPORT PARAMETERS"
   ]
  },
  {
   "cell_type": "code",
   "execution_count": 58,
   "id": "c6418732",
   "metadata": {},
   "outputs": [],
   "source": [
    "# wikidump base urls.\n",
    "english_wikidump = 'https://dumps.wikimedia.org/enwiki/'\n",
    "french_wikidump = 'https://dumps.wikimedia.org/frwiki/'\n",
    "dutch_wikidump = 'https://dumps.wikimedia.org/nlwiki/'\n",
    "\n",
    "# Change based on which language and backup you want to download!\n",
    "base_url = english_wikidump\n",
    "dump_url = base_url + '20220420/'"
   ]
  },
  {
   "cell_type": "code",
   "execution_count": 81,
   "id": "ba453466",
   "metadata": {
    "scrolled": false
   },
   "outputs": [],
   "source": [
    "# index = requests.get(base_url).text\n",
    "# soup_index = BeautifulSoup(index, 'html.parser')\n",
    "\n",
    "# Find the links that are dates of dumps\n",
    "# dumps = [a['href'] for a in soup_index.find_all('a') if a.has_attr('href')]"
   ]
  },
  {
   "cell_type": "code",
   "execution_count": 82,
   "id": "a9513e6d",
   "metadata": {},
   "outputs": [],
   "source": [
    "# Retrieve the html\n",
    "dump_html = requests.get(dump_url).text\n",
    "\n",
    "# Convert to a soup\n",
    "soup_dump = BeautifulSoup(dump_html, 'html.parser')"
   ]
  },
  {
   "cell_type": "markdown",
   "id": "df6489ac",
   "metadata": {},
   "source": [
    "## Find Correct Files"
   ]
  },
  {
   "cell_type": "code",
   "execution_count": 98,
   "id": "3db92e99",
   "metadata": {},
   "outputs": [
    {
     "data": {
      "text/plain": [
       "('https://dumps.wikimedia.org/enwiki/20220420/enwiki-20220420-pages-articles-multistream1.xml-p1p41242.bz2',\n",
       " 'enwiki-20220420-pages-articles-multistream1.xml-p1p41242.bz2',\n",
       " 247.4)"
      ]
     },
     "execution_count": 98,
     "metadata": {},
     "output_type": "execute_result"
    }
   ],
   "source": [
    "files = []\n",
    "\n",
    "# Search through all files\n",
    "for file in soup_dump.find_all('li', {'class': 'file'}):\n",
    "    url = 'https://dumps.wikimedia.org' + file.a['href']\n",
    "    text = file.text\n",
    "    \n",
    "    # Select the relevant files\n",
    "    if 'pages-articles-multistream' in text and '.xml-p' in text:\n",
    "        files.append((url, text.split()[0], float(text.split()[1:][0])))\n",
    "        \n",
    "files[0]"
   ]
  },
  {
   "cell_type": "markdown",
   "id": "9d313323",
   "metadata": {},
   "source": [
    "## Download Files"
   ]
  },
  {
   "cell_type": "code",
   "execution_count": 101,
   "id": "07b7843d",
   "metadata": {},
   "outputs": [],
   "source": [
    "data_paths, file_info = [], []\n",
    "\n",
    "subfolder = base_url.split('/')[-2]\n",
    "datasets_directory = f'../input/wikidump/{subfolder}/'\n",
    "\n",
    "if not os.path.exists(datasets_directory):\n",
    "    pathlib.Path(datasets_directory).mkdir(parents=True, exist_ok=True)\n",
    "    print(f'Created a new directory at {datasets_directory}.')\n",
    "    \n",
    "for url, name, size in files[:2]:\n",
    "    path = datasets_directory + name\n",
    "    \n",
    "    if not os.path.exists(path):\n",
    "        pass\n",
    "        # wget.download(url, out = path)\n",
    "    \n",
    "    data_paths.append(path)\n",
    "    \n",
    "    # file_size = os.stat(path).st_size / 1e6\n",
    "    file_articles = int(name.split('p')[-1].split('.')[-2]) - int(name.split('p')[-2])\n",
    "    file_info.append((name, size, file_articles))"
   ]
  },
  {
   "cell_type": "code",
   "execution_count": 102,
   "id": "96e5c6fe",
   "metadata": {},
   "outputs": [
    {
     "name": "stdout",
     "output_type": "stream",
     "text": [
      "There are 2 files.\n"
     ]
    }
   ],
   "source": [
    "print(f'There are {len(file_info)} files.')"
   ]
  },
  {
   "cell_type": "markdown",
   "id": "37f9f26c",
   "metadata": {},
   "source": [
    "## Articles per file"
   ]
  },
  {
   "cell_type": "code",
   "execution_count": 108,
   "id": "0d0f5ee7",
   "metadata": {},
   "outputs": [
    {
     "data": {
      "image/png": "[encoded data removed]",
      "text/plain": [
       "<Figure size 432x216 with 1 Axes>"
      ]
     },
     "metadata": {
      "needs_background": "light"
     },
     "output_type": "display_data"
    }
   ],
   "source": [
    "import pandas as pd\n",
    "import matplotlib.pyplot as plt\n",
    "%matplotlib inline\n",
    "file_df = pd.DataFrame(file_info, columns = ['file', 'size (MB)', 'articles']).set_index('file')\n",
    "file_df['articles'].plot.bar(color = 'red', figsize = (6, 3));"
   ]
  },
  {
   "cell_type": "code",
   "execution_count": 114,
   "id": "c472992e",
   "metadata": {},
   "outputs": [
    {
     "name": "stdout",
     "output_type": "stream",
     "text": [
      "The total size of files in directory: '../input/wikidump/enwiki/' is 0.5792 GB.\n"
     ]
    }
   ],
   "source": [
    "print(f\"The total size of files in directory: '{datasets_directory}' is {file_df['size (MB)'].sum() / 1e3} GB.\")"
   ]
  },
  {
   "cell_type": "markdown",
   "id": "1a00fa45",
   "metadata": {},
   "source": [
    "# 2. Parsing Data"
   ]
  },
  {
   "cell_type": "code",
   "execution_count": 127,
   "id": "48d200e7",
   "metadata": {},
   "outputs": [],
   "source": [
    "import sys\n",
    "import bz2   # is slower than subproces & bzcat!\n",
    "# import subproces\n",
    "import xml.sax"
   ]
  },
  {
   "cell_type": "code",
   "execution_count": 144,
   "id": "0bb6fc8d",
   "metadata": {
    "scrolled": false
   },
   "outputs": [
    {
     "data": {
      "text/plain": [
       "[b'<mediawiki xmlns=\"http://www.mediawiki.org/xml/export-0.10/\" xmlns:xsi=\"http://www.w3.org/2001/XMLSchema-instance\" xsi:schemaLocation=\"http://www.mediawiki.org/xml/export-0.10/ http://www.mediawiki.org/xml/export-0.10.xsd\" version=\"0.10\" xml:lang=\"en\">\\n',\n",
       " b'  <siteinfo>\\n',\n",
       " b'    <sitename>Wikipedia</sitename>\\n',\n",
       " b'    <dbname>enwiki</dbname>\\n',\n",
       " b'    <base>https://en.wikipedia.org/wiki/Main_Page</base>\\n',\n",
       " b'    <generator>MediaWiki 1.39.0-wmf.7</generator>\\n',\n",
       " b'    <case>first-letter</case>\\n',\n",
       " b'    <namespaces>\\n',\n",
       " b'      <namespace key=\"-2\" case=\"first-letter\">Media</namespace>\\n',\n",
       " b'      <namespace key=\"-1\" case=\"first-letter\">Special</namespace>\\n',\n",
       " b'      <namespace key=\"0\" case=\"first-letter\" />\\n',\n",
       " b'      <namespace key=\"1\" case=\"first-letter\">Talk</namespace>\\n',\n",
       " b'      <namespace key=\"2\" case=\"first-letter\">User</namespace>\\n',\n",
       " b'      <namespace key=\"3\" case=\"first-letter\">User talk</namespace>\\n',\n",
       " b'      <namespace key=\"4\" case=\"first-letter\">Wikipedia</namespace>\\n',\n",
       " b'      <namespace key=\"5\" case=\"first-letter\">Wikipedia talk</namespace>\\n',\n",
       " b'      <namespace key=\"6\" case=\"first-letter\">File</namespace>\\n',\n",
       " b'      <namespace key=\"7\" case=\"first-letter\">File talk</namespace>\\n',\n",
       " b'      <namespace key=\"8\" case=\"first-letter\">MediaWiki</namespace>\\n',\n",
       " b'      <namespace key=\"9\" case=\"first-letter\">MediaWiki talk</namespace>\\n']"
      ]
     },
     "execution_count": 144,
     "metadata": {},
     "output_type": "execute_result"
    }
   ],
   "source": [
    "lines = []\n",
    "\n",
    "for i, line in enumerate(bz2.BZ2File(data_paths[0], 'r')):\n",
    "    lines.append(line)\n",
    "    if i > 5e5:\n",
    "        break\n",
    "        \n",
    "lines[0:20]"
   ]
  },
  {
   "cell_type": "code",
   "execution_count": 128,
   "id": "1e6cab69",
   "metadata": {},
   "outputs": [],
   "source": [
    "class WikiXmlHandler(xml.sax.handler.ContentHandler):\n",
    "    \"\"\"Content handler for Wiki XML data using SAX\"\"\"\n",
    "    def __init__(self):\n",
    "        xml.sax.handler.ContentHandler.__init__(self)\n",
    "        self._buffer = None\n",
    "        self._values = {}\n",
    "        self._current_tag = None\n",
    "        self._pages = []\n",
    "\n",
    "    def characters(self, content):\n",
    "        \"\"\"Characters between opening and closing tags\"\"\"\n",
    "        if self._current_tag:\n",
    "            self._buffer.append(content)\n",
    "\n",
    "    def startElement(self, name, attrs):\n",
    "        \"\"\"Opening tag of element\"\"\"\n",
    "        if name in ('title', 'text', 'timestamp'):\n",
    "            self._current_tag = name\n",
    "            self._buffer = []\n",
    "\n",
    "    def endElement(self, name):\n",
    "        \"\"\"Closing tag of element\"\"\"\n",
    "        if name == self._current_tag:\n",
    "            self._values[name] = ' '.join(self._buffer)\n",
    "\n",
    "        if name == 'page':\n",
    "            self._pages.append((self._values['title'], self._values['text']))"
   ]
  },
  {
   "cell_type": "code",
   "execution_count": 141,
   "id": "924bda5c",
   "metadata": {},
   "outputs": [
    {
     "data": {
      "text/plain": [
       "[]"
      ]
     },
     "execution_count": 141,
     "metadata": {},
     "output_type": "execute_result"
    }
   ],
   "source": [
    "\n"
   ]
  },
  {
   "cell_type": "code",
   "execution_count": 149,
   "id": "97eee59c",
   "metadata": {
    "scrolled": true
   },
   "outputs": [
    {
     "name": "stdout",
     "output_type": "stream",
     "text": [
      "['AccessibleComputing', 'Anarchism', 'AfghanistanHistory', 'AfghanistanGeography', 'AfghanistanPeople', 'AfghanistanCommunications']\n"
     ]
    }
   ],
   "source": [
    "# Content handler for Wiki XML\n",
    "handler = WikiXmlHandler()\n",
    "\n",
    "# Parsing object\n",
    "parser = xml.sax.make_parser()\n",
    "parser.setContentHandler(handler)\n",
    "\n",
    "for l in lines:\n",
    "    parser.feed(l)\n",
    "    \n",
    "    if len(handler._pages) > 5:\n",
    "        break\n",
    "    \n",
    "print([page[0] for page in handler._pages])"
   ]
  },
  {
   "cell_type": "code",
   "execution_count": null,
   "id": "3e91019d",
   "metadata": {},
   "outputs": [],
   "source": []
  }
 ],
 "metadata": {
  "kernelspec": {
   "display_name": "Python 3 (ipykernel)",
   "language": "python",
   "name": "python3"
  },
  "language_info": {
   "codemirror_mode": {
    "name": "ipython",
    "version": 3
   },
   "file_extension": ".py",
   "mimetype": "text/x-python",
   "name": "python",
   "nbconvert_exporter": "python",
   "pygments_lexer": "ipython3",
   "version": "3.8.0"
  }
 },
 "nbformat": 4,
 "nbformat_minor": 5
}
