{
 "cells": [
  {
   "cell_type": "code",
   "execution_count": 1,
   "id": "cd9bdca5",
   "metadata": {},
   "outputs": [],
   "source": [
    "import os\n",
    "import pandas as pd\n",
    "import warnings\n",
    "from tqdm.notebook import tqdm\n",
    "from nltk.tokenize import RegexpTokenizer\n",
    "from collections import Counter\n",
    "import re\n",
    "import time\n",
    "from itertools import combinations"
   ]
  },
  {
   "cell_type": "markdown",
   "id": "5af097a4",
   "metadata": {},
   "source": [
    "# Settings"
   ]
  },
  {
   "cell_type": "code",
   "execution_count": 24,
   "id": "e8c07086",
   "metadata": {},
   "outputs": [],
   "source": [
    "# Settings that can be changed\n",
    "basefolder = '../../../../enwiki_extracted/'\n",
    "corpus_path = '../output/'\n",
    "corpus_name = 'city_matrix.csv'\n",
    "new_corpus = False\n",
    "\n",
    "cities_df = pd.read_csv(f'../../input/List_of_cities_300k.csv', delimiter=';')\n",
    "nr_of_cities = 10 # by population numbers\n",
    "window_size = 0"
   ]
  },
  {
   "cell_type": "code",
   "execution_count": 19,
   "id": "da803661",
   "metadata": {
    "scrolled": true
   },
   "outputs": [
    {
     "data": {
      "text/plain": [
       "[('paris', 'london'),\n",
       " ('paris', 'madrid'),\n",
       " ('paris', 'berlin'),\n",
       " ('paris', 'milan'),\n",
       " ('paris', 'barcelona'),\n",
       " ('paris', 'athens'),\n",
       " ('paris', 'rome'),\n",
       " ('paris', 'birmingham'),\n",
       " ('paris', 'lisbon'),\n",
       " ('london', 'madrid'),\n",
       " ('london', 'berlin'),\n",
       " ('london', 'milan'),\n",
       " ('london', 'barcelona'),\n",
       " ('london', 'athens'),\n",
       " ('london', 'rome'),\n",
       " ('london', 'birmingham'),\n",
       " ('london', 'lisbon'),\n",
       " ('madrid', 'berlin'),\n",
       " ('madrid', 'milan'),\n",
       " ('madrid', 'barcelona'),\n",
       " ('madrid', 'athens'),\n",
       " ('madrid', 'rome'),\n",
       " ('madrid', 'birmingham'),\n",
       " ('madrid', 'lisbon'),\n",
       " ('berlin', 'milan'),\n",
       " ('berlin', 'barcelona'),\n",
       " ('berlin', 'athens'),\n",
       " ('berlin', 'rome'),\n",
       " ('berlin', 'birmingham'),\n",
       " ('berlin', 'lisbon'),\n",
       " ('milan', 'barcelona'),\n",
       " ('milan', 'athens'),\n",
       " ('milan', 'rome'),\n",
       " ('milan', 'birmingham'),\n",
       " ('milan', 'lisbon'),\n",
       " ('barcelona', 'athens'),\n",
       " ('barcelona', 'rome'),\n",
       " ('barcelona', 'birmingham'),\n",
       " ('barcelona', 'lisbon'),\n",
       " ('athens', 'rome'),\n",
       " ('athens', 'birmingham'),\n",
       " ('athens', 'lisbon'),\n",
       " ('rome', 'birmingham'),\n",
       " ('rome', 'lisbon'),\n",
       " ('birmingham', 'lisbon')]"
      ]
     },
     "execution_count": 19,
     "metadata": {},
     "output_type": "execute_result"
    }
   ],
   "source": [
    "list_of_cities = list(cities_df['Mua_en'][0:nr_of_cities].str.lower())\n",
    "city_pairs_45 = list(combinations(list_of_cities, 2))\n",
    "list_of_cities.sort()\n",
    "list_of_cities\n",
    "city_pairs_45"
   ]
  },
  {
   "cell_type": "code",
   "execution_count": 13,
   "id": "4e3fbee4",
   "metadata": {},
   "outputs": [
    {
     "data": {
      "text/plain": [
       "[('paris', 'london'),\n",
       " ('paris', 'madrid'),\n",
       " ('paris', 'berlin'),\n",
       " ('paris', 'milan'),\n",
       " ('london', 'madrid'),\n",
       " ('london', 'berlin'),\n",
       " ('london', 'milan'),\n",
       " ('madrid', 'berlin'),\n",
       " ('madrid', 'milan'),\n",
       " ('berlin', 'milan')]"
      ]
     },
     "execution_count": 13,
     "metadata": {},
     "output_type": "execute_result"
    }
   ],
   "source": [
    "list_of_cities = list(cities_df['Mua_en'][0:5].str.lower())\n",
    "city_pairs_10 = list(combinations(list_of_cities, 2))\n",
    "list_of_cities.sort()\n",
    "city_pairs_10"
   ]
  },
  {
   "cell_type": "code",
   "execution_count": 20,
   "id": "878956bb",
   "metadata": {},
   "outputs": [
    {
     "data": {
      "text/plain": [
       "35"
      ]
     },
     "execution_count": 20,
     "metadata": {},
     "output_type": "execute_result"
    }
   ],
   "source": [
    "city_pairs = [item for item in city_pairs_45 if item not in city_pairs_10]\n",
    "len(city_pairs)"
   ]
  },
  {
   "cell_type": "code",
   "execution_count": 10,
   "id": "ee2b3718",
   "metadata": {},
   "outputs": [
    {
     "data": {
      "text/plain": [
       "45"
      ]
     },
     "execution_count": 10,
     "metadata": {},
     "output_type": "execute_result"
    }
   ],
   "source": [
    "len(city_pairs)"
   ]
  },
  {
   "cell_type": "code",
   "execution_count": 4,
   "id": "796cb8a1",
   "metadata": {},
   "outputs": [
    {
     "data": {
      "text/plain": [
       "19900"
      ]
     },
     "execution_count": 4,
     "metadata": {},
     "output_type": "execute_result"
    }
   ],
   "source": [
    "# All possible city pairs for 100 cities\n",
    "len(list(combinations([x for x in range(200)], 2)))"
   ]
  },
  {
   "cell_type": "markdown",
   "id": "acccdbc0",
   "metadata": {},
   "source": [
    "# Get articles per city pair"
   ]
  },
  {
   "cell_type": "code",
   "execution_count": 27,
   "id": "402aa81e",
   "metadata": {
    "scrolled": true
   },
   "outputs": [
    {
     "data": {
      "application/vnd.jupyter.widget-view+json": {
       "model_id": "eb1fe936654a41799d21a98106fc4b5b",
       "version_major": 2,
       "version_minor": 0
      },
      "text/plain": [
       "Output()"
      ]
     },
     "metadata": {},
     "output_type": "display_data"
    },
    {
     "data": {
      "application/vnd.jupyter.widget-view+json": {
       "model_id": "ebf17faa3959474db0d4342051235140",
       "version_major": 2,
       "version_minor": 0
      },
      "text/plain": [
       "Folders:   0%|          | 0/62 [00:00<?, ?it/s]"
      ]
     },
     "metadata": {},
     "output_type": "display_data"
    },
    {
     "data": {
      "application/vnd.jupyter.widget-view+json": {
       "model_id": "",
       "version_major": 2,
       "version_minor": 0
      },
      "text/plain": [
       "Sub Folders:   0%|          | 0/4 [00:00<?, ?it/s]"
      ]
     },
     "metadata": {},
     "output_type": "display_data"
    },
    {
     "data": {
      "application/vnd.jupyter.widget-view+json": {
       "model_id": "",
       "version_major": 2,
       "version_minor": 0
      },
      "text/plain": [
       "Sub Folders:   0%|          | 0/6 [00:00<?, ?it/s]"
      ]
     },
     "metadata": {},
     "output_type": "display_data"
    },
    {
     "data": {
      "application/vnd.jupyter.widget-view+json": {
       "model_id": "",
       "version_major": 2,
       "version_minor": 0
      },
      "text/plain": [
       "Sub Folders:   0%|          | 0/6 [00:00<?, ?it/s]"
      ]
     },
     "metadata": {},
     "output_type": "display_data"
    },
    {
     "data": {
      "application/vnd.jupyter.widget-view+json": {
       "model_id": "",
       "version_major": 2,
       "version_minor": 0
      },
      "text/plain": [
       "Sub Folders:   0%|          | 0/1 [00:00<?, ?it/s]"
      ]
     },
     "metadata": {},
     "output_type": "display_data"
    },
    {
     "data": {
      "application/vnd.jupyter.widget-view+json": {
       "model_id": "",
       "version_major": 2,
       "version_minor": 0
      },
      "text/plain": [
       "Sub Folders:   0%|          | 0/4 [00:00<?, ?it/s]"
      ]
     },
     "metadata": {},
     "output_type": "display_data"
    },
    {
     "data": {
      "application/vnd.jupyter.widget-view+json": {
       "model_id": "",
       "version_major": 2,
       "version_minor": 0
      },
      "text/plain": [
       "Sub Folders:   0%|          | 0/2 [00:00<?, ?it/s]"
      ]
     },
     "metadata": {},
     "output_type": "display_data"
    },
    {
     "data": {
      "application/vnd.jupyter.widget-view+json": {
       "model_id": "",
       "version_major": 2,
       "version_minor": 0
      },
      "text/plain": [
       "Sub Folders:   0%|          | 0/4 [00:00<?, ?it/s]"
      ]
     },
     "metadata": {},
     "output_type": "display_data"
    },
    {
     "data": {
      "application/vnd.jupyter.widget-view+json": {
       "model_id": "",
       "version_major": 2,
       "version_minor": 0
      },
      "text/plain": [
       "Sub Folders:   0%|          | 0/3 [00:00<?, ?it/s]"
      ]
     },
     "metadata": {},
     "output_type": "display_data"
    },
    {
     "data": {
      "application/vnd.jupyter.widget-view+json": {
       "model_id": "",
       "version_major": 2,
       "version_minor": 0
      },
      "text/plain": [
       "Sub Folders:   0%|          | 0/4 [00:00<?, ?it/s]"
      ]
     },
     "metadata": {},
     "output_type": "display_data"
    },
    {
     "data": {
      "application/vnd.jupyter.widget-view+json": {
       "model_id": "",
       "version_major": 2,
       "version_minor": 0
      },
      "text/plain": [
       "Sub Folders:   0%|          | 0/3 [00:00<?, ?it/s]"
      ]
     },
     "metadata": {},
     "output_type": "display_data"
    },
    {
     "data": {
      "application/vnd.jupyter.widget-view+json": {
       "model_id": "",
       "version_major": 2,
       "version_minor": 0
      },
      "text/plain": [
       "Sub Folders:   0%|          | 0/3 [00:00<?, ?it/s]"
      ]
     },
     "metadata": {},
     "output_type": "display_data"
    },
    {
     "data": {
      "application/vnd.jupyter.widget-view+json": {
       "model_id": "",
       "version_major": 2,
       "version_minor": 0
      },
      "text/plain": [
       "Sub Folders:   0%|          | 0/6 [00:00<?, ?it/s]"
      ]
     },
     "metadata": {},
     "output_type": "display_data"
    },
    {
     "data": {
      "application/vnd.jupyter.widget-view+json": {
       "model_id": "",
       "version_major": 2,
       "version_minor": 0
      },
      "text/plain": [
       "Sub Folders:   0%|          | 0/3 [00:00<?, ?it/s]"
      ]
     },
     "metadata": {},
     "output_type": "display_data"
    },
    {
     "data": {
      "application/vnd.jupyter.widget-view+json": {
       "model_id": "",
       "version_major": 2,
       "version_minor": 0
      },
      "text/plain": [
       "Sub Folders:   0%|          | 0/1 [00:00<?, ?it/s]"
      ]
     },
     "metadata": {},
     "output_type": "display_data"
    },
    {
     "data": {
      "application/vnd.jupyter.widget-view+json": {
       "model_id": "",
       "version_major": 2,
       "version_minor": 0
      },
      "text/plain": [
       "Sub Folders:   0%|          | 0/3 [00:00<?, ?it/s]"
      ]
     },
     "metadata": {},
     "output_type": "display_data"
    },
    {
     "data": {
      "application/vnd.jupyter.widget-view+json": {
       "model_id": "",
       "version_major": 2,
       "version_minor": 0
      },
      "text/plain": [
       "Sub Folders:   0%|          | 0/3 [00:00<?, ?it/s]"
      ]
     },
     "metadata": {},
     "output_type": "display_data"
    },
    {
     "data": {
      "application/vnd.jupyter.widget-view+json": {
       "model_id": "",
       "version_major": 2,
       "version_minor": 0
      },
      "text/plain": [
       "Sub Folders:   0%|          | 0/1 [00:00<?, ?it/s]"
      ]
     },
     "metadata": {},
     "output_type": "display_data"
    },
    {
     "data": {
      "application/vnd.jupyter.widget-view+json": {
       "model_id": "",
       "version_major": 2,
       "version_minor": 0
      },
      "text/plain": [
       "Sub Folders:   0%|          | 0/3 [00:00<?, ?it/s]"
      ]
     },
     "metadata": {},
     "output_type": "display_data"
    },
    {
     "data": {
      "application/vnd.jupyter.widget-view+json": {
       "model_id": "",
       "version_major": 2,
       "version_minor": 0
      },
      "text/plain": [
       "Sub Folders:   0%|          | 0/3 [00:00<?, ?it/s]"
      ]
     },
     "metadata": {},
     "output_type": "display_data"
    },
    {
     "data": {
      "application/vnd.jupyter.widget-view+json": {
       "model_id": "",
       "version_major": 2,
       "version_minor": 0
      },
      "text/plain": [
       "Sub Folders:   0%|          | 0/1 [00:00<?, ?it/s]"
      ]
     },
     "metadata": {},
     "output_type": "display_data"
    },
    {
     "data": {
      "application/vnd.jupyter.widget-view+json": {
       "model_id": "",
       "version_major": 2,
       "version_minor": 0
      },
      "text/plain": [
       "Sub Folders:   0%|          | 0/3 [00:00<?, ?it/s]"
      ]
     },
     "metadata": {},
     "output_type": "display_data"
    },
    {
     "data": {
      "application/vnd.jupyter.widget-view+json": {
       "model_id": "",
       "version_major": 2,
       "version_minor": 0
      },
      "text/plain": [
       "Sub Folders:   0%|          | 0/3 [00:00<?, ?it/s]"
      ]
     },
     "metadata": {},
     "output_type": "display_data"
    },
    {
     "data": {
      "application/vnd.jupyter.widget-view+json": {
       "model_id": "",
       "version_major": 2,
       "version_minor": 0
      },
      "text/plain": [
       "Sub Folders:   0%|          | 0/5 [00:00<?, ?it/s]"
      ]
     },
     "metadata": {},
     "output_type": "display_data"
    },
    {
     "data": {
      "application/vnd.jupyter.widget-view+json": {
       "model_id": "",
       "version_major": 2,
       "version_minor": 0
      },
      "text/plain": [
       "Sub Folders:   0%|          | 0/1 [00:00<?, ?it/s]"
      ]
     },
     "metadata": {},
     "output_type": "display_data"
    },
    {
     "data": {
      "application/vnd.jupyter.widget-view+json": {
       "model_id": "",
       "version_major": 2,
       "version_minor": 0
      },
      "text/plain": [
       "Sub Folders:   0%|          | 0/3 [00:00<?, ?it/s]"
      ]
     },
     "metadata": {},
     "output_type": "display_data"
    },
    {
     "data": {
      "application/vnd.jupyter.widget-view+json": {
       "model_id": "",
       "version_major": 2,
       "version_minor": 0
      },
      "text/plain": [
       "Sub Folders:   0%|          | 0/3 [00:00<?, ?it/s]"
      ]
     },
     "metadata": {},
     "output_type": "display_data"
    },
    {
     "data": {
      "application/vnd.jupyter.widget-view+json": {
       "model_id": "",
       "version_major": 2,
       "version_minor": 0
      },
      "text/plain": [
       "Sub Folders:   0%|          | 0/3 [00:00<?, ?it/s]"
      ]
     },
     "metadata": {},
     "output_type": "display_data"
    },
    {
     "data": {
      "application/vnd.jupyter.widget-view+json": {
       "model_id": "",
       "version_major": 2,
       "version_minor": 0
      },
      "text/plain": [
       "Sub Folders:   0%|          | 0/3 [00:00<?, ?it/s]"
      ]
     },
     "metadata": {},
     "output_type": "display_data"
    },
    {
     "data": {
      "application/vnd.jupyter.widget-view+json": {
       "model_id": "",
       "version_major": 2,
       "version_minor": 0
      },
      "text/plain": [
       "Sub Folders:   0%|          | 0/3 [00:00<?, ?it/s]"
      ]
     },
     "metadata": {},
     "output_type": "display_data"
    },
    {
     "data": {
      "application/vnd.jupyter.widget-view+json": {
       "model_id": "",
       "version_major": 2,
       "version_minor": 0
      },
      "text/plain": [
       "Sub Folders:   0%|          | 0/2 [00:00<?, ?it/s]"
      ]
     },
     "metadata": {},
     "output_type": "display_data"
    },
    {
     "data": {
      "application/vnd.jupyter.widget-view+json": {
       "model_id": "",
       "version_major": 2,
       "version_minor": 0
      },
      "text/plain": [
       "Sub Folders:   0%|          | 0/3 [00:00<?, ?it/s]"
      ]
     },
     "metadata": {},
     "output_type": "display_data"
    },
    {
     "data": {
      "application/vnd.jupyter.widget-view+json": {
       "model_id": "",
       "version_major": 2,
       "version_minor": 0
      },
      "text/plain": [
       "Sub Folders:   0%|          | 0/3 [00:00<?, ?it/s]"
      ]
     },
     "metadata": {},
     "output_type": "display_data"
    },
    {
     "data": {
      "application/vnd.jupyter.widget-view+json": {
       "model_id": "",
       "version_major": 2,
       "version_minor": 0
      },
      "text/plain": [
       "Sub Folders:   0%|          | 0/3 [00:00<?, ?it/s]"
      ]
     },
     "metadata": {},
     "output_type": "display_data"
    },
    {
     "data": {
      "application/vnd.jupyter.widget-view+json": {
       "model_id": "",
       "version_major": 2,
       "version_minor": 0
      },
      "text/plain": [
       "Sub Folders:   0%|          | 0/6 [00:00<?, ?it/s]"
      ]
     },
     "metadata": {},
     "output_type": "display_data"
    },
    {
     "data": {
      "application/vnd.jupyter.widget-view+json": {
       "model_id": "",
       "version_major": 2,
       "version_minor": 0
      },
      "text/plain": [
       "Sub Folders:   0%|          | 0/3 [00:00<?, ?it/s]"
      ]
     },
     "metadata": {},
     "output_type": "display_data"
    },
    {
     "data": {
      "application/vnd.jupyter.widget-view+json": {
       "model_id": "",
       "version_major": 2,
       "version_minor": 0
      },
      "text/plain": [
       "Sub Folders:   0%|          | 0/3 [00:00<?, ?it/s]"
      ]
     },
     "metadata": {},
     "output_type": "display_data"
    },
    {
     "data": {
      "application/vnd.jupyter.widget-view+json": {
       "model_id": "",
       "version_major": 2,
       "version_minor": 0
      },
      "text/plain": [
       "Sub Folders:   0%|          | 0/3 [00:00<?, ?it/s]"
      ]
     },
     "metadata": {},
     "output_type": "display_data"
    },
    {
     "data": {
      "application/vnd.jupyter.widget-view+json": {
       "model_id": "",
       "version_major": 2,
       "version_minor": 0
      },
      "text/plain": [
       "Sub Folders:   0%|          | 0/1 [00:00<?, ?it/s]"
      ]
     },
     "metadata": {},
     "output_type": "display_data"
    },
    {
     "data": {
      "application/vnd.jupyter.widget-view+json": {
       "model_id": "",
       "version_major": 2,
       "version_minor": 0
      },
      "text/plain": [
       "Sub Folders:   0%|          | 0/2 [00:00<?, ?it/s]"
      ]
     },
     "metadata": {},
     "output_type": "display_data"
    },
    {
     "data": {
      "application/vnd.jupyter.widget-view+json": {
       "model_id": "",
       "version_major": 2,
       "version_minor": 0
      },
      "text/plain": [
       "Sub Folders:   0%|          | 0/3 [00:00<?, ?it/s]"
      ]
     },
     "metadata": {},
     "output_type": "display_data"
    },
    {
     "data": {
      "application/vnd.jupyter.widget-view+json": {
       "model_id": "",
       "version_major": 2,
       "version_minor": 0
      },
      "text/plain": [
       "Sub Folders:   0%|          | 0/3 [00:00<?, ?it/s]"
      ]
     },
     "metadata": {},
     "output_type": "display_data"
    },
    {
     "data": {
      "application/vnd.jupyter.widget-view+json": {
       "model_id": "",
       "version_major": 2,
       "version_minor": 0
      },
      "text/plain": [
       "Sub Folders:   0%|          | 0/2 [00:00<?, ?it/s]"
      ]
     },
     "metadata": {},
     "output_type": "display_data"
    },
    {
     "data": {
      "application/vnd.jupyter.widget-view+json": {
       "model_id": "",
       "version_major": 2,
       "version_minor": 0
      },
      "text/plain": [
       "Sub Folders:   0%|          | 0/3 [00:00<?, ?it/s]"
      ]
     },
     "metadata": {},
     "output_type": "display_data"
    },
    {
     "data": {
      "application/vnd.jupyter.widget-view+json": {
       "model_id": "",
       "version_major": 2,
       "version_minor": 0
      },
      "text/plain": [
       "Sub Folders:   0%|          | 0/3 [00:00<?, ?it/s]"
      ]
     },
     "metadata": {},
     "output_type": "display_data"
    },
    {
     "data": {
      "application/vnd.jupyter.widget-view+json": {
       "model_id": "",
       "version_major": 2,
       "version_minor": 0
      },
      "text/plain": [
       "Sub Folders:   0%|          | 0/6 [00:00<?, ?it/s]"
      ]
     },
     "metadata": {},
     "output_type": "display_data"
    },
    {
     "data": {
      "application/vnd.jupyter.widget-view+json": {
       "model_id": "",
       "version_major": 2,
       "version_minor": 0
      },
      "text/plain": [
       "Sub Folders:   0%|          | 0/3 [00:00<?, ?it/s]"
      ]
     },
     "metadata": {},
     "output_type": "display_data"
    },
    {
     "data": {
      "application/vnd.jupyter.widget-view+json": {
       "model_id": "",
       "version_major": 2,
       "version_minor": 0
      },
      "text/plain": [
       "Sub Folders:   0%|          | 0/3 [00:00<?, ?it/s]"
      ]
     },
     "metadata": {},
     "output_type": "display_data"
    },
    {
     "data": {
      "application/vnd.jupyter.widget-view+json": {
       "model_id": "",
       "version_major": 2,
       "version_minor": 0
      },
      "text/plain": [
       "Sub Folders:   0%|          | 0/1 [00:00<?, ?it/s]"
      ]
     },
     "metadata": {},
     "output_type": "display_data"
    },
    {
     "data": {
      "application/vnd.jupyter.widget-view+json": {
       "model_id": "",
       "version_major": 2,
       "version_minor": 0
      },
      "text/plain": [
       "Sub Folders:   0%|          | 0/3 [00:00<?, ?it/s]"
      ]
     },
     "metadata": {},
     "output_type": "display_data"
    },
    {
     "data": {
      "application/vnd.jupyter.widget-view+json": {
       "model_id": "",
       "version_major": 2,
       "version_minor": 0
      },
      "text/plain": [
       "Sub Folders:   0%|          | 0/3 [00:00<?, ?it/s]"
      ]
     },
     "metadata": {},
     "output_type": "display_data"
    },
    {
     "data": {
      "application/vnd.jupyter.widget-view+json": {
       "model_id": "",
       "version_major": 2,
       "version_minor": 0
      },
      "text/plain": [
       "Sub Folders:   0%|          | 0/3 [00:00<?, ?it/s]"
      ]
     },
     "metadata": {},
     "output_type": "display_data"
    },
    {
     "data": {
      "application/vnd.jupyter.widget-view+json": {
       "model_id": "",
       "version_major": 2,
       "version_minor": 0
      },
      "text/plain": [
       "Sub Folders:   0%|          | 0/2 [00:00<?, ?it/s]"
      ]
     },
     "metadata": {},
     "output_type": "display_data"
    },
    {
     "data": {
      "application/vnd.jupyter.widget-view+json": {
       "model_id": "",
       "version_major": 2,
       "version_minor": 0
      },
      "text/plain": [
       "Sub Folders:   0%|          | 0/3 [00:00<?, ?it/s]"
      ]
     },
     "metadata": {},
     "output_type": "display_data"
    },
    {
     "data": {
      "application/vnd.jupyter.widget-view+json": {
       "model_id": "",
       "version_major": 2,
       "version_minor": 0
      },
      "text/plain": [
       "Sub Folders:   0%|          | 0/2 [00:00<?, ?it/s]"
      ]
     },
     "metadata": {},
     "output_type": "display_data"
    },
    {
     "data": {
      "application/vnd.jupyter.widget-view+json": {
       "model_id": "",
       "version_major": 2,
       "version_minor": 0
      },
      "text/plain": [
       "Sub Folders:   0%|          | 0/2 [00:00<?, ?it/s]"
      ]
     },
     "metadata": {},
     "output_type": "display_data"
    },
    {
     "data": {
      "application/vnd.jupyter.widget-view+json": {
       "model_id": "",
       "version_major": 2,
       "version_minor": 0
      },
      "text/plain": [
       "Sub Folders:   0%|          | 0/6 [00:00<?, ?it/s]"
      ]
     },
     "metadata": {},
     "output_type": "display_data"
    },
    {
     "data": {
      "application/vnd.jupyter.widget-view+json": {
       "model_id": "",
       "version_major": 2,
       "version_minor": 0
      },
      "text/plain": [
       "Sub Folders:   0%|          | 0/3 [00:00<?, ?it/s]"
      ]
     },
     "metadata": {},
     "output_type": "display_data"
    },
    {
     "data": {
      "application/vnd.jupyter.widget-view+json": {
       "model_id": "",
       "version_major": 2,
       "version_minor": 0
      },
      "text/plain": [
       "Sub Folders:   0%|          | 0/3 [00:00<?, ?it/s]"
      ]
     },
     "metadata": {},
     "output_type": "display_data"
    },
    {
     "data": {
      "application/vnd.jupyter.widget-view+json": {
       "model_id": "",
       "version_major": 2,
       "version_minor": 0
      },
      "text/plain": [
       "Sub Folders:   0%|          | 0/1 [00:00<?, ?it/s]"
      ]
     },
     "metadata": {},
     "output_type": "display_data"
    },
    {
     "data": {
      "application/vnd.jupyter.widget-view+json": {
       "model_id": "",
       "version_major": 2,
       "version_minor": 0
      },
      "text/plain": [
       "Sub Folders:   0%|          | 0/6 [00:00<?, ?it/s]"
      ]
     },
     "metadata": {},
     "output_type": "display_data"
    },
    {
     "data": {
      "application/vnd.jupyter.widget-view+json": {
       "model_id": "",
       "version_major": 2,
       "version_minor": 0
      },
      "text/plain": [
       "Sub Folders:   0%|          | 0/6 [00:00<?, ?it/s]"
      ]
     },
     "metadata": {},
     "output_type": "display_data"
    },
    {
     "data": {
      "application/vnd.jupyter.widget-view+json": {
       "model_id": "",
       "version_major": 2,
       "version_minor": 0
      },
      "text/plain": [
       "Sub Folders:   0%|          | 0/6 [00:00<?, ?it/s]"
      ]
     },
     "metadata": {},
     "output_type": "display_data"
    },
    {
     "name": "stdout",
     "output_type": "stream",
     "text": [
      "CPU times: total: 1h 16min 23s\n",
      "Wall time: 1h 38min 19s\n"
     ]
    }
   ],
   "source": [
    "%%time\n",
    "\n",
    "from IPython.display import clear_output\n",
    "from ipywidgets import Output\n",
    "from IPython.display import display\n",
    "out = Output()\n",
    "display(out)\n",
    "\n",
    "def process_wikidump(basefolder=basefolder,\n",
    "                cities=list_of_cities,\n",
    "                city_pairs = city_pairs,\n",
    "                window_size=window_size):\n",
    "#                 corpus_path=corpus_path,\n",
    "#                 corpus_name=corpus_name,\n",
    "#                 new_corpus=new_corpus,\n",
    "    with warnings.catch_warnings():\n",
    "        warnings.simplefilter('ignore')\n",
    "        \n",
    "        # for file in tqdm(os.listdir(basefolder), total=len(os.listdir(basefolder)), desc='files'):\n",
    "        folders = [f.path for f in os.scandir(basefolder) if f.is_dir()]\n",
    "        i = 0\n",
    "        for folder in tqdm(folders, total=len(folders), leave=True, desc='Folders'):\n",
    "            i+=1\n",
    "            subfolders = [ f.path for f in os.scandir(folder) if f.is_dir()]\n",
    "            for subfolder in tqdm(subfolders, total=len(subfolders), leave=False, desc='Sub Folders'):\n",
    "                if '_V2' in subfolder:\n",
    "                    continue\n",
    "\n",
    "                for file in os.listdir(subfolder): # tqdm(os.listdir(subfolder), total=len(os.listdir(subfolder)), leave=True, desc='Text Files'):                            \n",
    "                    with open(os.path.join(subfolder, file), \"r\", encoding=\"utf-8\") as f:\n",
    "                        process_file(file, f.read(), city_pairs) \n",
    "                    with out:\n",
    "                        print(subfolder)\n",
    "                        clear_output(wait=True)\n",
    "                \n",
    "                os.replace(subfolder, subfolder + '_V2')\n",
    "                \n",
    "            if i == 10:\n",
    "                break\n",
    "            \n",
    "\n",
    "process_wikidump()"
   ]
  },
  {
   "cell_type": "code",
   "execution_count": 22,
   "id": "277d5957",
   "metadata": {},
   "outputs": [],
   "source": [
    "import sys\n",
    "tokenizer = RegexpTokenizer('\\w+')\n",
    "\n",
    "def process_file(filename, file_content, city_pairs):\n",
    "    articles = file_content.split('</doc>')\n",
    "    articles = [x.strip() for x in articles if len(x.strip())]\n",
    "    \n",
    "    for article in articles:\n",
    "        for paragraph in article.split('\\n'):\n",
    "            tokenized_paragraph = tokenizer.tokenize(paragraph.lower())\n",
    "        \n",
    "            word_count = Counter(tokenized_paragraph)\n",
    "            words = set(word_count.keys())\n",
    "            \n",
    "            for city_pair in city_pairs:\n",
    "                detected_cities = words.intersection(set(city_pair))\n",
    "\n",
    "                if len(detected_cities) == 2:\n",
    "                    reg_str = \"title=\\\"\" + \"(.*?)\" + \"\\\"\"\n",
    "                    title = re.findall(reg_str, article)\n",
    "\n",
    "                    reg_str = \"id=\\\"\" + \"(.*?)\" + \"\\\"\"\n",
    "                    article_id = re.findall(reg_str, article)\n",
    "                    \n",
    "                    with out:\n",
    "                        print('\\r',filename,\" || \", \"title: \", title[0], \" || \", \"citypair: \", city_pair, end='                                            ')\n",
    "\n",
    "                    content = f'title=\"{title[0]}\", id={article_id[0]} \\n{paragraph} \\n\\n'\n",
    "                    \n",
    "                    textfile = f'../../../../enwiki_city_pairs/biggest_cities_10/{city_pair[0]}_{city_pair[1]}.txt'\n",
    "#                     if not os.path.exists(textfile):\n",
    "#                         open(textfile, \"x\")\n",
    "                        \n",
    "#                     with open(textfile, 'r', encoding='utf-16') as f:\n",
    "#                         if f'id={article_id[0]}' not in f.read():\n",
    "                    with open(textfile, 'a+', encoding='utf-16') as f:\n",
    "                        f.writelines(content)\n",
    "#                         else:\n",
    "#                             print('exists!')"
   ]
  },
  {
   "cell_type": "code",
   "execution_count": 5,
   "id": "24b515aa",
   "metadata": {},
   "outputs": [
    {
     "data": {
      "text/plain": [
       "[\"There are plenty of air connections between Yerevan and other regional cities, including Athens, Barcelona, Beirut, Berlin, Bucharest, Brussels, Damascus, Doha, Dubai, Istanbul, Kyiv, Kuwait City, London, Milan, Minsk, Moscow, Paris, Prague, Riga, Rome, Tehran, Tel-Aviv, Tbilisi, Vienna, Venice and Warsaw, as well as daily connections to most major cities within the CIS region. Statistics show that the number of tourists arriving in the country by air transportation increases yearly. In 2018, passenger flow at the two main airports of Armenia reached a record high of 2,856,673 million people. In December 2019, yearly passenger flow exceeded 3,000,000 million people for the first time in Armenia's history.\",\n",
       " \"In 1478, Guido Antonio Vespucci led a Florentine diplomatic mission to Paris and invited his younger cousin, Amerigo Vespucci, to join him. Amerigo's role is not clear, but it was likely as an attache or private secretary. Along the way they had business in Bologna, Milan, and Lyon. Their objective in Paris was to obtain French support for Florence's war with Naples. Louis XI was noncommittal and the diplomatic mission returned to Florence in 1481 with little to show for their efforts.\",\n",
       " '\"Napoleon as Mars the Peacemaker\" had its inception after Canova was hired to make a bust of Napoleon in 1802. The statue was begun in 1803, with Napoleon requesting to be shown in a French General\\'s uniform, Canova rejected this, insisting on an allusion to Mars, the Roman god of War. It was completed in 1806. In 1811, the statue arrived in Paris, but not installed; neither was its bronze copy in the Foro Napoleonico in Milan. In 1815, the original went to the Duke of Wellington, after his victory at Waterloo against Napoleon.',\n",
       " '\"Napoleon as Mars the Peacemaker\" had its inception after Canova was hired to make a bust of Napoleon in 1802. The statue was begun in 1802, with Napoleon requesting to be shown in a French General\\'s uniform, Canova rejected this, insisting on an allusion to Mars, the Roman god of War. It was completed in 1806. In 1811, the statue arrived in Paris, but not installed; neither was its bronze copy in the Foro Napoleonico in Milan. In 1815, the original went to the Duke of Wellington, after his victory at Waterloo against Napoleon.',\n",
       " 'Barcelona ( , , ) is a city on the coast of northeastern Spain. It is the capital and largest city of the autonomous community of Catalonia, as well as the second most populous municipality of Spain. With a population of 1.6 million within city limits, its urban area extends to numerous neighbouring municipalities within the Province of Barcelona and is home to around 4.8 million people, making it the fifth most populous urban area in the European Union after Paris, the Ruhr area, Madrid, and Milan. It is one of the largest metropolises on the Mediterranean Sea, located on the coast between the mouths of the rivers Llobregat and Besòs, and bounded to the west by the Serra de Collserola mountain range, the tallest peak of which is high.',\n",
       " 'Barcelona was the 20th-most-visited city in the world by international visitors and the fifth most visited city in Europe after London, Paris, Istanbul and Rome, with 5.5\\xa0million international visitors in 2011. By 2015, both Prague and Milan had more international visitors. With its Rambles, Barcelona is ranked the most popular city to visit in Spain.',\n",
       " 'During the war Ettore Bugatti was sent away, initially to Milan and later to Paris, but as soon as hostilities had been concluded he returned to his factory at Molsheim. Less than four months after the Versailles Treaty formalised the transfer of Alsace from Germany to France, Bugatti was able to obtain, at the last minute, a stand at the 15th Paris motor show in October 1919. He exhibited three light cars, all of them closely based on their pre-war equivalents, and each fitted with the same overhead camshaft 4-cylinder 1,368cc engine with four valves per cylinder. Smallest of the three was a \"Type 13\" with a racing body (constructed by Bugatti themselves) and using a chassis with a wheelbase. The others were a \"Type 22\" and a \"Type 23\" with wheelbases of respectively.',\n",
       " 'David Robert Joseph Beckham (; born 2 May 1975) is an English former professional footballer, the current president &amp; co-owner of Inter Miami CF and co-owner of Salford City. He played for Manchester United, Preston North End (on loan), Real Madrid, AC Milan (on loan), LA Galaxy, Paris Saint-Germain and the England national team, for which he held the appearance record for an outfield player until 2016. He is the first English player to win league titles in four countries: England, Spain, the United States and France. He retired in May 2013 after a 20-year career, during which he won 19 major trophies.',\n",
       " 'His only red card with Manchester United came on 6 January 2000, in the 2000 FIFA Club World Championship against Necaxa. During his time at Real Madrid, he amassed 41 yellow cards and four red cards in La Liga; he also received a red card in a Copa del Rey match against Valencia on 21 January 2004, in Madrid. His only red card with LA Galaxy came on 15 August 2009, in a 2–0 home defeat to Seattle Sounders in the MLS. He received one red card while at Paris Saint-Germain – picked up in injury time – in a match against Evian on 28 April 2013. Between 2000 and 2013, Beckham played 572 competitive games for England, Milan, LA Galaxy, Manchester United, Real Madrid and PSG, and he received nine red cards – one every 63–64 matches, on average.',\n",
       " 'When considering the commuter belts or metropolitan areas, within the EU (for which comparable data is available) Moscow covers the largest population, followed in order by Istanbul, London, Paris, Madrid, Milan, Ruhr Area, Saint Petersburg, Rhein-Süd, Barcelona and Berlin.']"
      ]
     },
     "execution_count": 5,
     "metadata": {},
     "output_type": "execute_result"
    }
   ],
   "source": [
    "textfile = f'../../../enwiki_city_pairs/paris_milan.txt'\n",
    "\n",
    "with open(textfile, 'r', encoding='utf-16') as f:\n",
    "    parismilan = [x.strip() for x in f.read().split('\\n') if len(x) and 'title=' not in x]\n",
    "    \n",
    "parismilan[:10]"
   ]
  },
  {
   "cell_type": "markdown",
   "id": "96e4a563",
   "metadata": {},
   "source": [
    "# NOTHING IMPORTANT AFTER THIS"
   ]
  },
  {
   "cell_type": "markdown",
   "id": "e38cc09d",
   "metadata": {},
   "source": [
    "# Topic Modeling"
   ]
  },
  {
   "cell_type": "code",
   "execution_count": 3,
   "id": "02ddd425",
   "metadata": {},
   "outputs": [
    {
     "name": "stderr",
     "output_type": "stream",
     "text": [
      "c:\\users\\deejay\\personal files [local]\\applied data science\\thesis - citynet\\citynet\\venv_citynet\\lib\\site-packages\\past\\builtins\\misc.py:45: DeprecationWarning: the imp module is deprecated in favour of importlib; see the module's documentation for alternative uses\n",
      "  from imp import reload\n",
      "c:\\users\\deejay\\personal files [local]\\applied data science\\thesis - citynet\\citynet\\venv_citynet\\lib\\site-packages\\gensim\\matutils.py:24: DeprecationWarning: Please use `triu` from the `scipy.linalg` namespace, the `scipy.linalg.special_matrices` namespace is deprecated.\n",
      "  from scipy.linalg.special_matrices import triu\n"
     ]
    }
   ],
   "source": [
    "import pyLDAvis\n",
    "import pyLDAvis.gensim_models as gensimvis\n",
    "import gensim\n",
    "from gensim.corpora import Dictionary\n",
    "from gensim.models import CoherenceModel\n",
    "import spacy\n",
    "nlp = spacy.load(\"en_core_web_sm\")"
   ]
  },
  {
   "cell_type": "code",
   "execution_count": 366,
   "id": "7dc6de42",
   "metadata": {},
   "outputs": [
    {
     "name": "stdout",
     "output_type": "stream",
     "text": [
      "\n",
      "Saved under mallet-2.0.8.zip\n"
     ]
    }
   ],
   "source": [
    "# import wget\n",
    "# !python -m wget http://mallet.cs.umass.edu/dist/mallet-2.0.8.zip"
   ]
  },
  {
   "cell_type": "markdown",
   "id": "c5174ef4",
   "metadata": {},
   "source": [
    "## Important Functions"
   ]
  },
  {
   "cell_type": "code",
   "execution_count": 6,
   "id": "b3f88150",
   "metadata": {},
   "outputs": [
    {
     "ename": "NameError",
     "evalue": "name 'parismilan' is not defined",
     "output_type": "error",
     "traceback": [
      "\u001b[1;31m---------------------------------------------------------------------------\u001b[0m",
      "\u001b[1;31mNameError\u001b[0m                                 Traceback (most recent call last)",
      "Input \u001b[1;32mIn [6]\u001b[0m, in \u001b[0;36m<cell line: 40>\u001b[1;34m()\u001b[0m\n\u001b[0;32m     36\u001b[0m         \u001b[38;5;28;01mreturn\u001b[39;00m\n\u001b[0;32m     38\u001b[0m     \u001b[38;5;28;01mreturn\u001b[39;00m regexed_text\n\u001b[1;32m---> 40\u001b[0m lemmatized_text \u001b[38;5;241m=\u001b[39m lemmatize(\u001b[43mparismilan\u001b[49m[:\u001b[38;5;241m10\u001b[39m])\n",
      "\u001b[1;31mNameError\u001b[0m: name 'parismilan' is not defined"
     ]
    }
   ],
   "source": [
    "def lemmatize(texts, POSfilter=[]):\n",
    "    POStags=[\"PROPN\", \"NOUN\", \"ADJ\", \"VERB\", \"ADV\"]\n",
    "\n",
    "    # Checks if user gave their own (list of) Part of Speech tag(s)\n",
    "    if POSfilter:\n",
    "        if isinstance(POSfilter, list):\n",
    "            for POS in POSfilter:\n",
    "                if POS not in POStags:\n",
    "                    print(f'POSfilter only allows a list with one or multiple from the following tags: {POStags}.')\n",
    "                    return\n",
    "            POStags = POSfilter\n",
    "        \n",
    "        elif isinstance(POSfilter, str):\n",
    "            if POSfilter not in POStags:\n",
    "                print(f'Provided POStag should be in the following list: {POStags}.')\n",
    "                return\n",
    "            POStags = [POSfilter]\n",
    "        else:\n",
    "            print('POSfilter should either be left out, a list of POS tags or a single POS tag.')\n",
    "            return\n",
    "        \n",
    "    # Gets triggered if a single string is given\n",
    "    if isinstance(texts, str) and len(texts):\n",
    "        processed_text = nlp(texts.lower())\n",
    "        lemmatized_text = [word.lemma_.lower() for word in processed_text if word.pos_ in POStags and not word.is_punct and not word.is_stop]\n",
    "        regexed_text = [re.sub(r'\\W+', '', word) for word in lemmatized_text]\n",
    "    \n",
    "    # Gets triggered if an array of strings is given\n",
    "    elif isinstance(texts, (pd.Series, list)) and len(texts):\n",
    "        processed_text = [text for text in tqdm(nlp.pipe(texts, n_process=-1, disable=[\"ner\", \"parser\"]), total=len(texts))]\n",
    "        lemmatized_text = [[word.lemma_.lower() for word in text if word.pos_ in POStags and not word.is_punct and not word.is_stop] for text in processed_text]\n",
    "        regexed_text = [[re.sub(r'\\W+', '', word) for word in text] for text in lemmatized_text]\n",
    "    \n",
    "    else:\n",
    "        print('Your provided text could not be processed. Check if the format of your provided text is either a string or a list of strings.')\n",
    "        return\n",
    "    \n",
    "    return regexed_text\n",
    "\n",
    "lemmatized_text = lemmatize(parismilan[:10])"
   ]
  },
  {
   "cell_type": "code",
   "execution_count": 7,
   "id": "afd9280e",
   "metadata": {},
   "outputs": [],
   "source": [
    "def vectorize(lemmatized_text, MIN_DF = 1, MAX_DF = 0.6):\n",
    "    # MIN_DF minium document frequency\n",
    "    # MAX_DF maximum document frequency\n",
    "\n",
    "    # Get vocabulary\n",
    "    dictionary = Dictionary(lemmatized_text)\n",
    "    dictionary.filter_extremes(no_below=MIN_DF, no_above=MAX_DF)\n",
    "    \n",
    "    corpus = [dictionary.doc2bow(text) for text in lemmatized_text]\n",
    "    \n",
    "    return(dictionary, corpus)"
   ]
  },
  {
   "cell_type": "code",
   "execution_count": 8,
   "id": "cb5ce427",
   "metadata": {},
   "outputs": [],
   "source": [
    "from gensim.models.wrappers import LdaMallet\n",
    "PATH_TO_MALLET = r'C:/mallet/bin/mallet.bat'\n",
    "\n",
    "def train_model(lemmatized_text, dictionary=[], corpus=[], MIN_DF = 1, MAX_DF = 0.6, N_TOPICS = 5, N_ITERATIONS = 1000):\n",
    "    # usually 1000 iterations will do\n",
    "    \n",
    "    # Call vectorization function if either dictionary or corpus is missing as parameter\n",
    "    if not type(dictionary) == gensim.corpora.dictionary.Dictionary or not corpus:\n",
    "        dictionary, corpus = vectorize(lemmatized_text, MIN_DF, MAX_DF)\n",
    "    \n",
    "    print(N_TOPICS)\n",
    "    \n",
    "    lda_model = LdaMallet(PATH_TO_MALLET,\n",
    "                corpus=corpus,\n",
    "                id2word=dictionary,\n",
    "                num_topics=N_TOPICS,\n",
    "                optimize_interval=10,\n",
    "                iterations=N_ITERATIONS)\n",
    "    \n",
    "    coherence_score = CoherenceModel(model=lda_model, texts=lemmatized_text, dictionary=dictionary, coherence='c_v').get_coherence()\n",
    "    \n",
    "    return(lda_model, coherence_score, dictionary, corpus)"
   ]
  },
  {
   "cell_type": "markdown",
   "id": "c44a57b1",
   "metadata": {},
   "source": [
    "## Word Topic Distribution"
   ]
  },
  {
   "cell_type": "code",
   "execution_count": 4,
   "id": "27a1bc98",
   "metadata": {},
   "outputs": [
    {
     "ename": "NameError",
     "evalue": "name 'model' is not defined",
     "output_type": "error",
     "traceback": [
      "\u001b[1;31m---------------------------------------------------------------------------\u001b[0m",
      "\u001b[1;31mNameError\u001b[0m                                 Traceback (most recent call last)",
      "Input \u001b[1;32mIn [4]\u001b[0m, in \u001b[0;36m<cell line: 4>\u001b[1;34m()\u001b[0m\n\u001b[0;32m      2\u001b[0m N_TOPICS \u001b[38;5;241m=\u001b[39m \u001b[38;5;241m4\u001b[39m\n\u001b[0;32m      4\u001b[0m \u001b[38;5;28;01mfor\u001b[39;00m i \u001b[38;5;129;01min\u001b[39;00m \u001b[38;5;28mrange\u001b[39m(N_TOPICS):\n\u001b[1;32m----> 5\u001b[0m     words \u001b[38;5;241m=\u001b[39m \u001b[43mmodel\u001b[49m\u001b[38;5;241m.\u001b[39mshow_topic(i, topn\u001b[38;5;241m=\u001b[39mMAX_WORDS)\n\u001b[0;32m      6\u001b[0m     \u001b[38;5;28mprint\u001b[39m([(x[\u001b[38;5;241m0\u001b[39m], \u001b[38;5;28mround\u001b[39m(x[\u001b[38;5;241m1\u001b[39m], \u001b[38;5;241m3\u001b[39m)) \u001b[38;5;28;01mfor\u001b[39;00m x \u001b[38;5;129;01min\u001b[39;00m words])\n",
      "\u001b[1;31mNameError\u001b[0m: name 'model' is not defined"
     ]
    }
   ],
   "source": [
    "MAX_WORDS = 10\n",
    "N_TOPICS = 4\n",
    "\n",
    "for i in range(N_TOPICS):\n",
    "    words = model.show_topic(i, topn=MAX_WORDS)\n",
    "    print([(x[0], round(x[1], 3)) for x in words])"
   ]
  },
  {
   "cell_type": "markdown",
   "id": "78dd4a84",
   "metadata": {},
   "source": [
    "## Document Topic Distribution"
   ]
  },
  {
   "cell_type": "code",
   "execution_count": 46,
   "id": "d62ef471",
   "metadata": {},
   "outputs": [
    {
     "name": "stdout",
     "output_type": "stream",
     "text": [
      "Topic distributions for document 0\n",
      "\t [(0, 0.4337883703631253), (1, 0.1628256929806356), (2, 0.1773988097267572), (3, 0.225987126929482)]\n",
      "Topic distributions for document 1\n",
      "\t [(0, 0.40355466170712806), (1, 0.21564374468325456), (2, 0.15102766396483033), (3, 0.229773929644787)]\n",
      "Topic distributions for document 2\n",
      "\t [(0, 0.39401957732231), (1, 0.220972288904759), (2, 0.1703822301782096), (3, 0.21462590359472147)]\n",
      "Topic distributions for document 3\n",
      "\t [(0, 0.3668454753226894), (1, 0.20059171240504356), (2, 0.1567951791783993), (3, 0.2757676330938677)]\n",
      "Topic distributions for document 4\n",
      "\t [(0, 0.3874072337391567), (1, 0.22110848103015396), (2, 0.1699773841879418), (3, 0.2215069010427475)]\n",
      "Topic distributions for document 5\n",
      "\t [(0, 0.38747894997849935), (1, 0.19766838356049), (2, 0.17198409777825072), (3, 0.24286856868275988)]\n",
      "Topic distributions for document 6\n",
      "\t [(0, 0.40942740417301976), (1, 0.263816158685384), (2, 0.16178818539519574), (3, 0.16496825174640056)]\n",
      "Topic distributions for document 7\n",
      "\t [(0, 0.40071584112366504), (1, 0.17659734154501344), (2, 0.17990594515749564), (3, 0.2427808721738258)]\n",
      "Topic distributions for document 8\n",
      "\t [(0, 0.41526208487565053), (1, 0.3059888212478445), (2, 0.12390694002216461), (3, 0.1548421538543403)]\n",
      "Topic distributions for document 9\n",
      "\t [(0, 0.39789553865710137), (1, 0.206659957036332), (2, 0.18829041000257035), (3, 0.20715409430399623)]\n"
     ]
    }
   ],
   "source": [
    "transformed_docs = model.load_document_topics()\n",
    "\n",
    "for i, document in enumerate(transformed_docs):\n",
    "    print('Topic distributions for document {}'.format(i))\n",
    "    print('\\t', [topic for topic in document])"
   ]
  },
  {
   "cell_type": "markdown",
   "id": "8cb53aae",
   "metadata": {},
   "source": [
    "## Sample Text"
   ]
  },
  {
   "cell_type": "code",
   "execution_count": 32,
   "id": "e34c9a27",
   "metadata": {},
   "outputs": [
    {
     "data": {
      "text/plain": [
       "[\"There are plenty of air connections between Yerevan and other regional cities, including Athens, Barcelona, Beirut, Berlin, Bucharest, Brussels, Damascus, Doha, Dubai, Istanbul, Kyiv, Kuwait City, London, Milan, Minsk, Moscow, Paris, Prague, Riga, Rome, Tehran, Tel-Aviv, Tbilisi, Vienna, Venice and Warsaw, as well as daily connections to most major cities within the CIS region. Statistics show that the number of tourists arriving in the country by air transportation increases yearly. In 2018, passenger flow at the two main airports of Armenia reached a record high of 2,856,673 million people. In December 2019, yearly passenger flow exceeded 3,000,000 million people for the first time in Armenia's history.\",\n",
       " \"In 1478, Guido Antonio Vespucci led a Florentine diplomatic mission to Paris and invited his younger cousin, Amerigo Vespucci, to join him. Amerigo's role is not clear, but it was likely as an attache or private secretary. Along the way they had business in Bologna, Milan, and Lyon. Their objective in Paris was to obtain French support for Florence's war with Naples. Louis XI was noncommittal and the diplomatic mission returned to Florence in 1481 with little to show for their efforts.\",\n",
       " '\"Napoleon as Mars the Peacemaker\" had its inception after Canova was hired to make a bust of Napoleon in 1802. The statue was begun in 1803, with Napoleon requesting to be shown in a French General\\'s uniform, Canova rejected this, insisting on an allusion to Mars, the Roman god of War. It was completed in 1806. In 1811, the statue arrived in Paris, but not installed; neither was its bronze copy in the Foro Napoleonico in Milan. In 1815, the original went to the Duke of Wellington, after his victory at Waterloo against Napoleon.',\n",
       " '\"Napoleon as Mars the Peacemaker\" had its inception after Canova was hired to make a bust of Napoleon in 1802. The statue was begun in 1802, with Napoleon requesting to be shown in a French General\\'s uniform, Canova rejected this, insisting on an allusion to Mars, the Roman god of War. It was completed in 1806. In 1811, the statue arrived in Paris, but not installed; neither was its bronze copy in the Foro Napoleonico in Milan. In 1815, the original went to the Duke of Wellington, after his victory at Waterloo against Napoleon.',\n",
       " 'Barcelona ( , , ) is a city on the coast of northeastern Spain. It is the capital and largest city of the autonomous community of Catalonia, as well as the second most populous municipality of Spain. With a population of 1.6 million within city limits, its urban area extends to numerous neighbouring municipalities within the Province of Barcelona and is home to around 4.8 million people, making it the fifth most populous urban area in the European Union after Paris, the Ruhr area, Madrid, and Milan. It is one of the largest metropolises on the Mediterranean Sea, located on the coast between the mouths of the rivers Llobregat and Besòs, and bounded to the west by the Serra de Collserola mountain range, the tallest peak of which is high.',\n",
       " 'Barcelona was the 20th-most-visited city in the world by international visitors and the fifth most visited city in Europe after London, Paris, Istanbul and Rome, with 5.5\\xa0million international visitors in 2011. By 2015, both Prague and Milan had more international visitors. With its Rambles, Barcelona is ranked the most popular city to visit in Spain.',\n",
       " 'During the war Ettore Bugatti was sent away, initially to Milan and later to Paris, but as soon as hostilities had been concluded he returned to his factory at Molsheim. Less than four months after the Versailles Treaty formalised the transfer of Alsace from Germany to France, Bugatti was able to obtain, at the last minute, a stand at the 15th Paris motor show in October 1919. He exhibited three light cars, all of them closely based on their pre-war equivalents, and each fitted with the same overhead camshaft 4-cylinder 1,368cc engine with four valves per cylinder. Smallest of the three was a \"Type 13\" with a racing body (constructed by Bugatti themselves) and using a chassis with a wheelbase. The others were a \"Type 22\" and a \"Type 23\" with wheelbases of respectively.',\n",
       " 'David Robert Joseph Beckham (; born 2 May 1975) is an English former professional footballer, the current president &amp; co-owner of Inter Miami CF and co-owner of Salford City. He played for Manchester United, Preston North End (on loan), Real Madrid, AC Milan (on loan), LA Galaxy, Paris Saint-Germain and the England national team, for which he held the appearance record for an outfield player until 2016. He is the first English player to win league titles in four countries: England, Spain, the United States and France. He retired in May 2013 after a 20-year career, during which he won 19 major trophies.',\n",
       " 'His only red card with Manchester United came on 6 January 2000, in the 2000 FIFA Club World Championship against Necaxa. During his time at Real Madrid, he amassed 41 yellow cards and four red cards in La Liga; he also received a red card in a Copa del Rey match against Valencia on 21 January 2004, in Madrid. His only red card with LA Galaxy came on 15 August 2009, in a 2–0 home defeat to Seattle Sounders in the MLS. He received one red card while at Paris Saint-Germain – picked up in injury time – in a match against Evian on 28 April 2013. Between 2000 and 2013, Beckham played 572 competitive games for England, Milan, LA Galaxy, Manchester United, Real Madrid and PSG, and he received nine red cards – one every 63–64 matches, on average.',\n",
       " 'When considering the commuter belts or metropolitan areas, within the EU (for which comparable data is available) Moscow covers the largest population, followed in order by Istanbul, London, Paris, Madrid, Milan, Ruhr Area, Saint Petersburg, Rhein-Süd, Barcelona and Berlin.']"
      ]
     },
     "execution_count": 32,
     "metadata": {},
     "output_type": "execute_result"
    }
   ],
   "source": [
    "parismilan[:10]"
   ]
  },
  {
   "cell_type": "markdown",
   "id": "36c72883",
   "metadata": {},
   "source": [
    "## Visualisation"
   ]
  },
  {
   "cell_type": "code",
   "execution_count": 5,
   "id": "9f5f5dee",
   "metadata": {},
   "outputs": [
    {
     "ename": "NameError",
     "evalue": "name 'vectorize' is not defined",
     "output_type": "error",
     "traceback": [
      "\u001b[1;31m---------------------------------------------------------------------------\u001b[0m",
      "\u001b[1;31mNameError\u001b[0m                                 Traceback (most recent call last)",
      "Input \u001b[1;32mIn [5]\u001b[0m, in \u001b[0;36m<cell line: 3>\u001b[1;34m()\u001b[0m\n\u001b[0;32m      1\u001b[0m pyLDAvis\u001b[38;5;241m.\u001b[39menable_notebook()\n\u001b[1;32m----> 3\u001b[0m dictionary, corpus \u001b[38;5;241m=\u001b[39m \u001b[43mvectorize\u001b[49m(lemmatized_text, MIN_DF\u001b[38;5;241m=\u001b[39m\u001b[38;5;241m1\u001b[39m, MAX_DF\u001b[38;5;241m=\u001b[39m\u001b[38;5;241m0.6\u001b[39m)\n\u001b[0;32m      4\u001b[0m model, coherence, dictionary, corpus \u001b[38;5;241m=\u001b[39m train_model(lemmatized_text\u001b[38;5;241m=\u001b[39mlemmatized_text, dictionary\u001b[38;5;241m=\u001b[39m[], corpus\u001b[38;5;241m=\u001b[39m[], N_TOPICS\u001b[38;5;241m=\u001b[39m\u001b[38;5;241m4\u001b[39m)\n\u001b[0;32m      6\u001b[0m lda_conv \u001b[38;5;241m=\u001b[39m gensim\u001b[38;5;241m.\u001b[39mmodels\u001b[38;5;241m.\u001b[39mwrappers\u001b[38;5;241m.\u001b[39mldamallet\u001b[38;5;241m.\u001b[39mmalletmodel2ldamodel(model)\n",
      "\u001b[1;31mNameError\u001b[0m: name 'vectorize' is not defined"
     ]
    }
   ],
   "source": [
    "pyLDAvis.enable_notebook()\n",
    "\n",
    "dictionary, corpus = vectorize(lemmatized_text, MIN_DF=1, MAX_DF=0.6)\n",
    "model, coherence, dictionary, corpus = train_model(lemmatized_text=lemmatized_text, dictionary=[], corpus=[], N_TOPICS=4)\n",
    "\n",
    "lda_conv = gensim.models.wrappers.ldamallet.malletmodel2ldamodel(model)\n",
    "gensimvis.prepare(lda_conv, corpus, dictionary)"
   ]
  },
  {
   "cell_type": "code",
   "execution_count": 2,
   "id": "7e03845d",
   "metadata": {
    "scrolled": true
   },
   "outputs": [],
   "source": [
    "# \n",
    "\n",
    "# MIN_DF = 1 # minium document frequency\n",
    "# MAX_DF = 0.6 # maximum document frequency\n",
    "\n",
    "# tokenized_texts = [['politics', 'is', 'quite', 'intresting', 'but', 'polticians', 'are','not'],\n",
    "#                     ['cats', 'like', 'to', 'explore'],\n",
    "#                     ['johnson', 'trump', 'politicians', 'of', 'the', 'new', 'era'] ,\n",
    "#                      ['war', 'is', 'not', 'essential', 'to', 'politics'],\n",
    "#                      ['dogs', 'and', 'cats', 'fight', 'sometimes'],\n",
    "#                      ['where', 'can', 'i', 'buy', 'guns', 'for', 'the', 'war'],\n",
    "#                     ['my','favorite', 'animal', 'is', 'my', 'cat'],\n",
    "#                     ['my', 'least', 'favorite', 'my', 'dog'],\n",
    "#                     ['world', 'war', 'two', 'started', 'in', '1939']\n",
    "#                     ]\n",
    "# dictionary = Dictionary(tokenized_texts) # get the vocabulary\n",
    "# dictionary.filter_extremes(no_below=MIN_DF, \n",
    "#                            no_above=MAX_DF)\n",
    "# corpus = [dictionary.doc2bow(text) for text in tokenized_texts]"
   ]
  },
  {
   "cell_type": "code",
   "execution_count": 3,
   "id": "b538a887",
   "metadata": {},
   "outputs": [],
   "source": [
    "\n",
    "# #models.wrappers import LdaMallet\n",
    "\n",
    "# PATH_TO_MALLET = r'C:/mallet/bin/mallet.bat'\n",
    "\n",
    "# N_TOPICS = 2 # k\n",
    "# N_ITERATIONS = 1000 # usually 1000 will do\n",
    "\n",
    "# lda = LdaMallet(PATH_TO_MALLET,\n",
    "#                 corpus=corpus,\n",
    "#                 id2word=dictionary,\n",
    "#                 num_topics=N_TOPICS,\n",
    "#                 optimize_interval=10,\n",
    "#                 iterations=N_ITERATIONS)"
   ]
  }
 ],
 "metadata": {
  "kernelspec": {
   "display_name": "Python 3 (ipykernel)",
   "language": "python",
   "name": "python3"
  },
  "language_info": {
   "codemirror_mode": {
    "name": "ipython",
    "version": 3
   },
   "file_extension": ".py",
   "mimetype": "text/x-python",
   "name": "python",
   "nbconvert_exporter": "python",
   "pygments_lexer": "ipython3",
   "version": "3.8.0"
  }
 },
 "nbformat": 4,
 "nbformat_minor": 5
}
