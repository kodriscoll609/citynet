{
 "cells": [
  {
   "cell_type": "code",
   "execution_count": null,
   "id": "fdc0cd63",
   "metadata": {},
   "outputs": [],
   "source": [
    "import pickle\n",
    "import os \n",
    "from tqdm.notebook import tqdm\n",
    "import re\n",
    "import spacy\n",
    "\n",
    "# nlp = spacy.load(\"en_core_web_sm\")\n",
    "nlp = spacy.load(\"en_core_web_lg\")\n",
    "nlp.max_length = 1500000\n",
    "nlp.disable_pipes('ner', 'parser')"
   ]
  },
  {
   "cell_type": "code",
   "execution_count": null,
   "id": "b812a7ff",
   "metadata": {},
   "outputs": [],
   "source": [
    "# !python -m spacy download en_core_web_lg "
   ]
  },
  {
   "cell_type": "code",
   "execution_count": 1,
   "id": "e01fad36",
   "metadata": {},
   "outputs": [],
   "source": [
    "from diedfunctions import *"
   ]
  },
  {
   "cell_type": "code",
   "execution_count": null,
   "id": "3579acaf",
   "metadata": {},
   "outputs": [],
   "source": [
    "# !pip install spacy\n",
    "# !spacy download en_core_web_sm"
   ]
  },
  {
   "cell_type": "code",
   "execution_count": null,
   "id": "8c40c247",
   "metadata": {},
   "outputs": [],
   "source": [
    "\"\"\"\"\n",
    "from tqdm.notebook import tqdm\n",
    "import os\n",
    "import time\n",
    "\n",
    "I = \"../../../../data/enwiki_city_pairs/\"\n",
    "O = \"../../../../data/NOUN/\"\n",
    "for root, dirs, files in tqdm(list(os.walk(I))):\n",
    "    # print(root)\n",
    "    [os.makedirs(os.path.join(O, dir), exist_ok=True) for dir in dirs]\n",
    "    for file_path in files:\n",
    "        print('-->', O, root)\n",
    "        print(root.replace(I, O))\n",
    "        print(file_path[:-4])\n",
    "    #os.path.split()\n",
    "    #print(os.path.split(root), files)\n",
    "    # print(root-I, files)\n",
    "#         print(dir)\n",
    "    # print(root, dirs, files)\n",
    "    time.sleep(1)\n",
    "    # print(dirs)\n",
    "    \n",
    "#os.makedirs(O, exist_ok=True)\n",
    "\"\"\"\""
   ]
  },
  {
   "cell_type": "code",
   "execution_count": null,
   "id": "38ba3ca4",
   "metadata": {},
   "outputs": [],
   "source": [
    "\"\"\"\"\n",
    "''.join(['NOUN', 'VERB'])\n",
    "\n",
    "POStags=[\"PROPN\", \"AUX\", \"NOUN\", \"ADJ\", \"VERB\", \"ADP\", \"SYM\", \"NUM\"]\n",
    "\n",
    "if 'noun'.upper() in POStags:\n",
    "    print('ee')\n",
    "\"\"\"\""
   ]
  },
  {
   "cell_type": "code",
   "execution_count": null,
   "id": "193d73f6",
   "metadata": {
    "scrolled": true
   },
   "outputs": [],
   "source": [
    "\"\"\"\"\n",
    "batch = 'biggest_cities_30'\n",
    "\n",
    "city_pair_folder = f\"../../../../data/enwiki_city_pairs/{batch}/\"\n",
    "OUTPUT_PATH = f\"../../../../data/enwiki_city_pairs_nouns/{batch}/\"\n",
    "\n",
    "i = 0\n",
    "for file in tqdm(os.scandir(city_pair_folder), total=len(os.listdir(city_pair_folder)), leave=True, desc='Folders'): # tqdm(os.listdir(subfolder), total=len(os.listdir(subfolder)), leave=True, desc='Text Files'):                     \n",
    "    if not file.is_dir():\n",
    "        i += 1\n",
    "        #print(i, file.path, file.name[:-4])\n",
    "        lemmatize_file(file.path, city_pair=file.name[:-4])\n",
    "\"\"\"\""
   ]
  },
  {
   "cell_type": "code",
   "execution_count": null,
   "id": "d7d9ea84",
   "metadata": {},
   "outputs": [],
   "source": [
    "\"\"\"\"\n",
    "def lemmatize_file(file_path, city_pair):\n",
    "    with open(file_path, 'r', encoding='utf-16') as f:\n",
    "        city_pair_text_list = [x.strip().lower() for x in f.read().split('\\n') if len(x) and 'title=' not in x]\n",
    "    print(len(city_pair_text_list))\n",
    "    \n",
    "    nr_of_chunks = len(city_pair_text_list)//1000 + 1\n",
    "    chunk_size = (len(city_pair_text_list)-1)//nr_of_chunks\n",
    "    chunked_text = [' '.join(city_pair_text_list[offs:offs+chunk_size]) for offs in range(0, len(city_pair_text_list), chunk_size)]\n",
    "    \n",
    "    processed_text = [text for text in tqdm(nlp.pipe(chunked_text, n_process=2, batch_size=1, disable=[\"ner\", \"parser\"]), total=len(chunked_text))]\n",
    "    lemmatized_text = [[word.lemma_ for word in text if word.pos_ == 'NOUN' and not word.is_punct and not word.is_stop] for text in processed_text]\n",
    "    regexed_text = [[re.sub(r'\\W+', '', word) for word in text] for text in lemmatized_text]\n",
    "    flattened_words = [item for sublist in regexed_text for item in sublist]\n",
    "    \n",
    "    with open(f'{OUTPUT_PATH}NOUNS__{city_pair}__.pickle', 'wb') as fp:\n",
    "        pickle.dump(flattened_words, fp)\n",
    "\"\"\"\""
   ]
  },
  {
   "cell_type": "markdown",
   "id": "cefd92c9",
   "metadata": {},
   "source": [
    "# Lemmatize Text Window (NOUNS)"
   ]
  },
  {
   "cell_type": "code",
   "execution_count": null,
   "id": "81abfd3e",
   "metadata": {},
   "outputs": [],
   "source": [
    "INPUT_DIR = \"../../../../data/enwiki_city_pairs/\"\n",
    "OUTPUT_DIR = \"../../../../data/enwiki_city_pairs_lemmatised/VERB_SPACY_LARGE/\"\n",
    "POS = [\"NOUN\"]\n",
    "\n",
    "create_lemmatised_wordlists(INPUT_DIR=INPUT_DIR, OUTPUT_DIR=OUTPUT_DIR, POS=POS)"
   ]
  },
  {
   "cell_type": "markdown",
   "id": "3de994ac",
   "metadata": {},
   "source": [
    "# Lemmatize Text Window (VERBS)"
   ]
  },
  {
   "cell_type": "code",
   "execution_count": 2,
   "id": "329193d4",
   "metadata": {
    "collapsed": true
   },
   "outputs": [
    {
     "data": {
      "application/vnd.jupyter.widget-view+json": {
       "model_id": "f710e3d12a464871805cdf7310b37e2f",
       "version_major": 2,
       "version_minor": 0
      },
      "text/plain": [
       "  0%|          | 0/5 [00:00<?, ?it/s]"
      ]
     },
     "metadata": {},
     "output_type": "display_data"
    },
    {
     "data": {
      "application/vnd.jupyter.widget-view+json": {
       "model_id": "a1295ea8efbd4a02b5bf183b64d456da",
       "version_major": 2,
       "version_minor": 0
      },
      "text/plain": [
       "0it [00:00, ?it/s]"
      ]
     },
     "metadata": {},
     "output_type": "display_data"
    },
    {
     "data": {
      "application/vnd.jupyter.widget-view+json": {
       "model_id": "20ca26e298cf4493933f63996c98da1c",
       "version_major": 2,
       "version_minor": 0
      },
      "text/plain": [
       "  0%|          | 0/35 [00:00<?, ?it/s]"
      ]
     },
     "metadata": {},
     "output_type": "display_data"
    },
    {
     "data": {
      "application/vnd.jupyter.widget-view+json": {
       "model_id": "257f80f719b2432bac0643e2ddda1edf",
       "version_major": 2,
       "version_minor": 0
      },
      "text/plain": [
       "  0%|          | 0/145 [00:00<?, ?it/s]"
      ]
     },
     "metadata": {},
     "output_type": "display_data"
    },
    {
     "data": {
      "application/vnd.jupyter.widget-view+json": {
       "model_id": "a91b4867f2eb4da69be9090aa9580f56",
       "version_major": 2,
       "version_minor": 0
      },
      "text/plain": [
       "  0%|          | 0/244 [00:00<?, ?it/s]"
      ]
     },
     "metadata": {},
     "output_type": "display_data"
    },
    {
     "name": "stdout",
     "output_type": "stream",
     "text": [
      "76\n"
     ]
    },
    {
     "data": {
      "application/vnd.jupyter.widget-view+json": {
       "model_id": "718ba8398c574e56928faced064b35d6",
       "version_major": 2,
       "version_minor": 0
      },
      "text/plain": [
       "  0%|          | 0/2 [00:00<?, ?it/s]"
      ]
     },
     "metadata": {},
     "output_type": "display_data"
    },
    {
     "name": "stdout",
     "output_type": "stream",
     "text": [
      "93\n"
     ]
    },
    {
     "data": {
      "application/vnd.jupyter.widget-view+json": {
       "model_id": "2c9ce7d90bb94836a52fb881736c9adc",
       "version_major": 2,
       "version_minor": 0
      },
      "text/plain": [
       "  0%|          | 0/2 [00:00<?, ?it/s]"
      ]
     },
     "metadata": {},
     "output_type": "display_data"
    },
    {
     "name": "stdout",
     "output_type": "stream",
     "text": [
      "28\n"
     ]
    },
    {
     "data": {
      "application/vnd.jupyter.widget-view+json": {
       "model_id": "0b359f437e4a425bb1a183579e8239a1",
       "version_major": 2,
       "version_minor": 0
      },
      "text/plain": [
       "  0%|          | 0/2 [00:00<?, ?it/s]"
      ]
     },
     "metadata": {},
     "output_type": "display_data"
    },
    {
     "name": "stdout",
     "output_type": "stream",
     "text": [
      "22\n"
     ]
    },
    {
     "data": {
      "application/vnd.jupyter.widget-view+json": {
       "model_id": "87d64901617f4e0d9885578d0a182eb5",
       "version_major": 2,
       "version_minor": 0
      },
      "text/plain": [
       "  0%|          | 0/2 [00:00<?, ?it/s]"
      ]
     },
     "metadata": {},
     "output_type": "display_data"
    },
    {
     "name": "stdout",
     "output_type": "stream",
     "text": [
      "396\n"
     ]
    },
    {
     "data": {
      "application/vnd.jupyter.widget-view+json": {
       "model_id": "95054d2c8116429fbf102e5b6e46d7e7",
       "version_major": 2,
       "version_minor": 0
      },
      "text/plain": [
       "  0%|          | 0/2 [00:00<?, ?it/s]"
      ]
     },
     "metadata": {},
     "output_type": "display_data"
    },
    {
     "name": "stdout",
     "output_type": "stream",
     "text": [
      "351\n"
     ]
    },
    {
     "data": {
      "application/vnd.jupyter.widget-view+json": {
       "model_id": "a799b8c170a449c697df300c1a7cdcee",
       "version_major": 2,
       "version_minor": 0
      },
      "text/plain": [
       "  0%|          | 0/2 [00:00<?, ?it/s]"
      ]
     },
     "metadata": {},
     "output_type": "display_data"
    },
    {
     "name": "stdout",
     "output_type": "stream",
     "text": [
      "435\n"
     ]
    },
    {
     "data": {
      "application/vnd.jupyter.widget-view+json": {
       "model_id": "93db289b59124451b6d6bbbd4d809205",
       "version_major": 2,
       "version_minor": 0
      },
      "text/plain": [
       "  0%|          | 0/2 [00:00<?, ?it/s]"
      ]
     },
     "metadata": {},
     "output_type": "display_data"
    },
    {
     "name": "stdout",
     "output_type": "stream",
     "text": [
      "110\n"
     ]
    },
    {
     "data": {
      "application/vnd.jupyter.widget-view+json": {
       "model_id": "691d867e271a4f80a3d6c3ecd9a0acac",
       "version_major": 2,
       "version_minor": 0
      },
      "text/plain": [
       "  0%|          | 0/2 [00:00<?, ?it/s]"
      ]
     },
     "metadata": {},
     "output_type": "display_data"
    },
    {
     "name": "stdout",
     "output_type": "stream",
     "text": [
      "234\n"
     ]
    },
    {
     "data": {
      "application/vnd.jupyter.widget-view+json": {
       "model_id": "6e7842c336554e4a8bd557865ca658c3",
       "version_major": 2,
       "version_minor": 0
      },
      "text/plain": [
       "  0%|          | 0/2 [00:00<?, ?it/s]"
      ]
     },
     "metadata": {},
     "output_type": "display_data"
    },
    {
     "name": "stdout",
     "output_type": "stream",
     "text": [
      "342\n"
     ]
    },
    {
     "data": {
      "application/vnd.jupyter.widget-view+json": {
       "model_id": "85891f4734614f7e95fca7e025953e1b",
       "version_major": 2,
       "version_minor": 0
      },
      "text/plain": [
       "  0%|          | 0/2 [00:00<?, ?it/s]"
      ]
     },
     "metadata": {},
     "output_type": "display_data"
    },
    {
     "name": "stdout",
     "output_type": "stream",
     "text": [
      "332\n"
     ]
    },
    {
     "data": {
      "application/vnd.jupyter.widget-view+json": {
       "model_id": "6cbcdfb49e5b4d3b96cf3df4911a7710",
       "version_major": 2,
       "version_minor": 0
      },
      "text/plain": [
       "  0%|          | 0/2 [00:00<?, ?it/s]"
      ]
     },
     "metadata": {},
     "output_type": "display_data"
    },
    {
     "name": "stdout",
     "output_type": "stream",
     "text": [
      "139\n"
     ]
    },
    {
     "data": {
      "application/vnd.jupyter.widget-view+json": {
       "model_id": "d71be84764104b16a37e66775f5944a9",
       "version_major": 2,
       "version_minor": 0
      },
      "text/plain": [
       "  0%|          | 0/2 [00:00<?, ?it/s]"
      ]
     },
     "metadata": {},
     "output_type": "display_data"
    },
    {
     "name": "stdout",
     "output_type": "stream",
     "text": [
      "46\n"
     ]
    },
    {
     "data": {
      "application/vnd.jupyter.widget-view+json": {
       "model_id": "0b82f73b2f284b65b5a67a4a1fce29e5",
       "version_major": 2,
       "version_minor": 0
      },
      "text/plain": [
       "  0%|          | 0/2 [00:00<?, ?it/s]"
      ]
     },
     "metadata": {},
     "output_type": "display_data"
    },
    {
     "name": "stdout",
     "output_type": "stream",
     "text": [
      "149\n"
     ]
    },
    {
     "data": {
      "application/vnd.jupyter.widget-view+json": {
       "model_id": "f8155af123c34422996db6b7f9afac31",
       "version_major": 2,
       "version_minor": 0
      },
      "text/plain": [
       "  0%|          | 0/2 [00:00<?, ?it/s]"
      ]
     },
     "metadata": {},
     "output_type": "display_data"
    },
    {
     "name": "stdout",
     "output_type": "stream",
     "text": [
      "24\n"
     ]
    },
    {
     "data": {
      "application/vnd.jupyter.widget-view+json": {
       "model_id": "4f50e3d192a245b99ee70703ffce0a63",
       "version_major": 2,
       "version_minor": 0
      },
      "text/plain": [
       "  0%|          | 0/2 [00:00<?, ?it/s]"
      ]
     },
     "metadata": {},
     "output_type": "display_data"
    },
    {
     "name": "stdout",
     "output_type": "stream",
     "text": [
      "63\n"
     ]
    },
    {
     "data": {
      "application/vnd.jupyter.widget-view+json": {
       "model_id": "ac2b1633d096473097d8066fa97c612f",
       "version_major": 2,
       "version_minor": 0
      },
      "text/plain": [
       "  0%|          | 0/2 [00:00<?, ?it/s]"
      ]
     },
     "metadata": {},
     "output_type": "display_data"
    },
    {
     "name": "stdout",
     "output_type": "stream",
     "text": [
      "63\n"
     ]
    },
    {
     "data": {
      "application/vnd.jupyter.widget-view+json": {
       "model_id": "528ccf649a294be1b311cee2d6d2314a",
       "version_major": 2,
       "version_minor": 0
      },
      "text/plain": [
       "  0%|          | 0/2 [00:00<?, ?it/s]"
      ]
     },
     "metadata": {},
     "output_type": "display_data"
    },
    {
     "name": "stdout",
     "output_type": "stream",
     "text": [
      "12\n"
     ]
    },
    {
     "data": {
      "application/vnd.jupyter.widget-view+json": {
       "model_id": "b9a2bc2fafb0454bbb724e51bed4fe6e",
       "version_major": 2,
       "version_minor": 0
      },
      "text/plain": [
       "  0%|          | 0/2 [00:00<?, ?it/s]"
      ]
     },
     "metadata": {},
     "output_type": "display_data"
    },
    {
     "name": "stdout",
     "output_type": "stream",
     "text": [
      "28\n"
     ]
    },
    {
     "data": {
      "application/vnd.jupyter.widget-view+json": {
       "model_id": "18ce2fd7577849878b7abbe100fbae6f",
       "version_major": 2,
       "version_minor": 0
      },
      "text/plain": [
       "  0%|          | 0/2 [00:00<?, ?it/s]"
      ]
     },
     "metadata": {},
     "output_type": "display_data"
    },
    {
     "name": "stdout",
     "output_type": "stream",
     "text": [
      "209\n"
     ]
    },
    {
     "data": {
      "application/vnd.jupyter.widget-view+json": {
       "model_id": "ba8f942ef67442bab464f5849812c5ca",
       "version_major": 2,
       "version_minor": 0
      },
      "text/plain": [
       "  0%|          | 0/2 [00:00<?, ?it/s]"
      ]
     },
     "metadata": {},
     "output_type": "display_data"
    },
    {
     "name": "stdout",
     "output_type": "stream",
     "text": [
      "75\n"
     ]
    },
    {
     "data": {
      "application/vnd.jupyter.widget-view+json": {
       "model_id": "1e1317d4fbde4e3fbab46e9a86a32a6a",
       "version_major": 2,
       "version_minor": 0
      },
      "text/plain": [
       "  0%|          | 0/2 [00:00<?, ?it/s]"
      ]
     },
     "metadata": {},
     "output_type": "display_data"
    },
    {
     "name": "stdout",
     "output_type": "stream",
     "text": [
      "26\n"
     ]
    },
    {
     "data": {
      "application/vnd.jupyter.widget-view+json": {
       "model_id": "3d9d1beee8e94069a7aae834c2dbd474",
       "version_major": 2,
       "version_minor": 0
      },
      "text/plain": [
       "  0%|          | 0/2 [00:00<?, ?it/s]"
      ]
     },
     "metadata": {},
     "output_type": "display_data"
    },
    {
     "name": "stdout",
     "output_type": "stream",
     "text": [
      "25\n"
     ]
    },
    {
     "data": {
      "application/vnd.jupyter.widget-view+json": {
       "model_id": "8afeae7aede042a094738eb64290df2a",
       "version_major": 2,
       "version_minor": 0
      },
      "text/plain": [
       "  0%|          | 0/2 [00:00<?, ?it/s]"
      ]
     },
     "metadata": {},
     "output_type": "display_data"
    },
    {
     "name": "stdout",
     "output_type": "stream",
     "text": [
      "254\n"
     ]
    },
    {
     "data": {
      "application/vnd.jupyter.widget-view+json": {
       "model_id": "67ef7894039248989fc14bd8888ee160",
       "version_major": 2,
       "version_minor": 0
      },
      "text/plain": [
       "  0%|          | 0/2 [00:00<?, ?it/s]"
      ]
     },
     "metadata": {},
     "output_type": "display_data"
    },
    {
     "name": "stdout",
     "output_type": "stream",
     "text": [
      "118\n"
     ]
    },
    {
     "data": {
      "application/vnd.jupyter.widget-view+json": {
       "model_id": "33a327698fe94942aa6e3a08acc26bbf",
       "version_major": 2,
       "version_minor": 0
      },
      "text/plain": [
       "  0%|          | 0/2 [00:00<?, ?it/s]"
      ]
     },
     "metadata": {},
     "output_type": "display_data"
    },
    {
     "name": "stdout",
     "output_type": "stream",
     "text": [
      "161\n"
     ]
    },
    {
     "data": {
      "application/vnd.jupyter.widget-view+json": {
       "model_id": "e8e45bbdd2fd46a39e7a78573fd8e9a6",
       "version_major": 2,
       "version_minor": 0
      },
      "text/plain": [
       "  0%|          | 0/2 [00:00<?, ?it/s]"
      ]
     },
     "metadata": {},
     "output_type": "display_data"
    },
    {
     "name": "stdout",
     "output_type": "stream",
     "text": [
      "175\n"
     ]
    },
    {
     "data": {
      "application/vnd.jupyter.widget-view+json": {
       "model_id": "7e36d9ea8fc94e09aac115953637f8cd",
       "version_major": 2,
       "version_minor": 0
      },
      "text/plain": [
       "  0%|          | 0/2 [00:00<?, ?it/s]"
      ]
     },
     "metadata": {},
     "output_type": "display_data"
    },
    {
     "name": "stdout",
     "output_type": "stream",
     "text": [
      "57\n"
     ]
    },
    {
     "data": {
      "application/vnd.jupyter.widget-view+json": {
       "model_id": "e736a0073c8a4cc0b41e28b94f8a38dd",
       "version_major": 2,
       "version_minor": 0
      },
      "text/plain": [
       "  0%|          | 0/2 [00:00<?, ?it/s]"
      ]
     },
     "metadata": {},
     "output_type": "display_data"
    },
    {
     "name": "stdout",
     "output_type": "stream",
     "text": [
      "59\n"
     ]
    },
    {
     "data": {
      "application/vnd.jupyter.widget-view+json": {
       "model_id": "fe5061d7f008409eb3b88b811b12c328",
       "version_major": 2,
       "version_minor": 0
      },
      "text/plain": [
       "  0%|          | 0/2 [00:00<?, ?it/s]"
      ]
     },
     "metadata": {},
     "output_type": "display_data"
    },
    {
     "name": "stdout",
     "output_type": "stream",
     "text": [
      "825\n"
     ]
    },
    {
     "data": {
      "application/vnd.jupyter.widget-view+json": {
       "model_id": "df82c8fa00d84cef89fc581138444dac",
       "version_major": 2,
       "version_minor": 0
      },
      "text/plain": [
       "  0%|          | 0/2 [00:00<?, ?it/s]"
      ]
     },
     "metadata": {},
     "output_type": "display_data"
    },
    {
     "name": "stdout",
     "output_type": "stream",
     "text": [
      "258\n"
     ]
    },
    {
     "data": {
      "application/vnd.jupyter.widget-view+json": {
       "model_id": "f431eb0cbd9943879b193823950891ac",
       "version_major": 2,
       "version_minor": 0
      },
      "text/plain": [
       "  0%|          | 0/2 [00:00<?, ?it/s]"
      ]
     },
     "metadata": {},
     "output_type": "display_data"
    },
    {
     "name": "stdout",
     "output_type": "stream",
     "text": [
      "72\n"
     ]
    },
    {
     "data": {
      "application/vnd.jupyter.widget-view+json": {
       "model_id": "4ef7fead30a64e7886942171a9bfa752",
       "version_major": 2,
       "version_minor": 0
      },
      "text/plain": [
       "  0%|          | 0/2 [00:00<?, ?it/s]"
      ]
     },
     "metadata": {},
     "output_type": "display_data"
    },
    {
     "name": "stdout",
     "output_type": "stream",
     "text": [
      "25\n"
     ]
    },
    {
     "data": {
      "application/vnd.jupyter.widget-view+json": {
       "model_id": "95f49fe799624dfb99d35eb25f5e5db0",
       "version_major": 2,
       "version_minor": 0
      },
      "text/plain": [
       "  0%|          | 0/2 [00:00<?, ?it/s]"
      ]
     },
     "metadata": {},
     "output_type": "display_data"
    },
    {
     "name": "stdout",
     "output_type": "stream",
     "text": [
      "159\n"
     ]
    },
    {
     "data": {
      "application/vnd.jupyter.widget-view+json": {
       "model_id": "57a12643dca24ecba91d3851f427dc72",
       "version_major": 2,
       "version_minor": 0
      },
      "text/plain": [
       "  0%|          | 0/2 [00:00<?, ?it/s]"
      ]
     },
     "metadata": {},
     "output_type": "display_data"
    },
    {
     "name": "stdout",
     "output_type": "stream",
     "text": [
      "49\n"
     ]
    },
    {
     "data": {
      "application/vnd.jupyter.widget-view+json": {
       "model_id": "0dee5adfe0d3455ea9211ec177a5a275",
       "version_major": 2,
       "version_minor": 0
      },
      "text/plain": [
       "  0%|          | 0/2 [00:00<?, ?it/s]"
      ]
     },
     "metadata": {},
     "output_type": "display_data"
    },
    {
     "name": "stdout",
     "output_type": "stream",
     "text": [
      "81\n"
     ]
    },
    {
     "data": {
      "application/vnd.jupyter.widget-view+json": {
       "model_id": "4ceeb1c73528407792a33eda5b0330a4",
       "version_major": 2,
       "version_minor": 0
      },
      "text/plain": [
       "  0%|          | 0/2 [00:00<?, ?it/s]"
      ]
     },
     "metadata": {},
     "output_type": "display_data"
    },
    {
     "name": "stdout",
     "output_type": "stream",
     "text": [
      "210\n"
     ]
    },
    {
     "data": {
      "application/vnd.jupyter.widget-view+json": {
       "model_id": "10e1f3bc5b8643738e1df5befbdd631a",
       "version_major": 2,
       "version_minor": 0
      },
      "text/plain": [
       "  0%|          | 0/2 [00:00<?, ?it/s]"
      ]
     },
     "metadata": {},
     "output_type": "display_data"
    },
    {
     "name": "stdout",
     "output_type": "stream",
     "text": [
      "51\n"
     ]
    },
    {
     "data": {
      "application/vnd.jupyter.widget-view+json": {
       "model_id": "7eecd4abedbe4ca7b0c81e43665d9e14",
       "version_major": 2,
       "version_minor": 0
      },
      "text/plain": [
       "  0%|          | 0/2 [00:00<?, ?it/s]"
      ]
     },
     "metadata": {},
     "output_type": "display_data"
    },
    {
     "name": "stdout",
     "output_type": "stream",
     "text": [
      "36\n"
     ]
    },
    {
     "data": {
      "application/vnd.jupyter.widget-view+json": {
       "model_id": "9439c4c64a5148b8a7297c136445b87c",
       "version_major": 2,
       "version_minor": 0
      },
      "text/plain": [
       "  0%|          | 0/2 [00:00<?, ?it/s]"
      ]
     },
     "metadata": {},
     "output_type": "display_data"
    },
    {
     "name": "stdout",
     "output_type": "stream",
     "text": [
      "131\n"
     ]
    },
    {
     "data": {
      "application/vnd.jupyter.widget-view+json": {
       "model_id": "b4ab7c0ab5c7488d814a4cda8ea71aec",
       "version_major": 2,
       "version_minor": 0
      },
      "text/plain": [
       "  0%|          | 0/2 [00:00<?, ?it/s]"
      ]
     },
     "metadata": {},
     "output_type": "display_data"
    },
    {
     "name": "stdout",
     "output_type": "stream",
     "text": [
      "51\n"
     ]
    },
    {
     "data": {
      "application/vnd.jupyter.widget-view+json": {
       "model_id": "50ba80d07ac148cd91e68150d1b3c85b",
       "version_major": 2,
       "version_minor": 0
      },
      "text/plain": [
       "  0%|          | 0/2 [00:00<?, ?it/s]"
      ]
     },
     "metadata": {},
     "output_type": "display_data"
    },
    {
     "name": "stdout",
     "output_type": "stream",
     "text": [
      "247\n"
     ]
    },
    {
     "data": {
      "application/vnd.jupyter.widget-view+json": {
       "model_id": "f5ce9116c82541cd9f618f17225a0a82",
       "version_major": 2,
       "version_minor": 0
      },
      "text/plain": [
       "  0%|          | 0/2 [00:00<?, ?it/s]"
      ]
     },
     "metadata": {},
     "output_type": "display_data"
    },
    {
     "name": "stdout",
     "output_type": "stream",
     "text": [
      "37\n"
     ]
    },
    {
     "data": {
      "application/vnd.jupyter.widget-view+json": {
       "model_id": "d40991c9b46f4a8cac34c9b9449a3e6b",
       "version_major": 2,
       "version_minor": 0
      },
      "text/plain": [
       "  0%|          | 0/2 [00:00<?, ?it/s]"
      ]
     },
     "metadata": {},
     "output_type": "display_data"
    },
    {
     "name": "stdout",
     "output_type": "stream",
     "text": [
      "47\n"
     ]
    },
    {
     "data": {
      "application/vnd.jupyter.widget-view+json": {
       "model_id": "f281c6dca70d4e72aed4d766e56d8036",
       "version_major": 2,
       "version_minor": 0
      },
      "text/plain": [
       "  0%|          | 0/2 [00:00<?, ?it/s]"
      ]
     },
     "metadata": {},
     "output_type": "display_data"
    },
    {
     "name": "stdout",
     "output_type": "stream",
     "text": [
      "1294\n"
     ]
    },
    {
     "data": {
      "application/vnd.jupyter.widget-view+json": {
       "model_id": "e4c24b81239a44278bd6ecd9b5dfd55f",
       "version_major": 2,
       "version_minor": 0
      },
      "text/plain": [
       "  0%|          | 0/3 [00:00<?, ?it/s]"
      ]
     },
     "metadata": {},
     "output_type": "display_data"
    },
    {
     "name": "stdout",
     "output_type": "stream",
     "text": [
      "190\n"
     ]
    },
    {
     "data": {
      "application/vnd.jupyter.widget-view+json": {
       "model_id": "d8382b32ed6747a0adeb078915e95a95",
       "version_major": 2,
       "version_minor": 0
      },
      "text/plain": [
       "  0%|          | 0/2 [00:00<?, ?it/s]"
      ]
     },
     "metadata": {},
     "output_type": "display_data"
    },
    {
     "name": "stdout",
     "output_type": "stream",
     "text": [
      "72\n"
     ]
    },
    {
     "data": {
      "application/vnd.jupyter.widget-view+json": {
       "model_id": "46e94a04a5db4298b858d8c273c9f9cf",
       "version_major": 2,
       "version_minor": 0
      },
      "text/plain": [
       "  0%|          | 0/2 [00:00<?, ?it/s]"
      ]
     },
     "metadata": {},
     "output_type": "display_data"
    },
    {
     "name": "stdout",
     "output_type": "stream",
     "text": [
      "132\n"
     ]
    },
    {
     "data": {
      "application/vnd.jupyter.widget-view+json": {
       "model_id": "5fcecfa86240439bb5aef2f264b7b41c",
       "version_major": 2,
       "version_minor": 0
      },
      "text/plain": [
       "  0%|          | 0/2 [00:00<?, ?it/s]"
      ]
     },
     "metadata": {},
     "output_type": "display_data"
    },
    {
     "name": "stdout",
     "output_type": "stream",
     "text": [
      "351\n"
     ]
    },
    {
     "data": {
      "application/vnd.jupyter.widget-view+json": {
       "model_id": "bb27046561a44646a53f0ba93960545f",
       "version_major": 2,
       "version_minor": 0
      },
      "text/plain": [
       "  0%|          | 0/2 [00:00<?, ?it/s]"
      ]
     },
     "metadata": {},
     "output_type": "display_data"
    },
    {
     "name": "stdout",
     "output_type": "stream",
     "text": [
      "65\n"
     ]
    },
    {
     "data": {
      "application/vnd.jupyter.widget-view+json": {
       "model_id": "7762ff2559024c69bec6c992de1ddb0a",
       "version_major": 2,
       "version_minor": 0
      },
      "text/plain": [
       "  0%|          | 0/2 [00:00<?, ?it/s]"
      ]
     },
     "metadata": {},
     "output_type": "display_data"
    },
    {
     "name": "stdout",
     "output_type": "stream",
     "text": [
      "40\n"
     ]
    },
    {
     "data": {
      "application/vnd.jupyter.widget-view+json": {
       "model_id": "1f5124c93ac542679db223ecdb2c975b",
       "version_major": 2,
       "version_minor": 0
      },
      "text/plain": [
       "  0%|          | 0/2 [00:00<?, ?it/s]"
      ]
     },
     "metadata": {},
     "output_type": "display_data"
    },
    {
     "name": "stdout",
     "output_type": "stream",
     "text": [
      "83\n"
     ]
    },
    {
     "data": {
      "application/vnd.jupyter.widget-view+json": {
       "model_id": "12e9206f78f4493399aa00b25b49a0ed",
       "version_major": 2,
       "version_minor": 0
      },
      "text/plain": [
       "  0%|          | 0/2 [00:00<?, ?it/s]"
      ]
     },
     "metadata": {},
     "output_type": "display_data"
    },
    {
     "name": "stdout",
     "output_type": "stream",
     "text": [
      "52\n"
     ]
    },
    {
     "data": {
      "application/vnd.jupyter.widget-view+json": {
       "model_id": "18e282db52e1481789bc20af128b1833",
       "version_major": 2,
       "version_minor": 0
      },
      "text/plain": [
       "  0%|          | 0/2 [00:00<?, ?it/s]"
      ]
     },
     "metadata": {},
     "output_type": "display_data"
    },
    {
     "name": "stdout",
     "output_type": "stream",
     "text": [
      "301\n"
     ]
    },
    {
     "data": {
      "application/vnd.jupyter.widget-view+json": {
       "model_id": "1711189398b84379a47cd32b14ce6e2b",
       "version_major": 2,
       "version_minor": 0
      },
      "text/plain": [
       "  0%|          | 0/2 [00:00<?, ?it/s]"
      ]
     },
     "metadata": {},
     "output_type": "display_data"
    },
    {
     "name": "stdout",
     "output_type": "stream",
     "text": [
      "967\n"
     ]
    },
    {
     "data": {
      "application/vnd.jupyter.widget-view+json": {
       "model_id": "bf20b089f63046d88664fc3a7cfa1c89",
       "version_major": 2,
       "version_minor": 0
      },
      "text/plain": [
       "  0%|          | 0/2 [00:00<?, ?it/s]"
      ]
     },
     "metadata": {},
     "output_type": "display_data"
    },
    {
     "name": "stdout",
     "output_type": "stream",
     "text": [
      "573\n"
     ]
    },
    {
     "data": {
      "application/vnd.jupyter.widget-view+json": {
       "model_id": "3458797e8b9f40ddacccea6596ec7701",
       "version_major": 2,
       "version_minor": 0
      },
      "text/plain": [
       "  0%|          | 0/2 [00:00<?, ?it/s]"
      ]
     },
     "metadata": {},
     "output_type": "display_data"
    },
    {
     "name": "stdout",
     "output_type": "stream",
     "text": [
      "1275\n"
     ]
    },
    {
     "data": {
      "application/vnd.jupyter.widget-view+json": {
       "model_id": "ef07dfde06be48f0b3a90d70ae40a7c0",
       "version_major": 2,
       "version_minor": 0
      },
      "text/plain": [
       "  0%|          | 0/3 [00:00<?, ?it/s]"
      ]
     },
     "metadata": {},
     "output_type": "display_data"
    },
    {
     "name": "stdout",
     "output_type": "stream",
     "text": [
      "114\n"
     ]
    },
    {
     "data": {
      "application/vnd.jupyter.widget-view+json": {
       "model_id": "0c6fe515477445bc94f7ae199948eba6",
       "version_major": 2,
       "version_minor": 0
      },
      "text/plain": [
       "  0%|          | 0/2 [00:00<?, ?it/s]"
      ]
     },
     "metadata": {},
     "output_type": "display_data"
    },
    {
     "name": "stdout",
     "output_type": "stream",
     "text": [
      "77\n"
     ]
    },
    {
     "data": {
      "application/vnd.jupyter.widget-view+json": {
       "model_id": "1957fe22cbde4179bd441bdf8c9365c9",
       "version_major": 2,
       "version_minor": 0
      },
      "text/plain": [
       "  0%|          | 0/2 [00:00<?, ?it/s]"
      ]
     },
     "metadata": {},
     "output_type": "display_data"
    },
    {
     "name": "stdout",
     "output_type": "stream",
     "text": [
      "354\n"
     ]
    },
    {
     "data": {
      "application/vnd.jupyter.widget-view+json": {
       "model_id": "6fe19350c6974f038a5d0239056325cd",
       "version_major": 2,
       "version_minor": 0
      },
      "text/plain": [
       "  0%|          | 0/2 [00:00<?, ?it/s]"
      ]
     },
     "metadata": {},
     "output_type": "display_data"
    },
    {
     "name": "stdout",
     "output_type": "stream",
     "text": [
      "353\n"
     ]
    },
    {
     "data": {
      "application/vnd.jupyter.widget-view+json": {
       "model_id": "6e3bd528dacf4579b5f62396abc96fdf",
       "version_major": 2,
       "version_minor": 0
      },
      "text/plain": [
       "  0%|          | 0/2 [00:00<?, ?it/s]"
      ]
     },
     "metadata": {},
     "output_type": "display_data"
    },
    {
     "name": "stdout",
     "output_type": "stream",
     "text": [
      "49\n"
     ]
    },
    {
     "data": {
      "application/vnd.jupyter.widget-view+json": {
       "model_id": "31bb510d8deb4d0f81bb95e9d197ea47",
       "version_major": 2,
       "version_minor": 0
      },
      "text/plain": [
       "  0%|          | 0/2 [00:00<?, ?it/s]"
      ]
     },
     "metadata": {},
     "output_type": "display_data"
    },
    {
     "name": "stdout",
     "output_type": "stream",
     "text": [
      "61\n"
     ]
    },
    {
     "data": {
      "application/vnd.jupyter.widget-view+json": {
       "model_id": "eeda2791afc04565bf275dbc9405668d",
       "version_major": 2,
       "version_minor": 0
      },
      "text/plain": [
       "  0%|          | 0/2 [00:00<?, ?it/s]"
      ]
     },
     "metadata": {},
     "output_type": "display_data"
    },
    {
     "name": "stdout",
     "output_type": "stream",
     "text": [
      "19\n"
     ]
    },
    {
     "data": {
      "application/vnd.jupyter.widget-view+json": {
       "model_id": "82e20a6d95de403ba2b6aeb42d9849b2",
       "version_major": 2,
       "version_minor": 0
      },
      "text/plain": [
       "  0%|          | 0/2 [00:00<?, ?it/s]"
      ]
     },
     "metadata": {},
     "output_type": "display_data"
    },
    {
     "name": "stdout",
     "output_type": "stream",
     "text": [
      "34\n"
     ]
    },
    {
     "data": {
      "application/vnd.jupyter.widget-view+json": {
       "model_id": "3d392cec0ae0474aac0e10ebbfe512e0",
       "version_major": 2,
       "version_minor": 0
      },
      "text/plain": [
       "  0%|          | 0/2 [00:00<?, ?it/s]"
      ]
     },
     "metadata": {},
     "output_type": "display_data"
    },
    {
     "name": "stdout",
     "output_type": "stream",
     "text": [
      "9\n"
     ]
    },
    {
     "data": {
      "application/vnd.jupyter.widget-view+json": {
       "model_id": "760dd30bc5a44eeeacc6478eba8ef07e",
       "version_major": 2,
       "version_minor": 0
      },
      "text/plain": [
       "  0%|          | 0/2 [00:00<?, ?it/s]"
      ]
     },
     "metadata": {},
     "output_type": "display_data"
    },
    {
     "name": "stdout",
     "output_type": "stream",
     "text": [
      "17\n"
     ]
    },
    {
     "data": {
      "application/vnd.jupyter.widget-view+json": {
       "model_id": "81f5c08dbcc943e0b0dcd9c190f3d2e7",
       "version_major": 2,
       "version_minor": 0
      },
      "text/plain": [
       "  0%|          | 0/2 [00:00<?, ?it/s]"
      ]
     },
     "metadata": {},
     "output_type": "display_data"
    },
    {
     "name": "stdout",
     "output_type": "stream",
     "text": [
      "2\n"
     ]
    },
    {
     "data": {
      "application/vnd.jupyter.widget-view+json": {
       "model_id": "0651924d740b40e7bc39e6219c72c70b",
       "version_major": 2,
       "version_minor": 0
      },
      "text/plain": [
       "  0%|          | 0/2 [00:00<?, ?it/s]"
      ]
     },
     "metadata": {},
     "output_type": "display_data"
    },
    {
     "name": "stdout",
     "output_type": "stream",
     "text": [
      "37\n"
     ]
    },
    {
     "data": {
      "application/vnd.jupyter.widget-view+json": {
       "model_id": "355d61224d144ee980e9694c2edbf742",
       "version_major": 2,
       "version_minor": 0
      },
      "text/plain": [
       "  0%|          | 0/2 [00:00<?, ?it/s]"
      ]
     },
     "metadata": {},
     "output_type": "display_data"
    },
    {
     "name": "stdout",
     "output_type": "stream",
     "text": [
      "18\n"
     ]
    },
    {
     "data": {
      "application/vnd.jupyter.widget-view+json": {
       "model_id": "9cab9bfac4bb482abe12211187ebe1d9",
       "version_major": 2,
       "version_minor": 0
      },
      "text/plain": [
       "  0%|          | 0/2 [00:00<?, ?it/s]"
      ]
     },
     "metadata": {},
     "output_type": "display_data"
    },
    {
     "name": "stdout",
     "output_type": "stream",
     "text": [
      "3\n"
     ]
    },
    {
     "data": {
      "application/vnd.jupyter.widget-view+json": {
       "model_id": "7eb80a1c4dc04c19a6457b10f7454b40",
       "version_major": 2,
       "version_minor": 0
      },
      "text/plain": [
       "  0%|          | 0/2 [00:00<?, ?it/s]"
      ]
     },
     "metadata": {},
     "output_type": "display_data"
    },
    {
     "name": "stdout",
     "output_type": "stream",
     "text": [
      "4\n"
     ]
    },
    {
     "data": {
      "application/vnd.jupyter.widget-view+json": {
       "model_id": "59bb2e2d88d84ab7ab3d473c458625a5",
       "version_major": 2,
       "version_minor": 0
      },
      "text/plain": [
       "  0%|          | 0/2 [00:00<?, ?it/s]"
      ]
     },
     "metadata": {},
     "output_type": "display_data"
    },
    {
     "name": "stdout",
     "output_type": "stream",
     "text": [
      "279\n"
     ]
    },
    {
     "data": {
      "application/vnd.jupyter.widget-view+json": {
       "model_id": "0c179147b6a64e0fa4dc2f6b035a8151",
       "version_major": 2,
       "version_minor": 0
      },
      "text/plain": [
       "  0%|          | 0/2 [00:00<?, ?it/s]"
      ]
     },
     "metadata": {},
     "output_type": "display_data"
    },
    {
     "name": "stdout",
     "output_type": "stream",
     "text": [
      "71\n"
     ]
    },
    {
     "data": {
      "application/vnd.jupyter.widget-view+json": {
       "model_id": "bfecb4c67a0d4fc38f75d2fefe94b846",
       "version_major": 2,
       "version_minor": 0
      },
      "text/plain": [
       "  0%|          | 0/2 [00:00<?, ?it/s]"
      ]
     },
     "metadata": {},
     "output_type": "display_data"
    },
    {
     "name": "stdout",
     "output_type": "stream",
     "text": [
      "150\n"
     ]
    },
    {
     "data": {
      "application/vnd.jupyter.widget-view+json": {
       "model_id": "dbe870c7a8094954a48a6933dbb54c6c",
       "version_major": 2,
       "version_minor": 0
      },
      "text/plain": [
       "  0%|          | 0/2 [00:00<?, ?it/s]"
      ]
     },
     "metadata": {},
     "output_type": "display_data"
    },
    {
     "name": "stdout",
     "output_type": "stream",
     "text": [
      "103\n"
     ]
    },
    {
     "data": {
      "application/vnd.jupyter.widget-view+json": {
       "model_id": "2d0d6ef5fafb4839a66ada067d929364",
       "version_major": 2,
       "version_minor": 0
      },
      "text/plain": [
       "  0%|          | 0/2 [00:00<?, ?it/s]"
      ]
     },
     "metadata": {},
     "output_type": "display_data"
    },
    {
     "name": "stdout",
     "output_type": "stream",
     "text": [
      "78\n"
     ]
    },
    {
     "data": {
      "application/vnd.jupyter.widget-view+json": {
       "model_id": "43395a7ff25346ddb087605b43b94d92",
       "version_major": 2,
       "version_minor": 0
      },
      "text/plain": [
       "  0%|          | 0/2 [00:00<?, ?it/s]"
      ]
     },
     "metadata": {},
     "output_type": "display_data"
    },
    {
     "name": "stdout",
     "output_type": "stream",
     "text": [
      "76\n"
     ]
    },
    {
     "data": {
      "application/vnd.jupyter.widget-view+json": {
       "model_id": "9312375424fc4412b614fb14eb175011",
       "version_major": 2,
       "version_minor": 0
      },
      "text/plain": [
       "  0%|          | 0/2 [00:00<?, ?it/s]"
      ]
     },
     "metadata": {},
     "output_type": "display_data"
    },
    {
     "name": "stdout",
     "output_type": "stream",
     "text": [
      "139\n"
     ]
    },
    {
     "data": {
      "application/vnd.jupyter.widget-view+json": {
       "model_id": "9bf8f221002a4fb8a3ee4f2df5d82874",
       "version_major": 2,
       "version_minor": 0
      },
      "text/plain": [
       "  0%|          | 0/2 [00:00<?, ?it/s]"
      ]
     },
     "metadata": {},
     "output_type": "display_data"
    },
    {
     "name": "stdout",
     "output_type": "stream",
     "text": [
      "157\n"
     ]
    },
    {
     "data": {
      "application/vnd.jupyter.widget-view+json": {
       "model_id": "8b515504c3c54099b9fead4c272044d1",
       "version_major": 2,
       "version_minor": 0
      },
      "text/plain": [
       "  0%|          | 0/2 [00:00<?, ?it/s]"
      ]
     },
     "metadata": {},
     "output_type": "display_data"
    },
    {
     "name": "stdout",
     "output_type": "stream",
     "text": [
      "79\n"
     ]
    },
    {
     "data": {
      "application/vnd.jupyter.widget-view+json": {
       "model_id": "2accb11ea5c04cd5850054d7b832c37e",
       "version_major": 2,
       "version_minor": 0
      },
      "text/plain": [
       "  0%|          | 0/2 [00:00<?, ?it/s]"
      ]
     },
     "metadata": {},
     "output_type": "display_data"
    },
    {
     "name": "stdout",
     "output_type": "stream",
     "text": [
      "100\n"
     ]
    },
    {
     "data": {
      "application/vnd.jupyter.widget-view+json": {
       "model_id": "bd206093b5804440b9a32e26795506f4",
       "version_major": 2,
       "version_minor": 0
      },
      "text/plain": [
       "  0%|          | 0/2 [00:00<?, ?it/s]"
      ]
     },
     "metadata": {},
     "output_type": "display_data"
    },
    {
     "name": "stdout",
     "output_type": "stream",
     "text": [
      "2838\n"
     ]
    },
    {
     "data": {
      "application/vnd.jupyter.widget-view+json": {
       "model_id": "07d571f5811d43d49c565e70638f757b",
       "version_major": 2,
       "version_minor": 0
      },
      "text/plain": [
       "  0%|          | 0/4 [00:00<?, ?it/s]"
      ]
     },
     "metadata": {},
     "output_type": "display_data"
    },
    {
     "name": "stdout",
     "output_type": "stream",
     "text": [
      "935\n"
     ]
    },
    {
     "data": {
      "application/vnd.jupyter.widget-view+json": {
       "model_id": "753117e8f8d04c77b511d18f670d50d1",
       "version_major": 2,
       "version_minor": 0
      },
      "text/plain": [
       "  0%|          | 0/2 [00:00<?, ?it/s]"
      ]
     },
     "metadata": {},
     "output_type": "display_data"
    },
    {
     "name": "stdout",
     "output_type": "stream",
     "text": [
      "1531\n"
     ]
    },
    {
     "data": {
      "application/vnd.jupyter.widget-view+json": {
       "model_id": "3e810eca78914f1288b91326ce021710",
       "version_major": 2,
       "version_minor": 0
      },
      "text/plain": [
       "  0%|          | 0/3 [00:00<?, ?it/s]"
      ]
     },
     "metadata": {},
     "output_type": "display_data"
    },
    {
     "name": "stdout",
     "output_type": "stream",
     "text": [
      "1748\n"
     ]
    },
    {
     "data": {
      "application/vnd.jupyter.widget-view+json": {
       "model_id": "2c5c9670e4574790bd7a085e386f8e64",
       "version_major": 2,
       "version_minor": 0
      },
      "text/plain": [
       "  0%|          | 0/3 [00:00<?, ?it/s]"
      ]
     },
     "metadata": {},
     "output_type": "display_data"
    },
    {
     "name": "stdout",
     "output_type": "stream",
     "text": [
      "5983\n"
     ]
    },
    {
     "data": {
      "application/vnd.jupyter.widget-view+json": {
       "model_id": "c6a85628a27b4dd3a822c3ab36681b68",
       "version_major": 2,
       "version_minor": 0
      },
      "text/plain": [
       "  0%|          | 0/7 [00:00<?, ?it/s]"
      ]
     },
     "metadata": {},
     "output_type": "display_data"
    },
    {
     "name": "stdout",
     "output_type": "stream",
     "text": [
      "870\n"
     ]
    },
    {
     "data": {
      "application/vnd.jupyter.widget-view+json": {
       "model_id": "ec93362f192d4f1d8021ed2654ef0270",
       "version_major": 2,
       "version_minor": 0
      },
      "text/plain": [
       "  0%|          | 0/2 [00:00<?, ?it/s]"
      ]
     },
     "metadata": {},
     "output_type": "display_data"
    },
    {
     "name": "stdout",
     "output_type": "stream",
     "text": [
      "1387\n"
     ]
    },
    {
     "data": {
      "application/vnd.jupyter.widget-view+json": {
       "model_id": "3ca1d426443a4bba8034c9d93ed591ea",
       "version_major": 2,
       "version_minor": 0
      },
      "text/plain": [
       "  0%|          | 0/3 [00:00<?, ?it/s]"
      ]
     },
     "metadata": {},
     "output_type": "display_data"
    },
    {
     "name": "stdout",
     "output_type": "stream",
     "text": [
      "1983\n"
     ]
    },
    {
     "data": {
      "application/vnd.jupyter.widget-view+json": {
       "model_id": "62734aa81aa34e909cccaf5fdadbefc0",
       "version_major": 2,
       "version_minor": 0
      },
      "text/plain": [
       "  0%|          | 0/3 [00:00<?, ?it/s]"
      ]
     },
     "metadata": {},
     "output_type": "display_data"
    },
    {
     "name": "stdout",
     "output_type": "stream",
     "text": [
      "576\n"
     ]
    },
    {
     "data": {
      "application/vnd.jupyter.widget-view+json": {
       "model_id": "f0b3c5e30e5c4b0a917f13010aac82ad",
       "version_major": 2,
       "version_minor": 0
      },
      "text/plain": [
       "  0%|          | 0/2 [00:00<?, ?it/s]"
      ]
     },
     "metadata": {},
     "output_type": "display_data"
    },
    {
     "name": "stdout",
     "output_type": "stream",
     "text": [
      "243\n"
     ]
    },
    {
     "data": {
      "application/vnd.jupyter.widget-view+json": {
       "model_id": "7c9756957243489bb83c8606942b4fb4",
       "version_major": 2,
       "version_minor": 0
      },
      "text/plain": [
       "  0%|          | 0/2 [00:00<?, ?it/s]"
      ]
     },
     "metadata": {},
     "output_type": "display_data"
    },
    {
     "name": "stdout",
     "output_type": "stream",
     "text": [
      "623\n"
     ]
    },
    {
     "data": {
      "application/vnd.jupyter.widget-view+json": {
       "model_id": "3f6d0b1601bd4123a94d08cf9a983672",
       "version_major": 2,
       "version_minor": 0
      },
      "text/plain": [
       "  0%|          | 0/2 [00:00<?, ?it/s]"
      ]
     },
     "metadata": {},
     "output_type": "display_data"
    },
    {
     "name": "stdout",
     "output_type": "stream",
     "text": [
      "153\n"
     ]
    },
    {
     "data": {
      "application/vnd.jupyter.widget-view+json": {
       "model_id": "f7ba19ecd7cd4fa1bebccb607c25f757",
       "version_major": 2,
       "version_minor": 0
      },
      "text/plain": [
       "  0%|          | 0/2 [00:00<?, ?it/s]"
      ]
     },
     "metadata": {},
     "output_type": "display_data"
    },
    {
     "name": "stdout",
     "output_type": "stream",
     "text": [
      "250\n"
     ]
    },
    {
     "data": {
      "application/vnd.jupyter.widget-view+json": {
       "model_id": "48fd8665e5cf433591d52a02d3af71b6",
       "version_major": 2,
       "version_minor": 0
      },
      "text/plain": [
       "  0%|          | 0/2 [00:00<?, ?it/s]"
      ]
     },
     "metadata": {},
     "output_type": "display_data"
    },
    {
     "name": "stdout",
     "output_type": "stream",
     "text": [
      "342\n"
     ]
    },
    {
     "data": {
      "application/vnd.jupyter.widget-view+json": {
       "model_id": "160cf873ad984280a655fdfe4a72792c",
       "version_major": 2,
       "version_minor": 0
      },
      "text/plain": [
       "  0%|          | 0/2 [00:00<?, ?it/s]"
      ]
     },
     "metadata": {},
     "output_type": "display_data"
    },
    {
     "name": "stdout",
     "output_type": "stream",
     "text": [
      "120\n"
     ]
    },
    {
     "data": {
      "application/vnd.jupyter.widget-view+json": {
       "model_id": "f330a8f16c4b42f7b333434525beb186",
       "version_major": 2,
       "version_minor": 0
      },
      "text/plain": [
       "  0%|          | 0/2 [00:00<?, ?it/s]"
      ]
     },
     "metadata": {},
     "output_type": "display_data"
    },
    {
     "name": "stdout",
     "output_type": "stream",
     "text": [
      "300\n"
     ]
    },
    {
     "data": {
      "application/vnd.jupyter.widget-view+json": {
       "model_id": "6b80cbd830ea42509849319fa23bfa1e",
       "version_major": 2,
       "version_minor": 0
      },
      "text/plain": [
       "  0%|          | 0/2 [00:00<?, ?it/s]"
      ]
     },
     "metadata": {},
     "output_type": "display_data"
    },
    {
     "name": "stdout",
     "output_type": "stream",
     "text": [
      "323\n"
     ]
    },
    {
     "data": {
      "application/vnd.jupyter.widget-view+json": {
       "model_id": "48f0621d4119437386e25b8305d684d4",
       "version_major": 2,
       "version_minor": 0
      },
      "text/plain": [
       "  0%|          | 0/2 [00:00<?, ?it/s]"
      ]
     },
     "metadata": {},
     "output_type": "display_data"
    },
    {
     "name": "stdout",
     "output_type": "stream",
     "text": [
      "298\n"
     ]
    },
    {
     "data": {
      "application/vnd.jupyter.widget-view+json": {
       "model_id": "b567fb7769ed43f8938a5d61cd6ddd69",
       "version_major": 2,
       "version_minor": 0
      },
      "text/plain": [
       "  0%|          | 0/2 [00:00<?, ?it/s]"
      ]
     },
     "metadata": {},
     "output_type": "display_data"
    },
    {
     "name": "stdout",
     "output_type": "stream",
     "text": [
      "167\n"
     ]
    },
    {
     "data": {
      "application/vnd.jupyter.widget-view+json": {
       "model_id": "ee3c91570cba4c69bc9e5fbc25112968",
       "version_major": 2,
       "version_minor": 0
      },
      "text/plain": [
       "  0%|          | 0/2 [00:00<?, ?it/s]"
      ]
     },
     "metadata": {},
     "output_type": "display_data"
    },
    {
     "name": "stdout",
     "output_type": "stream",
     "text": [
      "1850\n"
     ]
    },
    {
     "data": {
      "application/vnd.jupyter.widget-view+json": {
       "model_id": "4facd3efd9a24cc9a24f9bc32f6ba3da",
       "version_major": 2,
       "version_minor": 0
      },
      "text/plain": [
       "  0%|          | 0/3 [00:00<?, ?it/s]"
      ]
     },
     "metadata": {},
     "output_type": "display_data"
    },
    {
     "name": "stdout",
     "output_type": "stream",
     "text": [
      "185\n"
     ]
    },
    {
     "data": {
      "application/vnd.jupyter.widget-view+json": {
       "model_id": "11e1dbb8b4954ae78ed007479ddbed92",
       "version_major": 2,
       "version_minor": 0
      },
      "text/plain": [
       "  0%|          | 0/2 [00:00<?, ?it/s]"
      ]
     },
     "metadata": {},
     "output_type": "display_data"
    },
    {
     "name": "stdout",
     "output_type": "stream",
     "text": [
      "74\n"
     ]
    },
    {
     "data": {
      "application/vnd.jupyter.widget-view+json": {
       "model_id": "d2e7e84da0c74c0292d5ce8f4a47064c",
       "version_major": 2,
       "version_minor": 0
      },
      "text/plain": [
       "  0%|          | 0/2 [00:00<?, ?it/s]"
      ]
     },
     "metadata": {},
     "output_type": "display_data"
    },
    {
     "name": "stdout",
     "output_type": "stream",
     "text": [
      "188\n"
     ]
    },
    {
     "data": {
      "application/vnd.jupyter.widget-view+json": {
       "model_id": "3b31b18563d549b0bed7b42da6e4b288",
       "version_major": 2,
       "version_minor": 0
      },
      "text/plain": [
       "  0%|          | 0/2 [00:00<?, ?it/s]"
      ]
     },
     "metadata": {},
     "output_type": "display_data"
    },
    {
     "name": "stdout",
     "output_type": "stream",
     "text": [
      "129\n"
     ]
    },
    {
     "data": {
      "application/vnd.jupyter.widget-view+json": {
       "model_id": "235670692d9d46179514dba42297e3ec",
       "version_major": 2,
       "version_minor": 0
      },
      "text/plain": [
       "  0%|          | 0/2 [00:00<?, ?it/s]"
      ]
     },
     "metadata": {},
     "output_type": "display_data"
    },
    {
     "name": "stdout",
     "output_type": "stream",
     "text": [
      "1844\n"
     ]
    },
    {
     "data": {
      "application/vnd.jupyter.widget-view+json": {
       "model_id": "aebe182a6ac94ea39686514c6075d92d",
       "version_major": 2,
       "version_minor": 0
      },
      "text/plain": [
       "  0%|          | 0/3 [00:00<?, ?it/s]"
      ]
     },
     "metadata": {},
     "output_type": "display_data"
    },
    {
     "name": "stdout",
     "output_type": "stream",
     "text": [
      "170\n"
     ]
    },
    {
     "data": {
      "application/vnd.jupyter.widget-view+json": {
       "model_id": "1e5c56d6ff6b446888b43fba4d52619e",
       "version_major": 2,
       "version_minor": 0
      },
      "text/plain": [
       "  0%|          | 0/2 [00:00<?, ?it/s]"
      ]
     },
     "metadata": {},
     "output_type": "display_data"
    },
    {
     "name": "stdout",
     "output_type": "stream",
     "text": [
      "106\n"
     ]
    },
    {
     "data": {
      "application/vnd.jupyter.widget-view+json": {
       "model_id": "e845518aa33c4fb8bc01810645e38e7c",
       "version_major": 2,
       "version_minor": 0
      },
      "text/plain": [
       "  0%|          | 0/2 [00:00<?, ?it/s]"
      ]
     },
     "metadata": {},
     "output_type": "display_data"
    },
    {
     "name": "stdout",
     "output_type": "stream",
     "text": [
      "103\n"
     ]
    },
    {
     "data": {
      "application/vnd.jupyter.widget-view+json": {
       "model_id": "83f7579fcbef490a8a1960ba72b2753e",
       "version_major": 2,
       "version_minor": 0
      },
      "text/plain": [
       "  0%|          | 0/2 [00:00<?, ?it/s]"
      ]
     },
     "metadata": {},
     "output_type": "display_data"
    },
    {
     "name": "stdout",
     "output_type": "stream",
     "text": [
      "38\n"
     ]
    },
    {
     "data": {
      "application/vnd.jupyter.widget-view+json": {
       "model_id": "58d958e07bf049e7a4f299b4ed3463e0",
       "version_major": 2,
       "version_minor": 0
      },
      "text/plain": [
       "  0%|          | 0/2 [00:00<?, ?it/s]"
      ]
     },
     "metadata": {},
     "output_type": "display_data"
    },
    {
     "name": "stdout",
     "output_type": "stream",
     "text": [
      "225\n"
     ]
    },
    {
     "data": {
      "application/vnd.jupyter.widget-view+json": {
       "model_id": "0fc6114c3aea413c89032c9fcf068068",
       "version_major": 2,
       "version_minor": 0
      },
      "text/plain": [
       "  0%|          | 0/2 [00:00<?, ?it/s]"
      ]
     },
     "metadata": {},
     "output_type": "display_data"
    },
    {
     "name": "stdout",
     "output_type": "stream",
     "text": [
      "504\n"
     ]
    },
    {
     "data": {
      "application/vnd.jupyter.widget-view+json": {
       "model_id": "81a9fc8fd5e24dd2b86a868a12e72ef2",
       "version_major": 2,
       "version_minor": 0
      },
      "text/plain": [
       "  0%|          | 0/2 [00:00<?, ?it/s]"
      ]
     },
     "metadata": {},
     "output_type": "display_data"
    },
    {
     "name": "stdout",
     "output_type": "stream",
     "text": [
      "231\n"
     ]
    },
    {
     "data": {
      "application/vnd.jupyter.widget-view+json": {
       "model_id": "1c963031c13d4fe684f2c1474894ac0c",
       "version_major": 2,
       "version_minor": 0
      },
      "text/plain": [
       "  0%|          | 0/2 [00:00<?, ?it/s]"
      ]
     },
     "metadata": {},
     "output_type": "display_data"
    },
    {
     "name": "stdout",
     "output_type": "stream",
     "text": [
      "239\n"
     ]
    },
    {
     "data": {
      "application/vnd.jupyter.widget-view+json": {
       "model_id": "adb6f3c864f1406585f38d16eab43b07",
       "version_major": 2,
       "version_minor": 0
      },
      "text/plain": [
       "  0%|          | 0/2 [00:00<?, ?it/s]"
      ]
     },
     "metadata": {},
     "output_type": "display_data"
    },
    {
     "name": "stdout",
     "output_type": "stream",
     "text": [
      "303\n"
     ]
    },
    {
     "data": {
      "application/vnd.jupyter.widget-view+json": {
       "model_id": "193fe121421644069b88a273aa2e6331",
       "version_major": 2,
       "version_minor": 0
      },
      "text/plain": [
       "  0%|          | 0/2 [00:00<?, ?it/s]"
      ]
     },
     "metadata": {},
     "output_type": "display_data"
    },
    {
     "name": "stdout",
     "output_type": "stream",
     "text": [
      "100\n"
     ]
    },
    {
     "data": {
      "application/vnd.jupyter.widget-view+json": {
       "model_id": "5b0c0625052e4f48a848a4bb69677073",
       "version_major": 2,
       "version_minor": 0
      },
      "text/plain": [
       "  0%|          | 0/2 [00:00<?, ?it/s]"
      ]
     },
     "metadata": {},
     "output_type": "display_data"
    },
    {
     "name": "stdout",
     "output_type": "stream",
     "text": [
      "275\n"
     ]
    },
    {
     "data": {
      "application/vnd.jupyter.widget-view+json": {
       "model_id": "6f79072fcbb14a5f9d9f600e843daab6",
       "version_major": 2,
       "version_minor": 0
      },
      "text/plain": [
       "  0%|          | 0/2 [00:00<?, ?it/s]"
      ]
     },
     "metadata": {},
     "output_type": "display_data"
    },
    {
     "name": "stdout",
     "output_type": "stream",
     "text": [
      "465\n"
     ]
    },
    {
     "data": {
      "application/vnd.jupyter.widget-view+json": {
       "model_id": "4a4f2c7cdd544e7ab80ca9fa0814dab3",
       "version_major": 2,
       "version_minor": 0
      },
      "text/plain": [
       "  0%|          | 0/2 [00:00<?, ?it/s]"
      ]
     },
     "metadata": {},
     "output_type": "display_data"
    },
    {
     "name": "stdout",
     "output_type": "stream",
     "text": [
      "265\n"
     ]
    },
    {
     "data": {
      "application/vnd.jupyter.widget-view+json": {
       "model_id": "817b5e6b489949569243f6edfaa0e488",
       "version_major": 2,
       "version_minor": 0
      },
      "text/plain": [
       "  0%|          | 0/2 [00:00<?, ?it/s]"
      ]
     },
     "metadata": {},
     "output_type": "display_data"
    },
    {
     "name": "stdout",
     "output_type": "stream",
     "text": [
      "1830\n"
     ]
    },
    {
     "data": {
      "application/vnd.jupyter.widget-view+json": {
       "model_id": "bf4a84a724e049038191de8a59c4012f",
       "version_major": 2,
       "version_minor": 0
      },
      "text/plain": [
       "  0%|          | 0/3 [00:00<?, ?it/s]"
      ]
     },
     "metadata": {},
     "output_type": "display_data"
    },
    {
     "name": "stdout",
     "output_type": "stream",
     "text": [
      "201\n"
     ]
    },
    {
     "data": {
      "application/vnd.jupyter.widget-view+json": {
       "model_id": "56d072d82b4a405b9b52c08fa9357e9b",
       "version_major": 2,
       "version_minor": 0
      },
      "text/plain": [
       "  0%|          | 0/2 [00:00<?, ?it/s]"
      ]
     },
     "metadata": {},
     "output_type": "display_data"
    },
    {
     "name": "stdout",
     "output_type": "stream",
     "text": [
      "466\n"
     ]
    },
    {
     "data": {
      "application/vnd.jupyter.widget-view+json": {
       "model_id": "f9f0ce233f3a4da7a573449635a9fad2",
       "version_major": 2,
       "version_minor": 0
      },
      "text/plain": [
       "  0%|          | 0/2 [00:00<?, ?it/s]"
      ]
     },
     "metadata": {},
     "output_type": "display_data"
    },
    {
     "name": "stdout",
     "output_type": "stream",
     "text": [
      "986\n"
     ]
    },
    {
     "data": {
      "application/vnd.jupyter.widget-view+json": {
       "model_id": "fa382ef24c894062a259a46499844c99",
       "version_major": 2,
       "version_minor": 0
      },
      "text/plain": [
       "  0%|          | 0/2 [00:00<?, ?it/s]"
      ]
     },
     "metadata": {},
     "output_type": "display_data"
    },
    {
     "name": "stdout",
     "output_type": "stream",
     "text": [
      "358\n"
     ]
    },
    {
     "data": {
      "application/vnd.jupyter.widget-view+json": {
       "model_id": "b5b076112c8240aea585d6ef07ea0c46",
       "version_major": 2,
       "version_minor": 0
      },
      "text/plain": [
       "  0%|          | 0/2 [00:00<?, ?it/s]"
      ]
     },
     "metadata": {},
     "output_type": "display_data"
    },
    {
     "name": "stdout",
     "output_type": "stream",
     "text": [
      "1718\n"
     ]
    },
    {
     "data": {
      "application/vnd.jupyter.widget-view+json": {
       "model_id": "e57e5cafaf67482386f8a1e66800d516",
       "version_major": 2,
       "version_minor": 0
      },
      "text/plain": [
       "  0%|          | 0/3 [00:00<?, ?it/s]"
      ]
     },
     "metadata": {},
     "output_type": "display_data"
    },
    {
     "name": "stdout",
     "output_type": "stream",
     "text": [
      "130\n"
     ]
    },
    {
     "data": {
      "application/vnd.jupyter.widget-view+json": {
       "model_id": "b4f0f0bbda604796ac540b65d92e2c52",
       "version_major": 2,
       "version_minor": 0
      },
      "text/plain": [
       "  0%|          | 0/2 [00:00<?, ?it/s]"
      ]
     },
     "metadata": {},
     "output_type": "display_data"
    },
    {
     "name": "stdout",
     "output_type": "stream",
     "text": [
      "203\n"
     ]
    },
    {
     "data": {
      "application/vnd.jupyter.widget-view+json": {
       "model_id": "47601f9f9b6e439b844315936904f00d",
       "version_major": 2,
       "version_minor": 0
      },
      "text/plain": [
       "  0%|          | 0/2 [00:00<?, ?it/s]"
      ]
     },
     "metadata": {},
     "output_type": "display_data"
    },
    {
     "name": "stdout",
     "output_type": "stream",
     "text": [
      "769\n"
     ]
    },
    {
     "data": {
      "application/vnd.jupyter.widget-view+json": {
       "model_id": "b9384435b7a140b7be3bb79e33a08012",
       "version_major": 2,
       "version_minor": 0
      },
      "text/plain": [
       "  0%|          | 0/2 [00:00<?, ?it/s]"
      ]
     },
     "metadata": {},
     "output_type": "display_data"
    },
    {
     "name": "stdout",
     "output_type": "stream",
     "text": [
      "320\n"
     ]
    },
    {
     "data": {
      "application/vnd.jupyter.widget-view+json": {
       "model_id": "79d880d189d84f02bb77c8646bc86403",
       "version_major": 2,
       "version_minor": 0
      },
      "text/plain": [
       "  0%|          | 0/2 [00:00<?, ?it/s]"
      ]
     },
     "metadata": {},
     "output_type": "display_data"
    },
    {
     "name": "stdout",
     "output_type": "stream",
     "text": [
      "121\n"
     ]
    },
    {
     "data": {
      "application/vnd.jupyter.widget-view+json": {
       "model_id": "075e7f69b0fe49d68d0901c3f9f246ec",
       "version_major": 2,
       "version_minor": 0
      },
      "text/plain": [
       "  0%|          | 0/2 [00:00<?, ?it/s]"
      ]
     },
     "metadata": {},
     "output_type": "display_data"
    },
    {
     "name": "stdout",
     "output_type": "stream",
     "text": [
      "171\n"
     ]
    },
    {
     "data": {
      "application/vnd.jupyter.widget-view+json": {
       "model_id": "5eb63aec2fd34a4c8963808d2e68016d",
       "version_major": 2,
       "version_minor": 0
      },
      "text/plain": [
       "  0%|          | 0/2 [00:00<?, ?it/s]"
      ]
     },
     "metadata": {},
     "output_type": "display_data"
    },
    {
     "name": "stdout",
     "output_type": "stream",
     "text": [
      "150\n"
     ]
    },
    {
     "data": {
      "application/vnd.jupyter.widget-view+json": {
       "model_id": "f5a17308ebeb43659475dff76b40ac6c",
       "version_major": 2,
       "version_minor": 0
      },
      "text/plain": [
       "  0%|          | 0/2 [00:00<?, ?it/s]"
      ]
     },
     "metadata": {},
     "output_type": "display_data"
    },
    {
     "name": "stdout",
     "output_type": "stream",
     "text": [
      "68\n"
     ]
    },
    {
     "data": {
      "application/vnd.jupyter.widget-view+json": {
       "model_id": "3e0ee99c65e54e3baa0ff8084748ce22",
       "version_major": 2,
       "version_minor": 0
      },
      "text/plain": [
       "  0%|          | 0/2 [00:00<?, ?it/s]"
      ]
     },
     "metadata": {},
     "output_type": "display_data"
    },
    {
     "name": "stdout",
     "output_type": "stream",
     "text": [
      "55\n"
     ]
    },
    {
     "data": {
      "application/vnd.jupyter.widget-view+json": {
       "model_id": "6b1848fd37594746b57773ea06a73947",
       "version_major": 2,
       "version_minor": 0
      },
      "text/plain": [
       "  0%|          | 0/2 [00:00<?, ?it/s]"
      ]
     },
     "metadata": {},
     "output_type": "display_data"
    },
    {
     "name": "stdout",
     "output_type": "stream",
     "text": [
      "89\n"
     ]
    },
    {
     "data": {
      "application/vnd.jupyter.widget-view+json": {
       "model_id": "5695a02935314b3d9a2dc755d11e3f3a",
       "version_major": 2,
       "version_minor": 0
      },
      "text/plain": [
       "  0%|          | 0/2 [00:00<?, ?it/s]"
      ]
     },
     "metadata": {},
     "output_type": "display_data"
    },
    {
     "name": "stdout",
     "output_type": "stream",
     "text": [
      "38\n"
     ]
    },
    {
     "data": {
      "application/vnd.jupyter.widget-view+json": {
       "model_id": "8210285e27fb437d8183af657788a674",
       "version_major": 2,
       "version_minor": 0
      },
      "text/plain": [
       "  0%|          | 0/2 [00:00<?, ?it/s]"
      ]
     },
     "metadata": {},
     "output_type": "display_data"
    },
    {
     "name": "stdout",
     "output_type": "stream",
     "text": [
      "73\n"
     ]
    },
    {
     "data": {
      "application/vnd.jupyter.widget-view+json": {
       "model_id": "d97edb2a20954d5db4f8eaeb0b7bf9c7",
       "version_major": 2,
       "version_minor": 0
      },
      "text/plain": [
       "  0%|          | 0/2 [00:00<?, ?it/s]"
      ]
     },
     "metadata": {},
     "output_type": "display_data"
    },
    {
     "name": "stdout",
     "output_type": "stream",
     "text": [
      "101\n"
     ]
    },
    {
     "data": {
      "application/vnd.jupyter.widget-view+json": {
       "model_id": "6470adc376a24f7f98ed7281b46f86f2",
       "version_major": 2,
       "version_minor": 0
      },
      "text/plain": [
       "  0%|          | 0/2 [00:00<?, ?it/s]"
      ]
     },
     "metadata": {},
     "output_type": "display_data"
    },
    {
     "name": "stdout",
     "output_type": "stream",
     "text": [
      "58\n"
     ]
    },
    {
     "data": {
      "application/vnd.jupyter.widget-view+json": {
       "model_id": "8080917e483142f28766799ca56f5ab9",
       "version_major": 2,
       "version_minor": 0
      },
      "text/plain": [
       "  0%|          | 0/2 [00:00<?, ?it/s]"
      ]
     },
     "metadata": {},
     "output_type": "display_data"
    },
    {
     "name": "stdout",
     "output_type": "stream",
     "text": [
      "631\n"
     ]
    },
    {
     "data": {
      "application/vnd.jupyter.widget-view+json": {
       "model_id": "4fd07aeba7c84348b509ed2b134bb679",
       "version_major": 2,
       "version_minor": 0
      },
      "text/plain": [
       "  0%|          | 0/2 [00:00<?, ?it/s]"
      ]
     },
     "metadata": {},
     "output_type": "display_data"
    },
    {
     "name": "stdout",
     "output_type": "stream",
     "text": [
      "125\n"
     ]
    },
    {
     "data": {
      "application/vnd.jupyter.widget-view+json": {
       "model_id": "6e456afef9614ab9bcdff192a6760ab0",
       "version_major": 2,
       "version_minor": 0
      },
      "text/plain": [
       "  0%|          | 0/2 [00:00<?, ?it/s]"
      ]
     },
     "metadata": {},
     "output_type": "display_data"
    },
    {
     "name": "stdout",
     "output_type": "stream",
     "text": [
      "4466\n"
     ]
    },
    {
     "data": {
      "application/vnd.jupyter.widget-view+json": {
       "model_id": "b0c2862007224bdfb5600d3ad871c9bf",
       "version_major": 2,
       "version_minor": 0
      },
      "text/plain": [
       "  0%|          | 0/6 [00:00<?, ?it/s]"
      ]
     },
     "metadata": {},
     "output_type": "display_data"
    },
    {
     "name": "stdout",
     "output_type": "stream",
     "text": [
      "1129\n"
     ]
    },
    {
     "data": {
      "application/vnd.jupyter.widget-view+json": {
       "model_id": "97485fc7676349f7b3fe418f977ae7f8",
       "version_major": 2,
       "version_minor": 0
      },
      "text/plain": [
       "  0%|          | 0/3 [00:00<?, ?it/s]"
      ]
     },
     "metadata": {},
     "output_type": "display_data"
    },
    {
     "name": "stdout",
     "output_type": "stream",
     "text": [
      "1504\n"
     ]
    },
    {
     "data": {
      "application/vnd.jupyter.widget-view+json": {
       "model_id": "a1ace981f400412687f21183fb075454",
       "version_major": 2,
       "version_minor": 0
      },
      "text/plain": [
       "  0%|          | 0/3 [00:00<?, ?it/s]"
      ]
     },
     "metadata": {},
     "output_type": "display_data"
    },
    {
     "name": "stdout",
     "output_type": "stream",
     "text": [
      "1618\n"
     ]
    },
    {
     "data": {
      "application/vnd.jupyter.widget-view+json": {
       "model_id": "73540a48f3764ec981a9bdb1a532dba4",
       "version_major": 2,
       "version_minor": 0
      },
      "text/plain": [
       "  0%|          | 0/3 [00:00<?, ?it/s]"
      ]
     },
     "metadata": {},
     "output_type": "display_data"
    },
    {
     "name": "stdout",
     "output_type": "stream",
     "text": [
      "682\n"
     ]
    },
    {
     "data": {
      "application/vnd.jupyter.widget-view+json": {
       "model_id": "85879da184eb4f2b94f3bd2fb107a7f9",
       "version_major": 2,
       "version_minor": 0
      },
      "text/plain": [
       "  0%|          | 0/2 [00:00<?, ?it/s]"
      ]
     },
     "metadata": {},
     "output_type": "display_data"
    },
    {
     "name": "stdout",
     "output_type": "stream",
     "text": [
      "3609\n"
     ]
    },
    {
     "data": {
      "application/vnd.jupyter.widget-view+json": {
       "model_id": "3309549f1a934b13b476ce43016b5365",
       "version_major": 2,
       "version_minor": 0
      },
      "text/plain": [
       "  0%|          | 0/5 [00:00<?, ?it/s]"
      ]
     },
     "metadata": {},
     "output_type": "display_data"
    },
    {
     "name": "stdout",
     "output_type": "stream",
     "text": [
      "1649\n"
     ]
    },
    {
     "data": {
      "application/vnd.jupyter.widget-view+json": {
       "model_id": "7aeca9a393514e958f0caf0349782877",
       "version_major": 2,
       "version_minor": 0
      },
      "text/plain": [
       "  0%|          | 0/3 [00:00<?, ?it/s]"
      ]
     },
     "metadata": {},
     "output_type": "display_data"
    },
    {
     "name": "stdout",
     "output_type": "stream",
     "text": [
      "1581\n"
     ]
    },
    {
     "data": {
      "application/vnd.jupyter.widget-view+json": {
       "model_id": "e7a469b877ef4ec9ae959495107d2b07",
       "version_major": 2,
       "version_minor": 0
      },
      "text/plain": [
       "  0%|          | 0/3 [00:00<?, ?it/s]"
      ]
     },
     "metadata": {},
     "output_type": "display_data"
    },
    {
     "name": "stdout",
     "output_type": "stream",
     "text": [
      "923\n"
     ]
    },
    {
     "data": {
      "application/vnd.jupyter.widget-view+json": {
       "model_id": "b4acab3374ea4565a27f25300dfe79ae",
       "version_major": 2,
       "version_minor": 0
      },
      "text/plain": [
       "  0%|          | 0/2 [00:00<?, ?it/s]"
      ]
     },
     "metadata": {},
     "output_type": "display_data"
    },
    {
     "name": "stdout",
     "output_type": "stream",
     "text": [
      "347\n"
     ]
    },
    {
     "data": {
      "application/vnd.jupyter.widget-view+json": {
       "model_id": "e39e8205a8e14232b3cc3f54e58c9bb5",
       "version_major": 2,
       "version_minor": 0
      },
      "text/plain": [
       "  0%|          | 0/2 [00:00<?, ?it/s]"
      ]
     },
     "metadata": {},
     "output_type": "display_data"
    },
    {
     "name": "stdout",
     "output_type": "stream",
     "text": [
      "82\n"
     ]
    },
    {
     "data": {
      "application/vnd.jupyter.widget-view+json": {
       "model_id": "6fc03bb88efd4438952aae23427eb3bd",
       "version_major": 2,
       "version_minor": 0
      },
      "text/plain": [
       "  0%|          | 0/2 [00:00<?, ?it/s]"
      ]
     },
     "metadata": {},
     "output_type": "display_data"
    },
    {
     "name": "stdout",
     "output_type": "stream",
     "text": [
      "854\n"
     ]
    },
    {
     "data": {
      "application/vnd.jupyter.widget-view+json": {
       "model_id": "5617204932be435d98d875cf69360085",
       "version_major": 2,
       "version_minor": 0
      },
      "text/plain": [
       "  0%|          | 0/2 [00:00<?, ?it/s]"
      ]
     },
     "metadata": {},
     "output_type": "display_data"
    },
    {
     "name": "stdout",
     "output_type": "stream",
     "text": [
      "470\n"
     ]
    },
    {
     "data": {
      "application/vnd.jupyter.widget-view+json": {
       "model_id": "56c7c94e93044778b246e7ea233b21fb",
       "version_major": 2,
       "version_minor": 0
      },
      "text/plain": [
       "  0%|          | 0/2 [00:00<?, ?it/s]"
      ]
     },
     "metadata": {},
     "output_type": "display_data"
    },
    {
     "name": "stdout",
     "output_type": "stream",
     "text": [
      "401\n"
     ]
    },
    {
     "data": {
      "application/vnd.jupyter.widget-view+json": {
       "model_id": "050da9eaed7b442ebd77205b28eb8664",
       "version_major": 2,
       "version_minor": 0
      },
      "text/plain": [
       "  0%|          | 0/2 [00:00<?, ?it/s]"
      ]
     },
     "metadata": {},
     "output_type": "display_data"
    },
    {
     "name": "stdout",
     "output_type": "stream",
     "text": [
      "404\n"
     ]
    },
    {
     "data": {
      "application/vnd.jupyter.widget-view+json": {
       "model_id": "9affb129090c44b5a915bfdb5bb640c9",
       "version_major": 2,
       "version_minor": 0
      },
      "text/plain": [
       "  0%|          | 0/2 [00:00<?, ?it/s]"
      ]
     },
     "metadata": {},
     "output_type": "display_data"
    },
    {
     "name": "stdout",
     "output_type": "stream",
     "text": [
      "175\n"
     ]
    },
    {
     "data": {
      "application/vnd.jupyter.widget-view+json": {
       "model_id": "68b4cad10546408192dcfa5e71cfe342",
       "version_major": 2,
       "version_minor": 0
      },
      "text/plain": [
       "  0%|          | 0/2 [00:00<?, ?it/s]"
      ]
     },
     "metadata": {},
     "output_type": "display_data"
    },
    {
     "name": "stdout",
     "output_type": "stream",
     "text": [
      "457\n"
     ]
    },
    {
     "data": {
      "application/vnd.jupyter.widget-view+json": {
       "model_id": "4c6ea1a8baad4c388d148387c98d890d",
       "version_major": 2,
       "version_minor": 0
      },
      "text/plain": [
       "  0%|          | 0/2 [00:00<?, ?it/s]"
      ]
     },
     "metadata": {},
     "output_type": "display_data"
    },
    {
     "name": "stdout",
     "output_type": "stream",
     "text": [
      "614\n"
     ]
    },
    {
     "data": {
      "application/vnd.jupyter.widget-view+json": {
       "model_id": "40ba580e35d1441b848d58ab1cc905eb",
       "version_major": 2,
       "version_minor": 0
      },
      "text/plain": [
       "  0%|          | 0/2 [00:00<?, ?it/s]"
      ]
     },
     "metadata": {},
     "output_type": "display_data"
    },
    {
     "name": "stdout",
     "output_type": "stream",
     "text": [
      "480\n"
     ]
    },
    {
     "data": {
      "application/vnd.jupyter.widget-view+json": {
       "model_id": "37ccccb0e52b45a19f4137236a846b52",
       "version_major": 2,
       "version_minor": 0
      },
      "text/plain": [
       "  0%|          | 0/2 [00:00<?, ?it/s]"
      ]
     },
     "metadata": {},
     "output_type": "display_data"
    },
    {
     "name": "stdout",
     "output_type": "stream",
     "text": [
      "1526\n"
     ]
    },
    {
     "data": {
      "application/vnd.jupyter.widget-view+json": {
       "model_id": "e8df1729bbc546eaa33db8bbb839289d",
       "version_major": 2,
       "version_minor": 0
      },
      "text/plain": [
       "  0%|          | 0/3 [00:00<?, ?it/s]"
      ]
     },
     "metadata": {},
     "output_type": "display_data"
    },
    {
     "name": "stdout",
     "output_type": "stream",
     "text": [
      "175\n"
     ]
    },
    {
     "data": {
      "application/vnd.jupyter.widget-view+json": {
       "model_id": "dc244dbde3c14b52834db54b99ed4582",
       "version_major": 2,
       "version_minor": 0
      },
      "text/plain": [
       "  0%|          | 0/2 [00:00<?, ?it/s]"
      ]
     },
     "metadata": {},
     "output_type": "display_data"
    },
    {
     "name": "stdout",
     "output_type": "stream",
     "text": [
      "152\n"
     ]
    },
    {
     "data": {
      "application/vnd.jupyter.widget-view+json": {
       "model_id": "5d9385dc915e4afdaaffb5e348ea0e06",
       "version_major": 2,
       "version_minor": 0
      },
      "text/plain": [
       "  0%|          | 0/2 [00:00<?, ?it/s]"
      ]
     },
     "metadata": {},
     "output_type": "display_data"
    },
    {
     "name": "stdout",
     "output_type": "stream",
     "text": [
      "1157\n"
     ]
    },
    {
     "data": {
      "application/vnd.jupyter.widget-view+json": {
       "model_id": "adcbe38a3f8a436792b7f772ff62b2bc",
       "version_major": 2,
       "version_minor": 0
      },
      "text/plain": [
       "  0%|          | 0/3 [00:00<?, ?it/s]"
      ]
     },
     "metadata": {},
     "output_type": "display_data"
    },
    {
     "name": "stdout",
     "output_type": "stream",
     "text": [
      "195\n"
     ]
    },
    {
     "data": {
      "application/vnd.jupyter.widget-view+json": {
       "model_id": "90d1c905746d4de6baef4a9397372a78",
       "version_major": 2,
       "version_minor": 0
      },
      "text/plain": [
       "  0%|          | 0/2 [00:00<?, ?it/s]"
      ]
     },
     "metadata": {},
     "output_type": "display_data"
    },
    {
     "name": "stdout",
     "output_type": "stream",
     "text": [
      "86\n"
     ]
    },
    {
     "data": {
      "application/vnd.jupyter.widget-view+json": {
       "model_id": "86681c38a3a540f895bc870797e9b104",
       "version_major": 2,
       "version_minor": 0
      },
      "text/plain": [
       "  0%|          | 0/2 [00:00<?, ?it/s]"
      ]
     },
     "metadata": {},
     "output_type": "display_data"
    },
    {
     "name": "stdout",
     "output_type": "stream",
     "text": [
      "63\n"
     ]
    },
    {
     "data": {
      "application/vnd.jupyter.widget-view+json": {
       "model_id": "6d8b05cecc6c4600aaaf8bfe21ed6726",
       "version_major": 2,
       "version_minor": 0
      },
      "text/plain": [
       "  0%|          | 0/2 [00:00<?, ?it/s]"
      ]
     },
     "metadata": {},
     "output_type": "display_data"
    },
    {
     "name": "stdout",
     "output_type": "stream",
     "text": [
      "260\n"
     ]
    },
    {
     "data": {
      "application/vnd.jupyter.widget-view+json": {
       "model_id": "4f1085e59030432cb1f7f9af583261d6",
       "version_major": 2,
       "version_minor": 0
      },
      "text/plain": [
       "  0%|          | 0/2 [00:00<?, ?it/s]"
      ]
     },
     "metadata": {},
     "output_type": "display_data"
    },
    {
     "name": "stdout",
     "output_type": "stream",
     "text": [
      "61\n"
     ]
    },
    {
     "data": {
      "application/vnd.jupyter.widget-view+json": {
       "model_id": "db664fd9a59d45f48d102eeb4de6c135",
       "version_major": 2,
       "version_minor": 0
      },
      "text/plain": [
       "  0%|          | 0/2 [00:00<?, ?it/s]"
      ]
     },
     "metadata": {},
     "output_type": "display_data"
    },
    {
     "name": "stdout",
     "output_type": "stream",
     "text": [
      "42\n"
     ]
    },
    {
     "data": {
      "application/vnd.jupyter.widget-view+json": {
       "model_id": "26b747d755554f259377d92e86689e56",
       "version_major": 2,
       "version_minor": 0
      },
      "text/plain": [
       "  0%|          | 0/2 [00:00<?, ?it/s]"
      ]
     },
     "metadata": {},
     "output_type": "display_data"
    },
    {
     "name": "stdout",
     "output_type": "stream",
     "text": [
      "158\n"
     ]
    },
    {
     "data": {
      "application/vnd.jupyter.widget-view+json": {
       "model_id": "f21b3b7a63c7439895a95ca0ed7bc6e7",
       "version_major": 2,
       "version_minor": 0
      },
      "text/plain": [
       "  0%|          | 0/2 [00:00<?, ?it/s]"
      ]
     },
     "metadata": {},
     "output_type": "display_data"
    },
    {
     "name": "stdout",
     "output_type": "stream",
     "text": [
      "417\n"
     ]
    },
    {
     "data": {
      "application/vnd.jupyter.widget-view+json": {
       "model_id": "4915b6ad697e49d6b06fd4c765f944b9",
       "version_major": 2,
       "version_minor": 0
      },
      "text/plain": [
       "  0%|          | 0/2 [00:00<?, ?it/s]"
      ]
     },
     "metadata": {},
     "output_type": "display_data"
    },
    {
     "name": "stdout",
     "output_type": "stream",
     "text": [
      "113\n"
     ]
    },
    {
     "data": {
      "application/vnd.jupyter.widget-view+json": {
       "model_id": "b64c88893759458fbe23f31dea952514",
       "version_major": 2,
       "version_minor": 0
      },
      "text/plain": [
       "  0%|          | 0/2 [00:00<?, ?it/s]"
      ]
     },
     "metadata": {},
     "output_type": "display_data"
    },
    {
     "name": "stdout",
     "output_type": "stream",
     "text": [
      "873\n"
     ]
    },
    {
     "data": {
      "application/vnd.jupyter.widget-view+json": {
       "model_id": "a6fc634793b341b5ac22caf5740de5a3",
       "version_major": 2,
       "version_minor": 0
      },
      "text/plain": [
       "  0%|          | 0/2 [00:00<?, ?it/s]"
      ]
     },
     "metadata": {},
     "output_type": "display_data"
    },
    {
     "name": "stdout",
     "output_type": "stream",
     "text": [
      "50\n"
     ]
    },
    {
     "data": {
      "application/vnd.jupyter.widget-view+json": {
       "model_id": "974ccb660c2c449d8b7945073f94d0ad",
       "version_major": 2,
       "version_minor": 0
      },
      "text/plain": [
       "  0%|          | 0/2 [00:00<?, ?it/s]"
      ]
     },
     "metadata": {},
     "output_type": "display_data"
    },
    {
     "name": "stdout",
     "output_type": "stream",
     "text": [
      "70\n"
     ]
    },
    {
     "data": {
      "application/vnd.jupyter.widget-view+json": {
       "model_id": "6241abbae5724c859fc3a8389eaba48c",
       "version_major": 2,
       "version_minor": 0
      },
      "text/plain": [
       "  0%|          | 0/2 [00:00<?, ?it/s]"
      ]
     },
     "metadata": {},
     "output_type": "display_data"
    },
    {
     "name": "stdout",
     "output_type": "stream",
     "text": [
      "169\n"
     ]
    },
    {
     "data": {
      "application/vnd.jupyter.widget-view+json": {
       "model_id": "ca09d4a2da49468b9e95040af7ba4833",
       "version_major": 2,
       "version_minor": 0
      },
      "text/plain": [
       "  0%|          | 0/2 [00:00<?, ?it/s]"
      ]
     },
     "metadata": {},
     "output_type": "display_data"
    },
    {
     "name": "stdout",
     "output_type": "stream",
     "text": [
      "108\n"
     ]
    },
    {
     "data": {
      "application/vnd.jupyter.widget-view+json": {
       "model_id": "51492d8e85834b18a1c1ffbc75116e3a",
       "version_major": 2,
       "version_minor": 0
      },
      "text/plain": [
       "  0%|          | 0/2 [00:00<?, ?it/s]"
      ]
     },
     "metadata": {},
     "output_type": "display_data"
    },
    {
     "name": "stdout",
     "output_type": "stream",
     "text": [
      "45\n"
     ]
    },
    {
     "data": {
      "application/vnd.jupyter.widget-view+json": {
       "model_id": "ff4be2363b2443f6a52a16891d2e6fa3",
       "version_major": 2,
       "version_minor": 0
      },
      "text/plain": [
       "  0%|          | 0/2 [00:00<?, ?it/s]"
      ]
     },
     "metadata": {},
     "output_type": "display_data"
    },
    {
     "name": "stdout",
     "output_type": "stream",
     "text": [
      "37\n"
     ]
    },
    {
     "data": {
      "application/vnd.jupyter.widget-view+json": {
       "model_id": "b1a77165a99b4d648d6f2efe7d089baa",
       "version_major": 2,
       "version_minor": 0
      },
      "text/plain": [
       "  0%|          | 0/2 [00:00<?, ?it/s]"
      ]
     },
     "metadata": {},
     "output_type": "display_data"
    },
    {
     "name": "stdout",
     "output_type": "stream",
     "text": [
      "31\n"
     ]
    },
    {
     "data": {
      "application/vnd.jupyter.widget-view+json": {
       "model_id": "91ddc191aaf44298a4bee8567b8c2f57",
       "version_major": 2,
       "version_minor": 0
      },
      "text/plain": [
       "  0%|          | 0/2 [00:00<?, ?it/s]"
      ]
     },
     "metadata": {},
     "output_type": "display_data"
    },
    {
     "name": "stdout",
     "output_type": "stream",
     "text": [
      "181\n"
     ]
    },
    {
     "data": {
      "application/vnd.jupyter.widget-view+json": {
       "model_id": "3873f4dbedc7445296e18fc0d822fc37",
       "version_major": 2,
       "version_minor": 0
      },
      "text/plain": [
       "  0%|          | 0/2 [00:00<?, ?it/s]"
      ]
     },
     "metadata": {},
     "output_type": "display_data"
    },
    {
     "name": "stdout",
     "output_type": "stream",
     "text": [
      "73\n"
     ]
    },
    {
     "data": {
      "application/vnd.jupyter.widget-view+json": {
       "model_id": "ba1468f006d94eaf918c4e2b020c4cc6",
       "version_major": 2,
       "version_minor": 0
      },
      "text/plain": [
       "  0%|          | 0/2 [00:00<?, ?it/s]"
      ]
     },
     "metadata": {},
     "output_type": "display_data"
    },
    {
     "name": "stdout",
     "output_type": "stream",
     "text": [
      "32\n"
     ]
    },
    {
     "data": {
      "application/vnd.jupyter.widget-view+json": {
       "model_id": "620689260f2b4b4d9c694f612038eeb3",
       "version_major": 2,
       "version_minor": 0
      },
      "text/plain": [
       "  0%|          | 0/2 [00:00<?, ?it/s]"
      ]
     },
     "metadata": {},
     "output_type": "display_data"
    },
    {
     "name": "stdout",
     "output_type": "stream",
     "text": [
      "67\n"
     ]
    },
    {
     "data": {
      "application/vnd.jupyter.widget-view+json": {
       "model_id": "43b80af09cde4c268e6d9102901000d6",
       "version_major": 2,
       "version_minor": 0
      },
      "text/plain": [
       "  0%|          | 0/2 [00:00<?, ?it/s]"
      ]
     },
     "metadata": {},
     "output_type": "display_data"
    },
    {
     "name": "stdout",
     "output_type": "stream",
     "text": [
      "54\n"
     ]
    },
    {
     "data": {
      "application/vnd.jupyter.widget-view+json": {
       "model_id": "33c7eae1e689430ea8a55cd8ea6ebf8b",
       "version_major": 2,
       "version_minor": 0
      },
      "text/plain": [
       "  0%|          | 0/2 [00:00<?, ?it/s]"
      ]
     },
     "metadata": {},
     "output_type": "display_data"
    },
    {
     "name": "stdout",
     "output_type": "stream",
     "text": [
      "23\n"
     ]
    },
    {
     "data": {
      "application/vnd.jupyter.widget-view+json": {
       "model_id": "febff30b13504c74815d3ad8b5726b1a",
       "version_major": 2,
       "version_minor": 0
      },
      "text/plain": [
       "  0%|          | 0/2 [00:00<?, ?it/s]"
      ]
     },
     "metadata": {},
     "output_type": "display_data"
    },
    {
     "name": "stdout",
     "output_type": "stream",
     "text": [
      "975\n"
     ]
    },
    {
     "data": {
      "application/vnd.jupyter.widget-view+json": {
       "model_id": "2976dc57fea34c65bd64b92f9a2fa96d",
       "version_major": 2,
       "version_minor": 0
      },
      "text/plain": [
       "  0%|          | 0/2 [00:00<?, ?it/s]"
      ]
     },
     "metadata": {},
     "output_type": "display_data"
    },
    {
     "name": "stdout",
     "output_type": "stream",
     "text": [
      "752\n"
     ]
    },
    {
     "data": {
      "application/vnd.jupyter.widget-view+json": {
       "model_id": "8166149bede141dc982dfc01b50ab916",
       "version_major": 2,
       "version_minor": 0
      },
      "text/plain": [
       "  0%|          | 0/2 [00:00<?, ?it/s]"
      ]
     },
     "metadata": {},
     "output_type": "display_data"
    },
    {
     "name": "stdout",
     "output_type": "stream",
     "text": [
      "514\n"
     ]
    },
    {
     "data": {
      "application/vnd.jupyter.widget-view+json": {
       "model_id": "9f834d49364a4aa8b82f76f64e4adf3b",
       "version_major": 2,
       "version_minor": 0
      },
      "text/plain": [
       "  0%|          | 0/2 [00:00<?, ?it/s]"
      ]
     },
     "metadata": {},
     "output_type": "display_data"
    },
    {
     "name": "stdout",
     "output_type": "stream",
     "text": [
      "1140\n"
     ]
    },
    {
     "data": {
      "application/vnd.jupyter.widget-view+json": {
       "model_id": "053911a4fc064ed08f17e512c8fac417",
       "version_major": 2,
       "version_minor": 0
      },
      "text/plain": [
       "  0%|          | 0/3 [00:00<?, ?it/s]"
      ]
     },
     "metadata": {},
     "output_type": "display_data"
    },
    {
     "name": "stdout",
     "output_type": "stream",
     "text": [
      "147\n"
     ]
    },
    {
     "data": {
      "application/vnd.jupyter.widget-view+json": {
       "model_id": "1f7d702004d942369f0fd98cf85ae486",
       "version_major": 2,
       "version_minor": 0
      },
      "text/plain": [
       "  0%|          | 0/2 [00:00<?, ?it/s]"
      ]
     },
     "metadata": {},
     "output_type": "display_data"
    },
    {
     "name": "stdout",
     "output_type": "stream",
     "text": [
      "210\n"
     ]
    },
    {
     "data": {
      "application/vnd.jupyter.widget-view+json": {
       "model_id": "d5e28d4d8d23442f848c5fc734b31bc8",
       "version_major": 2,
       "version_minor": 0
      },
      "text/plain": [
       "  0%|          | 0/2 [00:00<?, ?it/s]"
      ]
     },
     "metadata": {},
     "output_type": "display_data"
    },
    {
     "name": "stdout",
     "output_type": "stream",
     "text": [
      "2659\n"
     ]
    },
    {
     "data": {
      "application/vnd.jupyter.widget-view+json": {
       "model_id": "08dbf688d2534f06a1adcb99736ef00e",
       "version_major": 2,
       "version_minor": 0
      },
      "text/plain": [
       "  0%|          | 0/4 [00:00<?, ?it/s]"
      ]
     },
     "metadata": {},
     "output_type": "display_data"
    },
    {
     "name": "stdout",
     "output_type": "stream",
     "text": [
      "551\n"
     ]
    },
    {
     "data": {
      "application/vnd.jupyter.widget-view+json": {
       "model_id": "3ab9548c4a044e9191742ee4564e14c4",
       "version_major": 2,
       "version_minor": 0
      },
      "text/plain": [
       "  0%|          | 0/2 [00:00<?, ?it/s]"
      ]
     },
     "metadata": {},
     "output_type": "display_data"
    },
    {
     "name": "stdout",
     "output_type": "stream",
     "text": [
      "301\n"
     ]
    },
    {
     "data": {
      "application/vnd.jupyter.widget-view+json": {
       "model_id": "cafa10430610414ea6a7257fe4aebba4",
       "version_major": 2,
       "version_minor": 0
      },
      "text/plain": [
       "  0%|          | 0/2 [00:00<?, ?it/s]"
      ]
     },
     "metadata": {},
     "output_type": "display_data"
    },
    {
     "name": "stdout",
     "output_type": "stream",
     "text": [
      "83\n"
     ]
    },
    {
     "data": {
      "application/vnd.jupyter.widget-view+json": {
       "model_id": "aee5c402d4c44093bd09d2a955d16bce",
       "version_major": 2,
       "version_minor": 0
      },
      "text/plain": [
       "  0%|          | 0/2 [00:00<?, ?it/s]"
      ]
     },
     "metadata": {},
     "output_type": "display_data"
    },
    {
     "name": "stdout",
     "output_type": "stream",
     "text": [
      "287\n"
     ]
    },
    {
     "data": {
      "application/vnd.jupyter.widget-view+json": {
       "model_id": "88ed151b56314ccb811f385277d255d3",
       "version_major": 2,
       "version_minor": 0
      },
      "text/plain": [
       "  0%|          | 0/2 [00:00<?, ?it/s]"
      ]
     },
     "metadata": {},
     "output_type": "display_data"
    },
    {
     "name": "stdout",
     "output_type": "stream",
     "text": [
      "94\n"
     ]
    },
    {
     "data": {
      "application/vnd.jupyter.widget-view+json": {
       "model_id": "d1c9075700d347fa8bc351bf5ba407bd",
       "version_major": 2,
       "version_minor": 0
      },
      "text/plain": [
       "  0%|          | 0/2 [00:00<?, ?it/s]"
      ]
     },
     "metadata": {},
     "output_type": "display_data"
    },
    {
     "name": "stdout",
     "output_type": "stream",
     "text": [
      "144\n"
     ]
    },
    {
     "data": {
      "application/vnd.jupyter.widget-view+json": {
       "model_id": "2a4f4956daef4c6aa687511c94a8b28d",
       "version_major": 2,
       "version_minor": 0
      },
      "text/plain": [
       "  0%|          | 0/2 [00:00<?, ?it/s]"
      ]
     },
     "metadata": {},
     "output_type": "display_data"
    },
    {
     "name": "stdout",
     "output_type": "stream",
     "text": [
      "194\n"
     ]
    },
    {
     "data": {
      "application/vnd.jupyter.widget-view+json": {
       "model_id": "7e1c9f640a9b4f6ca75aed3b6112961c",
       "version_major": 2,
       "version_minor": 0
      },
      "text/plain": [
       "  0%|          | 0/2 [00:00<?, ?it/s]"
      ]
     },
     "metadata": {},
     "output_type": "display_data"
    },
    {
     "name": "stdout",
     "output_type": "stream",
     "text": [
      "45\n"
     ]
    },
    {
     "data": {
      "application/vnd.jupyter.widget-view+json": {
       "model_id": "1bf130d0f80d40eb89952b6d4f67732e",
       "version_major": 2,
       "version_minor": 0
      },
      "text/plain": [
       "  0%|          | 0/2 [00:00<?, ?it/s]"
      ]
     },
     "metadata": {},
     "output_type": "display_data"
    },
    {
     "name": "stdout",
     "output_type": "stream",
     "text": [
      "52\n"
     ]
    },
    {
     "data": {
      "application/vnd.jupyter.widget-view+json": {
       "model_id": "0b60abc058654e47a990a4d498d7f9bc",
       "version_major": 2,
       "version_minor": 0
      },
      "text/plain": [
       "  0%|          | 0/2 [00:00<?, ?it/s]"
      ]
     },
     "metadata": {},
     "output_type": "display_data"
    },
    {
     "name": "stdout",
     "output_type": "stream",
     "text": [
      "822\n"
     ]
    },
    {
     "data": {
      "application/vnd.jupyter.widget-view+json": {
       "model_id": "08c22a30b03949e5a2b6cd80a13423ab",
       "version_major": 2,
       "version_minor": 0
      },
      "text/plain": [
       "  0%|          | 0/2 [00:00<?, ?it/s]"
      ]
     },
     "metadata": {},
     "output_type": "display_data"
    },
    {
     "name": "stdout",
     "output_type": "stream",
     "text": [
      "232\n"
     ]
    },
    {
     "data": {
      "application/vnd.jupyter.widget-view+json": {
       "model_id": "917bcf9e1a604ee0b5a0c3236752dd2f",
       "version_major": 2,
       "version_minor": 0
      },
      "text/plain": [
       "  0%|          | 0/2 [00:00<?, ?it/s]"
      ]
     },
     "metadata": {},
     "output_type": "display_data"
    },
    {
     "name": "stdout",
     "output_type": "stream",
     "text": [
      "51\n"
     ]
    },
    {
     "data": {
      "application/vnd.jupyter.widget-view+json": {
       "model_id": "4eaae8c7712c4511bf9bffb1bc170d1e",
       "version_major": 2,
       "version_minor": 0
      },
      "text/plain": [
       "  0%|          | 0/2 [00:00<?, ?it/s]"
      ]
     },
     "metadata": {},
     "output_type": "display_data"
    },
    {
     "name": "stdout",
     "output_type": "stream",
     "text": [
      "42\n"
     ]
    },
    {
     "data": {
      "application/vnd.jupyter.widget-view+json": {
       "model_id": "838342ef5b8f48cfa824f776b99e93ad",
       "version_major": 2,
       "version_minor": 0
      },
      "text/plain": [
       "  0%|          | 0/2 [00:00<?, ?it/s]"
      ]
     },
     "metadata": {},
     "output_type": "display_data"
    },
    {
     "data": {
      "application/vnd.jupyter.widget-view+json": {
       "model_id": "8cba2353ac054e0a9eae405d19a4f66b",
       "version_major": 2,
       "version_minor": 0
      },
      "text/plain": [
       "  0%|          | 0/10 [00:00<?, ?it/s]"
      ]
     },
     "metadata": {},
     "output_type": "display_data"
    },
    {
     "name": "stdout",
     "output_type": "stream",
     "text": [
      "933\n"
     ]
    },
    {
     "data": {
      "application/vnd.jupyter.widget-view+json": {
       "model_id": "4b6751e8c1a041ff873eda0304eebf3f",
       "version_major": 2,
       "version_minor": 0
      },
      "text/plain": [
       "  0%|          | 0/2 [00:00<?, ?it/s]"
      ]
     },
     "metadata": {},
     "output_type": "display_data"
    },
    {
     "name": "stdout",
     "output_type": "stream",
     "text": [
      "7419\n"
     ]
    },
    {
     "data": {
      "application/vnd.jupyter.widget-view+json": {
       "model_id": "535c8a72150049bc8062ff0b4a997ef0",
       "version_major": 2,
       "version_minor": 0
      },
      "text/plain": [
       "  0%|          | 0/9 [00:00<?, ?it/s]"
      ]
     },
     "metadata": {},
     "output_type": "display_data"
    },
    {
     "name": "stdout",
     "output_type": "stream",
     "text": [
      "2320\n"
     ]
    },
    {
     "data": {
      "application/vnd.jupyter.widget-view+json": {
       "model_id": "b42cd7374b2e4a0cbb69a634043ba4f7",
       "version_major": 2,
       "version_minor": 0
      },
      "text/plain": [
       "  0%|          | 0/4 [00:00<?, ?it/s]"
      ]
     },
     "metadata": {},
     "output_type": "display_data"
    },
    {
     "name": "stdout",
     "output_type": "stream",
     "text": [
      "2523\n"
     ]
    },
    {
     "data": {
      "application/vnd.jupyter.widget-view+json": {
       "model_id": "d9149e4ed00c4a5b85b7eecc59874bc7",
       "version_major": 2,
       "version_minor": 0
      },
      "text/plain": [
       "  0%|          | 0/4 [00:00<?, ?it/s]"
      ]
     },
     "metadata": {},
     "output_type": "display_data"
    },
    {
     "name": "stdout",
     "output_type": "stream",
     "text": [
      "1037\n"
     ]
    },
    {
     "data": {
      "application/vnd.jupyter.widget-view+json": {
       "model_id": "0edf2151d8034eeb945b9b8c01894dc2",
       "version_major": 2,
       "version_minor": 0
      },
      "text/plain": [
       "  0%|          | 0/3 [00:00<?, ?it/s]"
      ]
     },
     "metadata": {},
     "output_type": "display_data"
    },
    {
     "name": "stdout",
     "output_type": "stream",
     "text": [
      "1130\n"
     ]
    },
    {
     "data": {
      "application/vnd.jupyter.widget-view+json": {
       "model_id": "6f0ab18349c34bddae0453373a15a34d",
       "version_major": 2,
       "version_minor": 0
      },
      "text/plain": [
       "  0%|          | 0/3 [00:00<?, ?it/s]"
      ]
     },
     "metadata": {},
     "output_type": "display_data"
    },
    {
     "name": "stdout",
     "output_type": "stream",
     "text": [
      "7662\n"
     ]
    },
    {
     "data": {
      "application/vnd.jupyter.widget-view+json": {
       "model_id": "8884412ae0f944fa92dfb886846a47ff",
       "version_major": 2,
       "version_minor": 0
      },
      "text/plain": [
       "  0%|          | 0/9 [00:00<?, ?it/s]"
      ]
     },
     "metadata": {},
     "output_type": "display_data"
    },
    {
     "name": "stdout",
     "output_type": "stream",
     "text": [
      "21193\n"
     ]
    },
    {
     "data": {
      "application/vnd.jupyter.widget-view+json": {
       "model_id": "8749e66b22e1406aa637fcde02e62d13",
       "version_major": 2,
       "version_minor": 0
      },
      "text/plain": [
       "  0%|          | 0/23 [00:00<?, ?it/s]"
      ]
     },
     "metadata": {},
     "output_type": "display_data"
    },
    {
     "name": "stdout",
     "output_type": "stream",
     "text": [
      "3294\n"
     ]
    },
    {
     "data": {
      "application/vnd.jupyter.widget-view+json": {
       "model_id": "cd6734887abf4e42b2e2fb7db7a9552d",
       "version_major": 2,
       "version_minor": 0
      },
      "text/plain": [
       "  0%|          | 0/5 [00:00<?, ?it/s]"
      ]
     },
     "metadata": {},
     "output_type": "display_data"
    },
    {
     "name": "stdout",
     "output_type": "stream",
     "text": [
      "3264\n"
     ]
    },
    {
     "data": {
      "application/vnd.jupyter.widget-view+json": {
       "model_id": "10c8e63527e84357b06577d5677bfa7e",
       "version_major": 2,
       "version_minor": 0
      },
      "text/plain": [
       "  0%|          | 0/5 [00:00<?, ?it/s]"
      ]
     },
     "metadata": {},
     "output_type": "display_data"
    },
    {
     "data": {
      "text/plain": [
       "'Succesfully lemmatised the given texts.'"
      ]
     },
     "execution_count": 2,
     "metadata": {},
     "output_type": "execute_result"
    }
   ],
   "source": [
    "INPUT_DIR = \"../../../../data/enwiki_city_pairs/\"\n",
    "OUTPUT_DIR = \"../../../../data/enwiki_city_pairs_lemmatised/VERB_SPACY_LARGE/\"\n",
    "POS = [\"VERB\"]\n",
    "\n",
    "create_lemmatised_wordlists(INPUT_DIR=INPUT_DIR, OUTPUT_DIR=OUTPUT_DIR, POS=POS)"
   ]
  },
  {
   "cell_type": "markdown",
   "id": "0596bce0",
   "metadata": {},
   "source": [
    "# Lemmatize Text Window ( VERBS & NOUNS )"
   ]
  },
  {
   "cell_type": "code",
   "execution_count": null,
   "id": "344a705b",
   "metadata": {},
   "outputs": [],
   "source": [
    "INPUT_DIR = \"../../../../data/enwiki_city_pairs/\"\n",
    "OUTPUT_DIR = \"../../../../data/enwiki_city_pairs_lemmatised/VERB_SPACY_LARGE/\"\n",
    "POS = [\"VERB\", \"NOUN\"]\n",
    "\n",
    "create_lemmatised_wordlists(INPUT_DIR=INPUT_DIR, OUTPUT_DIR=OUTPUT_DIR, POS=POS)"
   ]
  },
  {
   "cell_type": "markdown",
   "id": "a92177df",
   "metadata": {},
   "source": [
    "# 2. Spacy en_core_web_lg vs en_core_web_sm"
   ]
  },
  {
   "cell_type": "code",
   "execution_count": 168,
   "id": "f8ee3657",
   "metadata": {},
   "outputs": [],
   "source": [
    "import os\n",
    "import pickle\n",
    "\n",
    "def compare_lemmatisation_results(PATHS=[], verbose=False):\n",
    "    lemmatised_words = []\n",
    "    i = 0\n",
    "    \n",
    "    for root, dirs, files in os.walk(PATHS[0], topdown=True):\n",
    "        for file in files:\n",
    "            i+=1\n",
    "            city_pair = file.split('__')[1]\n",
    "            old_path = os.path.join(root, file)\n",
    "            \n",
    "            wordlists = []\n",
    "            for path in PATHS:\n",
    "                new_path = old_path.replace(PATHS[0], path)\n",
    "\n",
    "                with open(new_path, 'rb') as fp:\n",
    "                    wordlist = pickle.load(fp)\n",
    "                    wordlists.append(wordlist)\n",
    "                    \n",
    "            tempdict = { \"wordlists\": wordlists, \"city_pair\": city_pair, \"old_path\": old_path }\n",
    "            \n",
    "            lemmatised_words.append(tempdict)\n",
    "            \n",
    "            if verbose:\n",
    "                print(i, old_path, new_path)\n",
    "                print()\n",
    "    return lemmatised_words"
   ]
  },
  {
   "cell_type": "markdown",
   "id": "80d0c68f",
   "metadata": {},
   "source": [
    "## 2.1 VERBS"
   ]
  },
  {
   "cell_type": "code",
   "execution_count": 114,
   "id": "cd442e5c",
   "metadata": {},
   "outputs": [
    {
     "name": "stdout",
     "output_type": "stream",
     "text": [
      "1 ../../../../data/enwiki_city_pairs_lemmatised/VERB/biggest_cities_10\\VERB__athens_birmingham__.pickle ../../../../data/enwiki_city_pairs_lemmatised/VERB_SPACY_LARGE_REAL_WORDS/biggest_cities_10\\VERB__athens_birmingham__.pickle\n",
      "\n",
      "2 ../../../../data/enwiki_city_pairs_lemmatised/VERB/biggest_cities_10\\VERB__athens_lisbon__.pickle ../../../../data/enwiki_city_pairs_lemmatised/VERB_SPACY_LARGE_REAL_WORDS/biggest_cities_10\\VERB__athens_lisbon__.pickle\n",
      "\n",
      "3 ../../../../data/enwiki_city_pairs_lemmatised/VERB/biggest_cities_10\\VERB__athens_rome__.pickle ../../../../data/enwiki_city_pairs_lemmatised/VERB_SPACY_LARGE_REAL_WORDS/biggest_cities_10\\VERB__athens_rome__.pickle\n",
      "\n",
      "4 ../../../../data/enwiki_city_pairs_lemmatised/VERB/biggest_cities_10\\VERB__barcelona_athens__.pickle ../../../../data/enwiki_city_pairs_lemmatised/VERB_SPACY_LARGE_REAL_WORDS/biggest_cities_10\\VERB__barcelona_athens__.pickle\n",
      "\n",
      "5 ../../../../data/enwiki_city_pairs_lemmatised/VERB/biggest_cities_10\\VERB__barcelona_birmingham__.pickle ../../../../data/enwiki_city_pairs_lemmatised/VERB_SPACY_LARGE_REAL_WORDS/biggest_cities_10\\VERB__barcelona_birmingham__.pickle\n",
      "\n",
      "6 ../../../../data/enwiki_city_pairs_lemmatised/VERB/biggest_cities_10\\VERB__barcelona_lisbon__.pickle ../../../../data/enwiki_city_pairs_lemmatised/VERB_SPACY_LARGE_REAL_WORDS/biggest_cities_10\\VERB__barcelona_lisbon__.pickle\n",
      "\n",
      "7 ../../../../data/enwiki_city_pairs_lemmatised/VERB/biggest_cities_10\\VERB__barcelona_rome__.pickle ../../../../data/enwiki_city_pairs_lemmatised/VERB_SPACY_LARGE_REAL_WORDS/biggest_cities_10\\VERB__barcelona_rome__.pickle\n",
      "\n",
      "8 ../../../../data/enwiki_city_pairs_lemmatised/VERB/biggest_cities_10\\VERB__berlin_athens__.pickle ../../../../data/enwiki_city_pairs_lemmatised/VERB_SPACY_LARGE_REAL_WORDS/biggest_cities_10\\VERB__berlin_athens__.pickle\n",
      "\n",
      "9 ../../../../data/enwiki_city_pairs_lemmatised/VERB/biggest_cities_10\\VERB__berlin_barcelona__.pickle ../../../../data/enwiki_city_pairs_lemmatised/VERB_SPACY_LARGE_REAL_WORDS/biggest_cities_10\\VERB__berlin_barcelona__.pickle\n",
      "\n",
      "10 ../../../../data/enwiki_city_pairs_lemmatised/VERB/biggest_cities_10\\VERB__berlin_birmingham__.pickle ../../../../data/enwiki_city_pairs_lemmatised/VERB_SPACY_LARGE_REAL_WORDS/biggest_cities_10\\VERB__berlin_birmingham__.pickle\n",
      "\n",
      "11 ../../../../data/enwiki_city_pairs_lemmatised/VERB/biggest_cities_10\\VERB__berlin_lisbon__.pickle ../../../../data/enwiki_city_pairs_lemmatised/VERB_SPACY_LARGE_REAL_WORDS/biggest_cities_10\\VERB__berlin_lisbon__.pickle\n",
      "\n",
      "12 ../../../../data/enwiki_city_pairs_lemmatised/VERB/biggest_cities_10\\VERB__berlin_rome__.pickle ../../../../data/enwiki_city_pairs_lemmatised/VERB_SPACY_LARGE_REAL_WORDS/biggest_cities_10\\VERB__berlin_rome__.pickle\n",
      "\n",
      "13 ../../../../data/enwiki_city_pairs_lemmatised/VERB/biggest_cities_10\\VERB__birmingham_lisbon__.pickle ../../../../data/enwiki_city_pairs_lemmatised/VERB_SPACY_LARGE_REAL_WORDS/biggest_cities_10\\VERB__birmingham_lisbon__.pickle\n",
      "\n",
      "14 ../../../../data/enwiki_city_pairs_lemmatised/VERB/biggest_cities_10\\VERB__london_athens__.pickle ../../../../data/enwiki_city_pairs_lemmatised/VERB_SPACY_LARGE_REAL_WORDS/biggest_cities_10\\VERB__london_athens__.pickle\n",
      "\n",
      "15 ../../../../data/enwiki_city_pairs_lemmatised/VERB/biggest_cities_10\\VERB__london_barcelona__.pickle ../../../../data/enwiki_city_pairs_lemmatised/VERB_SPACY_LARGE_REAL_WORDS/biggest_cities_10\\VERB__london_barcelona__.pickle\n",
      "\n",
      "16 ../../../../data/enwiki_city_pairs_lemmatised/VERB/biggest_cities_10\\VERB__london_birmingham__.pickle ../../../../data/enwiki_city_pairs_lemmatised/VERB_SPACY_LARGE_REAL_WORDS/biggest_cities_10\\VERB__london_birmingham__.pickle\n",
      "\n",
      "17 ../../../../data/enwiki_city_pairs_lemmatised/VERB/biggest_cities_10\\VERB__london_lisbon__.pickle ../../../../data/enwiki_city_pairs_lemmatised/VERB_SPACY_LARGE_REAL_WORDS/biggest_cities_10\\VERB__london_lisbon__.pickle\n",
      "\n",
      "18 ../../../../data/enwiki_city_pairs_lemmatised/VERB/biggest_cities_10\\VERB__london_rome__.pickle ../../../../data/enwiki_city_pairs_lemmatised/VERB_SPACY_LARGE_REAL_WORDS/biggest_cities_10\\VERB__london_rome__.pickle\n",
      "\n",
      "19 ../../../../data/enwiki_city_pairs_lemmatised/VERB/biggest_cities_10\\VERB__madrid_athens__.pickle ../../../../data/enwiki_city_pairs_lemmatised/VERB_SPACY_LARGE_REAL_WORDS/biggest_cities_10\\VERB__madrid_athens__.pickle\n",
      "\n",
      "20 ../../../../data/enwiki_city_pairs_lemmatised/VERB/biggest_cities_10\\VERB__madrid_barcelona__.pickle ../../../../data/enwiki_city_pairs_lemmatised/VERB_SPACY_LARGE_REAL_WORDS/biggest_cities_10\\VERB__madrid_barcelona__.pickle\n",
      "\n",
      "21 ../../../../data/enwiki_city_pairs_lemmatised/VERB/biggest_cities_10\\VERB__madrid_birmingham__.pickle ../../../../data/enwiki_city_pairs_lemmatised/VERB_SPACY_LARGE_REAL_WORDS/biggest_cities_10\\VERB__madrid_birmingham__.pickle\n",
      "\n",
      "22 ../../../../data/enwiki_city_pairs_lemmatised/VERB/biggest_cities_10\\VERB__madrid_lisbon__.pickle ../../../../data/enwiki_city_pairs_lemmatised/VERB_SPACY_LARGE_REAL_WORDS/biggest_cities_10\\VERB__madrid_lisbon__.pickle\n",
      "\n",
      "23 ../../../../data/enwiki_city_pairs_lemmatised/VERB/biggest_cities_10\\VERB__madrid_rome__.pickle ../../../../data/enwiki_city_pairs_lemmatised/VERB_SPACY_LARGE_REAL_WORDS/biggest_cities_10\\VERB__madrid_rome__.pickle\n",
      "\n",
      "24 ../../../../data/enwiki_city_pairs_lemmatised/VERB/biggest_cities_10\\VERB__milan_athens__.pickle ../../../../data/enwiki_city_pairs_lemmatised/VERB_SPACY_LARGE_REAL_WORDS/biggest_cities_10\\VERB__milan_athens__.pickle\n",
      "\n",
      "25 ../../../../data/enwiki_city_pairs_lemmatised/VERB/biggest_cities_10\\VERB__milan_barcelona__.pickle ../../../../data/enwiki_city_pairs_lemmatised/VERB_SPACY_LARGE_REAL_WORDS/biggest_cities_10\\VERB__milan_barcelona__.pickle\n",
      "\n",
      "26 ../../../../data/enwiki_city_pairs_lemmatised/VERB/biggest_cities_10\\VERB__milan_birmingham__.pickle ../../../../data/enwiki_city_pairs_lemmatised/VERB_SPACY_LARGE_REAL_WORDS/biggest_cities_10\\VERB__milan_birmingham__.pickle\n",
      "\n",
      "27 ../../../../data/enwiki_city_pairs_lemmatised/VERB/biggest_cities_10\\VERB__milan_lisbon__.pickle ../../../../data/enwiki_city_pairs_lemmatised/VERB_SPACY_LARGE_REAL_WORDS/biggest_cities_10\\VERB__milan_lisbon__.pickle\n",
      "\n",
      "28 ../../../../data/enwiki_city_pairs_lemmatised/VERB/biggest_cities_10\\VERB__milan_rome__.pickle ../../../../data/enwiki_city_pairs_lemmatised/VERB_SPACY_LARGE_REAL_WORDS/biggest_cities_10\\VERB__milan_rome__.pickle\n",
      "\n",
      "29 ../../../../data/enwiki_city_pairs_lemmatised/VERB/biggest_cities_10\\VERB__paris_athens__.pickle ../../../../data/enwiki_city_pairs_lemmatised/VERB_SPACY_LARGE_REAL_WORDS/biggest_cities_10\\VERB__paris_athens__.pickle\n",
      "\n",
      "30 ../../../../data/enwiki_city_pairs_lemmatised/VERB/biggest_cities_10\\VERB__paris_barcelona__.pickle ../../../../data/enwiki_city_pairs_lemmatised/VERB_SPACY_LARGE_REAL_WORDS/biggest_cities_10\\VERB__paris_barcelona__.pickle\n",
      "\n",
      "31 ../../../../data/enwiki_city_pairs_lemmatised/VERB/biggest_cities_10\\VERB__paris_birmingham__.pickle ../../../../data/enwiki_city_pairs_lemmatised/VERB_SPACY_LARGE_REAL_WORDS/biggest_cities_10\\VERB__paris_birmingham__.pickle\n",
      "\n",
      "32 ../../../../data/enwiki_city_pairs_lemmatised/VERB/biggest_cities_10\\VERB__paris_lisbon__.pickle ../../../../data/enwiki_city_pairs_lemmatised/VERB_SPACY_LARGE_REAL_WORDS/biggest_cities_10\\VERB__paris_lisbon__.pickle\n",
      "\n",
      "33 ../../../../data/enwiki_city_pairs_lemmatised/VERB/biggest_cities_10\\VERB__paris_rome__.pickle ../../../../data/enwiki_city_pairs_lemmatised/VERB_SPACY_LARGE_REAL_WORDS/biggest_cities_10\\VERB__paris_rome__.pickle\n",
      "\n",
      "34 ../../../../data/enwiki_city_pairs_lemmatised/VERB/biggest_cities_10\\VERB__rome_birmingham__.pickle ../../../../data/enwiki_city_pairs_lemmatised/VERB_SPACY_LARGE_REAL_WORDS/biggest_cities_10\\VERB__rome_birmingham__.pickle\n",
      "\n",
      "35 ../../../../data/enwiki_city_pairs_lemmatised/VERB/biggest_cities_10\\VERB__rome_lisbon__.pickle ../../../../data/enwiki_city_pairs_lemmatised/VERB_SPACY_LARGE_REAL_WORDS/biggest_cities_10\\VERB__rome_lisbon__.pickle\n",
      "\n",
      "36 ../../../../data/enwiki_city_pairs_lemmatised/VERB/biggest_cities_20\\VERB__athens_bucharest__.pickle ../../../../data/enwiki_city_pairs_lemmatised/VERB_SPACY_LARGE_REAL_WORDS/biggest_cities_20\\VERB__athens_bucharest__.pickle\n",
      "\n",
      "37 ../../../../data/enwiki_city_pairs_lemmatised/VERB/biggest_cities_20\\VERB__athens_budapest__.pickle ../../../../data/enwiki_city_pairs_lemmatised/VERB_SPACY_LARGE_REAL_WORDS/biggest_cities_20\\VERB__athens_budapest__.pickle\n",
      "\n",
      "38 ../../../../data/enwiki_city_pairs_lemmatised/VERB/biggest_cities_20\\VERB__athens_hamburg__.pickle ../../../../data/enwiki_city_pairs_lemmatised/VERB_SPACY_LARGE_REAL_WORDS/biggest_cities_20\\VERB__athens_hamburg__.pickle\n",
      "\n",
      "39 ../../../../data/enwiki_city_pairs_lemmatised/VERB/biggest_cities_20\\VERB__athens_katowice__.pickle ../../../../data/enwiki_city_pairs_lemmatised/VERB_SPACY_LARGE_REAL_WORDS/biggest_cities_20\\VERB__athens_katowice__.pickle\n",
      "\n",
      "40 ../../../../data/enwiki_city_pairs_lemmatised/VERB/biggest_cities_20\\VERB__athens_manchester__.pickle ../../../../data/enwiki_city_pairs_lemmatised/VERB_SPACY_LARGE_REAL_WORDS/biggest_cities_20\\VERB__athens_manchester__.pickle\n",
      "\n",
      "41 ../../../../data/enwiki_city_pairs_lemmatised/VERB/biggest_cities_20\\VERB__athens_munich__.pickle ../../../../data/enwiki_city_pairs_lemmatised/VERB_SPACY_LARGE_REAL_WORDS/biggest_cities_20\\VERB__athens_munich__.pickle\n",
      "\n",
      "42 ../../../../data/enwiki_city_pairs_lemmatised/VERB/biggest_cities_20\\VERB__athens_naples__.pickle ../../../../data/enwiki_city_pairs_lemmatised/VERB_SPACY_LARGE_REAL_WORDS/biggest_cities_20\\VERB__athens_naples__.pickle\n",
      "\n",
      "43 ../../../../data/enwiki_city_pairs_lemmatised/VERB/biggest_cities_20\\VERB__athens_stuttgart__.pickle ../../../../data/enwiki_city_pairs_lemmatised/VERB_SPACY_LARGE_REAL_WORDS/biggest_cities_20\\VERB__athens_stuttgart__.pickle\n",
      "\n",
      "44 ../../../../data/enwiki_city_pairs_lemmatised/VERB/biggest_cities_20\\VERB__athens_vienna__.pickle ../../../../data/enwiki_city_pairs_lemmatised/VERB_SPACY_LARGE_REAL_WORDS/biggest_cities_20\\VERB__athens_vienna__.pickle\n",
      "\n",
      "45 ../../../../data/enwiki_city_pairs_lemmatised/VERB/biggest_cities_20\\VERB__athens_warsaw__.pickle ../../../../data/enwiki_city_pairs_lemmatised/VERB_SPACY_LARGE_REAL_WORDS/biggest_cities_20\\VERB__athens_warsaw__.pickle\n",
      "\n",
      "46 ../../../../data/enwiki_city_pairs_lemmatised/VERB/biggest_cities_20\\VERB__barcelona_bucharest__.pickle ../../../../data/enwiki_city_pairs_lemmatised/VERB_SPACY_LARGE_REAL_WORDS/biggest_cities_20\\VERB__barcelona_bucharest__.pickle\n",
      "\n",
      "47 ../../../../data/enwiki_city_pairs_lemmatised/VERB/biggest_cities_20\\VERB__barcelona_budapest__.pickle ../../../../data/enwiki_city_pairs_lemmatised/VERB_SPACY_LARGE_REAL_WORDS/biggest_cities_20\\VERB__barcelona_budapest__.pickle\n",
      "\n"
     ]
    },
    {
     "name": "stdout",
     "output_type": "stream",
     "text": [
      "48 ../../../../data/enwiki_city_pairs_lemmatised/VERB/biggest_cities_20\\VERB__barcelona_hamburg__.pickle ../../../../data/enwiki_city_pairs_lemmatised/VERB_SPACY_LARGE_REAL_WORDS/biggest_cities_20\\VERB__barcelona_hamburg__.pickle\n",
      "\n",
      "49 ../../../../data/enwiki_city_pairs_lemmatised/VERB/biggest_cities_20\\VERB__barcelona_katowice__.pickle ../../../../data/enwiki_city_pairs_lemmatised/VERB_SPACY_LARGE_REAL_WORDS/biggest_cities_20\\VERB__barcelona_katowice__.pickle\n",
      "\n",
      "50 ../../../../data/enwiki_city_pairs_lemmatised/VERB/biggest_cities_20\\VERB__barcelona_manchester__.pickle ../../../../data/enwiki_city_pairs_lemmatised/VERB_SPACY_LARGE_REAL_WORDS/biggest_cities_20\\VERB__barcelona_manchester__.pickle\n",
      "\n",
      "51 ../../../../data/enwiki_city_pairs_lemmatised/VERB/biggest_cities_20\\VERB__barcelona_munich__.pickle ../../../../data/enwiki_city_pairs_lemmatised/VERB_SPACY_LARGE_REAL_WORDS/biggest_cities_20\\VERB__barcelona_munich__.pickle\n",
      "\n",
      "52 ../../../../data/enwiki_city_pairs_lemmatised/VERB/biggest_cities_20\\VERB__barcelona_naples__.pickle ../../../../data/enwiki_city_pairs_lemmatised/VERB_SPACY_LARGE_REAL_WORDS/biggest_cities_20\\VERB__barcelona_naples__.pickle\n",
      "\n",
      "53 ../../../../data/enwiki_city_pairs_lemmatised/VERB/biggest_cities_20\\VERB__barcelona_stuttgart__.pickle ../../../../data/enwiki_city_pairs_lemmatised/VERB_SPACY_LARGE_REAL_WORDS/biggest_cities_20\\VERB__barcelona_stuttgart__.pickle\n",
      "\n",
      "54 ../../../../data/enwiki_city_pairs_lemmatised/VERB/biggest_cities_20\\VERB__barcelona_vienna__.pickle ../../../../data/enwiki_city_pairs_lemmatised/VERB_SPACY_LARGE_REAL_WORDS/biggest_cities_20\\VERB__barcelona_vienna__.pickle\n",
      "\n",
      "55 ../../../../data/enwiki_city_pairs_lemmatised/VERB/biggest_cities_20\\VERB__barcelona_warsaw__.pickle ../../../../data/enwiki_city_pairs_lemmatised/VERB_SPACY_LARGE_REAL_WORDS/biggest_cities_20\\VERB__barcelona_warsaw__.pickle\n",
      "\n",
      "56 ../../../../data/enwiki_city_pairs_lemmatised/VERB/biggest_cities_20\\VERB__berlin_bucharest__.pickle ../../../../data/enwiki_city_pairs_lemmatised/VERB_SPACY_LARGE_REAL_WORDS/biggest_cities_20\\VERB__berlin_bucharest__.pickle\n",
      "\n",
      "57 ../../../../data/enwiki_city_pairs_lemmatised/VERB/biggest_cities_20\\VERB__berlin_budapest__.pickle ../../../../data/enwiki_city_pairs_lemmatised/VERB_SPACY_LARGE_REAL_WORDS/biggest_cities_20\\VERB__berlin_budapest__.pickle\n",
      "\n",
      "58 ../../../../data/enwiki_city_pairs_lemmatised/VERB/biggest_cities_20\\VERB__berlin_hamburg__.pickle ../../../../data/enwiki_city_pairs_lemmatised/VERB_SPACY_LARGE_REAL_WORDS/biggest_cities_20\\VERB__berlin_hamburg__.pickle\n",
      "\n",
      "59 ../../../../data/enwiki_city_pairs_lemmatised/VERB/biggest_cities_20\\VERB__berlin_katowice__.pickle ../../../../data/enwiki_city_pairs_lemmatised/VERB_SPACY_LARGE_REAL_WORDS/biggest_cities_20\\VERB__berlin_katowice__.pickle\n",
      "\n",
      "60 ../../../../data/enwiki_city_pairs_lemmatised/VERB/biggest_cities_20\\VERB__berlin_manchester__.pickle ../../../../data/enwiki_city_pairs_lemmatised/VERB_SPACY_LARGE_REAL_WORDS/biggest_cities_20\\VERB__berlin_manchester__.pickle\n",
      "\n",
      "61 ../../../../data/enwiki_city_pairs_lemmatised/VERB/biggest_cities_20\\VERB__berlin_munich__.pickle ../../../../data/enwiki_city_pairs_lemmatised/VERB_SPACY_LARGE_REAL_WORDS/biggest_cities_20\\VERB__berlin_munich__.pickle\n",
      "\n",
      "62 ../../../../data/enwiki_city_pairs_lemmatised/VERB/biggest_cities_20\\VERB__berlin_naples__.pickle ../../../../data/enwiki_city_pairs_lemmatised/VERB_SPACY_LARGE_REAL_WORDS/biggest_cities_20\\VERB__berlin_naples__.pickle\n",
      "\n",
      "63 ../../../../data/enwiki_city_pairs_lemmatised/VERB/biggest_cities_20\\VERB__berlin_stuttgart__.pickle ../../../../data/enwiki_city_pairs_lemmatised/VERB_SPACY_LARGE_REAL_WORDS/biggest_cities_20\\VERB__berlin_stuttgart__.pickle\n",
      "\n",
      "64 ../../../../data/enwiki_city_pairs_lemmatised/VERB/biggest_cities_20\\VERB__berlin_vienna__.pickle ../../../../data/enwiki_city_pairs_lemmatised/VERB_SPACY_LARGE_REAL_WORDS/biggest_cities_20\\VERB__berlin_vienna__.pickle\n",
      "\n",
      "65 ../../../../data/enwiki_city_pairs_lemmatised/VERB/biggest_cities_20\\VERB__berlin_warsaw__.pickle ../../../../data/enwiki_city_pairs_lemmatised/VERB_SPACY_LARGE_REAL_WORDS/biggest_cities_20\\VERB__berlin_warsaw__.pickle\n",
      "\n",
      "66 ../../../../data/enwiki_city_pairs_lemmatised/VERB/biggest_cities_20\\VERB__birmingham_bucharest__.pickle ../../../../data/enwiki_city_pairs_lemmatised/VERB_SPACY_LARGE_REAL_WORDS/biggest_cities_20\\VERB__birmingham_bucharest__.pickle\n",
      "\n",
      "67 ../../../../data/enwiki_city_pairs_lemmatised/VERB/biggest_cities_20\\VERB__birmingham_budapest__.pickle ../../../../data/enwiki_city_pairs_lemmatised/VERB_SPACY_LARGE_REAL_WORDS/biggest_cities_20\\VERB__birmingham_budapest__.pickle\n",
      "\n",
      "68 ../../../../data/enwiki_city_pairs_lemmatised/VERB/biggest_cities_20\\VERB__birmingham_hamburg__.pickle ../../../../data/enwiki_city_pairs_lemmatised/VERB_SPACY_LARGE_REAL_WORDS/biggest_cities_20\\VERB__birmingham_hamburg__.pickle\n",
      "\n",
      "69 ../../../../data/enwiki_city_pairs_lemmatised/VERB/biggest_cities_20\\VERB__birmingham_katowice__.pickle ../../../../data/enwiki_city_pairs_lemmatised/VERB_SPACY_LARGE_REAL_WORDS/biggest_cities_20\\VERB__birmingham_katowice__.pickle\n",
      "\n",
      "70 ../../../../data/enwiki_city_pairs_lemmatised/VERB/biggest_cities_20\\VERB__birmingham_manchester__.pickle ../../../../data/enwiki_city_pairs_lemmatised/VERB_SPACY_LARGE_REAL_WORDS/biggest_cities_20\\VERB__birmingham_manchester__.pickle\n",
      "\n",
      "71 ../../../../data/enwiki_city_pairs_lemmatised/VERB/biggest_cities_20\\VERB__birmingham_munich__.pickle ../../../../data/enwiki_city_pairs_lemmatised/VERB_SPACY_LARGE_REAL_WORDS/biggest_cities_20\\VERB__birmingham_munich__.pickle\n",
      "\n",
      "72 ../../../../data/enwiki_city_pairs_lemmatised/VERB/biggest_cities_20\\VERB__birmingham_naples__.pickle ../../../../data/enwiki_city_pairs_lemmatised/VERB_SPACY_LARGE_REAL_WORDS/biggest_cities_20\\VERB__birmingham_naples__.pickle\n",
      "\n",
      "73 ../../../../data/enwiki_city_pairs_lemmatised/VERB/biggest_cities_20\\VERB__birmingham_stuttgart__.pickle ../../../../data/enwiki_city_pairs_lemmatised/VERB_SPACY_LARGE_REAL_WORDS/biggest_cities_20\\VERB__birmingham_stuttgart__.pickle\n",
      "\n",
      "74 ../../../../data/enwiki_city_pairs_lemmatised/VERB/biggest_cities_20\\VERB__birmingham_vienna__.pickle ../../../../data/enwiki_city_pairs_lemmatised/VERB_SPACY_LARGE_REAL_WORDS/biggest_cities_20\\VERB__birmingham_vienna__.pickle\n",
      "\n",
      "75 ../../../../data/enwiki_city_pairs_lemmatised/VERB/biggest_cities_20\\VERB__birmingham_warsaw__.pickle ../../../../data/enwiki_city_pairs_lemmatised/VERB_SPACY_LARGE_REAL_WORDS/biggest_cities_20\\VERB__birmingham_warsaw__.pickle\n",
      "\n",
      "76 ../../../../data/enwiki_city_pairs_lemmatised/VERB/biggest_cities_20\\VERB__bucharest_munich__.pickle ../../../../data/enwiki_city_pairs_lemmatised/VERB_SPACY_LARGE_REAL_WORDS/biggest_cities_20\\VERB__bucharest_munich__.pickle\n",
      "\n",
      "77 ../../../../data/enwiki_city_pairs_lemmatised/VERB/biggest_cities_20\\VERB__bucharest_stuttgart__.pickle ../../../../data/enwiki_city_pairs_lemmatised/VERB_SPACY_LARGE_REAL_WORDS/biggest_cities_20\\VERB__bucharest_stuttgart__.pickle\n",
      "\n",
      "78 ../../../../data/enwiki_city_pairs_lemmatised/VERB/biggest_cities_20\\VERB__bucharest_vienna__.pickle ../../../../data/enwiki_city_pairs_lemmatised/VERB_SPACY_LARGE_REAL_WORDS/biggest_cities_20\\VERB__bucharest_vienna__.pickle\n",
      "\n",
      "79 ../../../../data/enwiki_city_pairs_lemmatised/VERB/biggest_cities_20\\VERB__bucharest_warsaw__.pickle ../../../../data/enwiki_city_pairs_lemmatised/VERB_SPACY_LARGE_REAL_WORDS/biggest_cities_20\\VERB__bucharest_warsaw__.pickle\n",
      "\n",
      "80 ../../../../data/enwiki_city_pairs_lemmatised/VERB/biggest_cities_20\\VERB__budapest_bucharest__.pickle ../../../../data/enwiki_city_pairs_lemmatised/VERB_SPACY_LARGE_REAL_WORDS/biggest_cities_20\\VERB__budapest_bucharest__.pickle\n",
      "\n",
      "81 ../../../../data/enwiki_city_pairs_lemmatised/VERB/biggest_cities_20\\VERB__budapest_munich__.pickle ../../../../data/enwiki_city_pairs_lemmatised/VERB_SPACY_LARGE_REAL_WORDS/biggest_cities_20\\VERB__budapest_munich__.pickle\n",
      "\n",
      "82 ../../../../data/enwiki_city_pairs_lemmatised/VERB/biggest_cities_20\\VERB__budapest_stuttgart__.pickle ../../../../data/enwiki_city_pairs_lemmatised/VERB_SPACY_LARGE_REAL_WORDS/biggest_cities_20\\VERB__budapest_stuttgart__.pickle\n",
      "\n",
      "83 ../../../../data/enwiki_city_pairs_lemmatised/VERB/biggest_cities_20\\VERB__budapest_vienna__.pickle ../../../../data/enwiki_city_pairs_lemmatised/VERB_SPACY_LARGE_REAL_WORDS/biggest_cities_20\\VERB__budapest_vienna__.pickle\n",
      "\n",
      "84 ../../../../data/enwiki_city_pairs_lemmatised/VERB/biggest_cities_20\\VERB__budapest_warsaw__.pickle ../../../../data/enwiki_city_pairs_lemmatised/VERB_SPACY_LARGE_REAL_WORDS/biggest_cities_20\\VERB__budapest_warsaw__.pickle\n",
      "\n",
      "85 ../../../../data/enwiki_city_pairs_lemmatised/VERB/biggest_cities_20\\VERB__hamburg_bucharest__.pickle ../../../../data/enwiki_city_pairs_lemmatised/VERB_SPACY_LARGE_REAL_WORDS/biggest_cities_20\\VERB__hamburg_bucharest__.pickle\n",
      "\n",
      "86 ../../../../data/enwiki_city_pairs_lemmatised/VERB/biggest_cities_20\\VERB__hamburg_budapest__.pickle ../../../../data/enwiki_city_pairs_lemmatised/VERB_SPACY_LARGE_REAL_WORDS/biggest_cities_20\\VERB__hamburg_budapest__.pickle\n",
      "\n",
      "87 ../../../../data/enwiki_city_pairs_lemmatised/VERB/biggest_cities_20\\VERB__hamburg_munich__.pickle ../../../../data/enwiki_city_pairs_lemmatised/VERB_SPACY_LARGE_REAL_WORDS/biggest_cities_20\\VERB__hamburg_munich__.pickle\n",
      "\n"
     ]
    },
    {
     "name": "stdout",
     "output_type": "stream",
     "text": [
      "88 ../../../../data/enwiki_city_pairs_lemmatised/VERB/biggest_cities_20\\VERB__hamburg_stuttgart__.pickle ../../../../data/enwiki_city_pairs_lemmatised/VERB_SPACY_LARGE_REAL_WORDS/biggest_cities_20\\VERB__hamburg_stuttgart__.pickle\n",
      "\n",
      "89 ../../../../data/enwiki_city_pairs_lemmatised/VERB/biggest_cities_20\\VERB__hamburg_vienna__.pickle ../../../../data/enwiki_city_pairs_lemmatised/VERB_SPACY_LARGE_REAL_WORDS/biggest_cities_20\\VERB__hamburg_vienna__.pickle\n",
      "\n",
      "90 ../../../../data/enwiki_city_pairs_lemmatised/VERB/biggest_cities_20\\VERB__hamburg_warsaw__.pickle ../../../../data/enwiki_city_pairs_lemmatised/VERB_SPACY_LARGE_REAL_WORDS/biggest_cities_20\\VERB__hamburg_warsaw__.pickle\n",
      "\n",
      "91 ../../../../data/enwiki_city_pairs_lemmatised/VERB/biggest_cities_20\\VERB__katowice_bucharest__.pickle ../../../../data/enwiki_city_pairs_lemmatised/VERB_SPACY_LARGE_REAL_WORDS/biggest_cities_20\\VERB__katowice_bucharest__.pickle\n",
      "\n",
      "92 ../../../../data/enwiki_city_pairs_lemmatised/VERB/biggest_cities_20\\VERB__katowice_budapest__.pickle ../../../../data/enwiki_city_pairs_lemmatised/VERB_SPACY_LARGE_REAL_WORDS/biggest_cities_20\\VERB__katowice_budapest__.pickle\n",
      "\n",
      "93 ../../../../data/enwiki_city_pairs_lemmatised/VERB/biggest_cities_20\\VERB__katowice_hamburg__.pickle ../../../../data/enwiki_city_pairs_lemmatised/VERB_SPACY_LARGE_REAL_WORDS/biggest_cities_20\\VERB__katowice_hamburg__.pickle\n",
      "\n",
      "94 ../../../../data/enwiki_city_pairs_lemmatised/VERB/biggest_cities_20\\VERB__katowice_manchester__.pickle ../../../../data/enwiki_city_pairs_lemmatised/VERB_SPACY_LARGE_REAL_WORDS/biggest_cities_20\\VERB__katowice_manchester__.pickle\n",
      "\n",
      "95 ../../../../data/enwiki_city_pairs_lemmatised/VERB/biggest_cities_20\\VERB__katowice_munich__.pickle ../../../../data/enwiki_city_pairs_lemmatised/VERB_SPACY_LARGE_REAL_WORDS/biggest_cities_20\\VERB__katowice_munich__.pickle\n",
      "\n",
      "96 ../../../../data/enwiki_city_pairs_lemmatised/VERB/biggest_cities_20\\VERB__katowice_stuttgart__.pickle ../../../../data/enwiki_city_pairs_lemmatised/VERB_SPACY_LARGE_REAL_WORDS/biggest_cities_20\\VERB__katowice_stuttgart__.pickle\n",
      "\n",
      "97 ../../../../data/enwiki_city_pairs_lemmatised/VERB/biggest_cities_20\\VERB__katowice_vienna__.pickle ../../../../data/enwiki_city_pairs_lemmatised/VERB_SPACY_LARGE_REAL_WORDS/biggest_cities_20\\VERB__katowice_vienna__.pickle\n",
      "\n",
      "98 ../../../../data/enwiki_city_pairs_lemmatised/VERB/biggest_cities_20\\VERB__katowice_warsaw__.pickle ../../../../data/enwiki_city_pairs_lemmatised/VERB_SPACY_LARGE_REAL_WORDS/biggest_cities_20\\VERB__katowice_warsaw__.pickle\n",
      "\n",
      "99 ../../../../data/enwiki_city_pairs_lemmatised/VERB/biggest_cities_20\\VERB__lisbon_bucharest__.pickle ../../../../data/enwiki_city_pairs_lemmatised/VERB_SPACY_LARGE_REAL_WORDS/biggest_cities_20\\VERB__lisbon_bucharest__.pickle\n",
      "\n",
      "100 ../../../../data/enwiki_city_pairs_lemmatised/VERB/biggest_cities_20\\VERB__lisbon_budapest__.pickle ../../../../data/enwiki_city_pairs_lemmatised/VERB_SPACY_LARGE_REAL_WORDS/biggest_cities_20\\VERB__lisbon_budapest__.pickle\n",
      "\n",
      "101 ../../../../data/enwiki_city_pairs_lemmatised/VERB/biggest_cities_20\\VERB__lisbon_hamburg__.pickle ../../../../data/enwiki_city_pairs_lemmatised/VERB_SPACY_LARGE_REAL_WORDS/biggest_cities_20\\VERB__lisbon_hamburg__.pickle\n",
      "\n",
      "102 ../../../../data/enwiki_city_pairs_lemmatised/VERB/biggest_cities_20\\VERB__lisbon_katowice__.pickle ../../../../data/enwiki_city_pairs_lemmatised/VERB_SPACY_LARGE_REAL_WORDS/biggest_cities_20\\VERB__lisbon_katowice__.pickle\n",
      "\n",
      "103 ../../../../data/enwiki_city_pairs_lemmatised/VERB/biggest_cities_20\\VERB__lisbon_manchester__.pickle ../../../../data/enwiki_city_pairs_lemmatised/VERB_SPACY_LARGE_REAL_WORDS/biggest_cities_20\\VERB__lisbon_manchester__.pickle\n",
      "\n",
      "104 ../../../../data/enwiki_city_pairs_lemmatised/VERB/biggest_cities_20\\VERB__lisbon_munich__.pickle ../../../../data/enwiki_city_pairs_lemmatised/VERB_SPACY_LARGE_REAL_WORDS/biggest_cities_20\\VERB__lisbon_munich__.pickle\n",
      "\n",
      "105 ../../../../data/enwiki_city_pairs_lemmatised/VERB/biggest_cities_20\\VERB__lisbon_naples__.pickle ../../../../data/enwiki_city_pairs_lemmatised/VERB_SPACY_LARGE_REAL_WORDS/biggest_cities_20\\VERB__lisbon_naples__.pickle\n",
      "\n",
      "106 ../../../../data/enwiki_city_pairs_lemmatised/VERB/biggest_cities_20\\VERB__lisbon_stuttgart__.pickle ../../../../data/enwiki_city_pairs_lemmatised/VERB_SPACY_LARGE_REAL_WORDS/biggest_cities_20\\VERB__lisbon_stuttgart__.pickle\n",
      "\n",
      "107 ../../../../data/enwiki_city_pairs_lemmatised/VERB/biggest_cities_20\\VERB__lisbon_vienna__.pickle ../../../../data/enwiki_city_pairs_lemmatised/VERB_SPACY_LARGE_REAL_WORDS/biggest_cities_20\\VERB__lisbon_vienna__.pickle\n",
      "\n",
      "108 ../../../../data/enwiki_city_pairs_lemmatised/VERB/biggest_cities_20\\VERB__lisbon_warsaw__.pickle ../../../../data/enwiki_city_pairs_lemmatised/VERB_SPACY_LARGE_REAL_WORDS/biggest_cities_20\\VERB__lisbon_warsaw__.pickle\n",
      "\n",
      "109 ../../../../data/enwiki_city_pairs_lemmatised/VERB/biggest_cities_20\\VERB__london_bucharest__.pickle ../../../../data/enwiki_city_pairs_lemmatised/VERB_SPACY_LARGE_REAL_WORDS/biggest_cities_20\\VERB__london_bucharest__.pickle\n",
      "\n",
      "110 ../../../../data/enwiki_city_pairs_lemmatised/VERB/biggest_cities_20\\VERB__london_budapest__.pickle ../../../../data/enwiki_city_pairs_lemmatised/VERB_SPACY_LARGE_REAL_WORDS/biggest_cities_20\\VERB__london_budapest__.pickle\n",
      "\n",
      "111 ../../../../data/enwiki_city_pairs_lemmatised/VERB/biggest_cities_20\\VERB__london_hamburg__.pickle ../../../../data/enwiki_city_pairs_lemmatised/VERB_SPACY_LARGE_REAL_WORDS/biggest_cities_20\\VERB__london_hamburg__.pickle\n",
      "\n",
      "112 ../../../../data/enwiki_city_pairs_lemmatised/VERB/biggest_cities_20\\VERB__london_katowice__.pickle ../../../../data/enwiki_city_pairs_lemmatised/VERB_SPACY_LARGE_REAL_WORDS/biggest_cities_20\\VERB__london_katowice__.pickle\n",
      "\n",
      "113 ../../../../data/enwiki_city_pairs_lemmatised/VERB/biggest_cities_20\\VERB__london_manchester__.pickle ../../../../data/enwiki_city_pairs_lemmatised/VERB_SPACY_LARGE_REAL_WORDS/biggest_cities_20\\VERB__london_manchester__.pickle\n",
      "\n",
      "114 ../../../../data/enwiki_city_pairs_lemmatised/VERB/biggest_cities_20\\VERB__london_munich__.pickle ../../../../data/enwiki_city_pairs_lemmatised/VERB_SPACY_LARGE_REAL_WORDS/biggest_cities_20\\VERB__london_munich__.pickle\n",
      "\n",
      "115 ../../../../data/enwiki_city_pairs_lemmatised/VERB/biggest_cities_20\\VERB__london_naples__.pickle ../../../../data/enwiki_city_pairs_lemmatised/VERB_SPACY_LARGE_REAL_WORDS/biggest_cities_20\\VERB__london_naples__.pickle\n",
      "\n",
      "116 ../../../../data/enwiki_city_pairs_lemmatised/VERB/biggest_cities_20\\VERB__london_stuttgart__.pickle ../../../../data/enwiki_city_pairs_lemmatised/VERB_SPACY_LARGE_REAL_WORDS/biggest_cities_20\\VERB__london_stuttgart__.pickle\n",
      "\n",
      "117 ../../../../data/enwiki_city_pairs_lemmatised/VERB/biggest_cities_20\\VERB__london_vienna__.pickle ../../../../data/enwiki_city_pairs_lemmatised/VERB_SPACY_LARGE_REAL_WORDS/biggest_cities_20\\VERB__london_vienna__.pickle\n",
      "\n",
      "118 ../../../../data/enwiki_city_pairs_lemmatised/VERB/biggest_cities_20\\VERB__london_warsaw__.pickle ../../../../data/enwiki_city_pairs_lemmatised/VERB_SPACY_LARGE_REAL_WORDS/biggest_cities_20\\VERB__london_warsaw__.pickle\n",
      "\n",
      "119 ../../../../data/enwiki_city_pairs_lemmatised/VERB/biggest_cities_20\\VERB__madrid_bucharest__.pickle ../../../../data/enwiki_city_pairs_lemmatised/VERB_SPACY_LARGE_REAL_WORDS/biggest_cities_20\\VERB__madrid_bucharest__.pickle\n",
      "\n",
      "120 ../../../../data/enwiki_city_pairs_lemmatised/VERB/biggest_cities_20\\VERB__madrid_budapest__.pickle ../../../../data/enwiki_city_pairs_lemmatised/VERB_SPACY_LARGE_REAL_WORDS/biggest_cities_20\\VERB__madrid_budapest__.pickle\n",
      "\n",
      "121 ../../../../data/enwiki_city_pairs_lemmatised/VERB/biggest_cities_20\\VERB__madrid_hamburg__.pickle ../../../../data/enwiki_city_pairs_lemmatised/VERB_SPACY_LARGE_REAL_WORDS/biggest_cities_20\\VERB__madrid_hamburg__.pickle\n",
      "\n",
      "122 ../../../../data/enwiki_city_pairs_lemmatised/VERB/biggest_cities_20\\VERB__madrid_katowice__.pickle ../../../../data/enwiki_city_pairs_lemmatised/VERB_SPACY_LARGE_REAL_WORDS/biggest_cities_20\\VERB__madrid_katowice__.pickle\n",
      "\n",
      "123 ../../../../data/enwiki_city_pairs_lemmatised/VERB/biggest_cities_20\\VERB__madrid_manchester__.pickle ../../../../data/enwiki_city_pairs_lemmatised/VERB_SPACY_LARGE_REAL_WORDS/biggest_cities_20\\VERB__madrid_manchester__.pickle\n",
      "\n",
      "124 ../../../../data/enwiki_city_pairs_lemmatised/VERB/biggest_cities_20\\VERB__madrid_munich__.pickle ../../../../data/enwiki_city_pairs_lemmatised/VERB_SPACY_LARGE_REAL_WORDS/biggest_cities_20\\VERB__madrid_munich__.pickle\n",
      "\n"
     ]
    },
    {
     "name": "stdout",
     "output_type": "stream",
     "text": [
      "125 ../../../../data/enwiki_city_pairs_lemmatised/VERB/biggest_cities_20\\VERB__madrid_naples__.pickle ../../../../data/enwiki_city_pairs_lemmatised/VERB_SPACY_LARGE_REAL_WORDS/biggest_cities_20\\VERB__madrid_naples__.pickle\n",
      "\n",
      "126 ../../../../data/enwiki_city_pairs_lemmatised/VERB/biggest_cities_20\\VERB__madrid_stuttgart__.pickle ../../../../data/enwiki_city_pairs_lemmatised/VERB_SPACY_LARGE_REAL_WORDS/biggest_cities_20\\VERB__madrid_stuttgart__.pickle\n",
      "\n",
      "127 ../../../../data/enwiki_city_pairs_lemmatised/VERB/biggest_cities_20\\VERB__madrid_vienna__.pickle ../../../../data/enwiki_city_pairs_lemmatised/VERB_SPACY_LARGE_REAL_WORDS/biggest_cities_20\\VERB__madrid_vienna__.pickle\n",
      "\n",
      "128 ../../../../data/enwiki_city_pairs_lemmatised/VERB/biggest_cities_20\\VERB__madrid_warsaw__.pickle ../../../../data/enwiki_city_pairs_lemmatised/VERB_SPACY_LARGE_REAL_WORDS/biggest_cities_20\\VERB__madrid_warsaw__.pickle\n",
      "\n",
      "129 ../../../../data/enwiki_city_pairs_lemmatised/VERB/biggest_cities_20\\VERB__manchester_bucharest__.pickle ../../../../data/enwiki_city_pairs_lemmatised/VERB_SPACY_LARGE_REAL_WORDS/biggest_cities_20\\VERB__manchester_bucharest__.pickle\n",
      "\n",
      "130 ../../../../data/enwiki_city_pairs_lemmatised/VERB/biggest_cities_20\\VERB__manchester_budapest__.pickle ../../../../data/enwiki_city_pairs_lemmatised/VERB_SPACY_LARGE_REAL_WORDS/biggest_cities_20\\VERB__manchester_budapest__.pickle\n",
      "\n",
      "131 ../../../../data/enwiki_city_pairs_lemmatised/VERB/biggest_cities_20\\VERB__manchester_hamburg__.pickle ../../../../data/enwiki_city_pairs_lemmatised/VERB_SPACY_LARGE_REAL_WORDS/biggest_cities_20\\VERB__manchester_hamburg__.pickle\n",
      "\n",
      "132 ../../../../data/enwiki_city_pairs_lemmatised/VERB/biggest_cities_20\\VERB__manchester_munich__.pickle ../../../../data/enwiki_city_pairs_lemmatised/VERB_SPACY_LARGE_REAL_WORDS/biggest_cities_20\\VERB__manchester_munich__.pickle\n",
      "\n",
      "133 ../../../../data/enwiki_city_pairs_lemmatised/VERB/biggest_cities_20\\VERB__manchester_stuttgart__.pickle ../../../../data/enwiki_city_pairs_lemmatised/VERB_SPACY_LARGE_REAL_WORDS/biggest_cities_20\\VERB__manchester_stuttgart__.pickle\n",
      "\n",
      "134 ../../../../data/enwiki_city_pairs_lemmatised/VERB/biggest_cities_20\\VERB__manchester_vienna__.pickle ../../../../data/enwiki_city_pairs_lemmatised/VERB_SPACY_LARGE_REAL_WORDS/biggest_cities_20\\VERB__manchester_vienna__.pickle\n",
      "\n",
      "135 ../../../../data/enwiki_city_pairs_lemmatised/VERB/biggest_cities_20\\VERB__manchester_warsaw__.pickle ../../../../data/enwiki_city_pairs_lemmatised/VERB_SPACY_LARGE_REAL_WORDS/biggest_cities_20\\VERB__manchester_warsaw__.pickle\n",
      "\n",
      "136 ../../../../data/enwiki_city_pairs_lemmatised/VERB/biggest_cities_20\\VERB__milan_bucharest__.pickle ../../../../data/enwiki_city_pairs_lemmatised/VERB_SPACY_LARGE_REAL_WORDS/biggest_cities_20\\VERB__milan_bucharest__.pickle\n",
      "\n",
      "137 ../../../../data/enwiki_city_pairs_lemmatised/VERB/biggest_cities_20\\VERB__milan_budapest__.pickle ../../../../data/enwiki_city_pairs_lemmatised/VERB_SPACY_LARGE_REAL_WORDS/biggest_cities_20\\VERB__milan_budapest__.pickle\n",
      "\n",
      "138 ../../../../data/enwiki_city_pairs_lemmatised/VERB/biggest_cities_20\\VERB__milan_hamburg__.pickle ../../../../data/enwiki_city_pairs_lemmatised/VERB_SPACY_LARGE_REAL_WORDS/biggest_cities_20\\VERB__milan_hamburg__.pickle\n",
      "\n",
      "139 ../../../../data/enwiki_city_pairs_lemmatised/VERB/biggest_cities_20\\VERB__milan_katowice__.pickle ../../../../data/enwiki_city_pairs_lemmatised/VERB_SPACY_LARGE_REAL_WORDS/biggest_cities_20\\VERB__milan_katowice__.pickle\n",
      "\n",
      "140 ../../../../data/enwiki_city_pairs_lemmatised/VERB/biggest_cities_20\\VERB__milan_manchester__.pickle ../../../../data/enwiki_city_pairs_lemmatised/VERB_SPACY_LARGE_REAL_WORDS/biggest_cities_20\\VERB__milan_manchester__.pickle\n",
      "\n",
      "141 ../../../../data/enwiki_city_pairs_lemmatised/VERB/biggest_cities_20\\VERB__milan_munich__.pickle ../../../../data/enwiki_city_pairs_lemmatised/VERB_SPACY_LARGE_REAL_WORDS/biggest_cities_20\\VERB__milan_munich__.pickle\n",
      "\n",
      "142 ../../../../data/enwiki_city_pairs_lemmatised/VERB/biggest_cities_20\\VERB__milan_naples__.pickle ../../../../data/enwiki_city_pairs_lemmatised/VERB_SPACY_LARGE_REAL_WORDS/biggest_cities_20\\VERB__milan_naples__.pickle\n",
      "\n",
      "143 ../../../../data/enwiki_city_pairs_lemmatised/VERB/biggest_cities_20\\VERB__milan_stuttgart__.pickle ../../../../data/enwiki_city_pairs_lemmatised/VERB_SPACY_LARGE_REAL_WORDS/biggest_cities_20\\VERB__milan_stuttgart__.pickle\n",
      "\n",
      "144 ../../../../data/enwiki_city_pairs_lemmatised/VERB/biggest_cities_20\\VERB__milan_vienna__.pickle ../../../../data/enwiki_city_pairs_lemmatised/VERB_SPACY_LARGE_REAL_WORDS/biggest_cities_20\\VERB__milan_vienna__.pickle\n",
      "\n",
      "145 ../../../../data/enwiki_city_pairs_lemmatised/VERB/biggest_cities_20\\VERB__milan_warsaw__.pickle ../../../../data/enwiki_city_pairs_lemmatised/VERB_SPACY_LARGE_REAL_WORDS/biggest_cities_20\\VERB__milan_warsaw__.pickle\n",
      "\n",
      "146 ../../../../data/enwiki_city_pairs_lemmatised/VERB/biggest_cities_20\\VERB__naples_bucharest__.pickle ../../../../data/enwiki_city_pairs_lemmatised/VERB_SPACY_LARGE_REAL_WORDS/biggest_cities_20\\VERB__naples_bucharest__.pickle\n",
      "\n",
      "147 ../../../../data/enwiki_city_pairs_lemmatised/VERB/biggest_cities_20\\VERB__naples_budapest__.pickle ../../../../data/enwiki_city_pairs_lemmatised/VERB_SPACY_LARGE_REAL_WORDS/biggest_cities_20\\VERB__naples_budapest__.pickle\n",
      "\n",
      "148 ../../../../data/enwiki_city_pairs_lemmatised/VERB/biggest_cities_20\\VERB__naples_hamburg__.pickle ../../../../data/enwiki_city_pairs_lemmatised/VERB_SPACY_LARGE_REAL_WORDS/biggest_cities_20\\VERB__naples_hamburg__.pickle\n",
      "\n",
      "149 ../../../../data/enwiki_city_pairs_lemmatised/VERB/biggest_cities_20\\VERB__naples_katowice__.pickle ../../../../data/enwiki_city_pairs_lemmatised/VERB_SPACY_LARGE_REAL_WORDS/biggest_cities_20\\VERB__naples_katowice__.pickle\n",
      "\n",
      "150 ../../../../data/enwiki_city_pairs_lemmatised/VERB/biggest_cities_20\\VERB__naples_manchester__.pickle ../../../../data/enwiki_city_pairs_lemmatised/VERB_SPACY_LARGE_REAL_WORDS/biggest_cities_20\\VERB__naples_manchester__.pickle\n",
      "\n",
      "151 ../../../../data/enwiki_city_pairs_lemmatised/VERB/biggest_cities_20\\VERB__naples_munich__.pickle ../../../../data/enwiki_city_pairs_lemmatised/VERB_SPACY_LARGE_REAL_WORDS/biggest_cities_20\\VERB__naples_munich__.pickle\n",
      "\n",
      "152 ../../../../data/enwiki_city_pairs_lemmatised/VERB/biggest_cities_20\\VERB__naples_stuttgart__.pickle ../../../../data/enwiki_city_pairs_lemmatised/VERB_SPACY_LARGE_REAL_WORDS/biggest_cities_20\\VERB__naples_stuttgart__.pickle\n",
      "\n",
      "153 ../../../../data/enwiki_city_pairs_lemmatised/VERB/biggest_cities_20\\VERB__naples_vienna__.pickle ../../../../data/enwiki_city_pairs_lemmatised/VERB_SPACY_LARGE_REAL_WORDS/biggest_cities_20\\VERB__naples_vienna__.pickle\n",
      "\n",
      "154 ../../../../data/enwiki_city_pairs_lemmatised/VERB/biggest_cities_20\\VERB__naples_warsaw__.pickle ../../../../data/enwiki_city_pairs_lemmatised/VERB_SPACY_LARGE_REAL_WORDS/biggest_cities_20\\VERB__naples_warsaw__.pickle\n",
      "\n",
      "155 ../../../../data/enwiki_city_pairs_lemmatised/VERB/biggest_cities_20\\VERB__paris_bucharest__.pickle ../../../../data/enwiki_city_pairs_lemmatised/VERB_SPACY_LARGE_REAL_WORDS/biggest_cities_20\\VERB__paris_bucharest__.pickle\n",
      "\n",
      "156 ../../../../data/enwiki_city_pairs_lemmatised/VERB/biggest_cities_20\\VERB__paris_budapest__.pickle ../../../../data/enwiki_city_pairs_lemmatised/VERB_SPACY_LARGE_REAL_WORDS/biggest_cities_20\\VERB__paris_budapest__.pickle\n",
      "\n",
      "157 ../../../../data/enwiki_city_pairs_lemmatised/VERB/biggest_cities_20\\VERB__paris_hamburg__.pickle ../../../../data/enwiki_city_pairs_lemmatised/VERB_SPACY_LARGE_REAL_WORDS/biggest_cities_20\\VERB__paris_hamburg__.pickle\n",
      "\n",
      "158 ../../../../data/enwiki_city_pairs_lemmatised/VERB/biggest_cities_20\\VERB__paris_katowice__.pickle ../../../../data/enwiki_city_pairs_lemmatised/VERB_SPACY_LARGE_REAL_WORDS/biggest_cities_20\\VERB__paris_katowice__.pickle\n",
      "\n",
      "159 ../../../../data/enwiki_city_pairs_lemmatised/VERB/biggest_cities_20\\VERB__paris_manchester__.pickle ../../../../data/enwiki_city_pairs_lemmatised/VERB_SPACY_LARGE_REAL_WORDS/biggest_cities_20\\VERB__paris_manchester__.pickle\n",
      "\n",
      "160 ../../../../data/enwiki_city_pairs_lemmatised/VERB/biggest_cities_20\\VERB__paris_munich__.pickle ../../../../data/enwiki_city_pairs_lemmatised/VERB_SPACY_LARGE_REAL_WORDS/biggest_cities_20\\VERB__paris_munich__.pickle\n",
      "\n",
      "161 ../../../../data/enwiki_city_pairs_lemmatised/VERB/biggest_cities_20\\VERB__paris_naples__.pickle ../../../../data/enwiki_city_pairs_lemmatised/VERB_SPACY_LARGE_REAL_WORDS/biggest_cities_20\\VERB__paris_naples__.pickle\n",
      "\n",
      "162 ../../../../data/enwiki_city_pairs_lemmatised/VERB/biggest_cities_20\\VERB__paris_stuttgart__.pickle ../../../../data/enwiki_city_pairs_lemmatised/VERB_SPACY_LARGE_REAL_WORDS/biggest_cities_20\\VERB__paris_stuttgart__.pickle\n",
      "\n",
      "163 ../../../../data/enwiki_city_pairs_lemmatised/VERB/biggest_cities_20\\VERB__paris_vienna__.pickle ../../../../data/enwiki_city_pairs_lemmatised/VERB_SPACY_LARGE_REAL_WORDS/biggest_cities_20\\VERB__paris_vienna__.pickle\n",
      "\n"
     ]
    },
    {
     "name": "stdout",
     "output_type": "stream",
     "text": [
      "164 ../../../../data/enwiki_city_pairs_lemmatised/VERB/biggest_cities_20\\VERB__paris_warsaw__.pickle ../../../../data/enwiki_city_pairs_lemmatised/VERB_SPACY_LARGE_REAL_WORDS/biggest_cities_20\\VERB__paris_warsaw__.pickle\n",
      "\n",
      "165 ../../../../data/enwiki_city_pairs_lemmatised/VERB/biggest_cities_20\\VERB__rome_bucharest__.pickle ../../../../data/enwiki_city_pairs_lemmatised/VERB_SPACY_LARGE_REAL_WORDS/biggest_cities_20\\VERB__rome_bucharest__.pickle\n",
      "\n",
      "166 ../../../../data/enwiki_city_pairs_lemmatised/VERB/biggest_cities_20\\VERB__rome_budapest__.pickle ../../../../data/enwiki_city_pairs_lemmatised/VERB_SPACY_LARGE_REAL_WORDS/biggest_cities_20\\VERB__rome_budapest__.pickle\n",
      "\n",
      "167 ../../../../data/enwiki_city_pairs_lemmatised/VERB/biggest_cities_20\\VERB__rome_hamburg__.pickle ../../../../data/enwiki_city_pairs_lemmatised/VERB_SPACY_LARGE_REAL_WORDS/biggest_cities_20\\VERB__rome_hamburg__.pickle\n",
      "\n",
      "168 ../../../../data/enwiki_city_pairs_lemmatised/VERB/biggest_cities_20\\VERB__rome_katowice__.pickle ../../../../data/enwiki_city_pairs_lemmatised/VERB_SPACY_LARGE_REAL_WORDS/biggest_cities_20\\VERB__rome_katowice__.pickle\n",
      "\n",
      "169 ../../../../data/enwiki_city_pairs_lemmatised/VERB/biggest_cities_20\\VERB__rome_manchester__.pickle ../../../../data/enwiki_city_pairs_lemmatised/VERB_SPACY_LARGE_REAL_WORDS/biggest_cities_20\\VERB__rome_manchester__.pickle\n",
      "\n",
      "170 ../../../../data/enwiki_city_pairs_lemmatised/VERB/biggest_cities_20\\VERB__rome_munich__.pickle ../../../../data/enwiki_city_pairs_lemmatised/VERB_SPACY_LARGE_REAL_WORDS/biggest_cities_20\\VERB__rome_munich__.pickle\n",
      "\n",
      "171 ../../../../data/enwiki_city_pairs_lemmatised/VERB/biggest_cities_20\\VERB__rome_naples__.pickle ../../../../data/enwiki_city_pairs_lemmatised/VERB_SPACY_LARGE_REAL_WORDS/biggest_cities_20\\VERB__rome_naples__.pickle\n",
      "\n",
      "172 ../../../../data/enwiki_city_pairs_lemmatised/VERB/biggest_cities_20\\VERB__rome_stuttgart__.pickle ../../../../data/enwiki_city_pairs_lemmatised/VERB_SPACY_LARGE_REAL_WORDS/biggest_cities_20\\VERB__rome_stuttgart__.pickle\n",
      "\n",
      "173 ../../../../data/enwiki_city_pairs_lemmatised/VERB/biggest_cities_20\\VERB__rome_vienna__.pickle ../../../../data/enwiki_city_pairs_lemmatised/VERB_SPACY_LARGE_REAL_WORDS/biggest_cities_20\\VERB__rome_vienna__.pickle\n",
      "\n",
      "174 ../../../../data/enwiki_city_pairs_lemmatised/VERB/biggest_cities_20\\VERB__rome_warsaw__.pickle ../../../../data/enwiki_city_pairs_lemmatised/VERB_SPACY_LARGE_REAL_WORDS/biggest_cities_20\\VERB__rome_warsaw__.pickle\n",
      "\n",
      "175 ../../../../data/enwiki_city_pairs_lemmatised/VERB/biggest_cities_20\\VERB__stuttgart_munich__.pickle ../../../../data/enwiki_city_pairs_lemmatised/VERB_SPACY_LARGE_REAL_WORDS/biggest_cities_20\\VERB__stuttgart_munich__.pickle\n",
      "\n",
      "176 ../../../../data/enwiki_city_pairs_lemmatised/VERB/biggest_cities_20\\VERB__stuttgart_vienna__.pickle ../../../../data/enwiki_city_pairs_lemmatised/VERB_SPACY_LARGE_REAL_WORDS/biggest_cities_20\\VERB__stuttgart_vienna__.pickle\n",
      "\n",
      "177 ../../../../data/enwiki_city_pairs_lemmatised/VERB/biggest_cities_20\\VERB__vienna_munich__.pickle ../../../../data/enwiki_city_pairs_lemmatised/VERB_SPACY_LARGE_REAL_WORDS/biggest_cities_20\\VERB__vienna_munich__.pickle\n",
      "\n",
      "178 ../../../../data/enwiki_city_pairs_lemmatised/VERB/biggest_cities_20\\VERB__warsaw_munich__.pickle ../../../../data/enwiki_city_pairs_lemmatised/VERB_SPACY_LARGE_REAL_WORDS/biggest_cities_20\\VERB__warsaw_munich__.pickle\n",
      "\n",
      "179 ../../../../data/enwiki_city_pairs_lemmatised/VERB/biggest_cities_20\\VERB__warsaw_stuttgart__.pickle ../../../../data/enwiki_city_pairs_lemmatised/VERB_SPACY_LARGE_REAL_WORDS/biggest_cities_20\\VERB__warsaw_stuttgart__.pickle\n",
      "\n",
      "180 ../../../../data/enwiki_city_pairs_lemmatised/VERB/biggest_cities_20\\VERB__warsaw_vienna__.pickle ../../../../data/enwiki_city_pairs_lemmatised/VERB_SPACY_LARGE_REAL_WORDS/biggest_cities_20\\VERB__warsaw_vienna__.pickle\n",
      "\n",
      "181 ../../../../data/enwiki_city_pairs_lemmatised/VERB/biggest_cities_30\\VERB__athens_brussels__.pickle ../../../../data/enwiki_city_pairs_lemmatised/VERB_SPACY_LARGE_REAL_WORDS/biggest_cities_30\\VERB__athens_brussels__.pickle\n",
      "\n",
      "182 ../../../../data/enwiki_city_pairs_lemmatised/VERB/biggest_cities_30\\VERB__athens_cologne__.pickle ../../../../data/enwiki_city_pairs_lemmatised/VERB_SPACY_LARGE_REAL_WORDS/biggest_cities_30\\VERB__athens_cologne__.pickle\n",
      "\n",
      "183 ../../../../data/enwiki_city_pairs_lemmatised/VERB/biggest_cities_30\\VERB__athens_copenhagen__.pickle ../../../../data/enwiki_city_pairs_lemmatised/VERB_SPACY_LARGE_REAL_WORDS/biggest_cities_30\\VERB__athens_copenhagen__.pickle\n",
      "\n",
      "184 ../../../../data/enwiki_city_pairs_lemmatised/VERB/biggest_cities_30\\VERB__athens_frankfurt__.pickle ../../../../data/enwiki_city_pairs_lemmatised/VERB_SPACY_LARGE_REAL_WORDS/biggest_cities_30\\VERB__athens_frankfurt__.pickle\n",
      "\n",
      "185 ../../../../data/enwiki_city_pairs_lemmatised/VERB/biggest_cities_30\\VERB__athens_glasgow__.pickle ../../../../data/enwiki_city_pairs_lemmatised/VERB_SPACY_LARGE_REAL_WORDS/biggest_cities_30\\VERB__athens_glasgow__.pickle\n",
      "\n",
      "186 ../../../../data/enwiki_city_pairs_lemmatised/VERB/biggest_cities_30\\VERB__athens_lyon__.pickle ../../../../data/enwiki_city_pairs_lemmatised/VERB_SPACY_LARGE_REAL_WORDS/biggest_cities_30\\VERB__athens_lyon__.pickle\n",
      "\n",
      "187 ../../../../data/enwiki_city_pairs_lemmatised/VERB/biggest_cities_30\\VERB__athens_prague__.pickle ../../../../data/enwiki_city_pairs_lemmatised/VERB_SPACY_LARGE_REAL_WORDS/biggest_cities_30\\VERB__athens_prague__.pickle\n",
      "\n",
      "188 ../../../../data/enwiki_city_pairs_lemmatised/VERB/biggest_cities_30\\VERB__athens_stockholm__.pickle ../../../../data/enwiki_city_pairs_lemmatised/VERB_SPACY_LARGE_REAL_WORDS/biggest_cities_30\\VERB__athens_stockholm__.pickle\n",
      "\n",
      "189 ../../../../data/enwiki_city_pairs_lemmatised/VERB/biggest_cities_30\\VERB__athens_turin__.pickle ../../../../data/enwiki_city_pairs_lemmatised/VERB_SPACY_LARGE_REAL_WORDS/biggest_cities_30\\VERB__athens_turin__.pickle\n",
      "\n",
      "190 ../../../../data/enwiki_city_pairs_lemmatised/VERB/biggest_cities_30\\VERB__athens_valencia__.pickle ../../../../data/enwiki_city_pairs_lemmatised/VERB_SPACY_LARGE_REAL_WORDS/biggest_cities_30\\VERB__athens_valencia__.pickle\n",
      "\n",
      "191 ../../../../data/enwiki_city_pairs_lemmatised/VERB/biggest_cities_30\\VERB__barcelona_brussels__.pickle ../../../../data/enwiki_city_pairs_lemmatised/VERB_SPACY_LARGE_REAL_WORDS/biggest_cities_30\\VERB__barcelona_brussels__.pickle\n",
      "\n",
      "192 ../../../../data/enwiki_city_pairs_lemmatised/VERB/biggest_cities_30\\VERB__barcelona_cologne__.pickle ../../../../data/enwiki_city_pairs_lemmatised/VERB_SPACY_LARGE_REAL_WORDS/biggest_cities_30\\VERB__barcelona_cologne__.pickle\n",
      "\n",
      "193 ../../../../data/enwiki_city_pairs_lemmatised/VERB/biggest_cities_30\\VERB__barcelona_copenhagen__.pickle ../../../../data/enwiki_city_pairs_lemmatised/VERB_SPACY_LARGE_REAL_WORDS/biggest_cities_30\\VERB__barcelona_copenhagen__.pickle\n",
      "\n",
      "194 ../../../../data/enwiki_city_pairs_lemmatised/VERB/biggest_cities_30\\VERB__barcelona_frankfurt__.pickle ../../../../data/enwiki_city_pairs_lemmatised/VERB_SPACY_LARGE_REAL_WORDS/biggest_cities_30\\VERB__barcelona_frankfurt__.pickle\n",
      "\n",
      "195 ../../../../data/enwiki_city_pairs_lemmatised/VERB/biggest_cities_30\\VERB__barcelona_glasgow__.pickle ../../../../data/enwiki_city_pairs_lemmatised/VERB_SPACY_LARGE_REAL_WORDS/biggest_cities_30\\VERB__barcelona_glasgow__.pickle\n",
      "\n",
      "196 ../../../../data/enwiki_city_pairs_lemmatised/VERB/biggest_cities_30\\VERB__barcelona_lyon__.pickle ../../../../data/enwiki_city_pairs_lemmatised/VERB_SPACY_LARGE_REAL_WORDS/biggest_cities_30\\VERB__barcelona_lyon__.pickle\n",
      "\n",
      "197 ../../../../data/enwiki_city_pairs_lemmatised/VERB/biggest_cities_30\\VERB__barcelona_prague__.pickle ../../../../data/enwiki_city_pairs_lemmatised/VERB_SPACY_LARGE_REAL_WORDS/biggest_cities_30\\VERB__barcelona_prague__.pickle\n",
      "\n",
      "198 ../../../../data/enwiki_city_pairs_lemmatised/VERB/biggest_cities_30\\VERB__barcelona_stockholm__.pickle ../../../../data/enwiki_city_pairs_lemmatised/VERB_SPACY_LARGE_REAL_WORDS/biggest_cities_30\\VERB__barcelona_stockholm__.pickle\n",
      "\n",
      "199 ../../../../data/enwiki_city_pairs_lemmatised/VERB/biggest_cities_30\\VERB__barcelona_turin__.pickle ../../../../data/enwiki_city_pairs_lemmatised/VERB_SPACY_LARGE_REAL_WORDS/biggest_cities_30\\VERB__barcelona_turin__.pickle\n",
      "\n",
      "200 ../../../../data/enwiki_city_pairs_lemmatised/VERB/biggest_cities_30\\VERB__barcelona_valencia__.pickle ../../../../data/enwiki_city_pairs_lemmatised/VERB_SPACY_LARGE_REAL_WORDS/biggest_cities_30\\VERB__barcelona_valencia__.pickle\n",
      "\n",
      "201 ../../../../data/enwiki_city_pairs_lemmatised/VERB/biggest_cities_30\\VERB__berlin_brussels__.pickle ../../../../data/enwiki_city_pairs_lemmatised/VERB_SPACY_LARGE_REAL_WORDS/biggest_cities_30\\VERB__berlin_brussels__.pickle\n",
      "\n"
     ]
    },
    {
     "name": "stdout",
     "output_type": "stream",
     "text": [
      "202 ../../../../data/enwiki_city_pairs_lemmatised/VERB/biggest_cities_30\\VERB__berlin_cologne__.pickle ../../../../data/enwiki_city_pairs_lemmatised/VERB_SPACY_LARGE_REAL_WORDS/biggest_cities_30\\VERB__berlin_cologne__.pickle\n",
      "\n",
      "203 ../../../../data/enwiki_city_pairs_lemmatised/VERB/biggest_cities_30\\VERB__berlin_copenhagen__.pickle ../../../../data/enwiki_city_pairs_lemmatised/VERB_SPACY_LARGE_REAL_WORDS/biggest_cities_30\\VERB__berlin_copenhagen__.pickle\n",
      "\n",
      "204 ../../../../data/enwiki_city_pairs_lemmatised/VERB/biggest_cities_30\\VERB__berlin_frankfurt__.pickle ../../../../data/enwiki_city_pairs_lemmatised/VERB_SPACY_LARGE_REAL_WORDS/biggest_cities_30\\VERB__berlin_frankfurt__.pickle\n",
      "\n",
      "205 ../../../../data/enwiki_city_pairs_lemmatised/VERB/biggest_cities_30\\VERB__berlin_glasgow__.pickle ../../../../data/enwiki_city_pairs_lemmatised/VERB_SPACY_LARGE_REAL_WORDS/biggest_cities_30\\VERB__berlin_glasgow__.pickle\n",
      "\n",
      "206 ../../../../data/enwiki_city_pairs_lemmatised/VERB/biggest_cities_30\\VERB__berlin_lyon__.pickle ../../../../data/enwiki_city_pairs_lemmatised/VERB_SPACY_LARGE_REAL_WORDS/biggest_cities_30\\VERB__berlin_lyon__.pickle\n",
      "\n",
      "207 ../../../../data/enwiki_city_pairs_lemmatised/VERB/biggest_cities_30\\VERB__berlin_prague__.pickle ../../../../data/enwiki_city_pairs_lemmatised/VERB_SPACY_LARGE_REAL_WORDS/biggest_cities_30\\VERB__berlin_prague__.pickle\n",
      "\n",
      "208 ../../../../data/enwiki_city_pairs_lemmatised/VERB/biggest_cities_30\\VERB__berlin_stockholm__.pickle ../../../../data/enwiki_city_pairs_lemmatised/VERB_SPACY_LARGE_REAL_WORDS/biggest_cities_30\\VERB__berlin_stockholm__.pickle\n",
      "\n",
      "209 ../../../../data/enwiki_city_pairs_lemmatised/VERB/biggest_cities_30\\VERB__berlin_turin__.pickle ../../../../data/enwiki_city_pairs_lemmatised/VERB_SPACY_LARGE_REAL_WORDS/biggest_cities_30\\VERB__berlin_turin__.pickle\n",
      "\n",
      "210 ../../../../data/enwiki_city_pairs_lemmatised/VERB/biggest_cities_30\\VERB__berlin_valencia__.pickle ../../../../data/enwiki_city_pairs_lemmatised/VERB_SPACY_LARGE_REAL_WORDS/biggest_cities_30\\VERB__berlin_valencia__.pickle\n",
      "\n",
      "211 ../../../../data/enwiki_city_pairs_lemmatised/VERB/biggest_cities_30\\VERB__birmingham_brussels__.pickle ../../../../data/enwiki_city_pairs_lemmatised/VERB_SPACY_LARGE_REAL_WORDS/biggest_cities_30\\VERB__birmingham_brussels__.pickle\n",
      "\n",
      "212 ../../../../data/enwiki_city_pairs_lemmatised/VERB/biggest_cities_30\\VERB__birmingham_cologne__.pickle ../../../../data/enwiki_city_pairs_lemmatised/VERB_SPACY_LARGE_REAL_WORDS/biggest_cities_30\\VERB__birmingham_cologne__.pickle\n",
      "\n",
      "213 ../../../../data/enwiki_city_pairs_lemmatised/VERB/biggest_cities_30\\VERB__birmingham_copenhagen__.pickle ../../../../data/enwiki_city_pairs_lemmatised/VERB_SPACY_LARGE_REAL_WORDS/biggest_cities_30\\VERB__birmingham_copenhagen__.pickle\n",
      "\n",
      "214 ../../../../data/enwiki_city_pairs_lemmatised/VERB/biggest_cities_30\\VERB__birmingham_frankfurt__.pickle ../../../../data/enwiki_city_pairs_lemmatised/VERB_SPACY_LARGE_REAL_WORDS/biggest_cities_30\\VERB__birmingham_frankfurt__.pickle\n",
      "\n",
      "215 ../../../../data/enwiki_city_pairs_lemmatised/VERB/biggest_cities_30\\VERB__birmingham_glasgow__.pickle ../../../../data/enwiki_city_pairs_lemmatised/VERB_SPACY_LARGE_REAL_WORDS/biggest_cities_30\\VERB__birmingham_glasgow__.pickle\n",
      "\n",
      "216 ../../../../data/enwiki_city_pairs_lemmatised/VERB/biggest_cities_30\\VERB__birmingham_lyon__.pickle ../../../../data/enwiki_city_pairs_lemmatised/VERB_SPACY_LARGE_REAL_WORDS/biggest_cities_30\\VERB__birmingham_lyon__.pickle\n",
      "\n",
      "217 ../../../../data/enwiki_city_pairs_lemmatised/VERB/biggest_cities_30\\VERB__birmingham_prague__.pickle ../../../../data/enwiki_city_pairs_lemmatised/VERB_SPACY_LARGE_REAL_WORDS/biggest_cities_30\\VERB__birmingham_prague__.pickle\n",
      "\n",
      "218 ../../../../data/enwiki_city_pairs_lemmatised/VERB/biggest_cities_30\\VERB__birmingham_stockholm__.pickle ../../../../data/enwiki_city_pairs_lemmatised/VERB_SPACY_LARGE_REAL_WORDS/biggest_cities_30\\VERB__birmingham_stockholm__.pickle\n",
      "\n",
      "219 ../../../../data/enwiki_city_pairs_lemmatised/VERB/biggest_cities_30\\VERB__birmingham_turin__.pickle ../../../../data/enwiki_city_pairs_lemmatised/VERB_SPACY_LARGE_REAL_WORDS/biggest_cities_30\\VERB__birmingham_turin__.pickle\n",
      "\n",
      "220 ../../../../data/enwiki_city_pairs_lemmatised/VERB/biggest_cities_30\\VERB__birmingham_valencia__.pickle ../../../../data/enwiki_city_pairs_lemmatised/VERB_SPACY_LARGE_REAL_WORDS/biggest_cities_30\\VERB__birmingham_valencia__.pickle\n",
      "\n",
      "221 ../../../../data/enwiki_city_pairs_lemmatised/VERB/biggest_cities_30\\VERB__brussels_cologne__.pickle ../../../../data/enwiki_city_pairs_lemmatised/VERB_SPACY_LARGE_REAL_WORDS/biggest_cities_30\\VERB__brussels_cologne__.pickle\n",
      "\n",
      "222 ../../../../data/enwiki_city_pairs_lemmatised/VERB/biggest_cities_30\\VERB__brussels_copenhagen__.pickle ../../../../data/enwiki_city_pairs_lemmatised/VERB_SPACY_LARGE_REAL_WORDS/biggest_cities_30\\VERB__brussels_copenhagen__.pickle\n",
      "\n",
      "223 ../../../../data/enwiki_city_pairs_lemmatised/VERB/biggest_cities_30\\VERB__brussels_frankfurt__.pickle ../../../../data/enwiki_city_pairs_lemmatised/VERB_SPACY_LARGE_REAL_WORDS/biggest_cities_30\\VERB__brussels_frankfurt__.pickle\n",
      "\n",
      "224 ../../../../data/enwiki_city_pairs_lemmatised/VERB/biggest_cities_30\\VERB__brussels_glasgow__.pickle ../../../../data/enwiki_city_pairs_lemmatised/VERB_SPACY_LARGE_REAL_WORDS/biggest_cities_30\\VERB__brussels_glasgow__.pickle\n",
      "\n",
      "225 ../../../../data/enwiki_city_pairs_lemmatised/VERB/biggest_cities_30\\VERB__brussels_lyon__.pickle ../../../../data/enwiki_city_pairs_lemmatised/VERB_SPACY_LARGE_REAL_WORDS/biggest_cities_30\\VERB__brussels_lyon__.pickle\n",
      "\n",
      "226 ../../../../data/enwiki_city_pairs_lemmatised/VERB/biggest_cities_30\\VERB__brussels_prague__.pickle ../../../../data/enwiki_city_pairs_lemmatised/VERB_SPACY_LARGE_REAL_WORDS/biggest_cities_30\\VERB__brussels_prague__.pickle\n",
      "\n",
      "227 ../../../../data/enwiki_city_pairs_lemmatised/VERB/biggest_cities_30\\VERB__brussels_stockholm__.pickle ../../../../data/enwiki_city_pairs_lemmatised/VERB_SPACY_LARGE_REAL_WORDS/biggest_cities_30\\VERB__brussels_stockholm__.pickle\n",
      "\n",
      "228 ../../../../data/enwiki_city_pairs_lemmatised/VERB/biggest_cities_30\\VERB__brussels_turin__.pickle ../../../../data/enwiki_city_pairs_lemmatised/VERB_SPACY_LARGE_REAL_WORDS/biggest_cities_30\\VERB__brussels_turin__.pickle\n",
      "\n",
      "229 ../../../../data/enwiki_city_pairs_lemmatised/VERB/biggest_cities_30\\VERB__brussels_valencia__.pickle ../../../../data/enwiki_city_pairs_lemmatised/VERB_SPACY_LARGE_REAL_WORDS/biggest_cities_30\\VERB__brussels_valencia__.pickle\n",
      "\n",
      "230 ../../../../data/enwiki_city_pairs_lemmatised/VERB/biggest_cities_30\\VERB__bucharest_brussels__.pickle ../../../../data/enwiki_city_pairs_lemmatised/VERB_SPACY_LARGE_REAL_WORDS/biggest_cities_30\\VERB__bucharest_brussels__.pickle\n",
      "\n",
      "231 ../../../../data/enwiki_city_pairs_lemmatised/VERB/biggest_cities_30\\VERB__bucharest_cologne__.pickle ../../../../data/enwiki_city_pairs_lemmatised/VERB_SPACY_LARGE_REAL_WORDS/biggest_cities_30\\VERB__bucharest_cologne__.pickle\n",
      "\n",
      "232 ../../../../data/enwiki_city_pairs_lemmatised/VERB/biggest_cities_30\\VERB__bucharest_copenhagen__.pickle ../../../../data/enwiki_city_pairs_lemmatised/VERB_SPACY_LARGE_REAL_WORDS/biggest_cities_30\\VERB__bucharest_copenhagen__.pickle\n",
      "\n",
      "233 ../../../../data/enwiki_city_pairs_lemmatised/VERB/biggest_cities_30\\VERB__bucharest_frankfurt__.pickle ../../../../data/enwiki_city_pairs_lemmatised/VERB_SPACY_LARGE_REAL_WORDS/biggest_cities_30\\VERB__bucharest_frankfurt__.pickle\n",
      "\n",
      "234 ../../../../data/enwiki_city_pairs_lemmatised/VERB/biggest_cities_30\\VERB__bucharest_glasgow__.pickle ../../../../data/enwiki_city_pairs_lemmatised/VERB_SPACY_LARGE_REAL_WORDS/biggest_cities_30\\VERB__bucharest_glasgow__.pickle\n",
      "\n",
      "235 ../../../../data/enwiki_city_pairs_lemmatised/VERB/biggest_cities_30\\VERB__bucharest_lyon__.pickle ../../../../data/enwiki_city_pairs_lemmatised/VERB_SPACY_LARGE_REAL_WORDS/biggest_cities_30\\VERB__bucharest_lyon__.pickle\n",
      "\n",
      "236 ../../../../data/enwiki_city_pairs_lemmatised/VERB/biggest_cities_30\\VERB__bucharest_prague__.pickle ../../../../data/enwiki_city_pairs_lemmatised/VERB_SPACY_LARGE_REAL_WORDS/biggest_cities_30\\VERB__bucharest_prague__.pickle\n",
      "\n",
      "237 ../../../../data/enwiki_city_pairs_lemmatised/VERB/biggest_cities_30\\VERB__bucharest_stockholm__.pickle ../../../../data/enwiki_city_pairs_lemmatised/VERB_SPACY_LARGE_REAL_WORDS/biggest_cities_30\\VERB__bucharest_stockholm__.pickle\n",
      "\n",
      "238 ../../../../data/enwiki_city_pairs_lemmatised/VERB/biggest_cities_30\\VERB__bucharest_turin__.pickle ../../../../data/enwiki_city_pairs_lemmatised/VERB_SPACY_LARGE_REAL_WORDS/biggest_cities_30\\VERB__bucharest_turin__.pickle\n",
      "\n",
      "239 ../../../../data/enwiki_city_pairs_lemmatised/VERB/biggest_cities_30\\VERB__bucharest_valencia__.pickle ../../../../data/enwiki_city_pairs_lemmatised/VERB_SPACY_LARGE_REAL_WORDS/biggest_cities_30\\VERB__bucharest_valencia__.pickle\n",
      "\n",
      "240 ../../../../data/enwiki_city_pairs_lemmatised/VERB/biggest_cities_30\\VERB__budapest_brussels__.pickle ../../../../data/enwiki_city_pairs_lemmatised/VERB_SPACY_LARGE_REAL_WORDS/biggest_cities_30\\VERB__budapest_brussels__.pickle\n",
      "\n",
      "241 ../../../../data/enwiki_city_pairs_lemmatised/VERB/biggest_cities_30\\VERB__budapest_cologne__.pickle ../../../../data/enwiki_city_pairs_lemmatised/VERB_SPACY_LARGE_REAL_WORDS/biggest_cities_30\\VERB__budapest_cologne__.pickle\n",
      "\n",
      "242 ../../../../data/enwiki_city_pairs_lemmatised/VERB/biggest_cities_30\\VERB__budapest_copenhagen__.pickle ../../../../data/enwiki_city_pairs_lemmatised/VERB_SPACY_LARGE_REAL_WORDS/biggest_cities_30\\VERB__budapest_copenhagen__.pickle\n",
      "\n",
      "243 ../../../../data/enwiki_city_pairs_lemmatised/VERB/biggest_cities_30\\VERB__budapest_frankfurt__.pickle ../../../../data/enwiki_city_pairs_lemmatised/VERB_SPACY_LARGE_REAL_WORDS/biggest_cities_30\\VERB__budapest_frankfurt__.pickle\n",
      "\n",
      "244 ../../../../data/enwiki_city_pairs_lemmatised/VERB/biggest_cities_30\\VERB__budapest_glasgow__.pickle ../../../../data/enwiki_city_pairs_lemmatised/VERB_SPACY_LARGE_REAL_WORDS/biggest_cities_30\\VERB__budapest_glasgow__.pickle\n",
      "\n",
      "245 ../../../../data/enwiki_city_pairs_lemmatised/VERB/biggest_cities_30\\VERB__budapest_lyon__.pickle ../../../../data/enwiki_city_pairs_lemmatised/VERB_SPACY_LARGE_REAL_WORDS/biggest_cities_30\\VERB__budapest_lyon__.pickle\n",
      "\n",
      "246 ../../../../data/enwiki_city_pairs_lemmatised/VERB/biggest_cities_30\\VERB__budapest_prague__.pickle ../../../../data/enwiki_city_pairs_lemmatised/VERB_SPACY_LARGE_REAL_WORDS/biggest_cities_30\\VERB__budapest_prague__.pickle\n",
      "\n"
     ]
    },
    {
     "name": "stdout",
     "output_type": "stream",
     "text": [
      "247 ../../../../data/enwiki_city_pairs_lemmatised/VERB/biggest_cities_30\\VERB__budapest_stockholm__.pickle ../../../../data/enwiki_city_pairs_lemmatised/VERB_SPACY_LARGE_REAL_WORDS/biggest_cities_30\\VERB__budapest_stockholm__.pickle\n",
      "\n",
      "248 ../../../../data/enwiki_city_pairs_lemmatised/VERB/biggest_cities_30\\VERB__budapest_turin__.pickle ../../../../data/enwiki_city_pairs_lemmatised/VERB_SPACY_LARGE_REAL_WORDS/biggest_cities_30\\VERB__budapest_turin__.pickle\n",
      "\n",
      "249 ../../../../data/enwiki_city_pairs_lemmatised/VERB/biggest_cities_30\\VERB__budapest_valencia__.pickle ../../../../data/enwiki_city_pairs_lemmatised/VERB_SPACY_LARGE_REAL_WORDS/biggest_cities_30\\VERB__budapest_valencia__.pickle\n",
      "\n",
      "250 ../../../../data/enwiki_city_pairs_lemmatised/VERB/biggest_cities_30\\VERB__cologne_copenhagen__.pickle ../../../../data/enwiki_city_pairs_lemmatised/VERB_SPACY_LARGE_REAL_WORDS/biggest_cities_30\\VERB__cologne_copenhagen__.pickle\n",
      "\n",
      "251 ../../../../data/enwiki_city_pairs_lemmatised/VERB/biggest_cities_30\\VERB__cologne_glasgow__.pickle ../../../../data/enwiki_city_pairs_lemmatised/VERB_SPACY_LARGE_REAL_WORDS/biggest_cities_30\\VERB__cologne_glasgow__.pickle\n",
      "\n",
      "252 ../../../../data/enwiki_city_pairs_lemmatised/VERB/biggest_cities_30\\VERB__cologne_lyon__.pickle ../../../../data/enwiki_city_pairs_lemmatised/VERB_SPACY_LARGE_REAL_WORDS/biggest_cities_30\\VERB__cologne_lyon__.pickle\n",
      "\n",
      "253 ../../../../data/enwiki_city_pairs_lemmatised/VERB/biggest_cities_30\\VERB__cologne_prague__.pickle ../../../../data/enwiki_city_pairs_lemmatised/VERB_SPACY_LARGE_REAL_WORDS/biggest_cities_30\\VERB__cologne_prague__.pickle\n",
      "\n",
      "254 ../../../../data/enwiki_city_pairs_lemmatised/VERB/biggest_cities_30\\VERB__cologne_turin__.pickle ../../../../data/enwiki_city_pairs_lemmatised/VERB_SPACY_LARGE_REAL_WORDS/biggest_cities_30\\VERB__cologne_turin__.pickle\n",
      "\n",
      "255 ../../../../data/enwiki_city_pairs_lemmatised/VERB/biggest_cities_30\\VERB__cologne_valencia__.pickle ../../../../data/enwiki_city_pairs_lemmatised/VERB_SPACY_LARGE_REAL_WORDS/biggest_cities_30\\VERB__cologne_valencia__.pickle\n",
      "\n",
      "256 ../../../../data/enwiki_city_pairs_lemmatised/VERB/biggest_cities_30\\VERB__copenhagen_glasgow__.pickle ../../../../data/enwiki_city_pairs_lemmatised/VERB_SPACY_LARGE_REAL_WORDS/biggest_cities_30\\VERB__copenhagen_glasgow__.pickle\n",
      "\n",
      "257 ../../../../data/enwiki_city_pairs_lemmatised/VERB/biggest_cities_30\\VERB__copenhagen_lyon__.pickle ../../../../data/enwiki_city_pairs_lemmatised/VERB_SPACY_LARGE_REAL_WORDS/biggest_cities_30\\VERB__copenhagen_lyon__.pickle\n",
      "\n",
      "258 ../../../../data/enwiki_city_pairs_lemmatised/VERB/biggest_cities_30\\VERB__copenhagen_prague__.pickle ../../../../data/enwiki_city_pairs_lemmatised/VERB_SPACY_LARGE_REAL_WORDS/biggest_cities_30\\VERB__copenhagen_prague__.pickle\n",
      "\n",
      "259 ../../../../data/enwiki_city_pairs_lemmatised/VERB/biggest_cities_30\\VERB__copenhagen_turin__.pickle ../../../../data/enwiki_city_pairs_lemmatised/VERB_SPACY_LARGE_REAL_WORDS/biggest_cities_30\\VERB__copenhagen_turin__.pickle\n",
      "\n",
      "260 ../../../../data/enwiki_city_pairs_lemmatised/VERB/biggest_cities_30\\VERB__copenhagen_valencia__.pickle ../../../../data/enwiki_city_pairs_lemmatised/VERB_SPACY_LARGE_REAL_WORDS/biggest_cities_30\\VERB__copenhagen_valencia__.pickle\n",
      "\n",
      "261 ../../../../data/enwiki_city_pairs_lemmatised/VERB/biggest_cities_30\\VERB__frankfurt_cologne__.pickle ../../../../data/enwiki_city_pairs_lemmatised/VERB_SPACY_LARGE_REAL_WORDS/biggest_cities_30\\VERB__frankfurt_cologne__.pickle\n",
      "\n",
      "262 ../../../../data/enwiki_city_pairs_lemmatised/VERB/biggest_cities_30\\VERB__frankfurt_copenhagen__.pickle ../../../../data/enwiki_city_pairs_lemmatised/VERB_SPACY_LARGE_REAL_WORDS/biggest_cities_30\\VERB__frankfurt_copenhagen__.pickle\n",
      "\n",
      "263 ../../../../data/enwiki_city_pairs_lemmatised/VERB/biggest_cities_30\\VERB__frankfurt_glasgow__.pickle ../../../../data/enwiki_city_pairs_lemmatised/VERB_SPACY_LARGE_REAL_WORDS/biggest_cities_30\\VERB__frankfurt_glasgow__.pickle\n",
      "\n",
      "264 ../../../../data/enwiki_city_pairs_lemmatised/VERB/biggest_cities_30\\VERB__frankfurt_lyon__.pickle ../../../../data/enwiki_city_pairs_lemmatised/VERB_SPACY_LARGE_REAL_WORDS/biggest_cities_30\\VERB__frankfurt_lyon__.pickle\n",
      "\n",
      "265 ../../../../data/enwiki_city_pairs_lemmatised/VERB/biggest_cities_30\\VERB__frankfurt_prague__.pickle ../../../../data/enwiki_city_pairs_lemmatised/VERB_SPACY_LARGE_REAL_WORDS/biggest_cities_30\\VERB__frankfurt_prague__.pickle\n",
      "\n",
      "266 ../../../../data/enwiki_city_pairs_lemmatised/VERB/biggest_cities_30\\VERB__frankfurt_turin__.pickle ../../../../data/enwiki_city_pairs_lemmatised/VERB_SPACY_LARGE_REAL_WORDS/biggest_cities_30\\VERB__frankfurt_turin__.pickle\n",
      "\n",
      "267 ../../../../data/enwiki_city_pairs_lemmatised/VERB/biggest_cities_30\\VERB__frankfurt_valencia__.pickle ../../../../data/enwiki_city_pairs_lemmatised/VERB_SPACY_LARGE_REAL_WORDS/biggest_cities_30\\VERB__frankfurt_valencia__.pickle\n",
      "\n",
      "268 ../../../../data/enwiki_city_pairs_lemmatised/VERB/biggest_cities_30\\VERB__glasgow_lyon__.pickle ../../../../data/enwiki_city_pairs_lemmatised/VERB_SPACY_LARGE_REAL_WORDS/biggest_cities_30\\VERB__glasgow_lyon__.pickle\n",
      "\n",
      "269 ../../../../data/enwiki_city_pairs_lemmatised/VERB/biggest_cities_30\\VERB__glasgow_prague__.pickle ../../../../data/enwiki_city_pairs_lemmatised/VERB_SPACY_LARGE_REAL_WORDS/biggest_cities_30\\VERB__glasgow_prague__.pickle\n",
      "\n",
      "270 ../../../../data/enwiki_city_pairs_lemmatised/VERB/biggest_cities_30\\VERB__hamburg_brussels__.pickle ../../../../data/enwiki_city_pairs_lemmatised/VERB_SPACY_LARGE_REAL_WORDS/biggest_cities_30\\VERB__hamburg_brussels__.pickle\n",
      "\n",
      "271 ../../../../data/enwiki_city_pairs_lemmatised/VERB/biggest_cities_30\\VERB__hamburg_cologne__.pickle ../../../../data/enwiki_city_pairs_lemmatised/VERB_SPACY_LARGE_REAL_WORDS/biggest_cities_30\\VERB__hamburg_cologne__.pickle\n",
      "\n",
      "272 ../../../../data/enwiki_city_pairs_lemmatised/VERB/biggest_cities_30\\VERB__hamburg_copenhagen__.pickle ../../../../data/enwiki_city_pairs_lemmatised/VERB_SPACY_LARGE_REAL_WORDS/biggest_cities_30\\VERB__hamburg_copenhagen__.pickle\n",
      "\n",
      "273 ../../../../data/enwiki_city_pairs_lemmatised/VERB/biggest_cities_30\\VERB__hamburg_frankfurt__.pickle ../../../../data/enwiki_city_pairs_lemmatised/VERB_SPACY_LARGE_REAL_WORDS/biggest_cities_30\\VERB__hamburg_frankfurt__.pickle\n",
      "\n",
      "274 ../../../../data/enwiki_city_pairs_lemmatised/VERB/biggest_cities_30\\VERB__hamburg_glasgow__.pickle ../../../../data/enwiki_city_pairs_lemmatised/VERB_SPACY_LARGE_REAL_WORDS/biggest_cities_30\\VERB__hamburg_glasgow__.pickle\n",
      "\n",
      "275 ../../../../data/enwiki_city_pairs_lemmatised/VERB/biggest_cities_30\\VERB__hamburg_lyon__.pickle ../../../../data/enwiki_city_pairs_lemmatised/VERB_SPACY_LARGE_REAL_WORDS/biggest_cities_30\\VERB__hamburg_lyon__.pickle\n",
      "\n",
      "276 ../../../../data/enwiki_city_pairs_lemmatised/VERB/biggest_cities_30\\VERB__hamburg_prague__.pickle ../../../../data/enwiki_city_pairs_lemmatised/VERB_SPACY_LARGE_REAL_WORDS/biggest_cities_30\\VERB__hamburg_prague__.pickle\n",
      "\n",
      "277 ../../../../data/enwiki_city_pairs_lemmatised/VERB/biggest_cities_30\\VERB__hamburg_stockholm__.pickle ../../../../data/enwiki_city_pairs_lemmatised/VERB_SPACY_LARGE_REAL_WORDS/biggest_cities_30\\VERB__hamburg_stockholm__.pickle\n",
      "\n",
      "278 ../../../../data/enwiki_city_pairs_lemmatised/VERB/biggest_cities_30\\VERB__hamburg_turin__.pickle ../../../../data/enwiki_city_pairs_lemmatised/VERB_SPACY_LARGE_REAL_WORDS/biggest_cities_30\\VERB__hamburg_turin__.pickle\n",
      "\n",
      "279 ../../../../data/enwiki_city_pairs_lemmatised/VERB/biggest_cities_30\\VERB__hamburg_valencia__.pickle ../../../../data/enwiki_city_pairs_lemmatised/VERB_SPACY_LARGE_REAL_WORDS/biggest_cities_30\\VERB__hamburg_valencia__.pickle\n",
      "\n",
      "280 ../../../../data/enwiki_city_pairs_lemmatised/VERB/biggest_cities_30\\VERB__katowice_brussels__.pickle ../../../../data/enwiki_city_pairs_lemmatised/VERB_SPACY_LARGE_REAL_WORDS/biggest_cities_30\\VERB__katowice_brussels__.pickle\n",
      "\n",
      "281 ../../../../data/enwiki_city_pairs_lemmatised/VERB/biggest_cities_30\\VERB__katowice_cologne__.pickle ../../../../data/enwiki_city_pairs_lemmatised/VERB_SPACY_LARGE_REAL_WORDS/biggest_cities_30\\VERB__katowice_cologne__.pickle\n",
      "\n",
      "282 ../../../../data/enwiki_city_pairs_lemmatised/VERB/biggest_cities_30\\VERB__katowice_copenhagen__.pickle ../../../../data/enwiki_city_pairs_lemmatised/VERB_SPACY_LARGE_REAL_WORDS/biggest_cities_30\\VERB__katowice_copenhagen__.pickle\n",
      "\n",
      "283 ../../../../data/enwiki_city_pairs_lemmatised/VERB/biggest_cities_30\\VERB__katowice_frankfurt__.pickle ../../../../data/enwiki_city_pairs_lemmatised/VERB_SPACY_LARGE_REAL_WORDS/biggest_cities_30\\VERB__katowice_frankfurt__.pickle\n",
      "\n",
      "284 ../../../../data/enwiki_city_pairs_lemmatised/VERB/biggest_cities_30\\VERB__katowice_glasgow__.pickle ../../../../data/enwiki_city_pairs_lemmatised/VERB_SPACY_LARGE_REAL_WORDS/biggest_cities_30\\VERB__katowice_glasgow__.pickle\n",
      "\n",
      "285 ../../../../data/enwiki_city_pairs_lemmatised/VERB/biggest_cities_30\\VERB__katowice_prague__.pickle ../../../../data/enwiki_city_pairs_lemmatised/VERB_SPACY_LARGE_REAL_WORDS/biggest_cities_30\\VERB__katowice_prague__.pickle\n",
      "\n",
      "286 ../../../../data/enwiki_city_pairs_lemmatised/VERB/biggest_cities_30\\VERB__katowice_stockholm__.pickle ../../../../data/enwiki_city_pairs_lemmatised/VERB_SPACY_LARGE_REAL_WORDS/biggest_cities_30\\VERB__katowice_stockholm__.pickle\n",
      "\n",
      "287 ../../../../data/enwiki_city_pairs_lemmatised/VERB/biggest_cities_30\\VERB__katowice_turin__.pickle ../../../../data/enwiki_city_pairs_lemmatised/VERB_SPACY_LARGE_REAL_WORDS/biggest_cities_30\\VERB__katowice_turin__.pickle\n",
      "\n",
      "288 ../../../../data/enwiki_city_pairs_lemmatised/VERB/biggest_cities_30\\VERB__katowice_valencia__.pickle ../../../../data/enwiki_city_pairs_lemmatised/VERB_SPACY_LARGE_REAL_WORDS/biggest_cities_30\\VERB__katowice_valencia__.pickle\n",
      "\n"
     ]
    },
    {
     "name": "stdout",
     "output_type": "stream",
     "text": [
      "289 ../../../../data/enwiki_city_pairs_lemmatised/VERB/biggest_cities_30\\VERB__lisbon_brussels__.pickle ../../../../data/enwiki_city_pairs_lemmatised/VERB_SPACY_LARGE_REAL_WORDS/biggest_cities_30\\VERB__lisbon_brussels__.pickle\n",
      "\n",
      "290 ../../../../data/enwiki_city_pairs_lemmatised/VERB/biggest_cities_30\\VERB__lisbon_cologne__.pickle ../../../../data/enwiki_city_pairs_lemmatised/VERB_SPACY_LARGE_REAL_WORDS/biggest_cities_30\\VERB__lisbon_cologne__.pickle\n",
      "\n",
      "291 ../../../../data/enwiki_city_pairs_lemmatised/VERB/biggest_cities_30\\VERB__lisbon_copenhagen__.pickle ../../../../data/enwiki_city_pairs_lemmatised/VERB_SPACY_LARGE_REAL_WORDS/biggest_cities_30\\VERB__lisbon_copenhagen__.pickle\n",
      "\n",
      "292 ../../../../data/enwiki_city_pairs_lemmatised/VERB/biggest_cities_30\\VERB__lisbon_frankfurt__.pickle ../../../../data/enwiki_city_pairs_lemmatised/VERB_SPACY_LARGE_REAL_WORDS/biggest_cities_30\\VERB__lisbon_frankfurt__.pickle\n",
      "\n",
      "293 ../../../../data/enwiki_city_pairs_lemmatised/VERB/biggest_cities_30\\VERB__lisbon_glasgow__.pickle ../../../../data/enwiki_city_pairs_lemmatised/VERB_SPACY_LARGE_REAL_WORDS/biggest_cities_30\\VERB__lisbon_glasgow__.pickle\n",
      "\n",
      "294 ../../../../data/enwiki_city_pairs_lemmatised/VERB/biggest_cities_30\\VERB__lisbon_lyon__.pickle ../../../../data/enwiki_city_pairs_lemmatised/VERB_SPACY_LARGE_REAL_WORDS/biggest_cities_30\\VERB__lisbon_lyon__.pickle\n",
      "\n",
      "295 ../../../../data/enwiki_city_pairs_lemmatised/VERB/biggest_cities_30\\VERB__lisbon_prague__.pickle ../../../../data/enwiki_city_pairs_lemmatised/VERB_SPACY_LARGE_REAL_WORDS/biggest_cities_30\\VERB__lisbon_prague__.pickle\n",
      "\n",
      "296 ../../../../data/enwiki_city_pairs_lemmatised/VERB/biggest_cities_30\\VERB__lisbon_stockholm__.pickle ../../../../data/enwiki_city_pairs_lemmatised/VERB_SPACY_LARGE_REAL_WORDS/biggest_cities_30\\VERB__lisbon_stockholm__.pickle\n",
      "\n",
      "297 ../../../../data/enwiki_city_pairs_lemmatised/VERB/biggest_cities_30\\VERB__lisbon_turin__.pickle ../../../../data/enwiki_city_pairs_lemmatised/VERB_SPACY_LARGE_REAL_WORDS/biggest_cities_30\\VERB__lisbon_turin__.pickle\n",
      "\n",
      "298 ../../../../data/enwiki_city_pairs_lemmatised/VERB/biggest_cities_30\\VERB__lisbon_valencia__.pickle ../../../../data/enwiki_city_pairs_lemmatised/VERB_SPACY_LARGE_REAL_WORDS/biggest_cities_30\\VERB__lisbon_valencia__.pickle\n",
      "\n",
      "299 ../../../../data/enwiki_city_pairs_lemmatised/VERB/biggest_cities_30\\VERB__london_brussels__.pickle ../../../../data/enwiki_city_pairs_lemmatised/VERB_SPACY_LARGE_REAL_WORDS/biggest_cities_30\\VERB__london_brussels__.pickle\n",
      "\n",
      "300 ../../../../data/enwiki_city_pairs_lemmatised/VERB/biggest_cities_30\\VERB__london_cologne__.pickle ../../../../data/enwiki_city_pairs_lemmatised/VERB_SPACY_LARGE_REAL_WORDS/biggest_cities_30\\VERB__london_cologne__.pickle\n",
      "\n",
      "301 ../../../../data/enwiki_city_pairs_lemmatised/VERB/biggest_cities_30\\VERB__london_copenhagen__.pickle ../../../../data/enwiki_city_pairs_lemmatised/VERB_SPACY_LARGE_REAL_WORDS/biggest_cities_30\\VERB__london_copenhagen__.pickle\n",
      "\n",
      "302 ../../../../data/enwiki_city_pairs_lemmatised/VERB/biggest_cities_30\\VERB__london_frankfurt__.pickle ../../../../data/enwiki_city_pairs_lemmatised/VERB_SPACY_LARGE_REAL_WORDS/biggest_cities_30\\VERB__london_frankfurt__.pickle\n",
      "\n",
      "303 ../../../../data/enwiki_city_pairs_lemmatised/VERB/biggest_cities_30\\VERB__london_glasgow__.pickle ../../../../data/enwiki_city_pairs_lemmatised/VERB_SPACY_LARGE_REAL_WORDS/biggest_cities_30\\VERB__london_glasgow__.pickle\n",
      "\n",
      "304 ../../../../data/enwiki_city_pairs_lemmatised/VERB/biggest_cities_30\\VERB__london_lyon__.pickle ../../../../data/enwiki_city_pairs_lemmatised/VERB_SPACY_LARGE_REAL_WORDS/biggest_cities_30\\VERB__london_lyon__.pickle\n",
      "\n",
      "305 ../../../../data/enwiki_city_pairs_lemmatised/VERB/biggest_cities_30\\VERB__london_prague__.pickle ../../../../data/enwiki_city_pairs_lemmatised/VERB_SPACY_LARGE_REAL_WORDS/biggest_cities_30\\VERB__london_prague__.pickle\n",
      "\n",
      "306 ../../../../data/enwiki_city_pairs_lemmatised/VERB/biggest_cities_30\\VERB__london_stockholm__.pickle ../../../../data/enwiki_city_pairs_lemmatised/VERB_SPACY_LARGE_REAL_WORDS/biggest_cities_30\\VERB__london_stockholm__.pickle\n",
      "\n",
      "307 ../../../../data/enwiki_city_pairs_lemmatised/VERB/biggest_cities_30\\VERB__london_turin__.pickle ../../../../data/enwiki_city_pairs_lemmatised/VERB_SPACY_LARGE_REAL_WORDS/biggest_cities_30\\VERB__london_turin__.pickle\n",
      "\n",
      "308 ../../../../data/enwiki_city_pairs_lemmatised/VERB/biggest_cities_30\\VERB__london_valencia__.pickle ../../../../data/enwiki_city_pairs_lemmatised/VERB_SPACY_LARGE_REAL_WORDS/biggest_cities_30\\VERB__london_valencia__.pickle\n",
      "\n",
      "309 ../../../../data/enwiki_city_pairs_lemmatised/VERB/biggest_cities_30\\VERB__madrid_brussels__.pickle ../../../../data/enwiki_city_pairs_lemmatised/VERB_SPACY_LARGE_REAL_WORDS/biggest_cities_30\\VERB__madrid_brussels__.pickle\n",
      "\n",
      "310 ../../../../data/enwiki_city_pairs_lemmatised/VERB/biggest_cities_30\\VERB__madrid_cologne__.pickle ../../../../data/enwiki_city_pairs_lemmatised/VERB_SPACY_LARGE_REAL_WORDS/biggest_cities_30\\VERB__madrid_cologne__.pickle\n",
      "\n",
      "311 ../../../../data/enwiki_city_pairs_lemmatised/VERB/biggest_cities_30\\VERB__madrid_copenhagen__.pickle ../../../../data/enwiki_city_pairs_lemmatised/VERB_SPACY_LARGE_REAL_WORDS/biggest_cities_30\\VERB__madrid_copenhagen__.pickle\n",
      "\n",
      "312 ../../../../data/enwiki_city_pairs_lemmatised/VERB/biggest_cities_30\\VERB__madrid_frankfurt__.pickle ../../../../data/enwiki_city_pairs_lemmatised/VERB_SPACY_LARGE_REAL_WORDS/biggest_cities_30\\VERB__madrid_frankfurt__.pickle\n",
      "\n",
      "313 ../../../../data/enwiki_city_pairs_lemmatised/VERB/biggest_cities_30\\VERB__madrid_glasgow__.pickle ../../../../data/enwiki_city_pairs_lemmatised/VERB_SPACY_LARGE_REAL_WORDS/biggest_cities_30\\VERB__madrid_glasgow__.pickle\n",
      "\n",
      "314 ../../../../data/enwiki_city_pairs_lemmatised/VERB/biggest_cities_30\\VERB__madrid_lyon__.pickle ../../../../data/enwiki_city_pairs_lemmatised/VERB_SPACY_LARGE_REAL_WORDS/biggest_cities_30\\VERB__madrid_lyon__.pickle\n",
      "\n",
      "315 ../../../../data/enwiki_city_pairs_lemmatised/VERB/biggest_cities_30\\VERB__madrid_prague__.pickle ../../../../data/enwiki_city_pairs_lemmatised/VERB_SPACY_LARGE_REAL_WORDS/biggest_cities_30\\VERB__madrid_prague__.pickle\n",
      "\n",
      "316 ../../../../data/enwiki_city_pairs_lemmatised/VERB/biggest_cities_30\\VERB__madrid_stockholm__.pickle ../../../../data/enwiki_city_pairs_lemmatised/VERB_SPACY_LARGE_REAL_WORDS/biggest_cities_30\\VERB__madrid_stockholm__.pickle\n",
      "\n",
      "317 ../../../../data/enwiki_city_pairs_lemmatised/VERB/biggest_cities_30\\VERB__madrid_turin__.pickle ../../../../data/enwiki_city_pairs_lemmatised/VERB_SPACY_LARGE_REAL_WORDS/biggest_cities_30\\VERB__madrid_turin__.pickle\n",
      "\n",
      "318 ../../../../data/enwiki_city_pairs_lemmatised/VERB/biggest_cities_30\\VERB__madrid_valencia__.pickle ../../../../data/enwiki_city_pairs_lemmatised/VERB_SPACY_LARGE_REAL_WORDS/biggest_cities_30\\VERB__madrid_valencia__.pickle\n",
      "\n",
      "319 ../../../../data/enwiki_city_pairs_lemmatised/VERB/biggest_cities_30\\VERB__manchester_brussels__.pickle ../../../../data/enwiki_city_pairs_lemmatised/VERB_SPACY_LARGE_REAL_WORDS/biggest_cities_30\\VERB__manchester_brussels__.pickle\n",
      "\n",
      "320 ../../../../data/enwiki_city_pairs_lemmatised/VERB/biggest_cities_30\\VERB__manchester_cologne__.pickle ../../../../data/enwiki_city_pairs_lemmatised/VERB_SPACY_LARGE_REAL_WORDS/biggest_cities_30\\VERB__manchester_cologne__.pickle\n",
      "\n",
      "321 ../../../../data/enwiki_city_pairs_lemmatised/VERB/biggest_cities_30\\VERB__manchester_copenhagen__.pickle ../../../../data/enwiki_city_pairs_lemmatised/VERB_SPACY_LARGE_REAL_WORDS/biggest_cities_30\\VERB__manchester_copenhagen__.pickle\n",
      "\n",
      "322 ../../../../data/enwiki_city_pairs_lemmatised/VERB/biggest_cities_30\\VERB__manchester_frankfurt__.pickle ../../../../data/enwiki_city_pairs_lemmatised/VERB_SPACY_LARGE_REAL_WORDS/biggest_cities_30\\VERB__manchester_frankfurt__.pickle\n",
      "\n",
      "323 ../../../../data/enwiki_city_pairs_lemmatised/VERB/biggest_cities_30\\VERB__manchester_glasgow__.pickle ../../../../data/enwiki_city_pairs_lemmatised/VERB_SPACY_LARGE_REAL_WORDS/biggest_cities_30\\VERB__manchester_glasgow__.pickle\n",
      "\n",
      "324 ../../../../data/enwiki_city_pairs_lemmatised/VERB/biggest_cities_30\\VERB__manchester_lyon__.pickle ../../../../data/enwiki_city_pairs_lemmatised/VERB_SPACY_LARGE_REAL_WORDS/biggest_cities_30\\VERB__manchester_lyon__.pickle\n",
      "\n",
      "325 ../../../../data/enwiki_city_pairs_lemmatised/VERB/biggest_cities_30\\VERB__manchester_prague__.pickle ../../../../data/enwiki_city_pairs_lemmatised/VERB_SPACY_LARGE_REAL_WORDS/biggest_cities_30\\VERB__manchester_prague__.pickle\n",
      "\n",
      "326 ../../../../data/enwiki_city_pairs_lemmatised/VERB/biggest_cities_30\\VERB__manchester_stockholm__.pickle ../../../../data/enwiki_city_pairs_lemmatised/VERB_SPACY_LARGE_REAL_WORDS/biggest_cities_30\\VERB__manchester_stockholm__.pickle\n",
      "\n",
      "327 ../../../../data/enwiki_city_pairs_lemmatised/VERB/biggest_cities_30\\VERB__manchester_turin__.pickle ../../../../data/enwiki_city_pairs_lemmatised/VERB_SPACY_LARGE_REAL_WORDS/biggest_cities_30\\VERB__manchester_turin__.pickle\n",
      "\n",
      "328 ../../../../data/enwiki_city_pairs_lemmatised/VERB/biggest_cities_30\\VERB__manchester_valencia__.pickle ../../../../data/enwiki_city_pairs_lemmatised/VERB_SPACY_LARGE_REAL_WORDS/biggest_cities_30\\VERB__manchester_valencia__.pickle\n",
      "\n",
      "329 ../../../../data/enwiki_city_pairs_lemmatised/VERB/biggest_cities_30\\VERB__milan_brussels__.pickle ../../../../data/enwiki_city_pairs_lemmatised/VERB_SPACY_LARGE_REAL_WORDS/biggest_cities_30\\VERB__milan_brussels__.pickle\n",
      "\n",
      "330 ../../../../data/enwiki_city_pairs_lemmatised/VERB/biggest_cities_30\\VERB__milan_cologne__.pickle ../../../../data/enwiki_city_pairs_lemmatised/VERB_SPACY_LARGE_REAL_WORDS/biggest_cities_30\\VERB__milan_cologne__.pickle\n",
      "\n"
     ]
    },
    {
     "name": "stdout",
     "output_type": "stream",
     "text": [
      "331 ../../../../data/enwiki_city_pairs_lemmatised/VERB/biggest_cities_30\\VERB__milan_copenhagen__.pickle ../../../../data/enwiki_city_pairs_lemmatised/VERB_SPACY_LARGE_REAL_WORDS/biggest_cities_30\\VERB__milan_copenhagen__.pickle\n",
      "\n",
      "332 ../../../../data/enwiki_city_pairs_lemmatised/VERB/biggest_cities_30\\VERB__milan_frankfurt__.pickle ../../../../data/enwiki_city_pairs_lemmatised/VERB_SPACY_LARGE_REAL_WORDS/biggest_cities_30\\VERB__milan_frankfurt__.pickle\n",
      "\n",
      "333 ../../../../data/enwiki_city_pairs_lemmatised/VERB/biggest_cities_30\\VERB__milan_glasgow__.pickle ../../../../data/enwiki_city_pairs_lemmatised/VERB_SPACY_LARGE_REAL_WORDS/biggest_cities_30\\VERB__milan_glasgow__.pickle\n",
      "\n",
      "334 ../../../../data/enwiki_city_pairs_lemmatised/VERB/biggest_cities_30\\VERB__milan_lyon__.pickle ../../../../data/enwiki_city_pairs_lemmatised/VERB_SPACY_LARGE_REAL_WORDS/biggest_cities_30\\VERB__milan_lyon__.pickle\n",
      "\n",
      "335 ../../../../data/enwiki_city_pairs_lemmatised/VERB/biggest_cities_30\\VERB__milan_prague__.pickle ../../../../data/enwiki_city_pairs_lemmatised/VERB_SPACY_LARGE_REAL_WORDS/biggest_cities_30\\VERB__milan_prague__.pickle\n",
      "\n",
      "336 ../../../../data/enwiki_city_pairs_lemmatised/VERB/biggest_cities_30\\VERB__milan_stockholm__.pickle ../../../../data/enwiki_city_pairs_lemmatised/VERB_SPACY_LARGE_REAL_WORDS/biggest_cities_30\\VERB__milan_stockholm__.pickle\n",
      "\n",
      "337 ../../../../data/enwiki_city_pairs_lemmatised/VERB/biggest_cities_30\\VERB__milan_turin__.pickle ../../../../data/enwiki_city_pairs_lemmatised/VERB_SPACY_LARGE_REAL_WORDS/biggest_cities_30\\VERB__milan_turin__.pickle\n",
      "\n",
      "338 ../../../../data/enwiki_city_pairs_lemmatised/VERB/biggest_cities_30\\VERB__milan_valencia__.pickle ../../../../data/enwiki_city_pairs_lemmatised/VERB_SPACY_LARGE_REAL_WORDS/biggest_cities_30\\VERB__milan_valencia__.pickle\n",
      "\n",
      "339 ../../../../data/enwiki_city_pairs_lemmatised/VERB/biggest_cities_30\\VERB__munich_brussels__.pickle ../../../../data/enwiki_city_pairs_lemmatised/VERB_SPACY_LARGE_REAL_WORDS/biggest_cities_30\\VERB__munich_brussels__.pickle\n",
      "\n",
      "340 ../../../../data/enwiki_city_pairs_lemmatised/VERB/biggest_cities_30\\VERB__munich_cologne__.pickle ../../../../data/enwiki_city_pairs_lemmatised/VERB_SPACY_LARGE_REAL_WORDS/biggest_cities_30\\VERB__munich_cologne__.pickle\n",
      "\n",
      "341 ../../../../data/enwiki_city_pairs_lemmatised/VERB/biggest_cities_30\\VERB__munich_copenhagen__.pickle ../../../../data/enwiki_city_pairs_lemmatised/VERB_SPACY_LARGE_REAL_WORDS/biggest_cities_30\\VERB__munich_copenhagen__.pickle\n",
      "\n",
      "342 ../../../../data/enwiki_city_pairs_lemmatised/VERB/biggest_cities_30\\VERB__munich_frankfurt__.pickle ../../../../data/enwiki_city_pairs_lemmatised/VERB_SPACY_LARGE_REAL_WORDS/biggest_cities_30\\VERB__munich_frankfurt__.pickle\n",
      "\n",
      "343 ../../../../data/enwiki_city_pairs_lemmatised/VERB/biggest_cities_30\\VERB__munich_glasgow__.pickle ../../../../data/enwiki_city_pairs_lemmatised/VERB_SPACY_LARGE_REAL_WORDS/biggest_cities_30\\VERB__munich_glasgow__.pickle\n",
      "\n",
      "344 ../../../../data/enwiki_city_pairs_lemmatised/VERB/biggest_cities_30\\VERB__munich_lyon__.pickle ../../../../data/enwiki_city_pairs_lemmatised/VERB_SPACY_LARGE_REAL_WORDS/biggest_cities_30\\VERB__munich_lyon__.pickle\n",
      "\n",
      "345 ../../../../data/enwiki_city_pairs_lemmatised/VERB/biggest_cities_30\\VERB__munich_prague__.pickle ../../../../data/enwiki_city_pairs_lemmatised/VERB_SPACY_LARGE_REAL_WORDS/biggest_cities_30\\VERB__munich_prague__.pickle\n",
      "\n",
      "346 ../../../../data/enwiki_city_pairs_lemmatised/VERB/biggest_cities_30\\VERB__munich_stockholm__.pickle ../../../../data/enwiki_city_pairs_lemmatised/VERB_SPACY_LARGE_REAL_WORDS/biggest_cities_30\\VERB__munich_stockholm__.pickle\n",
      "\n",
      "347 ../../../../data/enwiki_city_pairs_lemmatised/VERB/biggest_cities_30\\VERB__munich_turin__.pickle ../../../../data/enwiki_city_pairs_lemmatised/VERB_SPACY_LARGE_REAL_WORDS/biggest_cities_30\\VERB__munich_turin__.pickle\n",
      "\n",
      "348 ../../../../data/enwiki_city_pairs_lemmatised/VERB/biggest_cities_30\\VERB__munich_valencia__.pickle ../../../../data/enwiki_city_pairs_lemmatised/VERB_SPACY_LARGE_REAL_WORDS/biggest_cities_30\\VERB__munich_valencia__.pickle\n",
      "\n",
      "349 ../../../../data/enwiki_city_pairs_lemmatised/VERB/biggest_cities_30\\VERB__naples_brussels__.pickle ../../../../data/enwiki_city_pairs_lemmatised/VERB_SPACY_LARGE_REAL_WORDS/biggest_cities_30\\VERB__naples_brussels__.pickle\n",
      "\n",
      "350 ../../../../data/enwiki_city_pairs_lemmatised/VERB/biggest_cities_30\\VERB__naples_cologne__.pickle ../../../../data/enwiki_city_pairs_lemmatised/VERB_SPACY_LARGE_REAL_WORDS/biggest_cities_30\\VERB__naples_cologne__.pickle\n",
      "\n",
      "351 ../../../../data/enwiki_city_pairs_lemmatised/VERB/biggest_cities_30\\VERB__naples_copenhagen__.pickle ../../../../data/enwiki_city_pairs_lemmatised/VERB_SPACY_LARGE_REAL_WORDS/biggest_cities_30\\VERB__naples_copenhagen__.pickle\n",
      "\n",
      "352 ../../../../data/enwiki_city_pairs_lemmatised/VERB/biggest_cities_30\\VERB__naples_frankfurt__.pickle ../../../../data/enwiki_city_pairs_lemmatised/VERB_SPACY_LARGE_REAL_WORDS/biggest_cities_30\\VERB__naples_frankfurt__.pickle\n",
      "\n",
      "353 ../../../../data/enwiki_city_pairs_lemmatised/VERB/biggest_cities_30\\VERB__naples_glasgow__.pickle ../../../../data/enwiki_city_pairs_lemmatised/VERB_SPACY_LARGE_REAL_WORDS/biggest_cities_30\\VERB__naples_glasgow__.pickle\n",
      "\n",
      "354 ../../../../data/enwiki_city_pairs_lemmatised/VERB/biggest_cities_30\\VERB__naples_lyon__.pickle ../../../../data/enwiki_city_pairs_lemmatised/VERB_SPACY_LARGE_REAL_WORDS/biggest_cities_30\\VERB__naples_lyon__.pickle\n",
      "\n",
      "355 ../../../../data/enwiki_city_pairs_lemmatised/VERB/biggest_cities_30\\VERB__naples_prague__.pickle ../../../../data/enwiki_city_pairs_lemmatised/VERB_SPACY_LARGE_REAL_WORDS/biggest_cities_30\\VERB__naples_prague__.pickle\n",
      "\n",
      "356 ../../../../data/enwiki_city_pairs_lemmatised/VERB/biggest_cities_30\\VERB__naples_stockholm__.pickle ../../../../data/enwiki_city_pairs_lemmatised/VERB_SPACY_LARGE_REAL_WORDS/biggest_cities_30\\VERB__naples_stockholm__.pickle\n",
      "\n",
      "357 ../../../../data/enwiki_city_pairs_lemmatised/VERB/biggest_cities_30\\VERB__naples_turin__.pickle ../../../../data/enwiki_city_pairs_lemmatised/VERB_SPACY_LARGE_REAL_WORDS/biggest_cities_30\\VERB__naples_turin__.pickle\n",
      "\n",
      "358 ../../../../data/enwiki_city_pairs_lemmatised/VERB/biggest_cities_30\\VERB__naples_valencia__.pickle ../../../../data/enwiki_city_pairs_lemmatised/VERB_SPACY_LARGE_REAL_WORDS/biggest_cities_30\\VERB__naples_valencia__.pickle\n",
      "\n",
      "359 ../../../../data/enwiki_city_pairs_lemmatised/VERB/biggest_cities_30\\VERB__paris_brussels__.pickle ../../../../data/enwiki_city_pairs_lemmatised/VERB_SPACY_LARGE_REAL_WORDS/biggest_cities_30\\VERB__paris_brussels__.pickle\n",
      "\n",
      "360 ../../../../data/enwiki_city_pairs_lemmatised/VERB/biggest_cities_30\\VERB__paris_cologne__.pickle ../../../../data/enwiki_city_pairs_lemmatised/VERB_SPACY_LARGE_REAL_WORDS/biggest_cities_30\\VERB__paris_cologne__.pickle\n",
      "\n",
      "361 ../../../../data/enwiki_city_pairs_lemmatised/VERB/biggest_cities_30\\VERB__paris_copenhagen__.pickle ../../../../data/enwiki_city_pairs_lemmatised/VERB_SPACY_LARGE_REAL_WORDS/biggest_cities_30\\VERB__paris_copenhagen__.pickle\n",
      "\n",
      "362 ../../../../data/enwiki_city_pairs_lemmatised/VERB/biggest_cities_30\\VERB__paris_frankfurt__.pickle ../../../../data/enwiki_city_pairs_lemmatised/VERB_SPACY_LARGE_REAL_WORDS/biggest_cities_30\\VERB__paris_frankfurt__.pickle\n",
      "\n",
      "363 ../../../../data/enwiki_city_pairs_lemmatised/VERB/biggest_cities_30\\VERB__paris_glasgow__.pickle ../../../../data/enwiki_city_pairs_lemmatised/VERB_SPACY_LARGE_REAL_WORDS/biggest_cities_30\\VERB__paris_glasgow__.pickle\n",
      "\n",
      "364 ../../../../data/enwiki_city_pairs_lemmatised/VERB/biggest_cities_30\\VERB__paris_lyon__.pickle ../../../../data/enwiki_city_pairs_lemmatised/VERB_SPACY_LARGE_REAL_WORDS/biggest_cities_30\\VERB__paris_lyon__.pickle\n",
      "\n",
      "365 ../../../../data/enwiki_city_pairs_lemmatised/VERB/biggest_cities_30\\VERB__paris_prague__.pickle ../../../../data/enwiki_city_pairs_lemmatised/VERB_SPACY_LARGE_REAL_WORDS/biggest_cities_30\\VERB__paris_prague__.pickle\n",
      "\n",
      "366 ../../../../data/enwiki_city_pairs_lemmatised/VERB/biggest_cities_30\\VERB__paris_stockholm__.pickle ../../../../data/enwiki_city_pairs_lemmatised/VERB_SPACY_LARGE_REAL_WORDS/biggest_cities_30\\VERB__paris_stockholm__.pickle\n",
      "\n",
      "367 ../../../../data/enwiki_city_pairs_lemmatised/VERB/biggest_cities_30\\VERB__paris_turin__.pickle ../../../../data/enwiki_city_pairs_lemmatised/VERB_SPACY_LARGE_REAL_WORDS/biggest_cities_30\\VERB__paris_turin__.pickle\n",
      "\n",
      "368 ../../../../data/enwiki_city_pairs_lemmatised/VERB/biggest_cities_30\\VERB__paris_valencia__.pickle ../../../../data/enwiki_city_pairs_lemmatised/VERB_SPACY_LARGE_REAL_WORDS/biggest_cities_30\\VERB__paris_valencia__.pickle\n",
      "\n",
      "369 ../../../../data/enwiki_city_pairs_lemmatised/VERB/biggest_cities_30\\VERB__prague_lyon__.pickle ../../../../data/enwiki_city_pairs_lemmatised/VERB_SPACY_LARGE_REAL_WORDS/biggest_cities_30\\VERB__prague_lyon__.pickle\n",
      "\n",
      "370 ../../../../data/enwiki_city_pairs_lemmatised/VERB/biggest_cities_30\\VERB__rome_brussels__.pickle ../../../../data/enwiki_city_pairs_lemmatised/VERB_SPACY_LARGE_REAL_WORDS/biggest_cities_30\\VERB__rome_brussels__.pickle\n",
      "\n",
      "371 ../../../../data/enwiki_city_pairs_lemmatised/VERB/biggest_cities_30\\VERB__rome_cologne__.pickle ../../../../data/enwiki_city_pairs_lemmatised/VERB_SPACY_LARGE_REAL_WORDS/biggest_cities_30\\VERB__rome_cologne__.pickle\n",
      "\n",
      "372 ../../../../data/enwiki_city_pairs_lemmatised/VERB/biggest_cities_30\\VERB__rome_copenhagen__.pickle ../../../../data/enwiki_city_pairs_lemmatised/VERB_SPACY_LARGE_REAL_WORDS/biggest_cities_30\\VERB__rome_copenhagen__.pickle\n",
      "\n",
      "373 ../../../../data/enwiki_city_pairs_lemmatised/VERB/biggest_cities_30\\VERB__rome_frankfurt__.pickle ../../../../data/enwiki_city_pairs_lemmatised/VERB_SPACY_LARGE_REAL_WORDS/biggest_cities_30\\VERB__rome_frankfurt__.pickle\n",
      "\n",
      "374 ../../../../data/enwiki_city_pairs_lemmatised/VERB/biggest_cities_30\\VERB__rome_glasgow__.pickle ../../../../data/enwiki_city_pairs_lemmatised/VERB_SPACY_LARGE_REAL_WORDS/biggest_cities_30\\VERB__rome_glasgow__.pickle\n",
      "\n"
     ]
    },
    {
     "name": "stdout",
     "output_type": "stream",
     "text": [
      "375 ../../../../data/enwiki_city_pairs_lemmatised/VERB/biggest_cities_30\\VERB__rome_lyon__.pickle ../../../../data/enwiki_city_pairs_lemmatised/VERB_SPACY_LARGE_REAL_WORDS/biggest_cities_30\\VERB__rome_lyon__.pickle\n",
      "\n",
      "376 ../../../../data/enwiki_city_pairs_lemmatised/VERB/biggest_cities_30\\VERB__rome_prague__.pickle ../../../../data/enwiki_city_pairs_lemmatised/VERB_SPACY_LARGE_REAL_WORDS/biggest_cities_30\\VERB__rome_prague__.pickle\n",
      "\n",
      "377 ../../../../data/enwiki_city_pairs_lemmatised/VERB/biggest_cities_30\\VERB__rome_stockholm__.pickle ../../../../data/enwiki_city_pairs_lemmatised/VERB_SPACY_LARGE_REAL_WORDS/biggest_cities_30\\VERB__rome_stockholm__.pickle\n",
      "\n",
      "378 ../../../../data/enwiki_city_pairs_lemmatised/VERB/biggest_cities_30\\VERB__rome_turin__.pickle ../../../../data/enwiki_city_pairs_lemmatised/VERB_SPACY_LARGE_REAL_WORDS/biggest_cities_30\\VERB__rome_turin__.pickle\n",
      "\n",
      "379 ../../../../data/enwiki_city_pairs_lemmatised/VERB/biggest_cities_30\\VERB__rome_valencia__.pickle ../../../../data/enwiki_city_pairs_lemmatised/VERB_SPACY_LARGE_REAL_WORDS/biggest_cities_30\\VERB__rome_valencia__.pickle\n",
      "\n",
      "380 ../../../../data/enwiki_city_pairs_lemmatised/VERB/biggest_cities_30\\VERB__stockholm_cologne__.pickle ../../../../data/enwiki_city_pairs_lemmatised/VERB_SPACY_LARGE_REAL_WORDS/biggest_cities_30\\VERB__stockholm_cologne__.pickle\n",
      "\n",
      "381 ../../../../data/enwiki_city_pairs_lemmatised/VERB/biggest_cities_30\\VERB__stockholm_copenhagen__.pickle ../../../../data/enwiki_city_pairs_lemmatised/VERB_SPACY_LARGE_REAL_WORDS/biggest_cities_30\\VERB__stockholm_copenhagen__.pickle\n",
      "\n",
      "382 ../../../../data/enwiki_city_pairs_lemmatised/VERB/biggest_cities_30\\VERB__stockholm_frankfurt__.pickle ../../../../data/enwiki_city_pairs_lemmatised/VERB_SPACY_LARGE_REAL_WORDS/biggest_cities_30\\VERB__stockholm_frankfurt__.pickle\n",
      "\n",
      "383 ../../../../data/enwiki_city_pairs_lemmatised/VERB/biggest_cities_30\\VERB__stockholm_glasgow__.pickle ../../../../data/enwiki_city_pairs_lemmatised/VERB_SPACY_LARGE_REAL_WORDS/biggest_cities_30\\VERB__stockholm_glasgow__.pickle\n",
      "\n",
      "384 ../../../../data/enwiki_city_pairs_lemmatised/VERB/biggest_cities_30\\VERB__stockholm_lyon__.pickle ../../../../data/enwiki_city_pairs_lemmatised/VERB_SPACY_LARGE_REAL_WORDS/biggest_cities_30\\VERB__stockholm_lyon__.pickle\n",
      "\n",
      "385 ../../../../data/enwiki_city_pairs_lemmatised/VERB/biggest_cities_30\\VERB__stockholm_prague__.pickle ../../../../data/enwiki_city_pairs_lemmatised/VERB_SPACY_LARGE_REAL_WORDS/biggest_cities_30\\VERB__stockholm_prague__.pickle\n",
      "\n",
      "386 ../../../../data/enwiki_city_pairs_lemmatised/VERB/biggest_cities_30\\VERB__stockholm_turin__.pickle ../../../../data/enwiki_city_pairs_lemmatised/VERB_SPACY_LARGE_REAL_WORDS/biggest_cities_30\\VERB__stockholm_turin__.pickle\n",
      "\n",
      "387 ../../../../data/enwiki_city_pairs_lemmatised/VERB/biggest_cities_30\\VERB__stockholm_valencia__.pickle ../../../../data/enwiki_city_pairs_lemmatised/VERB_SPACY_LARGE_REAL_WORDS/biggest_cities_30\\VERB__stockholm_valencia__.pickle\n",
      "\n",
      "388 ../../../../data/enwiki_city_pairs_lemmatised/VERB/biggest_cities_30\\VERB__stuttgart_brussels__.pickle ../../../../data/enwiki_city_pairs_lemmatised/VERB_SPACY_LARGE_REAL_WORDS/biggest_cities_30\\VERB__stuttgart_brussels__.pickle\n",
      "\n",
      "389 ../../../../data/enwiki_city_pairs_lemmatised/VERB/biggest_cities_30\\VERB__stuttgart_cologne__.pickle ../../../../data/enwiki_city_pairs_lemmatised/VERB_SPACY_LARGE_REAL_WORDS/biggest_cities_30\\VERB__stuttgart_cologne__.pickle\n",
      "\n",
      "390 ../../../../data/enwiki_city_pairs_lemmatised/VERB/biggest_cities_30\\VERB__stuttgart_copenhagen__.pickle ../../../../data/enwiki_city_pairs_lemmatised/VERB_SPACY_LARGE_REAL_WORDS/biggest_cities_30\\VERB__stuttgart_copenhagen__.pickle\n",
      "\n",
      "391 ../../../../data/enwiki_city_pairs_lemmatised/VERB/biggest_cities_30\\VERB__stuttgart_frankfurt__.pickle ../../../../data/enwiki_city_pairs_lemmatised/VERB_SPACY_LARGE_REAL_WORDS/biggest_cities_30\\VERB__stuttgart_frankfurt__.pickle\n",
      "\n",
      "392 ../../../../data/enwiki_city_pairs_lemmatised/VERB/biggest_cities_30\\VERB__stuttgart_glasgow__.pickle ../../../../data/enwiki_city_pairs_lemmatised/VERB_SPACY_LARGE_REAL_WORDS/biggest_cities_30\\VERB__stuttgart_glasgow__.pickle\n",
      "\n",
      "393 ../../../../data/enwiki_city_pairs_lemmatised/VERB/biggest_cities_30\\VERB__stuttgart_lyon__.pickle ../../../../data/enwiki_city_pairs_lemmatised/VERB_SPACY_LARGE_REAL_WORDS/biggest_cities_30\\VERB__stuttgart_lyon__.pickle\n",
      "\n",
      "394 ../../../../data/enwiki_city_pairs_lemmatised/VERB/biggest_cities_30\\VERB__stuttgart_prague__.pickle ../../../../data/enwiki_city_pairs_lemmatised/VERB_SPACY_LARGE_REAL_WORDS/biggest_cities_30\\VERB__stuttgart_prague__.pickle\n",
      "\n",
      "395 ../../../../data/enwiki_city_pairs_lemmatised/VERB/biggest_cities_30\\VERB__stuttgart_stockholm__.pickle ../../../../data/enwiki_city_pairs_lemmatised/VERB_SPACY_LARGE_REAL_WORDS/biggest_cities_30\\VERB__stuttgart_stockholm__.pickle\n",
      "\n",
      "396 ../../../../data/enwiki_city_pairs_lemmatised/VERB/biggest_cities_30\\VERB__stuttgart_turin__.pickle ../../../../data/enwiki_city_pairs_lemmatised/VERB_SPACY_LARGE_REAL_WORDS/biggest_cities_30\\VERB__stuttgart_turin__.pickle\n",
      "\n",
      "397 ../../../../data/enwiki_city_pairs_lemmatised/VERB/biggest_cities_30\\VERB__stuttgart_valencia__.pickle ../../../../data/enwiki_city_pairs_lemmatised/VERB_SPACY_LARGE_REAL_WORDS/biggest_cities_30\\VERB__stuttgart_valencia__.pickle\n",
      "\n",
      "398 ../../../../data/enwiki_city_pairs_lemmatised/VERB/biggest_cities_30\\VERB__turin_glasgow__.pickle ../../../../data/enwiki_city_pairs_lemmatised/VERB_SPACY_LARGE_REAL_WORDS/biggest_cities_30\\VERB__turin_glasgow__.pickle\n",
      "\n",
      "399 ../../../../data/enwiki_city_pairs_lemmatised/VERB/biggest_cities_30\\VERB__turin_lyon__.pickle ../../../../data/enwiki_city_pairs_lemmatised/VERB_SPACY_LARGE_REAL_WORDS/biggest_cities_30\\VERB__turin_lyon__.pickle\n",
      "\n",
      "400 ../../../../data/enwiki_city_pairs_lemmatised/VERB/biggest_cities_30\\VERB__turin_prague__.pickle ../../../../data/enwiki_city_pairs_lemmatised/VERB_SPACY_LARGE_REAL_WORDS/biggest_cities_30\\VERB__turin_prague__.pickle\n",
      "\n",
      "401 ../../../../data/enwiki_city_pairs_lemmatised/VERB/biggest_cities_30\\VERB__valencia_glasgow__.pickle ../../../../data/enwiki_city_pairs_lemmatised/VERB_SPACY_LARGE_REAL_WORDS/biggest_cities_30\\VERB__valencia_glasgow__.pickle\n",
      "\n",
      "402 ../../../../data/enwiki_city_pairs_lemmatised/VERB/biggest_cities_30\\VERB__valencia_lyon__.pickle ../../../../data/enwiki_city_pairs_lemmatised/VERB_SPACY_LARGE_REAL_WORDS/biggest_cities_30\\VERB__valencia_lyon__.pickle\n",
      "\n",
      "403 ../../../../data/enwiki_city_pairs_lemmatised/VERB/biggest_cities_30\\VERB__valencia_prague__.pickle ../../../../data/enwiki_city_pairs_lemmatised/VERB_SPACY_LARGE_REAL_WORDS/biggest_cities_30\\VERB__valencia_prague__.pickle\n",
      "\n",
      "404 ../../../../data/enwiki_city_pairs_lemmatised/VERB/biggest_cities_30\\VERB__valencia_turin__.pickle ../../../../data/enwiki_city_pairs_lemmatised/VERB_SPACY_LARGE_REAL_WORDS/biggest_cities_30\\VERB__valencia_turin__.pickle\n",
      "\n",
      "405 ../../../../data/enwiki_city_pairs_lemmatised/VERB/biggest_cities_30\\VERB__vienna_brussels__.pickle ../../../../data/enwiki_city_pairs_lemmatised/VERB_SPACY_LARGE_REAL_WORDS/biggest_cities_30\\VERB__vienna_brussels__.pickle\n",
      "\n",
      "406 ../../../../data/enwiki_city_pairs_lemmatised/VERB/biggest_cities_30\\VERB__vienna_cologne__.pickle ../../../../data/enwiki_city_pairs_lemmatised/VERB_SPACY_LARGE_REAL_WORDS/biggest_cities_30\\VERB__vienna_cologne__.pickle\n",
      "\n",
      "407 ../../../../data/enwiki_city_pairs_lemmatised/VERB/biggest_cities_30\\VERB__vienna_copenhagen__.pickle ../../../../data/enwiki_city_pairs_lemmatised/VERB_SPACY_LARGE_REAL_WORDS/biggest_cities_30\\VERB__vienna_copenhagen__.pickle\n",
      "\n",
      "408 ../../../../data/enwiki_city_pairs_lemmatised/VERB/biggest_cities_30\\VERB__vienna_frankfurt__.pickle ../../../../data/enwiki_city_pairs_lemmatised/VERB_SPACY_LARGE_REAL_WORDS/biggest_cities_30\\VERB__vienna_frankfurt__.pickle\n",
      "\n",
      "409 ../../../../data/enwiki_city_pairs_lemmatised/VERB/biggest_cities_30\\VERB__vienna_glasgow__.pickle ../../../../data/enwiki_city_pairs_lemmatised/VERB_SPACY_LARGE_REAL_WORDS/biggest_cities_30\\VERB__vienna_glasgow__.pickle\n",
      "\n",
      "410 ../../../../data/enwiki_city_pairs_lemmatised/VERB/biggest_cities_30\\VERB__vienna_lyon__.pickle ../../../../data/enwiki_city_pairs_lemmatised/VERB_SPACY_LARGE_REAL_WORDS/biggest_cities_30\\VERB__vienna_lyon__.pickle\n",
      "\n"
     ]
    },
    {
     "name": "stdout",
     "output_type": "stream",
     "text": [
      "411 ../../../../data/enwiki_city_pairs_lemmatised/VERB/biggest_cities_30\\VERB__vienna_prague__.pickle ../../../../data/enwiki_city_pairs_lemmatised/VERB_SPACY_LARGE_REAL_WORDS/biggest_cities_30\\VERB__vienna_prague__.pickle\n",
      "\n",
      "412 ../../../../data/enwiki_city_pairs_lemmatised/VERB/biggest_cities_30\\VERB__vienna_stockholm__.pickle ../../../../data/enwiki_city_pairs_lemmatised/VERB_SPACY_LARGE_REAL_WORDS/biggest_cities_30\\VERB__vienna_stockholm__.pickle\n",
      "\n",
      "413 ../../../../data/enwiki_city_pairs_lemmatised/VERB/biggest_cities_30\\VERB__vienna_turin__.pickle ../../../../data/enwiki_city_pairs_lemmatised/VERB_SPACY_LARGE_REAL_WORDS/biggest_cities_30\\VERB__vienna_turin__.pickle\n",
      "\n",
      "414 ../../../../data/enwiki_city_pairs_lemmatised/VERB/biggest_cities_30\\VERB__vienna_valencia__.pickle ../../../../data/enwiki_city_pairs_lemmatised/VERB_SPACY_LARGE_REAL_WORDS/biggest_cities_30\\VERB__vienna_valencia__.pickle\n",
      "\n",
      "415 ../../../../data/enwiki_city_pairs_lemmatised/VERB/biggest_cities_30\\VERB__warsaw_brussels__.pickle ../../../../data/enwiki_city_pairs_lemmatised/VERB_SPACY_LARGE_REAL_WORDS/biggest_cities_30\\VERB__warsaw_brussels__.pickle\n",
      "\n",
      "416 ../../../../data/enwiki_city_pairs_lemmatised/VERB/biggest_cities_30\\VERB__warsaw_cologne__.pickle ../../../../data/enwiki_city_pairs_lemmatised/VERB_SPACY_LARGE_REAL_WORDS/biggest_cities_30\\VERB__warsaw_cologne__.pickle\n",
      "\n",
      "417 ../../../../data/enwiki_city_pairs_lemmatised/VERB/biggest_cities_30\\VERB__warsaw_copenhagen__.pickle ../../../../data/enwiki_city_pairs_lemmatised/VERB_SPACY_LARGE_REAL_WORDS/biggest_cities_30\\VERB__warsaw_copenhagen__.pickle\n",
      "\n",
      "418 ../../../../data/enwiki_city_pairs_lemmatised/VERB/biggest_cities_30\\VERB__warsaw_frankfurt__.pickle ../../../../data/enwiki_city_pairs_lemmatised/VERB_SPACY_LARGE_REAL_WORDS/biggest_cities_30\\VERB__warsaw_frankfurt__.pickle\n",
      "\n",
      "419 ../../../../data/enwiki_city_pairs_lemmatised/VERB/biggest_cities_30\\VERB__warsaw_glasgow__.pickle ../../../../data/enwiki_city_pairs_lemmatised/VERB_SPACY_LARGE_REAL_WORDS/biggest_cities_30\\VERB__warsaw_glasgow__.pickle\n",
      "\n",
      "420 ../../../../data/enwiki_city_pairs_lemmatised/VERB/biggest_cities_30\\VERB__warsaw_lyon__.pickle ../../../../data/enwiki_city_pairs_lemmatised/VERB_SPACY_LARGE_REAL_WORDS/biggest_cities_30\\VERB__warsaw_lyon__.pickle\n",
      "\n",
      "421 ../../../../data/enwiki_city_pairs_lemmatised/VERB/biggest_cities_30\\VERB__warsaw_prague__.pickle ../../../../data/enwiki_city_pairs_lemmatised/VERB_SPACY_LARGE_REAL_WORDS/biggest_cities_30\\VERB__warsaw_prague__.pickle\n",
      "\n",
      "422 ../../../../data/enwiki_city_pairs_lemmatised/VERB/biggest_cities_30\\VERB__warsaw_stockholm__.pickle ../../../../data/enwiki_city_pairs_lemmatised/VERB_SPACY_LARGE_REAL_WORDS/biggest_cities_30\\VERB__warsaw_stockholm__.pickle\n",
      "\n",
      "423 ../../../../data/enwiki_city_pairs_lemmatised/VERB/biggest_cities_30\\VERB__warsaw_turin__.pickle ../../../../data/enwiki_city_pairs_lemmatised/VERB_SPACY_LARGE_REAL_WORDS/biggest_cities_30\\VERB__warsaw_turin__.pickle\n",
      "\n",
      "424 ../../../../data/enwiki_city_pairs_lemmatised/VERB/biggest_cities_30\\VERB__warsaw_valencia__.pickle ../../../../data/enwiki_city_pairs_lemmatised/VERB_SPACY_LARGE_REAL_WORDS/biggest_cities_30\\VERB__warsaw_valencia__.pickle\n",
      "\n",
      "425 ../../../../data/enwiki_city_pairs_lemmatised/VERB/biggest_cities_5\\VERB__berlin_milan__.pickle ../../../../data/enwiki_city_pairs_lemmatised/VERB_SPACY_LARGE_REAL_WORDS/biggest_cities_5\\VERB__berlin_milan__.pickle\n",
      "\n",
      "426 ../../../../data/enwiki_city_pairs_lemmatised/VERB/biggest_cities_5\\VERB__london_berlin__.pickle ../../../../data/enwiki_city_pairs_lemmatised/VERB_SPACY_LARGE_REAL_WORDS/biggest_cities_5\\VERB__london_berlin__.pickle\n",
      "\n",
      "427 ../../../../data/enwiki_city_pairs_lemmatised/VERB/biggest_cities_5\\VERB__london_madrid__.pickle ../../../../data/enwiki_city_pairs_lemmatised/VERB_SPACY_LARGE_REAL_WORDS/biggest_cities_5\\VERB__london_madrid__.pickle\n",
      "\n",
      "428 ../../../../data/enwiki_city_pairs_lemmatised/VERB/biggest_cities_5\\VERB__london_milan__.pickle ../../../../data/enwiki_city_pairs_lemmatised/VERB_SPACY_LARGE_REAL_WORDS/biggest_cities_5\\VERB__london_milan__.pickle\n",
      "\n",
      "429 ../../../../data/enwiki_city_pairs_lemmatised/VERB/biggest_cities_5\\VERB__madrid_berlin__.pickle ../../../../data/enwiki_city_pairs_lemmatised/VERB_SPACY_LARGE_REAL_WORDS/biggest_cities_5\\VERB__madrid_berlin__.pickle\n",
      "\n",
      "430 ../../../../data/enwiki_city_pairs_lemmatised/VERB/biggest_cities_5\\VERB__madrid_milan__.pickle ../../../../data/enwiki_city_pairs_lemmatised/VERB_SPACY_LARGE_REAL_WORDS/biggest_cities_5\\VERB__madrid_milan__.pickle\n",
      "\n",
      "431 ../../../../data/enwiki_city_pairs_lemmatised/VERB/biggest_cities_5\\VERB__paris_berlin__.pickle ../../../../data/enwiki_city_pairs_lemmatised/VERB_SPACY_LARGE_REAL_WORDS/biggest_cities_5\\VERB__paris_berlin__.pickle\n",
      "\n",
      "432 ../../../../data/enwiki_city_pairs_lemmatised/VERB/biggest_cities_5\\VERB__paris_london__.pickle ../../../../data/enwiki_city_pairs_lemmatised/VERB_SPACY_LARGE_REAL_WORDS/biggest_cities_5\\VERB__paris_london__.pickle\n",
      "\n",
      "433 ../../../../data/enwiki_city_pairs_lemmatised/VERB/biggest_cities_5\\VERB__paris_madrid__.pickle ../../../../data/enwiki_city_pairs_lemmatised/VERB_SPACY_LARGE_REAL_WORDS/biggest_cities_5\\VERB__paris_madrid__.pickle\n",
      "\n",
      "434 ../../../../data/enwiki_city_pairs_lemmatised/VERB/biggest_cities_5\\VERB__paris_milan__.pickle ../../../../data/enwiki_city_pairs_lemmatised/VERB_SPACY_LARGE_REAL_WORDS/biggest_cities_5\\VERB__paris_milan__.pickle\n",
      "\n"
     ]
    }
   ],
   "source": [
    "PATH_SPACY_SM = \"../../../../data/enwiki_city_pairs_lemmatised/VERB/\"\n",
    "PATH_SPACY_LG = \"../../../../data/enwiki_city_pairs_lemmatised/VERB_SPACY_LARGE/\"\n",
    "PATH_SPACY_LG_REAL_WORDS = \"../../../../data/enwiki_city_pairs_lemmatised/VERB_SPACY_LARGE_REAL_WORDS/\"\n",
    "PATHS = [PATH_SPACY_SM, PATH_SPACY_LG, PATH_SPACY_LG_REAL_WORDS]\n",
    "\n",
    "lemmatised_words = compare_lemmatisation_results(PATHS=PATHS)"
   ]
  },
  {
   "cell_type": "markdown",
   "id": "b169f683",
   "metadata": {},
   "source": [
    "## 2.2 NOUNS"
   ]
  },
  {
   "cell_type": "code",
   "execution_count": 165,
   "id": "764251a6",
   "metadata": {},
   "outputs": [
    {
     "name": "stdout",
     "output_type": "stream",
     "text": [
      "1 ../../../../data/enwiki_city_pairs_lemmatised/NOUN/biggest_cities_10\\NOUN__athens_birmingham__.pickle ../../../../data/enwiki_city_pairs_lemmatised/NOUN_SPACY_LARGE/biggest_cities_10\\NOUN__athens_birmingham__.pickle\n",
      "\n",
      "2 ../../../../data/enwiki_city_pairs_lemmatised/NOUN/biggest_cities_10\\NOUN__athens_lisbon__.pickle ../../../../data/enwiki_city_pairs_lemmatised/NOUN_SPACY_LARGE/biggest_cities_10\\NOUN__athens_lisbon__.pickle\n",
      "\n",
      "3 ../../../../data/enwiki_city_pairs_lemmatised/NOUN/biggest_cities_10\\NOUN__athens_rome__.pickle ../../../../data/enwiki_city_pairs_lemmatised/NOUN_SPACY_LARGE/biggest_cities_10\\NOUN__athens_rome__.pickle\n",
      "\n",
      "4 ../../../../data/enwiki_city_pairs_lemmatised/NOUN/biggest_cities_10\\NOUN__barcelona_athens__.pickle ../../../../data/enwiki_city_pairs_lemmatised/NOUN_SPACY_LARGE/biggest_cities_10\\NOUN__barcelona_athens__.pickle\n",
      "\n",
      "5 ../../../../data/enwiki_city_pairs_lemmatised/NOUN/biggest_cities_10\\NOUN__barcelona_birmingham__.pickle ../../../../data/enwiki_city_pairs_lemmatised/NOUN_SPACY_LARGE/biggest_cities_10\\NOUN__barcelona_birmingham__.pickle\n",
      "\n",
      "6 ../../../../data/enwiki_city_pairs_lemmatised/NOUN/biggest_cities_10\\NOUN__barcelona_lisbon__.pickle ../../../../data/enwiki_city_pairs_lemmatised/NOUN_SPACY_LARGE/biggest_cities_10\\NOUN__barcelona_lisbon__.pickle\n",
      "\n",
      "7 ../../../../data/enwiki_city_pairs_lemmatised/NOUN/biggest_cities_10\\NOUN__barcelona_rome__.pickle ../../../../data/enwiki_city_pairs_lemmatised/NOUN_SPACY_LARGE/biggest_cities_10\\NOUN__barcelona_rome__.pickle\n",
      "\n",
      "8 ../../../../data/enwiki_city_pairs_lemmatised/NOUN/biggest_cities_10\\NOUN__berlin_athens__.pickle ../../../../data/enwiki_city_pairs_lemmatised/NOUN_SPACY_LARGE/biggest_cities_10\\NOUN__berlin_athens__.pickle\n",
      "\n",
      "9 ../../../../data/enwiki_city_pairs_lemmatised/NOUN/biggest_cities_10\\NOUN__berlin_barcelona__.pickle ../../../../data/enwiki_city_pairs_lemmatised/NOUN_SPACY_LARGE/biggest_cities_10\\NOUN__berlin_barcelona__.pickle\n",
      "\n",
      "10 ../../../../data/enwiki_city_pairs_lemmatised/NOUN/biggest_cities_10\\NOUN__berlin_birmingham__.pickle ../../../../data/enwiki_city_pairs_lemmatised/NOUN_SPACY_LARGE/biggest_cities_10\\NOUN__berlin_birmingham__.pickle\n",
      "\n",
      "11 ../../../../data/enwiki_city_pairs_lemmatised/NOUN/biggest_cities_10\\NOUN__berlin_lisbon__.pickle ../../../../data/enwiki_city_pairs_lemmatised/NOUN_SPACY_LARGE/biggest_cities_10\\NOUN__berlin_lisbon__.pickle\n",
      "\n",
      "12 ../../../../data/enwiki_city_pairs_lemmatised/NOUN/biggest_cities_10\\NOUN__berlin_rome__.pickle ../../../../data/enwiki_city_pairs_lemmatised/NOUN_SPACY_LARGE/biggest_cities_10\\NOUN__berlin_rome__.pickle\n",
      "\n",
      "13 ../../../../data/enwiki_city_pairs_lemmatised/NOUN/biggest_cities_10\\NOUN__birmingham_lisbon__.pickle ../../../../data/enwiki_city_pairs_lemmatised/NOUN_SPACY_LARGE/biggest_cities_10\\NOUN__birmingham_lisbon__.pickle\n",
      "\n",
      "14 ../../../../data/enwiki_city_pairs_lemmatised/NOUN/biggest_cities_10\\NOUN__london_athens__.pickle ../../../../data/enwiki_city_pairs_lemmatised/NOUN_SPACY_LARGE/biggest_cities_10\\NOUN__london_athens__.pickle\n",
      "\n",
      "15 ../../../../data/enwiki_city_pairs_lemmatised/NOUN/biggest_cities_10\\NOUN__london_barcelona__.pickle ../../../../data/enwiki_city_pairs_lemmatised/NOUN_SPACY_LARGE/biggest_cities_10\\NOUN__london_barcelona__.pickle\n",
      "\n",
      "16 ../../../../data/enwiki_city_pairs_lemmatised/NOUN/biggest_cities_10\\NOUN__london_birmingham__.pickle ../../../../data/enwiki_city_pairs_lemmatised/NOUN_SPACY_LARGE/biggest_cities_10\\NOUN__london_birmingham__.pickle\n",
      "\n",
      "17 ../../../../data/enwiki_city_pairs_lemmatised/NOUN/biggest_cities_10\\NOUN__london_lisbon__.pickle ../../../../data/enwiki_city_pairs_lemmatised/NOUN_SPACY_LARGE/biggest_cities_10\\NOUN__london_lisbon__.pickle\n",
      "\n",
      "18 ../../../../data/enwiki_city_pairs_lemmatised/NOUN/biggest_cities_10\\NOUN__london_rome__.pickle ../../../../data/enwiki_city_pairs_lemmatised/NOUN_SPACY_LARGE/biggest_cities_10\\NOUN__london_rome__.pickle\n",
      "\n",
      "19 ../../../../data/enwiki_city_pairs_lemmatised/NOUN/biggest_cities_10\\NOUN__madrid_athens__.pickle ../../../../data/enwiki_city_pairs_lemmatised/NOUN_SPACY_LARGE/biggest_cities_10\\NOUN__madrid_athens__.pickle\n",
      "\n",
      "20 ../../../../data/enwiki_city_pairs_lemmatised/NOUN/biggest_cities_10\\NOUN__madrid_barcelona__.pickle ../../../../data/enwiki_city_pairs_lemmatised/NOUN_SPACY_LARGE/biggest_cities_10\\NOUN__madrid_barcelona__.pickle\n",
      "\n",
      "21 ../../../../data/enwiki_city_pairs_lemmatised/NOUN/biggest_cities_10\\NOUN__madrid_birmingham__.pickle ../../../../data/enwiki_city_pairs_lemmatised/NOUN_SPACY_LARGE/biggest_cities_10\\NOUN__madrid_birmingham__.pickle\n",
      "\n",
      "22 ../../../../data/enwiki_city_pairs_lemmatised/NOUN/biggest_cities_10\\NOUN__madrid_lisbon__.pickle ../../../../data/enwiki_city_pairs_lemmatised/NOUN_SPACY_LARGE/biggest_cities_10\\NOUN__madrid_lisbon__.pickle\n",
      "\n",
      "23 ../../../../data/enwiki_city_pairs_lemmatised/NOUN/biggest_cities_10\\NOUN__madrid_rome__.pickle ../../../../data/enwiki_city_pairs_lemmatised/NOUN_SPACY_LARGE/biggest_cities_10\\NOUN__madrid_rome__.pickle\n",
      "\n",
      "24 ../../../../data/enwiki_city_pairs_lemmatised/NOUN/biggest_cities_10\\NOUN__milan_athens__.pickle ../../../../data/enwiki_city_pairs_lemmatised/NOUN_SPACY_LARGE/biggest_cities_10\\NOUN__milan_athens__.pickle\n",
      "\n",
      "25 ../../../../data/enwiki_city_pairs_lemmatised/NOUN/biggest_cities_10\\NOUN__milan_barcelona__.pickle ../../../../data/enwiki_city_pairs_lemmatised/NOUN_SPACY_LARGE/biggest_cities_10\\NOUN__milan_barcelona__.pickle\n",
      "\n",
      "26 ../../../../data/enwiki_city_pairs_lemmatised/NOUN/biggest_cities_10\\NOUN__milan_birmingham__.pickle ../../../../data/enwiki_city_pairs_lemmatised/NOUN_SPACY_LARGE/biggest_cities_10\\NOUN__milan_birmingham__.pickle\n",
      "\n",
      "27 ../../../../data/enwiki_city_pairs_lemmatised/NOUN/biggest_cities_10\\NOUN__milan_lisbon__.pickle ../../../../data/enwiki_city_pairs_lemmatised/NOUN_SPACY_LARGE/biggest_cities_10\\NOUN__milan_lisbon__.pickle\n",
      "\n",
      "28 ../../../../data/enwiki_city_pairs_lemmatised/NOUN/biggest_cities_10\\NOUN__milan_rome__.pickle ../../../../data/enwiki_city_pairs_lemmatised/NOUN_SPACY_LARGE/biggest_cities_10\\NOUN__milan_rome__.pickle\n",
      "\n",
      "29 ../../../../data/enwiki_city_pairs_lemmatised/NOUN/biggest_cities_10\\NOUN__paris_athens__.pickle ../../../../data/enwiki_city_pairs_lemmatised/NOUN_SPACY_LARGE/biggest_cities_10\\NOUN__paris_athens__.pickle\n",
      "\n",
      "30 ../../../../data/enwiki_city_pairs_lemmatised/NOUN/biggest_cities_10\\NOUN__paris_barcelona__.pickle ../../../../data/enwiki_city_pairs_lemmatised/NOUN_SPACY_LARGE/biggest_cities_10\\NOUN__paris_barcelona__.pickle\n",
      "\n",
      "31 ../../../../data/enwiki_city_pairs_lemmatised/NOUN/biggest_cities_10\\NOUN__paris_birmingham__.pickle ../../../../data/enwiki_city_pairs_lemmatised/NOUN_SPACY_LARGE/biggest_cities_10\\NOUN__paris_birmingham__.pickle\n",
      "\n",
      "32 ../../../../data/enwiki_city_pairs_lemmatised/NOUN/biggest_cities_10\\NOUN__paris_lisbon__.pickle ../../../../data/enwiki_city_pairs_lemmatised/NOUN_SPACY_LARGE/biggest_cities_10\\NOUN__paris_lisbon__.pickle\n",
      "\n",
      "33 ../../../../data/enwiki_city_pairs_lemmatised/NOUN/biggest_cities_10\\NOUN__paris_rome__.pickle ../../../../data/enwiki_city_pairs_lemmatised/NOUN_SPACY_LARGE/biggest_cities_10\\NOUN__paris_rome__.pickle\n",
      "\n",
      "34 ../../../../data/enwiki_city_pairs_lemmatised/NOUN/biggest_cities_10\\NOUN__rome_birmingham__.pickle ../../../../data/enwiki_city_pairs_lemmatised/NOUN_SPACY_LARGE/biggest_cities_10\\NOUN__rome_birmingham__.pickle\n",
      "\n",
      "35 ../../../../data/enwiki_city_pairs_lemmatised/NOUN/biggest_cities_10\\NOUN__rome_lisbon__.pickle ../../../../data/enwiki_city_pairs_lemmatised/NOUN_SPACY_LARGE/biggest_cities_10\\NOUN__rome_lisbon__.pickle\n",
      "\n",
      "36 ../../../../data/enwiki_city_pairs_lemmatised/NOUN/biggest_cities_20\\NOUN__athens_bucharest__.pickle ../../../../data/enwiki_city_pairs_lemmatised/NOUN_SPACY_LARGE/biggest_cities_20\\NOUN__athens_bucharest__.pickle\n",
      "\n",
      "37 ../../../../data/enwiki_city_pairs_lemmatised/NOUN/biggest_cities_20\\NOUN__athens_budapest__.pickle ../../../../data/enwiki_city_pairs_lemmatised/NOUN_SPACY_LARGE/biggest_cities_20\\NOUN__athens_budapest__.pickle\n",
      "\n",
      "38 ../../../../data/enwiki_city_pairs_lemmatised/NOUN/biggest_cities_20\\NOUN__athens_hamburg__.pickle ../../../../data/enwiki_city_pairs_lemmatised/NOUN_SPACY_LARGE/biggest_cities_20\\NOUN__athens_hamburg__.pickle\n",
      "\n",
      "39 ../../../../data/enwiki_city_pairs_lemmatised/NOUN/biggest_cities_20\\NOUN__athens_katowice__.pickle ../../../../data/enwiki_city_pairs_lemmatised/NOUN_SPACY_LARGE/biggest_cities_20\\NOUN__athens_katowice__.pickle\n",
      "\n"
     ]
    },
    {
     "name": "stdout",
     "output_type": "stream",
     "text": [
      "40 ../../../../data/enwiki_city_pairs_lemmatised/NOUN/biggest_cities_20\\NOUN__athens_manchester__.pickle ../../../../data/enwiki_city_pairs_lemmatised/NOUN_SPACY_LARGE/biggest_cities_20\\NOUN__athens_manchester__.pickle\n",
      "\n",
      "41 ../../../../data/enwiki_city_pairs_lemmatised/NOUN/biggest_cities_20\\NOUN__athens_munich__.pickle ../../../../data/enwiki_city_pairs_lemmatised/NOUN_SPACY_LARGE/biggest_cities_20\\NOUN__athens_munich__.pickle\n",
      "\n",
      "42 ../../../../data/enwiki_city_pairs_lemmatised/NOUN/biggest_cities_20\\NOUN__athens_naples__.pickle ../../../../data/enwiki_city_pairs_lemmatised/NOUN_SPACY_LARGE/biggest_cities_20\\NOUN__athens_naples__.pickle\n",
      "\n",
      "43 ../../../../data/enwiki_city_pairs_lemmatised/NOUN/biggest_cities_20\\NOUN__athens_stuttgart__.pickle ../../../../data/enwiki_city_pairs_lemmatised/NOUN_SPACY_LARGE/biggest_cities_20\\NOUN__athens_stuttgart__.pickle\n",
      "\n",
      "44 ../../../../data/enwiki_city_pairs_lemmatised/NOUN/biggest_cities_20\\NOUN__athens_vienna__.pickle ../../../../data/enwiki_city_pairs_lemmatised/NOUN_SPACY_LARGE/biggest_cities_20\\NOUN__athens_vienna__.pickle\n",
      "\n",
      "45 ../../../../data/enwiki_city_pairs_lemmatised/NOUN/biggest_cities_20\\NOUN__athens_warsaw__.pickle ../../../../data/enwiki_city_pairs_lemmatised/NOUN_SPACY_LARGE/biggest_cities_20\\NOUN__athens_warsaw__.pickle\n",
      "\n",
      "46 ../../../../data/enwiki_city_pairs_lemmatised/NOUN/biggest_cities_20\\NOUN__barcelona_bucharest__.pickle ../../../../data/enwiki_city_pairs_lemmatised/NOUN_SPACY_LARGE/biggest_cities_20\\NOUN__barcelona_bucharest__.pickle\n",
      "\n",
      "47 ../../../../data/enwiki_city_pairs_lemmatised/NOUN/biggest_cities_20\\NOUN__barcelona_budapest__.pickle ../../../../data/enwiki_city_pairs_lemmatised/NOUN_SPACY_LARGE/biggest_cities_20\\NOUN__barcelona_budapest__.pickle\n",
      "\n",
      "48 ../../../../data/enwiki_city_pairs_lemmatised/NOUN/biggest_cities_20\\NOUN__barcelona_hamburg__.pickle ../../../../data/enwiki_city_pairs_lemmatised/NOUN_SPACY_LARGE/biggest_cities_20\\NOUN__barcelona_hamburg__.pickle\n",
      "\n",
      "49 ../../../../data/enwiki_city_pairs_lemmatised/NOUN/biggest_cities_20\\NOUN__barcelona_katowice__.pickle ../../../../data/enwiki_city_pairs_lemmatised/NOUN_SPACY_LARGE/biggest_cities_20\\NOUN__barcelona_katowice__.pickle\n",
      "\n",
      "50 ../../../../data/enwiki_city_pairs_lemmatised/NOUN/biggest_cities_20\\NOUN__barcelona_manchester__.pickle ../../../../data/enwiki_city_pairs_lemmatised/NOUN_SPACY_LARGE/biggest_cities_20\\NOUN__barcelona_manchester__.pickle\n",
      "\n",
      "51 ../../../../data/enwiki_city_pairs_lemmatised/NOUN/biggest_cities_20\\NOUN__barcelona_munich__.pickle ../../../../data/enwiki_city_pairs_lemmatised/NOUN_SPACY_LARGE/biggest_cities_20\\NOUN__barcelona_munich__.pickle\n",
      "\n",
      "52 ../../../../data/enwiki_city_pairs_lemmatised/NOUN/biggest_cities_20\\NOUN__barcelona_naples__.pickle ../../../../data/enwiki_city_pairs_lemmatised/NOUN_SPACY_LARGE/biggest_cities_20\\NOUN__barcelona_naples__.pickle\n",
      "\n",
      "53 ../../../../data/enwiki_city_pairs_lemmatised/NOUN/biggest_cities_20\\NOUN__barcelona_stuttgart__.pickle ../../../../data/enwiki_city_pairs_lemmatised/NOUN_SPACY_LARGE/biggest_cities_20\\NOUN__barcelona_stuttgart__.pickle\n",
      "\n",
      "54 ../../../../data/enwiki_city_pairs_lemmatised/NOUN/biggest_cities_20\\NOUN__barcelona_vienna__.pickle ../../../../data/enwiki_city_pairs_lemmatised/NOUN_SPACY_LARGE/biggest_cities_20\\NOUN__barcelona_vienna__.pickle\n",
      "\n",
      "55 ../../../../data/enwiki_city_pairs_lemmatised/NOUN/biggest_cities_20\\NOUN__barcelona_warsaw__.pickle ../../../../data/enwiki_city_pairs_lemmatised/NOUN_SPACY_LARGE/biggest_cities_20\\NOUN__barcelona_warsaw__.pickle\n",
      "\n",
      "56 ../../../../data/enwiki_city_pairs_lemmatised/NOUN/biggest_cities_20\\NOUN__berlin_bucharest__.pickle ../../../../data/enwiki_city_pairs_lemmatised/NOUN_SPACY_LARGE/biggest_cities_20\\NOUN__berlin_bucharest__.pickle\n",
      "\n",
      "57 ../../../../data/enwiki_city_pairs_lemmatised/NOUN/biggest_cities_20\\NOUN__berlin_budapest__.pickle ../../../../data/enwiki_city_pairs_lemmatised/NOUN_SPACY_LARGE/biggest_cities_20\\NOUN__berlin_budapest__.pickle\n",
      "\n",
      "58 ../../../../data/enwiki_city_pairs_lemmatised/NOUN/biggest_cities_20\\NOUN__berlin_hamburg__.pickle ../../../../data/enwiki_city_pairs_lemmatised/NOUN_SPACY_LARGE/biggest_cities_20\\NOUN__berlin_hamburg__.pickle\n",
      "\n",
      "59 ../../../../data/enwiki_city_pairs_lemmatised/NOUN/biggest_cities_20\\NOUN__berlin_katowice__.pickle ../../../../data/enwiki_city_pairs_lemmatised/NOUN_SPACY_LARGE/biggest_cities_20\\NOUN__berlin_katowice__.pickle\n",
      "\n",
      "60 ../../../../data/enwiki_city_pairs_lemmatised/NOUN/biggest_cities_20\\NOUN__berlin_manchester__.pickle ../../../../data/enwiki_city_pairs_lemmatised/NOUN_SPACY_LARGE/biggest_cities_20\\NOUN__berlin_manchester__.pickle\n",
      "\n",
      "61 ../../../../data/enwiki_city_pairs_lemmatised/NOUN/biggest_cities_20\\NOUN__berlin_munich__.pickle ../../../../data/enwiki_city_pairs_lemmatised/NOUN_SPACY_LARGE/biggest_cities_20\\NOUN__berlin_munich__.pickle\n",
      "\n",
      "62 ../../../../data/enwiki_city_pairs_lemmatised/NOUN/biggest_cities_20\\NOUN__berlin_naples__.pickle ../../../../data/enwiki_city_pairs_lemmatised/NOUN_SPACY_LARGE/biggest_cities_20\\NOUN__berlin_naples__.pickle\n",
      "\n",
      "63 ../../../../data/enwiki_city_pairs_lemmatised/NOUN/biggest_cities_20\\NOUN__berlin_stuttgart__.pickle ../../../../data/enwiki_city_pairs_lemmatised/NOUN_SPACY_LARGE/biggest_cities_20\\NOUN__berlin_stuttgart__.pickle\n",
      "\n",
      "64 ../../../../data/enwiki_city_pairs_lemmatised/NOUN/biggest_cities_20\\NOUN__berlin_vienna__.pickle ../../../../data/enwiki_city_pairs_lemmatised/NOUN_SPACY_LARGE/biggest_cities_20\\NOUN__berlin_vienna__.pickle\n",
      "\n",
      "65 ../../../../data/enwiki_city_pairs_lemmatised/NOUN/biggest_cities_20\\NOUN__berlin_warsaw__.pickle ../../../../data/enwiki_city_pairs_lemmatised/NOUN_SPACY_LARGE/biggest_cities_20\\NOUN__berlin_warsaw__.pickle\n",
      "\n",
      "66 ../../../../data/enwiki_city_pairs_lemmatised/NOUN/biggest_cities_20\\NOUN__birmingham_bucharest__.pickle ../../../../data/enwiki_city_pairs_lemmatised/NOUN_SPACY_LARGE/biggest_cities_20\\NOUN__birmingham_bucharest__.pickle\n",
      "\n",
      "67 ../../../../data/enwiki_city_pairs_lemmatised/NOUN/biggest_cities_20\\NOUN__birmingham_budapest__.pickle ../../../../data/enwiki_city_pairs_lemmatised/NOUN_SPACY_LARGE/biggest_cities_20\\NOUN__birmingham_budapest__.pickle\n",
      "\n",
      "68 ../../../../data/enwiki_city_pairs_lemmatised/NOUN/biggest_cities_20\\NOUN__birmingham_hamburg__.pickle ../../../../data/enwiki_city_pairs_lemmatised/NOUN_SPACY_LARGE/biggest_cities_20\\NOUN__birmingham_hamburg__.pickle\n",
      "\n",
      "69 ../../../../data/enwiki_city_pairs_lemmatised/NOUN/biggest_cities_20\\NOUN__birmingham_katowice__.pickle ../../../../data/enwiki_city_pairs_lemmatised/NOUN_SPACY_LARGE/biggest_cities_20\\NOUN__birmingham_katowice__.pickle\n",
      "\n",
      "70 ../../../../data/enwiki_city_pairs_lemmatised/NOUN/biggest_cities_20\\NOUN__birmingham_manchester__.pickle ../../../../data/enwiki_city_pairs_lemmatised/NOUN_SPACY_LARGE/biggest_cities_20\\NOUN__birmingham_manchester__.pickle\n",
      "\n",
      "71 ../../../../data/enwiki_city_pairs_lemmatised/NOUN/biggest_cities_20\\NOUN__birmingham_munich__.pickle ../../../../data/enwiki_city_pairs_lemmatised/NOUN_SPACY_LARGE/biggest_cities_20\\NOUN__birmingham_munich__.pickle\n",
      "\n",
      "72 ../../../../data/enwiki_city_pairs_lemmatised/NOUN/biggest_cities_20\\NOUN__birmingham_naples__.pickle ../../../../data/enwiki_city_pairs_lemmatised/NOUN_SPACY_LARGE/biggest_cities_20\\NOUN__birmingham_naples__.pickle\n",
      "\n",
      "73 ../../../../data/enwiki_city_pairs_lemmatised/NOUN/biggest_cities_20\\NOUN__birmingham_stuttgart__.pickle ../../../../data/enwiki_city_pairs_lemmatised/NOUN_SPACY_LARGE/biggest_cities_20\\NOUN__birmingham_stuttgart__.pickle\n",
      "\n",
      "74 ../../../../data/enwiki_city_pairs_lemmatised/NOUN/biggest_cities_20\\NOUN__birmingham_vienna__.pickle ../../../../data/enwiki_city_pairs_lemmatised/NOUN_SPACY_LARGE/biggest_cities_20\\NOUN__birmingham_vienna__.pickle\n",
      "\n",
      "75 ../../../../data/enwiki_city_pairs_lemmatised/NOUN/biggest_cities_20\\NOUN__birmingham_warsaw__.pickle ../../../../data/enwiki_city_pairs_lemmatised/NOUN_SPACY_LARGE/biggest_cities_20\\NOUN__birmingham_warsaw__.pickle\n",
      "\n",
      "76 ../../../../data/enwiki_city_pairs_lemmatised/NOUN/biggest_cities_20\\NOUN__bucharest_munich__.pickle ../../../../data/enwiki_city_pairs_lemmatised/NOUN_SPACY_LARGE/biggest_cities_20\\NOUN__bucharest_munich__.pickle\n",
      "\n",
      "77 ../../../../data/enwiki_city_pairs_lemmatised/NOUN/biggest_cities_20\\NOUN__bucharest_stuttgart__.pickle ../../../../data/enwiki_city_pairs_lemmatised/NOUN_SPACY_LARGE/biggest_cities_20\\NOUN__bucharest_stuttgart__.pickle\n",
      "\n",
      "78 ../../../../data/enwiki_city_pairs_lemmatised/NOUN/biggest_cities_20\\NOUN__bucharest_vienna__.pickle ../../../../data/enwiki_city_pairs_lemmatised/NOUN_SPACY_LARGE/biggest_cities_20\\NOUN__bucharest_vienna__.pickle\n",
      "\n"
     ]
    },
    {
     "name": "stdout",
     "output_type": "stream",
     "text": [
      "79 ../../../../data/enwiki_city_pairs_lemmatised/NOUN/biggest_cities_20\\NOUN__bucharest_warsaw__.pickle ../../../../data/enwiki_city_pairs_lemmatised/NOUN_SPACY_LARGE/biggest_cities_20\\NOUN__bucharest_warsaw__.pickle\n",
      "\n",
      "80 ../../../../data/enwiki_city_pairs_lemmatised/NOUN/biggest_cities_20\\NOUN__budapest_bucharest__.pickle ../../../../data/enwiki_city_pairs_lemmatised/NOUN_SPACY_LARGE/biggest_cities_20\\NOUN__budapest_bucharest__.pickle\n",
      "\n",
      "81 ../../../../data/enwiki_city_pairs_lemmatised/NOUN/biggest_cities_20\\NOUN__budapest_munich__.pickle ../../../../data/enwiki_city_pairs_lemmatised/NOUN_SPACY_LARGE/biggest_cities_20\\NOUN__budapest_munich__.pickle\n",
      "\n",
      "82 ../../../../data/enwiki_city_pairs_lemmatised/NOUN/biggest_cities_20\\NOUN__budapest_stuttgart__.pickle ../../../../data/enwiki_city_pairs_lemmatised/NOUN_SPACY_LARGE/biggest_cities_20\\NOUN__budapest_stuttgart__.pickle\n",
      "\n",
      "83 ../../../../data/enwiki_city_pairs_lemmatised/NOUN/biggest_cities_20\\NOUN__budapest_vienna__.pickle ../../../../data/enwiki_city_pairs_lemmatised/NOUN_SPACY_LARGE/biggest_cities_20\\NOUN__budapest_vienna__.pickle\n",
      "\n",
      "84 ../../../../data/enwiki_city_pairs_lemmatised/NOUN/biggest_cities_20\\NOUN__budapest_warsaw__.pickle ../../../../data/enwiki_city_pairs_lemmatised/NOUN_SPACY_LARGE/biggest_cities_20\\NOUN__budapest_warsaw__.pickle\n",
      "\n",
      "85 ../../../../data/enwiki_city_pairs_lemmatised/NOUN/biggest_cities_20\\NOUN__hamburg_bucharest__.pickle ../../../../data/enwiki_city_pairs_lemmatised/NOUN_SPACY_LARGE/biggest_cities_20\\NOUN__hamburg_bucharest__.pickle\n",
      "\n",
      "86 ../../../../data/enwiki_city_pairs_lemmatised/NOUN/biggest_cities_20\\NOUN__hamburg_budapest__.pickle ../../../../data/enwiki_city_pairs_lemmatised/NOUN_SPACY_LARGE/biggest_cities_20\\NOUN__hamburg_budapest__.pickle\n",
      "\n",
      "87 ../../../../data/enwiki_city_pairs_lemmatised/NOUN/biggest_cities_20\\NOUN__hamburg_munich__.pickle ../../../../data/enwiki_city_pairs_lemmatised/NOUN_SPACY_LARGE/biggest_cities_20\\NOUN__hamburg_munich__.pickle\n",
      "\n",
      "88 ../../../../data/enwiki_city_pairs_lemmatised/NOUN/biggest_cities_20\\NOUN__hamburg_stuttgart__.pickle ../../../../data/enwiki_city_pairs_lemmatised/NOUN_SPACY_LARGE/biggest_cities_20\\NOUN__hamburg_stuttgart__.pickle\n",
      "\n",
      "89 ../../../../data/enwiki_city_pairs_lemmatised/NOUN/biggest_cities_20\\NOUN__hamburg_vienna__.pickle ../../../../data/enwiki_city_pairs_lemmatised/NOUN_SPACY_LARGE/biggest_cities_20\\NOUN__hamburg_vienna__.pickle\n",
      "\n",
      "90 ../../../../data/enwiki_city_pairs_lemmatised/NOUN/biggest_cities_20\\NOUN__hamburg_warsaw__.pickle ../../../../data/enwiki_city_pairs_lemmatised/NOUN_SPACY_LARGE/biggest_cities_20\\NOUN__hamburg_warsaw__.pickle\n",
      "\n",
      "91 ../../../../data/enwiki_city_pairs_lemmatised/NOUN/biggest_cities_20\\NOUN__katowice_bucharest__.pickle ../../../../data/enwiki_city_pairs_lemmatised/NOUN_SPACY_LARGE/biggest_cities_20\\NOUN__katowice_bucharest__.pickle\n",
      "\n",
      "92 ../../../../data/enwiki_city_pairs_lemmatised/NOUN/biggest_cities_20\\NOUN__katowice_budapest__.pickle ../../../../data/enwiki_city_pairs_lemmatised/NOUN_SPACY_LARGE/biggest_cities_20\\NOUN__katowice_budapest__.pickle\n",
      "\n",
      "93 ../../../../data/enwiki_city_pairs_lemmatised/NOUN/biggest_cities_20\\NOUN__katowice_hamburg__.pickle ../../../../data/enwiki_city_pairs_lemmatised/NOUN_SPACY_LARGE/biggest_cities_20\\NOUN__katowice_hamburg__.pickle\n",
      "\n",
      "94 ../../../../data/enwiki_city_pairs_lemmatised/NOUN/biggest_cities_20\\NOUN__katowice_manchester__.pickle ../../../../data/enwiki_city_pairs_lemmatised/NOUN_SPACY_LARGE/biggest_cities_20\\NOUN__katowice_manchester__.pickle\n",
      "\n",
      "95 ../../../../data/enwiki_city_pairs_lemmatised/NOUN/biggest_cities_20\\NOUN__katowice_munich__.pickle ../../../../data/enwiki_city_pairs_lemmatised/NOUN_SPACY_LARGE/biggest_cities_20\\NOUN__katowice_munich__.pickle\n",
      "\n",
      "96 ../../../../data/enwiki_city_pairs_lemmatised/NOUN/biggest_cities_20\\NOUN__katowice_stuttgart__.pickle ../../../../data/enwiki_city_pairs_lemmatised/NOUN_SPACY_LARGE/biggest_cities_20\\NOUN__katowice_stuttgart__.pickle\n",
      "\n",
      "97 ../../../../data/enwiki_city_pairs_lemmatised/NOUN/biggest_cities_20\\NOUN__katowice_vienna__.pickle ../../../../data/enwiki_city_pairs_lemmatised/NOUN_SPACY_LARGE/biggest_cities_20\\NOUN__katowice_vienna__.pickle\n",
      "\n",
      "98 ../../../../data/enwiki_city_pairs_lemmatised/NOUN/biggest_cities_20\\NOUN__katowice_warsaw__.pickle ../../../../data/enwiki_city_pairs_lemmatised/NOUN_SPACY_LARGE/biggest_cities_20\\NOUN__katowice_warsaw__.pickle\n",
      "\n",
      "99 ../../../../data/enwiki_city_pairs_lemmatised/NOUN/biggest_cities_20\\NOUN__lisbon_bucharest__.pickle ../../../../data/enwiki_city_pairs_lemmatised/NOUN_SPACY_LARGE/biggest_cities_20\\NOUN__lisbon_bucharest__.pickle\n",
      "\n",
      "100 ../../../../data/enwiki_city_pairs_lemmatised/NOUN/biggest_cities_20\\NOUN__lisbon_budapest__.pickle ../../../../data/enwiki_city_pairs_lemmatised/NOUN_SPACY_LARGE/biggest_cities_20\\NOUN__lisbon_budapest__.pickle\n",
      "\n",
      "101 ../../../../data/enwiki_city_pairs_lemmatised/NOUN/biggest_cities_20\\NOUN__lisbon_hamburg__.pickle ../../../../data/enwiki_city_pairs_lemmatised/NOUN_SPACY_LARGE/biggest_cities_20\\NOUN__lisbon_hamburg__.pickle\n",
      "\n",
      "102 ../../../../data/enwiki_city_pairs_lemmatised/NOUN/biggest_cities_20\\NOUN__lisbon_katowice__.pickle ../../../../data/enwiki_city_pairs_lemmatised/NOUN_SPACY_LARGE/biggest_cities_20\\NOUN__lisbon_katowice__.pickle\n",
      "\n",
      "103 ../../../../data/enwiki_city_pairs_lemmatised/NOUN/biggest_cities_20\\NOUN__lisbon_manchester__.pickle ../../../../data/enwiki_city_pairs_lemmatised/NOUN_SPACY_LARGE/biggest_cities_20\\NOUN__lisbon_manchester__.pickle\n",
      "\n",
      "104 ../../../../data/enwiki_city_pairs_lemmatised/NOUN/biggest_cities_20\\NOUN__lisbon_munich__.pickle ../../../../data/enwiki_city_pairs_lemmatised/NOUN_SPACY_LARGE/biggest_cities_20\\NOUN__lisbon_munich__.pickle\n",
      "\n",
      "105 ../../../../data/enwiki_city_pairs_lemmatised/NOUN/biggest_cities_20\\NOUN__lisbon_naples__.pickle ../../../../data/enwiki_city_pairs_lemmatised/NOUN_SPACY_LARGE/biggest_cities_20\\NOUN__lisbon_naples__.pickle\n",
      "\n",
      "106 ../../../../data/enwiki_city_pairs_lemmatised/NOUN/biggest_cities_20\\NOUN__lisbon_stuttgart__.pickle ../../../../data/enwiki_city_pairs_lemmatised/NOUN_SPACY_LARGE/biggest_cities_20\\NOUN__lisbon_stuttgart__.pickle\n",
      "\n",
      "107 ../../../../data/enwiki_city_pairs_lemmatised/NOUN/biggest_cities_20\\NOUN__lisbon_vienna__.pickle ../../../../data/enwiki_city_pairs_lemmatised/NOUN_SPACY_LARGE/biggest_cities_20\\NOUN__lisbon_vienna__.pickle\n",
      "\n",
      "108 ../../../../data/enwiki_city_pairs_lemmatised/NOUN/biggest_cities_20\\NOUN__lisbon_warsaw__.pickle ../../../../data/enwiki_city_pairs_lemmatised/NOUN_SPACY_LARGE/biggest_cities_20\\NOUN__lisbon_warsaw__.pickle\n",
      "\n",
      "109 ../../../../data/enwiki_city_pairs_lemmatised/NOUN/biggest_cities_20\\NOUN__london_bucharest__.pickle ../../../../data/enwiki_city_pairs_lemmatised/NOUN_SPACY_LARGE/biggest_cities_20\\NOUN__london_bucharest__.pickle\n",
      "\n",
      "110 ../../../../data/enwiki_city_pairs_lemmatised/NOUN/biggest_cities_20\\NOUN__london_budapest__.pickle ../../../../data/enwiki_city_pairs_lemmatised/NOUN_SPACY_LARGE/biggest_cities_20\\NOUN__london_budapest__.pickle\n",
      "\n",
      "111 ../../../../data/enwiki_city_pairs_lemmatised/NOUN/biggest_cities_20\\NOUN__london_hamburg__.pickle ../../../../data/enwiki_city_pairs_lemmatised/NOUN_SPACY_LARGE/biggest_cities_20\\NOUN__london_hamburg__.pickle\n",
      "\n",
      "112 ../../../../data/enwiki_city_pairs_lemmatised/NOUN/biggest_cities_20\\NOUN__london_katowice__.pickle ../../../../data/enwiki_city_pairs_lemmatised/NOUN_SPACY_LARGE/biggest_cities_20\\NOUN__london_katowice__.pickle\n",
      "\n",
      "113 ../../../../data/enwiki_city_pairs_lemmatised/NOUN/biggest_cities_20\\NOUN__london_manchester__.pickle ../../../../data/enwiki_city_pairs_lemmatised/NOUN_SPACY_LARGE/biggest_cities_20\\NOUN__london_manchester__.pickle\n",
      "\n",
      "114 ../../../../data/enwiki_city_pairs_lemmatised/NOUN/biggest_cities_20\\NOUN__london_munich__.pickle ../../../../data/enwiki_city_pairs_lemmatised/NOUN_SPACY_LARGE/biggest_cities_20\\NOUN__london_munich__.pickle\n",
      "\n",
      "115 ../../../../data/enwiki_city_pairs_lemmatised/NOUN/biggest_cities_20\\NOUN__london_naples__.pickle ../../../../data/enwiki_city_pairs_lemmatised/NOUN_SPACY_LARGE/biggest_cities_20\\NOUN__london_naples__.pickle\n",
      "\n",
      "116 ../../../../data/enwiki_city_pairs_lemmatised/NOUN/biggest_cities_20\\NOUN__london_stuttgart__.pickle ../../../../data/enwiki_city_pairs_lemmatised/NOUN_SPACY_LARGE/biggest_cities_20\\NOUN__london_stuttgart__.pickle\n",
      "\n",
      "117 ../../../../data/enwiki_city_pairs_lemmatised/NOUN/biggest_cities_20\\NOUN__london_vienna__.pickle ../../../../data/enwiki_city_pairs_lemmatised/NOUN_SPACY_LARGE/biggest_cities_20\\NOUN__london_vienna__.pickle\n",
      "\n",
      "118 ../../../../data/enwiki_city_pairs_lemmatised/NOUN/biggest_cities_20\\NOUN__london_warsaw__.pickle ../../../../data/enwiki_city_pairs_lemmatised/NOUN_SPACY_LARGE/biggest_cities_20\\NOUN__london_warsaw__.pickle\n",
      "\n"
     ]
    },
    {
     "name": "stdout",
     "output_type": "stream",
     "text": [
      "119 ../../../../data/enwiki_city_pairs_lemmatised/NOUN/biggest_cities_20\\NOUN__madrid_bucharest__.pickle ../../../../data/enwiki_city_pairs_lemmatised/NOUN_SPACY_LARGE/biggest_cities_20\\NOUN__madrid_bucharest__.pickle\n",
      "\n",
      "120 ../../../../data/enwiki_city_pairs_lemmatised/NOUN/biggest_cities_20\\NOUN__madrid_budapest__.pickle ../../../../data/enwiki_city_pairs_lemmatised/NOUN_SPACY_LARGE/biggest_cities_20\\NOUN__madrid_budapest__.pickle\n",
      "\n",
      "121 ../../../../data/enwiki_city_pairs_lemmatised/NOUN/biggest_cities_20\\NOUN__madrid_hamburg__.pickle ../../../../data/enwiki_city_pairs_lemmatised/NOUN_SPACY_LARGE/biggest_cities_20\\NOUN__madrid_hamburg__.pickle\n",
      "\n",
      "122 ../../../../data/enwiki_city_pairs_lemmatised/NOUN/biggest_cities_20\\NOUN__madrid_katowice__.pickle ../../../../data/enwiki_city_pairs_lemmatised/NOUN_SPACY_LARGE/biggest_cities_20\\NOUN__madrid_katowice__.pickle\n",
      "\n",
      "123 ../../../../data/enwiki_city_pairs_lemmatised/NOUN/biggest_cities_20\\NOUN__madrid_manchester__.pickle ../../../../data/enwiki_city_pairs_lemmatised/NOUN_SPACY_LARGE/biggest_cities_20\\NOUN__madrid_manchester__.pickle\n",
      "\n",
      "124 ../../../../data/enwiki_city_pairs_lemmatised/NOUN/biggest_cities_20\\NOUN__madrid_munich__.pickle ../../../../data/enwiki_city_pairs_lemmatised/NOUN_SPACY_LARGE/biggest_cities_20\\NOUN__madrid_munich__.pickle\n",
      "\n",
      "125 ../../../../data/enwiki_city_pairs_lemmatised/NOUN/biggest_cities_20\\NOUN__madrid_naples__.pickle ../../../../data/enwiki_city_pairs_lemmatised/NOUN_SPACY_LARGE/biggest_cities_20\\NOUN__madrid_naples__.pickle\n",
      "\n",
      "126 ../../../../data/enwiki_city_pairs_lemmatised/NOUN/biggest_cities_20\\NOUN__madrid_stuttgart__.pickle ../../../../data/enwiki_city_pairs_lemmatised/NOUN_SPACY_LARGE/biggest_cities_20\\NOUN__madrid_stuttgart__.pickle\n",
      "\n",
      "127 ../../../../data/enwiki_city_pairs_lemmatised/NOUN/biggest_cities_20\\NOUN__madrid_vienna__.pickle ../../../../data/enwiki_city_pairs_lemmatised/NOUN_SPACY_LARGE/biggest_cities_20\\NOUN__madrid_vienna__.pickle\n",
      "\n",
      "128 ../../../../data/enwiki_city_pairs_lemmatised/NOUN/biggest_cities_20\\NOUN__madrid_warsaw__.pickle ../../../../data/enwiki_city_pairs_lemmatised/NOUN_SPACY_LARGE/biggest_cities_20\\NOUN__madrid_warsaw__.pickle\n",
      "\n",
      "129 ../../../../data/enwiki_city_pairs_lemmatised/NOUN/biggest_cities_20\\NOUN__manchester_bucharest__.pickle ../../../../data/enwiki_city_pairs_lemmatised/NOUN_SPACY_LARGE/biggest_cities_20\\NOUN__manchester_bucharest__.pickle\n",
      "\n",
      "130 ../../../../data/enwiki_city_pairs_lemmatised/NOUN/biggest_cities_20\\NOUN__manchester_budapest__.pickle ../../../../data/enwiki_city_pairs_lemmatised/NOUN_SPACY_LARGE/biggest_cities_20\\NOUN__manchester_budapest__.pickle\n",
      "\n",
      "131 ../../../../data/enwiki_city_pairs_lemmatised/NOUN/biggest_cities_20\\NOUN__manchester_hamburg__.pickle ../../../../data/enwiki_city_pairs_lemmatised/NOUN_SPACY_LARGE/biggest_cities_20\\NOUN__manchester_hamburg__.pickle\n",
      "\n",
      "132 ../../../../data/enwiki_city_pairs_lemmatised/NOUN/biggest_cities_20\\NOUN__manchester_munich__.pickle ../../../../data/enwiki_city_pairs_lemmatised/NOUN_SPACY_LARGE/biggest_cities_20\\NOUN__manchester_munich__.pickle\n",
      "\n",
      "133 ../../../../data/enwiki_city_pairs_lemmatised/NOUN/biggest_cities_20\\NOUN__manchester_stuttgart__.pickle ../../../../data/enwiki_city_pairs_lemmatised/NOUN_SPACY_LARGE/biggest_cities_20\\NOUN__manchester_stuttgart__.pickle\n",
      "\n",
      "134 ../../../../data/enwiki_city_pairs_lemmatised/NOUN/biggest_cities_20\\NOUN__manchester_vienna__.pickle ../../../../data/enwiki_city_pairs_lemmatised/NOUN_SPACY_LARGE/biggest_cities_20\\NOUN__manchester_vienna__.pickle\n",
      "\n",
      "135 ../../../../data/enwiki_city_pairs_lemmatised/NOUN/biggest_cities_20\\NOUN__manchester_warsaw__.pickle ../../../../data/enwiki_city_pairs_lemmatised/NOUN_SPACY_LARGE/biggest_cities_20\\NOUN__manchester_warsaw__.pickle\n",
      "\n",
      "136 ../../../../data/enwiki_city_pairs_lemmatised/NOUN/biggest_cities_20\\NOUN__milan_bucharest__.pickle ../../../../data/enwiki_city_pairs_lemmatised/NOUN_SPACY_LARGE/biggest_cities_20\\NOUN__milan_bucharest__.pickle\n",
      "\n",
      "137 ../../../../data/enwiki_city_pairs_lemmatised/NOUN/biggest_cities_20\\NOUN__milan_budapest__.pickle ../../../../data/enwiki_city_pairs_lemmatised/NOUN_SPACY_LARGE/biggest_cities_20\\NOUN__milan_budapest__.pickle\n",
      "\n",
      "138 ../../../../data/enwiki_city_pairs_lemmatised/NOUN/biggest_cities_20\\NOUN__milan_hamburg__.pickle ../../../../data/enwiki_city_pairs_lemmatised/NOUN_SPACY_LARGE/biggest_cities_20\\NOUN__milan_hamburg__.pickle\n",
      "\n",
      "139 ../../../../data/enwiki_city_pairs_lemmatised/NOUN/biggest_cities_20\\NOUN__milan_katowice__.pickle ../../../../data/enwiki_city_pairs_lemmatised/NOUN_SPACY_LARGE/biggest_cities_20\\NOUN__milan_katowice__.pickle\n",
      "\n",
      "140 ../../../../data/enwiki_city_pairs_lemmatised/NOUN/biggest_cities_20\\NOUN__milan_manchester__.pickle ../../../../data/enwiki_city_pairs_lemmatised/NOUN_SPACY_LARGE/biggest_cities_20\\NOUN__milan_manchester__.pickle\n",
      "\n",
      "141 ../../../../data/enwiki_city_pairs_lemmatised/NOUN/biggest_cities_20\\NOUN__milan_munich__.pickle ../../../../data/enwiki_city_pairs_lemmatised/NOUN_SPACY_LARGE/biggest_cities_20\\NOUN__milan_munich__.pickle\n",
      "\n",
      "142 ../../../../data/enwiki_city_pairs_lemmatised/NOUN/biggest_cities_20\\NOUN__milan_naples__.pickle ../../../../data/enwiki_city_pairs_lemmatised/NOUN_SPACY_LARGE/biggest_cities_20\\NOUN__milan_naples__.pickle\n",
      "\n",
      "143 ../../../../data/enwiki_city_pairs_lemmatised/NOUN/biggest_cities_20\\NOUN__milan_stuttgart__.pickle ../../../../data/enwiki_city_pairs_lemmatised/NOUN_SPACY_LARGE/biggest_cities_20\\NOUN__milan_stuttgart__.pickle\n",
      "\n",
      "144 ../../../../data/enwiki_city_pairs_lemmatised/NOUN/biggest_cities_20\\NOUN__milan_vienna__.pickle ../../../../data/enwiki_city_pairs_lemmatised/NOUN_SPACY_LARGE/biggest_cities_20\\NOUN__milan_vienna__.pickle\n",
      "\n",
      "145 ../../../../data/enwiki_city_pairs_lemmatised/NOUN/biggest_cities_20\\NOUN__milan_warsaw__.pickle ../../../../data/enwiki_city_pairs_lemmatised/NOUN_SPACY_LARGE/biggest_cities_20\\NOUN__milan_warsaw__.pickle\n",
      "\n",
      "146 ../../../../data/enwiki_city_pairs_lemmatised/NOUN/biggest_cities_20\\NOUN__naples_bucharest__.pickle ../../../../data/enwiki_city_pairs_lemmatised/NOUN_SPACY_LARGE/biggest_cities_20\\NOUN__naples_bucharest__.pickle\n",
      "\n",
      "147 ../../../../data/enwiki_city_pairs_lemmatised/NOUN/biggest_cities_20\\NOUN__naples_budapest__.pickle ../../../../data/enwiki_city_pairs_lemmatised/NOUN_SPACY_LARGE/biggest_cities_20\\NOUN__naples_budapest__.pickle\n",
      "\n",
      "148 ../../../../data/enwiki_city_pairs_lemmatised/NOUN/biggest_cities_20\\NOUN__naples_hamburg__.pickle ../../../../data/enwiki_city_pairs_lemmatised/NOUN_SPACY_LARGE/biggest_cities_20\\NOUN__naples_hamburg__.pickle\n",
      "\n",
      "149 ../../../../data/enwiki_city_pairs_lemmatised/NOUN/biggest_cities_20\\NOUN__naples_katowice__.pickle ../../../../data/enwiki_city_pairs_lemmatised/NOUN_SPACY_LARGE/biggest_cities_20\\NOUN__naples_katowice__.pickle\n",
      "\n",
      "150 ../../../../data/enwiki_city_pairs_lemmatised/NOUN/biggest_cities_20\\NOUN__naples_manchester__.pickle ../../../../data/enwiki_city_pairs_lemmatised/NOUN_SPACY_LARGE/biggest_cities_20\\NOUN__naples_manchester__.pickle\n",
      "\n",
      "151 ../../../../data/enwiki_city_pairs_lemmatised/NOUN/biggest_cities_20\\NOUN__naples_munich__.pickle ../../../../data/enwiki_city_pairs_lemmatised/NOUN_SPACY_LARGE/biggest_cities_20\\NOUN__naples_munich__.pickle\n",
      "\n",
      "152 ../../../../data/enwiki_city_pairs_lemmatised/NOUN/biggest_cities_20\\NOUN__naples_stuttgart__.pickle ../../../../data/enwiki_city_pairs_lemmatised/NOUN_SPACY_LARGE/biggest_cities_20\\NOUN__naples_stuttgart__.pickle\n",
      "\n",
      "153 ../../../../data/enwiki_city_pairs_lemmatised/NOUN/biggest_cities_20\\NOUN__naples_vienna__.pickle ../../../../data/enwiki_city_pairs_lemmatised/NOUN_SPACY_LARGE/biggest_cities_20\\NOUN__naples_vienna__.pickle\n",
      "\n",
      "154 ../../../../data/enwiki_city_pairs_lemmatised/NOUN/biggest_cities_20\\NOUN__naples_warsaw__.pickle ../../../../data/enwiki_city_pairs_lemmatised/NOUN_SPACY_LARGE/biggest_cities_20\\NOUN__naples_warsaw__.pickle\n",
      "\n",
      "155 ../../../../data/enwiki_city_pairs_lemmatised/NOUN/biggest_cities_20\\NOUN__paris_bucharest__.pickle ../../../../data/enwiki_city_pairs_lemmatised/NOUN_SPACY_LARGE/biggest_cities_20\\NOUN__paris_bucharest__.pickle\n",
      "\n",
      "156 ../../../../data/enwiki_city_pairs_lemmatised/NOUN/biggest_cities_20\\NOUN__paris_budapest__.pickle ../../../../data/enwiki_city_pairs_lemmatised/NOUN_SPACY_LARGE/biggest_cities_20\\NOUN__paris_budapest__.pickle\n",
      "\n"
     ]
    },
    {
     "name": "stdout",
     "output_type": "stream",
     "text": [
      "157 ../../../../data/enwiki_city_pairs_lemmatised/NOUN/biggest_cities_20\\NOUN__paris_hamburg__.pickle ../../../../data/enwiki_city_pairs_lemmatised/NOUN_SPACY_LARGE/biggest_cities_20\\NOUN__paris_hamburg__.pickle\n",
      "\n",
      "158 ../../../../data/enwiki_city_pairs_lemmatised/NOUN/biggest_cities_20\\NOUN__paris_katowice__.pickle ../../../../data/enwiki_city_pairs_lemmatised/NOUN_SPACY_LARGE/biggest_cities_20\\NOUN__paris_katowice__.pickle\n",
      "\n",
      "159 ../../../../data/enwiki_city_pairs_lemmatised/NOUN/biggest_cities_20\\NOUN__paris_manchester__.pickle ../../../../data/enwiki_city_pairs_lemmatised/NOUN_SPACY_LARGE/biggest_cities_20\\NOUN__paris_manchester__.pickle\n",
      "\n",
      "160 ../../../../data/enwiki_city_pairs_lemmatised/NOUN/biggest_cities_20\\NOUN__paris_munich__.pickle ../../../../data/enwiki_city_pairs_lemmatised/NOUN_SPACY_LARGE/biggest_cities_20\\NOUN__paris_munich__.pickle\n",
      "\n",
      "161 ../../../../data/enwiki_city_pairs_lemmatised/NOUN/biggest_cities_20\\NOUN__paris_naples__.pickle ../../../../data/enwiki_city_pairs_lemmatised/NOUN_SPACY_LARGE/biggest_cities_20\\NOUN__paris_naples__.pickle\n",
      "\n",
      "162 ../../../../data/enwiki_city_pairs_lemmatised/NOUN/biggest_cities_20\\NOUN__paris_stuttgart__.pickle ../../../../data/enwiki_city_pairs_lemmatised/NOUN_SPACY_LARGE/biggest_cities_20\\NOUN__paris_stuttgart__.pickle\n",
      "\n",
      "163 ../../../../data/enwiki_city_pairs_lemmatised/NOUN/biggest_cities_20\\NOUN__paris_vienna__.pickle ../../../../data/enwiki_city_pairs_lemmatised/NOUN_SPACY_LARGE/biggest_cities_20\\NOUN__paris_vienna__.pickle\n",
      "\n",
      "164 ../../../../data/enwiki_city_pairs_lemmatised/NOUN/biggest_cities_20\\NOUN__paris_warsaw__.pickle ../../../../data/enwiki_city_pairs_lemmatised/NOUN_SPACY_LARGE/biggest_cities_20\\NOUN__paris_warsaw__.pickle\n",
      "\n",
      "165 ../../../../data/enwiki_city_pairs_lemmatised/NOUN/biggest_cities_20\\NOUN__rome_bucharest__.pickle ../../../../data/enwiki_city_pairs_lemmatised/NOUN_SPACY_LARGE/biggest_cities_20\\NOUN__rome_bucharest__.pickle\n",
      "\n",
      "166 ../../../../data/enwiki_city_pairs_lemmatised/NOUN/biggest_cities_20\\NOUN__rome_budapest__.pickle ../../../../data/enwiki_city_pairs_lemmatised/NOUN_SPACY_LARGE/biggest_cities_20\\NOUN__rome_budapest__.pickle\n",
      "\n",
      "167 ../../../../data/enwiki_city_pairs_lemmatised/NOUN/biggest_cities_20\\NOUN__rome_hamburg__.pickle ../../../../data/enwiki_city_pairs_lemmatised/NOUN_SPACY_LARGE/biggest_cities_20\\NOUN__rome_hamburg__.pickle\n",
      "\n",
      "168 ../../../../data/enwiki_city_pairs_lemmatised/NOUN/biggest_cities_20\\NOUN__rome_katowice__.pickle ../../../../data/enwiki_city_pairs_lemmatised/NOUN_SPACY_LARGE/biggest_cities_20\\NOUN__rome_katowice__.pickle\n",
      "\n",
      "169 ../../../../data/enwiki_city_pairs_lemmatised/NOUN/biggest_cities_20\\NOUN__rome_manchester__.pickle ../../../../data/enwiki_city_pairs_lemmatised/NOUN_SPACY_LARGE/biggest_cities_20\\NOUN__rome_manchester__.pickle\n",
      "\n",
      "170 ../../../../data/enwiki_city_pairs_lemmatised/NOUN/biggest_cities_20\\NOUN__rome_munich__.pickle ../../../../data/enwiki_city_pairs_lemmatised/NOUN_SPACY_LARGE/biggest_cities_20\\NOUN__rome_munich__.pickle\n",
      "\n",
      "171 ../../../../data/enwiki_city_pairs_lemmatised/NOUN/biggest_cities_20\\NOUN__rome_naples__.pickle ../../../../data/enwiki_city_pairs_lemmatised/NOUN_SPACY_LARGE/biggest_cities_20\\NOUN__rome_naples__.pickle\n",
      "\n",
      "172 ../../../../data/enwiki_city_pairs_lemmatised/NOUN/biggest_cities_20\\NOUN__rome_stuttgart__.pickle ../../../../data/enwiki_city_pairs_lemmatised/NOUN_SPACY_LARGE/biggest_cities_20\\NOUN__rome_stuttgart__.pickle\n",
      "\n",
      "173 ../../../../data/enwiki_city_pairs_lemmatised/NOUN/biggest_cities_20\\NOUN__rome_vienna__.pickle ../../../../data/enwiki_city_pairs_lemmatised/NOUN_SPACY_LARGE/biggest_cities_20\\NOUN__rome_vienna__.pickle\n",
      "\n",
      "174 ../../../../data/enwiki_city_pairs_lemmatised/NOUN/biggest_cities_20\\NOUN__rome_warsaw__.pickle ../../../../data/enwiki_city_pairs_lemmatised/NOUN_SPACY_LARGE/biggest_cities_20\\NOUN__rome_warsaw__.pickle\n",
      "\n",
      "175 ../../../../data/enwiki_city_pairs_lemmatised/NOUN/biggest_cities_20\\NOUN__stuttgart_munich__.pickle ../../../../data/enwiki_city_pairs_lemmatised/NOUN_SPACY_LARGE/biggest_cities_20\\NOUN__stuttgart_munich__.pickle\n",
      "\n",
      "176 ../../../../data/enwiki_city_pairs_lemmatised/NOUN/biggest_cities_20\\NOUN__stuttgart_vienna__.pickle ../../../../data/enwiki_city_pairs_lemmatised/NOUN_SPACY_LARGE/biggest_cities_20\\NOUN__stuttgart_vienna__.pickle\n",
      "\n",
      "177 ../../../../data/enwiki_city_pairs_lemmatised/NOUN/biggest_cities_20\\NOUN__vienna_munich__.pickle ../../../../data/enwiki_city_pairs_lemmatised/NOUN_SPACY_LARGE/biggest_cities_20\\NOUN__vienna_munich__.pickle\n",
      "\n",
      "178 ../../../../data/enwiki_city_pairs_lemmatised/NOUN/biggest_cities_20\\NOUN__warsaw_munich__.pickle ../../../../data/enwiki_city_pairs_lemmatised/NOUN_SPACY_LARGE/biggest_cities_20\\NOUN__warsaw_munich__.pickle\n",
      "\n",
      "179 ../../../../data/enwiki_city_pairs_lemmatised/NOUN/biggest_cities_20\\NOUN__warsaw_stuttgart__.pickle ../../../../data/enwiki_city_pairs_lemmatised/NOUN_SPACY_LARGE/biggest_cities_20\\NOUN__warsaw_stuttgart__.pickle\n",
      "\n",
      "180 ../../../../data/enwiki_city_pairs_lemmatised/NOUN/biggest_cities_20\\NOUN__warsaw_vienna__.pickle ../../../../data/enwiki_city_pairs_lemmatised/NOUN_SPACY_LARGE/biggest_cities_20\\NOUN__warsaw_vienna__.pickle\n",
      "\n",
      "181 ../../../../data/enwiki_city_pairs_lemmatised/NOUN/biggest_cities_30\\NOUN__athens_brussels__.pickle ../../../../data/enwiki_city_pairs_lemmatised/NOUN_SPACY_LARGE/biggest_cities_30\\NOUN__athens_brussels__.pickle\n",
      "\n",
      "182 ../../../../data/enwiki_city_pairs_lemmatised/NOUN/biggest_cities_30\\NOUN__athens_cologne__.pickle ../../../../data/enwiki_city_pairs_lemmatised/NOUN_SPACY_LARGE/biggest_cities_30\\NOUN__athens_cologne__.pickle\n",
      "\n",
      "183 ../../../../data/enwiki_city_pairs_lemmatised/NOUN/biggest_cities_30\\NOUN__athens_copenhagen__.pickle ../../../../data/enwiki_city_pairs_lemmatised/NOUN_SPACY_LARGE/biggest_cities_30\\NOUN__athens_copenhagen__.pickle\n",
      "\n",
      "184 ../../../../data/enwiki_city_pairs_lemmatised/NOUN/biggest_cities_30\\NOUN__athens_frankfurt__.pickle ../../../../data/enwiki_city_pairs_lemmatised/NOUN_SPACY_LARGE/biggest_cities_30\\NOUN__athens_frankfurt__.pickle\n",
      "\n",
      "185 ../../../../data/enwiki_city_pairs_lemmatised/NOUN/biggest_cities_30\\NOUN__athens_glasgow__.pickle ../../../../data/enwiki_city_pairs_lemmatised/NOUN_SPACY_LARGE/biggest_cities_30\\NOUN__athens_glasgow__.pickle\n",
      "\n",
      "186 ../../../../data/enwiki_city_pairs_lemmatised/NOUN/biggest_cities_30\\NOUN__athens_lyon__.pickle ../../../../data/enwiki_city_pairs_lemmatised/NOUN_SPACY_LARGE/biggest_cities_30\\NOUN__athens_lyon__.pickle\n",
      "\n",
      "187 ../../../../data/enwiki_city_pairs_lemmatised/NOUN/biggest_cities_30\\NOUN__athens_prague__.pickle ../../../../data/enwiki_city_pairs_lemmatised/NOUN_SPACY_LARGE/biggest_cities_30\\NOUN__athens_prague__.pickle\n",
      "\n",
      "188 ../../../../data/enwiki_city_pairs_lemmatised/NOUN/biggest_cities_30\\NOUN__athens_stockholm__.pickle ../../../../data/enwiki_city_pairs_lemmatised/NOUN_SPACY_LARGE/biggest_cities_30\\NOUN__athens_stockholm__.pickle\n",
      "\n",
      "189 ../../../../data/enwiki_city_pairs_lemmatised/NOUN/biggest_cities_30\\NOUN__athens_turin__.pickle ../../../../data/enwiki_city_pairs_lemmatised/NOUN_SPACY_LARGE/biggest_cities_30\\NOUN__athens_turin__.pickle\n",
      "\n",
      "190 ../../../../data/enwiki_city_pairs_lemmatised/NOUN/biggest_cities_30\\NOUN__athens_valencia__.pickle ../../../../data/enwiki_city_pairs_lemmatised/NOUN_SPACY_LARGE/biggest_cities_30\\NOUN__athens_valencia__.pickle\n",
      "\n",
      "191 ../../../../data/enwiki_city_pairs_lemmatised/NOUN/biggest_cities_30\\NOUN__barcelona_brussels__.pickle ../../../../data/enwiki_city_pairs_lemmatised/NOUN_SPACY_LARGE/biggest_cities_30\\NOUN__barcelona_brussels__.pickle\n",
      "\n",
      "192 ../../../../data/enwiki_city_pairs_lemmatised/NOUN/biggest_cities_30\\NOUN__barcelona_cologne__.pickle ../../../../data/enwiki_city_pairs_lemmatised/NOUN_SPACY_LARGE/biggest_cities_30\\NOUN__barcelona_cologne__.pickle\n",
      "\n",
      "193 ../../../../data/enwiki_city_pairs_lemmatised/NOUN/biggest_cities_30\\NOUN__barcelona_copenhagen__.pickle ../../../../data/enwiki_city_pairs_lemmatised/NOUN_SPACY_LARGE/biggest_cities_30\\NOUN__barcelona_copenhagen__.pickle\n",
      "\n",
      "194 ../../../../data/enwiki_city_pairs_lemmatised/NOUN/biggest_cities_30\\NOUN__barcelona_frankfurt__.pickle ../../../../data/enwiki_city_pairs_lemmatised/NOUN_SPACY_LARGE/biggest_cities_30\\NOUN__barcelona_frankfurt__.pickle\n",
      "\n",
      "195 ../../../../data/enwiki_city_pairs_lemmatised/NOUN/biggest_cities_30\\NOUN__barcelona_glasgow__.pickle ../../../../data/enwiki_city_pairs_lemmatised/NOUN_SPACY_LARGE/biggest_cities_30\\NOUN__barcelona_glasgow__.pickle\n",
      "\n",
      "196 ../../../../data/enwiki_city_pairs_lemmatised/NOUN/biggest_cities_30\\NOUN__barcelona_lyon__.pickle ../../../../data/enwiki_city_pairs_lemmatised/NOUN_SPACY_LARGE/biggest_cities_30\\NOUN__barcelona_lyon__.pickle\n",
      "\n"
     ]
    },
    {
     "name": "stdout",
     "output_type": "stream",
     "text": [
      "197 ../../../../data/enwiki_city_pairs_lemmatised/NOUN/biggest_cities_30\\NOUN__barcelona_prague__.pickle ../../../../data/enwiki_city_pairs_lemmatised/NOUN_SPACY_LARGE/biggest_cities_30\\NOUN__barcelona_prague__.pickle\n",
      "\n",
      "198 ../../../../data/enwiki_city_pairs_lemmatised/NOUN/biggest_cities_30\\NOUN__barcelona_stockholm__.pickle ../../../../data/enwiki_city_pairs_lemmatised/NOUN_SPACY_LARGE/biggest_cities_30\\NOUN__barcelona_stockholm__.pickle\n",
      "\n",
      "199 ../../../../data/enwiki_city_pairs_lemmatised/NOUN/biggest_cities_30\\NOUN__barcelona_turin__.pickle ../../../../data/enwiki_city_pairs_lemmatised/NOUN_SPACY_LARGE/biggest_cities_30\\NOUN__barcelona_turin__.pickle\n",
      "\n",
      "200 ../../../../data/enwiki_city_pairs_lemmatised/NOUN/biggest_cities_30\\NOUN__barcelona_valencia__.pickle ../../../../data/enwiki_city_pairs_lemmatised/NOUN_SPACY_LARGE/biggest_cities_30\\NOUN__barcelona_valencia__.pickle\n",
      "\n",
      "201 ../../../../data/enwiki_city_pairs_lemmatised/NOUN/biggest_cities_30\\NOUN__berlin_brussels__.pickle ../../../../data/enwiki_city_pairs_lemmatised/NOUN_SPACY_LARGE/biggest_cities_30\\NOUN__berlin_brussels__.pickle\n",
      "\n",
      "202 ../../../../data/enwiki_city_pairs_lemmatised/NOUN/biggest_cities_30\\NOUN__berlin_cologne__.pickle ../../../../data/enwiki_city_pairs_lemmatised/NOUN_SPACY_LARGE/biggest_cities_30\\NOUN__berlin_cologne__.pickle\n",
      "\n",
      "203 ../../../../data/enwiki_city_pairs_lemmatised/NOUN/biggest_cities_30\\NOUN__berlin_copenhagen__.pickle ../../../../data/enwiki_city_pairs_lemmatised/NOUN_SPACY_LARGE/biggest_cities_30\\NOUN__berlin_copenhagen__.pickle\n",
      "\n",
      "204 ../../../../data/enwiki_city_pairs_lemmatised/NOUN/biggest_cities_30\\NOUN__berlin_frankfurt__.pickle ../../../../data/enwiki_city_pairs_lemmatised/NOUN_SPACY_LARGE/biggest_cities_30\\NOUN__berlin_frankfurt__.pickle\n",
      "\n",
      "205 ../../../../data/enwiki_city_pairs_lemmatised/NOUN/biggest_cities_30\\NOUN__berlin_glasgow__.pickle ../../../../data/enwiki_city_pairs_lemmatised/NOUN_SPACY_LARGE/biggest_cities_30\\NOUN__berlin_glasgow__.pickle\n",
      "\n",
      "206 ../../../../data/enwiki_city_pairs_lemmatised/NOUN/biggest_cities_30\\NOUN__berlin_lyon__.pickle ../../../../data/enwiki_city_pairs_lemmatised/NOUN_SPACY_LARGE/biggest_cities_30\\NOUN__berlin_lyon__.pickle\n",
      "\n",
      "207 ../../../../data/enwiki_city_pairs_lemmatised/NOUN/biggest_cities_30\\NOUN__berlin_prague__.pickle ../../../../data/enwiki_city_pairs_lemmatised/NOUN_SPACY_LARGE/biggest_cities_30\\NOUN__berlin_prague__.pickle\n",
      "\n",
      "208 ../../../../data/enwiki_city_pairs_lemmatised/NOUN/biggest_cities_30\\NOUN__berlin_stockholm__.pickle ../../../../data/enwiki_city_pairs_lemmatised/NOUN_SPACY_LARGE/biggest_cities_30\\NOUN__berlin_stockholm__.pickle\n",
      "\n",
      "209 ../../../../data/enwiki_city_pairs_lemmatised/NOUN/biggest_cities_30\\NOUN__berlin_turin__.pickle ../../../../data/enwiki_city_pairs_lemmatised/NOUN_SPACY_LARGE/biggest_cities_30\\NOUN__berlin_turin__.pickle\n",
      "\n",
      "210 ../../../../data/enwiki_city_pairs_lemmatised/NOUN/biggest_cities_30\\NOUN__berlin_valencia__.pickle ../../../../data/enwiki_city_pairs_lemmatised/NOUN_SPACY_LARGE/biggest_cities_30\\NOUN__berlin_valencia__.pickle\n",
      "\n",
      "211 ../../../../data/enwiki_city_pairs_lemmatised/NOUN/biggest_cities_30\\NOUN__birmingham_brussels__.pickle ../../../../data/enwiki_city_pairs_lemmatised/NOUN_SPACY_LARGE/biggest_cities_30\\NOUN__birmingham_brussels__.pickle\n",
      "\n",
      "212 ../../../../data/enwiki_city_pairs_lemmatised/NOUN/biggest_cities_30\\NOUN__birmingham_cologne__.pickle ../../../../data/enwiki_city_pairs_lemmatised/NOUN_SPACY_LARGE/biggest_cities_30\\NOUN__birmingham_cologne__.pickle\n",
      "\n",
      "213 ../../../../data/enwiki_city_pairs_lemmatised/NOUN/biggest_cities_30\\NOUN__birmingham_copenhagen__.pickle ../../../../data/enwiki_city_pairs_lemmatised/NOUN_SPACY_LARGE/biggest_cities_30\\NOUN__birmingham_copenhagen__.pickle\n",
      "\n",
      "214 ../../../../data/enwiki_city_pairs_lemmatised/NOUN/biggest_cities_30\\NOUN__birmingham_frankfurt__.pickle ../../../../data/enwiki_city_pairs_lemmatised/NOUN_SPACY_LARGE/biggest_cities_30\\NOUN__birmingham_frankfurt__.pickle\n",
      "\n",
      "215 ../../../../data/enwiki_city_pairs_lemmatised/NOUN/biggest_cities_30\\NOUN__birmingham_glasgow__.pickle ../../../../data/enwiki_city_pairs_lemmatised/NOUN_SPACY_LARGE/biggest_cities_30\\NOUN__birmingham_glasgow__.pickle\n",
      "\n",
      "216 ../../../../data/enwiki_city_pairs_lemmatised/NOUN/biggest_cities_30\\NOUN__birmingham_lyon__.pickle ../../../../data/enwiki_city_pairs_lemmatised/NOUN_SPACY_LARGE/biggest_cities_30\\NOUN__birmingham_lyon__.pickle\n",
      "\n",
      "217 ../../../../data/enwiki_city_pairs_lemmatised/NOUN/biggest_cities_30\\NOUN__birmingham_prague__.pickle ../../../../data/enwiki_city_pairs_lemmatised/NOUN_SPACY_LARGE/biggest_cities_30\\NOUN__birmingham_prague__.pickle\n",
      "\n",
      "218 ../../../../data/enwiki_city_pairs_lemmatised/NOUN/biggest_cities_30\\NOUN__birmingham_stockholm__.pickle ../../../../data/enwiki_city_pairs_lemmatised/NOUN_SPACY_LARGE/biggest_cities_30\\NOUN__birmingham_stockholm__.pickle\n",
      "\n",
      "219 ../../../../data/enwiki_city_pairs_lemmatised/NOUN/biggest_cities_30\\NOUN__birmingham_turin__.pickle ../../../../data/enwiki_city_pairs_lemmatised/NOUN_SPACY_LARGE/biggest_cities_30\\NOUN__birmingham_turin__.pickle\n",
      "\n",
      "220 ../../../../data/enwiki_city_pairs_lemmatised/NOUN/biggest_cities_30\\NOUN__birmingham_valencia__.pickle ../../../../data/enwiki_city_pairs_lemmatised/NOUN_SPACY_LARGE/biggest_cities_30\\NOUN__birmingham_valencia__.pickle\n",
      "\n",
      "221 ../../../../data/enwiki_city_pairs_lemmatised/NOUN/biggest_cities_30\\NOUN__brussels_cologne__.pickle ../../../../data/enwiki_city_pairs_lemmatised/NOUN_SPACY_LARGE/biggest_cities_30\\NOUN__brussels_cologne__.pickle\n",
      "\n",
      "222 ../../../../data/enwiki_city_pairs_lemmatised/NOUN/biggest_cities_30\\NOUN__brussels_copenhagen__.pickle ../../../../data/enwiki_city_pairs_lemmatised/NOUN_SPACY_LARGE/biggest_cities_30\\NOUN__brussels_copenhagen__.pickle\n",
      "\n",
      "223 ../../../../data/enwiki_city_pairs_lemmatised/NOUN/biggest_cities_30\\NOUN__brussels_frankfurt__.pickle ../../../../data/enwiki_city_pairs_lemmatised/NOUN_SPACY_LARGE/biggest_cities_30\\NOUN__brussels_frankfurt__.pickle\n",
      "\n",
      "224 ../../../../data/enwiki_city_pairs_lemmatised/NOUN/biggest_cities_30\\NOUN__brussels_glasgow__.pickle ../../../../data/enwiki_city_pairs_lemmatised/NOUN_SPACY_LARGE/biggest_cities_30\\NOUN__brussels_glasgow__.pickle\n",
      "\n",
      "225 ../../../../data/enwiki_city_pairs_lemmatised/NOUN/biggest_cities_30\\NOUN__brussels_lyon__.pickle ../../../../data/enwiki_city_pairs_lemmatised/NOUN_SPACY_LARGE/biggest_cities_30\\NOUN__brussels_lyon__.pickle\n",
      "\n",
      "226 ../../../../data/enwiki_city_pairs_lemmatised/NOUN/biggest_cities_30\\NOUN__brussels_prague__.pickle ../../../../data/enwiki_city_pairs_lemmatised/NOUN_SPACY_LARGE/biggest_cities_30\\NOUN__brussels_prague__.pickle\n",
      "\n",
      "227 ../../../../data/enwiki_city_pairs_lemmatised/NOUN/biggest_cities_30\\NOUN__brussels_stockholm__.pickle ../../../../data/enwiki_city_pairs_lemmatised/NOUN_SPACY_LARGE/biggest_cities_30\\NOUN__brussels_stockholm__.pickle\n",
      "\n",
      "228 ../../../../data/enwiki_city_pairs_lemmatised/NOUN/biggest_cities_30\\NOUN__brussels_turin__.pickle ../../../../data/enwiki_city_pairs_lemmatised/NOUN_SPACY_LARGE/biggest_cities_30\\NOUN__brussels_turin__.pickle\n",
      "\n",
      "229 ../../../../data/enwiki_city_pairs_lemmatised/NOUN/biggest_cities_30\\NOUN__brussels_valencia__.pickle ../../../../data/enwiki_city_pairs_lemmatised/NOUN_SPACY_LARGE/biggest_cities_30\\NOUN__brussels_valencia__.pickle\n",
      "\n",
      "230 ../../../../data/enwiki_city_pairs_lemmatised/NOUN/biggest_cities_30\\NOUN__bucharest_brussels__.pickle ../../../../data/enwiki_city_pairs_lemmatised/NOUN_SPACY_LARGE/biggest_cities_30\\NOUN__bucharest_brussels__.pickle\n",
      "\n",
      "231 ../../../../data/enwiki_city_pairs_lemmatised/NOUN/biggest_cities_30\\NOUN__bucharest_cologne__.pickle ../../../../data/enwiki_city_pairs_lemmatised/NOUN_SPACY_LARGE/biggest_cities_30\\NOUN__bucharest_cologne__.pickle\n",
      "\n",
      "232 ../../../../data/enwiki_city_pairs_lemmatised/NOUN/biggest_cities_30\\NOUN__bucharest_copenhagen__.pickle ../../../../data/enwiki_city_pairs_lemmatised/NOUN_SPACY_LARGE/biggest_cities_30\\NOUN__bucharest_copenhagen__.pickle\n",
      "\n",
      "233 ../../../../data/enwiki_city_pairs_lemmatised/NOUN/biggest_cities_30\\NOUN__bucharest_frankfurt__.pickle ../../../../data/enwiki_city_pairs_lemmatised/NOUN_SPACY_LARGE/biggest_cities_30\\NOUN__bucharest_frankfurt__.pickle\n",
      "\n",
      "234 ../../../../data/enwiki_city_pairs_lemmatised/NOUN/biggest_cities_30\\NOUN__bucharest_glasgow__.pickle ../../../../data/enwiki_city_pairs_lemmatised/NOUN_SPACY_LARGE/biggest_cities_30\\NOUN__bucharest_glasgow__.pickle\n",
      "\n",
      "235 ../../../../data/enwiki_city_pairs_lemmatised/NOUN/biggest_cities_30\\NOUN__bucharest_lyon__.pickle ../../../../data/enwiki_city_pairs_lemmatised/NOUN_SPACY_LARGE/biggest_cities_30\\NOUN__bucharest_lyon__.pickle\n",
      "\n"
     ]
    },
    {
     "name": "stdout",
     "output_type": "stream",
     "text": [
      "236 ../../../../data/enwiki_city_pairs_lemmatised/NOUN/biggest_cities_30\\NOUN__bucharest_prague__.pickle ../../../../data/enwiki_city_pairs_lemmatised/NOUN_SPACY_LARGE/biggest_cities_30\\NOUN__bucharest_prague__.pickle\n",
      "\n",
      "237 ../../../../data/enwiki_city_pairs_lemmatised/NOUN/biggest_cities_30\\NOUN__bucharest_stockholm__.pickle ../../../../data/enwiki_city_pairs_lemmatised/NOUN_SPACY_LARGE/biggest_cities_30\\NOUN__bucharest_stockholm__.pickle\n",
      "\n",
      "238 ../../../../data/enwiki_city_pairs_lemmatised/NOUN/biggest_cities_30\\NOUN__bucharest_turin__.pickle ../../../../data/enwiki_city_pairs_lemmatised/NOUN_SPACY_LARGE/biggest_cities_30\\NOUN__bucharest_turin__.pickle\n",
      "\n",
      "239 ../../../../data/enwiki_city_pairs_lemmatised/NOUN/biggest_cities_30\\NOUN__bucharest_valencia__.pickle ../../../../data/enwiki_city_pairs_lemmatised/NOUN_SPACY_LARGE/biggest_cities_30\\NOUN__bucharest_valencia__.pickle\n",
      "\n",
      "240 ../../../../data/enwiki_city_pairs_lemmatised/NOUN/biggest_cities_30\\NOUN__budapest_brussels__.pickle ../../../../data/enwiki_city_pairs_lemmatised/NOUN_SPACY_LARGE/biggest_cities_30\\NOUN__budapest_brussels__.pickle\n",
      "\n",
      "241 ../../../../data/enwiki_city_pairs_lemmatised/NOUN/biggest_cities_30\\NOUN__budapest_cologne__.pickle ../../../../data/enwiki_city_pairs_lemmatised/NOUN_SPACY_LARGE/biggest_cities_30\\NOUN__budapest_cologne__.pickle\n",
      "\n",
      "242 ../../../../data/enwiki_city_pairs_lemmatised/NOUN/biggest_cities_30\\NOUN__budapest_copenhagen__.pickle ../../../../data/enwiki_city_pairs_lemmatised/NOUN_SPACY_LARGE/biggest_cities_30\\NOUN__budapest_copenhagen__.pickle\n",
      "\n",
      "243 ../../../../data/enwiki_city_pairs_lemmatised/NOUN/biggest_cities_30\\NOUN__budapest_frankfurt__.pickle ../../../../data/enwiki_city_pairs_lemmatised/NOUN_SPACY_LARGE/biggest_cities_30\\NOUN__budapest_frankfurt__.pickle\n",
      "\n",
      "244 ../../../../data/enwiki_city_pairs_lemmatised/NOUN/biggest_cities_30\\NOUN__budapest_glasgow__.pickle ../../../../data/enwiki_city_pairs_lemmatised/NOUN_SPACY_LARGE/biggest_cities_30\\NOUN__budapest_glasgow__.pickle\n",
      "\n",
      "245 ../../../../data/enwiki_city_pairs_lemmatised/NOUN/biggest_cities_30\\NOUN__budapest_lyon__.pickle ../../../../data/enwiki_city_pairs_lemmatised/NOUN_SPACY_LARGE/biggest_cities_30\\NOUN__budapest_lyon__.pickle\n",
      "\n",
      "246 ../../../../data/enwiki_city_pairs_lemmatised/NOUN/biggest_cities_30\\NOUN__budapest_prague__.pickle ../../../../data/enwiki_city_pairs_lemmatised/NOUN_SPACY_LARGE/biggest_cities_30\\NOUN__budapest_prague__.pickle\n",
      "\n",
      "247 ../../../../data/enwiki_city_pairs_lemmatised/NOUN/biggest_cities_30\\NOUN__budapest_stockholm__.pickle ../../../../data/enwiki_city_pairs_lemmatised/NOUN_SPACY_LARGE/biggest_cities_30\\NOUN__budapest_stockholm__.pickle\n",
      "\n",
      "248 ../../../../data/enwiki_city_pairs_lemmatised/NOUN/biggest_cities_30\\NOUN__budapest_turin__.pickle ../../../../data/enwiki_city_pairs_lemmatised/NOUN_SPACY_LARGE/biggest_cities_30\\NOUN__budapest_turin__.pickle\n",
      "\n",
      "249 ../../../../data/enwiki_city_pairs_lemmatised/NOUN/biggest_cities_30\\NOUN__budapest_valencia__.pickle ../../../../data/enwiki_city_pairs_lemmatised/NOUN_SPACY_LARGE/biggest_cities_30\\NOUN__budapest_valencia__.pickle\n",
      "\n",
      "250 ../../../../data/enwiki_city_pairs_lemmatised/NOUN/biggest_cities_30\\NOUN__cologne_copenhagen__.pickle ../../../../data/enwiki_city_pairs_lemmatised/NOUN_SPACY_LARGE/biggest_cities_30\\NOUN__cologne_copenhagen__.pickle\n",
      "\n",
      "251 ../../../../data/enwiki_city_pairs_lemmatised/NOUN/biggest_cities_30\\NOUN__cologne_glasgow__.pickle ../../../../data/enwiki_city_pairs_lemmatised/NOUN_SPACY_LARGE/biggest_cities_30\\NOUN__cologne_glasgow__.pickle\n",
      "\n",
      "252 ../../../../data/enwiki_city_pairs_lemmatised/NOUN/biggest_cities_30\\NOUN__cologne_lyon__.pickle ../../../../data/enwiki_city_pairs_lemmatised/NOUN_SPACY_LARGE/biggest_cities_30\\NOUN__cologne_lyon__.pickle\n",
      "\n",
      "253 ../../../../data/enwiki_city_pairs_lemmatised/NOUN/biggest_cities_30\\NOUN__cologne_prague__.pickle ../../../../data/enwiki_city_pairs_lemmatised/NOUN_SPACY_LARGE/biggest_cities_30\\NOUN__cologne_prague__.pickle\n",
      "\n",
      "254 ../../../../data/enwiki_city_pairs_lemmatised/NOUN/biggest_cities_30\\NOUN__cologne_turin__.pickle ../../../../data/enwiki_city_pairs_lemmatised/NOUN_SPACY_LARGE/biggest_cities_30\\NOUN__cologne_turin__.pickle\n",
      "\n",
      "255 ../../../../data/enwiki_city_pairs_lemmatised/NOUN/biggest_cities_30\\NOUN__cologne_valencia__.pickle ../../../../data/enwiki_city_pairs_lemmatised/NOUN_SPACY_LARGE/biggest_cities_30\\NOUN__cologne_valencia__.pickle\n",
      "\n",
      "256 ../../../../data/enwiki_city_pairs_lemmatised/NOUN/biggest_cities_30\\NOUN__copenhagen_glasgow__.pickle ../../../../data/enwiki_city_pairs_lemmatised/NOUN_SPACY_LARGE/biggest_cities_30\\NOUN__copenhagen_glasgow__.pickle\n",
      "\n",
      "257 ../../../../data/enwiki_city_pairs_lemmatised/NOUN/biggest_cities_30\\NOUN__copenhagen_lyon__.pickle ../../../../data/enwiki_city_pairs_lemmatised/NOUN_SPACY_LARGE/biggest_cities_30\\NOUN__copenhagen_lyon__.pickle\n",
      "\n",
      "258 ../../../../data/enwiki_city_pairs_lemmatised/NOUN/biggest_cities_30\\NOUN__copenhagen_prague__.pickle ../../../../data/enwiki_city_pairs_lemmatised/NOUN_SPACY_LARGE/biggest_cities_30\\NOUN__copenhagen_prague__.pickle\n",
      "\n",
      "259 ../../../../data/enwiki_city_pairs_lemmatised/NOUN/biggest_cities_30\\NOUN__copenhagen_turin__.pickle ../../../../data/enwiki_city_pairs_lemmatised/NOUN_SPACY_LARGE/biggest_cities_30\\NOUN__copenhagen_turin__.pickle\n",
      "\n",
      "260 ../../../../data/enwiki_city_pairs_lemmatised/NOUN/biggest_cities_30\\NOUN__copenhagen_valencia__.pickle ../../../../data/enwiki_city_pairs_lemmatised/NOUN_SPACY_LARGE/biggest_cities_30\\NOUN__copenhagen_valencia__.pickle\n",
      "\n",
      "261 ../../../../data/enwiki_city_pairs_lemmatised/NOUN/biggest_cities_30\\NOUN__frankfurt_cologne__.pickle ../../../../data/enwiki_city_pairs_lemmatised/NOUN_SPACY_LARGE/biggest_cities_30\\NOUN__frankfurt_cologne__.pickle\n",
      "\n",
      "262 ../../../../data/enwiki_city_pairs_lemmatised/NOUN/biggest_cities_30\\NOUN__frankfurt_copenhagen__.pickle ../../../../data/enwiki_city_pairs_lemmatised/NOUN_SPACY_LARGE/biggest_cities_30\\NOUN__frankfurt_copenhagen__.pickle\n",
      "\n",
      "263 ../../../../data/enwiki_city_pairs_lemmatised/NOUN/biggest_cities_30\\NOUN__frankfurt_glasgow__.pickle ../../../../data/enwiki_city_pairs_lemmatised/NOUN_SPACY_LARGE/biggest_cities_30\\NOUN__frankfurt_glasgow__.pickle\n",
      "\n",
      "264 ../../../../data/enwiki_city_pairs_lemmatised/NOUN/biggest_cities_30\\NOUN__frankfurt_lyon__.pickle ../../../../data/enwiki_city_pairs_lemmatised/NOUN_SPACY_LARGE/biggest_cities_30\\NOUN__frankfurt_lyon__.pickle\n",
      "\n",
      "265 ../../../../data/enwiki_city_pairs_lemmatised/NOUN/biggest_cities_30\\NOUN__frankfurt_prague__.pickle ../../../../data/enwiki_city_pairs_lemmatised/NOUN_SPACY_LARGE/biggest_cities_30\\NOUN__frankfurt_prague__.pickle\n",
      "\n",
      "266 ../../../../data/enwiki_city_pairs_lemmatised/NOUN/biggest_cities_30\\NOUN__frankfurt_turin__.pickle ../../../../data/enwiki_city_pairs_lemmatised/NOUN_SPACY_LARGE/biggest_cities_30\\NOUN__frankfurt_turin__.pickle\n",
      "\n",
      "267 ../../../../data/enwiki_city_pairs_lemmatised/NOUN/biggest_cities_30\\NOUN__frankfurt_valencia__.pickle ../../../../data/enwiki_city_pairs_lemmatised/NOUN_SPACY_LARGE/biggest_cities_30\\NOUN__frankfurt_valencia__.pickle\n",
      "\n",
      "268 ../../../../data/enwiki_city_pairs_lemmatised/NOUN/biggest_cities_30\\NOUN__glasgow_lyon__.pickle ../../../../data/enwiki_city_pairs_lemmatised/NOUN_SPACY_LARGE/biggest_cities_30\\NOUN__glasgow_lyon__.pickle\n",
      "\n",
      "269 ../../../../data/enwiki_city_pairs_lemmatised/NOUN/biggest_cities_30\\NOUN__glasgow_prague__.pickle ../../../../data/enwiki_city_pairs_lemmatised/NOUN_SPACY_LARGE/biggest_cities_30\\NOUN__glasgow_prague__.pickle\n",
      "\n",
      "270 ../../../../data/enwiki_city_pairs_lemmatised/NOUN/biggest_cities_30\\NOUN__hamburg_brussels__.pickle ../../../../data/enwiki_city_pairs_lemmatised/NOUN_SPACY_LARGE/biggest_cities_30\\NOUN__hamburg_brussels__.pickle\n",
      "\n",
      "271 ../../../../data/enwiki_city_pairs_lemmatised/NOUN/biggest_cities_30\\NOUN__hamburg_cologne__.pickle ../../../../data/enwiki_city_pairs_lemmatised/NOUN_SPACY_LARGE/biggest_cities_30\\NOUN__hamburg_cologne__.pickle\n",
      "\n",
      "272 ../../../../data/enwiki_city_pairs_lemmatised/NOUN/biggest_cities_30\\NOUN__hamburg_copenhagen__.pickle ../../../../data/enwiki_city_pairs_lemmatised/NOUN_SPACY_LARGE/biggest_cities_30\\NOUN__hamburg_copenhagen__.pickle\n",
      "\n",
      "273 ../../../../data/enwiki_city_pairs_lemmatised/NOUN/biggest_cities_30\\NOUN__hamburg_frankfurt__.pickle ../../../../data/enwiki_city_pairs_lemmatised/NOUN_SPACY_LARGE/biggest_cities_30\\NOUN__hamburg_frankfurt__.pickle\n",
      "\n",
      "274 ../../../../data/enwiki_city_pairs_lemmatised/NOUN/biggest_cities_30\\NOUN__hamburg_glasgow__.pickle ../../../../data/enwiki_city_pairs_lemmatised/NOUN_SPACY_LARGE/biggest_cities_30\\NOUN__hamburg_glasgow__.pickle\n",
      "\n",
      "275 ../../../../data/enwiki_city_pairs_lemmatised/NOUN/biggest_cities_30\\NOUN__hamburg_lyon__.pickle ../../../../data/enwiki_city_pairs_lemmatised/NOUN_SPACY_LARGE/biggest_cities_30\\NOUN__hamburg_lyon__.pickle\n",
      "\n",
      "276 ../../../../data/enwiki_city_pairs_lemmatised/NOUN/biggest_cities_30\\NOUN__hamburg_prague__.pickle ../../../../data/enwiki_city_pairs_lemmatised/NOUN_SPACY_LARGE/biggest_cities_30\\NOUN__hamburg_prague__.pickle\n",
      "\n"
     ]
    },
    {
     "name": "stdout",
     "output_type": "stream",
     "text": [
      "277 ../../../../data/enwiki_city_pairs_lemmatised/NOUN/biggest_cities_30\\NOUN__hamburg_stockholm__.pickle ../../../../data/enwiki_city_pairs_lemmatised/NOUN_SPACY_LARGE/biggest_cities_30\\NOUN__hamburg_stockholm__.pickle\n",
      "\n",
      "278 ../../../../data/enwiki_city_pairs_lemmatised/NOUN/biggest_cities_30\\NOUN__hamburg_turin__.pickle ../../../../data/enwiki_city_pairs_lemmatised/NOUN_SPACY_LARGE/biggest_cities_30\\NOUN__hamburg_turin__.pickle\n",
      "\n",
      "279 ../../../../data/enwiki_city_pairs_lemmatised/NOUN/biggest_cities_30\\NOUN__hamburg_valencia__.pickle ../../../../data/enwiki_city_pairs_lemmatised/NOUN_SPACY_LARGE/biggest_cities_30\\NOUN__hamburg_valencia__.pickle\n",
      "\n",
      "280 ../../../../data/enwiki_city_pairs_lemmatised/NOUN/biggest_cities_30\\NOUN__katowice_brussels__.pickle ../../../../data/enwiki_city_pairs_lemmatised/NOUN_SPACY_LARGE/biggest_cities_30\\NOUN__katowice_brussels__.pickle\n",
      "\n",
      "281 ../../../../data/enwiki_city_pairs_lemmatised/NOUN/biggest_cities_30\\NOUN__katowice_cologne__.pickle ../../../../data/enwiki_city_pairs_lemmatised/NOUN_SPACY_LARGE/biggest_cities_30\\NOUN__katowice_cologne__.pickle\n",
      "\n",
      "282 ../../../../data/enwiki_city_pairs_lemmatised/NOUN/biggest_cities_30\\NOUN__katowice_copenhagen__.pickle ../../../../data/enwiki_city_pairs_lemmatised/NOUN_SPACY_LARGE/biggest_cities_30\\NOUN__katowice_copenhagen__.pickle\n",
      "\n",
      "283 ../../../../data/enwiki_city_pairs_lemmatised/NOUN/biggest_cities_30\\NOUN__katowice_frankfurt__.pickle ../../../../data/enwiki_city_pairs_lemmatised/NOUN_SPACY_LARGE/biggest_cities_30\\NOUN__katowice_frankfurt__.pickle\n",
      "\n",
      "284 ../../../../data/enwiki_city_pairs_lemmatised/NOUN/biggest_cities_30\\NOUN__katowice_glasgow__.pickle ../../../../data/enwiki_city_pairs_lemmatised/NOUN_SPACY_LARGE/biggest_cities_30\\NOUN__katowice_glasgow__.pickle\n",
      "\n",
      "285 ../../../../data/enwiki_city_pairs_lemmatised/NOUN/biggest_cities_30\\NOUN__katowice_prague__.pickle ../../../../data/enwiki_city_pairs_lemmatised/NOUN_SPACY_LARGE/biggest_cities_30\\NOUN__katowice_prague__.pickle\n",
      "\n",
      "286 ../../../../data/enwiki_city_pairs_lemmatised/NOUN/biggest_cities_30\\NOUN__katowice_stockholm__.pickle ../../../../data/enwiki_city_pairs_lemmatised/NOUN_SPACY_LARGE/biggest_cities_30\\NOUN__katowice_stockholm__.pickle\n",
      "\n",
      "287 ../../../../data/enwiki_city_pairs_lemmatised/NOUN/biggest_cities_30\\NOUN__katowice_turin__.pickle ../../../../data/enwiki_city_pairs_lemmatised/NOUN_SPACY_LARGE/biggest_cities_30\\NOUN__katowice_turin__.pickle\n",
      "\n",
      "288 ../../../../data/enwiki_city_pairs_lemmatised/NOUN/biggest_cities_30\\NOUN__katowice_valencia__.pickle ../../../../data/enwiki_city_pairs_lemmatised/NOUN_SPACY_LARGE/biggest_cities_30\\NOUN__katowice_valencia__.pickle\n",
      "\n",
      "289 ../../../../data/enwiki_city_pairs_lemmatised/NOUN/biggest_cities_30\\NOUN__lisbon_brussels__.pickle ../../../../data/enwiki_city_pairs_lemmatised/NOUN_SPACY_LARGE/biggest_cities_30\\NOUN__lisbon_brussels__.pickle\n",
      "\n",
      "290 ../../../../data/enwiki_city_pairs_lemmatised/NOUN/biggest_cities_30\\NOUN__lisbon_cologne__.pickle ../../../../data/enwiki_city_pairs_lemmatised/NOUN_SPACY_LARGE/biggest_cities_30\\NOUN__lisbon_cologne__.pickle\n",
      "\n",
      "291 ../../../../data/enwiki_city_pairs_lemmatised/NOUN/biggest_cities_30\\NOUN__lisbon_copenhagen__.pickle ../../../../data/enwiki_city_pairs_lemmatised/NOUN_SPACY_LARGE/biggest_cities_30\\NOUN__lisbon_copenhagen__.pickle\n",
      "\n",
      "292 ../../../../data/enwiki_city_pairs_lemmatised/NOUN/biggest_cities_30\\NOUN__lisbon_frankfurt__.pickle ../../../../data/enwiki_city_pairs_lemmatised/NOUN_SPACY_LARGE/biggest_cities_30\\NOUN__lisbon_frankfurt__.pickle\n",
      "\n",
      "293 ../../../../data/enwiki_city_pairs_lemmatised/NOUN/biggest_cities_30\\NOUN__lisbon_glasgow__.pickle ../../../../data/enwiki_city_pairs_lemmatised/NOUN_SPACY_LARGE/biggest_cities_30\\NOUN__lisbon_glasgow__.pickle\n",
      "\n",
      "294 ../../../../data/enwiki_city_pairs_lemmatised/NOUN/biggest_cities_30\\NOUN__lisbon_lyon__.pickle ../../../../data/enwiki_city_pairs_lemmatised/NOUN_SPACY_LARGE/biggest_cities_30\\NOUN__lisbon_lyon__.pickle\n",
      "\n",
      "295 ../../../../data/enwiki_city_pairs_lemmatised/NOUN/biggest_cities_30\\NOUN__lisbon_prague__.pickle ../../../../data/enwiki_city_pairs_lemmatised/NOUN_SPACY_LARGE/biggest_cities_30\\NOUN__lisbon_prague__.pickle\n",
      "\n",
      "296 ../../../../data/enwiki_city_pairs_lemmatised/NOUN/biggest_cities_30\\NOUN__lisbon_stockholm__.pickle ../../../../data/enwiki_city_pairs_lemmatised/NOUN_SPACY_LARGE/biggest_cities_30\\NOUN__lisbon_stockholm__.pickle\n",
      "\n",
      "297 ../../../../data/enwiki_city_pairs_lemmatised/NOUN/biggest_cities_30\\NOUN__lisbon_turin__.pickle ../../../../data/enwiki_city_pairs_lemmatised/NOUN_SPACY_LARGE/biggest_cities_30\\NOUN__lisbon_turin__.pickle\n",
      "\n",
      "298 ../../../../data/enwiki_city_pairs_lemmatised/NOUN/biggest_cities_30\\NOUN__lisbon_valencia__.pickle ../../../../data/enwiki_city_pairs_lemmatised/NOUN_SPACY_LARGE/biggest_cities_30\\NOUN__lisbon_valencia__.pickle\n",
      "\n",
      "299 ../../../../data/enwiki_city_pairs_lemmatised/NOUN/biggest_cities_30\\NOUN__london_brussels__.pickle ../../../../data/enwiki_city_pairs_lemmatised/NOUN_SPACY_LARGE/biggest_cities_30\\NOUN__london_brussels__.pickle\n",
      "\n",
      "300 ../../../../data/enwiki_city_pairs_lemmatised/NOUN/biggest_cities_30\\NOUN__london_cologne__.pickle ../../../../data/enwiki_city_pairs_lemmatised/NOUN_SPACY_LARGE/biggest_cities_30\\NOUN__london_cologne__.pickle\n",
      "\n",
      "301 ../../../../data/enwiki_city_pairs_lemmatised/NOUN/biggest_cities_30\\NOUN__london_copenhagen__.pickle ../../../../data/enwiki_city_pairs_lemmatised/NOUN_SPACY_LARGE/biggest_cities_30\\NOUN__london_copenhagen__.pickle\n",
      "\n",
      "302 ../../../../data/enwiki_city_pairs_lemmatised/NOUN/biggest_cities_30\\NOUN__london_frankfurt__.pickle ../../../../data/enwiki_city_pairs_lemmatised/NOUN_SPACY_LARGE/biggest_cities_30\\NOUN__london_frankfurt__.pickle\n",
      "\n",
      "303 ../../../../data/enwiki_city_pairs_lemmatised/NOUN/biggest_cities_30\\NOUN__london_glasgow__.pickle ../../../../data/enwiki_city_pairs_lemmatised/NOUN_SPACY_LARGE/biggest_cities_30\\NOUN__london_glasgow__.pickle\n",
      "\n",
      "304 ../../../../data/enwiki_city_pairs_lemmatised/NOUN/biggest_cities_30\\NOUN__london_lyon__.pickle ../../../../data/enwiki_city_pairs_lemmatised/NOUN_SPACY_LARGE/biggest_cities_30\\NOUN__london_lyon__.pickle\n",
      "\n",
      "305 ../../../../data/enwiki_city_pairs_lemmatised/NOUN/biggest_cities_30\\NOUN__london_prague__.pickle ../../../../data/enwiki_city_pairs_lemmatised/NOUN_SPACY_LARGE/biggest_cities_30\\NOUN__london_prague__.pickle\n",
      "\n",
      "306 ../../../../data/enwiki_city_pairs_lemmatised/NOUN/biggest_cities_30\\NOUN__london_stockholm__.pickle ../../../../data/enwiki_city_pairs_lemmatised/NOUN_SPACY_LARGE/biggest_cities_30\\NOUN__london_stockholm__.pickle\n",
      "\n",
      "307 ../../../../data/enwiki_city_pairs_lemmatised/NOUN/biggest_cities_30\\NOUN__london_turin__.pickle ../../../../data/enwiki_city_pairs_lemmatised/NOUN_SPACY_LARGE/biggest_cities_30\\NOUN__london_turin__.pickle\n",
      "\n",
      "308 ../../../../data/enwiki_city_pairs_lemmatised/NOUN/biggest_cities_30\\NOUN__london_valencia__.pickle ../../../../data/enwiki_city_pairs_lemmatised/NOUN_SPACY_LARGE/biggest_cities_30\\NOUN__london_valencia__.pickle\n",
      "\n",
      "309 ../../../../data/enwiki_city_pairs_lemmatised/NOUN/biggest_cities_30\\NOUN__madrid_brussels__.pickle ../../../../data/enwiki_city_pairs_lemmatised/NOUN_SPACY_LARGE/biggest_cities_30\\NOUN__madrid_brussels__.pickle\n",
      "\n",
      "310 ../../../../data/enwiki_city_pairs_lemmatised/NOUN/biggest_cities_30\\NOUN__madrid_cologne__.pickle ../../../../data/enwiki_city_pairs_lemmatised/NOUN_SPACY_LARGE/biggest_cities_30\\NOUN__madrid_cologne__.pickle\n",
      "\n",
      "311 ../../../../data/enwiki_city_pairs_lemmatised/NOUN/biggest_cities_30\\NOUN__madrid_copenhagen__.pickle ../../../../data/enwiki_city_pairs_lemmatised/NOUN_SPACY_LARGE/biggest_cities_30\\NOUN__madrid_copenhagen__.pickle\n",
      "\n",
      "312 ../../../../data/enwiki_city_pairs_lemmatised/NOUN/biggest_cities_30\\NOUN__madrid_frankfurt__.pickle ../../../../data/enwiki_city_pairs_lemmatised/NOUN_SPACY_LARGE/biggest_cities_30\\NOUN__madrid_frankfurt__.pickle\n",
      "\n",
      "313 ../../../../data/enwiki_city_pairs_lemmatised/NOUN/biggest_cities_30\\NOUN__madrid_glasgow__.pickle ../../../../data/enwiki_city_pairs_lemmatised/NOUN_SPACY_LARGE/biggest_cities_30\\NOUN__madrid_glasgow__.pickle\n",
      "\n",
      "314 ../../../../data/enwiki_city_pairs_lemmatised/NOUN/biggest_cities_30\\NOUN__madrid_lyon__.pickle ../../../../data/enwiki_city_pairs_lemmatised/NOUN_SPACY_LARGE/biggest_cities_30\\NOUN__madrid_lyon__.pickle\n",
      "\n",
      "315 ../../../../data/enwiki_city_pairs_lemmatised/NOUN/biggest_cities_30\\NOUN__madrid_prague__.pickle ../../../../data/enwiki_city_pairs_lemmatised/NOUN_SPACY_LARGE/biggest_cities_30\\NOUN__madrid_prague__.pickle\n",
      "\n"
     ]
    },
    {
     "name": "stdout",
     "output_type": "stream",
     "text": [
      "316 ../../../../data/enwiki_city_pairs_lemmatised/NOUN/biggest_cities_30\\NOUN__madrid_stockholm__.pickle ../../../../data/enwiki_city_pairs_lemmatised/NOUN_SPACY_LARGE/biggest_cities_30\\NOUN__madrid_stockholm__.pickle\n",
      "\n",
      "317 ../../../../data/enwiki_city_pairs_lemmatised/NOUN/biggest_cities_30\\NOUN__madrid_turin__.pickle ../../../../data/enwiki_city_pairs_lemmatised/NOUN_SPACY_LARGE/biggest_cities_30\\NOUN__madrid_turin__.pickle\n",
      "\n",
      "318 ../../../../data/enwiki_city_pairs_lemmatised/NOUN/biggest_cities_30\\NOUN__madrid_valencia__.pickle ../../../../data/enwiki_city_pairs_lemmatised/NOUN_SPACY_LARGE/biggest_cities_30\\NOUN__madrid_valencia__.pickle\n",
      "\n",
      "319 ../../../../data/enwiki_city_pairs_lemmatised/NOUN/biggest_cities_30\\NOUN__manchester_brussels__.pickle ../../../../data/enwiki_city_pairs_lemmatised/NOUN_SPACY_LARGE/biggest_cities_30\\NOUN__manchester_brussels__.pickle\n",
      "\n",
      "320 ../../../../data/enwiki_city_pairs_lemmatised/NOUN/biggest_cities_30\\NOUN__manchester_cologne__.pickle ../../../../data/enwiki_city_pairs_lemmatised/NOUN_SPACY_LARGE/biggest_cities_30\\NOUN__manchester_cologne__.pickle\n",
      "\n",
      "321 ../../../../data/enwiki_city_pairs_lemmatised/NOUN/biggest_cities_30\\NOUN__manchester_copenhagen__.pickle ../../../../data/enwiki_city_pairs_lemmatised/NOUN_SPACY_LARGE/biggest_cities_30\\NOUN__manchester_copenhagen__.pickle\n",
      "\n",
      "322 ../../../../data/enwiki_city_pairs_lemmatised/NOUN/biggest_cities_30\\NOUN__manchester_frankfurt__.pickle ../../../../data/enwiki_city_pairs_lemmatised/NOUN_SPACY_LARGE/biggest_cities_30\\NOUN__manchester_frankfurt__.pickle\n",
      "\n",
      "323 ../../../../data/enwiki_city_pairs_lemmatised/NOUN/biggest_cities_30\\NOUN__manchester_glasgow__.pickle ../../../../data/enwiki_city_pairs_lemmatised/NOUN_SPACY_LARGE/biggest_cities_30\\NOUN__manchester_glasgow__.pickle\n",
      "\n",
      "324 ../../../../data/enwiki_city_pairs_lemmatised/NOUN/biggest_cities_30\\NOUN__manchester_lyon__.pickle ../../../../data/enwiki_city_pairs_lemmatised/NOUN_SPACY_LARGE/biggest_cities_30\\NOUN__manchester_lyon__.pickle\n",
      "\n",
      "325 ../../../../data/enwiki_city_pairs_lemmatised/NOUN/biggest_cities_30\\NOUN__manchester_prague__.pickle ../../../../data/enwiki_city_pairs_lemmatised/NOUN_SPACY_LARGE/biggest_cities_30\\NOUN__manchester_prague__.pickle\n",
      "\n",
      "326 ../../../../data/enwiki_city_pairs_lemmatised/NOUN/biggest_cities_30\\NOUN__manchester_stockholm__.pickle ../../../../data/enwiki_city_pairs_lemmatised/NOUN_SPACY_LARGE/biggest_cities_30\\NOUN__manchester_stockholm__.pickle\n",
      "\n",
      "327 ../../../../data/enwiki_city_pairs_lemmatised/NOUN/biggest_cities_30\\NOUN__manchester_turin__.pickle ../../../../data/enwiki_city_pairs_lemmatised/NOUN_SPACY_LARGE/biggest_cities_30\\NOUN__manchester_turin__.pickle\n",
      "\n",
      "328 ../../../../data/enwiki_city_pairs_lemmatised/NOUN/biggest_cities_30\\NOUN__manchester_valencia__.pickle ../../../../data/enwiki_city_pairs_lemmatised/NOUN_SPACY_LARGE/biggest_cities_30\\NOUN__manchester_valencia__.pickle\n",
      "\n",
      "329 ../../../../data/enwiki_city_pairs_lemmatised/NOUN/biggest_cities_30\\NOUN__milan_brussels__.pickle ../../../../data/enwiki_city_pairs_lemmatised/NOUN_SPACY_LARGE/biggest_cities_30\\NOUN__milan_brussels__.pickle\n",
      "\n",
      "330 ../../../../data/enwiki_city_pairs_lemmatised/NOUN/biggest_cities_30\\NOUN__milan_cologne__.pickle ../../../../data/enwiki_city_pairs_lemmatised/NOUN_SPACY_LARGE/biggest_cities_30\\NOUN__milan_cologne__.pickle\n",
      "\n",
      "331 ../../../../data/enwiki_city_pairs_lemmatised/NOUN/biggest_cities_30\\NOUN__milan_copenhagen__.pickle ../../../../data/enwiki_city_pairs_lemmatised/NOUN_SPACY_LARGE/biggest_cities_30\\NOUN__milan_copenhagen__.pickle\n",
      "\n",
      "332 ../../../../data/enwiki_city_pairs_lemmatised/NOUN/biggest_cities_30\\NOUN__milan_frankfurt__.pickle ../../../../data/enwiki_city_pairs_lemmatised/NOUN_SPACY_LARGE/biggest_cities_30\\NOUN__milan_frankfurt__.pickle\n",
      "\n",
      "333 ../../../../data/enwiki_city_pairs_lemmatised/NOUN/biggest_cities_30\\NOUN__milan_glasgow__.pickle ../../../../data/enwiki_city_pairs_lemmatised/NOUN_SPACY_LARGE/biggest_cities_30\\NOUN__milan_glasgow__.pickle\n",
      "\n",
      "334 ../../../../data/enwiki_city_pairs_lemmatised/NOUN/biggest_cities_30\\NOUN__milan_lyon__.pickle ../../../../data/enwiki_city_pairs_lemmatised/NOUN_SPACY_LARGE/biggest_cities_30\\NOUN__milan_lyon__.pickle\n",
      "\n",
      "335 ../../../../data/enwiki_city_pairs_lemmatised/NOUN/biggest_cities_30\\NOUN__milan_prague__.pickle ../../../../data/enwiki_city_pairs_lemmatised/NOUN_SPACY_LARGE/biggest_cities_30\\NOUN__milan_prague__.pickle\n",
      "\n",
      "336 ../../../../data/enwiki_city_pairs_lemmatised/NOUN/biggest_cities_30\\NOUN__milan_stockholm__.pickle ../../../../data/enwiki_city_pairs_lemmatised/NOUN_SPACY_LARGE/biggest_cities_30\\NOUN__milan_stockholm__.pickle\n",
      "\n",
      "337 ../../../../data/enwiki_city_pairs_lemmatised/NOUN/biggest_cities_30\\NOUN__milan_turin__.pickle ../../../../data/enwiki_city_pairs_lemmatised/NOUN_SPACY_LARGE/biggest_cities_30\\NOUN__milan_turin__.pickle\n",
      "\n",
      "338 ../../../../data/enwiki_city_pairs_lemmatised/NOUN/biggest_cities_30\\NOUN__milan_valencia__.pickle ../../../../data/enwiki_city_pairs_lemmatised/NOUN_SPACY_LARGE/biggest_cities_30\\NOUN__milan_valencia__.pickle\n",
      "\n",
      "339 ../../../../data/enwiki_city_pairs_lemmatised/NOUN/biggest_cities_30\\NOUN__munich_brussels__.pickle ../../../../data/enwiki_city_pairs_lemmatised/NOUN_SPACY_LARGE/biggest_cities_30\\NOUN__munich_brussels__.pickle\n",
      "\n",
      "340 ../../../../data/enwiki_city_pairs_lemmatised/NOUN/biggest_cities_30\\NOUN__munich_cologne__.pickle ../../../../data/enwiki_city_pairs_lemmatised/NOUN_SPACY_LARGE/biggest_cities_30\\NOUN__munich_cologne__.pickle\n",
      "\n",
      "341 ../../../../data/enwiki_city_pairs_lemmatised/NOUN/biggest_cities_30\\NOUN__munich_copenhagen__.pickle ../../../../data/enwiki_city_pairs_lemmatised/NOUN_SPACY_LARGE/biggest_cities_30\\NOUN__munich_copenhagen__.pickle\n",
      "\n",
      "342 ../../../../data/enwiki_city_pairs_lemmatised/NOUN/biggest_cities_30\\NOUN__munich_frankfurt__.pickle ../../../../data/enwiki_city_pairs_lemmatised/NOUN_SPACY_LARGE/biggest_cities_30\\NOUN__munich_frankfurt__.pickle\n",
      "\n",
      "343 ../../../../data/enwiki_city_pairs_lemmatised/NOUN/biggest_cities_30\\NOUN__munich_glasgow__.pickle ../../../../data/enwiki_city_pairs_lemmatised/NOUN_SPACY_LARGE/biggest_cities_30\\NOUN__munich_glasgow__.pickle\n",
      "\n",
      "344 ../../../../data/enwiki_city_pairs_lemmatised/NOUN/biggest_cities_30\\NOUN__munich_lyon__.pickle ../../../../data/enwiki_city_pairs_lemmatised/NOUN_SPACY_LARGE/biggest_cities_30\\NOUN__munich_lyon__.pickle\n",
      "\n",
      "345 ../../../../data/enwiki_city_pairs_lemmatised/NOUN/biggest_cities_30\\NOUN__munich_prague__.pickle ../../../../data/enwiki_city_pairs_lemmatised/NOUN_SPACY_LARGE/biggest_cities_30\\NOUN__munich_prague__.pickle\n",
      "\n",
      "346 ../../../../data/enwiki_city_pairs_lemmatised/NOUN/biggest_cities_30\\NOUN__munich_stockholm__.pickle ../../../../data/enwiki_city_pairs_lemmatised/NOUN_SPACY_LARGE/biggest_cities_30\\NOUN__munich_stockholm__.pickle\n",
      "\n",
      "347 ../../../../data/enwiki_city_pairs_lemmatised/NOUN/biggest_cities_30\\NOUN__munich_turin__.pickle ../../../../data/enwiki_city_pairs_lemmatised/NOUN_SPACY_LARGE/biggest_cities_30\\NOUN__munich_turin__.pickle\n",
      "\n",
      "348 ../../../../data/enwiki_city_pairs_lemmatised/NOUN/biggest_cities_30\\NOUN__munich_valencia__.pickle ../../../../data/enwiki_city_pairs_lemmatised/NOUN_SPACY_LARGE/biggest_cities_30\\NOUN__munich_valencia__.pickle\n",
      "\n",
      "349 ../../../../data/enwiki_city_pairs_lemmatised/NOUN/biggest_cities_30\\NOUN__naples_brussels__.pickle ../../../../data/enwiki_city_pairs_lemmatised/NOUN_SPACY_LARGE/biggest_cities_30\\NOUN__naples_brussels__.pickle\n",
      "\n",
      "350 ../../../../data/enwiki_city_pairs_lemmatised/NOUN/biggest_cities_30\\NOUN__naples_cologne__.pickle ../../../../data/enwiki_city_pairs_lemmatised/NOUN_SPACY_LARGE/biggest_cities_30\\NOUN__naples_cologne__.pickle\n",
      "\n",
      "351 ../../../../data/enwiki_city_pairs_lemmatised/NOUN/biggest_cities_30\\NOUN__naples_copenhagen__.pickle ../../../../data/enwiki_city_pairs_lemmatised/NOUN_SPACY_LARGE/biggest_cities_30\\NOUN__naples_copenhagen__.pickle\n",
      "\n",
      "352 ../../../../data/enwiki_city_pairs_lemmatised/NOUN/biggest_cities_30\\NOUN__naples_frankfurt__.pickle ../../../../data/enwiki_city_pairs_lemmatised/NOUN_SPACY_LARGE/biggest_cities_30\\NOUN__naples_frankfurt__.pickle\n",
      "\n",
      "353 ../../../../data/enwiki_city_pairs_lemmatised/NOUN/biggest_cities_30\\NOUN__naples_glasgow__.pickle ../../../../data/enwiki_city_pairs_lemmatised/NOUN_SPACY_LARGE/biggest_cities_30\\NOUN__naples_glasgow__.pickle\n",
      "\n",
      "354 ../../../../data/enwiki_city_pairs_lemmatised/NOUN/biggest_cities_30\\NOUN__naples_lyon__.pickle ../../../../data/enwiki_city_pairs_lemmatised/NOUN_SPACY_LARGE/biggest_cities_30\\NOUN__naples_lyon__.pickle\n",
      "\n",
      "355 ../../../../data/enwiki_city_pairs_lemmatised/NOUN/biggest_cities_30\\NOUN__naples_prague__.pickle ../../../../data/enwiki_city_pairs_lemmatised/NOUN_SPACY_LARGE/biggest_cities_30\\NOUN__naples_prague__.pickle\n",
      "\n",
      "356 ../../../../data/enwiki_city_pairs_lemmatised/NOUN/biggest_cities_30\\NOUN__naples_stockholm__.pickle ../../../../data/enwiki_city_pairs_lemmatised/NOUN_SPACY_LARGE/biggest_cities_30\\NOUN__naples_stockholm__.pickle\n",
      "\n"
     ]
    },
    {
     "name": "stdout",
     "output_type": "stream",
     "text": [
      "357 ../../../../data/enwiki_city_pairs_lemmatised/NOUN/biggest_cities_30\\NOUN__naples_turin__.pickle ../../../../data/enwiki_city_pairs_lemmatised/NOUN_SPACY_LARGE/biggest_cities_30\\NOUN__naples_turin__.pickle\n",
      "\n",
      "358 ../../../../data/enwiki_city_pairs_lemmatised/NOUN/biggest_cities_30\\NOUN__naples_valencia__.pickle ../../../../data/enwiki_city_pairs_lemmatised/NOUN_SPACY_LARGE/biggest_cities_30\\NOUN__naples_valencia__.pickle\n",
      "\n",
      "359 ../../../../data/enwiki_city_pairs_lemmatised/NOUN/biggest_cities_30\\NOUN__paris_brussels__.pickle ../../../../data/enwiki_city_pairs_lemmatised/NOUN_SPACY_LARGE/biggest_cities_30\\NOUN__paris_brussels__.pickle\n",
      "\n",
      "360 ../../../../data/enwiki_city_pairs_lemmatised/NOUN/biggest_cities_30\\NOUN__paris_cologne__.pickle ../../../../data/enwiki_city_pairs_lemmatised/NOUN_SPACY_LARGE/biggest_cities_30\\NOUN__paris_cologne__.pickle\n",
      "\n",
      "361 ../../../../data/enwiki_city_pairs_lemmatised/NOUN/biggest_cities_30\\NOUN__paris_copenhagen__.pickle ../../../../data/enwiki_city_pairs_lemmatised/NOUN_SPACY_LARGE/biggest_cities_30\\NOUN__paris_copenhagen__.pickle\n",
      "\n",
      "362 ../../../../data/enwiki_city_pairs_lemmatised/NOUN/biggest_cities_30\\NOUN__paris_frankfurt__.pickle ../../../../data/enwiki_city_pairs_lemmatised/NOUN_SPACY_LARGE/biggest_cities_30\\NOUN__paris_frankfurt__.pickle\n",
      "\n",
      "363 ../../../../data/enwiki_city_pairs_lemmatised/NOUN/biggest_cities_30\\NOUN__paris_glasgow__.pickle ../../../../data/enwiki_city_pairs_lemmatised/NOUN_SPACY_LARGE/biggest_cities_30\\NOUN__paris_glasgow__.pickle\n",
      "\n",
      "364 ../../../../data/enwiki_city_pairs_lemmatised/NOUN/biggest_cities_30\\NOUN__paris_lyon__.pickle ../../../../data/enwiki_city_pairs_lemmatised/NOUN_SPACY_LARGE/biggest_cities_30\\NOUN__paris_lyon__.pickle\n",
      "\n",
      "365 ../../../../data/enwiki_city_pairs_lemmatised/NOUN/biggest_cities_30\\NOUN__paris_prague__.pickle ../../../../data/enwiki_city_pairs_lemmatised/NOUN_SPACY_LARGE/biggest_cities_30\\NOUN__paris_prague__.pickle\n",
      "\n",
      "366 ../../../../data/enwiki_city_pairs_lemmatised/NOUN/biggest_cities_30\\NOUN__paris_stockholm__.pickle ../../../../data/enwiki_city_pairs_lemmatised/NOUN_SPACY_LARGE/biggest_cities_30\\NOUN__paris_stockholm__.pickle\n",
      "\n",
      "367 ../../../../data/enwiki_city_pairs_lemmatised/NOUN/biggest_cities_30\\NOUN__paris_turin__.pickle ../../../../data/enwiki_city_pairs_lemmatised/NOUN_SPACY_LARGE/biggest_cities_30\\NOUN__paris_turin__.pickle\n",
      "\n",
      "368 ../../../../data/enwiki_city_pairs_lemmatised/NOUN/biggest_cities_30\\NOUN__paris_valencia__.pickle ../../../../data/enwiki_city_pairs_lemmatised/NOUN_SPACY_LARGE/biggest_cities_30\\NOUN__paris_valencia__.pickle\n",
      "\n",
      "369 ../../../../data/enwiki_city_pairs_lemmatised/NOUN/biggest_cities_30\\NOUN__prague_lyon__.pickle ../../../../data/enwiki_city_pairs_lemmatised/NOUN_SPACY_LARGE/biggest_cities_30\\NOUN__prague_lyon__.pickle\n",
      "\n",
      "370 ../../../../data/enwiki_city_pairs_lemmatised/NOUN/biggest_cities_30\\NOUN__rome_brussels__.pickle ../../../../data/enwiki_city_pairs_lemmatised/NOUN_SPACY_LARGE/biggest_cities_30\\NOUN__rome_brussels__.pickle\n",
      "\n",
      "371 ../../../../data/enwiki_city_pairs_lemmatised/NOUN/biggest_cities_30\\NOUN__rome_cologne__.pickle ../../../../data/enwiki_city_pairs_lemmatised/NOUN_SPACY_LARGE/biggest_cities_30\\NOUN__rome_cologne__.pickle\n",
      "\n",
      "372 ../../../../data/enwiki_city_pairs_lemmatised/NOUN/biggest_cities_30\\NOUN__rome_copenhagen__.pickle ../../../../data/enwiki_city_pairs_lemmatised/NOUN_SPACY_LARGE/biggest_cities_30\\NOUN__rome_copenhagen__.pickle\n",
      "\n",
      "373 ../../../../data/enwiki_city_pairs_lemmatised/NOUN/biggest_cities_30\\NOUN__rome_frankfurt__.pickle ../../../../data/enwiki_city_pairs_lemmatised/NOUN_SPACY_LARGE/biggest_cities_30\\NOUN__rome_frankfurt__.pickle\n",
      "\n",
      "374 ../../../../data/enwiki_city_pairs_lemmatised/NOUN/biggest_cities_30\\NOUN__rome_glasgow__.pickle ../../../../data/enwiki_city_pairs_lemmatised/NOUN_SPACY_LARGE/biggest_cities_30\\NOUN__rome_glasgow__.pickle\n",
      "\n",
      "375 ../../../../data/enwiki_city_pairs_lemmatised/NOUN/biggest_cities_30\\NOUN__rome_lyon__.pickle ../../../../data/enwiki_city_pairs_lemmatised/NOUN_SPACY_LARGE/biggest_cities_30\\NOUN__rome_lyon__.pickle\n",
      "\n",
      "376 ../../../../data/enwiki_city_pairs_lemmatised/NOUN/biggest_cities_30\\NOUN__rome_prague__.pickle ../../../../data/enwiki_city_pairs_lemmatised/NOUN_SPACY_LARGE/biggest_cities_30\\NOUN__rome_prague__.pickle\n",
      "\n",
      "377 ../../../../data/enwiki_city_pairs_lemmatised/NOUN/biggest_cities_30\\NOUN__rome_stockholm__.pickle ../../../../data/enwiki_city_pairs_lemmatised/NOUN_SPACY_LARGE/biggest_cities_30\\NOUN__rome_stockholm__.pickle\n",
      "\n",
      "378 ../../../../data/enwiki_city_pairs_lemmatised/NOUN/biggest_cities_30\\NOUN__rome_turin__.pickle ../../../../data/enwiki_city_pairs_lemmatised/NOUN_SPACY_LARGE/biggest_cities_30\\NOUN__rome_turin__.pickle\n",
      "\n",
      "379 ../../../../data/enwiki_city_pairs_lemmatised/NOUN/biggest_cities_30\\NOUN__rome_valencia__.pickle ../../../../data/enwiki_city_pairs_lemmatised/NOUN_SPACY_LARGE/biggest_cities_30\\NOUN__rome_valencia__.pickle\n",
      "\n",
      "380 ../../../../data/enwiki_city_pairs_lemmatised/NOUN/biggest_cities_30\\NOUN__stockholm_cologne__.pickle ../../../../data/enwiki_city_pairs_lemmatised/NOUN_SPACY_LARGE/biggest_cities_30\\NOUN__stockholm_cologne__.pickle\n",
      "\n",
      "381 ../../../../data/enwiki_city_pairs_lemmatised/NOUN/biggest_cities_30\\NOUN__stockholm_copenhagen__.pickle ../../../../data/enwiki_city_pairs_lemmatised/NOUN_SPACY_LARGE/biggest_cities_30\\NOUN__stockholm_copenhagen__.pickle\n",
      "\n",
      "382 ../../../../data/enwiki_city_pairs_lemmatised/NOUN/biggest_cities_30\\NOUN__stockholm_frankfurt__.pickle ../../../../data/enwiki_city_pairs_lemmatised/NOUN_SPACY_LARGE/biggest_cities_30\\NOUN__stockholm_frankfurt__.pickle\n",
      "\n",
      "383 ../../../../data/enwiki_city_pairs_lemmatised/NOUN/biggest_cities_30\\NOUN__stockholm_glasgow__.pickle ../../../../data/enwiki_city_pairs_lemmatised/NOUN_SPACY_LARGE/biggest_cities_30\\NOUN__stockholm_glasgow__.pickle\n",
      "\n",
      "384 ../../../../data/enwiki_city_pairs_lemmatised/NOUN/biggest_cities_30\\NOUN__stockholm_lyon__.pickle ../../../../data/enwiki_city_pairs_lemmatised/NOUN_SPACY_LARGE/biggest_cities_30\\NOUN__stockholm_lyon__.pickle\n",
      "\n",
      "385 ../../../../data/enwiki_city_pairs_lemmatised/NOUN/biggest_cities_30\\NOUN__stockholm_prague__.pickle ../../../../data/enwiki_city_pairs_lemmatised/NOUN_SPACY_LARGE/biggest_cities_30\\NOUN__stockholm_prague__.pickle\n",
      "\n",
      "386 ../../../../data/enwiki_city_pairs_lemmatised/NOUN/biggest_cities_30\\NOUN__stockholm_turin__.pickle ../../../../data/enwiki_city_pairs_lemmatised/NOUN_SPACY_LARGE/biggest_cities_30\\NOUN__stockholm_turin__.pickle\n",
      "\n",
      "387 ../../../../data/enwiki_city_pairs_lemmatised/NOUN/biggest_cities_30\\NOUN__stockholm_valencia__.pickle ../../../../data/enwiki_city_pairs_lemmatised/NOUN_SPACY_LARGE/biggest_cities_30\\NOUN__stockholm_valencia__.pickle\n",
      "\n",
      "388 ../../../../data/enwiki_city_pairs_lemmatised/NOUN/biggest_cities_30\\NOUN__stuttgart_brussels__.pickle ../../../../data/enwiki_city_pairs_lemmatised/NOUN_SPACY_LARGE/biggest_cities_30\\NOUN__stuttgart_brussels__.pickle\n",
      "\n",
      "389 ../../../../data/enwiki_city_pairs_lemmatised/NOUN/biggest_cities_30\\NOUN__stuttgart_cologne__.pickle ../../../../data/enwiki_city_pairs_lemmatised/NOUN_SPACY_LARGE/biggest_cities_30\\NOUN__stuttgart_cologne__.pickle\n",
      "\n",
      "390 ../../../../data/enwiki_city_pairs_lemmatised/NOUN/biggest_cities_30\\NOUN__stuttgart_copenhagen__.pickle ../../../../data/enwiki_city_pairs_lemmatised/NOUN_SPACY_LARGE/biggest_cities_30\\NOUN__stuttgart_copenhagen__.pickle\n",
      "\n",
      "391 ../../../../data/enwiki_city_pairs_lemmatised/NOUN/biggest_cities_30\\NOUN__stuttgart_frankfurt__.pickle ../../../../data/enwiki_city_pairs_lemmatised/NOUN_SPACY_LARGE/biggest_cities_30\\NOUN__stuttgart_frankfurt__.pickle\n",
      "\n",
      "392 ../../../../data/enwiki_city_pairs_lemmatised/NOUN/biggest_cities_30\\NOUN__stuttgart_glasgow__.pickle ../../../../data/enwiki_city_pairs_lemmatised/NOUN_SPACY_LARGE/biggest_cities_30\\NOUN__stuttgart_glasgow__.pickle\n",
      "\n",
      "393 ../../../../data/enwiki_city_pairs_lemmatised/NOUN/biggest_cities_30\\NOUN__stuttgart_lyon__.pickle ../../../../data/enwiki_city_pairs_lemmatised/NOUN_SPACY_LARGE/biggest_cities_30\\NOUN__stuttgart_lyon__.pickle\n",
      "\n",
      "394 ../../../../data/enwiki_city_pairs_lemmatised/NOUN/biggest_cities_30\\NOUN__stuttgart_prague__.pickle ../../../../data/enwiki_city_pairs_lemmatised/NOUN_SPACY_LARGE/biggest_cities_30\\NOUN__stuttgart_prague__.pickle\n",
      "\n",
      "395 ../../../../data/enwiki_city_pairs_lemmatised/NOUN/biggest_cities_30\\NOUN__stuttgart_stockholm__.pickle ../../../../data/enwiki_city_pairs_lemmatised/NOUN_SPACY_LARGE/biggest_cities_30\\NOUN__stuttgart_stockholm__.pickle\n",
      "\n",
      "396 ../../../../data/enwiki_city_pairs_lemmatised/NOUN/biggest_cities_30\\NOUN__stuttgart_turin__.pickle ../../../../data/enwiki_city_pairs_lemmatised/NOUN_SPACY_LARGE/biggest_cities_30\\NOUN__stuttgart_turin__.pickle\n",
      "\n",
      "397 ../../../../data/enwiki_city_pairs_lemmatised/NOUN/biggest_cities_30\\NOUN__stuttgart_valencia__.pickle ../../../../data/enwiki_city_pairs_lemmatised/NOUN_SPACY_LARGE/biggest_cities_30\\NOUN__stuttgart_valencia__.pickle\n",
      "\n",
      "398 ../../../../data/enwiki_city_pairs_lemmatised/NOUN/biggest_cities_30\\NOUN__turin_glasgow__.pickle ../../../../data/enwiki_city_pairs_lemmatised/NOUN_SPACY_LARGE/biggest_cities_30\\NOUN__turin_glasgow__.pickle\n",
      "\n",
      "399 ../../../../data/enwiki_city_pairs_lemmatised/NOUN/biggest_cities_30\\NOUN__turin_lyon__.pickle ../../../../data/enwiki_city_pairs_lemmatised/NOUN_SPACY_LARGE/biggest_cities_30\\NOUN__turin_lyon__.pickle\n",
      "\n"
     ]
    },
    {
     "name": "stdout",
     "output_type": "stream",
     "text": [
      "400 ../../../../data/enwiki_city_pairs_lemmatised/NOUN/biggest_cities_30\\NOUN__turin_prague__.pickle ../../../../data/enwiki_city_pairs_lemmatised/NOUN_SPACY_LARGE/biggest_cities_30\\NOUN__turin_prague__.pickle\n",
      "\n",
      "401 ../../../../data/enwiki_city_pairs_lemmatised/NOUN/biggest_cities_30\\NOUN__valencia_glasgow__.pickle ../../../../data/enwiki_city_pairs_lemmatised/NOUN_SPACY_LARGE/biggest_cities_30\\NOUN__valencia_glasgow__.pickle\n",
      "\n",
      "402 ../../../../data/enwiki_city_pairs_lemmatised/NOUN/biggest_cities_30\\NOUN__valencia_lyon__.pickle ../../../../data/enwiki_city_pairs_lemmatised/NOUN_SPACY_LARGE/biggest_cities_30\\NOUN__valencia_lyon__.pickle\n",
      "\n",
      "403 ../../../../data/enwiki_city_pairs_lemmatised/NOUN/biggest_cities_30\\NOUN__valencia_prague__.pickle ../../../../data/enwiki_city_pairs_lemmatised/NOUN_SPACY_LARGE/biggest_cities_30\\NOUN__valencia_prague__.pickle\n",
      "\n",
      "404 ../../../../data/enwiki_city_pairs_lemmatised/NOUN/biggest_cities_30\\NOUN__valencia_turin__.pickle ../../../../data/enwiki_city_pairs_lemmatised/NOUN_SPACY_LARGE/biggest_cities_30\\NOUN__valencia_turin__.pickle\n",
      "\n",
      "405 ../../../../data/enwiki_city_pairs_lemmatised/NOUN/biggest_cities_30\\NOUN__vienna_brussels__.pickle ../../../../data/enwiki_city_pairs_lemmatised/NOUN_SPACY_LARGE/biggest_cities_30\\NOUN__vienna_brussels__.pickle\n",
      "\n",
      "406 ../../../../data/enwiki_city_pairs_lemmatised/NOUN/biggest_cities_30\\NOUN__vienna_cologne__.pickle ../../../../data/enwiki_city_pairs_lemmatised/NOUN_SPACY_LARGE/biggest_cities_30\\NOUN__vienna_cologne__.pickle\n",
      "\n",
      "407 ../../../../data/enwiki_city_pairs_lemmatised/NOUN/biggest_cities_30\\NOUN__vienna_copenhagen__.pickle ../../../../data/enwiki_city_pairs_lemmatised/NOUN_SPACY_LARGE/biggest_cities_30\\NOUN__vienna_copenhagen__.pickle\n",
      "\n",
      "408 ../../../../data/enwiki_city_pairs_lemmatised/NOUN/biggest_cities_30\\NOUN__vienna_frankfurt__.pickle ../../../../data/enwiki_city_pairs_lemmatised/NOUN_SPACY_LARGE/biggest_cities_30\\NOUN__vienna_frankfurt__.pickle\n",
      "\n",
      "409 ../../../../data/enwiki_city_pairs_lemmatised/NOUN/biggest_cities_30\\NOUN__vienna_glasgow__.pickle ../../../../data/enwiki_city_pairs_lemmatised/NOUN_SPACY_LARGE/biggest_cities_30\\NOUN__vienna_glasgow__.pickle\n",
      "\n",
      "410 ../../../../data/enwiki_city_pairs_lemmatised/NOUN/biggest_cities_30\\NOUN__vienna_lyon__.pickle ../../../../data/enwiki_city_pairs_lemmatised/NOUN_SPACY_LARGE/biggest_cities_30\\NOUN__vienna_lyon__.pickle\n",
      "\n",
      "411 ../../../../data/enwiki_city_pairs_lemmatised/NOUN/biggest_cities_30\\NOUN__vienna_prague__.pickle ../../../../data/enwiki_city_pairs_lemmatised/NOUN_SPACY_LARGE/biggest_cities_30\\NOUN__vienna_prague__.pickle\n",
      "\n",
      "412 ../../../../data/enwiki_city_pairs_lemmatised/NOUN/biggest_cities_30\\NOUN__vienna_stockholm__.pickle ../../../../data/enwiki_city_pairs_lemmatised/NOUN_SPACY_LARGE/biggest_cities_30\\NOUN__vienna_stockholm__.pickle\n",
      "\n",
      "413 ../../../../data/enwiki_city_pairs_lemmatised/NOUN/biggest_cities_30\\NOUN__vienna_turin__.pickle ../../../../data/enwiki_city_pairs_lemmatised/NOUN_SPACY_LARGE/biggest_cities_30\\NOUN__vienna_turin__.pickle\n",
      "\n",
      "414 ../../../../data/enwiki_city_pairs_lemmatised/NOUN/biggest_cities_30\\NOUN__vienna_valencia__.pickle ../../../../data/enwiki_city_pairs_lemmatised/NOUN_SPACY_LARGE/biggest_cities_30\\NOUN__vienna_valencia__.pickle\n",
      "\n",
      "415 ../../../../data/enwiki_city_pairs_lemmatised/NOUN/biggest_cities_30\\NOUN__warsaw_brussels__.pickle ../../../../data/enwiki_city_pairs_lemmatised/NOUN_SPACY_LARGE/biggest_cities_30\\NOUN__warsaw_brussels__.pickle\n",
      "\n",
      "416 ../../../../data/enwiki_city_pairs_lemmatised/NOUN/biggest_cities_30\\NOUN__warsaw_cologne__.pickle ../../../../data/enwiki_city_pairs_lemmatised/NOUN_SPACY_LARGE/biggest_cities_30\\NOUN__warsaw_cologne__.pickle\n",
      "\n",
      "417 ../../../../data/enwiki_city_pairs_lemmatised/NOUN/biggest_cities_30\\NOUN__warsaw_copenhagen__.pickle ../../../../data/enwiki_city_pairs_lemmatised/NOUN_SPACY_LARGE/biggest_cities_30\\NOUN__warsaw_copenhagen__.pickle\n",
      "\n",
      "418 ../../../../data/enwiki_city_pairs_lemmatised/NOUN/biggest_cities_30\\NOUN__warsaw_frankfurt__.pickle ../../../../data/enwiki_city_pairs_lemmatised/NOUN_SPACY_LARGE/biggest_cities_30\\NOUN__warsaw_frankfurt__.pickle\n",
      "\n",
      "419 ../../../../data/enwiki_city_pairs_lemmatised/NOUN/biggest_cities_30\\NOUN__warsaw_glasgow__.pickle ../../../../data/enwiki_city_pairs_lemmatised/NOUN_SPACY_LARGE/biggest_cities_30\\NOUN__warsaw_glasgow__.pickle\n",
      "\n",
      "420 ../../../../data/enwiki_city_pairs_lemmatised/NOUN/biggest_cities_30\\NOUN__warsaw_lyon__.pickle ../../../../data/enwiki_city_pairs_lemmatised/NOUN_SPACY_LARGE/biggest_cities_30\\NOUN__warsaw_lyon__.pickle\n",
      "\n",
      "421 ../../../../data/enwiki_city_pairs_lemmatised/NOUN/biggest_cities_30\\NOUN__warsaw_prague__.pickle ../../../../data/enwiki_city_pairs_lemmatised/NOUN_SPACY_LARGE/biggest_cities_30\\NOUN__warsaw_prague__.pickle\n",
      "\n",
      "422 ../../../../data/enwiki_city_pairs_lemmatised/NOUN/biggest_cities_30\\NOUN__warsaw_stockholm__.pickle ../../../../data/enwiki_city_pairs_lemmatised/NOUN_SPACY_LARGE/biggest_cities_30\\NOUN__warsaw_stockholm__.pickle\n",
      "\n",
      "423 ../../../../data/enwiki_city_pairs_lemmatised/NOUN/biggest_cities_30\\NOUN__warsaw_turin__.pickle ../../../../data/enwiki_city_pairs_lemmatised/NOUN_SPACY_LARGE/biggest_cities_30\\NOUN__warsaw_turin__.pickle\n",
      "\n",
      "424 ../../../../data/enwiki_city_pairs_lemmatised/NOUN/biggest_cities_30\\NOUN__warsaw_valencia__.pickle ../../../../data/enwiki_city_pairs_lemmatised/NOUN_SPACY_LARGE/biggest_cities_30\\NOUN__warsaw_valencia__.pickle\n",
      "\n",
      "425 ../../../../data/enwiki_city_pairs_lemmatised/NOUN/biggest_cities_5\\NOUN__berlin_milan__.pickle ../../../../data/enwiki_city_pairs_lemmatised/NOUN_SPACY_LARGE/biggest_cities_5\\NOUN__berlin_milan__.pickle\n",
      "\n",
      "426 ../../../../data/enwiki_city_pairs_lemmatised/NOUN/biggest_cities_5\\NOUN__london_berlin__.pickle ../../../../data/enwiki_city_pairs_lemmatised/NOUN_SPACY_LARGE/biggest_cities_5\\NOUN__london_berlin__.pickle\n",
      "\n",
      "427 ../../../../data/enwiki_city_pairs_lemmatised/NOUN/biggest_cities_5\\NOUN__london_madrid__.pickle ../../../../data/enwiki_city_pairs_lemmatised/NOUN_SPACY_LARGE/biggest_cities_5\\NOUN__london_madrid__.pickle\n",
      "\n",
      "428 ../../../../data/enwiki_city_pairs_lemmatised/NOUN/biggest_cities_5\\NOUN__london_milan__.pickle ../../../../data/enwiki_city_pairs_lemmatised/NOUN_SPACY_LARGE/biggest_cities_5\\NOUN__london_milan__.pickle\n",
      "\n",
      "429 ../../../../data/enwiki_city_pairs_lemmatised/NOUN/biggest_cities_5\\NOUN__madrid_berlin__.pickle ../../../../data/enwiki_city_pairs_lemmatised/NOUN_SPACY_LARGE/biggest_cities_5\\NOUN__madrid_berlin__.pickle\n",
      "\n",
      "430 ../../../../data/enwiki_city_pairs_lemmatised/NOUN/biggest_cities_5\\NOUN__madrid_milan__.pickle ../../../../data/enwiki_city_pairs_lemmatised/NOUN_SPACY_LARGE/biggest_cities_5\\NOUN__madrid_milan__.pickle\n",
      "\n",
      "431 ../../../../data/enwiki_city_pairs_lemmatised/NOUN/biggest_cities_5\\NOUN__paris_berlin__.pickle ../../../../data/enwiki_city_pairs_lemmatised/NOUN_SPACY_LARGE/biggest_cities_5\\NOUN__paris_berlin__.pickle\n",
      "\n",
      "432 ../../../../data/enwiki_city_pairs_lemmatised/NOUN/biggest_cities_5\\NOUN__paris_london__.pickle ../../../../data/enwiki_city_pairs_lemmatised/NOUN_SPACY_LARGE/biggest_cities_5\\NOUN__paris_london__.pickle\n",
      "\n",
      "433 ../../../../data/enwiki_city_pairs_lemmatised/NOUN/biggest_cities_5\\NOUN__paris_madrid__.pickle ../../../../data/enwiki_city_pairs_lemmatised/NOUN_SPACY_LARGE/biggest_cities_5\\NOUN__paris_madrid__.pickle\n",
      "\n",
      "434 ../../../../data/enwiki_city_pairs_lemmatised/NOUN/biggest_cities_5\\NOUN__paris_milan__.pickle ../../../../data/enwiki_city_pairs_lemmatised/NOUN_SPACY_LARGE/biggest_cities_5\\NOUN__paris_milan__.pickle\n",
      "\n"
     ]
    }
   ],
   "source": [
    "PATH_SPACY_SM = \"../../../../data/enwiki_city_pairs_lemmatised/NOUN/\"\n",
    "PATH_SPACY_LG = \"../../../../data/enwiki_city_pairs_lemmatised/NOUN_SPACY_LARGE/\"\n",
    "# PATH_SPACY_LG_REAL_WORDS = \"../../../../data/enwiki_city_pairs_lemmatised/VERB_SPACY_LARGE_REAL_WORDS/\"\n",
    "PATHS = [PATH_SPACY_SM, PATH_SPACY_LG]\n",
    "\n",
    "lemmatised_words = compare_lemmatisation_results(PATHS=PATHS)"
   ]
  },
  {
   "cell_type": "markdown",
   "id": "b020d484",
   "metadata": {},
   "source": [
    "## 2.3 VERBS & NOUNS"
   ]
  },
  {
   "cell_type": "code",
   "execution_count": 174,
   "id": "fcf60aac",
   "metadata": {},
   "outputs": [],
   "source": [
    "# PATH_SPACY_SM = \"../../../../data/enwiki_city_pairs_lemmatised/VERBNOUN/\"\n",
    "PATH_SPACY_LG = \"../../../../data/enwiki_city_pairs_lemmatised/VERBNOUN_SPACY_LARGE/\"\n",
    "PATH_SPACY_LG_REAL_WORDS = \"../../../../data/enwiki_city_pairs_lemmatised/VERBNOUN_SPACY_LARGE_REAL_WORDS/\"\n",
    "PATHS = [PATH_SPACY_LG, PATH_SPACY_LG_REAL_WORDS]\n",
    "\n",
    "lemmatised_words = compare_lemmatisation_results(PATHS=PATHS)"
   ]
  },
  {
   "cell_type": "code",
   "execution_count": 184,
   "id": "15f27ce7",
   "metadata": {},
   "outputs": [],
   "source": [
    "# lemmatised_words[430]['wordlists'][1]"
   ]
  },
  {
   "cell_type": "code",
   "execution_count": 117,
   "id": "3fbf12d9",
   "metadata": {},
   "outputs": [
    {
     "name": "stdout",
     "output_type": "stream",
     "text": [
      "903\n",
      "864\n",
      "856\n"
     ]
    }
   ],
   "source": [
    "for x in lemmatised_words[0]['wordlists']:\n",
    "    print(len(x))"
   ]
  },
  {
   "cell_type": "code",
   "execution_count": 96,
   "id": "fb6ffff8",
   "metadata": {},
   "outputs": [
    {
     "name": "stderr",
     "output_type": "stream",
     "text": [
      "[nltk_data] Downloading package wordnet to\n",
      "[nltk_data]     C:\\Users\\deejay\\AppData\\Roaming\\nltk_data...\n",
      "[nltk_data]   Package wordnet is already up-to-date!\n",
      "[nltk_data] Downloading package omw-1.4 to\n",
      "[nltk_data]     C:\\Users\\deejay\\AppData\\Roaming\\nltk_data...\n",
      "[nltk_data]   Unzipping corpora\\omw-1.4.zip.\n"
     ]
    },
    {
     "data": {
      "text/plain": [
       "True"
      ]
     },
     "execution_count": 96,
     "metadata": {},
     "output_type": "execute_result"
    }
   ],
   "source": [
    "import nltk\n",
    "from nltk.corpus import wordnet as wn\n",
    "\n",
    "nltk.download('wordnet')\n",
    "nltk.download('omw-1.4')"
   ]
  },
  {
   "cell_type": "code",
   "execution_count": 185,
   "id": "c6b6f953",
   "metadata": {},
   "outputs": [],
   "source": [
    "words = ['amazing', 'interesting', 'love', 'great', 'nice']\n",
    "words = only_old\n",
    "pos_all = dict()\n",
    "for w in words:\n",
    "    pos_l = set()\n",
    "    for tmp in wn.synsets(w):\n",
    "        if tmp.name().split('.')[0] == w:\n",
    "            pos_l.add(tmp.pos())\n",
    "    pos_all[w] = pos_l\n",
    "# print(pos_all)"
   ]
  },
  {
   "cell_type": "code",
   "execution_count": 110,
   "id": "31de7ea6",
   "metadata": {},
   "outputs": [
    {
     "name": "stdout",
     "output_type": "stream",
     "text": [
      "{'disable': {'v'}, 'motorize': {'v'}, 'demoralize': {'v'}, 'overarch': {'v'}, 'tether': {'v'}, 'fledge': {'v'}, 'fray': {'v'}, 'deceive': {'v'}, 'adjoin': {'v'}, 'embattle': {'v'}, 'stimulate': {'v'}, 'annotate': {'v'}, 'forage': {'v'}, 'pressurize': {'v'}, 'localize': {'v'}}\n"
     ]
    }
   ],
   "source": [
    "# for k, v in pos_all.items():\n",
    "#     print(k, v)\n",
    "    \n",
    "l = {k:v for k,v in pos_all.items() if 'v' in v and len(v) == 1}\n",
    "print(l)"
   ]
  },
  {
   "cell_type": "code",
   "execution_count": 82,
   "id": "43db7177",
   "metadata": {},
   "outputs": [
    {
     "data": {
      "text/plain": [
       "'VERB__athens_birmingham__.pickle'"
      ]
     },
     "execution_count": 82,
     "metadata": {},
     "output_type": "execute_result"
    }
   ],
   "source": [
    "# l = ['ante', 'ante', 'brb']\n",
    "# l.clear('ante')\n",
    "os.path.basename(lemmatised_words[0][3])\n",
    "# os.path.basename(os.path.dirname(lemmatised_words[0][3])) # os.path.basename(\"VERB_SPACY_LARGE/biggest_cities_5\")"
   ]
  },
  {
   "cell_type": "code",
   "execution_count": 166,
   "id": "7aea2232",
   "metadata": {},
   "outputs": [
    {
     "name": "stdout",
     "output_type": "stream",
     "text": [
      "370105\n"
     ]
    }
   ],
   "source": [
    "with open(\"../../input/english_words_alpha_370k.txt\") as word_file:\n",
    "    english_words = set(word.strip().lower() for word in word_file)\n",
    "    print(len(english_words))\n",
    "\n",
    "def is_english_word(word):\n",
    "    return word.lower() in english_words\n",
    "\n",
    "def remove_non_existing_words(wordlist: list) -> list:\n",
    "    wordset = set(wordlist)\n",
    "    non_existent = []\n",
    "    \n",
    "    for word in wordset:\n",
    "        if not is_english_word(word):\n",
    "            non_existent.append(word)\n",
    "    print(non_existent)\n",
    "    return([word for word in wordlist if word not in non_existent])\n",
    "\n",
    "def set_operations(wordlist1, wordlist2):\n",
    "    set_operations = dict()\n",
    "    \n",
    "#     olddict = Counter(wordlist1)\n",
    "#     newdict = Counter(wordlist2)\n",
    "    \n",
    "    set_operations['wordlist1_len'] = len(wordlist1)\n",
    "    set_operations['wordlist2_len'] = len(wordlist2)\n",
    "    \n",
    "    set1 = set(wordlist1)\n",
    "    set2 = set(wordlist2)\n",
    "    \n",
    "    set_operations['set1_only'] = list(set1 - set2) # same as set1.difference(set2)\n",
    "    set_operations['set2_only'] = list(set2 - set1)\n",
    "    set_operations['union'] = set1.union(set2)\n",
    "    set_operations['intersect'] = set1.intersection(set2)\n",
    "    \n",
    "    return set_operations"
   ]
  },
  {
   "cell_type": "code",
   "execution_count": 182,
   "id": "cda4571c",
   "metadata": {},
   "outputs": [
    {
     "data": {
      "text/plain": [
       "['',\n",
       " 'shortfilmfestival',\n",
       " 'yili',\n",
       " 'concertgebouw',\n",
       " 'roermond',\n",
       " 'bc',\n",
       " 'peintre',\n",
       " 'víctor',\n",
       " 'f515253',\n",
       " '1960',\n",
       " 'jenufa',\n",
       " 'graece',\n",
       " 'patristique',\n",
       " 'trebizond',\n",
       " 'canford',\n",
       " 'bamajam',\n",
       " 'louvain',\n",
       " 'ato',\n",
       " 'defibulator',\n",
       " 'phd',\n",
       " 'brb',\n",
       " '1930',\n",
       " 'musiktheatertage',\n",
       " 'laskaridi',\n",
       " 'revolτ',\n",
       " '1970',\n",
       " 'klingler',\n",
       " 'dtb',\n",
       " 'debuut',\n",
       " 'riba',\n",
       " 'buitoni',\n",
       " '7th',\n",
       " 'panteion',\n",
       " '109',\n",
       " 'konzerthaus',\n",
       " 'semart',\n",
       " 'whiddon',\n",
       " '1950',\n",
       " 'panta',\n",
       " 'yallourn',\n",
       " '5a',\n",
       " 'carmichel',\n",
       " 'sherrington',\n",
       " '1890',\n",
       " '28th',\n",
       " 'oper',\n",
       " 'bubenreuth',\n",
       " 'arsakion',\n",
       " 'musique',\n",
       " 'bottlework',\n",
       " 't37',\n",
       " 'tahoe',\n",
       " 'megabus',\n",
       " 'underrotate',\n",
       " 'onstad',\n",
       " 'borciani',\n",
       " 'florabama',\n",
       " 'mukhamedovs',\n",
       " '19401967',\n",
       " 'tossitsion',\n",
       " 'bsc',\n",
       " 'perranporth',\n",
       " 'théâtre',\n",
       " 'sarrell',\n",
       " 'philharmonie',\n",
       " 'dromore',\n",
       " 'palaio',\n",
       " 'workplay',\n",
       " 'cng',\n",
       " 'antik',\n",
       " 'f51',\n",
       " 'papakonstantinou',\n",
       " 'keflezighi',\n",
       " 'konserthuset',\n",
       " 'poyet',\n",
       " 'athenς',\n",
       " 'gcse',\n",
       " 'meijer',\n",
       " 'p44',\n",
       " 'spetse',\n",
       " '3rd',\n",
       " 'moby',\n",
       " 'mukhamedov',\n",
       " 'bedale',\n",
       " 'šuker',\n",
       " 'balliol',\n",
       " 'apodemy',\n",
       " 'paralympic',\n",
       " 'bandmate',\n",
       " 'vrnjacka',\n",
       " 'sadler',\n",
       " 'pikramenou',\n",
       " 'majdanpek',\n",
       " 'callen',\n",
       " 'kitakyushu',\n",
       " 'miqne',\n",
       " 'f37',\n",
       " '1980',\n",
       " 'donahue',\n",
       " 'irek',\n",
       " 'botvinnik',\n",
       " 'sandridge',\n",
       " 'slamat',\n",
       " '1830',\n",
       " '83150',\n",
       " 'profil',\n",
       " 'burdine',\n",
       " 'neukoellner',\n",
       " 'ibf',\n",
       " 't38',\n",
       " 'epiphanius',\n",
       " 'trienal',\n",
       " 'monolyth',\n",
       " 'kaiti',\n",
       " 'lazaridis',\n",
       " 'bryer',\n",
       " '100']"
      ]
     },
     "execution_count": 182,
     "metadata": {},
     "output_type": "execute_result"
    }
   ],
   "source": [
    "w1, w2 = lemmatised_words[0]['wordlists']\n",
    "\n",
    "set_info = set_operations(w1, w2)\n",
    "set_info.keys()\n",
    "set_info['set1_only']"
   ]
  },
  {
   "cell_type": "code",
   "execution_count": null,
   "id": "0ddce7c8",
   "metadata": {},
   "outputs": [],
   "source": [
    "from collections import Counter\n",
    "from wordfreq import word_frequency\n",
    "from tqdm.notebook import tqdm\n",
    "\n",
    "print(\"files:\", len(lemmatised_words))\n",
    "print(\"old, new, union, intersect, only_old, only_new\")\n",
    "\n",
    "DIRECTORY = \"../../../../data/enwiki_city_pairs_lemmatised/VERBNOUN_SPACY_LARGE_REAL_WORDS/\"\n",
    "for x in tqdm(lemmatised_words, total=len(lemmatised_words)):\n",
    "#     olddict = Counter(x['wordlists'][0])\n",
    "#     newdict = Counter(x['wordlists'][1])\n",
    "    \n",
    "    # print(list(dict(sorted(newdict.items(), key=lambda item: item[1])).items())[:10])\n",
    "    \n",
    "    \n",
    "#     oldset = set(x[0])\n",
    "#     newset = set(x[1])\n",
    "    \n",
    "#     only_old = list(oldset - newset)\n",
    "#     only_new = list(newset - oldset)\n",
    "    \n",
    "#     union = oldset.union(newset)\n",
    "#     intersect = oldset.intersection(newset)\n",
    "#     y = list(newset - intersect)\n",
    "#     x = newset\n",
    "#     print(len(only_old), only_old)\n",
    "#     for x in only_old:\n",
    "#         print(x, olddict[x])\n",
    "        \n",
    "    #print(len(only_new), only_new)\n",
    "    \n",
    "#     unwanted = []\n",
    "    \n",
    "#     for word in newset:\n",
    "#         #wordfrequency = word_frequency(x, \"en\", wordlist='large', minimum=0.0)\n",
    "#         if not is_english_word(word):\n",
    "#             #print(word, newdict[word])\n",
    "#             unwanted.append(word)\n",
    "#     #print(unwanted)\n",
    "#     newlist = [word for word in x[1] if word not in unwanted]\n",
    "    #print('e', len(x[1]), len(newlist))\n",
    "    \n",
    "    filename = os.path.basename(x['old_path'])\n",
    "    batch = os.path.basename(os.path.dirname(x['old_path']))\n",
    "    \n",
    "#     if not os.path.exists(os.path.join(DIRECTORY, batch)):\n",
    "    os.makedirs(os.path.join(DIRECTORY, batch), exist_ok=True)\n",
    "        \n",
    "    cleaned_wordlist = remove_non_existing_words(x['wordlists'][-1])\n",
    "    \n",
    "    with open(os.path.join(DIRECTORY, batch, filename), 'wb') as fp:\n",
    "        pickle.dump(cleaned_wordlist, fp)\n",
    "        \n",
    "#         elif newdict[word] == 1:\n",
    "#             print(word)\n",
    "        #print(x, '-->', is_english_word(x))\n",
    "#         if wordfrequency == 0.0:\n",
    "            \n",
    "#             print('non existent', x, newdict[x], f\"Wordfrequency: {wordfrequency}\")\n",
    "#         else:\n",
    "#             pass\n",
    "            # print('exists', x, newdict[x], f\"Wordfrequency: {wordfrequency}\")\n",
    "        \n",
    "    # print({your_key: newdict[your_key] for your_key in only_new})\n",
    "#     x = x.union(intersect)\n",
    "#     print(\"{:<4} {:<4} {:<6} {:<10} {:<9} {:<5}\".format(len(oldset), len(newset), len(union), len(intersect), len(only_old), len(only_new)))"
   ]
  },
  {
   "cell_type": "code",
   "execution_count": null,
   "id": "0d977567",
   "metadata": {},
   "outputs": [],
   "source": []
  },
  {
   "cell_type": "code",
   "execution_count": null,
   "id": "c9dbe5ca",
   "metadata": {},
   "outputs": [],
   "source": []
  },
  {
   "cell_type": "markdown",
   "id": "e6d8fa2a",
   "metadata": {},
   "source": [
    "<hr>"
   ]
  },
  {
   "cell_type": "markdown",
   "id": "388407d0",
   "metadata": {},
   "source": [
    "# Lemmatize Single File"
   ]
  },
  {
   "cell_type": "code",
   "execution_count": null,
   "id": "9d430f64",
   "metadata": {},
   "outputs": [],
   "source": [
    "lemmatize_file(\"../../../../data/enwiki_city_pairs/biggest_cities_20/london_manchester.txt\",\n",
    "              \"../../../../data/test/,\n",
    "              'london_manchester', [\"VERB\"])\n",
    "#create_lemmatised_wordlists"
   ]
  },
  {
   "cell_type": "code",
   "execution_count": 186,
   "id": "12cfd447",
   "metadata": {},
   "outputs": [],
   "source": [
    "fpath = \"../../../../data/enwiki_city_pairs_lemmatised/VERB_SPACY_LARGE/biggest_cities_20/VERB__london_manchester__.pickle\"\n",
    "with open(fpath, 'rb') as fp:\n",
    "    d = pickle.load(fp)\n",
    "# d"
   ]
  },
  {
   "cell_type": "code",
   "execution_count": null,
   "id": "be500880",
   "metadata": {},
   "outputs": [],
   "source": [
    "FILE_PATH = \"../../../../data/enwiki_city_pairs/biggest_cities_20/london_manchester.txt\"\n",
    "POS = [\"VERB\"]\n",
    "\n",
    "with open(FILE_PATH, 'r', encoding='utf-16') as f:\n",
    "    city_pair_text_list = [x.strip().lower() for x in f.read().replace('\"', \"'\").replace('“', \"'\").replace('”', \"'\").split('\\n') if len(x) and 'title=' not in x]\n",
    "print(len(city_pair_text_list))\n",
    "\n",
    "nr_of_chunks = len(city_pair_text_list)//1000 + 1\n",
    "chunk_size = (len(city_pair_text_list)-1)//nr_of_chunks\n",
    "chunked_text = [' '.join(city_pair_text_list[offs:offs+chunk_size]) for offs in range(0, len(city_pair_text_list), chunk_size)]\n",
    "\n",
    "processed_text = [text for text in tqdm(nlp.pipe(chunked_text, n_process=2, batch_size=1, disable=[\"ner\", \"parser\"]), total=len(chunked_text))]\n",
    "lemmatized_text = [[word.lemma_ for word in text if word.pos_ in [\"VERB\"] and not word.is_punct and not word.is_stop] for text in processed_text]\n",
    "# [word.lemma_ for word in text if word.pos_ in [\"VERB\"] and not word.is_punct and not word.is_stop]\n",
    "# [word.lemma_ for word in processed_text if word.pos_ in [\"VERB\"] and not word.is_punct and not word.is_stop]\n",
    "regexed_text = [[re.sub(r'\\W+', '', word) for word in text] for text in lemmatized_text]\n",
    "flattened_words = [item for sublist in regexed_text for item in sublist]"
   ]
  },
  {
   "cell_type": "code",
   "execution_count": null,
   "id": "bcbde176",
   "metadata": {},
   "outputs": [],
   "source": [
    "# with open(FILE_PATH, 'r', encoding='utf-16') as f:\n",
    "#     city_pair_text_list = [x.strip().lower() for x in f.read().replace('\"', \"'\").replace('“', \"'\").replace('”', \"'\").split('\\n') if len(x) and 'title=' not in x]"
   ]
  },
  {
   "cell_type": "code",
   "execution_count": null,
   "id": "a477498b",
   "metadata": {},
   "outputs": [],
   "source": [
    "fulltext = ' '.join(city_pair_text_list[:int(len(city_pair_text_list)/6)])"
   ]
  },
  {
   "cell_type": "code",
   "execution_count": null,
   "id": "4eee2cfc",
   "metadata": {},
   "outputs": [],
   "source": [
    "l5 = [item for sublist in lemmatized_text for item in sublist]\n",
    "l5.count('liverpool')"
   ]
  },
  {
   "cell_type": "code",
   "execution_count": null,
   "id": "8be2d39e",
   "metadata": {},
   "outputs": [],
   "source": [
    "with open(\"../../../../data/test/VERB__london_manchester__3.pickle\", 'rb') as fp:\n",
    "    d = pickle.load(fp)\n",
    "d.count('liverpool')"
   ]
  },
  {
   "cell_type": "markdown",
   "id": "7ad43851",
   "metadata": {},
   "source": [
    "<hr>\n",
    "<hr>\n",
    "<hr>\n",
    "<hr>\n",
    "<hr>\n",
    "<hr>\n",
    "<hr>\n",
    "<hr>\n",
    "<!-- <br>\n",
    "<br>\n",
    "<br>\n",
    "<br>\n",
    "<br>\n",
    "<br> -->\n",
    "<div style=\"height: 500px;\"></div>"
   ]
  },
  {
   "cell_type": "code",
   "execution_count": null,
   "id": "03a66bac",
   "metadata": {},
   "outputs": [],
   "source": [
    "s = \"manchester united liverpool\"\n",
    "\n",
    "processed_text2 = nlp(' '.join(d))\n",
    "\n",
    "#lemmatized_text2 = [token.lemma_ for token in processed_text if token.pos_ in [\"VERB\"]] and not token.is_punct and not token.is_stop]\n",
    "# lemmatized_text2 = [[word.lemma_ for word in text if word.pos_ in [\"VERB\"] and not word.is_punct and not word.is_stop] for text in processed_text]\n",
    "#print(lemmatized_text)\n"
   ]
  },
  {
   "cell_type": "code",
   "execution_count": null,
   "id": "e9dce3dc",
   "metadata": {},
   "outputs": [],
   "source": [
    "processed_text2"
   ]
  },
  {
   "cell_type": "code",
   "execution_count": null,
   "id": "fb8c19ec",
   "metadata": {},
   "outputs": [],
   "source": [
    "processed_text"
   ]
  },
  {
   "cell_type": "code",
   "execution_count": null,
   "id": "d16d0b2e",
   "metadata": {},
   "outputs": [],
   "source": [
    "lemmatized_text2 = [token.lemma_ for token in processed_text2 if token.pos_ in [\"VERB\"] and not token.is_punct and not token.is_stop]\n",
    "lemmatized_text2.count('manchester')"
   ]
  },
  {
   "cell_type": "code",
   "execution_count": null,
   "id": "50719250",
   "metadata": {},
   "outputs": [],
   "source": [
    "processed_text = nlp(fulltext)"
   ]
  },
  {
   "cell_type": "code",
   "execution_count": null,
   "id": "f3f24101",
   "metadata": {},
   "outputs": [],
   "source": [
    "#lowertext = [x.lower() for x in processed_text]\n",
    "lemmatized_text3 = [word.lemma_ for word in processed_text if word.pos_ in [\"VERB\"] and not word.is_punct and not word.is_stop]\n",
    "regexed_text3 = [re.sub(r'\\W+', '', word) for word in lemmatized_text3]\n",
    "regexed_text3.count('manchester')"
   ]
  },
  {
   "cell_type": "code",
   "execution_count": null,
   "id": "5acf9c55",
   "metadata": {},
   "outputs": [],
   "source": [
    "processed_text3 = nlp(' '.join(lemmatized_text3))"
   ]
  },
  {
   "cell_type": "code",
   "execution_count": null,
   "id": "14e1d071",
   "metadata": {},
   "outputs": [],
   "source": [
    "lemmatized_text4 = [word.lemma_ for word in processed_text3 if word.pos_ in [\"VERB\"] and not word.is_punct and not word.is_stop]\n",
    "lemmatized_text4.count('manchester')"
   ]
  },
  {
   "cell_type": "code",
   "execution_count": null,
   "id": "c98424f8",
   "metadata": {},
   "outputs": [],
   "source": [
    "lemmatized_text3.count('manchester')"
   ]
  },
  {
   "cell_type": "code",
   "execution_count": null,
   "id": "1c9c9e97",
   "metadata": {},
   "outputs": [],
   "source": [
    "txt = \"spectacle that included a few scenes from their self-written mini-operetta \"the girl with the golden hair\". the concert attracted immense media attention from across europe and australia. they continued the tour through western europe, visiting gothenburg, copenhagen, berlin, cologne, amsterdam, antwerp, essen, hanover, and hamburg and ending with shows in the united kingdom in manchester, birmingham, glasgow and two sold-out concerts at london's royal albert hall. tickets for these two shows were available only by mail application and it was later revealed that the box-office received 3.5 million requests for tickets, enough to fill the venue 580 times. along with praise ('abba turn out to be amazingly successful at reproducing their records', wrot\"\n",
    "processed_txt = nlp(txt)\n",
    "lemmatized_text4 = [word.lemma_ for word in processed_txt if word.pos_ in [\"VERB\"] and not word.is_punct and not word.is_stop]\n",
    "lemmatized_text4.count('manchester')"
   ]
  },
  {
   "cell_type": "code",
   "execution_count": null,
   "id": "91a68be6",
   "metadata": {},
   "outputs": [],
   "source": [
    "d.count('liverpool')"
   ]
  },
  {
   "cell_type": "code",
   "execution_count": null,
   "id": "e7ced481",
   "metadata": {},
   "outputs": [],
   "source": [
    "lemmatized_text.count('liverpool')"
   ]
  },
  {
   "cell_type": "code",
   "execution_count": null,
   "id": "b3675daf",
   "metadata": {},
   "outputs": [],
   "source": [
    "#l6 = [item for sublist in lemmatized_text2 for item in sublist]\n",
    "#lemmatized_text2.count('manchester')\n",
    "lemmatized_text3.count('manchester')"
   ]
  },
  {
   "cell_type": "markdown",
   "id": "6986f65f",
   "metadata": {},
   "source": [
    "# Open Lemmatized words"
   ]
  },
  {
   "cell_type": "code",
   "execution_count": null,
   "id": "38556a12",
   "metadata": {},
   "outputs": [],
   "source": [
    "WORDLIST_LOCATION = '../../../../data/enwiki_city_pairs_nouns/'\n",
    "words = []\n",
    "city_pairs = []\n",
    "\n",
    "for root, dirs, files in os.walk(WORDLIST_LOCATION, topdown=True):\n",
    "    for name in files:\n",
    "        file_path = os.path.join(root, name)\n",
    "        \n",
    "        with open(file_path, 'rb') as fp:\n",
    "            words.append(pickle.load(fp))\n",
    "            city_pairs.append(name.split('__')[1])"
   ]
  },
  {
   "cell_type": "code",
   "execution_count": null,
   "id": "a3556382",
   "metadata": {},
   "outputs": [],
   "source": [
    "for idx, word in enumerate(words):\n",
    "    print(\"{:<3}\".format(idx+1), \"{:<7}\".format(len(word)),  city_pairs[idx])"
   ]
  },
  {
   "cell_type": "code",
   "execution_count": null,
   "id": "70645af5",
   "metadata": {},
   "outputs": [],
   "source": [
    "from collections import Counter\n",
    "\n",
    "Counter(words[10]).most_common(10)"
   ]
  },
  {
   "cell_type": "code",
   "execution_count": 164,
   "id": "1d8ec2f9",
   "metadata": {},
   "outputs": [],
   "source": [
    "\n",
    "for root, dirs, files in os.walk('../../../../data/enwiki_city_pairs_lemmatised/NOUN/', topdown=True):\n",
    "        for file in files:\n",
    "            path_name = os.path.join(root, file)\n",
    "            new_path_name = path_name.replace(\"NOUNS\", \"NOUN\")\n",
    "            os.rename(path_name, new_path_name)\n",
    "# for file in os.scandir():\n",
    "#     # print(file.path)\n",
    "#     filename = file.path\n",
    "#     #file = ''.join(filename.split('____________________________________________________________'))\n",
    "#     print(filename)\n",
    "#     #file = filename.replace('.pickle', '__.pickle')\n",
    "#     file = filename.replace('NOUNS___', 'NOUNS__')\n",
    "#     os.rename(filename, file)\n",
    "# #os.rename()"
   ]
  },
  {
   "cell_type": "code",
   "execution_count": null,
   "id": "a2312495",
   "metadata": {},
   "outputs": [],
   "source": []
  }
 ],
 "metadata": {
  "kernelspec": {
   "display_name": "Python 3 (ipykernel)",
   "language": "python",
   "name": "python3"
  },
  "language_info": {
   "codemirror_mode": {
    "name": "ipython",
    "version": 3
   },
   "file_extension": ".py",
   "mimetype": "text/x-python",
   "name": "python",
   "nbconvert_exporter": "python",
   "pygments_lexer": "ipython3",
   "version": "3.8.0"
  }
 },
 "nbformat": 4,
 "nbformat_minor": 5
}
