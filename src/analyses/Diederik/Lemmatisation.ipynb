{
 "cells": [
  {
   "cell_type": "code",
   "execution_count": 9,
   "id": "f02d2fae",
   "metadata": {},
   "outputs": [
    {
     "data": {
      "text/plain": [
       "['ner', 'parser']"
      ]
     },
     "execution_count": 9,
     "metadata": {},
     "output_type": "execute_result"
    }
   ],
   "source": [
    "import pickle\n",
    "import os \n",
    "from tqdm.notebook import tqdm\n",
    "import re\n",
    "import spacy\n",
    "\n",
    "nlp = spacy.load(\"en_core_web_sm\")\n",
    "nlp.max_length = 1500000\n",
    "nlp.disable_pipes('ner', 'parser')"
   ]
  },
  {
   "cell_type": "code",
   "execution_count": 10,
   "id": "3578f75e",
   "metadata": {},
   "outputs": [],
   "source": [
    "# !pip install spacy\n",
    "# !spacy download en_core_web_sm"
   ]
  },
  {
   "cell_type": "markdown",
   "id": "e40e3038",
   "metadata": {},
   "source": [
    "# Lemmatize Text Window (NOUNS)"
   ]
  },
  {
   "cell_type": "code",
   "execution_count": 18,
   "id": "80cc3843",
   "metadata": {
    "scrolled": true
   },
   "outputs": [
    {
     "data": {
      "application/vnd.jupyter.widget-view+json": {
       "model_id": "17af95e7787c413c9d20bd9c2579d40f",
       "version_major": 2,
       "version_minor": 0
      },
      "text/plain": [
       "Folders:   0%|          | 0/35 [00:00<?, ?it/s]"
      ]
     },
     "metadata": {},
     "output_type": "display_data"
    },
    {
     "name": "stdout",
     "output_type": "stream",
     "text": [
      "1 ../../../../data/enwiki_city_pairs/biggest_cities_10/athens_birmingham.txt\n",
      "115\n"
     ]
    },
    {
     "data": {
      "application/vnd.jupyter.widget-view+json": {
       "model_id": "b5e6c3acc44f4e4c8987497235fddb59",
       "version_major": 2,
       "version_minor": 0
      },
      "text/plain": [
       "  0%|          | 0/2 [00:00<?, ?it/s]"
      ]
     },
     "metadata": {},
     "output_type": "display_data"
    },
    {
     "name": "stdout",
     "output_type": "stream",
     "text": [
      "2 ../../../../data/enwiki_city_pairs/biggest_cities_10/athens_lisbon.txt\n",
      "137\n"
     ]
    },
    {
     "data": {
      "application/vnd.jupyter.widget-view+json": {
       "model_id": "37fbadac1df74e288f09625ac1fa1fcf",
       "version_major": 2,
       "version_minor": 0
      },
      "text/plain": [
       "  0%|          | 0/2 [00:00<?, ?it/s]"
      ]
     },
     "metadata": {},
     "output_type": "display_data"
    },
    {
     "name": "stdout",
     "output_type": "stream",
     "text": [
      "3 ../../../../data/enwiki_city_pairs/biggest_cities_10/athens_rome.txt\n",
      "1171\n"
     ]
    },
    {
     "data": {
      "application/vnd.jupyter.widget-view+json": {
       "model_id": "09ebbe3654e143758960ddbfc9da1198",
       "version_major": 2,
       "version_minor": 0
      },
      "text/plain": [
       "  0%|          | 0/3 [00:00<?, ?it/s]"
      ]
     },
     "metadata": {},
     "output_type": "display_data"
    },
    {
     "name": "stdout",
     "output_type": "stream",
     "text": [
      "4 ../../../../data/enwiki_city_pairs/biggest_cities_10/barcelona_athens.txt\n",
      "426\n"
     ]
    },
    {
     "data": {
      "application/vnd.jupyter.widget-view+json": {
       "model_id": "3b9de26c3fca4c009f6c74f1d4e452c7",
       "version_major": 2,
       "version_minor": 0
      },
      "text/plain": [
       "  0%|          | 0/2 [00:00<?, ?it/s]"
      ]
     },
     "metadata": {},
     "output_type": "display_data"
    },
    {
     "name": "stdout",
     "output_type": "stream",
     "text": [
      "5 ../../../../data/enwiki_city_pairs/biggest_cities_10/barcelona_birmingham.txt\n",
      "160\n"
     ]
    },
    {
     "data": {
      "application/vnd.jupyter.widget-view+json": {
       "model_id": "94ce04368af34b5d967f5e4ad6eae5bc",
       "version_major": 2,
       "version_minor": 0
      },
      "text/plain": [
       "  0%|          | 0/2 [00:00<?, ?it/s]"
      ]
     },
     "metadata": {},
     "output_type": "display_data"
    },
    {
     "name": "stdout",
     "output_type": "stream",
     "text": [
      "6 ../../../../data/enwiki_city_pairs/biggest_cities_10/barcelona_lisbon.txt\n",
      "412\n"
     ]
    },
    {
     "data": {
      "application/vnd.jupyter.widget-view+json": {
       "model_id": "2ad60129e62a4ac3b298aa248c726762",
       "version_major": 2,
       "version_minor": 0
      },
      "text/plain": [
       "  0%|          | 0/2 [00:00<?, ?it/s]"
      ]
     },
     "metadata": {},
     "output_type": "display_data"
    },
    {
     "name": "stdout",
     "output_type": "stream",
     "text": [
      "7 ../../../../data/enwiki_city_pairs/biggest_cities_10/barcelona_rome.txt\n",
      "828\n"
     ]
    },
    {
     "data": {
      "application/vnd.jupyter.widget-view+json": {
       "model_id": "c43a6e1eae1343d6bba077e34dd773ef",
       "version_major": 2,
       "version_minor": 0
      },
      "text/plain": [
       "  0%|          | 0/2 [00:00<?, ?it/s]"
      ]
     },
     "metadata": {},
     "output_type": "display_data"
    },
    {
     "name": "stdout",
     "output_type": "stream",
     "text": [
      "8 ../../../../data/enwiki_city_pairs/biggest_cities_10/berlin_athens.txt\n",
      "562\n"
     ]
    },
    {
     "data": {
      "application/vnd.jupyter.widget-view+json": {
       "model_id": "5161a38f7c0c4c16a323a41da438642b",
       "version_major": 2,
       "version_minor": 0
      },
      "text/plain": [
       "  0%|          | 0/2 [00:00<?, ?it/s]"
      ]
     },
     "metadata": {},
     "output_type": "display_data"
    },
    {
     "name": "stdout",
     "output_type": "stream",
     "text": [
      "9 ../../../../data/enwiki_city_pairs/biggest_cities_10/berlin_barcelona.txt\n",
      "895\n"
     ]
    },
    {
     "data": {
      "application/vnd.jupyter.widget-view+json": {
       "model_id": "71f857af8df24ec0bc426d7b224a27f8",
       "version_major": 2,
       "version_minor": 0
      },
      "text/plain": [
       "  0%|          | 0/2 [00:00<?, ?it/s]"
      ]
     },
     "metadata": {},
     "output_type": "display_data"
    },
    {
     "name": "stdout",
     "output_type": "stream",
     "text": [
      "10 ../../../../data/enwiki_city_pairs/biggest_cities_10/berlin_birmingham.txt\n",
      "280\n"
     ]
    },
    {
     "data": {
      "application/vnd.jupyter.widget-view+json": {
       "model_id": "390d1b5b49454c16923b3fe6660fe359",
       "version_major": 2,
       "version_minor": 0
      },
      "text/plain": [
       "  0%|          | 0/2 [00:00<?, ?it/s]"
      ]
     },
     "metadata": {},
     "output_type": "display_data"
    },
    {
     "name": "stdout",
     "output_type": "stream",
     "text": [
      "11 ../../../../data/enwiki_city_pairs/biggest_cities_10/berlin_lisbon.txt\n",
      "419\n"
     ]
    },
    {
     "data": {
      "application/vnd.jupyter.widget-view+json": {
       "model_id": "4b7549617c824b388de1f14544565839",
       "version_major": 2,
       "version_minor": 0
      },
      "text/plain": [
       "  0%|          | 0/2 [00:00<?, ?it/s]"
      ]
     },
     "metadata": {},
     "output_type": "display_data"
    },
    {
     "name": "stdout",
     "output_type": "stream",
     "text": [
      "12 ../../../../data/enwiki_city_pairs/biggest_cities_10/berlin_rome.txt\n",
      "2138\n"
     ]
    },
    {
     "data": {
      "application/vnd.jupyter.widget-view+json": {
       "model_id": "cdc5cb692e76408a97ac84e111338a88",
       "version_major": 2,
       "version_minor": 0
      },
      "text/plain": [
       "  0%|          | 0/4 [00:00<?, ?it/s]"
      ]
     },
     "metadata": {},
     "output_type": "display_data"
    },
    {
     "name": "stdout",
     "output_type": "stream",
     "text": [
      "13 ../../../../data/enwiki_city_pairs/biggest_cities_10/birmingham_lisbon.txt\n",
      "35\n"
     ]
    },
    {
     "data": {
      "application/vnd.jupyter.widget-view+json": {
       "model_id": "ba64c16c74d04ba99f2d7cacd83aebbe",
       "version_major": 2,
       "version_minor": 0
      },
      "text/plain": [
       "  0%|          | 0/2 [00:00<?, ?it/s]"
      ]
     },
     "metadata": {},
     "output_type": "display_data"
    },
    {
     "name": "stdout",
     "output_type": "stream",
     "text": [
      "14 ../../../../data/enwiki_city_pairs/biggest_cities_10/london_athens.txt\n",
      "1649\n"
     ]
    },
    {
     "data": {
      "application/vnd.jupyter.widget-view+json": {
       "model_id": "8e9e72451fcd49c490334beac454b847",
       "version_major": 2,
       "version_minor": 0
      },
      "text/plain": [
       "  0%|          | 0/3 [00:00<?, ?it/s]"
      ]
     },
     "metadata": {},
     "output_type": "display_data"
    },
    {
     "name": "stdout",
     "output_type": "stream",
     "text": [
      "15 ../../../../data/enwiki_city_pairs/biggest_cities_10/london_barcelona.txt\n",
      "1756\n"
     ]
    },
    {
     "data": {
      "application/vnd.jupyter.widget-view+json": {
       "model_id": "8d7cc96054be499aa80a51442f842df9",
       "version_major": 2,
       "version_minor": 0
      },
      "text/plain": [
       "  0%|          | 0/3 [00:00<?, ?it/s]"
      ]
     },
     "metadata": {},
     "output_type": "display_data"
    },
    {
     "name": "stdout",
     "output_type": "stream",
     "text": [
      "16 ../../../../data/enwiki_city_pairs/biggest_cities_10/london_birmingham.txt\n",
      "7558\n"
     ]
    },
    {
     "data": {
      "application/vnd.jupyter.widget-view+json": {
       "model_id": "1f010e94b46d43118c53183752ea8dca",
       "version_major": 2,
       "version_minor": 0
      },
      "text/plain": [
       "  0%|          | 0/9 [00:00<?, ?it/s]"
      ]
     },
     "metadata": {},
     "output_type": "display_data"
    },
    {
     "name": "stdout",
     "output_type": "stream",
     "text": [
      "17 ../../../../data/enwiki_city_pairs/biggest_cities_10/london_lisbon.txt\n",
      "1090\n"
     ]
    },
    {
     "data": {
      "application/vnd.jupyter.widget-view+json": {
       "model_id": "7fd07201b6ee4cac91b52b4231a56cb6",
       "version_major": 2,
       "version_minor": 0
      },
      "text/plain": [
       "  0%|          | 0/3 [00:00<?, ?it/s]"
      ]
     },
     "metadata": {},
     "output_type": "display_data"
    },
    {
     "name": "stdout",
     "output_type": "stream",
     "text": [
      "18 ../../../../data/enwiki_city_pairs/biggest_cities_10/london_rome.txt\n",
      "4379\n"
     ]
    },
    {
     "data": {
      "application/vnd.jupyter.widget-view+json": {
       "model_id": "b635d6d5691143e385a5a234cb3cdefc",
       "version_major": 2,
       "version_minor": 0
      },
      "text/plain": [
       "  0%|          | 0/6 [00:00<?, ?it/s]"
      ]
     },
     "metadata": {},
     "output_type": "display_data"
    },
    {
     "name": "stdout",
     "output_type": "stream",
     "text": [
      "19 ../../../../data/enwiki_city_pairs/biggest_cities_10/madrid_athens.txt\n",
      "323\n"
     ]
    },
    {
     "data": {
      "application/vnd.jupyter.widget-view+json": {
       "model_id": "fc63d7edee104ea1b0abc35c96a13d52",
       "version_major": 2,
       "version_minor": 0
      },
      "text/plain": [
       "  0%|          | 0/2 [00:00<?, ?it/s]"
      ]
     },
     "metadata": {},
     "output_type": "display_data"
    },
    {
     "name": "stdout",
     "output_type": "stream",
     "text": [
      "20 ../../../../data/enwiki_city_pairs/biggest_cities_10/madrid_barcelona.txt\n",
      "5290\n"
     ]
    },
    {
     "data": {
      "application/vnd.jupyter.widget-view+json": {
       "model_id": "728de01ad2a64d6f97e1e44ac7e7da8f",
       "version_major": 2,
       "version_minor": 0
      },
      "text/plain": [
       "  0%|          | 0/7 [00:00<?, ?it/s]"
      ]
     },
     "metadata": {},
     "output_type": "display_data"
    },
    {
     "name": "stdout",
     "output_type": "stream",
     "text": [
      "21 ../../../../data/enwiki_city_pairs/biggest_cities_10/madrid_birmingham.txt\n",
      "105\n"
     ]
    },
    {
     "data": {
      "application/vnd.jupyter.widget-view+json": {
       "model_id": "77c8f0ea032b49debd19ad453f75353d",
       "version_major": 2,
       "version_minor": 0
      },
      "text/plain": [
       "  0%|          | 0/2 [00:00<?, ?it/s]"
      ]
     },
     "metadata": {},
     "output_type": "display_data"
    },
    {
     "name": "stdout",
     "output_type": "stream",
     "text": [
      "22 ../../../../data/enwiki_city_pairs/biggest_cities_10/madrid_lisbon.txt\n",
      "758\n"
     ]
    },
    {
     "data": {
      "application/vnd.jupyter.widget-view+json": {
       "model_id": "d10b32226b66452185b227a7ec39b345",
       "version_major": 2,
       "version_minor": 0
      },
      "text/plain": [
       "  0%|          | 0/2 [00:00<?, ?it/s]"
      ]
     },
     "metadata": {},
     "output_type": "display_data"
    },
    {
     "name": "stdout",
     "output_type": "stream",
     "text": [
      "23 ../../../../data/enwiki_city_pairs/biggest_cities_10/madrid_rome.txt\n",
      "1531\n"
     ]
    },
    {
     "data": {
      "application/vnd.jupyter.widget-view+json": {
       "model_id": "0751b025cabb43708eefce08cd9142bf",
       "version_major": 2,
       "version_minor": 0
      },
      "text/plain": [
       "  0%|          | 0/3 [00:00<?, ?it/s]"
      ]
     },
     "metadata": {},
     "output_type": "display_data"
    },
    {
     "name": "stdout",
     "output_type": "stream",
     "text": [
      "24 ../../../../data/enwiki_city_pairs/biggest_cities_10/milan_athens.txt\n",
      "280\n"
     ]
    },
    {
     "data": {
      "application/vnd.jupyter.widget-view+json": {
       "model_id": "bb98dbe9c9684b6a95a27974d318416b",
       "version_major": 2,
       "version_minor": 0
      },
      "text/plain": [
       "  0%|          | 0/2 [00:00<?, ?it/s]"
      ]
     },
     "metadata": {},
     "output_type": "display_data"
    },
    {
     "name": "stdout",
     "output_type": "stream",
     "text": [
      "25 ../../../../data/enwiki_city_pairs/biggest_cities_10/milan_barcelona.txt\n",
      "1068\n"
     ]
    },
    {
     "data": {
      "application/vnd.jupyter.widget-view+json": {
       "model_id": "2ced45b707a74781977eaa8d95c518d2",
       "version_major": 2,
       "version_minor": 0
      },
      "text/plain": [
       "  0%|          | 0/3 [00:00<?, ?it/s]"
      ]
     },
     "metadata": {},
     "output_type": "display_data"
    },
    {
     "name": "stdout",
     "output_type": "stream",
     "text": [
      "26 ../../../../data/enwiki_city_pairs/biggest_cities_10/milan_birmingham.txt\n",
      "113\n"
     ]
    },
    {
     "data": {
      "application/vnd.jupyter.widget-view+json": {
       "model_id": "948e3d45d2c34f6e9ce9190812bc7d21",
       "version_major": 2,
       "version_minor": 0
      },
      "text/plain": [
       "  0%|          | 0/2 [00:00<?, ?it/s]"
      ]
     },
     "metadata": {},
     "output_type": "display_data"
    },
    {
     "name": "stdout",
     "output_type": "stream",
     "text": [
      "27 ../../../../data/enwiki_city_pairs/biggest_cities_10/milan_lisbon.txt\n",
      "248\n"
     ]
    },
    {
     "data": {
      "application/vnd.jupyter.widget-view+json": {
       "model_id": "cc334017fa744150a1e10ddf78a0e09c",
       "version_major": 2,
       "version_minor": 0
      },
      "text/plain": [
       "  0%|          | 0/2 [00:00<?, ?it/s]"
      ]
     },
     "metadata": {},
     "output_type": "display_data"
    },
    {
     "name": "stdout",
     "output_type": "stream",
     "text": [
      "28 ../../../../data/enwiki_city_pairs/biggest_cities_10/milan_rome.txt\n",
      "3838\n"
     ]
    },
    {
     "data": {
      "application/vnd.jupyter.widget-view+json": {
       "model_id": "e2dd6de126344a31a903f1d484acb892",
       "version_major": 2,
       "version_minor": 0
      },
      "text/plain": [
       "  0%|          | 0/5 [00:00<?, ?it/s]"
      ]
     },
     "metadata": {},
     "output_type": "display_data"
    },
    {
     "name": "stdout",
     "output_type": "stream",
     "text": [
      "29 ../../../../data/enwiki_city_pairs/biggest_cities_10/paris_athens.txt\n",
      "1250\n"
     ]
    },
    {
     "data": {
      "application/vnd.jupyter.widget-view+json": {
       "model_id": "0833fe4694ba49ae8137601bbaabde23",
       "version_major": 2,
       "version_minor": 0
      },
      "text/plain": [
       "  0%|          | 0/3 [00:00<?, ?it/s]"
      ]
     },
     "metadata": {},
     "output_type": "display_data"
    },
    {
     "name": "stdout",
     "output_type": "stream",
     "text": [
      "30 ../../../../data/enwiki_city_pairs/biggest_cities_10/paris_barcelona.txt\n",
      "2401\n"
     ]
    },
    {
     "data": {
      "application/vnd.jupyter.widget-view+json": {
       "model_id": "0f6b7158fec7480fa02702fb4fb66bc4",
       "version_major": 2,
       "version_minor": 0
      },
      "text/plain": [
       "  0%|          | 0/4 [00:00<?, ?it/s]"
      ]
     },
     "metadata": {},
     "output_type": "display_data"
    },
    {
     "name": "stdout",
     "output_type": "stream",
     "text": [
      "31 ../../../../data/enwiki_city_pairs/biggest_cities_10/paris_birmingham.txt\n",
      "525\n"
     ]
    },
    {
     "data": {
      "application/vnd.jupyter.widget-view+json": {
       "model_id": "25492e03c2f842d880262c0fe5d8f807",
       "version_major": 2,
       "version_minor": 0
      },
      "text/plain": [
       "  0%|          | 0/2 [00:00<?, ?it/s]"
      ]
     },
     "metadata": {},
     "output_type": "display_data"
    },
    {
     "name": "stdout",
     "output_type": "stream",
     "text": [
      "32 ../../../../data/enwiki_city_pairs/biggest_cities_10/paris_lisbon.txt\n",
      "1070\n"
     ]
    },
    {
     "data": {
      "application/vnd.jupyter.widget-view+json": {
       "model_id": "1d3ccb9fd80343e08cfc2309188f6b21",
       "version_major": 2,
       "version_minor": 0
      },
      "text/plain": [
       "  0%|          | 0/3 [00:00<?, ?it/s]"
      ]
     },
     "metadata": {},
     "output_type": "display_data"
    },
    {
     "name": "stdout",
     "output_type": "stream",
     "text": [
      "33 ../../../../data/enwiki_city_pairs/biggest_cities_10/paris_rome.txt\n",
      "6826\n"
     ]
    },
    {
     "data": {
      "application/vnd.jupyter.widget-view+json": {
       "model_id": "b1dab44a5ec740b3b92fdf36f652ff8a",
       "version_major": 2,
       "version_minor": 0
      },
      "text/plain": [
       "  0%|          | 0/8 [00:00<?, ?it/s]"
      ]
     },
     "metadata": {},
     "output_type": "display_data"
    },
    {
     "name": "stdout",
     "output_type": "stream",
     "text": [
      "34 ../../../../data/enwiki_city_pairs/biggest_cities_10/rome_birmingham.txt\n",
      "154\n"
     ]
    },
    {
     "data": {
      "application/vnd.jupyter.widget-view+json": {
       "model_id": "f47c284dc27641de8a2223a21a4a75a8",
       "version_major": 2,
       "version_minor": 0
      },
      "text/plain": [
       "  0%|          | 0/2 [00:00<?, ?it/s]"
      ]
     },
     "metadata": {},
     "output_type": "display_data"
    },
    {
     "name": "stdout",
     "output_type": "stream",
     "text": [
      "35 ../../../../data/enwiki_city_pairs/biggest_cities_10/rome_lisbon.txt\n",
      "474\n"
     ]
    },
    {
     "data": {
      "application/vnd.jupyter.widget-view+json": {
       "model_id": "ec000685589747579a273b763c1e567c",
       "version_major": 2,
       "version_minor": 0
      },
      "text/plain": [
       "  0%|          | 0/2 [00:00<?, ?it/s]"
      ]
     },
     "metadata": {},
     "output_type": "display_data"
    }
   ],
   "source": [
    "city_pair_folder = \"../../../../data/enwiki_city_pairs/biggest_cities_10/\"\n",
    "OUTPUT_PATH = \"../../../../data/enwiki_city_pairs_nouns/biggest_cities_10/\"\n",
    "\n",
    "i = 0\n",
    "for file in tqdm(os.scandir(city_pair_folder), total=len(os.listdir(city_pair_folder)), leave=True, desc='Folders'): # tqdm(os.listdir(subfolder), total=len(os.listdir(subfolder)), leave=True, desc='Text Files'):                     \n",
    "    if not file.is_dir():\n",
    "        i += 1\n",
    "        print(i, file.path)\n",
    "        lemmatize_file(file.path, city_pair=file.name[:-4])"
   ]
  },
  {
   "cell_type": "code",
   "execution_count": 41,
   "id": "6c8ded0b",
   "metadata": {},
   "outputs": [],
   "source": [
    "def lemmatize_file(file_path, city_pair):\n",
    "    with open(file_path, 'r', encoding='utf-16') as f:\n",
    "        city_pair_text_list = [x.strip().lower() for x in f.read().split('\\n') if len(x) and 'title=' not in x]\n",
    "    print(len(city_pair_text_list))\n",
    "    \n",
    "    nr_of_chunks = len(city_pair_text_list)//1000 + 1\n",
    "    chunk_size = (len(city_pair_text_list)-1)//nr_of_chunks\n",
    "    chunked_text = [' '.join(city_pair_text_list[offs:offs+chunk_size]) for offs in range(0, len(city_pair_text_list), chunk_size)]\n",
    "    \n",
    "    processed_text = [text for text in tqdm(nlp.pipe(chunked_text, n_process=2, batch_size=1, disable=[\"ner\", \"parser\"]), total=len(chunked_text))]\n",
    "    lemmatized_text = [[word.lemma_ for word in text if word.pos_ == 'NOUN' and not word.is_punct and not word.is_stop] for text in processed_text]\n",
    "    regexed_text = [[re.sub(r'\\W+', '', word) for word in text] for text in lemmatized_text]\n",
    "    flattened_words = [item for sublist in regexed_text for item in sublist]\n",
    "    \n",
    "    with open(f'{OUTPUT_PATH}NOUNS__{city_pair}__.pickle', 'wb') as fp:\n",
    "        pickle.dump(flattened_words, fp)"
   ]
  },
  {
   "cell_type": "markdown",
   "id": "5ef27b9b",
   "metadata": {},
   "source": [
    "# Open Lemmatized words"
   ]
  },
  {
   "cell_type": "code",
   "execution_count": 39,
   "id": "65562266",
   "metadata": {},
   "outputs": [],
   "source": [
    "WORDLIST_LOCATION = '../../../../data/enwiki_city_pairs_nouns/'\n",
    "words = []\n",
    "city_pairs = []\n",
    "\n",
    "for root, dirs, files in os.walk(WORDLIST_LOCATION, topdown=True):\n",
    "    for name in files:\n",
    "        file_path = os.path.join(root, name)\n",
    "        \n",
    "        with open(file_path, 'rb') as fp:\n",
    "            words.append(pickle.load(fp))\n",
    "            city_pairs.append(name.split('__')[1])"
   ]
  },
  {
   "cell_type": "code",
   "execution_count": 63,
   "id": "70ae80a1",
   "metadata": {},
   "outputs": [
    {
     "name": "stdout",
     "output_type": "stream",
     "text": [
      "0   23298   berlin_milan\n",
      "1   182277  london_berlin\n",
      "2   55521   london_madrid\n",
      "3   59714   london_milan\n",
      "4   25128   madrid_berlin\n",
      "5   30082   madrid_milan\n",
      "6   187289  paris_berlin\n",
      "7   508714  paris_london\n",
      "8   76439   paris_madrid\n",
      "9   80175   paris_milan\n",
      "10  2684    athens_birmingham\n",
      "11  3851    athens_lisbon\n",
      "12  31340   athens_rome\n",
      "13  11359   barcelona_athens\n",
      "14  4357    barcelona_birmingham\n",
      "15  10336   barcelona_lisbon\n",
      "16  20909   barcelona_rome\n",
      "17  13684   berlin_athens\n",
      "18  21836   berlin_barcelona\n",
      "19  7315    berlin_birmingham\n",
      "20  10760   berlin_lisbon\n",
      "21  54173   berlin_rome\n",
      "22  1003    birmingham_lisbon\n",
      "23  38956   london_athens\n",
      "24  41800   london_barcelona\n",
      "25  184054  london_birmingham\n",
      "26  26720   london_lisbon\n",
      "27  108977  london_rome\n",
      "28  8490    madrid_athens\n",
      "29  122109  madrid_barcelona\n",
      "30  2776    madrid_birmingham\n",
      "31  17844   madrid_lisbon\n",
      "32  38518   madrid_rome\n",
      "33  7160    milan_athens\n",
      "34  27708   milan_barcelona\n",
      "35  3230    milan_birmingham\n",
      "36  6780    milan_lisbon\n",
      "37  93377   milan_rome\n",
      "38  29362   paris_athens\n",
      "39  57461   paris_barcelona\n",
      "40  13168   paris_birmingham\n",
      "41  26004   paris_lisbon\n",
      "42  160938  paris_rome\n",
      "43  3762    rome_birmingham\n",
      "44  11949   rome_lisbon\n"
     ]
    }
   ],
   "source": [
    "for idx, word in enumerate(words):\n",
    "    print(\"{:<3}\".format(idx), \"{:<7}\".format(len(word)),  city_pairs[idx])"
   ]
  },
  {
   "cell_type": "code",
   "execution_count": 69,
   "id": "b96297db",
   "metadata": {},
   "outputs": [
    {
     "data": {
      "text/plain": [
       "[('medal', 47),\n",
       " ('year', 45),\n",
       " ('championship', 40),\n",
       " ('team', 33),\n",
       " ('festival', 33),\n",
       " ('university', 30),\n",
       " ('bronze', 28),\n",
       " ('school', 26),\n",
       " ('art', 24),\n",
       " ('city', 23)]"
      ]
     },
     "execution_count": 69,
     "metadata": {},
     "output_type": "execute_result"
    }
   ],
   "source": [
    "from collections import Counter\n",
    "\n",
    "Counter(words[10]).most_common(10)"
   ]
  },
  {
   "cell_type": "markdown",
   "id": "e7b352b8",
   "metadata": {},
   "source": [
    "<hr>\n",
    "<hr>\n",
    "<hr>\n",
    "<hr>\n",
    "<hr>\n",
    "<hr>\n",
    "<hr>\n",
    "<hr>\n",
    "<!-- <br>\n",
    "<br>\n",
    "<br>\n",
    "<br>\n",
    "<br>\n",
    "<br> -->\n",
    "<div style=\"height: 500px;\"></div>"
   ]
  },
  {
   "cell_type": "code",
   "execution_count": 43,
   "id": "8c2ed5da",
   "metadata": {},
   "outputs": [],
   "source": [
    "# for file in os.scandir('../../../../data/enwiki_city_pairs_nouns/biggest_cities_10/'):\n",
    "#     # print(file.path)\n",
    "#     filename = file.path\n",
    "#     #file = ''.join(filename.split('____________________________________________________________'))\n",
    "#     print(filename)\n",
    "#     #file = filename.replace('.pickle', '__.pickle')\n",
    "#     file = filename.replace('NOUNS___', 'NOUNS__')\n",
    "#     os.rename(filename, file)\n",
    "# # #os.rename()"
   ]
  }
 ],
 "metadata": {
  "kernelspec": {
   "display_name": "Python 3 (ipykernel)",
   "language": "python",
   "name": "python3"
  },
  "language_info": {
   "codemirror_mode": {
    "name": "ipython",
    "version": 3
   },
   "file_extension": ".py",
   "mimetype": "text/x-python",
   "name": "python",
   "nbconvert_exporter": "python",
   "pygments_lexer": "ipython3",
   "version": "3.10.4"
  }
 },
 "nbformat": 4,
 "nbformat_minor": 5
}
