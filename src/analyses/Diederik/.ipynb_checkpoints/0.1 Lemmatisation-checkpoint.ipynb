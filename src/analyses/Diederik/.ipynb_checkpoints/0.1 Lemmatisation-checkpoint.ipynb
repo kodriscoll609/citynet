{
 "cells": [
  {
   "cell_type": "code",
   "execution_count": null,
   "id": "fdc0cd63",
   "metadata": {},
   "outputs": [],
   "source": [
    "import pickle\n",
    "import os \n",
    "from tqdm.notebook import tqdm\n",
    "import re\n",
    "import spacy\n",
    "\n",
    "# nlp = spacy.load(\"en_core_web_sm\")\n",
    "nlp = spacy.load(\"en_core_web_lg\")\n",
    "nlp.max_length = 1500000\n",
    "nlp.disable_pipes('ner', 'parser')"
   ]
  },
  {
   "cell_type": "code",
   "execution_count": null,
   "id": "b812a7ff",
   "metadata": {},
   "outputs": [],
   "source": [
    "# !python -m spacy download en_core_web_lg "
   ]
  },
  {
   "cell_type": "code",
   "execution_count": 1,
   "id": "e01fad36",
   "metadata": {},
   "outputs": [],
   "source": [
    "from diedfunctions import *"
   ]
  },
  {
   "cell_type": "code",
   "execution_count": null,
   "id": "3579acaf",
   "metadata": {},
   "outputs": [],
   "source": [
    "# !pip install spacy\n",
    "# !spacy download en_core_web_sm"
   ]
  },
  {
   "cell_type": "code",
   "execution_count": null,
   "id": "8c40c247",
   "metadata": {},
   "outputs": [],
   "source": [
    "\"\"\"\"\n",
    "from tqdm.notebook import tqdm\n",
    "import os\n",
    "import time\n",
    "\n",
    "I = \"../../../../data/enwiki_city_pairs/\"\n",
    "O = \"../../../../data/NOUN/\"\n",
    "for root, dirs, files in tqdm(list(os.walk(I))):\n",
    "    # print(root)\n",
    "    [os.makedirs(os.path.join(O, dir), exist_ok=True) for dir in dirs]\n",
    "    for file_path in files:\n",
    "        print('-->', O, root)\n",
    "        print(root.replace(I, O))\n",
    "        print(file_path[:-4])\n",
    "    #os.path.split()\n",
    "    #print(os.path.split(root), files)\n",
    "    # print(root-I, files)\n",
    "#         print(dir)\n",
    "    # print(root, dirs, files)\n",
    "    time.sleep(1)\n",
    "    # print(dirs)\n",
    "    \n",
    "#os.makedirs(O, exist_ok=True)\n",
    "\"\"\"\""
   ]
  },
  {
   "cell_type": "code",
   "execution_count": null,
   "id": "38ba3ca4",
   "metadata": {},
   "outputs": [],
   "source": [
    "\"\"\"\"\n",
    "''.join(['NOUN', 'VERB'])\n",
    "\n",
    "POStags=[\"PROPN\", \"AUX\", \"NOUN\", \"ADJ\", \"VERB\", \"ADP\", \"SYM\", \"NUM\"]\n",
    "\n",
    "if 'noun'.upper() in POStags:\n",
    "    print('ee')\n",
    "\"\"\"\""
   ]
  },
  {
   "cell_type": "code",
   "execution_count": null,
   "id": "193d73f6",
   "metadata": {
    "scrolled": true
   },
   "outputs": [],
   "source": [
    "\"\"\"\"\n",
    "batch = 'biggest_cities_30'\n",
    "\n",
    "city_pair_folder = f\"../../../../data/enwiki_city_pairs/{batch}/\"\n",
    "OUTPUT_PATH = f\"../../../../data/enwiki_city_pairs_nouns/{batch}/\"\n",
    "\n",
    "i = 0\n",
    "for file in tqdm(os.scandir(city_pair_folder), total=len(os.listdir(city_pair_folder)), leave=True, desc='Folders'): # tqdm(os.listdir(subfolder), total=len(os.listdir(subfolder)), leave=True, desc='Text Files'):                     \n",
    "    if not file.is_dir():\n",
    "        i += 1\n",
    "        #print(i, file.path, file.name[:-4])\n",
    "        lemmatize_file(file.path, city_pair=file.name[:-4])\n",
    "\"\"\"\""
   ]
  },
  {
   "cell_type": "code",
   "execution_count": null,
   "id": "d7d9ea84",
   "metadata": {},
   "outputs": [],
   "source": [
    "\"\"\"\"\n",
    "def lemmatize_file(file_path, city_pair):\n",
    "    with open(file_path, 'r', encoding='utf-16') as f:\n",
    "        city_pair_text_list = [x.strip().lower() for x in f.read().split('\\n') if len(x) and 'title=' not in x]\n",
    "    print(len(city_pair_text_list))\n",
    "    \n",
    "    nr_of_chunks = len(city_pair_text_list)//1000 + 1\n",
    "    chunk_size = (len(city_pair_text_list)-1)//nr_of_chunks\n",
    "    chunked_text = [' '.join(city_pair_text_list[offs:offs+chunk_size]) for offs in range(0, len(city_pair_text_list), chunk_size)]\n",
    "    \n",
    "    processed_text = [text for text in tqdm(nlp.pipe(chunked_text, n_process=2, batch_size=1, disable=[\"ner\", \"parser\"]), total=len(chunked_text))]\n",
    "    lemmatized_text = [[word.lemma_ for word in text if word.pos_ == 'NOUN' and not word.is_punct and not word.is_stop] for text in processed_text]\n",
    "    regexed_text = [[re.sub(r'\\W+', '', word) for word in text] for text in lemmatized_text]\n",
    "    flattened_words = [item for sublist in regexed_text for item in sublist]\n",
    "    \n",
    "    with open(f'{OUTPUT_PATH}NOUNS__{city_pair}__.pickle', 'wb') as fp:\n",
    "        pickle.dump(flattened_words, fp)\n",
    "\"\"\"\""
   ]
  },
  {
   "cell_type": "markdown",
   "id": "cefd92c9",
   "metadata": {},
   "source": [
    "# Lemmatize Text Window (NOUNS)"
   ]
  },
  {
   "cell_type": "code",
   "execution_count": null,
   "id": "81abfd3e",
   "metadata": {},
   "outputs": [],
   "source": [
    "INPUT_DIR = \"../../../../data/enwiki_city_pairs/\"\n",
    "OUTPUT_DIR = \"../../../../data/enwiki_city_pairs_lemmatised/VERB_SPACY_LARGE/\"\n",
    "POS = [\"NOUN\"]\n",
    "\n",
    "create_lemmatised_wordlists(INPUT_DIR=INPUT_DIR, OUTPUT_DIR=OUTPUT_DIR, POS=POS)"
   ]
  },
  {
   "cell_type": "markdown",
   "id": "3de994ac",
   "metadata": {},
   "source": [
    "# Lemmatize Text Window (VERBS)"
   ]
  },
  {
   "cell_type": "code",
   "execution_count": 2,
   "id": "329193d4",
   "metadata": {},
   "outputs": [
    {
     "data": {
      "application/vnd.jupyter.widget-view+json": {
       "model_id": "f710e3d12a464871805cdf7310b37e2f",
       "version_major": 2,
       "version_minor": 0
      },
      "text/plain": [
       "  0%|          | 0/5 [00:00<?, ?it/s]"
      ]
     },
     "metadata": {},
     "output_type": "display_data"
    },
    {
     "data": {
      "application/vnd.jupyter.widget-view+json": {
       "model_id": "a1295ea8efbd4a02b5bf183b64d456da",
       "version_major": 2,
       "version_minor": 0
      },
      "text/plain": [
       "0it [00:00, ?it/s]"
      ]
     },
     "metadata": {},
     "output_type": "display_data"
    },
    {
     "data": {
      "application/vnd.jupyter.widget-view+json": {
       "model_id": "20ca26e298cf4493933f63996c98da1c",
       "version_major": 2,
       "version_minor": 0
      },
      "text/plain": [
       "  0%|          | 0/35 [00:00<?, ?it/s]"
      ]
     },
     "metadata": {},
     "output_type": "display_data"
    },
    {
     "data": {
      "application/vnd.jupyter.widget-view+json": {
       "model_id": "257f80f719b2432bac0643e2ddda1edf",
       "version_major": 2,
       "version_minor": 0
      },
      "text/plain": [
       "  0%|          | 0/145 [00:00<?, ?it/s]"
      ]
     },
     "metadata": {},
     "output_type": "display_data"
    },
    {
     "data": {
      "application/vnd.jupyter.widget-view+json": {
       "model_id": "a91b4867f2eb4da69be9090aa9580f56",
       "version_major": 2,
       "version_minor": 0
      },
      "text/plain": [
       "  0%|          | 0/244 [00:00<?, ?it/s]"
      ]
     },
     "metadata": {},
     "output_type": "display_data"
    },
    {
     "name": "stdout",
     "output_type": "stream",
     "text": [
      "76\n"
     ]
    },
    {
     "data": {
      "application/vnd.jupyter.widget-view+json": {
       "model_id": "718ba8398c574e56928faced064b35d6",
       "version_major": 2,
       "version_minor": 0
      },
      "text/plain": [
       "  0%|          | 0/2 [00:00<?, ?it/s]"
      ]
     },
     "metadata": {},
     "output_type": "display_data"
    },
    {
     "name": "stdout",
     "output_type": "stream",
     "text": [
      "93\n"
     ]
    },
    {
     "data": {
      "application/vnd.jupyter.widget-view+json": {
       "model_id": "2c9ce7d90bb94836a52fb881736c9adc",
       "version_major": 2,
       "version_minor": 0
      },
      "text/plain": [
       "  0%|          | 0/2 [00:00<?, ?it/s]"
      ]
     },
     "metadata": {},
     "output_type": "display_data"
    },
    {
     "name": "stdout",
     "output_type": "stream",
     "text": [
      "28\n"
     ]
    },
    {
     "data": {
      "application/vnd.jupyter.widget-view+json": {
       "model_id": "0b359f437e4a425bb1a183579e8239a1",
       "version_major": 2,
       "version_minor": 0
      },
      "text/plain": [
       "  0%|          | 0/2 [00:00<?, ?it/s]"
      ]
     },
     "metadata": {},
     "output_type": "display_data"
    },
    {
     "name": "stdout",
     "output_type": "stream",
     "text": [
      "22\n"
     ]
    },
    {
     "data": {
      "application/vnd.jupyter.widget-view+json": {
       "model_id": "87d64901617f4e0d9885578d0a182eb5",
       "version_major": 2,
       "version_minor": 0
      },
      "text/plain": [
       "  0%|          | 0/2 [00:00<?, ?it/s]"
      ]
     },
     "metadata": {},
     "output_type": "display_data"
    },
    {
     "name": "stdout",
     "output_type": "stream",
     "text": [
      "396\n"
     ]
    },
    {
     "data": {
      "application/vnd.jupyter.widget-view+json": {
       "model_id": "95054d2c8116429fbf102e5b6e46d7e7",
       "version_major": 2,
       "version_minor": 0
      },
      "text/plain": [
       "  0%|          | 0/2 [00:00<?, ?it/s]"
      ]
     },
     "metadata": {},
     "output_type": "display_data"
    },
    {
     "name": "stdout",
     "output_type": "stream",
     "text": [
      "351\n"
     ]
    },
    {
     "data": {
      "application/vnd.jupyter.widget-view+json": {
       "model_id": "a799b8c170a449c697df300c1a7cdcee",
       "version_major": 2,
       "version_minor": 0
      },
      "text/plain": [
       "  0%|          | 0/2 [00:00<?, ?it/s]"
      ]
     },
     "metadata": {},
     "output_type": "display_data"
    },
    {
     "name": "stdout",
     "output_type": "stream",
     "text": [
      "435\n"
     ]
    },
    {
     "data": {
      "application/vnd.jupyter.widget-view+json": {
       "model_id": "93db289b59124451b6d6bbbd4d809205",
       "version_major": 2,
       "version_minor": 0
      },
      "text/plain": [
       "  0%|          | 0/2 [00:00<?, ?it/s]"
      ]
     },
     "metadata": {},
     "output_type": "display_data"
    },
    {
     "name": "stdout",
     "output_type": "stream",
     "text": [
      "110\n"
     ]
    },
    {
     "data": {
      "application/vnd.jupyter.widget-view+json": {
       "model_id": "691d867e271a4f80a3d6c3ecd9a0acac",
       "version_major": 2,
       "version_minor": 0
      },
      "text/plain": [
       "  0%|          | 0/2 [00:00<?, ?it/s]"
      ]
     },
     "metadata": {},
     "output_type": "display_data"
    },
    {
     "name": "stdout",
     "output_type": "stream",
     "text": [
      "234\n"
     ]
    },
    {
     "data": {
      "application/vnd.jupyter.widget-view+json": {
       "model_id": "6e7842c336554e4a8bd557865ca658c3",
       "version_major": 2,
       "version_minor": 0
      },
      "text/plain": [
       "  0%|          | 0/2 [00:00<?, ?it/s]"
      ]
     },
     "metadata": {},
     "output_type": "display_data"
    },
    {
     "name": "stdout",
     "output_type": "stream",
     "text": [
      "342\n"
     ]
    },
    {
     "data": {
      "application/vnd.jupyter.widget-view+json": {
       "model_id": "85891f4734614f7e95fca7e025953e1b",
       "version_major": 2,
       "version_minor": 0
      },
      "text/plain": [
       "  0%|          | 0/2 [00:00<?, ?it/s]"
      ]
     },
     "metadata": {},
     "output_type": "display_data"
    },
    {
     "name": "stdout",
     "output_type": "stream",
     "text": [
      "332\n"
     ]
    },
    {
     "data": {
      "application/vnd.jupyter.widget-view+json": {
       "model_id": "6cbcdfb49e5b4d3b96cf3df4911a7710",
       "version_major": 2,
       "version_minor": 0
      },
      "text/plain": [
       "  0%|          | 0/2 [00:00<?, ?it/s]"
      ]
     },
     "metadata": {},
     "output_type": "display_data"
    },
    {
     "name": "stdout",
     "output_type": "stream",
     "text": [
      "139\n"
     ]
    },
    {
     "data": {
      "application/vnd.jupyter.widget-view+json": {
       "model_id": "d71be84764104b16a37e66775f5944a9",
       "version_major": 2,
       "version_minor": 0
      },
      "text/plain": [
       "  0%|          | 0/2 [00:00<?, ?it/s]"
      ]
     },
     "metadata": {},
     "output_type": "display_data"
    },
    {
     "name": "stdout",
     "output_type": "stream",
     "text": [
      "46\n"
     ]
    },
    {
     "data": {
      "application/vnd.jupyter.widget-view+json": {
       "model_id": "0b82f73b2f284b65b5a67a4a1fce29e5",
       "version_major": 2,
       "version_minor": 0
      },
      "text/plain": [
       "  0%|          | 0/2 [00:00<?, ?it/s]"
      ]
     },
     "metadata": {},
     "output_type": "display_data"
    },
    {
     "name": "stdout",
     "output_type": "stream",
     "text": [
      "149\n"
     ]
    },
    {
     "data": {
      "application/vnd.jupyter.widget-view+json": {
       "model_id": "f8155af123c34422996db6b7f9afac31",
       "version_major": 2,
       "version_minor": 0
      },
      "text/plain": [
       "  0%|          | 0/2 [00:00<?, ?it/s]"
      ]
     },
     "metadata": {},
     "output_type": "display_data"
    },
    {
     "name": "stdout",
     "output_type": "stream",
     "text": [
      "24\n"
     ]
    },
    {
     "data": {
      "application/vnd.jupyter.widget-view+json": {
       "model_id": "4f50e3d192a245b99ee70703ffce0a63",
       "version_major": 2,
       "version_minor": 0
      },
      "text/plain": [
       "  0%|          | 0/2 [00:00<?, ?it/s]"
      ]
     },
     "metadata": {},
     "output_type": "display_data"
    },
    {
     "name": "stdout",
     "output_type": "stream",
     "text": [
      "63\n"
     ]
    },
    {
     "data": {
      "application/vnd.jupyter.widget-view+json": {
       "model_id": "ac2b1633d096473097d8066fa97c612f",
       "version_major": 2,
       "version_minor": 0
      },
      "text/plain": [
       "  0%|          | 0/2 [00:00<?, ?it/s]"
      ]
     },
     "metadata": {},
     "output_type": "display_data"
    },
    {
     "name": "stdout",
     "output_type": "stream",
     "text": [
      "63\n"
     ]
    },
    {
     "data": {
      "application/vnd.jupyter.widget-view+json": {
       "model_id": "528ccf649a294be1b311cee2d6d2314a",
       "version_major": 2,
       "version_minor": 0
      },
      "text/plain": [
       "  0%|          | 0/2 [00:00<?, ?it/s]"
      ]
     },
     "metadata": {},
     "output_type": "display_data"
    },
    {
     "name": "stdout",
     "output_type": "stream",
     "text": [
      "12\n"
     ]
    },
    {
     "data": {
      "application/vnd.jupyter.widget-view+json": {
       "model_id": "b9a2bc2fafb0454bbb724e51bed4fe6e",
       "version_major": 2,
       "version_minor": 0
      },
      "text/plain": [
       "  0%|          | 0/2 [00:00<?, ?it/s]"
      ]
     },
     "metadata": {},
     "output_type": "display_data"
    },
    {
     "name": "stdout",
     "output_type": "stream",
     "text": [
      "28\n"
     ]
    },
    {
     "data": {
      "application/vnd.jupyter.widget-view+json": {
       "model_id": "18ce2fd7577849878b7abbe100fbae6f",
       "version_major": 2,
       "version_minor": 0
      },
      "text/plain": [
       "  0%|          | 0/2 [00:00<?, ?it/s]"
      ]
     },
     "metadata": {},
     "output_type": "display_data"
    },
    {
     "name": "stdout",
     "output_type": "stream",
     "text": [
      "209\n"
     ]
    },
    {
     "data": {
      "application/vnd.jupyter.widget-view+json": {
       "model_id": "ba8f942ef67442bab464f5849812c5ca",
       "version_major": 2,
       "version_minor": 0
      },
      "text/plain": [
       "  0%|          | 0/2 [00:00<?, ?it/s]"
      ]
     },
     "metadata": {},
     "output_type": "display_data"
    },
    {
     "name": "stdout",
     "output_type": "stream",
     "text": [
      "75\n"
     ]
    },
    {
     "data": {
      "application/vnd.jupyter.widget-view+json": {
       "model_id": "1e1317d4fbde4e3fbab46e9a86a32a6a",
       "version_major": 2,
       "version_minor": 0
      },
      "text/plain": [
       "  0%|          | 0/2 [00:00<?, ?it/s]"
      ]
     },
     "metadata": {},
     "output_type": "display_data"
    },
    {
     "name": "stdout",
     "output_type": "stream",
     "text": [
      "26\n"
     ]
    },
    {
     "data": {
      "application/vnd.jupyter.widget-view+json": {
       "model_id": "3d9d1beee8e94069a7aae834c2dbd474",
       "version_major": 2,
       "version_minor": 0
      },
      "text/plain": [
       "  0%|          | 0/2 [00:00<?, ?it/s]"
      ]
     },
     "metadata": {},
     "output_type": "display_data"
    },
    {
     "name": "stdout",
     "output_type": "stream",
     "text": [
      "25\n"
     ]
    },
    {
     "data": {
      "application/vnd.jupyter.widget-view+json": {
       "model_id": "8afeae7aede042a094738eb64290df2a",
       "version_major": 2,
       "version_minor": 0
      },
      "text/plain": [
       "  0%|          | 0/2 [00:00<?, ?it/s]"
      ]
     },
     "metadata": {},
     "output_type": "display_data"
    },
    {
     "name": "stdout",
     "output_type": "stream",
     "text": [
      "254\n"
     ]
    },
    {
     "data": {
      "application/vnd.jupyter.widget-view+json": {
       "model_id": "67ef7894039248989fc14bd8888ee160",
       "version_major": 2,
       "version_minor": 0
      },
      "text/plain": [
       "  0%|          | 0/2 [00:00<?, ?it/s]"
      ]
     },
     "metadata": {},
     "output_type": "display_data"
    },
    {
     "name": "stdout",
     "output_type": "stream",
     "text": [
      "118\n"
     ]
    },
    {
     "data": {
      "application/vnd.jupyter.widget-view+json": {
       "model_id": "33a327698fe94942aa6e3a08acc26bbf",
       "version_major": 2,
       "version_minor": 0
      },
      "text/plain": [
       "  0%|          | 0/2 [00:00<?, ?it/s]"
      ]
     },
     "metadata": {},
     "output_type": "display_data"
    },
    {
     "name": "stdout",
     "output_type": "stream",
     "text": [
      "161\n"
     ]
    },
    {
     "data": {
      "application/vnd.jupyter.widget-view+json": {
       "model_id": "e8e45bbdd2fd46a39e7a78573fd8e9a6",
       "version_major": 2,
       "version_minor": 0
      },
      "text/plain": [
       "  0%|          | 0/2 [00:00<?, ?it/s]"
      ]
     },
     "metadata": {},
     "output_type": "display_data"
    },
    {
     "name": "stdout",
     "output_type": "stream",
     "text": [
      "175\n"
     ]
    },
    {
     "data": {
      "application/vnd.jupyter.widget-view+json": {
       "model_id": "7e36d9ea8fc94e09aac115953637f8cd",
       "version_major": 2,
       "version_minor": 0
      },
      "text/plain": [
       "  0%|          | 0/2 [00:00<?, ?it/s]"
      ]
     },
     "metadata": {},
     "output_type": "display_data"
    },
    {
     "name": "stdout",
     "output_type": "stream",
     "text": [
      "57\n"
     ]
    },
    {
     "data": {
      "application/vnd.jupyter.widget-view+json": {
       "model_id": "e736a0073c8a4cc0b41e28b94f8a38dd",
       "version_major": 2,
       "version_minor": 0
      },
      "text/plain": [
       "  0%|          | 0/2 [00:00<?, ?it/s]"
      ]
     },
     "metadata": {},
     "output_type": "display_data"
    },
    {
     "name": "stdout",
     "output_type": "stream",
     "text": [
      "59\n"
     ]
    },
    {
     "data": {
      "application/vnd.jupyter.widget-view+json": {
       "model_id": "fe5061d7f008409eb3b88b811b12c328",
       "version_major": 2,
       "version_minor": 0
      },
      "text/plain": [
       "  0%|          | 0/2 [00:00<?, ?it/s]"
      ]
     },
     "metadata": {},
     "output_type": "display_data"
    },
    {
     "name": "stdout",
     "output_type": "stream",
     "text": [
      "825\n"
     ]
    },
    {
     "data": {
      "application/vnd.jupyter.widget-view+json": {
       "model_id": "df82c8fa00d84cef89fc581138444dac",
       "version_major": 2,
       "version_minor": 0
      },
      "text/plain": [
       "  0%|          | 0/2 [00:00<?, ?it/s]"
      ]
     },
     "metadata": {},
     "output_type": "display_data"
    },
    {
     "name": "stdout",
     "output_type": "stream",
     "text": [
      "258\n"
     ]
    },
    {
     "data": {
      "application/vnd.jupyter.widget-view+json": {
       "model_id": "f431eb0cbd9943879b193823950891ac",
       "version_major": 2,
       "version_minor": 0
      },
      "text/plain": [
       "  0%|          | 0/2 [00:00<?, ?it/s]"
      ]
     },
     "metadata": {},
     "output_type": "display_data"
    },
    {
     "name": "stdout",
     "output_type": "stream",
     "text": [
      "72\n"
     ]
    },
    {
     "data": {
      "application/vnd.jupyter.widget-view+json": {
       "model_id": "4ef7fead30a64e7886942171a9bfa752",
       "version_major": 2,
       "version_minor": 0
      },
      "text/plain": [
       "  0%|          | 0/2 [00:00<?, ?it/s]"
      ]
     },
     "metadata": {},
     "output_type": "display_data"
    },
    {
     "name": "stdout",
     "output_type": "stream",
     "text": [
      "25\n"
     ]
    },
    {
     "data": {
      "application/vnd.jupyter.widget-view+json": {
       "model_id": "95f49fe799624dfb99d35eb25f5e5db0",
       "version_major": 2,
       "version_minor": 0
      },
      "text/plain": [
       "  0%|          | 0/2 [00:00<?, ?it/s]"
      ]
     },
     "metadata": {},
     "output_type": "display_data"
    },
    {
     "name": "stdout",
     "output_type": "stream",
     "text": [
      "159\n"
     ]
    },
    {
     "data": {
      "application/vnd.jupyter.widget-view+json": {
       "model_id": "57a12643dca24ecba91d3851f427dc72",
       "version_major": 2,
       "version_minor": 0
      },
      "text/plain": [
       "  0%|          | 0/2 [00:00<?, ?it/s]"
      ]
     },
     "metadata": {},
     "output_type": "display_data"
    },
    {
     "name": "stdout",
     "output_type": "stream",
     "text": [
      "49\n"
     ]
    },
    {
     "data": {
      "application/vnd.jupyter.widget-view+json": {
       "model_id": "0dee5adfe0d3455ea9211ec177a5a275",
       "version_major": 2,
       "version_minor": 0
      },
      "text/plain": [
       "  0%|          | 0/2 [00:00<?, ?it/s]"
      ]
     },
     "metadata": {},
     "output_type": "display_data"
    },
    {
     "name": "stdout",
     "output_type": "stream",
     "text": [
      "81\n"
     ]
    },
    {
     "data": {
      "application/vnd.jupyter.widget-view+json": {
       "model_id": "4ceeb1c73528407792a33eda5b0330a4",
       "version_major": 2,
       "version_minor": 0
      },
      "text/plain": [
       "  0%|          | 0/2 [00:00<?, ?it/s]"
      ]
     },
     "metadata": {},
     "output_type": "display_data"
    },
    {
     "name": "stdout",
     "output_type": "stream",
     "text": [
      "210\n"
     ]
    },
    {
     "data": {
      "application/vnd.jupyter.widget-view+json": {
       "model_id": "10e1f3bc5b8643738e1df5befbdd631a",
       "version_major": 2,
       "version_minor": 0
      },
      "text/plain": [
       "  0%|          | 0/2 [00:00<?, ?it/s]"
      ]
     },
     "metadata": {},
     "output_type": "display_data"
    },
    {
     "name": "stdout",
     "output_type": "stream",
     "text": [
      "51\n"
     ]
    },
    {
     "data": {
      "application/vnd.jupyter.widget-view+json": {
       "model_id": "7eecd4abedbe4ca7b0c81e43665d9e14",
       "version_major": 2,
       "version_minor": 0
      },
      "text/plain": [
       "  0%|          | 0/2 [00:00<?, ?it/s]"
      ]
     },
     "metadata": {},
     "output_type": "display_data"
    },
    {
     "name": "stdout",
     "output_type": "stream",
     "text": [
      "36\n"
     ]
    },
    {
     "data": {
      "application/vnd.jupyter.widget-view+json": {
       "model_id": "9439c4c64a5148b8a7297c136445b87c",
       "version_major": 2,
       "version_minor": 0
      },
      "text/plain": [
       "  0%|          | 0/2 [00:00<?, ?it/s]"
      ]
     },
     "metadata": {},
     "output_type": "display_data"
    },
    {
     "name": "stdout",
     "output_type": "stream",
     "text": [
      "131\n"
     ]
    },
    {
     "data": {
      "application/vnd.jupyter.widget-view+json": {
       "model_id": "b4ab7c0ab5c7488d814a4cda8ea71aec",
       "version_major": 2,
       "version_minor": 0
      },
      "text/plain": [
       "  0%|          | 0/2 [00:00<?, ?it/s]"
      ]
     },
     "metadata": {},
     "output_type": "display_data"
    },
    {
     "name": "stdout",
     "output_type": "stream",
     "text": [
      "51\n"
     ]
    },
    {
     "data": {
      "application/vnd.jupyter.widget-view+json": {
       "model_id": "50ba80d07ac148cd91e68150d1b3c85b",
       "version_major": 2,
       "version_minor": 0
      },
      "text/plain": [
       "  0%|          | 0/2 [00:00<?, ?it/s]"
      ]
     },
     "metadata": {},
     "output_type": "display_data"
    },
    {
     "name": "stdout",
     "output_type": "stream",
     "text": [
      "247\n"
     ]
    },
    {
     "data": {
      "application/vnd.jupyter.widget-view+json": {
       "model_id": "f5ce9116c82541cd9f618f17225a0a82",
       "version_major": 2,
       "version_minor": 0
      },
      "text/plain": [
       "  0%|          | 0/2 [00:00<?, ?it/s]"
      ]
     },
     "metadata": {},
     "output_type": "display_data"
    },
    {
     "name": "stdout",
     "output_type": "stream",
     "text": [
      "37\n"
     ]
    },
    {
     "data": {
      "application/vnd.jupyter.widget-view+json": {
       "model_id": "d40991c9b46f4a8cac34c9b9449a3e6b",
       "version_major": 2,
       "version_minor": 0
      },
      "text/plain": [
       "  0%|          | 0/2 [00:00<?, ?it/s]"
      ]
     },
     "metadata": {},
     "output_type": "display_data"
    },
    {
     "name": "stdout",
     "output_type": "stream",
     "text": [
      "47\n"
     ]
    },
    {
     "data": {
      "application/vnd.jupyter.widget-view+json": {
       "model_id": "f281c6dca70d4e72aed4d766e56d8036",
       "version_major": 2,
       "version_minor": 0
      },
      "text/plain": [
       "  0%|          | 0/2 [00:00<?, ?it/s]"
      ]
     },
     "metadata": {},
     "output_type": "display_data"
    },
    {
     "name": "stdout",
     "output_type": "stream",
     "text": [
      "1294\n"
     ]
    },
    {
     "data": {
      "application/vnd.jupyter.widget-view+json": {
       "model_id": "e4c24b81239a44278bd6ecd9b5dfd55f",
       "version_major": 2,
       "version_minor": 0
      },
      "text/plain": [
       "  0%|          | 0/3 [00:00<?, ?it/s]"
      ]
     },
     "metadata": {},
     "output_type": "display_data"
    },
    {
     "name": "stdout",
     "output_type": "stream",
     "text": [
      "190\n"
     ]
    },
    {
     "data": {
      "application/vnd.jupyter.widget-view+json": {
       "model_id": "d8382b32ed6747a0adeb078915e95a95",
       "version_major": 2,
       "version_minor": 0
      },
      "text/plain": [
       "  0%|          | 0/2 [00:00<?, ?it/s]"
      ]
     },
     "metadata": {},
     "output_type": "display_data"
    },
    {
     "name": "stdout",
     "output_type": "stream",
     "text": [
      "72\n"
     ]
    },
    {
     "data": {
      "application/vnd.jupyter.widget-view+json": {
       "model_id": "46e94a04a5db4298b858d8c273c9f9cf",
       "version_major": 2,
       "version_minor": 0
      },
      "text/plain": [
       "  0%|          | 0/2 [00:00<?, ?it/s]"
      ]
     },
     "metadata": {},
     "output_type": "display_data"
    },
    {
     "name": "stdout",
     "output_type": "stream",
     "text": [
      "132\n"
     ]
    },
    {
     "data": {
      "application/vnd.jupyter.widget-view+json": {
       "model_id": "5fcecfa86240439bb5aef2f264b7b41c",
       "version_major": 2,
       "version_minor": 0
      },
      "text/plain": [
       "  0%|          | 0/2 [00:00<?, ?it/s]"
      ]
     },
     "metadata": {},
     "output_type": "display_data"
    },
    {
     "name": "stdout",
     "output_type": "stream",
     "text": [
      "351\n"
     ]
    },
    {
     "data": {
      "application/vnd.jupyter.widget-view+json": {
       "model_id": "bb27046561a44646a53f0ba93960545f",
       "version_major": 2,
       "version_minor": 0
      },
      "text/plain": [
       "  0%|          | 0/2 [00:00<?, ?it/s]"
      ]
     },
     "metadata": {},
     "output_type": "display_data"
    },
    {
     "name": "stdout",
     "output_type": "stream",
     "text": [
      "65\n"
     ]
    },
    {
     "data": {
      "application/vnd.jupyter.widget-view+json": {
       "model_id": "7762ff2559024c69bec6c992de1ddb0a",
       "version_major": 2,
       "version_minor": 0
      },
      "text/plain": [
       "  0%|          | 0/2 [00:00<?, ?it/s]"
      ]
     },
     "metadata": {},
     "output_type": "display_data"
    },
    {
     "name": "stdout",
     "output_type": "stream",
     "text": [
      "40\n"
     ]
    },
    {
     "data": {
      "application/vnd.jupyter.widget-view+json": {
       "model_id": "1f5124c93ac542679db223ecdb2c975b",
       "version_major": 2,
       "version_minor": 0
      },
      "text/plain": [
       "  0%|          | 0/2 [00:00<?, ?it/s]"
      ]
     },
     "metadata": {},
     "output_type": "display_data"
    },
    {
     "name": "stdout",
     "output_type": "stream",
     "text": [
      "83\n"
     ]
    },
    {
     "data": {
      "application/vnd.jupyter.widget-view+json": {
       "model_id": "12e9206f78f4493399aa00b25b49a0ed",
       "version_major": 2,
       "version_minor": 0
      },
      "text/plain": [
       "  0%|          | 0/2 [00:00<?, ?it/s]"
      ]
     },
     "metadata": {},
     "output_type": "display_data"
    },
    {
     "name": "stdout",
     "output_type": "stream",
     "text": [
      "52\n"
     ]
    },
    {
     "data": {
      "application/vnd.jupyter.widget-view+json": {
       "model_id": "18e282db52e1481789bc20af128b1833",
       "version_major": 2,
       "version_minor": 0
      },
      "text/plain": [
       "  0%|          | 0/2 [00:00<?, ?it/s]"
      ]
     },
     "metadata": {},
     "output_type": "display_data"
    },
    {
     "name": "stdout",
     "output_type": "stream",
     "text": [
      "301\n"
     ]
    },
    {
     "data": {
      "application/vnd.jupyter.widget-view+json": {
       "model_id": "1711189398b84379a47cd32b14ce6e2b",
       "version_major": 2,
       "version_minor": 0
      },
      "text/plain": [
       "  0%|          | 0/2 [00:00<?, ?it/s]"
      ]
     },
     "metadata": {},
     "output_type": "display_data"
    },
    {
     "name": "stdout",
     "output_type": "stream",
     "text": [
      "967\n"
     ]
    },
    {
     "data": {
      "application/vnd.jupyter.widget-view+json": {
       "model_id": "bf20b089f63046d88664fc3a7cfa1c89",
       "version_major": 2,
       "version_minor": 0
      },
      "text/plain": [
       "  0%|          | 0/2 [00:00<?, ?it/s]"
      ]
     },
     "metadata": {},
     "output_type": "display_data"
    },
    {
     "name": "stdout",
     "output_type": "stream",
     "text": [
      "573\n"
     ]
    },
    {
     "data": {
      "application/vnd.jupyter.widget-view+json": {
       "model_id": "3458797e8b9f40ddacccea6596ec7701",
       "version_major": 2,
       "version_minor": 0
      },
      "text/plain": [
       "  0%|          | 0/2 [00:00<?, ?it/s]"
      ]
     },
     "metadata": {},
     "output_type": "display_data"
    },
    {
     "name": "stdout",
     "output_type": "stream",
     "text": [
      "1275\n"
     ]
    },
    {
     "data": {
      "application/vnd.jupyter.widget-view+json": {
       "model_id": "ef07dfde06be48f0b3a90d70ae40a7c0",
       "version_major": 2,
       "version_minor": 0
      },
      "text/plain": [
       "  0%|          | 0/3 [00:00<?, ?it/s]"
      ]
     },
     "metadata": {},
     "output_type": "display_data"
    },
    {
     "name": "stdout",
     "output_type": "stream",
     "text": [
      "114\n"
     ]
    },
    {
     "data": {
      "application/vnd.jupyter.widget-view+json": {
       "model_id": "0c6fe515477445bc94f7ae199948eba6",
       "version_major": 2,
       "version_minor": 0
      },
      "text/plain": [
       "  0%|          | 0/2 [00:00<?, ?it/s]"
      ]
     },
     "metadata": {},
     "output_type": "display_data"
    },
    {
     "name": "stdout",
     "output_type": "stream",
     "text": [
      "77\n"
     ]
    },
    {
     "data": {
      "application/vnd.jupyter.widget-view+json": {
       "model_id": "1957fe22cbde4179bd441bdf8c9365c9",
       "version_major": 2,
       "version_minor": 0
      },
      "text/plain": [
       "  0%|          | 0/2 [00:00<?, ?it/s]"
      ]
     },
     "metadata": {},
     "output_type": "display_data"
    },
    {
     "name": "stdout",
     "output_type": "stream",
     "text": [
      "354\n"
     ]
    },
    {
     "data": {
      "application/vnd.jupyter.widget-view+json": {
       "model_id": "6fe19350c6974f038a5d0239056325cd",
       "version_major": 2,
       "version_minor": 0
      },
      "text/plain": [
       "  0%|          | 0/2 [00:00<?, ?it/s]"
      ]
     },
     "metadata": {},
     "output_type": "display_data"
    },
    {
     "name": "stdout",
     "output_type": "stream",
     "text": [
      "353\n"
     ]
    },
    {
     "data": {
      "application/vnd.jupyter.widget-view+json": {
       "model_id": "6e3bd528dacf4579b5f62396abc96fdf",
       "version_major": 2,
       "version_minor": 0
      },
      "text/plain": [
       "  0%|          | 0/2 [00:00<?, ?it/s]"
      ]
     },
     "metadata": {},
     "output_type": "display_data"
    },
    {
     "name": "stdout",
     "output_type": "stream",
     "text": [
      "49\n"
     ]
    },
    {
     "data": {
      "application/vnd.jupyter.widget-view+json": {
       "model_id": "31bb510d8deb4d0f81bb95e9d197ea47",
       "version_major": 2,
       "version_minor": 0
      },
      "text/plain": [
       "  0%|          | 0/2 [00:00<?, ?it/s]"
      ]
     },
     "metadata": {},
     "output_type": "display_data"
    },
    {
     "name": "stdout",
     "output_type": "stream",
     "text": [
      "61\n"
     ]
    },
    {
     "data": {
      "application/vnd.jupyter.widget-view+json": {
       "model_id": "eeda2791afc04565bf275dbc9405668d",
       "version_major": 2,
       "version_minor": 0
      },
      "text/plain": [
       "  0%|          | 0/2 [00:00<?, ?it/s]"
      ]
     },
     "metadata": {},
     "output_type": "display_data"
    },
    {
     "name": "stdout",
     "output_type": "stream",
     "text": [
      "19\n"
     ]
    },
    {
     "data": {
      "application/vnd.jupyter.widget-view+json": {
       "model_id": "82e20a6d95de403ba2b6aeb42d9849b2",
       "version_major": 2,
       "version_minor": 0
      },
      "text/plain": [
       "  0%|          | 0/2 [00:00<?, ?it/s]"
      ]
     },
     "metadata": {},
     "output_type": "display_data"
    },
    {
     "name": "stdout",
     "output_type": "stream",
     "text": [
      "34\n"
     ]
    },
    {
     "data": {
      "application/vnd.jupyter.widget-view+json": {
       "model_id": "3d392cec0ae0474aac0e10ebbfe512e0",
       "version_major": 2,
       "version_minor": 0
      },
      "text/plain": [
       "  0%|          | 0/2 [00:00<?, ?it/s]"
      ]
     },
     "metadata": {},
     "output_type": "display_data"
    },
    {
     "name": "stdout",
     "output_type": "stream",
     "text": [
      "9\n"
     ]
    },
    {
     "data": {
      "application/vnd.jupyter.widget-view+json": {
       "model_id": "760dd30bc5a44eeeacc6478eba8ef07e",
       "version_major": 2,
       "version_minor": 0
      },
      "text/plain": [
       "  0%|          | 0/2 [00:00<?, ?it/s]"
      ]
     },
     "metadata": {},
     "output_type": "display_data"
    },
    {
     "name": "stdout",
     "output_type": "stream",
     "text": [
      "17\n"
     ]
    },
    {
     "data": {
      "application/vnd.jupyter.widget-view+json": {
       "model_id": "81f5c08dbcc943e0b0dcd9c190f3d2e7",
       "version_major": 2,
       "version_minor": 0
      },
      "text/plain": [
       "  0%|          | 0/2 [00:00<?, ?it/s]"
      ]
     },
     "metadata": {},
     "output_type": "display_data"
    },
    {
     "name": "stdout",
     "output_type": "stream",
     "text": [
      "2\n"
     ]
    },
    {
     "data": {
      "application/vnd.jupyter.widget-view+json": {
       "model_id": "0651924d740b40e7bc39e6219c72c70b",
       "version_major": 2,
       "version_minor": 0
      },
      "text/plain": [
       "  0%|          | 0/2 [00:00<?, ?it/s]"
      ]
     },
     "metadata": {},
     "output_type": "display_data"
    },
    {
     "name": "stdout",
     "output_type": "stream",
     "text": [
      "37\n"
     ]
    },
    {
     "data": {
      "application/vnd.jupyter.widget-view+json": {
       "model_id": "355d61224d144ee980e9694c2edbf742",
       "version_major": 2,
       "version_minor": 0
      },
      "text/plain": [
       "  0%|          | 0/2 [00:00<?, ?it/s]"
      ]
     },
     "metadata": {},
     "output_type": "display_data"
    },
    {
     "name": "stdout",
     "output_type": "stream",
     "text": [
      "18\n"
     ]
    },
    {
     "data": {
      "application/vnd.jupyter.widget-view+json": {
       "model_id": "9cab9bfac4bb482abe12211187ebe1d9",
       "version_major": 2,
       "version_minor": 0
      },
      "text/plain": [
       "  0%|          | 0/2 [00:00<?, ?it/s]"
      ]
     },
     "metadata": {},
     "output_type": "display_data"
    },
    {
     "name": "stdout",
     "output_type": "stream",
     "text": [
      "3\n"
     ]
    },
    {
     "data": {
      "application/vnd.jupyter.widget-view+json": {
       "model_id": "7eb80a1c4dc04c19a6457b10f7454b40",
       "version_major": 2,
       "version_minor": 0
      },
      "text/plain": [
       "  0%|          | 0/2 [00:00<?, ?it/s]"
      ]
     },
     "metadata": {},
     "output_type": "display_data"
    },
    {
     "name": "stdout",
     "output_type": "stream",
     "text": [
      "4\n"
     ]
    },
    {
     "data": {
      "application/vnd.jupyter.widget-view+json": {
       "model_id": "59bb2e2d88d84ab7ab3d473c458625a5",
       "version_major": 2,
       "version_minor": 0
      },
      "text/plain": [
       "  0%|          | 0/2 [00:00<?, ?it/s]"
      ]
     },
     "metadata": {},
     "output_type": "display_data"
    },
    {
     "name": "stdout",
     "output_type": "stream",
     "text": [
      "279\n"
     ]
    },
    {
     "data": {
      "application/vnd.jupyter.widget-view+json": {
       "model_id": "0c179147b6a64e0fa4dc2f6b035a8151",
       "version_major": 2,
       "version_minor": 0
      },
      "text/plain": [
       "  0%|          | 0/2 [00:00<?, ?it/s]"
      ]
     },
     "metadata": {},
     "output_type": "display_data"
    },
    {
     "name": "stdout",
     "output_type": "stream",
     "text": [
      "71\n"
     ]
    },
    {
     "data": {
      "application/vnd.jupyter.widget-view+json": {
       "model_id": "bfecb4c67a0d4fc38f75d2fefe94b846",
       "version_major": 2,
       "version_minor": 0
      },
      "text/plain": [
       "  0%|          | 0/2 [00:00<?, ?it/s]"
      ]
     },
     "metadata": {},
     "output_type": "display_data"
    },
    {
     "name": "stdout",
     "output_type": "stream",
     "text": [
      "150\n"
     ]
    },
    {
     "data": {
      "application/vnd.jupyter.widget-view+json": {
       "model_id": "dbe870c7a8094954a48a6933dbb54c6c",
       "version_major": 2,
       "version_minor": 0
      },
      "text/plain": [
       "  0%|          | 0/2 [00:00<?, ?it/s]"
      ]
     },
     "metadata": {},
     "output_type": "display_data"
    },
    {
     "name": "stdout",
     "output_type": "stream",
     "text": [
      "103\n"
     ]
    },
    {
     "data": {
      "application/vnd.jupyter.widget-view+json": {
       "model_id": "2d0d6ef5fafb4839a66ada067d929364",
       "version_major": 2,
       "version_minor": 0
      },
      "text/plain": [
       "  0%|          | 0/2 [00:00<?, ?it/s]"
      ]
     },
     "metadata": {},
     "output_type": "display_data"
    },
    {
     "name": "stdout",
     "output_type": "stream",
     "text": [
      "78\n"
     ]
    },
    {
     "data": {
      "application/vnd.jupyter.widget-view+json": {
       "model_id": "43395a7ff25346ddb087605b43b94d92",
       "version_major": 2,
       "version_minor": 0
      },
      "text/plain": [
       "  0%|          | 0/2 [00:00<?, ?it/s]"
      ]
     },
     "metadata": {},
     "output_type": "display_data"
    },
    {
     "name": "stdout",
     "output_type": "stream",
     "text": [
      "76\n"
     ]
    },
    {
     "data": {
      "application/vnd.jupyter.widget-view+json": {
       "model_id": "9312375424fc4412b614fb14eb175011",
       "version_major": 2,
       "version_minor": 0
      },
      "text/plain": [
       "  0%|          | 0/2 [00:00<?, ?it/s]"
      ]
     },
     "metadata": {},
     "output_type": "display_data"
    },
    {
     "name": "stdout",
     "output_type": "stream",
     "text": [
      "139\n"
     ]
    },
    {
     "data": {
      "application/vnd.jupyter.widget-view+json": {
       "model_id": "9bf8f221002a4fb8a3ee4f2df5d82874",
       "version_major": 2,
       "version_minor": 0
      },
      "text/plain": [
       "  0%|          | 0/2 [00:00<?, ?it/s]"
      ]
     },
     "metadata": {},
     "output_type": "display_data"
    },
    {
     "name": "stdout",
     "output_type": "stream",
     "text": [
      "157\n"
     ]
    },
    {
     "data": {
      "application/vnd.jupyter.widget-view+json": {
       "model_id": "8b515504c3c54099b9fead4c272044d1",
       "version_major": 2,
       "version_minor": 0
      },
      "text/plain": [
       "  0%|          | 0/2 [00:00<?, ?it/s]"
      ]
     },
     "metadata": {},
     "output_type": "display_data"
    },
    {
     "name": "stdout",
     "output_type": "stream",
     "text": [
      "79\n"
     ]
    },
    {
     "data": {
      "application/vnd.jupyter.widget-view+json": {
       "model_id": "2accb11ea5c04cd5850054d7b832c37e",
       "version_major": 2,
       "version_minor": 0
      },
      "text/plain": [
       "  0%|          | 0/2 [00:00<?, ?it/s]"
      ]
     },
     "metadata": {},
     "output_type": "display_data"
    },
    {
     "name": "stdout",
     "output_type": "stream",
     "text": [
      "100\n"
     ]
    },
    {
     "data": {
      "application/vnd.jupyter.widget-view+json": {
       "model_id": "bd206093b5804440b9a32e26795506f4",
       "version_major": 2,
       "version_minor": 0
      },
      "text/plain": [
       "  0%|          | 0/2 [00:00<?, ?it/s]"
      ]
     },
     "metadata": {},
     "output_type": "display_data"
    },
    {
     "name": "stdout",
     "output_type": "stream",
     "text": [
      "2838\n"
     ]
    },
    {
     "data": {
      "application/vnd.jupyter.widget-view+json": {
       "model_id": "07d571f5811d43d49c565e70638f757b",
       "version_major": 2,
       "version_minor": 0
      },
      "text/plain": [
       "  0%|          | 0/4 [00:00<?, ?it/s]"
      ]
     },
     "metadata": {},
     "output_type": "display_data"
    },
    {
     "name": "stdout",
     "output_type": "stream",
     "text": [
      "935\n"
     ]
    },
    {
     "data": {
      "application/vnd.jupyter.widget-view+json": {
       "model_id": "753117e8f8d04c77b511d18f670d50d1",
       "version_major": 2,
       "version_minor": 0
      },
      "text/plain": [
       "  0%|          | 0/2 [00:00<?, ?it/s]"
      ]
     },
     "metadata": {},
     "output_type": "display_data"
    },
    {
     "name": "stdout",
     "output_type": "stream",
     "text": [
      "1531\n"
     ]
    },
    {
     "data": {
      "application/vnd.jupyter.widget-view+json": {
       "model_id": "3e810eca78914f1288b91326ce021710",
       "version_major": 2,
       "version_minor": 0
      },
      "text/plain": [
       "  0%|          | 0/3 [00:00<?, ?it/s]"
      ]
     },
     "metadata": {},
     "output_type": "display_data"
    },
    {
     "name": "stdout",
     "output_type": "stream",
     "text": [
      "1748\n"
     ]
    },
    {
     "data": {
      "application/vnd.jupyter.widget-view+json": {
       "model_id": "2c5c9670e4574790bd7a085e386f8e64",
       "version_major": 2,
       "version_minor": 0
      },
      "text/plain": [
       "  0%|          | 0/3 [00:00<?, ?it/s]"
      ]
     },
     "metadata": {},
     "output_type": "display_data"
    },
    {
     "name": "stdout",
     "output_type": "stream",
     "text": [
      "5983\n"
     ]
    },
    {
     "data": {
      "application/vnd.jupyter.widget-view+json": {
       "model_id": "c6a85628a27b4dd3a822c3ab36681b68",
       "version_major": 2,
       "version_minor": 0
      },
      "text/plain": [
       "  0%|          | 0/7 [00:00<?, ?it/s]"
      ]
     },
     "metadata": {},
     "output_type": "display_data"
    },
    {
     "name": "stdout",
     "output_type": "stream",
     "text": [
      "870\n"
     ]
    },
    {
     "data": {
      "application/vnd.jupyter.widget-view+json": {
       "model_id": "ec93362f192d4f1d8021ed2654ef0270",
       "version_major": 2,
       "version_minor": 0
      },
      "text/plain": [
       "  0%|          | 0/2 [00:00<?, ?it/s]"
      ]
     },
     "metadata": {},
     "output_type": "display_data"
    },
    {
     "name": "stdout",
     "output_type": "stream",
     "text": [
      "1387\n"
     ]
    },
    {
     "data": {
      "application/vnd.jupyter.widget-view+json": {
       "model_id": "3ca1d426443a4bba8034c9d93ed591ea",
       "version_major": 2,
       "version_minor": 0
      },
      "text/plain": [
       "  0%|          | 0/3 [00:00<?, ?it/s]"
      ]
     },
     "metadata": {},
     "output_type": "display_data"
    },
    {
     "name": "stdout",
     "output_type": "stream",
     "text": [
      "1983\n"
     ]
    },
    {
     "data": {
      "application/vnd.jupyter.widget-view+json": {
       "model_id": "62734aa81aa34e909cccaf5fdadbefc0",
       "version_major": 2,
       "version_minor": 0
      },
      "text/plain": [
       "  0%|          | 0/3 [00:00<?, ?it/s]"
      ]
     },
     "metadata": {},
     "output_type": "display_data"
    },
    {
     "name": "stdout",
     "output_type": "stream",
     "text": [
      "576\n"
     ]
    },
    {
     "data": {
      "application/vnd.jupyter.widget-view+json": {
       "model_id": "f0b3c5e30e5c4b0a917f13010aac82ad",
       "version_major": 2,
       "version_minor": 0
      },
      "text/plain": [
       "  0%|          | 0/2 [00:00<?, ?it/s]"
      ]
     },
     "metadata": {},
     "output_type": "display_data"
    },
    {
     "name": "stdout",
     "output_type": "stream",
     "text": [
      "243\n"
     ]
    },
    {
     "data": {
      "application/vnd.jupyter.widget-view+json": {
       "model_id": "7c9756957243489bb83c8606942b4fb4",
       "version_major": 2,
       "version_minor": 0
      },
      "text/plain": [
       "  0%|          | 0/2 [00:00<?, ?it/s]"
      ]
     },
     "metadata": {},
     "output_type": "display_data"
    },
    {
     "name": "stdout",
     "output_type": "stream",
     "text": [
      "623\n"
     ]
    },
    {
     "data": {
      "application/vnd.jupyter.widget-view+json": {
       "model_id": "3f6d0b1601bd4123a94d08cf9a983672",
       "version_major": 2,
       "version_minor": 0
      },
      "text/plain": [
       "  0%|          | 0/2 [00:00<?, ?it/s]"
      ]
     },
     "metadata": {},
     "output_type": "display_data"
    },
    {
     "name": "stdout",
     "output_type": "stream",
     "text": [
      "153\n"
     ]
    },
    {
     "data": {
      "application/vnd.jupyter.widget-view+json": {
       "model_id": "f7ba19ecd7cd4fa1bebccb607c25f757",
       "version_major": 2,
       "version_minor": 0
      },
      "text/plain": [
       "  0%|          | 0/2 [00:00<?, ?it/s]"
      ]
     },
     "metadata": {},
     "output_type": "display_data"
    },
    {
     "name": "stdout",
     "output_type": "stream",
     "text": [
      "250\n"
     ]
    },
    {
     "data": {
      "application/vnd.jupyter.widget-view+json": {
       "model_id": "48fd8665e5cf433591d52a02d3af71b6",
       "version_major": 2,
       "version_minor": 0
      },
      "text/plain": [
       "  0%|          | 0/2 [00:00<?, ?it/s]"
      ]
     },
     "metadata": {},
     "output_type": "display_data"
    },
    {
     "name": "stdout",
     "output_type": "stream",
     "text": [
      "342\n"
     ]
    },
    {
     "data": {
      "application/vnd.jupyter.widget-view+json": {
       "model_id": "160cf873ad984280a655fdfe4a72792c",
       "version_major": 2,
       "version_minor": 0
      },
      "text/plain": [
       "  0%|          | 0/2 [00:00<?, ?it/s]"
      ]
     },
     "metadata": {},
     "output_type": "display_data"
    },
    {
     "name": "stdout",
     "output_type": "stream",
     "text": [
      "120\n"
     ]
    },
    {
     "data": {
      "application/vnd.jupyter.widget-view+json": {
       "model_id": "f330a8f16c4b42f7b333434525beb186",
       "version_major": 2,
       "version_minor": 0
      },
      "text/plain": [
       "  0%|          | 0/2 [00:00<?, ?it/s]"
      ]
     },
     "metadata": {},
     "output_type": "display_data"
    },
    {
     "name": "stdout",
     "output_type": "stream",
     "text": [
      "300\n"
     ]
    },
    {
     "data": {
      "application/vnd.jupyter.widget-view+json": {
       "model_id": "6b80cbd830ea42509849319fa23bfa1e",
       "version_major": 2,
       "version_minor": 0
      },
      "text/plain": [
       "  0%|          | 0/2 [00:00<?, ?it/s]"
      ]
     },
     "metadata": {},
     "output_type": "display_data"
    },
    {
     "name": "stdout",
     "output_type": "stream",
     "text": [
      "323\n"
     ]
    },
    {
     "data": {
      "application/vnd.jupyter.widget-view+json": {
       "model_id": "48f0621d4119437386e25b8305d684d4",
       "version_major": 2,
       "version_minor": 0
      },
      "text/plain": [
       "  0%|          | 0/2 [00:00<?, ?it/s]"
      ]
     },
     "metadata": {},
     "output_type": "display_data"
    },
    {
     "name": "stdout",
     "output_type": "stream",
     "text": [
      "298\n"
     ]
    },
    {
     "data": {
      "application/vnd.jupyter.widget-view+json": {
       "model_id": "b567fb7769ed43f8938a5d61cd6ddd69",
       "version_major": 2,
       "version_minor": 0
      },
      "text/plain": [
       "  0%|          | 0/2 [00:00<?, ?it/s]"
      ]
     },
     "metadata": {},
     "output_type": "display_data"
    },
    {
     "name": "stdout",
     "output_type": "stream",
     "text": [
      "167\n"
     ]
    },
    {
     "data": {
      "application/vnd.jupyter.widget-view+json": {
       "model_id": "ee3c91570cba4c69bc9e5fbc25112968",
       "version_major": 2,
       "version_minor": 0
      },
      "text/plain": [
       "  0%|          | 0/2 [00:00<?, ?it/s]"
      ]
     },
     "metadata": {},
     "output_type": "display_data"
    },
    {
     "name": "stdout",
     "output_type": "stream",
     "text": [
      "1850\n"
     ]
    },
    {
     "data": {
      "application/vnd.jupyter.widget-view+json": {
       "model_id": "4facd3efd9a24cc9a24f9bc32f6ba3da",
       "version_major": 2,
       "version_minor": 0
      },
      "text/plain": [
       "  0%|          | 0/3 [00:00<?, ?it/s]"
      ]
     },
     "metadata": {},
     "output_type": "display_data"
    },
    {
     "name": "stdout",
     "output_type": "stream",
     "text": [
      "185\n"
     ]
    },
    {
     "data": {
      "application/vnd.jupyter.widget-view+json": {
       "model_id": "11e1dbb8b4954ae78ed007479ddbed92",
       "version_major": 2,
       "version_minor": 0
      },
      "text/plain": [
       "  0%|          | 0/2 [00:00<?, ?it/s]"
      ]
     },
     "metadata": {},
     "output_type": "display_data"
    },
    {
     "name": "stdout",
     "output_type": "stream",
     "text": [
      "74\n"
     ]
    },
    {
     "data": {
      "application/vnd.jupyter.widget-view+json": {
       "model_id": "d2e7e84da0c74c0292d5ce8f4a47064c",
       "version_major": 2,
       "version_minor": 0
      },
      "text/plain": [
       "  0%|          | 0/2 [00:00<?, ?it/s]"
      ]
     },
     "metadata": {},
     "output_type": "display_data"
    },
    {
     "name": "stdout",
     "output_type": "stream",
     "text": [
      "188\n"
     ]
    },
    {
     "data": {
      "application/vnd.jupyter.widget-view+json": {
       "model_id": "3b31b18563d549b0bed7b42da6e4b288",
       "version_major": 2,
       "version_minor": 0
      },
      "text/plain": [
       "  0%|          | 0/2 [00:00<?, ?it/s]"
      ]
     },
     "metadata": {},
     "output_type": "display_data"
    },
    {
     "name": "stdout",
     "output_type": "stream",
     "text": [
      "129\n"
     ]
    },
    {
     "data": {
      "application/vnd.jupyter.widget-view+json": {
       "model_id": "235670692d9d46179514dba42297e3ec",
       "version_major": 2,
       "version_minor": 0
      },
      "text/plain": [
       "  0%|          | 0/2 [00:00<?, ?it/s]"
      ]
     },
     "metadata": {},
     "output_type": "display_data"
    },
    {
     "name": "stdout",
     "output_type": "stream",
     "text": [
      "1844\n"
     ]
    },
    {
     "data": {
      "application/vnd.jupyter.widget-view+json": {
       "model_id": "aebe182a6ac94ea39686514c6075d92d",
       "version_major": 2,
       "version_minor": 0
      },
      "text/plain": [
       "  0%|          | 0/3 [00:00<?, ?it/s]"
      ]
     },
     "metadata": {},
     "output_type": "display_data"
    },
    {
     "name": "stdout",
     "output_type": "stream",
     "text": [
      "170\n"
     ]
    },
    {
     "data": {
      "application/vnd.jupyter.widget-view+json": {
       "model_id": "1e5c56d6ff6b446888b43fba4d52619e",
       "version_major": 2,
       "version_minor": 0
      },
      "text/plain": [
       "  0%|          | 0/2 [00:00<?, ?it/s]"
      ]
     },
     "metadata": {},
     "output_type": "display_data"
    },
    {
     "name": "stdout",
     "output_type": "stream",
     "text": [
      "106\n"
     ]
    },
    {
     "data": {
      "application/vnd.jupyter.widget-view+json": {
       "model_id": "e845518aa33c4fb8bc01810645e38e7c",
       "version_major": 2,
       "version_minor": 0
      },
      "text/plain": [
       "  0%|          | 0/2 [00:00<?, ?it/s]"
      ]
     },
     "metadata": {},
     "output_type": "display_data"
    },
    {
     "name": "stdout",
     "output_type": "stream",
     "text": [
      "103\n"
     ]
    },
    {
     "data": {
      "application/vnd.jupyter.widget-view+json": {
       "model_id": "83f7579fcbef490a8a1960ba72b2753e",
       "version_major": 2,
       "version_minor": 0
      },
      "text/plain": [
       "  0%|          | 0/2 [00:00<?, ?it/s]"
      ]
     },
     "metadata": {},
     "output_type": "display_data"
    },
    {
     "name": "stdout",
     "output_type": "stream",
     "text": [
      "38\n"
     ]
    },
    {
     "data": {
      "application/vnd.jupyter.widget-view+json": {
       "model_id": "58d958e07bf049e7a4f299b4ed3463e0",
       "version_major": 2,
       "version_minor": 0
      },
      "text/plain": [
       "  0%|          | 0/2 [00:00<?, ?it/s]"
      ]
     },
     "metadata": {},
     "output_type": "display_data"
    },
    {
     "name": "stdout",
     "output_type": "stream",
     "text": [
      "225\n"
     ]
    },
    {
     "data": {
      "application/vnd.jupyter.widget-view+json": {
       "model_id": "0fc6114c3aea413c89032c9fcf068068",
       "version_major": 2,
       "version_minor": 0
      },
      "text/plain": [
       "  0%|          | 0/2 [00:00<?, ?it/s]"
      ]
     },
     "metadata": {},
     "output_type": "display_data"
    },
    {
     "name": "stdout",
     "output_type": "stream",
     "text": [
      "504\n"
     ]
    },
    {
     "data": {
      "application/vnd.jupyter.widget-view+json": {
       "model_id": "81a9fc8fd5e24dd2b86a868a12e72ef2",
       "version_major": 2,
       "version_minor": 0
      },
      "text/plain": [
       "  0%|          | 0/2 [00:00<?, ?it/s]"
      ]
     },
     "metadata": {},
     "output_type": "display_data"
    },
    {
     "name": "stdout",
     "output_type": "stream",
     "text": [
      "231\n"
     ]
    },
    {
     "data": {
      "application/vnd.jupyter.widget-view+json": {
       "model_id": "1c963031c13d4fe684f2c1474894ac0c",
       "version_major": 2,
       "version_minor": 0
      },
      "text/plain": [
       "  0%|          | 0/2 [00:00<?, ?it/s]"
      ]
     },
     "metadata": {},
     "output_type": "display_data"
    },
    {
     "name": "stdout",
     "output_type": "stream",
     "text": [
      "239\n"
     ]
    },
    {
     "data": {
      "application/vnd.jupyter.widget-view+json": {
       "model_id": "adb6f3c864f1406585f38d16eab43b07",
       "version_major": 2,
       "version_minor": 0
      },
      "text/plain": [
       "  0%|          | 0/2 [00:00<?, ?it/s]"
      ]
     },
     "metadata": {},
     "output_type": "display_data"
    },
    {
     "name": "stdout",
     "output_type": "stream",
     "text": [
      "303\n"
     ]
    },
    {
     "data": {
      "application/vnd.jupyter.widget-view+json": {
       "model_id": "193fe121421644069b88a273aa2e6331",
       "version_major": 2,
       "version_minor": 0
      },
      "text/plain": [
       "  0%|          | 0/2 [00:00<?, ?it/s]"
      ]
     },
     "metadata": {},
     "output_type": "display_data"
    },
    {
     "name": "stdout",
     "output_type": "stream",
     "text": [
      "100\n"
     ]
    },
    {
     "data": {
      "application/vnd.jupyter.widget-view+json": {
       "model_id": "5b0c0625052e4f48a848a4bb69677073",
       "version_major": 2,
       "version_minor": 0
      },
      "text/plain": [
       "  0%|          | 0/2 [00:00<?, ?it/s]"
      ]
     },
     "metadata": {},
     "output_type": "display_data"
    },
    {
     "name": "stdout",
     "output_type": "stream",
     "text": [
      "275\n"
     ]
    },
    {
     "data": {
      "application/vnd.jupyter.widget-view+json": {
       "model_id": "6f79072fcbb14a5f9d9f600e843daab6",
       "version_major": 2,
       "version_minor": 0
      },
      "text/plain": [
       "  0%|          | 0/2 [00:00<?, ?it/s]"
      ]
     },
     "metadata": {},
     "output_type": "display_data"
    },
    {
     "name": "stdout",
     "output_type": "stream",
     "text": [
      "465\n"
     ]
    },
    {
     "data": {
      "application/vnd.jupyter.widget-view+json": {
       "model_id": "4a4f2c7cdd544e7ab80ca9fa0814dab3",
       "version_major": 2,
       "version_minor": 0
      },
      "text/plain": [
       "  0%|          | 0/2 [00:00<?, ?it/s]"
      ]
     },
     "metadata": {},
     "output_type": "display_data"
    },
    {
     "name": "stdout",
     "output_type": "stream",
     "text": [
      "265\n"
     ]
    },
    {
     "data": {
      "application/vnd.jupyter.widget-view+json": {
       "model_id": "817b5e6b489949569243f6edfaa0e488",
       "version_major": 2,
       "version_minor": 0
      },
      "text/plain": [
       "  0%|          | 0/2 [00:00<?, ?it/s]"
      ]
     },
     "metadata": {},
     "output_type": "display_data"
    },
    {
     "name": "stdout",
     "output_type": "stream",
     "text": [
      "1830\n"
     ]
    },
    {
     "data": {
      "application/vnd.jupyter.widget-view+json": {
       "model_id": "bf4a84a724e049038191de8a59c4012f",
       "version_major": 2,
       "version_minor": 0
      },
      "text/plain": [
       "  0%|          | 0/3 [00:00<?, ?it/s]"
      ]
     },
     "metadata": {},
     "output_type": "display_data"
    },
    {
     "name": "stdout",
     "output_type": "stream",
     "text": [
      "201\n"
     ]
    },
    {
     "data": {
      "application/vnd.jupyter.widget-view+json": {
       "model_id": "56d072d82b4a405b9b52c08fa9357e9b",
       "version_major": 2,
       "version_minor": 0
      },
      "text/plain": [
       "  0%|          | 0/2 [00:00<?, ?it/s]"
      ]
     },
     "metadata": {},
     "output_type": "display_data"
    },
    {
     "name": "stdout",
     "output_type": "stream",
     "text": [
      "466\n"
     ]
    },
    {
     "data": {
      "application/vnd.jupyter.widget-view+json": {
       "model_id": "f9f0ce233f3a4da7a573449635a9fad2",
       "version_major": 2,
       "version_minor": 0
      },
      "text/plain": [
       "  0%|          | 0/2 [00:00<?, ?it/s]"
      ]
     },
     "metadata": {},
     "output_type": "display_data"
    },
    {
     "name": "stdout",
     "output_type": "stream",
     "text": [
      "986\n"
     ]
    },
    {
     "data": {
      "application/vnd.jupyter.widget-view+json": {
       "model_id": "fa382ef24c894062a259a46499844c99",
       "version_major": 2,
       "version_minor": 0
      },
      "text/plain": [
       "  0%|          | 0/2 [00:00<?, ?it/s]"
      ]
     },
     "metadata": {},
     "output_type": "display_data"
    },
    {
     "name": "stdout",
     "output_type": "stream",
     "text": [
      "358\n"
     ]
    },
    {
     "data": {
      "application/vnd.jupyter.widget-view+json": {
       "model_id": "b5b076112c8240aea585d6ef07ea0c46",
       "version_major": 2,
       "version_minor": 0
      },
      "text/plain": [
       "  0%|          | 0/2 [00:00<?, ?it/s]"
      ]
     },
     "metadata": {},
     "output_type": "display_data"
    },
    {
     "name": "stdout",
     "output_type": "stream",
     "text": [
      "1718\n"
     ]
    },
    {
     "data": {
      "application/vnd.jupyter.widget-view+json": {
       "model_id": "e57e5cafaf67482386f8a1e66800d516",
       "version_major": 2,
       "version_minor": 0
      },
      "text/plain": [
       "  0%|          | 0/3 [00:00<?, ?it/s]"
      ]
     },
     "metadata": {},
     "output_type": "display_data"
    },
    {
     "name": "stdout",
     "output_type": "stream",
     "text": [
      "130\n"
     ]
    },
    {
     "data": {
      "application/vnd.jupyter.widget-view+json": {
       "model_id": "b4f0f0bbda604796ac540b65d92e2c52",
       "version_major": 2,
       "version_minor": 0
      },
      "text/plain": [
       "  0%|          | 0/2 [00:00<?, ?it/s]"
      ]
     },
     "metadata": {},
     "output_type": "display_data"
    },
    {
     "name": "stdout",
     "output_type": "stream",
     "text": [
      "203\n"
     ]
    },
    {
     "data": {
      "application/vnd.jupyter.widget-view+json": {
       "model_id": "47601f9f9b6e439b844315936904f00d",
       "version_major": 2,
       "version_minor": 0
      },
      "text/plain": [
       "  0%|          | 0/2 [00:00<?, ?it/s]"
      ]
     },
     "metadata": {},
     "output_type": "display_data"
    },
    {
     "name": "stdout",
     "output_type": "stream",
     "text": [
      "769\n"
     ]
    },
    {
     "data": {
      "application/vnd.jupyter.widget-view+json": {
       "model_id": "b9384435b7a140b7be3bb79e33a08012",
       "version_major": 2,
       "version_minor": 0
      },
      "text/plain": [
       "  0%|          | 0/2 [00:00<?, ?it/s]"
      ]
     },
     "metadata": {},
     "output_type": "display_data"
    },
    {
     "name": "stdout",
     "output_type": "stream",
     "text": [
      "320\n"
     ]
    },
    {
     "data": {
      "application/vnd.jupyter.widget-view+json": {
       "model_id": "79d880d189d84f02bb77c8646bc86403",
       "version_major": 2,
       "version_minor": 0
      },
      "text/plain": [
       "  0%|          | 0/2 [00:00<?, ?it/s]"
      ]
     },
     "metadata": {},
     "output_type": "display_data"
    },
    {
     "name": "stdout",
     "output_type": "stream",
     "text": [
      "121\n"
     ]
    },
    {
     "data": {
      "application/vnd.jupyter.widget-view+json": {
       "model_id": "075e7f69b0fe49d68d0901c3f9f246ec",
       "version_major": 2,
       "version_minor": 0
      },
      "text/plain": [
       "  0%|          | 0/2 [00:00<?, ?it/s]"
      ]
     },
     "metadata": {},
     "output_type": "display_data"
    },
    {
     "name": "stdout",
     "output_type": "stream",
     "text": [
      "171\n"
     ]
    },
    {
     "data": {
      "application/vnd.jupyter.widget-view+json": {
       "model_id": "5eb63aec2fd34a4c8963808d2e68016d",
       "version_major": 2,
       "version_minor": 0
      },
      "text/plain": [
       "  0%|          | 0/2 [00:00<?, ?it/s]"
      ]
     },
     "metadata": {},
     "output_type": "display_data"
    },
    {
     "name": "stdout",
     "output_type": "stream",
     "text": [
      "150\n"
     ]
    },
    {
     "data": {
      "application/vnd.jupyter.widget-view+json": {
       "model_id": "f5a17308ebeb43659475dff76b40ac6c",
       "version_major": 2,
       "version_minor": 0
      },
      "text/plain": [
       "  0%|          | 0/2 [00:00<?, ?it/s]"
      ]
     },
     "metadata": {},
     "output_type": "display_data"
    },
    {
     "name": "stdout",
     "output_type": "stream",
     "text": [
      "68\n"
     ]
    },
    {
     "data": {
      "application/vnd.jupyter.widget-view+json": {
       "model_id": "3e0ee99c65e54e3baa0ff8084748ce22",
       "version_major": 2,
       "version_minor": 0
      },
      "text/plain": [
       "  0%|          | 0/2 [00:00<?, ?it/s]"
      ]
     },
     "metadata": {},
     "output_type": "display_data"
    },
    {
     "name": "stdout",
     "output_type": "stream",
     "text": [
      "55\n"
     ]
    },
    {
     "data": {
      "application/vnd.jupyter.widget-view+json": {
       "model_id": "6b1848fd37594746b57773ea06a73947",
       "version_major": 2,
       "version_minor": 0
      },
      "text/plain": [
       "  0%|          | 0/2 [00:00<?, ?it/s]"
      ]
     },
     "metadata": {},
     "output_type": "display_data"
    },
    {
     "name": "stdout",
     "output_type": "stream",
     "text": [
      "89\n"
     ]
    },
    {
     "data": {
      "application/vnd.jupyter.widget-view+json": {
       "model_id": "5695a02935314b3d9a2dc755d11e3f3a",
       "version_major": 2,
       "version_minor": 0
      },
      "text/plain": [
       "  0%|          | 0/2 [00:00<?, ?it/s]"
      ]
     },
     "metadata": {},
     "output_type": "display_data"
    },
    {
     "name": "stdout",
     "output_type": "stream",
     "text": [
      "38\n"
     ]
    },
    {
     "data": {
      "application/vnd.jupyter.widget-view+json": {
       "model_id": "8210285e27fb437d8183af657788a674",
       "version_major": 2,
       "version_minor": 0
      },
      "text/plain": [
       "  0%|          | 0/2 [00:00<?, ?it/s]"
      ]
     },
     "metadata": {},
     "output_type": "display_data"
    },
    {
     "name": "stdout",
     "output_type": "stream",
     "text": [
      "73\n"
     ]
    },
    {
     "data": {
      "application/vnd.jupyter.widget-view+json": {
       "model_id": "d97edb2a20954d5db4f8eaeb0b7bf9c7",
       "version_major": 2,
       "version_minor": 0
      },
      "text/plain": [
       "  0%|          | 0/2 [00:00<?, ?it/s]"
      ]
     },
     "metadata": {},
     "output_type": "display_data"
    },
    {
     "name": "stdout",
     "output_type": "stream",
     "text": [
      "101\n"
     ]
    },
    {
     "data": {
      "application/vnd.jupyter.widget-view+json": {
       "model_id": "6470adc376a24f7f98ed7281b46f86f2",
       "version_major": 2,
       "version_minor": 0
      },
      "text/plain": [
       "  0%|          | 0/2 [00:00<?, ?it/s]"
      ]
     },
     "metadata": {},
     "output_type": "display_data"
    },
    {
     "name": "stdout",
     "output_type": "stream",
     "text": [
      "58\n"
     ]
    },
    {
     "data": {
      "application/vnd.jupyter.widget-view+json": {
       "model_id": "8080917e483142f28766799ca56f5ab9",
       "version_major": 2,
       "version_minor": 0
      },
      "text/plain": [
       "  0%|          | 0/2 [00:00<?, ?it/s]"
      ]
     },
     "metadata": {},
     "output_type": "display_data"
    },
    {
     "name": "stdout",
     "output_type": "stream",
     "text": [
      "631\n"
     ]
    },
    {
     "data": {
      "application/vnd.jupyter.widget-view+json": {
       "model_id": "4fd07aeba7c84348b509ed2b134bb679",
       "version_major": 2,
       "version_minor": 0
      },
      "text/plain": [
       "  0%|          | 0/2 [00:00<?, ?it/s]"
      ]
     },
     "metadata": {},
     "output_type": "display_data"
    },
    {
     "name": "stdout",
     "output_type": "stream",
     "text": [
      "125\n"
     ]
    },
    {
     "data": {
      "application/vnd.jupyter.widget-view+json": {
       "model_id": "6e456afef9614ab9bcdff192a6760ab0",
       "version_major": 2,
       "version_minor": 0
      },
      "text/plain": [
       "  0%|          | 0/2 [00:00<?, ?it/s]"
      ]
     },
     "metadata": {},
     "output_type": "display_data"
    },
    {
     "name": "stdout",
     "output_type": "stream",
     "text": [
      "4466\n"
     ]
    },
    {
     "data": {
      "application/vnd.jupyter.widget-view+json": {
       "model_id": "b0c2862007224bdfb5600d3ad871c9bf",
       "version_major": 2,
       "version_minor": 0
      },
      "text/plain": [
       "  0%|          | 0/6 [00:00<?, ?it/s]"
      ]
     },
     "metadata": {},
     "output_type": "display_data"
    },
    {
     "name": "stdout",
     "output_type": "stream",
     "text": [
      "1129\n"
     ]
    },
    {
     "data": {
      "application/vnd.jupyter.widget-view+json": {
       "model_id": "97485fc7676349f7b3fe418f977ae7f8",
       "version_major": 2,
       "version_minor": 0
      },
      "text/plain": [
       "  0%|          | 0/3 [00:00<?, ?it/s]"
      ]
     },
     "metadata": {},
     "output_type": "display_data"
    },
    {
     "name": "stdout",
     "output_type": "stream",
     "text": [
      "1504\n"
     ]
    },
    {
     "data": {
      "application/vnd.jupyter.widget-view+json": {
       "model_id": "a1ace981f400412687f21183fb075454",
       "version_major": 2,
       "version_minor": 0
      },
      "text/plain": [
       "  0%|          | 0/3 [00:00<?, ?it/s]"
      ]
     },
     "metadata": {},
     "output_type": "display_data"
    },
    {
     "name": "stdout",
     "output_type": "stream",
     "text": [
      "1618\n"
     ]
    },
    {
     "data": {
      "application/vnd.jupyter.widget-view+json": {
       "model_id": "73540a48f3764ec981a9bdb1a532dba4",
       "version_major": 2,
       "version_minor": 0
      },
      "text/plain": [
       "  0%|          | 0/3 [00:00<?, ?it/s]"
      ]
     },
     "metadata": {},
     "output_type": "display_data"
    },
    {
     "name": "stdout",
     "output_type": "stream",
     "text": [
      "682\n"
     ]
    },
    {
     "data": {
      "application/vnd.jupyter.widget-view+json": {
       "model_id": "85879da184eb4f2b94f3bd2fb107a7f9",
       "version_major": 2,
       "version_minor": 0
      },
      "text/plain": [
       "  0%|          | 0/2 [00:00<?, ?it/s]"
      ]
     },
     "metadata": {},
     "output_type": "display_data"
    },
    {
     "name": "stdout",
     "output_type": "stream",
     "text": [
      "3609\n"
     ]
    },
    {
     "data": {
      "application/vnd.jupyter.widget-view+json": {
       "model_id": "3309549f1a934b13b476ce43016b5365",
       "version_major": 2,
       "version_minor": 0
      },
      "text/plain": [
       "  0%|          | 0/5 [00:00<?, ?it/s]"
      ]
     },
     "metadata": {},
     "output_type": "display_data"
    },
    {
     "name": "stdout",
     "output_type": "stream",
     "text": [
      "1649\n"
     ]
    },
    {
     "data": {
      "application/vnd.jupyter.widget-view+json": {
       "model_id": "7aeca9a393514e958f0caf0349782877",
       "version_major": 2,
       "version_minor": 0
      },
      "text/plain": [
       "  0%|          | 0/3 [00:00<?, ?it/s]"
      ]
     },
     "metadata": {},
     "output_type": "display_data"
    },
    {
     "name": "stdout",
     "output_type": "stream",
     "text": [
      "1581\n"
     ]
    },
    {
     "data": {
      "application/vnd.jupyter.widget-view+json": {
       "model_id": "e7a469b877ef4ec9ae959495107d2b07",
       "version_major": 2,
       "version_minor": 0
      },
      "text/plain": [
       "  0%|          | 0/3 [00:00<?, ?it/s]"
      ]
     },
     "metadata": {},
     "output_type": "display_data"
    },
    {
     "name": "stdout",
     "output_type": "stream",
     "text": [
      "923\n"
     ]
    },
    {
     "data": {
      "application/vnd.jupyter.widget-view+json": {
       "model_id": "b4acab3374ea4565a27f25300dfe79ae",
       "version_major": 2,
       "version_minor": 0
      },
      "text/plain": [
       "  0%|          | 0/2 [00:00<?, ?it/s]"
      ]
     },
     "metadata": {},
     "output_type": "display_data"
    },
    {
     "name": "stdout",
     "output_type": "stream",
     "text": [
      "347\n"
     ]
    },
    {
     "data": {
      "application/vnd.jupyter.widget-view+json": {
       "model_id": "e39e8205a8e14232b3cc3f54e58c9bb5",
       "version_major": 2,
       "version_minor": 0
      },
      "text/plain": [
       "  0%|          | 0/2 [00:00<?, ?it/s]"
      ]
     },
     "metadata": {},
     "output_type": "display_data"
    },
    {
     "name": "stdout",
     "output_type": "stream",
     "text": [
      "82\n"
     ]
    },
    {
     "data": {
      "application/vnd.jupyter.widget-view+json": {
       "model_id": "6fc03bb88efd4438952aae23427eb3bd",
       "version_major": 2,
       "version_minor": 0
      },
      "text/plain": [
       "  0%|          | 0/2 [00:00<?, ?it/s]"
      ]
     },
     "metadata": {},
     "output_type": "display_data"
    },
    {
     "name": "stdout",
     "output_type": "stream",
     "text": [
      "854\n"
     ]
    },
    {
     "data": {
      "application/vnd.jupyter.widget-view+json": {
       "model_id": "5617204932be435d98d875cf69360085",
       "version_major": 2,
       "version_minor": 0
      },
      "text/plain": [
       "  0%|          | 0/2 [00:00<?, ?it/s]"
      ]
     },
     "metadata": {},
     "output_type": "display_data"
    },
    {
     "name": "stdout",
     "output_type": "stream",
     "text": [
      "470\n"
     ]
    },
    {
     "data": {
      "application/vnd.jupyter.widget-view+json": {
       "model_id": "56c7c94e93044778b246e7ea233b21fb",
       "version_major": 2,
       "version_minor": 0
      },
      "text/plain": [
       "  0%|          | 0/2 [00:00<?, ?it/s]"
      ]
     },
     "metadata": {},
     "output_type": "display_data"
    },
    {
     "name": "stdout",
     "output_type": "stream",
     "text": [
      "401\n"
     ]
    },
    {
     "data": {
      "application/vnd.jupyter.widget-view+json": {
       "model_id": "050da9eaed7b442ebd77205b28eb8664",
       "version_major": 2,
       "version_minor": 0
      },
      "text/plain": [
       "  0%|          | 0/2 [00:00<?, ?it/s]"
      ]
     },
     "metadata": {},
     "output_type": "display_data"
    },
    {
     "name": "stdout",
     "output_type": "stream",
     "text": [
      "404\n"
     ]
    },
    {
     "data": {
      "application/vnd.jupyter.widget-view+json": {
       "model_id": "9affb129090c44b5a915bfdb5bb640c9",
       "version_major": 2,
       "version_minor": 0
      },
      "text/plain": [
       "  0%|          | 0/2 [00:00<?, ?it/s]"
      ]
     },
     "metadata": {},
     "output_type": "display_data"
    },
    {
     "name": "stdout",
     "output_type": "stream",
     "text": [
      "175\n"
     ]
    },
    {
     "data": {
      "application/vnd.jupyter.widget-view+json": {
       "model_id": "68b4cad10546408192dcfa5e71cfe342",
       "version_major": 2,
       "version_minor": 0
      },
      "text/plain": [
       "  0%|          | 0/2 [00:00<?, ?it/s]"
      ]
     },
     "metadata": {},
     "output_type": "display_data"
    },
    {
     "name": "stdout",
     "output_type": "stream",
     "text": [
      "457\n"
     ]
    },
    {
     "data": {
      "application/vnd.jupyter.widget-view+json": {
       "model_id": "4c6ea1a8baad4c388d148387c98d890d",
       "version_major": 2,
       "version_minor": 0
      },
      "text/plain": [
       "  0%|          | 0/2 [00:00<?, ?it/s]"
      ]
     },
     "metadata": {},
     "output_type": "display_data"
    },
    {
     "name": "stdout",
     "output_type": "stream",
     "text": [
      "614\n"
     ]
    },
    {
     "data": {
      "application/vnd.jupyter.widget-view+json": {
       "model_id": "40ba580e35d1441b848d58ab1cc905eb",
       "version_major": 2,
       "version_minor": 0
      },
      "text/plain": [
       "  0%|          | 0/2 [00:00<?, ?it/s]"
      ]
     },
     "metadata": {},
     "output_type": "display_data"
    },
    {
     "name": "stdout",
     "output_type": "stream",
     "text": [
      "480\n"
     ]
    },
    {
     "data": {
      "application/vnd.jupyter.widget-view+json": {
       "model_id": "37ccccb0e52b45a19f4137236a846b52",
       "version_major": 2,
       "version_minor": 0
      },
      "text/plain": [
       "  0%|          | 0/2 [00:00<?, ?it/s]"
      ]
     },
     "metadata": {},
     "output_type": "display_data"
    },
    {
     "name": "stdout",
     "output_type": "stream",
     "text": [
      "1526\n"
     ]
    },
    {
     "data": {
      "application/vnd.jupyter.widget-view+json": {
       "model_id": "e8df1729bbc546eaa33db8bbb839289d",
       "version_major": 2,
       "version_minor": 0
      },
      "text/plain": [
       "  0%|          | 0/3 [00:00<?, ?it/s]"
      ]
     },
     "metadata": {},
     "output_type": "display_data"
    },
    {
     "name": "stdout",
     "output_type": "stream",
     "text": [
      "175\n"
     ]
    },
    {
     "data": {
      "application/vnd.jupyter.widget-view+json": {
       "model_id": "dc244dbde3c14b52834db54b99ed4582",
       "version_major": 2,
       "version_minor": 0
      },
      "text/plain": [
       "  0%|          | 0/2 [00:00<?, ?it/s]"
      ]
     },
     "metadata": {},
     "output_type": "display_data"
    },
    {
     "name": "stdout",
     "output_type": "stream",
     "text": [
      "152\n"
     ]
    },
    {
     "data": {
      "application/vnd.jupyter.widget-view+json": {
       "model_id": "5d9385dc915e4afdaaffb5e348ea0e06",
       "version_major": 2,
       "version_minor": 0
      },
      "text/plain": [
       "  0%|          | 0/2 [00:00<?, ?it/s]"
      ]
     },
     "metadata": {},
     "output_type": "display_data"
    },
    {
     "name": "stdout",
     "output_type": "stream",
     "text": [
      "1157\n"
     ]
    },
    {
     "data": {
      "application/vnd.jupyter.widget-view+json": {
       "model_id": "adcbe38a3f8a436792b7f772ff62b2bc",
       "version_major": 2,
       "version_minor": 0
      },
      "text/plain": [
       "  0%|          | 0/3 [00:00<?, ?it/s]"
      ]
     },
     "metadata": {},
     "output_type": "display_data"
    },
    {
     "name": "stdout",
     "output_type": "stream",
     "text": [
      "195\n"
     ]
    },
    {
     "data": {
      "application/vnd.jupyter.widget-view+json": {
       "model_id": "90d1c905746d4de6baef4a9397372a78",
       "version_major": 2,
       "version_minor": 0
      },
      "text/plain": [
       "  0%|          | 0/2 [00:00<?, ?it/s]"
      ]
     },
     "metadata": {},
     "output_type": "display_data"
    },
    {
     "name": "stdout",
     "output_type": "stream",
     "text": [
      "86\n"
     ]
    },
    {
     "data": {
      "application/vnd.jupyter.widget-view+json": {
       "model_id": "86681c38a3a540f895bc870797e9b104",
       "version_major": 2,
       "version_minor": 0
      },
      "text/plain": [
       "  0%|          | 0/2 [00:00<?, ?it/s]"
      ]
     },
     "metadata": {},
     "output_type": "display_data"
    },
    {
     "name": "stdout",
     "output_type": "stream",
     "text": [
      "63\n"
     ]
    },
    {
     "data": {
      "application/vnd.jupyter.widget-view+json": {
       "model_id": "6d8b05cecc6c4600aaaf8bfe21ed6726",
       "version_major": 2,
       "version_minor": 0
      },
      "text/plain": [
       "  0%|          | 0/2 [00:00<?, ?it/s]"
      ]
     },
     "metadata": {},
     "output_type": "display_data"
    },
    {
     "name": "stdout",
     "output_type": "stream",
     "text": [
      "260\n"
     ]
    },
    {
     "data": {
      "application/vnd.jupyter.widget-view+json": {
       "model_id": "4f1085e59030432cb1f7f9af583261d6",
       "version_major": 2,
       "version_minor": 0
      },
      "text/plain": [
       "  0%|          | 0/2 [00:00<?, ?it/s]"
      ]
     },
     "metadata": {},
     "output_type": "display_data"
    },
    {
     "name": "stdout",
     "output_type": "stream",
     "text": [
      "61\n"
     ]
    },
    {
     "data": {
      "application/vnd.jupyter.widget-view+json": {
       "model_id": "db664fd9a59d45f48d102eeb4de6c135",
       "version_major": 2,
       "version_minor": 0
      },
      "text/plain": [
       "  0%|          | 0/2 [00:00<?, ?it/s]"
      ]
     },
     "metadata": {},
     "output_type": "display_data"
    },
    {
     "name": "stdout",
     "output_type": "stream",
     "text": [
      "42\n"
     ]
    },
    {
     "data": {
      "application/vnd.jupyter.widget-view+json": {
       "model_id": "26b747d755554f259377d92e86689e56",
       "version_major": 2,
       "version_minor": 0
      },
      "text/plain": [
       "  0%|          | 0/2 [00:00<?, ?it/s]"
      ]
     },
     "metadata": {},
     "output_type": "display_data"
    },
    {
     "name": "stdout",
     "output_type": "stream",
     "text": [
      "158\n"
     ]
    },
    {
     "data": {
      "application/vnd.jupyter.widget-view+json": {
       "model_id": "f21b3b7a63c7439895a95ca0ed7bc6e7",
       "version_major": 2,
       "version_minor": 0
      },
      "text/plain": [
       "  0%|          | 0/2 [00:00<?, ?it/s]"
      ]
     },
     "metadata": {},
     "output_type": "display_data"
    },
    {
     "name": "stdout",
     "output_type": "stream",
     "text": [
      "417\n"
     ]
    },
    {
     "data": {
      "application/vnd.jupyter.widget-view+json": {
       "model_id": "4915b6ad697e49d6b06fd4c765f944b9",
       "version_major": 2,
       "version_minor": 0
      },
      "text/plain": [
       "  0%|          | 0/2 [00:00<?, ?it/s]"
      ]
     },
     "metadata": {},
     "output_type": "display_data"
    },
    {
     "name": "stdout",
     "output_type": "stream",
     "text": [
      "113\n"
     ]
    },
    {
     "data": {
      "application/vnd.jupyter.widget-view+json": {
       "model_id": "b64c88893759458fbe23f31dea952514",
       "version_major": 2,
       "version_minor": 0
      },
      "text/plain": [
       "  0%|          | 0/2 [00:00<?, ?it/s]"
      ]
     },
     "metadata": {},
     "output_type": "display_data"
    },
    {
     "name": "stdout",
     "output_type": "stream",
     "text": [
      "873\n"
     ]
    },
    {
     "data": {
      "application/vnd.jupyter.widget-view+json": {
       "model_id": "a6fc634793b341b5ac22caf5740de5a3",
       "version_major": 2,
       "version_minor": 0
      },
      "text/plain": [
       "  0%|          | 0/2 [00:00<?, ?it/s]"
      ]
     },
     "metadata": {},
     "output_type": "display_data"
    },
    {
     "name": "stdout",
     "output_type": "stream",
     "text": [
      "50\n"
     ]
    },
    {
     "data": {
      "application/vnd.jupyter.widget-view+json": {
       "model_id": "974ccb660c2c449d8b7945073f94d0ad",
       "version_major": 2,
       "version_minor": 0
      },
      "text/plain": [
       "  0%|          | 0/2 [00:00<?, ?it/s]"
      ]
     },
     "metadata": {},
     "output_type": "display_data"
    },
    {
     "name": "stdout",
     "output_type": "stream",
     "text": [
      "70\n"
     ]
    },
    {
     "data": {
      "application/vnd.jupyter.widget-view+json": {
       "model_id": "6241abbae5724c859fc3a8389eaba48c",
       "version_major": 2,
       "version_minor": 0
      },
      "text/plain": [
       "  0%|          | 0/2 [00:00<?, ?it/s]"
      ]
     },
     "metadata": {},
     "output_type": "display_data"
    },
    {
     "name": "stdout",
     "output_type": "stream",
     "text": [
      "169\n"
     ]
    },
    {
     "data": {
      "application/vnd.jupyter.widget-view+json": {
       "model_id": "ca09d4a2da49468b9e95040af7ba4833",
       "version_major": 2,
       "version_minor": 0
      },
      "text/plain": [
       "  0%|          | 0/2 [00:00<?, ?it/s]"
      ]
     },
     "metadata": {},
     "output_type": "display_data"
    },
    {
     "name": "stdout",
     "output_type": "stream",
     "text": [
      "108\n"
     ]
    },
    {
     "data": {
      "application/vnd.jupyter.widget-view+json": {
       "model_id": "51492d8e85834b18a1c1ffbc75116e3a",
       "version_major": 2,
       "version_minor": 0
      },
      "text/plain": [
       "  0%|          | 0/2 [00:00<?, ?it/s]"
      ]
     },
     "metadata": {},
     "output_type": "display_data"
    },
    {
     "name": "stdout",
     "output_type": "stream",
     "text": [
      "45\n"
     ]
    },
    {
     "data": {
      "application/vnd.jupyter.widget-view+json": {
       "model_id": "ff4be2363b2443f6a52a16891d2e6fa3",
       "version_major": 2,
       "version_minor": 0
      },
      "text/plain": [
       "  0%|          | 0/2 [00:00<?, ?it/s]"
      ]
     },
     "metadata": {},
     "output_type": "display_data"
    },
    {
     "name": "stdout",
     "output_type": "stream",
     "text": [
      "37\n"
     ]
    },
    {
     "data": {
      "application/vnd.jupyter.widget-view+json": {
       "model_id": "b1a77165a99b4d648d6f2efe7d089baa",
       "version_major": 2,
       "version_minor": 0
      },
      "text/plain": [
       "  0%|          | 0/2 [00:00<?, ?it/s]"
      ]
     },
     "metadata": {},
     "output_type": "display_data"
    },
    {
     "name": "stdout",
     "output_type": "stream",
     "text": [
      "31\n"
     ]
    },
    {
     "data": {
      "application/vnd.jupyter.widget-view+json": {
       "model_id": "91ddc191aaf44298a4bee8567b8c2f57",
       "version_major": 2,
       "version_minor": 0
      },
      "text/plain": [
       "  0%|          | 0/2 [00:00<?, ?it/s]"
      ]
     },
     "metadata": {},
     "output_type": "display_data"
    },
    {
     "name": "stdout",
     "output_type": "stream",
     "text": [
      "181\n"
     ]
    },
    {
     "data": {
      "application/vnd.jupyter.widget-view+json": {
       "model_id": "3873f4dbedc7445296e18fc0d822fc37",
       "version_major": 2,
       "version_minor": 0
      },
      "text/plain": [
       "  0%|          | 0/2 [00:00<?, ?it/s]"
      ]
     },
     "metadata": {},
     "output_type": "display_data"
    },
    {
     "name": "stdout",
     "output_type": "stream",
     "text": [
      "73\n"
     ]
    },
    {
     "data": {
      "application/vnd.jupyter.widget-view+json": {
       "model_id": "ba1468f006d94eaf918c4e2b020c4cc6",
       "version_major": 2,
       "version_minor": 0
      },
      "text/plain": [
       "  0%|          | 0/2 [00:00<?, ?it/s]"
      ]
     },
     "metadata": {},
     "output_type": "display_data"
    },
    {
     "name": "stdout",
     "output_type": "stream",
     "text": [
      "32\n"
     ]
    },
    {
     "data": {
      "application/vnd.jupyter.widget-view+json": {
       "model_id": "620689260f2b4b4d9c694f612038eeb3",
       "version_major": 2,
       "version_minor": 0
      },
      "text/plain": [
       "  0%|          | 0/2 [00:00<?, ?it/s]"
      ]
     },
     "metadata": {},
     "output_type": "display_data"
    },
    {
     "name": "stdout",
     "output_type": "stream",
     "text": [
      "67\n"
     ]
    },
    {
     "data": {
      "application/vnd.jupyter.widget-view+json": {
       "model_id": "43b80af09cde4c268e6d9102901000d6",
       "version_major": 2,
       "version_minor": 0
      },
      "text/plain": [
       "  0%|          | 0/2 [00:00<?, ?it/s]"
      ]
     },
     "metadata": {},
     "output_type": "display_data"
    },
    {
     "name": "stdout",
     "output_type": "stream",
     "text": [
      "54\n"
     ]
    },
    {
     "data": {
      "application/vnd.jupyter.widget-view+json": {
       "model_id": "33c7eae1e689430ea8a55cd8ea6ebf8b",
       "version_major": 2,
       "version_minor": 0
      },
      "text/plain": [
       "  0%|          | 0/2 [00:00<?, ?it/s]"
      ]
     },
     "metadata": {},
     "output_type": "display_data"
    },
    {
     "name": "stdout",
     "output_type": "stream",
     "text": [
      "23\n"
     ]
    },
    {
     "data": {
      "application/vnd.jupyter.widget-view+json": {
       "model_id": "febff30b13504c74815d3ad8b5726b1a",
       "version_major": 2,
       "version_minor": 0
      },
      "text/plain": [
       "  0%|          | 0/2 [00:00<?, ?it/s]"
      ]
     },
     "metadata": {},
     "output_type": "display_data"
    },
    {
     "name": "stdout",
     "output_type": "stream",
     "text": [
      "975\n"
     ]
    },
    {
     "data": {
      "application/vnd.jupyter.widget-view+json": {
       "model_id": "2976dc57fea34c65bd64b92f9a2fa96d",
       "version_major": 2,
       "version_minor": 0
      },
      "text/plain": [
       "  0%|          | 0/2 [00:00<?, ?it/s]"
      ]
     },
     "metadata": {},
     "output_type": "display_data"
    },
    {
     "name": "stdout",
     "output_type": "stream",
     "text": [
      "752\n"
     ]
    },
    {
     "data": {
      "application/vnd.jupyter.widget-view+json": {
       "model_id": "8166149bede141dc982dfc01b50ab916",
       "version_major": 2,
       "version_minor": 0
      },
      "text/plain": [
       "  0%|          | 0/2 [00:00<?, ?it/s]"
      ]
     },
     "metadata": {},
     "output_type": "display_data"
    },
    {
     "name": "stdout",
     "output_type": "stream",
     "text": [
      "514\n"
     ]
    },
    {
     "data": {
      "application/vnd.jupyter.widget-view+json": {
       "model_id": "9f834d49364a4aa8b82f76f64e4adf3b",
       "version_major": 2,
       "version_minor": 0
      },
      "text/plain": [
       "  0%|          | 0/2 [00:00<?, ?it/s]"
      ]
     },
     "metadata": {},
     "output_type": "display_data"
    },
    {
     "name": "stdout",
     "output_type": "stream",
     "text": [
      "1140\n"
     ]
    },
    {
     "data": {
      "application/vnd.jupyter.widget-view+json": {
       "model_id": "053911a4fc064ed08f17e512c8fac417",
       "version_major": 2,
       "version_minor": 0
      },
      "text/plain": [
       "  0%|          | 0/3 [00:00<?, ?it/s]"
      ]
     },
     "metadata": {},
     "output_type": "display_data"
    },
    {
     "name": "stdout",
     "output_type": "stream",
     "text": [
      "147\n"
     ]
    },
    {
     "data": {
      "application/vnd.jupyter.widget-view+json": {
       "model_id": "1f7d702004d942369f0fd98cf85ae486",
       "version_major": 2,
       "version_minor": 0
      },
      "text/plain": [
       "  0%|          | 0/2 [00:00<?, ?it/s]"
      ]
     },
     "metadata": {},
     "output_type": "display_data"
    },
    {
     "name": "stdout",
     "output_type": "stream",
     "text": [
      "210\n"
     ]
    },
    {
     "data": {
      "application/vnd.jupyter.widget-view+json": {
       "model_id": "d5e28d4d8d23442f848c5fc734b31bc8",
       "version_major": 2,
       "version_minor": 0
      },
      "text/plain": [
       "  0%|          | 0/2 [00:00<?, ?it/s]"
      ]
     },
     "metadata": {},
     "output_type": "display_data"
    },
    {
     "name": "stdout",
     "output_type": "stream",
     "text": [
      "2659\n"
     ]
    },
    {
     "data": {
      "application/vnd.jupyter.widget-view+json": {
       "model_id": "08dbf688d2534f06a1adcb99736ef00e",
       "version_major": 2,
       "version_minor": 0
      },
      "text/plain": [
       "  0%|          | 0/4 [00:00<?, ?it/s]"
      ]
     },
     "metadata": {},
     "output_type": "display_data"
    },
    {
     "name": "stdout",
     "output_type": "stream",
     "text": [
      "551\n"
     ]
    },
    {
     "data": {
      "application/vnd.jupyter.widget-view+json": {
       "model_id": "3ab9548c4a044e9191742ee4564e14c4",
       "version_major": 2,
       "version_minor": 0
      },
      "text/plain": [
       "  0%|          | 0/2 [00:00<?, ?it/s]"
      ]
     },
     "metadata": {},
     "output_type": "display_data"
    },
    {
     "name": "stdout",
     "output_type": "stream",
     "text": [
      "301\n"
     ]
    },
    {
     "data": {
      "application/vnd.jupyter.widget-view+json": {
       "model_id": "cafa10430610414ea6a7257fe4aebba4",
       "version_major": 2,
       "version_minor": 0
      },
      "text/plain": [
       "  0%|          | 0/2 [00:00<?, ?it/s]"
      ]
     },
     "metadata": {},
     "output_type": "display_data"
    },
    {
     "name": "stdout",
     "output_type": "stream",
     "text": [
      "83\n"
     ]
    },
    {
     "data": {
      "application/vnd.jupyter.widget-view+json": {
       "model_id": "aee5c402d4c44093bd09d2a955d16bce",
       "version_major": 2,
       "version_minor": 0
      },
      "text/plain": [
       "  0%|          | 0/2 [00:00<?, ?it/s]"
      ]
     },
     "metadata": {},
     "output_type": "display_data"
    },
    {
     "name": "stdout",
     "output_type": "stream",
     "text": [
      "287\n"
     ]
    },
    {
     "data": {
      "application/vnd.jupyter.widget-view+json": {
       "model_id": "88ed151b56314ccb811f385277d255d3",
       "version_major": 2,
       "version_minor": 0
      },
      "text/plain": [
       "  0%|          | 0/2 [00:00<?, ?it/s]"
      ]
     },
     "metadata": {},
     "output_type": "display_data"
    },
    {
     "name": "stdout",
     "output_type": "stream",
     "text": [
      "94\n"
     ]
    },
    {
     "data": {
      "application/vnd.jupyter.widget-view+json": {
       "model_id": "d1c9075700d347fa8bc351bf5ba407bd",
       "version_major": 2,
       "version_minor": 0
      },
      "text/plain": [
       "  0%|          | 0/2 [00:00<?, ?it/s]"
      ]
     },
     "metadata": {},
     "output_type": "display_data"
    },
    {
     "name": "stdout",
     "output_type": "stream",
     "text": [
      "144\n"
     ]
    },
    {
     "data": {
      "application/vnd.jupyter.widget-view+json": {
       "model_id": "2a4f4956daef4c6aa687511c94a8b28d",
       "version_major": 2,
       "version_minor": 0
      },
      "text/plain": [
       "  0%|          | 0/2 [00:00<?, ?it/s]"
      ]
     },
     "metadata": {},
     "output_type": "display_data"
    },
    {
     "name": "stdout",
     "output_type": "stream",
     "text": [
      "194\n"
     ]
    },
    {
     "data": {
      "application/vnd.jupyter.widget-view+json": {
       "model_id": "7e1c9f640a9b4f6ca75aed3b6112961c",
       "version_major": 2,
       "version_minor": 0
      },
      "text/plain": [
       "  0%|          | 0/2 [00:00<?, ?it/s]"
      ]
     },
     "metadata": {},
     "output_type": "display_data"
    },
    {
     "name": "stdout",
     "output_type": "stream",
     "text": [
      "45\n"
     ]
    },
    {
     "data": {
      "application/vnd.jupyter.widget-view+json": {
       "model_id": "1bf130d0f80d40eb89952b6d4f67732e",
       "version_major": 2,
       "version_minor": 0
      },
      "text/plain": [
       "  0%|          | 0/2 [00:00<?, ?it/s]"
      ]
     },
     "metadata": {},
     "output_type": "display_data"
    },
    {
     "name": "stdout",
     "output_type": "stream",
     "text": [
      "52\n"
     ]
    },
    {
     "data": {
      "application/vnd.jupyter.widget-view+json": {
       "model_id": "0b60abc058654e47a990a4d498d7f9bc",
       "version_major": 2,
       "version_minor": 0
      },
      "text/plain": [
       "  0%|          | 0/2 [00:00<?, ?it/s]"
      ]
     },
     "metadata": {},
     "output_type": "display_data"
    },
    {
     "name": "stdout",
     "output_type": "stream",
     "text": [
      "822\n"
     ]
    },
    {
     "data": {
      "application/vnd.jupyter.widget-view+json": {
       "model_id": "08c22a30b03949e5a2b6cd80a13423ab",
       "version_major": 2,
       "version_minor": 0
      },
      "text/plain": [
       "  0%|          | 0/2 [00:00<?, ?it/s]"
      ]
     },
     "metadata": {},
     "output_type": "display_data"
    },
    {
     "name": "stdout",
     "output_type": "stream",
     "text": [
      "232\n"
     ]
    },
    {
     "data": {
      "application/vnd.jupyter.widget-view+json": {
       "model_id": "917bcf9e1a604ee0b5a0c3236752dd2f",
       "version_major": 2,
       "version_minor": 0
      },
      "text/plain": [
       "  0%|          | 0/2 [00:00<?, ?it/s]"
      ]
     },
     "metadata": {},
     "output_type": "display_data"
    },
    {
     "name": "stdout",
     "output_type": "stream",
     "text": [
      "51\n"
     ]
    },
    {
     "data": {
      "application/vnd.jupyter.widget-view+json": {
       "model_id": "4eaae8c7712c4511bf9bffb1bc170d1e",
       "version_major": 2,
       "version_minor": 0
      },
      "text/plain": [
       "  0%|          | 0/2 [00:00<?, ?it/s]"
      ]
     },
     "metadata": {},
     "output_type": "display_data"
    },
    {
     "name": "stdout",
     "output_type": "stream",
     "text": [
      "42\n"
     ]
    },
    {
     "data": {
      "application/vnd.jupyter.widget-view+json": {
       "model_id": "838342ef5b8f48cfa824f776b99e93ad",
       "version_major": 2,
       "version_minor": 0
      },
      "text/plain": [
       "  0%|          | 0/2 [00:00<?, ?it/s]"
      ]
     },
     "metadata": {},
     "output_type": "display_data"
    },
    {
     "data": {
      "application/vnd.jupyter.widget-view+json": {
       "model_id": "8cba2353ac054e0a9eae405d19a4f66b",
       "version_major": 2,
       "version_minor": 0
      },
      "text/plain": [
       "  0%|          | 0/10 [00:00<?, ?it/s]"
      ]
     },
     "metadata": {},
     "output_type": "display_data"
    },
    {
     "name": "stdout",
     "output_type": "stream",
     "text": [
      "933\n"
     ]
    },
    {
     "data": {
      "application/vnd.jupyter.widget-view+json": {
       "model_id": "4b6751e8c1a041ff873eda0304eebf3f",
       "version_major": 2,
       "version_minor": 0
      },
      "text/plain": [
       "  0%|          | 0/2 [00:00<?, ?it/s]"
      ]
     },
     "metadata": {},
     "output_type": "display_data"
    },
    {
     "name": "stdout",
     "output_type": "stream",
     "text": [
      "7419\n"
     ]
    },
    {
     "data": {
      "application/vnd.jupyter.widget-view+json": {
       "model_id": "535c8a72150049bc8062ff0b4a997ef0",
       "version_major": 2,
       "version_minor": 0
      },
      "text/plain": [
       "  0%|          | 0/9 [00:00<?, ?it/s]"
      ]
     },
     "metadata": {},
     "output_type": "display_data"
    },
    {
     "name": "stdout",
     "output_type": "stream",
     "text": [
      "2320\n"
     ]
    },
    {
     "data": {
      "application/vnd.jupyter.widget-view+json": {
       "model_id": "b42cd7374b2e4a0cbb69a634043ba4f7",
       "version_major": 2,
       "version_minor": 0
      },
      "text/plain": [
       "  0%|          | 0/4 [00:00<?, ?it/s]"
      ]
     },
     "metadata": {},
     "output_type": "display_data"
    },
    {
     "name": "stdout",
     "output_type": "stream",
     "text": [
      "2523\n"
     ]
    },
    {
     "data": {
      "application/vnd.jupyter.widget-view+json": {
       "model_id": "d9149e4ed00c4a5b85b7eecc59874bc7",
       "version_major": 2,
       "version_minor": 0
      },
      "text/plain": [
       "  0%|          | 0/4 [00:00<?, ?it/s]"
      ]
     },
     "metadata": {},
     "output_type": "display_data"
    },
    {
     "name": "stdout",
     "output_type": "stream",
     "text": [
      "1037\n"
     ]
    },
    {
     "data": {
      "application/vnd.jupyter.widget-view+json": {
       "model_id": "0edf2151d8034eeb945b9b8c01894dc2",
       "version_major": 2,
       "version_minor": 0
      },
      "text/plain": [
       "  0%|          | 0/3 [00:00<?, ?it/s]"
      ]
     },
     "metadata": {},
     "output_type": "display_data"
    },
    {
     "name": "stdout",
     "output_type": "stream",
     "text": [
      "1130\n"
     ]
    },
    {
     "data": {
      "application/vnd.jupyter.widget-view+json": {
       "model_id": "6f0ab18349c34bddae0453373a15a34d",
       "version_major": 2,
       "version_minor": 0
      },
      "text/plain": [
       "  0%|          | 0/3 [00:00<?, ?it/s]"
      ]
     },
     "metadata": {},
     "output_type": "display_data"
    },
    {
     "name": "stdout",
     "output_type": "stream",
     "text": [
      "7662\n"
     ]
    },
    {
     "data": {
      "application/vnd.jupyter.widget-view+json": {
       "model_id": "8884412ae0f944fa92dfb886846a47ff",
       "version_major": 2,
       "version_minor": 0
      },
      "text/plain": [
       "  0%|          | 0/9 [00:00<?, ?it/s]"
      ]
     },
     "metadata": {},
     "output_type": "display_data"
    },
    {
     "name": "stdout",
     "output_type": "stream",
     "text": [
      "21193\n"
     ]
    },
    {
     "data": {
      "application/vnd.jupyter.widget-view+json": {
       "model_id": "8749e66b22e1406aa637fcde02e62d13",
       "version_major": 2,
       "version_minor": 0
      },
      "text/plain": [
       "  0%|          | 0/23 [00:00<?, ?it/s]"
      ]
     },
     "metadata": {},
     "output_type": "display_data"
    },
    {
     "name": "stdout",
     "output_type": "stream",
     "text": [
      "3294\n"
     ]
    },
    {
     "data": {
      "application/vnd.jupyter.widget-view+json": {
       "model_id": "cd6734887abf4e42b2e2fb7db7a9552d",
       "version_major": 2,
       "version_minor": 0
      },
      "text/plain": [
       "  0%|          | 0/5 [00:00<?, ?it/s]"
      ]
     },
     "metadata": {},
     "output_type": "display_data"
    },
    {
     "name": "stdout",
     "output_type": "stream",
     "text": [
      "3264\n"
     ]
    },
    {
     "data": {
      "application/vnd.jupyter.widget-view+json": {
       "model_id": "10c8e63527e84357b06577d5677bfa7e",
       "version_major": 2,
       "version_minor": 0
      },
      "text/plain": [
       "  0%|          | 0/5 [00:00<?, ?it/s]"
      ]
     },
     "metadata": {},
     "output_type": "display_data"
    },
    {
     "data": {
      "text/plain": [
       "'Succesfully lemmatised the given texts.'"
      ]
     },
     "execution_count": 2,
     "metadata": {},
     "output_type": "execute_result"
    }
   ],
   "source": [
    "INPUT_DIR = \"../../../../data/enwiki_city_pairs/\"\n",
    "OUTPUT_DIR = \"../../../../data/enwiki_city_pairs_lemmatised/VERB_SPACY_LARGE/\"\n",
    "POS = [\"VERB\"]\n",
    "\n",
    "create_lemmatised_wordlists(INPUT_DIR=INPUT_DIR, OUTPUT_DIR=OUTPUT_DIR, POS=POS)"
   ]
  },
  {
   "cell_type": "markdown",
   "id": "0596bce0",
   "metadata": {},
   "source": [
    "# Lemmatize Text Window ( VERBS & NOUNS )"
   ]
  },
  {
   "cell_type": "code",
   "execution_count": null,
   "id": "344a705b",
   "metadata": {},
   "outputs": [],
   "source": [
    "INPUT_DIR = \"../../../../data/enwiki_city_pairs/\"\n",
    "OUTPUT_DIR = \"../../../../data/enwiki_city_pairs_lemmatised/VERB_SPACY_LARGE/\"\n",
    "POS = [\"VERB\", \"NOUN\"]\n",
    "\n",
    "create_lemmatised_wordlists(INPUT_DIR=INPUT_DIR, OUTPUT_DIR=OUTPUT_DIR, POS=POS)"
   ]
  },
  {
   "cell_type": "markdown",
   "id": "e6d8fa2a",
   "metadata": {},
   "source": [
    "<hr>"
   ]
  },
  {
   "cell_type": "markdown",
   "id": "388407d0",
   "metadata": {},
   "source": [
    "# Lemmatize Single File"
   ]
  },
  {
   "cell_type": "code",
   "execution_count": null,
   "id": "9d430f64",
   "metadata": {},
   "outputs": [],
   "source": [
    "lemmatize_file(\"../../../../data/enwiki_city_pairs/biggest_cities_20/london_manchester.txt\",\n",
    "              \"../../../../data/test/,\n",
    "              'london_manchester', [\"VERB\"])\n",
    "#create_lemmatised_wordlists"
   ]
  },
  {
   "cell_type": "code",
   "execution_count": 7,
   "id": "12cfd447",
   "metadata": {},
   "outputs": [
    {
     "data": {
      "text/plain": [
       "['embark',\n",
       " 'change',\n",
       " 'regard',\n",
       " 'open',\n",
       " 'anticipate',\n",
       " 'mount',\n",
       " 'produce',\n",
       " 'include',\n",
       " 'write',\n",
       " 'attract',\n",
       " 'continue',\n",
       " 'visit',\n",
       " 'end',\n",
       " 'sell',\n",
       " 'reveal',\n",
       " 'receive',\n",
       " 'fill',\n",
       " 'turn',\n",
       " 'reproduce',\n",
       " 'write',\n",
       " 'perform',\n",
       " 'come',\n",
       " 'film',\n",
       " 'know',\n",
       " 'film',\n",
       " 'hold',\n",
       " 'play',\n",
       " 'exclude',\n",
       " 'host',\n",
       " 'host',\n",
       " 'garner',\n",
       " 'face',\n",
       " 'threaten',\n",
       " 'leave',\n",
       " 'ride',\n",
       " 'attend',\n",
       " 'find',\n",
       " 'praise',\n",
       " 'punish',\n",
       " 'speak',\n",
       " 'wash',\n",
       " 'garner',\n",
       " 'win',\n",
       " 'receive',\n",
       " 'test',\n",
       " 'result',\n",
       " 'waive',\n",
       " 'focus',\n",
       " 'excel',\n",
       " 'jog',\n",
       " 'claim',\n",
       " 'accompany',\n",
       " 'share',\n",
       " 'conscript',\n",
       " 'serve',\n",
       " 'post',\n",
       " 'accord',\n",
       " 'respond',\n",
       " 'publish',\n",
       " 'bury',\n",
       " 'edit',\n",
       " 'stem',\n",
       " 'pressure',\n",
       " 'respond',\n",
       " 'provide',\n",
       " 'affect',\n",
       " 'accord',\n",
       " 'suggest',\n",
       " 'distribute',\n",
       " 'challenge',\n",
       " 'highlight',\n",
       " 'refer',\n",
       " 'derive',\n",
       " 'sell',\n",
       " 'mean',\n",
       " 'come',\n",
       " 'come',\n",
       " 'neighbour',\n",
       " 'commute',\n",
       " 'follow',\n",
       " 'have',\n",
       " 'run',\n",
       " 'refer',\n",
       " 'include',\n",
       " 'develop',\n",
       " 'intensify',\n",
       " 'compete',\n",
       " 'list',\n",
       " 'follow',\n",
       " 'list',\n",
       " 'lie',\n",
       " 'serve',\n",
       " 'run',\n",
       " 'run',\n",
       " 'increase',\n",
       " 'run',\n",
       " 'run',\n",
       " 'serve',\n",
       " 'link',\n",
       " 'merge',\n",
       " 'link',\n",
       " 'head',\n",
       " 'limit',\n",
       " 'build',\n",
       " 'include',\n",
       " 'build',\n",
       " 'operate',\n",
       " 'withdraw',\n",
       " 'cease',\n",
       " 'connect',\n",
       " 'sell',\n",
       " 'wish',\n",
       " 'travel',\n",
       " 'transfer',\n",
       " 'dominate',\n",
       " 'own',\n",
       " 'operate',\n",
       " 'owe',\n",
       " 'travel',\n",
       " 'stay',\n",
       " 'spend',\n",
       " 'stay',\n",
       " 'visit',\n",
       " 'report',\n",
       " 'consider',\n",
       " 'meet',\n",
       " 'see',\n",
       " 'inspect',\n",
       " 'expect',\n",
       " 'supply',\n",
       " 'breakersmet',\n",
       " 'connect',\n",
       " 'link',\n",
       " 'help',\n",
       " 'promote',\n",
       " 'receive',\n",
       " 'accept',\n",
       " 'comment',\n",
       " 'include',\n",
       " 'look',\n",
       " 'include',\n",
       " 'argue',\n",
       " 'love',\n",
       " 'play',\n",
       " 'say',\n",
       " 'think',\n",
       " 'scale',\n",
       " 'project',\n",
       " 'show',\n",
       " 'renationalise',\n",
       " 'include',\n",
       " 'lie',\n",
       " 'have',\n",
       " 'form',\n",
       " 'involve',\n",
       " 'lie',\n",
       " 'expand',\n",
       " 'choose',\n",
       " 'site',\n",
       " 'work',\n",
       " 'cause',\n",
       " 'site',\n",
       " 'serve',\n",
       " 'overcome',\n",
       " 'follow',\n",
       " 'announce',\n",
       " 'establish',\n",
       " 'produce',\n",
       " 'examine',\n",
       " 'begin',\n",
       " 'build',\n",
       " 'connect',\n",
       " 'relieve',\n",
       " 'oppose',\n",
       " 'roll',\n",
       " 'travel',\n",
       " 'exist',\n",
       " 'require',\n",
       " 'intersect',\n",
       " 'exist',\n",
       " 'plan',\n",
       " 'reach',\n",
       " 'link',\n",
       " 'include',\n",
       " 'decrease',\n",
       " 'reach',\n",
       " 'include',\n",
       " 'complete',\n",
       " 'electrify',\n",
       " 'cease',\n",
       " 'electrify',\n",
       " 'reopen',\n",
       " 'direct',\n",
       " 'feature',\n",
       " 'know',\n",
       " 'include',\n",
       " 'rebuild',\n",
       " 'open',\n",
       " 'construct',\n",
       " 'reopen',\n",
       " 'construct',\n",
       " 'prove',\n",
       " 'educate',\n",
       " 'train',\n",
       " 'practise',\n",
       " 'specialise',\n",
       " 'marry',\n",
       " 'report',\n",
       " 'give',\n",
       " 'paint',\n",
       " 'sal',\n",
       " 'cease',\n",
       " 'take',\n",
       " 'open',\n",
       " 'stanste',\n",
       " 'rumour',\n",
       " 'cancel',\n",
       " 'cease',\n",
       " 'book',\n",
       " 'open',\n",
       " 'remain',\n",
       " 'travel',\n",
       " 'arrive',\n",
       " 'report',\n",
       " 'report',\n",
       " 'write',\n",
       " 'sell',\n",
       " 'arrive',\n",
       " 'note',\n",
       " 'arrange',\n",
       " 'appear',\n",
       " 'give',\n",
       " 'give',\n",
       " 'honour',\n",
       " 'attend',\n",
       " 'answer',\n",
       " 'republish',\n",
       " 'quote',\n",
       " 'waste',\n",
       " 'say',\n",
       " 'increase',\n",
       " 'occur',\n",
       " 'take',\n",
       " 'report',\n",
       " 'say',\n",
       " 'spend',\n",
       " 'build',\n",
       " 'attempt',\n",
       " 'counter',\n",
       " 'say',\n",
       " 'complete',\n",
       " 'confirm',\n",
       " 'write',\n",
       " 'note',\n",
       " 'view',\n",
       " 'select',\n",
       " 'open',\n",
       " 'open',\n",
       " 'expand',\n",
       " 'show',\n",
       " 'cope',\n",
       " 'provide',\n",
       " 'situate',\n",
       " 'know',\n",
       " 'include',\n",
       " 'cowbridge',\n",
       " 'provide',\n",
       " 'begin',\n",
       " 'write',\n",
       " 'follow',\n",
       " 'tap',\n",
       " 'promote',\n",
       " 'renew',\n",
       " 'plant',\n",
       " 'witness',\n",
       " 'manufacture',\n",
       " 'witness',\n",
       " 'cause',\n",
       " 'resolve',\n",
       " 'strike',\n",
       " 'take',\n",
       " 'begin',\n",
       " 'write',\n",
       " 'unfold',\n",
       " 'weep',\n",
       " 'laugh',\n",
       " 'weep',\n",
       " 'walk',\n",
       " 'go',\n",
       " 'grant',\n",
       " 'redevelop',\n",
       " 'increase',\n",
       " 'arise',\n",
       " 'include',\n",
       " 'return',\n",
       " 'appear',\n",
       " 'propose',\n",
       " 'move',\n",
       " 'appear',\n",
       " 'commit',\n",
       " 'increase',\n",
       " 'announce',\n",
       " 'plan',\n",
       " 'increase',\n",
       " 'implement',\n",
       " 'span',\n",
       " 'redevelop',\n",
       " 'arise',\n",
       " 'sell',\n",
       " 'emerge',\n",
       " 'involve',\n",
       " 'add',\n",
       " 'bring',\n",
       " 'take',\n",
       " 'reopen',\n",
       " 'reduce',\n",
       " 'choose',\n",
       " 'confirm',\n",
       " 'commence',\n",
       " 'reduce',\n",
       " 'announce',\n",
       " 'go',\n",
       " 'visit',\n",
       " 'overfly',\n",
       " 'land',\n",
       " 'consent',\n",
       " 'reserve',\n",
       " 'visit',\n",
       " 'bind',\n",
       " 'depart',\n",
       " 'coincide',\n",
       " 'wear',\n",
       " 'stop',\n",
       " 'serve',\n",
       " 'stop',\n",
       " 'center',\n",
       " 'protect',\n",
       " 'import',\n",
       " 'fall',\n",
       " 'protect',\n",
       " 'import',\n",
       " 'pass',\n",
       " 'prevent',\n",
       " 'print',\n",
       " 'cause',\n",
       " 'switch',\n",
       " 'import',\n",
       " 'finish',\n",
       " 'dye',\n",
       " 'print',\n",
       " 'print',\n",
       " 'produce',\n",
       " 'know',\n",
       " 'send',\n",
       " 'finish',\n",
       " 'recover',\n",
       " 'claim',\n",
       " 'take',\n",
       " 'manufacture',\n",
       " 'act',\n",
       " 'pass',\n",
       " 'enact',\n",
       " 'catch',\n",
       " 'wear',\n",
       " 'print',\n",
       " 'stain',\n",
       " 'exempt',\n",
       " 'exploit',\n",
       " 'permit',\n",
       " 'associate',\n",
       " 'send',\n",
       " 'buy',\n",
       " 'bombard',\n",
       " 'represent',\n",
       " 'present',\n",
       " 'level',\n",
       " 'play',\n",
       " 'liberate',\n",
       " 'gift',\n",
       " 'receive',\n",
       " 'devote',\n",
       " 'include',\n",
       " 'publish',\n",
       " 'continue',\n",
       " 'tend',\n",
       " 'direct',\n",
       " 'run',\n",
       " 'produce',\n",
       " 'find',\n",
       " 'operate',\n",
       " 'operate',\n",
       " 'operate',\n",
       " 'haul',\n",
       " 'electrify',\n",
       " 'include',\n",
       " 'travel',\n",
       " 'attend',\n",
       " 'inherit',\n",
       " 'attend',\n",
       " 'win',\n",
       " 'play',\n",
       " 'call',\n",
       " 'coach',\n",
       " 'unite',\n",
       " 'attend',\n",
       " 'represent',\n",
       " 'play',\n",
       " 'name',\n",
       " 'attend',\n",
       " 'sign',\n",
       " 'sign',\n",
       " 'select',\n",
       " 'represent',\n",
       " 'team',\n",
       " 'bear',\n",
       " 'bear',\n",
       " 'settle',\n",
       " 'work',\n",
       " 'work',\n",
       " 'live',\n",
       " 'attend',\n",
       " 'acquire',\n",
       " 'serve',\n",
       " 'schedule',\n",
       " 'stanste',\n",
       " 'base',\n",
       " 'grow',\n",
       " 'run',\n",
       " 'include',\n",
       " 'encircle',\n",
       " 'encircle',\n",
       " 'offer',\n",
       " 'wear',\n",
       " 'centre',\n",
       " 'dominate',\n",
       " 'base',\n",
       " 'include',\n",
       " 'combine',\n",
       " 'employ',\n",
       " 'produce',\n",
       " 'include',\n",
       " 'go',\n",
       " 'come',\n",
       " 'force',\n",
       " 'raise',\n",
       " 'brush',\n",
       " 'return',\n",
       " 'lead',\n",
       " 'besiege',\n",
       " 'hold',\n",
       " 'win',\n",
       " 'give',\n",
       " 'gain',\n",
       " 'lead',\n",
       " 'negotiate',\n",
       " 'free',\n",
       " 'fight',\n",
       " 'offer',\n",
       " 'include',\n",
       " 'belong',\n",
       " 'own',\n",
       " 'show',\n",
       " 'exhibit',\n",
       " 'show',\n",
       " 'find',\n",
       " 'take',\n",
       " 'provide',\n",
       " 'include',\n",
       " 'move',\n",
       " 'view',\n",
       " 'arrange',\n",
       " 'attend',\n",
       " 'seek',\n",
       " 'charge',\n",
       " 'share',\n",
       " 'sing',\n",
       " 'play',\n",
       " 'share',\n",
       " 'name',\n",
       " 'sign',\n",
       " 'manage',\n",
       " 'rival',\n",
       " 'come',\n",
       " 'resign',\n",
       " 'have',\n",
       " 'spend',\n",
       " 'play',\n",
       " 'rebuild',\n",
       " 'open',\n",
       " 'host',\n",
       " 'play',\n",
       " 'involve',\n",
       " 'choose',\n",
       " 'hold',\n",
       " 'feature',\n",
       " 'hold',\n",
       " 'manage',\n",
       " 'meet',\n",
       " 'pave',\n",
       " 'believe',\n",
       " 'feature',\n",
       " 'want',\n",
       " 'establish',\n",
       " 'agree',\n",
       " 'decide',\n",
       " 'press',\n",
       " 'hold',\n",
       " 'enjoy',\n",
       " 'consider',\n",
       " 'weaken',\n",
       " 'release',\n",
       " 'support',\n",
       " 'oversee',\n",
       " 'offer',\n",
       " 'cease',\n",
       " 'choose',\n",
       " 'note',\n",
       " 'leave',\n",
       " 'fail',\n",
       " 'mean',\n",
       " 'progress',\n",
       " 'write',\n",
       " 'include',\n",
       " 'finish',\n",
       " 'complete',\n",
       " 'take',\n",
       " 'move',\n",
       " 'minister',\n",
       " 'found',\n",
       " 'establish',\n",
       " 'teach',\n",
       " 'build',\n",
       " 'continue',\n",
       " 'follow',\n",
       " 'build',\n",
       " 'found',\n",
       " 'abandon',\n",
       " 'leave',\n",
       " 'pay',\n",
       " 'come',\n",
       " 'give',\n",
       " 'meet',\n",
       " 'remark',\n",
       " 'gain',\n",
       " 'refer',\n",
       " 'lean',\n",
       " 'restrict',\n",
       " 'number',\n",
       " 'sit',\n",
       " 'serve',\n",
       " 'exclude',\n",
       " 'lie',\n",
       " 'follow',\n",
       " 'allow',\n",
       " 'ordain',\n",
       " 'pass',\n",
       " 'provide',\n",
       " 'arise',\n",
       " 'follow',\n",
       " 'come',\n",
       " 'fill',\n",
       " 'apply',\n",
       " 'sit',\n",
       " 'develop',\n",
       " 'boom',\n",
       " 'begin',\n",
       " 'come',\n",
       " 'mix',\n",
       " 'help',\n",
       " 'influence',\n",
       " 'play',\n",
       " 'fuel',\n",
       " 'begin',\n",
       " 'influence',\n",
       " 'bring',\n",
       " 'spread',\n",
       " 'work',\n",
       " 'include',\n",
       " 'lose',\n",
       " 'continue',\n",
       " 'sit',\n",
       " 'provide',\n",
       " 'include',\n",
       " 'see',\n",
       " 'remain',\n",
       " 'rank',\n",
       " 'act',\n",
       " 'make',\n",
       " 'limit',\n",
       " 'fill',\n",
       " 'synthesize',\n",
       " 'work',\n",
       " 'experiment',\n",
       " 'combine',\n",
       " 'boil',\n",
       " 'produce',\n",
       " 'call',\n",
       " 'send',\n",
       " 'tell',\n",
       " 'expand',\n",
       " 'build',\n",
       " 'travel',\n",
       " 'conduct',\n",
       " 'draw',\n",
       " 'locate',\n",
       " 'estimate',\n",
       " 'reside',\n",
       " 'include',\n",
       " 'brak',\n",
       " 'elad',\n",
       " 'reside',\n",
       " 'grow',\n",
       " 'found',\n",
       " 'populate',\n",
       " 'locate',\n",
       " 'bear',\n",
       " 'elect',\n",
       " 'earn',\n",
       " 'move',\n",
       " 'take',\n",
       " 'work',\n",
       " 'hire',\n",
       " 'document',\n",
       " 'speak',\n",
       " 'begin',\n",
       " 'write',\n",
       " 'work',\n",
       " 'publish',\n",
       " 'plan',\n",
       " 'take',\n",
       " 'visit',\n",
       " 'delay',\n",
       " 'come',\n",
       " 'have',\n",
       " 'allow',\n",
       " 'explore',\n",
       " 'reach',\n",
       " 'begin',\n",
       " 'write',\n",
       " 'support',\n",
       " 'seek',\n",
       " 'support',\n",
       " 'see',\n",
       " 'enjoy',\n",
       " 'work',\n",
       " 'contact',\n",
       " 'label',\n",
       " 'portray',\n",
       " 'attack',\n",
       " 'include',\n",
       " 'correspond',\n",
       " 'start',\n",
       " 'circulate',\n",
       " 'correspond',\n",
       " 'form',\n",
       " 'include',\n",
       " 'remain',\n",
       " 'marry',\n",
       " 'take',\n",
       " 'accord',\n",
       " 'last',\n",
       " 'describe',\n",
       " 'claim',\n",
       " 'relate',\n",
       " 'oppress',\n",
       " 'cheat',\n",
       " 'develop',\n",
       " 'date',\n",
       " 'serve',\n",
       " 'develop',\n",
       " 'centre',\n",
       " 'pool',\n",
       " 'provide',\n",
       " 'afford',\n",
       " 'base',\n",
       " 'create',\n",
       " 'connect',\n",
       " 'begin',\n",
       " 'include',\n",
       " 'place',\n",
       " 'seek',\n",
       " 'attend',\n",
       " 'state',\n",
       " 'fit',\n",
       " 'avoid',\n",
       " 'rename',\n",
       " 'borrow',\n",
       " 'mention',\n",
       " 'record',\n",
       " 'play',\n",
       " 'swinge',\n",
       " 'bill',\n",
       " 'ensure',\n",
       " 'play',\n",
       " 'leave',\n",
       " 'visit',\n",
       " 'work',\n",
       " 'spend',\n",
       " 'live',\n",
       " 'know',\n",
       " 'develop',\n",
       " 'serve',\n",
       " 'examine',\n",
       " 'identify',\n",
       " 'receive',\n",
       " 'add',\n",
       " 'know',\n",
       " 'hold',\n",
       " 'consider',\n",
       " 'use',\n",
       " 'symbolise',\n",
       " 'allow',\n",
       " 'trademark',\n",
       " 'protect',\n",
       " 'indicate',\n",
       " 'produce',\n",
       " 'claim',\n",
       " 'pay',\n",
       " 'form',\n",
       " 'travel',\n",
       " 'face',\n",
       " 'unite',\n",
       " 'lose',\n",
       " 'win',\n",
       " 'fail',\n",
       " 'win',\n",
       " 'mean',\n",
       " 'lead',\n",
       " 'leave',\n",
       " 'receive',\n",
       " 'equip',\n",
       " 'use',\n",
       " 'sing',\n",
       " 'feature',\n",
       " 'feature',\n",
       " 'feature',\n",
       " 'operate',\n",
       " 'find',\n",
       " 'run',\n",
       " 'rail',\n",
       " 'regard',\n",
       " 'know',\n",
       " 'puff',\n",
       " 'build',\n",
       " 'preserve',\n",
       " 'build',\n",
       " 'build',\n",
       " 'enter',\n",
       " 'win',\n",
       " 'lead',\n",
       " 'emerge',\n",
       " 'build',\n",
       " 'open',\n",
       " 'make',\n",
       " 'start',\n",
       " 'end',\n",
       " 'depart',\n",
       " 'link',\n",
       " 'include',\n",
       " 'record',\n",
       " 'record',\n",
       " 'peak',\n",
       " 'record',\n",
       " 'include',\n",
       " 'cover',\n",
       " 'experience',\n",
       " 'introduce',\n",
       " 'see',\n",
       " 'correspond',\n",
       " 'grow',\n",
       " 'connect',\n",
       " 'provide',\n",
       " 'include',\n",
       " 'provide',\n",
       " 'provide',\n",
       " 'include',\n",
       " 'connect',\n",
       " 'include',\n",
       " 'begin',\n",
       " 'connect',\n",
       " 'serve',\n",
       " 'manage',\n",
       " 'run',\n",
       " 'provide',\n",
       " 'manage',\n",
       " 'provide',\n",
       " 'include',\n",
       " 'provide',\n",
       " 'locate',\n",
       " 'vote',\n",
       " 'have',\n",
       " 'include',\n",
       " 'run',\n",
       " 'locate',\n",
       " 'fame',\n",
       " 'include',\n",
       " 'contain',\n",
       " 'appear',\n",
       " 'embark',\n",
       " 'title',\n",
       " 'promote',\n",
       " 'form',\n",
       " 'include',\n",
       " 'take',\n",
       " 'play',\n",
       " 'include',\n",
       " 'complete',\n",
       " 'tour',\n",
       " 'take',\n",
       " 'visit',\n",
       " 'finish',\n",
       " 'state',\n",
       " 'plan',\n",
       " 'release',\n",
       " 'follow',\n",
       " 'state',\n",
       " 'embark',\n",
       " 'gather',\n",
       " 'embark',\n",
       " 'hold',\n",
       " 'hold',\n",
       " 'feature',\n",
       " 'divide',\n",
       " 'finish',\n",
       " 'announce',\n",
       " 'title',\n",
       " 'release',\n",
       " 'release',\n",
       " 'say',\n",
       " 'mark',\n",
       " 'come',\n",
       " 'declare',\n",
       " 'reveal',\n",
       " 'defy',\n",
       " 'write',\n",
       " 'shoot',\n",
       " 'sound',\n",
       " 'coo',\n",
       " 'croon',\n",
       " 'perform',\n",
       " 'defy',\n",
       " 'support',\n",
       " 'embark',\n",
       " 'span',\n",
       " 'book',\n",
       " 'describe',\n",
       " 'feel',\n",
       " 'experience',\n",
       " 'book',\n",
       " 'perform',\n",
       " 'play',\n",
       " 'feature',\n",
       " 'book',\n",
       " 'garner',\n",
       " 'praise',\n",
       " 'leave',\n",
       " 'depict',\n",
       " 'refuse',\n",
       " 'suffer',\n",
       " 'send',\n",
       " 'take',\n",
       " 'work',\n",
       " 'invalid',\n",
       " 'commission',\n",
       " 'paint',\n",
       " 'produce',\n",
       " 'give',\n",
       " 'depict',\n",
       " 'ask',\n",
       " 'submit',\n",
       " 'show',\n",
       " 'debrief',\n",
       " 'entitle',\n",
       " 'reminisce',\n",
       " 'spot',\n",
       " 'travel',\n",
       " 'ride',\n",
       " 'include',\n",
       " 'fly',\n",
       " 'buy',\n",
       " 'see',\n",
       " 'lug',\n",
       " 'support',\n",
       " 'earn',\n",
       " 'value',\n",
       " 'float',\n",
       " 'take',\n",
       " 'value',\n",
       " 'borrow',\n",
       " 'list',\n",
       " 'retain',\n",
       " 'float',\n",
       " 'raise',\n",
       " 'develop',\n",
       " 'sport',\n",
       " 'bring',\n",
       " 'characterise',\n",
       " 'bolster',\n",
       " 'develop',\n",
       " 'generate',\n",
       " 'generate',\n",
       " 'drive',\n",
       " 'enjoy',\n",
       " 'join',\n",
       " 'follow',\n",
       " 'move',\n",
       " 'find',\n",
       " 'receive',\n",
       " 'assert',\n",
       " 'appear',\n",
       " 'return',\n",
       " 'play',\n",
       " 'say',\n",
       " 'prefer',\n",
       " 'go',\n",
       " 'take',\n",
       " 'follow',\n",
       " 'engage',\n",
       " 'tour',\n",
       " 'reach',\n",
       " 'settle',\n",
       " 'appear',\n",
       " 'lead',\n",
       " 'outshine',\n",
       " 'sing',\n",
       " 'perform',\n",
       " 'meyerbeer',\n",
       " 'transpose',\n",
       " 'contralto',\n",
       " 'compose',\n",
       " 'sing',\n",
       " 'share',\n",
       " 'tour',\n",
       " 'appear',\n",
       " 'demolish',\n",
       " 'develop',\n",
       " 'modernise',\n",
       " 'convert',\n",
       " 'undergo',\n",
       " 'develop',\n",
       " 'complete',\n",
       " 'surpass',\n",
       " 'license',\n",
       " 'build',\n",
       " 'abandon',\n",
       " 'carry',\n",
       " 'kill',\n",
       " 'include',\n",
       " 'injure',\n",
       " 'cause',\n",
       " 'change',\n",
       " 'lie',\n",
       " 'shape',\n",
       " 'border',\n",
       " 'run',\n",
       " 'make',\n",
       " 'irk',\n",
       " 'lie',\n",
       " 'flow',\n",
       " 'offer',\n",
       " 'cap',\n",
       " 'grow',\n",
       " 'make',\n",
       " 'grow',\n",
       " 'experience',\n",
       " 'project',\n",
       " 'reach',\n",
       " 'represent',\n",
       " 'fall',\n",
       " 'rise',\n",
       " 'increase',\n",
       " 'approximate',\n",
       " 'include',\n",
       " 'find',\n",
       " 'accord',\n",
       " 'deprive',\n",
       " 'average',\n",
       " 'take',\n",
       " 'rank',\n",
       " 'accord',\n",
       " 'accord',\n",
       " 'average',\n",
       " 'combine',\n",
       " 'attribute',\n",
       " 'northshore',\n",
       " 'entail',\n",
       " 'overheat',\n",
       " 'hold',\n",
       " 'dedicate',\n",
       " 'design',\n",
       " 'echo',\n",
       " 'commemorate',\n",
       " 'have',\n",
       " 'stand',\n",
       " 'present',\n",
       " 'mark',\n",
       " 'play',\n",
       " 'serve',\n",
       " 'work',\n",
       " 'include',\n",
       " ...]"
      ]
     },
     "execution_count": 7,
     "metadata": {},
     "output_type": "execute_result"
    }
   ],
   "source": [
    "fpath = \"../../../../data/enwiki_city_pairs_lemmatised/VERB_SPACY_LARGE/biggest_cities_20/VERB__london_manchester__.pickle\"\n",
    "with open(fpath, 'rb') as fp:\n",
    "    d = pickle.load(fp)\n",
    "d"
   ]
  },
  {
   "cell_type": "code",
   "execution_count": null,
   "id": "be500880",
   "metadata": {},
   "outputs": [],
   "source": [
    "FILE_PATH = \"../../../../data/enwiki_city_pairs/biggest_cities_20/london_manchester.txt\"\n",
    "POS = [\"VERB\"]\n",
    "\n",
    "with open(FILE_PATH, 'r', encoding='utf-16') as f:\n",
    "    city_pair_text_list = [x.strip().lower() for x in f.read().replace('\"', \"'\").replace('“', \"'\").replace('”', \"'\").split('\\n') if len(x) and 'title=' not in x]\n",
    "print(len(city_pair_text_list))\n",
    "\n",
    "nr_of_chunks = len(city_pair_text_list)//1000 + 1\n",
    "chunk_size = (len(city_pair_text_list)-1)//nr_of_chunks\n",
    "chunked_text = [' '.join(city_pair_text_list[offs:offs+chunk_size]) for offs in range(0, len(city_pair_text_list), chunk_size)]\n",
    "\n",
    "processed_text = [text for text in tqdm(nlp.pipe(chunked_text, n_process=2, batch_size=1, disable=[\"ner\", \"parser\"]), total=len(chunked_text))]\n",
    "lemmatized_text = [[word.lemma_ for word in text if word.pos_ in [\"VERB\"] and not word.is_punct and not word.is_stop] for text in processed_text]\n",
    "# [word.lemma_ for word in text if word.pos_ in [\"VERB\"] and not word.is_punct and not word.is_stop]\n",
    "# [word.lemma_ for word in processed_text if word.pos_ in [\"VERB\"] and not word.is_punct and not word.is_stop]\n",
    "regexed_text = [[re.sub(r'\\W+', '', word) for word in text] for text in lemmatized_text]\n",
    "flattened_words = [item for sublist in regexed_text for item in sublist]"
   ]
  },
  {
   "cell_type": "code",
   "execution_count": null,
   "id": "bcbde176",
   "metadata": {},
   "outputs": [],
   "source": [
    "# with open(FILE_PATH, 'r', encoding='utf-16') as f:\n",
    "#     city_pair_text_list = [x.strip().lower() for x in f.read().replace('\"', \"'\").replace('“', \"'\").replace('”', \"'\").split('\\n') if len(x) and 'title=' not in x]"
   ]
  },
  {
   "cell_type": "code",
   "execution_count": null,
   "id": "a477498b",
   "metadata": {},
   "outputs": [],
   "source": [
    "fulltext = ' '.join(city_pair_text_list[:int(len(city_pair_text_list)/6)])"
   ]
  },
  {
   "cell_type": "code",
   "execution_count": null,
   "id": "4eee2cfc",
   "metadata": {},
   "outputs": [],
   "source": [
    "l5 = [item for sublist in lemmatized_text for item in sublist]\n",
    "l5.count('liverpool')"
   ]
  },
  {
   "cell_type": "code",
   "execution_count": null,
   "id": "8be2d39e",
   "metadata": {},
   "outputs": [],
   "source": [
    "with open(\"../../../../data/test/VERB__london_manchester__3.pickle\", 'rb') as fp:\n",
    "    d = pickle.load(fp)\n",
    "d.count('liverpool')"
   ]
  },
  {
   "cell_type": "markdown",
   "id": "7ad43851",
   "metadata": {},
   "source": [
    "<hr>\n",
    "<hr>\n",
    "<hr>\n",
    "<hr>\n",
    "<hr>\n",
    "<hr>\n",
    "<hr>\n",
    "<hr>\n",
    "<!-- <br>\n",
    "<br>\n",
    "<br>\n",
    "<br>\n",
    "<br>\n",
    "<br> -->\n",
    "<div style=\"height: 500px;\"></div>"
   ]
  },
  {
   "cell_type": "code",
   "execution_count": null,
   "id": "03a66bac",
   "metadata": {},
   "outputs": [],
   "source": [
    "s = \"manchester united liverpool\"\n",
    "\n",
    "processed_text2 = nlp(' '.join(d))\n",
    "\n",
    "#lemmatized_text2 = [token.lemma_ for token in processed_text if token.pos_ in [\"VERB\"]] and not token.is_punct and not token.is_stop]\n",
    "# lemmatized_text2 = [[word.lemma_ for word in text if word.pos_ in [\"VERB\"] and not word.is_punct and not word.is_stop] for text in processed_text]\n",
    "#print(lemmatized_text)\n"
   ]
  },
  {
   "cell_type": "code",
   "execution_count": null,
   "id": "e9dce3dc",
   "metadata": {},
   "outputs": [],
   "source": [
    "processed_text2"
   ]
  },
  {
   "cell_type": "code",
   "execution_count": null,
   "id": "fb8c19ec",
   "metadata": {},
   "outputs": [],
   "source": [
    "processed_text"
   ]
  },
  {
   "cell_type": "code",
   "execution_count": null,
   "id": "d16d0b2e",
   "metadata": {},
   "outputs": [],
   "source": [
    "lemmatized_text2 = [token.lemma_ for token in processed_text2 if token.pos_ in [\"VERB\"] and not token.is_punct and not token.is_stop]\n",
    "lemmatized_text2.count('manchester')"
   ]
  },
  {
   "cell_type": "code",
   "execution_count": null,
   "id": "50719250",
   "metadata": {},
   "outputs": [],
   "source": [
    "processed_text = nlp(fulltext)"
   ]
  },
  {
   "cell_type": "code",
   "execution_count": null,
   "id": "f3f24101",
   "metadata": {},
   "outputs": [],
   "source": [
    "#lowertext = [x.lower() for x in processed_text]\n",
    "lemmatized_text3 = [word.lemma_ for word in processed_text if word.pos_ in [\"VERB\"] and not word.is_punct and not word.is_stop]\n",
    "regexed_text3 = [re.sub(r'\\W+', '', word) for word in lemmatized_text3]\n",
    "regexed_text3.count('manchester')"
   ]
  },
  {
   "cell_type": "code",
   "execution_count": null,
   "id": "5acf9c55",
   "metadata": {},
   "outputs": [],
   "source": [
    "processed_text3 = nlp(' '.join(lemmatized_text3))"
   ]
  },
  {
   "cell_type": "code",
   "execution_count": null,
   "id": "14e1d071",
   "metadata": {},
   "outputs": [],
   "source": [
    "lemmatized_text4 = [word.lemma_ for word in processed_text3 if word.pos_ in [\"VERB\"] and not word.is_punct and not word.is_stop]\n",
    "lemmatized_text4.count('manchester')"
   ]
  },
  {
   "cell_type": "code",
   "execution_count": null,
   "id": "c98424f8",
   "metadata": {},
   "outputs": [],
   "source": [
    "lemmatized_text3.count('manchester')"
   ]
  },
  {
   "cell_type": "code",
   "execution_count": null,
   "id": "1c9c9e97",
   "metadata": {},
   "outputs": [],
   "source": [
    "txt = \"spectacle that included a few scenes from their self-written mini-operetta \"the girl with the golden hair\". the concert attracted immense media attention from across europe and australia. they continued the tour through western europe, visiting gothenburg, copenhagen, berlin, cologne, amsterdam, antwerp, essen, hanover, and hamburg and ending with shows in the united kingdom in manchester, birmingham, glasgow and two sold-out concerts at london's royal albert hall. tickets for these two shows were available only by mail application and it was later revealed that the box-office received 3.5 million requests for tickets, enough to fill the venue 580 times. along with praise ('abba turn out to be amazingly successful at reproducing their records', wrot\"\n",
    "processed_txt = nlp(txt)\n",
    "lemmatized_text4 = [word.lemma_ for word in processed_txt if word.pos_ in [\"VERB\"] and not word.is_punct and not word.is_stop]\n",
    "lemmatized_text4.count('manchester')"
   ]
  },
  {
   "cell_type": "code",
   "execution_count": null,
   "id": "91a68be6",
   "metadata": {},
   "outputs": [],
   "source": [
    "d.count('liverpool')"
   ]
  },
  {
   "cell_type": "code",
   "execution_count": null,
   "id": "e7ced481",
   "metadata": {},
   "outputs": [],
   "source": [
    "lemmatized_text.count('liverpool')"
   ]
  },
  {
   "cell_type": "code",
   "execution_count": null,
   "id": "b3675daf",
   "metadata": {},
   "outputs": [],
   "source": [
    "#l6 = [item for sublist in lemmatized_text2 for item in sublist]\n",
    "#lemmatized_text2.count('manchester')\n",
    "lemmatized_text3.count('manchester')"
   ]
  },
  {
   "cell_type": "markdown",
   "id": "6986f65f",
   "metadata": {},
   "source": [
    "# Open Lemmatized words"
   ]
  },
  {
   "cell_type": "code",
   "execution_count": null,
   "id": "38556a12",
   "metadata": {},
   "outputs": [],
   "source": [
    "WORDLIST_LOCATION = '../../../../data/enwiki_city_pairs_nouns/'\n",
    "words = []\n",
    "city_pairs = []\n",
    "\n",
    "for root, dirs, files in os.walk(WORDLIST_LOCATION, topdown=True):\n",
    "    for name in files:\n",
    "        file_path = os.path.join(root, name)\n",
    "        \n",
    "        with open(file_path, 'rb') as fp:\n",
    "            words.append(pickle.load(fp))\n",
    "            city_pairs.append(name.split('__')[1])"
   ]
  },
  {
   "cell_type": "code",
   "execution_count": null,
   "id": "a3556382",
   "metadata": {},
   "outputs": [],
   "source": [
    "for idx, word in enumerate(words):\n",
    "    print(\"{:<3}\".format(idx+1), \"{:<7}\".format(len(word)),  city_pairs[idx])"
   ]
  },
  {
   "cell_type": "code",
   "execution_count": null,
   "id": "70645af5",
   "metadata": {},
   "outputs": [],
   "source": [
    "from collections import Counter\n",
    "\n",
    "Counter(words[10]).most_common(10)"
   ]
  },
  {
   "cell_type": "code",
   "execution_count": null,
   "id": "1d8ec2f9",
   "metadata": {},
   "outputs": [],
   "source": [
    "# for file in os.scandir('../../../../data/enwiki_city_pairs_nouns/biggest_cities_10/'):\n",
    "#     # print(file.path)\n",
    "#     filename = file.path\n",
    "#     #file = ''.join(filename.split('____________________________________________________________'))\n",
    "#     print(filename)\n",
    "#     #file = filename.replace('.pickle', '__.pickle')\n",
    "#     file = filename.replace('NOUNS___', 'NOUNS__')\n",
    "#     os.rename(filename, file)\n",
    "# # #os.rename()"
   ]
  }
 ],
 "metadata": {
  "kernelspec": {
   "display_name": "Python 3 (ipykernel)",
   "language": "python",
   "name": "python3"
  },
  "language_info": {
   "codemirror_mode": {
    "name": "ipython",
    "version": 3
   },
   "file_extension": ".py",
   "mimetype": "text/x-python",
   "name": "python",
   "nbconvert_exporter": "python",
   "pygments_lexer": "ipython3",
   "version": "3.10.4"
  }
 },
 "nbformat": 4,
 "nbformat_minor": 5
}
