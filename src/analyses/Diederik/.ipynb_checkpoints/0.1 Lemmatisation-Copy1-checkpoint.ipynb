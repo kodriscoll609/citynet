{
 "cells": [
  {
   "cell_type": "code",
   "execution_count": null,
   "id": "fdc0cd63",
   "metadata": {},
   "outputs": [],
   "source": [
    "import pickle\n",
    "import os \n",
    "from tqdm.notebook import tqdm\n",
    "import re\n",
    "import spacy\n",
    "\n",
    "# nlp = spacy.load(\"en_core_web_sm\")\n",
    "nlp = spacy.load(\"en_core_web_lg\")\n",
    "nlp.max_length = 1500000\n",
    "nlp.disable_pipes('ner', 'parser')"
   ]
  },
  {
   "cell_type": "code",
   "execution_count": null,
   "id": "b812a7ff",
   "metadata": {},
   "outputs": [],
   "source": [
    "# !python -m spacy download en_core_web_lg "
   ]
  },
  {
   "cell_type": "code",
   "execution_count": 1,
   "id": "e01fad36",
   "metadata": {},
   "outputs": [],
   "source": [
    "from diedfunctions import *"
   ]
  },
  {
   "cell_type": "code",
   "execution_count": null,
   "id": "3579acaf",
   "metadata": {},
   "outputs": [],
   "source": [
    "# !pip install spacy\n",
    "# !spacy download en_core_web_sm"
   ]
  },
  {
   "cell_type": "code",
   "execution_count": null,
   "id": "8c40c247",
   "metadata": {},
   "outputs": [],
   "source": [
    "\"\"\"\"\n",
    "from tqdm.notebook import tqdm\n",
    "import os\n",
    "import time\n",
    "\n",
    "I = \"../../../../data/enwiki_city_pairs/\"\n",
    "O = \"../../../../data/NOUN/\"\n",
    "for root, dirs, files in tqdm(list(os.walk(I))):\n",
    "    # print(root)\n",
    "    [os.makedirs(os.path.join(O, dir), exist_ok=True) for dir in dirs]\n",
    "    for file_path in files:\n",
    "        print('-->', O, root)\n",
    "        print(root.replace(I, O))\n",
    "        print(file_path[:-4])\n",
    "    #os.path.split()\n",
    "    #print(os.path.split(root), files)\n",
    "    # print(root-I, files)\n",
    "#         print(dir)\n",
    "    # print(root, dirs, files)\n",
    "    time.sleep(1)\n",
    "    # print(dirs)\n",
    "    \n",
    "#os.makedirs(O, exist_ok=True)\n",
    "\"\"\"\""
   ]
  },
  {
   "cell_type": "code",
   "execution_count": null,
   "id": "38ba3ca4",
   "metadata": {},
   "outputs": [],
   "source": [
    "\"\"\"\"\n",
    "''.join(['NOUN', 'VERB'])\n",
    "\n",
    "POStags=[\"PROPN\", \"AUX\", \"NOUN\", \"ADJ\", \"VERB\", \"ADP\", \"SYM\", \"NUM\"]\n",
    "\n",
    "if 'noun'.upper() in POStags:\n",
    "    print('ee')\n",
    "\"\"\"\""
   ]
  },
  {
   "cell_type": "code",
   "execution_count": null,
   "id": "193d73f6",
   "metadata": {
    "scrolled": true
   },
   "outputs": [],
   "source": [
    "\"\"\"\"\n",
    "batch = 'biggest_cities_30'\n",
    "\n",
    "city_pair_folder = f\"../../../../data/enwiki_city_pairs/{batch}/\"\n",
    "OUTPUT_PATH = f\"../../../../data/enwiki_city_pairs_nouns/{batch}/\"\n",
    "\n",
    "i = 0\n",
    "for file in tqdm(os.scandir(city_pair_folder), total=len(os.listdir(city_pair_folder)), leave=True, desc='Folders'): # tqdm(os.listdir(subfolder), total=len(os.listdir(subfolder)), leave=True, desc='Text Files'):                     \n",
    "    if not file.is_dir():\n",
    "        i += 1\n",
    "        #print(i, file.path, file.name[:-4])\n",
    "        lemmatize_file(file.path, city_pair=file.name[:-4])\n",
    "\"\"\"\""
   ]
  },
  {
   "cell_type": "code",
   "execution_count": null,
   "id": "d7d9ea84",
   "metadata": {},
   "outputs": [],
   "source": [
    "\"\"\"\"\n",
    "def lemmatize_file(file_path, city_pair):\n",
    "    with open(file_path, 'r', encoding='utf-16') as f:\n",
    "        city_pair_text_list = [x.strip().lower() for x in f.read().split('\\n') if len(x) and 'title=' not in x]\n",
    "    print(len(city_pair_text_list))\n",
    "    \n",
    "    nr_of_chunks = len(city_pair_text_list)//1000 + 1\n",
    "    chunk_size = (len(city_pair_text_list)-1)//nr_of_chunks\n",
    "    chunked_text = [' '.join(city_pair_text_list[offs:offs+chunk_size]) for offs in range(0, len(city_pair_text_list), chunk_size)]\n",
    "    \n",
    "    processed_text = [text for text in tqdm(nlp.pipe(chunked_text, n_process=2, batch_size=1, disable=[\"ner\", \"parser\"]), total=len(chunked_text))]\n",
    "    lemmatized_text = [[word.lemma_ for word in text if word.pos_ == 'NOUN' and not word.is_punct and not word.is_stop] for text in processed_text]\n",
    "    regexed_text = [[re.sub(r'\\W+', '', word) for word in text] for text in lemmatized_text]\n",
    "    flattened_words = [item for sublist in regexed_text for item in sublist]\n",
    "    \n",
    "    with open(f'{OUTPUT_PATH}NOUNS__{city_pair}__.pickle', 'wb') as fp:\n",
    "        pickle.dump(flattened_words, fp)\n",
    "\"\"\"\""
   ]
  },
  {
   "cell_type": "markdown",
   "id": "cefd92c9",
   "metadata": {},
   "source": [
    "# Lemmatize Text Window (NOUNS)"
   ]
  },
  {
   "cell_type": "code",
   "execution_count": null,
   "id": "81abfd3e",
   "metadata": {},
   "outputs": [],
   "source": [
    "INPUT_DIR = \"../../../../data/enwiki_city_pairs/\"\n",
    "OUTPUT_DIR = \"../../../../data/enwiki_city_pairs_lemmatised/VERB_SPACY_LARGE/\"\n",
    "POS = [\"NOUN\"]\n",
    "\n",
    "create_lemmatised_wordlists(INPUT_DIR=INPUT_DIR, OUTPUT_DIR=OUTPUT_DIR, POS=POS)"
   ]
  },
  {
   "cell_type": "markdown",
   "id": "3de994ac",
   "metadata": {},
   "source": [
    "# Lemmatize Text Window (VERBS)"
   ]
  },
  {
   "cell_type": "code",
   "execution_count": 2,
   "id": "329193d4",
   "metadata": {
    "collapsed": true
   },
   "outputs": [
    {
     "data": {
      "application/vnd.jupyter.widget-view+json": {
       "model_id": "f710e3d12a464871805cdf7310b37e2f",
       "version_major": 2,
       "version_minor": 0
      },
      "text/plain": [
       "  0%|          | 0/5 [00:00<?, ?it/s]"
      ]
     },
     "metadata": {},
     "output_type": "display_data"
    },
    {
     "data": {
      "application/vnd.jupyter.widget-view+json": {
       "model_id": "a1295ea8efbd4a02b5bf183b64d456da",
       "version_major": 2,
       "version_minor": 0
      },
      "text/plain": [
       "0it [00:00, ?it/s]"
      ]
     },
     "metadata": {},
     "output_type": "display_data"
    },
    {
     "data": {
      "application/vnd.jupyter.widget-view+json": {
       "model_id": "20ca26e298cf4493933f63996c98da1c",
       "version_major": 2,
       "version_minor": 0
      },
      "text/plain": [
       "  0%|          | 0/35 [00:00<?, ?it/s]"
      ]
     },
     "metadata": {},
     "output_type": "display_data"
    },
    {
     "data": {
      "application/vnd.jupyter.widget-view+json": {
       "model_id": "257f80f719b2432bac0643e2ddda1edf",
       "version_major": 2,
       "version_minor": 0
      },
      "text/plain": [
       "  0%|          | 0/145 [00:00<?, ?it/s]"
      ]
     },
     "metadata": {},
     "output_type": "display_data"
    },
    {
     "data": {
      "application/vnd.jupyter.widget-view+json": {
       "model_id": "a91b4867f2eb4da69be9090aa9580f56",
       "version_major": 2,
       "version_minor": 0
      },
      "text/plain": [
       "  0%|          | 0/244 [00:00<?, ?it/s]"
      ]
     },
     "metadata": {},
     "output_type": "display_data"
    },
    {
     "name": "stdout",
     "output_type": "stream",
     "text": [
      "76\n"
     ]
    },
    {
     "data": {
      "application/vnd.jupyter.widget-view+json": {
       "model_id": "718ba8398c574e56928faced064b35d6",
       "version_major": 2,
       "version_minor": 0
      },
      "text/plain": [
       "  0%|          | 0/2 [00:00<?, ?it/s]"
      ]
     },
     "metadata": {},
     "output_type": "display_data"
    },
    {
     "name": "stdout",
     "output_type": "stream",
     "text": [
      "93\n"
     ]
    },
    {
     "data": {
      "application/vnd.jupyter.widget-view+json": {
       "model_id": "2c9ce7d90bb94836a52fb881736c9adc",
       "version_major": 2,
       "version_minor": 0
      },
      "text/plain": [
       "  0%|          | 0/2 [00:00<?, ?it/s]"
      ]
     },
     "metadata": {},
     "output_type": "display_data"
    },
    {
     "name": "stdout",
     "output_type": "stream",
     "text": [
      "28\n"
     ]
    },
    {
     "data": {
      "application/vnd.jupyter.widget-view+json": {
       "model_id": "0b359f437e4a425bb1a183579e8239a1",
       "version_major": 2,
       "version_minor": 0
      },
      "text/plain": [
       "  0%|          | 0/2 [00:00<?, ?it/s]"
      ]
     },
     "metadata": {},
     "output_type": "display_data"
    },
    {
     "name": "stdout",
     "output_type": "stream",
     "text": [
      "22\n"
     ]
    },
    {
     "data": {
      "application/vnd.jupyter.widget-view+json": {
       "model_id": "87d64901617f4e0d9885578d0a182eb5",
       "version_major": 2,
       "version_minor": 0
      },
      "text/plain": [
       "  0%|          | 0/2 [00:00<?, ?it/s]"
      ]
     },
     "metadata": {},
     "output_type": "display_data"
    },
    {
     "name": "stdout",
     "output_type": "stream",
     "text": [
      "396\n"
     ]
    },
    {
     "data": {
      "application/vnd.jupyter.widget-view+json": {
       "model_id": "95054d2c8116429fbf102e5b6e46d7e7",
       "version_major": 2,
       "version_minor": 0
      },
      "text/plain": [
       "  0%|          | 0/2 [00:00<?, ?it/s]"
      ]
     },
     "metadata": {},
     "output_type": "display_data"
    },
    {
     "name": "stdout",
     "output_type": "stream",
     "text": [
      "351\n"
     ]
    },
    {
     "data": {
      "application/vnd.jupyter.widget-view+json": {
       "model_id": "a799b8c170a449c697df300c1a7cdcee",
       "version_major": 2,
       "version_minor": 0
      },
      "text/plain": [
       "  0%|          | 0/2 [00:00<?, ?it/s]"
      ]
     },
     "metadata": {},
     "output_type": "display_data"
    },
    {
     "name": "stdout",
     "output_type": "stream",
     "text": [
      "435\n"
     ]
    },
    {
     "data": {
      "application/vnd.jupyter.widget-view+json": {
       "model_id": "93db289b59124451b6d6bbbd4d809205",
       "version_major": 2,
       "version_minor": 0
      },
      "text/plain": [
       "  0%|          | 0/2 [00:00<?, ?it/s]"
      ]
     },
     "metadata": {},
     "output_type": "display_data"
    },
    {
     "name": "stdout",
     "output_type": "stream",
     "text": [
      "110\n"
     ]
    },
    {
     "data": {
      "application/vnd.jupyter.widget-view+json": {
       "model_id": "691d867e271a4f80a3d6c3ecd9a0acac",
       "version_major": 2,
       "version_minor": 0
      },
      "text/plain": [
       "  0%|          | 0/2 [00:00<?, ?it/s]"
      ]
     },
     "metadata": {},
     "output_type": "display_data"
    },
    {
     "name": "stdout",
     "output_type": "stream",
     "text": [
      "234\n"
     ]
    },
    {
     "data": {
      "application/vnd.jupyter.widget-view+json": {
       "model_id": "6e7842c336554e4a8bd557865ca658c3",
       "version_major": 2,
       "version_minor": 0
      },
      "text/plain": [
       "  0%|          | 0/2 [00:00<?, ?it/s]"
      ]
     },
     "metadata": {},
     "output_type": "display_data"
    },
    {
     "name": "stdout",
     "output_type": "stream",
     "text": [
      "342\n"
     ]
    },
    {
     "data": {
      "application/vnd.jupyter.widget-view+json": {
       "model_id": "85891f4734614f7e95fca7e025953e1b",
       "version_major": 2,
       "version_minor": 0
      },
      "text/plain": [
       "  0%|          | 0/2 [00:00<?, ?it/s]"
      ]
     },
     "metadata": {},
     "output_type": "display_data"
    },
    {
     "name": "stdout",
     "output_type": "stream",
     "text": [
      "332\n"
     ]
    },
    {
     "data": {
      "application/vnd.jupyter.widget-view+json": {
       "model_id": "6cbcdfb49e5b4d3b96cf3df4911a7710",
       "version_major": 2,
       "version_minor": 0
      },
      "text/plain": [
       "  0%|          | 0/2 [00:00<?, ?it/s]"
      ]
     },
     "metadata": {},
     "output_type": "display_data"
    },
    {
     "name": "stdout",
     "output_type": "stream",
     "text": [
      "139\n"
     ]
    },
    {
     "data": {
      "application/vnd.jupyter.widget-view+json": {
       "model_id": "d71be84764104b16a37e66775f5944a9",
       "version_major": 2,
       "version_minor": 0
      },
      "text/plain": [
       "  0%|          | 0/2 [00:00<?, ?it/s]"
      ]
     },
     "metadata": {},
     "output_type": "display_data"
    },
    {
     "name": "stdout",
     "output_type": "stream",
     "text": [
      "46\n"
     ]
    },
    {
     "data": {
      "application/vnd.jupyter.widget-view+json": {
       "model_id": "0b82f73b2f284b65b5a67a4a1fce29e5",
       "version_major": 2,
       "version_minor": 0
      },
      "text/plain": [
       "  0%|          | 0/2 [00:00<?, ?it/s]"
      ]
     },
     "metadata": {},
     "output_type": "display_data"
    },
    {
     "name": "stdout",
     "output_type": "stream",
     "text": [
      "149\n"
     ]
    },
    {
     "data": {
      "application/vnd.jupyter.widget-view+json": {
       "model_id": "f8155af123c34422996db6b7f9afac31",
       "version_major": 2,
       "version_minor": 0
      },
      "text/plain": [
       "  0%|          | 0/2 [00:00<?, ?it/s]"
      ]
     },
     "metadata": {},
     "output_type": "display_data"
    },
    {
     "name": "stdout",
     "output_type": "stream",
     "text": [
      "24\n"
     ]
    },
    {
     "data": {
      "application/vnd.jupyter.widget-view+json": {
       "model_id": "4f50e3d192a245b99ee70703ffce0a63",
       "version_major": 2,
       "version_minor": 0
      },
      "text/plain": [
       "  0%|          | 0/2 [00:00<?, ?it/s]"
      ]
     },
     "metadata": {},
     "output_type": "display_data"
    },
    {
     "name": "stdout",
     "output_type": "stream",
     "text": [
      "63\n"
     ]
    },
    {
     "data": {
      "application/vnd.jupyter.widget-view+json": {
       "model_id": "ac2b1633d096473097d8066fa97c612f",
       "version_major": 2,
       "version_minor": 0
      },
      "text/plain": [
       "  0%|          | 0/2 [00:00<?, ?it/s]"
      ]
     },
     "metadata": {},
     "output_type": "display_data"
    },
    {
     "name": "stdout",
     "output_type": "stream",
     "text": [
      "63\n"
     ]
    },
    {
     "data": {
      "application/vnd.jupyter.widget-view+json": {
       "model_id": "528ccf649a294be1b311cee2d6d2314a",
       "version_major": 2,
       "version_minor": 0
      },
      "text/plain": [
       "  0%|          | 0/2 [00:00<?, ?it/s]"
      ]
     },
     "metadata": {},
     "output_type": "display_data"
    },
    {
     "name": "stdout",
     "output_type": "stream",
     "text": [
      "12\n"
     ]
    },
    {
     "data": {
      "application/vnd.jupyter.widget-view+json": {
       "model_id": "b9a2bc2fafb0454bbb724e51bed4fe6e",
       "version_major": 2,
       "version_minor": 0
      },
      "text/plain": [
       "  0%|          | 0/2 [00:00<?, ?it/s]"
      ]
     },
     "metadata": {},
     "output_type": "display_data"
    },
    {
     "name": "stdout",
     "output_type": "stream",
     "text": [
      "28\n"
     ]
    },
    {
     "data": {
      "application/vnd.jupyter.widget-view+json": {
       "model_id": "18ce2fd7577849878b7abbe100fbae6f",
       "version_major": 2,
       "version_minor": 0
      },
      "text/plain": [
       "  0%|          | 0/2 [00:00<?, ?it/s]"
      ]
     },
     "metadata": {},
     "output_type": "display_data"
    },
    {
     "name": "stdout",
     "output_type": "stream",
     "text": [
      "209\n"
     ]
    },
    {
     "data": {
      "application/vnd.jupyter.widget-view+json": {
       "model_id": "ba8f942ef67442bab464f5849812c5ca",
       "version_major": 2,
       "version_minor": 0
      },
      "text/plain": [
       "  0%|          | 0/2 [00:00<?, ?it/s]"
      ]
     },
     "metadata": {},
     "output_type": "display_data"
    },
    {
     "name": "stdout",
     "output_type": "stream",
     "text": [
      "75\n"
     ]
    },
    {
     "data": {
      "application/vnd.jupyter.widget-view+json": {
       "model_id": "1e1317d4fbde4e3fbab46e9a86a32a6a",
       "version_major": 2,
       "version_minor": 0
      },
      "text/plain": [
       "  0%|          | 0/2 [00:00<?, ?it/s]"
      ]
     },
     "metadata": {},
     "output_type": "display_data"
    },
    {
     "name": "stdout",
     "output_type": "stream",
     "text": [
      "26\n"
     ]
    },
    {
     "data": {
      "application/vnd.jupyter.widget-view+json": {
       "model_id": "3d9d1beee8e94069a7aae834c2dbd474",
       "version_major": 2,
       "version_minor": 0
      },
      "text/plain": [
       "  0%|          | 0/2 [00:00<?, ?it/s]"
      ]
     },
     "metadata": {},
     "output_type": "display_data"
    },
    {
     "name": "stdout",
     "output_type": "stream",
     "text": [
      "25\n"
     ]
    },
    {
     "data": {
      "application/vnd.jupyter.widget-view+json": {
       "model_id": "8afeae7aede042a094738eb64290df2a",
       "version_major": 2,
       "version_minor": 0
      },
      "text/plain": [
       "  0%|          | 0/2 [00:00<?, ?it/s]"
      ]
     },
     "metadata": {},
     "output_type": "display_data"
    },
    {
     "name": "stdout",
     "output_type": "stream",
     "text": [
      "254\n"
     ]
    },
    {
     "data": {
      "application/vnd.jupyter.widget-view+json": {
       "model_id": "67ef7894039248989fc14bd8888ee160",
       "version_major": 2,
       "version_minor": 0
      },
      "text/plain": [
       "  0%|          | 0/2 [00:00<?, ?it/s]"
      ]
     },
     "metadata": {},
     "output_type": "display_data"
    },
    {
     "name": "stdout",
     "output_type": "stream",
     "text": [
      "118\n"
     ]
    },
    {
     "data": {
      "application/vnd.jupyter.widget-view+json": {
       "model_id": "33a327698fe94942aa6e3a08acc26bbf",
       "version_major": 2,
       "version_minor": 0
      },
      "text/plain": [
       "  0%|          | 0/2 [00:00<?, ?it/s]"
      ]
     },
     "metadata": {},
     "output_type": "display_data"
    },
    {
     "name": "stdout",
     "output_type": "stream",
     "text": [
      "161\n"
     ]
    },
    {
     "data": {
      "application/vnd.jupyter.widget-view+json": {
       "model_id": "e8e45bbdd2fd46a39e7a78573fd8e9a6",
       "version_major": 2,
       "version_minor": 0
      },
      "text/plain": [
       "  0%|          | 0/2 [00:00<?, ?it/s]"
      ]
     },
     "metadata": {},
     "output_type": "display_data"
    },
    {
     "name": "stdout",
     "output_type": "stream",
     "text": [
      "175\n"
     ]
    },
    {
     "data": {
      "application/vnd.jupyter.widget-view+json": {
       "model_id": "7e36d9ea8fc94e09aac115953637f8cd",
       "version_major": 2,
       "version_minor": 0
      },
      "text/plain": [
       "  0%|          | 0/2 [00:00<?, ?it/s]"
      ]
     },
     "metadata": {},
     "output_type": "display_data"
    },
    {
     "name": "stdout",
     "output_type": "stream",
     "text": [
      "57\n"
     ]
    },
    {
     "data": {
      "application/vnd.jupyter.widget-view+json": {
       "model_id": "e736a0073c8a4cc0b41e28b94f8a38dd",
       "version_major": 2,
       "version_minor": 0
      },
      "text/plain": [
       "  0%|          | 0/2 [00:00<?, ?it/s]"
      ]
     },
     "metadata": {},
     "output_type": "display_data"
    },
    {
     "name": "stdout",
     "output_type": "stream",
     "text": [
      "59\n"
     ]
    },
    {
     "data": {
      "application/vnd.jupyter.widget-view+json": {
       "model_id": "fe5061d7f008409eb3b88b811b12c328",
       "version_major": 2,
       "version_minor": 0
      },
      "text/plain": [
       "  0%|          | 0/2 [00:00<?, ?it/s]"
      ]
     },
     "metadata": {},
     "output_type": "display_data"
    },
    {
     "name": "stdout",
     "output_type": "stream",
     "text": [
      "825\n"
     ]
    },
    {
     "data": {
      "application/vnd.jupyter.widget-view+json": {
       "model_id": "df82c8fa00d84cef89fc581138444dac",
       "version_major": 2,
       "version_minor": 0
      },
      "text/plain": [
       "  0%|          | 0/2 [00:00<?, ?it/s]"
      ]
     },
     "metadata": {},
     "output_type": "display_data"
    },
    {
     "name": "stdout",
     "output_type": "stream",
     "text": [
      "258\n"
     ]
    },
    {
     "data": {
      "application/vnd.jupyter.widget-view+json": {
       "model_id": "f431eb0cbd9943879b193823950891ac",
       "version_major": 2,
       "version_minor": 0
      },
      "text/plain": [
       "  0%|          | 0/2 [00:00<?, ?it/s]"
      ]
     },
     "metadata": {},
     "output_type": "display_data"
    },
    {
     "name": "stdout",
     "output_type": "stream",
     "text": [
      "72\n"
     ]
    },
    {
     "data": {
      "application/vnd.jupyter.widget-view+json": {
       "model_id": "4ef7fead30a64e7886942171a9bfa752",
       "version_major": 2,
       "version_minor": 0
      },
      "text/plain": [
       "  0%|          | 0/2 [00:00<?, ?it/s]"
      ]
     },
     "metadata": {},
     "output_type": "display_data"
    },
    {
     "name": "stdout",
     "output_type": "stream",
     "text": [
      "25\n"
     ]
    },
    {
     "data": {
      "application/vnd.jupyter.widget-view+json": {
       "model_id": "95f49fe799624dfb99d35eb25f5e5db0",
       "version_major": 2,
       "version_minor": 0
      },
      "text/plain": [
       "  0%|          | 0/2 [00:00<?, ?it/s]"
      ]
     },
     "metadata": {},
     "output_type": "display_data"
    },
    {
     "name": "stdout",
     "output_type": "stream",
     "text": [
      "159\n"
     ]
    },
    {
     "data": {
      "application/vnd.jupyter.widget-view+json": {
       "model_id": "57a12643dca24ecba91d3851f427dc72",
       "version_major": 2,
       "version_minor": 0
      },
      "text/plain": [
       "  0%|          | 0/2 [00:00<?, ?it/s]"
      ]
     },
     "metadata": {},
     "output_type": "display_data"
    },
    {
     "name": "stdout",
     "output_type": "stream",
     "text": [
      "49\n"
     ]
    },
    {
     "data": {
      "application/vnd.jupyter.widget-view+json": {
       "model_id": "0dee5adfe0d3455ea9211ec177a5a275",
       "version_major": 2,
       "version_minor": 0
      },
      "text/plain": [
       "  0%|          | 0/2 [00:00<?, ?it/s]"
      ]
     },
     "metadata": {},
     "output_type": "display_data"
    },
    {
     "name": "stdout",
     "output_type": "stream",
     "text": [
      "81\n"
     ]
    },
    {
     "data": {
      "application/vnd.jupyter.widget-view+json": {
       "model_id": "4ceeb1c73528407792a33eda5b0330a4",
       "version_major": 2,
       "version_minor": 0
      },
      "text/plain": [
       "  0%|          | 0/2 [00:00<?, ?it/s]"
      ]
     },
     "metadata": {},
     "output_type": "display_data"
    },
    {
     "name": "stdout",
     "output_type": "stream",
     "text": [
      "210\n"
     ]
    },
    {
     "data": {
      "application/vnd.jupyter.widget-view+json": {
       "model_id": "10e1f3bc5b8643738e1df5befbdd631a",
       "version_major": 2,
       "version_minor": 0
      },
      "text/plain": [
       "  0%|          | 0/2 [00:00<?, ?it/s]"
      ]
     },
     "metadata": {},
     "output_type": "display_data"
    },
    {
     "name": "stdout",
     "output_type": "stream",
     "text": [
      "51\n"
     ]
    },
    {
     "data": {
      "application/vnd.jupyter.widget-view+json": {
       "model_id": "7eecd4abedbe4ca7b0c81e43665d9e14",
       "version_major": 2,
       "version_minor": 0
      },
      "text/plain": [
       "  0%|          | 0/2 [00:00<?, ?it/s]"
      ]
     },
     "metadata": {},
     "output_type": "display_data"
    },
    {
     "name": "stdout",
     "output_type": "stream",
     "text": [
      "36\n"
     ]
    },
    {
     "data": {
      "application/vnd.jupyter.widget-view+json": {
       "model_id": "9439c4c64a5148b8a7297c136445b87c",
       "version_major": 2,
       "version_minor": 0
      },
      "text/plain": [
       "  0%|          | 0/2 [00:00<?, ?it/s]"
      ]
     },
     "metadata": {},
     "output_type": "display_data"
    },
    {
     "name": "stdout",
     "output_type": "stream",
     "text": [
      "131\n"
     ]
    },
    {
     "data": {
      "application/vnd.jupyter.widget-view+json": {
       "model_id": "b4ab7c0ab5c7488d814a4cda8ea71aec",
       "version_major": 2,
       "version_minor": 0
      },
      "text/plain": [
       "  0%|          | 0/2 [00:00<?, ?it/s]"
      ]
     },
     "metadata": {},
     "output_type": "display_data"
    },
    {
     "name": "stdout",
     "output_type": "stream",
     "text": [
      "51\n"
     ]
    },
    {
     "data": {
      "application/vnd.jupyter.widget-view+json": {
       "model_id": "50ba80d07ac148cd91e68150d1b3c85b",
       "version_major": 2,
       "version_minor": 0
      },
      "text/plain": [
       "  0%|          | 0/2 [00:00<?, ?it/s]"
      ]
     },
     "metadata": {},
     "output_type": "display_data"
    },
    {
     "name": "stdout",
     "output_type": "stream",
     "text": [
      "247\n"
     ]
    },
    {
     "data": {
      "application/vnd.jupyter.widget-view+json": {
       "model_id": "f5ce9116c82541cd9f618f17225a0a82",
       "version_major": 2,
       "version_minor": 0
      },
      "text/plain": [
       "  0%|          | 0/2 [00:00<?, ?it/s]"
      ]
     },
     "metadata": {},
     "output_type": "display_data"
    },
    {
     "name": "stdout",
     "output_type": "stream",
     "text": [
      "37\n"
     ]
    },
    {
     "data": {
      "application/vnd.jupyter.widget-view+json": {
       "model_id": "d40991c9b46f4a8cac34c9b9449a3e6b",
       "version_major": 2,
       "version_minor": 0
      },
      "text/plain": [
       "  0%|          | 0/2 [00:00<?, ?it/s]"
      ]
     },
     "metadata": {},
     "output_type": "display_data"
    },
    {
     "name": "stdout",
     "output_type": "stream",
     "text": [
      "47\n"
     ]
    },
    {
     "data": {
      "application/vnd.jupyter.widget-view+json": {
       "model_id": "f281c6dca70d4e72aed4d766e56d8036",
       "version_major": 2,
       "version_minor": 0
      },
      "text/plain": [
       "  0%|          | 0/2 [00:00<?, ?it/s]"
      ]
     },
     "metadata": {},
     "output_type": "display_data"
    },
    {
     "name": "stdout",
     "output_type": "stream",
     "text": [
      "1294\n"
     ]
    },
    {
     "data": {
      "application/vnd.jupyter.widget-view+json": {
       "model_id": "e4c24b81239a44278bd6ecd9b5dfd55f",
       "version_major": 2,
       "version_minor": 0
      },
      "text/plain": [
       "  0%|          | 0/3 [00:00<?, ?it/s]"
      ]
     },
     "metadata": {},
     "output_type": "display_data"
    },
    {
     "name": "stdout",
     "output_type": "stream",
     "text": [
      "190\n"
     ]
    },
    {
     "data": {
      "application/vnd.jupyter.widget-view+json": {
       "model_id": "d8382b32ed6747a0adeb078915e95a95",
       "version_major": 2,
       "version_minor": 0
      },
      "text/plain": [
       "  0%|          | 0/2 [00:00<?, ?it/s]"
      ]
     },
     "metadata": {},
     "output_type": "display_data"
    },
    {
     "name": "stdout",
     "output_type": "stream",
     "text": [
      "72\n"
     ]
    },
    {
     "data": {
      "application/vnd.jupyter.widget-view+json": {
       "model_id": "46e94a04a5db4298b858d8c273c9f9cf",
       "version_major": 2,
       "version_minor": 0
      },
      "text/plain": [
       "  0%|          | 0/2 [00:00<?, ?it/s]"
      ]
     },
     "metadata": {},
     "output_type": "display_data"
    },
    {
     "name": "stdout",
     "output_type": "stream",
     "text": [
      "132\n"
     ]
    },
    {
     "data": {
      "application/vnd.jupyter.widget-view+json": {
       "model_id": "5fcecfa86240439bb5aef2f264b7b41c",
       "version_major": 2,
       "version_minor": 0
      },
      "text/plain": [
       "  0%|          | 0/2 [00:00<?, ?it/s]"
      ]
     },
     "metadata": {},
     "output_type": "display_data"
    },
    {
     "name": "stdout",
     "output_type": "stream",
     "text": [
      "351\n"
     ]
    },
    {
     "data": {
      "application/vnd.jupyter.widget-view+json": {
       "model_id": "bb27046561a44646a53f0ba93960545f",
       "version_major": 2,
       "version_minor": 0
      },
      "text/plain": [
       "  0%|          | 0/2 [00:00<?, ?it/s]"
      ]
     },
     "metadata": {},
     "output_type": "display_data"
    },
    {
     "name": "stdout",
     "output_type": "stream",
     "text": [
      "65\n"
     ]
    },
    {
     "data": {
      "application/vnd.jupyter.widget-view+json": {
       "model_id": "7762ff2559024c69bec6c992de1ddb0a",
       "version_major": 2,
       "version_minor": 0
      },
      "text/plain": [
       "  0%|          | 0/2 [00:00<?, ?it/s]"
      ]
     },
     "metadata": {},
     "output_type": "display_data"
    },
    {
     "name": "stdout",
     "output_type": "stream",
     "text": [
      "40\n"
     ]
    },
    {
     "data": {
      "application/vnd.jupyter.widget-view+json": {
       "model_id": "1f5124c93ac542679db223ecdb2c975b",
       "version_major": 2,
       "version_minor": 0
      },
      "text/plain": [
       "  0%|          | 0/2 [00:00<?, ?it/s]"
      ]
     },
     "metadata": {},
     "output_type": "display_data"
    },
    {
     "name": "stdout",
     "output_type": "stream",
     "text": [
      "83\n"
     ]
    },
    {
     "data": {
      "application/vnd.jupyter.widget-view+json": {
       "model_id": "12e9206f78f4493399aa00b25b49a0ed",
       "version_major": 2,
       "version_minor": 0
      },
      "text/plain": [
       "  0%|          | 0/2 [00:00<?, ?it/s]"
      ]
     },
     "metadata": {},
     "output_type": "display_data"
    },
    {
     "name": "stdout",
     "output_type": "stream",
     "text": [
      "52\n"
     ]
    },
    {
     "data": {
      "application/vnd.jupyter.widget-view+json": {
       "model_id": "18e282db52e1481789bc20af128b1833",
       "version_major": 2,
       "version_minor": 0
      },
      "text/plain": [
       "  0%|          | 0/2 [00:00<?, ?it/s]"
      ]
     },
     "metadata": {},
     "output_type": "display_data"
    },
    {
     "name": "stdout",
     "output_type": "stream",
     "text": [
      "301\n"
     ]
    },
    {
     "data": {
      "application/vnd.jupyter.widget-view+json": {
       "model_id": "1711189398b84379a47cd32b14ce6e2b",
       "version_major": 2,
       "version_minor": 0
      },
      "text/plain": [
       "  0%|          | 0/2 [00:00<?, ?it/s]"
      ]
     },
     "metadata": {},
     "output_type": "display_data"
    },
    {
     "name": "stdout",
     "output_type": "stream",
     "text": [
      "967\n"
     ]
    },
    {
     "data": {
      "application/vnd.jupyter.widget-view+json": {
       "model_id": "bf20b089f63046d88664fc3a7cfa1c89",
       "version_major": 2,
       "version_minor": 0
      },
      "text/plain": [
       "  0%|          | 0/2 [00:00<?, ?it/s]"
      ]
     },
     "metadata": {},
     "output_type": "display_data"
    },
    {
     "name": "stdout",
     "output_type": "stream",
     "text": [
      "573\n"
     ]
    },
    {
     "data": {
      "application/vnd.jupyter.widget-view+json": {
       "model_id": "3458797e8b9f40ddacccea6596ec7701",
       "version_major": 2,
       "version_minor": 0
      },
      "text/plain": [
       "  0%|          | 0/2 [00:00<?, ?it/s]"
      ]
     },
     "metadata": {},
     "output_type": "display_data"
    },
    {
     "name": "stdout",
     "output_type": "stream",
     "text": [
      "1275\n"
     ]
    },
    {
     "data": {
      "application/vnd.jupyter.widget-view+json": {
       "model_id": "ef07dfde06be48f0b3a90d70ae40a7c0",
       "version_major": 2,
       "version_minor": 0
      },
      "text/plain": [
       "  0%|          | 0/3 [00:00<?, ?it/s]"
      ]
     },
     "metadata": {},
     "output_type": "display_data"
    },
    {
     "name": "stdout",
     "output_type": "stream",
     "text": [
      "114\n"
     ]
    },
    {
     "data": {
      "application/vnd.jupyter.widget-view+json": {
       "model_id": "0c6fe515477445bc94f7ae199948eba6",
       "version_major": 2,
       "version_minor": 0
      },
      "text/plain": [
       "  0%|          | 0/2 [00:00<?, ?it/s]"
      ]
     },
     "metadata": {},
     "output_type": "display_data"
    },
    {
     "name": "stdout",
     "output_type": "stream",
     "text": [
      "77\n"
     ]
    },
    {
     "data": {
      "application/vnd.jupyter.widget-view+json": {
       "model_id": "1957fe22cbde4179bd441bdf8c9365c9",
       "version_major": 2,
       "version_minor": 0
      },
      "text/plain": [
       "  0%|          | 0/2 [00:00<?, ?it/s]"
      ]
     },
     "metadata": {},
     "output_type": "display_data"
    },
    {
     "name": "stdout",
     "output_type": "stream",
     "text": [
      "354\n"
     ]
    },
    {
     "data": {
      "application/vnd.jupyter.widget-view+json": {
       "model_id": "6fe19350c6974f038a5d0239056325cd",
       "version_major": 2,
       "version_minor": 0
      },
      "text/plain": [
       "  0%|          | 0/2 [00:00<?, ?it/s]"
      ]
     },
     "metadata": {},
     "output_type": "display_data"
    },
    {
     "name": "stdout",
     "output_type": "stream",
     "text": [
      "353\n"
     ]
    },
    {
     "data": {
      "application/vnd.jupyter.widget-view+json": {
       "model_id": "6e3bd528dacf4579b5f62396abc96fdf",
       "version_major": 2,
       "version_minor": 0
      },
      "text/plain": [
       "  0%|          | 0/2 [00:00<?, ?it/s]"
      ]
     },
     "metadata": {},
     "output_type": "display_data"
    },
    {
     "name": "stdout",
     "output_type": "stream",
     "text": [
      "49\n"
     ]
    },
    {
     "data": {
      "application/vnd.jupyter.widget-view+json": {
       "model_id": "31bb510d8deb4d0f81bb95e9d197ea47",
       "version_major": 2,
       "version_minor": 0
      },
      "text/plain": [
       "  0%|          | 0/2 [00:00<?, ?it/s]"
      ]
     },
     "metadata": {},
     "output_type": "display_data"
    },
    {
     "name": "stdout",
     "output_type": "stream",
     "text": [
      "61\n"
     ]
    },
    {
     "data": {
      "application/vnd.jupyter.widget-view+json": {
       "model_id": "eeda2791afc04565bf275dbc9405668d",
       "version_major": 2,
       "version_minor": 0
      },
      "text/plain": [
       "  0%|          | 0/2 [00:00<?, ?it/s]"
      ]
     },
     "metadata": {},
     "output_type": "display_data"
    },
    {
     "name": "stdout",
     "output_type": "stream",
     "text": [
      "19\n"
     ]
    },
    {
     "data": {
      "application/vnd.jupyter.widget-view+json": {
       "model_id": "82e20a6d95de403ba2b6aeb42d9849b2",
       "version_major": 2,
       "version_minor": 0
      },
      "text/plain": [
       "  0%|          | 0/2 [00:00<?, ?it/s]"
      ]
     },
     "metadata": {},
     "output_type": "display_data"
    },
    {
     "name": "stdout",
     "output_type": "stream",
     "text": [
      "34\n"
     ]
    },
    {
     "data": {
      "application/vnd.jupyter.widget-view+json": {
       "model_id": "3d392cec0ae0474aac0e10ebbfe512e0",
       "version_major": 2,
       "version_minor": 0
      },
      "text/plain": [
       "  0%|          | 0/2 [00:00<?, ?it/s]"
      ]
     },
     "metadata": {},
     "output_type": "display_data"
    },
    {
     "name": "stdout",
     "output_type": "stream",
     "text": [
      "9\n"
     ]
    },
    {
     "data": {
      "application/vnd.jupyter.widget-view+json": {
       "model_id": "760dd30bc5a44eeeacc6478eba8ef07e",
       "version_major": 2,
       "version_minor": 0
      },
      "text/plain": [
       "  0%|          | 0/2 [00:00<?, ?it/s]"
      ]
     },
     "metadata": {},
     "output_type": "display_data"
    },
    {
     "name": "stdout",
     "output_type": "stream",
     "text": [
      "17\n"
     ]
    },
    {
     "data": {
      "application/vnd.jupyter.widget-view+json": {
       "model_id": "81f5c08dbcc943e0b0dcd9c190f3d2e7",
       "version_major": 2,
       "version_minor": 0
      },
      "text/plain": [
       "  0%|          | 0/2 [00:00<?, ?it/s]"
      ]
     },
     "metadata": {},
     "output_type": "display_data"
    },
    {
     "name": "stdout",
     "output_type": "stream",
     "text": [
      "2\n"
     ]
    },
    {
     "data": {
      "application/vnd.jupyter.widget-view+json": {
       "model_id": "0651924d740b40e7bc39e6219c72c70b",
       "version_major": 2,
       "version_minor": 0
      },
      "text/plain": [
       "  0%|          | 0/2 [00:00<?, ?it/s]"
      ]
     },
     "metadata": {},
     "output_type": "display_data"
    },
    {
     "name": "stdout",
     "output_type": "stream",
     "text": [
      "37\n"
     ]
    },
    {
     "data": {
      "application/vnd.jupyter.widget-view+json": {
       "model_id": "355d61224d144ee980e9694c2edbf742",
       "version_major": 2,
       "version_minor": 0
      },
      "text/plain": [
       "  0%|          | 0/2 [00:00<?, ?it/s]"
      ]
     },
     "metadata": {},
     "output_type": "display_data"
    },
    {
     "name": "stdout",
     "output_type": "stream",
     "text": [
      "18\n"
     ]
    },
    {
     "data": {
      "application/vnd.jupyter.widget-view+json": {
       "model_id": "9cab9bfac4bb482abe12211187ebe1d9",
       "version_major": 2,
       "version_minor": 0
      },
      "text/plain": [
       "  0%|          | 0/2 [00:00<?, ?it/s]"
      ]
     },
     "metadata": {},
     "output_type": "display_data"
    },
    {
     "name": "stdout",
     "output_type": "stream",
     "text": [
      "3\n"
     ]
    },
    {
     "data": {
      "application/vnd.jupyter.widget-view+json": {
       "model_id": "7eb80a1c4dc04c19a6457b10f7454b40",
       "version_major": 2,
       "version_minor": 0
      },
      "text/plain": [
       "  0%|          | 0/2 [00:00<?, ?it/s]"
      ]
     },
     "metadata": {},
     "output_type": "display_data"
    },
    {
     "name": "stdout",
     "output_type": "stream",
     "text": [
      "4\n"
     ]
    },
    {
     "data": {
      "application/vnd.jupyter.widget-view+json": {
       "model_id": "59bb2e2d88d84ab7ab3d473c458625a5",
       "version_major": 2,
       "version_minor": 0
      },
      "text/plain": [
       "  0%|          | 0/2 [00:00<?, ?it/s]"
      ]
     },
     "metadata": {},
     "output_type": "display_data"
    },
    {
     "name": "stdout",
     "output_type": "stream",
     "text": [
      "279\n"
     ]
    },
    {
     "data": {
      "application/vnd.jupyter.widget-view+json": {
       "model_id": "0c179147b6a64e0fa4dc2f6b035a8151",
       "version_major": 2,
       "version_minor": 0
      },
      "text/plain": [
       "  0%|          | 0/2 [00:00<?, ?it/s]"
      ]
     },
     "metadata": {},
     "output_type": "display_data"
    },
    {
     "name": "stdout",
     "output_type": "stream",
     "text": [
      "71\n"
     ]
    },
    {
     "data": {
      "application/vnd.jupyter.widget-view+json": {
       "model_id": "bfecb4c67a0d4fc38f75d2fefe94b846",
       "version_major": 2,
       "version_minor": 0
      },
      "text/plain": [
       "  0%|          | 0/2 [00:00<?, ?it/s]"
      ]
     },
     "metadata": {},
     "output_type": "display_data"
    },
    {
     "name": "stdout",
     "output_type": "stream",
     "text": [
      "150\n"
     ]
    },
    {
     "data": {
      "application/vnd.jupyter.widget-view+json": {
       "model_id": "dbe870c7a8094954a48a6933dbb54c6c",
       "version_major": 2,
       "version_minor": 0
      },
      "text/plain": [
       "  0%|          | 0/2 [00:00<?, ?it/s]"
      ]
     },
     "metadata": {},
     "output_type": "display_data"
    },
    {
     "name": "stdout",
     "output_type": "stream",
     "text": [
      "103\n"
     ]
    },
    {
     "data": {
      "application/vnd.jupyter.widget-view+json": {
       "model_id": "2d0d6ef5fafb4839a66ada067d929364",
       "version_major": 2,
       "version_minor": 0
      },
      "text/plain": [
       "  0%|          | 0/2 [00:00<?, ?it/s]"
      ]
     },
     "metadata": {},
     "output_type": "display_data"
    },
    {
     "name": "stdout",
     "output_type": "stream",
     "text": [
      "78\n"
     ]
    },
    {
     "data": {
      "application/vnd.jupyter.widget-view+json": {
       "model_id": "43395a7ff25346ddb087605b43b94d92",
       "version_major": 2,
       "version_minor": 0
      },
      "text/plain": [
       "  0%|          | 0/2 [00:00<?, ?it/s]"
      ]
     },
     "metadata": {},
     "output_type": "display_data"
    },
    {
     "name": "stdout",
     "output_type": "stream",
     "text": [
      "76\n"
     ]
    },
    {
     "data": {
      "application/vnd.jupyter.widget-view+json": {
       "model_id": "9312375424fc4412b614fb14eb175011",
       "version_major": 2,
       "version_minor": 0
      },
      "text/plain": [
       "  0%|          | 0/2 [00:00<?, ?it/s]"
      ]
     },
     "metadata": {},
     "output_type": "display_data"
    },
    {
     "name": "stdout",
     "output_type": "stream",
     "text": [
      "139\n"
     ]
    },
    {
     "data": {
      "application/vnd.jupyter.widget-view+json": {
       "model_id": "9bf8f221002a4fb8a3ee4f2df5d82874",
       "version_major": 2,
       "version_minor": 0
      },
      "text/plain": [
       "  0%|          | 0/2 [00:00<?, ?it/s]"
      ]
     },
     "metadata": {},
     "output_type": "display_data"
    },
    {
     "name": "stdout",
     "output_type": "stream",
     "text": [
      "157\n"
     ]
    },
    {
     "data": {
      "application/vnd.jupyter.widget-view+json": {
       "model_id": "8b515504c3c54099b9fead4c272044d1",
       "version_major": 2,
       "version_minor": 0
      },
      "text/plain": [
       "  0%|          | 0/2 [00:00<?, ?it/s]"
      ]
     },
     "metadata": {},
     "output_type": "display_data"
    },
    {
     "name": "stdout",
     "output_type": "stream",
     "text": [
      "79\n"
     ]
    },
    {
     "data": {
      "application/vnd.jupyter.widget-view+json": {
       "model_id": "2accb11ea5c04cd5850054d7b832c37e",
       "version_major": 2,
       "version_minor": 0
      },
      "text/plain": [
       "  0%|          | 0/2 [00:00<?, ?it/s]"
      ]
     },
     "metadata": {},
     "output_type": "display_data"
    },
    {
     "name": "stdout",
     "output_type": "stream",
     "text": [
      "100\n"
     ]
    },
    {
     "data": {
      "application/vnd.jupyter.widget-view+json": {
       "model_id": "bd206093b5804440b9a32e26795506f4",
       "version_major": 2,
       "version_minor": 0
      },
      "text/plain": [
       "  0%|          | 0/2 [00:00<?, ?it/s]"
      ]
     },
     "metadata": {},
     "output_type": "display_data"
    },
    {
     "name": "stdout",
     "output_type": "stream",
     "text": [
      "2838\n"
     ]
    },
    {
     "data": {
      "application/vnd.jupyter.widget-view+json": {
       "model_id": "07d571f5811d43d49c565e70638f757b",
       "version_major": 2,
       "version_minor": 0
      },
      "text/plain": [
       "  0%|          | 0/4 [00:00<?, ?it/s]"
      ]
     },
     "metadata": {},
     "output_type": "display_data"
    },
    {
     "name": "stdout",
     "output_type": "stream",
     "text": [
      "935\n"
     ]
    },
    {
     "data": {
      "application/vnd.jupyter.widget-view+json": {
       "model_id": "753117e8f8d04c77b511d18f670d50d1",
       "version_major": 2,
       "version_minor": 0
      },
      "text/plain": [
       "  0%|          | 0/2 [00:00<?, ?it/s]"
      ]
     },
     "metadata": {},
     "output_type": "display_data"
    },
    {
     "name": "stdout",
     "output_type": "stream",
     "text": [
      "1531\n"
     ]
    },
    {
     "data": {
      "application/vnd.jupyter.widget-view+json": {
       "model_id": "3e810eca78914f1288b91326ce021710",
       "version_major": 2,
       "version_minor": 0
      },
      "text/plain": [
       "  0%|          | 0/3 [00:00<?, ?it/s]"
      ]
     },
     "metadata": {},
     "output_type": "display_data"
    },
    {
     "name": "stdout",
     "output_type": "stream",
     "text": [
      "1748\n"
     ]
    },
    {
     "data": {
      "application/vnd.jupyter.widget-view+json": {
       "model_id": "2c5c9670e4574790bd7a085e386f8e64",
       "version_major": 2,
       "version_minor": 0
      },
      "text/plain": [
       "  0%|          | 0/3 [00:00<?, ?it/s]"
      ]
     },
     "metadata": {},
     "output_type": "display_data"
    },
    {
     "name": "stdout",
     "output_type": "stream",
     "text": [
      "5983\n"
     ]
    },
    {
     "data": {
      "application/vnd.jupyter.widget-view+json": {
       "model_id": "c6a85628a27b4dd3a822c3ab36681b68",
       "version_major": 2,
       "version_minor": 0
      },
      "text/plain": [
       "  0%|          | 0/7 [00:00<?, ?it/s]"
      ]
     },
     "metadata": {},
     "output_type": "display_data"
    },
    {
     "name": "stdout",
     "output_type": "stream",
     "text": [
      "870\n"
     ]
    },
    {
     "data": {
      "application/vnd.jupyter.widget-view+json": {
       "model_id": "ec93362f192d4f1d8021ed2654ef0270",
       "version_major": 2,
       "version_minor": 0
      },
      "text/plain": [
       "  0%|          | 0/2 [00:00<?, ?it/s]"
      ]
     },
     "metadata": {},
     "output_type": "display_data"
    },
    {
     "name": "stdout",
     "output_type": "stream",
     "text": [
      "1387\n"
     ]
    },
    {
     "data": {
      "application/vnd.jupyter.widget-view+json": {
       "model_id": "3ca1d426443a4bba8034c9d93ed591ea",
       "version_major": 2,
       "version_minor": 0
      },
      "text/plain": [
       "  0%|          | 0/3 [00:00<?, ?it/s]"
      ]
     },
     "metadata": {},
     "output_type": "display_data"
    },
    {
     "name": "stdout",
     "output_type": "stream",
     "text": [
      "1983\n"
     ]
    },
    {
     "data": {
      "application/vnd.jupyter.widget-view+json": {
       "model_id": "62734aa81aa34e909cccaf5fdadbefc0",
       "version_major": 2,
       "version_minor": 0
      },
      "text/plain": [
       "  0%|          | 0/3 [00:00<?, ?it/s]"
      ]
     },
     "metadata": {},
     "output_type": "display_data"
    },
    {
     "name": "stdout",
     "output_type": "stream",
     "text": [
      "576\n"
     ]
    },
    {
     "data": {
      "application/vnd.jupyter.widget-view+json": {
       "model_id": "f0b3c5e30e5c4b0a917f13010aac82ad",
       "version_major": 2,
       "version_minor": 0
      },
      "text/plain": [
       "  0%|          | 0/2 [00:00<?, ?it/s]"
      ]
     },
     "metadata": {},
     "output_type": "display_data"
    },
    {
     "name": "stdout",
     "output_type": "stream",
     "text": [
      "243\n"
     ]
    },
    {
     "data": {
      "application/vnd.jupyter.widget-view+json": {
       "model_id": "7c9756957243489bb83c8606942b4fb4",
       "version_major": 2,
       "version_minor": 0
      },
      "text/plain": [
       "  0%|          | 0/2 [00:00<?, ?it/s]"
      ]
     },
     "metadata": {},
     "output_type": "display_data"
    },
    {
     "name": "stdout",
     "output_type": "stream",
     "text": [
      "623\n"
     ]
    },
    {
     "data": {
      "application/vnd.jupyter.widget-view+json": {
       "model_id": "3f6d0b1601bd4123a94d08cf9a983672",
       "version_major": 2,
       "version_minor": 0
      },
      "text/plain": [
       "  0%|          | 0/2 [00:00<?, ?it/s]"
      ]
     },
     "metadata": {},
     "output_type": "display_data"
    },
    {
     "name": "stdout",
     "output_type": "stream",
     "text": [
      "153\n"
     ]
    },
    {
     "data": {
      "application/vnd.jupyter.widget-view+json": {
       "model_id": "f7ba19ecd7cd4fa1bebccb607c25f757",
       "version_major": 2,
       "version_minor": 0
      },
      "text/plain": [
       "  0%|          | 0/2 [00:00<?, ?it/s]"
      ]
     },
     "metadata": {},
     "output_type": "display_data"
    },
    {
     "name": "stdout",
     "output_type": "stream",
     "text": [
      "250\n"
     ]
    },
    {
     "data": {
      "application/vnd.jupyter.widget-view+json": {
       "model_id": "48fd8665e5cf433591d52a02d3af71b6",
       "version_major": 2,
       "version_minor": 0
      },
      "text/plain": [
       "  0%|          | 0/2 [00:00<?, ?it/s]"
      ]
     },
     "metadata": {},
     "output_type": "display_data"
    },
    {
     "name": "stdout",
     "output_type": "stream",
     "text": [
      "342\n"
     ]
    },
    {
     "data": {
      "application/vnd.jupyter.widget-view+json": {
       "model_id": "160cf873ad984280a655fdfe4a72792c",
       "version_major": 2,
       "version_minor": 0
      },
      "text/plain": [
       "  0%|          | 0/2 [00:00<?, ?it/s]"
      ]
     },
     "metadata": {},
     "output_type": "display_data"
    },
    {
     "name": "stdout",
     "output_type": "stream",
     "text": [
      "120\n"
     ]
    },
    {
     "data": {
      "application/vnd.jupyter.widget-view+json": {
       "model_id": "f330a8f16c4b42f7b333434525beb186",
       "version_major": 2,
       "version_minor": 0
      },
      "text/plain": [
       "  0%|          | 0/2 [00:00<?, ?it/s]"
      ]
     },
     "metadata": {},
     "output_type": "display_data"
    },
    {
     "name": "stdout",
     "output_type": "stream",
     "text": [
      "300\n"
     ]
    },
    {
     "data": {
      "application/vnd.jupyter.widget-view+json": {
       "model_id": "6b80cbd830ea42509849319fa23bfa1e",
       "version_major": 2,
       "version_minor": 0
      },
      "text/plain": [
       "  0%|          | 0/2 [00:00<?, ?it/s]"
      ]
     },
     "metadata": {},
     "output_type": "display_data"
    },
    {
     "name": "stdout",
     "output_type": "stream",
     "text": [
      "323\n"
     ]
    },
    {
     "data": {
      "application/vnd.jupyter.widget-view+json": {
       "model_id": "48f0621d4119437386e25b8305d684d4",
       "version_major": 2,
       "version_minor": 0
      },
      "text/plain": [
       "  0%|          | 0/2 [00:00<?, ?it/s]"
      ]
     },
     "metadata": {},
     "output_type": "display_data"
    },
    {
     "name": "stdout",
     "output_type": "stream",
     "text": [
      "298\n"
     ]
    },
    {
     "data": {
      "application/vnd.jupyter.widget-view+json": {
       "model_id": "b567fb7769ed43f8938a5d61cd6ddd69",
       "version_major": 2,
       "version_minor": 0
      },
      "text/plain": [
       "  0%|          | 0/2 [00:00<?, ?it/s]"
      ]
     },
     "metadata": {},
     "output_type": "display_data"
    },
    {
     "name": "stdout",
     "output_type": "stream",
     "text": [
      "167\n"
     ]
    },
    {
     "data": {
      "application/vnd.jupyter.widget-view+json": {
       "model_id": "ee3c91570cba4c69bc9e5fbc25112968",
       "version_major": 2,
       "version_minor": 0
      },
      "text/plain": [
       "  0%|          | 0/2 [00:00<?, ?it/s]"
      ]
     },
     "metadata": {},
     "output_type": "display_data"
    },
    {
     "name": "stdout",
     "output_type": "stream",
     "text": [
      "1850\n"
     ]
    },
    {
     "data": {
      "application/vnd.jupyter.widget-view+json": {
       "model_id": "4facd3efd9a24cc9a24f9bc32f6ba3da",
       "version_major": 2,
       "version_minor": 0
      },
      "text/plain": [
       "  0%|          | 0/3 [00:00<?, ?it/s]"
      ]
     },
     "metadata": {},
     "output_type": "display_data"
    },
    {
     "name": "stdout",
     "output_type": "stream",
     "text": [
      "185\n"
     ]
    },
    {
     "data": {
      "application/vnd.jupyter.widget-view+json": {
       "model_id": "11e1dbb8b4954ae78ed007479ddbed92",
       "version_major": 2,
       "version_minor": 0
      },
      "text/plain": [
       "  0%|          | 0/2 [00:00<?, ?it/s]"
      ]
     },
     "metadata": {},
     "output_type": "display_data"
    },
    {
     "name": "stdout",
     "output_type": "stream",
     "text": [
      "74\n"
     ]
    },
    {
     "data": {
      "application/vnd.jupyter.widget-view+json": {
       "model_id": "d2e7e84da0c74c0292d5ce8f4a47064c",
       "version_major": 2,
       "version_minor": 0
      },
      "text/plain": [
       "  0%|          | 0/2 [00:00<?, ?it/s]"
      ]
     },
     "metadata": {},
     "output_type": "display_data"
    },
    {
     "name": "stdout",
     "output_type": "stream",
     "text": [
      "188\n"
     ]
    },
    {
     "data": {
      "application/vnd.jupyter.widget-view+json": {
       "model_id": "3b31b18563d549b0bed7b42da6e4b288",
       "version_major": 2,
       "version_minor": 0
      },
      "text/plain": [
       "  0%|          | 0/2 [00:00<?, ?it/s]"
      ]
     },
     "metadata": {},
     "output_type": "display_data"
    },
    {
     "name": "stdout",
     "output_type": "stream",
     "text": [
      "129\n"
     ]
    },
    {
     "data": {
      "application/vnd.jupyter.widget-view+json": {
       "model_id": "235670692d9d46179514dba42297e3ec",
       "version_major": 2,
       "version_minor": 0
      },
      "text/plain": [
       "  0%|          | 0/2 [00:00<?, ?it/s]"
      ]
     },
     "metadata": {},
     "output_type": "display_data"
    },
    {
     "name": "stdout",
     "output_type": "stream",
     "text": [
      "1844\n"
     ]
    },
    {
     "data": {
      "application/vnd.jupyter.widget-view+json": {
       "model_id": "aebe182a6ac94ea39686514c6075d92d",
       "version_major": 2,
       "version_minor": 0
      },
      "text/plain": [
       "  0%|          | 0/3 [00:00<?, ?it/s]"
      ]
     },
     "metadata": {},
     "output_type": "display_data"
    },
    {
     "name": "stdout",
     "output_type": "stream",
     "text": [
      "170\n"
     ]
    },
    {
     "data": {
      "application/vnd.jupyter.widget-view+json": {
       "model_id": "1e5c56d6ff6b446888b43fba4d52619e",
       "version_major": 2,
       "version_minor": 0
      },
      "text/plain": [
       "  0%|          | 0/2 [00:00<?, ?it/s]"
      ]
     },
     "metadata": {},
     "output_type": "display_data"
    },
    {
     "name": "stdout",
     "output_type": "stream",
     "text": [
      "106\n"
     ]
    },
    {
     "data": {
      "application/vnd.jupyter.widget-view+json": {
       "model_id": "e845518aa33c4fb8bc01810645e38e7c",
       "version_major": 2,
       "version_minor": 0
      },
      "text/plain": [
       "  0%|          | 0/2 [00:00<?, ?it/s]"
      ]
     },
     "metadata": {},
     "output_type": "display_data"
    },
    {
     "name": "stdout",
     "output_type": "stream",
     "text": [
      "103\n"
     ]
    },
    {
     "data": {
      "application/vnd.jupyter.widget-view+json": {
       "model_id": "83f7579fcbef490a8a1960ba72b2753e",
       "version_major": 2,
       "version_minor": 0
      },
      "text/plain": [
       "  0%|          | 0/2 [00:00<?, ?it/s]"
      ]
     },
     "metadata": {},
     "output_type": "display_data"
    },
    {
     "name": "stdout",
     "output_type": "stream",
     "text": [
      "38\n"
     ]
    },
    {
     "data": {
      "application/vnd.jupyter.widget-view+json": {
       "model_id": "58d958e07bf049e7a4f299b4ed3463e0",
       "version_major": 2,
       "version_minor": 0
      },
      "text/plain": [
       "  0%|          | 0/2 [00:00<?, ?it/s]"
      ]
     },
     "metadata": {},
     "output_type": "display_data"
    },
    {
     "name": "stdout",
     "output_type": "stream",
     "text": [
      "225\n"
     ]
    },
    {
     "data": {
      "application/vnd.jupyter.widget-view+json": {
       "model_id": "0fc6114c3aea413c89032c9fcf068068",
       "version_major": 2,
       "version_minor": 0
      },
      "text/plain": [
       "  0%|          | 0/2 [00:00<?, ?it/s]"
      ]
     },
     "metadata": {},
     "output_type": "display_data"
    },
    {
     "name": "stdout",
     "output_type": "stream",
     "text": [
      "504\n"
     ]
    },
    {
     "data": {
      "application/vnd.jupyter.widget-view+json": {
       "model_id": "81a9fc8fd5e24dd2b86a868a12e72ef2",
       "version_major": 2,
       "version_minor": 0
      },
      "text/plain": [
       "  0%|          | 0/2 [00:00<?, ?it/s]"
      ]
     },
     "metadata": {},
     "output_type": "display_data"
    },
    {
     "name": "stdout",
     "output_type": "stream",
     "text": [
      "231\n"
     ]
    },
    {
     "data": {
      "application/vnd.jupyter.widget-view+json": {
       "model_id": "1c963031c13d4fe684f2c1474894ac0c",
       "version_major": 2,
       "version_minor": 0
      },
      "text/plain": [
       "  0%|          | 0/2 [00:00<?, ?it/s]"
      ]
     },
     "metadata": {},
     "output_type": "display_data"
    },
    {
     "name": "stdout",
     "output_type": "stream",
     "text": [
      "239\n"
     ]
    },
    {
     "data": {
      "application/vnd.jupyter.widget-view+json": {
       "model_id": "adb6f3c864f1406585f38d16eab43b07",
       "version_major": 2,
       "version_minor": 0
      },
      "text/plain": [
       "  0%|          | 0/2 [00:00<?, ?it/s]"
      ]
     },
     "metadata": {},
     "output_type": "display_data"
    },
    {
     "name": "stdout",
     "output_type": "stream",
     "text": [
      "303\n"
     ]
    },
    {
     "data": {
      "application/vnd.jupyter.widget-view+json": {
       "model_id": "193fe121421644069b88a273aa2e6331",
       "version_major": 2,
       "version_minor": 0
      },
      "text/plain": [
       "  0%|          | 0/2 [00:00<?, ?it/s]"
      ]
     },
     "metadata": {},
     "output_type": "display_data"
    },
    {
     "name": "stdout",
     "output_type": "stream",
     "text": [
      "100\n"
     ]
    },
    {
     "data": {
      "application/vnd.jupyter.widget-view+json": {
       "model_id": "5b0c0625052e4f48a848a4bb69677073",
       "version_major": 2,
       "version_minor": 0
      },
      "text/plain": [
       "  0%|          | 0/2 [00:00<?, ?it/s]"
      ]
     },
     "metadata": {},
     "output_type": "display_data"
    },
    {
     "name": "stdout",
     "output_type": "stream",
     "text": [
      "275\n"
     ]
    },
    {
     "data": {
      "application/vnd.jupyter.widget-view+json": {
       "model_id": "6f79072fcbb14a5f9d9f600e843daab6",
       "version_major": 2,
       "version_minor": 0
      },
      "text/plain": [
       "  0%|          | 0/2 [00:00<?, ?it/s]"
      ]
     },
     "metadata": {},
     "output_type": "display_data"
    },
    {
     "name": "stdout",
     "output_type": "stream",
     "text": [
      "465\n"
     ]
    },
    {
     "data": {
      "application/vnd.jupyter.widget-view+json": {
       "model_id": "4a4f2c7cdd544e7ab80ca9fa0814dab3",
       "version_major": 2,
       "version_minor": 0
      },
      "text/plain": [
       "  0%|          | 0/2 [00:00<?, ?it/s]"
      ]
     },
     "metadata": {},
     "output_type": "display_data"
    },
    {
     "name": "stdout",
     "output_type": "stream",
     "text": [
      "265\n"
     ]
    },
    {
     "data": {
      "application/vnd.jupyter.widget-view+json": {
       "model_id": "817b5e6b489949569243f6edfaa0e488",
       "version_major": 2,
       "version_minor": 0
      },
      "text/plain": [
       "  0%|          | 0/2 [00:00<?, ?it/s]"
      ]
     },
     "metadata": {},
     "output_type": "display_data"
    },
    {
     "name": "stdout",
     "output_type": "stream",
     "text": [
      "1830\n"
     ]
    },
    {
     "data": {
      "application/vnd.jupyter.widget-view+json": {
       "model_id": "bf4a84a724e049038191de8a59c4012f",
       "version_major": 2,
       "version_minor": 0
      },
      "text/plain": [
       "  0%|          | 0/3 [00:00<?, ?it/s]"
      ]
     },
     "metadata": {},
     "output_type": "display_data"
    },
    {
     "name": "stdout",
     "output_type": "stream",
     "text": [
      "201\n"
     ]
    },
    {
     "data": {
      "application/vnd.jupyter.widget-view+json": {
       "model_id": "56d072d82b4a405b9b52c08fa9357e9b",
       "version_major": 2,
       "version_minor": 0
      },
      "text/plain": [
       "  0%|          | 0/2 [00:00<?, ?it/s]"
      ]
     },
     "metadata": {},
     "output_type": "display_data"
    },
    {
     "name": "stdout",
     "output_type": "stream",
     "text": [
      "466\n"
     ]
    },
    {
     "data": {
      "application/vnd.jupyter.widget-view+json": {
       "model_id": "f9f0ce233f3a4da7a573449635a9fad2",
       "version_major": 2,
       "version_minor": 0
      },
      "text/plain": [
       "  0%|          | 0/2 [00:00<?, ?it/s]"
      ]
     },
     "metadata": {},
     "output_type": "display_data"
    },
    {
     "name": "stdout",
     "output_type": "stream",
     "text": [
      "986\n"
     ]
    },
    {
     "data": {
      "application/vnd.jupyter.widget-view+json": {
       "model_id": "fa382ef24c894062a259a46499844c99",
       "version_major": 2,
       "version_minor": 0
      },
      "text/plain": [
       "  0%|          | 0/2 [00:00<?, ?it/s]"
      ]
     },
     "metadata": {},
     "output_type": "display_data"
    },
    {
     "name": "stdout",
     "output_type": "stream",
     "text": [
      "358\n"
     ]
    },
    {
     "data": {
      "application/vnd.jupyter.widget-view+json": {
       "model_id": "b5b076112c8240aea585d6ef07ea0c46",
       "version_major": 2,
       "version_minor": 0
      },
      "text/plain": [
       "  0%|          | 0/2 [00:00<?, ?it/s]"
      ]
     },
     "metadata": {},
     "output_type": "display_data"
    },
    {
     "name": "stdout",
     "output_type": "stream",
     "text": [
      "1718\n"
     ]
    },
    {
     "data": {
      "application/vnd.jupyter.widget-view+json": {
       "model_id": "e57e5cafaf67482386f8a1e66800d516",
       "version_major": 2,
       "version_minor": 0
      },
      "text/plain": [
       "  0%|          | 0/3 [00:00<?, ?it/s]"
      ]
     },
     "metadata": {},
     "output_type": "display_data"
    },
    {
     "name": "stdout",
     "output_type": "stream",
     "text": [
      "130\n"
     ]
    },
    {
     "data": {
      "application/vnd.jupyter.widget-view+json": {
       "model_id": "b4f0f0bbda604796ac540b65d92e2c52",
       "version_major": 2,
       "version_minor": 0
      },
      "text/plain": [
       "  0%|          | 0/2 [00:00<?, ?it/s]"
      ]
     },
     "metadata": {},
     "output_type": "display_data"
    },
    {
     "name": "stdout",
     "output_type": "stream",
     "text": [
      "203\n"
     ]
    },
    {
     "data": {
      "application/vnd.jupyter.widget-view+json": {
       "model_id": "47601f9f9b6e439b844315936904f00d",
       "version_major": 2,
       "version_minor": 0
      },
      "text/plain": [
       "  0%|          | 0/2 [00:00<?, ?it/s]"
      ]
     },
     "metadata": {},
     "output_type": "display_data"
    },
    {
     "name": "stdout",
     "output_type": "stream",
     "text": [
      "769\n"
     ]
    },
    {
     "data": {
      "application/vnd.jupyter.widget-view+json": {
       "model_id": "b9384435b7a140b7be3bb79e33a08012",
       "version_major": 2,
       "version_minor": 0
      },
      "text/plain": [
       "  0%|          | 0/2 [00:00<?, ?it/s]"
      ]
     },
     "metadata": {},
     "output_type": "display_data"
    },
    {
     "name": "stdout",
     "output_type": "stream",
     "text": [
      "320\n"
     ]
    },
    {
     "data": {
      "application/vnd.jupyter.widget-view+json": {
       "model_id": "79d880d189d84f02bb77c8646bc86403",
       "version_major": 2,
       "version_minor": 0
      },
      "text/plain": [
       "  0%|          | 0/2 [00:00<?, ?it/s]"
      ]
     },
     "metadata": {},
     "output_type": "display_data"
    },
    {
     "name": "stdout",
     "output_type": "stream",
     "text": [
      "121\n"
     ]
    },
    {
     "data": {
      "application/vnd.jupyter.widget-view+json": {
       "model_id": "075e7f69b0fe49d68d0901c3f9f246ec",
       "version_major": 2,
       "version_minor": 0
      },
      "text/plain": [
       "  0%|          | 0/2 [00:00<?, ?it/s]"
      ]
     },
     "metadata": {},
     "output_type": "display_data"
    },
    {
     "name": "stdout",
     "output_type": "stream",
     "text": [
      "171\n"
     ]
    },
    {
     "data": {
      "application/vnd.jupyter.widget-view+json": {
       "model_id": "5eb63aec2fd34a4c8963808d2e68016d",
       "version_major": 2,
       "version_minor": 0
      },
      "text/plain": [
       "  0%|          | 0/2 [00:00<?, ?it/s]"
      ]
     },
     "metadata": {},
     "output_type": "display_data"
    },
    {
     "name": "stdout",
     "output_type": "stream",
     "text": [
      "150\n"
     ]
    },
    {
     "data": {
      "application/vnd.jupyter.widget-view+json": {
       "model_id": "f5a17308ebeb43659475dff76b40ac6c",
       "version_major": 2,
       "version_minor": 0
      },
      "text/plain": [
       "  0%|          | 0/2 [00:00<?, ?it/s]"
      ]
     },
     "metadata": {},
     "output_type": "display_data"
    },
    {
     "name": "stdout",
     "output_type": "stream",
     "text": [
      "68\n"
     ]
    },
    {
     "data": {
      "application/vnd.jupyter.widget-view+json": {
       "model_id": "3e0ee99c65e54e3baa0ff8084748ce22",
       "version_major": 2,
       "version_minor": 0
      },
      "text/plain": [
       "  0%|          | 0/2 [00:00<?, ?it/s]"
      ]
     },
     "metadata": {},
     "output_type": "display_data"
    },
    {
     "name": "stdout",
     "output_type": "stream",
     "text": [
      "55\n"
     ]
    },
    {
     "data": {
      "application/vnd.jupyter.widget-view+json": {
       "model_id": "6b1848fd37594746b57773ea06a73947",
       "version_major": 2,
       "version_minor": 0
      },
      "text/plain": [
       "  0%|          | 0/2 [00:00<?, ?it/s]"
      ]
     },
     "metadata": {},
     "output_type": "display_data"
    },
    {
     "name": "stdout",
     "output_type": "stream",
     "text": [
      "89\n"
     ]
    },
    {
     "data": {
      "application/vnd.jupyter.widget-view+json": {
       "model_id": "5695a02935314b3d9a2dc755d11e3f3a",
       "version_major": 2,
       "version_minor": 0
      },
      "text/plain": [
       "  0%|          | 0/2 [00:00<?, ?it/s]"
      ]
     },
     "metadata": {},
     "output_type": "display_data"
    },
    {
     "name": "stdout",
     "output_type": "stream",
     "text": [
      "38\n"
     ]
    },
    {
     "data": {
      "application/vnd.jupyter.widget-view+json": {
       "model_id": "8210285e27fb437d8183af657788a674",
       "version_major": 2,
       "version_minor": 0
      },
      "text/plain": [
       "  0%|          | 0/2 [00:00<?, ?it/s]"
      ]
     },
     "metadata": {},
     "output_type": "display_data"
    },
    {
     "name": "stdout",
     "output_type": "stream",
     "text": [
      "73\n"
     ]
    },
    {
     "data": {
      "application/vnd.jupyter.widget-view+json": {
       "model_id": "d97edb2a20954d5db4f8eaeb0b7bf9c7",
       "version_major": 2,
       "version_minor": 0
      },
      "text/plain": [
       "  0%|          | 0/2 [00:00<?, ?it/s]"
      ]
     },
     "metadata": {},
     "output_type": "display_data"
    },
    {
     "name": "stdout",
     "output_type": "stream",
     "text": [
      "101\n"
     ]
    },
    {
     "data": {
      "application/vnd.jupyter.widget-view+json": {
       "model_id": "6470adc376a24f7f98ed7281b46f86f2",
       "version_major": 2,
       "version_minor": 0
      },
      "text/plain": [
       "  0%|          | 0/2 [00:00<?, ?it/s]"
      ]
     },
     "metadata": {},
     "output_type": "display_data"
    },
    {
     "name": "stdout",
     "output_type": "stream",
     "text": [
      "58\n"
     ]
    },
    {
     "data": {
      "application/vnd.jupyter.widget-view+json": {
       "model_id": "8080917e483142f28766799ca56f5ab9",
       "version_major": 2,
       "version_minor": 0
      },
      "text/plain": [
       "  0%|          | 0/2 [00:00<?, ?it/s]"
      ]
     },
     "metadata": {},
     "output_type": "display_data"
    },
    {
     "name": "stdout",
     "output_type": "stream",
     "text": [
      "631\n"
     ]
    },
    {
     "data": {
      "application/vnd.jupyter.widget-view+json": {
       "model_id": "4fd07aeba7c84348b509ed2b134bb679",
       "version_major": 2,
       "version_minor": 0
      },
      "text/plain": [
       "  0%|          | 0/2 [00:00<?, ?it/s]"
      ]
     },
     "metadata": {},
     "output_type": "display_data"
    },
    {
     "name": "stdout",
     "output_type": "stream",
     "text": [
      "125\n"
     ]
    },
    {
     "data": {
      "application/vnd.jupyter.widget-view+json": {
       "model_id": "6e456afef9614ab9bcdff192a6760ab0",
       "version_major": 2,
       "version_minor": 0
      },
      "text/plain": [
       "  0%|          | 0/2 [00:00<?, ?it/s]"
      ]
     },
     "metadata": {},
     "output_type": "display_data"
    },
    {
     "name": "stdout",
     "output_type": "stream",
     "text": [
      "4466\n"
     ]
    },
    {
     "data": {
      "application/vnd.jupyter.widget-view+json": {
       "model_id": "b0c2862007224bdfb5600d3ad871c9bf",
       "version_major": 2,
       "version_minor": 0
      },
      "text/plain": [
       "  0%|          | 0/6 [00:00<?, ?it/s]"
      ]
     },
     "metadata": {},
     "output_type": "display_data"
    },
    {
     "name": "stdout",
     "output_type": "stream",
     "text": [
      "1129\n"
     ]
    },
    {
     "data": {
      "application/vnd.jupyter.widget-view+json": {
       "model_id": "97485fc7676349f7b3fe418f977ae7f8",
       "version_major": 2,
       "version_minor": 0
      },
      "text/plain": [
       "  0%|          | 0/3 [00:00<?, ?it/s]"
      ]
     },
     "metadata": {},
     "output_type": "display_data"
    },
    {
     "name": "stdout",
     "output_type": "stream",
     "text": [
      "1504\n"
     ]
    },
    {
     "data": {
      "application/vnd.jupyter.widget-view+json": {
       "model_id": "a1ace981f400412687f21183fb075454",
       "version_major": 2,
       "version_minor": 0
      },
      "text/plain": [
       "  0%|          | 0/3 [00:00<?, ?it/s]"
      ]
     },
     "metadata": {},
     "output_type": "display_data"
    },
    {
     "name": "stdout",
     "output_type": "stream",
     "text": [
      "1618\n"
     ]
    },
    {
     "data": {
      "application/vnd.jupyter.widget-view+json": {
       "model_id": "73540a48f3764ec981a9bdb1a532dba4",
       "version_major": 2,
       "version_minor": 0
      },
      "text/plain": [
       "  0%|          | 0/3 [00:00<?, ?it/s]"
      ]
     },
     "metadata": {},
     "output_type": "display_data"
    },
    {
     "name": "stdout",
     "output_type": "stream",
     "text": [
      "682\n"
     ]
    },
    {
     "data": {
      "application/vnd.jupyter.widget-view+json": {
       "model_id": "85879da184eb4f2b94f3bd2fb107a7f9",
       "version_major": 2,
       "version_minor": 0
      },
      "text/plain": [
       "  0%|          | 0/2 [00:00<?, ?it/s]"
      ]
     },
     "metadata": {},
     "output_type": "display_data"
    },
    {
     "name": "stdout",
     "output_type": "stream",
     "text": [
      "3609\n"
     ]
    },
    {
     "data": {
      "application/vnd.jupyter.widget-view+json": {
       "model_id": "3309549f1a934b13b476ce43016b5365",
       "version_major": 2,
       "version_minor": 0
      },
      "text/plain": [
       "  0%|          | 0/5 [00:00<?, ?it/s]"
      ]
     },
     "metadata": {},
     "output_type": "display_data"
    },
    {
     "name": "stdout",
     "output_type": "stream",
     "text": [
      "1649\n"
     ]
    },
    {
     "data": {
      "application/vnd.jupyter.widget-view+json": {
       "model_id": "7aeca9a393514e958f0caf0349782877",
       "version_major": 2,
       "version_minor": 0
      },
      "text/plain": [
       "  0%|          | 0/3 [00:00<?, ?it/s]"
      ]
     },
     "metadata": {},
     "output_type": "display_data"
    },
    {
     "name": "stdout",
     "output_type": "stream",
     "text": [
      "1581\n"
     ]
    },
    {
     "data": {
      "application/vnd.jupyter.widget-view+json": {
       "model_id": "e7a469b877ef4ec9ae959495107d2b07",
       "version_major": 2,
       "version_minor": 0
      },
      "text/plain": [
       "  0%|          | 0/3 [00:00<?, ?it/s]"
      ]
     },
     "metadata": {},
     "output_type": "display_data"
    },
    {
     "name": "stdout",
     "output_type": "stream",
     "text": [
      "923\n"
     ]
    },
    {
     "data": {
      "application/vnd.jupyter.widget-view+json": {
       "model_id": "b4acab3374ea4565a27f25300dfe79ae",
       "version_major": 2,
       "version_minor": 0
      },
      "text/plain": [
       "  0%|          | 0/2 [00:00<?, ?it/s]"
      ]
     },
     "metadata": {},
     "output_type": "display_data"
    },
    {
     "name": "stdout",
     "output_type": "stream",
     "text": [
      "347\n"
     ]
    },
    {
     "data": {
      "application/vnd.jupyter.widget-view+json": {
       "model_id": "e39e8205a8e14232b3cc3f54e58c9bb5",
       "version_major": 2,
       "version_minor": 0
      },
      "text/plain": [
       "  0%|          | 0/2 [00:00<?, ?it/s]"
      ]
     },
     "metadata": {},
     "output_type": "display_data"
    },
    {
     "name": "stdout",
     "output_type": "stream",
     "text": [
      "82\n"
     ]
    },
    {
     "data": {
      "application/vnd.jupyter.widget-view+json": {
       "model_id": "6fc03bb88efd4438952aae23427eb3bd",
       "version_major": 2,
       "version_minor": 0
      },
      "text/plain": [
       "  0%|          | 0/2 [00:00<?, ?it/s]"
      ]
     },
     "metadata": {},
     "output_type": "display_data"
    },
    {
     "name": "stdout",
     "output_type": "stream",
     "text": [
      "854\n"
     ]
    },
    {
     "data": {
      "application/vnd.jupyter.widget-view+json": {
       "model_id": "5617204932be435d98d875cf69360085",
       "version_major": 2,
       "version_minor": 0
      },
      "text/plain": [
       "  0%|          | 0/2 [00:00<?, ?it/s]"
      ]
     },
     "metadata": {},
     "output_type": "display_data"
    },
    {
     "name": "stdout",
     "output_type": "stream",
     "text": [
      "470\n"
     ]
    },
    {
     "data": {
      "application/vnd.jupyter.widget-view+json": {
       "model_id": "56c7c94e93044778b246e7ea233b21fb",
       "version_major": 2,
       "version_minor": 0
      },
      "text/plain": [
       "  0%|          | 0/2 [00:00<?, ?it/s]"
      ]
     },
     "metadata": {},
     "output_type": "display_data"
    },
    {
     "name": "stdout",
     "output_type": "stream",
     "text": [
      "401\n"
     ]
    },
    {
     "data": {
      "application/vnd.jupyter.widget-view+json": {
       "model_id": "050da9eaed7b442ebd77205b28eb8664",
       "version_major": 2,
       "version_minor": 0
      },
      "text/plain": [
       "  0%|          | 0/2 [00:00<?, ?it/s]"
      ]
     },
     "metadata": {},
     "output_type": "display_data"
    },
    {
     "name": "stdout",
     "output_type": "stream",
     "text": [
      "404\n"
     ]
    },
    {
     "data": {
      "application/vnd.jupyter.widget-view+json": {
       "model_id": "9affb129090c44b5a915bfdb5bb640c9",
       "version_major": 2,
       "version_minor": 0
      },
      "text/plain": [
       "  0%|          | 0/2 [00:00<?, ?it/s]"
      ]
     },
     "metadata": {},
     "output_type": "display_data"
    },
    {
     "name": "stdout",
     "output_type": "stream",
     "text": [
      "175\n"
     ]
    },
    {
     "data": {
      "application/vnd.jupyter.widget-view+json": {
       "model_id": "68b4cad10546408192dcfa5e71cfe342",
       "version_major": 2,
       "version_minor": 0
      },
      "text/plain": [
       "  0%|          | 0/2 [00:00<?, ?it/s]"
      ]
     },
     "metadata": {},
     "output_type": "display_data"
    },
    {
     "name": "stdout",
     "output_type": "stream",
     "text": [
      "457\n"
     ]
    },
    {
     "data": {
      "application/vnd.jupyter.widget-view+json": {
       "model_id": "4c6ea1a8baad4c388d148387c98d890d",
       "version_major": 2,
       "version_minor": 0
      },
      "text/plain": [
       "  0%|          | 0/2 [00:00<?, ?it/s]"
      ]
     },
     "metadata": {},
     "output_type": "display_data"
    },
    {
     "name": "stdout",
     "output_type": "stream",
     "text": [
      "614\n"
     ]
    },
    {
     "data": {
      "application/vnd.jupyter.widget-view+json": {
       "model_id": "40ba580e35d1441b848d58ab1cc905eb",
       "version_major": 2,
       "version_minor": 0
      },
      "text/plain": [
       "  0%|          | 0/2 [00:00<?, ?it/s]"
      ]
     },
     "metadata": {},
     "output_type": "display_data"
    },
    {
     "name": "stdout",
     "output_type": "stream",
     "text": [
      "480\n"
     ]
    },
    {
     "data": {
      "application/vnd.jupyter.widget-view+json": {
       "model_id": "37ccccb0e52b45a19f4137236a846b52",
       "version_major": 2,
       "version_minor": 0
      },
      "text/plain": [
       "  0%|          | 0/2 [00:00<?, ?it/s]"
      ]
     },
     "metadata": {},
     "output_type": "display_data"
    },
    {
     "name": "stdout",
     "output_type": "stream",
     "text": [
      "1526\n"
     ]
    },
    {
     "data": {
      "application/vnd.jupyter.widget-view+json": {
       "model_id": "e8df1729bbc546eaa33db8bbb839289d",
       "version_major": 2,
       "version_minor": 0
      },
      "text/plain": [
       "  0%|          | 0/3 [00:00<?, ?it/s]"
      ]
     },
     "metadata": {},
     "output_type": "display_data"
    },
    {
     "name": "stdout",
     "output_type": "stream",
     "text": [
      "175\n"
     ]
    },
    {
     "data": {
      "application/vnd.jupyter.widget-view+json": {
       "model_id": "dc244dbde3c14b52834db54b99ed4582",
       "version_major": 2,
       "version_minor": 0
      },
      "text/plain": [
       "  0%|          | 0/2 [00:00<?, ?it/s]"
      ]
     },
     "metadata": {},
     "output_type": "display_data"
    },
    {
     "name": "stdout",
     "output_type": "stream",
     "text": [
      "152\n"
     ]
    },
    {
     "data": {
      "application/vnd.jupyter.widget-view+json": {
       "model_id": "5d9385dc915e4afdaaffb5e348ea0e06",
       "version_major": 2,
       "version_minor": 0
      },
      "text/plain": [
       "  0%|          | 0/2 [00:00<?, ?it/s]"
      ]
     },
     "metadata": {},
     "output_type": "display_data"
    },
    {
     "name": "stdout",
     "output_type": "stream",
     "text": [
      "1157\n"
     ]
    },
    {
     "data": {
      "application/vnd.jupyter.widget-view+json": {
       "model_id": "adcbe38a3f8a436792b7f772ff62b2bc",
       "version_major": 2,
       "version_minor": 0
      },
      "text/plain": [
       "  0%|          | 0/3 [00:00<?, ?it/s]"
      ]
     },
     "metadata": {},
     "output_type": "display_data"
    },
    {
     "name": "stdout",
     "output_type": "stream",
     "text": [
      "195\n"
     ]
    },
    {
     "data": {
      "application/vnd.jupyter.widget-view+json": {
       "model_id": "90d1c905746d4de6baef4a9397372a78",
       "version_major": 2,
       "version_minor": 0
      },
      "text/plain": [
       "  0%|          | 0/2 [00:00<?, ?it/s]"
      ]
     },
     "metadata": {},
     "output_type": "display_data"
    },
    {
     "name": "stdout",
     "output_type": "stream",
     "text": [
      "86\n"
     ]
    },
    {
     "data": {
      "application/vnd.jupyter.widget-view+json": {
       "model_id": "86681c38a3a540f895bc870797e9b104",
       "version_major": 2,
       "version_minor": 0
      },
      "text/plain": [
       "  0%|          | 0/2 [00:00<?, ?it/s]"
      ]
     },
     "metadata": {},
     "output_type": "display_data"
    },
    {
     "name": "stdout",
     "output_type": "stream",
     "text": [
      "63\n"
     ]
    },
    {
     "data": {
      "application/vnd.jupyter.widget-view+json": {
       "model_id": "6d8b05cecc6c4600aaaf8bfe21ed6726",
       "version_major": 2,
       "version_minor": 0
      },
      "text/plain": [
       "  0%|          | 0/2 [00:00<?, ?it/s]"
      ]
     },
     "metadata": {},
     "output_type": "display_data"
    },
    {
     "name": "stdout",
     "output_type": "stream",
     "text": [
      "260\n"
     ]
    },
    {
     "data": {
      "application/vnd.jupyter.widget-view+json": {
       "model_id": "4f1085e59030432cb1f7f9af583261d6",
       "version_major": 2,
       "version_minor": 0
      },
      "text/plain": [
       "  0%|          | 0/2 [00:00<?, ?it/s]"
      ]
     },
     "metadata": {},
     "output_type": "display_data"
    },
    {
     "name": "stdout",
     "output_type": "stream",
     "text": [
      "61\n"
     ]
    },
    {
     "data": {
      "application/vnd.jupyter.widget-view+json": {
       "model_id": "db664fd9a59d45f48d102eeb4de6c135",
       "version_major": 2,
       "version_minor": 0
      },
      "text/plain": [
       "  0%|          | 0/2 [00:00<?, ?it/s]"
      ]
     },
     "metadata": {},
     "output_type": "display_data"
    },
    {
     "name": "stdout",
     "output_type": "stream",
     "text": [
      "42\n"
     ]
    },
    {
     "data": {
      "application/vnd.jupyter.widget-view+json": {
       "model_id": "26b747d755554f259377d92e86689e56",
       "version_major": 2,
       "version_minor": 0
      },
      "text/plain": [
       "  0%|          | 0/2 [00:00<?, ?it/s]"
      ]
     },
     "metadata": {},
     "output_type": "display_data"
    },
    {
     "name": "stdout",
     "output_type": "stream",
     "text": [
      "158\n"
     ]
    },
    {
     "data": {
      "application/vnd.jupyter.widget-view+json": {
       "model_id": "f21b3b7a63c7439895a95ca0ed7bc6e7",
       "version_major": 2,
       "version_minor": 0
      },
      "text/plain": [
       "  0%|          | 0/2 [00:00<?, ?it/s]"
      ]
     },
     "metadata": {},
     "output_type": "display_data"
    },
    {
     "name": "stdout",
     "output_type": "stream",
     "text": [
      "417\n"
     ]
    },
    {
     "data": {
      "application/vnd.jupyter.widget-view+json": {
       "model_id": "4915b6ad697e49d6b06fd4c765f944b9",
       "version_major": 2,
       "version_minor": 0
      },
      "text/plain": [
       "  0%|          | 0/2 [00:00<?, ?it/s]"
      ]
     },
     "metadata": {},
     "output_type": "display_data"
    },
    {
     "name": "stdout",
     "output_type": "stream",
     "text": [
      "113\n"
     ]
    },
    {
     "data": {
      "application/vnd.jupyter.widget-view+json": {
       "model_id": "b64c88893759458fbe23f31dea952514",
       "version_major": 2,
       "version_minor": 0
      },
      "text/plain": [
       "  0%|          | 0/2 [00:00<?, ?it/s]"
      ]
     },
     "metadata": {},
     "output_type": "display_data"
    },
    {
     "name": "stdout",
     "output_type": "stream",
     "text": [
      "873\n"
     ]
    },
    {
     "data": {
      "application/vnd.jupyter.widget-view+json": {
       "model_id": "a6fc634793b341b5ac22caf5740de5a3",
       "version_major": 2,
       "version_minor": 0
      },
      "text/plain": [
       "  0%|          | 0/2 [00:00<?, ?it/s]"
      ]
     },
     "metadata": {},
     "output_type": "display_data"
    },
    {
     "name": "stdout",
     "output_type": "stream",
     "text": [
      "50\n"
     ]
    },
    {
     "data": {
      "application/vnd.jupyter.widget-view+json": {
       "model_id": "974ccb660c2c449d8b7945073f94d0ad",
       "version_major": 2,
       "version_minor": 0
      },
      "text/plain": [
       "  0%|          | 0/2 [00:00<?, ?it/s]"
      ]
     },
     "metadata": {},
     "output_type": "display_data"
    },
    {
     "name": "stdout",
     "output_type": "stream",
     "text": [
      "70\n"
     ]
    },
    {
     "data": {
      "application/vnd.jupyter.widget-view+json": {
       "model_id": "6241abbae5724c859fc3a8389eaba48c",
       "version_major": 2,
       "version_minor": 0
      },
      "text/plain": [
       "  0%|          | 0/2 [00:00<?, ?it/s]"
      ]
     },
     "metadata": {},
     "output_type": "display_data"
    },
    {
     "name": "stdout",
     "output_type": "stream",
     "text": [
      "169\n"
     ]
    },
    {
     "data": {
      "application/vnd.jupyter.widget-view+json": {
       "model_id": "ca09d4a2da49468b9e95040af7ba4833",
       "version_major": 2,
       "version_minor": 0
      },
      "text/plain": [
       "  0%|          | 0/2 [00:00<?, ?it/s]"
      ]
     },
     "metadata": {},
     "output_type": "display_data"
    },
    {
     "name": "stdout",
     "output_type": "stream",
     "text": [
      "108\n"
     ]
    },
    {
     "data": {
      "application/vnd.jupyter.widget-view+json": {
       "model_id": "51492d8e85834b18a1c1ffbc75116e3a",
       "version_major": 2,
       "version_minor": 0
      },
      "text/plain": [
       "  0%|          | 0/2 [00:00<?, ?it/s]"
      ]
     },
     "metadata": {},
     "output_type": "display_data"
    },
    {
     "name": "stdout",
     "output_type": "stream",
     "text": [
      "45\n"
     ]
    },
    {
     "data": {
      "application/vnd.jupyter.widget-view+json": {
       "model_id": "ff4be2363b2443f6a52a16891d2e6fa3",
       "version_major": 2,
       "version_minor": 0
      },
      "text/plain": [
       "  0%|          | 0/2 [00:00<?, ?it/s]"
      ]
     },
     "metadata": {},
     "output_type": "display_data"
    },
    {
     "name": "stdout",
     "output_type": "stream",
     "text": [
      "37\n"
     ]
    },
    {
     "data": {
      "application/vnd.jupyter.widget-view+json": {
       "model_id": "b1a77165a99b4d648d6f2efe7d089baa",
       "version_major": 2,
       "version_minor": 0
      },
      "text/plain": [
       "  0%|          | 0/2 [00:00<?, ?it/s]"
      ]
     },
     "metadata": {},
     "output_type": "display_data"
    },
    {
     "name": "stdout",
     "output_type": "stream",
     "text": [
      "31\n"
     ]
    },
    {
     "data": {
      "application/vnd.jupyter.widget-view+json": {
       "model_id": "91ddc191aaf44298a4bee8567b8c2f57",
       "version_major": 2,
       "version_minor": 0
      },
      "text/plain": [
       "  0%|          | 0/2 [00:00<?, ?it/s]"
      ]
     },
     "metadata": {},
     "output_type": "display_data"
    },
    {
     "name": "stdout",
     "output_type": "stream",
     "text": [
      "181\n"
     ]
    },
    {
     "data": {
      "application/vnd.jupyter.widget-view+json": {
       "model_id": "3873f4dbedc7445296e18fc0d822fc37",
       "version_major": 2,
       "version_minor": 0
      },
      "text/plain": [
       "  0%|          | 0/2 [00:00<?, ?it/s]"
      ]
     },
     "metadata": {},
     "output_type": "display_data"
    },
    {
     "name": "stdout",
     "output_type": "stream",
     "text": [
      "73\n"
     ]
    },
    {
     "data": {
      "application/vnd.jupyter.widget-view+json": {
       "model_id": "ba1468f006d94eaf918c4e2b020c4cc6",
       "version_major": 2,
       "version_minor": 0
      },
      "text/plain": [
       "  0%|          | 0/2 [00:00<?, ?it/s]"
      ]
     },
     "metadata": {},
     "output_type": "display_data"
    },
    {
     "name": "stdout",
     "output_type": "stream",
     "text": [
      "32\n"
     ]
    },
    {
     "data": {
      "application/vnd.jupyter.widget-view+json": {
       "model_id": "620689260f2b4b4d9c694f612038eeb3",
       "version_major": 2,
       "version_minor": 0
      },
      "text/plain": [
       "  0%|          | 0/2 [00:00<?, ?it/s]"
      ]
     },
     "metadata": {},
     "output_type": "display_data"
    },
    {
     "name": "stdout",
     "output_type": "stream",
     "text": [
      "67\n"
     ]
    },
    {
     "data": {
      "application/vnd.jupyter.widget-view+json": {
       "model_id": "43b80af09cde4c268e6d9102901000d6",
       "version_major": 2,
       "version_minor": 0
      },
      "text/plain": [
       "  0%|          | 0/2 [00:00<?, ?it/s]"
      ]
     },
     "metadata": {},
     "output_type": "display_data"
    },
    {
     "name": "stdout",
     "output_type": "stream",
     "text": [
      "54\n"
     ]
    },
    {
     "data": {
      "application/vnd.jupyter.widget-view+json": {
       "model_id": "33c7eae1e689430ea8a55cd8ea6ebf8b",
       "version_major": 2,
       "version_minor": 0
      },
      "text/plain": [
       "  0%|          | 0/2 [00:00<?, ?it/s]"
      ]
     },
     "metadata": {},
     "output_type": "display_data"
    },
    {
     "name": "stdout",
     "output_type": "stream",
     "text": [
      "23\n"
     ]
    },
    {
     "data": {
      "application/vnd.jupyter.widget-view+json": {
       "model_id": "febff30b13504c74815d3ad8b5726b1a",
       "version_major": 2,
       "version_minor": 0
      },
      "text/plain": [
       "  0%|          | 0/2 [00:00<?, ?it/s]"
      ]
     },
     "metadata": {},
     "output_type": "display_data"
    },
    {
     "name": "stdout",
     "output_type": "stream",
     "text": [
      "975\n"
     ]
    },
    {
     "data": {
      "application/vnd.jupyter.widget-view+json": {
       "model_id": "2976dc57fea34c65bd64b92f9a2fa96d",
       "version_major": 2,
       "version_minor": 0
      },
      "text/plain": [
       "  0%|          | 0/2 [00:00<?, ?it/s]"
      ]
     },
     "metadata": {},
     "output_type": "display_data"
    },
    {
     "name": "stdout",
     "output_type": "stream",
     "text": [
      "752\n"
     ]
    },
    {
     "data": {
      "application/vnd.jupyter.widget-view+json": {
       "model_id": "8166149bede141dc982dfc01b50ab916",
       "version_major": 2,
       "version_minor": 0
      },
      "text/plain": [
       "  0%|          | 0/2 [00:00<?, ?it/s]"
      ]
     },
     "metadata": {},
     "output_type": "display_data"
    },
    {
     "name": "stdout",
     "output_type": "stream",
     "text": [
      "514\n"
     ]
    },
    {
     "data": {
      "application/vnd.jupyter.widget-view+json": {
       "model_id": "9f834d49364a4aa8b82f76f64e4adf3b",
       "version_major": 2,
       "version_minor": 0
      },
      "text/plain": [
       "  0%|          | 0/2 [00:00<?, ?it/s]"
      ]
     },
     "metadata": {},
     "output_type": "display_data"
    },
    {
     "name": "stdout",
     "output_type": "stream",
     "text": [
      "1140\n"
     ]
    },
    {
     "data": {
      "application/vnd.jupyter.widget-view+json": {
       "model_id": "053911a4fc064ed08f17e512c8fac417",
       "version_major": 2,
       "version_minor": 0
      },
      "text/plain": [
       "  0%|          | 0/3 [00:00<?, ?it/s]"
      ]
     },
     "metadata": {},
     "output_type": "display_data"
    },
    {
     "name": "stdout",
     "output_type": "stream",
     "text": [
      "147\n"
     ]
    },
    {
     "data": {
      "application/vnd.jupyter.widget-view+json": {
       "model_id": "1f7d702004d942369f0fd98cf85ae486",
       "version_major": 2,
       "version_minor": 0
      },
      "text/plain": [
       "  0%|          | 0/2 [00:00<?, ?it/s]"
      ]
     },
     "metadata": {},
     "output_type": "display_data"
    },
    {
     "name": "stdout",
     "output_type": "stream",
     "text": [
      "210\n"
     ]
    },
    {
     "data": {
      "application/vnd.jupyter.widget-view+json": {
       "model_id": "d5e28d4d8d23442f848c5fc734b31bc8",
       "version_major": 2,
       "version_minor": 0
      },
      "text/plain": [
       "  0%|          | 0/2 [00:00<?, ?it/s]"
      ]
     },
     "metadata": {},
     "output_type": "display_data"
    },
    {
     "name": "stdout",
     "output_type": "stream",
     "text": [
      "2659\n"
     ]
    },
    {
     "data": {
      "application/vnd.jupyter.widget-view+json": {
       "model_id": "08dbf688d2534f06a1adcb99736ef00e",
       "version_major": 2,
       "version_minor": 0
      },
      "text/plain": [
       "  0%|          | 0/4 [00:00<?, ?it/s]"
      ]
     },
     "metadata": {},
     "output_type": "display_data"
    },
    {
     "name": "stdout",
     "output_type": "stream",
     "text": [
      "551\n"
     ]
    },
    {
     "data": {
      "application/vnd.jupyter.widget-view+json": {
       "model_id": "3ab9548c4a044e9191742ee4564e14c4",
       "version_major": 2,
       "version_minor": 0
      },
      "text/plain": [
       "  0%|          | 0/2 [00:00<?, ?it/s]"
      ]
     },
     "metadata": {},
     "output_type": "display_data"
    },
    {
     "name": "stdout",
     "output_type": "stream",
     "text": [
      "301\n"
     ]
    },
    {
     "data": {
      "application/vnd.jupyter.widget-view+json": {
       "model_id": "cafa10430610414ea6a7257fe4aebba4",
       "version_major": 2,
       "version_minor": 0
      },
      "text/plain": [
       "  0%|          | 0/2 [00:00<?, ?it/s]"
      ]
     },
     "metadata": {},
     "output_type": "display_data"
    },
    {
     "name": "stdout",
     "output_type": "stream",
     "text": [
      "83\n"
     ]
    },
    {
     "data": {
      "application/vnd.jupyter.widget-view+json": {
       "model_id": "aee5c402d4c44093bd09d2a955d16bce",
       "version_major": 2,
       "version_minor": 0
      },
      "text/plain": [
       "  0%|          | 0/2 [00:00<?, ?it/s]"
      ]
     },
     "metadata": {},
     "output_type": "display_data"
    },
    {
     "name": "stdout",
     "output_type": "stream",
     "text": [
      "287\n"
     ]
    },
    {
     "data": {
      "application/vnd.jupyter.widget-view+json": {
       "model_id": "88ed151b56314ccb811f385277d255d3",
       "version_major": 2,
       "version_minor": 0
      },
      "text/plain": [
       "  0%|          | 0/2 [00:00<?, ?it/s]"
      ]
     },
     "metadata": {},
     "output_type": "display_data"
    },
    {
     "name": "stdout",
     "output_type": "stream",
     "text": [
      "94\n"
     ]
    },
    {
     "data": {
      "application/vnd.jupyter.widget-view+json": {
       "model_id": "d1c9075700d347fa8bc351bf5ba407bd",
       "version_major": 2,
       "version_minor": 0
      },
      "text/plain": [
       "  0%|          | 0/2 [00:00<?, ?it/s]"
      ]
     },
     "metadata": {},
     "output_type": "display_data"
    },
    {
     "name": "stdout",
     "output_type": "stream",
     "text": [
      "144\n"
     ]
    },
    {
     "data": {
      "application/vnd.jupyter.widget-view+json": {
       "model_id": "2a4f4956daef4c6aa687511c94a8b28d",
       "version_major": 2,
       "version_minor": 0
      },
      "text/plain": [
       "  0%|          | 0/2 [00:00<?, ?it/s]"
      ]
     },
     "metadata": {},
     "output_type": "display_data"
    },
    {
     "name": "stdout",
     "output_type": "stream",
     "text": [
      "194\n"
     ]
    },
    {
     "data": {
      "application/vnd.jupyter.widget-view+json": {
       "model_id": "7e1c9f640a9b4f6ca75aed3b6112961c",
       "version_major": 2,
       "version_minor": 0
      },
      "text/plain": [
       "  0%|          | 0/2 [00:00<?, ?it/s]"
      ]
     },
     "metadata": {},
     "output_type": "display_data"
    },
    {
     "name": "stdout",
     "output_type": "stream",
     "text": [
      "45\n"
     ]
    },
    {
     "data": {
      "application/vnd.jupyter.widget-view+json": {
       "model_id": "1bf130d0f80d40eb89952b6d4f67732e",
       "version_major": 2,
       "version_minor": 0
      },
      "text/plain": [
       "  0%|          | 0/2 [00:00<?, ?it/s]"
      ]
     },
     "metadata": {},
     "output_type": "display_data"
    },
    {
     "name": "stdout",
     "output_type": "stream",
     "text": [
      "52\n"
     ]
    },
    {
     "data": {
      "application/vnd.jupyter.widget-view+json": {
       "model_id": "0b60abc058654e47a990a4d498d7f9bc",
       "version_major": 2,
       "version_minor": 0
      },
      "text/plain": [
       "  0%|          | 0/2 [00:00<?, ?it/s]"
      ]
     },
     "metadata": {},
     "output_type": "display_data"
    },
    {
     "name": "stdout",
     "output_type": "stream",
     "text": [
      "822\n"
     ]
    },
    {
     "data": {
      "application/vnd.jupyter.widget-view+json": {
       "model_id": "08c22a30b03949e5a2b6cd80a13423ab",
       "version_major": 2,
       "version_minor": 0
      },
      "text/plain": [
       "  0%|          | 0/2 [00:00<?, ?it/s]"
      ]
     },
     "metadata": {},
     "output_type": "display_data"
    },
    {
     "name": "stdout",
     "output_type": "stream",
     "text": [
      "232\n"
     ]
    },
    {
     "data": {
      "application/vnd.jupyter.widget-view+json": {
       "model_id": "917bcf9e1a604ee0b5a0c3236752dd2f",
       "version_major": 2,
       "version_minor": 0
      },
      "text/plain": [
       "  0%|          | 0/2 [00:00<?, ?it/s]"
      ]
     },
     "metadata": {},
     "output_type": "display_data"
    },
    {
     "name": "stdout",
     "output_type": "stream",
     "text": [
      "51\n"
     ]
    },
    {
     "data": {
      "application/vnd.jupyter.widget-view+json": {
       "model_id": "4eaae8c7712c4511bf9bffb1bc170d1e",
       "version_major": 2,
       "version_minor": 0
      },
      "text/plain": [
       "  0%|          | 0/2 [00:00<?, ?it/s]"
      ]
     },
     "metadata": {},
     "output_type": "display_data"
    },
    {
     "name": "stdout",
     "output_type": "stream",
     "text": [
      "42\n"
     ]
    },
    {
     "data": {
      "application/vnd.jupyter.widget-view+json": {
       "model_id": "838342ef5b8f48cfa824f776b99e93ad",
       "version_major": 2,
       "version_minor": 0
      },
      "text/plain": [
       "  0%|          | 0/2 [00:00<?, ?it/s]"
      ]
     },
     "metadata": {},
     "output_type": "display_data"
    },
    {
     "data": {
      "application/vnd.jupyter.widget-view+json": {
       "model_id": "8cba2353ac054e0a9eae405d19a4f66b",
       "version_major": 2,
       "version_minor": 0
      },
      "text/plain": [
       "  0%|          | 0/10 [00:00<?, ?it/s]"
      ]
     },
     "metadata": {},
     "output_type": "display_data"
    },
    {
     "name": "stdout",
     "output_type": "stream",
     "text": [
      "933\n"
     ]
    },
    {
     "data": {
      "application/vnd.jupyter.widget-view+json": {
       "model_id": "4b6751e8c1a041ff873eda0304eebf3f",
       "version_major": 2,
       "version_minor": 0
      },
      "text/plain": [
       "  0%|          | 0/2 [00:00<?, ?it/s]"
      ]
     },
     "metadata": {},
     "output_type": "display_data"
    },
    {
     "name": "stdout",
     "output_type": "stream",
     "text": [
      "7419\n"
     ]
    },
    {
     "data": {
      "application/vnd.jupyter.widget-view+json": {
       "model_id": "535c8a72150049bc8062ff0b4a997ef0",
       "version_major": 2,
       "version_minor": 0
      },
      "text/plain": [
       "  0%|          | 0/9 [00:00<?, ?it/s]"
      ]
     },
     "metadata": {},
     "output_type": "display_data"
    },
    {
     "name": "stdout",
     "output_type": "stream",
     "text": [
      "2320\n"
     ]
    },
    {
     "data": {
      "application/vnd.jupyter.widget-view+json": {
       "model_id": "b42cd7374b2e4a0cbb69a634043ba4f7",
       "version_major": 2,
       "version_minor": 0
      },
      "text/plain": [
       "  0%|          | 0/4 [00:00<?, ?it/s]"
      ]
     },
     "metadata": {},
     "output_type": "display_data"
    },
    {
     "name": "stdout",
     "output_type": "stream",
     "text": [
      "2523\n"
     ]
    },
    {
     "data": {
      "application/vnd.jupyter.widget-view+json": {
       "model_id": "d9149e4ed00c4a5b85b7eecc59874bc7",
       "version_major": 2,
       "version_minor": 0
      },
      "text/plain": [
       "  0%|          | 0/4 [00:00<?, ?it/s]"
      ]
     },
     "metadata": {},
     "output_type": "display_data"
    },
    {
     "name": "stdout",
     "output_type": "stream",
     "text": [
      "1037\n"
     ]
    },
    {
     "data": {
      "application/vnd.jupyter.widget-view+json": {
       "model_id": "0edf2151d8034eeb945b9b8c01894dc2",
       "version_major": 2,
       "version_minor": 0
      },
      "text/plain": [
       "  0%|          | 0/3 [00:00<?, ?it/s]"
      ]
     },
     "metadata": {},
     "output_type": "display_data"
    },
    {
     "name": "stdout",
     "output_type": "stream",
     "text": [
      "1130\n"
     ]
    },
    {
     "data": {
      "application/vnd.jupyter.widget-view+json": {
       "model_id": "6f0ab18349c34bddae0453373a15a34d",
       "version_major": 2,
       "version_minor": 0
      },
      "text/plain": [
       "  0%|          | 0/3 [00:00<?, ?it/s]"
      ]
     },
     "metadata": {},
     "output_type": "display_data"
    },
    {
     "name": "stdout",
     "output_type": "stream",
     "text": [
      "7662\n"
     ]
    },
    {
     "data": {
      "application/vnd.jupyter.widget-view+json": {
       "model_id": "8884412ae0f944fa92dfb886846a47ff",
       "version_major": 2,
       "version_minor": 0
      },
      "text/plain": [
       "  0%|          | 0/9 [00:00<?, ?it/s]"
      ]
     },
     "metadata": {},
     "output_type": "display_data"
    },
    {
     "name": "stdout",
     "output_type": "stream",
     "text": [
      "21193\n"
     ]
    },
    {
     "data": {
      "application/vnd.jupyter.widget-view+json": {
       "model_id": "8749e66b22e1406aa637fcde02e62d13",
       "version_major": 2,
       "version_minor": 0
      },
      "text/plain": [
       "  0%|          | 0/23 [00:00<?, ?it/s]"
      ]
     },
     "metadata": {},
     "output_type": "display_data"
    },
    {
     "name": "stdout",
     "output_type": "stream",
     "text": [
      "3294\n"
     ]
    },
    {
     "data": {
      "application/vnd.jupyter.widget-view+json": {
       "model_id": "cd6734887abf4e42b2e2fb7db7a9552d",
       "version_major": 2,
       "version_minor": 0
      },
      "text/plain": [
       "  0%|          | 0/5 [00:00<?, ?it/s]"
      ]
     },
     "metadata": {},
     "output_type": "display_data"
    },
    {
     "name": "stdout",
     "output_type": "stream",
     "text": [
      "3264\n"
     ]
    },
    {
     "data": {
      "application/vnd.jupyter.widget-view+json": {
       "model_id": "10c8e63527e84357b06577d5677bfa7e",
       "version_major": 2,
       "version_minor": 0
      },
      "text/plain": [
       "  0%|          | 0/5 [00:00<?, ?it/s]"
      ]
     },
     "metadata": {},
     "output_type": "display_data"
    },
    {
     "data": {
      "text/plain": [
       "'Succesfully lemmatised the given texts.'"
      ]
     },
     "execution_count": 2,
     "metadata": {},
     "output_type": "execute_result"
    }
   ],
   "source": [
    "INPUT_DIR = \"../../../../data/enwiki_city_pairs/\"\n",
    "OUTPUT_DIR = \"../../../../data/enwiki_city_pairs_lemmatised/VERB_SPACY_LARGE/\"\n",
    "POS = [\"VERB\"]\n",
    "\n",
    "create_lemmatised_wordlists(INPUT_DIR=INPUT_DIR, OUTPUT_DIR=OUTPUT_DIR, POS=POS)"
   ]
  },
  {
   "cell_type": "markdown",
   "id": "0596bce0",
   "metadata": {},
   "source": [
    "# Lemmatize Text Window ( VERBS & NOUNS )"
   ]
  },
  {
   "cell_type": "code",
   "execution_count": null,
   "id": "344a705b",
   "metadata": {},
   "outputs": [],
   "source": [
    "INPUT_DIR = \"../../../../data/enwiki_city_pairs/\"\n",
    "OUTPUT_DIR = \"../../../../data/enwiki_city_pairs_lemmatised/VERB_SPACY_LARGE/\"\n",
    "POS = [\"VERB\", \"NOUN\"]\n",
    "\n",
    "create_lemmatised_wordlists(INPUT_DIR=INPUT_DIR, OUTPUT_DIR=OUTPUT_DIR, POS=POS)"
   ]
  },
  {
   "cell_type": "markdown",
   "id": "a92177df",
   "metadata": {},
   "source": [
    "# Spacy en_core_web_lg vs en_core_web_sm"
   ]
  },
  {
   "cell_type": "code",
   "execution_count": 22,
   "id": "f8ee3657",
   "metadata": {},
   "outputs": [
    {
     "name": "stdout",
     "output_type": "stream",
     "text": [
      "1 ../../../../data/enwiki_city_pairs_lemmatised/VERB/biggest_cities_10\\VERB__athens_birmingham__.pickle ../../../../data/enwiki_city_pairs_lemmatised/VERB_SPACY_LARGE/biggest_cities_10\\VERB__athens_birmingham__.pickle\n",
      "\n",
      "2 ../../../../data/enwiki_city_pairs_lemmatised/VERB/biggest_cities_10\\VERB__athens_lisbon__.pickle ../../../../data/enwiki_city_pairs_lemmatised/VERB_SPACY_LARGE/biggest_cities_10\\VERB__athens_lisbon__.pickle\n",
      "\n",
      "3 ../../../../data/enwiki_city_pairs_lemmatised/VERB/biggest_cities_10\\VERB__athens_rome__.pickle ../../../../data/enwiki_city_pairs_lemmatised/VERB_SPACY_LARGE/biggest_cities_10\\VERB__athens_rome__.pickle\n",
      "\n",
      "4 ../../../../data/enwiki_city_pairs_lemmatised/VERB/biggest_cities_10\\VERB__barcelona_athens__.pickle ../../../../data/enwiki_city_pairs_lemmatised/VERB_SPACY_LARGE/biggest_cities_10\\VERB__barcelona_athens__.pickle\n",
      "\n",
      "5 ../../../../data/enwiki_city_pairs_lemmatised/VERB/biggest_cities_10\\VERB__barcelona_birmingham__.pickle ../../../../data/enwiki_city_pairs_lemmatised/VERB_SPACY_LARGE/biggest_cities_10\\VERB__barcelona_birmingham__.pickle\n",
      "\n",
      "6 ../../../../data/enwiki_city_pairs_lemmatised/VERB/biggest_cities_10\\VERB__barcelona_lisbon__.pickle ../../../../data/enwiki_city_pairs_lemmatised/VERB_SPACY_LARGE/biggest_cities_10\\VERB__barcelona_lisbon__.pickle\n",
      "\n",
      "7 ../../../../data/enwiki_city_pairs_lemmatised/VERB/biggest_cities_10\\VERB__barcelona_rome__.pickle ../../../../data/enwiki_city_pairs_lemmatised/VERB_SPACY_LARGE/biggest_cities_10\\VERB__barcelona_rome__.pickle\n",
      "\n",
      "8 ../../../../data/enwiki_city_pairs_lemmatised/VERB/biggest_cities_10\\VERB__berlin_athens__.pickle ../../../../data/enwiki_city_pairs_lemmatised/VERB_SPACY_LARGE/biggest_cities_10\\VERB__berlin_athens__.pickle\n",
      "\n",
      "9 ../../../../data/enwiki_city_pairs_lemmatised/VERB/biggest_cities_10\\VERB__berlin_barcelona__.pickle ../../../../data/enwiki_city_pairs_lemmatised/VERB_SPACY_LARGE/biggest_cities_10\\VERB__berlin_barcelona__.pickle\n",
      "\n",
      "10 ../../../../data/enwiki_city_pairs_lemmatised/VERB/biggest_cities_10\\VERB__berlin_birmingham__.pickle ../../../../data/enwiki_city_pairs_lemmatised/VERB_SPACY_LARGE/biggest_cities_10\\VERB__berlin_birmingham__.pickle\n",
      "\n",
      "11 ../../../../data/enwiki_city_pairs_lemmatised/VERB/biggest_cities_10\\VERB__berlin_lisbon__.pickle ../../../../data/enwiki_city_pairs_lemmatised/VERB_SPACY_LARGE/biggest_cities_10\\VERB__berlin_lisbon__.pickle\n",
      "\n",
      "12 ../../../../data/enwiki_city_pairs_lemmatised/VERB/biggest_cities_10\\VERB__berlin_rome__.pickle ../../../../data/enwiki_city_pairs_lemmatised/VERB_SPACY_LARGE/biggest_cities_10\\VERB__berlin_rome__.pickle\n",
      "\n",
      "13 ../../../../data/enwiki_city_pairs_lemmatised/VERB/biggest_cities_10\\VERB__birmingham_lisbon__.pickle ../../../../data/enwiki_city_pairs_lemmatised/VERB_SPACY_LARGE/biggest_cities_10\\VERB__birmingham_lisbon__.pickle\n",
      "\n",
      "14 ../../../../data/enwiki_city_pairs_lemmatised/VERB/biggest_cities_10\\VERB__london_athens__.pickle ../../../../data/enwiki_city_pairs_lemmatised/VERB_SPACY_LARGE/biggest_cities_10\\VERB__london_athens__.pickle\n",
      "\n",
      "15 ../../../../data/enwiki_city_pairs_lemmatised/VERB/biggest_cities_10\\VERB__london_barcelona__.pickle ../../../../data/enwiki_city_pairs_lemmatised/VERB_SPACY_LARGE/biggest_cities_10\\VERB__london_barcelona__.pickle\n",
      "\n",
      "16 ../../../../data/enwiki_city_pairs_lemmatised/VERB/biggest_cities_10\\VERB__london_birmingham__.pickle ../../../../data/enwiki_city_pairs_lemmatised/VERB_SPACY_LARGE/biggest_cities_10\\VERB__london_birmingham__.pickle\n",
      "\n",
      "17 ../../../../data/enwiki_city_pairs_lemmatised/VERB/biggest_cities_10\\VERB__london_lisbon__.pickle ../../../../data/enwiki_city_pairs_lemmatised/VERB_SPACY_LARGE/biggest_cities_10\\VERB__london_lisbon__.pickle\n",
      "\n",
      "18 ../../../../data/enwiki_city_pairs_lemmatised/VERB/biggest_cities_10\\VERB__london_rome__.pickle ../../../../data/enwiki_city_pairs_lemmatised/VERB_SPACY_LARGE/biggest_cities_10\\VERB__london_rome__.pickle\n",
      "\n",
      "19 ../../../../data/enwiki_city_pairs_lemmatised/VERB/biggest_cities_10\\VERB__madrid_athens__.pickle ../../../../data/enwiki_city_pairs_lemmatised/VERB_SPACY_LARGE/biggest_cities_10\\VERB__madrid_athens__.pickle\n",
      "\n",
      "20 ../../../../data/enwiki_city_pairs_lemmatised/VERB/biggest_cities_10\\VERB__madrid_barcelona__.pickle ../../../../data/enwiki_city_pairs_lemmatised/VERB_SPACY_LARGE/biggest_cities_10\\VERB__madrid_barcelona__.pickle\n",
      "\n",
      "21 ../../../../data/enwiki_city_pairs_lemmatised/VERB/biggest_cities_10\\VERB__madrid_birmingham__.pickle ../../../../data/enwiki_city_pairs_lemmatised/VERB_SPACY_LARGE/biggest_cities_10\\VERB__madrid_birmingham__.pickle\n",
      "\n",
      "22 ../../../../data/enwiki_city_pairs_lemmatised/VERB/biggest_cities_10\\VERB__madrid_lisbon__.pickle ../../../../data/enwiki_city_pairs_lemmatised/VERB_SPACY_LARGE/biggest_cities_10\\VERB__madrid_lisbon__.pickle\n",
      "\n",
      "23 ../../../../data/enwiki_city_pairs_lemmatised/VERB/biggest_cities_10\\VERB__madrid_rome__.pickle ../../../../data/enwiki_city_pairs_lemmatised/VERB_SPACY_LARGE/biggest_cities_10\\VERB__madrid_rome__.pickle\n",
      "\n",
      "24 ../../../../data/enwiki_city_pairs_lemmatised/VERB/biggest_cities_10\\VERB__milan_athens__.pickle ../../../../data/enwiki_city_pairs_lemmatised/VERB_SPACY_LARGE/biggest_cities_10\\VERB__milan_athens__.pickle\n",
      "\n",
      "25 ../../../../data/enwiki_city_pairs_lemmatised/VERB/biggest_cities_10\\VERB__milan_barcelona__.pickle ../../../../data/enwiki_city_pairs_lemmatised/VERB_SPACY_LARGE/biggest_cities_10\\VERB__milan_barcelona__.pickle\n",
      "\n",
      "26 ../../../../data/enwiki_city_pairs_lemmatised/VERB/biggest_cities_10\\VERB__milan_birmingham__.pickle ../../../../data/enwiki_city_pairs_lemmatised/VERB_SPACY_LARGE/biggest_cities_10\\VERB__milan_birmingham__.pickle\n",
      "\n",
      "27 ../../../../data/enwiki_city_pairs_lemmatised/VERB/biggest_cities_10\\VERB__milan_lisbon__.pickle ../../../../data/enwiki_city_pairs_lemmatised/VERB_SPACY_LARGE/biggest_cities_10\\VERB__milan_lisbon__.pickle\n",
      "\n",
      "28 ../../../../data/enwiki_city_pairs_lemmatised/VERB/biggest_cities_10\\VERB__milan_rome__.pickle ../../../../data/enwiki_city_pairs_lemmatised/VERB_SPACY_LARGE/biggest_cities_10\\VERB__milan_rome__.pickle\n",
      "\n",
      "29 ../../../../data/enwiki_city_pairs_lemmatised/VERB/biggest_cities_10\\VERB__paris_athens__.pickle ../../../../data/enwiki_city_pairs_lemmatised/VERB_SPACY_LARGE/biggest_cities_10\\VERB__paris_athens__.pickle\n",
      "\n",
      "30 ../../../../data/enwiki_city_pairs_lemmatised/VERB/biggest_cities_10\\VERB__paris_barcelona__.pickle ../../../../data/enwiki_city_pairs_lemmatised/VERB_SPACY_LARGE/biggest_cities_10\\VERB__paris_barcelona__.pickle\n",
      "\n",
      "31 ../../../../data/enwiki_city_pairs_lemmatised/VERB/biggest_cities_10\\VERB__paris_birmingham__.pickle ../../../../data/enwiki_city_pairs_lemmatised/VERB_SPACY_LARGE/biggest_cities_10\\VERB__paris_birmingham__.pickle\n",
      "\n",
      "32 ../../../../data/enwiki_city_pairs_lemmatised/VERB/biggest_cities_10\\VERB__paris_lisbon__.pickle ../../../../data/enwiki_city_pairs_lemmatised/VERB_SPACY_LARGE/biggest_cities_10\\VERB__paris_lisbon__.pickle\n",
      "\n",
      "33 ../../../../data/enwiki_city_pairs_lemmatised/VERB/biggest_cities_10\\VERB__paris_rome__.pickle ../../../../data/enwiki_city_pairs_lemmatised/VERB_SPACY_LARGE/biggest_cities_10\\VERB__paris_rome__.pickle\n",
      "\n",
      "34 ../../../../data/enwiki_city_pairs_lemmatised/VERB/biggest_cities_10\\VERB__rome_birmingham__.pickle ../../../../data/enwiki_city_pairs_lemmatised/VERB_SPACY_LARGE/biggest_cities_10\\VERB__rome_birmingham__.pickle\n",
      "\n",
      "35 ../../../../data/enwiki_city_pairs_lemmatised/VERB/biggest_cities_10\\VERB__rome_lisbon__.pickle ../../../../data/enwiki_city_pairs_lemmatised/VERB_SPACY_LARGE/biggest_cities_10\\VERB__rome_lisbon__.pickle\n",
      "\n",
      "36 ../../../../data/enwiki_city_pairs_lemmatised/VERB/biggest_cities_20\\VERB__athens_bucharest__.pickle ../../../../data/enwiki_city_pairs_lemmatised/VERB_SPACY_LARGE/biggest_cities_20\\VERB__athens_bucharest__.pickle\n",
      "\n",
      "37 ../../../../data/enwiki_city_pairs_lemmatised/VERB/biggest_cities_20\\VERB__athens_budapest__.pickle ../../../../data/enwiki_city_pairs_lemmatised/VERB_SPACY_LARGE/biggest_cities_20\\VERB__athens_budapest__.pickle\n",
      "\n",
      "38 ../../../../data/enwiki_city_pairs_lemmatised/VERB/biggest_cities_20\\VERB__athens_hamburg__.pickle ../../../../data/enwiki_city_pairs_lemmatised/VERB_SPACY_LARGE/biggest_cities_20\\VERB__athens_hamburg__.pickle\n",
      "\n",
      "39 ../../../../data/enwiki_city_pairs_lemmatised/VERB/biggest_cities_20\\VERB__athens_katowice__.pickle ../../../../data/enwiki_city_pairs_lemmatised/VERB_SPACY_LARGE/biggest_cities_20\\VERB__athens_katowice__.pickle\n",
      "\n"
     ]
    },
    {
     "name": "stdout",
     "output_type": "stream",
     "text": [
      "40 ../../../../data/enwiki_city_pairs_lemmatised/VERB/biggest_cities_20\\VERB__athens_manchester__.pickle ../../../../data/enwiki_city_pairs_lemmatised/VERB_SPACY_LARGE/biggest_cities_20\\VERB__athens_manchester__.pickle\n",
      "\n",
      "41 ../../../../data/enwiki_city_pairs_lemmatised/VERB/biggest_cities_20\\VERB__athens_munich__.pickle ../../../../data/enwiki_city_pairs_lemmatised/VERB_SPACY_LARGE/biggest_cities_20\\VERB__athens_munich__.pickle\n",
      "\n",
      "42 ../../../../data/enwiki_city_pairs_lemmatised/VERB/biggest_cities_20\\VERB__athens_naples__.pickle ../../../../data/enwiki_city_pairs_lemmatised/VERB_SPACY_LARGE/biggest_cities_20\\VERB__athens_naples__.pickle\n",
      "\n",
      "43 ../../../../data/enwiki_city_pairs_lemmatised/VERB/biggest_cities_20\\VERB__athens_stuttgart__.pickle ../../../../data/enwiki_city_pairs_lemmatised/VERB_SPACY_LARGE/biggest_cities_20\\VERB__athens_stuttgart__.pickle\n",
      "\n",
      "44 ../../../../data/enwiki_city_pairs_lemmatised/VERB/biggest_cities_20\\VERB__athens_vienna__.pickle ../../../../data/enwiki_city_pairs_lemmatised/VERB_SPACY_LARGE/biggest_cities_20\\VERB__athens_vienna__.pickle\n",
      "\n",
      "45 ../../../../data/enwiki_city_pairs_lemmatised/VERB/biggest_cities_20\\VERB__athens_warsaw__.pickle ../../../../data/enwiki_city_pairs_lemmatised/VERB_SPACY_LARGE/biggest_cities_20\\VERB__athens_warsaw__.pickle\n",
      "\n",
      "46 ../../../../data/enwiki_city_pairs_lemmatised/VERB/biggest_cities_20\\VERB__barcelona_bucharest__.pickle ../../../../data/enwiki_city_pairs_lemmatised/VERB_SPACY_LARGE/biggest_cities_20\\VERB__barcelona_bucharest__.pickle\n",
      "\n",
      "47 ../../../../data/enwiki_city_pairs_lemmatised/VERB/biggest_cities_20\\VERB__barcelona_budapest__.pickle ../../../../data/enwiki_city_pairs_lemmatised/VERB_SPACY_LARGE/biggest_cities_20\\VERB__barcelona_budapest__.pickle\n",
      "\n",
      "48 ../../../../data/enwiki_city_pairs_lemmatised/VERB/biggest_cities_20\\VERB__barcelona_hamburg__.pickle ../../../../data/enwiki_city_pairs_lemmatised/VERB_SPACY_LARGE/biggest_cities_20\\VERB__barcelona_hamburg__.pickle\n",
      "\n",
      "49 ../../../../data/enwiki_city_pairs_lemmatised/VERB/biggest_cities_20\\VERB__barcelona_katowice__.pickle ../../../../data/enwiki_city_pairs_lemmatised/VERB_SPACY_LARGE/biggest_cities_20\\VERB__barcelona_katowice__.pickle\n",
      "\n",
      "50 ../../../../data/enwiki_city_pairs_lemmatised/VERB/biggest_cities_20\\VERB__barcelona_manchester__.pickle ../../../../data/enwiki_city_pairs_lemmatised/VERB_SPACY_LARGE/biggest_cities_20\\VERB__barcelona_manchester__.pickle\n",
      "\n",
      "51 ../../../../data/enwiki_city_pairs_lemmatised/VERB/biggest_cities_20\\VERB__barcelona_munich__.pickle ../../../../data/enwiki_city_pairs_lemmatised/VERB_SPACY_LARGE/biggest_cities_20\\VERB__barcelona_munich__.pickle\n",
      "\n",
      "52 ../../../../data/enwiki_city_pairs_lemmatised/VERB/biggest_cities_20\\VERB__barcelona_naples__.pickle ../../../../data/enwiki_city_pairs_lemmatised/VERB_SPACY_LARGE/biggest_cities_20\\VERB__barcelona_naples__.pickle\n",
      "\n",
      "53 ../../../../data/enwiki_city_pairs_lemmatised/VERB/biggest_cities_20\\VERB__barcelona_stuttgart__.pickle ../../../../data/enwiki_city_pairs_lemmatised/VERB_SPACY_LARGE/biggest_cities_20\\VERB__barcelona_stuttgart__.pickle\n",
      "\n",
      "54 ../../../../data/enwiki_city_pairs_lemmatised/VERB/biggest_cities_20\\VERB__barcelona_vienna__.pickle ../../../../data/enwiki_city_pairs_lemmatised/VERB_SPACY_LARGE/biggest_cities_20\\VERB__barcelona_vienna__.pickle\n",
      "\n",
      "55 ../../../../data/enwiki_city_pairs_lemmatised/VERB/biggest_cities_20\\VERB__barcelona_warsaw__.pickle ../../../../data/enwiki_city_pairs_lemmatised/VERB_SPACY_LARGE/biggest_cities_20\\VERB__barcelona_warsaw__.pickle\n",
      "\n",
      "56 ../../../../data/enwiki_city_pairs_lemmatised/VERB/biggest_cities_20\\VERB__berlin_bucharest__.pickle ../../../../data/enwiki_city_pairs_lemmatised/VERB_SPACY_LARGE/biggest_cities_20\\VERB__berlin_bucharest__.pickle\n",
      "\n",
      "57 ../../../../data/enwiki_city_pairs_lemmatised/VERB/biggest_cities_20\\VERB__berlin_budapest__.pickle ../../../../data/enwiki_city_pairs_lemmatised/VERB_SPACY_LARGE/biggest_cities_20\\VERB__berlin_budapest__.pickle\n",
      "\n",
      "58 ../../../../data/enwiki_city_pairs_lemmatised/VERB/biggest_cities_20\\VERB__berlin_hamburg__.pickle ../../../../data/enwiki_city_pairs_lemmatised/VERB_SPACY_LARGE/biggest_cities_20\\VERB__berlin_hamburg__.pickle\n",
      "\n",
      "59 ../../../../data/enwiki_city_pairs_lemmatised/VERB/biggest_cities_20\\VERB__berlin_katowice__.pickle ../../../../data/enwiki_city_pairs_lemmatised/VERB_SPACY_LARGE/biggest_cities_20\\VERB__berlin_katowice__.pickle\n",
      "\n",
      "60 ../../../../data/enwiki_city_pairs_lemmatised/VERB/biggest_cities_20\\VERB__berlin_manchester__.pickle ../../../../data/enwiki_city_pairs_lemmatised/VERB_SPACY_LARGE/biggest_cities_20\\VERB__berlin_manchester__.pickle\n",
      "\n",
      "61 ../../../../data/enwiki_city_pairs_lemmatised/VERB/biggest_cities_20\\VERB__berlin_munich__.pickle ../../../../data/enwiki_city_pairs_lemmatised/VERB_SPACY_LARGE/biggest_cities_20\\VERB__berlin_munich__.pickle\n",
      "\n",
      "62 ../../../../data/enwiki_city_pairs_lemmatised/VERB/biggest_cities_20\\VERB__berlin_naples__.pickle ../../../../data/enwiki_city_pairs_lemmatised/VERB_SPACY_LARGE/biggest_cities_20\\VERB__berlin_naples__.pickle\n",
      "\n",
      "63 ../../../../data/enwiki_city_pairs_lemmatised/VERB/biggest_cities_20\\VERB__berlin_stuttgart__.pickle ../../../../data/enwiki_city_pairs_lemmatised/VERB_SPACY_LARGE/biggest_cities_20\\VERB__berlin_stuttgart__.pickle\n",
      "\n",
      "64 ../../../../data/enwiki_city_pairs_lemmatised/VERB/biggest_cities_20\\VERB__berlin_vienna__.pickle ../../../../data/enwiki_city_pairs_lemmatised/VERB_SPACY_LARGE/biggest_cities_20\\VERB__berlin_vienna__.pickle\n",
      "\n",
      "65 ../../../../data/enwiki_city_pairs_lemmatised/VERB/biggest_cities_20\\VERB__berlin_warsaw__.pickle ../../../../data/enwiki_city_pairs_lemmatised/VERB_SPACY_LARGE/biggest_cities_20\\VERB__berlin_warsaw__.pickle\n",
      "\n",
      "66 ../../../../data/enwiki_city_pairs_lemmatised/VERB/biggest_cities_20\\VERB__birmingham_bucharest__.pickle ../../../../data/enwiki_city_pairs_lemmatised/VERB_SPACY_LARGE/biggest_cities_20\\VERB__birmingham_bucharest__.pickle\n",
      "\n",
      "67 ../../../../data/enwiki_city_pairs_lemmatised/VERB/biggest_cities_20\\VERB__birmingham_budapest__.pickle ../../../../data/enwiki_city_pairs_lemmatised/VERB_SPACY_LARGE/biggest_cities_20\\VERB__birmingham_budapest__.pickle\n",
      "\n",
      "68 ../../../../data/enwiki_city_pairs_lemmatised/VERB/biggest_cities_20\\VERB__birmingham_hamburg__.pickle ../../../../data/enwiki_city_pairs_lemmatised/VERB_SPACY_LARGE/biggest_cities_20\\VERB__birmingham_hamburg__.pickle\n",
      "\n",
      "69 ../../../../data/enwiki_city_pairs_lemmatised/VERB/biggest_cities_20\\VERB__birmingham_katowice__.pickle ../../../../data/enwiki_city_pairs_lemmatised/VERB_SPACY_LARGE/biggest_cities_20\\VERB__birmingham_katowice__.pickle\n",
      "\n",
      "70 ../../../../data/enwiki_city_pairs_lemmatised/VERB/biggest_cities_20\\VERB__birmingham_manchester__.pickle ../../../../data/enwiki_city_pairs_lemmatised/VERB_SPACY_LARGE/biggest_cities_20\\VERB__birmingham_manchester__.pickle\n",
      "\n",
      "71 ../../../../data/enwiki_city_pairs_lemmatised/VERB/biggest_cities_20\\VERB__birmingham_munich__.pickle ../../../../data/enwiki_city_pairs_lemmatised/VERB_SPACY_LARGE/biggest_cities_20\\VERB__birmingham_munich__.pickle\n",
      "\n",
      "72 ../../../../data/enwiki_city_pairs_lemmatised/VERB/biggest_cities_20\\VERB__birmingham_naples__.pickle ../../../../data/enwiki_city_pairs_lemmatised/VERB_SPACY_LARGE/biggest_cities_20\\VERB__birmingham_naples__.pickle\n",
      "\n",
      "73 ../../../../data/enwiki_city_pairs_lemmatised/VERB/biggest_cities_20\\VERB__birmingham_stuttgart__.pickle ../../../../data/enwiki_city_pairs_lemmatised/VERB_SPACY_LARGE/biggest_cities_20\\VERB__birmingham_stuttgart__.pickle\n",
      "\n",
      "74 ../../../../data/enwiki_city_pairs_lemmatised/VERB/biggest_cities_20\\VERB__birmingham_vienna__.pickle ../../../../data/enwiki_city_pairs_lemmatised/VERB_SPACY_LARGE/biggest_cities_20\\VERB__birmingham_vienna__.pickle\n",
      "\n",
      "75 ../../../../data/enwiki_city_pairs_lemmatised/VERB/biggest_cities_20\\VERB__birmingham_warsaw__.pickle ../../../../data/enwiki_city_pairs_lemmatised/VERB_SPACY_LARGE/biggest_cities_20\\VERB__birmingham_warsaw__.pickle\n",
      "\n",
      "76 ../../../../data/enwiki_city_pairs_lemmatised/VERB/biggest_cities_20\\VERB__bucharest_munich__.pickle ../../../../data/enwiki_city_pairs_lemmatised/VERB_SPACY_LARGE/biggest_cities_20\\VERB__bucharest_munich__.pickle\n",
      "\n",
      "77 ../../../../data/enwiki_city_pairs_lemmatised/VERB/biggest_cities_20\\VERB__bucharest_stuttgart__.pickle ../../../../data/enwiki_city_pairs_lemmatised/VERB_SPACY_LARGE/biggest_cities_20\\VERB__bucharest_stuttgart__.pickle\n",
      "\n",
      "78 ../../../../data/enwiki_city_pairs_lemmatised/VERB/biggest_cities_20\\VERB__bucharest_vienna__.pickle ../../../../data/enwiki_city_pairs_lemmatised/VERB_SPACY_LARGE/biggest_cities_20\\VERB__bucharest_vienna__.pickle\n",
      "\n"
     ]
    },
    {
     "name": "stdout",
     "output_type": "stream",
     "text": [
      "79 ../../../../data/enwiki_city_pairs_lemmatised/VERB/biggest_cities_20\\VERB__bucharest_warsaw__.pickle ../../../../data/enwiki_city_pairs_lemmatised/VERB_SPACY_LARGE/biggest_cities_20\\VERB__bucharest_warsaw__.pickle\n",
      "\n",
      "80 ../../../../data/enwiki_city_pairs_lemmatised/VERB/biggest_cities_20\\VERB__budapest_bucharest__.pickle ../../../../data/enwiki_city_pairs_lemmatised/VERB_SPACY_LARGE/biggest_cities_20\\VERB__budapest_bucharest__.pickle\n",
      "\n",
      "81 ../../../../data/enwiki_city_pairs_lemmatised/VERB/biggest_cities_20\\VERB__budapest_munich__.pickle ../../../../data/enwiki_city_pairs_lemmatised/VERB_SPACY_LARGE/biggest_cities_20\\VERB__budapest_munich__.pickle\n",
      "\n",
      "82 ../../../../data/enwiki_city_pairs_lemmatised/VERB/biggest_cities_20\\VERB__budapest_stuttgart__.pickle ../../../../data/enwiki_city_pairs_lemmatised/VERB_SPACY_LARGE/biggest_cities_20\\VERB__budapest_stuttgart__.pickle\n",
      "\n",
      "83 ../../../../data/enwiki_city_pairs_lemmatised/VERB/biggest_cities_20\\VERB__budapest_vienna__.pickle ../../../../data/enwiki_city_pairs_lemmatised/VERB_SPACY_LARGE/biggest_cities_20\\VERB__budapest_vienna__.pickle\n",
      "\n",
      "84 ../../../../data/enwiki_city_pairs_lemmatised/VERB/biggest_cities_20\\VERB__budapest_warsaw__.pickle ../../../../data/enwiki_city_pairs_lemmatised/VERB_SPACY_LARGE/biggest_cities_20\\VERB__budapest_warsaw__.pickle\n",
      "\n",
      "85 ../../../../data/enwiki_city_pairs_lemmatised/VERB/biggest_cities_20\\VERB__hamburg_bucharest__.pickle ../../../../data/enwiki_city_pairs_lemmatised/VERB_SPACY_LARGE/biggest_cities_20\\VERB__hamburg_bucharest__.pickle\n",
      "\n",
      "86 ../../../../data/enwiki_city_pairs_lemmatised/VERB/biggest_cities_20\\VERB__hamburg_budapest__.pickle ../../../../data/enwiki_city_pairs_lemmatised/VERB_SPACY_LARGE/biggest_cities_20\\VERB__hamburg_budapest__.pickle\n",
      "\n",
      "87 ../../../../data/enwiki_city_pairs_lemmatised/VERB/biggest_cities_20\\VERB__hamburg_munich__.pickle ../../../../data/enwiki_city_pairs_lemmatised/VERB_SPACY_LARGE/biggest_cities_20\\VERB__hamburg_munich__.pickle\n",
      "\n",
      "88 ../../../../data/enwiki_city_pairs_lemmatised/VERB/biggest_cities_20\\VERB__hamburg_stuttgart__.pickle ../../../../data/enwiki_city_pairs_lemmatised/VERB_SPACY_LARGE/biggest_cities_20\\VERB__hamburg_stuttgart__.pickle\n",
      "\n",
      "89 ../../../../data/enwiki_city_pairs_lemmatised/VERB/biggest_cities_20\\VERB__hamburg_vienna__.pickle ../../../../data/enwiki_city_pairs_lemmatised/VERB_SPACY_LARGE/biggest_cities_20\\VERB__hamburg_vienna__.pickle\n",
      "\n",
      "90 ../../../../data/enwiki_city_pairs_lemmatised/VERB/biggest_cities_20\\VERB__hamburg_warsaw__.pickle ../../../../data/enwiki_city_pairs_lemmatised/VERB_SPACY_LARGE/biggest_cities_20\\VERB__hamburg_warsaw__.pickle\n",
      "\n",
      "91 ../../../../data/enwiki_city_pairs_lemmatised/VERB/biggest_cities_20\\VERB__katowice_bucharest__.pickle ../../../../data/enwiki_city_pairs_lemmatised/VERB_SPACY_LARGE/biggest_cities_20\\VERB__katowice_bucharest__.pickle\n",
      "\n",
      "92 ../../../../data/enwiki_city_pairs_lemmatised/VERB/biggest_cities_20\\VERB__katowice_budapest__.pickle ../../../../data/enwiki_city_pairs_lemmatised/VERB_SPACY_LARGE/biggest_cities_20\\VERB__katowice_budapest__.pickle\n",
      "\n",
      "93 ../../../../data/enwiki_city_pairs_lemmatised/VERB/biggest_cities_20\\VERB__katowice_hamburg__.pickle ../../../../data/enwiki_city_pairs_lemmatised/VERB_SPACY_LARGE/biggest_cities_20\\VERB__katowice_hamburg__.pickle\n",
      "\n",
      "94 ../../../../data/enwiki_city_pairs_lemmatised/VERB/biggest_cities_20\\VERB__katowice_manchester__.pickle ../../../../data/enwiki_city_pairs_lemmatised/VERB_SPACY_LARGE/biggest_cities_20\\VERB__katowice_manchester__.pickle\n",
      "\n",
      "95 ../../../../data/enwiki_city_pairs_lemmatised/VERB/biggest_cities_20\\VERB__katowice_munich__.pickle ../../../../data/enwiki_city_pairs_lemmatised/VERB_SPACY_LARGE/biggest_cities_20\\VERB__katowice_munich__.pickle\n",
      "\n",
      "96 ../../../../data/enwiki_city_pairs_lemmatised/VERB/biggest_cities_20\\VERB__katowice_stuttgart__.pickle ../../../../data/enwiki_city_pairs_lemmatised/VERB_SPACY_LARGE/biggest_cities_20\\VERB__katowice_stuttgart__.pickle\n",
      "\n",
      "97 ../../../../data/enwiki_city_pairs_lemmatised/VERB/biggest_cities_20\\VERB__katowice_vienna__.pickle ../../../../data/enwiki_city_pairs_lemmatised/VERB_SPACY_LARGE/biggest_cities_20\\VERB__katowice_vienna__.pickle\n",
      "\n",
      "98 ../../../../data/enwiki_city_pairs_lemmatised/VERB/biggest_cities_20\\VERB__katowice_warsaw__.pickle ../../../../data/enwiki_city_pairs_lemmatised/VERB_SPACY_LARGE/biggest_cities_20\\VERB__katowice_warsaw__.pickle\n",
      "\n",
      "99 ../../../../data/enwiki_city_pairs_lemmatised/VERB/biggest_cities_20\\VERB__lisbon_bucharest__.pickle ../../../../data/enwiki_city_pairs_lemmatised/VERB_SPACY_LARGE/biggest_cities_20\\VERB__lisbon_bucharest__.pickle\n",
      "\n",
      "100 ../../../../data/enwiki_city_pairs_lemmatised/VERB/biggest_cities_20\\VERB__lisbon_budapest__.pickle ../../../../data/enwiki_city_pairs_lemmatised/VERB_SPACY_LARGE/biggest_cities_20\\VERB__lisbon_budapest__.pickle\n",
      "\n",
      "101 ../../../../data/enwiki_city_pairs_lemmatised/VERB/biggest_cities_20\\VERB__lisbon_hamburg__.pickle ../../../../data/enwiki_city_pairs_lemmatised/VERB_SPACY_LARGE/biggest_cities_20\\VERB__lisbon_hamburg__.pickle\n",
      "\n",
      "102 ../../../../data/enwiki_city_pairs_lemmatised/VERB/biggest_cities_20\\VERB__lisbon_katowice__.pickle ../../../../data/enwiki_city_pairs_lemmatised/VERB_SPACY_LARGE/biggest_cities_20\\VERB__lisbon_katowice__.pickle\n",
      "\n",
      "103 ../../../../data/enwiki_city_pairs_lemmatised/VERB/biggest_cities_20\\VERB__lisbon_manchester__.pickle ../../../../data/enwiki_city_pairs_lemmatised/VERB_SPACY_LARGE/biggest_cities_20\\VERB__lisbon_manchester__.pickle\n",
      "\n",
      "104 ../../../../data/enwiki_city_pairs_lemmatised/VERB/biggest_cities_20\\VERB__lisbon_munich__.pickle ../../../../data/enwiki_city_pairs_lemmatised/VERB_SPACY_LARGE/biggest_cities_20\\VERB__lisbon_munich__.pickle\n",
      "\n",
      "105 ../../../../data/enwiki_city_pairs_lemmatised/VERB/biggest_cities_20\\VERB__lisbon_naples__.pickle ../../../../data/enwiki_city_pairs_lemmatised/VERB_SPACY_LARGE/biggest_cities_20\\VERB__lisbon_naples__.pickle\n",
      "\n",
      "106 ../../../../data/enwiki_city_pairs_lemmatised/VERB/biggest_cities_20\\VERB__lisbon_stuttgart__.pickle ../../../../data/enwiki_city_pairs_lemmatised/VERB_SPACY_LARGE/biggest_cities_20\\VERB__lisbon_stuttgart__.pickle\n",
      "\n",
      "107 ../../../../data/enwiki_city_pairs_lemmatised/VERB/biggest_cities_20\\VERB__lisbon_vienna__.pickle ../../../../data/enwiki_city_pairs_lemmatised/VERB_SPACY_LARGE/biggest_cities_20\\VERB__lisbon_vienna__.pickle\n",
      "\n",
      "108 ../../../../data/enwiki_city_pairs_lemmatised/VERB/biggest_cities_20\\VERB__lisbon_warsaw__.pickle ../../../../data/enwiki_city_pairs_lemmatised/VERB_SPACY_LARGE/biggest_cities_20\\VERB__lisbon_warsaw__.pickle\n",
      "\n",
      "109 ../../../../data/enwiki_city_pairs_lemmatised/VERB/biggest_cities_20\\VERB__london_bucharest__.pickle ../../../../data/enwiki_city_pairs_lemmatised/VERB_SPACY_LARGE/biggest_cities_20\\VERB__london_bucharest__.pickle\n",
      "\n",
      "110 ../../../../data/enwiki_city_pairs_lemmatised/VERB/biggest_cities_20\\VERB__london_budapest__.pickle ../../../../data/enwiki_city_pairs_lemmatised/VERB_SPACY_LARGE/biggest_cities_20\\VERB__london_budapest__.pickle\n",
      "\n",
      "111 ../../../../data/enwiki_city_pairs_lemmatised/VERB/biggest_cities_20\\VERB__london_hamburg__.pickle ../../../../data/enwiki_city_pairs_lemmatised/VERB_SPACY_LARGE/biggest_cities_20\\VERB__london_hamburg__.pickle\n",
      "\n",
      "112 ../../../../data/enwiki_city_pairs_lemmatised/VERB/biggest_cities_20\\VERB__london_katowice__.pickle ../../../../data/enwiki_city_pairs_lemmatised/VERB_SPACY_LARGE/biggest_cities_20\\VERB__london_katowice__.pickle\n",
      "\n",
      "113 ../../../../data/enwiki_city_pairs_lemmatised/VERB/biggest_cities_20\\VERB__london_manchester__.pickle ../../../../data/enwiki_city_pairs_lemmatised/VERB_SPACY_LARGE/biggest_cities_20\\VERB__london_manchester__.pickle\n",
      "\n",
      "114 ../../../../data/enwiki_city_pairs_lemmatised/VERB/biggest_cities_20\\VERB__london_munich__.pickle ../../../../data/enwiki_city_pairs_lemmatised/VERB_SPACY_LARGE/biggest_cities_20\\VERB__london_munich__.pickle\n",
      "\n",
      "115 ../../../../data/enwiki_city_pairs_lemmatised/VERB/biggest_cities_20\\VERB__london_naples__.pickle ../../../../data/enwiki_city_pairs_lemmatised/VERB_SPACY_LARGE/biggest_cities_20\\VERB__london_naples__.pickle\n",
      "\n",
      "116 ../../../../data/enwiki_city_pairs_lemmatised/VERB/biggest_cities_20\\VERB__london_stuttgart__.pickle ../../../../data/enwiki_city_pairs_lemmatised/VERB_SPACY_LARGE/biggest_cities_20\\VERB__london_stuttgart__.pickle\n",
      "\n",
      "117 ../../../../data/enwiki_city_pairs_lemmatised/VERB/biggest_cities_20\\VERB__london_vienna__.pickle ../../../../data/enwiki_city_pairs_lemmatised/VERB_SPACY_LARGE/biggest_cities_20\\VERB__london_vienna__.pickle\n",
      "\n",
      "118 ../../../../data/enwiki_city_pairs_lemmatised/VERB/biggest_cities_20\\VERB__london_warsaw__.pickle ../../../../data/enwiki_city_pairs_lemmatised/VERB_SPACY_LARGE/biggest_cities_20\\VERB__london_warsaw__.pickle\n",
      "\n"
     ]
    },
    {
     "name": "stdout",
     "output_type": "stream",
     "text": [
      "119 ../../../../data/enwiki_city_pairs_lemmatised/VERB/biggest_cities_20\\VERB__madrid_bucharest__.pickle ../../../../data/enwiki_city_pairs_lemmatised/VERB_SPACY_LARGE/biggest_cities_20\\VERB__madrid_bucharest__.pickle\n",
      "\n",
      "120 ../../../../data/enwiki_city_pairs_lemmatised/VERB/biggest_cities_20\\VERB__madrid_budapest__.pickle ../../../../data/enwiki_city_pairs_lemmatised/VERB_SPACY_LARGE/biggest_cities_20\\VERB__madrid_budapest__.pickle\n",
      "\n",
      "121 ../../../../data/enwiki_city_pairs_lemmatised/VERB/biggest_cities_20\\VERB__madrid_hamburg__.pickle ../../../../data/enwiki_city_pairs_lemmatised/VERB_SPACY_LARGE/biggest_cities_20\\VERB__madrid_hamburg__.pickle\n",
      "\n",
      "122 ../../../../data/enwiki_city_pairs_lemmatised/VERB/biggest_cities_20\\VERB__madrid_katowice__.pickle ../../../../data/enwiki_city_pairs_lemmatised/VERB_SPACY_LARGE/biggest_cities_20\\VERB__madrid_katowice__.pickle\n",
      "\n",
      "123 ../../../../data/enwiki_city_pairs_lemmatised/VERB/biggest_cities_20\\VERB__madrid_manchester__.pickle ../../../../data/enwiki_city_pairs_lemmatised/VERB_SPACY_LARGE/biggest_cities_20\\VERB__madrid_manchester__.pickle\n",
      "\n",
      "124 ../../../../data/enwiki_city_pairs_lemmatised/VERB/biggest_cities_20\\VERB__madrid_munich__.pickle ../../../../data/enwiki_city_pairs_lemmatised/VERB_SPACY_LARGE/biggest_cities_20\\VERB__madrid_munich__.pickle\n",
      "\n",
      "125 ../../../../data/enwiki_city_pairs_lemmatised/VERB/biggest_cities_20\\VERB__madrid_naples__.pickle ../../../../data/enwiki_city_pairs_lemmatised/VERB_SPACY_LARGE/biggest_cities_20\\VERB__madrid_naples__.pickle\n",
      "\n",
      "126 ../../../../data/enwiki_city_pairs_lemmatised/VERB/biggest_cities_20\\VERB__madrid_stuttgart__.pickle ../../../../data/enwiki_city_pairs_lemmatised/VERB_SPACY_LARGE/biggest_cities_20\\VERB__madrid_stuttgart__.pickle\n",
      "\n",
      "127 ../../../../data/enwiki_city_pairs_lemmatised/VERB/biggest_cities_20\\VERB__madrid_vienna__.pickle ../../../../data/enwiki_city_pairs_lemmatised/VERB_SPACY_LARGE/biggest_cities_20\\VERB__madrid_vienna__.pickle\n",
      "\n",
      "128 ../../../../data/enwiki_city_pairs_lemmatised/VERB/biggest_cities_20\\VERB__madrid_warsaw__.pickle ../../../../data/enwiki_city_pairs_lemmatised/VERB_SPACY_LARGE/biggest_cities_20\\VERB__madrid_warsaw__.pickle\n",
      "\n",
      "129 ../../../../data/enwiki_city_pairs_lemmatised/VERB/biggest_cities_20\\VERB__manchester_bucharest__.pickle ../../../../data/enwiki_city_pairs_lemmatised/VERB_SPACY_LARGE/biggest_cities_20\\VERB__manchester_bucharest__.pickle\n",
      "\n",
      "130 ../../../../data/enwiki_city_pairs_lemmatised/VERB/biggest_cities_20\\VERB__manchester_budapest__.pickle ../../../../data/enwiki_city_pairs_lemmatised/VERB_SPACY_LARGE/biggest_cities_20\\VERB__manchester_budapest__.pickle\n",
      "\n",
      "131 ../../../../data/enwiki_city_pairs_lemmatised/VERB/biggest_cities_20\\VERB__manchester_hamburg__.pickle ../../../../data/enwiki_city_pairs_lemmatised/VERB_SPACY_LARGE/biggest_cities_20\\VERB__manchester_hamburg__.pickle\n",
      "\n",
      "132 ../../../../data/enwiki_city_pairs_lemmatised/VERB/biggest_cities_20\\VERB__manchester_munich__.pickle ../../../../data/enwiki_city_pairs_lemmatised/VERB_SPACY_LARGE/biggest_cities_20\\VERB__manchester_munich__.pickle\n",
      "\n",
      "133 ../../../../data/enwiki_city_pairs_lemmatised/VERB/biggest_cities_20\\VERB__manchester_stuttgart__.pickle ../../../../data/enwiki_city_pairs_lemmatised/VERB_SPACY_LARGE/biggest_cities_20\\VERB__manchester_stuttgart__.pickle\n",
      "\n",
      "134 ../../../../data/enwiki_city_pairs_lemmatised/VERB/biggest_cities_20\\VERB__manchester_vienna__.pickle ../../../../data/enwiki_city_pairs_lemmatised/VERB_SPACY_LARGE/biggest_cities_20\\VERB__manchester_vienna__.pickle\n",
      "\n",
      "135 ../../../../data/enwiki_city_pairs_lemmatised/VERB/biggest_cities_20\\VERB__manchester_warsaw__.pickle ../../../../data/enwiki_city_pairs_lemmatised/VERB_SPACY_LARGE/biggest_cities_20\\VERB__manchester_warsaw__.pickle\n",
      "\n",
      "136 ../../../../data/enwiki_city_pairs_lemmatised/VERB/biggest_cities_20\\VERB__milan_bucharest__.pickle ../../../../data/enwiki_city_pairs_lemmatised/VERB_SPACY_LARGE/biggest_cities_20\\VERB__milan_bucharest__.pickle\n",
      "\n",
      "137 ../../../../data/enwiki_city_pairs_lemmatised/VERB/biggest_cities_20\\VERB__milan_budapest__.pickle ../../../../data/enwiki_city_pairs_lemmatised/VERB_SPACY_LARGE/biggest_cities_20\\VERB__milan_budapest__.pickle\n",
      "\n",
      "138 ../../../../data/enwiki_city_pairs_lemmatised/VERB/biggest_cities_20\\VERB__milan_hamburg__.pickle ../../../../data/enwiki_city_pairs_lemmatised/VERB_SPACY_LARGE/biggest_cities_20\\VERB__milan_hamburg__.pickle\n",
      "\n",
      "139 ../../../../data/enwiki_city_pairs_lemmatised/VERB/biggest_cities_20\\VERB__milan_katowice__.pickle ../../../../data/enwiki_city_pairs_lemmatised/VERB_SPACY_LARGE/biggest_cities_20\\VERB__milan_katowice__.pickle\n",
      "\n",
      "140 ../../../../data/enwiki_city_pairs_lemmatised/VERB/biggest_cities_20\\VERB__milan_manchester__.pickle ../../../../data/enwiki_city_pairs_lemmatised/VERB_SPACY_LARGE/biggest_cities_20\\VERB__milan_manchester__.pickle\n",
      "\n",
      "141 ../../../../data/enwiki_city_pairs_lemmatised/VERB/biggest_cities_20\\VERB__milan_munich__.pickle ../../../../data/enwiki_city_pairs_lemmatised/VERB_SPACY_LARGE/biggest_cities_20\\VERB__milan_munich__.pickle\n",
      "\n",
      "142 ../../../../data/enwiki_city_pairs_lemmatised/VERB/biggest_cities_20\\VERB__milan_naples__.pickle ../../../../data/enwiki_city_pairs_lemmatised/VERB_SPACY_LARGE/biggest_cities_20\\VERB__milan_naples__.pickle\n",
      "\n",
      "143 ../../../../data/enwiki_city_pairs_lemmatised/VERB/biggest_cities_20\\VERB__milan_stuttgart__.pickle ../../../../data/enwiki_city_pairs_lemmatised/VERB_SPACY_LARGE/biggest_cities_20\\VERB__milan_stuttgart__.pickle\n",
      "\n",
      "144 ../../../../data/enwiki_city_pairs_lemmatised/VERB/biggest_cities_20\\VERB__milan_vienna__.pickle ../../../../data/enwiki_city_pairs_lemmatised/VERB_SPACY_LARGE/biggest_cities_20\\VERB__milan_vienna__.pickle\n",
      "\n",
      "145 ../../../../data/enwiki_city_pairs_lemmatised/VERB/biggest_cities_20\\VERB__milan_warsaw__.pickle ../../../../data/enwiki_city_pairs_lemmatised/VERB_SPACY_LARGE/biggest_cities_20\\VERB__milan_warsaw__.pickle\n",
      "\n",
      "146 ../../../../data/enwiki_city_pairs_lemmatised/VERB/biggest_cities_20\\VERB__naples_bucharest__.pickle ../../../../data/enwiki_city_pairs_lemmatised/VERB_SPACY_LARGE/biggest_cities_20\\VERB__naples_bucharest__.pickle\n",
      "\n",
      "147 ../../../../data/enwiki_city_pairs_lemmatised/VERB/biggest_cities_20\\VERB__naples_budapest__.pickle ../../../../data/enwiki_city_pairs_lemmatised/VERB_SPACY_LARGE/biggest_cities_20\\VERB__naples_budapest__.pickle\n",
      "\n",
      "148 ../../../../data/enwiki_city_pairs_lemmatised/VERB/biggest_cities_20\\VERB__naples_hamburg__.pickle ../../../../data/enwiki_city_pairs_lemmatised/VERB_SPACY_LARGE/biggest_cities_20\\VERB__naples_hamburg__.pickle\n",
      "\n",
      "149 ../../../../data/enwiki_city_pairs_lemmatised/VERB/biggest_cities_20\\VERB__naples_katowice__.pickle ../../../../data/enwiki_city_pairs_lemmatised/VERB_SPACY_LARGE/biggest_cities_20\\VERB__naples_katowice__.pickle\n",
      "\n",
      "150 ../../../../data/enwiki_city_pairs_lemmatised/VERB/biggest_cities_20\\VERB__naples_manchester__.pickle ../../../../data/enwiki_city_pairs_lemmatised/VERB_SPACY_LARGE/biggest_cities_20\\VERB__naples_manchester__.pickle\n",
      "\n",
      "151 ../../../../data/enwiki_city_pairs_lemmatised/VERB/biggest_cities_20\\VERB__naples_munich__.pickle ../../../../data/enwiki_city_pairs_lemmatised/VERB_SPACY_LARGE/biggest_cities_20\\VERB__naples_munich__.pickle\n",
      "\n",
      "152 ../../../../data/enwiki_city_pairs_lemmatised/VERB/biggest_cities_20\\VERB__naples_stuttgart__.pickle ../../../../data/enwiki_city_pairs_lemmatised/VERB_SPACY_LARGE/biggest_cities_20\\VERB__naples_stuttgart__.pickle\n",
      "\n",
      "153 ../../../../data/enwiki_city_pairs_lemmatised/VERB/biggest_cities_20\\VERB__naples_vienna__.pickle ../../../../data/enwiki_city_pairs_lemmatised/VERB_SPACY_LARGE/biggest_cities_20\\VERB__naples_vienna__.pickle\n",
      "\n",
      "154 ../../../../data/enwiki_city_pairs_lemmatised/VERB/biggest_cities_20\\VERB__naples_warsaw__.pickle ../../../../data/enwiki_city_pairs_lemmatised/VERB_SPACY_LARGE/biggest_cities_20\\VERB__naples_warsaw__.pickle\n",
      "\n",
      "155 ../../../../data/enwiki_city_pairs_lemmatised/VERB/biggest_cities_20\\VERB__paris_bucharest__.pickle ../../../../data/enwiki_city_pairs_lemmatised/VERB_SPACY_LARGE/biggest_cities_20\\VERB__paris_bucharest__.pickle\n",
      "\n",
      "156 ../../../../data/enwiki_city_pairs_lemmatised/VERB/biggest_cities_20\\VERB__paris_budapest__.pickle ../../../../data/enwiki_city_pairs_lemmatised/VERB_SPACY_LARGE/biggest_cities_20\\VERB__paris_budapest__.pickle\n",
      "\n",
      "157 ../../../../data/enwiki_city_pairs_lemmatised/VERB/biggest_cities_20\\VERB__paris_hamburg__.pickle ../../../../data/enwiki_city_pairs_lemmatised/VERB_SPACY_LARGE/biggest_cities_20\\VERB__paris_hamburg__.pickle\n",
      "\n",
      "158 ../../../../data/enwiki_city_pairs_lemmatised/VERB/biggest_cities_20\\VERB__paris_katowice__.pickle ../../../../data/enwiki_city_pairs_lemmatised/VERB_SPACY_LARGE/biggest_cities_20\\VERB__paris_katowice__.pickle\n",
      "\n",
      "159 ../../../../data/enwiki_city_pairs_lemmatised/VERB/biggest_cities_20\\VERB__paris_manchester__.pickle ../../../../data/enwiki_city_pairs_lemmatised/VERB_SPACY_LARGE/biggest_cities_20\\VERB__paris_manchester__.pickle\n",
      "\n",
      "160 ../../../../data/enwiki_city_pairs_lemmatised/VERB/biggest_cities_20\\VERB__paris_munich__.pickle ../../../../data/enwiki_city_pairs_lemmatised/VERB_SPACY_LARGE/biggest_cities_20\\VERB__paris_munich__.pickle\n",
      "\n"
     ]
    },
    {
     "name": "stdout",
     "output_type": "stream",
     "text": [
      "161 ../../../../data/enwiki_city_pairs_lemmatised/VERB/biggest_cities_20\\VERB__paris_naples__.pickle ../../../../data/enwiki_city_pairs_lemmatised/VERB_SPACY_LARGE/biggest_cities_20\\VERB__paris_naples__.pickle\n",
      "\n",
      "162 ../../../../data/enwiki_city_pairs_lemmatised/VERB/biggest_cities_20\\VERB__paris_stuttgart__.pickle ../../../../data/enwiki_city_pairs_lemmatised/VERB_SPACY_LARGE/biggest_cities_20\\VERB__paris_stuttgart__.pickle\n",
      "\n",
      "163 ../../../../data/enwiki_city_pairs_lemmatised/VERB/biggest_cities_20\\VERB__paris_vienna__.pickle ../../../../data/enwiki_city_pairs_lemmatised/VERB_SPACY_LARGE/biggest_cities_20\\VERB__paris_vienna__.pickle\n",
      "\n",
      "164 ../../../../data/enwiki_city_pairs_lemmatised/VERB/biggest_cities_20\\VERB__paris_warsaw__.pickle ../../../../data/enwiki_city_pairs_lemmatised/VERB_SPACY_LARGE/biggest_cities_20\\VERB__paris_warsaw__.pickle\n",
      "\n",
      "165 ../../../../data/enwiki_city_pairs_lemmatised/VERB/biggest_cities_20\\VERB__rome_bucharest__.pickle ../../../../data/enwiki_city_pairs_lemmatised/VERB_SPACY_LARGE/biggest_cities_20\\VERB__rome_bucharest__.pickle\n",
      "\n",
      "166 ../../../../data/enwiki_city_pairs_lemmatised/VERB/biggest_cities_20\\VERB__rome_budapest__.pickle ../../../../data/enwiki_city_pairs_lemmatised/VERB_SPACY_LARGE/biggest_cities_20\\VERB__rome_budapest__.pickle\n",
      "\n",
      "167 ../../../../data/enwiki_city_pairs_lemmatised/VERB/biggest_cities_20\\VERB__rome_hamburg__.pickle ../../../../data/enwiki_city_pairs_lemmatised/VERB_SPACY_LARGE/biggest_cities_20\\VERB__rome_hamburg__.pickle\n",
      "\n",
      "168 ../../../../data/enwiki_city_pairs_lemmatised/VERB/biggest_cities_20\\VERB__rome_katowice__.pickle ../../../../data/enwiki_city_pairs_lemmatised/VERB_SPACY_LARGE/biggest_cities_20\\VERB__rome_katowice__.pickle\n",
      "\n",
      "169 ../../../../data/enwiki_city_pairs_lemmatised/VERB/biggest_cities_20\\VERB__rome_manchester__.pickle ../../../../data/enwiki_city_pairs_lemmatised/VERB_SPACY_LARGE/biggest_cities_20\\VERB__rome_manchester__.pickle\n",
      "\n",
      "170 ../../../../data/enwiki_city_pairs_lemmatised/VERB/biggest_cities_20\\VERB__rome_munich__.pickle ../../../../data/enwiki_city_pairs_lemmatised/VERB_SPACY_LARGE/biggest_cities_20\\VERB__rome_munich__.pickle\n",
      "\n",
      "171 ../../../../data/enwiki_city_pairs_lemmatised/VERB/biggest_cities_20\\VERB__rome_naples__.pickle ../../../../data/enwiki_city_pairs_lemmatised/VERB_SPACY_LARGE/biggest_cities_20\\VERB__rome_naples__.pickle\n",
      "\n",
      "172 ../../../../data/enwiki_city_pairs_lemmatised/VERB/biggest_cities_20\\VERB__rome_stuttgart__.pickle ../../../../data/enwiki_city_pairs_lemmatised/VERB_SPACY_LARGE/biggest_cities_20\\VERB__rome_stuttgart__.pickle\n",
      "\n",
      "173 ../../../../data/enwiki_city_pairs_lemmatised/VERB/biggest_cities_20\\VERB__rome_vienna__.pickle ../../../../data/enwiki_city_pairs_lemmatised/VERB_SPACY_LARGE/biggest_cities_20\\VERB__rome_vienna__.pickle\n",
      "\n",
      "174 ../../../../data/enwiki_city_pairs_lemmatised/VERB/biggest_cities_20\\VERB__rome_warsaw__.pickle ../../../../data/enwiki_city_pairs_lemmatised/VERB_SPACY_LARGE/biggest_cities_20\\VERB__rome_warsaw__.pickle\n",
      "\n",
      "175 ../../../../data/enwiki_city_pairs_lemmatised/VERB/biggest_cities_20\\VERB__stuttgart_munich__.pickle ../../../../data/enwiki_city_pairs_lemmatised/VERB_SPACY_LARGE/biggest_cities_20\\VERB__stuttgart_munich__.pickle\n",
      "\n",
      "176 ../../../../data/enwiki_city_pairs_lemmatised/VERB/biggest_cities_20\\VERB__stuttgart_vienna__.pickle ../../../../data/enwiki_city_pairs_lemmatised/VERB_SPACY_LARGE/biggest_cities_20\\VERB__stuttgart_vienna__.pickle\n",
      "\n",
      "177 ../../../../data/enwiki_city_pairs_lemmatised/VERB/biggest_cities_20\\VERB__vienna_munich__.pickle ../../../../data/enwiki_city_pairs_lemmatised/VERB_SPACY_LARGE/biggest_cities_20\\VERB__vienna_munich__.pickle\n",
      "\n",
      "178 ../../../../data/enwiki_city_pairs_lemmatised/VERB/biggest_cities_20\\VERB__warsaw_munich__.pickle ../../../../data/enwiki_city_pairs_lemmatised/VERB_SPACY_LARGE/biggest_cities_20\\VERB__warsaw_munich__.pickle\n",
      "\n",
      "179 ../../../../data/enwiki_city_pairs_lemmatised/VERB/biggest_cities_20\\VERB__warsaw_stuttgart__.pickle ../../../../data/enwiki_city_pairs_lemmatised/VERB_SPACY_LARGE/biggest_cities_20\\VERB__warsaw_stuttgart__.pickle\n",
      "\n",
      "180 ../../../../data/enwiki_city_pairs_lemmatised/VERB/biggest_cities_20\\VERB__warsaw_vienna__.pickle ../../../../data/enwiki_city_pairs_lemmatised/VERB_SPACY_LARGE/biggest_cities_20\\VERB__warsaw_vienna__.pickle\n",
      "\n",
      "181 ../../../../data/enwiki_city_pairs_lemmatised/VERB/biggest_cities_30\\VERB__athens_brussels__.pickle ../../../../data/enwiki_city_pairs_lemmatised/VERB_SPACY_LARGE/biggest_cities_30\\VERB__athens_brussels__.pickle\n",
      "\n",
      "182 ../../../../data/enwiki_city_pairs_lemmatised/VERB/biggest_cities_30\\VERB__athens_cologne__.pickle ../../../../data/enwiki_city_pairs_lemmatised/VERB_SPACY_LARGE/biggest_cities_30\\VERB__athens_cologne__.pickle\n",
      "\n",
      "183 ../../../../data/enwiki_city_pairs_lemmatised/VERB/biggest_cities_30\\VERB__athens_copenhagen__.pickle ../../../../data/enwiki_city_pairs_lemmatised/VERB_SPACY_LARGE/biggest_cities_30\\VERB__athens_copenhagen__.pickle\n",
      "\n",
      "184 ../../../../data/enwiki_city_pairs_lemmatised/VERB/biggest_cities_30\\VERB__athens_frankfurt__.pickle ../../../../data/enwiki_city_pairs_lemmatised/VERB_SPACY_LARGE/biggest_cities_30\\VERB__athens_frankfurt__.pickle\n",
      "\n",
      "185 ../../../../data/enwiki_city_pairs_lemmatised/VERB/biggest_cities_30\\VERB__athens_glasgow__.pickle ../../../../data/enwiki_city_pairs_lemmatised/VERB_SPACY_LARGE/biggest_cities_30\\VERB__athens_glasgow__.pickle\n",
      "\n",
      "186 ../../../../data/enwiki_city_pairs_lemmatised/VERB/biggest_cities_30\\VERB__athens_lyon__.pickle ../../../../data/enwiki_city_pairs_lemmatised/VERB_SPACY_LARGE/biggest_cities_30\\VERB__athens_lyon__.pickle\n",
      "\n",
      "187 ../../../../data/enwiki_city_pairs_lemmatised/VERB/biggest_cities_30\\VERB__athens_prague__.pickle ../../../../data/enwiki_city_pairs_lemmatised/VERB_SPACY_LARGE/biggest_cities_30\\VERB__athens_prague__.pickle\n",
      "\n",
      "188 ../../../../data/enwiki_city_pairs_lemmatised/VERB/biggest_cities_30\\VERB__athens_stockholm__.pickle ../../../../data/enwiki_city_pairs_lemmatised/VERB_SPACY_LARGE/biggest_cities_30\\VERB__athens_stockholm__.pickle\n",
      "\n",
      "189 ../../../../data/enwiki_city_pairs_lemmatised/VERB/biggest_cities_30\\VERB__athens_turin__.pickle ../../../../data/enwiki_city_pairs_lemmatised/VERB_SPACY_LARGE/biggest_cities_30\\VERB__athens_turin__.pickle\n",
      "\n",
      "190 ../../../../data/enwiki_city_pairs_lemmatised/VERB/biggest_cities_30\\VERB__athens_valencia__.pickle ../../../../data/enwiki_city_pairs_lemmatised/VERB_SPACY_LARGE/biggest_cities_30\\VERB__athens_valencia__.pickle\n",
      "\n",
      "191 ../../../../data/enwiki_city_pairs_lemmatised/VERB/biggest_cities_30\\VERB__barcelona_brussels__.pickle ../../../../data/enwiki_city_pairs_lemmatised/VERB_SPACY_LARGE/biggest_cities_30\\VERB__barcelona_brussels__.pickle\n",
      "\n",
      "192 ../../../../data/enwiki_city_pairs_lemmatised/VERB/biggest_cities_30\\VERB__barcelona_cologne__.pickle ../../../../data/enwiki_city_pairs_lemmatised/VERB_SPACY_LARGE/biggest_cities_30\\VERB__barcelona_cologne__.pickle\n",
      "\n",
      "193 ../../../../data/enwiki_city_pairs_lemmatised/VERB/biggest_cities_30\\VERB__barcelona_copenhagen__.pickle ../../../../data/enwiki_city_pairs_lemmatised/VERB_SPACY_LARGE/biggest_cities_30\\VERB__barcelona_copenhagen__.pickle\n",
      "\n",
      "194 ../../../../data/enwiki_city_pairs_lemmatised/VERB/biggest_cities_30\\VERB__barcelona_frankfurt__.pickle ../../../../data/enwiki_city_pairs_lemmatised/VERB_SPACY_LARGE/biggest_cities_30\\VERB__barcelona_frankfurt__.pickle\n",
      "\n",
      "195 ../../../../data/enwiki_city_pairs_lemmatised/VERB/biggest_cities_30\\VERB__barcelona_glasgow__.pickle ../../../../data/enwiki_city_pairs_lemmatised/VERB_SPACY_LARGE/biggest_cities_30\\VERB__barcelona_glasgow__.pickle\n",
      "\n",
      "196 ../../../../data/enwiki_city_pairs_lemmatised/VERB/biggest_cities_30\\VERB__barcelona_lyon__.pickle ../../../../data/enwiki_city_pairs_lemmatised/VERB_SPACY_LARGE/biggest_cities_30\\VERB__barcelona_lyon__.pickle\n",
      "\n",
      "197 ../../../../data/enwiki_city_pairs_lemmatised/VERB/biggest_cities_30\\VERB__barcelona_prague__.pickle ../../../../data/enwiki_city_pairs_lemmatised/VERB_SPACY_LARGE/biggest_cities_30\\VERB__barcelona_prague__.pickle\n",
      "\n",
      "198 ../../../../data/enwiki_city_pairs_lemmatised/VERB/biggest_cities_30\\VERB__barcelona_stockholm__.pickle ../../../../data/enwiki_city_pairs_lemmatised/VERB_SPACY_LARGE/biggest_cities_30\\VERB__barcelona_stockholm__.pickle\n",
      "\n",
      "199 ../../../../data/enwiki_city_pairs_lemmatised/VERB/biggest_cities_30\\VERB__barcelona_turin__.pickle ../../../../data/enwiki_city_pairs_lemmatised/VERB_SPACY_LARGE/biggest_cities_30\\VERB__barcelona_turin__.pickle\n",
      "\n",
      "200 ../../../../data/enwiki_city_pairs_lemmatised/VERB/biggest_cities_30\\VERB__barcelona_valencia__.pickle ../../../../data/enwiki_city_pairs_lemmatised/VERB_SPACY_LARGE/biggest_cities_30\\VERB__barcelona_valencia__.pickle\n",
      "\n"
     ]
    },
    {
     "name": "stdout",
     "output_type": "stream",
     "text": [
      "201 ../../../../data/enwiki_city_pairs_lemmatised/VERB/biggest_cities_30\\VERB__berlin_brussels__.pickle ../../../../data/enwiki_city_pairs_lemmatised/VERB_SPACY_LARGE/biggest_cities_30\\VERB__berlin_brussels__.pickle\n",
      "\n",
      "202 ../../../../data/enwiki_city_pairs_lemmatised/VERB/biggest_cities_30\\VERB__berlin_cologne__.pickle ../../../../data/enwiki_city_pairs_lemmatised/VERB_SPACY_LARGE/biggest_cities_30\\VERB__berlin_cologne__.pickle\n",
      "\n",
      "203 ../../../../data/enwiki_city_pairs_lemmatised/VERB/biggest_cities_30\\VERB__berlin_copenhagen__.pickle ../../../../data/enwiki_city_pairs_lemmatised/VERB_SPACY_LARGE/biggest_cities_30\\VERB__berlin_copenhagen__.pickle\n",
      "\n",
      "204 ../../../../data/enwiki_city_pairs_lemmatised/VERB/biggest_cities_30\\VERB__berlin_frankfurt__.pickle ../../../../data/enwiki_city_pairs_lemmatised/VERB_SPACY_LARGE/biggest_cities_30\\VERB__berlin_frankfurt__.pickle\n",
      "\n",
      "205 ../../../../data/enwiki_city_pairs_lemmatised/VERB/biggest_cities_30\\VERB__berlin_glasgow__.pickle ../../../../data/enwiki_city_pairs_lemmatised/VERB_SPACY_LARGE/biggest_cities_30\\VERB__berlin_glasgow__.pickle\n",
      "\n",
      "206 ../../../../data/enwiki_city_pairs_lemmatised/VERB/biggest_cities_30\\VERB__berlin_lyon__.pickle ../../../../data/enwiki_city_pairs_lemmatised/VERB_SPACY_LARGE/biggest_cities_30\\VERB__berlin_lyon__.pickle\n",
      "\n",
      "207 ../../../../data/enwiki_city_pairs_lemmatised/VERB/biggest_cities_30\\VERB__berlin_prague__.pickle ../../../../data/enwiki_city_pairs_lemmatised/VERB_SPACY_LARGE/biggest_cities_30\\VERB__berlin_prague__.pickle\n",
      "\n",
      "208 ../../../../data/enwiki_city_pairs_lemmatised/VERB/biggest_cities_30\\VERB__berlin_stockholm__.pickle ../../../../data/enwiki_city_pairs_lemmatised/VERB_SPACY_LARGE/biggest_cities_30\\VERB__berlin_stockholm__.pickle\n",
      "\n",
      "209 ../../../../data/enwiki_city_pairs_lemmatised/VERB/biggest_cities_30\\VERB__berlin_turin__.pickle ../../../../data/enwiki_city_pairs_lemmatised/VERB_SPACY_LARGE/biggest_cities_30\\VERB__berlin_turin__.pickle\n",
      "\n",
      "210 ../../../../data/enwiki_city_pairs_lemmatised/VERB/biggest_cities_30\\VERB__berlin_valencia__.pickle ../../../../data/enwiki_city_pairs_lemmatised/VERB_SPACY_LARGE/biggest_cities_30\\VERB__berlin_valencia__.pickle\n",
      "\n",
      "211 ../../../../data/enwiki_city_pairs_lemmatised/VERB/biggest_cities_30\\VERB__birmingham_brussels__.pickle ../../../../data/enwiki_city_pairs_lemmatised/VERB_SPACY_LARGE/biggest_cities_30\\VERB__birmingham_brussels__.pickle\n",
      "\n",
      "212 ../../../../data/enwiki_city_pairs_lemmatised/VERB/biggest_cities_30\\VERB__birmingham_cologne__.pickle ../../../../data/enwiki_city_pairs_lemmatised/VERB_SPACY_LARGE/biggest_cities_30\\VERB__birmingham_cologne__.pickle\n",
      "\n",
      "213 ../../../../data/enwiki_city_pairs_lemmatised/VERB/biggest_cities_30\\VERB__birmingham_copenhagen__.pickle ../../../../data/enwiki_city_pairs_lemmatised/VERB_SPACY_LARGE/biggest_cities_30\\VERB__birmingham_copenhagen__.pickle\n",
      "\n",
      "214 ../../../../data/enwiki_city_pairs_lemmatised/VERB/biggest_cities_30\\VERB__birmingham_frankfurt__.pickle ../../../../data/enwiki_city_pairs_lemmatised/VERB_SPACY_LARGE/biggest_cities_30\\VERB__birmingham_frankfurt__.pickle\n",
      "\n",
      "215 ../../../../data/enwiki_city_pairs_lemmatised/VERB/biggest_cities_30\\VERB__birmingham_glasgow__.pickle ../../../../data/enwiki_city_pairs_lemmatised/VERB_SPACY_LARGE/biggest_cities_30\\VERB__birmingham_glasgow__.pickle\n",
      "\n",
      "216 ../../../../data/enwiki_city_pairs_lemmatised/VERB/biggest_cities_30\\VERB__birmingham_lyon__.pickle ../../../../data/enwiki_city_pairs_lemmatised/VERB_SPACY_LARGE/biggest_cities_30\\VERB__birmingham_lyon__.pickle\n",
      "\n",
      "217 ../../../../data/enwiki_city_pairs_lemmatised/VERB/biggest_cities_30\\VERB__birmingham_prague__.pickle ../../../../data/enwiki_city_pairs_lemmatised/VERB_SPACY_LARGE/biggest_cities_30\\VERB__birmingham_prague__.pickle\n",
      "\n",
      "218 ../../../../data/enwiki_city_pairs_lemmatised/VERB/biggest_cities_30\\VERB__birmingham_stockholm__.pickle ../../../../data/enwiki_city_pairs_lemmatised/VERB_SPACY_LARGE/biggest_cities_30\\VERB__birmingham_stockholm__.pickle\n",
      "\n",
      "219 ../../../../data/enwiki_city_pairs_lemmatised/VERB/biggest_cities_30\\VERB__birmingham_turin__.pickle ../../../../data/enwiki_city_pairs_lemmatised/VERB_SPACY_LARGE/biggest_cities_30\\VERB__birmingham_turin__.pickle\n",
      "\n",
      "220 ../../../../data/enwiki_city_pairs_lemmatised/VERB/biggest_cities_30\\VERB__birmingham_valencia__.pickle ../../../../data/enwiki_city_pairs_lemmatised/VERB_SPACY_LARGE/biggest_cities_30\\VERB__birmingham_valencia__.pickle\n",
      "\n",
      "221 ../../../../data/enwiki_city_pairs_lemmatised/VERB/biggest_cities_30\\VERB__brussels_cologne__.pickle ../../../../data/enwiki_city_pairs_lemmatised/VERB_SPACY_LARGE/biggest_cities_30\\VERB__brussels_cologne__.pickle\n",
      "\n",
      "222 ../../../../data/enwiki_city_pairs_lemmatised/VERB/biggest_cities_30\\VERB__brussels_copenhagen__.pickle ../../../../data/enwiki_city_pairs_lemmatised/VERB_SPACY_LARGE/biggest_cities_30\\VERB__brussels_copenhagen__.pickle\n",
      "\n",
      "223 ../../../../data/enwiki_city_pairs_lemmatised/VERB/biggest_cities_30\\VERB__brussels_frankfurt__.pickle ../../../../data/enwiki_city_pairs_lemmatised/VERB_SPACY_LARGE/biggest_cities_30\\VERB__brussels_frankfurt__.pickle\n",
      "\n",
      "224 ../../../../data/enwiki_city_pairs_lemmatised/VERB/biggest_cities_30\\VERB__brussels_glasgow__.pickle ../../../../data/enwiki_city_pairs_lemmatised/VERB_SPACY_LARGE/biggest_cities_30\\VERB__brussels_glasgow__.pickle\n",
      "\n",
      "225 ../../../../data/enwiki_city_pairs_lemmatised/VERB/biggest_cities_30\\VERB__brussels_lyon__.pickle ../../../../data/enwiki_city_pairs_lemmatised/VERB_SPACY_LARGE/biggest_cities_30\\VERB__brussels_lyon__.pickle\n",
      "\n",
      "226 ../../../../data/enwiki_city_pairs_lemmatised/VERB/biggest_cities_30\\VERB__brussels_prague__.pickle ../../../../data/enwiki_city_pairs_lemmatised/VERB_SPACY_LARGE/biggest_cities_30\\VERB__brussels_prague__.pickle\n",
      "\n",
      "227 ../../../../data/enwiki_city_pairs_lemmatised/VERB/biggest_cities_30\\VERB__brussels_stockholm__.pickle ../../../../data/enwiki_city_pairs_lemmatised/VERB_SPACY_LARGE/biggest_cities_30\\VERB__brussels_stockholm__.pickle\n",
      "\n",
      "228 ../../../../data/enwiki_city_pairs_lemmatised/VERB/biggest_cities_30\\VERB__brussels_turin__.pickle ../../../../data/enwiki_city_pairs_lemmatised/VERB_SPACY_LARGE/biggest_cities_30\\VERB__brussels_turin__.pickle\n",
      "\n",
      "229 ../../../../data/enwiki_city_pairs_lemmatised/VERB/biggest_cities_30\\VERB__brussels_valencia__.pickle ../../../../data/enwiki_city_pairs_lemmatised/VERB_SPACY_LARGE/biggest_cities_30\\VERB__brussels_valencia__.pickle\n",
      "\n",
      "230 ../../../../data/enwiki_city_pairs_lemmatised/VERB/biggest_cities_30\\VERB__bucharest_brussels__.pickle ../../../../data/enwiki_city_pairs_lemmatised/VERB_SPACY_LARGE/biggest_cities_30\\VERB__bucharest_brussels__.pickle\n",
      "\n",
      "231 ../../../../data/enwiki_city_pairs_lemmatised/VERB/biggest_cities_30\\VERB__bucharest_cologne__.pickle ../../../../data/enwiki_city_pairs_lemmatised/VERB_SPACY_LARGE/biggest_cities_30\\VERB__bucharest_cologne__.pickle\n",
      "\n",
      "232 ../../../../data/enwiki_city_pairs_lemmatised/VERB/biggest_cities_30\\VERB__bucharest_copenhagen__.pickle ../../../../data/enwiki_city_pairs_lemmatised/VERB_SPACY_LARGE/biggest_cities_30\\VERB__bucharest_copenhagen__.pickle\n",
      "\n",
      "233 ../../../../data/enwiki_city_pairs_lemmatised/VERB/biggest_cities_30\\VERB__bucharest_frankfurt__.pickle ../../../../data/enwiki_city_pairs_lemmatised/VERB_SPACY_LARGE/biggest_cities_30\\VERB__bucharest_frankfurt__.pickle\n",
      "\n",
      "234 ../../../../data/enwiki_city_pairs_lemmatised/VERB/biggest_cities_30\\VERB__bucharest_glasgow__.pickle ../../../../data/enwiki_city_pairs_lemmatised/VERB_SPACY_LARGE/biggest_cities_30\\VERB__bucharest_glasgow__.pickle\n",
      "\n",
      "235 ../../../../data/enwiki_city_pairs_lemmatised/VERB/biggest_cities_30\\VERB__bucharest_lyon__.pickle ../../../../data/enwiki_city_pairs_lemmatised/VERB_SPACY_LARGE/biggest_cities_30\\VERB__bucharest_lyon__.pickle\n",
      "\n",
      "236 ../../../../data/enwiki_city_pairs_lemmatised/VERB/biggest_cities_30\\VERB__bucharest_prague__.pickle ../../../../data/enwiki_city_pairs_lemmatised/VERB_SPACY_LARGE/biggest_cities_30\\VERB__bucharest_prague__.pickle\n",
      "\n",
      "237 ../../../../data/enwiki_city_pairs_lemmatised/VERB/biggest_cities_30\\VERB__bucharest_stockholm__.pickle ../../../../data/enwiki_city_pairs_lemmatised/VERB_SPACY_LARGE/biggest_cities_30\\VERB__bucharest_stockholm__.pickle\n",
      "\n",
      "238 ../../../../data/enwiki_city_pairs_lemmatised/VERB/biggest_cities_30\\VERB__bucharest_turin__.pickle ../../../../data/enwiki_city_pairs_lemmatised/VERB_SPACY_LARGE/biggest_cities_30\\VERB__bucharest_turin__.pickle\n",
      "\n",
      "239 ../../../../data/enwiki_city_pairs_lemmatised/VERB/biggest_cities_30\\VERB__bucharest_valencia__.pickle ../../../../data/enwiki_city_pairs_lemmatised/VERB_SPACY_LARGE/biggest_cities_30\\VERB__bucharest_valencia__.pickle\n",
      "\n",
      "240 ../../../../data/enwiki_city_pairs_lemmatised/VERB/biggest_cities_30\\VERB__budapest_brussels__.pickle ../../../../data/enwiki_city_pairs_lemmatised/VERB_SPACY_LARGE/biggest_cities_30\\VERB__budapest_brussels__.pickle\n",
      "\n",
      "241 ../../../../data/enwiki_city_pairs_lemmatised/VERB/biggest_cities_30\\VERB__budapest_cologne__.pickle ../../../../data/enwiki_city_pairs_lemmatised/VERB_SPACY_LARGE/biggest_cities_30\\VERB__budapest_cologne__.pickle\n",
      "\n",
      "242 ../../../../data/enwiki_city_pairs_lemmatised/VERB/biggest_cities_30\\VERB__budapest_copenhagen__.pickle ../../../../data/enwiki_city_pairs_lemmatised/VERB_SPACY_LARGE/biggest_cities_30\\VERB__budapest_copenhagen__.pickle\n",
      "\n",
      "243 ../../../../data/enwiki_city_pairs_lemmatised/VERB/biggest_cities_30\\VERB__budapest_frankfurt__.pickle ../../../../data/enwiki_city_pairs_lemmatised/VERB_SPACY_LARGE/biggest_cities_30\\VERB__budapest_frankfurt__.pickle\n",
      "\n",
      "244 ../../../../data/enwiki_city_pairs_lemmatised/VERB/biggest_cities_30\\VERB__budapest_glasgow__.pickle ../../../../data/enwiki_city_pairs_lemmatised/VERB_SPACY_LARGE/biggest_cities_30\\VERB__budapest_glasgow__.pickle\n",
      "\n",
      "245 ../../../../data/enwiki_city_pairs_lemmatised/VERB/biggest_cities_30\\VERB__budapest_lyon__.pickle ../../../../data/enwiki_city_pairs_lemmatised/VERB_SPACY_LARGE/biggest_cities_30\\VERB__budapest_lyon__.pickle\n",
      "\n",
      "246 ../../../../data/enwiki_city_pairs_lemmatised/VERB/biggest_cities_30\\VERB__budapest_prague__.pickle ../../../../data/enwiki_city_pairs_lemmatised/VERB_SPACY_LARGE/biggest_cities_30\\VERB__budapest_prague__.pickle\n",
      "\n"
     ]
    },
    {
     "name": "stdout",
     "output_type": "stream",
     "text": [
      "247 ../../../../data/enwiki_city_pairs_lemmatised/VERB/biggest_cities_30\\VERB__budapest_stockholm__.pickle ../../../../data/enwiki_city_pairs_lemmatised/VERB_SPACY_LARGE/biggest_cities_30\\VERB__budapest_stockholm__.pickle\n",
      "\n",
      "248 ../../../../data/enwiki_city_pairs_lemmatised/VERB/biggest_cities_30\\VERB__budapest_turin__.pickle ../../../../data/enwiki_city_pairs_lemmatised/VERB_SPACY_LARGE/biggest_cities_30\\VERB__budapest_turin__.pickle\n",
      "\n",
      "249 ../../../../data/enwiki_city_pairs_lemmatised/VERB/biggest_cities_30\\VERB__budapest_valencia__.pickle ../../../../data/enwiki_city_pairs_lemmatised/VERB_SPACY_LARGE/biggest_cities_30\\VERB__budapest_valencia__.pickle\n",
      "\n",
      "250 ../../../../data/enwiki_city_pairs_lemmatised/VERB/biggest_cities_30\\VERB__cologne_copenhagen__.pickle ../../../../data/enwiki_city_pairs_lemmatised/VERB_SPACY_LARGE/biggest_cities_30\\VERB__cologne_copenhagen__.pickle\n",
      "\n",
      "251 ../../../../data/enwiki_city_pairs_lemmatised/VERB/biggest_cities_30\\VERB__cologne_glasgow__.pickle ../../../../data/enwiki_city_pairs_lemmatised/VERB_SPACY_LARGE/biggest_cities_30\\VERB__cologne_glasgow__.pickle\n",
      "\n",
      "252 ../../../../data/enwiki_city_pairs_lemmatised/VERB/biggest_cities_30\\VERB__cologne_lyon__.pickle ../../../../data/enwiki_city_pairs_lemmatised/VERB_SPACY_LARGE/biggest_cities_30\\VERB__cologne_lyon__.pickle\n",
      "\n",
      "253 ../../../../data/enwiki_city_pairs_lemmatised/VERB/biggest_cities_30\\VERB__cologne_prague__.pickle ../../../../data/enwiki_city_pairs_lemmatised/VERB_SPACY_LARGE/biggest_cities_30\\VERB__cologne_prague__.pickle\n",
      "\n",
      "254 ../../../../data/enwiki_city_pairs_lemmatised/VERB/biggest_cities_30\\VERB__cologne_turin__.pickle ../../../../data/enwiki_city_pairs_lemmatised/VERB_SPACY_LARGE/biggest_cities_30\\VERB__cologne_turin__.pickle\n",
      "\n",
      "255 ../../../../data/enwiki_city_pairs_lemmatised/VERB/biggest_cities_30\\VERB__cologne_valencia__.pickle ../../../../data/enwiki_city_pairs_lemmatised/VERB_SPACY_LARGE/biggest_cities_30\\VERB__cologne_valencia__.pickle\n",
      "\n",
      "256 ../../../../data/enwiki_city_pairs_lemmatised/VERB/biggest_cities_30\\VERB__copenhagen_glasgow__.pickle ../../../../data/enwiki_city_pairs_lemmatised/VERB_SPACY_LARGE/biggest_cities_30\\VERB__copenhagen_glasgow__.pickle\n",
      "\n",
      "257 ../../../../data/enwiki_city_pairs_lemmatised/VERB/biggest_cities_30\\VERB__copenhagen_lyon__.pickle ../../../../data/enwiki_city_pairs_lemmatised/VERB_SPACY_LARGE/biggest_cities_30\\VERB__copenhagen_lyon__.pickle\n",
      "\n",
      "258 ../../../../data/enwiki_city_pairs_lemmatised/VERB/biggest_cities_30\\VERB__copenhagen_prague__.pickle ../../../../data/enwiki_city_pairs_lemmatised/VERB_SPACY_LARGE/biggest_cities_30\\VERB__copenhagen_prague__.pickle\n",
      "\n",
      "259 ../../../../data/enwiki_city_pairs_lemmatised/VERB/biggest_cities_30\\VERB__copenhagen_turin__.pickle ../../../../data/enwiki_city_pairs_lemmatised/VERB_SPACY_LARGE/biggest_cities_30\\VERB__copenhagen_turin__.pickle\n",
      "\n",
      "260 ../../../../data/enwiki_city_pairs_lemmatised/VERB/biggest_cities_30\\VERB__copenhagen_valencia__.pickle ../../../../data/enwiki_city_pairs_lemmatised/VERB_SPACY_LARGE/biggest_cities_30\\VERB__copenhagen_valencia__.pickle\n",
      "\n",
      "261 ../../../../data/enwiki_city_pairs_lemmatised/VERB/biggest_cities_30\\VERB__frankfurt_cologne__.pickle ../../../../data/enwiki_city_pairs_lemmatised/VERB_SPACY_LARGE/biggest_cities_30\\VERB__frankfurt_cologne__.pickle\n",
      "\n",
      "262 ../../../../data/enwiki_city_pairs_lemmatised/VERB/biggest_cities_30\\VERB__frankfurt_copenhagen__.pickle ../../../../data/enwiki_city_pairs_lemmatised/VERB_SPACY_LARGE/biggest_cities_30\\VERB__frankfurt_copenhagen__.pickle\n",
      "\n",
      "263 ../../../../data/enwiki_city_pairs_lemmatised/VERB/biggest_cities_30\\VERB__frankfurt_glasgow__.pickle ../../../../data/enwiki_city_pairs_lemmatised/VERB_SPACY_LARGE/biggest_cities_30\\VERB__frankfurt_glasgow__.pickle\n",
      "\n",
      "264 ../../../../data/enwiki_city_pairs_lemmatised/VERB/biggest_cities_30\\VERB__frankfurt_lyon__.pickle ../../../../data/enwiki_city_pairs_lemmatised/VERB_SPACY_LARGE/biggest_cities_30\\VERB__frankfurt_lyon__.pickle\n",
      "\n",
      "265 ../../../../data/enwiki_city_pairs_lemmatised/VERB/biggest_cities_30\\VERB__frankfurt_prague__.pickle ../../../../data/enwiki_city_pairs_lemmatised/VERB_SPACY_LARGE/biggest_cities_30\\VERB__frankfurt_prague__.pickle\n",
      "\n",
      "266 ../../../../data/enwiki_city_pairs_lemmatised/VERB/biggest_cities_30\\VERB__frankfurt_turin__.pickle ../../../../data/enwiki_city_pairs_lemmatised/VERB_SPACY_LARGE/biggest_cities_30\\VERB__frankfurt_turin__.pickle\n",
      "\n",
      "267 ../../../../data/enwiki_city_pairs_lemmatised/VERB/biggest_cities_30\\VERB__frankfurt_valencia__.pickle ../../../../data/enwiki_city_pairs_lemmatised/VERB_SPACY_LARGE/biggest_cities_30\\VERB__frankfurt_valencia__.pickle\n",
      "\n",
      "268 ../../../../data/enwiki_city_pairs_lemmatised/VERB/biggest_cities_30\\VERB__glasgow_lyon__.pickle ../../../../data/enwiki_city_pairs_lemmatised/VERB_SPACY_LARGE/biggest_cities_30\\VERB__glasgow_lyon__.pickle\n",
      "\n",
      "269 ../../../../data/enwiki_city_pairs_lemmatised/VERB/biggest_cities_30\\VERB__glasgow_prague__.pickle ../../../../data/enwiki_city_pairs_lemmatised/VERB_SPACY_LARGE/biggest_cities_30\\VERB__glasgow_prague__.pickle\n",
      "\n",
      "270 ../../../../data/enwiki_city_pairs_lemmatised/VERB/biggest_cities_30\\VERB__hamburg_brussels__.pickle ../../../../data/enwiki_city_pairs_lemmatised/VERB_SPACY_LARGE/biggest_cities_30\\VERB__hamburg_brussels__.pickle\n",
      "\n",
      "271 ../../../../data/enwiki_city_pairs_lemmatised/VERB/biggest_cities_30\\VERB__hamburg_cologne__.pickle ../../../../data/enwiki_city_pairs_lemmatised/VERB_SPACY_LARGE/biggest_cities_30\\VERB__hamburg_cologne__.pickle\n",
      "\n",
      "272 ../../../../data/enwiki_city_pairs_lemmatised/VERB/biggest_cities_30\\VERB__hamburg_copenhagen__.pickle ../../../../data/enwiki_city_pairs_lemmatised/VERB_SPACY_LARGE/biggest_cities_30\\VERB__hamburg_copenhagen__.pickle\n",
      "\n",
      "273 ../../../../data/enwiki_city_pairs_lemmatised/VERB/biggest_cities_30\\VERB__hamburg_frankfurt__.pickle ../../../../data/enwiki_city_pairs_lemmatised/VERB_SPACY_LARGE/biggest_cities_30\\VERB__hamburg_frankfurt__.pickle\n",
      "\n",
      "274 ../../../../data/enwiki_city_pairs_lemmatised/VERB/biggest_cities_30\\VERB__hamburg_glasgow__.pickle ../../../../data/enwiki_city_pairs_lemmatised/VERB_SPACY_LARGE/biggest_cities_30\\VERB__hamburg_glasgow__.pickle\n",
      "\n",
      "275 ../../../../data/enwiki_city_pairs_lemmatised/VERB/biggest_cities_30\\VERB__hamburg_lyon__.pickle ../../../../data/enwiki_city_pairs_lemmatised/VERB_SPACY_LARGE/biggest_cities_30\\VERB__hamburg_lyon__.pickle\n",
      "\n",
      "276 ../../../../data/enwiki_city_pairs_lemmatised/VERB/biggest_cities_30\\VERB__hamburg_prague__.pickle ../../../../data/enwiki_city_pairs_lemmatised/VERB_SPACY_LARGE/biggest_cities_30\\VERB__hamburg_prague__.pickle\n",
      "\n",
      "277 ../../../../data/enwiki_city_pairs_lemmatised/VERB/biggest_cities_30\\VERB__hamburg_stockholm__.pickle ../../../../data/enwiki_city_pairs_lemmatised/VERB_SPACY_LARGE/biggest_cities_30\\VERB__hamburg_stockholm__.pickle\n",
      "\n",
      "278 ../../../../data/enwiki_city_pairs_lemmatised/VERB/biggest_cities_30\\VERB__hamburg_turin__.pickle ../../../../data/enwiki_city_pairs_lemmatised/VERB_SPACY_LARGE/biggest_cities_30\\VERB__hamburg_turin__.pickle\n",
      "\n",
      "279 ../../../../data/enwiki_city_pairs_lemmatised/VERB/biggest_cities_30\\VERB__hamburg_valencia__.pickle ../../../../data/enwiki_city_pairs_lemmatised/VERB_SPACY_LARGE/biggest_cities_30\\VERB__hamburg_valencia__.pickle\n",
      "\n",
      "280 ../../../../data/enwiki_city_pairs_lemmatised/VERB/biggest_cities_30\\VERB__katowice_brussels__.pickle ../../../../data/enwiki_city_pairs_lemmatised/VERB_SPACY_LARGE/biggest_cities_30\\VERB__katowice_brussels__.pickle\n",
      "\n",
      "281 ../../../../data/enwiki_city_pairs_lemmatised/VERB/biggest_cities_30\\VERB__katowice_cologne__.pickle ../../../../data/enwiki_city_pairs_lemmatised/VERB_SPACY_LARGE/biggest_cities_30\\VERB__katowice_cologne__.pickle\n",
      "\n",
      "282 ../../../../data/enwiki_city_pairs_lemmatised/VERB/biggest_cities_30\\VERB__katowice_copenhagen__.pickle ../../../../data/enwiki_city_pairs_lemmatised/VERB_SPACY_LARGE/biggest_cities_30\\VERB__katowice_copenhagen__.pickle\n",
      "\n",
      "283 ../../../../data/enwiki_city_pairs_lemmatised/VERB/biggest_cities_30\\VERB__katowice_frankfurt__.pickle ../../../../data/enwiki_city_pairs_lemmatised/VERB_SPACY_LARGE/biggest_cities_30\\VERB__katowice_frankfurt__.pickle\n",
      "\n",
      "284 ../../../../data/enwiki_city_pairs_lemmatised/VERB/biggest_cities_30\\VERB__katowice_glasgow__.pickle ../../../../data/enwiki_city_pairs_lemmatised/VERB_SPACY_LARGE/biggest_cities_30\\VERB__katowice_glasgow__.pickle\n",
      "\n",
      "285 ../../../../data/enwiki_city_pairs_lemmatised/VERB/biggest_cities_30\\VERB__katowice_prague__.pickle ../../../../data/enwiki_city_pairs_lemmatised/VERB_SPACY_LARGE/biggest_cities_30\\VERB__katowice_prague__.pickle\n",
      "\n",
      "286 ../../../../data/enwiki_city_pairs_lemmatised/VERB/biggest_cities_30\\VERB__katowice_stockholm__.pickle ../../../../data/enwiki_city_pairs_lemmatised/VERB_SPACY_LARGE/biggest_cities_30\\VERB__katowice_stockholm__.pickle\n",
      "\n",
      "287 ../../../../data/enwiki_city_pairs_lemmatised/VERB/biggest_cities_30\\VERB__katowice_turin__.pickle ../../../../data/enwiki_city_pairs_lemmatised/VERB_SPACY_LARGE/biggest_cities_30\\VERB__katowice_turin__.pickle\n",
      "\n",
      "288 ../../../../data/enwiki_city_pairs_lemmatised/VERB/biggest_cities_30\\VERB__katowice_valencia__.pickle ../../../../data/enwiki_city_pairs_lemmatised/VERB_SPACY_LARGE/biggest_cities_30\\VERB__katowice_valencia__.pickle\n",
      "\n",
      "289 ../../../../data/enwiki_city_pairs_lemmatised/VERB/biggest_cities_30\\VERB__lisbon_brussels__.pickle ../../../../data/enwiki_city_pairs_lemmatised/VERB_SPACY_LARGE/biggest_cities_30\\VERB__lisbon_brussels__.pickle\n",
      "\n",
      "290 ../../../../data/enwiki_city_pairs_lemmatised/VERB/biggest_cities_30\\VERB__lisbon_cologne__.pickle ../../../../data/enwiki_city_pairs_lemmatised/VERB_SPACY_LARGE/biggest_cities_30\\VERB__lisbon_cologne__.pickle\n",
      "\n"
     ]
    },
    {
     "name": "stdout",
     "output_type": "stream",
     "text": [
      "291 ../../../../data/enwiki_city_pairs_lemmatised/VERB/biggest_cities_30\\VERB__lisbon_copenhagen__.pickle ../../../../data/enwiki_city_pairs_lemmatised/VERB_SPACY_LARGE/biggest_cities_30\\VERB__lisbon_copenhagen__.pickle\n",
      "\n",
      "292 ../../../../data/enwiki_city_pairs_lemmatised/VERB/biggest_cities_30\\VERB__lisbon_frankfurt__.pickle ../../../../data/enwiki_city_pairs_lemmatised/VERB_SPACY_LARGE/biggest_cities_30\\VERB__lisbon_frankfurt__.pickle\n",
      "\n",
      "293 ../../../../data/enwiki_city_pairs_lemmatised/VERB/biggest_cities_30\\VERB__lisbon_glasgow__.pickle ../../../../data/enwiki_city_pairs_lemmatised/VERB_SPACY_LARGE/biggest_cities_30\\VERB__lisbon_glasgow__.pickle\n",
      "\n",
      "294 ../../../../data/enwiki_city_pairs_lemmatised/VERB/biggest_cities_30\\VERB__lisbon_lyon__.pickle ../../../../data/enwiki_city_pairs_lemmatised/VERB_SPACY_LARGE/biggest_cities_30\\VERB__lisbon_lyon__.pickle\n",
      "\n",
      "295 ../../../../data/enwiki_city_pairs_lemmatised/VERB/biggest_cities_30\\VERB__lisbon_prague__.pickle ../../../../data/enwiki_city_pairs_lemmatised/VERB_SPACY_LARGE/biggest_cities_30\\VERB__lisbon_prague__.pickle\n",
      "\n",
      "296 ../../../../data/enwiki_city_pairs_lemmatised/VERB/biggest_cities_30\\VERB__lisbon_stockholm__.pickle ../../../../data/enwiki_city_pairs_lemmatised/VERB_SPACY_LARGE/biggest_cities_30\\VERB__lisbon_stockholm__.pickle\n",
      "\n",
      "297 ../../../../data/enwiki_city_pairs_lemmatised/VERB/biggest_cities_30\\VERB__lisbon_turin__.pickle ../../../../data/enwiki_city_pairs_lemmatised/VERB_SPACY_LARGE/biggest_cities_30\\VERB__lisbon_turin__.pickle\n",
      "\n",
      "298 ../../../../data/enwiki_city_pairs_lemmatised/VERB/biggest_cities_30\\VERB__lisbon_valencia__.pickle ../../../../data/enwiki_city_pairs_lemmatised/VERB_SPACY_LARGE/biggest_cities_30\\VERB__lisbon_valencia__.pickle\n",
      "\n",
      "299 ../../../../data/enwiki_city_pairs_lemmatised/VERB/biggest_cities_30\\VERB__london_brussels__.pickle ../../../../data/enwiki_city_pairs_lemmatised/VERB_SPACY_LARGE/biggest_cities_30\\VERB__london_brussels__.pickle\n",
      "\n",
      "300 ../../../../data/enwiki_city_pairs_lemmatised/VERB/biggest_cities_30\\VERB__london_cologne__.pickle ../../../../data/enwiki_city_pairs_lemmatised/VERB_SPACY_LARGE/biggest_cities_30\\VERB__london_cologne__.pickle\n",
      "\n",
      "301 ../../../../data/enwiki_city_pairs_lemmatised/VERB/biggest_cities_30\\VERB__london_copenhagen__.pickle ../../../../data/enwiki_city_pairs_lemmatised/VERB_SPACY_LARGE/biggest_cities_30\\VERB__london_copenhagen__.pickle\n",
      "\n",
      "302 ../../../../data/enwiki_city_pairs_lemmatised/VERB/biggest_cities_30\\VERB__london_frankfurt__.pickle ../../../../data/enwiki_city_pairs_lemmatised/VERB_SPACY_LARGE/biggest_cities_30\\VERB__london_frankfurt__.pickle\n",
      "\n",
      "303 ../../../../data/enwiki_city_pairs_lemmatised/VERB/biggest_cities_30\\VERB__london_glasgow__.pickle ../../../../data/enwiki_city_pairs_lemmatised/VERB_SPACY_LARGE/biggest_cities_30\\VERB__london_glasgow__.pickle\n",
      "\n",
      "304 ../../../../data/enwiki_city_pairs_lemmatised/VERB/biggest_cities_30\\VERB__london_lyon__.pickle ../../../../data/enwiki_city_pairs_lemmatised/VERB_SPACY_LARGE/biggest_cities_30\\VERB__london_lyon__.pickle\n",
      "\n",
      "305 ../../../../data/enwiki_city_pairs_lemmatised/VERB/biggest_cities_30\\VERB__london_prague__.pickle ../../../../data/enwiki_city_pairs_lemmatised/VERB_SPACY_LARGE/biggest_cities_30\\VERB__london_prague__.pickle\n",
      "\n",
      "306 ../../../../data/enwiki_city_pairs_lemmatised/VERB/biggest_cities_30\\VERB__london_stockholm__.pickle ../../../../data/enwiki_city_pairs_lemmatised/VERB_SPACY_LARGE/biggest_cities_30\\VERB__london_stockholm__.pickle\n",
      "\n",
      "307 ../../../../data/enwiki_city_pairs_lemmatised/VERB/biggest_cities_30\\VERB__london_turin__.pickle ../../../../data/enwiki_city_pairs_lemmatised/VERB_SPACY_LARGE/biggest_cities_30\\VERB__london_turin__.pickle\n",
      "\n",
      "308 ../../../../data/enwiki_city_pairs_lemmatised/VERB/biggest_cities_30\\VERB__london_valencia__.pickle ../../../../data/enwiki_city_pairs_lemmatised/VERB_SPACY_LARGE/biggest_cities_30\\VERB__london_valencia__.pickle\n",
      "\n",
      "309 ../../../../data/enwiki_city_pairs_lemmatised/VERB/biggest_cities_30\\VERB__madrid_brussels__.pickle ../../../../data/enwiki_city_pairs_lemmatised/VERB_SPACY_LARGE/biggest_cities_30\\VERB__madrid_brussels__.pickle\n",
      "\n",
      "310 ../../../../data/enwiki_city_pairs_lemmatised/VERB/biggest_cities_30\\VERB__madrid_cologne__.pickle ../../../../data/enwiki_city_pairs_lemmatised/VERB_SPACY_LARGE/biggest_cities_30\\VERB__madrid_cologne__.pickle\n",
      "\n",
      "311 ../../../../data/enwiki_city_pairs_lemmatised/VERB/biggest_cities_30\\VERB__madrid_copenhagen__.pickle ../../../../data/enwiki_city_pairs_lemmatised/VERB_SPACY_LARGE/biggest_cities_30\\VERB__madrid_copenhagen__.pickle\n",
      "\n",
      "312 ../../../../data/enwiki_city_pairs_lemmatised/VERB/biggest_cities_30\\VERB__madrid_frankfurt__.pickle ../../../../data/enwiki_city_pairs_lemmatised/VERB_SPACY_LARGE/biggest_cities_30\\VERB__madrid_frankfurt__.pickle\n",
      "\n",
      "313 ../../../../data/enwiki_city_pairs_lemmatised/VERB/biggest_cities_30\\VERB__madrid_glasgow__.pickle ../../../../data/enwiki_city_pairs_lemmatised/VERB_SPACY_LARGE/biggest_cities_30\\VERB__madrid_glasgow__.pickle\n",
      "\n",
      "314 ../../../../data/enwiki_city_pairs_lemmatised/VERB/biggest_cities_30\\VERB__madrid_lyon__.pickle ../../../../data/enwiki_city_pairs_lemmatised/VERB_SPACY_LARGE/biggest_cities_30\\VERB__madrid_lyon__.pickle\n",
      "\n",
      "315 ../../../../data/enwiki_city_pairs_lemmatised/VERB/biggest_cities_30\\VERB__madrid_prague__.pickle ../../../../data/enwiki_city_pairs_lemmatised/VERB_SPACY_LARGE/biggest_cities_30\\VERB__madrid_prague__.pickle\n",
      "\n",
      "316 ../../../../data/enwiki_city_pairs_lemmatised/VERB/biggest_cities_30\\VERB__madrid_stockholm__.pickle ../../../../data/enwiki_city_pairs_lemmatised/VERB_SPACY_LARGE/biggest_cities_30\\VERB__madrid_stockholm__.pickle\n",
      "\n",
      "317 ../../../../data/enwiki_city_pairs_lemmatised/VERB/biggest_cities_30\\VERB__madrid_turin__.pickle ../../../../data/enwiki_city_pairs_lemmatised/VERB_SPACY_LARGE/biggest_cities_30\\VERB__madrid_turin__.pickle\n",
      "\n",
      "318 ../../../../data/enwiki_city_pairs_lemmatised/VERB/biggest_cities_30\\VERB__madrid_valencia__.pickle ../../../../data/enwiki_city_pairs_lemmatised/VERB_SPACY_LARGE/biggest_cities_30\\VERB__madrid_valencia__.pickle\n",
      "\n",
      "319 ../../../../data/enwiki_city_pairs_lemmatised/VERB/biggest_cities_30\\VERB__manchester_brussels__.pickle ../../../../data/enwiki_city_pairs_lemmatised/VERB_SPACY_LARGE/biggest_cities_30\\VERB__manchester_brussels__.pickle\n",
      "\n",
      "320 ../../../../data/enwiki_city_pairs_lemmatised/VERB/biggest_cities_30\\VERB__manchester_cologne__.pickle ../../../../data/enwiki_city_pairs_lemmatised/VERB_SPACY_LARGE/biggest_cities_30\\VERB__manchester_cologne__.pickle\n",
      "\n",
      "321 ../../../../data/enwiki_city_pairs_lemmatised/VERB/biggest_cities_30\\VERB__manchester_copenhagen__.pickle ../../../../data/enwiki_city_pairs_lemmatised/VERB_SPACY_LARGE/biggest_cities_30\\VERB__manchester_copenhagen__.pickle\n",
      "\n",
      "322 ../../../../data/enwiki_city_pairs_lemmatised/VERB/biggest_cities_30\\VERB__manchester_frankfurt__.pickle ../../../../data/enwiki_city_pairs_lemmatised/VERB_SPACY_LARGE/biggest_cities_30\\VERB__manchester_frankfurt__.pickle\n",
      "\n",
      "323 ../../../../data/enwiki_city_pairs_lemmatised/VERB/biggest_cities_30\\VERB__manchester_glasgow__.pickle ../../../../data/enwiki_city_pairs_lemmatised/VERB_SPACY_LARGE/biggest_cities_30\\VERB__manchester_glasgow__.pickle\n",
      "\n",
      "324 ../../../../data/enwiki_city_pairs_lemmatised/VERB/biggest_cities_30\\VERB__manchester_lyon__.pickle ../../../../data/enwiki_city_pairs_lemmatised/VERB_SPACY_LARGE/biggest_cities_30\\VERB__manchester_lyon__.pickle\n",
      "\n",
      "325 ../../../../data/enwiki_city_pairs_lemmatised/VERB/biggest_cities_30\\VERB__manchester_prague__.pickle ../../../../data/enwiki_city_pairs_lemmatised/VERB_SPACY_LARGE/biggest_cities_30\\VERB__manchester_prague__.pickle\n",
      "\n",
      "326 ../../../../data/enwiki_city_pairs_lemmatised/VERB/biggest_cities_30\\VERB__manchester_stockholm__.pickle ../../../../data/enwiki_city_pairs_lemmatised/VERB_SPACY_LARGE/biggest_cities_30\\VERB__manchester_stockholm__.pickle\n",
      "\n",
      "327 ../../../../data/enwiki_city_pairs_lemmatised/VERB/biggest_cities_30\\VERB__manchester_turin__.pickle ../../../../data/enwiki_city_pairs_lemmatised/VERB_SPACY_LARGE/biggest_cities_30\\VERB__manchester_turin__.pickle\n",
      "\n",
      "328 ../../../../data/enwiki_city_pairs_lemmatised/VERB/biggest_cities_30\\VERB__manchester_valencia__.pickle ../../../../data/enwiki_city_pairs_lemmatised/VERB_SPACY_LARGE/biggest_cities_30\\VERB__manchester_valencia__.pickle\n",
      "\n",
      "329 ../../../../data/enwiki_city_pairs_lemmatised/VERB/biggest_cities_30\\VERB__milan_brussels__.pickle ../../../../data/enwiki_city_pairs_lemmatised/VERB_SPACY_LARGE/biggest_cities_30\\VERB__milan_brussels__.pickle\n",
      "\n",
      "330 ../../../../data/enwiki_city_pairs_lemmatised/VERB/biggest_cities_30\\VERB__milan_cologne__.pickle ../../../../data/enwiki_city_pairs_lemmatised/VERB_SPACY_LARGE/biggest_cities_30\\VERB__milan_cologne__.pickle\n",
      "\n",
      "331 ../../../../data/enwiki_city_pairs_lemmatised/VERB/biggest_cities_30\\VERB__milan_copenhagen__.pickle ../../../../data/enwiki_city_pairs_lemmatised/VERB_SPACY_LARGE/biggest_cities_30\\VERB__milan_copenhagen__.pickle\n",
      "\n",
      "332 ../../../../data/enwiki_city_pairs_lemmatised/VERB/biggest_cities_30\\VERB__milan_frankfurt__.pickle ../../../../data/enwiki_city_pairs_lemmatised/VERB_SPACY_LARGE/biggest_cities_30\\VERB__milan_frankfurt__.pickle\n",
      "\n",
      "333 ../../../../data/enwiki_city_pairs_lemmatised/VERB/biggest_cities_30\\VERB__milan_glasgow__.pickle ../../../../data/enwiki_city_pairs_lemmatised/VERB_SPACY_LARGE/biggest_cities_30\\VERB__milan_glasgow__.pickle\n",
      "\n",
      "334 ../../../../data/enwiki_city_pairs_lemmatised/VERB/biggest_cities_30\\VERB__milan_lyon__.pickle ../../../../data/enwiki_city_pairs_lemmatised/VERB_SPACY_LARGE/biggest_cities_30\\VERB__milan_lyon__.pickle\n",
      "\n",
      "335 ../../../../data/enwiki_city_pairs_lemmatised/VERB/biggest_cities_30\\VERB__milan_prague__.pickle ../../../../data/enwiki_city_pairs_lemmatised/VERB_SPACY_LARGE/biggest_cities_30\\VERB__milan_prague__.pickle\n",
      "\n",
      "336 ../../../../data/enwiki_city_pairs_lemmatised/VERB/biggest_cities_30\\VERB__milan_stockholm__.pickle ../../../../data/enwiki_city_pairs_lemmatised/VERB_SPACY_LARGE/biggest_cities_30\\VERB__milan_stockholm__.pickle\n",
      "\n",
      "337 ../../../../data/enwiki_city_pairs_lemmatised/VERB/biggest_cities_30\\VERB__milan_turin__.pickle ../../../../data/enwiki_city_pairs_lemmatised/VERB_SPACY_LARGE/biggest_cities_30\\VERB__milan_turin__.pickle\n",
      "\n",
      "338 ../../../../data/enwiki_city_pairs_lemmatised/VERB/biggest_cities_30\\VERB__milan_valencia__.pickle ../../../../data/enwiki_city_pairs_lemmatised/VERB_SPACY_LARGE/biggest_cities_30\\VERB__milan_valencia__.pickle\n",
      "\n"
     ]
    },
    {
     "name": "stdout",
     "output_type": "stream",
     "text": [
      "339 ../../../../data/enwiki_city_pairs_lemmatised/VERB/biggest_cities_30\\VERB__munich_brussels__.pickle ../../../../data/enwiki_city_pairs_lemmatised/VERB_SPACY_LARGE/biggest_cities_30\\VERB__munich_brussels__.pickle\n",
      "\n",
      "340 ../../../../data/enwiki_city_pairs_lemmatised/VERB/biggest_cities_30\\VERB__munich_cologne__.pickle ../../../../data/enwiki_city_pairs_lemmatised/VERB_SPACY_LARGE/biggest_cities_30\\VERB__munich_cologne__.pickle\n",
      "\n",
      "341 ../../../../data/enwiki_city_pairs_lemmatised/VERB/biggest_cities_30\\VERB__munich_copenhagen__.pickle ../../../../data/enwiki_city_pairs_lemmatised/VERB_SPACY_LARGE/biggest_cities_30\\VERB__munich_copenhagen__.pickle\n",
      "\n",
      "342 ../../../../data/enwiki_city_pairs_lemmatised/VERB/biggest_cities_30\\VERB__munich_frankfurt__.pickle ../../../../data/enwiki_city_pairs_lemmatised/VERB_SPACY_LARGE/biggest_cities_30\\VERB__munich_frankfurt__.pickle\n",
      "\n",
      "343 ../../../../data/enwiki_city_pairs_lemmatised/VERB/biggest_cities_30\\VERB__munich_glasgow__.pickle ../../../../data/enwiki_city_pairs_lemmatised/VERB_SPACY_LARGE/biggest_cities_30\\VERB__munich_glasgow__.pickle\n",
      "\n",
      "344 ../../../../data/enwiki_city_pairs_lemmatised/VERB/biggest_cities_30\\VERB__munich_lyon__.pickle ../../../../data/enwiki_city_pairs_lemmatised/VERB_SPACY_LARGE/biggest_cities_30\\VERB__munich_lyon__.pickle\n",
      "\n",
      "345 ../../../../data/enwiki_city_pairs_lemmatised/VERB/biggest_cities_30\\VERB__munich_prague__.pickle ../../../../data/enwiki_city_pairs_lemmatised/VERB_SPACY_LARGE/biggest_cities_30\\VERB__munich_prague__.pickle\n",
      "\n",
      "346 ../../../../data/enwiki_city_pairs_lemmatised/VERB/biggest_cities_30\\VERB__munich_stockholm__.pickle ../../../../data/enwiki_city_pairs_lemmatised/VERB_SPACY_LARGE/biggest_cities_30\\VERB__munich_stockholm__.pickle\n",
      "\n",
      "347 ../../../../data/enwiki_city_pairs_lemmatised/VERB/biggest_cities_30\\VERB__munich_turin__.pickle ../../../../data/enwiki_city_pairs_lemmatised/VERB_SPACY_LARGE/biggest_cities_30\\VERB__munich_turin__.pickle\n",
      "\n",
      "348 ../../../../data/enwiki_city_pairs_lemmatised/VERB/biggest_cities_30\\VERB__munich_valencia__.pickle ../../../../data/enwiki_city_pairs_lemmatised/VERB_SPACY_LARGE/biggest_cities_30\\VERB__munich_valencia__.pickle\n",
      "\n",
      "349 ../../../../data/enwiki_city_pairs_lemmatised/VERB/biggest_cities_30\\VERB__naples_brussels__.pickle ../../../../data/enwiki_city_pairs_lemmatised/VERB_SPACY_LARGE/biggest_cities_30\\VERB__naples_brussels__.pickle\n",
      "\n",
      "350 ../../../../data/enwiki_city_pairs_lemmatised/VERB/biggest_cities_30\\VERB__naples_cologne__.pickle ../../../../data/enwiki_city_pairs_lemmatised/VERB_SPACY_LARGE/biggest_cities_30\\VERB__naples_cologne__.pickle\n",
      "\n",
      "351 ../../../../data/enwiki_city_pairs_lemmatised/VERB/biggest_cities_30\\VERB__naples_copenhagen__.pickle ../../../../data/enwiki_city_pairs_lemmatised/VERB_SPACY_LARGE/biggest_cities_30\\VERB__naples_copenhagen__.pickle\n",
      "\n",
      "352 ../../../../data/enwiki_city_pairs_lemmatised/VERB/biggest_cities_30\\VERB__naples_frankfurt__.pickle ../../../../data/enwiki_city_pairs_lemmatised/VERB_SPACY_LARGE/biggest_cities_30\\VERB__naples_frankfurt__.pickle\n",
      "\n",
      "353 ../../../../data/enwiki_city_pairs_lemmatised/VERB/biggest_cities_30\\VERB__naples_glasgow__.pickle ../../../../data/enwiki_city_pairs_lemmatised/VERB_SPACY_LARGE/biggest_cities_30\\VERB__naples_glasgow__.pickle\n",
      "\n",
      "354 ../../../../data/enwiki_city_pairs_lemmatised/VERB/biggest_cities_30\\VERB__naples_lyon__.pickle ../../../../data/enwiki_city_pairs_lemmatised/VERB_SPACY_LARGE/biggest_cities_30\\VERB__naples_lyon__.pickle\n",
      "\n",
      "355 ../../../../data/enwiki_city_pairs_lemmatised/VERB/biggest_cities_30\\VERB__naples_prague__.pickle ../../../../data/enwiki_city_pairs_lemmatised/VERB_SPACY_LARGE/biggest_cities_30\\VERB__naples_prague__.pickle\n",
      "\n",
      "356 ../../../../data/enwiki_city_pairs_lemmatised/VERB/biggest_cities_30\\VERB__naples_stockholm__.pickle ../../../../data/enwiki_city_pairs_lemmatised/VERB_SPACY_LARGE/biggest_cities_30\\VERB__naples_stockholm__.pickle\n",
      "\n",
      "357 ../../../../data/enwiki_city_pairs_lemmatised/VERB/biggest_cities_30\\VERB__naples_turin__.pickle ../../../../data/enwiki_city_pairs_lemmatised/VERB_SPACY_LARGE/biggest_cities_30\\VERB__naples_turin__.pickle\n",
      "\n",
      "358 ../../../../data/enwiki_city_pairs_lemmatised/VERB/biggest_cities_30\\VERB__naples_valencia__.pickle ../../../../data/enwiki_city_pairs_lemmatised/VERB_SPACY_LARGE/biggest_cities_30\\VERB__naples_valencia__.pickle\n",
      "\n",
      "359 ../../../../data/enwiki_city_pairs_lemmatised/VERB/biggest_cities_30\\VERB__paris_brussels__.pickle ../../../../data/enwiki_city_pairs_lemmatised/VERB_SPACY_LARGE/biggest_cities_30\\VERB__paris_brussels__.pickle\n",
      "\n",
      "360 ../../../../data/enwiki_city_pairs_lemmatised/VERB/biggest_cities_30\\VERB__paris_cologne__.pickle ../../../../data/enwiki_city_pairs_lemmatised/VERB_SPACY_LARGE/biggest_cities_30\\VERB__paris_cologne__.pickle\n",
      "\n",
      "361 ../../../../data/enwiki_city_pairs_lemmatised/VERB/biggest_cities_30\\VERB__paris_copenhagen__.pickle ../../../../data/enwiki_city_pairs_lemmatised/VERB_SPACY_LARGE/biggest_cities_30\\VERB__paris_copenhagen__.pickle\n",
      "\n",
      "362 ../../../../data/enwiki_city_pairs_lemmatised/VERB/biggest_cities_30\\VERB__paris_frankfurt__.pickle ../../../../data/enwiki_city_pairs_lemmatised/VERB_SPACY_LARGE/biggest_cities_30\\VERB__paris_frankfurt__.pickle\n",
      "\n",
      "363 ../../../../data/enwiki_city_pairs_lemmatised/VERB/biggest_cities_30\\VERB__paris_glasgow__.pickle ../../../../data/enwiki_city_pairs_lemmatised/VERB_SPACY_LARGE/biggest_cities_30\\VERB__paris_glasgow__.pickle\n",
      "\n",
      "364 ../../../../data/enwiki_city_pairs_lemmatised/VERB/biggest_cities_30\\VERB__paris_lyon__.pickle ../../../../data/enwiki_city_pairs_lemmatised/VERB_SPACY_LARGE/biggest_cities_30\\VERB__paris_lyon__.pickle\n",
      "\n",
      "365 ../../../../data/enwiki_city_pairs_lemmatised/VERB/biggest_cities_30\\VERB__paris_prague__.pickle ../../../../data/enwiki_city_pairs_lemmatised/VERB_SPACY_LARGE/biggest_cities_30\\VERB__paris_prague__.pickle\n",
      "\n",
      "366 ../../../../data/enwiki_city_pairs_lemmatised/VERB/biggest_cities_30\\VERB__paris_stockholm__.pickle ../../../../data/enwiki_city_pairs_lemmatised/VERB_SPACY_LARGE/biggest_cities_30\\VERB__paris_stockholm__.pickle\n",
      "\n",
      "367 ../../../../data/enwiki_city_pairs_lemmatised/VERB/biggest_cities_30\\VERB__paris_turin__.pickle ../../../../data/enwiki_city_pairs_lemmatised/VERB_SPACY_LARGE/biggest_cities_30\\VERB__paris_turin__.pickle\n",
      "\n",
      "368 ../../../../data/enwiki_city_pairs_lemmatised/VERB/biggest_cities_30\\VERB__paris_valencia__.pickle ../../../../data/enwiki_city_pairs_lemmatised/VERB_SPACY_LARGE/biggest_cities_30\\VERB__paris_valencia__.pickle\n",
      "\n",
      "369 ../../../../data/enwiki_city_pairs_lemmatised/VERB/biggest_cities_30\\VERB__prague_lyon__.pickle ../../../../data/enwiki_city_pairs_lemmatised/VERB_SPACY_LARGE/biggest_cities_30\\VERB__prague_lyon__.pickle\n",
      "\n",
      "370 ../../../../data/enwiki_city_pairs_lemmatised/VERB/biggest_cities_30\\VERB__rome_brussels__.pickle ../../../../data/enwiki_city_pairs_lemmatised/VERB_SPACY_LARGE/biggest_cities_30\\VERB__rome_brussels__.pickle\n",
      "\n",
      "371 ../../../../data/enwiki_city_pairs_lemmatised/VERB/biggest_cities_30\\VERB__rome_cologne__.pickle ../../../../data/enwiki_city_pairs_lemmatised/VERB_SPACY_LARGE/biggest_cities_30\\VERB__rome_cologne__.pickle\n",
      "\n",
      "372 ../../../../data/enwiki_city_pairs_lemmatised/VERB/biggest_cities_30\\VERB__rome_copenhagen__.pickle ../../../../data/enwiki_city_pairs_lemmatised/VERB_SPACY_LARGE/biggest_cities_30\\VERB__rome_copenhagen__.pickle\n",
      "\n",
      "373 ../../../../data/enwiki_city_pairs_lemmatised/VERB/biggest_cities_30\\VERB__rome_frankfurt__.pickle ../../../../data/enwiki_city_pairs_lemmatised/VERB_SPACY_LARGE/biggest_cities_30\\VERB__rome_frankfurt__.pickle\n",
      "\n",
      "374 ../../../../data/enwiki_city_pairs_lemmatised/VERB/biggest_cities_30\\VERB__rome_glasgow__.pickle ../../../../data/enwiki_city_pairs_lemmatised/VERB_SPACY_LARGE/biggest_cities_30\\VERB__rome_glasgow__.pickle\n",
      "\n",
      "375 ../../../../data/enwiki_city_pairs_lemmatised/VERB/biggest_cities_30\\VERB__rome_lyon__.pickle ../../../../data/enwiki_city_pairs_lemmatised/VERB_SPACY_LARGE/biggest_cities_30\\VERB__rome_lyon__.pickle\n",
      "\n",
      "376 ../../../../data/enwiki_city_pairs_lemmatised/VERB/biggest_cities_30\\VERB__rome_prague__.pickle ../../../../data/enwiki_city_pairs_lemmatised/VERB_SPACY_LARGE/biggest_cities_30\\VERB__rome_prague__.pickle\n",
      "\n",
      "377 ../../../../data/enwiki_city_pairs_lemmatised/VERB/biggest_cities_30\\VERB__rome_stockholm__.pickle ../../../../data/enwiki_city_pairs_lemmatised/VERB_SPACY_LARGE/biggest_cities_30\\VERB__rome_stockholm__.pickle\n",
      "\n"
     ]
    },
    {
     "name": "stdout",
     "output_type": "stream",
     "text": [
      "378 ../../../../data/enwiki_city_pairs_lemmatised/VERB/biggest_cities_30\\VERB__rome_turin__.pickle ../../../../data/enwiki_city_pairs_lemmatised/VERB_SPACY_LARGE/biggest_cities_30\\VERB__rome_turin__.pickle\n",
      "\n",
      "379 ../../../../data/enwiki_city_pairs_lemmatised/VERB/biggest_cities_30\\VERB__rome_valencia__.pickle ../../../../data/enwiki_city_pairs_lemmatised/VERB_SPACY_LARGE/biggest_cities_30\\VERB__rome_valencia__.pickle\n",
      "\n",
      "380 ../../../../data/enwiki_city_pairs_lemmatised/VERB/biggest_cities_30\\VERB__stockholm_cologne__.pickle ../../../../data/enwiki_city_pairs_lemmatised/VERB_SPACY_LARGE/biggest_cities_30\\VERB__stockholm_cologne__.pickle\n",
      "\n",
      "381 ../../../../data/enwiki_city_pairs_lemmatised/VERB/biggest_cities_30\\VERB__stockholm_copenhagen__.pickle ../../../../data/enwiki_city_pairs_lemmatised/VERB_SPACY_LARGE/biggest_cities_30\\VERB__stockholm_copenhagen__.pickle\n",
      "\n",
      "382 ../../../../data/enwiki_city_pairs_lemmatised/VERB/biggest_cities_30\\VERB__stockholm_frankfurt__.pickle ../../../../data/enwiki_city_pairs_lemmatised/VERB_SPACY_LARGE/biggest_cities_30\\VERB__stockholm_frankfurt__.pickle\n",
      "\n",
      "383 ../../../../data/enwiki_city_pairs_lemmatised/VERB/biggest_cities_30\\VERB__stockholm_glasgow__.pickle ../../../../data/enwiki_city_pairs_lemmatised/VERB_SPACY_LARGE/biggest_cities_30\\VERB__stockholm_glasgow__.pickle\n",
      "\n",
      "384 ../../../../data/enwiki_city_pairs_lemmatised/VERB/biggest_cities_30\\VERB__stockholm_lyon__.pickle ../../../../data/enwiki_city_pairs_lemmatised/VERB_SPACY_LARGE/biggest_cities_30\\VERB__stockholm_lyon__.pickle\n",
      "\n",
      "385 ../../../../data/enwiki_city_pairs_lemmatised/VERB/biggest_cities_30\\VERB__stockholm_prague__.pickle ../../../../data/enwiki_city_pairs_lemmatised/VERB_SPACY_LARGE/biggest_cities_30\\VERB__stockholm_prague__.pickle\n",
      "\n",
      "386 ../../../../data/enwiki_city_pairs_lemmatised/VERB/biggest_cities_30\\VERB__stockholm_turin__.pickle ../../../../data/enwiki_city_pairs_lemmatised/VERB_SPACY_LARGE/biggest_cities_30\\VERB__stockholm_turin__.pickle\n",
      "\n",
      "387 ../../../../data/enwiki_city_pairs_lemmatised/VERB/biggest_cities_30\\VERB__stockholm_valencia__.pickle ../../../../data/enwiki_city_pairs_lemmatised/VERB_SPACY_LARGE/biggest_cities_30\\VERB__stockholm_valencia__.pickle\n",
      "\n",
      "388 ../../../../data/enwiki_city_pairs_lemmatised/VERB/biggest_cities_30\\VERB__stuttgart_brussels__.pickle ../../../../data/enwiki_city_pairs_lemmatised/VERB_SPACY_LARGE/biggest_cities_30\\VERB__stuttgart_brussels__.pickle\n",
      "\n",
      "389 ../../../../data/enwiki_city_pairs_lemmatised/VERB/biggest_cities_30\\VERB__stuttgart_cologne__.pickle ../../../../data/enwiki_city_pairs_lemmatised/VERB_SPACY_LARGE/biggest_cities_30\\VERB__stuttgart_cologne__.pickle\n",
      "\n",
      "390 ../../../../data/enwiki_city_pairs_lemmatised/VERB/biggest_cities_30\\VERB__stuttgart_copenhagen__.pickle ../../../../data/enwiki_city_pairs_lemmatised/VERB_SPACY_LARGE/biggest_cities_30\\VERB__stuttgart_copenhagen__.pickle\n",
      "\n",
      "391 ../../../../data/enwiki_city_pairs_lemmatised/VERB/biggest_cities_30\\VERB__stuttgart_frankfurt__.pickle ../../../../data/enwiki_city_pairs_lemmatised/VERB_SPACY_LARGE/biggest_cities_30\\VERB__stuttgart_frankfurt__.pickle\n",
      "\n",
      "392 ../../../../data/enwiki_city_pairs_lemmatised/VERB/biggest_cities_30\\VERB__stuttgart_glasgow__.pickle ../../../../data/enwiki_city_pairs_lemmatised/VERB_SPACY_LARGE/biggest_cities_30\\VERB__stuttgart_glasgow__.pickle\n",
      "\n",
      "393 ../../../../data/enwiki_city_pairs_lemmatised/VERB/biggest_cities_30\\VERB__stuttgart_lyon__.pickle ../../../../data/enwiki_city_pairs_lemmatised/VERB_SPACY_LARGE/biggest_cities_30\\VERB__stuttgart_lyon__.pickle\n",
      "\n",
      "394 ../../../../data/enwiki_city_pairs_lemmatised/VERB/biggest_cities_30\\VERB__stuttgart_prague__.pickle ../../../../data/enwiki_city_pairs_lemmatised/VERB_SPACY_LARGE/biggest_cities_30\\VERB__stuttgart_prague__.pickle\n",
      "\n",
      "395 ../../../../data/enwiki_city_pairs_lemmatised/VERB/biggest_cities_30\\VERB__stuttgart_stockholm__.pickle ../../../../data/enwiki_city_pairs_lemmatised/VERB_SPACY_LARGE/biggest_cities_30\\VERB__stuttgart_stockholm__.pickle\n",
      "\n",
      "396 ../../../../data/enwiki_city_pairs_lemmatised/VERB/biggest_cities_30\\VERB__stuttgart_turin__.pickle ../../../../data/enwiki_city_pairs_lemmatised/VERB_SPACY_LARGE/biggest_cities_30\\VERB__stuttgart_turin__.pickle\n",
      "\n",
      "397 ../../../../data/enwiki_city_pairs_lemmatised/VERB/biggest_cities_30\\VERB__stuttgart_valencia__.pickle ../../../../data/enwiki_city_pairs_lemmatised/VERB_SPACY_LARGE/biggest_cities_30\\VERB__stuttgart_valencia__.pickle\n",
      "\n",
      "398 ../../../../data/enwiki_city_pairs_lemmatised/VERB/biggest_cities_30\\VERB__turin_glasgow__.pickle ../../../../data/enwiki_city_pairs_lemmatised/VERB_SPACY_LARGE/biggest_cities_30\\VERB__turin_glasgow__.pickle\n",
      "\n",
      "399 ../../../../data/enwiki_city_pairs_lemmatised/VERB/biggest_cities_30\\VERB__turin_lyon__.pickle ../../../../data/enwiki_city_pairs_lemmatised/VERB_SPACY_LARGE/biggest_cities_30\\VERB__turin_lyon__.pickle\n",
      "\n",
      "400 ../../../../data/enwiki_city_pairs_lemmatised/VERB/biggest_cities_30\\VERB__turin_prague__.pickle ../../../../data/enwiki_city_pairs_lemmatised/VERB_SPACY_LARGE/biggest_cities_30\\VERB__turin_prague__.pickle\n",
      "\n",
      "401 ../../../../data/enwiki_city_pairs_lemmatised/VERB/biggest_cities_30\\VERB__valencia_glasgow__.pickle ../../../../data/enwiki_city_pairs_lemmatised/VERB_SPACY_LARGE/biggest_cities_30\\VERB__valencia_glasgow__.pickle\n",
      "\n",
      "402 ../../../../data/enwiki_city_pairs_lemmatised/VERB/biggest_cities_30\\VERB__valencia_lyon__.pickle ../../../../data/enwiki_city_pairs_lemmatised/VERB_SPACY_LARGE/biggest_cities_30\\VERB__valencia_lyon__.pickle\n",
      "\n",
      "403 ../../../../data/enwiki_city_pairs_lemmatised/VERB/biggest_cities_30\\VERB__valencia_prague__.pickle ../../../../data/enwiki_city_pairs_lemmatised/VERB_SPACY_LARGE/biggest_cities_30\\VERB__valencia_prague__.pickle\n",
      "\n",
      "404 ../../../../data/enwiki_city_pairs_lemmatised/VERB/biggest_cities_30\\VERB__valencia_turin__.pickle ../../../../data/enwiki_city_pairs_lemmatised/VERB_SPACY_LARGE/biggest_cities_30\\VERB__valencia_turin__.pickle\n",
      "\n",
      "405 ../../../../data/enwiki_city_pairs_lemmatised/VERB/biggest_cities_30\\VERB__vienna_brussels__.pickle ../../../../data/enwiki_city_pairs_lemmatised/VERB_SPACY_LARGE/biggest_cities_30\\VERB__vienna_brussels__.pickle\n",
      "\n",
      "406 ../../../../data/enwiki_city_pairs_lemmatised/VERB/biggest_cities_30\\VERB__vienna_cologne__.pickle ../../../../data/enwiki_city_pairs_lemmatised/VERB_SPACY_LARGE/biggest_cities_30\\VERB__vienna_cologne__.pickle\n",
      "\n",
      "407 ../../../../data/enwiki_city_pairs_lemmatised/VERB/biggest_cities_30\\VERB__vienna_copenhagen__.pickle ../../../../data/enwiki_city_pairs_lemmatised/VERB_SPACY_LARGE/biggest_cities_30\\VERB__vienna_copenhagen__.pickle\n",
      "\n",
      "408 ../../../../data/enwiki_city_pairs_lemmatised/VERB/biggest_cities_30\\VERB__vienna_frankfurt__.pickle ../../../../data/enwiki_city_pairs_lemmatised/VERB_SPACY_LARGE/biggest_cities_30\\VERB__vienna_frankfurt__.pickle\n",
      "\n",
      "409 ../../../../data/enwiki_city_pairs_lemmatised/VERB/biggest_cities_30\\VERB__vienna_glasgow__.pickle ../../../../data/enwiki_city_pairs_lemmatised/VERB_SPACY_LARGE/biggest_cities_30\\VERB__vienna_glasgow__.pickle\n",
      "\n",
      "410 ../../../../data/enwiki_city_pairs_lemmatised/VERB/biggest_cities_30\\VERB__vienna_lyon__.pickle ../../../../data/enwiki_city_pairs_lemmatised/VERB_SPACY_LARGE/biggest_cities_30\\VERB__vienna_lyon__.pickle\n",
      "\n",
      "411 ../../../../data/enwiki_city_pairs_lemmatised/VERB/biggest_cities_30\\VERB__vienna_prague__.pickle ../../../../data/enwiki_city_pairs_lemmatised/VERB_SPACY_LARGE/biggest_cities_30\\VERB__vienna_prague__.pickle\n",
      "\n",
      "412 ../../../../data/enwiki_city_pairs_lemmatised/VERB/biggest_cities_30\\VERB__vienna_stockholm__.pickle ../../../../data/enwiki_city_pairs_lemmatised/VERB_SPACY_LARGE/biggest_cities_30\\VERB__vienna_stockholm__.pickle\n",
      "\n",
      "413 ../../../../data/enwiki_city_pairs_lemmatised/VERB/biggest_cities_30\\VERB__vienna_turin__.pickle ../../../../data/enwiki_city_pairs_lemmatised/VERB_SPACY_LARGE/biggest_cities_30\\VERB__vienna_turin__.pickle\n",
      "\n",
      "414 ../../../../data/enwiki_city_pairs_lemmatised/VERB/biggest_cities_30\\VERB__vienna_valencia__.pickle ../../../../data/enwiki_city_pairs_lemmatised/VERB_SPACY_LARGE/biggest_cities_30\\VERB__vienna_valencia__.pickle\n",
      "\n",
      "415 ../../../../data/enwiki_city_pairs_lemmatised/VERB/biggest_cities_30\\VERB__warsaw_brussels__.pickle ../../../../data/enwiki_city_pairs_lemmatised/VERB_SPACY_LARGE/biggest_cities_30\\VERB__warsaw_brussels__.pickle\n",
      "\n",
      "416 ../../../../data/enwiki_city_pairs_lemmatised/VERB/biggest_cities_30\\VERB__warsaw_cologne__.pickle ../../../../data/enwiki_city_pairs_lemmatised/VERB_SPACY_LARGE/biggest_cities_30\\VERB__warsaw_cologne__.pickle\n",
      "\n",
      "417 ../../../../data/enwiki_city_pairs_lemmatised/VERB/biggest_cities_30\\VERB__warsaw_copenhagen__.pickle ../../../../data/enwiki_city_pairs_lemmatised/VERB_SPACY_LARGE/biggest_cities_30\\VERB__warsaw_copenhagen__.pickle\n",
      "\n",
      "418 ../../../../data/enwiki_city_pairs_lemmatised/VERB/biggest_cities_30\\VERB__warsaw_frankfurt__.pickle ../../../../data/enwiki_city_pairs_lemmatised/VERB_SPACY_LARGE/biggest_cities_30\\VERB__warsaw_frankfurt__.pickle\n",
      "\n",
      "419 ../../../../data/enwiki_city_pairs_lemmatised/VERB/biggest_cities_30\\VERB__warsaw_glasgow__.pickle ../../../../data/enwiki_city_pairs_lemmatised/VERB_SPACY_LARGE/biggest_cities_30\\VERB__warsaw_glasgow__.pickle\n",
      "\n",
      "420 ../../../../data/enwiki_city_pairs_lemmatised/VERB/biggest_cities_30\\VERB__warsaw_lyon__.pickle ../../../../data/enwiki_city_pairs_lemmatised/VERB_SPACY_LARGE/biggest_cities_30\\VERB__warsaw_lyon__.pickle\n",
      "\n",
      "421 ../../../../data/enwiki_city_pairs_lemmatised/VERB/biggest_cities_30\\VERB__warsaw_prague__.pickle ../../../../data/enwiki_city_pairs_lemmatised/VERB_SPACY_LARGE/biggest_cities_30\\VERB__warsaw_prague__.pickle\n",
      "\n",
      "422 ../../../../data/enwiki_city_pairs_lemmatised/VERB/biggest_cities_30\\VERB__warsaw_stockholm__.pickle ../../../../data/enwiki_city_pairs_lemmatised/VERB_SPACY_LARGE/biggest_cities_30\\VERB__warsaw_stockholm__.pickle\n",
      "\n"
     ]
    },
    {
     "name": "stdout",
     "output_type": "stream",
     "text": [
      "423 ../../../../data/enwiki_city_pairs_lemmatised/VERB/biggest_cities_30\\VERB__warsaw_turin__.pickle ../../../../data/enwiki_city_pairs_lemmatised/VERB_SPACY_LARGE/biggest_cities_30\\VERB__warsaw_turin__.pickle\n",
      "\n",
      "424 ../../../../data/enwiki_city_pairs_lemmatised/VERB/biggest_cities_30\\VERB__warsaw_valencia__.pickle ../../../../data/enwiki_city_pairs_lemmatised/VERB_SPACY_LARGE/biggest_cities_30\\VERB__warsaw_valencia__.pickle\n",
      "\n",
      "425 ../../../../data/enwiki_city_pairs_lemmatised/VERB/biggest_cities_5\\VERB__berlin_milan__.pickle ../../../../data/enwiki_city_pairs_lemmatised/VERB_SPACY_LARGE/biggest_cities_5\\VERB__berlin_milan__.pickle\n",
      "\n",
      "426 ../../../../data/enwiki_city_pairs_lemmatised/VERB/biggest_cities_5\\VERB__london_berlin__.pickle ../../../../data/enwiki_city_pairs_lemmatised/VERB_SPACY_LARGE/biggest_cities_5\\VERB__london_berlin__.pickle\n",
      "\n",
      "427 ../../../../data/enwiki_city_pairs_lemmatised/VERB/biggest_cities_5\\VERB__london_madrid__.pickle ../../../../data/enwiki_city_pairs_lemmatised/VERB_SPACY_LARGE/biggest_cities_5\\VERB__london_madrid__.pickle\n",
      "\n",
      "428 ../../../../data/enwiki_city_pairs_lemmatised/VERB/biggest_cities_5\\VERB__london_milan__.pickle ../../../../data/enwiki_city_pairs_lemmatised/VERB_SPACY_LARGE/biggest_cities_5\\VERB__london_milan__.pickle\n",
      "\n",
      "429 ../../../../data/enwiki_city_pairs_lemmatised/VERB/biggest_cities_5\\VERB__madrid_berlin__.pickle ../../../../data/enwiki_city_pairs_lemmatised/VERB_SPACY_LARGE/biggest_cities_5\\VERB__madrid_berlin__.pickle\n",
      "\n",
      "430 ../../../../data/enwiki_city_pairs_lemmatised/VERB/biggest_cities_5\\VERB__madrid_milan__.pickle ../../../../data/enwiki_city_pairs_lemmatised/VERB_SPACY_LARGE/biggest_cities_5\\VERB__madrid_milan__.pickle\n",
      "\n",
      "431 ../../../../data/enwiki_city_pairs_lemmatised/VERB/biggest_cities_5\\VERB__paris_berlin__.pickle ../../../../data/enwiki_city_pairs_lemmatised/VERB_SPACY_LARGE/biggest_cities_5\\VERB__paris_berlin__.pickle\n",
      "\n",
      "432 ../../../../data/enwiki_city_pairs_lemmatised/VERB/biggest_cities_5\\VERB__paris_london__.pickle ../../../../data/enwiki_city_pairs_lemmatised/VERB_SPACY_LARGE/biggest_cities_5\\VERB__paris_london__.pickle\n",
      "\n",
      "433 ../../../../data/enwiki_city_pairs_lemmatised/VERB/biggest_cities_5\\VERB__paris_madrid__.pickle ../../../../data/enwiki_city_pairs_lemmatised/VERB_SPACY_LARGE/biggest_cities_5\\VERB__paris_madrid__.pickle\n",
      "\n",
      "434 ../../../../data/enwiki_city_pairs_lemmatised/VERB/biggest_cities_5\\VERB__paris_milan__.pickle ../../../../data/enwiki_city_pairs_lemmatised/VERB_SPACY_LARGE/biggest_cities_5\\VERB__paris_milan__.pickle\n",
      "\n"
     ]
    }
   ],
   "source": [
    "import os\n",
    "import pickle\n",
    "\n",
    "PATH_OLD = \"../../../../data/enwiki_city_pairs_lemmatised/VERB/\"\n",
    "PATH_NEW = \"../../../../data/enwiki_city_pairs_lemmatised/VERB_SPACY_LARGE/\"\n",
    "\n",
    "lemmatised_words = []\n",
    "\n",
    "i = 0\n",
    "for root, dirs, files in os.walk(PATH, topdown=True):\n",
    "    for file in files:\n",
    "        i+=1\n",
    "#         print(i, root, file)\n",
    "#         print(root, file)\n",
    "        city_pair = file.split('__')[1]\n",
    "        old_path = os.path.join(root, file)\n",
    "        new_path = old_path.replace(PATH_OLD, PATH_NEW)\n",
    "        \n",
    "        with open(old_path, 'rb') as fp:\n",
    "            old = pickle.load(fp)\n",
    "        \n",
    "        with open(new_path, 'rb') as fp:\n",
    "            new = pickle.load(fp)\n",
    "            \n",
    "        lemmatised_words.append((old, new, city_pair))\n",
    "        \n",
    "        print(i, old_path, new_path)\n",
    "        print()"
   ]
  },
  {
   "cell_type": "code",
   "execution_count": 96,
   "id": "fb6ffff8",
   "metadata": {},
   "outputs": [
    {
     "name": "stderr",
     "output_type": "stream",
     "text": [
      "[nltk_data] Downloading package wordnet to\n",
      "[nltk_data]     C:\\Users\\deejay\\AppData\\Roaming\\nltk_data...\n",
      "[nltk_data]   Package wordnet is already up-to-date!\n",
      "[nltk_data] Downloading package omw-1.4 to\n",
      "[nltk_data]     C:\\Users\\deejay\\AppData\\Roaming\\nltk_data...\n",
      "[nltk_data]   Unzipping corpora\\omw-1.4.zip.\n"
     ]
    },
    {
     "data": {
      "text/plain": [
       "True"
      ]
     },
     "execution_count": 96,
     "metadata": {},
     "output_type": "execute_result"
    }
   ],
   "source": [
    "import nltk\n",
    "from nltk.corpus import wordnet as wn\n",
    "\n",
    "nltk.download('wordnet')\n",
    "nltk.download('omw-1.4')"
   ]
  },
  {
   "cell_type": "code",
   "execution_count": 98,
   "id": "c6b6f953",
   "metadata": {},
   "outputs": [
    {
     "name": "stdout",
     "output_type": "stream",
     "text": [
      "{'kettere': set(), 'aguas': set(), 'campo': set(), 'tbilisi': {'n'}, 'antoni': set(), 'jorge': set(), 'kei': set(), 'olmste': set(), 'forqué': set(), 'maccabi': set(), 'por': set(), 'avenida': set(), 'crepúsculo': set(), 'comunista': set(), 'landless': {'a'}, 'hoda': set(), 'stanste': set(), 'línea': set(), 'dani': set(), 'lyon': {'n'}, 'rundfunk3sat': set(), 'laserna': set(), 'pistolerismo': set(), 'ofunam': set(), 'buque': set(), 'consulate': {'n'}, 'com': set(), 'illa': set(), 'war': {'n', 'v'}, 'forgave': set(), 'gilmore': set(), 'getafe': set(), 'figo': set(), 'around': {'r'}, 'ham': {'n'}, 'urumea': set(), 'azul': set(), 'casablanca': {'n'}, 'azule': set(), 'zeani': set(), 'motive': {'s'}, 'undergraduate': {'n'}, 'ceronetti': set(), 'segle': set(), 'enseñarle': set(), 'commuter': {'n'}, 'badge': {'n', 'v'}, 'barefoot': {'s'}, 'tenure': {'n', 'v'}, 'roy': set(), 'prin': set(), 'lore': {'n'}, 'alphen': set(), 'sojo': set(), 'casare': set(), 'swiss': {'n', 'a'}, 'handicap': {'n', 'v'}, 'fleme': set(), 'ratcliff': set(), 'punk': {'n'}, 'rambla': set(), 'deportiva': set(), 'ceuta': set(), 'fifa': set(), 'bme': set(), 'seongnam': set(), 'mimi': set(), 'mover': {'n'}, 'mangrove': {'n'}, 'levante': set(), 'al': set(), 'bologna': {'n'}, 'landon': set(), 'chocolate': {'n'}, 'amunike': set(), 'fuerte': set(), 'thameslink': set(), 'summercase': set(), 'confrontacione': set(), 'lucie': set(), 'howl': {'n', 'v'}, 'underground': {'r', 'n'}, 'trieste': set(), 'danmark': set(), 'ronaldinho': set(), '198586': set(), 'hermano': set(), 'goetz': set(), 'valentin': set(), 'sylvain': set(), 'torre': set(), 'bakuninist': set(), 'borchert': set(), 'dominic': {'n'}, 'mohame': set(), 'maria': {'n'}, 'dindumentària': set(), 'cabify': set(), 'captivate': set(), 'atlantiqueende': set(), 'zaragossa': set(), 'cuf': set(), 'figuere': set(), 'superiore': set(), 'finidi': set(), 'alexei': set(), 'larga': set(), 'garanti': set(), 'primitivo': set(), 'petr': set(), 'cárcel': set(), 'casilla': set(), 'guillermo': set(), 'radiacione': set(), 'hollister': set(), 'savo': set(), 'bruguera': set(), 'poseur': {'n'}, '32': set(), 'thyssen': set(), 'fundació': set(), 'pourret': set(), 'trias': set(), 'indefinite': {'s', 'a'}, 'recreativo': set(), 'amen': {'n'}, 'sin': {'n', 'v'}, 'cheste': set(), 'czech': {'n', 'a'}, 'giulietta': set(), 'cerebro': set(), 'sita': {'n'}, 'suite': {'n'}, 'purcell': {'n'}, 'retevisión': set(), 'verd': set(), 'becas': set(), 'fritzi': set(), 'deere': {'n'}, 'bienvenue': set(), 'verdi': {'n'}, 'fiesta': set(), 'waltraute': set(), 'armando': set(), 'chagall': {'n'}, 'mumok': set(), 'feyenoord': set(), 'wta': set(), 'arca': {'n'}, 'kunsthaus': set(), 'bogotá': set(), 'cristiano': set(), 'protract': set(), 'reachable': set(), 'hall': {'n'}, 'jar': {'n', 'v'}, 'romeo': {'n'}, 'soloist': {'n'}, 'margall': set(), 'heyncke': set(), 'overall': {'n', 's'}, 'atp': set(), 'huai': set(), 'mutua': set(), 'golubev': set(), 'shelbourne': set(), 'fountain': {'n'}, 'sander': set(), 'lammermoor': set(), 'antifeixiste': set(), 'profile': {'n', 'v'}, 'orchestre': set(), 'katie': set(), 'kneed': set(), 'prague': {'n'}, 'trelles': set(), 'crowdfunde': set(), '42': set(), 'vecvagar': set(), 'baritone': {'n', 's'}, 'right': {'v', 'a', 'r', 'n', 's'}, 'lichtenfel': set(), 'ap2': set(), 'badia': set(), 'giant': {'n'}, 'tan': {'n', 's', 'v'}, 'vicente': set(), 'facebook': set(), 'copa': set(), 'torino': set(), 'striker': {'n'}, 'beatrice': {'n'}, 'almaviva': set(), 'scandinavia': {'n'}, 'wenger': set(), 'sieglinde': set(), 'netherland': set(), 'wilander': set(), 'gianluca': set(), 'jaume': set(), 'disillusion': set(), 'colino': set(), 'wim': set(), 'klm': set(), 'bari': {'n'}, 'disable': {'v'}, 'social12': set(), 'or': set(), 'meagre': set(), 'claret': {'n', 'v'}, 'sheffield': {'n'}, 'aiazo': set(), 'qatar': {'n'}, 'manchester': {'n'}, 'sanz': set(), 'georgetown': {'n'}, 'dorange': set(), 'contested': {'a'}, 'donetsk': {'n'}, 'goalscore': set(), 'website': set(), 'dissapointe': set(), 'cervante': set(), 'cavalry': {'n'}, 'amelia': {'n'}, 'leopold': set(), 'bunyol': set(), 'dançando': set(), 'hjørre': set(), 'motorize': {'v'}, 'individual': {'n', 's', 'a'}, 'barça': set(), 'rizal': set(), '01': set(), 'musetta': set(), 'fiji': {'n'}, 'cadaque': set(), 'hebrew': {'n'}, 'carreró': set(), 'railway': {'n'}, 'eaj5': set(), 'juan': set(), 'milá': set(), 'gille': set(), 'christoph': set(), 'venable': set(), 'pedro': set(), 'recourse': {'n'}, 'outfit': {'n'}, 'catalan': {'n', 'a'}, 'garrotxa': set(), 'rossa': set(), 'gwynne': set(), 'mexicano': set(), 'fernando': set(), 'viento': set(), 'alianza': set(), 'h': {'n'}, 'benzema': set(), 'arteta': set(), 'natureza': set(), 'vacío': set(), 'lampe': set(), 'tve': set(), 'collaboration': {'n'}, 'ac': set(), 'maggiore': set(), 'liverpool': {'n'}, 'sd': set(), 'castell': set(), 'lobkowicz': set(), 'torrijos': set(), 'mercede': set(), 'napoli': set(), 'fiordiligi': set(), 'freunde': set(), 'feve': set(), 'scharn': set(), 'málaga': set(), 'más': set(), 'camarote': set(), 'esteve': set(), 'trabzonspor': set(), 'annale': set(), 'gibraltar': {'n'}, 'sergio': set(), 'escuela': set(), 'jinete': set(), 'uruguayan': {'n', 'a'}, 'benoît': set(), 'yonder': {'r', 's'}, 'derry': set(), 'buxeda': set(), 'benjamín': set(), 'siglo': set(), 'kundry': set(), 'logroño': set(), 'andrė': set(), 'leftwe': set(), 'eaj9': set(), 'aek': set(), 'cologne': {'n'}, 'venus': {'n'}, 'salvador': set(), 'ángele': set(), 'cadiz': {'n'}, 'insurtech': set(), 'nightmare': {'n'}, 'formó': set(), 'pitti': set(), 'england': {'n'}, 'sneijder': set(), 'filipino': {'n', 'a'}, 'andre': set(), 'albert': {'n'}, 'nicart': set(), 'saragossa': set(), 'dunk': {'n', 'v'}, 'mujere': set(), 'leed': set(), 'fiare': set(), 'vb': set(), 'buyout': {'n'}, 'hansa': set(), 'bacca': set(), '97': set(), 'sánchez': set(), 'porta': set(), 'openbank': set(), 'badajoz': set(), 'ferdinand': {'n'}, 'pinacoteca': set(), 'grande': set(), 'teatro': set(), 'sándor': set(), 'honori': set(), 'elizaveta': set(), 'roda': set(), 'masnadieri': set(), 'nürburgre': set(), 'lear': {'n'}, 'cop20': set(), 'cosmo': set(), 'webb': {'n'}, 'vandellòs': set(), 'architecture': {'n'}, 'viceroy': {'n'}, 'raúl': set(), 'campos': set(), 'seydou': set(), 'pero': set(), 'ateneo': set(), 'capello': set(), 'bernard': {'n'}, 'tarifa': set(), 'mistook': set(), 'slavia': set(), 'cd': set(), 'irene': set(), 'ortolá': set(), 'santander': set(), 'reale': set(), 'caixa': set(), 'leal': {'s'}, 'rusalka': set(), 'farga': set(), 'easter': {'n'}, 'moncada': set(), 'lycome': set(), 'dolci': set(), 'roma': set(), 'limmud': set(), 'gravesen': set(), 'décimo': set(), 'demoralize': {'v'}, 'seraph': {'n'}, 'granada': {'n'}, 'westfield': set(), 'valverde': set(), 'leicester': {'n'}, 'uncompromise': set(), 'extranjería': set(), 'sociológica': set(), 'denis': set(), 'madrileña': set(), 'locomotive': {'n', 'a'}, 'llobregat': set(), 'pala': set(), 'dhoffmann': set(), 'rite': {'n'}, '20': set(), 'foot': {'n', 'v'}, 'isabel': set(), 'chambre': set(), 'uste': set(), 'mazembe': set(), 'sant': set(), 'iu': set(), 'overarch': {'v'}, 'pütz': set(), 'baleare': set(), 'newcastle': {'n'}, 'universita': set(), 'pisuerga': set(), 'tether': {'v'}, 'fledge': {'v'}, 'cetnarowski': set(), 'alliance': {'n'}, 'fame': {'n'}, 'theater': {'n'}, 'space': {'n', 'v'}, 'florence': {'n'}, 'exposició': set(), 'bk': set(), 'foothill': {'n'}, 'fray': {'v'}, 'maid': {'n'}, 'carla': set(), 'rencontre': set(), 'schade': set(), 'guillaume': set(), 'lech': set(), 'ai': set(), 'venta': set(), 'rubie': set(), 'carrillo': set(), 'erfurt': set(), 'regà': set(), 'algo': set(), 'tito': {'n'}, 'kurt': set(), 'izik': set(), 'padre': set(), 'pamplona': set(), 'piacere': set(), 'artiste': {'n'}, 'ilhwa': set(), 'feliciano': set(), 'george': {'n'}, 'produccione': set(), 'espionage': {'n'}, 'shinkansen': set(), 'cuenca': set(), 'deceive': {'v'}, 'cadmos': set(), 'honoris': set(), 'manuel': set(), 'horrify': set(), 'unserve': set(), 'wheelchair': {'n'}, 'perera': set(), 'baraja': set(), 'billionaire': {'n'}, 'lazio': set(), 'belenense': set(), '51': set(), 'für': set(), 'steaua': set(), 'violist': {'n'}, 'garrigue': set(), 'tn': set(), '07': set(), 'nacional': set(), 'germain': set(), 'supercomputer': {'n'}, 'enschede': set(), 'rainbow': {'n'}, 'chorus': {'n', 'v'}, 'sine': {'n'}, 'indo': set(), 'bielsa': set(), 'doncell': set(), 'dustin': set(), 'compañía': set(), 'internet': {'n'}, 'trame': set(), 'songwrite': set(), 'unsporte': set(), 'gran': set(), 'infante': set(), 'roberto': set(), 'adjoin': {'v'}, 'diego': set(), 'desdemona': set(), 'rge': set(), 'thrill': {'n', 'v'}, 'ince': set(), 'distraught': {'s'}, 'sabadell': set(), 'valentine': {'n'}, 'police': {'n'}, 'derby': set(), 'stravinsky': {'n'}, 'kristine': set(), 'peñafiel': set(), 'tiebreake': set(), 'de': set(), 'leire': set(), 'charter': {'n', 'v'}, 'anaide': set(), 'jazz': {'n', 'v'}, 'master': {'n', 'v'}, 'placido': set(), 'picasso': {'n'}, 'elche': set(), '24': set(), 'rtve': set(), 'ode': {'n'}, 'untitle': set(), 'montet': set(), 'karim': set(), 'glare': {'n', 'v'}, 'carrer': set(), 'denmark': {'n'}, 'armide': set(), 'shammu': set(), 'sak': set(), 'derelict': {'n', 's'}, 'matthew': {'n'}, 'puig': set(), 'eindhoven': {'n'}, 'sesc': set(), 'warp': {'n'}, 'ase': set(), 'gb': set(), 'stewart': {'n'}, 'eskalera': set(), 'mateo': set(), 'dunedin': set(), 'española': set(), 'dio': set(), 'penultimate': {'s'}, 'nanetta': set(), 'equipo': set(), '111e': set(), 'senante': set(), 'davor': set(), 'thiago': set(), 'mister': {'n'}, 'viaggio': set(), 'inch': {'n'}, 'loop': {'n', 'v'}, 'decisión': set(), 'canal': {'n', 'v'}, 'molinón': set(), 'alcala': set(), 'ante': {'n', 'v'}, 'cadogan': set(), 'linfield': set(), 'dolore': set(), 'kirkene': set(), 'pincha': set(), 'dante': {'n'}, 'puyol': set(), 'orientade': set(), 'embattle': {'v'}, 'tarragona': set(), 'flavia': set(), 'betis': set(), 'dortmund': {'n'}, 'nanne': set(), 'naple': set(), 'sivilla': set(), 'pandillismo': set(), 'stimulate': {'v'}, 'albacete': set(), 'querrey': set(), 'montseny': set(), 'arenero': set(), 'galaxy': {'n'}, 'handball': {'n'}, 'dutch': {'n', 'a'}, 'chute': {'n', 'v'}, 'radame': set(), 'nozze': set(), 'ukraine': {'n'}, 'geli': set(), 'schalke': set(), 'cesare': set(), 'introdução': set(), 'boixos': set(), 'fundamentale': set(), 'plaza': {'n'}, 'vigo': set(), 'guzmán': set(), 'divisie': set(), 'csș': set(), 'marín': set(), 'alcalá': set(), 'apoel': set(), 'donizetti': {'n'}, 'astorga': set(), 'giraldo': set(), 'condal': set(), 'domínguez': set(), 'panathinaikos': set(), 'konzaert': set(), 'ceu': set(), 'handel': {'n'}, 'ar': set(), 'esnáider': set(), 'primavera': set(), 'philharmonic': {'s', 'a'}, 'dalmacio': set(), 'dialogue': {'n'}, 'deià': set(), 'onward': set(), 'rapa': set(), 'žemlja': set(), 'toledo': {'n'}, 'wanderer': {'n'}, 'allegri': set(), 'rome': {'n'}, 'del': set(), 'deutsche': set(), 'festival': {'n'}, 'bajo': set(), 'mach': {'n'}, 'oliver': {'n'}, 'creditwatch': set(), 'ce': {'r'}, 'dutchman': set(), 'lipset': set(), 'german': {'n', 'a'}, 'porto': {'n'}, 'hsv': set(), 'escatllar': set(), 'maribor': set(), 'españa': set(), 'vend': set(), 'ilia': set(), 'rakuten': set(), 'muñoz': set(), 'sm': set(), 'incensed': set(), 'matkowski': set(), 'nedve': set(), 'defender': {'n'}, 'european': {'n', 'a'}, 'demoralise': set(), 'birth': {'n'}, 'corte': set(), 'paulo': set(), 'buyten': set(), 'schulten': set(), 'ardavín': set(), 'gárate': set(), 'kuche': set(), 'adida': set(), 'shelter': {'n', 'v'}, 'internazionale': set(), 'hamilton': {'n'}, 'sqm': set(), 'bernabeu': set(), 'favourite': set(), 'alternativo': set(), 'illiralaare': set(), 'photovoltaic': {'a'}, 'gleave': set(), 'madrid': {'n'}, 'rave': {'n', 'v'}, 'toshack': set(), 'terra': set(), 'leader': {'n'}, 'división': set(), 'joan': set(), 'rote': {'n'}, 'massif': {'n'}, 'salamanca': set(), 'ado': set(), 'unwavere': set(), 'fictionalise': set(), 'gluck': {'n'}, 'utd': set(), 'estrelle': set(), 'centro': set(), 'winner': {'n'}, 'forementione': set(), 'desna': set(), 'kunstausstellung': set(), 'danza': set(), 'correo': set(), 'chile': {'n'}, 'moroccan': {'n', 'a'}, 'received': {'s'}, 'denny': set(), 'shapovalov': set(), 'justo': set(), 'pollard': {'n'}, 'turan': set(), 'trust': {'n', 'v'}, 'roccuzzo': set(), 'annotate': {'v'}, 'flaquer': set(), 'conor': set(), 'pirri': set(), 'švankmajer': set(), 'taro': {'n'}, 'santiago': {'n'}, 'referreee': set(), 'lima': {'n'}, 'druga': set(), 'barrois': set(), '91': set(), 'joglar': set(), 'premio': set(), 'separatist': {'n'}, 'aouate': set(), 'ignorance': {'n'}, 'farfetch': set(), 'pel': set(), 'la': {'n'}, 'bust': {'n'}, 'industriale': set(), 'modernisme': set(), 'rearset': set(), 'marseille': {'n'}, 'callejón': set(), 'bohème': set(), 'hooligan': set(), 'perl': set(), 'folie': set(), 'appearance': {'n'}, 'brazdeiki': set(), 'rodolfo': set(), 'inge': {'n'}, 'viktoria': set(), 'aiken': {'n'}, 'cort': set(), 'girona': set(), 'zazpikaleak': set(), 'novedade': set(), 'fema': set(), 'szege': set(), 'lleida': set(), 'ranger': set(), 'lake': {'n'}, 'nudo': set(), 'pantographs': set(), 'šabac': set(), 'murray': {'n'}, 'vancouver': {'n'}, 'simonsen': set(), 'tunis': {'n'}, 'hercog': set(), 'macro': {'n', 's'}, 'piedmont': {'n'}, 'wayan': set(), 'kirumira': set(), 'rodalie': set(), 'hidalgo': set(), 'marin': set(), 'malaga': {'n'}, 'ntn': set(), 'lausanne': {'n'}, 'squash': {'n', 'v'}, 'routledge': set(), 'zone': {'n', 'v'}, 'deportivo': set(), 'gracie': set(), 'sweden': {'n'}, 'kk': set(), 'forest': {'n'}, 'museu': set(), 'myrna': set(), 'nick': {'n', 'v'}, 'reykjavík': set(), 'akandouch': set(), 'deicman': set(), 'cadet': {'n'}, 'emilio': set(), '50': set(), 'domeny': set(), 'spartak': set(), '22': set(), 'groene': set(), 'fonoteca': set(), 'sigmund': set(), 'montpellier': set(), 'borrell': set(), 'rubén': set(), 'baidu': set(), 'chili': {'n'}, 'gobante': set(), 'cartagena': {'n'}, 'blue': {'n', 's', 'v'}, 'dona': {'n'}, 'ensemble': {'n'}, 'vva': set(), 'primo': {'n', 's'}, 'étude': set(), 'dit': set(), 'olga': set(), 'baldur': set(), 'gps': set(), 'pathbreake': set(), 'boldklubben': set(), 'midfielder': set(), 'premise': {'n', 'v'}, 'finalist': {'n'}, 'pepe': set(), 'alexia': set(), 'lisbon': {'n'}, 'batalión': set(), 'rocío': set(), 'muziekgebouw': set(), 'forage': {'v'}, 'santíssimo': set(), 'amaury': set(), 'ireland': {'n'}, 'figuera': set(), 'wilfrie': set(), 'iffh': set(), 'adolfo': set(), 'carretera': set(), 'galatasaray': set(), 'como': set(), 'recuerdo': set(), 'mikhail': set(), 'duh': set(), 'cadafalch': set(), 'vázquez': set(), 'ud': set(), 'anthropologist': {'n'}, 'maría': set(), 'focsa': set(), 'mnac': set(), 'conversacione': set(), 'crack': {'n', 'v'}, 'lopside': set(), 'symphony': {'n'}, 'carlo': set(), 'mdf': set(), 'pressurize': {'v'}, 'club': {'n', 'v'}, 'varvara': set(), 'nazi': {'n', 'a'}, 'siete': set(), 'fortuna': {'n'}, 'overcame': set(), 'seidemann': set(), 'pesaro': set(), 'schole': set(), 'alexis': set(), 'torra': set(), 'gandia': set(), 'polideportivo': set(), 'earthquake': {'n'}, 'subvencionada': set(), 'filmmake': set(), 'almere': set(), 'krankl': set(), 'marco': set(), 'displeasure': {'n'}, 'industrialise': set(), 'esteem': {'n'}, 'venice': {'n'}, 'lepchenko': set(), 'fellow': {'n'}, 'hendaye': set(), 'poet': {'n'}, 'esparanza': set(), 'museo': set(), 'artois': {'n'}, 'director': {'n'}, 'extraño': set(), 'rosell': set(), 'cármene': set(), 'farie': set(), 'innsbruck': {'n'}, 'salón': set(), 'moussa': set(), 'rothko': {'n'}, 'alicante': set(), 'milan': {'n'}, 'marten': {'n'}, 'pe': {'n'}, 'championship': {'n'}, 'a22': set(), 'lourde': set(), 'belize': {'n'}, 'modrić': set(), 'arteón': set(), 'fellaini': set(), 'turkish': {'n', 'a'}, 'toulouse': {'n'}, 'localize': {'v'}, 'césar': set(), 'everlaste': set(), 'pan': {'n', 'v'}, 'onrushe': set(), 'bohemia': {'n'}, 'fre': set(), 'lesgaicinemad': set(), 'andrés': set(), 'parede': set(), 'canuda': set(), 'cathal': set(), 'balear': set(), 'olsen': set(), 'lanzini': set(), 'ryan': set(), 'sevilla': {'n'}, 'kyiv': set(), 'footballe': set(), 'opinion': {'n'}, 'gerhard': set(), 'discalce': set(), 'gown': {'n', 'v'}, 'teucro': set(), 'elena': set()}\n"
     ]
    }
   ],
   "source": [
    "words = ['amazing', 'interesting', 'love', 'great', 'nice']\n",
    "words = only_old\n",
    "pos_all = dict()\n",
    "for w in words:\n",
    "    pos_l = set()\n",
    "    for tmp in wn.synsets(w):\n",
    "        if tmp.name().split('.')[0] == w:\n",
    "            pos_l.add(tmp.pos())\n",
    "    pos_all[w] = pos_l\n",
    "print(pos_all)"
   ]
  },
  {
   "cell_type": "code",
   "execution_count": 110,
   "id": "31de7ea6",
   "metadata": {},
   "outputs": [
    {
     "name": "stdout",
     "output_type": "stream",
     "text": [
      "{'disable': {'v'}, 'motorize': {'v'}, 'demoralize': {'v'}, 'overarch': {'v'}, 'tether': {'v'}, 'fledge': {'v'}, 'fray': {'v'}, 'deceive': {'v'}, 'adjoin': {'v'}, 'embattle': {'v'}, 'stimulate': {'v'}, 'annotate': {'v'}, 'forage': {'v'}, 'pressurize': {'v'}, 'localize': {'v'}}\n"
     ]
    }
   ],
   "source": [
    "# for k, v in pos_all.items():\n",
    "#     print(k, v)\n",
    "    \n",
    "l = {k:v for k,v in pos_all.items() if 'v' in v and len(v) == 1}\n",
    "print(l)"
   ]
  },
  {
   "cell_type": "code",
   "execution_count": 99,
   "id": "b9df9341",
   "metadata": {},
   "outputs": [
    {
     "data": {
      "text/plain": [
       "911"
      ]
     },
     "execution_count": 99,
     "metadata": {},
     "output_type": "execute_result"
    }
   ],
   "source": [
    "# Go over only old and only new with lemmatization\n",
    "len(only_old)"
   ]
  },
  {
   "cell_type": "code",
   "execution_count": 86,
   "id": "0ddce7c8",
   "metadata": {
    "scrolled": false
   },
   "outputs": [
    {
     "name": "stdout",
     "output_type": "stream",
     "text": [
      "files: 434\n",
      "old, new, union, intersect, only_old, only_new\n",
      "['staffordshire', 'ucla', 'clark', 'aek', 'efim', 'roll', 'shoot', 'i65', 'stanste', 'tokyo', 'malaga', 'quartet', 'kunstnerne', 'spitalfield', 'quadrant', 'conor', 'consulate', 'ato', 'davor', '30', 'interstate', 'amputee', 'tweed', 'assen', 'lula', 'shoop', 'premio', 'ghent', 'man', 'oak', 'silver', 'usc', 'acclaim', 'bwf', 'imo', 'bajmok', 'bali', 'prague', 'filmmake', 'laskaridi', 'femme']\n",
      "329  300  341    288        41        12   \n",
      "['asw', 'lisbon', 'aek', 'guillaume', 'wolfram', 'bio', 'tbilisi', 'jorge', 'croatia', 'antonio', 'manfre', 'figaro', 'shoot', 'nozze', 'texan', 'valentin', 'kwon', 'jharkhand', 'alicante', 'newport', 'doha', 'coimbra', 'gsm', 'cape', 'palma', 'paget', 'marry', 'ranking', 'introduktör', 'renato', 'consulate', 'george', 'bogotá', 'ravenna', 'm', 'robeiri', 'exchange', 'congresse', 'sesto', 'assen', 'praia', 'dunlop', 'brook', 'moderne', 'qatar', 'do', 'turbolet', 'proceed', 'barcelona', 'humbert', 'alegre', 'rome', 'kyiv', 'ferry', 'festival', 'charleston', 'somerset', 'florence', 'riccardo', 'baritone', 'fixture', 'denmark', 'germont']\n",
      "439  404  467    376        63        28   \n",
      "['octavian', 'rodger', 'campo', 'tbilisi', 'jorge', 'qanta', 'refine', 'bar', 'stanste', 'upstate', 'plataea', 'soter', 'consulate', 'postulate', 'existent', 'diognetus', 'frankfort', 'wfer', 'accademia', 'musicale', 'metamorphosus', 'valentin', 'aegion', 'gift', 'stoichedon', 'mit', 'christianity', 'aristotle', 'unapprove', 'encrypt', 'stavanger', 'lae', 'paper', 'tait', 'cult', 'manpower', 'città', 'tristin', 'durham', 'adnan', 'polite', 'canaanite', 'hall', 'socrate', 'relegatio', 'soloist', 'herzog', 'frighten', 'bing', 'institutio', 'polytechnique', 'corinth', 'prague', 'demorean', 'baritone', 'usa', 'nairobi', 'shay', 'demosthene', 'chesnutt', 'acanthosis', 'tuni', 'jaume', 'klm', 'crete', 'infuriate', 'leonardo', 'qatar', 'aleppo', 'dubrovnik', 'gaul', 'cervante', 'labalme', 'lovejoy', 'hebrew', 'aegina', 'patricia', 'rhode', 'livia', 'ankara', 'lundberg', 'midland', 'int', 'gsm', 'antony', 'hawke', 'pietro', 'aristide', 'liverpool', 'fresco', 'sesto', 'cato', 'paerisade', 'sergio', 'rabbi', 'surabaya', 'grégoire', 'denpasar', 'venus', 'dun', 'raf', 'sparta', 'leo', 'pillare', 'dunk', 'kazantzidis', 'ferdinand', 'alexandria', 'dresden', 'italy', 'abidjan', 'minoan', 'abdul', 'delphi', 'single', 'riccardo', 'patro', 'ακροπόλεις', 'overthrew', 'vein', 'easter', 'underwent', 'sligo', 'ii', 'roma', 'aussenstellen', 'desert', 'disfavor', 'pope', 'algarve', 'ceer', 'orientalize', 'responsa', 'fledge', 'fame', 'warmth', 'greece', 'florence', 'cape', 'adelphia', 'guillaume', 'croatia', 'duumvir', 'giza', 'ioc', 'chamude', 'palazzo', 'smyrna', 'george', 'honoris', 'royaume', 'crab', 'elba', 'tn', 'suo', 'rocca', 'bemuse', 'athenian', 'wolfram', 'spaulde', 'celestine', 'writing', 'woode', 'lanitis', 'figaro', 'ferdinando', 'giacomo', 'evente', 'west', 'plato', 'statute', 'de', 'fato', 'cambridge', 'terme', 'philodemus', 'kyriakide', 'ballet', 'marcel', 'waste', 'winchester', 'exasperate', 'irina', 'henzen', 'bilioteca', 'mytilene', 'reisen', 'denmark', 'germont', 'bryant', 'ennio', 'sangit', 'bardstown', 'dio', 'dei', 'tran', 'paul', 'mgm', 'bloch', 'dive', 'berard', 'sevenoak', 'salus', 'doesstraat', 'ait', 'escort', 'roman', 'ration', 'rpg', 'nozze', 'propertie', 'renato', 'melbourne', 'romero', 'landowne', 'siegfrie', 'anthoni', 'savoir', 'ar', 'auburn', 'marcus', 'vendetta', 'onward', 'ist', 'rome', 'deutsche', 'ce', 'rozmowa', 'pompey', 'animate', 'tancre', 'bacchus', 'preexist', 'voyage', 'demoralise', 'mistake', 'arnhold', 'cotta', 'malta', 'obedience', 'rotunda', 'gaia', 'mittelalter', 'bridgeport', 'historique', 'seleucus', 'stanza', 'ancient', 'docteur', 'alice', 'damn', 'scholario', 'tonbridge', 'bucharest', 'peke', 'rewrote', 'hierapytna', 'montenegro', 'ptolemy', 'debauch', 'irgen', 'ivanov', 'submerge', 'hayne', 'heathrow', 'dušan', 'gheorghiu', 'szege', 'athen', 'lockheed', 'vancouver', 'octavia', 'port', 'macro', 'hole', 'fronto', 'violinist', 'brindisi', '67', 'auserlesene', 'findung', 'pergamum', 'cicero', 'artshake', 'brief', 'elongate', 'agio', 'alexander', 'copenhagen', 'jerome', 'origen', 'étude', 'patronise', 'ramesse', 'bce', 'halim', 'οἱ', 'doukas', 'v', 'lisbon', 'theodore', 'antonio', 'concorso', 'pressurize', 'pausanias', 'nazi', 'overcame', 'gott', 'xerxe', 'genova', 'alexis', 'pirate', 'bratislav', 'venice', 'litchfield', 'haile', 'fence', 'ägyptische', 'alicante', 'milan', 'vladimir', 'bowl', 'faustina', 'orfeo', 'diogene', 'rosetti', 'payne', 'pisidien', 'ulustre', 'unmoleste', 'tzaim', 'sort', 'bend', 'confederate', 'elena', 'tate']\n",
      "1806 1596 1932   1470       336       126  \n",
      "['', 'quezon', 'tbilisi', 'sarsfield', 'iveth', 'stanste', 'seed', 'evente', 'desron', 'suzanne', 'pietro', 'anadolu', 'consulate', 'breno', 'terme', 'kyriakide', 'marcel', 'dehydrate', 'dishearten', 'acclaim', 'dede', 'sergio', 'bessmertnykh', 'periodise', 'beqir', 'featherweight', 'inge', 'rebound', 'maimonide', 'barbosa', 'lake', 'bologna', 'vancouver', 'dubai', 'fiba', 'point', 'malaga', 'dunedin', 'dunk', 'brindisi', 'mughal', 'deicman', 'teatro', 'petar', 'barcelona', 'rawle', 'single', 'weightlift', 'p12', 'trofan', 'dortmund', 'p13', 'lisbon', 'pire', 'tait', 'easter', 'ireland', 'herode', 'dress', 'vip', 'newport', 'robo', 'melbourne', 'divisie', 'submarine', 'algarve', 'tusha', 'ree', 'européen', 'panathinaikos', 'foot', 'serie', 'nikita', 'watch', 'iv', 'heat', 'ibei', 'alvear', 'bulten', 'florence', 'upkeep', 'palma', 'baritone', 'dae', 'usa', 'ruin', 'femme', 'asw', 'internazionali', 'almere', 'phi', 'museo', 'croatia', 'carstensen', 'fence', 'alicante', 'mkhitar', 'paulo', 'algueró', 'bowne', 'ioc', 'discus', 'ranking', 'swam', 'diogene', 'internazionale', 'andrés', 'prekas', 'orel', 'turbolet', 've', 'fourteenth', 'powerlifte', 'nacional', 'staatsballet']\n",
      "744  686  801    629        115       57   \n",
      "['arnau', 'as', 'schofield', 'dimitri', 'watford', 'stead', 'matthew', 'auld', 'midfielder', 'goalkeeper', 'hibernian', 'manfre', 'teasmade', 'defender', 'suffocate', 'roma', 'railfreight', 'equalized', 'stanste', 'attack', 'armando', 'montreal', 'westfield', 'willesden', 'artprojx', 'leicester', 'discus', 'bc', 'conor', 'pfa', 'roeselare', 'sheffield', '34', 'imax', 'espanyol', 'sándor', 'cargo', 'domínguez', 'tobias', 'brook', 'lacey', 'research', '20', 'manchester', 'don', 'spartak', 'barcelona', 'acclaim', 'hollister', 'roam', 'newcastle', 'essl', 'teach', 'precise', 'single', 'pathe', 'wanderer', 'opera', 'bevel', 'vje', '122nd', 'bustle', 'somerset', 'ce', 'aluko', 'breslau', 'wetten', 'femme']\n",
      "471  422  490    403        68        19   \n",
      "['carnac', 'spezia', 'greek', 'plataforma', 'tbilisi', 'roll', 'gran', 'splash', 'infante', 'stanste', 'orange', 'rumour', 'valladolid', 'herrenhausen', 'tve', 'vladigerov', 'lobkowicz', 'nuve', 'anaide', 'curl', 'tender', 'freunde', 'málaga', 'la', 'kindre', 'wetten', 'queenstown', 'sergio', 'shamrock', 'crs', 'bohème', 'viktoria', 'untitle', 'rodolfo', 'board', 'ceuta', 'kundry', 'bologna', 'font', 'puig', 'trieste', 'und', 'aachen', 'goetz', 'leed', 'bucurești', 'figuere', 'superiore', 'circa', 'teatro', 'louis', 'canal', 'synthèse', 'barcelona', 'abroise', '32', 'essen', 'weightlift', 'midfielder', 'montecchi', 'naple', 'billboard', 'aleksandra', 'lisbon', 'deflect', 'cortini', 'suite', 'danube', 'radame', 'dress', 'newport', 'lviv', 'verdi', 'rizatdinova', 'chagall', 'vigo', 'guitarist', 'store', 'zoo', 'donizetti', 'brasschaat', 'romani', 'ar', 'gijón', 'onward', 'lovebyte', 'rome', 'august', 'pesaro', 'elite', 'u19', 'theater', 'festival', 'greece', 'florence', 'theatre', 'palma', 'baritone', 'splendid', 'german', 'paraíso', 'porto', 'maid', 'venice', 'facebook', 'españa', 'museo', 'croatia', 'varel', 'christoff', 'manfre', 'barfleur', 'alicante', 'vivant', 'milan', 'sieglinde', 'dane', 'kovač', 'mistake', 'championship', 'sfmoma', 'inn', 'embden', 'george', 'sheffield', 'everlaste', 'bohemia', 'céret', 'jon', 'homeward', 'madrid', 'invigorate', 'turbolet', 'mequinenza', 'belenense', 'mamun', 'cervante', 'steaua', 'footballe', 'inforce', 'freight', 'macba', 'hebrew']\n",
      "918  832  975    775        143       57   \n",
      "['backstroke', 'adalbert', 'indo', 'spedde', 'rain', 'dinge', 'martiri', 'secondiano', 'juanjo', 'dustin', 'braathen', 'henry', 'tbilisi', 'etcstill', 'cloud', 'eugene', 'olmste', 'werra', 'undistinguishe', 'chile', 'bourse', 'rewrote', 'roberto', 'persona', 'stanste', 'diego', 'agustinas', 'catalan', 'evente', 'vittoria', 'desdemona', 'blur', 'emeritus', 'ennismore', 'usakamyar', 'gindi', 'maguelonne', 'fernando', 'valentine', 'pietro', 'rosset', 'parroquian', 'consulate', 'lucas', 'feste', 'kristine', 'vrije', 'santiago', 'braahten', 'adelaide', 'liverpool', 'imax', 'igor', 'barrois', 'terme', 'moderne', 'kyriakide', 'thieve', 'mercede', 'dissatisfy', 'course', 'tenure', 'classify', 'barret', 'legate', 'sergio', 'ahn', 'marseille', 'rabbi', 'així', 'pause', 'rtve', 'bohème', 'uruguayan', 'rodolfo', 'silversmithe', 'sport', 'generalissimo', 'bologna', 'cinecittà', 'murray', 'vancouver', 'pour', 'massú', 'lucie', 'und', 'grunsven', 'macro', 'abdesseme', 'concert', 'torre', 'marin', 'andre', 'dominic', 'haver', 'leo', 'dei', 'blay', 'dunk', 'detroit', 'alfonso', '97', 'ferdinand', 'grande', 'teatro', 'louis', 'berendey', 'pollard', 'vike', 'mit', 'masnadieri', 'barcelona', 'hollister', 'geronimo', 'dante', 'interconnect', 'a320', 'dope', 'gray', 'vje', 'olga', 'seydou', 'bce', 'bernard', 'tarragona', 'pre', 'gonçalve', 'dortmund', 'naple', 'cycliste', 'mcd', 'lisbon', 'plain', 'tait', 'esf', 'canoe', 'santíssimo', 'nikolay', 'nozze', 'dolci', 'meadow', 'baronessa', 'lviv', 'verdi', 'ethnik', 'waltraute', 'eliskase', 'westfield', 'zumalacarregui', 'chagall', 'wildcard', 'indianapolis', 'melbourne', 'review', 'accustom', 'gennaro', 'denis', 'cihong', 'bogotá', 'pope', 'algarve', 'madrileña', 'maría', 'dhoffmann', 'domínguez', 'welsh', 'varvara', 'stencil', '4053', 'air', 'fellowship', 'newcastle', 'lammermoor', 'arrighetti', 'opera', 'latrine', 'rome', 'festival', 'florence', 'theatre', 'dutchman', 'baritone', 'usa', 'sacro', 'internazionali', 'esteem', 'rencontre', 'venice', 'vicente', 'pds', 'españa', 'museo', 'fence', 'christoff', 'hug', 'tosca', 'contemporană', 'talarn', 'matkowski', 'manfre', 'alicante', 'valencià', 'sieglinde', 'eltingh', 'olot', 'henrietta', 'wilander', 'river', 'dilapidate', 'embellish', 'swam', 'stimulo', 'ranking', 'feliciano', 'zeno', 'estate', 'universität', 'arsenio', 'grind', 'george', 'meagre', 'claret', 'favourite', 'kristiansand', 'assisi', 'illiralaare', 'pagès', 'arnaud', 'madrid', 'unserve', 'dorange', 'stoke', 'marsa', 'skate', 'billionaire', 'wilfre', 'bud', 'ryan', 'printmake', 'gremelmayr', 'fenice', 'cervante', 'garrigue', 'carle', 'nacional', 'ecclesiàstique', 'room', 'cadaque', 'hebrew']\n",
      "1257 1112 1361   1008       249       104  \n",
      "['greenfield', 'aegina', 'tobago', '04', 'fremantle', 'figure', 'katholieke', 'strove', 'tbilisi', 'ankara', 'parish', 'walker', 'bucharest', 'strataki', 'peke', 'versaille', 'mihailo', 'maccabi', 'matić', 'sound', 'ail', 'nuance', 'int', 'gilda', 'damascus', 'gsm', 'breast', 'suzanne', 'sandro', 'pietro', 'friesland', 'anadolu', 'consulate', 'descarte', 'cool', 'minute', 'ioanni', 'iosif', 'breno', 'liverpool', 'frankfurt', 'amputee', 'hebrew', 'assen', 'moderne', 'tweed', 'premio', 'filippoi', 'ciao', 'bohème', 'gheorghiu', 'kobe', 'denmark', 'mimi', 'jenny', 'technische', 'plenipotentiary', 'heidelberg', 'aek', 'lockheed', 'ennio', 'daegu', 'bio', 'manifesta', 'trieste', 'ircam', 'coordinate', 'austen', 'conference', 'westfallen', 'leo', 'musique', 'łódź', 'bc', 'marshal', 'aegion', 'kempe', 'hertha', 'festroia', 'teatro', 'mere', 'alba', 'inflame', 'ökonomische', 'dresden', 'abidjan', 'heatwave', 'abdul', 'delphi', 'single', 'ensemble', 'étude', 'vanoli', 'dortmund', 'budapest', 'shirin', 'naple', 'lae', 'orsay', 'ait', 'roman', 'libre', 'lisbon', 'giulietta', 'jena', 'underwent', 'disque', '12', 'telekom', 'alle', 'semoy', 'claude', 'concorso', 'herode', 'comme', 'romein', 'bridget', 'quartet', 'melbourne', 'kunsthaus', 'worry', 'pope', 'algarve', 'panathinaikos', 'domokos', 'ar', 'air', 'silver', 'eupen', 'minister', 'rebecca', 'abe', 'guitare', 'hampton', 'epirus', 'rome', 'leochare', 'deutsche', 'tubau', 'greece', 'prague', 'florence', 'somerset', 'handmade', 'baritone', 'désir', 'femme', 'saxon', 'scheirl', 'sackpraseuth', 'hsv', 'andré', 'split', 'nürnberg', 'phi', 'guillaume', 'museo', 'osaka', 'enthusiast', 'croatia', 'disorder', 'clearwe', 'oerste', 'demokrito', 'manfre', 'kuala', 'erdogan', 'championship', 'jaume', 'disillusion', 'paget', 'τούλα', 'ioc', 'welt', 'swam', 'turkish', 'attische', 'painter', 'successor', 'giannidis', 'plastique', 'augarten', 'honoris', 'zachęta', 'ancient', 'letter', 'dream', 'archäologische', 'preve', '01', 'wilhelm', 'staatsballet', 'internatiationle']\n",
      "961  829  1022   768        193       61   \n",
      "['dinge', 'symphonieorchester', 'tbilisi', 'jorge', 'olmste', 'maccabi', 'stanste', 'sziget', 'lyon', 'usakamyar', 'amis', 'süle', 'falò', 'herrenhausen', 'com', 'consulate', 'gilmore', 'equalise', 'excellence', 'ohne', 'covet', 'ahn', 'punk', 'mimi', 'bologna', 'robert', 'madsen', 'goetz', 'winfrie', 'quarterback', 'captivate', 'bucurești', 'brünnhilde', 'detroit', 'vinze', 'superiore', 'jennifer', 'durá', 'radiacione', 'sami', 'hollister', 'classique', 'skept', 'giulietta', 'sita', 'polarise', 'colonne', 'challenge', 'verdi', 'sedf', 'waltraute', 'soloist', 'welsh', 'huai', 'konzerthausorchester', 'berlin', 'prague', 'baritone', 'lichtenfel', 'almaviva', 'sieglinde', 'jaume', 'kirsten', 'klm', 'sheffield', 'eggert', 'noize', 'dorange', 'guild', 'widow', 'leopold', 'dançando', 'macba', 'adalbert', 'staudinger', 'oampm', 'cinema', 'sequine', 'auserwählten', 'season', 'sosthen', 'lar', 'lampe', 'collaboration', 'freunde', 'málaga', 'esteve', 'sergio', 'fenerbahçe', 'amateur', 'ángele', 'insurtech', 'codeshare', 'wissenschaften', 'mujere', 'avellí', 'hertha', 'teatro', 'honori', 'vike', 'synthèse', 'dresden', 'masnadieri', 'sunbathe', 'bloom', 'santander', 'cycliste', 'lukas', 'rusalka', 'claude', 'roma', 'rocket', 'westfield', 'extranjería', 'algarve', 'dhoffmann', 'chambre', 'uste', 'overarch', 'newcastle', 'lorde', 'undistribute', 'theater', 'mercutio', 'sculpt', 'bravo', 'maid', 'rencontre', 'guillaume', 'ai', 'rubie', 'erfurt', 'rundfunk', 'kurt', 'valencià', 'pamplona', 'discus', 'george', 'won', 'autore', 'zeltweg', 'race', 'billionaire', 'jule', 'purport', 'ändern', '51', 'für', 'nacional', 'germain', 'kyoko', 'staatsballet', 'enschede', 'villefranche', 'pershe', 'gran', 'toten', 'nuance', 'ennismore', 'stravinsky', 'breno', 'relay', 'sinfonikoa', 'moderne', 'do', 'placido', 'picasso', 'pause', 'untitle', 'denmark', 'ticket', 'limerick', 'concert', 'viaggio', 'vamp', 'recycle', 'dachau', 'abroise', 'olten', 'essen', 'shade', 'dortmund', 'nanne', 'naple', 'plain', 'tampere', 'esf', 'radame', 'nozze', 'némo', 'w', '19841992', 'arabe', 'zoo', 'donizetti', 'iopa', 'artweek', 'siegfrie', 'reflection', 'cesar', 'konzaert', 'penguin', 'dj', 'ar', 'primavera', 'serie', 'air', 'deutsche', 'festival', 'papa', 'somerset', 'german', 'classé', 'femme', 'españa', 'animate', 'ilia', 'homemade', 'mommsen', 'manfre', 'bookselle', 'paulo', 'alkan', 'kuche', 'welt', 'pagliacci', 'sqm', 'fabra', 'madrid', 'chekhov', 'rave', 'pike', 'marathon', 'joan', 'ahmad', 'greg', 'georg', 'anansie', 'coach', 'chile', 'soundpainte', 'signis', 'plácido', 'homage', 'pollard', 'suzanne', 'concave', 'montenegro', 'imax', 'hitesranjan', 'farfetch', 'iceland', 'bohème', 'heidelberg', 'ranger', 'dislike', 'saarbrücken', 'srinivaswas', 'vancouver', 'parken', 'port', 'macro', 'hva', 'lausanne', 'violinist', 'deportivo', 'sweden', 'melissa', 'walli', 'kraus', 'allende', 'cristian', 'groene', 'fonoteca', 'barcelona', 'primo', 'vje', 'mitridate', 'neue', 'montecchi', 'kws', 'sharecrop', 'lisbon', 'primate', 'muziekgebouw', 'squatter', 'ireland', 'alle', 'herode', 'comme', 'anni', 'como', 'duh', 'rapperswil', 'raso', 'uruguay', 'nazi', 'darchitecte', 'weltjugend', 'lovebyte', 'opera', 'kupfergraben', 'splendid', 'andré', 'venice', 'museo', 'innsbruck', 'alicante', 'vivant', 'championship', 'almería', 'swam', 'ramiro', 'gleize', 'asrar', 'lanzarote', 'stoke', 'skate', 'footballe', 'mad', 'elena']\n",
      "1238 1015 1336   917        321       98   \n",
      "['enschede', 'mary', 'govern', 'lindsay', 'stanste', 'midland', 'naturalise', 'liverpool', 'klangeln', 'imax', 'amputee', 'tweed', 'assen', 'brown', 'premio', 'frankfort', 's', 'double', 'portraiture', 'mönch', 'upc', 'endear', 'helmut', 'bilthoven', 'faber', 'mick', 'musicale', 'frisch', 'shakespeare', 'label', 'coline', 'ircam', 'england', 'regis', 'goetz', 'belshazzar', 'vichy', 'cần', 'beate', 'detroit', 'hms', 'tijdschrift', 'personenbeförderungsgesetz', 'ste', 'samantha', 'rlpo', 'hollister', 'lie', 'vje', 'bestseller', 'deaf', 'chinatown', 'wolfe', 'radame', 'nozze', 'bungalow', 'jane', 'quartet', 'westfield', 'wta', 'uncompromise', 'creem', 'pembroke', 'tramshe', 'bell', 'hall', 'cesar', 'americanize', 'philharmonic', 'silver', 'konzerthausorchester', 'row', 'rebecca', 'newcastle', 'maude', 'dso', 'register', 'fledge', 'schwarzarbeit', 'oppose', 'deutsche', 'mediterraneo', 'prague', 'ce', 'cape', 'eale', 'femme', 'oberhausen', 'stockholm', 'cole', 'haile', 'residentie', 'daniela', 'haydn', 'championship', 'irve', 'vary', 'kambundji', 'klm', 'discus', 'italianate', 'canio', 'mtf', 'nottingham', 'illuminate', 'cervante', 'scottish', 'vorwärt', 'blacklane', 'round']\n",
      "665  597  707    555        110       42   \n",
      "['disparage', 'furrow', 'wolfram', 'alvalade', 'tbilisi', 'eduard', 'handschriften', 'psalmi', 'gran', 'rousset', 'gawain', 'defect', 'stanste', 'c', 'gsm', 'thrill', 'consulate', 'herrenhausen', 'aristide', 'roosevelt', 'marwell', 'otto', 'exchange', 'colloque', 'badische', 'battier', 'moderne', 'resolute', 'dixfield', 'do', 'lulu', 'mercede', 's', 'freunde', 'emile', 'pow', 'pompeii', 'hia', 'denmark', 'musicale', 'ticket', 'kundry', 'heidelberg', 'hasselt', 'saarbrücken', 'ainda', 'kunigunde', 'bio', 'edgar', 'ircam', 'goetz', 'concert', 'montreal', 'churchill', 'trouble', 'shaman', 'generali', 'count', 'drottningholm', 'orelha', 'kempe', 'walli', 'universidade', 'kraus', 'whitefield', 'highland', 'synthèse', 'videoteca', 'dresden', 'pleasure', 'per', 'martinu', 'parcell', 'decca', 'essl', 'abroise', 'brevet', 'essen', 'dorsay', 'whitehall', 'biodiversidade', 'montecchi', 'antónio', 'dortmund', 'trevor', 'lisbon', 'entry', 'riga', 'dutch', 'kammerchor', 'ireland', 'brändle', 'nozze', 'dress', 'schalke', 'zoos', 'sieverde', 'ute', 'donizetti', 'paraguay', 'pope', 'woodstock', 'fonte', 'ar', 'serie', 'stream', 'colour', 'werfel', 'total', 'minister', 'lovebyte', 'rome', 'deutsche', 'berlin', 'theater', 'pecannin', 'prague', 'festival', 'arzelai', 'baritone', 'splendid', 'german', 'outline', 'sima', 'benjamin', 'stewartstown', 'maid', 'beaconsfield', 'venice', 'weave', 'manfre', 'bookselle', 'vivant', 'sieglinde', 'paulo', 'paget', 'remo', 'literaturzeitung', 'poggiali', 'ranking', 'imphal', 'smyrna', 'raczkiewicz', 'george', 'sheffield', 'krusat', 'brève', 'petronell', 'madrid', 'quentin', 'ritter', '51', 'leopold', 'lichte', 'vorwärt', 'colepaugh', 'luciano', 'crush']\n",
      "946  839  997    788        158       51   \n",
      "['mary', 'agnew', 'lucerne', 'göre', 'strove', 'symphonieorchester', 'tbilisi', 'sturm', 'olmste', 'palermo', 'in', 'wing', 'barthold', 'indira', 'harnasie', 'fallit', 'lyon', 'usakamyar', 'consulate', 'russe', 'zeani', 'inglis', 'medusa', 'swarowsky', 'tenure', 'academia', 'somali', 'franck', 'grisi', 'exalt', 'ahn', 'mali', 'puntoni', 'il', 'kesselre', 'pompeii', 'seine', 'musicale', 'volume', 'al', 'bologna', 'gallerie', 'ergün', 'kunigunde', 'lucie', 'trieste', 'journey', 'goetz', 'valentin', 'sylvain', 'cavalieri', 'poehl', 'ainslie', 'isolde', 'novellen', 'detroit', 'aegion', 'superiore', 'kulturellen', 'chargé', 'presseproduce', 'seyye', 'latin', 'hollister', 'kauna', 'galvanised', 'beetz', 'bernardin', 'brevet', 'arend', 'prefect', 'sharjah', 'orsenigo', 'eugenio', 'avl', 'mercure', 'italiano', 'lae', 'steed', 'czech', 'panza', 'es', 'hannigan', 'libretto', 'emil', 'verdi', 'waltraute', 'enrapture', 'polish', 'chagall', 'wta', 'semaine', 'porsche', 'ute', 'bell', 'ojanperä', 'kastraten', 'miscellanea', 'unconvince', 'ghosh', 'akgul', 'secretariat', 'damodaran', 'dalmatia', 'unrelease', 'ury', 'edelstein', 'orchestre', 'berlin', 'charleston', 'prague', 'baritone', 'baini', 'soldaten', 'foster', 'conservatoire', 'mitch', 'reinhartshausen', 'eunice', 'massimo', 'österreichische', 'netherland', 'jaume', 'egidi', 'magdalene', 'fricka', 'raimondo', 'qatar', 'società', 'tendon', 'dorange', 'bud', 'printmake', 'widow', 'leopold', 'flume', 'musikrat', 'cadaque', 'hebrew', 'adalbert', 'mohsen', 'aegina', 'fischerkösen', 'rhode', 'gille', 'ankara', 'augsburg', 'promithea', 'parish', 'vie', 'deurne', 'int', 'gsm', 'nest', 'pietro', 'etelka', 'vienna', 'colorado', 'roosevelt', 'maggiore', 'liverpool', 'caetani', 'battier', 'mathilde', 'rsha', 'rigoletto', 'schmit', 'ḥeme', 'nysa', 'edith', 'gibraltar', 'passionate', 'landlocke', 'lange', 'grégoire', 'mick', 'polonise', 'ju', 'amateur', 'dieter', 'leftwe', 'cologne', 'venus', 'benuzzi', 'sanremo', 'heinrich', 'ongaku', 'eliten', 'bulgaria', 'albert', 'souci', 'schad', 'marshal', 'hadid', 'campaignsaw', 'pinacoteca', 'grande', 'gregorii', 'teatro', 'vike', 'inflame', 'patten', 'dollfuss', 'dresden', 'mg9', 'frontenac', 'webb', 'stile', 'abdul', 'delphi', 'noli', 'gray', 'wax', 'heidi', 'ruthild', 'jacque', 'žilinskas', 'zurwesten', 'cycliste', 'easter', 'akademie', 'underwent', 'nanke', 'soundgarden', 'rösse', 'comitati', 'westfield', 'gruppo', 'humour', 'italien', 'paraguay', 'pope', 'algarve', 'bain', 'dave', 'srebotnik', '20', 'princess', 'foot', 'colour', 'wilder', 'france', 'life', 'newcastle', 'inntrykk', 'kriegstaten', 'pauline', 'œuvre', 'greece', 'florence', 'granville', 'papen', 'merry', 'burden', 'finland', 'willmann', 'han', 'rencontre', 'adventure', 'hinge', 'constantine', 'guillaume', 'croatia', 'ai', 'konsthall', 'arteritorija', 'erfurt', 'rundfunk', 'kurt', 'valencià', 'adjunct', 'sinfonietta', 'ioc', 'oppo', 'ranking', 'embitter', 'miami', 'kubrick', 'szabó', 'george', 'palestine', 'synchronise', 'autore', 'baumeister', 'entangle', 'race', 'onegin', 'ritter', 'billionaire', 'haaretz', 'garrigue', 'darrell', 'elba', 'nacional', 'breslau', 'emanuel', 'dali', 'zubiri', 'mixed', 'runner', 'strain', 'queer', 'white', 'charaktermasken', 'damnatio', 'ennismore', 'espacio', 'luisi', 'abencerage', 'lucas', 'etihad', 'straube', 'frankfurt', 'sinfonikoa', 'terme', 'moderne', 'do', 'ponti', 'erbach', 'krunoslav', 'fahey', 'portraiture', 'kew', 'mediawave', 'roland', 'schadow', 'kindre', 'wfp', 'pause', 'countess', 'evelyn', 'pohl', 'pamphilj', 'grove', 'prose', 'denmark', 'germont', 'arm', 'leone', 'babla', 'steinfeld', 'eurydice', 'ennio', 'ainda', 'abeken', 'boniface', 'unflinche', 'billund', 'watkin', 'concert', 'chart', 'wyneken', 'croatian', 'orelha', 'sloop', 'dreyfus', 'landholde', 'ortrud', 'underlie', 'solaraid', 'dachau', 'essen', 'brendel', 'dud', 'noël', 'subdue', 'dwelt', 'dortmund', 'petersen', 'ait', 'roman', 'plain', 'chequer', 'entry', 'merete', 'esf', 'triste', 'metz', 'sainthood', 'christliche', 'nozze', 'meadow', 'drum', 'kaas', 'leisure', 'guitarist', 'edmeston', 'zoo', 'ritorno', 'erde', 'period', 'tatti', 'posnova', 'siegfrie', 'barrie', 'handel', 'ar', 'srimanthi', 'serie', 'wainwright', 'reichswehr', 'alona', 'philharmonic', 'sitten', 'fedwa', 'gild', 'sinde', 'rome', 'byzantinae', 'wanderer', 'ogro', 'deutsche', 'papa', 'hitler', 'auguste', 'somerset', 'ce', 'cine', 'oberhausen', 'klaus', 'beaconsfield', 'hasten', 'lamezia', 'bulgarian', 'dinara', 'eprix', 'manfre', 'spanien', 'scene', 'screenwriter', 'the', 'kreuz', 'sim', 'mistake', 'paulo', 'irve', 'cass', 'welt', 'wiggin', 'schatten', 'stasi', 'alain', 'traffic', 'nourish', 'stanza', 'ancient', 'entartete', 'neuw', 'frederick', 'weissmann', 'georg', 'malmö', 'damn', 'elsy', 'warsaw', 'pironkova', 'kunstausstellung', 'eugene', 'elate', 'bucharest', 'eliza', 'kantuak', 'chile', 'peke', 'rewrote', 'medal', 'plácido', 'angelo', 'pollard', 'outdate', 'cristalli', 'conor', 'evert', 'montenegro', 'groll', 'dirksen', 'fischerkoesen', 'santiago', 'otto', 'christfrie', 'imax', 'doro', 'ghent', 'benode', 'feldman', 'la', 'rossellini', 'goldsmithe', 'percy', 'zeitung', 'tav', 'bohème', 'rollick', 'appearance', 'intersect', 'rodolfo', 'gheorghiu', 'israel', 'szege', 'tramway', 'wlfgang', 'heidelberg', 'saarbrücken', 'lockheed', 'dargento', 'vancouver', 'e', 'port', 'ircam', 'macro', 'positano', 'aachen', 'gustav', 'unperforme', 'zehnkämpfer', 'botany', 'leontiev', 'malnourish', 'jeanne', 'colonel', 'skvortsova', 'wisecrack', 'kasiuli', 'se', 'ihere', 'amele', 'photographie', 'albanian', 'canne', 'bobbed', 'canberra', 'cod', 'heifetz', 'copenhagen', 'heike', 'dionysus', 'vje', 'protei', 'benghazi', 'object', 'bce', 'neue', 'capt', 'montecchi', 'bielefeld', 'václav', 'gonçalve', 'infirm', 'stilte', 'lisbon', 'belate', 'bayreuth', 'rückert', 'poznań', 'ireland', 'concorso', 'androcle', 'bore', 'spalde', 'hinterland', 'berthold', 'liezel', 'bunsen', 'overtook', 'fade', 'fissile', 'ifa', 'enno', 'borup', 'genoel', 'salvo', 'düsseldorf', 'reggio', 'velde', 'nazi', 'cleve', 'minister', 'bose', 'seidemann', 'opera', 'quisle', 'elite', 'alfre', 'mettre', 'baumgarten', 'hassell', 'edmund', 'sima', 'noddack', 'marco', 'berenice', 'venice', 'cromwell', 'director', 'museo', 'bel', 'fence', 'forrest', 'academie', 'alicante', 'ala', 'milan', 'belize', 'transatlantique', 'dishevel', 'bernay', 'belknap', 'verblendeten', 'kiel', 'mottar', 'bremerhaven', 'ratiopharm', 'stoke', 'kirstie', 'sustainable', 'skate', 'terwesten', 'walpurgi', 'murrow', 'makart', 'schille', 'gregory', 'jelena', 'shanewis', 'archäologische', 'droysen', 'gesundheitsamt', 'outflank', 'wilhelm', 'elena', 'cu', 'wallerant']\n",
      "2288 1842 2474   1656       632       186  \n",
      "['porto', 'stanste', 'premiere', 'lisbon', 'honori', 'matthew', 'lyon', 'buckfast', 'schedule', 'wetten', 'szege']\n",
      "145  140  151    134        11        6    \n",
      "['greenfield', 'europe', 'quezon', 'rewardеd', 'tbilisi', 'qanta', 'pale', 'hotbe', 'viña', 'undeciphere', 'ail', 'stanste', 'economet', 'consulate', 'mcneil', 'ert', 'pt', 'unmade', 'congresse', 'excellence', 'benaki', 'frankfort', 's', 'benight', 'covet', 'tenure', 'prin', 'humbert', 'dike', 'accademia', 'klim', 'fleme', 'musicale', 'simon', 'bologna', 'easterle', 'goetz', 'helen', 'sprint', 'muttaleb', 'mohame', 'georgeta', 'superiore', 'alexei', 'louis', 'scribe', 'cid', 'deafen', 'nguyễn', 'llc', 'brussel', 'counselor', 'wesleyan', 'christianity', 'dope', 'nəgusä', 'weightlift', 'strawberry', 'shirin', 'lae', 'trevor', 'esthétique', 'città', 'colonne', 'awardee', 'vip', 'kreile', 'geekette', 'sicilia', 'abitur', 'adnan', 'mihali', 'buckinghamshire', 'hailu', 'khoury', 'soloist', 'meticulousness', 'pulaski', 'uganda', 'gabor', 'heat', 'trii', 'prague', 'lesleigh', 'usa', 'nairobi', 'ruin', 'soprano', 'augusta', 'phd', 'holombard', 'sinead', 'tuni', 'dionysius', 'klm', 'elia', 'aleppo', 'manchester', 'georgetown', 'etude', 'tendon', 'stamatis', 'ravenstein', 'guild', 'tobia', 'audrey', 'labalme', 'hebrew', 'ellinikon', 'aggrieve', 'aegina', 'dagblad', 'melkweg', 'safekeepe', 'rhode', 'dobree', 'gille', 'parish', 'séraphin', 'euphue', 'këngë', 'pietro', 'cool', 'lar', 'morbach', 'minute', 'hwange', 'neuroimage', 'liverpool', 'dismay', 'sesto', 'assen', 'gilbert', 'filippoi', 'twin', 'dede', 'sergio', 'ellinikó', 'passionate', 'latinize', 'compute', 'shakespeare', 'playwright', 'redgrave', 'england', 'ingebrigtsen', 'rekalde', 'lilipoupolis', 'leo', 'dunk', 'plume', 'leed', 'didnt', 'kempe', 'alexandria', 'brook', 'vike', 'oak', 'eulert', 'minoan', 'table', 'ichizo', 'single', 'dion', 'floor', 'glasgow', 'jacque', 'easter', 'bea', 'ebfo', 'stanford', 'scicca', 'wholehearte', 'dương', 'robo', 'streamline', 'pope', 'medalist', 'dundee', 'stevenson', 'rebecca', 'fame', 'greece', 'cape', 'merry', 'cecilie', 'caroline', 'salisbury', 'croatia', 'oerste', 'ioc', 'discus', 'introduktör', 'smyrna', 'saki', 'george', 'bash', 'costume', 'cumberland', 'plastique', 'honoris', 'mamun', 'lucifer', 'english', 'rothschild', 'beethoven', 'bemuse', 'aucassin', 'yate', 'sub', 'épée', 'skirmish', 'miltiade', 'sor', 'jingje', 'evente', 'fih', 'ebenhausen', 'west', 'gamova', 'breaststroke', 'statute', 'de', 'frankfurt', 'charter', 'cambridge', 'sinfonikoa', 'fato', 'terme', 'damien', 'moderne', 'kyriakide', 'unreveale', 'do', 'kew', 'winchester', 'union', 'rebound', 'denmark', 'compromise', 'leone', 'puig', 'manifesta', 'sollum', 'teso', 'concert', 'doha', 'bardstown', 'churchill', 'daphne', 'bile', 'spyridon', 'amphore', 'iwrf', 'ste', 'papago', 'anthea', 'allowed', 'sevenoak', 'claire', 'pire', 'esf', 'canoe', 'ration', 'bvn', 'qin', 'nozze', 'germaine', 'cesare', 'chair', 'trophie', 'tv', 'melbourne', 'gyllenstierna', 'romero', 'tusha', 'nevena', 'auburn', 'philharmonic', 'voor', 'gild', 'alvear', 'rome', 'august', 'deutsche', 'shipbroke', 'festival', 'somerset', 'martin', 'acroyali', 'danny', 'jarvi', 'exhibition', 'britten', 'uae', 'manfre', 'paraskevas', 'dane', 'tokyo', 'paulo', 'postgraduate', 'beyoncé', 'gülse', 'welt', 'rudolph', 'ravenna', 'singular', 'betty', 'track', 'hatsopoulo', 'ancient', 'docteur', 'joan', 'ahmad', 'sceptre', 'fictionalise', 'papadimitriou', 'tobago', 'greek', 'fran', 'bucharest', 'peke', 'persona', 'suzanne', 'spitalfield', 'santo', 'school', 'box', 'santiago', 'alcibiade', 'thame', 'kosta', 'heathrow', 'beqir', 'bohème', 'lije', 'aiken', 'harcourt', 'rem', 'gheorghiu', 'clare', 'tramway', 'ranger', 'lake', 'plenipotentiary', 'athen', 'vancouver', 'virgiliju', 'ridgway', 'awas', 'austen', 'malaga', 'westfallen', 'universiade', 'nap', 'bc', 'violinist', 'routledge', 'brindisi', 'colonel', 'unrecorde', 'dar', 'reykjavík', 'daryl', 'baltimore', 'agio', 'ano', 'wynne', 'bibliothèque', 'lisbon', 'theodore', 'sparkle', 'ireland', 'branislav', 'longreach', '00', 'montreux', 'oa', 'halt', 'pressurize', 'eupen', 'nazi', 'stack', 'opera', 'genova', 'alexis', 'handmade', 'eale', 'laskaridi', 'malvolio', 'eve', 'recitalist', 'venice', 'handwritten', 'fiore', 'haile', 'fence', 'manavjit', 'alicante', 'mimis', 'rasmussen', 'swam', 'diogene', 'meare', 'worthe', 'ptisi', 'vol', 'demilitarize', 'nousia', 'schilizzi', 'dynamo', 'kolja', 'powerlifte', 'mad', 'hertfordshire', 'elena', 'tate']\n",
      "1679 1415 1832   1262       417       153  \n",
      "['dinge', 'quezon', 'symphonieorchester', 'tbilisi', 'jorge', 'thảo', 'rousset', 'por', 'crepúsculo', 'stanste', 'lyon', 'rundfunk3sat', 'consulate', 'angie', 'feste', 'marzelline', 'iii', 'espanyol', 'casablanca', 'arquitac', 'stylise', 's', 'playoff', 'covet', 'tenure', 'prin', 'alphen', 'estoril', 'fleme', 'nante', 'punk', 'televisa', 'opéra', 'mimi', 'airport', 'carbonell', 'mangrove', 'stena', 'robert', 'thameslink', 'portrait', 'atelier', 'avex', 'danmark', 'goetz', 'quarterback', 'buñuel', 'cabify', 'bucurești', 'detroit', 'alfonso', 'igame', 'staatstheater', 'figuere', 'superiore', 'springsteen', 'ramsay', 'ruit', 'minguell', 'powerfield', 'scribe', 'anelka', 'journal', 'lary', 'sami', 'hollister', 'sohail', 'classique', 'atr', 'weightlift', 'skept', 'witch', 'giulietta', 'nikolaus', 'tampa', 'vanessa', 'vip', 'verdi', 'armando', 'mumok', 'kunsthaus', 'glow', 'ose', 'romeo', 'soloist', 'welsh', 'nunca', 'fountain', 'allstar', 'lammermoor', 'katie', 'prague', 'rochester', 'theatre', 'hadjidjano', 'usa', 'ruin', 'akon', 'benjamin', 'razzmatazz', 'facebook', 'ink', 'almaviva', 'served', 'anchorage', 'sieglinde', 'netherland', 'kirsten', 'disillusion', 'fictionalize', 'emirate', 'klm', 'coq', 'sheffield', 'nero', 'aiazo', 'ochoa', 'manchester', 'dorange', 'remedio', 'cervante', 'leopold', 'olivier', 'roaldè', 'musetta', 'macba', 'cadaque', 'hebrew', 'emi', 'melkweg', 'eduard', 'berglind', 'cloud', 'bourse', 'gwynne', 'wiels', 'pietro', 'sosthen', 'morbach', 'colorado', 'tve', 'neuroimage', 'castell', 'lobkowicz', 'wonderland', 'fiordiligi', 'freunde', 'scharn', 'venue', 'dede', 'sergio', 'aberdeen', 'cto', 'siglo', 'church', 'shakespeare', 'leftwe', 'kampouridi', 'tallermapa', 'catena', 'pour', 'cadiz', 'insurtech', 'england', 'andre', 'artprojx', 'dunk', 'leed', 'spur', 'ferdinand', 'pinacoteca', 'grande', 'teatro', 'womb', 'honori', 'sven', 'structure', 'albright', 'elizaveta', 'synthèse', 'oak', 'lear', 'abidjan', 'single', 'tarifa', 'bloom', 'murder', 'brenner', 'delorme', 'rusalka', 'ın', 'easter', 'concour', 'sligo', 'claude', 'westfield', 'leicester', 'robo', 'extranjería', 'italien', 'rite', 'dhoffmann', 'cadci', '20', 'dragon', 'stencil', 'uste', 'newcastle', 'alliance', 'clothe', 'theater', 'aia', 'space', 'tale', 'turnmill', 'merry', 'bejun', 'dandini', 'dry', 'rencontre', 'caroline', 'schade', 'croatia', 'ai', 'christoff', 'tosca', 'rundfunk', 'kurt', 'izik', 'pickere', 'valencià', 'sfmoma', 'manaudou', 'ioc', 'discus', 'ranking', 'iss', 'jónsdóttir', 'george', 'cargo', 'hedy', 'wheelchair', 'violist', 'tn', 'banowetz', 'ancienne', 'nacional', 'tómasdóttir', 'kyoko', 'breslau', 'indo', 'partook', 'villefranche', 'fold', 'internet', 'roll', 'gran', 'wm', 'adjoin', 'ennismore', 'thrill', 'rumour', 'pantene', 'valentine', 'boutique', 'derby', 'kristine', 'braahten', 'frankfurt', 'startup', 'cambridge', 'sinfonikoa', 'terme', 'moderne', 'exhilarate', 'rugby', 'ariane', 'disparate', 'kew', 'nisi', 'elmina', 'ervin', 'adè', 'pause', 'sheremetyev', 'untitle', 'glare', 'sak', 'ticket', 'connue', 'cintia', 'utensil', 'puig', 'dragão', 'sesc', 'gb', 'churchill', 'nanetta', 'wilde', 'trendsette', 'viaggio', 'ritva', 'vamp', 'epage', 'schoolboy', 'cadogan', 'dolore', 'locke', 'abroise', 'schrebergårten', 'shade', 'recur', 'disuse', 'dortmund', 'nanne', 'naple', 'cyncoe', 'ait', 'indebte', 'tjon', 'plain', 'albacete', 'montseny', 'canoe', 'nozze', 'schalke', 'w', 'problem', 'vigo', 'divisie', 'melbourne', 'marín', 'apoel', 'donizetti', 'astorga', 'tusha', 'reflection', 'ugoni', 'cesar', 'townsend', 'konzaert', 'penguin', 'ar', 'primavera', 'serie', 'dansa', 'alvear', 'flander', 'wanderer', 'del', 'deutsche', 'festival', 'papa', 'somerset', 'flame', 'fifth', 'classé', 'oberhausen', 'fry', 'femme', 'mikel', 'ilia', 'psychoanalysis', 'britten', 'manfre', 'sm', 'bookselle', 'barfleur', 'arsamene', 'european', 'henrietta', 'paulo', 'postgraduate', 'kuche', 'quell', 'acquaint', 'sqm', 'freya', 'illiralaare', 'penrose', 'madrid', 'pike', 'joan', 'drank', 'franchise', 'kayak', 'greek', 'liù', 'chile', 'monkdogz', 'medal', 'spitalfield', 'suzanne', 'concave', 'ascanio', 'kaufmann', 'santiago', 'adelaide', 'lima', 'ólafsdóttir', 'imax', 'otto', 'silhoueten', 'farfetch', 'square', 'rossellini', 'napoletano', 'gackt', 'cabinetmake', 'beqir', 'ryanair', 'bohème', 'isaia', 'rodolfo', 'flatter', 'dorre', 'streak', 'saarbrücken', 'vancouver', 'brassaï', 'ircam', 'macro', 'tashkent', 'banquet', 'montreal', 'lausanne', 'violinist', 'kongi', 'choice', 'major', 'akandouch', 'blu', 'naestve', 'groene', 'barcelona', 'poch', 'copenhagen', 'a320', 'ensemble', 'albe', 'vje', 'mitridate', 'midfielder', 'montecchi', 'pepe', 'lisbon', 'primate', 'muziekgebouw', 'ireland', 'figuera', 'adolfo', 'karasick', 'bronze', 'dyangani', 'comme', 'bet', 'dicken', 'ethnik', 'duh', 'holger', 'mdf', 'bergen', 'gijón', 'nazi', 'mesmerise', 'lovebyte', 'saaeed', 'stack', 'zanzibar', 'opera', 'pesaro', 'constellation', 'elite', 'vespertine', 'splendid', 'louise', 'derbyshire', 'sigfúsdóttir', 'venice', 'manila', 'museo', 'fence', 'innsbruck', 'rothko', 'alicante', 'vivant', 'milan', 'eltingh', 'belize', 'swam', 'band', 'grave', 'kristiansand', 'cbgb', 'resort', 'bohemia', 'exodus', 'parede', 'vol', 'canuda', 'olsen', 'farhad', 'powerlifte', 'footballe', 'baba']\n",
      "1842 1510 2015   1337       505       173  \n",
      "['kettere', 'mary', 'rag', 'staffordshire', 'greenfield', 'fremantle', 'karamazov', 'isleworth', 'sarsfield', 'akademi', 'nuffield', 'cornbury', 'wing', 'reredo', 'isham', 'transship', 'versaille', 'krishna', 'gkn', 'cornish', 'latitude', 'wylde', 'searle', 'criminal', 'tube', 'male', 'shoplift', 'eastgate', 'lyon', 'byfield', 'stafford', 'consulate', 'smith', 'farm', 'forgave', 'emergenza', 'brickt', 'russe', 'trinity', 'allegro', 'digitale', 'poole', 'espanyol', 'supper', 'arch', 'inglis', 'lancashire', 'frankfort', 's', 'trueman', 'it', 'transverse', 'roy', 'prin', 'oecd', 'dartford', 'audit', 'hop', 'rockweekend', 'uncare', 'microfilm', 'shawl', 'mali', 'fleme', 'outwear', 'ware', 'garamuberevere', 'waterlogge', 'secularise', 'antananarivo', 'blockbuste', 'laurence', 'bruce', 'schoolmaster', 'bute', 'shunt', 'highbury', 'zef', 'lee', 'musicale', 'plumstead', 'lympne', 'anne', 'bologna', 'dd', 'landon', 'keate', 'eurostar', 'bulldog', 'fake', 'thameslink', 'portrait', 'lucie', 'ayle', 'nanopore', 'curzon', 'stonehouse', 'gothenburg', 'fenchurch', 'frank', 'tyseley', 'camino', 'feather', 'wicklow', 'serial', 'belshazzar', 'mohame', 'manager', 'stamford', 'samuel', 'digitali', 'survivor', 'baron', 'detroit', 'bowstre', 'yorkshire', 'balden', 'godalme', 'collin', 'intuitionist', 'springsteen', 'usher', 'brennan', 'parcel', 'composer', 'uninhabite', 'personenbeförderungsgesetz', 'response', 'corrective', 'upbringe', 'progeny', 'linstitut', 'rlpo', 'edgard', 'llc', 'hollister', 'welterweight', 'decca', 'horatio', 'cannock', 'rcp', 'coast', '32', 'laerte', 'well', 'weir', 'a41', 'stonebridge', 'bello', 'élise', 'faminite', 'dudbridge', 'opheem', 'ghazi', 'lte', 'seagrove', 'tait', 'mangotsfield', 'boyz', 'deptford', 'musician', 'assize', 'ken', 'westbridge', 'alhamra', 'eldon', 'benny', 'colchester', 'dhani', 'cha', 'bungalow', 'ilfracombe', 'bath', 'armando', 'naturalize', 'typewrite', 'durham', 'remedy', 'goody', 'chassis', 'seb', 'buckinghamshire', 'bridgesilver', 'carbonise', 'clapham', 'harborough', 'ulceran', 'protract', 'snow', 'leant', 'romeo', 'hall', 'stortford', 'soloist', 'watercolourist', 'nate', 'uganda', 'parkside', 'welsh', 'mombasa', 'konzerthausorchester', 'barrow', 'acharn', 'cricketer', 'mermaid', 'redd', 'radwell', 'eisteddfod', 'harpenden', 'bishopsgate', 'deed', 'katie', 'llb', 'perth', 'sideshow', 'hillsborough', 'theatre', '226', 'birkenhead', 'wednesbury', 'wid', 'bridgend', 'christine', 'benjamin', 'carshare', 'shaan', 'aeg', 'facebook', 'localise', 'rupert', 'cheyne', 'gail', 'kingpin', 'desmond', 'rhyl', 'phd', 'residentie', 'newbridge', 'repetiteur', 'lecturer', 'wenger', 'shoreditch', 'downham', 'runway', 'netherland', 'underworld', 'amritsar', 'inn', 'pendley', 'emirate', 'halifax', 'blm', 'adore', 'newsbeat', 'equitable', 'roxanne', 'warrington', 'expo', 'circa', 'southall', 'swindon', 'italianate', 'allentown', 'sheffield', 'llandudno', 'chando', 'wall', 'claybury', 'roderigo', 'aitch', 'sticker', 'richter', 'loughborough', 'dulce', 'metalheadz', 'na', 'hampstead', 'ecclesia', 'itv', 'llanymynech', 'manchester', 'devonshire', 'unbaptise', 'covid', 'altrincham', 'montgomeryshire', 'etude', 'signage', 'cornwall', 'leukaemia', 'rapper', 'guild', 'unido', 'sold', 'cervante', 'bangor', 'scottish', 'leopold', 'cloudray', 'beck', 'kingsbridge', 'aluko', 'mv153', 'gruppen', 'wilmcote', 'hebrew', 'railway', 'emi', 'kolhapur', 'rhode', 'contrive', 'brandon', 'gallagher', 'chingleput', 'symon', 'parish', 'sleigh', 'mccormick', 'wombourne', 'nocturne', 'ikon', 'worst', 'sanderle', 'outfit', 'midland', 'rample', 'burmester', 'daventry', 'brize', 'vicarage', 'clement', 'nest', 'depth', 'ac', 'navigation', 'barnt', 'liverpool', 'beatle', 'syriac', 'flournoy', 'glaze', 'plymouth', 'steve', 'lichfield', 'azerbaijan', 'gva', 'skinhead', 'nubreed', 'watle', 'emmy', 'emile', 'golde', 'poplar', 'venue', 'elsie', 'rabbi', 'surrealist', 'aberdeen', 'gordon', 'mrcs', 'derry', 'raven', 'zulu', 'bromsgrove', 'fixture', 'hawkin', 'spotify', 'ó', 'wuthere', 'primitivist', 'tww', 'stroke', 'swaziland', 'darkwave', 'shakespeare', 'fatigue', 'wachtel', 'dun', 'watford', 'seend', 'coline', 'siding', 'waltz', 'raf', 'crewe', 'cirencester', 'erdington', 'bede', 'vodafone', 'surgeon', 'grayle', 'albert', 'sparta', 'me', 'valme', 'purdue', 'deli', 'bhujhungy', 'slimme', 'm6', 'leed', 'bulbourne', 'aitken', 'basingstoke', 'mineral', 'licence', 'noronha', 'bilaspur', 'southbourne', 'striptease', 'hanley', 'mute', 'gente', 'silverado', 'attwood', 'pettersen', 'kendal', 'snoek', 'sid', 'feser', 'wyon', 'bullre', 'bliss', 'vike', 'rime', 'eccleshall', 'brook', 'bathurst', 'chesher', 'gainsborough', 'silent', 'turbine', 'extroverte', 'husseini', 'clifron', 'carrack', 'duke', 'webb', 'lionel', 'storytelle', 'basset', 'selfridge', 'hazel', 'kidbrooke', 'dion', 'seagoe', 'discourse', 'finsbury', 'offshore', 'bernard', 'br', 'rex', 'ratnawali', 'irene', 'sye', 'santander', 'fazeley', 'teleme', 'residentiary', 'karpele', 'joined', 'olympian', 'jena', 'coldfield', 'akademie', 'underwent', 'mickfield', 'kinlochleven', 'roundhouse', 'southwark', 'fulber', 'horn', 'inter', 'aza', 'brenda', 'wealdstone', 'preacher', 'holme', 'eurostatnut', 'troke', 'road', 'granada', 'westfield', 'rena', 'willesden', 'waterway', 'leicester', 'ambassadeur', 'osmo', 'huq', 'paavo', 'bourdieu', 'seabon', 'faro', 'marsden', 'graft', 'postcode', 'berkshire', 'pope', 'westernize', 'airstream', 'locomotive', 'banbury', 'playwrite', 'primrose', 'islam', 'southampton', 'indie', 'fundraise', 'bournemouth', 'disenchant', 'hardeep', 'alverotta', 'perry', 'chad', 'redland', 'shustoke', 'rebecca', 'holborn', 'syracuse', 'newcastle', 'tyneside', 'bradford', 'provident', 'croome', 'chesterfield', 'grande', 'sheila', 'unbroken', 'coolum', 'florence', 'lorry', 'tale', 'ishaaq', 'morphy', 'trainspotte', 'bayli', 'dandini', 'motorcycle', 'maid', 'basil', 'salisbury', 'southend', 'ripon', 'buttock', 'amlwch', 'shylock', 'twitch', 'neighbor', 'kimber', 'hawthorne', 'davinder', 'sargam', 'pickere', 'discus', 'estate', 'artiste', 'backstage', 'observatory', 'malvern', 'glastonbury', 'george', 'warwick', 'parachute', 'rifle', 'wyke', 'baldwin', 'dumbiedyke', 'blackpool', 'cargo', 'waterhouse', 'jon', 'fette', 'wilhelm', 'bungle', 'prentis', 'holloway', 'nottingham', 'advantage', 'misfire', 'devil', 'austell', 'lechlade', 'wilfre', 'cooke', 'schäfer', 'kidderminster', '9come', 'polytechnic', 'banksy', 'tn', 'carle', 'calcutta', 'pursell', 'beethoven', 'boulogne', 'warden', 'germain', 'drury', 'worcester', 'eppe', 'dovey', 'holyhead', 'breslau', 'reverend', 'avanti', 'kingsway', 'disraeli', 'rainbow', 'sine', 'clown', 'clark', 'kane', 'stell', 'avele', 'dlit', 'hettrick', 'chelmsford', 'bloomfield', 'coleshill', 'runner', 'hip', 'woode', 'camberwell', 'cardiff', 'walker', 'phillpott', 'wm', 'sqin', 'compress', 'aerialist', 'dome', 'romsey', 'red', 'wardlaw', 'hereford', 'desdemona', 'baillie', 'strathtay', 'west', 'thrill', 'rueil', 'hq', 'thimble', 'sandon', 'centralise', 'derby', 'kristine', 'rykneld', 'bescot', 'huckle', 'gladys', 'oceangoe', 'sq', 'cambridge', 'mistress', 'frankfurt', 'conservativehome', 'curl', 'senver', 'brown', 'ballet', 'goslow', 'corsica', 'gaus', 'margaret', 'remade', 'century', 'blackthorn', 'decreed', 'toll', 'royal', 'examination', 'morgan', 'lancaster', 'she', 'hillmorton', 'kew', 'mill', 'winchester', 'orphanage', 'union', 'walsall', 'silversmithe', 'enlightenment', 'grove', 'prose', 'denmark', 'wa', 'aftertone', 'airporteast', 'jazzie', 'nae', 'wilton', 'orientate', 'spelt', 'frisch', 'warwickshire', 'king', 'enlighten', 'matthew', 'shell', 'philp', 'oyeniran', 'ashford', 'berkhamste', 'kilsby', 'gostle', 'swansea', 'scot', 'blacklane', 'gb', 'bergerac', 'dunedin', 'churchill', 'a464', 'greengate', 'islamist', 'klux', 'architect', 'gmt', 'wightwick', 'boxmake', 'agne', 'punjab', 'wilde', 'photocell', 'healthroster', 'wandering', 'gastroenterologist', 'vibe', 'highland', 'overcrowd', 'smithfield', 'ste', 'samantha', 'broadway', 'dachau', 'harrow', 'elkhorn', 'southport', 'willie', 'hull', 'platform', 'uce', 'slaven', 'uk', 'ferme', 'dortmund', 'lafontaine', 'odsal', 'angle', 'claire', 'roman', 'screenwrite', 'unpublishe', 'chapeltown', 'cowell', 'fuck', 'patrick', 'wolfe', 'dru', 'pilate', 'titan', 'bond', 'yshape', 'blendi', 'nozze', 'estrange', 'taboo', 'meadow', 'belgrave', 'penzance', 'impoverish', 'reeve', 'funk', 'edward', 'farmland', 'kenny', 'quadrant', 'melbourne', 'tower', 'guitarist', 'henne', 'm40', 'thornberry', 'folksong', 'gatwick', 'barber', 'rca', 'townsend', 'abbey', 'handel', 'pierrot', 'gloucester', 'baudelaire', 'buzzard', 'philharmonic', 'alona', 'tove', 'woodbrooke', 'alloy', 'swathi', 'bartel', 'gild', 'onward', 'continuum', 'schwarzarbeit', 'wedgwood', 'wanderer', 'rome', 'august', 'deutsche', 'morecambe', 'festival', 'somerset', 'froth', 'flame', 'broom', 'conan', 'martin', 'lipset', 'ce', 'mk1', 'regionalise', 'goldsmith', 'trackbe', 'oberhausen', 'porto', 'klaus', 'clodagh', 'railtour', 'stockholm', 'beaconsfield', 'barack', 'frith', 'cole', 'animate', 'portraiture', 'acdipe', 'preexist', 'ive', 'wizz', 'runcorn', 'andrew', 'skindre', 'deansgate', 'muay', 'verre', 'britten', 'manfre', 'bookselle', 'wycombe', 'towcester', 'waldo', 'sim', 'organ', 'paulo', 'tokyo', 'postgraduate', 'henrietta', 'shill', 'winifre', 'irve', 'adkin', 'heartbreak', 'mayhew', 'gloucestershire', 'pte', 'g', 'lombardi', 'rudolph', 'autonomy', 'hathersage', 'prefix', 'silverdale', 'nantwich', 'enquiry', 'racecourse', 'barlow', 'incomprehensible', 'wellbee', 'fhm', 'barney', 'henley', 'brocken', 'tektronix', 'barker', 'mtf', 'lm', 'traffic', 'irish', 'rog', 'nice', 'spear', 'rosalind', 'lambeth', 'leader', 'greg', 'sandbach', 'adrian', 'gimme', 'dowle', 'alice', 'guineas', 'damn', 'hammersmith', 'wiltshire', 'reed', 'brisbane', 'greek', 'tract', 'egdon', 'gesture', 'wraith', 'wallsend', 'waterloo', 'eliza', 'ratten', 'horserace', 'medal', 'rewrote', 'sunderland', 'somerville', 'hh', 'goalkeepe', 'jenifer', 'spitalfield', 'chester', 'heighte', 'registrar', 'whitacre', 'gareth', 'darragh', 'surrey', 'afield', 'empire', 'hallé', 'hoppus', 'imax', 'berwick', 'android', 'taplow', 'starr', 'tweed', 'speare', 'tony', 'whitechapel', 'artprojx', 'feldman', 'mönch', 'caine', 'gauze', 'ellesmere', 'page', 'ambergate', 'faust', 'percy', 'spaghetti', 'southward', 'heathrow', 'llangollen', 'barmouth', 'quay', 'appearance', 'salford', 'bed', 'harcourt', 'privilege', 'lawler', 'malt', 'thirsk', 'harrogate', 'degree', 'offense', 'héireann', 'patiala', 'arıkan', 'clare', 'tramway', 'snakehead', 'saarbrücken', 'sj', 'dierk', 'sean', 'galway', 'vancouver', 'birmingham', 'panel', 'mb', 'hollin', 'din', 'vegan', 'e', 'dineen', 'enfield', 'eilene', 'und', 'ircam', 'marshe', 'wetsuit', 'austen', 'malaga', 'myle', 'unperforme', 'montreal', 'librarie', 'musique', 'nap', 'routledge', 'condescend', 'violinist', 'adelphi', 'solihull', 'roadrunner', 'bangladeshi', 'notte', 'colonel', 'sweden', 'weedon', 'chiltern', 'skyway', 'jihad', 'gracie', 'choice', 'bertha', 'cheltenham', 'walli', 'se', 'brasswire', 'savory', 'tobias', 'gunnislake', 'dora', 'faseley', 'corrugate', 'elongate', 'peggy', 'opinionate', 'gildersleeve', 'whitehaven', 'wigan', 'garrick', 'raze', 'ewb', 'incline', 'devenport', 'fredrick', 'bestseller', 'willmore', 'vje', 'fitch', 'diasporan', 'camkin', 'olga', 'gps', 'gympie', 'wynne', 'earthle', 'aylesbury', 'sparrow', 'brentford', 'chinatown', 'gmg', 'chamberlain', 'infirm', 'deaf', 'aat', 'premise', 'finalist', 'belate', 'ludlow', 'croydon', 'oilseed', 'sree', 'rib', 'dolobran', 'antonio', 'cramp', 'salcolmbe', 'ireland', 'leamington', 'variete', 'bore', 'newport', 'dicken', 'kafka', 'job', 'northampton', 'lloyd', 'telford', 'creem', 'myrtaceae', 'stockport', 'unchallenge', 'choir', 'pembroke', 'shrewsbury', 'seabury', 'symphony', 'tournament', 'braden', 'short', 'pressurize', 'detective', 'grindavík', 'bmi', 'hp', 'porthmadog', 'overcame', 'unperturbe', 'whippingham', 'ballymore', 'opera', 'dorke', 'mediterraneo', 'alfre', 'pirate', 'swaminarayan', 'fox', 'carlisle', 'handmade', 'lave', 'pearson', 'eale', 'loughlin', 'roast', 'derbyshire', 'chubb', 'edmund', 'saxon', 'ellen', 'louise', 'laskaridi', 'industrialise', 'esteem', 'fellow', 'zambia', 'poet', 'erato', 'clifton', 'davie', 'cheffin', 'sparkbrook', 'peterborough', 'renown', 'alicante', 'milan', 'monarch', 'pe', 'merseyside', 'jamaat', 'championship', 'arrant', 'chaire', 'belfast', 'weald', 'ron', 'cle', 'dee', 'reece', 'erasure', 'band', 'destitute', 'kristiansand', 'shevelove', 'harborne', 'kiel', 'shaykh', 'onrushe', 'anatomist', 'fre', 'cloten', 'cricket', 'wogan', 'pub', 'groundbreake', 'collegiate', 'portsmouth', 'oudin', 'puss', 'warehouse', 'game', 'blenkharn', 'edinburgh', 'exeter', 'fish', 'gregory', 'hertfordshire', 'enterprise', 'aberystwyth', 'refrigerate', 'cote', 'classskille', 'kingsmill', 'brokenhearte']\n",
      "3747 2853 4049   2551       1196      302  \n",
      "['endure', 'tbilisi', 'jorge', 'vimeiro', 'stanste', 'lyon', 'freire', 'consulate', 'feste', 'congresse', 'resolute', 'lownde', 'humbert', 'teotónio', 'convitato', 'avensa', 'pompeii', 'bullfighte', 'lumber', 'kunigunde', 'pernambuco', 'wilhelmine', 'edgar', 'stonehouse', 'copywriter', 'saratoga', 'goetz', 'vichy', 'mohame', 'wäinö', 'bucurești', 'siggraph', 'victoire', 'figuere', 'gift', 'teeth', 'brussel', 'thyssen', 'strawberry', 'ruppert', 'steed', 'suite', 'ordinate', 'bridget', 'rectilinear', 'barwell', 'fonte', 'elapse', 'soloist', 'mi5', 'conde', 'barrow', 'delfim', 'prague', 'theatre', 'facebook', 'orphan', 'sieglinde', 'netherland', 'senegal', 'hat', 'disable', 'kreuzer', 'sheffield', 'simões', 'guild', 'widow', 'mp', 'leopold', 'macba', 'palacio', 'hebrew', 'railway', 'ezvo19', 'eduard', 'christoph', 'churchyard', 'outfit', 'rample', 'argentina', 'pietro', 'tragédie', 'aristide', 'papua', 'tve', 'neuroimage', 'lobkowicz', 'sesto', 'plymouth', 'norroy', 'assen', 'falkland', 'mercede', 'christoffer', 'freunde', 'panufnik', 'thorn', 'gibraltar', 'passionate', 'cam', 'cadiz', 'scout', 'bulgaria', 'theotonio', 'me', 'leed', 'drottningholm', 'kempe', 'pinacoteca', 'badajoz', 'universidade', 'grande', 'seabra', 'synthèse', 'storytelle', 'woke', 'soar', 'doke', 'mace', 'glasgow', 'jacque', 'antónio', 'snap', 'bussell', 'nanke', 'dissipate', 'flourish', 'zoos', 'paraguay', 'pope', 'algarve', 'enea', '20', 'emmett', 'rebecca', 'newcastle', 'chopin', 'maid', 'salisbury', 'croatia', 'ai', 'rodrigue', 'christoff', 'kurt', 'sfmoma', 'embitter', 'introduktör', 'hardboile', 'smyrna', 'cinemascreate', 'george', 'flaxseed', 'autore', 'buxte', 'ernste', 'tunbridge', 'purport', 'capc', 'miguel', 'boulogne', 'forsyte', 'berne', 'comentario', 'diego', 'rumour', 'sedova', 'derby', 'marwell', 'moderne', 'publicações', 'kew', 'vasilef', 'winchester', 'reg', 'untitle', 'evelyn', 'cardoso', 'ticket', 'premier', 'ainda', 'matthew', 'limerick', 'maida', 'manifesta', 'sesc', 'doha', 'cellist', 'privateere', 'renowne', 'ittihad', 'orelha', 'zorro', 'incomparavel', 'ortrud', 'bedford', 'agostini', 'edwin', 'londonderry', 'alegre', 'abroise', 'buno', 'somer', 'naple', 'entry', 'patrick', 'tampere', 'riga', 'op', 'sachetti', 'aunt', 'nozze', 'stridi', 'vigo', 'illicit', 'tower', 'donizetti', 'astorga', 'gatwick', 'seven', 'ar', 'serie', 'corbin', 'philharmonic', 'occlude', 'somerset', 'fidè', 'porto', 'nürnberg', 'animate', 'manfre', 'barfleur', 'mistake', 'paulo', 'postgraduate', 'rainha', 'köppen', 'imphal', 'prestwick', 'ravenna', 'barlow', 'marque', 'madrid', 'rave', 'savitri', 'metáfora', 'marathon', 'widen', 'vermelha', 'bison', 'huntlyburn', 'rattlesnake', 'greek', 'fribourg', 'finisterre', 'peke', 'marion', 'eriksgaten', 'ro', 'prado', 'santo', 'schellenberg', 'sank', 'buona', 'concurso', 'aiken', 'engrave', 'extraordinaire', 'ernst', 'szege', 'plenipotentiary', 'heidelberg', 'saarbrücken', 'colab', 'vancouver', 'breakthrough', 'montreal', 'license', 'bc', 'notte', 'walli', 'major', 'showstoppe', 'vhil', 'turandot', 'barcelona', 'brendan', 'dona', 'étude', 'montecchi', 'lisbon', 'bahia', 'alfredo', 'fade', 'arrumado', 'worry', 'gijón', 'superannuate', 'lovebyte', 'pesaro', 'elite', 'alexis', 'zurich', 'splendid', 'cie', 'waterlow', 'venice', 'museo', 'rumo', 'cunha', 'calais', 'alicante', 'vivant', 'sotho', 'coimbra', 'overdose', 'newfoundland', 'bohemia', 'kärnten', 'animal', 'portsmouth', 'paglia', 'prospect', 'footballe', 'camoe', 'crush', 'voce', 'alve']\n",
      "1573 1343 1670   1246       327       97   \n",
      "['botho', 'ecommerce', 'staffordshire', 'rabat', 'agnew', 'mary', 'dinge', 'rouen', 'parma', 'symphonieorchester', 'tbilisi', 'sturm', 'jorge', 'qanta', 'olmste', 'swinge', 'boulevard', 'indira', 'maccabi', 'professore', 'spadolini', 'stanste', 'harnasie', 'balustrade', 'consulate', 'angie', 'eteme', 'feste', 'wright', 'russe', 'privatefly', 'poole', 'spearhafoc', 'hay', 'mgimo', 'zeani', 'frankfort', 'wittenberg', 'huygen', 'roy', 'tenure', 'academia', 'lore', 'cambrele', 'rotha', 'convitato', 'avensa', 'franck', 'truro', 'alphonse', 'retulit', 'kahane', 'accademia', 'kesselre', 'disjoint', 'fleme', 'pompeii', 'ware', 'ini', 'antananarivo', 'laurence', 'lavater', 'musicale', 'compostela', 'volume', 'bologna', 'seiyun', 'zeal', 'keate', 'akash', 'kunigunde', 'ranch', 'chysauster', 'portrait', 'sandal', 'lucie', 'klemperer', 'elephant', 'atelier', 'trieste', 'cibber', 'saratoga', 'lawa', 'sylvain', 'wolff', 'cavalieri', 'takeover', 'poehl', 'basire', 'mohame', 'hendrick', 'samuel', 'coigny', 'isolde', 'gile', 'horne', 'detroit', 'valancourt', 'dasaolu', 'superiore', 'ritratto', 'louis', 'springsteen', 'criss', 'london', 'pino', 'ramsay', 'presseproduce', 'pink', 'guillermo', 'utc', 'hollister', 'thunderbird', 'christianity', 'shah', 'biche', 'italiano', 'risi', 'mercure', 'arnold', 'trevor', 'koh', 'steed', 'lae', 'hayle', 'wove', 'seville', 'suite', 'villeroy', 'deptford', 'unende', 'città', 'blake', 'finch', 'apostate', 'desìo', 'rt', 'benny', 'signor', 'gypsy', 'cartier', 'jane', 'verdi', 'corn', 'françois', 'enrapture', 'bath', 'chagall', 'frieze', 'sedgrave', 'gdansk', 'adnan', 'magician', 'rai', 'shadow', 'bullitt', 'pugin', 'cristiano', 'flaw', 'marguerite', 'romeo', 'stre', 'soloist', 'uganda', 'welsh', 'brendon', 'holstein', 'unrelease', 'ury', 'mattei', 'lammermoor', 'printmaker', 'edelstein', 'eaa', 'orchestre', 'katie', 'prague', 'theatre', 'usa', 'richmond', 'conservatoire', 'kotnik', 'benjamin', 'mitch', 'édifice', 'père', 'enamel', 'tan', 'vicente', 'facebook', 'massimo', 'baine', 'rupert', 'walthamstow', 'viaggi', 'phd', 'libretti', 'österreichische', 'niel', 'comet', 'sieglinde', 'tuni', 'serfs', 'cash', 'digby', 'klm', 'magdalene', 'fricka', 'heiden', 'downside', 'cour', 'allentown', 'italianate', 'clip', 'auckland', 'raunkilde', 'wall', 'nero', 'rosaleen', 'pagano', 'kiralfy', 'liza', 'thewli', 'loughborough', 'raimondo', 'greer', 'leonardo', 'qatar', 'aleppo', 'tempo', 'georgetown', 'etude', 'società', 'scare', 'dorange', 'eurodrug', 'guild', 'ocic', 'bamboccio', 'printmake', 'musgrave', 'bernini', 'livre', 'quebec', 'leopold', 'audrey', 'diocese', 'beck', 'nirode', 'musikrat', 'joint', 'labalme', 'musetta', 'syme', 'fiji', 'cadaque', 'hebrew', 'susie', 'durst', 'aegina', 'rhode', 'graham', 'hill', 'grand', 'perkin', 'zen', 'augsburg', 'lwów', 'parish', 'cloud', 'bargrave', 'harold', 'bourse', 'piero', 'coeffer', 'pietro', 'sacerdo', 'autre', 'vienna', 'colorado', 'elgin', 'vrije', 'liverpool', 'politick', 'æthelberht', 'sesto', 'glaze', 'battier', 'rigoletto', 'navrozov', 'eulenburg', 'watle', 'freunde', 'málaga', 'schmit', 'hemorrhage', 'golde', 'annoy', 'venue', 'thorn', 'mainstream', 'watercolour', 'mechelen', 'annale', 'sergio', 'edith', 'lawrence', 'aberdeen', 'cam', 'aseyev', 'lange', 'gordon', 'fiume', 'grégoire', 'nahid', 'ó', 'church', 'aspen', 'fuga', 'cologne', 'sanremo', 'potenti', 'scout', 'ongaku', 'cynibert', 'raoul', 'residence', 'oate', 'mery', 'née', 'andre', 'pennisi', 'turin', 'albert', 'leo', 'retz', 'dunk', 'marshal', 'parishad', 'grisi', 'intende', 'housemaid', 'hadid', 'spoon', 'connive', 'ravioli', 'vectore', 'pinacoteca', 'grande', 'alexandria', 'gregorii', 'elisabeth', 'circa', 'brook', 'patten', 'dunda', 'petale', 'ruthven', 'oak', 'dresden', 'italy', 'reconynge', 'fortitudo', 'frontenac', 'abidjan', 'webb', 'gandhi', 'minoan', 'civitavecchia', 'corso', 'tozer', 'selfridge', 'aqueduct', 'countrywide', 'noli', 'pfeiffer', 'gray', 'derange', 'heidi', 'viterbo', 'eloy', 'alcuin', 'bernard', 'glasgow', 'jacque', 'dilettanti', 'niccolò', 'patna', 'siena', 'santander', 'distilo', 'livio', 'easter', 'marash', 'nanke', 'cadwallo', 'general', 'selmi', 'inbetween', 'claude', 'cattolici', 'oversaw', 'westfield', 'leicester', 'requiem', 'lauren', 'goffo', 'accustom', 'strengel', 'i', 'chat', 'italien', 'paraguay', 'constrict', 'pope', 'algarve', 'harvey', 'bain', 'enea', 'kneale', 'oscott', 'dave', 'balance', 'renate', 'isabel', 'elloy', 'emmett', 'peculiar', 'campagna', 'postimpressionist', 'stencil', 'mead', 'missionize', 'colour', 'chongqe', 'life', 'france', 'newcastle', 'inntrykk', 'peintre', 'pauline', 'œuvre', 'chopin', 'fame', 'greece', 'florence', 'felten', 'granville', 'cape', 'dolcetti', 're', 'deare', 'merry', 'burden', 'stirle', 'han', 'beefheart', 'adventure', 'rencontre', 'caroline', 'greave', 'galt', 'impend', 'guillaume', 'croatia', 'rocco', 'ai', 'harstad', 'rodrigue', 'christoff', 'tosca', 'acmrs', 'logan', 'rundfunk', 'valencià', 'arose', 'hype', 'brogan', 'spat', 'ferenc', 'ioc', 'buchanan', 'oppo', 'petre', 'embitter', 'ranking', 'gomaa', 'backstage', 'okeefe', 'george', 'nilakantha', 'parachute', 'hewer', 'ruta', 'espionage', 'synchronise', 'chiaromonte', 'costume', 'baumeister', 'liberazione', 'ausente', 'oslo', 'vermeer', 'shipyard289x289pxaltalthough', 'honoris', 'nottingham', 'onegin', 'wilfre', 'anicetus', 'hyse', 'bardy', 'haaretz', 'devastatione', 'darrell', 'sedgefield', 'uriarte', 'boulogne', 'germain', 'nacional', 'warden', 'berne', 'galerie', 'lhomme', 'backstroke', 'reverend', 'bemuse', 'indo', 'standen', 'pedestrianize', 'enid', 'queer', 'salvini', 'normandy', 'white', 'camberwell', 'yate', 'buken', 'lancret', 'skirmish', 'confidant', 'keen', 'hathut', 'ennismore', 'desdemona', 'west', 'harland', 'valentine', 'stigter', 'coraggio', 'plato', 'clearcut', 'braahten', 'statute', 'bondage', 'gladys', 'ornament', 'fato', 'cambridge', 'emigre', 'terme', 'prizewinne', 'wettkampf', 'moderne', 'incunabula', 'witte', 'vicenza', 'overgrow', 'godwin', 'fahey', 'margaret', 'remade', 'decreed', 'royal', 'kew', 'bonomo', 'maggie', 'darjeele', 'lemonade', 'wfp', 'chaplain', 'winchester', 'stein', 'boyman', 'evelyn', 'vat', 'pamphilj', 'grove', 'prose', 'trustee', 'pensionnaire', 'denmark', 'germont', 'jerry', 'hollow', 'anglicani', 'leone', 'miha', 'ennio', 'swaraj', 'matthew', 'ainda', 'billund', 'sedlatzek', 'watkin', 'diana', 'fellowe', 'gb', 'ie', 'maidstone', 'dunedin', 'bardstown', 'churchill', 'architect', 'croatian', 'beirut', 'agne', 'edoardo', 'orelha', 'steer', 'battista', 'catherine', 'duquesnoy', 'perché', 'udine', 'landholde', 'beschrijvingh', 'samsun', 'bedford', 'samantha', 'vine', 'solaraid', 'lombard', 'auditoire', 'dante', 'licenza', 'carthage', 'eyewear', 'essen', 'dud', 'followe', 'relax', 'buckingham', 'unrealise', 'sevenoak', 'dortmund', 'colombo', 'presenti', 'naple', 'bezzuoli', 'plain', 'pete', 'entry', 'pélerinage', 'wolfe', 'triste', 'riga', 'canoe', 'ration', 'duhan', 'soane', 'nozze', 'meadow', 'cesare', 'caprice', 'please', 'salonika', 'buckle', 'edward', 'sutherland', 'tartaruga', 'melbourne', 'tower', 'henne', 'tailor', 'zoo', 'ritorno', 'erde', 'romero', 'rapallo', 'period', 'roseingrave', 'conakry', 'gatwick', 'seven', 'siegfrie', 'barrie', 'ar', 'auburn', 'philharmonic', 'wainwright', 'fedwa', 'gild', 'hempstead', 'betsy', 'fracture', 'rome', 'electarum', 'sun', 'ogro', 'august', 'festival', 'crux', 'auguste', 'flame', 'syrsch', 'somerset', 'delgetti', 'ce', 'danny', 'german', 'heartbroken', 'générale', 'klaus', 'bottega', 'passage', 'c1642', 'ferment', 'barack', 'frith', 'hsi', 'veil', 'hwv', 'cole', 'storage', 'atherton', 'dorset', 'bacchus', 'bulgarian', 'ive', 'eprix', 'dakar', 'oxbridge', 'asteroid', 'daniela', 'manfre', 'spanien', 'scene', 'the', 'noureldin', 'organ', 'paulo', 'falegname', 'henrietta', 'armstead', 'corte', 'adkin', 'irve', 'unmove', 'köppen', 'pagliacci', 'gloucestershire', 'glazier', 'quran', 'lise', 'lombardi', 'mulu', 'universität', 'libero', 'wiggin', 'ravenna', 'antigone', 'walsh', 'texte', 'byzantine', 'afi', 'barlow', 'illiralaare', 'stubbs', 'alain', 'luke', 'madrid', 'capece', 'sancta', 'irish', 'bareface', 'nice', 'ancient', 'transtulit', 'joan', 'frederick', 'bac', 'pier', 'rebekah', 'longlaste', 'laetitia', 'malmö', 'ys', 'elizabethans', 'voltri', 'greek', 'warsaw', 'bobbi', 'fran', 'philosophy', 'luisa', 'eugene', 'bodø', 'raffl', 'bucharest', 'chile', 'peke', 'angelo', 'hanover', 'hase', 'warband', 'dirksen', 'santiago', 'episcopi', 'otto', 'christfrie', 'leonard', 'imax', 'altieri', 'cosyns', 'reine', 'armatrade', 'holbein', 'benode', 'ostromecko', 'sank', 'complimento', 'albany', 'buona', 'puccini', 'square', 'legate', 'credito', 'thame', 'wbbg', 'heathrow', 'tav', 'bohème', 'rollick', 'walter', 'ace', 'inge', 'rodolfo', 'harcourt', 'privilege', 'gheorghiu', 'barend', 'szege', 'vvas', 'heir', 'heidelberg', 'saarbrücken', 'sj', 'athen', 'lockheed', 'colab', 'murray', 'vancouver', 'du', 'plein', 'e', 'geoffrey', 'mcalllister', 'macro', 'hole', 'chalyapin', 'monotti', 'charlotte', 'unperforme', 'montreal', 'bacio', 'botany', 'lausanne', 'cresy', 'blanket', 'sabatie', 'rudolf', 'routledge', 'continuando', 'brindisi', 'violinist', 'notte', 'colonel', 'gracie', 'bertha', 'wisecrack', 'pachaiyappas', 'amele', 'reykjavík', 'furneaux', 'piozzi', 'moda', 'bobbed', 'heseltine', 'turandot', 'baltimore', 'badań', 'agio', 'samoa', 'holt', 'alnwick', 'copenhagen', 'belcanto', 'garrick', 'a320', 'jebb', 'nobuko', 'vita', 'étude', 'vje', 'bce', 'abujidi', 'montecchi', 'václav', 'gonçalve', 'chamberlain', 'trionfo', 'vnecke', 'nelson', 'lisbon', 'bayreuth', 'baukust', 'dieric', 'croydon', 'aztec', 'corneli', 'sparkle', 'antonio', 'adolfo', 'bore', 'norge', 'hilary', 'canterbury', 'barry', 'ethnik', 'paula', 'popish', 'bunsen', 'riess', 'hache', 'barbara', 'biffen', 'crenellate', 'chittagong', 'pad', 'leningrad', 'symphony', 'düsseldorf', 'channe', 'carlo', 'karsten', 'pressurize', 'velde', 'senlis', 'nazi', 'revue', 'carse', 'demofoonte', 'overcame', 'oxfam', 'opera', 'genova', 'alexis', 'шляхам', 'pressurise', 'zurich', 'dc6b', 'gusen', 'eale', 'edmund', 'marco', 'sassari', 'flemme', 'venice', 'cromwell', 'eunuch', 'poet', 'coxles', 'museo', 'director', 'institutionalise', 'actor', 'nefta', 'osb', 'selva', 'alicante', 'milan', 'eltingh', 'marten', 'hz', 'championship', 'alumni', 'arrant', 'belize', 'belfast', 'swam', 'portland', 'painter', 'sangita', 'kristiansand', 'workshop', 'mottar', 'sparky', 'columnist', 'standardize', 'tunnel', 'catholicism', 'greenock', 'payne', 'risd', 'kirstie', 'paglia', 'bermuda', 'olsen', 'cumming', 'lewe', 'azzedine', 'murrow', 'exeter', 'alighiero', 'makart', 'dragutin', 'nationale', 'laugharne', 'shanewis', 'hertfordshire', 'custody', 'pompeiano', 'wilhelm', 'elena', 'talbert', 'farflung', 'surrey']\n",
      "3397 2678 3705   2370       1027      308  \n",
      "['backstroke', 'rodrigo', 'wolfram', 'campo', 'tbilisi', 'jorge', 'aucassin', 'peke', 'figaro', 'medal', 'maccabi', 'kwon', 'stanste', 'seed', 'csp', 'walk', 'gsm', 'anadolu', 'consulate', 'vienna', 'montenegro', 'unassume', 'draft', 'liverpool', 'congresse', 'leuven', 'sesto', 'sinfonikoa', 'grigorio', 'gecekondu', 'paoli', 'sergio', 'accademia', 'inge', 'kobe', 'fixture', 'denmark', 'iglesia', '23', 'germont', 'szege', 'compromise', 'plenipotentiary', 'lake', 'saarbrücken', 'vancouver', 'raf', 'ilija', 'valentin', 'austen', 'congo', 'dunedin', 'okkas', 'sparta', 'dunk', 'deportivo', 'leed', 'davor', 'deicman', 'alexei', 'ökonomische', 'mgm', 'brulé', 'copenhagen', 'alegre', 'riccardo', 'vanoli', 'midfielder', 'stavanger', 'orsay', 'lisbon', 'antonio', 'colonne', 'ireland', 'nozze', 'qin', 'roma', 'giannakopoulo', 'comme', 'romein', 'renato', 'adnan', 'divisie', 'berkshire', 'pope', 'panathinaikos', 'serie', 'minister', 'rome', 'august', 'deutsche', 'greece', 'prague', 'florence', '42', 'baritone', 'nairobi', 'almere', 'maribor', 'guillaume', 'museo', 'croatia', 'everton', 'tokyo', 'paulo', 'paget', 'impair', 'swam', 'internazionale', 'gall', 'baldwin', 'synchronise', 'barlow', 'qatar', 'madrid', 'honoris', 'cooke', 'cervante', 'kyiv', 'leopold', 'hebrew']\n",
      "716  637  758    595        121       42   \n",
      "['kettere', 'aguas', 'campo', 'tbilisi', 'antoni', 'jorge', 'kei', 'olmste', 'forqué', 'maccabi', 'por', 'avenida', 'crepúsculo', 'comunista', 'landless', 'hoda', 'stanste', 'línea', 'dani', 'lyon', 'rundfunk3sat', 'laserna', 'pistolerismo', 'ofunam', 'buque', 'consulate', 'com', 'illa', 'war', 'forgave', 'gilmore', 'getafe', 'figo', 'around', 'ham', 'urumea', 'azul', 'casablanca', 'azule', 'zeani', 'motive', 'undergraduate', 'ceronetti', 'segle', 'enseñarle', 'commuter', 'badge', 'barefoot', 'tenure', 'roy', 'prin', 'lore', 'alphen', 'sojo', 'casare', 'swiss', 'handicap', 'fleme', 'ratcliff', 'punk', 'rambla', 'deportiva', 'ceuta', 'fifa', 'bme', 'seongnam', 'mimi', 'mover', 'mangrove', 'levante', 'al', 'bologna', 'landon', 'chocolate', 'amunike', 'fuerte', 'thameslink', 'summercase', 'confrontacione', 'lucie', 'howl', 'underground', 'trieste', 'danmark', 'ronaldinho', '198586', 'hermano', 'goetz', 'valentin', 'sylvain', 'torre', 'bakuninist', 'borchert', 'dominic', 'mohame', 'maria', 'dindumentària', 'cabify', 'captivate', 'atlantiqueende', 'zaragossa', 'cuf', 'figuere', 'superiore', 'finidi', 'alexei', 'larga', 'garanti', 'primitivo', 'petr', 'cárcel', 'casilla', 'guillermo', 'radiacione', 'hollister', 'savo', 'bruguera', 'poseur', '32', 'thyssen', 'fundació', 'pourret', 'trias', 'indefinite', 'recreativo', 'amen', 'sin', 'cheste', 'czech', 'giulietta', 'cerebro', 'sita', 'suite', 'purcell', 'retevisión', 'verd', 'becas', 'fritzi', 'deere', 'bienvenue', 'verdi', 'fiesta', 'waltraute', 'armando', 'chagall', 'mumok', 'feyenoord', 'wta', 'arca', 'kunsthaus', 'bogotá', 'cristiano', 'protract', 'reachable', 'hall', 'jar', 'romeo', 'soloist', 'margall', 'heyncke', 'overall', 'atp', 'huai', 'mutua', 'golubev', 'shelbourne', 'fountain', 'sander', 'lammermoor', 'antifeixiste', 'profile', 'orchestre', 'katie', 'kneed', 'prague', 'trelles', 'crowdfunde', '42', 'vecvagar', 'baritone', 'right', 'lichtenfel', 'ap2', 'badia', 'giant', 'tan', 'vicente', 'facebook', 'copa', 'torino', 'striker', 'beatrice', 'almaviva', 'scandinavia', 'wenger', 'sieglinde', 'netherland', 'wilander', 'gianluca', 'jaume', 'disillusion', 'colino', 'wim', 'klm', 'bari', 'disable', 'social12', 'or', 'meagre', 'claret', 'sheffield', 'aiazo', 'qatar', 'manchester', 'sanz', 'georgetown', 'dorange', 'contested', 'donetsk', 'goalscore', 'website', 'dissapointe', 'cervante', 'cavalry', 'amelia', 'leopold', 'bunyol', 'dançando', 'hjørre', 'motorize', 'individual', 'barça', 'rizal', '01', 'musetta', 'fiji', 'cadaque', 'hebrew', 'carreró', 'railway', 'eaj5', 'juan', 'milá', 'gille', 'christoph', 'venable', 'pedro', 'recourse', 'outfit', 'catalan', 'garrotxa', 'rossa', 'gwynne', 'mexicano', 'fernando', 'viento', 'alianza', 'h', 'benzema', 'arteta', 'natureza', 'vacío', 'lampe', 'tve', 'collaboration', 'ac', 'maggiore', 'liverpool', 'sd', 'castell', 'lobkowicz', 'torrijos', 'mercede', 'napoli', 'fiordiligi', 'freunde', 'feve', 'scharn', 'málaga', 'más', 'camarote', 'esteve', 'trabzonspor', 'annale', 'gibraltar', 'sergio', 'escuela', 'jinete', 'uruguayan', 'benoît', 'yonder', 'derry', 'buxeda', 'benjamín', 'siglo', 'kundry', 'logroño', 'andrė', 'leftwe', 'eaj9', 'aek', 'cologne', 'venus', 'salvador', 'ángele', 'cadiz', 'insurtech', 'nightmare', 'formó', 'pitti', 'england', 'sneijder', 'filipino', 'andre', 'albert', 'nicart', 'saragossa', 'dunk', 'mujere', 'leed', 'fiare', 'vb', 'buyout', 'hansa', 'bacca', '97', 'sánchez', 'porta', 'openbank', 'badajoz', 'ferdinand', 'pinacoteca', 'grande', 'teatro', 'sándor', 'honori', 'elizaveta', 'roda', 'masnadieri', 'nürburgre', 'lear', 'cop20', 'cosmo', 'webb', 'vandellòs', 'architecture', 'viceroy', 'raúl', 'campos', 'seydou', 'pero', 'ateneo', 'capello', 'bernard', 'tarifa', 'mistook', 'slavia', 'cd', 'irene', 'ortolá', 'santander', 'reale', 'caixa', 'leal', 'rusalka', 'farga', 'easter', 'moncada', 'lycome', 'dolci', 'roma', 'limmud', 'gravesen', 'décimo', 'demoralize', 'seraph', 'granada', 'westfield', 'valverde', 'leicester', 'uncompromise', 'extranjería', 'sociológica', 'denis', 'madrileña', 'locomotive', 'llobregat', 'pala', 'dhoffmann', 'rite', '20', 'foot', 'isabel', 'chambre', 'uste', 'mazembe', 'sant', 'iu', 'overarch', 'pütz', 'baleare', 'newcastle', 'universita', 'pisuerga', 'tether', 'fledge', 'cetnarowski', 'alliance', 'fame', 'theater', 'space', 'florence', 'exposició', 'bk', 'foothill', 'fray', 'maid', 'carla', 'rencontre', 'schade', 'guillaume', 'lech', 'ai', 'venta', 'rubie', 'carrillo', 'erfurt', 'regà', 'algo', 'tito', 'kurt', 'izik', 'padre', 'pamplona', 'piacere', 'artiste', 'ilhwa', 'feliciano', 'george', 'produccione', 'espionage', 'shinkansen', 'cuenca', 'deceive', 'cadmos', 'honoris', 'manuel', 'horrify', 'unserve', 'wheelchair', 'perera', 'baraja', 'billionaire', 'lazio', 'belenense', '51', 'für', 'steaua', 'violist', 'garrigue', 'tn', '07', 'nacional', 'germain', 'supercomputer', 'enschede', 'rainbow', 'chorus', 'sine', 'indo', 'bielsa', 'doncell', 'dustin', 'compañía', 'internet', 'trame', 'songwrite', 'unsporte', 'gran', 'infante', 'roberto', 'adjoin', 'diego', 'desdemona', 'rge', 'thrill', 'ince', 'distraught', 'sabadell', 'valentine', 'police', 'derby', 'stravinsky', 'kristine', 'peñafiel', 'tiebreake', 'de', 'leire', 'charter', 'anaide', 'jazz', 'master', 'placido', 'picasso', 'elche', '24', 'rtve', 'ode', 'untitle', 'montet', 'karim', 'glare', 'carrer', 'denmark', 'armide', 'shammu', 'sak', 'derelict', 'matthew', 'puig', 'eindhoven', 'sesc', 'warp', 'ase', 'gb', 'stewart', 'eskalera', 'mateo', 'dunedin', 'española', 'dio', 'penultimate', 'nanetta', 'equipo', '111e', 'senante', 'davor', 'thiago', 'mister', 'viaggio', 'inch', 'loop', 'decisión', 'canal', 'molinón', 'alcala', 'ante', 'cadogan', 'linfield', 'dolore', 'kirkene', 'pincha', 'dante', 'puyol', 'orientade', 'embattle', 'tarragona', 'flavia', 'betis', 'dortmund', 'nanne', 'naple', 'sivilla', 'pandillismo', 'stimulate', 'albacete', 'querrey', 'montseny', 'arenero', 'galaxy', 'handball', 'dutch', 'chute', 'radame', 'nozze', 'ukraine', 'geli', 'schalke', 'cesare', 'introdução', 'boixos', 'fundamentale', 'plaza', 'vigo', 'guzmán', 'divisie', 'csș', 'marín', 'alcalá', 'apoel', 'donizetti', 'astorga', 'giraldo', 'condal', 'domínguez', 'panathinaikos', 'konzaert', 'ceu', 'handel', 'ar', 'esnáider', 'primavera', 'philharmonic', 'dalmacio', 'dialogue', 'deià', 'onward', 'rapa', 'žemlja', 'toledo', 'wanderer', 'allegri', 'rome', 'del', 'deutsche', 'festival', 'bajo', 'mach', 'oliver', 'creditwatch', 'ce', 'dutchman', 'lipset', 'german', 'porto', 'hsv', 'escatllar', 'maribor', 'españa', 'vend', 'ilia', 'rakuten', 'muñoz', 'sm', 'incensed', 'matkowski', 'nedve', 'defender', 'european', 'demoralise', 'birth', 'corte', 'paulo', 'buyten', 'schulten', 'ardavín', 'gárate', 'kuche', 'adida', 'shelter', 'internazionale', 'hamilton', 'sqm', 'bernabeu', 'favourite', 'alternativo', 'illiralaare', 'photovoltaic', 'gleave', 'madrid', 'rave', 'toshack', 'terra', 'leader', 'división', 'joan', 'rote', 'massif', 'salamanca', 'ado', 'unwavere', 'fictionalise', 'gluck', 'utd', 'estrelle', 'centro', 'winner', 'forementione', 'desna', 'kunstausstellung', 'danza', 'correo', 'chile', 'moroccan', 'received', 'denny', 'shapovalov', 'justo', 'pollard', 'turan', 'trust', 'roccuzzo', 'annotate', 'flaquer', 'conor', 'pirri', 'švankmajer', 'taro', 'santiago', 'referreee', 'lima', 'druga', 'barrois', '91', 'joglar', 'premio', 'separatist', 'aouate', 'ignorance', 'farfetch', 'pel', 'la', 'bust', 'industriale', 'modernisme', 'rearset', 'marseille', 'callejón', 'bohème', 'hooligan', 'perl', 'folie', 'appearance', 'brazdeiki', 'rodolfo', 'inge', 'viktoria', 'aiken', 'cort', 'girona', 'zazpikaleak', 'novedade', 'fema', 'szege', 'lleida', 'ranger', 'lake', 'nudo', 'pantographs', 'šabac', 'murray', 'vancouver', 'simonsen', 'tunis', 'hercog', 'macro', 'piedmont', 'wayan', 'kirumira', 'rodalie', 'hidalgo', 'marin', 'malaga', 'ntn', 'lausanne', 'squash', 'routledge', 'zone', 'deportivo', 'gracie', 'sweden', 'kk', 'forest', 'museu', 'myrna', 'nick', 'reykjavík', 'akandouch', 'deicman', 'cadet', 'emilio', '50', 'domeny', 'spartak', '22', 'groene', 'fonoteca', 'sigmund', 'montpellier', 'borrell', 'rubén', 'baidu', 'chili', 'gobante', 'cartagena', 'blue', 'dona', 'ensemble', 'vva', 'primo', 'étude', 'dit', 'olga', 'baldur', 'gps', 'pathbreake', 'boldklubben', 'midfielder', 'premise', 'finalist', 'pepe', 'alexia', 'lisbon', 'batalión', 'rocío', 'muziekgebouw', 'forage', 'santíssimo', 'amaury', 'ireland', 'figuera', 'wilfrie', 'iffh', 'adolfo', 'carretera', 'galatasaray', 'como', 'recuerdo', 'mikhail', 'duh', 'cadafalch', 'vázquez', 'ud', 'anthropologist', 'maría', 'focsa', 'mnac', 'conversacione', 'crack', 'lopside', 'symphony', 'carlo', 'mdf', 'pressurize', 'club', 'varvara', 'nazi', 'siete', 'fortuna', 'overcame', 'seidemann', 'pesaro', 'schole', 'alexis', 'torra', 'gandia', 'polideportivo', 'earthquake', 'subvencionada', 'filmmake', 'almere', 'krankl', 'marco', 'displeasure', 'industrialise', 'esteem', 'venice', 'lepchenko', 'fellow', 'hendaye', 'poet', 'esparanza', 'museo', 'artois', 'director', 'extraño', 'rosell', 'cármene', 'farie', 'innsbruck', 'salón', 'moussa', 'rothko', 'alicante', 'milan', 'marten', 'pe', 'championship', 'a22', 'lourde', 'belize', 'modrić', 'arteón', 'fellaini', 'turkish', 'toulouse', 'localize', 'césar', 'everlaste', 'pan', 'onrushe', 'bohemia', 'fre', 'lesgaicinemad', 'andrés', 'parede', 'canuda', 'cathal', 'balear', 'olsen', 'lanzini', 'ryan', 'sevilla', 'kyiv', 'footballe', 'opinion', 'gerhard', 'discalce', 'gown', 'teucro', 'elena']\n",
      "3068 2460 3371   2157       911       303  \n"
     ]
    }
   ],
   "source": [
    "print(\"files:\", len(lemmatised_words))\n",
    "print(\"old, new, union, intersect, only_old, only_new\")\n",
    "for x in lemmatised_words[:20]:\n",
    "    oldset = set(x[0])\n",
    "    newset = set(x[1])\n",
    "    \n",
    "    only_old = list(oldset - newset)\n",
    "    only_new = list(newset - oldset)\n",
    "    \n",
    "    union = oldset.union(newset)\n",
    "    intersect = oldset.intersection(newset)\n",
    "    y = list(newset - intersect)\n",
    "    x = newset\n",
    "    print(only_old)\n",
    "    x = x.union(intersect)\n",
    "    print(\"{:<4} {:<4} {:<6} {:<10} {:<9} {:<5}\".format(len(oldset), len(newset), len(union), len(intersect), len(only_old), len(only_new)))"
   ]
  },
  {
   "cell_type": "markdown",
   "id": "e6d8fa2a",
   "metadata": {},
   "source": [
    "<hr>"
   ]
  },
  {
   "cell_type": "markdown",
   "id": "388407d0",
   "metadata": {},
   "source": [
    "# Lemmatize Single File"
   ]
  },
  {
   "cell_type": "code",
   "execution_count": null,
   "id": "9d430f64",
   "metadata": {},
   "outputs": [],
   "source": [
    "lemmatize_file(\"../../../../data/enwiki_city_pairs/biggest_cities_20/london_manchester.txt\",\n",
    "              \"../../../../data/test/,\n",
    "              'london_manchester', [\"VERB\"])\n",
    "#create_lemmatised_wordlists"
   ]
  },
  {
   "cell_type": "code",
   "execution_count": 7,
   "id": "12cfd447",
   "metadata": {},
   "outputs": [
    {
     "data": {
      "text/plain": [
       "['embark',\n",
       " 'change',\n",
       " 'regard',\n",
       " 'open',\n",
       " 'anticipate',\n",
       " 'mount',\n",
       " 'produce',\n",
       " 'include',\n",
       " 'write',\n",
       " 'attract',\n",
       " 'continue',\n",
       " 'visit',\n",
       " 'end',\n",
       " 'sell',\n",
       " 'reveal',\n",
       " 'receive',\n",
       " 'fill',\n",
       " 'turn',\n",
       " 'reproduce',\n",
       " 'write',\n",
       " 'perform',\n",
       " 'come',\n",
       " 'film',\n",
       " 'know',\n",
       " 'film',\n",
       " 'hold',\n",
       " 'play',\n",
       " 'exclude',\n",
       " 'host',\n",
       " 'host',\n",
       " 'garner',\n",
       " 'face',\n",
       " 'threaten',\n",
       " 'leave',\n",
       " 'ride',\n",
       " 'attend',\n",
       " 'find',\n",
       " 'praise',\n",
       " 'punish',\n",
       " 'speak',\n",
       " 'wash',\n",
       " 'garner',\n",
       " 'win',\n",
       " 'receive',\n",
       " 'test',\n",
       " 'result',\n",
       " 'waive',\n",
       " 'focus',\n",
       " 'excel',\n",
       " 'jog',\n",
       " 'claim',\n",
       " 'accompany',\n",
       " 'share',\n",
       " 'conscript',\n",
       " 'serve',\n",
       " 'post',\n",
       " 'accord',\n",
       " 'respond',\n",
       " 'publish',\n",
       " 'bury',\n",
       " 'edit',\n",
       " 'stem',\n",
       " 'pressure',\n",
       " 'respond',\n",
       " 'provide',\n",
       " 'affect',\n",
       " 'accord',\n",
       " 'suggest',\n",
       " 'distribute',\n",
       " 'challenge',\n",
       " 'highlight',\n",
       " 'refer',\n",
       " 'derive',\n",
       " 'sell',\n",
       " 'mean',\n",
       " 'come',\n",
       " 'come',\n",
       " 'neighbour',\n",
       " 'commute',\n",
       " 'follow',\n",
       " 'have',\n",
       " 'run',\n",
       " 'refer',\n",
       " 'include',\n",
       " 'develop',\n",
       " 'intensify',\n",
       " 'compete',\n",
       " 'list',\n",
       " 'follow',\n",
       " 'list',\n",
       " 'lie',\n",
       " 'serve',\n",
       " 'run',\n",
       " 'run',\n",
       " 'increase',\n",
       " 'run',\n",
       " 'run',\n",
       " 'serve',\n",
       " 'link',\n",
       " 'merge',\n",
       " 'link',\n",
       " 'head',\n",
       " 'limit',\n",
       " 'build',\n",
       " 'include',\n",
       " 'build',\n",
       " 'operate',\n",
       " 'withdraw',\n",
       " 'cease',\n",
       " 'connect',\n",
       " 'sell',\n",
       " 'wish',\n",
       " 'travel',\n",
       " 'transfer',\n",
       " 'dominate',\n",
       " 'own',\n",
       " 'operate',\n",
       " 'owe',\n",
       " 'travel',\n",
       " 'stay',\n",
       " 'spend',\n",
       " 'stay',\n",
       " 'visit',\n",
       " 'report',\n",
       " 'consider',\n",
       " 'meet',\n",
       " 'see',\n",
       " 'inspect',\n",
       " 'expect',\n",
       " 'supply',\n",
       " 'breakersmet',\n",
       " 'connect',\n",
       " 'link',\n",
       " 'help',\n",
       " 'promote',\n",
       " 'receive',\n",
       " 'accept',\n",
       " 'comment',\n",
       " 'include',\n",
       " 'look',\n",
       " 'include',\n",
       " 'argue',\n",
       " 'love',\n",
       " 'play',\n",
       " 'say',\n",
       " 'think',\n",
       " 'scale',\n",
       " 'project',\n",
       " 'show',\n",
       " 'renationalise',\n",
       " 'include',\n",
       " 'lie',\n",
       " 'have',\n",
       " 'form',\n",
       " 'involve',\n",
       " 'lie',\n",
       " 'expand',\n",
       " 'choose',\n",
       " 'site',\n",
       " 'work',\n",
       " 'cause',\n",
       " 'site',\n",
       " 'serve',\n",
       " 'overcome',\n",
       " 'follow',\n",
       " 'announce',\n",
       " 'establish',\n",
       " 'produce',\n",
       " 'examine',\n",
       " 'begin',\n",
       " 'build',\n",
       " 'connect',\n",
       " 'relieve',\n",
       " 'oppose',\n",
       " 'roll',\n",
       " 'travel',\n",
       " 'exist',\n",
       " 'require',\n",
       " 'intersect',\n",
       " 'exist',\n",
       " 'plan',\n",
       " 'reach',\n",
       " 'link',\n",
       " 'include',\n",
       " 'decrease',\n",
       " 'reach',\n",
       " 'include',\n",
       " 'complete',\n",
       " 'electrify',\n",
       " 'cease',\n",
       " 'electrify',\n",
       " 'reopen',\n",
       " 'direct',\n",
       " 'feature',\n",
       " 'know',\n",
       " 'include',\n",
       " 'rebuild',\n",
       " 'open',\n",
       " 'construct',\n",
       " 'reopen',\n",
       " 'construct',\n",
       " 'prove',\n",
       " 'educate',\n",
       " 'train',\n",
       " 'practise',\n",
       " 'specialise',\n",
       " 'marry',\n",
       " 'report',\n",
       " 'give',\n",
       " 'paint',\n",
       " 'sal',\n",
       " 'cease',\n",
       " 'take',\n",
       " 'open',\n",
       " 'stanste',\n",
       " 'rumour',\n",
       " 'cancel',\n",
       " 'cease',\n",
       " 'book',\n",
       " 'open',\n",
       " 'remain',\n",
       " 'travel',\n",
       " 'arrive',\n",
       " 'report',\n",
       " 'report',\n",
       " 'write',\n",
       " 'sell',\n",
       " 'arrive',\n",
       " 'note',\n",
       " 'arrange',\n",
       " 'appear',\n",
       " 'give',\n",
       " 'give',\n",
       " 'honour',\n",
       " 'attend',\n",
       " 'answer',\n",
       " 'republish',\n",
       " 'quote',\n",
       " 'waste',\n",
       " 'say',\n",
       " 'increase',\n",
       " 'occur',\n",
       " 'take',\n",
       " 'report',\n",
       " 'say',\n",
       " 'spend',\n",
       " 'build',\n",
       " 'attempt',\n",
       " 'counter',\n",
       " 'say',\n",
       " 'complete',\n",
       " 'confirm',\n",
       " 'write',\n",
       " 'note',\n",
       " 'view',\n",
       " 'select',\n",
       " 'open',\n",
       " 'open',\n",
       " 'expand',\n",
       " 'show',\n",
       " 'cope',\n",
       " 'provide',\n",
       " 'situate',\n",
       " 'know',\n",
       " 'include',\n",
       " 'cowbridge',\n",
       " 'provide',\n",
       " 'begin',\n",
       " 'write',\n",
       " 'follow',\n",
       " 'tap',\n",
       " 'promote',\n",
       " 'renew',\n",
       " 'plant',\n",
       " 'witness',\n",
       " 'manufacture',\n",
       " 'witness',\n",
       " 'cause',\n",
       " 'resolve',\n",
       " 'strike',\n",
       " 'take',\n",
       " 'begin',\n",
       " 'write',\n",
       " 'unfold',\n",
       " 'weep',\n",
       " 'laugh',\n",
       " 'weep',\n",
       " 'walk',\n",
       " 'go',\n",
       " 'grant',\n",
       " 'redevelop',\n",
       " 'increase',\n",
       " 'arise',\n",
       " 'include',\n",
       " 'return',\n",
       " 'appear',\n",
       " 'propose',\n",
       " 'move',\n",
       " 'appear',\n",
       " 'commit',\n",
       " 'increase',\n",
       " 'announce',\n",
       " 'plan',\n",
       " 'increase',\n",
       " 'implement',\n",
       " 'span',\n",
       " 'redevelop',\n",
       " 'arise',\n",
       " 'sell',\n",
       " 'emerge',\n",
       " 'involve',\n",
       " 'add',\n",
       " 'bring',\n",
       " 'take',\n",
       " 'reopen',\n",
       " 'reduce',\n",
       " 'choose',\n",
       " 'confirm',\n",
       " 'commence',\n",
       " 'reduce',\n",
       " 'announce',\n",
       " 'go',\n",
       " 'visit',\n",
       " 'overfly',\n",
       " 'land',\n",
       " 'consent',\n",
       " 'reserve',\n",
       " 'visit',\n",
       " 'bind',\n",
       " 'depart',\n",
       " 'coincide',\n",
       " 'wear',\n",
       " 'stop',\n",
       " 'serve',\n",
       " 'stop',\n",
       " 'center',\n",
       " 'protect',\n",
       " 'import',\n",
       " 'fall',\n",
       " 'protect',\n",
       " 'import',\n",
       " 'pass',\n",
       " 'prevent',\n",
       " 'print',\n",
       " 'cause',\n",
       " 'switch',\n",
       " 'import',\n",
       " 'finish',\n",
       " 'dye',\n",
       " 'print',\n",
       " 'print',\n",
       " 'produce',\n",
       " 'know',\n",
       " 'send',\n",
       " 'finish',\n",
       " 'recover',\n",
       " 'claim',\n",
       " 'take',\n",
       " 'manufacture',\n",
       " 'act',\n",
       " 'pass',\n",
       " 'enact',\n",
       " 'catch',\n",
       " 'wear',\n",
       " 'print',\n",
       " 'stain',\n",
       " 'exempt',\n",
       " 'exploit',\n",
       " 'permit',\n",
       " 'associate',\n",
       " 'send',\n",
       " 'buy',\n",
       " 'bombard',\n",
       " 'represent',\n",
       " 'present',\n",
       " 'level',\n",
       " 'play',\n",
       " 'liberate',\n",
       " 'gift',\n",
       " 'receive',\n",
       " 'devote',\n",
       " 'include',\n",
       " 'publish',\n",
       " 'continue',\n",
       " 'tend',\n",
       " 'direct',\n",
       " 'run',\n",
       " 'produce',\n",
       " 'find',\n",
       " 'operate',\n",
       " 'operate',\n",
       " 'operate',\n",
       " 'haul',\n",
       " 'electrify',\n",
       " 'include',\n",
       " 'travel',\n",
       " 'attend',\n",
       " 'inherit',\n",
       " 'attend',\n",
       " 'win',\n",
       " 'play',\n",
       " 'call',\n",
       " 'coach',\n",
       " 'unite',\n",
       " 'attend',\n",
       " 'represent',\n",
       " 'play',\n",
       " 'name',\n",
       " 'attend',\n",
       " 'sign',\n",
       " 'sign',\n",
       " 'select',\n",
       " 'represent',\n",
       " 'team',\n",
       " 'bear',\n",
       " 'bear',\n",
       " 'settle',\n",
       " 'work',\n",
       " 'work',\n",
       " 'live',\n",
       " 'attend',\n",
       " 'acquire',\n",
       " 'serve',\n",
       " 'schedule',\n",
       " 'stanste',\n",
       " 'base',\n",
       " 'grow',\n",
       " 'run',\n",
       " 'include',\n",
       " 'encircle',\n",
       " 'encircle',\n",
       " 'offer',\n",
       " 'wear',\n",
       " 'centre',\n",
       " 'dominate',\n",
       " 'base',\n",
       " 'include',\n",
       " 'combine',\n",
       " 'employ',\n",
       " 'produce',\n",
       " 'include',\n",
       " 'go',\n",
       " 'come',\n",
       " 'force',\n",
       " 'raise',\n",
       " 'brush',\n",
       " 'return',\n",
       " 'lead',\n",
       " 'besiege',\n",
       " 'hold',\n",
       " 'win',\n",
       " 'give',\n",
       " 'gain',\n",
       " 'lead',\n",
       " 'negotiate',\n",
       " 'free',\n",
       " 'fight',\n",
       " 'offer',\n",
       " 'include',\n",
       " 'belong',\n",
       " 'own',\n",
       " 'show',\n",
       " 'exhibit',\n",
       " 'show',\n",
       " 'find',\n",
       " 'take',\n",
       " 'provide',\n",
       " 'include',\n",
       " 'move',\n",
       " 'view',\n",
       " 'arrange',\n",
       " 'attend',\n",
       " 'seek',\n",
       " 'charge',\n",
       " 'share',\n",
       " 'sing',\n",
       " 'play',\n",
       " 'share',\n",
       " 'name',\n",
       " 'sign',\n",
       " 'manage',\n",
       " 'rival',\n",
       " 'come',\n",
       " 'resign',\n",
       " 'have',\n",
       " 'spend',\n",
       " 'play',\n",
       " 'rebuild',\n",
       " 'open',\n",
       " 'host',\n",
       " 'play',\n",
       " 'involve',\n",
       " 'choose',\n",
       " 'hold',\n",
       " 'feature',\n",
       " 'hold',\n",
       " 'manage',\n",
       " 'meet',\n",
       " 'pave',\n",
       " 'believe',\n",
       " 'feature',\n",
       " 'want',\n",
       " 'establish',\n",
       " 'agree',\n",
       " 'decide',\n",
       " 'press',\n",
       " 'hold',\n",
       " 'enjoy',\n",
       " 'consider',\n",
       " 'weaken',\n",
       " 'release',\n",
       " 'support',\n",
       " 'oversee',\n",
       " 'offer',\n",
       " 'cease',\n",
       " 'choose',\n",
       " 'note',\n",
       " 'leave',\n",
       " 'fail',\n",
       " 'mean',\n",
       " 'progress',\n",
       " 'write',\n",
       " 'include',\n",
       " 'finish',\n",
       " 'complete',\n",
       " 'take',\n",
       " 'move',\n",
       " 'minister',\n",
       " 'found',\n",
       " 'establish',\n",
       " 'teach',\n",
       " 'build',\n",
       " 'continue',\n",
       " 'follow',\n",
       " 'build',\n",
       " 'found',\n",
       " 'abandon',\n",
       " 'leave',\n",
       " 'pay',\n",
       " 'come',\n",
       " 'give',\n",
       " 'meet',\n",
       " 'remark',\n",
       " 'gain',\n",
       " 'refer',\n",
       " 'lean',\n",
       " 'restrict',\n",
       " 'number',\n",
       " 'sit',\n",
       " 'serve',\n",
       " 'exclude',\n",
       " 'lie',\n",
       " 'follow',\n",
       " 'allow',\n",
       " 'ordain',\n",
       " 'pass',\n",
       " 'provide',\n",
       " 'arise',\n",
       " 'follow',\n",
       " 'come',\n",
       " 'fill',\n",
       " 'apply',\n",
       " 'sit',\n",
       " 'develop',\n",
       " 'boom',\n",
       " 'begin',\n",
       " 'come',\n",
       " 'mix',\n",
       " 'help',\n",
       " 'influence',\n",
       " 'play',\n",
       " 'fuel',\n",
       " 'begin',\n",
       " 'influence',\n",
       " 'bring',\n",
       " 'spread',\n",
       " 'work',\n",
       " 'include',\n",
       " 'lose',\n",
       " 'continue',\n",
       " 'sit',\n",
       " 'provide',\n",
       " 'include',\n",
       " 'see',\n",
       " 'remain',\n",
       " 'rank',\n",
       " 'act',\n",
       " 'make',\n",
       " 'limit',\n",
       " 'fill',\n",
       " 'synthesize',\n",
       " 'work',\n",
       " 'experiment',\n",
       " 'combine',\n",
       " 'boil',\n",
       " 'produce',\n",
       " 'call',\n",
       " 'send',\n",
       " 'tell',\n",
       " 'expand',\n",
       " 'build',\n",
       " 'travel',\n",
       " 'conduct',\n",
       " 'draw',\n",
       " 'locate',\n",
       " 'estimate',\n",
       " 'reside',\n",
       " 'include',\n",
       " 'brak',\n",
       " 'elad',\n",
       " 'reside',\n",
       " 'grow',\n",
       " 'found',\n",
       " 'populate',\n",
       " 'locate',\n",
       " 'bear',\n",
       " 'elect',\n",
       " 'earn',\n",
       " 'move',\n",
       " 'take',\n",
       " 'work',\n",
       " 'hire',\n",
       " 'document',\n",
       " 'speak',\n",
       " 'begin',\n",
       " 'write',\n",
       " 'work',\n",
       " 'publish',\n",
       " 'plan',\n",
       " 'take',\n",
       " 'visit',\n",
       " 'delay',\n",
       " 'come',\n",
       " 'have',\n",
       " 'allow',\n",
       " 'explore',\n",
       " 'reach',\n",
       " 'begin',\n",
       " 'write',\n",
       " 'support',\n",
       " 'seek',\n",
       " 'support',\n",
       " 'see',\n",
       " 'enjoy',\n",
       " 'work',\n",
       " 'contact',\n",
       " 'label',\n",
       " 'portray',\n",
       " 'attack',\n",
       " 'include',\n",
       " 'correspond',\n",
       " 'start',\n",
       " 'circulate',\n",
       " 'correspond',\n",
       " 'form',\n",
       " 'include',\n",
       " 'remain',\n",
       " 'marry',\n",
       " 'take',\n",
       " 'accord',\n",
       " 'last',\n",
       " 'describe',\n",
       " 'claim',\n",
       " 'relate',\n",
       " 'oppress',\n",
       " 'cheat',\n",
       " 'develop',\n",
       " 'date',\n",
       " 'serve',\n",
       " 'develop',\n",
       " 'centre',\n",
       " 'pool',\n",
       " 'provide',\n",
       " 'afford',\n",
       " 'base',\n",
       " 'create',\n",
       " 'connect',\n",
       " 'begin',\n",
       " 'include',\n",
       " 'place',\n",
       " 'seek',\n",
       " 'attend',\n",
       " 'state',\n",
       " 'fit',\n",
       " 'avoid',\n",
       " 'rename',\n",
       " 'borrow',\n",
       " 'mention',\n",
       " 'record',\n",
       " 'play',\n",
       " 'swinge',\n",
       " 'bill',\n",
       " 'ensure',\n",
       " 'play',\n",
       " 'leave',\n",
       " 'visit',\n",
       " 'work',\n",
       " 'spend',\n",
       " 'live',\n",
       " 'know',\n",
       " 'develop',\n",
       " 'serve',\n",
       " 'examine',\n",
       " 'identify',\n",
       " 'receive',\n",
       " 'add',\n",
       " 'know',\n",
       " 'hold',\n",
       " 'consider',\n",
       " 'use',\n",
       " 'symbolise',\n",
       " 'allow',\n",
       " 'trademark',\n",
       " 'protect',\n",
       " 'indicate',\n",
       " 'produce',\n",
       " 'claim',\n",
       " 'pay',\n",
       " 'form',\n",
       " 'travel',\n",
       " 'face',\n",
       " 'unite',\n",
       " 'lose',\n",
       " 'win',\n",
       " 'fail',\n",
       " 'win',\n",
       " 'mean',\n",
       " 'lead',\n",
       " 'leave',\n",
       " 'receive',\n",
       " 'equip',\n",
       " 'use',\n",
       " 'sing',\n",
       " 'feature',\n",
       " 'feature',\n",
       " 'feature',\n",
       " 'operate',\n",
       " 'find',\n",
       " 'run',\n",
       " 'rail',\n",
       " 'regard',\n",
       " 'know',\n",
       " 'puff',\n",
       " 'build',\n",
       " 'preserve',\n",
       " 'build',\n",
       " 'build',\n",
       " 'enter',\n",
       " 'win',\n",
       " 'lead',\n",
       " 'emerge',\n",
       " 'build',\n",
       " 'open',\n",
       " 'make',\n",
       " 'start',\n",
       " 'end',\n",
       " 'depart',\n",
       " 'link',\n",
       " 'include',\n",
       " 'record',\n",
       " 'record',\n",
       " 'peak',\n",
       " 'record',\n",
       " 'include',\n",
       " 'cover',\n",
       " 'experience',\n",
       " 'introduce',\n",
       " 'see',\n",
       " 'correspond',\n",
       " 'grow',\n",
       " 'connect',\n",
       " 'provide',\n",
       " 'include',\n",
       " 'provide',\n",
       " 'provide',\n",
       " 'include',\n",
       " 'connect',\n",
       " 'include',\n",
       " 'begin',\n",
       " 'connect',\n",
       " 'serve',\n",
       " 'manage',\n",
       " 'run',\n",
       " 'provide',\n",
       " 'manage',\n",
       " 'provide',\n",
       " 'include',\n",
       " 'provide',\n",
       " 'locate',\n",
       " 'vote',\n",
       " 'have',\n",
       " 'include',\n",
       " 'run',\n",
       " 'locate',\n",
       " 'fame',\n",
       " 'include',\n",
       " 'contain',\n",
       " 'appear',\n",
       " 'embark',\n",
       " 'title',\n",
       " 'promote',\n",
       " 'form',\n",
       " 'include',\n",
       " 'take',\n",
       " 'play',\n",
       " 'include',\n",
       " 'complete',\n",
       " 'tour',\n",
       " 'take',\n",
       " 'visit',\n",
       " 'finish',\n",
       " 'state',\n",
       " 'plan',\n",
       " 'release',\n",
       " 'follow',\n",
       " 'state',\n",
       " 'embark',\n",
       " 'gather',\n",
       " 'embark',\n",
       " 'hold',\n",
       " 'hold',\n",
       " 'feature',\n",
       " 'divide',\n",
       " 'finish',\n",
       " 'announce',\n",
       " 'title',\n",
       " 'release',\n",
       " 'release',\n",
       " 'say',\n",
       " 'mark',\n",
       " 'come',\n",
       " 'declare',\n",
       " 'reveal',\n",
       " 'defy',\n",
       " 'write',\n",
       " 'shoot',\n",
       " 'sound',\n",
       " 'coo',\n",
       " 'croon',\n",
       " 'perform',\n",
       " 'defy',\n",
       " 'support',\n",
       " 'embark',\n",
       " 'span',\n",
       " 'book',\n",
       " 'describe',\n",
       " 'feel',\n",
       " 'experience',\n",
       " 'book',\n",
       " 'perform',\n",
       " 'play',\n",
       " 'feature',\n",
       " 'book',\n",
       " 'garner',\n",
       " 'praise',\n",
       " 'leave',\n",
       " 'depict',\n",
       " 'refuse',\n",
       " 'suffer',\n",
       " 'send',\n",
       " 'take',\n",
       " 'work',\n",
       " 'invalid',\n",
       " 'commission',\n",
       " 'paint',\n",
       " 'produce',\n",
       " 'give',\n",
       " 'depict',\n",
       " 'ask',\n",
       " 'submit',\n",
       " 'show',\n",
       " 'debrief',\n",
       " 'entitle',\n",
       " 'reminisce',\n",
       " 'spot',\n",
       " 'travel',\n",
       " 'ride',\n",
       " 'include',\n",
       " 'fly',\n",
       " 'buy',\n",
       " 'see',\n",
       " 'lug',\n",
       " 'support',\n",
       " 'earn',\n",
       " 'value',\n",
       " 'float',\n",
       " 'take',\n",
       " 'value',\n",
       " 'borrow',\n",
       " 'list',\n",
       " 'retain',\n",
       " 'float',\n",
       " 'raise',\n",
       " 'develop',\n",
       " 'sport',\n",
       " 'bring',\n",
       " 'characterise',\n",
       " 'bolster',\n",
       " 'develop',\n",
       " 'generate',\n",
       " 'generate',\n",
       " 'drive',\n",
       " 'enjoy',\n",
       " 'join',\n",
       " 'follow',\n",
       " 'move',\n",
       " 'find',\n",
       " 'receive',\n",
       " 'assert',\n",
       " 'appear',\n",
       " 'return',\n",
       " 'play',\n",
       " 'say',\n",
       " 'prefer',\n",
       " 'go',\n",
       " 'take',\n",
       " 'follow',\n",
       " 'engage',\n",
       " 'tour',\n",
       " 'reach',\n",
       " 'settle',\n",
       " 'appear',\n",
       " 'lead',\n",
       " 'outshine',\n",
       " 'sing',\n",
       " 'perform',\n",
       " 'meyerbeer',\n",
       " 'transpose',\n",
       " 'contralto',\n",
       " 'compose',\n",
       " 'sing',\n",
       " 'share',\n",
       " 'tour',\n",
       " 'appear',\n",
       " 'demolish',\n",
       " 'develop',\n",
       " 'modernise',\n",
       " 'convert',\n",
       " 'undergo',\n",
       " 'develop',\n",
       " 'complete',\n",
       " 'surpass',\n",
       " 'license',\n",
       " 'build',\n",
       " 'abandon',\n",
       " 'carry',\n",
       " 'kill',\n",
       " 'include',\n",
       " 'injure',\n",
       " 'cause',\n",
       " 'change',\n",
       " 'lie',\n",
       " 'shape',\n",
       " 'border',\n",
       " 'run',\n",
       " 'make',\n",
       " 'irk',\n",
       " 'lie',\n",
       " 'flow',\n",
       " 'offer',\n",
       " 'cap',\n",
       " 'grow',\n",
       " 'make',\n",
       " 'grow',\n",
       " 'experience',\n",
       " 'project',\n",
       " 'reach',\n",
       " 'represent',\n",
       " 'fall',\n",
       " 'rise',\n",
       " 'increase',\n",
       " 'approximate',\n",
       " 'include',\n",
       " 'find',\n",
       " 'accord',\n",
       " 'deprive',\n",
       " 'average',\n",
       " 'take',\n",
       " 'rank',\n",
       " 'accord',\n",
       " 'accord',\n",
       " 'average',\n",
       " 'combine',\n",
       " 'attribute',\n",
       " 'northshore',\n",
       " 'entail',\n",
       " 'overheat',\n",
       " 'hold',\n",
       " 'dedicate',\n",
       " 'design',\n",
       " 'echo',\n",
       " 'commemorate',\n",
       " 'have',\n",
       " 'stand',\n",
       " 'present',\n",
       " 'mark',\n",
       " 'play',\n",
       " 'serve',\n",
       " 'work',\n",
       " 'include',\n",
       " ...]"
      ]
     },
     "execution_count": 7,
     "metadata": {},
     "output_type": "execute_result"
    }
   ],
   "source": [
    "fpath = \"../../../../data/enwiki_city_pairs_lemmatised/VERB_SPACY_LARGE/biggest_cities_20/VERB__london_manchester__.pickle\"\n",
    "with open(fpath, 'rb') as fp:\n",
    "    d = pickle.load(fp)\n",
    "d"
   ]
  },
  {
   "cell_type": "code",
   "execution_count": null,
   "id": "be500880",
   "metadata": {},
   "outputs": [],
   "source": [
    "FILE_PATH = \"../../../../data/enwiki_city_pairs/biggest_cities_20/london_manchester.txt\"\n",
    "POS = [\"VERB\"]\n",
    "\n",
    "with open(FILE_PATH, 'r', encoding='utf-16') as f:\n",
    "    city_pair_text_list = [x.strip().lower() for x in f.read().replace('\"', \"'\").replace('“', \"'\").replace('”', \"'\").split('\\n') if len(x) and 'title=' not in x]\n",
    "print(len(city_pair_text_list))\n",
    "\n",
    "nr_of_chunks = len(city_pair_text_list)//1000 + 1\n",
    "chunk_size = (len(city_pair_text_list)-1)//nr_of_chunks\n",
    "chunked_text = [' '.join(city_pair_text_list[offs:offs+chunk_size]) for offs in range(0, len(city_pair_text_list), chunk_size)]\n",
    "\n",
    "processed_text = [text for text in tqdm(nlp.pipe(chunked_text, n_process=2, batch_size=1, disable=[\"ner\", \"parser\"]), total=len(chunked_text))]\n",
    "lemmatized_text = [[word.lemma_ for word in text if word.pos_ in [\"VERB\"] and not word.is_punct and not word.is_stop] for text in processed_text]\n",
    "# [word.lemma_ for word in text if word.pos_ in [\"VERB\"] and not word.is_punct and not word.is_stop]\n",
    "# [word.lemma_ for word in processed_text if word.pos_ in [\"VERB\"] and not word.is_punct and not word.is_stop]\n",
    "regexed_text = [[re.sub(r'\\W+', '', word) for word in text] for text in lemmatized_text]\n",
    "flattened_words = [item for sublist in regexed_text for item in sublist]"
   ]
  },
  {
   "cell_type": "code",
   "execution_count": null,
   "id": "bcbde176",
   "metadata": {},
   "outputs": [],
   "source": [
    "# with open(FILE_PATH, 'r', encoding='utf-16') as f:\n",
    "#     city_pair_text_list = [x.strip().lower() for x in f.read().replace('\"', \"'\").replace('“', \"'\").replace('”', \"'\").split('\\n') if len(x) and 'title=' not in x]"
   ]
  },
  {
   "cell_type": "code",
   "execution_count": null,
   "id": "a477498b",
   "metadata": {},
   "outputs": [],
   "source": [
    "fulltext = ' '.join(city_pair_text_list[:int(len(city_pair_text_list)/6)])"
   ]
  },
  {
   "cell_type": "code",
   "execution_count": null,
   "id": "4eee2cfc",
   "metadata": {},
   "outputs": [],
   "source": [
    "l5 = [item for sublist in lemmatized_text for item in sublist]\n",
    "l5.count('liverpool')"
   ]
  },
  {
   "cell_type": "code",
   "execution_count": null,
   "id": "8be2d39e",
   "metadata": {},
   "outputs": [],
   "source": [
    "with open(\"../../../../data/test/VERB__london_manchester__3.pickle\", 'rb') as fp:\n",
    "    d = pickle.load(fp)\n",
    "d.count('liverpool')"
   ]
  },
  {
   "cell_type": "markdown",
   "id": "7ad43851",
   "metadata": {},
   "source": [
    "<hr>\n",
    "<hr>\n",
    "<hr>\n",
    "<hr>\n",
    "<hr>\n",
    "<hr>\n",
    "<hr>\n",
    "<hr>\n",
    "<!-- <br>\n",
    "<br>\n",
    "<br>\n",
    "<br>\n",
    "<br>\n",
    "<br> -->\n",
    "<div style=\"height: 500px;\"></div>"
   ]
  },
  {
   "cell_type": "code",
   "execution_count": null,
   "id": "03a66bac",
   "metadata": {},
   "outputs": [],
   "source": [
    "s = \"manchester united liverpool\"\n",
    "\n",
    "processed_text2 = nlp(' '.join(d))\n",
    "\n",
    "#lemmatized_text2 = [token.lemma_ for token in processed_text if token.pos_ in [\"VERB\"]] and not token.is_punct and not token.is_stop]\n",
    "# lemmatized_text2 = [[word.lemma_ for word in text if word.pos_ in [\"VERB\"] and not word.is_punct and not word.is_stop] for text in processed_text]\n",
    "#print(lemmatized_text)\n"
   ]
  },
  {
   "cell_type": "code",
   "execution_count": null,
   "id": "e9dce3dc",
   "metadata": {},
   "outputs": [],
   "source": [
    "processed_text2"
   ]
  },
  {
   "cell_type": "code",
   "execution_count": null,
   "id": "fb8c19ec",
   "metadata": {},
   "outputs": [],
   "source": [
    "processed_text"
   ]
  },
  {
   "cell_type": "code",
   "execution_count": null,
   "id": "d16d0b2e",
   "metadata": {},
   "outputs": [],
   "source": [
    "lemmatized_text2 = [token.lemma_ for token in processed_text2 if token.pos_ in [\"VERB\"] and not token.is_punct and not token.is_stop]\n",
    "lemmatized_text2.count('manchester')"
   ]
  },
  {
   "cell_type": "code",
   "execution_count": null,
   "id": "50719250",
   "metadata": {},
   "outputs": [],
   "source": [
    "processed_text = nlp(fulltext)"
   ]
  },
  {
   "cell_type": "code",
   "execution_count": null,
   "id": "f3f24101",
   "metadata": {},
   "outputs": [],
   "source": [
    "#lowertext = [x.lower() for x in processed_text]\n",
    "lemmatized_text3 = [word.lemma_ for word in processed_text if word.pos_ in [\"VERB\"] and not word.is_punct and not word.is_stop]\n",
    "regexed_text3 = [re.sub(r'\\W+', '', word) for word in lemmatized_text3]\n",
    "regexed_text3.count('manchester')"
   ]
  },
  {
   "cell_type": "code",
   "execution_count": null,
   "id": "5acf9c55",
   "metadata": {},
   "outputs": [],
   "source": [
    "processed_text3 = nlp(' '.join(lemmatized_text3))"
   ]
  },
  {
   "cell_type": "code",
   "execution_count": null,
   "id": "14e1d071",
   "metadata": {},
   "outputs": [],
   "source": [
    "lemmatized_text4 = [word.lemma_ for word in processed_text3 if word.pos_ in [\"VERB\"] and not word.is_punct and not word.is_stop]\n",
    "lemmatized_text4.count('manchester')"
   ]
  },
  {
   "cell_type": "code",
   "execution_count": null,
   "id": "c98424f8",
   "metadata": {},
   "outputs": [],
   "source": [
    "lemmatized_text3.count('manchester')"
   ]
  },
  {
   "cell_type": "code",
   "execution_count": null,
   "id": "1c9c9e97",
   "metadata": {},
   "outputs": [],
   "source": [
    "txt = \"spectacle that included a few scenes from their self-written mini-operetta \"the girl with the golden hair\". the concert attracted immense media attention from across europe and australia. they continued the tour through western europe, visiting gothenburg, copenhagen, berlin, cologne, amsterdam, antwerp, essen, hanover, and hamburg and ending with shows in the united kingdom in manchester, birmingham, glasgow and two sold-out concerts at london's royal albert hall. tickets for these two shows were available only by mail application and it was later revealed that the box-office received 3.5 million requests for tickets, enough to fill the venue 580 times. along with praise ('abba turn out to be amazingly successful at reproducing their records', wrot\"\n",
    "processed_txt = nlp(txt)\n",
    "lemmatized_text4 = [word.lemma_ for word in processed_txt if word.pos_ in [\"VERB\"] and not word.is_punct and not word.is_stop]\n",
    "lemmatized_text4.count('manchester')"
   ]
  },
  {
   "cell_type": "code",
   "execution_count": null,
   "id": "91a68be6",
   "metadata": {},
   "outputs": [],
   "source": [
    "d.count('liverpool')"
   ]
  },
  {
   "cell_type": "code",
   "execution_count": null,
   "id": "e7ced481",
   "metadata": {},
   "outputs": [],
   "source": [
    "lemmatized_text.count('liverpool')"
   ]
  },
  {
   "cell_type": "code",
   "execution_count": null,
   "id": "b3675daf",
   "metadata": {},
   "outputs": [],
   "source": [
    "#l6 = [item for sublist in lemmatized_text2 for item in sublist]\n",
    "#lemmatized_text2.count('manchester')\n",
    "lemmatized_text3.count('manchester')"
   ]
  },
  {
   "cell_type": "markdown",
   "id": "6986f65f",
   "metadata": {},
   "source": [
    "# Open Lemmatized words"
   ]
  },
  {
   "cell_type": "code",
   "execution_count": null,
   "id": "38556a12",
   "metadata": {},
   "outputs": [],
   "source": [
    "WORDLIST_LOCATION = '../../../../data/enwiki_city_pairs_nouns/'\n",
    "words = []\n",
    "city_pairs = []\n",
    "\n",
    "for root, dirs, files in os.walk(WORDLIST_LOCATION, topdown=True):\n",
    "    for name in files:\n",
    "        file_path = os.path.join(root, name)\n",
    "        \n",
    "        with open(file_path, 'rb') as fp:\n",
    "            words.append(pickle.load(fp))\n",
    "            city_pairs.append(name.split('__')[1])"
   ]
  },
  {
   "cell_type": "code",
   "execution_count": null,
   "id": "a3556382",
   "metadata": {},
   "outputs": [],
   "source": [
    "for idx, word in enumerate(words):\n",
    "    print(\"{:<3}\".format(idx+1), \"{:<7}\".format(len(word)),  city_pairs[idx])"
   ]
  },
  {
   "cell_type": "code",
   "execution_count": null,
   "id": "70645af5",
   "metadata": {},
   "outputs": [],
   "source": [
    "from collections import Counter\n",
    "\n",
    "Counter(words[10]).most_common(10)"
   ]
  },
  {
   "cell_type": "code",
   "execution_count": null,
   "id": "1d8ec2f9",
   "metadata": {},
   "outputs": [],
   "source": [
    "# for file in os.scandir('../../../../data/enwiki_city_pairs_nouns/biggest_cities_10/'):\n",
    "#     # print(file.path)\n",
    "#     filename = file.path\n",
    "#     #file = ''.join(filename.split('____________________________________________________________'))\n",
    "#     print(filename)\n",
    "#     #file = filename.replace('.pickle', '__.pickle')\n",
    "#     file = filename.replace('NOUNS___', 'NOUNS__')\n",
    "#     os.rename(filename, file)\n",
    "# # #os.rename()"
   ]
  }
 ],
 "metadata": {
  "kernelspec": {
   "display_name": "Python 3 (ipykernel)",
   "language": "python",
   "name": "python3"
  },
  "language_info": {
   "codemirror_mode": {
    "name": "ipython",
    "version": 3
   },
   "file_extension": ".py",
   "mimetype": "text/x-python",
   "name": "python",
   "nbconvert_exporter": "python",
   "pygments_lexer": "ipython3",
   "version": "3.8.0"
  }
 },
 "nbformat": 4,
 "nbformat_minor": 5
}
