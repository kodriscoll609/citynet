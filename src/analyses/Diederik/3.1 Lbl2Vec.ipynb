{
 "cells": [
  {
   "cell_type": "code",
   "execution_count": 2,
   "id": "4e2d3644",
   "metadata": {},
   "outputs": [],
   "source": [
    "# !pip install lbl2vec\n",
    "from lbl2vec import Lbl2Vec"
   ]
  },
  {
   "cell_type": "code",
   "execution_count": null,
   "id": "57044dd8",
   "metadata": {},
   "outputs": [],
   "source": [
    "# !python -m pip install --upgrade pip"
   ]
  },
  {
   "cell_type": "code",
   "execution_count": null,
   "id": "a0b5bfe1",
   "metadata": {},
   "outputs": [],
   "source": [
    "# !pip install wheel\n",
    "# !python -m pip install -U pip setuptools"
   ]
  },
  {
   "cell_type": "code",
   "execution_count": 1,
   "id": "76c3cc7d",
   "metadata": {},
   "outputs": [],
   "source": [
    "# !pip install pip==22.1.2\n",
    "# !pip list"
   ]
  },
  {
   "cell_type": "code",
   "execution_count": 5,
   "id": "c4727b45",
   "metadata": {},
   "outputs": [],
   "source": [
    "# !pip install fasttext"
   ]
  },
  {
   "cell_type": "code",
   "execution_count": 6,
   "id": "54d0d525",
   "metadata": {},
   "outputs": [],
   "source": [
    "# import fasttext.util\n",
    "# fasttext.util.download_model('en', if_exists='ignore')  # English\n",
    "# ft = fasttext.load_model('cc.en.300.bin')"
   ]
  },
  {
   "cell_type": "code",
   "execution_count": null,
   "id": "2f876959",
   "metadata": {},
   "outputs": [],
   "source": [
    "# import gensim.models as g\n",
    "\n",
    "# # model=\"../../../../enwiki_dbow/doc2vec.bin\"  #point to downloaded pre-trained doc2vec model\n",
    "# model='../../../../cc.en.300.bin'\n",
    "# #load model\n",
    "# m = g.Doc2Vec.load(model)"
   ]
  },
  {
   "cell_type": "markdown",
   "id": "be8a6263",
   "metadata": {},
   "source": [
    "# Keywords"
   ]
  },
  {
   "cell_type": "code",
   "execution_count": 44,
   "id": "db41cdb1",
   "metadata": {},
   "outputs": [],
   "source": [
    "conflict = ['war', 'fight', 'death', 'hostility', 'bomb', 'battle', 'nazi', 'army']\n",
    "politics = ['politics', 'debate', 'election', 'government', 'democracy']\n",
    "fashion = ['fashion', 'model', 'magazine', 'walk', 'glamour', 'outfit']\n",
    "culture = ['culture', 'opera', \"festival\", 'collection', 'exhibition', 'art', 'museum']\n",
    "sports = ['sport', 'medal', 'game', 'championship', 'club', 'score', 'play']\n",
    "education = ['education', 'professor', 'study', 'research', 'university']\n",
    "# football = []\n",
    "# other\n",
    "\n",
    "descriptive_keywords = [conflict, politics, fashion, culture, sports, education]\n",
    "# How to avoid words with high tf?"
   ]
  },
  {
   "cell_type": "code",
   "execution_count": 38,
   "id": "dc7ac8b0",
   "metadata": {},
   "outputs": [
    {
     "data": {
      "text/plain": [
       "[['war', 'fight', 'death', 'hostility', 'bomb', 'battle', 'nazi', 'army'],\n",
       " ['politics', 'debate', 'election', 'government', 'democracy'],\n",
       " ['fashion', 'model', 'magazine', 'walk', 'glamour', 'outfit'],\n",
       " ['opera', 'festival', 'collection', 'exhibition', 'art', 'museum'],\n",
       " ['sport', 'medal', 'game', 'championship', 'club', 'score', 'play'],\n",
       " ['education', 'professor', 'study', 'research', 'university']]"
      ]
     },
     "execution_count": 38,
     "metadata": {},
     "output_type": "execute_result"
    }
   ],
   "source": [
    "descriptive_keywords"
   ]
  },
  {
   "cell_type": "code",
   "execution_count": 9,
   "id": "5d5c0047",
   "metadata": {},
   "outputs": [],
   "source": [
    "import os\n",
    "import pickle\n",
    "\n",
    "from collections import Counter"
   ]
  },
  {
   "cell_type": "code",
   "execution_count": 12,
   "id": "f2977e72",
   "metadata": {},
   "outputs": [],
   "source": [
    "WORDLIST_LOCATION = '../../../../data/enwiki_city_pairs_lemmatised/NOUN_SPACY_LARGE_REAL_WORDS'\n",
    "wordlists = []\n",
    "city_pairs = []\n",
    "\n",
    "for root, dirs, files in os.walk(WORDLIST_LOCATION, topdown=True):\n",
    "    for name in files:\n",
    "        file_path = os.path.join(root, name)\n",
    "        \n",
    "        with open(file_path, 'rb') as fp:\n",
    "            wordlists.append(pickle.load(fp))\n",
    "            city_pairs.append(name.split('__')[1])"
   ]
  },
  {
   "cell_type": "code",
   "execution_count": 17,
   "id": "8e11c537",
   "metadata": {},
   "outputs": [
    {
     "name": "stdout",
     "output_type": "stream",
     "text": [
      "427850 paris_london\n",
      "215618 london_manchester\n",
      "156600 london_birmingham\n",
      "152094 london_berlin\n",
      "151175 paris_berlin\n",
      "129050 paris_rome\n",
      "119845 london_glasgow\n",
      "105319 berlin_vienna\n",
      "101090 paris_vienna\n",
      "97205 madrid_barcelona\n",
      "94912 berlin_munich\n",
      "90804 london_rome\n",
      "81853 london_vienna\n",
      "81411 berlin_hamburg\n",
      "80532 paris_brussels\n",
      "75608 birmingham_manchester\n",
      "71275 milan_rome\n",
      "68454 rome_naples\n",
      "64397 paris_lyon\n",
      "63562 berlin_frankfurt\n"
     ]
    }
   ],
   "source": [
    "# Sort by number of words\n",
    "\n",
    "data = list(zip(wordlists, city_pairs))\n",
    "sorted_data = sorted(data, key=lambda x: len(x[0]), reverse=True)\n",
    "\n",
    "for x in sorted_data[:20]:\n",
    "    print(len(x[0]), x[1])\n"
   ]
  },
  {
   "cell_type": "code",
   "execution_count": 76,
   "id": "7dc2fe63",
   "metadata": {},
   "outputs": [],
   "source": [
    "len(sorted_data[0][0]), sorted_data[0][1]\n",
    "c = Counter(sorted_data[0][0])\n",
    "most_common = c.most_common()"
   ]
  },
  {
   "cell_type": "code",
   "execution_count": null,
   "id": "090b97b7",
   "metadata": {},
   "outputs": [],
   "source": []
  },
  {
   "cell_type": "code",
   "execution_count": 7,
   "id": "825746cf",
   "metadata": {},
   "outputs": [],
   "source": [
    "import numpy as np\n",
    "import matplotlib.pyplot as plt\n",
    "from scipy import spatial\n",
    "from sklearn.manifold import TSNE\n",
    "from tqdm.notebook import tqdm"
   ]
  },
  {
   "cell_type": "code",
   "execution_count": 31,
   "id": "e3739b71",
   "metadata": {},
   "outputs": [],
   "source": [
    "GLOVE_LOCATION = '../../../../glove.42B.300d.txt'"
   ]
  },
  {
   "cell_type": "code",
   "execution_count": 32,
   "id": "2bd79ca0",
   "metadata": {},
   "outputs": [],
   "source": [
    "embeddings_dict = {}"
   ]
  },
  {
   "cell_type": "code",
   "execution_count": 33,
   "id": "658a7c0d",
   "metadata": {},
   "outputs": [
    {
     "data": {
      "application/vnd.jupyter.widget-view+json": {
       "model_id": "09d22f39002c4be2b589ef3aaf8ad244",
       "version_major": 2,
       "version_minor": 0
      },
      "text/plain": [
       "  0%|          | 0/1917495 [00:00<?, ?it/s]"
      ]
     },
     "metadata": {},
     "output_type": "display_data"
    }
   ],
   "source": [
    "num_lines = sum(1 for line in open(GLOVE_LOCATION,'r', encoding=\"utf-8\"))\n",
    "\n",
    "with open(GLOVE_LOCATION, 'r', encoding=\"utf-8\") as f:\n",
    "     for line in tqdm(f, total=num_lines):\n",
    "        values = line.split()\n",
    "        token = values[0]\n",
    "        vector = np.asarray(values[1:], \"float32\")\n",
    "        embeddings_dict[token] = vector"
   ]
  },
  {
   "cell_type": "code",
   "execution_count": null,
   "id": "d26083c6",
   "metadata": {},
   "outputs": [],
   "source": [
    "descriptive_keywords"
   ]
  },
  {
   "cell_type": "code",
   "execution_count": null,
   "id": "4db0e597",
   "metadata": {},
   "outputs": [],
   "source": [
    "# Calculate distance between two words"
   ]
  },
  {
   "cell_type": "code",
   "execution_count": 34,
   "id": "cf8abb08",
   "metadata": {},
   "outputs": [
    {
     "name": "stdout",
     "output_type": "stream",
     "text": [
      "0.3141452968120575\n"
     ]
    }
   ],
   "source": [
    "from scipy.spatial.distance import cosine\n",
    "\n",
    "word_1 = embeddings_dict['fashion']\n",
    "word_2 = embeddings_dict['war']\n",
    "print(1 - cosine(word_1, word_2))"
   ]
  },
  {
   "cell_type": "code",
   "execution_count": 145,
   "id": "82d212c1",
   "metadata": {
    "collapsed": true
   },
   "outputs": [
    {
     "name": "stdout",
     "output_type": "stream",
     "text": [
      "['art', 'year', 'work', 'time', 'city', 'exhibition', 'world', 'opera', 'school', 'music', 'company', 'artist', 'gallery', 'film', 'member', 'museum', 'festival', 'war', 'society', 'painting', 'family', 'collection', 'tour', 'service', 'life', 'book', 'study', 'performance', 'concert', 'group', 'fashion', 'career', 'role', 'day', 'office', 'father', 'theatre', 'house', 'woman', 'government', 'country', 'century', 'son', 'place', 'production', 'studio', 'orchestra', 'director', 'college', 'number', 'man', 'album', 'history', 'event', 'design', 'child', 'week', 'month', 'death', 'ballet', 'age', 'end', 'friend', 'university', 'club', 'portrait', 'business', 'series', 'song', 'period', 'professor', 'stage', 'wife', 'painter', 'magazine', 'band', 'state', 'people', 'academy', 'summer', 'symphony', 'daughter', 'student', 'success', 'award', 'title', 'home', 'amp', 'mother', 'king', 'project', 'brother', 'street', 'model', 'line', 'flight', 'debut', 'record', 'law', 'degree', 'air', 'version', 'route', 'show', 'research', 'way', 'centre', 'conference', 'season', 'medal', 'order', 'style', 'language', 'secretary', 'center', 'class', 'master', 'piece', 'trip', 'science', 'position', 'letter', 'play', 'education', 'president', 'capital', 'building', 'piano', 'radio', 'night', 'edition', 'writer', 'prize', 'hotel', 'court', 'story', 'game', 'interest', 'team', 'composer', 'appearance', 'area', 'head', 'venue', 'designer', 'scene', 'train', 'garden', 'newspaper', 'bank', 'system', 'affair', 'location', 'ambassador', 'return', 'publication', 'department', 'power', 'sister', 'army', 'station', 'market', 'firm', 'editor', 'church', 'dance', 'minister', 'party', 'sculpture', 'town', 'hospital', 'singer', 'addition', 'guest', 'press', 'example', 'competition', 'meeting', 'peace', 'hall', 'network', 'store', 'husband', 'force', 'figure', 'recording', 'video', 'novel', 'gold', 'treaty', 'course', 'salon', 'plan', 'airline', 'teacher', 'movement', 'passenger', 'institution', 'development', 'railway', 'operation', 'money', 'parent', 'airport', 'premiere', 'idea', 'point', 'visit', 'paper', 'aircraft', 'critic', 'queen', 'subject', 'management', 'act', 'article', 'love', 'economic', 'officer', 'review', 'support', 'embassy', 'girl', 'culture', 'program', 'revolution', 'hour', 'post', 'training', 'right', 'news', 'use', 'travel', 'hand', 'theater', 'institute', 'fellow', 'branch', 'park', 'result', 'exposition', 'activity', 'space', 'palace', 'musician', 'empire', 'author', 'influence', 'medicine', 'exile', 'date', 'partner', 'trade', 'writing', 'translation', 'marriage', 'picture', 'commission', 'industry', 'field', 'room', 'architecture', 'term', 'couple', 'audience', 'spring', 'nation', 'co', 'television', 'mission', 'jean', 'correspondent', 'architect', 'composition', 'release', 'medium', 'track', 'road', 'decade', 'drawing', 'journal', 'form', 'character', 'actor', 'leader', 'attack', 'board', 'literature', 'star', 'copy', 'scholarship', 'relationship', 'island', 'sale', 'conductor', 'issue', 'journalist', 'experience', 'committee', 'oil', 'organization', 'founder', 'photography', 'view', 'practice', 'library', 'manuscript', 'winter', 'west', 'landscape', 'agency', 'agent', 'community', 'physician', 'today', 'match', 'prince', 'case', 'region', 'channel', 'journey', 'lecture', 'volume', 'association', 'foundation', 'set', 'section', 'opening', 'tournament', 'job', 'campaign', 'report', 'jazz', 'shop', 'ship', 'photographer', 'relation', 'player', 'minute', 'part', 'material', 'dancer', 'police', 'authority', 'brand', 'account', 'image', 'voice', 'label', 'league', 'exchange', 'tower', 'car', 'information', 'policy', 'body', 'print', 'poet', 'race', 'solo', 'estate', 'programme', 'covent', 'staff', 'effort', 'attempt', 'water', 'saint', 'land', 'sculptor', 'collaboration', 'assistant', 'destination', 'control', 'council', 'representative', 'reputation', 'contact', 'fund', 'photograph', 'residence', 'producer', 'contract', 'chamber', 'rest', 'attention', 'restaurant', 'agreement', 'manager', 'boy', 'speed', 'publisher', 'type', 'engineer', 'north', 'connection', 'fall', 'battle', 'theme', 'olympic', 'text', 'beginning', 'merchant', 'technique', 'poem', 'fact', 'health', 'protest', 'pupil', 'philosophy', 'feature', 'pianist', 'action', 'rock', 'actress', 'cologne', 'championship', 'union', 'doctor', 'drama', 'poetry', 'page', 'property', 'source', 'score', 'circle', 'violin', 'recital', 'cover', 'half', 'opportunity', 'era', 'site', 'level', 'chair', 'river', 'public', 'glass', 'charge', 'division', 'construction', 'effect', 'scholar', 'evening', 'headquarters', 'teaching', 'process', 'outbreak', 'thing', 'bronze', 'delegation', 'independence', 'sea', 'factory', 'word', 'concerto', 'instrument', 'variety', 'self', 'district', 'light', 'soloist', 'establishment', 'change', 'organisation', 'owner', 'range', 'lady', 'session', 'interview', 'negotiation', 'coast', 'historian', 'surgeon', 'investment', 'demand', 'youth', 'list', 'parliament', 'essay', 'person', 'chief', 'occasion', 'village', 'pop', 'rail', 'photo', 'resistance', 'comedy', 'direction', 'singing', 'worker', 'movie', 'ground', 'intelligence', 'population', 'stay', 'trial', 'recognition', 'diplomat', 'cast', 'eye', 'price', 'problem', 'technology', 'machine', 'transport', 'documentary', 'bridge', 'finance', 'troop', 'fellowship', 'collector', 'conservatory', 'fire', 'run', 'note', 'autumn', 'tv', 'dealer', 'march', 'lecturer', 'display', 'product', 'ensemble', 'alliance', 'continent', 'introduction', 'creation', 'installation', 'generation', 'chairman', 'mile', 'faculty', 'soldier', 'bar', 'talent', 'doctorate', 'vice', 'vogue', 'engine', 'presence', 'engineering', 'birth', 'quality', 'colour', 'traffic', 'scale', 'childhood', 'honour', 'condition', 'port', 'partnership', 'communication', 'morning', 'archive', 'coach', 'delegate', 'costume', 'arrival', 'illustration', 'reason', 'south', 'exhibit', 'security', 'chess', 'wall', 'arena', 'friendship', 'east', 'camp', 'revival', 'performer', 'horse', 'ally', 'decision', 'cinema', 'cathedral', 'visitor', 'invasion', 'final', 'workshop', 'leg', 'tunnel', 'crisis', 'general', 'paris', 'heart', 'engagement', 'comique', 'wood', 'victory', 'help', 'method', 'associate', 'border', 'anniversary', 'prison', 'publishing', 'structure', 'arm', 'message', 'champion', 'retrospective', 'start', 'territory', 'fleet', 'administration', 'wing', 'convention', 'memoir', 'cost', 'occupation', 'basis', 'invitation', 'foot', 'talk', 'politic', 'color', 'theory', 'matter', 'animal', 'dress', 'seat', 'offer', 'banking', 'bachelor', 'rule', 'colony', 'purpose', 'honor', 'iron', 'appointment', 'advertising', 'single', 'thesis', 'republic', 'round', 'silver', 'auction', 'fair', 'size', 'entry', 'citizen', 'ticket', 'patron', 'winner', 'luxury', 'face', 'sketch', 'walker', 'royal', 'lover', 'stone', 'contribution', 'hope', 'distance', 'resident', 'facility', 'tradition', 'hague', 'repertoire', 'food', 'sport', 'nature', 'base', 'popularity', 'skill', 'standard', 'detail', 'response', 'situation', 'cabinet', 'client', 'artwork', 'organ', 'rank', 'concept', 'operator', 'proposal', 'legation', 'cause', 'commander', 'grant', 'election', 'unit', 'platform', 'plot', 'failure', 'knowledge', 'correspondence', 'beauty', 'employee', 'plant', 'diploma', 'official', 'captain', 'craft', 'quarter', 'departure', 'cape', 'province', 'princess', 'arrangement', 'need', 'bid', 'surgery', 'boat', 'object', 'soprano', 'living', 'origin', 'sorbonne', 'economy', 'pound', 'colleague', 'wedding', 'pair', 'diamond', 'apartment', 'acclaim', 'status', 'length', 'value', 'total', 'marathon', 'et', 'ottoman', 'stock', 'maker', 'conflict', 'demonstration', 'map', 'lesson', 'deal', 'governor', 'box', 'german', 'm', 'bishop', 'residency', 'question', 'reference', 'runway', 'uncle', 'ministry', 'stop', 'politician', 'link', 'command', 'window', 'kind', 'loss', 'access', 'patent', 'cemetery', 'laboratory', 'furniture', 'guitar', 'catalogue', 'lead', 'mill', 'fan', 'sound', 'entertainment', 'turn', 'aviation', 'expedition', 'flower', 'statue', 'debt', 'banker', 'adaptation', 'episode', 'fortune', 'bath', 'evidence', 'cousin', 'commissioner', 'boutique', 'share', 'goal', 'carrier', 'charity', 'string', 'engraving', 'curator', 'watercolour', 'behalf', 'crew', 'broadcast', 'lot', 'lawyer', 'grandfather', 'leadership', 'dream', 'freedom', 'request', 'duty', 'violinist', 'capacity', 'vol', 'thousand', 'genre', 'mind', 'focus', 'reporter', 'crowd', 'hub', 'name', 'good', 'clothing', 'speech', 'passion', 'prisoner', 'tenor', 'majority', 'prix', 'presentation', 'chapter', 'chef', 'monument', 'mountain', 'moment', 'crown', 'defence', 'ring', 'subsidiary', 'guy', 'scientist', 'choice', 'kingdom', 'camera', 'mail', 'spirit', 'bond', 'km', 'claim', 'pavilion', 'chorus', 'ceremony', 'growth', 'hill', 'document', 'criticism', 'wine', 'sense', 'guild', 'widow', 'relief', 'specimen', 'manner', 'duo', 'element', 'venture', 'pilot', 'card', 'bus', 'retirement', 'poster', 'crime', 'approach', 'identity', 'reform', 'cycle', 'host', 'celebrity', 'survey', 'mayor', 'steel', 'climate', 'couture', 'campus', 'consul', 'religion', 'guide', 'emperor', 'passage', 'cent', 'charter', 'customer', 'purchase', 'vehicle', 'fame', 'voyage', 'birthday', 'circuit', 'mathematic', 'door', 'count', 'lyric', 'progress', 'lack', 'trend', 'tale', 'acquisition', 'lieutenant', 'graduate', 'thank', 'murder', 'plane', 'restoration', 'tourist', 'chance', 'opposition', 'candidate', 'manufacturer', 'holiday', 'motion', 'metre', 'duchess', 'step', 'biennale', 'stadium', 'shoe', 'defeat', 'opinion', 'anatomy', 'quartet', 'guardian', 'deputy', 'memory', 'scheme', 'pressure', 'incident', 'seine', 'screen', 'metal', 'supporter', 'printing', 'clerk', 'trio', 'bust', 'fiction', 'setting', 'refugee', 'jet', 'difficulty', 'distribution', 'discussion', 'biography', 'expansion', 'lake', 'settlement', 'instruction', 'experiment', 'disease', 'lifetime', 'taste', 'regime', 'future', 'membership', 'journalism', 'trading', 'der', 'arrest', 'advice', 'dancing', 'floor', 'choir', 'interior', 'notice', 'aspect', 'selection', 'background', 'bird', 'inspiration', 'chart', 'dome', 'panel', 'mention', 'graduation', 'suburb', 'discovery', 'sign', 'physics', 'task', 'bomb', 'companion', 'cabaret', 'classic', 'bass', 'participant', 'permission', 'celebration', 'sun', 'county', 'telegraph', 'chemistry', 'hundred', 'marketing', 'mural', 'employment', 'nightclub', 'globe', 'mark', 'loan', 'flag', 'mean', 'formation']\n"
     ]
    }
   ],
   "source": [
    "#most_common\n",
    "\n",
    "words = [x[0] for x in most_common[:1000]]\n",
    "print(words)"
   ]
  },
  {
   "cell_type": "code",
   "execution_count": 286,
   "id": "671999a0",
   "metadata": {},
   "outputs": [],
   "source": [
    "from pprint import pprint"
   ]
  },
  {
   "cell_type": "code",
   "execution_count": 390,
   "id": "e5bb71ea",
   "metadata": {
    "scrolled": false
   },
   "outputs": [
    {
     "name": "stdout",
     "output_type": "stream",
     "text": [
      "word: football\n",
      "___________________________\n",
      "===> \tcategory: war \n",
      "\tsimilarity: 0.29382860474288464 \n",
      "\tkeywords: ['war', 'fight', 'death', 'hostility', 'bomb', 'battle', 'nazi', 'army']\n",
      "___________________________\n",
      "===> \tcategory: politics \n",
      "\tsimilarity: 0.30098319351673125 \n",
      "\tkeywords: ['politics', 'debate', 'election', 'government', 'democracy']\n",
      "___________________________\n",
      "===> \tcategory: fashion \n",
      "\tsimilarity: 0.2788689061999321 \n",
      "\tkeywords: ['fashion', 'model', 'magazine', 'walk', 'glamour', 'outfit']\n",
      "___________________________\n",
      "===> \tcategory: culture \n",
      "\tsimilarity: 0.3087033288819449 \n",
      "\tkeywords: ['culture', 'opera', 'festival', 'collection', 'exhibition', 'art', 'museum']\n",
      "___________________________\n",
      "===> \tcategory: sport \n",
      "\tsimilarity: 0.5073593429156712 \n",
      "\tkeywords: ['sport', 'medal', 'game', 'championship', 'club', 'score', 'play']\n",
      "___________________________\n",
      "===> \tcategory: education \n",
      "\tsimilarity: 0.33018014430999754 \n",
      "\tkeywords: ['education', 'professor', 'study', 'research', 'university']\n",
      "\n",
      "\n",
      "==> \tword: football, \n",
      "\tcategory:, sport, \n",
      "\tvalue:, 0.5073593429156712\n",
      "====================================================================================================\n",
      "\n",
      "\n",
      "word: club\n",
      "___________________________\n",
      "===> \tcategory: war \n",
      "\tsimilarity: 0.29104972910135984 \n",
      "\tkeywords: ['war', 'fight', 'death', 'hostility', 'bomb', 'battle', 'nazi', 'army']\n",
      "___________________________\n",
      "===> \tcategory: politics \n",
      "\tsimilarity: 0.28790222108364105 \n",
      "\tkeywords: ['politics', 'debate', 'election', 'government', 'democracy']\n",
      "___________________________\n",
      "===> \tcategory: fashion \n",
      "\tsimilarity: 0.3861782948176066 \n",
      "\tkeywords: ['fashion', 'model', 'magazine', 'walk', 'glamour', 'outfit']\n",
      "___________________________\n",
      "===> \tcategory: culture \n",
      "\tsimilarity: 0.3976613538605826 \n",
      "\tkeywords: ['culture', 'opera', 'festival', 'collection', 'exhibition', 'art', 'museum']\n",
      "___________________________\n",
      "===> \tcategory: sport \n",
      "\tsimilarity: 0.5227627158164978 \n",
      "\tkeywords: ['sport', 'medal', 'game', 'championship', 'club', 'score', 'play']\n",
      "___________________________\n",
      "===> \tcategory: education \n",
      "\tsimilarity: 0.3563636541366577 \n",
      "\tkeywords: ['education', 'professor', 'study', 'research', 'university']\n",
      "\n",
      "\n",
      "==> \tword: club, \n",
      "\tcategory:, sport, \n",
      "\tvalue:, 0.5227627158164978\n",
      "====================================================================================================\n",
      "\n",
      "\n",
      "word: archery\n",
      "___________________________\n",
      "===> \tcategory: war \n",
      "\tsimilarity: 0.14191187405958772 \n",
      "\tkeywords: ['war', 'fight', 'death', 'hostility', 'bomb', 'battle', 'nazi', 'army']\n",
      "___________________________\n",
      "===> \tcategory: politics \n",
      "\tsimilarity: 0.09404913783073425 \n",
      "\tkeywords: ['politics', 'debate', 'election', 'government', 'democracy']\n",
      "___________________________\n",
      "===> \tcategory: fashion \n",
      "\tsimilarity: 0.1788394277294477 \n",
      "\tkeywords: ['fashion', 'model', 'magazine', 'walk', 'glamour', 'outfit']\n",
      "___________________________\n",
      "===> \tcategory: culture \n",
      "\tsimilarity: 0.1974537723830768 \n",
      "\tkeywords: ['culture', 'opera', 'festival', 'collection', 'exhibition', 'art', 'museum']\n",
      "___________________________\n",
      "===> \tcategory: sport \n",
      "\tsimilarity: 0.2930993586778641 \n",
      "\tkeywords: ['sport', 'medal', 'game', 'championship', 'club', 'score', 'play']\n",
      "___________________________\n",
      "===> \tcategory: education \n",
      "\tsimilarity: 0.1438658870756626 \n",
      "\tkeywords: ['education', 'professor', 'study', 'research', 'university']\n",
      "\n",
      "\n",
      "==> \tword: archery, \n",
      "\tcategory:, sport, \n",
      "\tvalue:, 0.2930993586778641\n",
      "====================================================================================================\n",
      "\n",
      "\n",
      "word: athlete\n",
      "___________________________\n",
      "===> \tcategory: war \n",
      "\tsimilarity: 0.2007621107622981 \n",
      "\tkeywords: ['war', 'fight', 'death', 'hostility', 'bomb', 'battle', 'nazi', 'army']\n",
      "___________________________\n",
      "===> \tcategory: politics \n",
      "\tsimilarity: 0.16503599286079407 \n",
      "\tkeywords: ['politics', 'debate', 'election', 'government', 'democracy']\n",
      "___________________________\n",
      "===> \tcategory: fashion \n",
      "\tsimilarity: 0.2626517042517662 \n",
      "\tkeywords: ['fashion', 'model', 'magazine', 'walk', 'glamour', 'outfit']\n",
      "___________________________\n",
      "===> \tcategory: culture \n",
      "\tsimilarity: 0.20272840559482574 \n",
      "\tkeywords: ['culture', 'opera', 'festival', 'collection', 'exhibition', 'art', 'museum']\n",
      "___________________________\n",
      "===> \tcategory: sport \n",
      "\tsimilarity: 0.3517800590821675 \n",
      "\tkeywords: ['sport', 'medal', 'game', 'championship', 'club', 'score', 'play']\n",
      "___________________________\n",
      "===> \tcategory: education \n",
      "\tsimilarity: 0.26162048876285554 \n",
      "\tkeywords: ['education', 'professor', 'study', 'research', 'university']\n",
      "\n",
      "\n",
      "==> \tword: athlete, \n",
      "\tcategory:, sport, \n",
      "\tvalue:, 0.3517800590821675\n",
      "====================================================================================================\n",
      "\n",
      "\n",
      "word: ball\n",
      "___________________________\n",
      "===> \tcategory: war \n",
      "\tsimilarity: 0.2777747754007578 \n",
      "\tkeywords: ['war', 'fight', 'death', 'hostility', 'bomb', 'battle', 'nazi', 'army']\n",
      "___________________________\n",
      "===> \tcategory: politics \n",
      "\tsimilarity: 0.22087183892726897 \n",
      "\tkeywords: ['politics', 'debate', 'election', 'government', 'democracy']\n",
      "___________________________\n",
      "===> \tcategory: fashion \n",
      "\tsimilarity: 0.3380142052968343 \n",
      "\tkeywords: ['fashion', 'model', 'magazine', 'walk', 'glamour', 'outfit']\n",
      "___________________________\n",
      "===> \tcategory: culture \n",
      "\tsimilarity: 0.2977385755096163 \n",
      "\tkeywords: ['culture', 'opera', 'festival', 'collection', 'exhibition', 'art', 'museum']\n",
      "___________________________\n",
      "===> \tcategory: sport \n",
      "\tsimilarity: 0.4474520981311798 \n",
      "\tkeywords: ['sport', 'medal', 'game', 'championship', 'club', 'score', 'play']\n",
      "___________________________\n",
      "===> \tcategory: education \n",
      "\tsimilarity: 0.26787461042404176 \n",
      "\tkeywords: ['education', 'professor', 'study', 'research', 'university']\n",
      "\n",
      "\n",
      "==> \tword: ball, \n",
      "\tcategory:, sport, \n",
      "\tvalue:, 0.4474520981311798\n",
      "====================================================================================================\n",
      "\n",
      "\n",
      "word: biking\n",
      "___________________________\n",
      "===> \tcategory: war \n",
      "\tsimilarity: 0.13942731684073806 \n",
      "\tkeywords: ['war', 'fight', 'death', 'hostility', 'bomb', 'battle', 'nazi', 'army']\n",
      "___________________________\n",
      "===> \tcategory: politics \n",
      "\tsimilarity: 0.139286544919014 \n",
      "\tkeywords: ['politics', 'debate', 'election', 'government', 'democracy']\n",
      "___________________________\n",
      "===> \tcategory: fashion \n",
      "\tsimilarity: 0.210870244850715 \n",
      "\tkeywords: ['fashion', 'model', 'magazine', 'walk', 'glamour', 'outfit']\n",
      "___________________________\n",
      "===> \tcategory: culture \n",
      "\tsimilarity: 0.22833587654999324 \n",
      "\tkeywords: ['culture', 'opera', 'festival', 'collection', 'exhibition', 'art', 'museum']\n",
      "___________________________\n",
      "===> \tcategory: sport \n",
      "\tsimilarity: 0.26202235583748135 \n",
      "\tkeywords: ['sport', 'medal', 'game', 'championship', 'club', 'score', 'play']\n",
      "___________________________\n",
      "===> \tcategory: education \n",
      "\tsimilarity: 0.17923267036676407 \n",
      "\tkeywords: ['education', 'professor', 'study', 'research', 'university']\n",
      "\n",
      "\n",
      "==> \tword: biking, \n",
      "\tcategory:, sport, \n",
      "\tvalue:, 0.26202235583748135\n",
      "====================================================================================================\n",
      "\n",
      "\n",
      "word: student\n",
      "___________________________\n",
      "===> \tcategory: war \n",
      "\tsimilarity: 0.2783552873879671 \n",
      "\tkeywords: ['war', 'fight', 'death', 'hostility', 'bomb', 'battle', 'nazi', 'army']\n",
      "___________________________\n",
      "===> \tcategory: politics \n",
      "\tsimilarity: 0.37504374980926514 \n",
      "\tkeywords: ['politics', 'debate', 'election', 'government', 'democracy']\n",
      "___________________________\n",
      "===> \tcategory: fashion \n",
      "\tsimilarity: 0.32476767897605896 \n",
      "\tkeywords: ['fashion', 'model', 'magazine', 'walk', 'glamour', 'outfit']\n",
      "___________________________\n",
      "===> \tcategory: culture \n",
      "\tsimilarity: 0.3740716278553009 \n",
      "\tkeywords: ['culture', 'opera', 'festival', 'collection', 'exhibition', 'art', 'museum']\n",
      "___________________________\n",
      "===> \tcategory: sport \n",
      "\tsimilarity: 0.3442223902259554 \n",
      "\tkeywords: ['sport', 'medal', 'game', 'championship', 'club', 'score', 'play']\n",
      "___________________________\n",
      "===> \tcategory: education \n",
      "\tsimilarity: 0.6046075105667115 \n",
      "\tkeywords: ['education', 'professor', 'study', 'research', 'university']\n",
      "\n",
      "\n",
      "==> \tword: student, \n",
      "\tcategory:, education, \n",
      "\tvalue:, 0.6046075105667115\n",
      "====================================================================================================\n",
      "\n",
      "\n",
      "word: catwalk\n",
      "___________________________\n",
      "===> \tcategory: war \n",
      "\tsimilarity: 0.07848641136661172 \n",
      "\tkeywords: ['war', 'fight', 'death', 'hostility', 'bomb', 'battle', 'nazi', 'army']\n",
      "___________________________\n",
      "===> \tcategory: politics \n",
      "\tsimilarity: 0.05210680663585663 \n",
      "\tkeywords: ['politics', 'debate', 'election', 'government', 'democracy']\n",
      "___________________________\n",
      "===> \tcategory: fashion \n",
      "\tsimilarity: 0.3622944504022598 \n",
      "\tkeywords: ['fashion', 'model', 'magazine', 'walk', 'glamour', 'outfit']\n",
      "___________________________\n",
      "===> \tcategory: culture \n",
      "\tsimilarity: 0.22402965596743993 \n",
      "\tkeywords: ['culture', 'opera', 'festival', 'collection', 'exhibition', 'art', 'museum']\n",
      "___________________________\n",
      "===> \tcategory: sport \n",
      "\tsimilarity: 0.11824511310883931 \n",
      "\tkeywords: ['sport', 'medal', 'game', 'championship', 'club', 'score', 'play']\n",
      "___________________________\n",
      "===> \tcategory: education \n",
      "\tsimilarity: 0.07647329792380334 \n",
      "\tkeywords: ['education', 'professor', 'study', 'research', 'university']\n",
      "\n",
      "\n",
      "==> \tword: catwalk, \n",
      "\tcategory:, fashion, \n",
      "\tvalue:, 0.3622944504022598\n",
      "====================================================================================================\n",
      "\n",
      "\n",
      "word: brainfreeze\n",
      "___________________________\n",
      "===> \tcategory: war \n",
      "\tsimilarity: -0.12309150211513042 \n",
      "\tkeywords: ['war', 'fight', 'death', 'hostility', 'bomb', 'battle', 'nazi', 'army']\n",
      "___________________________\n",
      "===> \tcategory: politics \n",
      "\tsimilarity: -0.08203690573573112 \n",
      "\tkeywords: ['politics', 'debate', 'election', 'government', 'democracy']\n",
      "___________________________\n",
      "===> \tcategory: fashion \n",
      "\tsimilarity: -0.0951730612044533 \n",
      "\tkeywords: ['fashion', 'model', 'magazine', 'walk', 'glamour', 'outfit']\n",
      "___________________________\n",
      "===> \tcategory: culture \n",
      "\tsimilarity: -0.12045715323516301 \n",
      "\tkeywords: ['culture', 'opera', 'festival', 'collection', 'exhibition', 'art', 'museum']\n",
      "___________________________\n",
      "===> \tcategory: sport \n",
      "\tsimilarity: -0.11682220548391342 \n",
      "\tkeywords: ['sport', 'medal', 'game', 'championship', 'club', 'score', 'play']\n",
      "___________________________\n",
      "===> \tcategory: education \n",
      "\tsimilarity: -0.11168714687228203 \n",
      "\tkeywords: ['education', 'professor', 'study', 'research', 'university']\n",
      "\n",
      "--> ('brainfreeze', (-0.08203690573573112, 'politics'))\n",
      "\n",
      "==> \tword: brainfreeze, \n",
      "\tcategory:, politics, \n",
      "\tvalue:, -0.08203690573573112\n",
      "====================================================================================================\n",
      "\n",
      "\n",
      "word: nerd\n",
      "___________________________\n",
      "===> \tcategory: war \n",
      "\tsimilarity: 0.2326366864144802 \n",
      "\tkeywords: ['war', 'fight', 'death', 'hostility', 'bomb', 'battle', 'nazi', 'army']\n",
      "___________________________\n",
      "===> \tcategory: politics \n",
      "\tsimilarity: 0.1645456835627556 \n",
      "\tkeywords: ['politics', 'debate', 'election', 'government', 'democracy']\n",
      "___________________________\n",
      "===> \tcategory: fashion \n",
      "\tsimilarity: 0.2429493566354116 \n",
      "\tkeywords: ['fashion', 'model', 'magazine', 'walk', 'glamour', 'outfit']\n",
      "___________________________\n",
      "===> \tcategory: culture \n",
      "\tsimilarity: 0.1961423775979451 \n",
      "\tkeywords: ['culture', 'opera', 'festival', 'collection', 'exhibition', 'art', 'museum']\n",
      "___________________________\n",
      "===> \tcategory: sport \n",
      "\tsimilarity: 0.20897860186440603 \n",
      "\tkeywords: ['sport', 'medal', 'game', 'championship', 'club', 'score', 'play']\n",
      "___________________________\n",
      "===> \tcategory: education \n",
      "\tsimilarity: 0.18607691824436187 \n",
      "\tkeywords: ['education', 'professor', 'study', 'research', 'university']\n",
      "\n",
      "--> ('nerd', (0.2429493566354116, 'fashion'))\n",
      "\n",
      "==> \tword: nerd, \n",
      "\tcategory:, fashion, \n",
      "\tvalue:, 0.2429493566354116\n",
      "====================================================================================================\n",
      "\n",
      "\n",
      "word: geek\n",
      "___________________________\n",
      "===> \tcategory: war \n",
      "\tsimilarity: 0.22397920349612832 \n",
      "\tkeywords: ['war', 'fight', 'death', 'hostility', 'bomb', 'battle', 'nazi', 'army']\n",
      "___________________________\n",
      "===> \tcategory: politics \n",
      "\tsimilarity: 0.21937427520751954 \n",
      "\tkeywords: ['politics', 'debate', 'election', 'government', 'democracy']\n",
      "___________________________\n",
      "===> \tcategory: fashion \n",
      "\tsimilarity: 0.29754214733839035 \n",
      "\tkeywords: ['fashion', 'model', 'magazine', 'walk', 'glamour', 'outfit']\n",
      "___________________________\n",
      "===> \tcategory: culture \n",
      "\tsimilarity: 0.26990988850593567 \n",
      "\tkeywords: ['culture', 'opera', 'festival', 'collection', 'exhibition', 'art', 'museum']\n",
      "___________________________\n",
      "===> \tcategory: sport \n",
      "\tsimilarity: 0.22953805859599793 \n",
      "\tkeywords: ['sport', 'medal', 'game', 'championship', 'club', 'score', 'play']\n",
      "___________________________\n",
      "===> \tcategory: education \n",
      "\tsimilarity: 0.2223627656698227 \n",
      "\tkeywords: ['education', 'professor', 'study', 'research', 'university']\n",
      "\n",
      "\n",
      "==> \tword: geek, \n",
      "\tcategory:, fashion, \n",
      "\tvalue:, 0.29754214733839035\n",
      "====================================================================================================\n",
      "\n",
      "\n",
      "word: school\n",
      "___________________________\n",
      "===> \tcategory: war \n",
      "\tsimilarity: 0.3288186062127352 \n",
      "\tkeywords: ['war', 'fight', 'death', 'hostility', 'bomb', 'battle', 'nazi', 'army']\n",
      "___________________________\n",
      "===> \tcategory: politics \n",
      "\tsimilarity: 0.3654467105865479 \n",
      "\tkeywords: ['politics', 'debate', 'election', 'government', 'democracy']\n",
      "___________________________\n",
      "===> \tcategory: fashion \n",
      "\tsimilarity: 0.35288871079683304 \n",
      "\tkeywords: ['fashion', 'model', 'magazine', 'walk', 'glamour', 'outfit']\n",
      "___________________________\n",
      "===> \tcategory: culture \n",
      "\tsimilarity: 0.39690387674740385 \n",
      "\tkeywords: ['culture', 'opera', 'festival', 'collection', 'exhibition', 'art', 'museum']\n",
      "___________________________\n",
      "===> \tcategory: sport \n",
      "\tsimilarity: 0.4025964949812208 \n",
      "\tkeywords: ['sport', 'medal', 'game', 'championship', 'club', 'score', 'play']\n",
      "___________________________\n",
      "===> \tcategory: education \n",
      "\tsimilarity: 0.5707644820213318 \n",
      "\tkeywords: ['education', 'professor', 'study', 'research', 'university']\n",
      "\n",
      "\n",
      "==> \tword: school, \n",
      "\tcategory:, education, \n",
      "\tvalue:, 0.5707644820213318\n",
      "====================================================================================================\n",
      "\n",
      "\n",
      "word: lawschool\n",
      "___________________________\n",
      "===> \tcategory: war \n",
      "\tsimilarity: -0.07972509739920497 \n",
      "\tkeywords: ['war', 'fight', 'death', 'hostility', 'bomb', 'battle', 'nazi', 'army']\n",
      "___________________________\n",
      "===> \tcategory: politics \n",
      "\tsimilarity: -0.0011519008316099645 \n",
      "\tkeywords: ['politics', 'debate', 'election', 'government', 'democracy']\n",
      "___________________________\n",
      "===> \tcategory: fashion \n",
      "\tsimilarity: -0.05064218180874983 \n",
      "\tkeywords: ['fashion', 'model', 'magazine', 'walk', 'glamour', 'outfit']\n",
      "___________________________\n",
      "===> \tcategory: culture \n",
      "\tsimilarity: -0.11419121069567544 \n",
      "\tkeywords: ['culture', 'opera', 'festival', 'collection', 'exhibition', 'art', 'museum']\n",
      "___________________________\n",
      "===> \tcategory: sport \n",
      "\tsimilarity: -0.08404710303459849 \n",
      "\tkeywords: ['sport', 'medal', 'game', 'championship', 'club', 'score', 'play']\n",
      "___________________________\n",
      "===> \tcategory: education \n",
      "\tsimilarity: 0.006471795961260796 \n",
      "\tkeywords: ['education', 'professor', 'study', 'research', 'university']\n",
      "\n",
      "--> ('lawschool', (0.006471795961260796, 'education'))\n",
      "\n",
      "==> \tword: lawschool, \n",
      "\tcategory:, education, \n",
      "\tvalue:, 0.006471795961260796\n",
      "====================================================================================================\n",
      "\n",
      "\n",
      "word: helmet\n",
      "___________________________\n",
      "===> \tcategory: war \n",
      "\tsimilarity: 0.23780486593022943 \n",
      "\tkeywords: ['war', 'fight', 'death', 'hostility', 'bomb', 'battle', 'nazi', 'army']\n",
      "___________________________\n",
      "===> \tcategory: politics \n",
      "\tsimilarity: 0.11521457210183143 \n",
      "\tkeywords: ['politics', 'debate', 'election', 'government', 'democracy']\n",
      "___________________________\n",
      "===> \tcategory: fashion \n",
      "\tsimilarity: 0.23098917305469513 \n",
      "\tkeywords: ['fashion', 'model', 'magazine', 'walk', 'glamour', 'outfit']\n",
      "___________________________\n",
      "===> \tcategory: culture \n",
      "\tsimilarity: 0.19219194565500533 \n",
      "\tkeywords: ['culture', 'opera', 'festival', 'collection', 'exhibition', 'art', 'museum']\n",
      "___________________________\n",
      "===> \tcategory: sport \n",
      "\tsimilarity: 0.2644780533654349 \n",
      "\tkeywords: ['sport', 'medal', 'game', 'championship', 'club', 'score', 'play']\n",
      "___________________________\n",
      "===> \tcategory: education \n",
      "\tsimilarity: 0.16294021159410477 \n",
      "\tkeywords: ['education', 'professor', 'study', 'research', 'university']\n",
      "\n",
      "\n",
      "==> \tword: helmet, \n",
      "\tcategory:, sport, \n",
      "\tvalue:, 0.2644780533654349\n",
      "====================================================================================================\n",
      "\n",
      "\n",
      "word: poison\n",
      "___________________________\n",
      "===> \tcategory: war \n",
      "\tsimilarity: 0.3084911573678255 \n",
      "\tkeywords: ['war', 'fight', 'death', 'hostility', 'bomb', 'battle', 'nazi', 'army']\n",
      "___________________________\n",
      "===> \tcategory: politics \n",
      "\tsimilarity: 0.21791222393512727 \n",
      "\tkeywords: ['politics', 'debate', 'election', 'government', 'democracy']\n",
      "___________________________\n",
      "===> \tcategory: fashion \n",
      "\tsimilarity: 0.20160618921120962 \n",
      "\tkeywords: ['fashion', 'model', 'magazine', 'walk', 'glamour', 'outfit']\n",
      "___________________________\n",
      "===> \tcategory: culture \n",
      "\tsimilarity: 0.16335755905934743 \n",
      "\tkeywords: ['culture', 'opera', 'festival', 'collection', 'exhibition', 'art', 'museum']\n",
      "___________________________\n",
      "===> \tcategory: sport \n",
      "\tsimilarity: 0.17823241970368794 \n",
      "\tkeywords: ['sport', 'medal', 'game', 'championship', 'club', 'score', 'play']\n",
      "___________________________\n",
      "===> \tcategory: education \n",
      "\tsimilarity: 0.20300778448581697 \n",
      "\tkeywords: ['education', 'professor', 'study', 'research', 'university']\n",
      "\n",
      "\n",
      "==> \tword: poison, \n",
      "\tcategory:, war, \n",
      "\tvalue:, 0.3084911573678255\n",
      "====================================================================================================\n",
      "\n",
      "\n",
      "word: sunglasses\n",
      "___________________________\n",
      "===> \tcategory: war \n",
      "\tsimilarity: 0.12235106900334358 \n",
      "\tkeywords: ['war', 'fight', 'death', 'hostility', 'bomb', 'battle', 'nazi', 'army']\n",
      "___________________________\n",
      "===> \tcategory: politics \n",
      "\tsimilarity: 0.09270768761634826 \n",
      "\tkeywords: ['politics', 'debate', 'election', 'government', 'democracy']\n",
      "___________________________\n",
      "===> \tcategory: fashion \n",
      "\tsimilarity: 0.30030443022648495 \n",
      "\tkeywords: ['fashion', 'model', 'magazine', 'walk', 'glamour', 'outfit']\n",
      "___________________________\n",
      "===> \tcategory: culture \n",
      "\tsimilarity: 0.15498730646712439 \n",
      "\tkeywords: ['culture', 'opera', 'festival', 'collection', 'exhibition', 'art', 'museum']\n",
      "___________________________\n",
      "===> \tcategory: sport \n",
      "\tsimilarity: 0.19675078136580332 \n",
      "\tkeywords: ['sport', 'medal', 'game', 'championship', 'club', 'score', 'play']\n",
      "___________________________\n",
      "===> \tcategory: education \n",
      "\tsimilarity: 0.11645451933145523 \n",
      "\tkeywords: ['education', 'professor', 'study', 'research', 'university']\n",
      "\n",
      "\n",
      "==> \tword: sunglasses, \n",
      "\tcategory:, fashion, \n",
      "\tvalue:, 0.30030443022648495\n",
      "====================================================================================================\n",
      "\n",
      "\n",
      "word: philosophy\n",
      "___________________________\n",
      "===> \tcategory: war \n",
      "\tsimilarity: 0.23713701404631138 \n",
      "\tkeywords: ['war', 'fight', 'death', 'hostility', 'bomb', 'battle', 'nazi', 'army']\n",
      "___________________________\n",
      "===> \tcategory: politics \n",
      "\tsimilarity: 0.3891554057598114 \n",
      "\tkeywords: ['politics', 'debate', 'election', 'government', 'democracy']\n",
      "___________________________\n",
      "===> \tcategory: fashion \n",
      "\tsimilarity: 0.25463058551152545 \n",
      "\tkeywords: ['fashion', 'model', 'magazine', 'walk', 'glamour', 'outfit']\n",
      "___________________________\n",
      "===> \tcategory: culture \n",
      "\tsimilarity: 0.32822645562035696 \n",
      "\tkeywords: ['culture', 'opera', 'festival', 'collection', 'exhibition', 'art', 'museum']\n",
      "___________________________\n",
      "===> \tcategory: sport \n",
      "\tsimilarity: 0.2764528627906527 \n",
      "\tkeywords: ['sport', 'medal', 'game', 'championship', 'club', 'score', 'play']\n",
      "___________________________\n",
      "===> \tcategory: education \n",
      "\tsimilarity: 0.4873074173927307 \n",
      "\tkeywords: ['education', 'professor', 'study', 'research', 'university']\n",
      "\n",
      "\n",
      "==> \tword: philosophy, \n",
      "\tcategory:, education, \n",
      "\tvalue:, 0.4873074173927307\n",
      "====================================================================================================\n",
      "\n",
      "\n",
      "word: brain\n",
      "___________________________\n",
      "===> \tcategory: war \n",
      "\tsimilarity: 0.28821929171681404 \n",
      "\tkeywords: ['war', 'fight', 'death', 'hostility', 'bomb', 'battle', 'nazi', 'army']\n",
      "___________________________\n",
      "===> \tcategory: politics \n",
      "\tsimilarity: 0.2725052356719971 \n",
      "\tkeywords: ['politics', 'debate', 'election', 'government', 'democracy']\n",
      "___________________________\n",
      "===> \tcategory: fashion \n",
      "\tsimilarity: 0.23630191634098688 \n",
      "\tkeywords: ['fashion', 'model', 'magazine', 'walk', 'glamour', 'outfit']\n",
      "___________________________\n",
      "===> \tcategory: culture \n",
      "\tsimilarity: 0.24144733803612844 \n",
      "\tkeywords: ['culture', 'opera', 'festival', 'collection', 'exhibition', 'art', 'museum']\n",
      "___________________________\n",
      "===> \tcategory: sport \n",
      "\tsimilarity: 0.2599361666611263 \n",
      "\tkeywords: ['sport', 'medal', 'game', 'championship', 'club', 'score', 'play']\n",
      "___________________________\n",
      "===> \tcategory: education \n",
      "\tsimilarity: 0.4037298858165741 \n",
      "\tkeywords: ['education', 'professor', 'study', 'research', 'university']\n",
      "\n",
      "\n",
      "==> \tword: brain, \n",
      "\tcategory:, education, \n",
      "\tvalue:, 0.4037298858165741\n",
      "====================================================================================================\n",
      "\n",
      "\n",
      "\n",
      "words: ['football', 'club', 'archery', 'athlete', 'ball', 'biking', 'student', 'catwalk', 'brainfreeze', 'nerd', 'geek', 'school', 'lawschool', 'helmet', 'poison', 'sunglasses', 'philosophy', 'brain'] \n",
      "\n",
      "CPU times: total: 125 ms\n",
      "Wall time: 134 ms\n"
     ]
    },
    {
     "data": {
      "text/plain": [
       "[('football', (0.5073593429156712, 'sport')),\n",
       " ('club', (0.5227627158164978, 'sport')),\n",
       " ('archery', (0.2930993586778641, 'sport')),\n",
       " ('athlete', (0.3517800590821675, 'sport')),\n",
       " ('ball', (0.4474520981311798, 'sport')),\n",
       " ('biking', (0.26202235583748135, 'sport')),\n",
       " ('student', (0.6046075105667115, 'education')),\n",
       " ('catwalk', (0.3622944504022598, 'fashion')),\n",
       " ('geek', (0.29754214733839035, 'fashion')),\n",
       " ('school', (0.5707644820213318, 'education')),\n",
       " ('helmet', (0.2644780533654349, 'sport')),\n",
       " ('poison', (0.3084911573678255, 'war')),\n",
       " ('sunglasses', (0.30030443022648495, 'fashion')),\n",
       " ('philosophy', (0.4873074173927307, 'education')),\n",
       " ('brain', (0.4037298858165741, 'education'))]"
      ]
     },
     "execution_count": 390,
     "metadata": {},
     "output_type": "execute_result"
    }
   ],
   "source": [
    "%%time\n",
    "\n",
    "verbose1, verbose2 = True, True\n",
    "similar_categories = []\n",
    "for word in words:\n",
    "    closeness = []\n",
    "    if verbose1 or verbose2:\n",
    "        print('word:', word)\n",
    "    for category in descriptive_keywords:\n",
    "        summed_similarity = 0\n",
    "        for keyword in category:\n",
    "            keyword_vector = embeddings_dict[keyword]        \n",
    "            word_vector = embeddings_dict[word]\n",
    "            value = 1 - cosine(keyword_vector, word_vector)\n",
    "            summed_similarity += value\n",
    "        \n",
    "        normalized_similarity = summed_similarity/len(category)\n",
    "        closeness.append((normalized_similarity, category[0]))\n",
    "        \n",
    "        if verbose1:\n",
    "            print('___________________________')\n",
    "            print('===>', '\\tcategory:', category[0], '\\n\\tsimilarity:', normalized_similarity, f\"\\n\\tkeywords: {category}\", )\n",
    "        \n",
    "    print()\n",
    "    similar_category = max(closeness)\n",
    "    \n",
    "    if similar_category[0] > 0.25:\n",
    "        similar_categories.append((word, similar_category))\n",
    "    else:\n",
    "        print('-->', (word, similar_category))\n",
    "    \n",
    "    if verbose2:\n",
    "        #print('category similarity:')\n",
    "        # pprint(sorted(closeness, key=lambda x: x[0], reverse=True))\n",
    "        print()\n",
    "        print(f\"==> \\tword: {word}, \\n\\tcategory:, {similar_category[1]}, \\n\\tvalue:, {similar_category[0]}\")\n",
    "        print('='*100)\n",
    "        print('\\n')\n",
    "\n",
    "print('\\nwords:', words, '\\n')\n",
    "\n",
    "similar_categories"
   ]
  },
  {
   "cell_type": "code",
   "execution_count": 285,
   "id": "f574811b",
   "metadata": {},
   "outputs": [],
   "source": [
    "words = [\"football\", \"club\", \"archery\", \"athlete\", \"ball\", \"biking\", \"student\", 'catwalk', 'brainfreeze', 'nerd', 'geek', \n",
    "         'school', 'lawschool', 'helmet', 'poison', 'sunglasses', 'philosophy', 'brain']"
   ]
  },
  {
   "cell_type": "code",
   "execution_count": 320,
   "id": "a71b4ea3",
   "metadata": {
    "scrolled": true
   },
   "outputs": [
    {
     "data": {
      "text/plain": [
       "[('football', (0.5073593429156712, 'sport')),\n",
       " ('club', (0.5227627158164978, 'sport')),\n",
       " ('archery', (0.2930993586778641, 'sport')),\n",
       " ('athlete', (0.3517800590821675, 'sport')),\n",
       " ('ball', (0.4474520981311798, 'sport')),\n",
       " ('biking', (0.26202235583748135, 'sport')),\n",
       " ('student', (0.6046075105667115, 'education')),\n",
       " ('catwalk', (0.3622944504022598, 'fashion')),\n",
       " ('geek', (0.29754214733839035, 'fashion')),\n",
       " ('school', (0.5707644820213318, 'education')),\n",
       " ('helmet', (0.2644780533654349, 'sport')),\n",
       " ('poison', (0.3084911573678255, 'war')),\n",
       " ('sunglasses', (0.30030443022648495, 'fashion')),\n",
       " ('philosophy', (0.4873074173927307, 'education')),\n",
       " ('brain', (0.4037298858165741, 'education'))]"
      ]
     },
     "execution_count": 320,
     "metadata": {},
     "output_type": "execute_result"
    }
   ],
   "source": [
    "similar_categories"
   ]
  },
  {
   "cell_type": "code",
   "execution_count": 291,
   "id": "92c6c73d",
   "metadata": {},
   "outputs": [
    {
     "data": {
      "text/plain": [
       "{'war': 0,\n",
       " 'politics': 0,\n",
       " 'fashion': 0,\n",
       " 'culture': 0,\n",
       " 'sport': 0,\n",
       " 'education': 0}"
      ]
     },
     "execution_count": 291,
     "metadata": {},
     "output_type": "execute_result"
    }
   ],
   "source": [
    "categories_dict = {key[0]: 0 for key in descriptive_keywords}\n",
    "categories_dict"
   ]
  },
  {
   "cell_type": "code",
   "execution_count": 321,
   "id": "a8b55cfb",
   "metadata": {},
   "outputs": [
    {
     "name": "stdout",
     "output_type": "stream",
     "text": [
      "[('sport', 13.244769919131487),\n",
      " ('education', 10.33204647898674),\n",
      " ('fashion', 4.800705139835675),\n",
      " ('war', 1.5424557868391275),\n",
      " ('politics', 0),\n",
      " ('culture', 0)]\n",
      "\n",
      "The dominant category is: 'sport', followed by: 'education'.\n"
     ]
    }
   ],
   "source": [
    "for x in similar_categories:\n",
    "    categories_dict[x[1][1]] += x[1][0] #print(x[1])\n",
    "    \n",
    "categories_dict\n",
    "\n",
    "# sorted(categories_dict, key=lambda )\n",
    "results = list(sorted(categories_dict.items(), key=lambda item: item[1], reverse=True))\n",
    "pprint(results)\n",
    "print(f\"\\nThe dominant category is: '{results[0][0]}', followed by: '{results[1][0]}'.\")"
   ]
  },
  {
   "cell_type": "code",
   "execution_count": 50,
   "id": "067c9f3d",
   "metadata": {},
   "outputs": [
    {
     "data": {
      "text/plain": [
       "['art',\n",
       " 'year',\n",
       " 'work',\n",
       " 'time',\n",
       " 'city',\n",
       " 'exhibition',\n",
       " 'world',\n",
       " 'opera',\n",
       " 'school',\n",
       " 'music',\n",
       " 'company',\n",
       " 'artist',\n",
       " 'gallery',\n",
       " 'film',\n",
       " 'member',\n",
       " 'museum',\n",
       " 'festival',\n",
       " 'war',\n",
       " 'society',\n",
       " 'painting']"
      ]
     },
     "execution_count": 50,
     "metadata": {},
     "output_type": "execute_result"
    }
   ],
   "source": [
    "words"
   ]
  },
  {
   "cell_type": "code",
   "execution_count": null,
   "id": "b4d413c4",
   "metadata": {},
   "outputs": [],
   "source": []
  },
  {
   "cell_type": "code",
   "execution_count": null,
   "id": "7686a3ae",
   "metadata": {},
   "outputs": [],
   "source": []
  },
  {
   "cell_type": "code",
   "execution_count": null,
   "id": "f8ec27fa",
   "metadata": {},
   "outputs": [],
   "source": []
  },
  {
   "cell_type": "code",
   "execution_count": null,
   "id": "5ce41bd9",
   "metadata": {},
   "outputs": [],
   "source": []
  },
  {
   "cell_type": "code",
   "execution_count": null,
   "id": "0f42946f",
   "metadata": {},
   "outputs": [],
   "source": []
  },
  {
   "cell_type": "code",
   "execution_count": null,
   "id": "6f95cbff",
   "metadata": {},
   "outputs": [],
   "source": []
  },
  {
   "cell_type": "code",
   "execution_count": null,
   "id": "8846ea94",
   "metadata": {},
   "outputs": [],
   "source": []
  },
  {
   "cell_type": "code",
   "execution_count": null,
   "id": "cabd5567",
   "metadata": {},
   "outputs": [],
   "source": []
  },
  {
   "cell_type": "code",
   "execution_count": null,
   "id": "78812c10",
   "metadata": {},
   "outputs": [],
   "source": []
  },
  {
   "cell_type": "code",
   "execution_count": null,
   "id": "3241cceb",
   "metadata": {},
   "outputs": [],
   "source": []
  },
  {
   "cell_type": "code",
   "execution_count": null,
   "id": "6ba128ce",
   "metadata": {},
   "outputs": [],
   "source": []
  },
  {
   "cell_type": "code",
   "execution_count": null,
   "id": "8961126e",
   "metadata": {},
   "outputs": [],
   "source": []
  },
  {
   "cell_type": "code",
   "execution_count": null,
   "id": "23853fd6",
   "metadata": {},
   "outputs": [],
   "source": []
  },
  {
   "cell_type": "code",
   "execution_count": null,
   "id": "37f2c76a",
   "metadata": {},
   "outputs": [],
   "source": []
  },
  {
   "cell_type": "code",
   "execution_count": null,
   "id": "661bf6a8",
   "metadata": {},
   "outputs": [],
   "source": []
  },
  {
   "cell_type": "code",
   "execution_count": 69,
   "id": "54302003",
   "metadata": {},
   "outputs": [
    {
     "ename": "ModuleNotFoundError",
     "evalue": "No module named 'fasttext'",
     "output_type": "error",
     "traceback": [
      "\u001b[1;31m----------------------------------------------------------\u001b[0m",
      "\u001b[1;31mModuleNotFoundError\u001b[0m      Traceback (most recent call last)",
      "Input \u001b[1;32mIn [69]\u001b[0m, in \u001b[0;36m<cell line: 1>\u001b[1;34m()\u001b[0m\n\u001b[1;32m----> 1\u001b[0m \u001b[38;5;28;01mimport\u001b[39;00m \u001b[38;5;21;01mfasttext\u001b[39;00m\n",
      "\u001b[1;31mModuleNotFoundError\u001b[0m: No module named 'fasttext'"
     ]
    }
   ],
   "source": [
    "import fasttext"
   ]
  },
  {
   "cell_type": "code",
   "execution_count": null,
   "id": "5c981351",
   "metadata": {},
   "outputs": [],
   "source": [
    "import io\n",
    "\n",
    "def load_vectors(fname):\n",
    "    fin = io.open(fname, 'r', encoding='utf-8', newline='\\n', errors='ignore')\n",
    "    n, d = map(int, fin.readline().split())\n",
    "    data = {}\n",
    "    for line in fin:\n",
    "        tokens = line.rstrip().split(' ')\n",
    "        data[tokens[0]] = map(float, tokens[1:])\n",
    "    return data\n",
    "\n",
    "vectors = load_vectors(\"../../../../cc.en.300.vec\")"
   ]
  },
  {
   "cell_type": "code",
   "execution_count": 72,
   "id": "372b8655",
   "metadata": {},
   "outputs": [
    {
     "ename": "ModuleNotFoundError",
     "evalue": "No module named 'gensim.models.wrappers'",
     "output_type": "error",
     "traceback": [
      "\u001b[1;31m----------------------------------------------------------\u001b[0m",
      "\u001b[1;31mModuleNotFoundError\u001b[0m      Traceback (most recent call last)",
      "Input \u001b[1;32mIn [72]\u001b[0m, in \u001b[0;36m<cell line: 1>\u001b[1;34m()\u001b[0m\n\u001b[1;32m----> 1\u001b[0m \u001b[38;5;28;01mfrom\u001b[39;00m \u001b[38;5;21;01mgensim\u001b[39;00m\u001b[38;5;21;01m.\u001b[39;00m\u001b[38;5;21;01mmodels\u001b[39;00m\u001b[38;5;21;01m.\u001b[39;00m\u001b[38;5;21;01mwrappers\u001b[39;00m \u001b[38;5;28;01mimport\u001b[39;00m FastText\n",
      "\u001b[1;31mModuleNotFoundError\u001b[0m: No module named 'gensim.models.wrappers'"
     ]
    }
   ],
   "source": [
    "from gensim.models.wrappers import FastText\n",
    "\n",
    "#model = FastText.load_fasttext_format('wiki.simple')"
   ]
  },
  {
   "cell_type": "code",
   "execution_count": 2,
   "id": "c9c63bd2",
   "metadata": {},
   "outputs": [],
   "source": [
    "import gensim"
   ]
  },
  {
   "cell_type": "code",
   "execution_count": 3,
   "id": "7fa0aad1",
   "metadata": {},
   "outputs": [
    {
     "name": "stdout",
     "output_type": "stream",
     "text": [
      "ERROR! Session/line number was not unique in database. History logging moved to new session 70\n"
     ]
    },
    {
     "ename": "NotImplementedError",
     "evalue": "Supervised fastText models are not supported",
     "output_type": "error",
     "traceback": [
      "\u001b[1;31m---------------------------------------------------------------------------\u001b[0m",
      "\u001b[1;31mNotImplementedError\u001b[0m                       Traceback (most recent call last)",
      "Input \u001b[1;32mIn [3]\u001b[0m, in \u001b[0;36m<cell line: 2>\u001b[1;34m()\u001b[0m\n\u001b[0;32m      1\u001b[0m path \u001b[38;5;241m=\u001b[39m \u001b[38;5;124m\"\u001b[39m\u001b[38;5;124m../../../../cc.en.300.vec\u001b[39m\u001b[38;5;124m\"\u001b[39m\n\u001b[1;32m----> 2\u001b[0m model4 \u001b[38;5;241m=\u001b[39m \u001b[43mgensim\u001b[49m\u001b[38;5;241;43m.\u001b[39;49m\u001b[43mmodels\u001b[49m\u001b[38;5;241;43m.\u001b[39;49m\u001b[43mfasttext\u001b[49m\u001b[38;5;241;43m.\u001b[39;49m\u001b[43mload_facebook_vectors\u001b[49m\u001b[43m(\u001b[49m\u001b[43mpath\u001b[49m\u001b[43m)\u001b[49m\n",
      "File \u001b[1;32m~\\Personal Files [Local]\\Applied Data Science\\Thesis - CITYNET\\venv_citynet2\\lib\\site-packages\\gensim\\models\\fasttext.py:784\u001b[0m, in \u001b[0;36mload_facebook_vectors\u001b[1;34m(path, encoding)\u001b[0m\n\u001b[0;32m    731\u001b[0m \u001b[38;5;28;01mdef\u001b[39;00m \u001b[38;5;21mload_facebook_vectors\u001b[39m(path, encoding\u001b[38;5;241m=\u001b[39m\u001b[38;5;124m'\u001b[39m\u001b[38;5;124mutf-8\u001b[39m\u001b[38;5;124m'\u001b[39m):\n\u001b[0;32m    732\u001b[0m     \u001b[38;5;124;03m\"\"\"Load word embeddings from a model saved in Facebook's native fasttext `.bin` format.\u001b[39;00m\n\u001b[0;32m    733\u001b[0m \n\u001b[0;32m    734\u001b[0m \u001b[38;5;124;03m    Notes\u001b[39;00m\n\u001b[1;32m   (...)\u001b[0m\n\u001b[0;32m    782\u001b[0m \n\u001b[0;32m    783\u001b[0m \u001b[38;5;124;03m    \"\"\"\u001b[39;00m\n\u001b[1;32m--> 784\u001b[0m     full_model \u001b[38;5;241m=\u001b[39m \u001b[43m_load_fasttext_format\u001b[49m\u001b[43m(\u001b[49m\u001b[43mpath\u001b[49m\u001b[43m,\u001b[49m\u001b[43m \u001b[49m\u001b[43mencoding\u001b[49m\u001b[38;5;241;43m=\u001b[39;49m\u001b[43mencoding\u001b[49m\u001b[43m,\u001b[49m\u001b[43m \u001b[49m\u001b[43mfull_model\u001b[49m\u001b[38;5;241;43m=\u001b[39;49m\u001b[38;5;28;43;01mFalse\u001b[39;49;00m\u001b[43m)\u001b[49m\n\u001b[0;32m    785\u001b[0m     \u001b[38;5;28;01mreturn\u001b[39;00m full_model\u001b[38;5;241m.\u001b[39mwv\n",
      "File \u001b[1;32m~\\Personal Files [Local]\\Applied Data Science\\Thesis - CITYNET\\venv_citynet2\\lib\\site-packages\\gensim\\models\\fasttext.py:808\u001b[0m, in \u001b[0;36m_load_fasttext_format\u001b[1;34m(model_file, encoding, full_model)\u001b[0m\n\u001b[0;32m    789\u001b[0m \u001b[38;5;124;03m\"\"\"Load the input-hidden weight matrix from Facebook's native fasttext `.bin` output files.\u001b[39;00m\n\u001b[0;32m    790\u001b[0m \n\u001b[0;32m    791\u001b[0m \u001b[38;5;124;03mParameters\u001b[39;00m\n\u001b[1;32m   (...)\u001b[0m\n\u001b[0;32m    805\u001b[0m \n\u001b[0;32m    806\u001b[0m \u001b[38;5;124;03m\"\"\"\u001b[39;00m\n\u001b[0;32m    807\u001b[0m \u001b[38;5;28;01mwith\u001b[39;00m utils\u001b[38;5;241m.\u001b[39mopen(model_file, \u001b[38;5;124m'\u001b[39m\u001b[38;5;124mrb\u001b[39m\u001b[38;5;124m'\u001b[39m) \u001b[38;5;28;01mas\u001b[39;00m fin:\n\u001b[1;32m--> 808\u001b[0m     m \u001b[38;5;241m=\u001b[39m \u001b[43mgensim\u001b[49m\u001b[38;5;241;43m.\u001b[39;49m\u001b[43mmodels\u001b[49m\u001b[38;5;241;43m.\u001b[39;49m\u001b[43m_fasttext_bin\u001b[49m\u001b[38;5;241;43m.\u001b[39;49m\u001b[43mload\u001b[49m\u001b[43m(\u001b[49m\u001b[43mfin\u001b[49m\u001b[43m,\u001b[49m\u001b[43m \u001b[49m\u001b[43mencoding\u001b[49m\u001b[38;5;241;43m=\u001b[39;49m\u001b[43mencoding\u001b[49m\u001b[43m,\u001b[49m\u001b[43m \u001b[49m\u001b[43mfull_model\u001b[49m\u001b[38;5;241;43m=\u001b[39;49m\u001b[43mfull_model\u001b[49m\u001b[43m)\u001b[49m\n\u001b[0;32m    810\u001b[0m model \u001b[38;5;241m=\u001b[39m FastText(\n\u001b[0;32m    811\u001b[0m     vector_size\u001b[38;5;241m=\u001b[39mm\u001b[38;5;241m.\u001b[39mdim,\n\u001b[0;32m    812\u001b[0m     window\u001b[38;5;241m=\u001b[39mm\u001b[38;5;241m.\u001b[39mws,\n\u001b[1;32m   (...)\u001b[0m\n\u001b[0;32m    821\u001b[0m     max_n\u001b[38;5;241m=\u001b[39mm\u001b[38;5;241m.\u001b[39mmaxn,\n\u001b[0;32m    822\u001b[0m )\n\u001b[0;32m    823\u001b[0m model\u001b[38;5;241m.\u001b[39mcorpus_total_words \u001b[38;5;241m=\u001b[39m m\u001b[38;5;241m.\u001b[39mntokens\n",
      "File \u001b[1;32m~\\Personal Files [Local]\\Applied Data Science\\Thesis - CITYNET\\venv_citynet2\\lib\\site-packages\\gensim\\models\\_fasttext_bin.py:345\u001b[0m, in \u001b[0;36mload\u001b[1;34m(fin, encoding, full_model)\u001b[0m\n\u001b[0;32m    342\u001b[0m \u001b[38;5;28;01mif\u001b[39;00m \u001b[38;5;129;01mnot\u001b[39;00m new_format:\n\u001b[0;32m    343\u001b[0m     model\u001b[38;5;241m.\u001b[39mupdate(dim\u001b[38;5;241m=\u001b[39mmagic, ws\u001b[38;5;241m=\u001b[39mversion)\n\u001b[1;32m--> 345\u001b[0m raw_vocab, vocab_size, nwords, ntokens \u001b[38;5;241m=\u001b[39m \u001b[43m_load_vocab\u001b[49m\u001b[43m(\u001b[49m\u001b[43mfin\u001b[49m\u001b[43m,\u001b[49m\u001b[43m \u001b[49m\u001b[43mnew_format\u001b[49m\u001b[43m,\u001b[49m\u001b[43m \u001b[49m\u001b[43mencoding\u001b[49m\u001b[38;5;241;43m=\u001b[39;49m\u001b[43mencoding\u001b[49m\u001b[43m)\u001b[49m\n\u001b[0;32m    346\u001b[0m model\u001b[38;5;241m.\u001b[39mupdate(raw_vocab\u001b[38;5;241m=\u001b[39mraw_vocab, vocab_size\u001b[38;5;241m=\u001b[39mvocab_size, nwords\u001b[38;5;241m=\u001b[39mnwords, ntokens\u001b[38;5;241m=\u001b[39mntokens)\n\u001b[0;32m    348\u001b[0m vectors_ngrams \u001b[38;5;241m=\u001b[39m _load_matrix(fin, new_format\u001b[38;5;241m=\u001b[39mnew_format)\n",
      "File \u001b[1;32m~\\Personal Files [Local]\\Applied Data Science\\Thesis - CITYNET\\venv_citynet2\\lib\\site-packages\\gensim\\models\\_fasttext_bin.py:198\u001b[0m, in \u001b[0;36m_load_vocab\u001b[1;34m(fin, new_format, encoding)\u001b[0m\n\u001b[0;32m    196\u001b[0m \u001b[38;5;66;03m# Vocab stored by [Dictionary::save](https://github.com/facebookresearch/fastText/blob/master/src/dictionary.cc)\u001b[39;00m\n\u001b[0;32m    197\u001b[0m \u001b[38;5;28;01mif\u001b[39;00m nlabels \u001b[38;5;241m>\u001b[39m \u001b[38;5;241m0\u001b[39m:\n\u001b[1;32m--> 198\u001b[0m     \u001b[38;5;28;01mraise\u001b[39;00m \u001b[38;5;167;01mNotImplementedError\u001b[39;00m(\u001b[38;5;124m\"\u001b[39m\u001b[38;5;124mSupervised fastText models are not supported\u001b[39m\u001b[38;5;124m\"\u001b[39m)\n\u001b[0;32m    199\u001b[0m logger\u001b[38;5;241m.\u001b[39minfo(\u001b[38;5;124m\"\u001b[39m\u001b[38;5;124mloading \u001b[39m\u001b[38;5;132;01m%s\u001b[39;00m\u001b[38;5;124m words for fastText model from \u001b[39m\u001b[38;5;132;01m%s\u001b[39;00m\u001b[38;5;124m\"\u001b[39m, vocab_size, fin\u001b[38;5;241m.\u001b[39mname)\n\u001b[0;32m    201\u001b[0m ntokens \u001b[38;5;241m=\u001b[39m _struct_unpack(fin, \u001b[38;5;124m'\u001b[39m\u001b[38;5;124m@q\u001b[39m\u001b[38;5;124m'\u001b[39m)[\u001b[38;5;241m0\u001b[39m]  \u001b[38;5;66;03m# number of tokens\u001b[39;00m\n",
      "\u001b[1;31mNotImplementedError\u001b[0m: Supervised fastText models are not supported"
     ]
    }
   ],
   "source": [
    "path = \"../../../../cc.en.300.vec\"\n",
    "model4 = gensim.models.fasttext.load_facebook_vectors(path)\n",
    "# model3 = gensim.models.fasttext.load_facebook_model(path, encoding='utf-8')"
   ]
  },
  {
   "cell_type": "code",
   "execution_count": 68,
   "id": "9856fec4",
   "metadata": {},
   "outputs": [
    {
     "ename": "UnpicklingError",
     "evalue": "invalid load key, '\\xba'.",
     "output_type": "error",
     "traceback": [
      "\u001b[1;31m----------------------------------------------------------\u001b[0m",
      "\u001b[1;31mUnpicklingError\u001b[0m          Traceback (most recent call last)",
      "Input \u001b[1;32mIn [68]\u001b[0m, in \u001b[0;36m<cell line: 6>\u001b[1;34m()\u001b[0m\n\u001b[0;32m      2\u001b[0m \u001b[38;5;28;01mfrom\u001b[39;00m \u001b[38;5;21;01mgensim\u001b[39;00m\u001b[38;5;21;01m.\u001b[39;00m\u001b[38;5;21;01mmodels\u001b[39;00m \u001b[38;5;28;01mimport\u001b[39;00m KeyedVectors, Word2Vec\n\u001b[0;32m      4\u001b[0m \u001b[38;5;66;03m# wv_from_bin = KeyedVectors.load_word2vec_format(datapath(\"cc.en.300.bin\"), binary=True)  # C bin forma\u001b[39;00m\n\u001b[0;32m      5\u001b[0m \u001b[38;5;66;03m# word_vectors = KeyedVectors.load(\"../../../../cc.en.300.bin\")\u001b[39;00m\n\u001b[1;32m----> 6\u001b[0m word_vectors2 \u001b[38;5;241m=\u001b[39m \u001b[43mWord2Vec\u001b[49m\u001b[38;5;241;43m.\u001b[39;49m\u001b[43mload\u001b[49m\u001b[43m(\u001b[49m\u001b[38;5;124;43m\"\u001b[39;49m\u001b[38;5;124;43m../../../../cc.en.300.bin\u001b[39;49m\u001b[38;5;124;43m\"\u001b[39;49m\u001b[43m)\u001b[49m\n",
      "File \u001b[1;32m~\\Personal Files [Local]\\Applied Data Science\\Thesis - CITYNET\\venv_citynet2\\lib\\site-packages\\gensim\\models\\word2vec.py:1939\u001b[0m, in \u001b[0;36mWord2Vec.load\u001b[1;34m(cls, rethrow, *args, **kwargs)\u001b[0m\n\u001b[0;32m   1920\u001b[0m \u001b[38;5;124;03m\"\"\"Load a previously saved :class:`~gensim.models.word2vec.Word2Vec` model.\u001b[39;00m\n\u001b[0;32m   1921\u001b[0m \n\u001b[0;32m   1922\u001b[0m \u001b[38;5;124;03mSee Also\u001b[39;00m\n\u001b[1;32m   (...)\u001b[0m\n\u001b[0;32m   1936\u001b[0m \n\u001b[0;32m   1937\u001b[0m \u001b[38;5;124;03m\"\"\"\u001b[39;00m\n\u001b[0;32m   1938\u001b[0m \u001b[38;5;28;01mtry\u001b[39;00m:\n\u001b[1;32m-> 1939\u001b[0m     model \u001b[38;5;241m=\u001b[39m \u001b[38;5;28msuper\u001b[39m(Word2Vec, \u001b[38;5;28mcls\u001b[39m)\u001b[38;5;241m.\u001b[39mload(\u001b[38;5;241m*\u001b[39margs, \u001b[38;5;241m*\u001b[39m\u001b[38;5;241m*\u001b[39mkwargs)\n\u001b[0;32m   1940\u001b[0m     \u001b[38;5;28;01mif\u001b[39;00m \u001b[38;5;129;01mnot\u001b[39;00m \u001b[38;5;28misinstance\u001b[39m(model, Word2Vec):\n\u001b[0;32m   1941\u001b[0m         rethrow \u001b[38;5;241m=\u001b[39m \u001b[38;5;28;01mTrue\u001b[39;00m\n",
      "File \u001b[1;32m~\\Personal Files [Local]\\Applied Data Science\\Thesis - CITYNET\\venv_citynet2\\lib\\site-packages\\gensim\\utils.py:486\u001b[0m, in \u001b[0;36mSaveLoad.load\u001b[1;34m(cls, fname, mmap)\u001b[0m\n\u001b[0;32m    482\u001b[0m logger\u001b[38;5;241m.\u001b[39minfo(\u001b[38;5;124m\"\u001b[39m\u001b[38;5;124mloading \u001b[39m\u001b[38;5;132;01m%s\u001b[39;00m\u001b[38;5;124m object from \u001b[39m\u001b[38;5;132;01m%s\u001b[39;00m\u001b[38;5;124m\"\u001b[39m, \u001b[38;5;28mcls\u001b[39m\u001b[38;5;241m.\u001b[39m\u001b[38;5;18m__name__\u001b[39m, fname)\n\u001b[0;32m    484\u001b[0m compress, subname \u001b[38;5;241m=\u001b[39m SaveLoad\u001b[38;5;241m.\u001b[39m_adapt_by_suffix(fname)\n\u001b[1;32m--> 486\u001b[0m obj \u001b[38;5;241m=\u001b[39m \u001b[43munpickle\u001b[49m\u001b[43m(\u001b[49m\u001b[43mfname\u001b[49m\u001b[43m)\u001b[49m\n\u001b[0;32m    487\u001b[0m obj\u001b[38;5;241m.\u001b[39m_load_specials(fname, mmap, compress, subname)\n\u001b[0;32m    488\u001b[0m obj\u001b[38;5;241m.\u001b[39madd_lifecycle_event(\u001b[38;5;124m\"\u001b[39m\u001b[38;5;124mloaded\u001b[39m\u001b[38;5;124m\"\u001b[39m, fname\u001b[38;5;241m=\u001b[39mfname)\n",
      "File \u001b[1;32m~\\Personal Files [Local]\\Applied Data Science\\Thesis - CITYNET\\venv_citynet2\\lib\\site-packages\\gensim\\utils.py:1461\u001b[0m, in \u001b[0;36munpickle\u001b[1;34m(fname)\u001b[0m\n\u001b[0;32m   1447\u001b[0m \u001b[38;5;124;03m\"\"\"Load object from `fname`, using smart_open so that `fname` can be on S3, HDFS, compressed etc.\u001b[39;00m\n\u001b[0;32m   1448\u001b[0m \n\u001b[0;32m   1449\u001b[0m \u001b[38;5;124;03mParameters\u001b[39;00m\n\u001b[1;32m   (...)\u001b[0m\n\u001b[0;32m   1458\u001b[0m \n\u001b[0;32m   1459\u001b[0m \u001b[38;5;124;03m\"\"\"\u001b[39;00m\n\u001b[0;32m   1460\u001b[0m \u001b[38;5;28;01mwith\u001b[39;00m \u001b[38;5;28mopen\u001b[39m(fname, \u001b[38;5;124m'\u001b[39m\u001b[38;5;124mrb\u001b[39m\u001b[38;5;124m'\u001b[39m) \u001b[38;5;28;01mas\u001b[39;00m f:\n\u001b[1;32m-> 1461\u001b[0m     \u001b[38;5;28;01mreturn\u001b[39;00m \u001b[43m_pickle\u001b[49m\u001b[38;5;241;43m.\u001b[39;49m\u001b[43mload\u001b[49m\u001b[43m(\u001b[49m\u001b[43mf\u001b[49m\u001b[43m,\u001b[49m\u001b[43m \u001b[49m\u001b[43mencoding\u001b[49m\u001b[38;5;241;43m=\u001b[39;49m\u001b[38;5;124;43m'\u001b[39;49m\u001b[38;5;124;43mlatin1\u001b[39;49m\u001b[38;5;124;43m'\u001b[39;49m\u001b[43m)\u001b[49m\n",
      "\u001b[1;31mUnpicklingError\u001b[0m: invalid load key, '\\xba'."
     ]
    }
   ],
   "source": [
    "from gensim.test.utils import datapath\n",
    "from gensim.models import KeyedVectors, Word2Vec\n",
    "\n",
    "# wv_from_bin = KeyedVectors.load_word2vec_format(datapath(\"cc.en.300.bin\"), binary=True)  # C bin forma\n",
    "# word_vectors = KeyedVectors.load(\"../../../../cc.en.300.bin\")\n",
    "word_vectors2 = Word2Vec.load(\"../../../../cc.en.300.bin\")\n",
    "# wv_from_bin.save(\"cc_en_300.txt\")"
   ]
  },
  {
   "cell_type": "code",
   "execution_count": 60,
   "id": "6df84b46",
   "metadata": {},
   "outputs": [
    {
     "ename": "AttributeError",
     "evalue": "type object 'Word2Vec' has no attribute 'load_word2vec_format'",
     "output_type": "error",
     "traceback": [
      "\u001b[1;31m----------------------------------------------------------\u001b[0m",
      "\u001b[1;31mAttributeError\u001b[0m           Traceback (most recent call last)",
      "Input \u001b[1;32mIn [60]\u001b[0m, in \u001b[0;36m<cell line: 2>\u001b[1;34m()\u001b[0m\n\u001b[0;32m      1\u001b[0m \u001b[38;5;28;01mfrom\u001b[39;00m \u001b[38;5;21;01mgensim\u001b[39;00m\u001b[38;5;21;01m.\u001b[39;00m\u001b[38;5;21;01mmodels\u001b[39;00m \u001b[38;5;28;01mimport\u001b[39;00m word2vec\n\u001b[1;32m----> 2\u001b[0m model2 \u001b[38;5;241m=\u001b[39m \u001b[43mword2vec\u001b[49m\u001b[38;5;241;43m.\u001b[39;49m\u001b[43mWord2Vec\u001b[49m\u001b[38;5;241;43m.\u001b[39;49m\u001b[43mload_word2vec_format\u001b[49m(\u001b[38;5;124m\"\u001b[39m\u001b[38;5;124m..//..//..//..//cc.en.300.bin\u001b[39m\u001b[38;5;124m\"\u001b[39m, binary\u001b[38;5;241m=\u001b[39m\u001b[38;5;28;01mTrue\u001b[39;00m)\n\u001b[0;32m      3\u001b[0m model2\u001b[38;5;241m.\u001b[39msave(\u001b[38;5;124m\"\u001b[39m\u001b[38;5;124mcc_en_300.txt\u001b[39m\u001b[38;5;124m\"\u001b[39m)\n",
      "\u001b[1;31mAttributeError\u001b[0m: type object 'Word2Vec' has no attribute 'load_word2vec_format'"
     ]
    }
   ],
   "source": [
    "from gensim.models import word2vec\n",
    "model2 = word2vec.Word2Vec.load_word2vec_format(\"..//..//..//..//cc.en.300.bin\", binary=True)\n",
    "model2.save(\"cc_en_300.txt\")"
   ]
  },
  {
   "cell_type": "code",
   "execution_count": 10,
   "id": "ae4fd587",
   "metadata": {},
   "outputs": [
    {
     "ename": "NameError",
     "evalue": "name 'd' is not defined",
     "output_type": "error",
     "traceback": [
      "\u001b[1;31m----------------------------------------------------------\u001b[0m",
      "\u001b[1;31mNameError\u001b[0m                Traceback (most recent call last)",
      "Input \u001b[1;32mIn [10]\u001b[0m, in \u001b[0;36m<cell line: 2>\u001b[1;34m()\u001b[0m\n\u001b[0;32m      1\u001b[0m \u001b[38;5;66;03m# init model\u001b[39;00m\n\u001b[1;32m----> 2\u001b[0m model \u001b[38;5;241m=\u001b[39m Lbl2Vec(keywords_list\u001b[38;5;241m=\u001b[39mdescriptive_keywords, tagged_documents\u001b[38;5;241m=\u001b[39m\u001b[38;5;28;01mNone\u001b[39;00m, doc2vec_model\u001b[38;5;241m=\u001b[39m\u001b[43md\u001b[49m)\n\u001b[0;32m      3\u001b[0m \u001b[38;5;66;03m# train model\u001b[39;00m\n\u001b[0;32m      4\u001b[0m model\u001b[38;5;241m.\u001b[39mfit()\n",
      "\u001b[1;31mNameError\u001b[0m: name 'd' is not defined"
     ]
    }
   ],
   "source": [
    "# init model #pretrained_w2v_model\n",
    "model = Lbl2Vec(keywords_list=descriptive_keywords, tagged_documents=None, doc2vec_model=wv_from_bin)\n",
    "# train model\n",
    "model.fit()"
   ]
  },
  {
   "cell_type": "code",
   "execution_count": null,
   "id": "b8ac0cb3",
   "metadata": {},
   "outputs": [],
   "source": [
    "# get similarity scores for each new document from trained model\n",
    "model.predict_new_docs(tagged_docs=tagged_docs)"
   ]
  },
  {
   "cell_type": "code",
   "execution_count": null,
   "id": "95f9d74d",
   "metadata": {},
   "outputs": [],
   "source": []
  }
 ],
 "metadata": {
  "kernelspec": {
   "display_name": "Python 3 (ipykernel)",
   "language": "python",
   "name": "python3"
  },
  "language_info": {
   "codemirror_mode": {
    "name": "ipython",
    "version": 3
   },
   "file_extension": ".py",
   "mimetype": "text/x-python",
   "name": "python",
   "nbconvert_exporter": "python",
   "pygments_lexer": "ipython3",
   "version": "3.10.5"
  }
 },
 "nbformat": 4,
 "nbformat_minor": 5
}
