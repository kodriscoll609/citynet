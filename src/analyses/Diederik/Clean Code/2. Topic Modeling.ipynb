{
 "cells": [
  {
   "cell_type": "code",
   "execution_count": 1,
   "id": "10e1d29d",
   "metadata": {},
   "outputs": [
    {
     "name": "stderr",
     "output_type": "stream",
     "text": [
      "C:\\Users\\diede\\Personal Files [Local]\\Applied Data Science\\Thesis - CITYNET\\venv_citynet3\\lib\\site-packages\\past\\builtins\\misc.py:45: DeprecationWarning: the imp module is deprecated in favour of importlib; see the module's documentation for alternative uses\n",
      "  from imp import reload\n"
     ]
    }
   ],
   "source": [
    "from preprocessing_functions import *\n",
    "from topic_modeling_functions import *\n",
    "import warnings\n",
    "warnings.filterwarnings('ignore')"
   ]
  },
  {
   "cell_type": "markdown",
   "id": "c0ef021d",
   "metadata": {},
   "source": [
    "### Import Lemmatised Paragraphs"
   ]
  },
  {
   "cell_type": "code",
   "execution_count": 20,
   "id": "8017bf63",
   "metadata": {},
   "outputs": [
    {
     "data": {
      "application/vnd.jupyter.widget-view+json": {
       "model_id": "935716d1db43426eb2022c62b50d4d3d",
       "version_major": 2,
       "version_minor": 0
      },
      "text/plain": [
       "BATCHES: ['5']:   0%|          | 0/1 [00:00<?, ?it/s]"
      ]
     },
     "metadata": {},
     "output_type": "display_data"
    },
    {
     "data": {
      "application/vnd.jupyter.widget-view+json": {
       "model_id": "",
       "version_major": 2,
       "version_minor": 0
      },
      "text/plain": [
       "City Pair:   0%|          | 0/10 [00:00<?, ?it/s]"
      ]
     },
     "metadata": {},
     "output_type": "display_data"
    }
   ],
   "source": [
    "INPUT_DIR = \"../../../../../data/clean/city_pair_paragraphs3/\"\n",
    "BATCHES = [5]\n",
    "POS = [\"NOUN\", \"VERB\", \"ADJ\"]\n",
    "ONLY_ENGLISH_WORDS = True\n",
    "sort_by_paragraphs_count = True\n",
    "merged_POS = True\n",
    "\n",
    "data_list = import_lemmatised_paragraphs(INPUT_DIR, POS, BATCHES, ONLY_ENGLISH_WORDS=ONLY_ENGLISH_WORDS, merged_POS=merged_POS, sort_by_paragraphs=sort_by_paragraphs_count)"
   ]
  },
  {
   "cell_type": "markdown",
   "id": "2e36c40b",
   "metadata": {},
   "source": [
    "### Create Single Dataframe"
   ]
  },
  {
   "cell_type": "code",
   "execution_count": 109,
   "id": "7fcd9cdb",
   "metadata": {},
   "outputs": [
    {
     "data": {
      "text/html": [
       "<div>\n",
       "<style scoped>\n",
       "    .dataframe tbody tr th:only-of-type {\n",
       "        vertical-align: middle;\n",
       "    }\n",
       "\n",
       "    .dataframe tbody tr th {\n",
       "        vertical-align: top;\n",
       "    }\n",
       "\n",
       "    .dataframe thead th {\n",
       "        text-align: right;\n",
       "    }\n",
       "</style>\n",
       "<table border=\"1\" class=\"dataframe\">\n",
       "  <thead>\n",
       "    <tr style=\"text-align: right;\">\n",
       "      <th></th>\n",
       "      <th>paragraph_id</th>\n",
       "      <th>city_pair</th>\n",
       "      <th>paragraph</th>\n",
       "      <th>merged_POS</th>\n",
       "    </tr>\n",
       "  </thead>\n",
       "  <tbody>\n",
       "    <tr>\n",
       "      <th>0</th>\n",
       "      <td>1</td>\n",
       "      <td>berlin_milan</td>\n",
       "      <td>after his tenure in academia, he continued to ...</td>\n",
       "      <td>[tenure, academia, month, year, travel, incide...</td>\n",
       "    </tr>\n",
       "    <tr>\n",
       "      <th>1</th>\n",
       "      <td>2</td>\n",
       "      <td>berlin_milan</td>\n",
       "      <td>one of the astronomers selected for the search...</td>\n",
       "      <td>[astronomer, search, priest, invitation, group...</td>\n",
       "    </tr>\n",
       "    <tr>\n",
       "      <th>2</th>\n",
       "      <td>3</td>\n",
       "      <td>berlin_milan</td>\n",
       "      <td>there are plenty of air connections between ye...</td>\n",
       "      <td>[plenty, air, connection, city, connection, ci...</td>\n",
       "    </tr>\n",
       "    <tr>\n",
       "      <th>3</th>\n",
       "      <td>4</td>\n",
       "      <td>berlin_milan</td>\n",
       "      <td>since 2009, 'the brandery', an urban fashion s...</td>\n",
       "      <td>[fashion, year, language, monitor, ranking, wo...</td>\n",
       "    </tr>\n",
       "    <tr>\n",
       "      <th>4</th>\n",
       "      <td>5</td>\n",
       "      <td>berlin_milan</td>\n",
       "      <td>when considering the commuter belts or metropo...</td>\n",
       "      <td>[commuter, belt, area, datum, population, orde...</td>\n",
       "    </tr>\n",
       "    <tr>\n",
       "      <th>...</th>\n",
       "      <td>...</td>\n",
       "      <td>...</td>\n",
       "      <td>...</td>\n",
       "      <td>...</td>\n",
       "    </tr>\n",
       "    <tr>\n",
       "      <th>50491</th>\n",
       "      <td>50891</td>\n",
       "      <td>paris_milan</td>\n",
       "      <td>the impressions that he had made by his speech...</td>\n",
       "      <td>[impression, speech, debate, invitation, repre...</td>\n",
       "    </tr>\n",
       "    <tr>\n",
       "      <th>50492</th>\n",
       "      <td>50892</td>\n",
       "      <td>paris_milan</td>\n",
       "      <td>a journey to paris in 1790 provided him furthe...</td>\n",
       "      <td>[journey, acquaintance, idea, year, city, gran...</td>\n",
       "    </tr>\n",
       "    <tr>\n",
       "      <th>50493</th>\n",
       "      <td>50893</td>\n",
       "      <td>paris_milan</td>\n",
       "      <td>the 1993–94 uefa champions league was the 39th...</td>\n",
       "      <td>[season, club, football, tournament, season, l...</td>\n",
       "    </tr>\n",
       "    <tr>\n",
       "      <th>50494</th>\n",
       "      <td>50894</td>\n",
       "      <td>paris_milan</td>\n",
       "      <td>kaya has been modeling since the age of 14. sh...</td>\n",
       "      <td>[age, street, career, fashion, world, catalogu...</td>\n",
       "    </tr>\n",
       "    <tr>\n",
       "      <th>50495</th>\n",
       "      <td>50895</td>\n",
       "      <td>paris_milan</td>\n",
       "      <td>he was born as donald marc blumberg in new hav...</td>\n",
       "      <td>[art, drama, costume, clothing, designer, desi...</td>\n",
       "    </tr>\n",
       "  </tbody>\n",
       "</table>\n",
       "<p>50496 rows × 4 columns</p>\n",
       "</div>"
      ],
      "text/plain": [
       "       paragraph_id     city_pair  \\\n",
       "0                 1  berlin_milan   \n",
       "1                 2  berlin_milan   \n",
       "2                 3  berlin_milan   \n",
       "3                 4  berlin_milan   \n",
       "4                 5  berlin_milan   \n",
       "...             ...           ...   \n",
       "50491         50891   paris_milan   \n",
       "50492         50892   paris_milan   \n",
       "50493         50893   paris_milan   \n",
       "50494         50894   paris_milan   \n",
       "50495         50895   paris_milan   \n",
       "\n",
       "                                               paragraph  \\\n",
       "0      after his tenure in academia, he continued to ...   \n",
       "1      one of the astronomers selected for the search...   \n",
       "2      there are plenty of air connections between ye...   \n",
       "3      since 2009, 'the brandery', an urban fashion s...   \n",
       "4      when considering the commuter belts or metropo...   \n",
       "...                                                  ...   \n",
       "50491  the impressions that he had made by his speech...   \n",
       "50492  a journey to paris in 1790 provided him furthe...   \n",
       "50493  the 1993–94 uefa champions league was the 39th...   \n",
       "50494  kaya has been modeling since the age of 14. sh...   \n",
       "50495  he was born as donald marc blumberg in new hav...   \n",
       "\n",
       "                                              merged_POS  \n",
       "0      [tenure, academia, month, year, travel, incide...  \n",
       "1      [astronomer, search, priest, invitation, group...  \n",
       "2      [plenty, air, connection, city, connection, ci...  \n",
       "3      [fashion, year, language, monitor, ranking, wo...  \n",
       "4      [commuter, belt, area, datum, population, orde...  \n",
       "...                                                  ...  \n",
       "50491  [impression, speech, debate, invitation, repre...  \n",
       "50492  [journey, acquaintance, idea, year, city, gran...  \n",
       "50493  [season, club, football, tournament, season, l...  \n",
       "50494  [age, street, career, fashion, world, catalogu...  \n",
       "50495  [art, drama, costume, clothing, designer, desi...  \n",
       "\n",
       "[50496 rows x 4 columns]"
      ]
     },
     "execution_count": 109,
     "metadata": {},
     "output_type": "execute_result"
    }
   ],
   "source": [
    "frames = [citypair['lemmatized_paragraphs'] for citypair in data_list]\n",
    "citypairs = [citypair['city_pair'] for citypair in data_list]\n",
    "\n",
    "result = pd.concat(frames) #, keys=citypairs)\n",
    "result.set_index('paragraph_id', inplace=True)\n",
    "result.sort_index(inplace=True)\n",
    "result.reset_index(inplace=True)\n",
    "result\n",
    "# paris_london = result.loc[\"paris_london\"]\n",
    "# paris_london.set_index('paragraph_id', inplace=True)\n",
    "# paris_london\n",
    "\n",
    "result #.iloc[21051]"
   ]
  },
  {
   "cell_type": "code",
   "execution_count": 117,
   "id": "86df138e",
   "metadata": {},
   "outputs": [
    {
     "data": {
      "text/plain": [
       "0        [tenure, academia, month, year, travel, incide...\n",
       "1        [astronomer, search, priest, invitation, group...\n",
       "2        [plenty, air, connection, city, connection, ci...\n",
       "3        [fashion, year, language, monitor, ranking, wo...\n",
       "4        [commuter, belt, area, datum, population, orde...\n",
       "                               ...                        \n",
       "50491    [impression, speech, debate, invitation, repre...\n",
       "50492    [journey, acquaintance, idea, year, city, gran...\n",
       "50493    [season, club, football, tournament, season, l...\n",
       "50494    [age, street, career, fashion, world, catalogu...\n",
       "50495    [art, drama, costume, clothing, designer, desi...\n",
       "Name: merged_POS, Length: 50496, dtype: object"
      ]
     },
     "execution_count": 117,
     "metadata": {},
     "output_type": "execute_result"
    }
   ],
   "source": [
    "result.merged_POS"
   ]
  },
  {
   "cell_type": "code",
   "execution_count": 123,
   "id": "0ad5e03d",
   "metadata": {},
   "outputs": [
    {
     "data": {
      "text/plain": [
       "(22917, 43967)"
      ]
     },
     "execution_count": 123,
     "metadata": {},
     "output_type": "execute_result"
    }
   ],
   "source": [
    "indexes = result.index[result['city_pair'] == 'paris_london'].tolist()\n",
    "min(indexes), max(indexes)\n",
    "#indexes[0][1], indexes[-1][1]"
   ]
  },
  {
   "cell_type": "markdown",
   "id": "f1bd7afb",
   "metadata": {},
   "source": [
    "### Training Multiple LDA Models"
   ]
  },
  {
   "cell_type": "code",
   "execution_count": null,
   "id": "d60017d2",
   "metadata": {},
   "outputs": [],
   "source": [
    "TOPIC_SELECTION = range(2,21,1)\n",
    "list(TOPIC_SELECTION)"
   ]
  },
  {
   "cell_type": "code",
   "execution_count": null,
   "id": "8bda73bd",
   "metadata": {},
   "outputs": [],
   "source": [
    "os.path.exists(\"../../../../../data/clean/lda_models/50k_paragraphs/0.05min_0.9max/lda_model_2topics_0.05min_0.9max\")"
   ]
  },
  {
   "cell_type": "code",
   "execution_count": null,
   "id": "c2c052a7",
   "metadata": {},
   "outputs": [],
   "source": [
    "%%time\n",
    "\n",
    "TOPIC_SELECTION = range(2,21, 1)\n",
    "paragraphs = result.merged_POS\n",
    "MIN_DF = 0.1\n",
    "MAX_DF = 0.8\n",
    "\n",
    "# Vectorization\n",
    "dictionary, corpus = vectorize(paragraphs, MIN_DF=MIN_DF, MAX_DF=MAX_DF)\n",
    "\n",
    "models = compare_lda_models(OUTPUT_DIR='../../../../../data/clean/lda_models/50k_paragraphs/', TOPIC_SELECTION=TOPIC_SELECTION,\n",
    "                LEMMATIZED_TEXT=paragraphs, DICTIONARY=dictionary, CORPUS=corpus, MIN_DF=MIN_DF, MAX_DF=MAX_DF, N_ITERATIONS=1000,\n",
    "                PATH_TO_MALLET=r'C:/mallet/bin/mallet.bat', GET_COHERENCE_SCORE=True, COHERENCE='c_v')"
   ]
  },
  {
   "cell_type": "code",
   "execution_count": null,
   "id": "38f12c3b",
   "metadata": {},
   "outputs": [],
   "source": [
    "p = '../../../../../data/clean/lda_models/50k_paragraphs/0.05min_0.9max/'\n",
    "n = f\"lda_model_2topics_0.05min_0.9max\"\n",
    "#os.path.join(directory, f\"{NAME}_visualisation.html\")\n",
    "print(os.path.exists(os.path.join(p, n)))"
   ]
  },
  {
   "cell_type": "markdown",
   "id": "85bb6f4a",
   "metadata": {},
   "source": [
    "### Load Multiple LDA Models"
   ]
  },
  {
   "cell_type": "code",
   "execution_count": null,
   "id": "b23ee3a5",
   "metadata": {},
   "outputs": [],
   "source": [
    "%%time\n",
    "\n",
    "loaded_models = load_lda_models(INPUT_DIR='../../../../../data/clean/lda_models/50k_paragraphs/', LOAD_VIS=True,\n",
    "                                LOAD_DICT=True, LOAD_COHERENCE_SCORE=True)"
   ]
  },
  {
   "cell_type": "code",
   "execution_count": null,
   "id": "2586d5e5",
   "metadata": {},
   "outputs": [],
   "source": [
    "for model in loaded_models:\n",
    "    if len(model['model'].show_topics(50)) != 10:\n",
    "        print(len(model['model'].show_topics(50)), model['coherence_score'])\n",
    "        print()\n",
    "#     try:\n",
    "#         print(len(model['model'].show_topics(50)))\n",
    "#     except:\n",
    "#         print('check')\n",
    "loaded_models[13]['visualisation']"
   ]
  },
  {
   "cell_type": "code",
   "execution_count": null,
   "id": "fb12cfb8",
   "metadata": {},
   "outputs": [],
   "source": [
    "result\n",
    "# len(result.paragraph)\n"
   ]
  },
  {
   "cell_type": "code",
   "execution_count": null,
   "id": "2a52ba04",
   "metadata": {},
   "outputs": [],
   "source": [
    "# list(new_df[new_df['paragraph_id'] == 23065]['merged_POS'])[0]\n",
    "#[data_list[1]['lemmatized_paragraphs']['paragraph_id'] == 21065]"
   ]
  },
  {
   "cell_type": "code",
   "execution_count": null,
   "id": "9c8d7061",
   "metadata": {},
   "outputs": [],
   "source": [
    "loaded_models[8]['visualisation']"
   ]
  },
  {
   "cell_type": "markdown",
   "id": "e0803b52",
   "metadata": {},
   "source": [
    "### Load Chosen Model"
   ]
  },
  {
   "cell_type": "code",
   "execution_count": null,
   "id": "558edeab",
   "metadata": {},
   "outputs": [],
   "source": [
    "import pickle\n",
    "\n",
    "f = '../../../../../data/clean/lda_models/50k_paragraphs/0_05MIN_0_9MAX/lda_model_8topics_0_05min_0_9max/lda_model_8topics_0_05min_0_9max_texts.pickle'\n",
    "\n",
    "with open(f, 'rb') as fp:\n",
    "                    a = pickle.load(fp)\n",
    "\n",
    "a"
   ]
  },
  {
   "cell_type": "code",
   "execution_count": 6,
   "id": "2382891d",
   "metadata": {},
   "outputs": [
    {
     "name": "stderr",
     "output_type": "stream",
     "text": [
      "WARNING:root:random_state not set so using default value\n",
      "WARNING:root:failed to load state from C:\\Users\\diede\\Personal Files [Local]\\Applied Data Science\\Thesis - CITYNET\\data\\clean\\lda_models\\50k_paragraphs\\0_05MIN_0_9MAX\\lda_model_8topics_0_05min_0_9max\\lda_8topics_0_05min_0_9max_model_model.model.state: [Errno 2] No such file or directory: 'C:\\\\Users\\\\diede\\\\Personal Files [Local]\\\\Applied Data Science\\\\Thesis - CITYNET\\\\data\\\\clean\\\\lda_models\\\\50k_paragraphs\\\\0_05MIN_0_9MAX\\\\lda_model_8topics_0_05min_0_9max\\\\lda_8topics_0_05min_0_9max_model_model.model.state'\n"
     ]
    }
   ],
   "source": [
    "P = \"../../../../../data/clean/lda_models/50k_paragraphs/0_05MIN_0_9MAX/lda_model_8topics_0_05min_0_9max/\"\n",
    "# P = \"../../../../../data/clean/lda_models/50k_paragraphs/lda_model_8topics_0_1min_0_8max\"\n",
    "P = os.path.abspath(P)\n",
    "model = load_lda_model(P, LOAD_VIS=True, LOAD_DICT=True, LOAD_TEXTS=True, LOAD_COHERENCE_SCORE=True)\n",
    "\n",
    "# for file in os.listdir(P):\n",
    "#     #model = gensim.models.LdaModel.load(P)\n",
    "    \n",
    "    \n",
    "#     if 'dictionary' in file:\n",
    "#         print(os.path.exists(os.path.abspath(os.path.join(P, file))))\n",
    "#         # print(os.path.exists())\n",
    "\n",
    "\n",
    "# os.path.exists(os.path.join(P, os.listdir(P)[-1]))\n",
    "# os.path.exists('../../../../../data/clean/lda_models/50k_paragraphs/0_05MIN_0_9MAX/lda_model_8topics_0.05min_0.9max/lda_model_8topics_0.05min_0.9max_dictionary.dict')"
   ]
  },
  {
   "cell_type": "code",
   "execution_count": 7,
   "id": "32bdc83b",
   "metadata": {},
   "outputs": [
    {
     "data": {
      "text/plain": [
       "dict_keys(['model', 'coherence_score', 'visualisation', 'texts', 'dictionary'])"
      ]
     },
     "execution_count": 7,
     "metadata": {},
     "output_type": "execute_result"
    }
   ],
   "source": [
    "model.keys()"
   ]
  },
  {
   "cell_type": "code",
   "execution_count": 9,
   "id": "a394129d",
   "metadata": {},
   "outputs": [
    {
     "data": {
      "text/plain": [
       "0.6394110963448674"
      ]
     },
     "execution_count": 9,
     "metadata": {},
     "output_type": "execute_result"
    }
   ],
   "source": [
    "model['coherence_score']"
   ]
  },
  {
   "cell_type": "code",
   "execution_count": 10,
   "id": "07730999",
   "metadata": {},
   "outputs": [
    {
     "data": {
      "text/html": [
       "\n",
       "<link rel=\"stylesheet\" type=\"text/css\" href=\"https://cdn.jsdelivr.net/gh/bmabey/pyLDAvis@3.3.1/pyLDAvis/js/ldavis.v1.0.0.css\">\n",
       "\n",
       "\n",
       "<div id=\"ldavis_el2294425793583811044398777235\"></div>\n",
       "<script type=\"text/javascript\">\n",
       "\n",
       "var ldavis_el2294425793583811044398777235_data = {\"mdsDat\": {\"x\": [0.08304705190658766, -0.00958932027542355, 0.001184117831896712, 0.242648313223008, 0.11773135555591299, -0.06959401046408377, -0.1645737701133988, -0.2008537376644987], \"y\": [-0.06992450288492957, 0.23983024339397305, -0.18499997337328145, -0.04909316656217593, 0.12450103775794664, -0.0163348322235104, -0.12099022266115698, 0.07701141655313411], \"topics\": [1, 2, 3, 4, 5, 6, 7, 8], \"cluster\": [1, 1, 1, 1, 1, 1, 1, 1], \"Freq\": [17.83991584612318, 17.35517081252585, 15.133907797846913, 12.810076752350533, 12.435260406683305, 9.414843560185181, 8.195817387535724, 6.815007436749308]}, \"tinfo\": {\"Term\": [\"art\", \"study\", \"opera\", \"exhibition\", \"festival\", \"win\", \"perform\", \"museum\", \"gallery\", \"work\", \"school\", \"fashion\", \"film\", \"music\", \"bear\", \"exhibit\", \"orchestra\", \"painting\", \"play\", \"concert\", \"company\", \"final\", \"artist\", \"club\", \"team\", \"performance\", \"office\", \"season\", \"professor\", \"symphony\", \"cere\", \"zodiacal\", \"scathing\", \"celebratory\", \"reminder\", \"schoolgirl\", \"canzo\", \"fashioned\", \"girlfriend\", \"layover\", \"zoroastrian\", \"socialistic\", \"betake\", \"coincidence\", \"epiphany\", \"evocation\", \"stray\", \"embellish\", \"frazer\", \"habituate\", \"shrew\", \"unlicensed\", \"ambrosian\", \"annotated\", \"annotation\", \"helper\", \"taverna\", \"flamboyant\", \"loosen\", \"shenanigan\", \"reprint\", \"poverty\", \"vol\", \"jewel\", \"recount\", \"satirical\", \"freud\", \"republish\", \"fictional\", \"autobiographical\", \"hate\", \"unpublished\", \"smallpox\", \"nun\", \"homosexual\", \"gossip\", \"spike\", \"satire\", \"curious\", \"prostitution\", \"lodging\", \"delight\", \"folio\", \"abortion\", \"autograph\", \"humble\", \"diagnose\", \"foreword\", \"recollection\", \"cry\", \"manuscript\", \"chronicle\", \"poem\", \"prose\", \"memoir\", \"autobiography\", \"publish\", \"volume\", \"wedding\", \"book\", \"translation\", \"story\", \"literary\", \"poet\", \"write\", \"essay\", \"translate\", \"husband\", \"biography\", \"poetry\", \"sex\", \"life\", \"marriage\", \"text\", \"friend\", \"copy\", \"author\", \"letter\", \"describe\", \"edition\", \"writing\", \"writer\", \"find\", \"wife\", \"couple\", \"meet\", \"marry\", \"leave\", \"daughter\", \"travel\", \"death\", \"live\", \"return\", \"die\", \"family\", \"time\", \"english\", \"year\", \"visit\", \"work\", \"man\", \"child\", \"move\", \"spend\", \"french\", \"young\", \"early\", \"son\", \"give\", \"begin\", \"opera\", \"album\", \"wagnerian\", \"clarinetist\", \"instrumentalist\", \"orchestra\", \"lohengrin\", \"lulu\", \"bender\", \"loge\", \"osmin\", \"puccini\", \"mignon\", \"choreographer\", \"phrasing\", \"impresario\", \"verismo\", \"expressiveness\", \"guitarist\", \"quintet\", \"figaro\", \"stravinsky\", \"choreograph\", \"percussion\", \"clavier\", \"calla\", \"concertante\", \"lucia\", \"behemoth\", \"alberich\", \"concert\", \"symphony\", \"sing\", \"perform\", \"premiere\", \"ballet\", \"recording\", \"conductor\", \"recital\", \"soloist\", \"concerto\", \"band\", \"ensemble\", \"soprano\", \"operatic\", \"tenor\", \"performer\", \"covent\", \"repertoire\", \"comique\", \"song\", \"orchestral\", \"libretto\", \"flute\", \"baritone\", \"guitar\", \"prom\", \"festival\", \"quartet\", \"theatre\", \"performance\", \"film\", \"dance\", \"music\", \"jazz\", \"role\", \"theater\", \"production\", \"debut\", \"musical\", \"composer\", \"tour\", \"release\", \"conduct\", \"play\", \"singer\", \"record\", \"stage\", \"include\", \"house\", \"world\", \"year\", \"work\", \"international\", \"overthrow\", \"blockade\", \"lawful\", \"violation\", \"piedmontese\", \"sedition\", \"mandate\", \"sovereignty\", \"khedive\", \"termination\", \"emden\", \"interfaith\", \"anticommunist\", \"agitate\", \"indict\", \"terrorism\", \"accountability\", \"disgruntle\", \"inimical\", \"irredentist\", \"neutralise\", \"legation\", \"containment\", \"reconstitute\", \"worsening\", \"presidium\", \"inhabited\", \"territorial\", \"extradite\", \"misfire\", \"treaty\", \"ally\", \"delegation\", \"allied\", \"envoy\", \"communist\", \"protest\", \"invade\", \"posting\", \"protester\", \"terrorist\", \"counsellor\", \"solidarity\", \"consulate\", \"democracy\", \"pact\", \"nationalist\", \"ottoman\", \"troop\", \"bolshevik\", \"protocol\", \"entente\", \"provisional\", \"arbitration\", \"killing\", \"reparation\", \"diplomatic\", \"regime\", \"negotiation\", \"armed\", \"embassy\", \"peace\", \"minister\", \"commander\", \"democratic\", \"mission\", \"bombing\", \"arrest\", \"soviet\", \"government\", \"secretary\", \"ambassador\", \"military\", \"war\", \"army\", \"delegate\", \"alliance\", \"attack\", \"foreign\", \"force\", \"officer\", \"anti\", \"command\", \"political\", \"german\", \"general\", \"british\", \"conference\", \"party\", \"exile\", \"french\", \"send\", \"affair\", \"serve\", \"support\", \"appoint\", \"state\", \"member\", \"country\", \"return\", \"order\", \"hold\", \"year\", \"join\", \"time\", \"lead\", \"follow\", \"elementary\", \"professorship\", \"pedagogy\", \"heiling\", \"dissertation\", \"exam\", \"anatomic\", \"anatomical\", \"biology\", \"clinical\", \"excitability\", \"fasciculus\", \"medicine\", \"nosological\", \"pathological\", \"pathology\", \"surgical\", \"dali\", \"lumberman\", \"maidenhood\", \"insularity\", \"lecturer\", \"hine\", \"eth\", \"faculty\", \"postgraduate\", \"demography\", \"anthropometry\", \"physics\", \"sociology\", \"professor\", \"doctorate\", \"graduate\", \"bachelor\", \"doctoral\", \"surgeon\", \"undergraduate\", \"philology\", \"habilitation\", \"psychology\", \"physiology\", \"mathematic\", \"geology\", \"rector\", \"university\", \"postdoctoral\", \"laude\", \"geological\", \"degree\", \"school\", \"philosophy\", \"college\", \"study\", \"mathematical\", \"science\", \"thesis\", \"chemistry\", \"education\", \"scholarship\", \"educate\", \"physician\", \"medical\", \"student\", \"teach\", \"academic\", \"enrol\", \"bear\", \"research\", \"teacher\", \"attend\", \"father\", \"fellow\", \"society\", \"hospital\", \"assistant\", \"economic\", \"move\", \"member\", \"family\", \"receive\", \"year\", \"history\", \"work\", \"son\", \"spend\", \"return\", \"visit\", \"age\", \"art\", \"live\", \"begin\", \"time\", \"gallery\", \"pinacoteca\", \"apotheosis\", \"exhibit\", \"sculpture\", \"altarpiece\", \"annunciation\", \"jerome\", \"lateran\", \"madonna\", \"medallic\", \"retrospective\", \"decorative\", \"corkscrew\", \"counterculture\", \"tracing\", \"antinous\", \"medjidie\", \"tempera\", \"tillman\", \"biennial\", \"resynthesis\", \"coloring\", \"morbidezza\", \"widener\", \"alchemical\", \"geometrical\", \"triste\", \"zeitgeist\", \"binding\", \"museum\", \"exhibition\", \"tate\", \"painting\", \"mural\", \"impressionist\", \"abstract\", \"serpentine\", \"hermitage\", \"watercolor\", \"biennale\", \"plaster\", \"figurative\", \"futurist\", \"fresco\", \"etching\", \"abstraction\", \"tapestry\", \"watercolour\", \"skull\", \"surrealism\", \"etch\", \"portraiture\", \"landscape\", \"artwork\", \"curate\", \"canvas\", \"portrait\", \"art\", \"paint\", \"bust\", \"drawing\", \"installation\", \"contemporary\", \"painter\", \"exposition\", \"photography\", \"artist\", \"fine\", \"salon\", \"collection\", \"modern\", \"display\", \"solo\", \"work\", \"fair\", \"design\", \"show\", \"national\", \"include\", \"studio\", \"hold\", \"project\", \"international\", \"center\", \"group\", \"academy\", \"award\", \"year\", \"world\", \"present\", \"city\", \"fashion\", \"acne\", \"parity\", \"chantry\", \"salsa\", \"neverland\", \"hardcore\", \"prioritize\", \"cosmetic\", \"estimative\", \"retailer\", \"distributor\", \"refrigeration\", \"android\", \"io\", \"licensed\", \"dionysian\", \"tinder\", \"catwalk\", \"capsule\", \"obesity\", \"olfaction\", \"corset\", \"wired\", \"rebuilt\", \"glovemaker\", \"app\", \"gorilla\", \"billabong\", \"outfitter\", \"boutique\", \"retail\", \"equity\", \"bazaar\", \"showroom\", \"startup\", \"burberry\", \"chinatown\", \"brokerage\", \"turnover\", \"upscale\", \"ford\", \"couture\", \"apparel\", \"dazed\", \"sportswear\", \"consumer\", \"vogue\", \"rodeo\", \"merchandise\", \"bourse\", \"milliner\", \"store\", \"brand\", \"flagship\", \"corporate\", \"accessory\", \"software\", \"investment\", \"modeling\", \"headquarter\", \"model\", \"advertising\", \"outlet\", \"firm\", \"agency\", \"runway\", \"clothing\", \"shopping\", \"designer\", \"walk\", \"office\", \"global\", \"management\", \"product\", \"market\", \"week\", \"client\", \"company\", \"hotel\", \"business\", \"open\", \"bank\", \"location\", \"industry\", \"branch\", \"design\", \"magazine\", \"city\", \"amp\", \"base\", \"world\", \"include\", \"capital\", \"international\", \"found\", \"launch\", \"establish\", \"european\", \"year\", \"work\", \"show\", \"group\", \"airport\", \"passenger\", \"commuter\", \"megacity\", \"airline\", \"mhz\", \"aircraft\", \"periphery\", \"aviation\", \"haul\", \"nonstop\", \"clipper\", \"vermilion\", \"intercity\", \"northernmost\", \"outlying\", \"transcontinental\", \"subway\", \"terminus\", \"railroading\", \"mainline\", \"turboprop\", \"gaus\", \"pram\", \"trackage\", \"concessionaire\", \"autobahn\", \"encircle\", \"median\", \"motorway\", \"engine\", \"rail\", \"flight\", \"carrier\", \"tram\", \"airfield\", \"terminal\", \"freight\", \"airplane\", \"airliner\", \"aerodrome\", \"monoplane\", \"timetable\", \"regularity\", \"spider\", \"emission\", \"livery\", \"route\", \"speed\", \"tunnel\", \"railway\", \"solar\", \"traffic\", \"gauge\", \"pilot\", \"metro\", \"destination\", \"fly\", \"vehicle\", \"air\", \"lease\", \"station\", \"steam\", \"car\", \"transport\", \"line\", \"service\", \"km\", \"system\", \"operate\", \"build\", \"train\", \"construction\", \"connect\", \"city\", \"area\", \"building\", \"hour\", \"plan\", \"large\", \"road\", \"network\", \"high\", \"include\", \"time\", \"begin\", \"company\", \"start\", \"year\", \"serve\", \"international\", \"athlete\", \"championship\", \"rous\", \"marathon\", \"aggregate\", \"cup\", \"wrestling\", \"tourn\", \"trophy\", \"creditable\", \"drubbing\", \"midfield\", \"li\", \"scorer\", \"teammate\", \"tournament\", \"packed\", \"unbeaten\", \"goalless\", \"gymnast\", \"boxing\", \"campsite\", \"hockey\", \"quadrangular\", \"knockout\", \"ostia\", \"vv\", \"midfielder\", \"velodrome\", \"playoff\", \"olympic\", \"semifinal\", \"football\", \"quarterfinal\", \"sprint\", \"goalkeeper\", \"freestyle\", \"fencing\", \"heavyweight\", \"footballer\", \"soccer\", \"hurdle\", \"ajax\", \"brace\", \"header\", \"olympiad\", \"match\", \"game\", \"chess\", \"athletic\", \"champion\", \"lap\", \"runner\", \"basketball\", \"goal\", \"team\", \"race\", \"final\", \"tennis\", \"player\", \"compete\", \"win\", \"round\", \"stadium\", \"club\", \"finish\", \"league\", \"beat\", \"defeat\", \"season\", \"score\", \"victory\", \"lose\", \"winner\", \"competition\", \"event\", \"host\", \"play\", \"place\", \"time\", \"hold\", \"year\", \"world\", \"title\", \"tour\", \"record\"], \"Freq\": [15792.0, 11636.0, 10520.0, 6101.0, 7560.0, 6332.0, 7029.0, 4917.0, 4759.0, 19063.0, 5382.0, 3770.0, 6971.0, 6241.0, 6760.0, 3584.0, 4222.0, 3561.0, 5544.0, 3828.0, 5260.0, 2833.0, 4627.0, 3075.0, 2467.0, 4087.0, 3295.0, 2899.0, 2544.0, 2936.0, 7.388115802246766, 2.1108902292133616, 4.221780458426723, 8.443560916853446, 10.554451146066809, 8.443560916853446, 1.0554451146066808, 14.776231604493532, 47.49503015730063, 8.443560916853446, 8.443560916853446, 2.1108902292133616, 1.0554451146066808, 9.499006031460128, 7.388115802246766, 10.554451146066809, 11.609896260673487, 17.942566948313573, 1.0554451146066808, 1.0554451146066808, 7.388115802246766, 11.609896260673487, 8.443560916853446, 5.277225573033404, 9.499006031460128, 7.388115802246766, 1.0554451146066808, 16.887121833706892, 3.1663353438200423, 1.0554451146066808, 100.26728588763467, 85.49105428314115, 189.98012062920253, 61.21581664718749, 55.93859107415408, 54.8831459595474, 51.716810615727354, 51.716810615727354, 46.43958504269395, 46.43958504269395, 45.38413992808728, 44.32869481348059, 42.217804584267235, 41.16235946966055, 41.16235946966055, 40.106914355053874, 37.99602412584051, 36.94057901123383, 36.94057901123383, 35.885133896627146, 35.885133896627146, 34.82968878202047, 34.82968878202047, 32.7187985528071, 32.7187985528071, 32.7187985528071, 31.663353438200424, 30.607908323593744, 30.607908323593744, 88.65738962696118, 487.6156429482865, 99.21184077302799, 466.5067406561529, 79.15838359550106, 214.2553582651562, 104.48906634606139, 3209.608593518916, 465.45129554154624, 180.4811145977424, 2433.856434283006, 583.6611483774944, 819.0254089347843, 559.3859107415408, 439.0651676763792, 3086.1215151099345, 282.85929071459043, 498.1700940943533, 651.209635712322, 148.817761159542, 385.23746683143844, 121.37618817976829, 1973.682364314493, 510.8354354696335, 351.4632231640247, 1285.5321495909373, 556.2195753977207, 582.6057032628878, 784.1957201527639, 829.5798600808511, 825.3580796224244, 452.78595416626604, 789.4729457257972, 1401.6311121976719, 1015.338200251627, 484.44930760446647, 1678.1577322246226, 1080.7757973572411, 1839.6408347594447, 899.239237644892, 2043.341741878534, 998.45107841792, 1956.795242480786, 2443.3554403144663, 1411.1301182291322, 1539.8944222111472, 3123.0620941211687, 1014.2827551370202, 3276.1016357391372, 1439.6271363235128, 3472.4144270559796, 1012.1718649078068, 971.0095054381463, 1536.7280868673272, 1071.276791325781, 1315.0846127999243, 938.2907068853393, 964.6768347505063, 904.5164632179254, 930.9025910830925, 916.1263594785989, 10520.776366144244, 2214.7377141883217, 35.00747665383679, 17.503738326918395, 17.503738326918395, 4222.5194634524905, 97.81500829748515, 33.97784498754747, 9.266684996603855, 17.503738326918395, 9.266684996603855, 112.22985162553559, 37.06673998641542, 145.17806494679374, 13.385211661761126, 70.01495330767358, 26.77042332352225, 17.503738326918395, 121.49653662213944, 37.06673998641542, 97.81500829748515, 79.28163830427744, 122.52616828842876, 44.27416165044065, 9.266684996603855, 17.503738326918395, 9.266684996603855, 9.266684996603855, 9.266684996603855, 13.385211661761126, 3828.1705352636823, 2936.5095122571333, 2534.9531624042993, 6958.250800783207, 2070.5892809078173, 1838.9221559927207, 1067.7280379420222, 1113.0318312587522, 623.9567897713263, 584.8307864523323, 551.8825731310741, 1820.3887859995132, 699.1199014104465, 386.11187485849405, 383.0229798596261, 368.6081365315756, 346.98587153949995, 704.2680597418931, 474.6601981593753, 304.7709732216379, 1807.0035743377518, 222.40043991849257, 221.37080825220323, 215.19301825446732, 182.2448049332092, 264.6153382363546, 175.03738326918395, 7265.081037337423, 281.08944489698365, 2597.7606940479477, 3737.562948630222, 6220.004896053766, 1477.5214411251704, 5545.596154634263, 566.2974164591245, 3561.4959336947486, 1102.7355145958588, 2548.33837406606, 2574.0791657232935, 1292.1877411930932, 1187.1653112315828, 3951.7263352184, 2130.3079175525977, 1642.2625077314613, 3660.3405736585237, 978.1500829748514, 2419.634415779896, 2153.989445877252, 4557.149754996519, 1565.0401327597624, 1999.5446959338544, 2382.5676757934807, 2371.241727464298, 1779.2035193479405, 71.32960581557131, 70.28064102416585, 2.097929582810921, 28.322049367947432, 14.685507079676446, 8.391718331243684, 70.28064102416585, 50.350309987462104, 12.587577496865526, 13.636542288270988, 3.1468943742163815, 2.097929582810921, 2.097929582810921, 15.734471871081908, 11.538612705460066, 45.105486030434804, 28.322049367947432, 1.0489647914054605, 4.195859165621842, 3.1468943742163815, 2.097929582810921, 310.4935782560163, 2.097929582810921, 6.293788748432763, 1.0489647914054605, 5.244823957027302, 4.195859165621842, 55.595133944489405, 12.587577496865526, 1.0489647914054605, 858.0531993696667, 375.52939532315486, 363.9907826176948, 249.6536203544996, 244.4087963974723, 398.606620734075, 740.5691427322552, 155.24678912800815, 137.41438767411532, 133.21852850849348, 115.38612705460065, 113.28819747178973, 111.19026788897881, 189.86262724438834, 106.99440872335697, 98.60269039211329, 172.03022579049554, 226.57639494357946, 361.89285303488384, 75.52546498119317, 70.28064102416585, 68.18271144135493, 66.08478185854402, 66.08478185854402, 59.790993110111245, 56.644098735894865, 859.1021641610722, 243.35983160606685, 376.5783601145603, 112.23923268038428, 1042.6710026570277, 729.030530026795, 934.6276291422653, 272.7308457654197, 100.70061997492421, 703.855375033064, 298.9549655505562, 669.2395369166838, 473.0831209238627, 2195.483308411629, 1149.6654113803845, 1015.3979180804857, 992.3206926695656, 3367.176980411528, 900.011791025885, 298.9549655505562, 377.62732490596574, 782.5277343884735, 1475.893461507483, 1173.7916015827102, 648.2602410885746, 485.6706984207282, 380.77421928018214, 1144.4205874233573, 2618.216119348029, 1044.7689322398385, 2015.0613642898895, 916.7952276883725, 782.5277343884735, 623.0850860948435, 1985.6903501305367, 1099.3151013929225, 689.1698679533876, 1323.793566753691, 984.9779391297274, 966.0965728844291, 1250.366031355309, 1201.0646861592522, 1029.0344603687568, 1267.1494680177964, 866.4449177009103, 1047.915826614055, 1236.729489067038, 943.019347473509, 1130.7840451350862, 897.9138614430742, 874.836636032154, 48.32768819593763, 176.85877382343133, 25.70621712549874, 3.0847460550598487, 191.25425541371064, 86.37288954167578, 1.0282486850199497, 26.73446581051869, 86.37288954167578, 77.11865137649622, 2.0564973700398994, 1.0282486850199497, 752.6780374346031, 1.0282486850199497, 26.73446581051869, 55.525428991077284, 73.00565663641642, 1.0282486850199497, 5.141243425099748, 3.0847460550598487, 1.0282486850199497, 428.77970165331897, 6.169492110119697, 10.282486850199495, 447.2881779836781, 143.95481590279294, 2.0564973700398994, 4.112994740079799, 225.18646201936897, 136.7570751076533, 2540.8025006842954, 573.7627662411319, 1914.5990515071462, 297.1638699707654, 193.31075278375053, 297.1638699707654, 141.89831853275305, 133.67232905259343, 102.82486850199496, 177.88702250845128, 98.71187376191516, 272.48590153028664, 79.17514874653612, 78.14690006151616, 2500.700801968517, 73.00565663641642, 64.77966715625682, 61.694921101196975, 1433.3786669178096, 5032.249064487633, 704.3503492386654, 1734.655531628655, 10565.255238579983, 123.38984220239395, 1268.8588773146178, 353.71754764686267, 229.29945675944873, 1220.5311891186802, 589.1864965164311, 829.7966888110993, 448.316426668698, 713.604587403845, 1586.5877209857822, 1587.615969670802, 578.9040096662317, 330.06782789140385, 4972.610640756476, 1402.5312063672113, 854.474657251578, 1804.5764422100117, 1708.949314503156, 865.7853927867975, 1733.627282943635, 645.7401741925283, 751.6497887495832, 995.3447270993112, 2356.7459860657245, 2016.3956713241214, 1707.9210658181364, 1858.045373831049, 3735.627472677477, 1272.9718720546975, 3572.135931759305, 1180.4294904029023, 1236.9831680789994, 1751.107510588974, 1364.4860050214731, 1142.384289057164, 1739.7967750537546, 1255.4916444093583, 1245.209157559159, 1326.440803675735, 4759.009052966924, 72.91533076405948, 7.188835427442484, 3584.1479488248956, 1109.1346088054117, 59.56463639880916, 28.755341709769937, 3.0809294689039217, 3.0809294689039217, 9.242788406711766, 6.161858937807843, 568.9449752575908, 135.56089663177255, 1.0269764896346405, 20.53952979269281, 2.053952979269281, 1.0269764896346405, 3.0809294689039217, 17.45860032378889, 18.48557681342353, 322.47061774527714, 3.0809294689039217, 10.269764896346405, 6.161858937807843, 7.188835427442484, 5.134882448173203, 12.323717875615687, 5.134882448173203, 14.377670854884968, 10.269764896346405, 4900.731808536505, 6057.10733586511, 387.1701365922595, 3481.4502998614316, 166.37019132081176, 120.15624928725295, 198.20646249948564, 109.88648439090653, 103.7246254530987, 99.61671949456013, 286.5264406080647, 92.42788406711766, 91.40090757748301, 83.18509566040588, 81.13114268113661, 77.02323672259804, 75.99626023296341, 74.96928374332876, 149.93856748665752, 72.91533076405948, 64.69951884698236, 62.645565867713074, 60.5916128884438, 529.9198686514745, 291.6613230562379, 373.8194422270092, 183.82879164460067, 1514.7903222110947, 13753.269149187106, 1254.965270333531, 179.7208856860621, 632.6175176149386, 459.0584908666843, 1868.0702346454113, 1207.7243518103373, 589.4845050502837, 596.6733404777261, 3361.2940505741785, 1286.8015415122047, 593.5924110088222, 2545.8747178042736, 1743.8060793996194, 695.2630834826517, 1255.9922468231655, 7847.127357298289, 588.457528560649, 1617.4879711745589, 1753.0488678063316, 1530.1949695556143, 3401.3461336699297, 940.7104645053307, 1266.2620117195117, 860.6062983138288, 1337.123389504302, 785.6370145705, 964.3309237669274, 774.340273184519, 900.6583814095798, 1212.8592342585105, 978.7085946218125, 824.6621211766163, 985.8974300492549, 3770.959548520869, 21.90598907854447, 7.301996359514823, 6.258854022441276, 25.035416089765103, 3.129427011220638, 19.819704404397378, 14.603992719029646, 49.02768984245667, 6.258854022441276, 104.31423370735462, 55.28654386489794, 12.517708044882552, 14.603992719029646, 3.129427011220638, 21.90598907854447, 3.129427011220638, 7.301996359514823, 131.4359344712668, 19.819704404397378, 12.517708044882552, 3.129427011220638, 12.517708044882552, 7.301996359514823, 3.129427011220638, 3.129427011220638, 42.76883582001539, 17.733419730250283, 3.129427011220638, 7.301996359514823, 244.0953068752098, 219.05989078544468, 171.07534328006156, 113.70251474101653, 111.61623006686943, 76.14939060636887, 70.93367892100113, 46.94140516830957, 35.466839460500566, 34.42369712342702, 34.42369712342702, 32.33741244927993, 178.3773396395764, 30.251127775132836, 29.207985438059293, 29.207985438059293, 89.71024098832495, 358.8409639532998, 27.121700763912198, 27.121700763912198, 25.035416089765103, 25.035416089765103, 1099.4720232755176, 693.6896541539081, 192.98133235860604, 159.60077757225255, 77.19253294344242, 77.19253294344242, 331.7192631893877, 174.20477029128222, 388.0489493913591, 2007.0058565295028, 270.17386530204845, 123.09079577467844, 833.4707273217634, 692.6465118168346, 322.3309821557258, 212.8010367630034, 194.02447469567954, 888.7572711866612, 592.5048474577742, 2319.9485576515667, 664.4816687158489, 723.940781929041, 316.0721281332845, 753.1487673671003, 1630.4314728459526, 245.13844921228332, 2833.1745874917515, 736.4584899739235, 1038.9697677252518, 1841.1462249348087, 574.7714277275239, 727.0702089402616, 477.7591903796841, 466.28462467187506, 1283.0650746004617, 850.1610047149401, 2374.191959179391, 721.8544972548939, 1034.7971983769578, 1562.627220936172, 2005.9627141924293, 648.8345336597456, 1304.9710636790062, 814.6941652544396, 550.7791539748323, 679.0856614348785, 772.9684717714977, 1076.5228918598996, 982.6400815232804, 759.4076213895415, 693.6896541539081, 874.9709493339836, 681.2425882892329, 62.80205110791366, 7.451090809413486, 1014.412791624436, 2.128883088403853, 884.550923231801, 14.902181618826972, 178.82617942592364, 150.08625773247164, 59.60872647530789, 3.19332463260578, 1.0644415442019266, 41.51322022387514, 4.257766176807706, 3.19332463260578, 11.708856986221193, 91.54197280136569, 85.15532353615411, 6.38664926521156, 21.28883088403853, 24.482155516644312, 1.0644415442019266, 1.0644415442019266, 9.57997389781734, 3.19332463260578, 7.451090809413486, 9.57997389781734, 7.451090809413486, 46.83542794488477, 320.39690480477987, 387.4567220895013, 1534.9247067391782, 294.8503077439336, 87.28420662455798, 83.02644044775028, 147.95737464406778, 65.99537574051945, 63.866492652115596, 60.67316801950981, 43.64210331227899, 40.44877867967321, 37.255454047067424, 35.12657095866357, 34.06212941446165, 34.06212941446165, 31.933246326057798, 1423.1583445979759, 465.1609548162419, 230.98381509181806, 824.9421967564931, 73.44646654993294, 343.8146187772223, 61.73760956371174, 218.21051656139494, 122.41077758322156, 490.7075518770881, 873.9065077897817, 193.72836104475064, 1196.4322956829656, 149.0218161882697, 947.3529743397147, 106.44415442019265, 475.8053702582611, 357.6523588518473, 1101.696998248994, 1891.5126240468235, 286.33477539031827, 760.0112625601755, 913.290844925253, 830.2644044775027, 984.6084283867821, 328.91243715839533, 364.03900811705887, 2258.7449567964877, 574.7984338690403, 575.8628754132423, 498.1586426865016, 647.1804588747714, 831.3288460217046, 413.00331915034747, 483.25646106767465, 607.7961217393001, 984.6084283867821, 904.7753125716375, 667.404848214608, 657.8248743167907, 590.7650570320692, 648.2449004189733, 553.5096029850018, 549.2518368081941, 151.57990228440923, 900.817705004489, 1.08271358774578, 756.8167978343002, 136.42191205596828, 515.3716677669913, 43.3085435098312, 5.4135679387289, 171.06874686383324, 2.16542717549156, 1.08271358774578, 19.488844579424043, 1.08271358774578, 48.722111448560106, 89.86522778289975, 836.9376033274881, 2.16542717549156, 35.72954839561074, 24.902412518152943, 16.240703816186702, 72.54181037896727, 1.08271358774578, 49.804825036305886, 4.33085435098312, 72.54181037896727, 2.16542717549156, 2.16542717549156, 67.12824244023837, 22.73698534266138, 40.06040274659386, 878.0807196618276, 161.32432457412125, 493.71739601207577, 113.68492671330691, 92.03065495839131, 80.12080549318772, 59.549247326017905, 55.21839297503478, 55.21839297503478, 55.21839297503478, 53.05296579954322, 48.722111448560106, 46.55668427306854, 45.47397068532276, 42.225829922085424, 41.143116334339645, 1349.061130331242, 1569.9347022313812, 264.1821154099703, 192.72301861874885, 980.9385104976768, 89.86522778289975, 271.76111052419077, 125.59477617851049, 889.9905691270312, 2142.6901901488986, 1306.8353004091566, 2394.9624560936654, 129.92563052949362, 796.8772005808942, 606.3196091376369, 4414.223297239546, 725.4181037896727, 339.9720665521749, 2211.9838597646285, 1283.0156014787494, 934.3818262246082, 481.8075465468721, 740.5760940181136, 1778.8984246663167, 859.6745886701494, 542.4395074606358, 980.9385104976768, 437.41628944929516, 859.6745886701494, 1049.149466525661, 678.8614195166041, 1404.2795233062766, 1091.3752964477462, 1619.739527267687, 1045.9013257624235, 1412.941232008243, 1097.871577974221, 839.1030305029795, 851.0128799681831, 748.1550891323341], \"Total\": [15792.0, 11636.0, 10520.0, 6101.0, 7560.0, 6332.0, 7029.0, 4917.0, 4759.0, 19063.0, 5382.0, 3770.0, 6971.0, 6241.0, 6760.0, 3584.0, 4222.0, 3561.0, 5544.0, 3828.0, 5260.0, 2833.0, 4627.0, 3075.0, 2467.0, 4087.0, 3295.0, 2899.0, 2544.0, 2936.0, 7.388115802246766, 2.1108902292133616, 4.221780458426723, 8.443560916853446, 10.554451146066809, 8.443560916853446, 1.0554451146066808, 14.776231604493532, 47.49503015730063, 8.443560916853446, 8.443560916853446, 2.1108902292133616, 1.0554451146066808, 9.499006031460128, 7.388115802246766, 10.554451146066809, 11.609896260673487, 17.942566948313573, 1.0554451146066808, 1.0554451146066808, 7.388115802246766, 11.609896260673487, 8.443560916853446, 5.277225573033404, 9.499006031460128, 7.388115802246766, 1.0554451146066808, 16.887121833706892, 3.1663353438200423, 1.0554451146066808, 100.26728588763467, 85.49105428314115, 192.03661799924242, 61.21581664718749, 55.93859107415408, 54.8831459595474, 51.716810615727354, 51.716810615727354, 46.43958504269395, 46.43958504269395, 45.38413992808728, 44.32869481348059, 42.217804584267235, 41.16235946966055, 41.16235946966055, 40.106914355053874, 37.99602412584051, 36.94057901123383, 36.94057901123383, 35.885133896627146, 35.885133896627146, 34.82968878202047, 34.82968878202047, 32.7187985528071, 32.7187985528071, 32.7187985528071, 31.663353438200424, 30.607908323593744, 30.607908323593744, 89.70053196403472, 511.2653627037453, 101.303947901507, 498.4253223111217, 81.2176469280797, 228.94086534483264, 108.62277719252671, 3917.334857435652, 534.0021658433137, 199.00895266587264, 3181.044129546099, 701.2252226210076, 1020.0198075505724, 677.634509518835, 523.3433939864558, 4377.974565365365, 330.12565314549005, 612.4009154831286, 829.5000992088318, 166.29798880488113, 479.79663267390043, 133.73038519397073, 2966.9374210637507, 664.1661918893103, 437.1969742278695, 1877.7296408756936, 740.0783776105347, 783.578967434114, 1099.3194376694455, 1217.307691076197, 1236.6497656277538, 615.583008983601, 1195.9996003337626, 2397.3596849635346, 1647.4374648333, 678.296552022843, 3235.788104572591, 1908.5284356297248, 3913.3684194825173, 1521.3504368010022, 4811.719319560762, 1849.0331743979125, 4912.582749731214, 6806.847526246867, 3072.9610063907026, 3533.8141087052445, 10500.913926619824, 1963.694435792773, 14981.594531822759, 3762.034543057159, 19063.182876942697, 2129.5840979607633, 1977.6133158097646, 5467.783052399135, 2601.3338211400514, 5296.466941901218, 2089.649426282954, 3600.3420598130233, 2293.5988273383305, 3404.0812912710726, 5489.0442174511445, 10520.776366144244, 2214.7377141883217, 35.00747665383679, 17.503738326918395, 17.503738326918395, 4222.5194634524905, 97.81500829748515, 33.97784498754747, 9.266684996603855, 17.503738326918395, 9.266684996603855, 112.22985162553559, 37.06673998641542, 145.17806494679374, 13.385211661761126, 70.01495330767358, 26.77042332352225, 17.503738326918395, 121.49653662213944, 37.06673998641542, 97.81500829748515, 79.28163830427744, 122.52616828842876, 44.27416165044065, 9.266684996603855, 17.503738326918395, 9.266684996603855, 9.266684996603855, 9.266684996603855, 13.385211661761126, 3828.1705352636823, 2936.5095122571333, 2534.9531624042993, 7029.81166656469, 2071.6537224520193, 1838.9221559927207, 1069.8104595462635, 1118.3540389797618, 623.9567897713263, 584.8307864523323, 551.8825731310741, 1845.5718354196758, 702.2493284216671, 386.11187485849405, 383.0229798596261, 368.6081365315756, 346.98587153949995, 709.4837714272609, 476.7141511386446, 304.7709732216379, 1840.7778180051657, 222.40043991849257, 221.37080825220323, 215.19301825446732, 182.2448049332092, 265.64358692137455, 175.03738326918395, 7560.8502663521995, 283.1757295711307, 2757.9927608217804, 4087.0417255460284, 6971.3512942058305, 1570.4006112105583, 6241.139075269357, 584.0308361893748, 4049.0267252607073, 1193.808220536045, 2941.4278326710564, 2977.749796339776, 1423.8359849445092, 1307.1220694335652, 5525.967138283057, 2684.0093513337383, 2001.6315723417301, 5544.082945973096, 1096.5871852602713, 3692.1683659413397, 3157.4072572853174, 13424.682460524684, 3197.3312866502597, 7131.161501547762, 14981.594531822759, 19063.182876942697, 6942.426781000835, 71.32960581557131, 70.28064102416585, 2.097929582810921, 28.322049367947432, 14.685507079676446, 8.391718331243684, 70.28064102416585, 50.350309987462104, 12.587577496865526, 13.636542288270988, 3.1468943742163815, 2.097929582810921, 2.097929582810921, 15.734471871081908, 11.538612705460066, 45.105486030434804, 28.322049367947432, 1.0489647914054605, 4.195859165621842, 3.1468943742163815, 2.097929582810921, 310.4935782560163, 2.097929582810921, 6.293788748432763, 1.0489647914054605, 5.244823957027302, 4.195859165621842, 55.595133944489405, 12.587577496865526, 1.0489647914054605, 861.1651418543132, 375.52939532315486, 363.9907826176948, 249.6536203544996, 244.4087963974723, 400.663228889999, 751.0002887619448, 155.24678912800815, 137.41438767411532, 133.21852850849348, 115.38612705460065, 113.28819747178973, 111.19026788897881, 190.918072358995, 106.99440872335697, 98.60269039211329, 173.05847447551548, 228.63289231361935, 367.0926382629652, 75.52546498119317, 70.28064102416585, 68.18271144135493, 66.08478185854402, 66.08478185854402, 59.790993110111245, 56.644098735894865, 886.5165407112593, 248.5000244075494, 388.35066706223546, 113.3036742245862, 1106.8465945696796, 769.5752835952641, 996.7292244918779, 281.9850839305993, 101.72886865994415, 755.5177927896178, 313.7179076577327, 742.0652498245448, 520.5238435889729, 2667.0898920074587, 1345.6581794146698, 1178.7323029852607, 1150.4339607444958, 4441.662245022463, 1067.784720900933, 320.5753843655619, 418.12604252170235, 970.1577652231917, 2025.1877468529033, 1588.9332615035514, 818.9566932263696, 581.5808700939738, 430.28827987283887, 1790.3610136762732, 5356.06867147486, 1643.7414300171663, 4083.232458472572, 1404.8561678390718, 1197.649504789027, 857.2851158191797, 5296.466941901218, 2120.0719771651693, 1008.5785563864459, 3094.001958063631, 2000.597312502711, 1964.901676340588, 3316.2215773225475, 4500.12733902817, 3096.3589032976793, 6806.847526246867, 1863.853039220508, 5118.894009026161, 14981.594531822759, 3064.7984052933675, 10500.913926619824, 4096.285858608287, 5280.468231455446, 48.32768819593763, 176.85877382343133, 25.70621712549874, 3.0847460550598487, 191.25425541371064, 86.37288954167578, 1.0282486850199497, 26.73446581051869, 86.37288954167578, 77.11865137649622, 2.0564973700398994, 1.0282486850199497, 752.6780374346031, 1.0282486850199497, 26.73446581051869, 55.525428991077284, 73.00565663641642, 1.0282486850199497, 5.141243425099748, 3.0847460550598487, 1.0282486850199497, 428.77970165331897, 6.169492110119697, 10.282486850199495, 447.2881779836781, 143.95481590279294, 2.0564973700398994, 4.112994740079799, 225.18646201936897, 136.7570751076533, 2544.9763715481467, 574.8117310325373, 1953.8181482825294, 298.19084646040005, 193.31075278375053, 299.27476019997874, 141.89831853275305, 133.67232905259343, 102.82486850199496, 178.91399899808593, 98.71187376191516, 275.6792261628924, 79.17514874653612, 78.14690006151616, 2590.1796863773557, 73.00565663641642, 64.77966715625682, 61.694921101196975, 1484.7786049707013, 5382.083808950804, 729.5102202393936, 1830.485465569333, 11636.74605873428, 124.47255579013974, 1369.0130374898608, 367.4383341367495, 235.6861060246603, 1333.825140179103, 627.9745472211324, 901.3271846459085, 474.702554533865, 775.1203572555626, 1816.9168364929888, 1822.579347749334, 629.6029623549613, 347.52642821519277, 6760.97946434385, 1706.0195895922693, 1044.678380116421, 2538.967339974862, 2623.7548674459526, 1181.6062331389794, 3010.3630360760053, 828.3659251728142, 1027.0172882216984, 1514.6556007310744, 5467.783052399135, 4500.12733902817, 3533.8141087052445, 4231.688169604975, 14981.594531822759, 2497.3586550726013, 19063.182876942697, 2293.5988273383305, 2601.3338211400514, 6806.847526246867, 3762.034543057159, 2459.127682182232, 15792.71455257937, 4912.582749731214, 5489.0442174511445, 10500.913926619824, 4759.009052966924, 72.91533076405948, 7.188835427442484, 3584.1479488248956, 1109.1346088054117, 59.56463639880916, 28.755341709769937, 3.0809294689039217, 3.0809294689039217, 9.242788406711766, 6.161858937807843, 568.9449752575908, 135.56089663177255, 1.0269764896346405, 20.53952979269281, 2.053952979269281, 1.0269764896346405, 3.0809294689039217, 17.45860032378889, 18.48557681342353, 322.47061774527714, 3.0809294689039217, 10.269764896346405, 6.161858937807843, 7.188835427442484, 5.134882448173203, 12.323717875615687, 5.134882448173203, 14.377670854884968, 10.269764896346405, 4917.210983926411, 6101.498592962687, 387.1701365922595, 3561.822091509784, 166.37019132081176, 120.15624928725295, 199.2619076140923, 109.88648439090653, 103.7246254530987, 99.61671949456013, 289.61533560693266, 92.42788406711766, 91.40090757748301, 83.18509566040588, 81.13114268113661, 77.02323672259804, 75.99626023296341, 74.96928374332876, 150.9940126012642, 72.91533076405948, 64.69951884698236, 62.645565867713074, 60.5916128884438, 544.7500788335395, 296.9385486292713, 383.13775412024773, 185.93637552587614, 1621.3902787863694, 15792.71455257937, 1365.9219538111613, 186.00192947706745, 698.7116098209538, 511.1415380593437, 2343.451890365789, 1484.774037871919, 681.0559023929171, 694.6743117977097, 4627.64157077878, 1627.6675151407221, 699.7883152049548, 3627.3569160401153, 2428.534568794914, 863.2053358029817, 1823.3192949485792, 19063.182876942697, 800.9884158795662, 3404.1759054043537, 3824.4209744012205, 3663.7156172104123, 13424.682460524684, 2319.1181100210683, 5118.894009026161, 2009.9498607821595, 6942.426781000835, 1815.9081643726993, 3914.5073521037934, 1863.0897909400103, 3667.1177400172596, 14981.594531822759, 7131.161501547762, 2480.817865060357, 9711.640596063497, 3770.959548520869, 21.90598907854447, 7.301996359514823, 6.258854022441276, 25.035416089765103, 3.129427011220638, 19.819704404397378, 14.603992719029646, 49.02768984245667, 6.258854022441276, 104.31423370735462, 55.28654386489794, 12.517708044882552, 14.603992719029646, 3.129427011220638, 21.90598907854447, 3.129427011220638, 7.301996359514823, 131.4359344712668, 19.819704404397378, 12.517708044882552, 3.129427011220638, 12.517708044882552, 7.301996359514823, 3.129427011220638, 3.129427011220638, 42.76883582001539, 17.733419730250283, 3.129427011220638, 7.301996359514823, 244.0953068752098, 219.05989078544468, 171.07534328006156, 113.70251474101653, 111.61623006686943, 76.14939060636887, 70.93367892100113, 46.94140516830957, 35.466839460500566, 34.42369712342702, 34.42369712342702, 32.33741244927993, 181.52423401379278, 30.251127775132836, 29.207985438059293, 29.207985438059293, 90.75920577973042, 368.3115013597879, 27.121700763912198, 27.121700763912198, 25.035416089765103, 25.035416089765103, 1142.433334792534, 727.7053220842072, 198.2880633268192, 163.70868353079112, 78.2479780580491, 78.2479780580491, 351.87126681086033, 181.39869450026595, 417.5592543258802, 2348.7368299515692, 291.79610868248704, 129.4310147815006, 974.2407963821249, 813.2187990515685, 360.65087774699515, 233.90993905513702, 213.0866376062349, 1101.3974558321818, 734.4244390370806, 3295.363789743928, 847.4151396091578, 939.2179150761978, 373.50810610962577, 1027.497661619431, 2572.415669347069, 282.64912105473223, 5260.489612373248, 1062.8300283199087, 1740.5090046835558, 3758.6715309399046, 869.1753406385891, 1194.5753710631263, 689.1440447042914, 707.3110967465709, 3404.1759054043537, 1861.2260424331657, 9711.640596063497, 1626.9535371989746, 3220.4109601419204, 7131.161501547762, 13424.682460524684, 1398.4227333822707, 6942.426781000835, 2436.670731699867, 1057.6197464481525, 2225.3683289257333, 3693.6281105355292, 14981.594531822759, 19063.182876942697, 3824.4209744012205, 3914.5073521037934, 874.9709493339836, 681.2425882892329, 62.80205110791366, 7.451090809413486, 1014.412791624436, 2.128883088403853, 884.550923231801, 14.902181618826972, 178.82617942592364, 150.08625773247164, 59.60872647530789, 3.19332463260578, 1.0644415442019266, 41.51322022387514, 4.257766176807706, 3.19332463260578, 11.708856986221193, 91.54197280136569, 85.15532353615411, 6.38664926521156, 21.28883088403853, 24.482155516644312, 1.0644415442019266, 1.0644415442019266, 9.57997389781734, 3.19332463260578, 7.451090809413486, 9.57997389781734, 7.451090809413486, 46.83542794488477, 320.39690480477987, 388.48369857913593, 1576.3743143454365, 297.96501619111893, 87.28420662455798, 83.02644044775028, 149.04008823181357, 65.99537574051945, 63.866492652115596, 60.67316801950981, 43.64210331227899, 40.44877867967321, 37.255454047067424, 35.12657095866357, 34.06212941446165, 34.06212941446165, 31.933246326057798, 1479.5658884368315, 481.1640698777121, 236.22863904884537, 872.2233762481535, 74.47471523495288, 368.76920562979285, 62.76585824873169, 234.77407020617412, 128.71752697805675, 557.7082366772565, 1031.255251926044, 209.47459341040206, 1485.0957328548407, 159.5762673343365, 1263.7203190635246, 112.71595486685459, 609.4030611764852, 441.35800707648417, 1735.0868449997404, 3315.0912566976453, 357.230948380484, 1162.782975853976, 1469.4667552833416, 1413.6354097104752, 1800.0563858817147, 435.6434312955966, 522.9994042900685, 9711.640596063497, 1120.361156314162, 1198.501641797111, 939.2848154076692, 1732.7661816146936, 3000.3447668634903, 709.5694500732099, 1113.3666287602941, 2402.2421860552213, 13424.682460524684, 10500.913926619824, 5489.0442174511445, 5260.489612373248, 3371.3265021871503, 14981.594531822759, 3094.001958063631, 6942.426781000835, 151.57990228440923, 900.817705004489, 1.08271358774578, 756.8167978343002, 136.42191205596828, 515.3716677669913, 43.3085435098312, 5.4135679387289, 171.06874686383324, 2.16542717549156, 1.08271358774578, 19.488844579424043, 1.08271358774578, 48.722111448560106, 89.86522778289975, 836.9376033274881, 2.16542717549156, 35.72954839561074, 24.902412518152943, 16.240703816186702, 72.54181037896727, 1.08271358774578, 49.804825036305886, 4.33085435098312, 72.54181037896727, 2.16542717549156, 2.16542717549156, 67.12824244023837, 22.73698534266138, 40.06040274659386, 883.3681175049246, 161.32432457412125, 501.0193923715906, 113.68492671330691, 92.03065495839131, 80.12080549318772, 59.549247326017905, 55.21839297503478, 55.21839297503478, 55.21839297503478, 53.05296579954322, 48.722111448560106, 46.55668427306854, 45.47397068532276, 42.225829922085424, 41.143116334339645, 1409.1761396014144, 1645.2094479651191, 271.3709508374128, 196.89558796704304, 1036.9447239492265, 90.92067289750644, 283.346401229798, 128.68367117737844, 975.5387216228644, 2467.1369056272906, 1491.8561297944698, 2833.461603036761, 136.2583012171337, 974.5362467706665, 728.369896845737, 6332.898739607143, 888.8192459595899, 389.4137196591783, 3075.9159120155546, 1714.530676159597, 1234.7872827064355, 589.9125499744425, 982.886960832775, 2899.4471143053242, 1226.217929944069, 713.3767918561842, 1691.8235842813274, 600.3621088106203, 1589.2561922656296, 2566.420132820669, 1334.9985883423137, 5544.082945973096, 3976.4315753589926, 10500.913926619824, 5118.894009026161, 14981.594531822759, 7131.161501547762, 3036.9828163696297, 5525.967138283057, 3692.1683659413397], \"Category\": [\"Default\", \"Default\", \"Default\", \"Default\", \"Default\", \"Default\", \"Default\", \"Default\", \"Default\", \"Default\", \"Default\", \"Default\", \"Default\", \"Default\", \"Default\", \"Default\", \"Default\", \"Default\", \"Default\", \"Default\", \"Default\", \"Default\", \"Default\", \"Default\", \"Default\", \"Default\", \"Default\", \"Default\", \"Default\", \"Default\", \"Topic1\", \"Topic1\", \"Topic1\", \"Topic1\", \"Topic1\", \"Topic1\", \"Topic1\", \"Topic1\", \"Topic1\", \"Topic1\", \"Topic1\", \"Topic1\", \"Topic1\", \"Topic1\", \"Topic1\", \"Topic1\", \"Topic1\", \"Topic1\", \"Topic1\", \"Topic1\", \"Topic1\", \"Topic1\", \"Topic1\", \"Topic1\", \"Topic1\", \"Topic1\", \"Topic1\", \"Topic1\", \"Topic1\", \"Topic1\", \"Topic1\", \"Topic1\", \"Topic1\", \"Topic1\", \"Topic1\", \"Topic1\", \"Topic1\", \"Topic1\", \"Topic1\", \"Topic1\", \"Topic1\", \"Topic1\", \"Topic1\", \"Topic1\", \"Topic1\", \"Topic1\", \"Topic1\", \"Topic1\", \"Topic1\", \"Topic1\", \"Topic1\", \"Topic1\", \"Topic1\", \"Topic1\", \"Topic1\", \"Topic1\", \"Topic1\", \"Topic1\", \"Topic1\", \"Topic1\", \"Topic1\", \"Topic1\", \"Topic1\", \"Topic1\", \"Topic1\", \"Topic1\", \"Topic1\", \"Topic1\", \"Topic1\", \"Topic1\", \"Topic1\", \"Topic1\", \"Topic1\", \"Topic1\", \"Topic1\", \"Topic1\", \"Topic1\", \"Topic1\", \"Topic1\", \"Topic1\", \"Topic1\", \"Topic1\", \"Topic1\", \"Topic1\", \"Topic1\", \"Topic1\", \"Topic1\", \"Topic1\", \"Topic1\", \"Topic1\", \"Topic1\", \"Topic1\", \"Topic1\", \"Topic1\", \"Topic1\", \"Topic1\", \"Topic1\", \"Topic1\", \"Topic1\", \"Topic1\", \"Topic1\", \"Topic1\", \"Topic1\", \"Topic1\", \"Topic1\", \"Topic1\", \"Topic1\", \"Topic1\", \"Topic1\", \"Topic1\", \"Topic1\", \"Topic1\", \"Topic1\", \"Topic1\", \"Topic1\", \"Topic1\", \"Topic1\", \"Topic1\", \"Topic1\", \"Topic1\", \"Topic2\", \"Topic2\", \"Topic2\", \"Topic2\", \"Topic2\", \"Topic2\", \"Topic2\", \"Topic2\", \"Topic2\", \"Topic2\", \"Topic2\", \"Topic2\", \"Topic2\", \"Topic2\", \"Topic2\", \"Topic2\", \"Topic2\", \"Topic2\", \"Topic2\", \"Topic2\", \"Topic2\", \"Topic2\", \"Topic2\", \"Topic2\", \"Topic2\", \"Topic2\", \"Topic2\", \"Topic2\", \"Topic2\", \"Topic2\", \"Topic2\", \"Topic2\", \"Topic2\", \"Topic2\", \"Topic2\", \"Topic2\", \"Topic2\", \"Topic2\", \"Topic2\", \"Topic2\", \"Topic2\", \"Topic2\", \"Topic2\", \"Topic2\", \"Topic2\", \"Topic2\", \"Topic2\", \"Topic2\", \"Topic2\", \"Topic2\", \"Topic2\", \"Topic2\", \"Topic2\", \"Topic2\", \"Topic2\", \"Topic2\", \"Topic2\", \"Topic2\", \"Topic2\", \"Topic2\", \"Topic2\", \"Topic2\", \"Topic2\", \"Topic2\", \"Topic2\", \"Topic2\", \"Topic2\", \"Topic2\", \"Topic2\", \"Topic2\", \"Topic2\", \"Topic2\", \"Topic2\", \"Topic2\", \"Topic2\", \"Topic2\", \"Topic2\", \"Topic2\", \"Topic2\", \"Topic2\", \"Topic2\", \"Topic2\", \"Topic2\", \"Topic2\", \"Topic3\", \"Topic3\", \"Topic3\", \"Topic3\", \"Topic3\", \"Topic3\", \"Topic3\", \"Topic3\", \"Topic3\", \"Topic3\", \"Topic3\", \"Topic3\", \"Topic3\", \"Topic3\", \"Topic3\", \"Topic3\", \"Topic3\", \"Topic3\", \"Topic3\", \"Topic3\", \"Topic3\", \"Topic3\", \"Topic3\", \"Topic3\", \"Topic3\", \"Topic3\", \"Topic3\", \"Topic3\", \"Topic3\", \"Topic3\", \"Topic3\", \"Topic3\", \"Topic3\", \"Topic3\", \"Topic3\", \"Topic3\", \"Topic3\", \"Topic3\", \"Topic3\", \"Topic3\", \"Topic3\", \"Topic3\", \"Topic3\", \"Topic3\", \"Topic3\", \"Topic3\", \"Topic3\", \"Topic3\", \"Topic3\", \"Topic3\", \"Topic3\", \"Topic3\", \"Topic3\", \"Topic3\", \"Topic3\", \"Topic3\", \"Topic3\", \"Topic3\", \"Topic3\", \"Topic3\", \"Topic3\", \"Topic3\", \"Topic3\", \"Topic3\", \"Topic3\", \"Topic3\", \"Topic3\", \"Topic3\", \"Topic3\", \"Topic3\", \"Topic3\", \"Topic3\", \"Topic3\", \"Topic3\", \"Topic3\", \"Topic3\", \"Topic3\", \"Topic3\", \"Topic3\", \"Topic3\", \"Topic3\", \"Topic3\", \"Topic3\", \"Topic3\", \"Topic3\", \"Topic3\", \"Topic3\", \"Topic3\", \"Topic3\", \"Topic3\", \"Topic3\", \"Topic3\", \"Topic3\", \"Topic3\", \"Topic3\", \"Topic3\", \"Topic3\", \"Topic3\", \"Topic3\", \"Topic3\", \"Topic3\", \"Topic3\", \"Topic3\", \"Topic3\", \"Topic3\", \"Topic3\", \"Topic3\", \"Topic4\", \"Topic4\", \"Topic4\", \"Topic4\", \"Topic4\", \"Topic4\", \"Topic4\", \"Topic4\", \"Topic4\", \"Topic4\", \"Topic4\", \"Topic4\", \"Topic4\", \"Topic4\", \"Topic4\", \"Topic4\", \"Topic4\", \"Topic4\", \"Topic4\", \"Topic4\", \"Topic4\", \"Topic4\", \"Topic4\", \"Topic4\", \"Topic4\", \"Topic4\", \"Topic4\", \"Topic4\", \"Topic4\", \"Topic4\", \"Topic4\", \"Topic4\", \"Topic4\", \"Topic4\", \"Topic4\", \"Topic4\", \"Topic4\", \"Topic4\", \"Topic4\", \"Topic4\", \"Topic4\", \"Topic4\", \"Topic4\", \"Topic4\", \"Topic4\", \"Topic4\", \"Topic4\", \"Topic4\", \"Topic4\", \"Topic4\", \"Topic4\", \"Topic4\", \"Topic4\", \"Topic4\", \"Topic4\", \"Topic4\", \"Topic4\", \"Topic4\", \"Topic4\", \"Topic4\", \"Topic4\", \"Topic4\", \"Topic4\", \"Topic4\", \"Topic4\", \"Topic4\", \"Topic4\", \"Topic4\", \"Topic4\", \"Topic4\", \"Topic4\", \"Topic4\", \"Topic4\", \"Topic4\", \"Topic4\", \"Topic4\", \"Topic4\", \"Topic4\", \"Topic4\", \"Topic4\", \"Topic4\", \"Topic4\", \"Topic4\", \"Topic4\", \"Topic4\", \"Topic4\", \"Topic4\", \"Topic4\", \"Topic4\", \"Topic4\", \"Topic4\", \"Topic4\", \"Topic5\", \"Topic5\", \"Topic5\", \"Topic5\", \"Topic5\", \"Topic5\", \"Topic5\", \"Topic5\", \"Topic5\", \"Topic5\", \"Topic5\", \"Topic5\", \"Topic5\", \"Topic5\", \"Topic5\", \"Topic5\", \"Topic5\", \"Topic5\", \"Topic5\", \"Topic5\", \"Topic5\", \"Topic5\", \"Topic5\", \"Topic5\", \"Topic5\", \"Topic5\", \"Topic5\", \"Topic5\", \"Topic5\", \"Topic5\", \"Topic5\", \"Topic5\", \"Topic5\", \"Topic5\", \"Topic5\", \"Topic5\", \"Topic5\", \"Topic5\", \"Topic5\", \"Topic5\", \"Topic5\", \"Topic5\", \"Topic5\", \"Topic5\", \"Topic5\", \"Topic5\", \"Topic5\", \"Topic5\", \"Topic5\", \"Topic5\", \"Topic5\", \"Topic5\", \"Topic5\", \"Topic5\", \"Topic5\", \"Topic5\", \"Topic5\", \"Topic5\", \"Topic5\", \"Topic5\", \"Topic5\", \"Topic5\", \"Topic5\", \"Topic5\", \"Topic5\", \"Topic5\", \"Topic5\", \"Topic5\", \"Topic5\", \"Topic5\", \"Topic5\", \"Topic5\", \"Topic5\", \"Topic5\", \"Topic5\", \"Topic5\", \"Topic5\", \"Topic5\", \"Topic5\", \"Topic5\", \"Topic5\", \"Topic5\", \"Topic5\", \"Topic5\", \"Topic5\", \"Topic5\", \"Topic5\", \"Topic5\", \"Topic5\", \"Topic5\", \"Topic5\", \"Topic5\", \"Topic6\", \"Topic6\", \"Topic6\", \"Topic6\", \"Topic6\", \"Topic6\", \"Topic6\", \"Topic6\", \"Topic6\", \"Topic6\", \"Topic6\", \"Topic6\", \"Topic6\", \"Topic6\", \"Topic6\", \"Topic6\", \"Topic6\", \"Topic6\", \"Topic6\", \"Topic6\", \"Topic6\", \"Topic6\", \"Topic6\", \"Topic6\", \"Topic6\", \"Topic6\", \"Topic6\", \"Topic6\", \"Topic6\", \"Topic6\", \"Topic6\", \"Topic6\", \"Topic6\", \"Topic6\", \"Topic6\", \"Topic6\", \"Topic6\", \"Topic6\", \"Topic6\", \"Topic6\", \"Topic6\", \"Topic6\", \"Topic6\", \"Topic6\", \"Topic6\", \"Topic6\", \"Topic6\", \"Topic6\", \"Topic6\", \"Topic6\", \"Topic6\", \"Topic6\", \"Topic6\", \"Topic6\", \"Topic6\", \"Topic6\", \"Topic6\", \"Topic6\", \"Topic6\", \"Topic6\", \"Topic6\", \"Topic6\", \"Topic6\", \"Topic6\", \"Topic6\", \"Topic6\", \"Topic6\", \"Topic6\", \"Topic6\", \"Topic6\", \"Topic6\", \"Topic6\", \"Topic6\", \"Topic6\", \"Topic6\", \"Topic6\", \"Topic6\", \"Topic6\", \"Topic6\", \"Topic6\", \"Topic6\", \"Topic6\", \"Topic6\", \"Topic6\", \"Topic6\", \"Topic6\", \"Topic6\", \"Topic6\", \"Topic6\", \"Topic6\", \"Topic6\", \"Topic6\", \"Topic6\", \"Topic6\", \"Topic6\", \"Topic6\", \"Topic6\", \"Topic6\", \"Topic6\", \"Topic6\", \"Topic6\", \"Topic6\", \"Topic6\", \"Topic7\", \"Topic7\", \"Topic7\", \"Topic7\", \"Topic7\", \"Topic7\", \"Topic7\", \"Topic7\", \"Topic7\", \"Topic7\", \"Topic7\", \"Topic7\", \"Topic7\", \"Topic7\", \"Topic7\", \"Topic7\", \"Topic7\", \"Topic7\", \"Topic7\", \"Topic7\", \"Topic7\", \"Topic7\", \"Topic7\", \"Topic7\", \"Topic7\", \"Topic7\", \"Topic7\", \"Topic7\", \"Topic7\", \"Topic7\", \"Topic7\", \"Topic7\", \"Topic7\", \"Topic7\", \"Topic7\", \"Topic7\", \"Topic7\", \"Topic7\", \"Topic7\", \"Topic7\", \"Topic7\", \"Topic7\", \"Topic7\", \"Topic7\", \"Topic7\", \"Topic7\", \"Topic7\", \"Topic7\", \"Topic7\", \"Topic7\", \"Topic7\", \"Topic7\", \"Topic7\", \"Topic7\", \"Topic7\", \"Topic7\", \"Topic7\", \"Topic7\", \"Topic7\", \"Topic7\", \"Topic7\", \"Topic7\", \"Topic7\", \"Topic7\", \"Topic7\", \"Topic7\", \"Topic7\", \"Topic7\", \"Topic7\", \"Topic7\", \"Topic7\", \"Topic7\", \"Topic7\", \"Topic7\", \"Topic7\", \"Topic7\", \"Topic7\", \"Topic7\", \"Topic7\", \"Topic7\", \"Topic7\", \"Topic7\", \"Topic7\", \"Topic7\", \"Topic7\", \"Topic7\", \"Topic7\", \"Topic7\", \"Topic7\", \"Topic7\", \"Topic7\", \"Topic8\", \"Topic8\", \"Topic8\", \"Topic8\", \"Topic8\", \"Topic8\", \"Topic8\", \"Topic8\", \"Topic8\", \"Topic8\", \"Topic8\", \"Topic8\", \"Topic8\", \"Topic8\", \"Topic8\", \"Topic8\", \"Topic8\", \"Topic8\", \"Topic8\", \"Topic8\", \"Topic8\", \"Topic8\", \"Topic8\", \"Topic8\", \"Topic8\", \"Topic8\", \"Topic8\", \"Topic8\", \"Topic8\", \"Topic8\", \"Topic8\", \"Topic8\", \"Topic8\", \"Topic8\", \"Topic8\", \"Topic8\", \"Topic8\", \"Topic8\", \"Topic8\", \"Topic8\", \"Topic8\", \"Topic8\", \"Topic8\", \"Topic8\", \"Topic8\", \"Topic8\", \"Topic8\", \"Topic8\", \"Topic8\", \"Topic8\", \"Topic8\", \"Topic8\", \"Topic8\", \"Topic8\", \"Topic8\", \"Topic8\", \"Topic8\", \"Topic8\", \"Topic8\", \"Topic8\", \"Topic8\", \"Topic8\", \"Topic8\", \"Topic8\", \"Topic8\", \"Topic8\", \"Topic8\", \"Topic8\", \"Topic8\", \"Topic8\", \"Topic8\", \"Topic8\", \"Topic8\", \"Topic8\", \"Topic8\", \"Topic8\", \"Topic8\", \"Topic8\", \"Topic8\", \"Topic8\", \"Topic8\", \"Topic8\", \"Topic8\", \"Topic8\", \"Topic8\", \"Topic8\"], \"logprob\": [30.0, 29.0, 28.0, 27.0, 26.0, 25.0, 24.0, 23.0, 22.0, 21.0, 20.0, 19.0, 18.0, 17.0, 16.0, 15.0, 14.0, 13.0, 12.0, 11.0, 10.0, 9.0, 8.0, 7.0, 6.0, 5.0, 4.0, 3.0, 2.0, 1.0, -10.6478, -11.9005, -11.2074, -10.5142, -10.2911, -10.5142, -12.5937, -9.9546, -8.787, -10.5142, -10.5142, -11.9005, -12.5937, -10.3965, -10.6478, -10.2911, -10.1958, -9.7605, -12.5937, -12.5937, -10.6478, -10.1958, -10.5142, -10.9842, -10.3965, -10.6478, -12.5937, -9.8211, -11.4951, -12.5937, -8.0398, -8.1992, -7.4007, -8.5332, -8.6234, -8.6424, -8.7019, -8.7019, -8.8095, -8.8095, -8.8325, -8.856, -8.9048, -8.9301, -8.9301, -8.9561, -9.0102, -9.0383, -9.0383, -9.0673, -9.0673, -9.0972, -9.0972, -9.1597, -9.1597, -9.1597, -9.1925, -9.2264, -9.2264, -8.1629, -6.4581, -8.0504, -6.5024, -8.2762, -7.2805, -7.9986, -4.5737, -6.5046, -7.452, -4.8504, -6.2783, -5.9395, -6.3208, -6.563, -4.613, -7.0027, -6.4367, -6.1688, -7.6449, -6.6938, -7.8487, -5.06, -6.4116, -6.7855, -5.4887, -6.3265, -6.2801, -5.983, -5.9267, -5.9318, -6.5322, -5.9763, -5.4022, -5.7247, -6.4646, -5.2222, -5.6622, -5.1303, -5.8461, -5.0253, -5.7414, -5.0686, -4.8465, -5.3955, -5.3082, -4.6011, -5.7257, -4.5532, -5.3755, -4.495, -5.7278, -5.7693, -5.3102, -5.671, -5.466, -5.8036, -5.7758, -5.8402, -5.8115, -5.8275, -3.359, -4.9172, -9.0645, -9.7577, -9.7577, -4.2719, -8.037, -9.0944, -10.3937, -9.7577, -10.3937, -7.8995, -9.0074, -7.6421, -10.0259, -8.3714, -9.3328, -9.7577, -7.8202, -9.0074, -8.037, -8.2471, -7.8118, -8.8297, -10.3937, -9.7577, -10.3937, -10.3937, -10.3937, -10.0259, -4.37, -4.6351, -4.7822, -3.7724, -4.9845, -5.1032, -5.6468, -5.6053, -6.184, -6.2488, -6.3068, -5.1133, -6.0703, -6.664, -6.672, -6.7104, -6.7708, -6.0629, -6.4575, -6.9005, -5.1207, -7.2156, -7.2203, -7.2486, -7.4147, -7.0418, -7.4551, -3.7293, -6.9814, -4.7577, -4.3939, -3.8846, -5.322, -3.9993, -6.281, -4.4422, -5.6145, -4.7769, -4.7668, -5.456, -5.5408, -4.3382, -4.9561, -5.2163, -4.4148, -5.7344, -4.8287, -4.945, -4.1956, -5.2644, -5.0194, -4.8442, -4.8489, -5.1362, -8.2158, -8.2306, -11.7422, -9.1395, -9.7963, -10.3559, -8.2306, -8.5641, -9.9504, -9.8704, -11.3367, -11.7422, -11.7422, -9.7273, -10.0374, -8.6741, -9.1395, -12.4353, -11.049, -11.3367, -11.7422, -6.745, -11.7422, -10.6436, -12.4353, -10.8259, -11.049, -8.465, -9.9504, -12.4353, -5.7285, -6.5548, -6.586, -6.9631, -6.9843, -6.4952, -5.8757, -7.4381, -7.5601, -7.5912, -7.7349, -7.7532, -7.7719, -7.2368, -7.8104, -7.892, -7.3355, -7.0601, -6.5918, -8.1587, -8.2306, -8.261, -8.2922, -8.2922, -8.3923, -8.4464, -5.7273, -6.9886, -6.552, -7.7625, -5.5336, -5.8914, -5.643, -6.8747, -7.871, -5.9266, -6.7828, -5.977, -6.3239, -4.789, -5.4359, -5.5601, -5.5831, -4.3613, -5.6807, -6.7828, -6.5492, -5.8206, -5.1861, -5.4151, -6.0088, -6.2976, -6.5409, -5.4405, -4.6129, -5.5316, -4.8747, -5.6623, -5.8206, -6.0485, -4.8894, -5.4807, -5.9477, -5.2949, -5.5905, -5.6099, -5.3519, -5.3922, -5.5468, -5.3386, -5.7187, -5.5286, -5.3629, -5.6341, -5.4525, -5.6831, -5.7091, -8.4384, -7.1411, -9.0697, -11.19, -7.0628, -7.8578, -12.2886, -9.0305, -7.8578, -7.9711, -11.5954, -12.2886, -5.6928, -12.2886, -9.0305, -8.2996, -8.0259, -12.2886, -10.6791, -11.19, -12.2886, -6.2555, -10.4968, -9.986, -6.2132, -7.3469, -11.5954, -10.9023, -6.8995, -7.3982, -4.4762, -5.9642, -4.7592, -6.6222, -7.0521, -6.6222, -7.3613, -7.421, -7.6834, -7.1353, -7.7242, -6.7088, -7.9448, -7.9578, -4.4921, -8.0259, -8.1454, -8.1942, -5.0486, -3.7928, -5.7592, -4.8579, -3.0511, -7.5011, -5.1706, -6.4479, -6.8814, -5.2094, -5.9377, -5.5953, -6.2109, -5.7461, -4.9471, -4.9464, -5.9553, -6.5171, -3.8047, -5.0704, -5.5659, -4.8184, -4.8728, -5.5528, -4.8585, -5.846, -5.6942, -5.4133, -4.5514, -4.7074, -4.8734, -4.7892, -4.0908, -5.1673, -4.1355, -5.2428, -5.196, -4.8484, -5.0979, -5.2756, -4.8549, -5.1812, -5.1894, -5.1262, -3.8189, -7.9974, -10.3142, -4.1025, -5.2754, -8.1997, -8.9279, -11.1615, -11.1615, -10.0629, -10.4684, -5.943, -7.3773, -12.2601, -9.2644, -11.567, -12.2601, -11.1615, -9.4269, -9.3697, -6.5107, -11.1615, -9.9575, -10.4684, -10.3142, -10.6507, -9.7752, -10.6507, -9.6211, -9.9575, -3.7896, -3.5778, -6.3279, -4.1315, -7.1725, -7.4979, -6.9974, -7.5873, -7.645, -7.6854, -6.6289, -7.7603, -7.7715, -7.8657, -7.8907, -7.9426, -7.9561, -7.9697, -7.2765, -7.9974, -8.117, -8.1492, -8.1826, -6.014, -6.6111, -6.363, -7.0727, -4.9637, -2.7577, -5.1519, -7.0953, -5.8369, -6.1576, -4.7541, -5.1902, -5.9075, -5.8954, -4.1667, -5.1268, -5.9005, -4.4445, -4.8229, -5.7424, -5.1511, -3.3188, -5.9092, -4.8981, -4.8176, -4.9536, -4.1548, -5.4401, -5.1429, -5.5291, -5.0885, -5.6202, -5.4153, -5.6347, -5.4836, -5.186, -5.4005, -5.5718, -5.3932, -3.7734, -8.9217, -10.0203, -10.1745, -8.7882, -10.8676, -9.0218, -9.3272, -8.1161, -10.1745, -7.3611, -7.996, -9.4813, -9.3272, -10.8676, -8.9217, -10.8676, -10.0203, -7.13, -9.0218, -9.4813, -10.8676, -9.4813, -10.0203, -10.8676, -10.8676, -8.2527, -9.133, -10.8676, -10.0203, -6.5109, -6.6191, -6.8664, -7.2749, -7.2934, -7.6758, -7.7467, -8.1596, -8.4399, -8.4697, -8.4697, -8.5323, -6.8246, -8.599, -8.634, -8.634, -7.5119, -6.1256, -8.7082, -8.7082, -8.7882, -8.7882, -5.0059, -5.4665, -6.7459, -6.9358, -7.6622, -7.6622, -6.2042, -6.8483, -6.0474, -4.4041, -6.4094, -7.1956, -5.2829, -5.468, -6.2329, -6.6481, -6.7405, -5.2187, -5.6241, -4.2592, -5.5095, -5.4238, -6.2525, -5.3842, -4.6119, -6.5067, -4.0593, -5.4066, -5.0625, -4.4903, -5.6545, -5.4195, -5.8394, -5.8637, -4.8515, -5.2631, -4.2361, -5.4267, -5.0665, -4.6544, -4.4046, -5.5333, -4.8346, -5.3057, -5.6972, -5.4877, -5.3583, -5.027, -5.1182, -5.376, -5.4665, -5.0956, -5.3459, -7.7298, -9.8615, -4.9478, -11.1142, -5.0847, -9.1683, -6.6834, -6.8586, -7.782, -10.7088, -11.8074, -8.1438, -10.4211, -10.7088, -9.4095, -7.353, -7.4254, -10.0156, -8.8116, -8.6719, -11.8074, -11.8074, -9.6102, -10.7088, -9.8615, -9.6102, -9.8615, -8.0232, -6.1003, -5.9102, -4.5336, -6.1834, -7.4007, -7.4507, -6.8729, -7.6802, -7.713, -7.7643, -8.0938, -8.1698, -8.252, -8.3109, -8.3416, -8.3416, -8.4062, -4.6092, -5.7274, -6.4275, -5.1545, -7.5733, -6.0297, -7.7469, -6.4844, -7.0624, -5.674, -5.0969, -6.6034, -4.7827, -6.8657, -5.0162, -7.2022, -5.7048, -5.9903, -4.8652, -4.3247, -6.2127, -5.2365, -5.0528, -5.1481, -4.9776, -6.074, -5.9726, -4.1473, -5.5158, -5.514, -5.6589, -5.3972, -5.1468, -5.8464, -5.6893, -5.46, -4.9776, -5.0621, -5.3664, -5.3809, -5.4884, -5.3956, -5.5535, -5.5613, -6.6642, -4.882, -11.6059, -5.0562, -6.7696, -5.4404, -7.917, -9.9964, -6.5433, -10.9127, -11.6059, -8.7155, -11.6059, -7.7992, -7.187, -4.9556, -10.9127, -8.1094, -8.4704, -8.8978, -7.4012, -11.6059, -7.7772, -10.2196, -7.4012, -10.9127, -10.9127, -7.4787, -8.5613, -7.9949, -4.9076, -6.6019, -5.4834, -6.9519, -7.1632, -7.3018, -7.5985, -7.674, -7.674, -7.674, -7.714, -7.7992, -7.8447, -7.8682, -7.9423, -7.9683, -4.4782, -4.3265, -6.1087, -6.4241, -4.7968, -7.187, -6.0804, -6.8523, -4.8941, -4.0155, -4.51, -3.9042, -6.8184, -5.0046, -5.2779, -3.2927, -5.0986, -5.8565, -3.9837, -4.5284, -4.8454, -5.5078, -5.0779, -4.2016, -4.9288, -5.3893, -4.7968, -5.6044, -4.9288, -4.7296, -5.1649, -4.4381, -4.6901, -4.2953, -4.7327, -4.4319, -4.6842, -4.953, -4.9389, -5.0677], \"loglift\": [30.0, 29.0, 28.0, 27.0, 26.0, 25.0, 24.0, 23.0, 22.0, 21.0, 20.0, 19.0, 18.0, 17.0, 16.0, 15.0, 14.0, 13.0, 12.0, 11.0, 10.0, 9.0, 8.0, 7.0, 6.0, 5.0, 4.0, 3.0, 2.0, 1.0, 1.7237, 1.7237, 1.7237, 1.7237, 1.7237, 1.7237, 1.7237, 1.7237, 1.7237, 1.7237, 1.7237, 1.7237, 1.7237, 1.7237, 1.7237, 1.7237, 1.7237, 1.7237, 1.7237, 1.7237, 1.7237, 1.7237, 1.7237, 1.7237, 1.7237, 1.7237, 1.7237, 1.7237, 1.7237, 1.7237, 1.7237, 1.7237, 1.713, 1.7237, 1.7237, 1.7237, 1.7237, 1.7237, 1.7237, 1.7237, 1.7237, 1.7237, 1.7237, 1.7237, 1.7237, 1.7237, 1.7237, 1.7237, 1.7237, 1.7237, 1.7237, 1.7237, 1.7237, 1.7237, 1.7237, 1.7237, 1.7237, 1.7237, 1.7237, 1.712, 1.6764, 1.7029, 1.6576, 1.698, 1.6574, 1.6849, 1.5245, 1.5863, 1.626, 1.456, 1.5402, 1.5043, 1.532, 1.5481, 1.3741, 1.5692, 1.5173, 1.4817, 1.6127, 1.5042, 1.6268, 1.3161, 1.4612, 1.5055, 1.3448, 1.4381, 1.4274, 1.3859, 1.3403, 1.3194, 1.4166, 1.3084, 1.187, 1.2397, 1.3872, 1.0672, 1.1551, 0.9689, 1.1979, 0.8673, 1.1075, 0.8032, 0.6992, 0.9455, 0.8931, 0.5111, 1.0631, 0.2036, 0.7632, 0.0208, 0.9799, 1.0124, 0.4545, 0.8366, 0.3306, 0.923, 0.4067, 0.7933, 0.4272, -0.0666, 1.7513, 1.7513, 1.7513, 1.7513, 1.7513, 1.7513, 1.7513, 1.7513, 1.7513, 1.7513, 1.7513, 1.7513, 1.7513, 1.7513, 1.7513, 1.7513, 1.7513, 1.7513, 1.7513, 1.7513, 1.7513, 1.7513, 1.7513, 1.7513, 1.7513, 1.7513, 1.7513, 1.7513, 1.7513, 1.7513, 1.7513, 1.7513, 1.7513, 1.741, 1.7508, 1.7513, 1.7493, 1.7465, 1.7513, 1.7513, 1.7513, 1.7375, 1.7468, 1.7513, 1.7513, 1.7513, 1.7513, 1.7439, 1.747, 1.7513, 1.7328, 1.7513, 1.7513, 1.7513, 1.7513, 1.7474, 1.7513, 1.7114, 1.7439, 1.6914, 1.6619, 1.6372, 1.6903, 1.6331, 1.7204, 1.623, 1.6719, 1.6078, 1.6056, 1.6543, 1.655, 1.416, 1.5202, 1.5534, 1.3361, 1.637, 1.3287, 1.3689, 0.6709, 1.0369, 0.4797, -0.0874, -0.3331, 0.3898, 1.8882, 1.8882, 1.8882, 1.8882, 1.8882, 1.8882, 1.8882, 1.8882, 1.8882, 1.8882, 1.8882, 1.8882, 1.8882, 1.8882, 1.8882, 1.8882, 1.8882, 1.8882, 1.8882, 1.8882, 1.8882, 1.8882, 1.8882, 1.8882, 1.8882, 1.8882, 1.8882, 1.8882, 1.8882, 1.8882, 1.8846, 1.8882, 1.8882, 1.8882, 1.8882, 1.8831, 1.8742, 1.8882, 1.8882, 1.8882, 1.8882, 1.8882, 1.8882, 1.8827, 1.8882, 1.8882, 1.8823, 1.8792, 1.874, 1.8882, 1.8882, 1.8882, 1.8882, 1.8882, 1.8882, 1.8882, 1.8568, 1.8673, 1.8574, 1.8788, 1.8285, 1.8341, 1.8239, 1.8549, 1.8781, 1.8174, 1.84, 1.7849, 1.7927, 1.6936, 1.7308, 1.7391, 1.7404, 1.6113, 1.7173, 1.8184, 1.7864, 1.6733, 1.5718, 1.5854, 1.6545, 1.708, 1.766, 1.4407, 1.1725, 1.4351, 1.182, 1.4614, 1.4626, 1.5691, 0.9072, 1.2315, 1.5074, 1.0393, 1.1797, 1.1783, 0.9128, 0.5673, 0.7866, 0.2071, 1.1222, 0.3021, -0.6061, 0.7096, -0.3403, 0.3705, 0.0905, 2.0549, 2.0549, 2.0549, 2.0549, 2.0549, 2.0549, 2.0549, 2.0549, 2.0549, 2.0549, 2.0549, 2.0549, 2.0549, 2.0549, 2.0549, 2.0549, 2.0549, 2.0549, 2.0549, 2.0549, 2.0549, 2.0549, 2.0549, 2.0549, 2.0549, 2.0549, 2.0549, 2.0549, 2.0549, 2.0549, 2.0533, 2.0531, 2.0347, 2.0515, 2.0549, 2.0479, 2.0549, 2.0549, 2.0549, 2.0492, 2.0549, 2.0433, 2.0549, 2.0549, 2.0198, 2.0549, 2.0549, 2.0549, 2.0197, 1.9877, 2.0198, 2.0012, 1.9583, 2.0462, 1.979, 2.0169, 2.0275, 1.9662, 1.9912, 1.9723, 1.9977, 1.9722, 1.9194, 1.9169, 1.971, 2.0034, 1.7477, 1.8591, 1.854, 1.7135, 1.6262, 1.7439, 1.5031, 1.8059, 1.7428, 1.6351, 1.2133, 1.2521, 1.3278, 1.2319, 0.666, 1.3811, 0.3803, 1.3907, 1.3116, 0.6973, 1.0408, 1.2882, -0.1508, 0.6907, 0.5715, -0.014, 2.0846, 2.0846, 2.0846, 2.0846, 2.0846, 2.0846, 2.0846, 2.0846, 2.0846, 2.0846, 2.0846, 2.0846, 2.0846, 2.0846, 2.0846, 2.0846, 2.0846, 2.0846, 2.0846, 2.0846, 2.0846, 2.0846, 2.0846, 2.0846, 2.0846, 2.0846, 2.0846, 2.0846, 2.0846, 2.0846, 2.0813, 2.0773, 2.0846, 2.0618, 2.0846, 2.0846, 2.0793, 2.0846, 2.0846, 2.0846, 2.0739, 2.0846, 2.0846, 2.0846, 2.0846, 2.0846, 2.0846, 2.0846, 2.0776, 2.0846, 2.0846, 2.0846, 2.0846, 2.057, 2.0667, 2.06, 2.0732, 2.0166, 1.9464, 1.9999, 2.0503, 1.9853, 1.9772, 1.8579, 1.8781, 1.9402, 1.9326, 1.7649, 1.8496, 1.92, 1.7306, 1.7534, 1.8683, 1.7119, 1.197, 1.7763, 1.3405, 1.3046, 1.2116, 0.7117, 1.1823, 0.6878, 1.2364, 0.4375, 1.2468, 0.6836, 1.2067, 0.6806, -0.4292, 0.0986, 0.9833, -0.2029, 2.3629, 2.3629, 2.3629, 2.3629, 2.3629, 2.3629, 2.3629, 2.3629, 2.3629, 2.3629, 2.3629, 2.3629, 2.3629, 2.3629, 2.3629, 2.3629, 2.3629, 2.3629, 2.3629, 2.3629, 2.3629, 2.3629, 2.3629, 2.3629, 2.3629, 2.3629, 2.3629, 2.3629, 2.3629, 2.3629, 2.3629, 2.3629, 2.3629, 2.3629, 2.3629, 2.3629, 2.3629, 2.3629, 2.3629, 2.3629, 2.3629, 2.3629, 2.3454, 2.3629, 2.3629, 2.3629, 2.3513, 2.3368, 2.3629, 2.3629, 2.3629, 2.3629, 2.3246, 2.315, 2.3358, 2.3375, 2.3493, 2.3493, 2.3039, 2.3224, 2.2896, 2.2056, 2.2859, 2.3127, 2.2068, 2.2024, 2.2506, 2.2683, 2.2692, 2.1484, 2.1482, 2.0119, 2.1197, 2.1025, 2.1959, 2.0523, 1.9069, 2.2205, 1.7441, 1.996, 1.8469, 1.6492, 1.9493, 1.8664, 1.9965, 1.9462, 1.3871, 1.5793, 0.9542, 1.5502, 1.2276, 0.8448, 0.4619, 1.595, 0.6914, 1.2673, 1.7104, 1.176, 0.7988, -0.2702, -0.6024, 0.7463, 0.6325, 2.5015, 2.5015, 2.5015, 2.5015, 2.5015, 2.5015, 2.5015, 2.5015, 2.5015, 2.5015, 2.5015, 2.5015, 2.5015, 2.5015, 2.5015, 2.5015, 2.5015, 2.5015, 2.5015, 2.5015, 2.5015, 2.5015, 2.5015, 2.5015, 2.5015, 2.5015, 2.5015, 2.5015, 2.5015, 2.5015, 2.5015, 2.4989, 2.4749, 2.491, 2.5015, 2.5015, 2.4943, 2.5015, 2.5015, 2.5015, 2.5015, 2.5015, 2.5015, 2.5015, 2.5015, 2.5015, 2.5015, 2.4627, 2.4677, 2.4791, 2.4458, 2.4876, 2.4315, 2.485, 2.4284, 2.4513, 2.3736, 2.336, 2.4234, 2.2854, 2.4331, 2.2134, 2.4443, 2.2541, 2.2913, 2.0473, 1.9404, 2.2803, 2.0763, 2.0259, 1.9694, 1.8982, 2.2205, 2.1392, 1.043, 1.8342, 1.7686, 1.8673, 1.5167, 1.2181, 1.9603, 1.667, 1.1272, -0.1111, 0.05, 0.3944, 0.4225, 0.7599, -0.6388, 0.7806, -0.0353, 2.686, 2.686, 2.686, 2.686, 2.686, 2.686, 2.686, 2.686, 2.686, 2.686, 2.686, 2.686, 2.686, 2.686, 2.686, 2.686, 2.686, 2.686, 2.686, 2.686, 2.686, 2.686, 2.686, 2.686, 2.686, 2.686, 2.686, 2.686, 2.686, 2.686, 2.68, 2.686, 2.6714, 2.686, 2.686, 2.686, 2.686, 2.686, 2.686, 2.686, 2.686, 2.686, 2.686, 2.686, 2.686, 2.686, 2.6424, 2.6392, 2.6592, 2.6646, 2.6305, 2.6744, 2.6443, 2.6617, 2.5943, 2.545, 2.5536, 2.5179, 2.6385, 2.4848, 2.5026, 2.3251, 2.4829, 2.5503, 2.3563, 2.3961, 2.4073, 2.4836, 2.403, 2.1975, 2.3309, 2.4121, 2.141, 2.3694, 2.0716, 1.7915, 2.0098, 1.3128, 1.3931, 0.8168, 1.098, 0.3249, 0.8149, 1.3998, 0.8153, 1.0897]}, \"token.table\": {\"Topic\": [1, 1, 5, 5, 1, 4, 5, 6, 2, 4, 5, 8, 1, 6, 3, 6, 5, 6, 8, 7, 1, 3, 4, 1, 2, 3, 4, 5, 6, 7, 8, 3, 4, 5, 6, 7, 8, 3, 2, 3, 5, 6, 7, 8, 7, 7, 7, 7, 7, 7, 8, 2, 2, 5, 3, 4, 6, 8, 3, 3, 5, 1, 3, 4, 6, 8, 1, 1, 2, 4, 5, 6, 7, 8, 4, 4, 6, 1, 1, 5, 4, 1, 3, 4, 8, 3, 5, 5, 6, 6, 2, 3, 4, 5, 6, 7, 8, 3, 1, 3, 4, 5, 6, 7, 8, 3, 7, 1, 3, 4, 1, 3, 1, 2, 4, 5, 1, 2, 4, 5, 6, 1, 5, 2, 3, 4, 5, 6, 8, 8, 6, 8, 1, 3, 7, 8, 1, 2, 3, 4, 5, 6, 8, 1, 2, 3, 4, 5, 6, 7, 1, 1, 3, 4, 1, 7, 2, 3, 4, 5, 6, 7, 8, 4, 5, 2, 1, 2, 6, 1, 2, 3, 4, 5, 6, 7, 8, 2, 1, 2, 3, 4, 5, 6, 7, 8, 2, 8, 6, 1, 2, 3, 4, 5, 6, 7, 8, 1, 2, 3, 6, 8, 1, 2, 3, 4, 5, 6, 7, 8, 2, 2, 1, 2, 5, 5, 6, 5, 1, 4, 4, 3, 3, 2, 3, 7, 1, 2, 3, 4, 5, 6, 7, 6, 6, 8, 8, 3, 4, 5, 6, 7, 1, 5, 6, 7, 1, 2, 3, 4, 5, 6, 7, 8, 6, 1, 2, 3, 4, 5, 6, 7, 8, 1, 3, 4, 5, 6, 7, 6, 1, 3, 4, 6, 7, 1, 2, 5, 2, 8, 5, 6, 7, 1, 1, 2, 3, 5, 6, 7, 8, 6, 1, 6, 7, 8, 1, 2, 7, 6, 1, 1, 2, 3, 4, 5, 6, 7, 8, 1, 1, 2, 3, 8, 8, 6, 4, 7, 5, 8, 1, 2, 4, 5, 6, 2, 2, 1, 3, 6, 1, 2, 3, 4, 5, 6, 7, 8, 2, 2, 1, 3, 5, 6, 4, 7, 1, 6, 1, 2, 3, 4, 5, 6, 7, 8, 1, 1, 5, 6, 7, 1, 2, 4, 5, 5, 2, 1, 2, 3, 5, 6, 7, 3, 4, 2, 3, 5, 7, 1, 2, 3, 4, 6, 7, 2, 3, 6, 7, 8, 2, 4, 5, 6, 7, 8, 1, 2, 4, 2, 2, 2, 7, 1, 2, 3, 4, 6, 7, 2, 7, 3, 4, 5, 6, 8, 1, 3, 4, 5, 6, 7, 3, 4, 5, 6, 7, 1, 3, 3, 6, 3, 1, 2, 4, 5, 6, 7, 1, 2, 5, 7, 5, 5, 6, 6, 6, 3, 5, 1, 2, 3, 4, 5, 6, 7, 8, 1, 2, 3, 4, 5, 6, 7, 8, 3, 6, 2, 6, 8, 1, 6, 8, 1, 2, 5, 1, 4, 1, 2, 1, 2, 4, 6, 1, 2, 3, 4, 5, 6, 8, 2, 5, 6, 8, 5, 3, 8, 1, 3, 4, 5, 6, 7, 1, 3, 4, 3, 1, 3, 3, 4, 4, 1, 2, 3, 4, 5, 6, 7, 8, 2, 4, 5, 6, 7, 2, 5, 6, 7, 1, 3, 6, 7, 1, 1, 2, 3, 4, 5, 8, 6, 1, 3, 4, 3, 1, 2, 3, 5, 6, 7, 8, 4, 6, 4, 3, 4, 1, 4, 5, 7, 8, 1, 2, 3, 4, 5, 6, 7, 8, 3, 4, 6, 7, 1, 2, 5, 6, 8, 1, 3, 4, 1, 3, 4, 5, 6, 4, 1, 3, 4, 5, 1, 3, 7, 7, 7, 1, 2, 3, 4, 5, 7, 8, 4, 5, 2, 6, 3, 3, 1, 6, 1, 4, 5, 1, 2, 3, 4, 5, 6, 7, 8, 6, 5, 5, 4, 1, 2, 3, 4, 5, 6, 7, 8, 1, 2, 3, 5, 6, 8, 1, 4, 4, 5, 5, 8, 1, 3, 4, 1, 2, 3, 5, 7, 2, 3, 4, 1, 2, 4, 5, 6, 8, 1, 3, 4, 5, 6, 4, 6, 1, 1, 2, 3, 4, 5, 1, 2, 3, 4, 5, 8, 8, 2, 5, 1, 2, 5, 1, 2, 4, 5, 6, 1, 2, 3, 4, 7, 8, 1, 2, 3, 4, 5, 6, 7, 8, 1, 2, 4, 5, 6, 7, 8, 1, 2, 3, 4, 7, 8, 1, 4, 5, 6, 7, 3, 6, 7, 1, 3, 7, 8, 2, 1, 2, 3, 6, 7, 8, 1, 1, 2, 3, 4, 5, 6, 7, 8, 6, 8, 8, 1, 2, 3, 4, 6, 7, 8, 6, 1, 2, 3, 4, 6, 7, 1, 1, 2, 3, 4, 5, 6, 7, 8, 1, 8, 7, 1, 2, 3, 4, 5, 6, 7, 8, 5, 1, 1, 2, 3, 4, 5, 6, 5, 5, 1, 3, 5, 6, 7, 8, 4, 7, 7, 1, 2, 3, 4, 5, 6, 7, 8, 4, 4, 5, 1, 2, 3, 4, 5, 6, 7, 8, 1, 1, 2, 3, 4, 5, 6, 7, 8, 2, 3, 4, 5, 6, 7, 8, 6, 3, 5, 6, 8, 8, 8, 6, 1, 1, 3, 4, 5, 6, 7, 4, 5, 6, 1, 2, 3, 4, 5, 6, 7, 8, 2, 4, 2, 8, 4, 1, 6, 1, 7, 8, 3, 6, 7, 8, 4, 1, 5, 1, 2, 3, 4, 5, 6, 7, 8, 4, 1, 2, 3, 4, 5, 6, 7, 8, 8, 1, 2, 3, 4, 5, 6, 7, 8, 1, 1, 3, 4, 5, 7, 1, 2, 3, 4, 5, 6, 8, 1, 2, 3, 5, 6, 7, 1, 2, 3, 5, 7, 8, 1, 2, 3, 4, 5, 6, 7, 1, 8, 1, 2, 3, 4, 5, 6, 2, 5, 1, 2, 3, 4, 5, 6, 7, 8, 3, 1, 2, 3, 4, 5, 6, 7, 3, 3, 3, 5, 7, 8, 2, 4, 7, 3, 2, 3, 4, 5, 6, 7, 8, 3, 4, 6, 7, 6, 3, 2, 6, 5, 1, 1, 2, 3, 4, 5, 6, 7, 8, 3, 3, 5, 6, 7, 8, 8, 1, 5, 7, 1, 8, 1, 2, 3, 4, 5, 6, 7, 8, 5, 4, 1, 2, 3, 5, 6, 7, 8, 3, 1, 1, 2, 3, 4, 5, 6, 7, 8, 3, 4, 7, 8, 1, 7, 1, 2, 3, 4, 5, 6, 7, 8, 4, 3, 1, 3, 4, 5, 8, 2, 6, 1, 2, 3, 4, 5, 6, 1, 2, 3, 5, 6, 7, 8, 1, 4, 1, 2, 3, 4, 5, 6, 7, 7, 1, 2, 3, 4, 5, 6, 7, 1, 2, 2, 1, 1, 2, 3, 5, 6, 7, 8, 2, 2, 4, 5, 1, 2, 4, 5, 6, 4, 7, 1, 2, 3, 4, 5, 6, 7, 8, 2, 3, 4, 6, 7, 8, 3, 1, 4, 8, 1, 5, 6, 7, 1, 2, 4, 1, 2, 4, 1, 3, 8, 4, 7, 4, 8, 5, 7, 1, 4, 8, 4, 5, 1, 2, 3, 4, 5, 6, 7, 8, 7, 1, 2, 3, 4, 5, 6, 8, 1, 3, 6, 1, 3, 7, 7, 8, 8, 2, 1, 3, 4, 7, 6, 1, 3, 4, 5, 3, 1, 3, 4, 1, 4, 5, 6, 7, 4, 5, 6, 1, 2, 3, 4, 5, 6, 7, 8, 7, 5, 7, 1, 2, 3, 4, 5, 6, 7, 8, 5, 1, 4, 5, 2, 4, 6, 1, 2, 4, 1, 2, 3, 4, 5, 6, 7, 8, 3, 4, 1, 3, 5, 8, 2, 3, 4, 5, 6, 7, 3, 6, 7, 7, 4, 1, 6, 3, 4, 5, 6, 7, 1, 3, 4, 6, 6, 8, 2, 7, 8, 1, 2, 3, 4, 5, 6, 7, 8, 2, 3, 4, 6, 7, 2, 2, 2, 1, 3, 4, 5, 6, 7, 8, 2, 8, 3, 4, 6, 3, 6, 7, 7, 3, 8, 3, 1, 5, 7, 1, 4, 5, 1, 4, 5, 6, 1, 2, 3, 4, 6, 8, 7, 4, 4, 1, 2, 3, 5, 4, 2, 1, 2, 4, 8, 2, 3, 5, 7, 8, 2, 7, 4, 1, 4, 5, 1, 4, 5, 6, 2, 1, 4, 4, 4, 3, 3, 5, 7, 5, 1, 2, 3, 4, 5, 6, 7, 8, 1, 3, 5, 6, 7, 8, 5, 1, 2, 3, 8, 1, 2, 3, 6, 8, 8, 1, 2, 1, 4, 5, 1, 2, 4, 5, 1, 2, 3, 4, 5, 1, 5, 5, 4, 4, 3, 1, 7, 2, 7, 1, 2, 3, 4, 5, 6, 7, 8, 3, 6, 1, 6, 7, 8, 1, 2, 5, 6, 7, 3, 4, 5, 4, 1, 2, 3, 4, 5, 6, 7, 2, 1, 2, 1, 2, 3, 4, 6, 7, 8, 3, 3, 3, 4, 5, 1, 2, 3, 4, 5, 6, 2, 8, 8, 2, 6, 2, 1, 3, 7, 8, 5, 7, 7, 1, 3, 7, 6, 1, 2, 3, 4, 5, 6, 7, 8, 2, 1, 3, 1, 2, 3, 5, 6, 7, 8, 1, 2, 5, 1, 4, 6, 2, 3, 5, 7, 1, 2, 3, 6, 8, 1, 3, 2, 5, 1, 1, 1, 4, 5, 6, 7, 5, 6, 6, 5, 1, 2, 3, 4, 5, 7, 8, 1, 2, 3, 4, 5, 6, 7, 8, 6, 1, 2, 3, 4, 6, 8, 1, 2, 3, 6, 7, 8, 8, 1, 3, 7, 8, 1, 6, 8, 6, 7, 1, 4, 5, 6, 6, 1, 1, 1, 1, 4, 5, 8, 1, 2, 4, 5, 6, 1, 1, 4, 5, 6, 7, 2, 4, 8, 8, 5, 2, 6, 7, 8, 1, 3, 4, 3, 8, 1, 3, 4, 5, 7, 8, 5, 1, 2, 3, 4, 6, 7, 8, 1, 3, 4, 6, 7, 1, 2, 4, 1, 1, 2, 6, 7, 1, 2, 3, 5, 6, 7, 8, 6, 1, 2, 1, 2, 4, 6, 5, 1, 8, 1, 1, 2, 3, 4, 5, 6, 4, 1, 6, 4, 7, 3, 2, 5, 2, 1, 2, 3, 4, 5, 6, 1, 2, 2, 3, 1, 3, 4, 5, 7, 8, 1, 3, 7, 8, 1, 2, 3, 4, 5, 6, 8, 7, 1, 6, 8, 2, 3, 8, 1, 2, 3, 5, 6, 7, 8, 1, 2, 3, 4, 5, 6, 7, 8, 6, 1, 2, 3, 4, 5, 6, 7, 8, 2, 3, 5, 7, 3, 5, 7, 3, 4, 5, 6, 7, 1, 2, 3, 5, 6, 2, 1, 1, 3, 4, 5, 6, 2, 4, 5, 6, 1, 2, 4, 5, 7, 1, 2, 3, 4, 5, 6, 7, 8, 1, 4, 4, 5, 2, 1, 3, 4, 5, 6, 7, 8, 5, 5, 1, 1, 2, 3, 4, 5, 1, 2, 4, 1, 3, 4, 6, 8, 8, 5, 1, 8, 2, 7, 8, 3, 7, 3, 3, 3, 1, 3, 5, 6, 1, 2, 4, 5, 7, 1, 2, 4, 1, 4, 5, 1, 2, 3, 4, 5, 6, 7, 8, 7, 6, 1, 2, 3, 4, 5, 8, 1, 2, 3, 4, 5, 6, 7, 8, 8, 8, 5, 7, 5, 6, 7, 1, 2, 3, 4, 5, 7, 8, 7, 7, 1, 2, 4, 5, 6, 1, 2, 4, 6, 1, 3, 4, 6, 7, 1, 2, 3, 4, 5, 6, 7, 8, 1, 3, 4, 5, 1, 2, 3, 8, 3, 7, 7, 6, 8, 4, 3, 4, 5, 1, 1, 6, 3, 5, 7, 8, 8, 2, 7, 3, 5, 8, 3, 1, 2, 3, 4, 5, 7, 8, 1, 5, 6, 1, 4, 1, 4, 5, 6, 7, 8, 2, 1, 3, 6, 7, 8, 1, 2, 3, 4, 5, 7, 8, 5, 1, 5, 1, 2, 4, 1, 2, 3, 6, 7, 8, 5, 1, 2, 3, 4, 6, 1, 2, 3, 4, 5, 6, 7, 8, 2, 4, 5, 6, 8, 6, 1, 2, 3, 4, 5, 6, 7, 1, 2, 3, 4, 5, 6, 7, 8, 3, 8, 1, 2, 3, 4, 5, 1, 2, 3, 4, 5, 6, 1, 2, 3, 4, 5, 8, 1, 2, 3, 4, 5, 6, 7, 8, 1, 2, 3, 4, 5, 6, 8, 5, 1, 1], \"Freq\": [1.008594491840495, 0.0050185206594362515, 0.9936670905683779, 1.0000492098825011, 0.01111811795455546, 0.9196271850982302, 0.05082568207796782, 0.017471328214301435, 0.08319513141757688, 0.49380336067206926, 0.4154389143045452, 0.006977656183409674, 0.012779882941615939, 0.9840509865044273, 0.988629023141528, 1.004291562509159, 0.07196806048860231, 0.9253036348534582, 0.0034270504994572525, 1.008200720418081, 0.22308624209316347, 0.6831396480097317, 0.09419196888378013, 0.239109178535296, 0.15533963639537937, 0.0052864274165966806, 0.46439231613487764, 0.051237681114706286, 0.05327092242878193, 0.008132965256302586, 0.022772302717647238, 0.12911654295554678, 0.008607769530369786, 0.0012296813614813978, 0.8521691835066088, 0.008607769530369786, 0.9969072999373064, 1.0168755666598572, 0.06800908370118666, 0.06868244096555484, 0.03434122048277742, 0.018854003402309173, 0.805335288184349, 0.0040401435862091085, 1.000507688993821, 0.9996815418364597, 0.9995930733249382, 1.0053867630644422, 1.0020904130216077, 1.0000332018634888, 1.0095220639926006, 0.9712211004580825, 1.0001184274824049, 0.9737321254119091, 0.9040336203894316, 0.03587435001545364, 0.05739896002472582, 0.0023916233343635757, 1.00138744090716, 1.001253176669273, 1.007309095253699, 0.07211136895521465, 0.8610945822299161, 0.025451071395958112, 0.039873345187001044, 0.000848369046531937, 0.9474675529410709, 0.05839134174879734, 0.13460740887354336, 0.057776696046178425, 0.2513900923711381, 0.4437741972908598, 0.01044897694452163, 0.04363984488594328, 0.9725273803589628, 1.0099322796035384, 1.0271163707480035, 0.9474675529410709, 0.9474675529410708, 1.0085082727480488, 0.9725273803589628, 0.12380049568749743, 0.8356533458906076, 0.02407231860590228, 0.0171945132899302, 0.9533208437436163, 0.9737321254119091, 0.9737321254119091, 1.0054049677891028, 0.9916985648601415, 0.0183215274501908, 0.4916276532467864, 0.4621096367992568, 0.005089313180608556, 0.010687557679277966, 0.0035625192264259887, 0.008142901088973689, 0.998717074398074, 0.05176902079576931, 0.09104207105462879, 0.10889345753592855, 0.06069471403641919, 0.16066247833169786, 0.5132273613373681, 0.013388539860974822, 0.9884939810336414, 0.008825839116371798, 0.04307984474734565, 0.8428665276654583, 0.11331872205280051, 0.09837409852740071, 0.9015379714360422, 6.332033651787074e-05, 0.018932780618843348, 0.11017738554109507, 0.8708445881302762, 0.04451511571267446, 0.17892483402958473, 0.04537948689156134, 0.7262878830597033, 0.004970134278599576, 0.01683850083824083, 0.9833684489532645, 0.0613426869464737, 0.14897509687000757, 0.7322174695833051, 0.025316029533465338, 0.023368642646275695, 0.009736934435948207, 1.0027714605251727, 0.02031533586557324, 0.9802149555139087, 0.11132210025155427, 0.8070852268237685, 0.009276841687629522, 0.07318397331352179, 0.11579510904733058, 0.014178992944571091, 0.10319155976326738, 0.7109189518041894, 0.014178992944571091, 0.02678254222863428, 0.01496671477482504, 0.7440220121133109, 0.006380977805431482, 0.022971520099553337, 0.16973400962447743, 0.04466684463802038, 0.012761955610862965, 0.9394597622077574, 0.9905342598929379, 0.95744191676914, 0.009206172276626345, 0.02761851682987904, 1.008594491840495, 1.0009720085427893, 0.3536837625491391, 0.014452767475022646, 0.25115092159426144, 0.24569704707538498, 0.05372066401093323, 0.009271586682089999, 0.07171844992322558, 0.9960064285187299, 0.003353556998379562, 1.00004233132274, 0.007043887293091385, 0.986144221032794, 0.007043887293091385, 0.031063927768777835, 0.023010316865761358, 0.1748784081797863, 0.02646186439562556, 0.025311348552337493, 0.6615466098906391, 0.05752579216440339, 0.0011505158432880678, 0.9986567247648079, 0.13693904456857442, 0.1415968352001586, 0.11178697515801994, 0.05340933257549842, 0.09098217700361068, 0.3213875535793073, 0.12420775017557771, 0.019873240028092435, 0.02331298114633969, 0.979145208146267, 1.0026163472255742, 0.10264784912600713, 0.06759375655703928, 0.005620487416121428, 0.7355443136939963, 0.06286071452241071, 0.006212117670449999, 0.00014790756358214283, 0.019375890829260712, 0.04746466234904322, 0.09662449121055228, 0.008475832562329146, 0.030512997224384927, 0.8170702590085297, 0.16687786866205054, 0.18090581177010498, 0.07742695871328764, 0.22681544376010143, 0.07797350195126378, 0.10694029356399963, 0.12151477991003024, 0.04135510500686187, 0.9712211004580826, 0.9712211004580826, 0.9474675529410709, 0.010358567489919162, 0.9909696232022664, 0.998540587205843, 0.9586419460314702, 0.9737321254119091, 0.8959819723064901, 0.10222613106852571, 0.9956827941770334, 0.996006851672435, 1.0062831128404837, 0.012750308166545639, 0.9530855354492864, 0.03506334745800051, 0.7651575711863217, 0.012574487611936264, 0.0018861731417904395, 0.048726139496253026, 0.12983158459324193, 0.03929527378730083, 0.002200535332088846, 0.9985853604494481, 0.9996095505627295, 1.0063162143133606, 0.9895770992024732, 0.17531182611210908, 0.08765591305605454, 0.033931321182988854, 0.6588331529697002, 0.04524176157731847, 0.0013741826116317505, 0.0013741826116317505, 0.9536827324724348, 0.043973843572216016, 0.10677814805652674, 0.07689985892144358, 0.4934815787474803, 0.08596130726569011, 0.11412526833564555, 0.035266177339770305, 0.04481743370262476, 0.042613297618889115, 0.986837297385337, 0.05729907403535506, 0.003536979878725621, 0.07569136940472829, 0.026173651102569594, 0.07356918147749292, 0.15774930259116268, 0.587138659868453, 0.01839229536937323, 0.014184377732273356, 0.03420938158960045, 0.020859379018049053, 0.286190680127633, 0.16437190666222654, 0.4806000925758502, 1.0009349730622703, 0.11548345883826328, 0.0333235851374093, 0.20051605539579048, 0.5969518096166943, 0.054581734276791104, 0.021505153259677168, 0.010752576629838584, 0.9677318966854727, 1.028351753426205, 0.923605292588975, 0.9895858165439679, 0.0053781837855650435, 0.0053781837855650435, 0.9474675529410709, 0.062212947432268184, 0.05291675988491777, 0.22096322708702149, 0.04004511558858642, 0.46409428601772473, 0.1380126305106639, 0.021452740493885583, 1.0090967852962842, 0.0771246536065375, 0.02297330107428777, 0.7810922365257841, 0.11978935560164336, 0.003356098688305697, 0.006712197376611394, 0.9900491130501806, 0.9966832930962112, 0.9474675529410709, 0.0005506886414299742, 0.07324158931018657, 0.05231542093584755, 0.149236621827523, 0.4328412721639597, 0.21917407928912971, 0.06993745746160672, 0.0022027545657198966, 0.9474675529410709, 0.002893114676908172, 0.03375300456392867, 0.01735868806144903, 0.9460484993489723, 1.0002023661330126, 0.9586419460314702, 0.9716313102310719, 0.025457588914351226, 0.025794949600902305, 0.9728380992340298, 0.49099588490705975, 0.03236224164165996, 0.42070914134157955, 0.056128262847254, 1.00124825474398, 1.0038671878684382, 0.9987734721022835, 0.9772570768540332, 0.009871283604586193, 0.009871283604586193, 0.0639438819689966, 0.16248541988257106, 0.07825660273178328, 0.051175699418021435, 0.10152764512307673, 0.24444891432270197, 0.23260745469881372, 0.06559138939492888, 1.028351753426205, 0.9712211004580826, 0.045993420929416856, 0.0318415991049809, 0.053069331841634836, 0.8667990867467023, 0.998461443835202, 0.9394597622077574, 0.08977814318120916, 0.9106068808379787, 0.017230640081207782, 0.11703830998556228, 0.0009753192498796857, 0.031210215996149943, 0.07672511432386861, 0.037387237912054616, 0.0003251064166265619, 0.719135393577955, 0.9474675529410708, 0.13232775574894423, 0.7018884711183584, 0.16017172102111793, 0.0055136564895393435, 0.006555637958189228, 0.001638909489547307, 0.9478359881215258, 0.044250556217777286, 0.9737321254119091, 1.0007514717557946, 0.05810058318899166, 0.004648046655119332, 0.8854528878002329, 0.002324023327559666, 0.020916209948036998, 0.027888279930715996, 0.9681363148527011, 0.031916581808330804, 0.0024958616810691835, 0.9958488107466043, 0.0024958616810691835, 1.0031519494760799, 0.016728480899004982, 0.2935088012279965, 0.006653373084831527, 0.019579926506789923, 0.538543027123649, 0.12508341399483272, 0.001372928788422721, 0.01372928788422721, 0.08374865609378598, 0.06864643942113605, 0.8319948457841689, 0.2674206978511902, 0.0415288613133613, 0.04782111302750696, 0.04278731165619044, 0.059776391284383695, 0.5411336474165261, 0.019891026712805, 0.9081018733884437, 0.07191371196167962, 0.9999554525426411, 0.9712211004580826, 1.0002127750986223, 0.9394597622077574, 0.003497147075778099, 0.8203307854896627, 0.0574531305306402, 0.0729404961519432, 0.02348084465165295, 0.021982067333462335, 0.9952125724116434, 0.004470856120447634, 0.6527358607895891, 0.17581871059436044, 0.019930865978308066, 0.13738061192190917, 0.014948149483731049, 0.12428312435313862, 0.03250481713851318, 0.04971324974125545, 0.009560240334856817, 0.08795421108068271, 0.6959854963775762, 0.061977291657313485, 0.016068186725970164, 0.11018185183522397, 0.055090925917611985, 0.7552047761205977, 0.005237848819883528, 0.9951912757778704, 0.011018166051683691, 0.9916349446515322, 0.9533208437436163, 0.05248667596107593, 0.11948186397643301, 0.01792227959646495, 0.7971147210999173, 0.00256032565663785, 0.009814581683778426, 0.7512717798824738, 0.004053624711596082, 0.20403244381700278, 0.040536247115960815, 0.9737321254119091, 0.024433645874671398, 0.9773458349868559, 1.0385287748674261, 0.9994352203306817, 0.997456067991006, 1.0224187316825046, 0.10496199250476713, 0.11561967174371272, 0.33232581626893964, 0.048443996540661755, 0.03423375755540097, 0.18731678662389212, 0.11852631153615242, 0.05845575582573185, 0.7135522044990439, 0.017691376971050672, 0.02063993979955912, 0.14005673435415117, 0.045702723841880906, 0.02063993979955912, 0.029485628285084456, 0.013268532728288006, 0.016526718960136477, 0.9805853249680977, 0.9922707584752373, 0.0070473775459889, 0.923605292588975, 0.9921903254228681, 0.011148205903627733, 0.9992788354691641, 0.005220054610886246, 0.01827019113810186, 0.9761502122357281, 1.0016085559662748, 0.9725273803589628, 0.05922055769470827, 0.9411611212126756, 0.5909223662434799, 0.009859661283261623, 0.398987626595987, 0.9928791583897368, 0.5397415329365152, 0.06219466561893711, 0.1395323802581372, 0.1406140266167274, 0.10546051996254555, 0.011357286765197212, 0.0005408231792951053, 0.8644111077310587, 0.012761313944747563, 0.05037360767663512, 0.07220217100317701, 1.0032391595153003, 0.24621346059465432, 0.7539015466968548, 0.017511028184914512, 0.002694004336140694, 0.9651270534224037, 0.008082013008422081, 0.0006735010840351735, 0.0047145075882462145, 0.003119391097289209, 0.9326979380894734, 0.06550721304307339, 1.0000253231201046, 1.0048898288768933, 1.000052257652617, 0.9928351836647217, 0.009830051323413086, 0.9725273803589628, 0.6818325441336971, 0.05257503954765857, 0.06571879943457322, 0.0008214849929321651, 0.11007898905291014, 0.054218009533522904, 0.023001579802100627, 0.013143759886914642, 0.014687842634871395, 0.029081928417045363, 0.47500483081174094, 0.3768900420108, 0.10398992585488948, 0.006355562165985772, 0.18521924026587108, 0.8071563950801931, 0.0009079374522836817, 0.03586104469096073, 0.0017930522345480364, 0.08248040278920968, 0.8803886471630858, 1.0106320564704756, 0.4591662559549584, 0.2164036571297288, 0.07094134925455772, 0.22616622812806245, 0.02570810362894523, 0.0013016761331111509, 0.9586419460314702, 0.029328273987014382, 0.9689610521094366, 0.0011280105379620916, 0.9533208437436163, 0.07530073935367287, 0.0034754187394002867, 0.013901674957601147, 0.8051386746277331, 0.03475418739400287, 0.05676517274353802, 0.01042625621820086, 0.9986705895083974, 0.9948171138062426, 0.9983924702621269, 0.001739700054840034, 0.9985878314781795, 0.07156028223548855, 0.021468084670646564, 0.905953173101285, 0.0014312056447097709, 0.923605292588975, 0.26803008824392516, 0.14026445032454116, 0.08610292990219358, 0.14387521835269768, 0.1444307211262602, 0.08471417296828723, 0.11137830609928911, 0.02138685678215776, 0.22975519968501873, 0.6569150105936599, 0.07922593092586852, 0.03367102064349412, 0.6671250203012894, 0.05175272884761518, 0.05175272884761518, 0.1132090943541582, 0.11644363990713415, 0.036612675798704815, 0.04326952594392387, 0.9208642700886362, 0.03823589649326285, 0.02099225689826196, 0.9154123454563519, 0.00524806422456549, 0.020242533437609747, 0.993219452281494, 0.01626241620863282, 0.9423166725335574, 0.01355201350719402, 0.028007494581534304, 1.0032009384081928, 0.9533208437436163, 0.9981759973457421, 1.0438441802308416, 0.9987612089916359, 0.516373617767386, 0.17059680665885038, 0.028008430943990362, 0.15430099229143782, 0.02749918674500872, 0.03208238453584351, 0.07129418785743001, 0.9495680708221126, 0.04891714304235126, 0.9953729704107086, 0.004271986997470853, 0.997320267301014, 0.9983274071821561, 0.9474675529410709, 0.9995595900693988, 0.857249345222132, 0.06361214222496386, 0.08178704000352496, 0.058866659643367215, 0.03774656038200646, 0.25119437206597156, 0.16806206646274305, 0.08133485034694249, 0.3051180297545522, 0.07684121220622743, 0.020221371633217744, 0.9586419460314702, 1.0056577688680373, 0.9996983154228933, 0.972527380358963, 0.037903112010835814, 0.20873785257396008, 0.13103647295174667, 0.06822560161950446, 0.05360582984389636, 0.2092793256026863, 0.13266089203792533, 0.15865159741678417, 0.06779872000488175, 0.08260533701744215, 0.09936019311060258, 0.08026745012072209, 0.2610640368004068, 0.4087405591098906, 1.042214308235178, 0.9956827941770334, 0.9725273803589628, 0.9999587213399089, 0.9927069403877252, 0.007211343136381032, 0.26828880585454146, 0.7267127219451275, 0.004665892275731155, 0.022024623745711475, 0.022024623745711475, 0.03817601449256656, 0.864833559081604, 0.05139078873999345, 1.028351753426205, 1.0327642473889176, 0.9993557218861067, 0.07615590786418033, 0.024969150119403385, 0.009987660047761355, 0.7340930135104595, 0.13982724066865895, 0.014981490071642031, 0.4357897593442574, 0.04782368138258409, 0.4833304603636309, 0.013583057434106725, 0.019525645061528416, 0.9725273803589628, 1.0000107271050274, 1.015143806722576, 0.3403519174294186, 0.00038113316621435453, 0.0060981306594296725, 0.6513565810603319, 0.0019056658310717726, 0.07701381174865271, 0.04231528118057841, 0.03808375306252057, 0.732900670047618, 0.05754878240558664, 0.05247094866391723, 0.9960449233802672, 0.9608707677139419, 0.039149036096810294, 0.9905342598929379, 1.0018912404725482, 0.9956137462076824, 0.018504303478038334, 0.8922230049100655, 0.0001434442130080491, 0.05852523890728404, 0.03069706158372251, 0.047644901859730096, 0.04940952785453492, 0.030351567110642876, 0.014117007958438548, 0.013058232361555656, 0.8452558515115081, 0.584810034469786, 0.02627891025078211, 0.11429240331292537, 0.01793639906005763, 0.1426569413613886, 0.044632434870375964, 0.05756332721599891, 0.011679515667014272, 0.0319475565594883, 0.04177757396240778, 0.11304520013357398, 0.7907020248473354, 0.009830017402919477, 0.0061437608768246735, 0.0073725130521896075, 0.07990524865199167, 0.03382849942931034, 0.0005832499901605231, 0.11781649801242566, 0.019830499665457784, 0.7483097373759511, 0.07903590188990445, 0.023608126538542887, 0.011290843127129207, 0.8550247568089663, 0.030793208528534198, 0.005043167920561087, 0.9733314086682898, 0.020172671682244347, 1.0066842749998879, 0.015224810364894589, 0.9737534962547163, 0.010784240675133666, 0.9991030459257787, 0.06399967406394665, 0.042666449375964435, 0.02909076093815757, 0.0019393840625438379, 0.8475108353316572, 0.013575688437806864, 1.0048898288768933, 0.1566148992382169, 0.19789911693341797, 0.16570500221697676, 0.1318064931920181, 0.06912265806765316, 0.091658538369162, 0.08521971542587377, 0.10188490422026686, 0.013971515088199054, 0.9859897790814761, 0.9960449233802672, 0.11328354963736637, 0.04027859542661915, 0.738860484857045, 0.021398003820391424, 0.003146765267704621, 0.05475371565806041, 0.027691534355800667, 0.9895658797744207, 0.028145538648738484, 0.00987562759604859, 0.728821316588386, 0.11653240563337337, 0.10468165251811506, 0.01185075311525831, 1.0128101427990759, 0.02667574209119949, 0.08905593898138907, 0.09562227549614587, 0.3180569249335324, 0.10998613662217636, 0.3344727662204244, 0.019288613512098093, 0.006566336514756798, 0.9474675529410709, 1.0075694100970636, 1.0000700694469675, 0.24827871379632704, 0.08892720471336124, 0.3749669396193958, 0.11932482670667581, 0.03096403730996018, 0.04191473343177536, 0.05248781934249347, 0.04304756406506659, 0.9983835716248688, 1.0054757704680755, 0.6848696276638974, 0.04366975852911321, 0.07775347250305523, 0.14006276211166796, 0.0484627808066988, 0.004793022277585596, 0.9977748939405983, 0.9999980977201717, 0.014587808275526531, 0.006078253448136055, 0.0072939041377632656, 0.01641128430996735, 0.0006078253448136055, 0.9542857913573606, 0.015932228569824534, 0.9877981713291212, 0.9394597622077574, 0.05353640079454649, 0.039543932405062744, 0.6357447594352396, 0.14783347037584996, 0.018251045725413573, 0.03467698687828579, 0.047452718886075294, 0.023726359443037647, 1.0049449597042617, 0.997787831796858, 0.9737321254119091, 0.13480036278197835, 0.09820635848105348, 0.4887913431623537, 0.1712076629793271, 0.030432768882912013, 0.011015542110992692, 0.03398014685085881, 0.03136628940079275, 0.9895772219606741, 0.27349523126469394, 0.3898261781828667, 0.16068946455616281, 0.06580336391330982, 0.03348921199159518, 0.012338130733745591, 0.022032376310259984, 0.042595927533169306, 0.014160709950892077, 0.027141360739209815, 0.10030502881881888, 0.0023601183251486797, 0.7835592839493616, 0.036581834039804535, 0.034221715714655855, 0.9586419460314702, 0.05227880643749188, 0.017426268812497293, 0.017426268812497293, 0.9123164260660347, 0.9984922082042973, 1.0039187962923641, 1.0150326487392036, 0.9973342662537588, 0.0007498809867614341, 0.822994382970674, 0.0701138722621941, 0.016122441215370834, 0.04424297821892462, 0.04536779969906676, 0.9801321590155911, 0.013819095714580136, 0.006653638677390436, 0.04649371776047038, 0.15123231271537615, 0.17499009157100115, 0.04445003785891124, 0.24626342813787605, 0.17728923146025516, 0.02452415881870965, 0.13488287350290307, 0.9975772540612281, 0.003764442468155578, 0.9959131623341355, 0.9851789787615732, 1.0017032017697318, 0.9474675529410709, 1.0090967852962842, 0.9915358112173996, 0.9994252789444228, 0.9946518535573576, 0.047897393705927035, 0.9292094378949844, 0.023948696852963518, 0.9960449233802672, 0.972527380358963, 0.9474675529410709, 1.0026548618102826, 0.04246033168183455, 0.07701138589352345, 0.1228019396680509, 0.21438304721710583, 0.055781220052606176, 0.1511088274559406, 0.2530968790446608, 0.08325555231732265, 0.972527380358963, 0.18980053146840467, 0.0072076151190533415, 0.018019037797633353, 0.5097385581419391, 0.16857810917341426, 0.022023268419329653, 0.015616499424615573, 0.06887276669317638, 1.0039187962923641, 0.01367482895261531, 0.06993698235766115, 0.20473172489058347, 0.1486649261848607, 0.24731904934301402, 0.09748199496221484, 0.013870183651938385, 0.20434101549193734, 0.9960556325790746, 0.1798721983511279, 0.0181079394313216, 0.7798485915089169, 0.0012071959620881068, 0.02172952731758592, 0.025468191724620677, 0.11086154044834882, 0.05917609253661863, 0.02397006279964299, 0.0741573817863955, 0.19850208255954352, 0.5086147700299247, 0.23051663339554773, 0.02634475810234831, 0.017876800140879213, 0.0075270737435280885, 0.6924907844045842, 0.0254038738844073, 0.15011421209742762, 0.08197726476242502, 0.031939194063282474, 0.01277567762531299, 0.530190621450489, 0.19163516437969483, 0.2076731938202285, 0.4894707053142434, 0.0609883626429888, 0.032839887576993965, 0.0750626001759862, 0.11103009609364627, 0.022831540886862473, 1.008594491840495, 1.005703540819106, 0.7848100327184008, 0.05304399606698869, 0.019288725842541342, 0.1277878087068364, 0.010849908286429505, 0.0036166360954765016, 0.9997864269421438, 0.9986996158070862, 0.061156008897354015, 0.33944936972623907, 0.04171420826128898, 0.05519683628859845, 0.2533393255297211, 0.14942625316454586, 0.07337231274530294, 0.026294849136133943, 1.0399863749930358, 0.021766131645868655, 0.018863980759752833, 0.014510754430579103, 0.09722205468487999, 0.06384731949454805, 0.6936140617816811, 0.08996667746959043, 0.9533208437436163, 0.9533208437436163, 0.011738431634377166, 0.8979900200298532, 0.08803823725782874, 0.001956405272396194, 1.028351753426205, 0.9725273803589628, 1.0117258977622001, 0.9533208437436163, 0.2562504519123694, 0.10687905301797532, 0.1346791301506832, 0.19258395402295553, 0.18797461480924232, 0.07907897588526745, 0.042636387726847295, 0.9984103431098684, 0.005683896892538971, 0.9435268841614691, 0.05115507203285073, 0.9586419460314702, 0.9533208437436163, 0.9691269106490669, 0.03082029044466997, 0.9737321254119091, 0.9964744953345746, 0.08907600562845763, 0.1425868661525128, 0.30768744801331704, 0.2858263037748311, 0.01925085835926374, 0.04045943112794413, 0.017619429684749863, 0.09755943473592979, 1.0327642473889176, 1.0034956249932803, 0.008397928605011911, 0.027993095350039705, 0.8006025270111355, 0.1595606434952263, 1.0063162143133606, 0.014685633487433744, 0.9729232185424855, 0.011014225115575307, 0.010998598757922586, 0.9898738882130327, 0.08765659297045911, 0.05132743466711294, 0.11898632581921635, 0.01099873600009563, 0.21630847466854738, 0.22197449018374815, 0.2769681701842263, 0.01599816145468455, 0.9737321254119091, 1.0034012654497237, 0.03309317939414608, 0.06334980055450821, 0.10495265465000614, 0.0009455194112613166, 0.5209811956049855, 0.2685275127982139, 0.008509674701351848, 0.9533208437436163, 0.9474675529410709, 0.11620282773959556, 0.34567900016652797, 0.2192229817440269, 0.04809234677458051, 0.055171930817539065, 0.08471088492781441, 0.03149194281178115, 0.09935830018910796, 0.2154217197774948, 0.02672525094983958, 0.0008098560893890782, 0.756405587489399, 0.06893255609841613, 0.9337228053330912, 0.47018317795984865, 0.041907631079029985, 0.19599483559521952, 0.18091830978020262, 0.005110686716954876, 0.012776716792387191, 0.027853242607404075, 0.06567232431287016, 1.0005137797937533, 0.9984103431098684, 0.7131685051090136, 0.2119493133806125, 0.0700433353232067, 0.004548268527480955, 0.923605292588975, 0.998324945122029, 1.004291562509159, 0.665332536502321, 0.03033431017487786, 0.025952687594062166, 0.11628152233703179, 0.14088601836776604, 0.021571065013246477, 0.0432255020641409, 0.038038441816443995, 0.07319518349527859, 0.040920141954053385, 0.12737114608233518, 0.6351267103291103, 0.042649162036619025, 0.8249284712446636, 0.17413516924305958, 0.39836479092531824, 0.1811674317442684, 0.0313480724591206, 0.25546643465062563, 0.10849690013448882, 0.020966567943437802, 0.0040711782414442335, 1.0020904130216077, 0.065295168383208, 0.09208292977119076, 0.025950643844608302, 0.0008371175433744614, 0.07785193153382491, 0.6085844540332335, 0.1280789841362926, 1.0032009384081928, 1.028351753426205, 1.0018912404725482, 0.9474675529410709, 0.22933833267540077, 0.01477695442496139, 0.13121935529365714, 0.013594798070964479, 0.012412641716967567, 0.01891450166395058, 0.579847691635485, 0.9712211004580826, 1.0006520428962062, 0.972527380358963, 0.973732125411909, 0.4163921965044336, 0.01719296811373145, 0.03546049673457112, 0.07468195524402099, 0.4566882155209917, 0.972527380358963, 0.9864327503181454, 0.475210160035035, 0.05681860609114549, 0.14791620593975893, 0.0004695752569516156, 0.08499312150824243, 0.08968887407775858, 0.0004695752569516156, 0.144159603884146, 0.030876753450393098, 0.02448845963307039, 0.1522543359795246, 0.770854120623607, 0.007453009453543161, 0.01384130327086587, 0.996006851672435, 0.9544945454925595, 0.04694235469635539, 1.0002420693703205, 0.04574219655733685, 0.025304193840228896, 0.7328483831420137, 0.19562088314946185, 0.7693857444721652, 0.13701389970052258, 0.09485577671574641, 0.5664049745443382, 0.004715675088713269, 0.4286024691741616, 0.03761062830299628, 0.004967441473980642, 0.9572969354856978, 0.9866539593349031, 0.01088221278678202, 0.9881696348179557, 0.00803389947006468, 0.9737321254119091, 0.9394597622077574, 0.06450611125352582, 0.9211472687003487, 0.015481466700846198, 1.0004277560249988, 0.9737321254119091, 0.5185753658061747, 0.07818806170975101, 0.17862727141595292, 0.11929087675875057, 0.038630465271616114, 0.0024723497773834315, 0.013597923775608872, 0.050374126714187416, 0.9394597622077574, 0.04110994779982201, 0.12355205933351912, 0.26688133679776344, 0.44798732305103334, 0.07666449724831671, 0.019999434064778273, 0.02377710494368084, 0.9347391942354696, 0.06551910239968245, 0.9955127901096036, 0.015537899514966225, 0.03107579902993245, 0.9478118704129397, 0.9394597622077574, 0.9749166977328068, 0.9980895903784084, 0.9981994643596961, 0.013907795272008229, 0.8622833068645103, 0.08779295765455195, 0.0365079625890216, 0.9985853604494481, 0.01605250413737656, 0.9380682105279428, 0.045147667886371576, 0.001003281508586035, 0.9533208437436163, 0.06617977826224808, 0.931811277932453, 0.0026471911304899232, 0.04981401002785507, 0.017881952317691564, 0.045130641563697754, 0.8545018643239755, 0.0327835792491012, 0.022050875344056767, 0.016538156508042575, 0.9592130774664693, 0.08317773302285597, 0.03417698931137152, 0.008235419111173859, 0.06835397862274303, 0.7181285464943605, 0.024294486377962884, 0.052706682311512695, 0.01111781580008471, 0.9889050128502709, 0.9737321254119091, 1.0035138369037409, 0.28110113098316886, 0.04883149119876778, 0.06126797584864122, 0.43107050470223096, 0.07224134465735309, 0.05450106508326891, 0.012070705689583046, 0.038955459270927105, 0.9977748939405983, 0.00020336731599861031, 0.0030505097399791546, 0.9967032157091892, 0.8886198389611506, 0.10639083538950667, 0.004967042013666727, 0.028795451465990222, 0.9074078852209602, 0.06320952760827123, 0.0013647347453804417, 0.27267400212701226, 0.12309907403331584, 0.06032127574581552, 0.4176088320864152, 0.014466188301032683, 0.029478270500217542, 0.08106524387559824, 0.9938837177507581, 0.0057783937078532445, 0.00772497707469943, 0.970772119053895, 0.0025749923582331436, 0.02059993886586515, 0.016167181173772516, 0.13293015631768512, 0.019759888101277517, 0.012574474246267512, 0.3853178179749116, 0.43381936149622913, 0.9533208437436163, 0.9586419460314702, 1.0065640309368828, 0.9394597622077574, 0.9725273803589628, 0.9960556325790746, 1.0385287748674261, 0.25095863545440716, 0.030042206662619475, 0.008193329089805312, 0.7040193884573452, 0.006979502557982302, 0.02564238154922234, 0.791250630661718, 0.14042256562669378, 0.041516236793979026, 0.9586419460314702, 0.9965214998986308, 0.0011320308942375037, 0.004528123576950015, 0.9939231251405282, 0.017559395508948833, 0.09418221227527102, 0.05533870099789936, 0.031128019311318388, 0.0838062058381649, 0.48980071412083037, 0.11413607080816743, 0.11387001936106214, 1.000021256402377, 0.03470646737439542, 0.004763632776877803, 0.3388984461264494, 0.6213138178984906, 0.9999400039662515, 1.000113803275904, 0.9981994643596959, 0.20065959715172207, 0.4646289067737736, 0.08262454000365027, 0.041312270001825135, 0.04184879298886183, 0.15988385013693365, 0.008584367792587042, 0.9712211004580826, 0.923605292588975, 0.9928580166348966, 0.008747647723655477, 0.95864194603147, 0.02317837038567966, 0.9503131858128661, 0.02317837038567966, 0.9394597622077574, 0.9953791162617169, 0.923605292588975, 1.0040293992618936, 0.0695500937919135, 0.9187933443036993, 0.011713700007059114, 0.09226993233014627, 0.09429044179722976, 0.8135918120789539, 0.012914738248619693, 0.00954567609680586, 0.9773087792053293, 0.95864194603147, 0.12858519907886407, 0.1469545132329875, 0.6537805901217568, 0.004174844125937145, 0.03089384653193487, 0.035903659483059444, 0.9996439032241919, 1.0099322796035384, 1.0085469129648503, 0.022090106533281882, 0.018191852439173314, 0.9472757448683818, 0.011694762282325702, 1.0114284755733214, 0.9938076376780379, 0.00241827246679391, 0.9897846955265897, 0.0014225132157611234, 0.0062590581493489434, 0.9145979539762599, 0.0004893515002548207, 0.02911641426516183, 0.002936109001528924, 0.05309463777764804, 1.000040717682358, 1.0065640309368828, 1.0024512997546235, 0.026044871576665542, 0.9650310310511864, 0.008224696287368065, 0.03166951710517034, 0.03166951710517034, 0.8593955323539405, 0.07773426925814537, 0.9712211004580825, 0.05477113984678415, 0.9437488712061269, 0.9991719661222221, 1.0029188609951805, 1.0214151897253032, 0.025556484984610585, 0.042594141641017644, 0.9285522877741845, 1.0011611993671743, 0.13529718537943894, 0.1498831272976684, 0.1033590022136606, 0.018861131790813977, 0.10989752790114277, 0.13353681307896295, 0.07443860013441249, 0.27436659711704064, 0.1546659917786841, 0.3578093839656124, 0.0069253429154634664, 0.06463653387765902, 0.37339140552540523, 0.04270628131202471, 0.9953706170877292, 0.0642126035034483, 0.6601632832096089, 0.02236618773715615, 0.25324296437876803, 0.009235161883227452, 0.14673646103350282, 0.0010261290981363833, 0.024627098355273203, 0.8178248912146976, 0.9984922082042973, 0.9369507910123681, 0.06420219552975541, 0.8388373772257101, 0.10127193848055269, 0.05923453005466289, 0.8024233055876194, 0.018757947403346947, 0.08962130426043542, 0.08753708788228576, 0.07205250729578573, 0.0005585465681843854, 0.638977274002937, 0.27257072527398013, 0.015639303909162794, 0.06599274795214069, 0.9343833004438611, 1.0067399940699397, 0.9999225178338633, 1.0003138769406477, 0.9969843938387437, 0.9942560740739632, 0.9394597622077574, 0.9996844441496499, 0.00048270615362126985, 0.15922168473677525, 0.2301660303410093, 0.1326175551351875, 0.025394850983333776, 0.33255162001984706, 0.08626187476878457, 0.009674228946031914, 0.024185572365079788, 0.9533208437436163, 1.0271163707480035, 0.03748245291332702, 0.8460325086150956, 0.10441540454426812, 0.010709272260950578, 0.012238954020948753, 0.8662459679271506, 0.01597863441623865, 0.06731424711521813, 0.038076745842951676, 0.0011787928695680015, 0.9984375605240972, 0.0003929309565226671, 1.0007985251368396, 0.037811888486822785, 0.12836141091579314, 0.035821789092779485, 0.04129456242639857, 0.4283688945678213, 0.19900993940433045, 0.1293564606128148, 0.9997864269421438, 0.9726950113434893, 0.024625190160594668, 1.0032009384081928, 0.006657787053907406, 0.9866840413890776, 0.0013315574107814812, 0.0013315574107814812, 0.0026631148215629625, 0.0013315574107814812, 0.9983596237629997, 0.996006851672435, 0.998717074398074, 0.9948914059089602, 0.005589277561286293, 0.8194346709745707, 0.006381889960861142, 0.021953701465362328, 0.08577260107397375, 0.05105511968688914, 0.015571811504501187, 0.9979519564339931, 0.923605292588975, 1.0027714605251727, 0.9923166806193954, 0.007062752175227014, 0.9981994643596961, 0.023460707303472945, 0.04356988499216404, 0.05697600345129144, 0.8760898413039754, 0.002574110583423349, 0.996180795784836, 0.9394597622077574, 0.014904438878855973, 0.04012733544307377, 0.9458586211581674, 0.9586419460314702, 0.12264608808556143, 0.15100356509956409, 0.11626565575741084, 0.43906826910014096, 0.1094125988123602, 0.017959735442201676, 0.02008654621825187, 0.023394918536552182, 1.0000692519568375, 1.0128101427990759, 0.9533208437436163, 0.06093979951605889, 0.6554413992393889, 0.015438082544068253, 0.01625061320428237, 0.010562898582783541, 0.039272315243682396, 0.20259097794672024, 0.0009347450205563777, 0.9983076819542115, 0.0009347450205563777, 1.0010977917867918, 0.9981202061578831, 1.0385287748674261, 0.008048288947931548, 0.9778671071736832, 0.012072433421897323, 0.9963967174930761, 0.04284634848341873, 0.7935888893015817, 0.13375512265693323, 0.02347234743004678, 0.0063338080366792905, 1.042214308235178, 1.0062831128404839, 0.9964042369320267, 0.004195386260766428, 0.9973342662537589, 1.0054757704680755, 0.06975300912484858, 0.8223821159845593, 0.026377188324522575, 0.07268380782757332, 0.008792396108174191, 0.9737321254119091, 0.9997266008613903, 0.9969876238727289, 1.0000967136450836, 0.3589032941578187, 0.11150536236831125, 0.1861360923855736, 0.25724096114217787, 0.020420613134644616, 0.013515801499189243, 0.052300275366427944, 0.11133512018006014, 0.03946054892457827, 0.014093053187349384, 0.008455831912409631, 0.031004717012168646, 0.007046526593674692, 0.5820430966375296, 0.20575857653530102, 0.9955127901096036, 0.007656160876044597, 0.8794706090191874, 0.07557371703450473, 0.013089565368721407, 0.01605324054654512, 0.007903133807529905, 0.04950387854450269, 0.012375969636125672, 0.022501762974773947, 0.029252291867206133, 0.06975546522179923, 0.8156889078355556, 0.923605292588975, 0.011489856675433752, 0.011489856675433752, 0.9617685911260135, 0.015545100207939783, 0.03176324089855255, 0.007058497977456122, 0.9599557249340326, 0.892830213006969, 0.10536505619336901, 0.11003327481603942, 0.005716014276157892, 0.848828120009447, 0.03572508922598682, 0.9985853604494481, 1.0016085559662748, 1.002129142533825, 0.9474675529410709, 0.027071160885782986, 0.9379361036309517, 0.023886318428632047, 0.009554527371452818, 0.015235734505588324, 0.011333900059035215, 0.9349538540502493, 0.03437330345772975, 0.0040876360868651596, 0.9474675529410709, 0.00803498556899716, 0.9269451533688542, 0.055514445749434926, 0.00803498556899716, 0.0014609064670903927, 0.2952166912259322, 0.003262062886474389, 0.7013435205919937, 1.005703540819106, 0.9998786361868586, 0.30729996612249777, 0.07208270810280812, 0.007242760144301294, 0.6135652522243811, 0.017835138497385307, 0.8546003863330459, 0.12781849256459468, 0.9533208437436163, 0.997989611455201, 0.2976314044034178, 0.5183786266867768, 0.09999660496596603, 0.030659336428244303, 0.016508873461362317, 0.03679120371389316, 1.0010330261243927, 0.022301214070072337, 0.029088540091398697, 0.4279247453445764, 0.295087078927189, 0.04330960413608251, 0.17905612456260978, 0.003878472012186493, 0.014177588597310418, 0.25670484885768435, 0.07299949873508768, 0.08566883322630124, 0.5707233537470492, 0.9048055894290157, 0.08225505358445596, 0.0074777321440414515, 0.9474675529410709, 0.032850487851497176, 0.004692926835928168, 0.9104278061700646, 0.051622195195209844, 0.04837333579077679, 0.2332379217587724, 0.022225586714681226, 0.4583700413039552, 0.19846141548756532, 0.03085434390979276, 0.00836727970435058, 1.0034382986497632, 0.9474675529410709, 1.0000184767104952, 0.07933705697951489, 0.8918579508731674, 0.028269526050171974, 0.0009119201951668379, 1.0011611993671743, 0.9948409305881244, 0.9990016430044015, 0.9474675529410709, 0.1846953318709173, 0.008304646217217505, 0.05314973579019203, 0.5760102616262062, 0.1724044554694354, 0.0056471594277079035, 1.0017763241291573, 0.012779882941615939, 0.9840509865044273, 0.013427375946926407, 0.9801984441256277, 0.9982888080711453, 0.3109713156498958, 0.6888535669422735, 1.00028933761968, 0.39457641380564884, 0.0013079881120629244, 0.04577958392220235, 0.5144753240780836, 0.014387869232692167, 0.02964773054009295, 0.018470452907155026, 0.981650247153798, 0.9997102527381861, 0.9930425455662669, 0.0019211415813444298, 0.9086999679759152, 0.0019211415813444298, 0.024974840557477587, 0.05379196427764403, 0.007684566325377719, 0.010391465849207632, 0.006234879509524579, 0.9664063239763098, 0.01662634535873221, 0.4117118653885903, 0.01729881787347018, 0.049974362745580515, 0.47552528243294695, 0.023449508672926243, 0.002690927224762028, 0.019220908748300198, 0.9981759973457421, 1.0001046392155748, 0.9928791583897368, 0.9996669049198317, 0.12326222106917661, 0.002567962938941179, 0.8731073992400009, 0.04434017806127725, 0.6822053110285086, 0.02312023570338028, 0.023753666818541384, 0.014885631206285933, 0.006017595594030483, 0.2055483968697781, 0.12754623431490164, 0.12517328111834533, 0.08275674272990129, 0.13288537900715333, 0.04656920648241757, 0.16432700886152443, 0.17530191739559736, 0.14534338328907395, 0.9980381903889277, 0.05337399684339137, 0.38387061006574696, 0.37693500595615376, 0.05518328487198091, 0.05518328487198091, 0.02533003240025353, 0.03920124061943999, 0.010855728171537227, 0.05064411724219721, 0.1511410373946823, 0.04906148857837855, 0.7493746723181368, 0.044359292399254714, 0.008871858479850942, 0.9404169988641999, 0.0026259737952628987, 0.0017506491968419322, 0.013129868976314492, 0.9619817336646418, 0.019257141165261255, 0.8029255843243948, 0.07744947638782318, 0.023528954851996915, 0.029411193564996142, 0.06666537208065793, 0.9964476225479029, 1.0336009668448047, 0.051735994797339604, 0.04513139971682817, 0.8734576993976378, 0.024767231551917897, 0.004953446310383579, 0.4277488049071326, 0.034927069755521914, 0.4057576869129151, 0.131946707965305, 0.021225864924207687, 0.02938965912582603, 0.9078998498957661, 0.04150644841454378, 1.0050034665478333, 0.1104670083373915, 0.14195760347429495, 0.4923529557119033, 0.07397790603590018, 0.02699193868877439, 0.10396894902342729, 0.029491192271068317, 0.020993730091268974, 0.006682822162027889, 0.9923990910611415, 0.9999225178338633, 1.0046442563773665, 1.0001670308714545, 0.010320068533155905, 0.08600057110963254, 0.14448095946418266, 0.0008600057110963253, 0.08600057110963254, 0.6536043404332073, 0.019780131355215485, 1.0004097178889477, 0.9995605637517475, 0.9474675529410709, 0.03456639628765541, 0.018654880536194986, 0.0010973459138938226, 0.8712926556316952, 0.07461952214477995, 0.06987796568726226, 0.1119961915809546, 0.8174764753003011, 0.0020266406734849225, 0.02594100062060701, 0.010943859636818582, 0.09241481471091247, 0.8686181926556378, 1.001499714855515, 0.9737321254119091, 0.04403401441530327, 0.9540703123315708, 1.001063089578303, 0.9930214196451908, 0.0067096041867918295, 1.026653216339279, 0.9981759973457424, 1.0072824009366512, 0.9976613481037844, 0.9966536093683261, 0.8028417868625433, 0.022872985380699238, 0.13266331520805558, 0.041171373685258625, 0.009214210298418592, 0.9239339962868826, 0.026804975413581362, 0.031830908303627864, 0.009214210298418592, 0.04097182617924282, 0.9419894195900251, 0.017041379030304536, 0.03810163148298408, 0.9634269674983118, 0.973732125411909, 0.2974026853113416, 0.11379961861897318, 0.10770491101092775, 0.12627472325419115, 0.06275644240159274, 0.051519325249258986, 0.08618297477001734, 0.15427228632864984, 0.9931431771910579, 0.95864194603147, 0.15278321546601953, 0.43694682526596534, 0.0391836263802938, 0.05367168991586462, 0.04082999723660867, 0.27626102968963445, 0.06912817076916045, 0.7151689290045081, 0.005609877732575848, 0.010676864071676614, 0.020810836749878145, 0.011219755465151696, 0.01357228483687705, 0.15400019194909828, 0.923605292588975, 1.0000745535536506, 0.9737321254119091, 1.0438441802308416, 0.013558615859642837, 0.05423446343857135, 0.9328327711434272, 0.09110825710032884, 0.06444242575389113, 0.05944258237643406, 0.20332696401658754, 0.025554755040336136, 0.5472050807550238, 0.008888610448812569, 0.9967438940496938, 1.0248651951357353, 0.8131927752053134, 0.09960795037655445, 0.08327877818367668, 0.001632917219287778, 0.001632917219287778, 0.8328280004206802, 0.12834678088674864, 0.017112904118233154, 0.022817205490977537, 0.020391609205450224, 0.09516084295876771, 0.013594406136966816, 0.05890909326018954, 0.8111328995056867, 0.4245883569506492, 0.05029387292318018, 0.059022561612327155, 0.20512418419495387, 0.15067379284837037, 0.015794770008932618, 0.07647993899062111, 0.01787302922063428, 0.0011612174615506837, 0.9963245820104866, 0.0023224349231013674, 0.9737321254119091, 0.005448216040135648, 0.008172324060203472, 0.9861271032645523, 0.9995981331184476, 0.021165934918526717, 0.9778661932359343, 0.9803058388254859, 0.9876917019718178, 1.0075694100970636, 1.0007165797896576, 0.002316441608879901, 0.9655700773014388, 0.032044108922838634, 1.0336009668448047, 0.9925850554620744, 0.9876917019718178, 0.06683388076840058, 0.004773848626314327, 0.9261266335049794, 0.004773848626314327, 1.0115677014069726, 1.0085757581680088, 0.9394597622077574, 0.23690145506453505, 0.0028035675155566276, 0.7597667967158461, 0.988629023141528, 0.38277160497038026, 0.055555045443617695, 0.122805889927997, 0.3625697702636102, 0.06539014918243996, 0.003987204218441461, 0.006911153978631866, 0.021720744452628806, 0.0027150930565786008, 0.9747184073117178, 0.9893946372287682, 0.010414680391881771, 0.870782985057105, 0.029962425292287487, 0.05056159268073513, 0.013108561065375775, 0.03370772845382342, 0.923605292588975, 0.9997864269421438, 0.13616104623521533, 0.005446441849408613, 0.8074350041748268, 0.03540187202115598, 0.016339325548225838, 0.11504701884359865, 0.010581624042366216, 0.75804953512015, 0.0769982004784946, 0.02499064401495, 0.011932469664795947, 0.002251409370716216, 1.0038475519710404, 0.00662277916039452, 0.993416874059178, 0.9044819219877618, 0.07034859393238148, 0.020099598266394708, 0.0913538207686504, 0.07463801526630161, 0.042761362912985296, 0.633645650437873, 0.072694316952075, 0.08474524650027995, 0.9737321254119091, 0.6161083632407893, 0.049774271710093326, 0.05098827833716878, 0.2822565407950414, 0.0006070033135377235, 0.003158111446645472, 0.1315353417527839, 0.014685218226901444, 0.06126736206492215, 0.07926859731080134, 0.012632445786581887, 0.00031581114466454715, 0.6969951962746556, 0.1832227557097523, 0.014990952739888824, 0.029981905479777648, 0.041641535388580064, 0.7278940385923796, 0.95864194603147, 0.1821311804231524, 0.12437587234541889, 0.04117885271664016, 0.1873768941450174, 0.4116311557547457, 0.051565365885932836, 0.0017310855282154463, 0.054549318496793356, 0.2804592210632049, 0.06983434604473802, 0.02510110028515684, 0.1372847887104388, 0.21917888126089463, 0.05973781408646264, 0.15397211236369948, 0.9533208437436163, 0.9928756895331481, 0.7048921719220762, 0.1637743639883761, 0.07697623523581973, 0.0468253063007212, 0.007766148362070833, 0.6596992171066086, 0.044314396079404635, 0.03846155131420025, 0.19899672201694912, 0.03177258586825238, 0.02675586178379148, 0.7358877574414466, 0.030865049429111446, 0.024367144286140615, 0.16244762857427078, 0.04710981228653852, 0.0016244762857427078, 0.21866831284489585, 0.15906184050958083, 0.08256798015541397, 0.24937265469735376, 0.08096601449354661, 0.07188820907629818, 0.04325307287041896, 0.09431572834244134, 0.44887912211595427, 0.10145242418825406, 0.054554605459721524, 0.2521954129585372, 0.054554605459721524, 0.04881201541132978, 0.03876248282664424, 0.9737321254119091, 0.9474675529410709, 0.9474675529410709], \"Term\": [\"abortion\", \"abstract\", \"abstract\", \"abstraction\", \"academic\", \"academic\", \"academic\", \"academic\", \"academy\", \"academy\", \"academy\", \"academy\", \"accessory\", \"accessory\", \"accountability\", \"acne\", \"advertising\", \"advertising\", \"advertising\", \"aerodrome\", \"affair\", \"affair\", \"affair\", \"age\", \"age\", \"age\", \"age\", \"age\", \"age\", \"age\", \"age\", \"agency\", \"agency\", \"agency\", \"agency\", \"agency\", \"aggregate\", \"agitate\", \"air\", \"air\", \"air\", \"air\", \"air\", \"air\", \"aircraft\", \"airfield\", \"airline\", \"airliner\", \"airplane\", \"airport\", \"ajax\", \"alberich\", \"album\", \"alchemical\", \"alliance\", \"alliance\", \"alliance\", \"alliance\", \"allied\", \"ally\", \"altarpiece\", \"ambassador\", \"ambassador\", \"ambassador\", \"ambassador\", \"ambassador\", \"ambrosian\", \"amp\", \"amp\", \"amp\", \"amp\", \"amp\", \"amp\", \"amp\", \"anatomic\", \"anatomical\", \"android\", \"annotated\", \"annotation\", \"annunciation\", \"anthropometry\", \"anti\", \"anti\", \"anti\", \"anti\", \"anticommunist\", \"antinous\", \"apotheosis\", \"app\", \"apparel\", \"appoint\", \"appoint\", \"appoint\", \"appoint\", \"appoint\", \"appoint\", \"appoint\", \"arbitration\", \"area\", \"area\", \"area\", \"area\", \"area\", \"area\", \"area\", \"armed\", \"armed\", \"army\", \"army\", \"army\", \"arrest\", \"arrest\", \"art\", \"art\", \"art\", \"art\", \"artist\", \"artist\", \"artist\", \"artist\", \"artist\", \"artwork\", \"artwork\", \"assistant\", \"assistant\", \"assistant\", \"assistant\", \"assistant\", \"assistant\", \"athlete\", \"athletic\", \"athletic\", \"attack\", \"attack\", \"attack\", \"attack\", \"attend\", \"attend\", \"attend\", \"attend\", \"attend\", \"attend\", \"attend\", \"author\", \"author\", \"author\", \"author\", \"author\", \"author\", \"autobahn\", \"autobiographical\", \"autobiography\", \"autobiography\", \"autobiography\", \"autograph\", \"aviation\", \"award\", \"award\", \"award\", \"award\", \"award\", \"award\", \"award\", \"bachelor\", \"bachelor\", \"ballet\", \"band\", \"band\", \"band\", \"bank\", \"bank\", \"bank\", \"bank\", \"bank\", \"bank\", \"bank\", \"bank\", \"baritone\", \"base\", \"base\", \"base\", \"base\", \"base\", \"base\", \"base\", \"base\", \"basketball\", \"basketball\", \"bazaar\", \"bear\", \"bear\", \"bear\", \"bear\", \"bear\", \"bear\", \"bear\", \"bear\", \"beat\", \"beat\", \"beat\", \"beat\", \"beat\", \"begin\", \"begin\", \"begin\", \"begin\", \"begin\", \"begin\", \"begin\", \"begin\", \"behemoth\", \"bender\", \"betake\", \"biennale\", \"biennale\", \"biennial\", \"billabong\", \"binding\", \"biography\", \"biography\", \"biology\", \"blockade\", \"bolshevik\", \"bombing\", \"bombing\", \"bombing\", \"book\", \"book\", \"book\", \"book\", \"book\", \"book\", \"book\", \"bourse\", \"boutique\", \"boxing\", \"brace\", \"branch\", \"branch\", \"branch\", \"branch\", \"branch\", \"brand\", \"brand\", \"brand\", \"brand\", \"british\", \"british\", \"british\", \"british\", \"british\", \"british\", \"british\", \"british\", \"brokerage\", \"build\", \"build\", \"build\", \"build\", \"build\", \"build\", \"build\", \"build\", \"building\", \"building\", \"building\", \"building\", \"building\", \"building\", \"burberry\", \"business\", \"business\", \"business\", \"business\", \"business\", \"bust\", \"bust\", \"bust\", \"calla\", \"campsite\", \"canvas\", \"canvas\", \"canvas\", \"canzo\", \"capital\", \"capital\", \"capital\", \"capital\", \"capital\", \"capital\", \"capital\", \"capsule\", \"car\", \"car\", \"car\", \"car\", \"carrier\", \"carrier\", \"carrier\", \"catwalk\", \"celebratory\", \"center\", \"center\", \"center\", \"center\", \"center\", \"center\", \"center\", \"center\", \"cere\", \"champion\", \"champion\", \"champion\", \"champion\", \"championship\", \"chantry\", \"chemistry\", \"chemistry\", \"chess\", \"chess\", \"child\", \"child\", \"child\", \"child\", \"chinatown\", \"choreograph\", \"choreographer\", \"chronicle\", \"chronicle\", \"chronicle\", \"city\", \"city\", \"city\", \"city\", \"city\", \"city\", \"city\", \"city\", \"clarinetist\", \"clavier\", \"client\", \"client\", \"client\", \"client\", \"clinical\", \"clipper\", \"clothing\", \"clothing\", \"club\", \"club\", \"club\", \"club\", \"club\", \"club\", \"club\", \"club\", \"coincidence\", \"collection\", \"collection\", \"collection\", \"collection\", \"college\", \"college\", \"college\", \"college\", \"coloring\", \"comique\", \"command\", \"command\", \"command\", \"command\", \"command\", \"command\", \"commander\", \"commander\", \"communist\", \"communist\", \"communist\", \"commuter\", \"company\", \"company\", \"company\", \"company\", \"company\", \"company\", \"compete\", \"compete\", \"compete\", \"compete\", \"compete\", \"competition\", \"competition\", \"competition\", \"competition\", \"competition\", \"competition\", \"composer\", \"composer\", \"composer\", \"concert\", \"concertante\", \"concerto\", \"concessionaire\", \"conduct\", \"conduct\", \"conduct\", \"conduct\", \"conduct\", \"conduct\", \"conductor\", \"conductor\", \"conference\", \"conference\", \"conference\", \"conference\", \"conference\", \"connect\", \"connect\", \"connect\", \"connect\", \"connect\", \"connect\", \"construction\", \"construction\", \"construction\", \"construction\", \"construction\", \"consulate\", \"consulate\", \"consumer\", \"consumer\", \"containment\", \"contemporary\", \"contemporary\", \"contemporary\", \"contemporary\", \"contemporary\", \"contemporary\", \"copy\", \"copy\", \"copy\", \"copy\", \"corkscrew\", \"corporate\", \"corporate\", \"corset\", \"cosmetic\", \"counsellor\", \"counterculture\", \"country\", \"country\", \"country\", \"country\", \"country\", \"country\", \"country\", \"country\", \"couple\", \"couple\", \"couple\", \"couple\", \"couple\", \"couple\", \"couple\", \"couple\", \"couture\", \"couture\", \"covent\", \"covent\", \"creditable\", \"cry\", \"cry\", \"cup\", \"curate\", \"curate\", \"curate\", \"curious\", \"dali\", \"dance\", \"dance\", \"daughter\", \"daughter\", \"daughter\", \"dazed\", \"death\", \"death\", \"death\", \"death\", \"death\", \"death\", \"death\", \"debut\", \"debut\", \"debut\", \"debut\", \"decorative\", \"defeat\", \"defeat\", \"degree\", \"degree\", \"degree\", \"degree\", \"degree\", \"degree\", \"delegate\", \"delegate\", \"delegate\", \"delegation\", \"delight\", \"democracy\", \"democratic\", \"democratic\", \"demography\", \"describe\", \"describe\", \"describe\", \"describe\", \"describe\", \"describe\", \"describe\", \"describe\", \"design\", \"design\", \"design\", \"design\", \"design\", \"designer\", \"designer\", \"designer\", \"designer\", \"destination\", \"destination\", \"destination\", \"destination\", \"diagnose\", \"die\", \"die\", \"die\", \"die\", \"die\", \"die\", \"dionysian\", \"diplomatic\", \"diplomatic\", \"diplomatic\", \"disgruntle\", \"display\", \"display\", \"display\", \"display\", \"display\", \"display\", \"display\", \"dissertation\", \"distributor\", \"doctoral\", \"doctorate\", \"doctorate\", \"drawing\", \"drawing\", \"drawing\", \"drawing\", \"drubbing\", \"early\", \"early\", \"early\", \"early\", \"early\", \"early\", \"early\", \"early\", \"economic\", \"economic\", \"economic\", \"economic\", \"edition\", \"edition\", \"edition\", \"edition\", \"edition\", \"educate\", \"educate\", \"educate\", \"education\", \"education\", \"education\", \"education\", \"education\", \"elementary\", \"embassy\", \"embassy\", \"embassy\", \"embassy\", \"embellish\", \"emden\", \"emission\", \"encircle\", \"engine\", \"english\", \"english\", \"english\", \"english\", \"english\", \"english\", \"english\", \"enrol\", \"enrol\", \"ensemble\", \"ensemble\", \"entente\", \"envoy\", \"epiphany\", \"equity\", \"essay\", \"essay\", \"essay\", \"establish\", \"establish\", \"establish\", \"establish\", \"establish\", \"establish\", \"establish\", \"establish\", \"estimative\", \"etch\", \"etching\", \"eth\", \"european\", \"european\", \"european\", \"european\", \"european\", \"european\", \"european\", \"european\", \"event\", \"event\", \"event\", \"event\", \"event\", \"event\", \"evocation\", \"exam\", \"excitability\", \"exhibit\", \"exhibition\", \"exhibition\", \"exile\", \"exile\", \"exile\", \"exposition\", \"exposition\", \"exposition\", \"exposition\", \"exposition\", \"expressiveness\", \"extradite\", \"faculty\", \"fair\", \"fair\", \"fair\", \"fair\", \"fair\", \"fair\", \"family\", \"family\", \"family\", \"family\", \"family\", \"fasciculus\", \"fashion\", \"fashioned\", \"father\", \"father\", \"father\", \"father\", \"father\", \"fellow\", \"fellow\", \"fellow\", \"fellow\", \"fellow\", \"fellow\", \"fencing\", \"festival\", \"festival\", \"fictional\", \"figaro\", \"figurative\", \"film\", \"film\", \"film\", \"film\", \"film\", \"final\", \"final\", \"final\", \"final\", \"final\", \"final\", \"find\", \"find\", \"find\", \"find\", \"find\", \"find\", \"find\", \"find\", \"fine\", \"fine\", \"fine\", \"fine\", \"fine\", \"fine\", \"fine\", \"finish\", \"finish\", \"finish\", \"finish\", \"finish\", \"finish\", \"firm\", \"firm\", \"firm\", \"firm\", \"firm\", \"flagship\", \"flagship\", \"flagship\", \"flamboyant\", \"flight\", \"flight\", \"flight\", \"flute\", \"fly\", \"fly\", \"fly\", \"fly\", \"fly\", \"fly\", \"folio\", \"follow\", \"follow\", \"follow\", \"follow\", \"follow\", \"follow\", \"follow\", \"follow\", \"football\", \"football\", \"footballer\", \"force\", \"force\", \"force\", \"force\", \"force\", \"force\", \"force\", \"ford\", \"foreign\", \"foreign\", \"foreign\", \"foreign\", \"foreign\", \"foreign\", \"foreword\", \"found\", \"found\", \"found\", \"found\", \"found\", \"found\", \"found\", \"found\", \"frazer\", \"freestyle\", \"freight\", \"french\", \"french\", \"french\", \"french\", \"french\", \"french\", \"french\", \"french\", \"fresco\", \"freud\", \"friend\", \"friend\", \"friend\", \"friend\", \"friend\", \"friend\", \"futurist\", \"gallery\", \"game\", \"game\", \"game\", \"game\", \"game\", \"game\", \"gauge\", \"gauge\", \"gaus\", \"general\", \"general\", \"general\", \"general\", \"general\", \"general\", \"general\", \"general\", \"geological\", \"geology\", \"geometrical\", \"german\", \"german\", \"german\", \"german\", \"german\", \"german\", \"german\", \"german\", \"girlfriend\", \"give\", \"give\", \"give\", \"give\", \"give\", \"give\", \"give\", \"give\", \"global\", \"global\", \"global\", \"global\", \"global\", \"global\", \"global\", \"glovemaker\", \"goal\", \"goal\", \"goal\", \"goal\", \"goalkeeper\", \"goalless\", \"gorilla\", \"gossip\", \"government\", \"government\", \"government\", \"government\", \"government\", \"government\", \"graduate\", \"graduate\", \"graduate\", \"group\", \"group\", \"group\", \"group\", \"group\", \"group\", \"group\", \"group\", \"guitar\", \"guitar\", \"guitarist\", \"gymnast\", \"habilitation\", \"habituate\", \"hardcore\", \"hate\", \"haul\", \"header\", \"headquarter\", \"headquarter\", \"headquarter\", \"heavyweight\", \"heiling\", \"helper\", \"hermitage\", \"high\", \"high\", \"high\", \"high\", \"high\", \"high\", \"high\", \"high\", \"hine\", \"history\", \"history\", \"history\", \"history\", \"history\", \"history\", \"history\", \"history\", \"hockey\", \"hold\", \"hold\", \"hold\", \"hold\", \"hold\", \"hold\", \"hold\", \"hold\", \"homosexual\", \"hospital\", \"hospital\", \"hospital\", \"hospital\", \"hospital\", \"host\", \"host\", \"host\", \"host\", \"host\", \"host\", \"host\", \"hotel\", \"hotel\", \"hotel\", \"hotel\", \"hotel\", \"hotel\", \"hour\", \"hour\", \"hour\", \"hour\", \"hour\", \"hour\", \"house\", \"house\", \"house\", \"house\", \"house\", \"house\", \"house\", \"humble\", \"hurdle\", \"husband\", \"husband\", \"husband\", \"husband\", \"husband\", \"husband\", \"impresario\", \"impressionist\", \"include\", \"include\", \"include\", \"include\", \"include\", \"include\", \"include\", \"include\", \"indict\", \"industry\", \"industry\", \"industry\", \"industry\", \"industry\", \"industry\", \"industry\", \"inhabited\", \"inimical\", \"installation\", \"installation\", \"installation\", \"installation\", \"instrumentalist\", \"insularity\", \"intercity\", \"interfaith\", \"international\", \"international\", \"international\", \"international\", \"international\", \"international\", \"international\", \"invade\", \"investment\", \"investment\", \"investment\", \"io\", \"irredentist\", \"jazz\", \"jazz\", \"jerome\", \"jewel\", \"join\", \"join\", \"join\", \"join\", \"join\", \"join\", \"join\", \"join\", \"khedive\", \"killing\", \"km\", \"km\", \"km\", \"km\", \"knockout\", \"landscape\", \"landscape\", \"landscape\", \"lap\", \"lap\", \"large\", \"large\", \"large\", \"large\", \"large\", \"large\", \"large\", \"large\", \"lateran\", \"laude\", \"launch\", \"launch\", \"launch\", \"launch\", \"launch\", \"launch\", \"launch\", \"lawful\", \"layover\", \"lead\", \"lead\", \"lead\", \"lead\", \"lead\", \"lead\", \"lead\", \"lead\", \"league\", \"league\", \"league\", \"league\", \"lease\", \"lease\", \"leave\", \"leave\", \"leave\", \"leave\", \"leave\", \"leave\", \"leave\", \"leave\", \"lecturer\", \"legation\", \"letter\", \"letter\", \"letter\", \"letter\", \"li\", \"libretto\", \"licensed\", \"life\", \"life\", \"life\", \"life\", \"life\", \"life\", \"line\", \"line\", \"line\", \"line\", \"line\", \"line\", \"line\", \"literary\", \"literary\", \"live\", \"live\", \"live\", \"live\", \"live\", \"live\", \"live\", \"livery\", \"location\", \"location\", \"location\", \"location\", \"location\", \"location\", \"location\", \"lodging\", \"loge\", \"lohengrin\", \"loosen\", \"lose\", \"lose\", \"lose\", \"lose\", \"lose\", \"lose\", \"lose\", \"lucia\", \"lulu\", \"lumberman\", \"madonna\", \"magazine\", \"magazine\", \"magazine\", \"magazine\", \"magazine\", \"maidenhood\", \"mainline\", \"man\", \"man\", \"man\", \"man\", \"man\", \"man\", \"man\", \"man\", \"management\", \"management\", \"management\", \"management\", \"management\", \"management\", \"mandate\", \"manuscript\", \"manuscript\", \"marathon\", \"market\", \"market\", \"market\", \"market\", \"marriage\", \"marriage\", \"marriage\", \"marry\", \"marry\", \"marry\", \"match\", \"match\", \"match\", \"mathematic\", \"mathematic\", \"mathematical\", \"mathematical\", \"medallic\", \"median\", \"medical\", \"medical\", \"medical\", \"medicine\", \"medjidie\", \"meet\", \"meet\", \"meet\", \"meet\", \"meet\", \"meet\", \"meet\", \"meet\", \"megacity\", \"member\", \"member\", \"member\", \"member\", \"member\", \"member\", \"member\", \"memoir\", \"memoir\", \"merchandise\", \"metro\", \"metro\", \"metro\", \"mhz\", \"midfield\", \"midfielder\", \"mignon\", \"military\", \"military\", \"military\", \"military\", \"milliner\", \"minister\", \"minister\", \"minister\", \"minister\", \"misfire\", \"mission\", \"mission\", \"mission\", \"model\", \"model\", \"model\", \"model\", \"model\", \"modeling\", \"modeling\", \"modeling\", \"modern\", \"modern\", \"modern\", \"modern\", \"modern\", \"modern\", \"modern\", \"modern\", \"monoplane\", \"morbidezza\", \"motorway\", \"move\", \"move\", \"move\", \"move\", \"move\", \"move\", \"move\", \"move\", \"mural\", \"museum\", \"museum\", \"museum\", \"music\", \"music\", \"music\", \"musical\", \"musical\", \"musical\", \"national\", \"national\", \"national\", \"national\", \"national\", \"national\", \"national\", \"national\", \"nationalist\", \"nationalist\", \"negotiation\", \"negotiation\", \"negotiation\", \"negotiation\", \"network\", \"network\", \"network\", \"network\", \"network\", \"network\", \"neutralise\", \"neverland\", \"nonstop\", \"northernmost\", \"nosological\", \"nun\", \"obesity\", \"office\", \"office\", \"office\", \"office\", \"office\", \"officer\", \"officer\", \"officer\", \"officer\", \"olfaction\", \"olympiad\", \"olympic\", \"olympic\", \"olympic\", \"open\", \"open\", \"open\", \"open\", \"open\", \"open\", \"open\", \"open\", \"opera\", \"operate\", \"operate\", \"operate\", \"operate\", \"operatic\", \"orchestra\", \"orchestral\", \"order\", \"order\", \"order\", \"order\", \"order\", \"order\", \"order\", \"osmin\", \"ostia\", \"ottoman\", \"ottoman\", \"outfitter\", \"outlet\", \"outlet\", \"outlet\", \"outlying\", \"overthrow\", \"packed\", \"pact\", \"paint\", \"paint\", \"paint\", \"painter\", \"painter\", \"painter\", \"painting\", \"painting\", \"painting\", \"parity\", \"party\", \"party\", \"party\", \"party\", \"party\", \"party\", \"passenger\", \"pathological\", \"pathology\", \"peace\", \"peace\", \"peace\", \"peace\", \"pedagogy\", \"percussion\", \"perform\", \"perform\", \"perform\", \"perform\", \"performance\", \"performance\", \"performance\", \"performance\", \"performance\", \"performer\", \"periphery\", \"philology\", \"philosophy\", \"philosophy\", \"philosophy\", \"photography\", \"photography\", \"photography\", \"photography\", \"phrasing\", \"physician\", \"physician\", \"physics\", \"physiology\", \"piedmontese\", \"pilot\", \"pilot\", \"pilot\", \"pinacoteca\", \"place\", \"place\", \"place\", \"place\", \"place\", \"place\", \"place\", \"place\", \"plan\", \"plan\", \"plan\", \"plan\", \"plan\", \"plan\", \"plaster\", \"play\", \"play\", \"play\", \"play\", \"player\", \"player\", \"player\", \"player\", \"player\", \"playoff\", \"poem\", \"poem\", \"poet\", \"poet\", \"poet\", \"poetry\", \"poetry\", \"poetry\", \"poetry\", \"political\", \"political\", \"political\", \"political\", \"political\", \"portrait\", \"portrait\", \"portraiture\", \"postdoctoral\", \"postgraduate\", \"posting\", \"poverty\", \"pram\", \"premiere\", \"premiere\", \"present\", \"present\", \"present\", \"present\", \"present\", \"present\", \"present\", \"present\", \"presidium\", \"prioritize\", \"product\", \"product\", \"product\", \"product\", \"production\", \"production\", \"production\", \"production\", \"production\", \"professor\", \"professor\", \"professor\", \"professorship\", \"project\", \"project\", \"project\", \"project\", \"project\", \"project\", \"project\", \"prom\", \"prose\", \"prose\", \"prostitution\", \"protest\", \"protest\", \"protest\", \"protest\", \"protest\", \"protest\", \"protester\", \"protocol\", \"provisional\", \"psychology\", \"psychology\", \"publish\", \"publish\", \"publish\", \"publish\", \"publish\", \"publish\", \"puccini\", \"quadrangular\", \"quarterfinal\", \"quartet\", \"quartet\", \"quintet\", \"race\", \"race\", \"race\", \"race\", \"rail\", \"rail\", \"railroading\", \"railway\", \"railway\", \"railway\", \"rebuilt\", \"receive\", \"receive\", \"receive\", \"receive\", \"receive\", \"receive\", \"receive\", \"receive\", \"recital\", \"recollection\", \"reconstitute\", \"record\", \"record\", \"record\", \"record\", \"record\", \"record\", \"record\", \"recording\", \"recording\", \"recording\", \"recount\", \"rector\", \"refrigeration\", \"regime\", \"regime\", \"regime\", \"regularity\", \"release\", \"release\", \"release\", \"release\", \"release\", \"reminder\", \"reparation\", \"repertoire\", \"repertoire\", \"reprint\", \"republish\", \"research\", \"research\", \"research\", \"research\", \"research\", \"resynthesis\", \"retail\", \"retailer\", \"retrospective\", \"return\", \"return\", \"return\", \"return\", \"return\", \"return\", \"return\", \"road\", \"road\", \"road\", \"road\", \"road\", \"road\", \"road\", \"road\", \"rodeo\", \"role\", \"role\", \"role\", \"role\", \"role\", \"role\", \"round\", \"round\", \"round\", \"round\", \"round\", \"round\", \"rous\", \"route\", \"route\", \"route\", \"route\", \"runner\", \"runner\", \"runner\", \"runway\", \"runway\", \"salon\", \"salon\", \"salon\", \"salon\", \"salsa\", \"satire\", \"satirical\", \"scathing\", \"scholarship\", \"scholarship\", \"scholarship\", \"scholarship\", \"school\", \"school\", \"school\", \"school\", \"school\", \"schoolgirl\", \"science\", \"science\", \"science\", \"science\", \"science\", \"score\", \"score\", \"score\", \"scorer\", \"sculpture\", \"season\", \"season\", \"season\", \"season\", \"secretary\", \"secretary\", \"secretary\", \"sedition\", \"semifinal\", \"send\", \"send\", \"send\", \"send\", \"send\", \"send\", \"serpentine\", \"serve\", \"serve\", \"serve\", \"serve\", \"serve\", \"serve\", \"serve\", \"service\", \"service\", \"service\", \"service\", \"service\", \"sex\", \"sex\", \"sex\", \"shenanigan\", \"shopping\", \"shopping\", \"shopping\", \"shopping\", \"show\", \"show\", \"show\", \"show\", \"show\", \"show\", \"show\", \"showroom\", \"shrew\", \"sing\", \"singer\", \"singer\", \"singer\", \"singer\", \"skull\", \"smallpox\", \"soccer\", \"socialistic\", \"society\", \"society\", \"society\", \"society\", \"society\", \"society\", \"sociology\", \"software\", \"software\", \"solar\", \"solar\", \"solidarity\", \"solo\", \"solo\", \"soloist\", \"son\", \"son\", \"son\", \"son\", \"son\", \"son\", \"song\", \"song\", \"soprano\", \"sovereignty\", \"soviet\", \"soviet\", \"soviet\", \"soviet\", \"soviet\", \"soviet\", \"speed\", \"speed\", \"speed\", \"speed\", \"spend\", \"spend\", \"spend\", \"spend\", \"spend\", \"spend\", \"spend\", \"spider\", \"spike\", \"sportswear\", \"sprint\", \"stadium\", \"stadium\", \"stadium\", \"stage\", \"stage\", \"stage\", \"stage\", \"stage\", \"stage\", \"stage\", \"start\", \"start\", \"start\", \"start\", \"start\", \"start\", \"start\", \"start\", \"startup\", \"state\", \"state\", \"state\", \"state\", \"state\", \"state\", \"state\", \"state\", \"station\", \"station\", \"station\", \"station\", \"steam\", \"steam\", \"steam\", \"store\", \"store\", \"store\", \"store\", \"store\", \"story\", \"story\", \"story\", \"story\", \"story\", \"stravinsky\", \"stray\", \"student\", \"student\", \"student\", \"student\", \"student\", \"studio\", \"studio\", \"studio\", \"studio\", \"study\", \"study\", \"study\", \"study\", \"subway\", \"support\", \"support\", \"support\", \"support\", \"support\", \"support\", \"support\", \"support\", \"surgeon\", \"surgeon\", \"surgical\", \"surrealism\", \"symphony\", \"system\", \"system\", \"system\", \"system\", \"system\", \"system\", \"system\", \"tapestry\", \"tate\", \"taverna\", \"teach\", \"teach\", \"teach\", \"teach\", \"teach\", \"teacher\", \"teacher\", \"teacher\", \"team\", \"team\", \"team\", \"team\", \"team\", \"teammate\", \"tempera\", \"tennis\", \"tennis\", \"tenor\", \"terminal\", \"terminal\", \"termination\", \"terminus\", \"territorial\", \"terrorism\", \"terrorist\", \"text\", \"text\", \"text\", \"text\", \"theater\", \"theater\", \"theater\", \"theater\", \"theater\", \"theatre\", \"theatre\", \"theatre\", \"thesis\", \"thesis\", \"tillman\", \"time\", \"time\", \"time\", \"time\", \"time\", \"time\", \"time\", \"time\", \"timetable\", \"tinder\", \"title\", \"title\", \"title\", \"title\", \"title\", \"title\", \"tour\", \"tour\", \"tour\", \"tour\", \"tour\", \"tour\", \"tour\", \"tour\", \"tourn\", \"tournament\", \"tracing\", \"trackage\", \"traffic\", \"traffic\", \"traffic\", \"train\", \"train\", \"train\", \"train\", \"train\", \"train\", \"train\", \"tram\", \"transcontinental\", \"translate\", \"translate\", \"translate\", \"translate\", \"translate\", \"translation\", \"translation\", \"translation\", \"translation\", \"transport\", \"transport\", \"transport\", \"transport\", \"transport\", \"travel\", \"travel\", \"travel\", \"travel\", \"travel\", \"travel\", \"travel\", \"travel\", \"treaty\", \"treaty\", \"treaty\", \"triste\", \"troop\", \"troop\", \"troop\", \"trophy\", \"tunnel\", \"tunnel\", \"turboprop\", \"turnover\", \"unbeaten\", \"undergraduate\", \"university\", \"university\", \"university\", \"unlicensed\", \"unpublished\", \"upscale\", \"vehicle\", \"vehicle\", \"vehicle\", \"vehicle\", \"velodrome\", \"verismo\", \"vermilion\", \"victory\", \"victory\", \"victory\", \"violation\", \"visit\", \"visit\", \"visit\", \"visit\", \"visit\", \"visit\", \"visit\", \"vogue\", \"vogue\", \"vogue\", \"vol\", \"vol\", \"volume\", \"volume\", \"volume\", \"volume\", \"volume\", \"vv\", \"wagnerian\", \"walk\", \"walk\", \"walk\", \"walk\", \"walk\", \"war\", \"war\", \"war\", \"war\", \"war\", \"war\", \"war\", \"watercolor\", \"watercolour\", \"watercolour\", \"wedding\", \"wedding\", \"wedding\", \"week\", \"week\", \"week\", \"week\", \"week\", \"week\", \"widener\", \"wife\", \"wife\", \"wife\", \"wife\", \"wife\", \"win\", \"win\", \"win\", \"win\", \"win\", \"win\", \"win\", \"win\", \"winner\", \"winner\", \"winner\", \"winner\", \"winner\", \"wired\", \"work\", \"work\", \"work\", \"work\", \"work\", \"work\", \"work\", \"world\", \"world\", \"world\", \"world\", \"world\", \"world\", \"world\", \"world\", \"worsening\", \"wrestling\", \"write\", \"write\", \"write\", \"write\", \"write\", \"writer\", \"writer\", \"writer\", \"writer\", \"writer\", \"writer\", \"writing\", \"writing\", \"writing\", \"writing\", \"writing\", \"writing\", \"year\", \"year\", \"year\", \"year\", \"year\", \"year\", \"year\", \"year\", \"young\", \"young\", \"young\", \"young\", \"young\", \"young\", \"young\", \"zeitgeist\", \"zodiacal\", \"zoroastrian\"]}, \"R\": 30, \"lambda.step\": 0.01, \"plot.opts\": {\"xlab\": \"PC1\", \"ylab\": \"PC2\"}, \"topic.order\": [5, 1, 6, 2, 8, 4, 3, 7]};\n",
       "\n",
       "function LDAvis_load_lib(url, callback){\n",
       "  var s = document.createElement('script');\n",
       "  s.src = url;\n",
       "  s.async = true;\n",
       "  s.onreadystatechange = s.onload = callback;\n",
       "  s.onerror = function(){console.warn(\"failed to load library \" + url);};\n",
       "  document.getElementsByTagName(\"head\")[0].appendChild(s);\n",
       "}\n",
       "\n",
       "if(typeof(LDAvis) !== \"undefined\"){\n",
       "   // already loaded: just create the visualization\n",
       "   !function(LDAvis){\n",
       "       new LDAvis(\"#\" + \"ldavis_el2294425793583811044398777235\", ldavis_el2294425793583811044398777235_data);\n",
       "   }(LDAvis);\n",
       "}else if(typeof define === \"function\" && define.amd){\n",
       "   // require.js is available: use it to load d3/LDAvis\n",
       "   require.config({paths: {d3: \"https://d3js.org/d3.v5\"}});\n",
       "   require([\"d3\"], function(d3){\n",
       "      window.d3 = d3;\n",
       "      LDAvis_load_lib(\"https://cdn.jsdelivr.net/gh/bmabey/pyLDAvis@3.3.1/pyLDAvis/js/ldavis.v3.0.0.js\", function(){\n",
       "        new LDAvis(\"#\" + \"ldavis_el2294425793583811044398777235\", ldavis_el2294425793583811044398777235_data);\n",
       "      });\n",
       "    });\n",
       "}else{\n",
       "    // require.js not available: dynamically load d3 & LDAvis\n",
       "    LDAvis_load_lib(\"https://d3js.org/d3.v5.js\", function(){\n",
       "         LDAvis_load_lib(\"https://cdn.jsdelivr.net/gh/bmabey/pyLDAvis@3.3.1/pyLDAvis/js/ldavis.v3.0.0.js\", function(){\n",
       "                 new LDAvis(\"#\" + \"ldavis_el2294425793583811044398777235\", ldavis_el2294425793583811044398777235_data);\n",
       "            })\n",
       "         });\n",
       "}\n",
       "</script>"
      ],
      "text/plain": [
       "<IPython.core.display.HTML object>"
      ]
     },
     "execution_count": 10,
     "metadata": {},
     "output_type": "execute_result"
    }
   ],
   "source": [
    "model['visualisation']"
   ]
  },
  {
   "cell_type": "code",
   "execution_count": 55,
   "id": "f5a040f0",
   "metadata": {},
   "outputs": [
    {
     "data": {
      "text/plain": [
       "topic_1    10561\n",
       "topic_2     7580\n",
       "topic_5     7507\n",
       "topic_8     7049\n",
       "topic_6     5915\n",
       "topic_4     5361\n",
       "topic_3     3522\n",
       "topic_7     3001\n",
       "dtype: int64"
      ]
     },
     "execution_count": 55,
     "metadata": {},
     "output_type": "execute_result"
    }
   ],
   "source": [
    "\"\"\"\n",
    "model.show_topic() to lydavis topic:\n",
    "topic 1 --> topic 2: Culture\n",
    "topic 2 --> topic 4: Education\n",
    "topic 3 --> topic 7 Traveling\n",
    "topic 4 --> topic 6 Fashion\n",
    "topic 5 --> topic 1 Writing\n",
    "topic 6 --> topic 3 Politics\n",
    "topic 7 --> topic 8 Sport\n",
    "topic 8 --> topic 5 Art\n",
    "\"\"\""
   ]
  },
  {
   "cell_type": "markdown",
   "id": "8f2e00d5",
   "metadata": {},
   "source": [
    "### Word Topic Distribution"
   ]
  },
  {
   "cell_type": "code",
   "execution_count": 15,
   "id": "611a78ef",
   "metadata": {},
   "outputs": [
    {
     "name": "stdout",
     "output_type": "stream",
     "text": [
      "1 [('opera', 0.035), ('festival', 0.024), ('perform', 0.023), ('film', 0.021), ('music', 0.018), ('include', 0.015), ('orchestra', 0.014), ('tour', 0.013), ('concert', 0.013), ('performance', 0.012), ('play', 0.012), ('role', 0.012), ('symphony', 0.01), ('theatre', 0.009), ('debut', 0.009), ('production', 0.008), ('sing', 0.008), ('record', 0.008), ('year', 0.008), ('work', 0.008)]\n",
      "\n",
      "2 [('study', 0.047), ('school', 0.023), ('bear', 0.022), ('year', 0.017), ('work', 0.016), ('professor', 0.011), ('university', 0.011), ('move', 0.011), ('member', 0.009), ('graduate', 0.009), ('receive', 0.008), ('attend', 0.008), ('return', 0.008), ('art', 0.008), ('college', 0.008), ('society', 0.008), ('father', 0.008), ('family', 0.008), ('teach', 0.007), ('student', 0.007)]\n",
      "\n",
      "3 [('city', 0.016), ('service', 0.013), ('flight', 0.011), ('route', 0.01), ('air', 0.008), ('line', 0.008), ('airline', 0.007), ('train', 0.007), ('include', 0.007), ('station', 0.007), ('operate', 0.006), ('time', 0.006), ('aircraft', 0.006), ('airport', 0.006), ('fly', 0.006), ('large', 0.006), ('build', 0.006), ('railway', 0.006), ('system', 0.005), ('passenger', 0.005)]\n",
      "\n",
      "4 [('fashion', 0.023), ('company', 0.017), ('city', 0.014), ('office', 0.014), ('model', 0.012), ('include', 0.012), ('open', 0.011), ('week', 0.01), ('world', 0.01), ('international', 0.008), ('design', 0.008), ('store', 0.007), ('year', 0.007), ('business', 0.006), ('base', 0.006), ('work', 0.006), ('designer', 0.005), ('magazine', 0.005), ('firm', 0.005), ('found', 0.005)]\n",
      "\n",
      "5 [('work', 0.011), ('year', 0.011), ('publish', 0.01), ('time', 0.01), ('write', 0.01), ('return', 0.008), ('book', 0.008), ('travel', 0.007), ('life', 0.006), ('live', 0.006), ('leave', 0.006), ('meet', 0.005), ('family', 0.005), ('move', 0.005), ('visit', 0.005), ('die', 0.005), ('find', 0.005), ('french', 0.004), ('friend', 0.004), ('marry', 0.003)]\n",
      "\n",
      "6 [('war', 0.013), ('german', 0.01), ('government', 0.008), ('british', 0.008), ('french', 0.008), ('foreign', 0.006), ('serve', 0.005), ('return', 0.005), ('state', 0.005), ('year', 0.005), ('member', 0.005), ('force', 0.004), ('secretary', 0.004), ('political', 0.004), ('time', 0.004), ('send', 0.004), ('hold', 0.004), ('general', 0.004), ('embassy', 0.004), ('country', 0.004)]\n",
      "\n",
      "7 [('win', 0.037), ('final', 0.02), ('club', 0.019), ('team', 0.018), ('season', 0.015), ('time', 0.014), ('game', 0.013), ('year', 0.012), ('play', 0.012), ('match', 0.011), ('race', 0.011), ('finish', 0.011), ('world', 0.009), ('place', 0.009), ('event', 0.009), ('hold', 0.009), ('lose', 0.008), ('champion', 0.008), ('league', 0.008), ('championship', 0.008)]\n",
      "\n",
      "8 [('art', 0.063), ('work', 0.036), ('exhibition', 0.028), ('museum', 0.023), ('gallery', 0.022), ('exhibit', 0.017), ('painting', 0.016), ('include', 0.016), ('artist', 0.016), ('collection', 0.012), ('contemporary', 0.009), ('show', 0.008), ('modern', 0.008), ('design', 0.007), ('national', 0.007), ('portrait', 0.007), ('international', 0.006), ('fine', 0.006), ('hold', 0.006), ('solo', 0.006)]\n",
      "\n"
     ]
    }
   ],
   "source": [
    "N_TOPICS = 8\n",
    "MAX_WORDS = 20\n",
    "\n",
    "for i in range(N_TOPICS):\n",
    "    topic_words = model['model'].show_topic(i, topn=MAX_WORDS)\n",
    "    print(i+1, [(x[0], round(x[1], 3)) for x in topic_words])\n",
    "    print()"
   ]
  },
  {
   "cell_type": "markdown",
   "id": "0fc05172",
   "metadata": {},
   "source": [
    "### Document Topic Distribution"
   ]
  },
  {
   "cell_type": "code",
   "execution_count": 68,
   "id": "68ada258",
   "metadata": {},
   "outputs": [],
   "source": [
    "l = [topic+1 for topic in range(8)]\n",
    "\n",
    "d = {}\n",
    "for x in l:\n",
    "    d[f\"topic_{x}\"] = ''"
   ]
  },
  {
   "cell_type": "code",
   "execution_count": 454,
   "id": "e83b7737",
   "metadata": {},
   "outputs": [],
   "source": [
    "import pandas as pd\n",
    "\n",
    "transformed_docs = model['model'].load_document_topics()\n",
    "topic_distributions = pd.DataFrame([[x[1] for x in doc] for doc in transformed_docs], \n",
    "             columns=['topic_{}'.format(i+1) for i in range(N_TOPICS)])\n",
    "\n",
    "topic_distributions_renamed_cols=topic_distributions.rename(columns = {  'topic_1': 'Culture',\n",
    "                                        'topic_2': 'Education',\n",
    "                                        'topic_3': 'Traveling',\n",
    "                                        'topic_4': 'Fashion',\n",
    "                                        'topic_5': 'Writing',\n",
    "                                        'topic_6': 'Politics',\n",
    "                                        'topic_7': 'Sport',\n",
    "                                        'topic_8': 'Art'}, inplace = False)"
   ]
  },
  {
   "cell_type": "code",
   "execution_count": 455,
   "id": "7591fa5b",
   "metadata": {},
   "outputs": [
    {
     "data": {
      "text/html": [
       "<div>\n",
       "<style scoped>\n",
       "    .dataframe tbody tr th:only-of-type {\n",
       "        vertical-align: middle;\n",
       "    }\n",
       "\n",
       "    .dataframe tbody tr th {\n",
       "        vertical-align: top;\n",
       "    }\n",
       "\n",
       "    .dataframe thead th {\n",
       "        text-align: right;\n",
       "    }\n",
       "</style>\n",
       "<table border=\"1\" class=\"dataframe\">\n",
       "  <thead>\n",
       "    <tr style=\"text-align: right;\">\n",
       "      <th></th>\n",
       "      <th>Culture</th>\n",
       "      <th>Education</th>\n",
       "      <th>Traveling</th>\n",
       "      <th>Fashion</th>\n",
       "      <th>Writing</th>\n",
       "      <th>Politics</th>\n",
       "      <th>Sport</th>\n",
       "      <th>Art</th>\n",
       "    </tr>\n",
       "  </thead>\n",
       "  <tbody>\n",
       "    <tr>\n",
       "      <th>0</th>\n",
       "      <td>0.002311</td>\n",
       "      <td>0.002249</td>\n",
       "      <td>0.001061</td>\n",
       "      <td>0.001583</td>\n",
       "      <td>0.865177</td>\n",
       "      <td>0.125048</td>\n",
       "      <td>0.000734</td>\n",
       "      <td>0.001837</td>\n",
       "    </tr>\n",
       "    <tr>\n",
       "      <th>1</th>\n",
       "      <td>0.001658</td>\n",
       "      <td>0.001613</td>\n",
       "      <td>0.000761</td>\n",
       "      <td>0.001136</td>\n",
       "      <td>0.938653</td>\n",
       "      <td>0.001312</td>\n",
       "      <td>0.035876</td>\n",
       "      <td>0.018992</td>\n",
       "    </tr>\n",
       "    <tr>\n",
       "      <th>2</th>\n",
       "      <td>0.002636</td>\n",
       "      <td>0.030673</td>\n",
       "      <td>0.956849</td>\n",
       "      <td>0.001806</td>\n",
       "      <td>0.003018</td>\n",
       "      <td>0.002086</td>\n",
       "      <td>0.000837</td>\n",
       "      <td>0.002095</td>\n",
       "    </tr>\n",
       "    <tr>\n",
       "      <th>3</th>\n",
       "      <td>0.058875</td>\n",
       "      <td>0.004913</td>\n",
       "      <td>0.002317</td>\n",
       "      <td>0.918505</td>\n",
       "      <td>0.005780</td>\n",
       "      <td>0.003995</td>\n",
       "      <td>0.001604</td>\n",
       "      <td>0.004012</td>\n",
       "    </tr>\n",
       "    <tr>\n",
       "      <th>4</th>\n",
       "      <td>0.008101</td>\n",
       "      <td>0.007883</td>\n",
       "      <td>0.953772</td>\n",
       "      <td>0.005549</td>\n",
       "      <td>0.009274</td>\n",
       "      <td>0.006410</td>\n",
       "      <td>0.002573</td>\n",
       "      <td>0.006438</td>\n",
       "    </tr>\n",
       "    <tr>\n",
       "      <th>...</th>\n",
       "      <td>...</td>\n",
       "      <td>...</td>\n",
       "      <td>...</td>\n",
       "      <td>...</td>\n",
       "      <td>...</td>\n",
       "      <td>...</td>\n",
       "      <td>...</td>\n",
       "      <td>...</td>\n",
       "    </tr>\n",
       "    <tr>\n",
       "      <th>50491</th>\n",
       "      <td>0.002793</td>\n",
       "      <td>0.121843</td>\n",
       "      <td>0.001282</td>\n",
       "      <td>0.001913</td>\n",
       "      <td>0.003198</td>\n",
       "      <td>0.478709</td>\n",
       "      <td>0.000887</td>\n",
       "      <td>0.389375</td>\n",
       "    </tr>\n",
       "    <tr>\n",
       "      <th>50492</th>\n",
       "      <td>0.002014</td>\n",
       "      <td>0.023429</td>\n",
       "      <td>0.000924</td>\n",
       "      <td>0.001379</td>\n",
       "      <td>0.367282</td>\n",
       "      <td>0.602732</td>\n",
       "      <td>0.000640</td>\n",
       "      <td>0.001600</td>\n",
       "    </tr>\n",
       "    <tr>\n",
       "      <th>50493</th>\n",
       "      <td>0.001548</td>\n",
       "      <td>0.001507</td>\n",
       "      <td>0.000710</td>\n",
       "      <td>0.001061</td>\n",
       "      <td>0.001773</td>\n",
       "      <td>0.050748</td>\n",
       "      <td>0.941423</td>\n",
       "      <td>0.001230</td>\n",
       "    </tr>\n",
       "    <tr>\n",
       "      <th>50494</th>\n",
       "      <td>0.002879</td>\n",
       "      <td>0.186974</td>\n",
       "      <td>0.001321</td>\n",
       "      <td>0.800050</td>\n",
       "      <td>0.003296</td>\n",
       "      <td>0.002278</td>\n",
       "      <td>0.000914</td>\n",
       "      <td>0.002288</td>\n",
       "    </tr>\n",
       "    <tr>\n",
       "      <th>50495</th>\n",
       "      <td>0.001601</td>\n",
       "      <td>0.240555</td>\n",
       "      <td>0.000735</td>\n",
       "      <td>0.701015</td>\n",
       "      <td>0.001833</td>\n",
       "      <td>0.052480</td>\n",
       "      <td>0.000509</td>\n",
       "      <td>0.001272</td>\n",
       "    </tr>\n",
       "  </tbody>\n",
       "</table>\n",
       "<p>50496 rows × 8 columns</p>\n",
       "</div>"
      ],
      "text/plain": [
       "        Culture  Education  Traveling   Fashion   Writing  Politics     Sport  \\\n",
       "0      0.002311   0.002249   0.001061  0.001583  0.865177  0.125048  0.000734   \n",
       "1      0.001658   0.001613   0.000761  0.001136  0.938653  0.001312  0.035876   \n",
       "2      0.002636   0.030673   0.956849  0.001806  0.003018  0.002086  0.000837   \n",
       "3      0.058875   0.004913   0.002317  0.918505  0.005780  0.003995  0.001604   \n",
       "4      0.008101   0.007883   0.953772  0.005549  0.009274  0.006410  0.002573   \n",
       "...         ...        ...        ...       ...       ...       ...       ...   \n",
       "50491  0.002793   0.121843   0.001282  0.001913  0.003198  0.478709  0.000887   \n",
       "50492  0.002014   0.023429   0.000924  0.001379  0.367282  0.602732  0.000640   \n",
       "50493  0.001548   0.001507   0.000710  0.001061  0.001773  0.050748  0.941423   \n",
       "50494  0.002879   0.186974   0.001321  0.800050  0.003296  0.002278  0.000914   \n",
       "50495  0.001601   0.240555   0.000735  0.701015  0.001833  0.052480  0.000509   \n",
       "\n",
       "            Art  \n",
       "0      0.001837  \n",
       "1      0.018992  \n",
       "2      0.002095  \n",
       "3      0.004012  \n",
       "4      0.006438  \n",
       "...         ...  \n",
       "50491  0.389375  \n",
       "50492  0.001600  \n",
       "50493  0.001230  \n",
       "50494  0.002288  \n",
       "50495  0.001272  \n",
       "\n",
       "[50496 rows x 8 columns]"
      ]
     },
     "execution_count": 455,
     "metadata": {},
     "output_type": "execute_result"
    }
   ],
   "source": [
    "topic_distributions_renamed_cols"
   ]
  },
  {
   "cell_type": "code",
   "execution_count": 456,
   "id": "f97fbda4",
   "metadata": {},
   "outputs": [
    {
     "data": {
      "text/plain": [
       "Culture      10561\n",
       "Education     7580\n",
       "Writing       7507\n",
       "Art           7049\n",
       "Politics      5915\n",
       "Fashion       5361\n",
       "Traveling     3522\n",
       "Sport         3001\n",
       "dtype: int64"
      ]
     },
     "execution_count": 456,
     "metadata": {},
     "output_type": "execute_result"
    }
   ],
   "source": [
    "topic_distributions_renamed_cols.idxmax(axis=\"columns\").value_counts()"
   ]
  },
  {
   "cell_type": "code",
   "execution_count": 458,
   "id": "58a53cea",
   "metadata": {},
   "outputs": [],
   "source": [
    "topic_distributions_renamed_cols_no_writing = topic_distributions_renamed_cols.drop('Writing', axis=1) "
   ]
  },
  {
   "cell_type": "code",
   "execution_count": 459,
   "id": "7dc818c6",
   "metadata": {},
   "outputs": [
    {
     "data": {
      "text/html": [
       "<div>\n",
       "<style scoped>\n",
       "    .dataframe tbody tr th:only-of-type {\n",
       "        vertical-align: middle;\n",
       "    }\n",
       "\n",
       "    .dataframe tbody tr th {\n",
       "        vertical-align: top;\n",
       "    }\n",
       "\n",
       "    .dataframe thead th {\n",
       "        text-align: right;\n",
       "    }\n",
       "</style>\n",
       "<table border=\"1\" class=\"dataframe\">\n",
       "  <thead>\n",
       "    <tr style=\"text-align: right;\">\n",
       "      <th></th>\n",
       "      <th>Culture</th>\n",
       "      <th>Education</th>\n",
       "      <th>Traveling</th>\n",
       "      <th>Fashion</th>\n",
       "      <th>Writing</th>\n",
       "      <th>Politics</th>\n",
       "      <th>Sport</th>\n",
       "      <th>Art</th>\n",
       "    </tr>\n",
       "  </thead>\n",
       "  <tbody>\n",
       "    <tr>\n",
       "      <th>0</th>\n",
       "      <td>0.002311</td>\n",
       "      <td>0.002249</td>\n",
       "      <td>0.001061</td>\n",
       "      <td>0.001583</td>\n",
       "      <td>0.865177</td>\n",
       "      <td>0.125048</td>\n",
       "      <td>0.000734</td>\n",
       "      <td>0.001837</td>\n",
       "    </tr>\n",
       "    <tr>\n",
       "      <th>1</th>\n",
       "      <td>0.001658</td>\n",
       "      <td>0.001613</td>\n",
       "      <td>0.000761</td>\n",
       "      <td>0.001136</td>\n",
       "      <td>0.938653</td>\n",
       "      <td>0.001312</td>\n",
       "      <td>0.035876</td>\n",
       "      <td>0.018992</td>\n",
       "    </tr>\n",
       "    <tr>\n",
       "      <th>2</th>\n",
       "      <td>0.002636</td>\n",
       "      <td>0.030673</td>\n",
       "      <td>0.956849</td>\n",
       "      <td>0.001806</td>\n",
       "      <td>0.003018</td>\n",
       "      <td>0.002086</td>\n",
       "      <td>0.000837</td>\n",
       "      <td>0.002095</td>\n",
       "    </tr>\n",
       "    <tr>\n",
       "      <th>3</th>\n",
       "      <td>0.058875</td>\n",
       "      <td>0.004913</td>\n",
       "      <td>0.002317</td>\n",
       "      <td>0.918505</td>\n",
       "      <td>0.005780</td>\n",
       "      <td>0.003995</td>\n",
       "      <td>0.001604</td>\n",
       "      <td>0.004012</td>\n",
       "    </tr>\n",
       "    <tr>\n",
       "      <th>4</th>\n",
       "      <td>0.008101</td>\n",
       "      <td>0.007883</td>\n",
       "      <td>0.953772</td>\n",
       "      <td>0.005549</td>\n",
       "      <td>0.009274</td>\n",
       "      <td>0.006410</td>\n",
       "      <td>0.002573</td>\n",
       "      <td>0.006438</td>\n",
       "    </tr>\n",
       "    <tr>\n",
       "      <th>...</th>\n",
       "      <td>...</td>\n",
       "      <td>...</td>\n",
       "      <td>...</td>\n",
       "      <td>...</td>\n",
       "      <td>...</td>\n",
       "      <td>...</td>\n",
       "      <td>...</td>\n",
       "      <td>...</td>\n",
       "    </tr>\n",
       "    <tr>\n",
       "      <th>50491</th>\n",
       "      <td>0.002793</td>\n",
       "      <td>0.121843</td>\n",
       "      <td>0.001282</td>\n",
       "      <td>0.001913</td>\n",
       "      <td>0.003198</td>\n",
       "      <td>0.478709</td>\n",
       "      <td>0.000887</td>\n",
       "      <td>0.389375</td>\n",
       "    </tr>\n",
       "    <tr>\n",
       "      <th>50492</th>\n",
       "      <td>0.002014</td>\n",
       "      <td>0.023429</td>\n",
       "      <td>0.000924</td>\n",
       "      <td>0.001379</td>\n",
       "      <td>0.367282</td>\n",
       "      <td>0.602732</td>\n",
       "      <td>0.000640</td>\n",
       "      <td>0.001600</td>\n",
       "    </tr>\n",
       "    <tr>\n",
       "      <th>50493</th>\n",
       "      <td>0.001548</td>\n",
       "      <td>0.001507</td>\n",
       "      <td>0.000710</td>\n",
       "      <td>0.001061</td>\n",
       "      <td>0.001773</td>\n",
       "      <td>0.050748</td>\n",
       "      <td>0.941423</td>\n",
       "      <td>0.001230</td>\n",
       "    </tr>\n",
       "    <tr>\n",
       "      <th>50494</th>\n",
       "      <td>0.002879</td>\n",
       "      <td>0.186974</td>\n",
       "      <td>0.001321</td>\n",
       "      <td>0.800050</td>\n",
       "      <td>0.003296</td>\n",
       "      <td>0.002278</td>\n",
       "      <td>0.000914</td>\n",
       "      <td>0.002288</td>\n",
       "    </tr>\n",
       "    <tr>\n",
       "      <th>50495</th>\n",
       "      <td>0.001601</td>\n",
       "      <td>0.240555</td>\n",
       "      <td>0.000735</td>\n",
       "      <td>0.701015</td>\n",
       "      <td>0.001833</td>\n",
       "      <td>0.052480</td>\n",
       "      <td>0.000509</td>\n",
       "      <td>0.001272</td>\n",
       "    </tr>\n",
       "  </tbody>\n",
       "</table>\n",
       "<p>50496 rows × 8 columns</p>\n",
       "</div>"
      ],
      "text/plain": [
       "        Culture  Education  Traveling   Fashion   Writing  Politics     Sport  \\\n",
       "0      0.002311   0.002249   0.001061  0.001583  0.865177  0.125048  0.000734   \n",
       "1      0.001658   0.001613   0.000761  0.001136  0.938653  0.001312  0.035876   \n",
       "2      0.002636   0.030673   0.956849  0.001806  0.003018  0.002086  0.000837   \n",
       "3      0.058875   0.004913   0.002317  0.918505  0.005780  0.003995  0.001604   \n",
       "4      0.008101   0.007883   0.953772  0.005549  0.009274  0.006410  0.002573   \n",
       "...         ...        ...        ...       ...       ...       ...       ...   \n",
       "50491  0.002793   0.121843   0.001282  0.001913  0.003198  0.478709  0.000887   \n",
       "50492  0.002014   0.023429   0.000924  0.001379  0.367282  0.602732  0.000640   \n",
       "50493  0.001548   0.001507   0.000710  0.001061  0.001773  0.050748  0.941423   \n",
       "50494  0.002879   0.186974   0.001321  0.800050  0.003296  0.002278  0.000914   \n",
       "50495  0.001601   0.240555   0.000735  0.701015  0.001833  0.052480  0.000509   \n",
       "\n",
       "            Art  \n",
       "0      0.001837  \n",
       "1      0.018992  \n",
       "2      0.002095  \n",
       "3      0.004012  \n",
       "4      0.006438  \n",
       "...         ...  \n",
       "50491  0.389375  \n",
       "50492  0.001600  \n",
       "50493  0.001230  \n",
       "50494  0.002288  \n",
       "50495  0.001272  \n",
       "\n",
       "[50496 rows x 8 columns]"
      ]
     },
     "execution_count": 459,
     "metadata": {},
     "output_type": "execute_result"
    }
   ],
   "source": [
    "topic_distributions_renamed_cols"
   ]
  },
  {
   "cell_type": "code",
   "execution_count": 460,
   "id": "cede608f",
   "metadata": {},
   "outputs": [
    {
     "data": {
      "text/html": [
       "<div>\n",
       "<style scoped>\n",
       "    .dataframe tbody tr th:only-of-type {\n",
       "        vertical-align: middle;\n",
       "    }\n",
       "\n",
       "    .dataframe tbody tr th {\n",
       "        vertical-align: top;\n",
       "    }\n",
       "\n",
       "    .dataframe thead th {\n",
       "        text-align: right;\n",
       "    }\n",
       "</style>\n",
       "<table border=\"1\" class=\"dataframe\">\n",
       "  <thead>\n",
       "    <tr style=\"text-align: right;\">\n",
       "      <th></th>\n",
       "      <th>paragraph_id</th>\n",
       "      <th>city_pair</th>\n",
       "      <th>paragraph</th>\n",
       "      <th>merged_POS</th>\n",
       "      <th>Culture</th>\n",
       "      <th>Education</th>\n",
       "      <th>Traveling</th>\n",
       "      <th>Fashion</th>\n",
       "      <th>Writing</th>\n",
       "      <th>Politics</th>\n",
       "      <th>Sport</th>\n",
       "      <th>Art</th>\n",
       "    </tr>\n",
       "  </thead>\n",
       "  <tbody>\n",
       "    <tr>\n",
       "      <th>0</th>\n",
       "      <td>1</td>\n",
       "      <td>berlin_milan</td>\n",
       "      <td>after his tenure in academia, he continued to ...</td>\n",
       "      <td>[tenure, academia, month, year, travel, incide...</td>\n",
       "      <td>0.002311</td>\n",
       "      <td>0.002249</td>\n",
       "      <td>0.001061</td>\n",
       "      <td>0.001583</td>\n",
       "      <td>0.865177</td>\n",
       "      <td>0.125048</td>\n",
       "      <td>0.000734</td>\n",
       "      <td>0.001837</td>\n",
       "    </tr>\n",
       "    <tr>\n",
       "      <th>1</th>\n",
       "      <td>2</td>\n",
       "      <td>berlin_milan</td>\n",
       "      <td>one of the astronomers selected for the search...</td>\n",
       "      <td>[astronomer, search, priest, invitation, group...</td>\n",
       "      <td>0.001658</td>\n",
       "      <td>0.001613</td>\n",
       "      <td>0.000761</td>\n",
       "      <td>0.001136</td>\n",
       "      <td>0.938653</td>\n",
       "      <td>0.001312</td>\n",
       "      <td>0.035876</td>\n",
       "      <td>0.018992</td>\n",
       "    </tr>\n",
       "    <tr>\n",
       "      <th>2</th>\n",
       "      <td>3</td>\n",
       "      <td>berlin_milan</td>\n",
       "      <td>there are plenty of air connections between ye...</td>\n",
       "      <td>[plenty, air, connection, city, connection, ci...</td>\n",
       "      <td>0.002636</td>\n",
       "      <td>0.030673</td>\n",
       "      <td>0.956849</td>\n",
       "      <td>0.001806</td>\n",
       "      <td>0.003018</td>\n",
       "      <td>0.002086</td>\n",
       "      <td>0.000837</td>\n",
       "      <td>0.002095</td>\n",
       "    </tr>\n",
       "    <tr>\n",
       "      <th>3</th>\n",
       "      <td>4</td>\n",
       "      <td>berlin_milan</td>\n",
       "      <td>since 2009, 'the brandery', an urban fashion s...</td>\n",
       "      <td>[fashion, year, language, monitor, ranking, wo...</td>\n",
       "      <td>0.058875</td>\n",
       "      <td>0.004913</td>\n",
       "      <td>0.002317</td>\n",
       "      <td>0.918505</td>\n",
       "      <td>0.005780</td>\n",
       "      <td>0.003995</td>\n",
       "      <td>0.001604</td>\n",
       "      <td>0.004012</td>\n",
       "    </tr>\n",
       "    <tr>\n",
       "      <th>4</th>\n",
       "      <td>5</td>\n",
       "      <td>berlin_milan</td>\n",
       "      <td>when considering the commuter belts or metropo...</td>\n",
       "      <td>[commuter, belt, area, datum, population, orde...</td>\n",
       "      <td>0.008101</td>\n",
       "      <td>0.007883</td>\n",
       "      <td>0.953772</td>\n",
       "      <td>0.005549</td>\n",
       "      <td>0.009274</td>\n",
       "      <td>0.006410</td>\n",
       "      <td>0.002573</td>\n",
       "      <td>0.006438</td>\n",
       "    </tr>\n",
       "    <tr>\n",
       "      <th>...</th>\n",
       "      <td>...</td>\n",
       "      <td>...</td>\n",
       "      <td>...</td>\n",
       "      <td>...</td>\n",
       "      <td>...</td>\n",
       "      <td>...</td>\n",
       "      <td>...</td>\n",
       "      <td>...</td>\n",
       "      <td>...</td>\n",
       "      <td>...</td>\n",
       "      <td>...</td>\n",
       "      <td>...</td>\n",
       "    </tr>\n",
       "    <tr>\n",
       "      <th>50491</th>\n",
       "      <td>50891</td>\n",
       "      <td>paris_milan</td>\n",
       "      <td>the impressions that he had made by his speech...</td>\n",
       "      <td>[impression, speech, debate, invitation, repre...</td>\n",
       "      <td>0.002793</td>\n",
       "      <td>0.121843</td>\n",
       "      <td>0.001282</td>\n",
       "      <td>0.001913</td>\n",
       "      <td>0.003198</td>\n",
       "      <td>0.478709</td>\n",
       "      <td>0.000887</td>\n",
       "      <td>0.389375</td>\n",
       "    </tr>\n",
       "    <tr>\n",
       "      <th>50492</th>\n",
       "      <td>50892</td>\n",
       "      <td>paris_milan</td>\n",
       "      <td>a journey to paris in 1790 provided him furthe...</td>\n",
       "      <td>[journey, acquaintance, idea, year, city, gran...</td>\n",
       "      <td>0.002014</td>\n",
       "      <td>0.023429</td>\n",
       "      <td>0.000924</td>\n",
       "      <td>0.001379</td>\n",
       "      <td>0.367282</td>\n",
       "      <td>0.602732</td>\n",
       "      <td>0.000640</td>\n",
       "      <td>0.001600</td>\n",
       "    </tr>\n",
       "    <tr>\n",
       "      <th>50493</th>\n",
       "      <td>50893</td>\n",
       "      <td>paris_milan</td>\n",
       "      <td>the 1993–94 uefa champions league was the 39th...</td>\n",
       "      <td>[season, club, football, tournament, season, l...</td>\n",
       "      <td>0.001548</td>\n",
       "      <td>0.001507</td>\n",
       "      <td>0.000710</td>\n",
       "      <td>0.001061</td>\n",
       "      <td>0.001773</td>\n",
       "      <td>0.050748</td>\n",
       "      <td>0.941423</td>\n",
       "      <td>0.001230</td>\n",
       "    </tr>\n",
       "    <tr>\n",
       "      <th>50494</th>\n",
       "      <td>50894</td>\n",
       "      <td>paris_milan</td>\n",
       "      <td>kaya has been modeling since the age of 14. sh...</td>\n",
       "      <td>[age, street, career, fashion, world, catalogu...</td>\n",
       "      <td>0.002879</td>\n",
       "      <td>0.186974</td>\n",
       "      <td>0.001321</td>\n",
       "      <td>0.800050</td>\n",
       "      <td>0.003296</td>\n",
       "      <td>0.002278</td>\n",
       "      <td>0.000914</td>\n",
       "      <td>0.002288</td>\n",
       "    </tr>\n",
       "    <tr>\n",
       "      <th>50495</th>\n",
       "      <td>50895</td>\n",
       "      <td>paris_milan</td>\n",
       "      <td>he was born as donald marc blumberg in new hav...</td>\n",
       "      <td>[art, drama, costume, clothing, designer, desi...</td>\n",
       "      <td>0.001601</td>\n",
       "      <td>0.240555</td>\n",
       "      <td>0.000735</td>\n",
       "      <td>0.701015</td>\n",
       "      <td>0.001833</td>\n",
       "      <td>0.052480</td>\n",
       "      <td>0.000509</td>\n",
       "      <td>0.001272</td>\n",
       "    </tr>\n",
       "  </tbody>\n",
       "</table>\n",
       "<p>50496 rows × 12 columns</p>\n",
       "</div>"
      ],
      "text/plain": [
       "       paragraph_id     city_pair  \\\n",
       "0                 1  berlin_milan   \n",
       "1                 2  berlin_milan   \n",
       "2                 3  berlin_milan   \n",
       "3                 4  berlin_milan   \n",
       "4                 5  berlin_milan   \n",
       "...             ...           ...   \n",
       "50491         50891   paris_milan   \n",
       "50492         50892   paris_milan   \n",
       "50493         50893   paris_milan   \n",
       "50494         50894   paris_milan   \n",
       "50495         50895   paris_milan   \n",
       "\n",
       "                                               paragraph  \\\n",
       "0      after his tenure in academia, he continued to ...   \n",
       "1      one of the astronomers selected for the search...   \n",
       "2      there are plenty of air connections between ye...   \n",
       "3      since 2009, 'the brandery', an urban fashion s...   \n",
       "4      when considering the commuter belts or metropo...   \n",
       "...                                                  ...   \n",
       "50491  the impressions that he had made by his speech...   \n",
       "50492  a journey to paris in 1790 provided him furthe...   \n",
       "50493  the 1993–94 uefa champions league was the 39th...   \n",
       "50494  kaya has been modeling since the age of 14. sh...   \n",
       "50495  he was born as donald marc blumberg in new hav...   \n",
       "\n",
       "                                              merged_POS   Culture  Education  \\\n",
       "0      [tenure, academia, month, year, travel, incide...  0.002311   0.002249   \n",
       "1      [astronomer, search, priest, invitation, group...  0.001658   0.001613   \n",
       "2      [plenty, air, connection, city, connection, ci...  0.002636   0.030673   \n",
       "3      [fashion, year, language, monitor, ranking, wo...  0.058875   0.004913   \n",
       "4      [commuter, belt, area, datum, population, orde...  0.008101   0.007883   \n",
       "...                                                  ...       ...        ...   \n",
       "50491  [impression, speech, debate, invitation, repre...  0.002793   0.121843   \n",
       "50492  [journey, acquaintance, idea, year, city, gran...  0.002014   0.023429   \n",
       "50493  [season, club, football, tournament, season, l...  0.001548   0.001507   \n",
       "50494  [age, street, career, fashion, world, catalogu...  0.002879   0.186974   \n",
       "50495  [art, drama, costume, clothing, designer, desi...  0.001601   0.240555   \n",
       "\n",
       "       Traveling   Fashion   Writing  Politics     Sport       Art  \n",
       "0       0.001061  0.001583  0.865177  0.125048  0.000734  0.001837  \n",
       "1       0.000761  0.001136  0.938653  0.001312  0.035876  0.018992  \n",
       "2       0.956849  0.001806  0.003018  0.002086  0.000837  0.002095  \n",
       "3       0.002317  0.918505  0.005780  0.003995  0.001604  0.004012  \n",
       "4       0.953772  0.005549  0.009274  0.006410  0.002573  0.006438  \n",
       "...          ...       ...       ...       ...       ...       ...  \n",
       "50491   0.001282  0.001913  0.003198  0.478709  0.000887  0.389375  \n",
       "50492   0.000924  0.001379  0.367282  0.602732  0.000640  0.001600  \n",
       "50493   0.000710  0.001061  0.001773  0.050748  0.941423  0.001230  \n",
       "50494   0.001321  0.800050  0.003296  0.002278  0.000914  0.002288  \n",
       "50495   0.000735  0.701015  0.001833  0.052480  0.000509  0.001272  \n",
       "\n",
       "[50496 rows x 12 columns]"
      ]
     },
     "execution_count": 460,
     "metadata": {},
     "output_type": "execute_result"
    }
   ],
   "source": [
    "updated_results = pd.concat([result, topic_distributions_renamed_cols],\n",
    "                  axis = 1)\n",
    "updated_results"
   ]
  },
  {
   "cell_type": "code",
   "execution_count": 652,
   "id": "e8ab3b31",
   "metadata": {},
   "outputs": [],
   "source": [
    "updated_results_final.to_csv('classified_citypairs.csv', index=False)"
   ]
  },
  {
   "cell_type": "code",
   "execution_count": 461,
   "id": "7632bf88",
   "metadata": {},
   "outputs": [
    {
     "data": {
      "text/html": [
       "<div>\n",
       "<style scoped>\n",
       "    .dataframe tbody tr th:only-of-type {\n",
       "        vertical-align: middle;\n",
       "    }\n",
       "\n",
       "    .dataframe tbody tr th {\n",
       "        vertical-align: top;\n",
       "    }\n",
       "\n",
       "    .dataframe thead th {\n",
       "        text-align: right;\n",
       "    }\n",
       "</style>\n",
       "<table border=\"1\" class=\"dataframe\">\n",
       "  <thead>\n",
       "    <tr style=\"text-align: right;\">\n",
       "      <th></th>\n",
       "      <th>paragraph_id</th>\n",
       "      <th>city_pair</th>\n",
       "      <th>paragraph</th>\n",
       "      <th>merged_POS</th>\n",
       "      <th>Culture</th>\n",
       "      <th>Education</th>\n",
       "      <th>Traveling</th>\n",
       "      <th>Fashion</th>\n",
       "      <th>Writing</th>\n",
       "      <th>Politics</th>\n",
       "      <th>Sport</th>\n",
       "      <th>Art</th>\n",
       "      <th>idxmax</th>\n",
       "      <th>max</th>\n",
       "    </tr>\n",
       "  </thead>\n",
       "  <tbody>\n",
       "    <tr>\n",
       "      <th>0</th>\n",
       "      <td>1</td>\n",
       "      <td>berlin_milan</td>\n",
       "      <td>after his tenure in academia, he continued to ...</td>\n",
       "      <td>[tenure, academia, month, year, travel, incide...</td>\n",
       "      <td>0.002311</td>\n",
       "      <td>0.002249</td>\n",
       "      <td>0.001061</td>\n",
       "      <td>0.001583</td>\n",
       "      <td>0.865177</td>\n",
       "      <td>0.125048</td>\n",
       "      <td>0.000734</td>\n",
       "      <td>0.001837</td>\n",
       "      <td>Writing</td>\n",
       "      <td>0.865177</td>\n",
       "    </tr>\n",
       "    <tr>\n",
       "      <th>1</th>\n",
       "      <td>2</td>\n",
       "      <td>berlin_milan</td>\n",
       "      <td>one of the astronomers selected for the search...</td>\n",
       "      <td>[astronomer, search, priest, invitation, group...</td>\n",
       "      <td>0.001658</td>\n",
       "      <td>0.001613</td>\n",
       "      <td>0.000761</td>\n",
       "      <td>0.001136</td>\n",
       "      <td>0.938653</td>\n",
       "      <td>0.001312</td>\n",
       "      <td>0.035876</td>\n",
       "      <td>0.018992</td>\n",
       "      <td>Writing</td>\n",
       "      <td>0.938653</td>\n",
       "    </tr>\n",
       "    <tr>\n",
       "      <th>2</th>\n",
       "      <td>3</td>\n",
       "      <td>berlin_milan</td>\n",
       "      <td>there are plenty of air connections between ye...</td>\n",
       "      <td>[plenty, air, connection, city, connection, ci...</td>\n",
       "      <td>0.002636</td>\n",
       "      <td>0.030673</td>\n",
       "      <td>0.956849</td>\n",
       "      <td>0.001806</td>\n",
       "      <td>0.003018</td>\n",
       "      <td>0.002086</td>\n",
       "      <td>0.000837</td>\n",
       "      <td>0.002095</td>\n",
       "      <td>Traveling</td>\n",
       "      <td>0.956849</td>\n",
       "    </tr>\n",
       "    <tr>\n",
       "      <th>3</th>\n",
       "      <td>4</td>\n",
       "      <td>berlin_milan</td>\n",
       "      <td>since 2009, 'the brandery', an urban fashion s...</td>\n",
       "      <td>[fashion, year, language, monitor, ranking, wo...</td>\n",
       "      <td>0.058875</td>\n",
       "      <td>0.004913</td>\n",
       "      <td>0.002317</td>\n",
       "      <td>0.918505</td>\n",
       "      <td>0.005780</td>\n",
       "      <td>0.003995</td>\n",
       "      <td>0.001604</td>\n",
       "      <td>0.004012</td>\n",
       "      <td>Fashion</td>\n",
       "      <td>0.918505</td>\n",
       "    </tr>\n",
       "    <tr>\n",
       "      <th>4</th>\n",
       "      <td>5</td>\n",
       "      <td>berlin_milan</td>\n",
       "      <td>when considering the commuter belts or metropo...</td>\n",
       "      <td>[commuter, belt, area, datum, population, orde...</td>\n",
       "      <td>0.008101</td>\n",
       "      <td>0.007883</td>\n",
       "      <td>0.953772</td>\n",
       "      <td>0.005549</td>\n",
       "      <td>0.009274</td>\n",
       "      <td>0.006410</td>\n",
       "      <td>0.002573</td>\n",
       "      <td>0.006438</td>\n",
       "      <td>Traveling</td>\n",
       "      <td>0.953772</td>\n",
       "    </tr>\n",
       "    <tr>\n",
       "      <th>...</th>\n",
       "      <td>...</td>\n",
       "      <td>...</td>\n",
       "      <td>...</td>\n",
       "      <td>...</td>\n",
       "      <td>...</td>\n",
       "      <td>...</td>\n",
       "      <td>...</td>\n",
       "      <td>...</td>\n",
       "      <td>...</td>\n",
       "      <td>...</td>\n",
       "      <td>...</td>\n",
       "      <td>...</td>\n",
       "      <td>...</td>\n",
       "      <td>...</td>\n",
       "    </tr>\n",
       "    <tr>\n",
       "      <th>50491</th>\n",
       "      <td>50891</td>\n",
       "      <td>paris_milan</td>\n",
       "      <td>the impressions that he had made by his speech...</td>\n",
       "      <td>[impression, speech, debate, invitation, repre...</td>\n",
       "      <td>0.002793</td>\n",
       "      <td>0.121843</td>\n",
       "      <td>0.001282</td>\n",
       "      <td>0.001913</td>\n",
       "      <td>0.003198</td>\n",
       "      <td>0.478709</td>\n",
       "      <td>0.000887</td>\n",
       "      <td>0.389375</td>\n",
       "      <td>Politics</td>\n",
       "      <td>0.478709</td>\n",
       "    </tr>\n",
       "    <tr>\n",
       "      <th>50492</th>\n",
       "      <td>50892</td>\n",
       "      <td>paris_milan</td>\n",
       "      <td>a journey to paris in 1790 provided him furthe...</td>\n",
       "      <td>[journey, acquaintance, idea, year, city, gran...</td>\n",
       "      <td>0.002014</td>\n",
       "      <td>0.023429</td>\n",
       "      <td>0.000924</td>\n",
       "      <td>0.001379</td>\n",
       "      <td>0.367282</td>\n",
       "      <td>0.602732</td>\n",
       "      <td>0.000640</td>\n",
       "      <td>0.001600</td>\n",
       "      <td>Politics</td>\n",
       "      <td>0.602732</td>\n",
       "    </tr>\n",
       "    <tr>\n",
       "      <th>50493</th>\n",
       "      <td>50893</td>\n",
       "      <td>paris_milan</td>\n",
       "      <td>the 1993–94 uefa champions league was the 39th...</td>\n",
       "      <td>[season, club, football, tournament, season, l...</td>\n",
       "      <td>0.001548</td>\n",
       "      <td>0.001507</td>\n",
       "      <td>0.000710</td>\n",
       "      <td>0.001061</td>\n",
       "      <td>0.001773</td>\n",
       "      <td>0.050748</td>\n",
       "      <td>0.941423</td>\n",
       "      <td>0.001230</td>\n",
       "      <td>Sport</td>\n",
       "      <td>0.941423</td>\n",
       "    </tr>\n",
       "    <tr>\n",
       "      <th>50494</th>\n",
       "      <td>50894</td>\n",
       "      <td>paris_milan</td>\n",
       "      <td>kaya has been modeling since the age of 14. sh...</td>\n",
       "      <td>[age, street, career, fashion, world, catalogu...</td>\n",
       "      <td>0.002879</td>\n",
       "      <td>0.186974</td>\n",
       "      <td>0.001321</td>\n",
       "      <td>0.800050</td>\n",
       "      <td>0.003296</td>\n",
       "      <td>0.002278</td>\n",
       "      <td>0.000914</td>\n",
       "      <td>0.002288</td>\n",
       "      <td>Fashion</td>\n",
       "      <td>0.80005</td>\n",
       "    </tr>\n",
       "    <tr>\n",
       "      <th>50495</th>\n",
       "      <td>50895</td>\n",
       "      <td>paris_milan</td>\n",
       "      <td>he was born as donald marc blumberg in new hav...</td>\n",
       "      <td>[art, drama, costume, clothing, designer, desi...</td>\n",
       "      <td>0.001601</td>\n",
       "      <td>0.240555</td>\n",
       "      <td>0.000735</td>\n",
       "      <td>0.701015</td>\n",
       "      <td>0.001833</td>\n",
       "      <td>0.052480</td>\n",
       "      <td>0.000509</td>\n",
       "      <td>0.001272</td>\n",
       "      <td>Fashion</td>\n",
       "      <td>0.701015</td>\n",
       "    </tr>\n",
       "  </tbody>\n",
       "</table>\n",
       "<p>50496 rows × 14 columns</p>\n",
       "</div>"
      ],
      "text/plain": [
       "       paragraph_id     city_pair  \\\n",
       "0                 1  berlin_milan   \n",
       "1                 2  berlin_milan   \n",
       "2                 3  berlin_milan   \n",
       "3                 4  berlin_milan   \n",
       "4                 5  berlin_milan   \n",
       "...             ...           ...   \n",
       "50491         50891   paris_milan   \n",
       "50492         50892   paris_milan   \n",
       "50493         50893   paris_milan   \n",
       "50494         50894   paris_milan   \n",
       "50495         50895   paris_milan   \n",
       "\n",
       "                                               paragraph  \\\n",
       "0      after his tenure in academia, he continued to ...   \n",
       "1      one of the astronomers selected for the search...   \n",
       "2      there are plenty of air connections between ye...   \n",
       "3      since 2009, 'the brandery', an urban fashion s...   \n",
       "4      when considering the commuter belts or metropo...   \n",
       "...                                                  ...   \n",
       "50491  the impressions that he had made by his speech...   \n",
       "50492  a journey to paris in 1790 provided him furthe...   \n",
       "50493  the 1993–94 uefa champions league was the 39th...   \n",
       "50494  kaya has been modeling since the age of 14. sh...   \n",
       "50495  he was born as donald marc blumberg in new hav...   \n",
       "\n",
       "                                              merged_POS   Culture  Education  \\\n",
       "0      [tenure, academia, month, year, travel, incide...  0.002311   0.002249   \n",
       "1      [astronomer, search, priest, invitation, group...  0.001658   0.001613   \n",
       "2      [plenty, air, connection, city, connection, ci...  0.002636   0.030673   \n",
       "3      [fashion, year, language, monitor, ranking, wo...  0.058875   0.004913   \n",
       "4      [commuter, belt, area, datum, population, orde...  0.008101   0.007883   \n",
       "...                                                  ...       ...        ...   \n",
       "50491  [impression, speech, debate, invitation, repre...  0.002793   0.121843   \n",
       "50492  [journey, acquaintance, idea, year, city, gran...  0.002014   0.023429   \n",
       "50493  [season, club, football, tournament, season, l...  0.001548   0.001507   \n",
       "50494  [age, street, career, fashion, world, catalogu...  0.002879   0.186974   \n",
       "50495  [art, drama, costume, clothing, designer, desi...  0.001601   0.240555   \n",
       "\n",
       "       Traveling   Fashion   Writing  Politics     Sport       Art     idxmax  \\\n",
       "0       0.001061  0.001583  0.865177  0.125048  0.000734  0.001837    Writing   \n",
       "1       0.000761  0.001136  0.938653  0.001312  0.035876  0.018992    Writing   \n",
       "2       0.956849  0.001806  0.003018  0.002086  0.000837  0.002095  Traveling   \n",
       "3       0.002317  0.918505  0.005780  0.003995  0.001604  0.004012    Fashion   \n",
       "4       0.953772  0.005549  0.009274  0.006410  0.002573  0.006438  Traveling   \n",
       "...          ...       ...       ...       ...       ...       ...        ...   \n",
       "50491   0.001282  0.001913  0.003198  0.478709  0.000887  0.389375   Politics   \n",
       "50492   0.000924  0.001379  0.367282  0.602732  0.000640  0.001600   Politics   \n",
       "50493   0.000710  0.001061  0.001773  0.050748  0.941423  0.001230      Sport   \n",
       "50494   0.001321  0.800050  0.003296  0.002278  0.000914  0.002288    Fashion   \n",
       "50495   0.000735  0.701015  0.001833  0.052480  0.000509  0.001272    Fashion   \n",
       "\n",
       "            max  \n",
       "0      0.865177  \n",
       "1      0.938653  \n",
       "2      0.956849  \n",
       "3      0.918505  \n",
       "4      0.953772  \n",
       "...         ...  \n",
       "50491  0.478709  \n",
       "50492  0.602732  \n",
       "50493  0.941423  \n",
       "50494   0.80005  \n",
       "50495  0.701015  \n",
       "\n",
       "[50496 rows x 14 columns]"
      ]
     },
     "execution_count": 461,
     "metadata": {},
     "output_type": "execute_result"
    }
   ],
   "source": [
    "updated_results_final =pd.concat([updated_results, updated_results[topic_distributions_renamed_cols.columns].agg(['idxmax','max'],axis=1)], axis=1)\n",
    "updated_results_final"
   ]
  },
  {
   "cell_type": "markdown",
   "id": "fa447941",
   "metadata": {},
   "source": [
    "### By City"
   ]
  },
  {
   "cell_type": "code",
   "execution_count": 280,
   "id": "48bfcd86",
   "metadata": {},
   "outputs": [
    {
     "name": "stdout",
     "output_type": "stream",
     "text": [
      "['berlin_milan' 'london_berlin' 'london_madrid' 'london_milan'\n",
      " 'madrid_berlin' 'madrid_milan' 'paris_berlin' 'paris_london'\n",
      " 'paris_madrid' 'paris_milan']\n"
     ]
    },
    {
     "data": {
      "text/html": [
       "<div>\n",
       "<style scoped>\n",
       "    .dataframe tbody tr th:only-of-type {\n",
       "        vertical-align: middle;\n",
       "    }\n",
       "\n",
       "    .dataframe tbody tr th {\n",
       "        vertical-align: top;\n",
       "    }\n",
       "\n",
       "    .dataframe thead th {\n",
       "        text-align: right;\n",
       "    }\n",
       "</style>\n",
       "<table border=\"1\" class=\"dataframe\">\n",
       "  <thead>\n",
       "    <tr style=\"text-align: right;\">\n",
       "      <th></th>\n",
       "      <th>paragraph_id</th>\n",
       "      <th>city_pair</th>\n",
       "      <th>paragraph</th>\n",
       "      <th>merged_POS</th>\n",
       "      <th>Culture</th>\n",
       "      <th>Education</th>\n",
       "      <th>Traveling</th>\n",
       "      <th>Fashion</th>\n",
       "      <th>Writing</th>\n",
       "      <th>Politics</th>\n",
       "      <th>Sport</th>\n",
       "      <th>Art</th>\n",
       "      <th>idxmax</th>\n",
       "      <th>max</th>\n",
       "    </tr>\n",
       "  </thead>\n",
       "  <tbody>\n",
       "    <tr>\n",
       "      <th>10631</th>\n",
       "      <td>10685</td>\n",
       "      <td>london_milan</td>\n",
       "      <td>there are plenty of air connections between ye...</td>\n",
       "      <td>[plenty, air, connection, city, connection, ci...</td>\n",
       "      <td>0.002636</td>\n",
       "      <td>0.002566</td>\n",
       "      <td>0.984956</td>\n",
       "      <td>0.001806</td>\n",
       "      <td>0.003018</td>\n",
       "      <td>0.002086</td>\n",
       "      <td>0.000837</td>\n",
       "      <td>0.002095</td>\n",
       "      <td>Traveling</td>\n",
       "      <td>0.984956</td>\n",
       "    </tr>\n",
       "    <tr>\n",
       "      <th>10632</th>\n",
       "      <td>10686</td>\n",
       "      <td>london_milan</td>\n",
       "      <td>in some sense also 'ambrosians' are the member...</td>\n",
       "      <td>[sense, ambrosian, member, society, archbishop...</td>\n",
       "      <td>0.001751</td>\n",
       "      <td>0.001704</td>\n",
       "      <td>0.000803</td>\n",
       "      <td>0.001199</td>\n",
       "      <td>0.580597</td>\n",
       "      <td>0.356006</td>\n",
       "      <td>0.000556</td>\n",
       "      <td>0.057384</td>\n",
       "      <td>Writing</td>\n",
       "      <td>0.580597</td>\n",
       "    </tr>\n",
       "    <tr>\n",
       "      <th>10633</th>\n",
       "      <td>10687</td>\n",
       "      <td>london_milan</td>\n",
       "      <td>save the children has been arsenal global char...</td>\n",
       "      <td>[child, charity, partner, project, safety, chi...</td>\n",
       "      <td>0.002431</td>\n",
       "      <td>0.391186</td>\n",
       "      <td>0.001116</td>\n",
       "      <td>0.001665</td>\n",
       "      <td>0.028705</td>\n",
       "      <td>0.001924</td>\n",
       "      <td>0.571041</td>\n",
       "      <td>0.001932</td>\n",
       "      <td>Sport</td>\n",
       "      <td>0.571041</td>\n",
       "    </tr>\n",
       "    <tr>\n",
       "      <th>10634</th>\n",
       "      <td>10688</td>\n",
       "      <td>london_milan</td>\n",
       "      <td>barcelona was the 20th-most-visited city in th...</td>\n",
       "      <td>[city, world, visitor, city, visitor, visitor,...</td>\n",
       "      <td>0.005658</td>\n",
       "      <td>0.005506</td>\n",
       "      <td>0.002596</td>\n",
       "      <td>0.788034</td>\n",
       "      <td>0.187437</td>\n",
       "      <td>0.004476</td>\n",
       "      <td>0.001797</td>\n",
       "      <td>0.004496</td>\n",
       "      <td>Fashion</td>\n",
       "      <td>0.788034</td>\n",
       "    </tr>\n",
       "    <tr>\n",
       "      <th>10635</th>\n",
       "      <td>10689</td>\n",
       "      <td>london_milan</td>\n",
       "      <td>from 2008 the bombay sapphire designer glass c...</td>\n",
       "      <td>[designer, glass, competition, design, place, ...</td>\n",
       "      <td>0.012377</td>\n",
       "      <td>0.012045</td>\n",
       "      <td>0.005679</td>\n",
       "      <td>0.008478</td>\n",
       "      <td>0.014169</td>\n",
       "      <td>0.009793</td>\n",
       "      <td>0.399800</td>\n",
       "      <td>0.537660</td>\n",
       "      <td>Art</td>\n",
       "      <td>0.53766</td>\n",
       "    </tr>\n",
       "    <tr>\n",
       "      <th>...</th>\n",
       "      <td>...</td>\n",
       "      <td>...</td>\n",
       "      <td>...</td>\n",
       "      <td>...</td>\n",
       "      <td>...</td>\n",
       "      <td>...</td>\n",
       "      <td>...</td>\n",
       "      <td>...</td>\n",
       "      <td>...</td>\n",
       "      <td>...</td>\n",
       "      <td>...</td>\n",
       "      <td>...</td>\n",
       "      <td>...</td>\n",
       "      <td>...</td>\n",
       "    </tr>\n",
       "    <tr>\n",
       "      <th>13138</th>\n",
       "      <td>13203</td>\n",
       "      <td>london_milan</td>\n",
       "      <td>julie wimmer was born in 1975. after graduatin...</td>\n",
       "      <td>[school, year, child, book, illustration, semi...</td>\n",
       "      <td>0.003282</td>\n",
       "      <td>0.668035</td>\n",
       "      <td>0.001506</td>\n",
       "      <td>0.037240</td>\n",
       "      <td>0.038749</td>\n",
       "      <td>0.002597</td>\n",
       "      <td>0.001042</td>\n",
       "      <td>0.247550</td>\n",
       "      <td>Education</td>\n",
       "      <td>0.668035</td>\n",
       "    </tr>\n",
       "    <tr>\n",
       "      <th>13139</th>\n",
       "      <td>13204</td>\n",
       "      <td>london_milan</td>\n",
       "      <td>pellegrini is a former member of the london-ba...</td>\n",
       "      <td>[member, art, arc, group, arc, member, art, ho...</td>\n",
       "      <td>0.042763</td>\n",
       "      <td>0.003569</td>\n",
       "      <td>0.001683</td>\n",
       "      <td>0.002512</td>\n",
       "      <td>0.004198</td>\n",
       "      <td>0.002901</td>\n",
       "      <td>0.001165</td>\n",
       "      <td>0.941210</td>\n",
       "      <td>Art</td>\n",
       "      <td>0.94121</td>\n",
       "    </tr>\n",
       "    <tr>\n",
       "      <th>13140</th>\n",
       "      <td>13205</td>\n",
       "      <td>london_milan</td>\n",
       "      <td>the airport has daily feeder flights to warsaw...</td>\n",
       "      <td>[airport, feeder, flight, lot, polish, airline...</td>\n",
       "      <td>0.004791</td>\n",
       "      <td>0.004662</td>\n",
       "      <td>0.972662</td>\n",
       "      <td>0.003282</td>\n",
       "      <td>0.005484</td>\n",
       "      <td>0.003791</td>\n",
       "      <td>0.001522</td>\n",
       "      <td>0.003807</td>\n",
       "      <td>Traveling</td>\n",
       "      <td>0.972662</td>\n",
       "    </tr>\n",
       "    <tr>\n",
       "      <th>13141</th>\n",
       "      <td>13206</td>\n",
       "      <td>london_milan</td>\n",
       "      <td>in 2016 it was announced that liam mckahey and...</td>\n",
       "      <td>[recording, studio, music, era, band, x, end, ...</td>\n",
       "      <td>0.780769</td>\n",
       "      <td>0.003086</td>\n",
       "      <td>0.001455</td>\n",
       "      <td>0.002172</td>\n",
       "      <td>0.206482</td>\n",
       "      <td>0.002509</td>\n",
       "      <td>0.001007</td>\n",
       "      <td>0.002520</td>\n",
       "      <td>Writing</td>\n",
       "      <td>0.206482</td>\n",
       "    </tr>\n",
       "    <tr>\n",
       "      <th>13142</th>\n",
       "      <td>13207</td>\n",
       "      <td>london_milan</td>\n",
       "      <td>kaya has been modeling since the age of 14. sh...</td>\n",
       "      <td>[age, street, career, fashion, world, catalogu...</td>\n",
       "      <td>0.064270</td>\n",
       "      <td>0.002802</td>\n",
       "      <td>0.001321</td>\n",
       "      <td>0.922831</td>\n",
       "      <td>0.003296</td>\n",
       "      <td>0.002278</td>\n",
       "      <td>0.000914</td>\n",
       "      <td>0.002288</td>\n",
       "      <td>Fashion</td>\n",
       "      <td>0.922831</td>\n",
       "    </tr>\n",
       "  </tbody>\n",
       "</table>\n",
       "<p>2512 rows × 14 columns</p>\n",
       "</div>"
      ],
      "text/plain": [
       "       paragraph_id     city_pair  \\\n",
       "10631         10685  london_milan   \n",
       "10632         10686  london_milan   \n",
       "10633         10687  london_milan   \n",
       "10634         10688  london_milan   \n",
       "10635         10689  london_milan   \n",
       "...             ...           ...   \n",
       "13138         13203  london_milan   \n",
       "13139         13204  london_milan   \n",
       "13140         13205  london_milan   \n",
       "13141         13206  london_milan   \n",
       "13142         13207  london_milan   \n",
       "\n",
       "                                               paragraph  \\\n",
       "10631  there are plenty of air connections between ye...   \n",
       "10632  in some sense also 'ambrosians' are the member...   \n",
       "10633  save the children has been arsenal global char...   \n",
       "10634  barcelona was the 20th-most-visited city in th...   \n",
       "10635  from 2008 the bombay sapphire designer glass c...   \n",
       "...                                                  ...   \n",
       "13138  julie wimmer was born in 1975. after graduatin...   \n",
       "13139  pellegrini is a former member of the london-ba...   \n",
       "13140  the airport has daily feeder flights to warsaw...   \n",
       "13141  in 2016 it was announced that liam mckahey and...   \n",
       "13142  kaya has been modeling since the age of 14. sh...   \n",
       "\n",
       "                                              merged_POS   Culture  Education  \\\n",
       "10631  [plenty, air, connection, city, connection, ci...  0.002636   0.002566   \n",
       "10632  [sense, ambrosian, member, society, archbishop...  0.001751   0.001704   \n",
       "10633  [child, charity, partner, project, safety, chi...  0.002431   0.391186   \n",
       "10634  [city, world, visitor, city, visitor, visitor,...  0.005658   0.005506   \n",
       "10635  [designer, glass, competition, design, place, ...  0.012377   0.012045   \n",
       "...                                                  ...       ...        ...   \n",
       "13138  [school, year, child, book, illustration, semi...  0.003282   0.668035   \n",
       "13139  [member, art, arc, group, arc, member, art, ho...  0.042763   0.003569   \n",
       "13140  [airport, feeder, flight, lot, polish, airline...  0.004791   0.004662   \n",
       "13141  [recording, studio, music, era, band, x, end, ...  0.780769   0.003086   \n",
       "13142  [age, street, career, fashion, world, catalogu...  0.064270   0.002802   \n",
       "\n",
       "       Traveling   Fashion   Writing  Politics     Sport       Art     idxmax  \\\n",
       "10631   0.984956  0.001806  0.003018  0.002086  0.000837  0.002095  Traveling   \n",
       "10632   0.000803  0.001199  0.580597  0.356006  0.000556  0.057384    Writing   \n",
       "10633   0.001116  0.001665  0.028705  0.001924  0.571041  0.001932      Sport   \n",
       "10634   0.002596  0.788034  0.187437  0.004476  0.001797  0.004496    Fashion   \n",
       "10635   0.005679  0.008478  0.014169  0.009793  0.399800  0.537660        Art   \n",
       "...          ...       ...       ...       ...       ...       ...        ...   \n",
       "13138   0.001506  0.037240  0.038749  0.002597  0.001042  0.247550  Education   \n",
       "13139   0.001683  0.002512  0.004198  0.002901  0.001165  0.941210        Art   \n",
       "13140   0.972662  0.003282  0.005484  0.003791  0.001522  0.003807  Traveling   \n",
       "13141   0.001455  0.002172  0.206482  0.002509  0.001007  0.002520    Writing   \n",
       "13142   0.001321  0.922831  0.003296  0.002278  0.000914  0.002288    Fashion   \n",
       "\n",
       "            max  \n",
       "10631  0.984956  \n",
       "10632  0.580597  \n",
       "10633  0.571041  \n",
       "10634  0.788034  \n",
       "10635   0.53766  \n",
       "...         ...  \n",
       "13138  0.668035  \n",
       "13139   0.94121  \n",
       "13140  0.972662  \n",
       "13141  0.206482  \n",
       "13142  0.922831  \n",
       "\n",
       "[2512 rows x 14 columns]"
      ]
     },
     "execution_count": 280,
     "metadata": {},
     "output_type": "execute_result"
    }
   ],
   "source": [
    "city_pairs = updated_results['city_pair'].unique()\n",
    "print(city_pairs)\n",
    "chosen_city_pair = city_pairs[3] # 'paris_london'\n",
    "\n",
    "chosen_city_pair_df = updated_results_final[updated_results_final['city_pair']==chosen_city_pair]\n",
    "chosen_city_pair_df"
   ]
  },
  {
   "cell_type": "code",
   "execution_count": 281,
   "id": "789da80a",
   "metadata": {},
   "outputs": [],
   "source": [
    "topic_columns = ['Education', 'Traveling', 'Fashion', 'Writing', 'Politics', 'Sport', 'Art']\n",
    "#chosen_city_pair_df['dominant_topic'] = chosen_city_pair_df[topic_columns].idxmax(axis=\"columns\")# .value_counts()"
   ]
  },
  {
   "cell_type": "code",
   "execution_count": 333,
   "id": "d13c8699",
   "metadata": {
    "scrolled": true
   },
   "outputs": [
    {
     "data": {
      "text/plain": [
       "Culture      12777\n",
       "Education     8901\n",
       "Art           8302\n",
       "Politics      7266\n",
       "Fashion       6073\n",
       "Traveling     3972\n",
       "Sport         3205\n",
       "Name: idxmax, dtype: int64"
      ]
     },
     "execution_count": 333,
     "metadata": {},
     "output_type": "execute_result"
    }
   ],
   "source": [
    "updated_results_final['idxmax'].value_counts()"
   ]
  },
  {
   "cell_type": "code",
   "execution_count": 493,
   "id": "8ac3a011",
   "metadata": {
    "scrolled": false
   },
   "outputs": [
    {
     "data": {
      "text/plain": [
       "Text(0, 0.5, 'Density')"
      ]
     },
     "execution_count": 493,
     "metadata": {},
     "output_type": "execute_result"
    },
    {
     "data": {
      "image/png": "[encoded data removed]",
      "text/plain": [
       "<Figure size 1440x720 with 1 Axes>"
      ]
     },
     "metadata": {
      "needs_background": "light"
     },
     "output_type": "display_data"
    }
   ],
   "source": [
    "# !pip install seaborn\n",
    "import seaborn as sns\n",
    "\n",
    "plt.figure(figsize=(20,10))\n",
    "a = updated_results_final.groupby('idxmax')\n",
    "\n",
    "# Iterate through the five airlines\n",
    "for topic in updated_results_final['idxmax'].unique():\n",
    "    b = a['max'].get_group(topic)\n",
    "\n",
    "    sns.distplot(b, hist = False, kde = True,\n",
    "                 kde_kws = {'linewidth': 3},\n",
    "                 label = topic)\n",
    "    \n",
    "# Plot formatting\n",
    "\n",
    "plt.legend(prop={'size': 16}, title = 'Topic', title_fontsize=20)\n",
    "plt.title('Density of the dominant topics grouped by topic', fontsize=20)\n",
    "plt.xlabel('Topic Confidence')\n",
    "plt.ylim(0, 5.5)\n",
    "plt.xlim(0.2, 1)\n",
    "plt.ylabel('Density')"
   ]
  },
  {
   "cell_type": "code",
   "execution_count": 532,
   "id": "05054016",
   "metadata": {},
   "outputs": [
    {
     "data": {
      "text/plain": [
       "<pandas.core.groupby.generic.SeriesGroupBy object at 0x0000021C0D3F3C70>"
      ]
     },
     "execution_count": 532,
     "metadata": {},
     "output_type": "execute_result"
    }
   ],
   "source": [
    "a = updated_results_final.groupby('idxmax')\n",
    "a['max'] #a.get_group(topic)"
   ]
  },
  {
   "cell_type": "code",
   "execution_count": 569,
   "id": "3c9d1239",
   "metadata": {},
   "outputs": [
    {
     "data": {
      "text/plain": [
       "8"
      ]
     },
     "execution_count": 569,
     "metadata": {},
     "output_type": "execute_result"
    }
   ],
   "source": [
    "len(updated_results_final['idxmax'].unique())"
   ]
  },
  {
   "cell_type": "code",
   "execution_count": 572,
   "id": "0f5d0e36",
   "metadata": {},
   "outputs": [
    {
     "data": {
      "text/plain": [
       "<AxesSubplot:xlabel='max', ylabel='Density'>"
      ]
     },
     "execution_count": 572,
     "metadata": {},
     "output_type": "execute_result"
    },
    {
     "data": {
      "image/png": "[encoded data removed]",
      "text/plain": [
       "<Figure size 432x288 with 1 Axes>"
      ]
     },
     "metadata": {
      "needs_background": "light"
     },
     "output_type": "display_data"
    }
   ],
   "source": [
    "sns.kdeplot(a['max'].get_group(topic))"
   ]
  },
  {
   "cell_type": "code",
   "execution_count": 577,
   "id": "3a0ff64f",
   "metadata": {
    "scrolled": false
   },
   "outputs": [
    {
     "data": {
      "image/png": "[encoded data removed]",
      "text/plain": [
       "<Figure size 1152x864 with 8 Axes>"
      ]
     },
     "metadata": {
      "needs_background": "light"
     },
     "output_type": "display_data"
    }
   ],
   "source": [
    "import numpy as np\n",
    "\n",
    "import pandas as pd\n",
    "\n",
    "import matplotlib.pyplot as plt\n",
    "\n",
    "%matplotlib inline\n",
    "\n",
    "plt.figure(figsize=(16,12))\n",
    "\n",
    "for index, topic in enumerate(updated_results_final['idxmax'].unique()):\n",
    "    topic_data = a['max'].get_group(topic)\n",
    "    density = kde.gaussian_kde(list(topic_data))\n",
    "    x = np.linspace(0 ,10,300)\n",
    "    y = density(x)\n",
    "# sport = a['max'].get_group('Writing')\n",
    "\n",
    "# culture = a['max'].get_group('Culture')\n",
    "\n",
    "\n",
    "\n",
    "\n",
    "    #Plot 1\n",
    "\n",
    "    plt.subplot(3,3,index+1)\n",
    "\n",
    "    # plt.xticks(np.arange(0, len(x) + 1)[::365], x[::365])\n",
    "\n",
    "    plt.plot(x, y)\n",
    "    plt.xlim(0, 1)\n",
    "    plt.ylim(0, 6)\n",
    "\n",
    "    plt.title(topic)\n",
    "\n",
    "    #Plot 2\n",
    "\n",
    "  #plt.subplot(2,2, index+1)\n",
    "\n",
    "plt.show()\n",
    "# plt.xticks(np.arange(0, len(x) + 1)[::365], x[::365])\n",
    "\n",
    "# plt.plot([x for x in range(len(culture))], culture)\n",
    "\n",
    "# plt.title('Amazon (AMZN)) Stock Price')\n",
    "\n",
    "# #Plot 3\n",
    "\n",
    "# plt.subplot(2,2,3)\n",
    "\n",
    "# plt.xticks(np.arange(0, len(x) + 1)[::365], x[::365])\n",
    "\n",
    "# plt.plot(dates, facebook)\n",
    "\n",
    "# plt.title('Facebook (FB) Stock Price')\n",
    "\n",
    "# #Plot 4\n",
    "\n",
    "# plt.subplot(2,2,4)\n",
    "\n",
    "# plt.xticks(np.arange(0, len(x) + 1)[::365], x[::365])\n",
    "\n",
    "# plt.plot(dates, microsoft)\n",
    "\n",
    "# plt.title('Microsoft (MSFT) Stock Price')"
   ]
  },
  {
   "cell_type": "code",
   "execution_count": 534,
   "id": "0e127b98",
   "metadata": {},
   "outputs": [
    {
     "data": {
      "text/plain": [
       "10       0.973922\n",
       "14       0.603531\n",
       "15       0.985572\n",
       "16       0.979452\n",
       "24         0.9542\n",
       "           ...   \n",
       "50478    0.961483\n",
       "50485    0.827441\n",
       "50487    0.902867\n",
       "50488    0.980288\n",
       "50490    0.988348\n",
       "Name: max, Length: 10561, dtype: object"
      ]
     },
     "execution_count": 534,
     "metadata": {},
     "output_type": "execute_result"
    }
   ],
   "source": [
    "a['max'].get_group('Culture')\n"
   ]
  },
  {
   "cell_type": "code",
   "execution_count": 496,
   "id": "4b0f956b",
   "metadata": {},
   "outputs": [],
   "source": [
    "topic_data = {}\n",
    "for topic in updated_results_final['idxmax'].unique():\n",
    "    topic_data[topic] = updated_results_final[updated_results_final['idxmax'] == topic]['max']\n",
    "\n",
    "# topic_data.values()"
   ]
  },
  {
   "cell_type": "code",
   "execution_count": 513,
   "id": "24a5e7c9",
   "metadata": {},
   "outputs": [
    {
     "data": {
      "image/png": "[encoded data removed]",
      "text/plain": [
       "<Figure size 1440x720 with 1 Axes>"
      ]
     },
     "metadata": {
      "needs_background": "light"
     },
     "output_type": "display_data"
    }
   ],
   "source": [
    "import numpy as np\n",
    "import matplotlib.pyplot as plt\n",
    "plt.style.use('seaborn-deep')\n",
    "\n",
    "# for topics\n",
    "\n",
    "plt.figure(figsize=(20,10))\n",
    "\n",
    "plt.title('Density of the dominant topics grouped by topic', fontsize=20)\n",
    "plt.xlabel('Topic Confidence')\n",
    "plt.ylim(0, 4000)\n",
    "plt.xlim(0.2,1)\n",
    "density = kde.gaussian_kde(list(updated_results_final[updated_results_final['idxmax'] == 'Politics']['max']))\n",
    "bins = np.linspace(0, 1, 11)\n",
    "\n",
    "plt.hist(topic_data.values(), bins, label=list(topic_data.keys()))\n",
    "plt.legend(prop={'size': 14}, title = 'Topic', title_fontsize=18, loc='upper left')\n",
    "\n",
    "plt.show()"
   ]
  },
  {
   "cell_type": "code",
   "execution_count": 525,
   "id": "299f0b72",
   "metadata": {},
   "outputs": [
    {
     "ename": "TypeError",
     "evalue": "float() argument must be a string or a number, not 'AxesSubplot'",
     "output_type": "error",
     "traceback": [
      "\u001b[1;31m---------------------------------------------------------------------------\u001b[0m",
      "\u001b[1;31mTypeError\u001b[0m                                 Traceback (most recent call last)",
      "Input \u001b[1;32mIn [525]\u001b[0m, in \u001b[0;36m<cell line: 3>\u001b[1;34m()\u001b[0m\n\u001b[0;32m      1\u001b[0m plt\u001b[38;5;241m.\u001b[39mfigure(figsize\u001b[38;5;241m=\u001b[39m(\u001b[38;5;241m20\u001b[39m,\u001b[38;5;241m10\u001b[39m))\n\u001b[0;32m      2\u001b[0m a \u001b[38;5;241m=\u001b[39m updated_results_final[\u001b[38;5;124m'\u001b[39m\u001b[38;5;124mmax\u001b[39m\u001b[38;5;124m'\u001b[39m]\u001b[38;5;241m.\u001b[39mhist(by\u001b[38;5;241m=\u001b[39mupdated_results_final[\u001b[38;5;124m'\u001b[39m\u001b[38;5;124midxmax\u001b[39m\u001b[38;5;124m'\u001b[39m])\n\u001b[1;32m----> 3\u001b[0m \u001b[43mplt\u001b[49m\u001b[38;5;241;43m.\u001b[39;49m\u001b[43mplot\u001b[49m\u001b[43m(\u001b[49m\u001b[43ma\u001b[49m\u001b[43m)\u001b[49m\n",
      "File \u001b[1;32m~\\Personal Files [Local]\\Applied Data Science\\Thesis - CITYNET\\venv_citynet3\\lib\\site-packages\\matplotlib\\pyplot.py:2769\u001b[0m, in \u001b[0;36mplot\u001b[1;34m(scalex, scaley, data, *args, **kwargs)\u001b[0m\n\u001b[0;32m   2767\u001b[0m \u001b[38;5;129m@_copy_docstring_and_deprecators\u001b[39m(Axes\u001b[38;5;241m.\u001b[39mplot)\n\u001b[0;32m   2768\u001b[0m \u001b[38;5;28;01mdef\u001b[39;00m \u001b[38;5;21mplot\u001b[39m(\u001b[38;5;241m*\u001b[39margs, scalex\u001b[38;5;241m=\u001b[39m\u001b[38;5;28;01mTrue\u001b[39;00m, scaley\u001b[38;5;241m=\u001b[39m\u001b[38;5;28;01mTrue\u001b[39;00m, data\u001b[38;5;241m=\u001b[39m\u001b[38;5;28;01mNone\u001b[39;00m, \u001b[38;5;241m*\u001b[39m\u001b[38;5;241m*\u001b[39mkwargs):\n\u001b[1;32m-> 2769\u001b[0m     \u001b[38;5;28;01mreturn\u001b[39;00m gca()\u001b[38;5;241m.\u001b[39mplot(\n\u001b[0;32m   2770\u001b[0m         \u001b[38;5;241m*\u001b[39margs, scalex\u001b[38;5;241m=\u001b[39mscalex, scaley\u001b[38;5;241m=\u001b[39mscaley,\n\u001b[0;32m   2771\u001b[0m         \u001b[38;5;241m*\u001b[39m\u001b[38;5;241m*\u001b[39m({\u001b[38;5;124m\"\u001b[39m\u001b[38;5;124mdata\u001b[39m\u001b[38;5;124m\"\u001b[39m: data} \u001b[38;5;28;01mif\u001b[39;00m data \u001b[38;5;129;01mis\u001b[39;00m \u001b[38;5;129;01mnot\u001b[39;00m \u001b[38;5;28;01mNone\u001b[39;00m \u001b[38;5;28;01melse\u001b[39;00m {}), \u001b[38;5;241m*\u001b[39m\u001b[38;5;241m*\u001b[39mkwargs)\n",
      "File \u001b[1;32m~\\Personal Files [Local]\\Applied Data Science\\Thesis - CITYNET\\venv_citynet3\\lib\\site-packages\\matplotlib\\axes\\_axes.py:1634\u001b[0m, in \u001b[0;36mAxes.plot\u001b[1;34m(self, scalex, scaley, data, *args, **kwargs)\u001b[0m\n\u001b[0;32m   1632\u001b[0m lines \u001b[38;5;241m=\u001b[39m [\u001b[38;5;241m*\u001b[39m\u001b[38;5;28mself\u001b[39m\u001b[38;5;241m.\u001b[39m_get_lines(\u001b[38;5;241m*\u001b[39margs, data\u001b[38;5;241m=\u001b[39mdata, \u001b[38;5;241m*\u001b[39m\u001b[38;5;241m*\u001b[39mkwargs)]\n\u001b[0;32m   1633\u001b[0m \u001b[38;5;28;01mfor\u001b[39;00m line \u001b[38;5;129;01min\u001b[39;00m lines:\n\u001b[1;32m-> 1634\u001b[0m     \u001b[38;5;28;43mself\u001b[39;49m\u001b[38;5;241;43m.\u001b[39;49m\u001b[43madd_line\u001b[49m\u001b[43m(\u001b[49m\u001b[43mline\u001b[49m\u001b[43m)\u001b[49m\n\u001b[0;32m   1635\u001b[0m \u001b[38;5;28mself\u001b[39m\u001b[38;5;241m.\u001b[39m_request_autoscale_view(scalex\u001b[38;5;241m=\u001b[39mscalex, scaley\u001b[38;5;241m=\u001b[39mscaley)\n\u001b[0;32m   1636\u001b[0m \u001b[38;5;28;01mreturn\u001b[39;00m lines\n",
      "File \u001b[1;32m~\\Personal Files [Local]\\Applied Data Science\\Thesis - CITYNET\\venv_citynet3\\lib\\site-packages\\matplotlib\\axes\\_base.py:2288\u001b[0m, in \u001b[0;36m_AxesBase.add_line\u001b[1;34m(self, line)\u001b[0m\n\u001b[0;32m   2285\u001b[0m \u001b[38;5;28;01mif\u001b[39;00m line\u001b[38;5;241m.\u001b[39mget_clip_path() \u001b[38;5;129;01mis\u001b[39;00m \u001b[38;5;28;01mNone\u001b[39;00m:\n\u001b[0;32m   2286\u001b[0m     line\u001b[38;5;241m.\u001b[39mset_clip_path(\u001b[38;5;28mself\u001b[39m\u001b[38;5;241m.\u001b[39mpatch)\n\u001b[1;32m-> 2288\u001b[0m \u001b[38;5;28;43mself\u001b[39;49m\u001b[38;5;241;43m.\u001b[39;49m\u001b[43m_update_line_limits\u001b[49m\u001b[43m(\u001b[49m\u001b[43mline\u001b[49m\u001b[43m)\u001b[49m\n\u001b[0;32m   2289\u001b[0m \u001b[38;5;28;01mif\u001b[39;00m \u001b[38;5;129;01mnot\u001b[39;00m line\u001b[38;5;241m.\u001b[39mget_label():\n\u001b[0;32m   2290\u001b[0m     line\u001b[38;5;241m.\u001b[39mset_label(\u001b[38;5;124mf\u001b[39m\u001b[38;5;124m'\u001b[39m\u001b[38;5;124m_child\u001b[39m\u001b[38;5;132;01m{\u001b[39;00m\u001b[38;5;28mlen\u001b[39m(\u001b[38;5;28mself\u001b[39m\u001b[38;5;241m.\u001b[39m_children)\u001b[38;5;132;01m}\u001b[39;00m\u001b[38;5;124m'\u001b[39m)\n",
      "File \u001b[1;32m~\\Personal Files [Local]\\Applied Data Science\\Thesis - CITYNET\\venv_citynet3\\lib\\site-packages\\matplotlib\\axes\\_base.py:2311\u001b[0m, in \u001b[0;36m_AxesBase._update_line_limits\u001b[1;34m(self, line)\u001b[0m\n\u001b[0;32m   2307\u001b[0m \u001b[38;5;28;01mdef\u001b[39;00m \u001b[38;5;21m_update_line_limits\u001b[39m(\u001b[38;5;28mself\u001b[39m, line):\n\u001b[0;32m   2308\u001b[0m     \u001b[38;5;124;03m\"\"\"\u001b[39;00m\n\u001b[0;32m   2309\u001b[0m \u001b[38;5;124;03m    Figures out the data limit of the given line, updating self.dataLim.\u001b[39;00m\n\u001b[0;32m   2310\u001b[0m \u001b[38;5;124;03m    \"\"\"\u001b[39;00m\n\u001b[1;32m-> 2311\u001b[0m     path \u001b[38;5;241m=\u001b[39m \u001b[43mline\u001b[49m\u001b[38;5;241;43m.\u001b[39;49m\u001b[43mget_path\u001b[49m\u001b[43m(\u001b[49m\u001b[43m)\u001b[49m\n\u001b[0;32m   2312\u001b[0m     \u001b[38;5;28;01mif\u001b[39;00m path\u001b[38;5;241m.\u001b[39mvertices\u001b[38;5;241m.\u001b[39msize \u001b[38;5;241m==\u001b[39m \u001b[38;5;241m0\u001b[39m:\n\u001b[0;32m   2313\u001b[0m         \u001b[38;5;28;01mreturn\u001b[39;00m\n",
      "File \u001b[1;32m~\\Personal Files [Local]\\Applied Data Science\\Thesis - CITYNET\\venv_citynet3\\lib\\site-packages\\matplotlib\\lines.py:999\u001b[0m, in \u001b[0;36mLine2D.get_path\u001b[1;34m(self)\u001b[0m\n\u001b[0;32m    997\u001b[0m \u001b[38;5;124;03m\"\"\"Return the `~matplotlib.path.Path` associated with this line.\"\"\"\u001b[39;00m\n\u001b[0;32m    998\u001b[0m \u001b[38;5;28;01mif\u001b[39;00m \u001b[38;5;28mself\u001b[39m\u001b[38;5;241m.\u001b[39m_invalidy \u001b[38;5;129;01mor\u001b[39;00m \u001b[38;5;28mself\u001b[39m\u001b[38;5;241m.\u001b[39m_invalidx:\n\u001b[1;32m--> 999\u001b[0m     \u001b[38;5;28;43mself\u001b[39;49m\u001b[38;5;241;43m.\u001b[39;49m\u001b[43mrecache\u001b[49m\u001b[43m(\u001b[49m\u001b[43m)\u001b[49m\n\u001b[0;32m   1000\u001b[0m \u001b[38;5;28;01mreturn\u001b[39;00m \u001b[38;5;28mself\u001b[39m\u001b[38;5;241m.\u001b[39m_path\n",
      "File \u001b[1;32m~\\Personal Files [Local]\\Applied Data Science\\Thesis - CITYNET\\venv_citynet3\\lib\\site-packages\\matplotlib\\lines.py:657\u001b[0m, in \u001b[0;36mLine2D.recache\u001b[1;34m(self, always)\u001b[0m\n\u001b[0;32m    655\u001b[0m \u001b[38;5;28;01mif\u001b[39;00m always \u001b[38;5;129;01mor\u001b[39;00m \u001b[38;5;28mself\u001b[39m\u001b[38;5;241m.\u001b[39m_invalidy:\n\u001b[0;32m    656\u001b[0m     yconv \u001b[38;5;241m=\u001b[39m \u001b[38;5;28mself\u001b[39m\u001b[38;5;241m.\u001b[39mconvert_yunits(\u001b[38;5;28mself\u001b[39m\u001b[38;5;241m.\u001b[39m_yorig)\n\u001b[1;32m--> 657\u001b[0m     y \u001b[38;5;241m=\u001b[39m \u001b[43m_to_unmasked_float_array\u001b[49m\u001b[43m(\u001b[49m\u001b[43myconv\u001b[49m\u001b[43m)\u001b[49m\u001b[38;5;241m.\u001b[39mravel()\n\u001b[0;32m    658\u001b[0m \u001b[38;5;28;01melse\u001b[39;00m:\n\u001b[0;32m    659\u001b[0m     y \u001b[38;5;241m=\u001b[39m \u001b[38;5;28mself\u001b[39m\u001b[38;5;241m.\u001b[39m_y\n",
      "File \u001b[1;32m~\\Personal Files [Local]\\Applied Data Science\\Thesis - CITYNET\\venv_citynet3\\lib\\site-packages\\matplotlib\\cbook\\__init__.py:1298\u001b[0m, in \u001b[0;36m_to_unmasked_float_array\u001b[1;34m(x)\u001b[0m\n\u001b[0;32m   1296\u001b[0m     \u001b[38;5;28;01mreturn\u001b[39;00m np\u001b[38;5;241m.\u001b[39mma\u001b[38;5;241m.\u001b[39masarray(x, \u001b[38;5;28mfloat\u001b[39m)\u001b[38;5;241m.\u001b[39mfilled(np\u001b[38;5;241m.\u001b[39mnan)\n\u001b[0;32m   1297\u001b[0m \u001b[38;5;28;01melse\u001b[39;00m:\n\u001b[1;32m-> 1298\u001b[0m     \u001b[38;5;28;01mreturn\u001b[39;00m \u001b[43mnp\u001b[49m\u001b[38;5;241;43m.\u001b[39;49m\u001b[43masarray\u001b[49m\u001b[43m(\u001b[49m\u001b[43mx\u001b[49m\u001b[43m,\u001b[49m\u001b[43m \u001b[49m\u001b[38;5;28;43mfloat\u001b[39;49m\u001b[43m)\u001b[49m\n",
      "\u001b[1;31mTypeError\u001b[0m: float() argument must be a string or a number, not 'AxesSubplot'"
     ]
    },
    {
     "data": {
      "text/plain": [
       "<Figure size 1440x720 with 0 Axes>"
      ]
     },
     "metadata": {},
     "output_type": "display_data"
    },
    {
     "data": {
      "image/png": "[encoded data removed]",
      "text/plain": [
       "<Figure size 432x288 with 9 Axes>"
      ]
     },
     "metadata": {
      "needs_background": "light"
     },
     "output_type": "display_data"
    }
   ],
   "source": [
    "plt.figure(figsize=(20,10))\n",
    "aupdated_results_final['max'].hist(by=updated_results_final['idxmax'])\n",
    "\n",
    "# plt.figure(figsize=(30,20),facecolor='red',edgecolor='blue')\n"
   ]
  },
  {
   "cell_type": "code",
   "execution_count": 435,
   "id": "1c0ab79e",
   "metadata": {},
   "outputs": [
    {
     "data": {
      "text/plain": [
       "<AxesSubplot:ylabel='Frequency'>"
      ]
     },
     "execution_count": 435,
     "metadata": {},
     "output_type": "execute_result"
    },
    {
     "data": {
      "image/png": "[encoded data removed]",
      "text/plain": [
       "<Figure size 432x288 with 1 Axes>"
      ]
     },
     "metadata": {
      "needs_background": "light"
     },
     "output_type": "display_data"
    }
   ],
   "source": [
    "temp_df = chosen_city_pair_df[chosen_city_pair_df['idxmax'] == 'Art']\n",
    "temp_df['max'].plot(kind=\"hist\")"
   ]
  },
  {
   "cell_type": "code",
   "execution_count": 650,
   "id": "cb1b9416",
   "metadata": {},
   "outputs": [
    {
     "data": {
      "image/png": "[encoded data removed]",
      "text/plain": [
       "<Figure size 1152x288 with 5 Axes>"
      ]
     },
     "metadata": {
      "needs_background": "light"
     },
     "output_type": "display_data"
    }
   ],
   "source": [
    "plt.figure(figsize=(16, 4))\n",
    "\n",
    "\n",
    "temporary_df = updated_results_final[updated_results_final['city_pair']=='paris_madrid']\n",
    "for index, threshold in enumerate([0, 0.2, 0.4, 0.6, 0.8]):\n",
    "    thresholded_data = temporary_df['idxmax'].mask(temporary_df['max'] < threshold, 'Below threshold')\n",
    "    if index == 0:\n",
    "        max = thresholded_data.value_counts().max()+100\n",
    "        \n",
    "    plt.subplot(1,5,index+1)\n",
    "    \n",
    "    thresholded_data[thresholded_data != 'Below threshold'].value_counts().plot(kind=\"bar\")\n",
    "    \n",
    "    plt.ylim(0, max)\n",
    "    plt.title(threshold)"
   ]
  },
  {
   "cell_type": "code",
   "execution_count": 283,
   "id": "dfa33d24",
   "metadata": {
    "scrolled": true
   },
   "outputs": [
    {
     "data": {
      "text/plain": [
       "<AxesSubplot:>"
      ]
     },
     "execution_count": 283,
     "metadata": {},
     "output_type": "execute_result"
    },
    {
     "data": {
      "image/png": "[encoded data removed]",
      "text/plain": [
       "<Figure size 432x288 with 1 Axes>"
      ]
     },
     "metadata": {
      "needs_background": "light"
     },
     "output_type": "display_data"
    }
   ],
   "source": [
    "no_threshold = chosen_city_pair_df['idxmax']\n",
    "no_threshold.value_counts().plot(kind=\"bar\")"
   ]
  },
  {
   "cell_type": "code",
   "execution_count": 284,
   "id": "ed7ac2e7",
   "metadata": {},
   "outputs": [
    {
     "data": {
      "text/plain": [
       "<AxesSubplot:>"
      ]
     },
     "execution_count": 284,
     "metadata": {},
     "output_type": "execute_result"
    },
    {
     "data": {
      "image/png": "[encoded data removed]",
      "text/plain": [
       "<Figure size 432x288 with 1 Axes>"
      ]
     },
     "metadata": {
      "needs_background": "light"
     },
     "output_type": "display_data"
    }
   ],
   "source": [
    "low_threshold = chosen_city_pair_df['idxmax'].mask(chosen_city_pair_df['max'] < 0.2, 0)\n",
    "low_threshold.value_counts().plot(kind=\"bar\")"
   ]
  },
  {
   "cell_type": "code",
   "execution_count": 285,
   "id": "13bd0752",
   "metadata": {},
   "outputs": [
    {
     "data": {
      "text/plain": [
       "<AxesSubplot:>"
      ]
     },
     "execution_count": 285,
     "metadata": {},
     "output_type": "execute_result"
    },
    {
     "data": {
      "image/png": "[encoded data removed]",
      "text/plain": [
       "<Figure size 432x288 with 1 Axes>"
      ]
     },
     "metadata": {
      "needs_background": "light"
     },
     "output_type": "display_data"
    }
   ],
   "source": [
    "medium_threshold = chosen_city_pair_df['idxmax'].mask(chosen_city_pair_df['max'] < 0.4, 0)\n",
    "medium_threshold.value_counts().plot(kind=\"bar\")"
   ]
  },
  {
   "cell_type": "code",
   "execution_count": 289,
   "id": "129e866c",
   "metadata": {},
   "outputs": [
    {
     "data": {
      "text/plain": [
       "<AxesSubplot:>"
      ]
     },
     "execution_count": 289,
     "metadata": {},
     "output_type": "execute_result"
    },
    {
     "data": {
      "image/png": "[encoded data removed]",
      "text/plain": [
       "<Figure size 432x288 with 1 Axes>"
      ]
     },
     "metadata": {
      "needs_background": "light"
     },
     "output_type": "display_data"
    }
   ],
   "source": [
    "high_threshold = chosen_city_pair_df['idxmax'].mask(chosen_city_pair_df['max'] < 0.6, 0)\n",
    "high_threshold.value_counts().plot(kind=\"bar\")"
   ]
  },
  {
   "cell_type": "code",
   "execution_count": 168,
   "id": "cfb13744",
   "metadata": {},
   "outputs": [
    {
     "data": {
      "text/plain": [
       "Fashion      783\n",
       "Writing      708\n",
       "Art          503\n",
       "Education    410\n",
       "Sport        351\n",
       "Politics     263\n",
       "Traveling    233\n",
       "Name: dominant_topic, dtype: int64"
      ]
     },
     "execution_count": 168,
     "metadata": {},
     "output_type": "execute_result"
    }
   ],
   "source": [
    "chosen_city_pair_df['dominant_topic'].value_counts()"
   ]
  },
  {
   "cell_type": "code",
   "execution_count": null,
   "id": "9f404fba",
   "metadata": {},
   "outputs": [],
   "source": []
  },
  {
   "cell_type": "code",
   "execution_count": 118,
   "id": "285628d7",
   "metadata": {},
   "outputs": [
    {
     "data": {
      "text/html": [
       "<div>\n",
       "<style scoped>\n",
       "    .dataframe tbody tr th:only-of-type {\n",
       "        vertical-align: middle;\n",
       "    }\n",
       "\n",
       "    .dataframe tbody tr th {\n",
       "        vertical-align: top;\n",
       "    }\n",
       "\n",
       "    .dataframe thead th {\n",
       "        text-align: right;\n",
       "    }\n",
       "</style>\n",
       "<table border=\"1\" class=\"dataframe\">\n",
       "  <thead>\n",
       "    <tr style=\"text-align: right;\">\n",
       "      <th></th>\n",
       "      <th>paragraph_id</th>\n",
       "      <th>city_pair</th>\n",
       "      <th>paragraph</th>\n",
       "      <th>merged_POS</th>\n",
       "    </tr>\n",
       "  </thead>\n",
       "  <tbody>\n",
       "    <tr>\n",
       "      <th>0</th>\n",
       "      <td>1</td>\n",
       "      <td>berlin_milan</td>\n",
       "      <td>after his tenure in academia, he continued to ...</td>\n",
       "      <td>[tenure, academia, month, year, travel, incide...</td>\n",
       "    </tr>\n",
       "    <tr>\n",
       "      <th>1</th>\n",
       "      <td>2</td>\n",
       "      <td>berlin_milan</td>\n",
       "      <td>one of the astronomers selected for the search...</td>\n",
       "      <td>[astronomer, search, priest, invitation, group...</td>\n",
       "    </tr>\n",
       "    <tr>\n",
       "      <th>2</th>\n",
       "      <td>3</td>\n",
       "      <td>berlin_milan</td>\n",
       "      <td>there are plenty of air connections between ye...</td>\n",
       "      <td>[plenty, air, connection, city, connection, ci...</td>\n",
       "    </tr>\n",
       "    <tr>\n",
       "      <th>3</th>\n",
       "      <td>4</td>\n",
       "      <td>berlin_milan</td>\n",
       "      <td>since 2009, 'the brandery', an urban fashion s...</td>\n",
       "      <td>[fashion, year, language, monitor, ranking, wo...</td>\n",
       "    </tr>\n",
       "    <tr>\n",
       "      <th>4</th>\n",
       "      <td>5</td>\n",
       "      <td>berlin_milan</td>\n",
       "      <td>when considering the commuter belts or metropo...</td>\n",
       "      <td>[commuter, belt, area, datum, population, orde...</td>\n",
       "    </tr>\n",
       "    <tr>\n",
       "      <th>...</th>\n",
       "      <td>...</td>\n",
       "      <td>...</td>\n",
       "      <td>...</td>\n",
       "      <td>...</td>\n",
       "    </tr>\n",
       "    <tr>\n",
       "      <th>50491</th>\n",
       "      <td>50891</td>\n",
       "      <td>paris_milan</td>\n",
       "      <td>the impressions that he had made by his speech...</td>\n",
       "      <td>[impression, speech, debate, invitation, repre...</td>\n",
       "    </tr>\n",
       "    <tr>\n",
       "      <th>50492</th>\n",
       "      <td>50892</td>\n",
       "      <td>paris_milan</td>\n",
       "      <td>a journey to paris in 1790 provided him furthe...</td>\n",
       "      <td>[journey, acquaintance, idea, year, city, gran...</td>\n",
       "    </tr>\n",
       "    <tr>\n",
       "      <th>50493</th>\n",
       "      <td>50893</td>\n",
       "      <td>paris_milan</td>\n",
       "      <td>the 1993–94 uefa champions league was the 39th...</td>\n",
       "      <td>[season, club, football, tournament, season, l...</td>\n",
       "    </tr>\n",
       "    <tr>\n",
       "      <th>50494</th>\n",
       "      <td>50894</td>\n",
       "      <td>paris_milan</td>\n",
       "      <td>kaya has been modeling since the age of 14. sh...</td>\n",
       "      <td>[age, street, career, fashion, world, catalogu...</td>\n",
       "    </tr>\n",
       "    <tr>\n",
       "      <th>50495</th>\n",
       "      <td>50895</td>\n",
       "      <td>paris_milan</td>\n",
       "      <td>he was born as donald marc blumberg in new hav...</td>\n",
       "      <td>[art, drama, costume, clothing, designer, desi...</td>\n",
       "    </tr>\n",
       "  </tbody>\n",
       "</table>\n",
       "<p>50496 rows × 4 columns</p>\n",
       "</div>"
      ],
      "text/plain": [
       "       paragraph_id     city_pair  \\\n",
       "0                 1  berlin_milan   \n",
       "1                 2  berlin_milan   \n",
       "2                 3  berlin_milan   \n",
       "3                 4  berlin_milan   \n",
       "4                 5  berlin_milan   \n",
       "...             ...           ...   \n",
       "50491         50891   paris_milan   \n",
       "50492         50892   paris_milan   \n",
       "50493         50893   paris_milan   \n",
       "50494         50894   paris_milan   \n",
       "50495         50895   paris_milan   \n",
       "\n",
       "                                               paragraph  \\\n",
       "0      after his tenure in academia, he continued to ...   \n",
       "1      one of the astronomers selected for the search...   \n",
       "2      there are plenty of air connections between ye...   \n",
       "3      since 2009, 'the brandery', an urban fashion s...   \n",
       "4      when considering the commuter belts or metropo...   \n",
       "...                                                  ...   \n",
       "50491  the impressions that he had made by his speech...   \n",
       "50492  a journey to paris in 1790 provided him furthe...   \n",
       "50493  the 1993–94 uefa champions league was the 39th...   \n",
       "50494  kaya has been modeling since the age of 14. sh...   \n",
       "50495  he was born as donald marc blumberg in new hav...   \n",
       "\n",
       "                                              merged_POS  \n",
       "0      [tenure, academia, month, year, travel, incide...  \n",
       "1      [astronomer, search, priest, invitation, group...  \n",
       "2      [plenty, air, connection, city, connection, ci...  \n",
       "3      [fashion, year, language, monitor, ranking, wo...  \n",
       "4      [commuter, belt, area, datum, population, orde...  \n",
       "...                                                  ...  \n",
       "50491  [impression, speech, debate, invitation, repre...  \n",
       "50492  [journey, acquaintance, idea, year, city, gran...  \n",
       "50493  [season, club, football, tournament, season, l...  \n",
       "50494  [age, street, career, fashion, world, catalogu...  \n",
       "50495  [art, drama, costume, clothing, designer, desi...  \n",
       "\n",
       "[50496 rows x 4 columns]"
      ]
     },
     "execution_count": 118,
     "metadata": {},
     "output_type": "execute_result"
    }
   ],
   "source": [
    "# result[result['paragraph_id'] == 50494] #['paragraph']\n",
    "# result.iloc[50493]['paragraph']\n",
    "# result"
   ]
  },
  {
   "cell_type": "code",
   "execution_count": null,
   "id": "25f8a169",
   "metadata": {},
   "outputs": [],
   "source": [
    "# Dominant topic per paragraph\n",
    "topic_distributions.idxmax(axis=\"columns\").value_counts()\n",
    "\n",
    "\"\"\"\n",
    "topic to lydavis topic:\n",
    "topic 1: topic 2: Culture\n",
    "topic 2: topic 4: Education\n",
    "topic 3: topic 7 Traveling\n",
    "topic 4: topic 6 Fashion\n",
    "topic 5: topic 1 Writing\n",
    "topic 6: topic 3 Politics\n",
    "topic 7: topic 8 Sport\n",
    "topic 8: topic 5 Art\n",
    "\"\"\""
   ]
  },
  {
   "cell_type": "code",
   "execution_count": 94,
   "id": "4b179b7d",
   "metadata": {},
   "outputs": [
    {
     "data": {
      "text/plain": [
       "paragraph_id\n",
       "1        [tenure, academia, month, year, travel, incide...\n",
       "2        [astronomer, search, priest, invitation, group...\n",
       "3        [plenty, air, connection, city, connection, ci...\n",
       "4        [fashion, year, language, monitor, ranking, wo...\n",
       "5        [commuter, belt, area, datum, population, orde...\n",
       "                               ...                        \n",
       "50891    [impression, speech, debate, invitation, repre...\n",
       "50892    [journey, acquaintance, idea, year, city, gran...\n",
       "50893    [season, club, football, tournament, season, l...\n",
       "50894    [age, street, career, fashion, world, catalogu...\n",
       "50895    [art, drama, costume, clothing, designer, desi...\n",
       "Name: merged_POS, Length: 50496, dtype: object"
      ]
     },
     "execution_count": 94,
     "metadata": {},
     "output_type": "execute_result"
    }
   ],
   "source": [
    "model['texts']"
   ]
  },
  {
   "cell_type": "code",
   "execution_count": 51,
   "id": "b1be5b37",
   "metadata": {},
   "outputs": [
    {
     "data": {
      "text/html": [
       "<div>\n",
       "<style scoped>\n",
       "    .dataframe tbody tr th:only-of-type {\n",
       "        vertical-align: middle;\n",
       "    }\n",
       "\n",
       "    .dataframe tbody tr th {\n",
       "        vertical-align: top;\n",
       "    }\n",
       "\n",
       "    .dataframe thead th {\n",
       "        text-align: right;\n",
       "    }\n",
       "</style>\n",
       "<table border=\"1\" class=\"dataframe\">\n",
       "  <thead>\n",
       "    <tr style=\"text-align: right;\">\n",
       "      <th></th>\n",
       "      <th>topic_1</th>\n",
       "      <th>topic_2</th>\n",
       "      <th>topic_3</th>\n",
       "      <th>topic_4</th>\n",
       "      <th>topic_5</th>\n",
       "      <th>topic_6</th>\n",
       "      <th>topic_7</th>\n",
       "      <th>topic_8</th>\n",
       "    </tr>\n",
       "  </thead>\n",
       "  <tbody>\n",
       "    <tr>\n",
       "      <th>0</th>\n",
       "      <td>0.002311</td>\n",
       "      <td>0.002249</td>\n",
       "      <td>0.001061</td>\n",
       "      <td>0.001583</td>\n",
       "      <td>0.865177</td>\n",
       "      <td>0.125048</td>\n",
       "      <td>0.000734</td>\n",
       "      <td>0.001837</td>\n",
       "    </tr>\n",
       "    <tr>\n",
       "      <th>1</th>\n",
       "      <td>0.001658</td>\n",
       "      <td>0.001613</td>\n",
       "      <td>0.000761</td>\n",
       "      <td>0.001136</td>\n",
       "      <td>0.938653</td>\n",
       "      <td>0.001312</td>\n",
       "      <td>0.035876</td>\n",
       "      <td>0.018992</td>\n",
       "    </tr>\n",
       "    <tr>\n",
       "      <th>2</th>\n",
       "      <td>0.002636</td>\n",
       "      <td>0.030673</td>\n",
       "      <td>0.956849</td>\n",
       "      <td>0.001806</td>\n",
       "      <td>0.003018</td>\n",
       "      <td>0.002086</td>\n",
       "      <td>0.000837</td>\n",
       "      <td>0.002095</td>\n",
       "    </tr>\n",
       "    <tr>\n",
       "      <th>3</th>\n",
       "      <td>0.058875</td>\n",
       "      <td>0.004913</td>\n",
       "      <td>0.002317</td>\n",
       "      <td>0.918505</td>\n",
       "      <td>0.005780</td>\n",
       "      <td>0.003995</td>\n",
       "      <td>0.001604</td>\n",
       "      <td>0.004012</td>\n",
       "    </tr>\n",
       "    <tr>\n",
       "      <th>4</th>\n",
       "      <td>0.008101</td>\n",
       "      <td>0.007883</td>\n",
       "      <td>0.953772</td>\n",
       "      <td>0.005549</td>\n",
       "      <td>0.009274</td>\n",
       "      <td>0.006410</td>\n",
       "      <td>0.002573</td>\n",
       "      <td>0.006438</td>\n",
       "    </tr>\n",
       "    <tr>\n",
       "      <th>...</th>\n",
       "      <td>...</td>\n",
       "      <td>...</td>\n",
       "      <td>...</td>\n",
       "      <td>...</td>\n",
       "      <td>...</td>\n",
       "      <td>...</td>\n",
       "      <td>...</td>\n",
       "      <td>...</td>\n",
       "    </tr>\n",
       "    <tr>\n",
       "      <th>21046</th>\n",
       "      <td>0.003667</td>\n",
       "      <td>0.003569</td>\n",
       "      <td>0.001683</td>\n",
       "      <td>0.002512</td>\n",
       "      <td>0.473346</td>\n",
       "      <td>0.002901</td>\n",
       "      <td>0.001165</td>\n",
       "      <td>0.511158</td>\n",
       "    </tr>\n",
       "    <tr>\n",
       "      <th>21047</th>\n",
       "      <td>0.004791</td>\n",
       "      <td>0.004662</td>\n",
       "      <td>0.002198</td>\n",
       "      <td>0.105436</td>\n",
       "      <td>0.005484</td>\n",
       "      <td>0.003791</td>\n",
       "      <td>0.001522</td>\n",
       "      <td>0.872117</td>\n",
       "    </tr>\n",
       "    <tr>\n",
       "      <th>21048</th>\n",
       "      <td>0.002496</td>\n",
       "      <td>0.800763</td>\n",
       "      <td>0.001145</td>\n",
       "      <td>0.001710</td>\n",
       "      <td>0.002857</td>\n",
       "      <td>0.001975</td>\n",
       "      <td>0.000793</td>\n",
       "      <td>0.188261</td>\n",
       "    </tr>\n",
       "    <tr>\n",
       "      <th>21049</th>\n",
       "      <td>0.020487</td>\n",
       "      <td>0.893628</td>\n",
       "      <td>0.009401</td>\n",
       "      <td>0.014033</td>\n",
       "      <td>0.023453</td>\n",
       "      <td>0.016210</td>\n",
       "      <td>0.006507</td>\n",
       "      <td>0.016281</td>\n",
       "    </tr>\n",
       "    <tr>\n",
       "      <th>21050</th>\n",
       "      <td>0.008867</td>\n",
       "      <td>0.008629</td>\n",
       "      <td>0.004069</td>\n",
       "      <td>0.006074</td>\n",
       "      <td>0.010151</td>\n",
       "      <td>0.007016</td>\n",
       "      <td>0.002816</td>\n",
       "      <td>0.952380</td>\n",
       "    </tr>\n",
       "  </tbody>\n",
       "</table>\n",
       "<p>21051 rows × 8 columns</p>\n",
       "</div>"
      ],
      "text/plain": [
       "        topic_1   topic_2   topic_3   topic_4   topic_5   topic_6   topic_7  \\\n",
       "0      0.002311  0.002249  0.001061  0.001583  0.865177  0.125048  0.000734   \n",
       "1      0.001658  0.001613  0.000761  0.001136  0.938653  0.001312  0.035876   \n",
       "2      0.002636  0.030673  0.956849  0.001806  0.003018  0.002086  0.000837   \n",
       "3      0.058875  0.004913  0.002317  0.918505  0.005780  0.003995  0.001604   \n",
       "4      0.008101  0.007883  0.953772  0.005549  0.009274  0.006410  0.002573   \n",
       "...         ...       ...       ...       ...       ...       ...       ...   \n",
       "21046  0.003667  0.003569  0.001683  0.002512  0.473346  0.002901  0.001165   \n",
       "21047  0.004791  0.004662  0.002198  0.105436  0.005484  0.003791  0.001522   \n",
       "21048  0.002496  0.800763  0.001145  0.001710  0.002857  0.001975  0.000793   \n",
       "21049  0.020487  0.893628  0.009401  0.014033  0.023453  0.016210  0.006507   \n",
       "21050  0.008867  0.008629  0.004069  0.006074  0.010151  0.007016  0.002816   \n",
       "\n",
       "        topic_8  \n",
       "0      0.001837  \n",
       "1      0.018992  \n",
       "2      0.002095  \n",
       "3      0.004012  \n",
       "4      0.006438  \n",
       "...         ...  \n",
       "21046  0.511158  \n",
       "21047  0.872117  \n",
       "21048  0.188261  \n",
       "21049  0.016281  \n",
       "21050  0.952380  \n",
       "\n",
       "[21051 rows x 8 columns]"
      ]
     },
     "execution_count": 51,
     "metadata": {},
     "output_type": "execute_result"
    }
   ],
   "source": [
    "paris_london = topic_distributions.iloc[0:21051]\n",
    "paris_london"
   ]
  },
  {
   "cell_type": "code",
   "execution_count": 56,
   "id": "ee584451",
   "metadata": {},
   "outputs": [
    {
     "data": {
      "text/plain": [
       "topic_1    5293\n",
       "topic_2    3129\n",
       "topic_8    2880\n",
       "topic_6    2475\n",
       "topic_5    2269\n",
       "topic_4    2101\n",
       "topic_7    1613\n",
       "topic_3    1291\n",
       "dtype: int64"
      ]
     },
     "execution_count": 56,
     "metadata": {},
     "output_type": "execute_result"
    }
   ],
   "source": [
    "paris_london.idxmax(axis=\"columns\").value_counts()"
   ]
  },
  {
   "cell_type": "markdown",
   "id": "3f21eb0b",
   "metadata": {},
   "source": [
    "### Topic Coverage Distribution"
   ]
  },
  {
   "cell_type": "code",
   "execution_count": null,
   "id": "60a5f318",
   "metadata": {},
   "outputs": [],
   "source": [
    "# import os\n",
    "\n",
    "# old_file_name = \"/home/career_karma/raw_data.csv\"\n",
    "# new_file_name = \"/home/career_karma/old_data.csv\"\n",
    "\n",
    "# os.rename(old_file_name, new_file_name)\n",
    "\n",
    "# model_path = \"../../../../../data/clean/lda_models/50k_paragraphs/\"\n",
    "# #N_TOPICS = 8\n",
    "\n",
    "# for folder in os.listdir(model_path):\n",
    "#     path2 = os.path.join(model_path, folder)\n",
    "    \n",
    "#     for folder2 in os.listdir(path2):\n",
    "#         old_path = os.path.join(path2, folder2)\n",
    "#         old_abs_path = os.path.abspath(old_path)\n",
    "#         new_path = old_abs_path.replace(\"0.05min\", \"0_05min\").replace(\"0.9max\", \"0_9max\")# .replace('.dict', '_dict').replace('.model', '_model')\n",
    "#         new_abs_path = os.path.abspath(new_path)\n",
    "        \n",
    "#         os.rename(old_abs_path, new_abs_path)"
   ]
  },
  {
   "cell_type": "code",
   "execution_count": 492,
   "id": "ce43d824",
   "metadata": {},
   "outputs": [
    {
     "data": {
      "text/plain": [
       "Culture      0.192494\n",
       "Education    0.150960\n",
       "Traveling    0.074022\n",
       "Fashion      0.110553\n",
       "Writing      0.153422\n",
       "Politics     0.122176\n",
       "Sport        0.061318\n",
       "Art          0.135055\n",
       "dtype: float64"
      ]
     },
     "execution_count": 492,
     "metadata": {},
     "output_type": "execute_result"
    }
   ],
   "source": [
    "distribution = topic_distributions_renamed_cols.mean().sort_values(ascending=False)\n",
    "sorted_distribution = distribution.sort_index()\n",
    "distribution"
   ]
  },
  {
   "cell_type": "code",
   "execution_count": null,
   "id": "13d044d2",
   "metadata": {},
   "outputs": [],
   "source": []
  },
  {
   "cell_type": "code",
   "execution_count": null,
   "id": "103d2e19",
   "metadata": {},
   "outputs": [],
   "source": [
    "import matplotlib.pyplot as plt\n",
    "\n",
    "fig = plt.figure()\n",
    "ax = fig.add_axes([0,0,1,1])\n",
    "langs = sorted_distribution.index\n",
    "students = list(sorted_distribution)\n",
    "ax.bar(langs,students)\n",
    "average_topic_coverage = sum(sorted_distribution)/len(sorted_distribution)\n",
    "\n",
    "plt.axhline(average_topic_coverage, color='grey', ls='-', label='average topic coverage')\n",
    "plt.legend(loc='lower right')\n",
    "plt.show()"
   ]
  }
 ],
 "metadata": {
  "kernelspec": {
   "display_name": "Python 3 (ipykernel)",
   "language": "python",
   "name": "python3"
  },
  "language_info": {
   "codemirror_mode": {
    "name": "ipython",
    "version": 3
   },
   "file_extension": ".py",
   "mimetype": "text/x-python",
   "name": "python",
   "nbconvert_exporter": "python",
   "pygments_lexer": "ipython3",
   "version": "3.9.13"
  }
 },
 "nbformat": 4,
 "nbformat_minor": 5
}
