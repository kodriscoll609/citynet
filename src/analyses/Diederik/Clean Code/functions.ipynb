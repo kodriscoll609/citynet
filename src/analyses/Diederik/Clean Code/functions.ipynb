{
 "cells": [
  {
   "cell_type": "code",
   "execution_count": 1,
   "id": "ca3aebec",
   "metadata": {},
   "outputs": [
    {
     "name": "stderr",
     "output_type": "stream",
     "text": [
      "C:\\Users\\diede\\Personal Files [Local]\\Applied Data Science\\Thesis - CITYNET\\venv_citynet3\\lib\\site-packages\\past\\builtins\\misc.py:45: DeprecationWarning: the imp module is deprecated in favour of importlib; see the module's documentation for alternative uses\n",
      "  from imp import reload\n"
     ]
    }
   ],
   "source": [
    "from preprocessing_functions import *\n",
    "from topic_modeling_functions import *\n",
    "\n",
    "import warnings\n",
    "warnings.filterwarnings('ignore')"
   ]
  },
  {
   "cell_type": "markdown",
   "id": "27f5d11c",
   "metadata": {},
   "source": [
    "### Lemmatised paragraphs"
   ]
  },
  {
   "cell_type": "code",
   "execution_count": 2,
   "id": "14d87587",
   "metadata": {
    "scrolled": true
   },
   "outputs": [],
   "source": [
    "PATH = \"../../../../../data/enwiki_city_pairs_lemmatised/lemmatised_paragraphs/\"\n",
    "\n",
    "lemmatised_data = import_lemmatised_wordlists(PATH=PATH)"
   ]
  },
  {
   "cell_type": "code",
   "execution_count": 3,
   "id": "167e074d",
   "metadata": {},
   "outputs": [],
   "source": [
    "only_wordlists = [lemmatisation_tuple[0] for lemmatisation_tuple in lemmatised_data]\n",
    "paragraphs = [paragraph for city_pair in only_wordlists for paragraph in city_pair]"
   ]
  },
  {
   "cell_type": "markdown",
   "id": "9ada4f9f",
   "metadata": {},
   "source": [
    "### Train single LDA Model"
   ]
  },
  {
   "cell_type": "code",
   "execution_count": null,
   "id": "330d4fa3",
   "metadata": {},
   "outputs": [],
   "source": [
    "%%time\n",
    "\n",
    "result = train_lda_model(paragraphs, dictionary=[], corpus=[], MIN_DF = 0.05, MAX_DF = 0.9, N_TOPICS = 10, N_ITERATIONS = 1000, PATH_TO_MALLET=r'C:/mallet/bin/mallet.bat', GET_COHERENCE_SCORE=True, COHERENCE='c_v')"
   ]
  },
  {
   "cell_type": "code",
   "execution_count": null,
   "id": "cac80c5c",
   "metadata": {},
   "outputs": [],
   "source": [
    "result.keys()"
   ]
  },
  {
   "cell_type": "markdown",
   "id": "9ba6672f",
   "metadata": {},
   "source": [
    "### Save single LDA Model"
   ]
  },
  {
   "cell_type": "code",
   "execution_count": null,
   "id": "acbe5eaf",
   "metadata": {},
   "outputs": [],
   "source": [
    "save_lda_model(result['lda_model'],  OUTPUT_DIR=os.getcwd(), NAME='new_model2', DICTIONARY=result['dictionary'], TEXTS=paragraphs, VIS=None, SAVE_VIS=True, SAVE_DICT=True)"
   ]
  },
  {
   "cell_type": "markdown",
   "id": "69265a04",
   "metadata": {},
   "source": [
    "### Train multiple LDA Models"
   ]
  },
  {
   "cell_type": "code",
   "execution_count": 3,
   "id": "dc76ca2d",
   "metadata": {},
   "outputs": [
    {
     "data": {
      "text/plain": [
       "[3, 5, 7, 9, 11, 13, 15, 17, 19]"
      ]
     },
     "execution_count": 3,
     "metadata": {},
     "output_type": "execute_result"
    }
   ],
   "source": [
    "TOPIC_SELECTION = range(3,21,2)\n",
    "list(TOPIC_SELECTION)"
   ]
  },
  {
   "cell_type": "code",
   "execution_count": 4,
   "id": "f195d526",
   "metadata": {
    "scrolled": false
   },
   "outputs": [
    {
     "name": "stdout",
     "output_type": "stream",
     "text": [
      "Creating lda models for the following number of topics: [2, 4, 6, 8, 10, 12, 14, 16, 18, 20].\n"
     ]
    },
    {
     "data": {
      "application/vnd.jupyter.widget-view+json": {
       "model_id": "eabffa2f19cc4279a0ce2bbeefc8f94d",
       "version_major": 2,
       "version_minor": 0
      },
      "text/plain": [
       "Creating models...:   0%|          | 0/10 [00:00<?, ?it/s]"
      ]
     },
     "metadata": {},
     "output_type": "display_data"
    },
    {
     "name": "stderr",
     "output_type": "stream",
     "text": [
      "C:\\Users\\diede\\Personal Files [Local]\\Applied Data Science\\Thesis - CITYNET\\venv_citynet3\\lib\\site-packages\\pandas\\core\\internals\\blocks.py:402: RuntimeWarning: divide by zero encountered in log\n",
      "  result = func(self.values, **kwargs)\n",
      "C:\\Users\\diede\\Personal Files [Local]\\Applied Data Science\\Thesis - CITYNET\\venv_citynet3\\lib\\site-packages\\pyLDAvis\\_prepare.py:246: FutureWarning: In a future version of pandas all arguments of DataFrame.drop except for the argument 'labels' will be keyword-only.\n",
      "  default_term_info = default_term_info.sort_values(\n",
      "C:\\Users\\diede\\Personal Files [Local]\\Applied Data Science\\Thesis - CITYNET\\venv_citynet3\\lib\\site-packages\\pandas\\core\\internals\\blocks.py:402: RuntimeWarning: divide by zero encountered in log\n",
      "  result = func(self.values, **kwargs)\n"
     ]
    },
    {
     "name": "stdout",
     "output_type": "stream",
     "text": [
      "Model has been saved to the following location: ../../../../../data/lda_models/50k_paragraphs/lda_model_2topics_0.05min_0.9max.\n"
     ]
    },
    {
     "name": "stderr",
     "output_type": "stream",
     "text": [
      "C:\\Users\\diede\\Personal Files [Local]\\Applied Data Science\\Thesis - CITYNET\\venv_citynet3\\lib\\site-packages\\pandas\\core\\internals\\blocks.py:402: RuntimeWarning: divide by zero encountered in log\n",
      "  result = func(self.values, **kwargs)\n",
      "C:\\Users\\diede\\Personal Files [Local]\\Applied Data Science\\Thesis - CITYNET\\venv_citynet3\\lib\\site-packages\\pyLDAvis\\_prepare.py:246: FutureWarning: In a future version of pandas all arguments of DataFrame.drop except for the argument 'labels' will be keyword-only.\n",
      "  default_term_info = default_term_info.sort_values(\n",
      "C:\\Users\\diede\\Personal Files [Local]\\Applied Data Science\\Thesis - CITYNET\\venv_citynet3\\lib\\site-packages\\pandas\\core\\internals\\blocks.py:402: RuntimeWarning: divide by zero encountered in log\n",
      "  result = func(self.values, **kwargs)\n"
     ]
    },
    {
     "name": "stdout",
     "output_type": "stream",
     "text": [
      "Model has been saved to the following location: ../../../../../data/lda_models/50k_paragraphs/lda_model_4topics_0.05min_0.9max.\n"
     ]
    },
    {
     "name": "stderr",
     "output_type": "stream",
     "text": [
      "C:\\Users\\diede\\Personal Files [Local]\\Applied Data Science\\Thesis - CITYNET\\venv_citynet3\\lib\\site-packages\\pandas\\core\\internals\\blocks.py:402: RuntimeWarning: divide by zero encountered in log\n",
      "  result = func(self.values, **kwargs)\n",
      "C:\\Users\\diede\\Personal Files [Local]\\Applied Data Science\\Thesis - CITYNET\\venv_citynet3\\lib\\site-packages\\pyLDAvis\\_prepare.py:246: FutureWarning: In a future version of pandas all arguments of DataFrame.drop except for the argument 'labels' will be keyword-only.\n",
      "  default_term_info = default_term_info.sort_values(\n",
      "C:\\Users\\diede\\Personal Files [Local]\\Applied Data Science\\Thesis - CITYNET\\venv_citynet3\\lib\\site-packages\\pandas\\core\\internals\\blocks.py:402: RuntimeWarning: divide by zero encountered in log\n",
      "  result = func(self.values, **kwargs)\n"
     ]
    },
    {
     "name": "stdout",
     "output_type": "stream",
     "text": [
      "Model has been saved to the following location: ../../../../../data/lda_models/50k_paragraphs/lda_model_6topics_0.05min_0.9max.\n"
     ]
    },
    {
     "name": "stderr",
     "output_type": "stream",
     "text": [
      "C:\\Users\\diede\\Personal Files [Local]\\Applied Data Science\\Thesis - CITYNET\\venv_citynet3\\lib\\site-packages\\pandas\\core\\internals\\blocks.py:402: RuntimeWarning: divide by zero encountered in log\n",
      "  result = func(self.values, **kwargs)\n",
      "C:\\Users\\diede\\Personal Files [Local]\\Applied Data Science\\Thesis - CITYNET\\venv_citynet3\\lib\\site-packages\\pyLDAvis\\_prepare.py:246: FutureWarning: In a future version of pandas all arguments of DataFrame.drop except for the argument 'labels' will be keyword-only.\n",
      "  default_term_info = default_term_info.sort_values(\n",
      "C:\\Users\\diede\\Personal Files [Local]\\Applied Data Science\\Thesis - CITYNET\\venv_citynet3\\lib\\site-packages\\pandas\\core\\internals\\blocks.py:402: RuntimeWarning: divide by zero encountered in log\n",
      "  result = func(self.values, **kwargs)\n"
     ]
    },
    {
     "name": "stdout",
     "output_type": "stream",
     "text": [
      "Model has been saved to the following location: ../../../../../data/lda_models/50k_paragraphs/lda_model_8topics_0.05min_0.9max.\n"
     ]
    },
    {
     "name": "stderr",
     "output_type": "stream",
     "text": [
      "C:\\Users\\diede\\Personal Files [Local]\\Applied Data Science\\Thesis - CITYNET\\venv_citynet3\\lib\\site-packages\\pandas\\core\\internals\\blocks.py:402: RuntimeWarning: divide by zero encountered in log\n",
      "  result = func(self.values, **kwargs)\n",
      "C:\\Users\\diede\\Personal Files [Local]\\Applied Data Science\\Thesis - CITYNET\\venv_citynet3\\lib\\site-packages\\pyLDAvis\\_prepare.py:246: FutureWarning: In a future version of pandas all arguments of DataFrame.drop except for the argument 'labels' will be keyword-only.\n",
      "  default_term_info = default_term_info.sort_values(\n",
      "C:\\Users\\diede\\Personal Files [Local]\\Applied Data Science\\Thesis - CITYNET\\venv_citynet3\\lib\\site-packages\\pandas\\core\\internals\\blocks.py:402: RuntimeWarning: divide by zero encountered in log\n",
      "  result = func(self.values, **kwargs)\n"
     ]
    },
    {
     "name": "stdout",
     "output_type": "stream",
     "text": [
      "Model has been saved to the following location: ../../../../../data/lda_models/50k_paragraphs/lda_model_10topics_0.05min_0.9max.\n"
     ]
    },
    {
     "name": "stderr",
     "output_type": "stream",
     "text": [
      "C:\\Users\\diede\\Personal Files [Local]\\Applied Data Science\\Thesis - CITYNET\\venv_citynet3\\lib\\site-packages\\pandas\\core\\internals\\blocks.py:402: RuntimeWarning: divide by zero encountered in log\n",
      "  result = func(self.values, **kwargs)\n",
      "C:\\Users\\diede\\Personal Files [Local]\\Applied Data Science\\Thesis - CITYNET\\venv_citynet3\\lib\\site-packages\\pyLDAvis\\_prepare.py:246: FutureWarning: In a future version of pandas all arguments of DataFrame.drop except for the argument 'labels' will be keyword-only.\n",
      "  default_term_info = default_term_info.sort_values(\n",
      "C:\\Users\\diede\\Personal Files [Local]\\Applied Data Science\\Thesis - CITYNET\\venv_citynet3\\lib\\site-packages\\pandas\\core\\internals\\blocks.py:402: RuntimeWarning: divide by zero encountered in log\n",
      "  result = func(self.values, **kwargs)\n"
     ]
    },
    {
     "name": "stdout",
     "output_type": "stream",
     "text": [
      "Model has been saved to the following location: ../../../../../data/lda_models/50k_paragraphs/lda_model_12topics_0.05min_0.9max.\n"
     ]
    },
    {
     "name": "stderr",
     "output_type": "stream",
     "text": [
      "C:\\Users\\diede\\Personal Files [Local]\\Applied Data Science\\Thesis - CITYNET\\venv_citynet3\\lib\\site-packages\\pandas\\core\\internals\\blocks.py:402: RuntimeWarning: divide by zero encountered in log\n",
      "  result = func(self.values, **kwargs)\n",
      "C:\\Users\\diede\\Personal Files [Local]\\Applied Data Science\\Thesis - CITYNET\\venv_citynet3\\lib\\site-packages\\pyLDAvis\\_prepare.py:246: FutureWarning: In a future version of pandas all arguments of DataFrame.drop except for the argument 'labels' will be keyword-only.\n",
      "  default_term_info = default_term_info.sort_values(\n",
      "C:\\Users\\diede\\Personal Files [Local]\\Applied Data Science\\Thesis - CITYNET\\venv_citynet3\\lib\\site-packages\\pandas\\core\\internals\\blocks.py:402: RuntimeWarning: divide by zero encountered in log\n",
      "  result = func(self.values, **kwargs)\n"
     ]
    },
    {
     "name": "stdout",
     "output_type": "stream",
     "text": [
      "Model has been saved to the following location: ../../../../../data/lda_models/50k_paragraphs/lda_model_14topics_0.05min_0.9max.\n"
     ]
    },
    {
     "name": "stderr",
     "output_type": "stream",
     "text": [
      "C:\\Users\\diede\\Personal Files [Local]\\Applied Data Science\\Thesis - CITYNET\\venv_citynet3\\lib\\site-packages\\pandas\\core\\internals\\blocks.py:402: RuntimeWarning: divide by zero encountered in log\n",
      "  result = func(self.values, **kwargs)\n",
      "C:\\Users\\diede\\Personal Files [Local]\\Applied Data Science\\Thesis - CITYNET\\venv_citynet3\\lib\\site-packages\\pyLDAvis\\_prepare.py:246: FutureWarning: In a future version of pandas all arguments of DataFrame.drop except for the argument 'labels' will be keyword-only.\n",
      "  default_term_info = default_term_info.sort_values(\n",
      "C:\\Users\\diede\\Personal Files [Local]\\Applied Data Science\\Thesis - CITYNET\\venv_citynet3\\lib\\site-packages\\pandas\\core\\internals\\blocks.py:402: RuntimeWarning: divide by zero encountered in log\n",
      "  result = func(self.values, **kwargs)\n"
     ]
    },
    {
     "name": "stdout",
     "output_type": "stream",
     "text": [
      "Model has been saved to the following location: ../../../../../data/lda_models/50k_paragraphs/lda_model_16topics_0.05min_0.9max.\n"
     ]
    },
    {
     "name": "stderr",
     "output_type": "stream",
     "text": [
      "C:\\Users\\diede\\Personal Files [Local]\\Applied Data Science\\Thesis - CITYNET\\venv_citynet3\\lib\\site-packages\\pandas\\core\\internals\\blocks.py:402: RuntimeWarning: divide by zero encountered in log\n",
      "  result = func(self.values, **kwargs)\n",
      "C:\\Users\\diede\\Personal Files [Local]\\Applied Data Science\\Thesis - CITYNET\\venv_citynet3\\lib\\site-packages\\pyLDAvis\\_prepare.py:246: FutureWarning: In a future version of pandas all arguments of DataFrame.drop except for the argument 'labels' will be keyword-only.\n",
      "  default_term_info = default_term_info.sort_values(\n",
      "C:\\Users\\diede\\Personal Files [Local]\\Applied Data Science\\Thesis - CITYNET\\venv_citynet3\\lib\\site-packages\\pandas\\core\\internals\\blocks.py:402: RuntimeWarning: divide by zero encountered in log\n",
      "  result = func(self.values, **kwargs)\n"
     ]
    },
    {
     "name": "stdout",
     "output_type": "stream",
     "text": [
      "Model has been saved to the following location: ../../../../../data/lda_models/50k_paragraphs/lda_model_18topics_0.05min_0.9max.\n"
     ]
    },
    {
     "name": "stderr",
     "output_type": "stream",
     "text": [
      "C:\\Users\\diede\\Personal Files [Local]\\Applied Data Science\\Thesis - CITYNET\\venv_citynet3\\lib\\site-packages\\pandas\\core\\internals\\blocks.py:402: RuntimeWarning: divide by zero encountered in log\n",
      "  result = func(self.values, **kwargs)\n",
      "C:\\Users\\diede\\Personal Files [Local]\\Applied Data Science\\Thesis - CITYNET\\venv_citynet3\\lib\\site-packages\\pyLDAvis\\_prepare.py:246: FutureWarning: In a future version of pandas all arguments of DataFrame.drop except for the argument 'labels' will be keyword-only.\n",
      "  default_term_info = default_term_info.sort_values(\n",
      "C:\\Users\\diede\\Personal Files [Local]\\Applied Data Science\\Thesis - CITYNET\\venv_citynet3\\lib\\site-packages\\pandas\\core\\internals\\blocks.py:402: RuntimeWarning: divide by zero encountered in log\n",
      "  result = func(self.values, **kwargs)\n"
     ]
    },
    {
     "name": "stdout",
     "output_type": "stream",
     "text": [
      "Model has been saved to the following location: ../../../../../data/lda_models/50k_paragraphs/lda_model_20topics_0.05min_0.9max.\n",
      "CPU times: total: 3min 56s\n",
      "Wall time: 32min 54s\n"
     ]
    }
   ],
   "source": [
    "%%time\n",
    "\n",
    "TOPIC_SELECTION = range(2,21,2)\n",
    "\n",
    "dictionary, corpus = vectorize(paragraphs, MIN_DF=0.05, MAX_DF=0.9)\n",
    "\n",
    "models = compare_lda_models(OUTPUT_DIR='../../../../../data/lda_models/50k_paragraphs/', TOPIC_SELECTION=TOPIC_SELECTION,\n",
    "                LEMMATIZED_TEXT=paragraphs, DICTIONARY=dictionary, CORPUS=corpus, MIN_DF=0.05, MAX_DF=0.9, N_ITERATIONS=1000,\n",
    "                PATH_TO_MALLET=r'C:/mallet/bin/mallet.bat', GET_COHERENCE_SCORE=True, COHERENCE='c_v')"
   ]
  },
  {
   "cell_type": "markdown",
   "id": "b2090c4d",
   "metadata": {},
   "source": [
    "### Load LDA Models"
   ]
  },
  {
   "cell_type": "code",
   "execution_count": null,
   "id": "14bba82b",
   "metadata": {},
   "outputs": [],
   "source": [
    "loaded_models = load_lda_models(INPUT_DIR='../../../../../data/lda_models/50k_paragraphs/', LOAD_VIS=True,\n",
    "                                LOAD_DICT=True, LOAD_COHERENCE_SCORE=True)\n",
    "# "
   ]
  },
  {
   "cell_type": "code",
   "execution_count": null,
   "id": "aee79350",
   "metadata": {},
   "outputs": [],
   "source": [
    "vectorize??"
   ]
  },
  {
   "cell_type": "code",
   "execution_count": null,
   "id": "5b92b8fe",
   "metadata": {},
   "outputs": [],
   "source": [
    "p = 'C:\\\\Users\\\\diede\\\\Personal Files [Local]\\\\Applied Data Science\\\\Thesis - CITYNET\\\\citynet\\\\src\\\\analyses\\\\Diederik\\\\Clean Code\\\\new_model'\n",
    "loaded_model = load_lda_model(p, LOAD_VIS=True, LOAD_DICT=True)"
   ]
  },
  {
   "cell_type": "code",
   "execution_count": null,
   "id": "3dc51090",
   "metadata": {},
   "outputs": [],
   "source": [
    "def load_lda_model(INPUT_DIR, LOAD_VIS=True, LOAD_DICT=True):\n",
    "    name = os.path.basename(INPUT_DIR)\n",
    "    output = {'model': None, 'visualisation': None, 'dictionary': None}\n",
    "\n",
    "    if os.path.exists(INPUT_DIR):\n",
    "        files = os.listdir(INPUT_DIR)\n",
    "\n",
    "        for file in files:\n",
    "            path = os.path.join(INPUT_DIR, file)\n",
    "\n",
    "            if file.endswith('.model'):\n",
    "                output['model'] = gensim.models.LdaModel.load(path)\n",
    "            elif file.endswith('.html') and LOAD_VIS:\n",
    "                output['visualisation'] = HTML(filename=path)\n",
    "            elif file.endswith('.dict'):\n",
    "                output['dictionary'] = dictionary = Dictionary.load(path)\n",
    "\n",
    "    return(output)"
   ]
  },
  {
   "cell_type": "code",
   "execution_count": null,
   "id": "945886d3",
   "metadata": {},
   "outputs": [],
   "source": [
    "paragraphs\n",
    "\n",
    "with open(\"model_texts.pickle\", 'wb') as fp:\n",
    "            pickle.dump(paragraphs, fp)"
   ]
  },
  {
   "cell_type": "code",
   "execution_count": null,
   "id": "0a5f09b4",
   "metadata": {},
   "outputs": [],
   "source": [
    "loaded_model['model'] #.token2id"
   ]
  },
  {
   "cell_type": "code",
   "execution_count": null,
   "id": "3b5a47ff",
   "metadata": {},
   "outputs": [],
   "source": [
    "# result['corpus']\n",
    "#gensim.corpora.MmCorpus.serialize('mycorpus.corp', result['corpus'])\n",
    "c = gensim.corpora.MmCorpus('mycorpus.corp')\n",
    "#c\n",
    "#os.listdir(os.getcwd())"
   ]
  },
  {
   "cell_type": "code",
   "execution_count": null,
   "id": "1f8b70c5",
   "metadata": {},
   "outputs": [],
   "source": [
    "c = CoherenceModel(model=loaded_model['model'], dictionary=loaded_model['dictionary'], texts=None, corpus=c, coherence='c_v').get_coherence()\n",
    "c"
   ]
  },
  {
   "cell_type": "code",
   "execution_count": null,
   "id": "a3051d79",
   "metadata": {},
   "outputs": [],
   "source": [
    "result['cohe']"
   ]
  },
  {
   "cell_type": "code",
   "execution_count": null,
   "id": "2ae13874",
   "metadata": {},
   "outputs": [],
   "source": [
    "def load_lda_model(INPUT_DIR, LOAD_VIS=True, LOAD_DICT=True, LOAD_TEXTS=True, LOAD_COHERENCE_SCORE=False):\n",
    "    name = os.path.basename(INPUT_DIR)\n",
    "    output = {'model': None, 'coherence_score': None, 'visualisation': None, 'lemmatised_words': None, 'dictionary': None}\n",
    "\n",
    "    if os.path.exists(INPUT_DIR):\n",
    "        files = os.listdir(INPUT_DIR)\n",
    "\n",
    "        for file in files:\n",
    "            path = os.path.join(INPUT_DIR, file)\n",
    "\n",
    "            if file.endswith('.model'):\n",
    "                output['model'] = gensim.models.LdaModel.load(path)\n",
    "            elif file.endswith('.html') and LOAD_VIS:\n",
    "                output['visualisation'] = HTML(filename=path)\n",
    "            elif file.endswith('.dict') and LOAD_DICT:\n",
    "                output['dictionary'] = Dictionary.load(path)\n",
    "            elif file.endswith('.pickle') and LOAD_TEXTS:\n",
    "                with open(path, 'rb') as fp:\n",
    "                    output['texts'] = pickle.load(fp)\n",
    "\n",
    "    if LOAD_COHERENCE_SCORE:\n",
    "        if not output['texts']:\n",
    "            raise Exception(\"LOAD_TEXTS=True Parameter and .pickle file is required to calculate the coherence score.\")\n",
    "        if not output['dictionary']:\n",
    "            raise Exception(\"LOAD_DICT=True Parameter and .pickle file is required to calculate the coherence score.\")\n",
    "\n",
    "        output['coherence_score'] = calculate_coherence_score(MODEL=output['model'], LEMMATIZED_TEXT=output['texts'], DICTIONARY=output['dictionary'], COHERENCE='c_v')\n",
    "\n",
    "    return(output)"
   ]
  },
  {
   "cell_type": "code",
   "execution_count": null,
   "id": "a693daca",
   "metadata": {},
   "outputs": [],
   "source": [
    "%%time\n",
    "p ='../../../../../data/lda_models/50k_paragraphs/lda_model_2topics_0.05min_0.9max'\n",
    "loaded_model = load_lda_model(p, LOAD_VIS=True, LOAD_DICT=True, LOAD_COHERENCE_SCORE=False)"
   ]
  },
  {
   "cell_type": "code",
   "execution_count": null,
   "id": "7b90e878",
   "metadata": {},
   "outputs": [],
   "source": [
    "loaded_model['visualisation']"
   ]
  },
  {
   "cell_type": "code",
   "execution_count": null,
   "id": "a76a7bfb",
   "metadata": {},
   "outputs": [],
   "source": []
  },
  {
   "cell_type": "code",
   "execution_count": null,
   "id": "3e320c02",
   "metadata": {},
   "outputs": [],
   "source": [
    "# def save_lda_model(MODEL,  OUTPUT_DIR, NAME, DICTIONARY=None, CORPUS=None, VIS=None, SAVE_VIS=True, SAVE_DICT=True):\n",
    "#     directory = os.path.join(OUTPUT_DIR, NAME)\n",
    "#     os.makedirs(directory, exist_ok=True)\n",
    "\n",
    "#     if SAVE_VIS:\n",
    "#         if not VIS:\n",
    "#             lda_conv = gensim.models.wrappers.ldamallet.malletmodel2ldamodel(MODEL) # my_models[0]['lda_model__2']['model']\n",
    "#             VIS = gensimvis.prepare(lda_conv, CORPUS, DICTIONARY)\n",
    "#         pyLDAvis.save_html(VIS, os.path.join(directory, f\"{NAME}_visualisation.html\"))\n",
    "    \n",
    "#     if SAVE_DICT:\n",
    "#         DICTIONARY.save(os.path.join(directory, f\"{NAME}_dictionary.dict\"))\n",
    "\n",
    "#     MODEL.save(os.path.join(directory, f\"{NAME}_model.model\"))\n",
    "\n",
    "#     print(f'Model has been saved to the following location: {directory}.')"
   ]
  }
 ],
 "metadata": {
  "kernelspec": {
   "display_name": "Python 3 (ipykernel)",
   "language": "python",
   "name": "python3"
  },
  "language_info": {
   "codemirror_mode": {
    "name": "ipython",
    "version": 3
   },
   "file_extension": ".py",
   "mimetype": "text/x-python",
   "name": "python",
   "nbconvert_exporter": "python",
   "pygments_lexer": "ipython3",
   "version": "3.9.13"
  }
 },
 "nbformat": 4,
 "nbformat_minor": 5
}
