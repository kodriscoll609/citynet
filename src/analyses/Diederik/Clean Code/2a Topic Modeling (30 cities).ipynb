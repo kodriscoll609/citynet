{
 "cells": [
  {
   "cell_type": "markdown",
   "id": "87c14c00",
   "metadata": {},
   "source": [
    "<div style=\"background-color: lightgreen; border-radius: 5px; padding: 10px;\">\n",
    "    <h4>LDa Topic Modeling</h4>\n",
    "    <p>...</p>\n",
    "</div>"
   ]
  },
  {
   "cell_type": "markdown",
   "id": "22651c5f",
   "metadata": {},
   "source": [
    "### Imports"
   ]
  },
  {
   "cell_type": "code",
   "execution_count": 3,
   "id": "b5c5fe44",
   "metadata": {},
   "outputs": [
    {
     "name": "stderr",
     "output_type": "stream",
     "text": [
      "C:\\Users\\diede\\Personal Files [Local]\\Applied Data Science\\Thesis - CITYNET\\venv_citynet3\\lib\\site-packages\\past\\builtins\\misc.py:45: DeprecationWarning: the imp module is deprecated in favour of importlib; see the module's documentation for alternative uses\n",
      "  from imp import reload\n"
     ]
    }
   ],
   "source": [
    "from preprocessing_functions import *\n",
    "from topic_modeling_functions import *\n",
    "\n",
    "import warnings\n",
    "warnings.filterwarnings('ignore')"
   ]
  },
  {
   "cell_type": "markdown",
   "id": "670f4d62",
   "metadata": {},
   "source": [
    "### Import (Lemmatised) Paragraphs"
   ]
  },
  {
   "cell_type": "code",
   "execution_count": 4,
   "id": "605bf5e5",
   "metadata": {},
   "outputs": [
    {
     "data": {
      "text/html": [
       "<div>\n",
       "<style scoped>\n",
       "    .dataframe tbody tr th:only-of-type {\n",
       "        vertical-align: middle;\n",
       "    }\n",
       "\n",
       "    .dataframe tbody tr th {\n",
       "        vertical-align: top;\n",
       "    }\n",
       "\n",
       "    .dataframe thead th {\n",
       "        text-align: right;\n",
       "    }\n",
       "</style>\n",
       "<table border=\"1\" class=\"dataframe\">\n",
       "  <thead>\n",
       "    <tr style=\"text-align: right;\">\n",
       "      <th></th>\n",
       "      <th>paragraph_id</th>\n",
       "      <th>city_pair</th>\n",
       "      <th>paragraph</th>\n",
       "      <th>merged_POS</th>\n",
       "    </tr>\n",
       "  </thead>\n",
       "  <tbody>\n",
       "    <tr>\n",
       "      <th>0</th>\n",
       "      <td>1</td>\n",
       "      <td>berlin_milan</td>\n",
       "      <td>after his tenure in academia, he continued to ...</td>\n",
       "      <td>['tenure', 'academia', 'month', 'year', 'trave...</td>\n",
       "    </tr>\n",
       "    <tr>\n",
       "      <th>1</th>\n",
       "      <td>2</td>\n",
       "      <td>berlin_milan</td>\n",
       "      <td>one of the astronomers selected for the search...</td>\n",
       "      <td>['astronomer', 'search', 'priest', 'invitation...</td>\n",
       "    </tr>\n",
       "    <tr>\n",
       "      <th>2</th>\n",
       "      <td>3</td>\n",
       "      <td>berlin_milan</td>\n",
       "      <td>there are plenty of air connections between ye...</td>\n",
       "      <td>['plenty', 'air', 'connection', 'city', 'conne...</td>\n",
       "    </tr>\n",
       "    <tr>\n",
       "      <th>3</th>\n",
       "      <td>4</td>\n",
       "      <td>berlin_milan</td>\n",
       "      <td>since 2009, 'the brandery', an urban fashion s...</td>\n",
       "      <td>['fashion', 'year', 'language', 'monitor', 'ra...</td>\n",
       "    </tr>\n",
       "    <tr>\n",
       "      <th>4</th>\n",
       "      <td>5</td>\n",
       "      <td>berlin_milan</td>\n",
       "      <td>when considering the commuter belts or metropo...</td>\n",
       "      <td>['commuter', 'belt', 'area', 'datum', 'populat...</td>\n",
       "    </tr>\n",
       "    <tr>\n",
       "      <th>...</th>\n",
       "      <td>...</td>\n",
       "      <td>...</td>\n",
       "      <td>...</td>\n",
       "      <td>...</td>\n",
       "    </tr>\n",
       "    <tr>\n",
       "      <th>310823</th>\n",
       "      <td>312682</td>\n",
       "      <td>warsaw_valencia</td>\n",
       "      <td>since 2010, edelmann has intensified his conce...</td>\n",
       "      <td>['concert', 'activity', 'guest', 'performance'...</td>\n",
       "    </tr>\n",
       "    <tr>\n",
       "      <th>310824</th>\n",
       "      <td>312683</td>\n",
       "      <td>warsaw_valencia</td>\n",
       "      <td>born maria mokrzycka in lviv (now ukraine), sh...</td>\n",
       "      <td>['conservatory', 'debut', 'opera', 'opera', 't...</td>\n",
       "    </tr>\n",
       "    <tr>\n",
       "      <th>310825</th>\n",
       "      <td>312684</td>\n",
       "      <td>warsaw_valencia</td>\n",
       "      <td>ayala was elected a fellow of the american aca...</td>\n",
       "      <td>['fellow', 'art', 'science', 'member', 'societ...</td>\n",
       "    </tr>\n",
       "    <tr>\n",
       "      <th>310826</th>\n",
       "      <td>312685</td>\n",
       "      <td>warsaw_valencia</td>\n",
       "      <td>o'conor was a co-founder of the dublin interna...</td>\n",
       "      <td>['co', 'founder', 'competition', 'director', '...</td>\n",
       "    </tr>\n",
       "    <tr>\n",
       "      <th>310827</th>\n",
       "      <td>312686</td>\n",
       "      <td>warsaw_valencia</td>\n",
       "      <td>in october 2007, bakero joined ronald koeman's...</td>\n",
       "      <td>['teammate', 'staff', 'year', 'job', 'head', '...</td>\n",
       "    </tr>\n",
       "  </tbody>\n",
       "</table>\n",
       "<p>310828 rows × 4 columns</p>\n",
       "</div>"
      ],
      "text/plain": [
       "        paragraph_id        city_pair  \\\n",
       "0                  1     berlin_milan   \n",
       "1                  2     berlin_milan   \n",
       "2                  3     berlin_milan   \n",
       "3                  4     berlin_milan   \n",
       "4                  5     berlin_milan   \n",
       "...              ...              ...   \n",
       "310823        312682  warsaw_valencia   \n",
       "310824        312683  warsaw_valencia   \n",
       "310825        312684  warsaw_valencia   \n",
       "310826        312685  warsaw_valencia   \n",
       "310827        312686  warsaw_valencia   \n",
       "\n",
       "                                                paragraph  \\\n",
       "0       after his tenure in academia, he continued to ...   \n",
       "1       one of the astronomers selected for the search...   \n",
       "2       there are plenty of air connections between ye...   \n",
       "3       since 2009, 'the brandery', an urban fashion s...   \n",
       "4       when considering the commuter belts or metropo...   \n",
       "...                                                   ...   \n",
       "310823  since 2010, edelmann has intensified his conce...   \n",
       "310824  born maria mokrzycka in lviv (now ukraine), sh...   \n",
       "310825  ayala was elected a fellow of the american aca...   \n",
       "310826  o'conor was a co-founder of the dublin interna...   \n",
       "310827  in october 2007, bakero joined ronald koeman's...   \n",
       "\n",
       "                                               merged_POS  \n",
       "0       ['tenure', 'academia', 'month', 'year', 'trave...  \n",
       "1       ['astronomer', 'search', 'priest', 'invitation...  \n",
       "2       ['plenty', 'air', 'connection', 'city', 'conne...  \n",
       "3       ['fashion', 'year', 'language', 'monitor', 'ra...  \n",
       "4       ['commuter', 'belt', 'area', 'datum', 'populat...  \n",
       "...                                                   ...  \n",
       "310823  ['concert', 'activity', 'guest', 'performance'...  \n",
       "310824  ['conservatory', 'debut', 'opera', 'opera', 't...  \n",
       "310825  ['fellow', 'art', 'science', 'member', 'societ...  \n",
       "310826  ['co', 'founder', 'competition', 'director', '...  \n",
       "310827  ['teammate', 'staff', 'year', 'job', 'head', '...  \n",
       "\n",
       "[310828 rows x 4 columns]"
      ]
     },
     "execution_count": 4,
     "metadata": {},
     "output_type": "execute_result"
    }
   ],
   "source": [
    "new_data = False\n",
    "\n",
    "if new_data:\n",
    "    INPUT_DIR = \"../../../../../data/clean/city_pair_paragraphs3/\"\n",
    "    BATCHES = [5, 10, 20, 30]\n",
    "    POS = [\"NOUN\", \"VERB\", \"ADJ\"]\n",
    "    ONLY_ENGLISH_WORDS = True\n",
    "    sort_by_paragraphs_count = True\n",
    "    merged_POS = True\n",
    "\n",
    "    data_list = import_lemmatised_paragraphs(INPUT_DIR,\n",
    "                                             POS,\n",
    "                                             BATCHES,\n",
    "                                             ONLY_ENGLISH_WORDS=ONLY_ENGLISH_WORDS,\n",
    "                                             merged_POS=merged_POS,\n",
    "                                             sort_by_paragraphs=sort_by_paragraphs_count)\n",
    "    \n",
    "    # Merge into single dataframe\n",
    "    frames = [citypair['lemmatized_paragraphs'] for citypair in data_list]\n",
    "    citypairs = [citypair['city_pair'] for citypair in data_list]\n",
    "\n",
    "    result = pd.concat(frames) #, keys=citypairs)\n",
    "    result.set_index('paragraph_id', inplace=True)\n",
    "    result.sort_index(inplace=True)\n",
    "    result.reset_index(inplace=True)\n",
    "else:\n",
    "    result = pd.read_csv(\"../../../../../data/clean/311k_paragraphs_clean.csv\")\n",
    "\n",
    "result"
   ]
  },
  {
   "cell_type": "markdown",
   "id": "4c2549c1",
   "metadata": {},
   "source": [
    "### Vectorize Documents"
   ]
  },
  {
   "cell_type": "code",
   "execution_count": 29,
   "id": "3e799d6d",
   "metadata": {},
   "outputs": [],
   "source": [
    "paragraphs = result.merged_POS\n",
    "MIN_DF = 0.05\n",
    "MAX_DF = 0.9\n",
    "\n",
    "dictionary, corpus = vectorize(paragraphs,\n",
    "                               MIN_DF=MIN_DF,\n",
    "                               MAX_DF=MAX_DF)"
   ]
  },
  {
   "cell_type": "markdown",
   "id": "9188e647",
   "metadata": {},
   "source": [
    "### Train Single LDA Model"
   ]
  },
  {
   "cell_type": "code",
   "execution_count": null,
   "id": "6a4b39d8",
   "metadata": {},
   "outputs": [],
   "source": [
    "N_TOPICS = 6\n",
    "model_dict = train_lda_model(lemmatized_text=paragraphs,\n",
    "                            dictionary=dictionary,\n",
    "                            corpus=corpus,\n",
    "                            MIN_DF=MIN_DF,\n",
    "                            MAX_DF=MAX_DF,\n",
    "                            N_TOPICS=N_TOPICS\n",
    "                            # random_seed=0, should be added to allow the same results!\n",
    "                            )\n",
    "\n",
    "print(model_dict.keys())"
   ]
  },
  {
   "cell_type": "markdown",
   "id": "644ae406",
   "metadata": {},
   "source": [
    "### Load Desired Model"
   ]
  },
  {
   "cell_type": "code",
   "execution_count": 5,
   "id": "e8265fcd",
   "metadata": {},
   "outputs": [
    {
     "name": "stderr",
     "output_type": "stream",
     "text": [
      "WARNING:root:random_state not set so using default value\n",
      "WARNING:root:failed to load state from C:\\Users\\diede\\Personal Files [Local]\\Applied Data Science\\Thesis - CITYNET\\data\\clean\\lda_models\\300k_paragraphs\\lda_model_6topics_0_05min_0_9max\\lda_model_6topics_0_05min_0_9max_model.model.state: [Errno 2] No such file or directory: 'C:\\\\Users\\\\diede\\\\Personal Files [Local]\\\\Applied Data Science\\\\Thesis - CITYNET\\\\data\\\\clean\\\\lda_models\\\\300k_paragraphs\\\\lda_model_6topics_0_05min_0_9max\\\\lda_model_6topics_0_05min_0_9max_model.model.state'\n"
     ]
    },
    {
     "name": "stdout",
     "output_type": "stream",
     "text": [
      "dict_keys(['lda_model', 'coherence_score', 'visualisation', 'texts', 'dictionary'])\n"
     ]
    }
   ],
   "source": [
    "path = \"../../../../../data/clean/lda_models/300k_paragraphs/lda_model_6topics_0_05min_0_9max/\"\n",
    "# path = os.getcwd() + '/' + 'lda_model_6_005min_09max'\n",
    "# path = '../../../../../data/clean/lda_models/lda_model_6_005min_09max'\n",
    "forced_path = os.path.abspath(path)\n",
    "\n",
    "LOAD_VIS=True,\n",
    "LOAD_DICT=True,\n",
    "LOAD_TEXTS=True,\n",
    "LOAD_COHERENCE_SCORE=True\n",
    "\n",
    "if os.path.exists(forced_path):\n",
    "    model_dict = load_lda_model(forced_path,\n",
    "                           LOAD_VIS=LOAD_VIS,\n",
    "                           LOAD_DICT=LOAD_DICT,\n",
    "                           LOAD_TEXTS=LOAD_TEXTS,\n",
    "                           LOAD_COHERENCE_SCORE=LOAD_COHERENCE_SCORE)\n",
    "    print(model_dict.keys())\n",
    "else:\n",
    "    print('Path is invalid')"
   ]
  },
  {
   "cell_type": "markdown",
   "id": "45036446",
   "metadata": {},
   "source": [
    "### Visualisation"
   ]
  },
  {
   "cell_type": "code",
   "execution_count": 6,
   "id": "81a2b792",
   "metadata": {},
   "outputs": [],
   "source": [
    "def visualise_topics(lda_model, corpus, dictionary, sort_topics=False):\n",
    "    lda_conv = gensim.models.wrappers.ldamallet.malletmodel2ldamodel(lda_model)\n",
    "    vis = gensimvis.prepare(lda_conv, corpus, dictionary, sort_topics=False)\n",
    "    \n",
    "    print(vis.topic_order)\n",
    "    \n",
    "    return vis"
   ]
  },
  {
   "cell_type": "code",
   "execution_count": 1,
   "id": "18cc9c23",
   "metadata": {},
   "outputs": [
    {
     "ename": "NameError",
     "evalue": "name 'pyLDAvis' is not defined",
     "output_type": "error",
     "traceback": [
      "\u001b[1;31m---------------------------------------------------------------------------\u001b[0m",
      "\u001b[1;31mNameError\u001b[0m                                 Traceback (most recent call last)",
      "Input \u001b[1;32mIn [1]\u001b[0m, in \u001b[0;36m<cell line: 1>\u001b[1;34m()\u001b[0m\n\u001b[1;32m----> 1\u001b[0m \u001b[43mpyLDAvis\u001b[49m\u001b[38;5;241m.\u001b[39menable_notebook()\n\u001b[0;32m      3\u001b[0m \u001b[38;5;28;01mif\u001b[39;00m \u001b[38;5;124m'\u001b[39m\u001b[38;5;124mvisualisation\u001b[39m\u001b[38;5;124m'\u001b[39m \u001b[38;5;129;01mnot\u001b[39;00m \u001b[38;5;129;01min\u001b[39;00m model_dict\u001b[38;5;241m.\u001b[39mkeys():\n\u001b[0;32m      4\u001b[0m     vis \u001b[38;5;241m=\u001b[39m visualise_topics(model_dict[\u001b[38;5;124m'\u001b[39m\u001b[38;5;124mlda_model\u001b[39m\u001b[38;5;124m'\u001b[39m], corpus, dictionary)\n",
      "\u001b[1;31mNameError\u001b[0m: name 'pyLDAvis' is not defined"
     ]
    }
   ],
   "source": [
    "pyLDAvis.enable_notebook()\n",
    "\n",
    "if 'visualisation' not in model_dict.keys():\n",
    "    vis = visualise_topics(model_dict['lda_model'], corpus, dictionary)\n",
    "else:\n",
    "    vis = model_dict['visualisation']\n",
    "\n",
    "vis"
   ]
  },
  {
   "cell_type": "markdown",
   "id": "11dc847d",
   "metadata": {},
   "source": [
    "### Get most relevant words per topic  \n",
    "##### (used to create the topic vectors in the word embedding classification method)"
   ]
  },
  {
   "cell_type": "code",
   "execution_count": 39,
   "id": "37ba2a61",
   "metadata": {},
   "outputs": [],
   "source": [
    "all_topics = {}\n",
    "num_terms = 15 # Adjust number of words to represent each topic\n",
    "lambd = 0.2 # Adjust this accordingly based on tuning above\n",
    "\n",
    "if not isinstance(vis, pyLDAvis._prepare.PreparedData):\n",
    "    vis = visualise_topics(model_dict['lda_model'], corpus, dictionary)\n",
    "    \n",
    "for i in range(1,len(model_dict['lda_model'].get_topics())+1): #Adjust this to reflect number of topics chosen for final LDA model\n",
    "    topic = vis.topic_info[vis.topic_info.Category == 'Topic'+str(i)].copy()\n",
    "    topic['relevance'] = topic['loglift']*(1-lambd)+topic['logprob']*lambd\n",
    "    all_topics['Topic '+str(i)] = topic.sort_values(by='relevance', ascending=False).Term[:num_terms].values"
   ]
  },
  {
   "cell_type": "code",
   "execution_count": 42,
   "id": "2a9a113e",
   "metadata": {},
   "outputs": [
    {
     "data": {
      "text/html": [
       "<div>\n",
       "<style scoped>\n",
       "    .dataframe tbody tr th:only-of-type {\n",
       "        vertical-align: middle;\n",
       "    }\n",
       "\n",
       "    .dataframe tbody tr th {\n",
       "        vertical-align: top;\n",
       "    }\n",
       "\n",
       "    .dataframe thead th {\n",
       "        text-align: right;\n",
       "    }\n",
       "</style>\n",
       "<table border=\"1\" class=\"dataframe\">\n",
       "  <thead>\n",
       "    <tr style=\"text-align: right;\">\n",
       "      <th></th>\n",
       "      <th>0</th>\n",
       "      <th>1</th>\n",
       "      <th>2</th>\n",
       "      <th>3</th>\n",
       "      <th>4</th>\n",
       "      <th>5</th>\n",
       "      <th>6</th>\n",
       "      <th>7</th>\n",
       "      <th>8</th>\n",
       "      <th>9</th>\n",
       "      <th>10</th>\n",
       "      <th>11</th>\n",
       "      <th>12</th>\n",
       "      <th>13</th>\n",
       "      <th>14</th>\n",
       "    </tr>\n",
       "  </thead>\n",
       "  <tbody>\n",
       "    <tr>\n",
       "      <th>Topic 1</th>\n",
       "      <td>final</td>\n",
       "      <td>win</td>\n",
       "      <td>team</td>\n",
       "      <td>match</td>\n",
       "      <td>game</td>\n",
       "      <td>goal</td>\n",
       "      <td>club</td>\n",
       "      <td>league</td>\n",
       "      <td>champion</td>\n",
       "      <td>championship</td>\n",
       "      <td>season</td>\n",
       "      <td>score</td>\n",
       "      <td>round</td>\n",
       "      <td>tournament</td>\n",
       "      <td>football</td>\n",
       "    </tr>\n",
       "    <tr>\n",
       "      <th>Topic 2</th>\n",
       "      <td>exhibition</td>\n",
       "      <td>art</td>\n",
       "      <td>museum</td>\n",
       "      <td>gallery</td>\n",
       "      <td>exhibit</td>\n",
       "      <td>painting</td>\n",
       "      <td>collection</td>\n",
       "      <td>paint</td>\n",
       "      <td>portrait</td>\n",
       "      <td>artist</td>\n",
       "      <td>sculpture</td>\n",
       "      <td>fashion</td>\n",
       "      <td>design</td>\n",
       "      <td>contemporary</td>\n",
       "      <td>painter</td>\n",
       "    </tr>\n",
       "    <tr>\n",
       "      <th>Topic 3</th>\n",
       "      <td>war</td>\n",
       "      <td>embassy</td>\n",
       "      <td>army</td>\n",
       "      <td>diplomatic</td>\n",
       "      <td>ambassador</td>\n",
       "      <td>treaty</td>\n",
       "      <td>protest</td>\n",
       "      <td>force</td>\n",
       "      <td>mission</td>\n",
       "      <td>arrest</td>\n",
       "      <td>government</td>\n",
       "      <td>police</td>\n",
       "      <td>attack</td>\n",
       "      <td>party</td>\n",
       "      <td>minister</td>\n",
       "    </tr>\n",
       "    <tr>\n",
       "      <th>Topic 4</th>\n",
       "      <td>opera</td>\n",
       "      <td>festival</td>\n",
       "      <td>perform</td>\n",
       "      <td>orchestra</td>\n",
       "      <td>symphony</td>\n",
       "      <td>concert</td>\n",
       "      <td>music</td>\n",
       "      <td>film</td>\n",
       "      <td>sing</td>\n",
       "      <td>theatre</td>\n",
       "      <td>performance</td>\n",
       "      <td>role</td>\n",
       "      <td>premiere</td>\n",
       "      <td>tour</td>\n",
       "      <td>band</td>\n",
       "    </tr>\n",
       "    <tr>\n",
       "      <th>Topic 5</th>\n",
       "      <td>railway</td>\n",
       "      <td>route</td>\n",
       "      <td>line</td>\n",
       "      <td>operate</td>\n",
       "      <td>flight</td>\n",
       "      <td>station</td>\n",
       "      <td>service</td>\n",
       "      <td>airline</td>\n",
       "      <td>airport</td>\n",
       "      <td>train</td>\n",
       "      <td>passenger</td>\n",
       "      <td>speed</td>\n",
       "      <td>aircraft</td>\n",
       "      <td>rail</td>\n",
       "      <td>network</td>\n",
       "    </tr>\n",
       "    <tr>\n",
       "      <th>Topic 6</th>\n",
       "      <td>study</td>\n",
       "      <td>school</td>\n",
       "      <td>professor</td>\n",
       "      <td>university</td>\n",
       "      <td>graduate</td>\n",
       "      <td>bear</td>\n",
       "      <td>degree</td>\n",
       "      <td>research</td>\n",
       "      <td>college</td>\n",
       "      <td>teach</td>\n",
       "      <td>science</td>\n",
       "      <td>education</td>\n",
       "      <td>philosophy</td>\n",
       "      <td>father</td>\n",
       "      <td>doctorate</td>\n",
       "    </tr>\n",
       "  </tbody>\n",
       "</table>\n",
       "</div>"
      ],
      "text/plain": [
       "                 0         1          2           3           4         5   \\\n",
       "Topic 1       final       win       team       match        game      goal   \n",
       "Topic 2  exhibition       art     museum     gallery     exhibit  painting   \n",
       "Topic 3         war   embassy       army  diplomatic  ambassador    treaty   \n",
       "Topic 4       opera  festival    perform   orchestra    symphony   concert   \n",
       "Topic 5     railway     route       line     operate      flight   station   \n",
       "Topic 6       study    school  professor  university    graduate      bear   \n",
       "\n",
       "                 6         7         8             9            10         11  \\\n",
       "Topic 1        club    league  champion  championship       season      score   \n",
       "Topic 2  collection     paint  portrait        artist    sculpture    fashion   \n",
       "Topic 3     protest     force   mission        arrest   government     police   \n",
       "Topic 4       music      film      sing       theatre  performance       role   \n",
       "Topic 5     service   airline   airport         train    passenger      speed   \n",
       "Topic 6      degree  research   college         teach      science  education   \n",
       "\n",
       "                 12            13         14  \n",
       "Topic 1       round    tournament   football  \n",
       "Topic 2      design  contemporary    painter  \n",
       "Topic 3      attack         party   minister  \n",
       "Topic 4    premiere          tour       band  \n",
       "Topic 5    aircraft          rail    network  \n",
       "Topic 6  philosophy        father  doctorate  "
      ]
     },
     "execution_count": 42,
     "metadata": {},
     "output_type": "execute_result"
    }
   ],
   "source": [
    "pd.DataFrame(all_topics).T\n",
    "# display(all_topics)"
   ]
  },
  {
   "cell_type": "markdown",
   "id": "c586d03c",
   "metadata": {},
   "source": [
    "### Word-Topic Distribution"
   ]
  },
  {
   "cell_type": "code",
   "execution_count": 7,
   "id": "e387687d",
   "metadata": {},
   "outputs": [
    {
     "name": "stdout",
     "output_type": "stream",
     "text": [
      "1 [('win', 0.035), ('final', 0.022), ('season', 0.019), ('club', 0.018), ('team', 0.018), ('play', 0.015), ('match', 0.014), ('game', 0.013)]\n",
      "\n",
      "2 [('art', 0.035), ('work', 0.026), ('exhibition', 0.016), ('museum', 0.013), ('include', 0.011), ('gallery', 0.011), ('painting', 0.009), ('exhibit', 0.009)]\n",
      "\n",
      "3 [('war', 0.008), ('german', 0.007), ('year', 0.006), ('time', 0.005), ('return', 0.005), ('city', 0.005), ('government', 0.005), ('leave', 0.004)]\n",
      "\n",
      "4 [('opera', 0.038), ('festival', 0.024), ('perform', 0.021), ('music', 0.017), ('orchestra', 0.016), ('film', 0.014), ('include', 0.014), ('tour', 0.014)]\n",
      "\n",
      "5 [('service', 0.016), ('city', 0.015), ('line', 0.012), ('company', 0.011), ('train', 0.011), ('railway', 0.01), ('station', 0.01), ('route', 0.01)]\n",
      "\n",
      "6 [('study', 0.037), ('bear', 0.019), ('work', 0.017), ('school', 0.017), ('year', 0.015), ('university', 0.012), ('professor', 0.012), ('move', 0.009)]\n",
      "\n"
     ]
    }
   ],
   "source": [
    "N_TOPICS = len(model_dict['lda_model'].get_topics())\n",
    "MAX_WORDS = 8\n",
    "\n",
    "for i in range(N_TOPICS):\n",
    "    topic_words = model_dict['lda_model'].show_topic(i, topn=MAX_WORDS)\n",
    "    print(i+1, [(x[0], round(x[1], 3)) for x in topic_words])\n",
    "    print()"
   ]
  },
  {
   "cell_type": "markdown",
   "id": "4daf6568",
   "metadata": {},
   "source": [
    "### Document (=paragraphs) topic distribution"
   ]
  },
  {
   "cell_type": "code",
   "execution_count": 8,
   "id": "e964fd4a",
   "metadata": {
    "scrolled": false
   },
   "outputs": [],
   "source": [
    "import pandas as pd\n",
    "\n",
    "transformed_docs = model_dict['lda_model'].load_document_topics()\n",
    "topic_distributions = pd.DataFrame([[x[1] for x in doc] for doc in transformed_docs], \n",
    "             columns=['topic_{}'.format(i+1) for i in range(N_TOPICS)])"
   ]
  },
  {
   "cell_type": "code",
   "execution_count": 25,
   "id": "56df51f9",
   "metadata": {},
   "outputs": [
    {
     "data": {
      "text/html": [
       "<div>\n",
       "<style scoped>\n",
       "    .dataframe tbody tr th:only-of-type {\n",
       "        vertical-align: middle;\n",
       "    }\n",
       "\n",
       "    .dataframe tbody tr th {\n",
       "        vertical-align: top;\n",
       "    }\n",
       "\n",
       "    .dataframe thead th {\n",
       "        text-align: right;\n",
       "    }\n",
       "</style>\n",
       "<table border=\"1\" class=\"dataframe\">\n",
       "  <thead>\n",
       "    <tr style=\"text-align: right;\">\n",
       "      <th></th>\n",
       "      <th>topic_1</th>\n",
       "      <th>topic_2</th>\n",
       "      <th>topic_3</th>\n",
       "      <th>topic_4</th>\n",
       "      <th>topic_5</th>\n",
       "      <th>topic_6</th>\n",
       "    </tr>\n",
       "  </thead>\n",
       "  <tbody>\n",
       "    <tr>\n",
       "      <th>0</th>\n",
       "      <td>0.000765</td>\n",
       "      <td>0.001501</td>\n",
       "      <td>0.770121</td>\n",
       "      <td>0.001536</td>\n",
       "      <td>0.001327</td>\n",
       "      <td>0.224750</td>\n",
       "    </tr>\n",
       "    <tr>\n",
       "      <th>1</th>\n",
       "      <td>0.195772</td>\n",
       "      <td>0.498009</td>\n",
       "      <td>0.302968</td>\n",
       "      <td>0.001100</td>\n",
       "      <td>0.000950</td>\n",
       "      <td>0.001201</td>\n",
       "    </tr>\n",
       "  </tbody>\n",
       "</table>\n",
       "</div>"
      ],
      "text/plain": [
       "    topic_1   topic_2   topic_3   topic_4   topic_5   topic_6\n",
       "0  0.000765  0.001501  0.770121  0.001536  0.001327  0.224750\n",
       "1  0.195772  0.498009  0.302968  0.001100  0.000950  0.001201"
      ]
     },
     "execution_count": 25,
     "metadata": {},
     "output_type": "execute_result"
    }
   ],
   "source": [
    "topic_distributions.head(2)"
   ]
  },
  {
   "cell_type": "markdown",
   "id": "782ffadd",
   "metadata": {},
   "source": [
    "### Rename Topics"
   ]
  },
  {
   "cell_type": "code",
   "execution_count": 47,
   "id": "dfe5949f",
   "metadata": {},
   "outputs": [
    {
     "data": {
      "text/html": [
       "<div>\n",
       "<style scoped>\n",
       "    .dataframe tbody tr th:only-of-type {\n",
       "        vertical-align: middle;\n",
       "    }\n",
       "\n",
       "    .dataframe tbody tr th {\n",
       "        vertical-align: top;\n",
       "    }\n",
       "\n",
       "    .dataframe thead th {\n",
       "        text-align: right;\n",
       "    }\n",
       "</style>\n",
       "<table border=\"1\" class=\"dataframe\">\n",
       "  <thead>\n",
       "    <tr style=\"text-align: right;\">\n",
       "      <th></th>\n",
       "      <th>lda_sport</th>\n",
       "      <th>lda_art</th>\n",
       "      <th>lda_diplomacy</th>\n",
       "      <th>lda_entertainment</th>\n",
       "      <th>lda_transportation</th>\n",
       "      <th>lda_education</th>\n",
       "    </tr>\n",
       "  </thead>\n",
       "  <tbody>\n",
       "    <tr>\n",
       "      <th>0</th>\n",
       "      <td>0.000765</td>\n",
       "      <td>0.001501</td>\n",
       "      <td>0.770121</td>\n",
       "      <td>0.001536</td>\n",
       "      <td>0.001327</td>\n",
       "      <td>0.224750</td>\n",
       "    </tr>\n",
       "    <tr>\n",
       "      <th>1</th>\n",
       "      <td>0.195772</td>\n",
       "      <td>0.498009</td>\n",
       "      <td>0.302968</td>\n",
       "      <td>0.001100</td>\n",
       "      <td>0.000950</td>\n",
       "      <td>0.001201</td>\n",
       "    </tr>\n",
       "  </tbody>\n",
       "</table>\n",
       "</div>"
      ],
      "text/plain": [
       "   lda_sport   lda_art  lda_diplomacy  lda_entertainment  lda_transportation  \\\n",
       "0   0.000765  0.001501       0.770121           0.001536            0.001327   \n",
       "1   0.195772  0.498009       0.302968           0.001100            0.000950   \n",
       "\n",
       "   lda_education  \n",
       "0       0.224750  \n",
       "1       0.001201  "
      ]
     },
     "execution_count": 47,
     "metadata": {},
     "output_type": "execute_result"
    }
   ],
   "source": [
    "# Give Topics sensible names\n",
    "topic_distributions_renamed_cols=topic_distributions.rename(columns = { 'topic_1': 'lda_sport',\n",
    "                                        'topic_2': 'lda_art',\n",
    "                                        'topic_3': 'lda_diplomacy',\n",
    "                                        'topic_4': 'lda_entertainment',\n",
    "                                        'topic_5': 'lda_transportation',\n",
    "                                        'topic_6': 'lda_education'}, inplace = False)\n",
    "\n",
    "topic_distributions_renamed_cols.head(2)"
   ]
  },
  {
   "cell_type": "markdown",
   "id": "207efb97",
   "metadata": {},
   "source": [
    "### Topic Distributions"
   ]
  },
  {
   "cell_type": "code",
   "execution_count": 48,
   "id": "a85ec0be",
   "metadata": {},
   "outputs": [
    {
     "data": {
      "text/plain": [
       "lda_entertainment     65366\n",
       "lda_diplomacy         57828\n",
       "lda_education         55784\n",
       "lda_art               52721\n",
       "lda_transportation    47008\n",
       "lda_sport             32121\n",
       "dtype: int64"
      ]
     },
     "execution_count": 48,
     "metadata": {},
     "output_type": "execute_result"
    }
   ],
   "source": [
    "topic_distributions_renamed_cols.idxmax(axis=\"columns\").value_counts()"
   ]
  },
  {
   "cell_type": "code",
   "execution_count": 49,
   "id": "9e1aa6be",
   "metadata": {},
   "outputs": [
    {
     "data": {
      "text/plain": [
       "lda_entertainment     0.210296\n",
       "lda_diplomacy         0.186045\n",
       "lda_education         0.179469\n",
       "lda_art               0.169615\n",
       "lda_transportation    0.151235\n",
       "lda_sport             0.103340\n",
       "dtype: float64"
      ]
     },
     "execution_count": 49,
     "metadata": {},
     "output_type": "execute_result"
    }
   ],
   "source": [
    "topic_distributions_renamed_cols.idxmax(axis=\"columns\").value_counts(normalize=True)"
   ]
  },
  {
   "cell_type": "markdown",
   "id": "50ba324a",
   "metadata": {},
   "source": [
    "### Merge paragraphs with topic distributions"
   ]
  },
  {
   "cell_type": "code",
   "execution_count": 50,
   "id": "81b38848",
   "metadata": {},
   "outputs": [],
   "source": [
    "updated_results = pd.concat([result, topic_distributions_renamed_cols],\n",
    "                  axis = 1)"
   ]
  },
  {
   "cell_type": "code",
   "execution_count": 51,
   "id": "e07318e5",
   "metadata": {},
   "outputs": [
    {
     "data": {
      "text/html": [
       "<div>\n",
       "<style scoped>\n",
       "    .dataframe tbody tr th:only-of-type {\n",
       "        vertical-align: middle;\n",
       "    }\n",
       "\n",
       "    .dataframe tbody tr th {\n",
       "        vertical-align: top;\n",
       "    }\n",
       "\n",
       "    .dataframe thead th {\n",
       "        text-align: right;\n",
       "    }\n",
       "</style>\n",
       "<table border=\"1\" class=\"dataframe\">\n",
       "  <thead>\n",
       "    <tr style=\"text-align: right;\">\n",
       "      <th></th>\n",
       "      <th>paragraph_id</th>\n",
       "      <th>city_pair</th>\n",
       "      <th>paragraph</th>\n",
       "      <th>merged_POS</th>\n",
       "      <th>lda_sport</th>\n",
       "      <th>lda_art</th>\n",
       "      <th>lda_diplomacy</th>\n",
       "      <th>lda_entertainment</th>\n",
       "      <th>lda_transportation</th>\n",
       "      <th>lda_education</th>\n",
       "    </tr>\n",
       "  </thead>\n",
       "  <tbody>\n",
       "    <tr>\n",
       "      <th>0</th>\n",
       "      <td>1</td>\n",
       "      <td>berlin_milan</td>\n",
       "      <td>after his tenure in academia, he continued to ...</td>\n",
       "      <td>['tenure', 'academia', 'month', 'year', 'trave...</td>\n",
       "      <td>0.000765</td>\n",
       "      <td>0.001501</td>\n",
       "      <td>0.770121</td>\n",
       "      <td>0.001536</td>\n",
       "      <td>0.001327</td>\n",
       "      <td>0.224750</td>\n",
       "    </tr>\n",
       "    <tr>\n",
       "      <th>1</th>\n",
       "      <td>2</td>\n",
       "      <td>berlin_milan</td>\n",
       "      <td>one of the astronomers selected for the search...</td>\n",
       "      <td>['astronomer', 'search', 'priest', 'invitation...</td>\n",
       "      <td>0.195772</td>\n",
       "      <td>0.498009</td>\n",
       "      <td>0.302968</td>\n",
       "      <td>0.001100</td>\n",
       "      <td>0.000950</td>\n",
       "      <td>0.001201</td>\n",
       "    </tr>\n",
       "  </tbody>\n",
       "</table>\n",
       "</div>"
      ],
      "text/plain": [
       "   paragraph_id     city_pair  \\\n",
       "0             1  berlin_milan   \n",
       "1             2  berlin_milan   \n",
       "\n",
       "                                           paragraph  \\\n",
       "0  after his tenure in academia, he continued to ...   \n",
       "1  one of the astronomers selected for the search...   \n",
       "\n",
       "                                          merged_POS  lda_sport   lda_art  \\\n",
       "0  ['tenure', 'academia', 'month', 'year', 'trave...   0.000765  0.001501   \n",
       "1  ['astronomer', 'search', 'priest', 'invitation...   0.195772  0.498009   \n",
       "\n",
       "   lda_diplomacy  lda_entertainment  lda_transportation  lda_education  \n",
       "0       0.770121           0.001536            0.001327       0.224750  \n",
       "1       0.302968           0.001100            0.000950       0.001201  "
      ]
     },
     "execution_count": 51,
     "metadata": {},
     "output_type": "execute_result"
    }
   ],
   "source": [
    " updated_results.head(2) # updated_results[topic_distributions_renamed_cols.columns]"
   ]
  },
  {
   "cell_type": "markdown",
   "id": "5c56e596",
   "metadata": {},
   "source": [
    "### Get dominant topic and score of chunked dataframe"
   ]
  },
  {
   "cell_type": "code",
   "execution_count": 15,
   "id": "201f4f55",
   "metadata": {},
   "outputs": [],
   "source": [
    "import numpy as np\n",
    "nr_of_chunks = (len(updated_results) // 10000) + 1\n",
    "\n",
    "chunked_dataframe = np.array_split(updated_results, nr_of_chunks)"
   ]
  },
  {
   "cell_type": "code",
   "execution_count": 16,
   "id": "5f3187f6",
   "metadata": {},
   "outputs": [
    {
     "data": {
      "application/vnd.jupyter.widget-view+json": {
       "model_id": "b847ca49ff1b4bfa95dfb4d0d52b27c7",
       "version_major": 2,
       "version_minor": 0
      },
      "text/plain": [
       "  0%|          | 0/32 [00:00<?, ?it/s]"
      ]
     },
     "metadata": {},
     "output_type": "display_data"
    }
   ],
   "source": [
    "# This may take a while\n",
    "\n",
    "from tqdm.notebook import tqdm\n",
    "\n",
    "for i, subdataframe in enumerate(tqdm(chunked_dataframe)):\n",
    "    chunked_dataframe[i] = pd.concat([subdataframe, subdataframe[topic_distributions_renamed_cols.columns].agg(['idxmax','max'],axis=1)], axis=1)"
   ]
  },
  {
   "cell_type": "code",
   "execution_count": 17,
   "id": "06e619d0",
   "metadata": {},
   "outputs": [],
   "source": [
    "final_df = pd.concat(chunked_dataframe,axis=0)"
   ]
  },
  {
   "cell_type": "code",
   "execution_count": 52,
   "id": "77e7759c",
   "metadata": {},
   "outputs": [],
   "source": [
    "final_df_renamed_cols = final_df.rename(columns = { 'idxmax': 'lda_dominant',\n",
    "                                        'max': 'lda_dominant_score'}, inplace = False)"
   ]
  },
  {
   "cell_type": "code",
   "execution_count": 57,
   "id": "ea980f5c",
   "metadata": {},
   "outputs": [],
   "source": [
    "final_df_renamed_cols['lda_dominant'] = final_df_renamed_cols['lda_dominant'].replace({'lda_diplomatic':'lda_diplomacy'})"
   ]
  },
  {
   "cell_type": "code",
   "execution_count": 58,
   "id": "e3994691",
   "metadata": {},
   "outputs": [
    {
     "data": {
      "text/html": [
       "<div>\n",
       "<style scoped>\n",
       "    .dataframe tbody tr th:only-of-type {\n",
       "        vertical-align: middle;\n",
       "    }\n",
       "\n",
       "    .dataframe tbody tr th {\n",
       "        vertical-align: top;\n",
       "    }\n",
       "\n",
       "    .dataframe thead th {\n",
       "        text-align: right;\n",
       "    }\n",
       "</style>\n",
       "<table border=\"1\" class=\"dataframe\">\n",
       "  <thead>\n",
       "    <tr style=\"text-align: right;\">\n",
       "      <th></th>\n",
       "      <th>paragraph_id</th>\n",
       "      <th>city_pair</th>\n",
       "      <th>paragraph</th>\n",
       "      <th>merged_POS</th>\n",
       "      <th>lda_sport</th>\n",
       "      <th>lda_art</th>\n",
       "      <th>lda_diplomacy</th>\n",
       "      <th>lda_entertainment</th>\n",
       "      <th>lda_transportation</th>\n",
       "      <th>lda_education</th>\n",
       "      <th>lda_dominant</th>\n",
       "      <th>lda_dominant_score</th>\n",
       "    </tr>\n",
       "  </thead>\n",
       "  <tbody>\n",
       "    <tr>\n",
       "      <th>0</th>\n",
       "      <td>1</td>\n",
       "      <td>berlin_milan</td>\n",
       "      <td>after his tenure in academia, he continued to ...</td>\n",
       "      <td>['tenure', 'academia', 'month', 'year', 'trave...</td>\n",
       "      <td>0.000765</td>\n",
       "      <td>0.001501</td>\n",
       "      <td>0.770121</td>\n",
       "      <td>0.001536</td>\n",
       "      <td>0.001327</td>\n",
       "      <td>0.224750</td>\n",
       "      <td>lda_diplomacy</td>\n",
       "      <td>0.770121</td>\n",
       "    </tr>\n",
       "    <tr>\n",
       "      <th>1</th>\n",
       "      <td>2</td>\n",
       "      <td>berlin_milan</td>\n",
       "      <td>one of the astronomers selected for the search...</td>\n",
       "      <td>['astronomer', 'search', 'priest', 'invitation...</td>\n",
       "      <td>0.195772</td>\n",
       "      <td>0.498009</td>\n",
       "      <td>0.302968</td>\n",
       "      <td>0.001100</td>\n",
       "      <td>0.000950</td>\n",
       "      <td>0.001201</td>\n",
       "      <td>lda_art</td>\n",
       "      <td>0.498009</td>\n",
       "    </tr>\n",
       "  </tbody>\n",
       "</table>\n",
       "</div>"
      ],
      "text/plain": [
       "   paragraph_id     city_pair  \\\n",
       "0             1  berlin_milan   \n",
       "1             2  berlin_milan   \n",
       "\n",
       "                                           paragraph  \\\n",
       "0  after his tenure in academia, he continued to ...   \n",
       "1  one of the astronomers selected for the search...   \n",
       "\n",
       "                                          merged_POS  lda_sport   lda_art  \\\n",
       "0  ['tenure', 'academia', 'month', 'year', 'trave...   0.000765  0.001501   \n",
       "1  ['astronomer', 'search', 'priest', 'invitation...   0.195772  0.498009   \n",
       "\n",
       "   lda_diplomacy  lda_entertainment  lda_transportation  lda_education  \\\n",
       "0       0.770121           0.001536            0.001327       0.224750   \n",
       "1       0.302968           0.001100            0.000950       0.001201   \n",
       "\n",
       "    lda_dominant lda_dominant_score  \n",
       "0  lda_diplomacy           0.770121  \n",
       "1        lda_art           0.498009  "
      ]
     },
     "execution_count": 58,
     "metadata": {},
     "output_type": "execute_result"
    }
   ],
   "source": [
    "final_df_renamed_cols.head(2)"
   ]
  },
  {
   "cell_type": "code",
   "execution_count": 74,
   "id": "743c6602",
   "metadata": {},
   "outputs": [],
   "source": [
    "three_city_pairs = final_df_renamed_cols[final_df_renamed_cols['city_pair'].isin(['paris_milan', 'barcelona_manchester', 'warsaw_prague'])]"
   ]
  },
  {
   "cell_type": "code",
   "execution_count": 78,
   "id": "b7e34a74",
   "metadata": {},
   "outputs": [
    {
     "data": {
      "text/plain": [
       "city_pair             lda_dominant      \n",
       "barcelona_manchester  lda_sport              727\n",
       "                      lda_transportation      43\n",
       "                      lda_entertainment       37\n",
       "                      lda_diplomacy           26\n",
       "                      lda_education           17\n",
       "                      lda_art                 16\n",
       "paris_milan           lda_art               1091\n",
       "                      lda_entertainment      705\n",
       "                      lda_transportation     410\n",
       "                      lda_diplomacy          366\n",
       "                      lda_education          347\n",
       "                      lda_sport              332\n",
       "warsaw_prague         lda_diplomacy          352\n",
       "                      lda_transportation     116\n",
       "                      lda_education          113\n",
       "                      lda_entertainment      113\n",
       "                      lda_art                 81\n",
       "                      lda_sport               41\n",
       "Name: lda_dominant, dtype: int64"
      ]
     },
     "metadata": {},
     "output_type": "display_data"
    }
   ],
   "source": [
    "display(three_city_pairs.groupby('city_pair')['lda_dominant'].value_counts())"
   ]
  },
  {
   "cell_type": "markdown",
   "id": "8aa11167",
   "metadata": {},
   "source": [
    "### Save document topic distribution"
   ]
  },
  {
   "cell_type": "code",
   "execution_count": 59,
   "id": "bd7c0fbb",
   "metadata": {},
   "outputs": [],
   "source": [
    "final_df_renamed_cols.to_csv('..\\..\\..\\..\\..\\data\\clean\\lda_classified_30cities_435citypairs_311k_paragraphs.csv', index=False)"
   ]
  },
  {
   "cell_type": "markdown",
   "id": "00377469",
   "metadata": {},
   "source": [
    "### Distribution of dominant topic scores"
   ]
  },
  {
   "cell_type": "code",
   "execution_count": 3,
   "id": "914a4800",
   "metadata": {},
   "outputs": [],
   "source": [
    "final_df_renamed_cols['lda_dominant_score'].value_counts(bins=[0,0.1,0.2,0.3,0.4,0.5,0.6,0.7,0.8,0.9,1]).sort_values(ascending=False)"
   ]
  },
  {
   "cell_type": "markdown",
   "id": "973d14f2",
   "metadata": {},
   "source": [
    "### Graphed density of the grouped topic scores"
   ]
  },
  {
   "cell_type": "code",
   "execution_count": 81,
   "id": "5ddb8430",
   "metadata": {
    "scrolled": false
   },
   "outputs": [
    {
     "data": {
      "text/plain": [
       "Text(0, 0.5, 'Density')"
      ]
     },
     "execution_count": 81,
     "metadata": {},
     "output_type": "execute_result"
    },
    {
     "data": {
      "image/png": "[encoded data removed]",
      "text/plain": [
       "<Figure size 1440x720 with 1 Axes>"
      ]
     },
     "metadata": {
      "needs_background": "light"
     },
     "output_type": "display_data"
    }
   ],
   "source": [
    "# !pip install seaborn\n",
    "import matplotlib.pyplot as plt\n",
    "\n",
    "%matplotlib inline\n",
    "import seaborn as sns\n",
    "\n",
    "plt.figure(figsize=(20,10))\n",
    "\n",
    "a = final_df_renamed_cols.groupby('lda_dominant')\n",
    "\n",
    "# Iterate through the five airlines\n",
    "for topic in final_df_renamed_cols['lda_dominant'].unique():\n",
    "    b = a['lda_dominant_score'].get_group(topic)\n",
    "    \n",
    "    #     b.plot.density(color='green')\n",
    "    # plt.title('Density plot for Speeding')\n",
    "    # plt.show()\n",
    "    \n",
    "    sns.distplot(b, hist = False, kde = True,\n",
    "                 kde_kws = {'linewidth': 2},\n",
    "                 label = topic)\n",
    "    \n",
    "# Plot formatting\n",
    "sns.distplot(final_df_renamed_cols['lda_dominant_score'], hist = False, kde = True,\n",
    "                 kde_kws = {'linewidth': 4},\n",
    "                 color = 'black',\n",
    "                 label = 'Average')\n",
    "\n",
    "plt.legend(prop={'size': 20}, title = 'Topic', title_fontsize=22)\n",
    "# plt.title('Score Density of the dominant topics grouped by topic', fontsize=24)\n",
    "plt.rc('axes', titlesize=24)\n",
    "plt.rc('axes', labelsize=24)\n",
    "plt.rc('xtick', labelsize=24)\n",
    "plt.rc('ytick', labelsize=24)\n",
    "plt.xlabel('Topic Dominance')\n",
    "plt.ylim(0, 12)\n",
    "plt.xlim(0.2, 1)\n",
    "plt.ylabel('Density')"
   ]
  },
  {
   "cell_type": "markdown",
   "id": "d38b0b66",
   "metadata": {},
   "source": [
    "# Extras"
   ]
  },
  {
   "cell_type": "markdown",
   "id": "08746cd2",
   "metadata": {},
   "source": [
    "### Train Multiple LDA Models"
   ]
  },
  {
   "cell_type": "code",
   "execution_count": null,
   "id": "fe82474f",
   "metadata": {},
   "outputs": [],
   "source": [
    "# TOPIC_SELECTION = range(6, 7,1)\n",
    "# list(TOPIC_SELECTION)"
   ]
  },
  {
   "cell_type": "code",
   "execution_count": null,
   "id": "f6a5c0d3",
   "metadata": {},
   "outputs": [],
   "source": [
    "\"\"\"\n",
    "%%time\n",
    "\n",
    "OUTPUT_DIR = '../../../../../data/clean/lda_models/300k_paragraphs/'\n",
    "TOPIC_SELECTION = range(6, 7,1)\n",
    "paragraphs = result.merged_POS\n",
    "MIN_DF = 1\n",
    "MAX_DF = 1.0\n",
    "GET_COHERENCE_SCORE = True\n",
    "N_ITERATIONS=1000\n",
    "\n",
    "# Vectorization\n",
    "dictionary, corpus = vectorize(paragraphs, MIN_DF=MIN_DF, MAX_DF=MAX_DF)\n",
    "\n",
    "models = compare_lda_models(OUTPUT_DIR=OUTPUT_DIR,\n",
    "                            TOPIC_SELECTION=TOPIC_SELECTION,\n",
    "                            LEMMATIZED_TEXT=paragraphs,\n",
    "                            DICTIONARY=dictionary,\n",
    "                            CORPUS=corpus,\n",
    "                            MIN_DF=MIN_DF,\n",
    "                            MAX_DF=MAX_DF,\n",
    "                            N_ITERATIONS=N_ITERATIONS,\n",
    "                            # optimize_interval=10 by default\n",
    "                            PATH_TO_MALLET=r'C:/mallet/bin/mallet.bat',\n",
    "                            GET_COHERENCE_SCORE=GET_COHERENCE_SCORE,\n",
    "                            COHERENCE='c_v')\n",
    "\"\"\""
   ]
  },
  {
   "cell_type": "markdown",
   "id": "86b2c62e",
   "metadata": {},
   "source": [
    "### Save LDA Model"
   ]
  },
  {
   "cell_type": "code",
   "execution_count": null,
   "id": "4cf6f602",
   "metadata": {},
   "outputs": [],
   "source": [
    "\"\"\"\n",
    "import os\n",
    "\n",
    "OUTPUT_DIR = os.getcwd()\n",
    "MODEL_NAME = 'lda_model_6_005min_09max'\n",
    "MODEL = model_dict['lda_model']\n",
    "COHERENCE_SCORE = model_dict['coherence_score']\n",
    "TEXTS = paragraphs\n",
    "DICTIONARY = model_dict['dictionary']\n",
    "CORPUS = model_dict['corpus']\n",
    "VIS = vis\n",
    "\n",
    "SAVE_VIS = True\n",
    "SAVE_DICT = True\n",
    "SAVE_TEXTS = True\n",
    "SAVE_COHERENCE_SCORE = True\n",
    "\n",
    "save_lda_model(MODEL=model['lda_model'],\n",
    "                OUTPUT_DIR=OUTPUT_DIR,\n",
    "                NAME=MODEL_NAME,\n",
    "                COHERENCE_SCORE=COHERENCE_SCORE,\n",
    "                DICTIONARY=DICTIONARY,\n",
    "                CORPUS=CORPUS,\n",
    "                TEXTS=TEXTS,\n",
    "                VIS=VIS,\n",
    "                SAVE_VIS=SAVE_VIS,\n",
    "                SAVE_DICT=SAVE_DICT,\n",
    "                SAVE_TEXTS=SAVE_TEXTS,\n",
    "                SAVE_COHERENCE_SCORE=SAVE_COHERENCE_SCORE\n",
    "              )\n",
    "\"\"\""
   ]
  },
  {
   "cell_type": "markdown",
   "id": "e576604c",
   "metadata": {},
   "source": [
    "### Load Multiple LDA Models"
   ]
  },
  {
   "cell_type": "code",
   "execution_count": null,
   "id": "cc58d496",
   "metadata": {},
   "outputs": [],
   "source": [
    "\"\"\"\n",
    "INPUT_DIR = '...'\n",
    "LOAD_VIS = True\n",
    "LOAD_DICT = True\n",
    "LOAD_COHERENCE_SCORE = True\n",
    "\n",
    "\n",
    "models = load_lda_models(INPUT_DIR=INPUT_DIR,\n",
    "                         LOAD_VIS=LOAD_VIS,\n",
    "                         LOAD_DICT=LOAD_DICT,\n",
    "                         LOAD_COHERENCE_SCORE=LOAD_COHERENCE_SCORE)\n",
    "\"\"\""
   ]
  },
  {
   "cell_type": "markdown",
   "id": "51e29ef5",
   "metadata": {},
   "source": [
    "### Calculate Coherence Score"
   ]
  },
  {
   "cell_type": "code",
   "execution_count": null,
   "id": "9ccdeb6b",
   "metadata": {},
   "outputs": [],
   "source": [
    "\"\"\"\"\n",
    "MODEL = None\n",
    "LEMMATIZED_TEXT = None\n",
    "DICTIONARY = None\n",
    "\n",
    "if not None in [MODEL, LEMMATIZED_TEXT, DICTIONARY]:\n",
    "    coherence_score = calculate_coherence_score(MODEL,\n",
    "                                                LEMMATIZED_TEXT,\n",
    "                                                DICTIONARY,\n",
    "                                                COHERENCE='c_v')\n",
    "\"\"\""
   ]
  },
  {
   "cell_type": "code",
   "execution_count": null,
   "id": "1e9a12bc",
   "metadata": {},
   "outputs": [],
   "source": []
  }
 ],
 "metadata": {
  "kernelspec": {
   "display_name": "Python 3 (ipykernel)",
   "language": "python",
   "name": "python3"
  },
  "language_info": {
   "codemirror_mode": {
    "name": "ipython",
    "version": 3
   },
   "file_extension": ".py",
   "mimetype": "text/x-python",
   "name": "python",
   "nbconvert_exporter": "python",
   "pygments_lexer": "ipython3",
   "version": "3.9.13"
  }
 },
 "nbformat": 4,
 "nbformat_minor": 5
}
