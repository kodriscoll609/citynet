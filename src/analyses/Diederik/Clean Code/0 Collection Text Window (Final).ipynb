{
 "cells": [
  {
   "cell_type": "markdown",
   "id": "f3872f79",
   "metadata": {},
   "source": [
    "<div style=\"background-color: lightgreen; border-radius: 5px; padding: 10px;\">\n",
    "    <h4>Collecting Text Window</h4>\n",
    "    <p>...</p>\n",
    "</div>"
   ]
  },
  {
   "cell_type": "markdown",
   "id": "c0deb9c6",
   "metadata": {},
   "source": [
    "### Imports"
   ]
  },
  {
   "cell_type": "code",
   "execution_count": 1,
   "id": "5c156029",
   "metadata": {},
   "outputs": [],
   "source": [
    "import pandas as pd\n",
    "from itertools import combinations\n",
    "\n",
    "import time\n",
    "import warnings\n",
    "from tqdm.notebook import tqdm\n",
    "import os\n",
    "\n",
    "from nltk.tokenize import RegexpTokenizer\n",
    "from collections import Counter\n",
    "import re"
   ]
  },
  {
   "cell_type": "code",
   "execution_count": null,
   "id": "64514a90",
   "metadata": {},
   "outputs": [],
   "source": [
    "# !pip install pandas\n",
    "# !pip install nltk\n",
    "# !pip install ipywidgets==7.7.0"
   ]
  },
  {
   "cell_type": "code",
   "execution_count": 8,
   "id": "e97d8c95",
   "metadata": {},
   "outputs": [],
   "source": [
    "# Settings that can be changed\n",
    "BASEFOLDER = '../../../../../data/enwiki_extracted/'\n",
    "cities_df = pd.read_csv(f'../../../input/List_of_cities_300k.csv', delimiter=';')\n",
    "window_size = 0 # Set to Paragraph\n",
    "\n",
    "# corpus_name = 'city_matrix.csv'\n",
    "# new_corpus = False"
   ]
  },
  {
   "cell_type": "markdown",
   "id": "ee18a435",
   "metadata": {},
   "source": [
    "### City Pairs Information"
   ]
  },
  {
   "cell_type": "code",
   "execution_count": 160,
   "id": "d4c0c68a",
   "metadata": {},
   "outputs": [
    {
     "data": {
      "text/html": [
       "<div>\n",
       "<style scoped>\n",
       "    .dataframe tbody tr th:only-of-type {\n",
       "        vertical-align: middle;\n",
       "    }\n",
       "\n",
       "    .dataframe tbody tr th {\n",
       "        vertical-align: top;\n",
       "    }\n",
       "\n",
       "    .dataframe thead th {\n",
       "        text-align: right;\n",
       "    }\n",
       "</style>\n",
       "<table border=\"1\" class=\"dataframe\">\n",
       "  <thead>\n",
       "    <tr style=\"text-align: right;\">\n",
       "      <th></th>\n",
       "      <th>cities</th>\n",
       "      <th>extra city pairs</th>\n",
       "      <th>cumulative city pairs</th>\n",
       "      <th>new cities</th>\n",
       "    </tr>\n",
       "  </thead>\n",
       "  <tbody>\n",
       "    <tr>\n",
       "      <th>0</th>\n",
       "      <td>5</td>\n",
       "      <td>10</td>\n",
       "      <td>10</td>\n",
       "      <td>[paris, london, madrid, berlin, milan]</td>\n",
       "    </tr>\n",
       "    <tr>\n",
       "      <th>1</th>\n",
       "      <td>10</td>\n",
       "      <td>35</td>\n",
       "      <td>45</td>\n",
       "      <td>[barcelona, athens, rome, birmingham, lisbon]</td>\n",
       "    </tr>\n",
       "    <tr>\n",
       "      <th>2</th>\n",
       "      <td>15</td>\n",
       "      <td>60</td>\n",
       "      <td>105</td>\n",
       "      <td>[naples, katowice, manchester, hamburg, budapest]</td>\n",
       "    </tr>\n",
       "    <tr>\n",
       "      <th>3</th>\n",
       "      <td>20</td>\n",
       "      <td>85</td>\n",
       "      <td>190</td>\n",
       "      <td>[bucharest, warsaw, stuttgart, vienna, munich]</td>\n",
       "    </tr>\n",
       "    <tr>\n",
       "      <th>4</th>\n",
       "      <td>25</td>\n",
       "      <td>110</td>\n",
       "      <td>300</td>\n",
       "      <td>[brussels, stockholm, frankfurt, cologne, cope...</td>\n",
       "    </tr>\n",
       "    <tr>\n",
       "      <th>5</th>\n",
       "      <td>30</td>\n",
       "      <td>135</td>\n",
       "      <td>435</td>\n",
       "      <td>[valencia, turin, glasgow, prague, lyon]</td>\n",
       "    </tr>\n",
       "    <tr>\n",
       "      <th>6</th>\n",
       "      <td>35</td>\n",
       "      <td>160</td>\n",
       "      <td>595</td>\n",
       "      <td>[sofia, liverpool, porto, seville, dublin]</td>\n",
       "    </tr>\n",
       "    <tr>\n",
       "      <th>7</th>\n",
       "      <td>40</td>\n",
       "      <td>185</td>\n",
       "      <td>780</td>\n",
       "      <td>[helsinki, amsterdam, rotterdam, düsseldorf, e...</td>\n",
       "    </tr>\n",
       "    <tr>\n",
       "      <th>8</th>\n",
       "      <td>45</td>\n",
       "      <td>210</td>\n",
       "      <td>990</td>\n",
       "      <td>[lille, lodz, marseille, antwerp, bilbao]</td>\n",
       "    </tr>\n",
       "    <tr>\n",
       "      <th>9</th>\n",
       "      <td>50</td>\n",
       "      <td>235</td>\n",
       "      <td>1225</td>\n",
       "      <td>[newcastle, krakow, bochum-herne, thessaloniki...</td>\n",
       "    </tr>\n",
       "    <tr>\n",
       "      <th>10</th>\n",
       "      <td>55</td>\n",
       "      <td>260</td>\n",
       "      <td>1485</td>\n",
       "      <td>[riga, duisburg, dortmund, hanover, zürich]</td>\n",
       "    </tr>\n",
       "    <tr>\n",
       "      <th>11</th>\n",
       "      <td>60</td>\n",
       "      <td>285</td>\n",
       "      <td>1770</td>\n",
       "      <td>[oslo, bremen, dresden, sheffield, palermo]</td>\n",
       "    </tr>\n",
       "    <tr>\n",
       "      <th>12</th>\n",
       "      <td>65</td>\n",
       "      <td>310</td>\n",
       "      <td>2080</td>\n",
       "      <td>[poznan, gelsenkirchen-bottrop, bordeaux, wroc...</td>\n",
       "    </tr>\n",
       "    <tr>\n",
       "      <th>13</th>\n",
       "      <td>70</td>\n",
       "      <td>335</td>\n",
       "      <td>2415</td>\n",
       "      <td>[zaragoza, genoa, catania, the hague, toulouse]</td>\n",
       "    </tr>\n",
       "    <tr>\n",
       "      <th>14</th>\n",
       "      <td>75</td>\n",
       "      <td>360</td>\n",
       "      <td>2775</td>\n",
       "      <td>[bristol, vilnius, saarbrücken, malaga, nantes]</td>\n",
       "    </tr>\n",
       "    <tr>\n",
       "      <th>15</th>\n",
       "      <td>80</td>\n",
       "      <td>385</td>\n",
       "      <td>3160</td>\n",
       "      <td>[leeds, nottingham, florence, gdansk, leipzig]</td>\n",
       "    </tr>\n",
       "    <tr>\n",
       "      <th>16</th>\n",
       "      <td>85</td>\n",
       "      <td>410</td>\n",
       "      <td>3570</td>\n",
       "      <td>[mannheim, belfast, portsmouth, venice, edinbu...</td>\n",
       "    </tr>\n",
       "    <tr>\n",
       "      <th>17</th>\n",
       "      <td>90</td>\n",
       "      <td>435</td>\n",
       "      <td>4005</td>\n",
       "      <td>[murcia, nice, liège, bratislava, leicester]</td>\n",
       "    </tr>\n",
       "    <tr>\n",
       "      <th>18</th>\n",
       "      <td>95</td>\n",
       "      <td>460</td>\n",
       "      <td>4465</td>\n",
       "      <td>[karlsruhe, bergamo, palma de mallorca, bologn...</td>\n",
       "    </tr>\n",
       "    <tr>\n",
       "      <th>19</th>\n",
       "      <td>100</td>\n",
       "      <td>485</td>\n",
       "      <td>4950</td>\n",
       "      <td>[rouen, strasbourg, tallinn, szczecin, grenoble]</td>\n",
       "    </tr>\n",
       "  </tbody>\n",
       "</table>\n",
       "</div>"
      ],
      "text/plain": [
       "    cities  extra city pairs  cumulative city pairs  \\\n",
       "0        5                10                     10   \n",
       "1       10                35                     45   \n",
       "2       15                60                    105   \n",
       "3       20                85                    190   \n",
       "4       25               110                    300   \n",
       "5       30               135                    435   \n",
       "6       35               160                    595   \n",
       "7       40               185                    780   \n",
       "8       45               210                    990   \n",
       "9       50               235                   1225   \n",
       "10      55               260                   1485   \n",
       "11      60               285                   1770   \n",
       "12      65               310                   2080   \n",
       "13      70               335                   2415   \n",
       "14      75               360                   2775   \n",
       "15      80               385                   3160   \n",
       "16      85               410                   3570   \n",
       "17      90               435                   4005   \n",
       "18      95               460                   4465   \n",
       "19     100               485                   4950   \n",
       "\n",
       "                                           new cities  \n",
       "0              [paris, london, madrid, berlin, milan]  \n",
       "1       [barcelona, athens, rome, birmingham, lisbon]  \n",
       "2   [naples, katowice, manchester, hamburg, budapest]  \n",
       "3      [bucharest, warsaw, stuttgart, vienna, munich]  \n",
       "4   [brussels, stockholm, frankfurt, cologne, cope...  \n",
       "5            [valencia, turin, glasgow, prague, lyon]  \n",
       "6          [sofia, liverpool, porto, seville, dublin]  \n",
       "7   [helsinki, amsterdam, rotterdam, düsseldorf, e...  \n",
       "8           [lille, lodz, marseille, antwerp, bilbao]  \n",
       "9   [newcastle, krakow, bochum-herne, thessaloniki...  \n",
       "10        [riga, duisburg, dortmund, hanover, zürich]  \n",
       "11        [oslo, bremen, dresden, sheffield, palermo]  \n",
       "12  [poznan, gelsenkirchen-bottrop, bordeaux, wroc...  \n",
       "13    [zaragoza, genoa, catania, the hague, toulouse]  \n",
       "14    [bristol, vilnius, saarbrücken, malaga, nantes]  \n",
       "15     [leeds, nottingham, florence, gdansk, leipzig]  \n",
       "16  [mannheim, belfast, portsmouth, venice, edinbu...  \n",
       "17       [murcia, nice, liège, bratislava, leicester]  \n",
       "18  [karlsruhe, bergamo, palma de mallorca, bologn...  \n",
       "19   [rouen, strasbourg, tallinn, szczecin, grenoble]  "
      ]
     },
     "execution_count": 160,
     "metadata": {},
     "output_type": "execute_result"
    }
   ],
   "source": [
    "list_of_cities = list(cities_df['Mua_en'][0:150].str.lower())\n",
    "\n",
    "city_pair_dict = {}\n",
    "old_city_pairs = []\n",
    "cumulative_city_pairs = 0\n",
    "group_size = 5\n",
    "dataframe_rows = []\n",
    "\n",
    "for i in range(0, 150, group_size):\n",
    "    total_city_pairs = list(combinations(list_of_cities[0:i + group_size], 2))\n",
    "    new_city_pairs = list(set(total_city_pairs) - set(old_city_pairs))  \n",
    "    \n",
    "    city_pair_dict[i+5] = new_city_pairs\n",
    "    \n",
    "    cumulative_city_pairs += len(new_city_pairs)\n",
    "    new_cities = list_of_cities[i:i + group_size] \n",
    "    \n",
    "    dataframe_rows.append([i+5, len(new_city_pairs), cumulative_city_pairs, new_cities])\n",
    "    \n",
    "    old_city_pairs = total_city_pairs\n",
    "    \n",
    "df = pd.DataFrame(dataframe_rows,columns=['cities', 'extra city pairs', 'cumulative city pairs', 'new cities'])\n",
    "df.head(20)"
   ]
  },
  {
   "cell_type": "markdown",
   "id": "39dd4288",
   "metadata": {},
   "source": [
    "### Select city groups to add"
   ]
  },
  {
   "cell_type": "code",
   "execution_count": 43,
   "id": "77336494",
   "metadata": {},
   "outputs": [
    {
     "name": "stdout",
     "output_type": "stream",
     "text": [
      "\n",
      "The following already exist: [] groups and 0 city pairs already exist.\n",
      "The following will be added: [45, 50, 55, 60] groups and 990 city pairs will be added.\n"
     ]
    }
   ],
   "source": [
    "OUTPUT_PATH = '../../../../../data/clean/enwiki_city_pairs/'\n",
    "cities_to_add = [45,50, 55, 60]\n",
    "override = False\n",
    "\n",
    "for group in cities_to_add:\n",
    "    if group % group_size != 0:\n",
    "        raise Exception(\"You are expected to add 5 cities at a time, so the groups need to be divisible by 5.\")\n",
    "\n",
    "accepted_cities_to_add = []\n",
    "existing_groups = []\n",
    "\n",
    "for group in cities_to_add:\n",
    "    group_dir = os.path.join(OUTPUT_PATH, str(group))\n",
    "    if os.path.exists(group_dir) and not override:\n",
    "        print(f\"Group {group} already seems to exist and will be skipped.\")\n",
    "        existing_groups.append(group)\n",
    "    elif override:\n",
    "        existing_groups.append(group)\n",
    "        accepted_cities_to_add.append(group)\n",
    "    else:\n",
    "        accepted_cities_to_add.append(group)\n",
    "\n",
    "accepted_cities_to_add = sorted(accepted_cities_to_add)\n",
    "city_pairs_to_process = {group: city_pair_dict[group] for group in accepted_cities_to_add}\n",
    "\n",
    "print(f\"\\nThe following already exist: {existing_groups} groups and {df[df.cities.isin(existing_groups)]['extra city pairs'].sum()} city pairs already exist.\")\n",
    "print(f\"The following will be added: {accepted_cities_to_add} groups and {df[df.cities.isin(accepted_cities_to_add)]['extra city pairs'].sum()} city pairs will be added.\")"
   ]
  },
  {
   "cell_type": "code",
   "execution_count": 3,
   "id": "a66740db",
   "metadata": {},
   "outputs": [],
   "source": [
    "# OUTPUT_PATH = '../../../../data/enwiki_city_pairs/biggest_cities_50/'\n",
    "# updated_nr_of_cities = 50 # by population numbers\n",
    "# # current_nr_of_cities = 40\n",
    "\n",
    "# if updated_nr_of_cities % 5 != 0:\n",
    "#     raise Exception(\"You are expected to add 5 cities at a time, so the number of cities needs to be divisible by 5.\")\n",
    "\n",
    "# list_of_cities = list(cities_df['Mua_en'][0:updated_nr_of_cities].str.lower())\n",
    "\n",
    "# city_pair_dict = {}\n",
    "# old_city_pairs = []\n",
    "# cumulative_city_pairs = 0\n",
    "\n",
    "# dataframe_rows = []\n",
    "\n",
    "# for i in range(0, len(list_of_cities), 5):\n",
    "    \n",
    "#     total_city_pairs = list(combinations(list_of_cities[0:i + n], 2))\n",
    "#     new_city_pairs = list(set(total_city_pairs) - set(old_city_pairs))  \n",
    "    \n",
    "#     city_pair_dict[i+5] = new_city_pairs\n",
    "    \n",
    "#     cumulative_city_pairs += len(new_city_pairs)\n",
    "#     new_cities = list_of_cities[i:i + n] \n",
    "    \n",
    "#     dataframe_rows.append([i+5, len(new_city_pairs), cumulative_city_pairs, new_cities])\n",
    "    \n",
    "#     old_city_pairs = total_city_pairs\n",
    "    \n",
    "# df = pd.DataFrame(dataframe_rows,columns=['cities', 'extra city pairs', 'cumulative city pairs', 'new cities'])\n",
    "\n",
    "# groups_to_process = []\n",
    "# existing_groups = []\n",
    "\n",
    "# for group in city_pair_dict.keys():\n",
    "#     if not os.path.exists(f'../../../../../data/clean/enwiki_city_pairs/{str(group)}/'):\n",
    "#         groups_to_process.append(group)\n",
    "#     else:\n",
    "#         existing_groups.append(group)\n",
    "\n",
    "# new_groups_df = df[df.cities.isin(groups_to_process)]\n",
    "# existing_groups_df = df[df.cities.isin(existing_groups)]\n",
    "\n",
    "# print(f\"The following groups already exist: {existing_groups}. {existing_groups_df['extra city pairs'].sum()} city pairs already exist.\")\n",
    "# print(f\"The following groups will be added: {groups_to_process}. {new_groups_df['extra city pairs'].sum()} city pairs will be added. \")\n",
    "\n",
    "# city_pairs_to_process = {group: city_pair_dict[group] for group in groups_to_process}"
   ]
  },
  {
   "cell_type": "code",
   "execution_count": 47,
   "id": "1786befc",
   "metadata": {
    "scrolled": true
   },
   "outputs": [
    {
     "data": {
      "text/plain": [
       "['paris',\n",
       " 'london',\n",
       " 'madrid',\n",
       " 'berlin',\n",
       " 'milan',\n",
       " 'barcelona',\n",
       " 'athens',\n",
       " 'rome',\n",
       " 'birmingham',\n",
       " 'lisbon',\n",
       " 'naples',\n",
       " 'katowice',\n",
       " 'manchester',\n",
       " 'hamburg',\n",
       " 'budapest',\n",
       " 'bucharest',\n",
       " 'warsaw',\n",
       " 'stuttgart',\n",
       " 'vienna',\n",
       " 'munich',\n",
       " 'brussels',\n",
       " 'stockholm',\n",
       " 'frankfurt',\n",
       " 'cologne',\n",
       " 'copenhagen',\n",
       " 'valencia',\n",
       " 'turin',\n",
       " 'glasgow',\n",
       " 'prague',\n",
       " 'lyon',\n",
       " 'sofia',\n",
       " 'liverpool',\n",
       " 'porto',\n",
       " 'seville',\n",
       " 'dublin',\n",
       " 'helsinki',\n",
       " 'amsterdam',\n",
       " 'rotterdam',\n",
       " 'düsseldorf',\n",
       " 'essen-oberhausen',\n",
       " 'lille',\n",
       " 'lodz',\n",
       " 'marseille',\n",
       " 'antwerp',\n",
       " 'bilbao',\n",
       " 'newcastle',\n",
       " 'krakow',\n",
       " 'bochum-herne',\n",
       " 'thessaloniki',\n",
       " 'nuremberg',\n",
       " 'riga',\n",
       " 'duisburg',\n",
       " 'dortmund',\n",
       " 'hanover',\n",
       " 'zürich']"
      ]
     },
     "execution_count": 47,
     "metadata": {},
     "output_type": "execute_result"
    }
   ],
   "source": [
    "updated_list_of_cities = list(cities_df['Mua_en'][0:updated_nr_of_cities].str.lower())\n",
    "updated_city_pairs = list(combinations(updated_list_of_cities, 2))\n",
    "updated_list_of_cities"
   ]
  },
  {
   "cell_type": "code",
   "execution_count": 4,
   "id": "5f0c72f8",
   "metadata": {},
   "outputs": [],
   "source": [
    "# my_list = temp_dict.values()\n",
    "\n",
    "# flat_list = [num for sublist in my_list for num in sublist]\n",
    "# print(len(flat_list))"
   ]
  },
  {
   "cell_type": "code",
   "execution_count": 5,
   "id": "193351f9",
   "metadata": {},
   "outputs": [],
   "source": [
    "# test_list = list(cities_df['Mua_en'][0:60].str.lower())\n",
    "# n=5\n",
    "# output={i+5:list(combinations(test_list[0:i + n], 2)) for i in range(0, len(test_list), n)}\n",
    "# # print(output)\n",
    "\n",
    "# for key in output:\n",
    "#     if key < 30:\n",
    "#         print(key, len(output[key]))"
   ]
  },
  {
   "cell_type": "code",
   "execution_count": 6,
   "id": "6a4a8881",
   "metadata": {},
   "outputs": [],
   "source": [
    "# for group, cities in output.items():\n",
    "#     print(group, cities)"
   ]
  },
  {
   "cell_type": "code",
   "execution_count": 43,
   "id": "fcd10202",
   "metadata": {},
   "outputs": [],
   "source": [
    "current_list_of_cities = list(cities_df['Mua_en'][0:current_nr_of_cities].str.lower())\n",
    "current_city_pairs = list(combinations(current_list_of_cities, 2))"
   ]
  },
  {
   "cell_type": "code",
   "execution_count": 44,
   "id": "c7e2c858",
   "metadata": {},
   "outputs": [
    {
     "name": "stdout",
     "output_type": "stream",
     "text": [
      "Adding '10' cities --> From 0 to 10 cities.\n",
      "Adding '45' city pairs --> From 0 to 45 city pairs.\n",
      "\n"
     ]
    }
   ],
   "source": [
    "print(f'''Adding '{updated_nr_of_cities-current_nr_of_cities}' cities --> From {current_nr_of_cities} to {updated_nr_of_cities} cities.\n",
    "Adding '{len(updated_city_pairs)-len(current_city_pairs)}' city pairs --> From {len(current_city_pairs)} to {len(updated_city_pairs)} city pairs.\n",
    "''')"
   ]
  },
  {
   "cell_type": "code",
   "execution_count": 7,
   "id": "9e35e2ce",
   "metadata": {},
   "outputs": [
    {
     "ename": "NameError",
     "evalue": "name 'updated_city_pairs' is not defined",
     "output_type": "error",
     "traceback": [
      "\u001b[1;31m---------------------------------------------------------------------------\u001b[0m",
      "\u001b[1;31mNameError\u001b[0m                                 Traceback (most recent call last)",
      "Input \u001b[1;32mIn [7]\u001b[0m, in \u001b[0;36m<cell line: 1>\u001b[1;34m()\u001b[0m\n\u001b[1;32m----> 1\u001b[0m CITY_PAIRS \u001b[38;5;241m=\u001b[39m [item \u001b[38;5;28;01mfor\u001b[39;00m item \u001b[38;5;129;01min\u001b[39;00m \u001b[43mupdated_city_pairs\u001b[49m \u001b[38;5;28;01mif\u001b[39;00m item \u001b[38;5;129;01mnot\u001b[39;00m \u001b[38;5;129;01min\u001b[39;00m current_city_pairs]\n",
      "\u001b[1;31mNameError\u001b[0m: name 'updated_city_pairs' is not defined"
     ]
    }
   ],
   "source": [
    "CITY_PAIRS = [item for item in updated_city_pairs if item not in current_city_pairs]"
   ]
  },
  {
   "cell_type": "code",
   "execution_count": 25,
   "id": "234f7f0b",
   "metadata": {},
   "outputs": [],
   "source": [
    "BASEFOLDER = '../../../../../data/enwiki_extracted/'\n",
    "OUTPUT_PATH = '../../../../../data/clean/enwiki_city_pairs/'"
   ]
  },
  {
   "cell_type": "code",
   "execution_count": 110,
   "id": "100f0ffc",
   "metadata": {},
   "outputs": [
    {
     "name": "stdout",
     "output_type": "stream",
     "text": [
      "5 10 [('paris', 'london'), ('london', 'berlin')]\n",
      "10 35 [('berlin', 'athens'), ('barcelona', 'lisbon')]\n",
      "15 60 [('paris', 'budapest'), ('madrid', 'katowice')]\n",
      "20 85 [('naples', 'bucharest'), ('manchester', 'bucharest')]\n",
      "25 110 [('munich', 'cologne'), ('naples', 'brussels')]\n",
      "30 135 [('frankfurt', 'turin'), ('warsaw', 'glasgow')]\n",
      "35 160 [('milan', 'liverpool'), ('sofia', 'dublin')]\n",
      "40 185 [('lyon', 'essen-oberhausen'), ('madrid', 'düsseldorf')]\n",
      "45 210 [('naples', 'antwerp'), ('manchester', 'antwerp')]\n",
      "50 235 [('helsinki', 'newcastle'), ('stuttgart', 'thessaloniki')]\n",
      "55 260 [('naples', 'riga'), ('rotterdam', 'zürich')]\n",
      "60 285 [('helsinki', 'oslo'), ('glasgow', 'bremen')]\n"
     ]
    }
   ],
   "source": [
    "# test_list = list(cities_df['Mua_en'][0:60].str.lower())\n",
    "\n",
    "# temp_dict = {}\n",
    "# old_city_pairs = []\n",
    "# for i in range(0, len(test_list), n):\n",
    "#     total_city_pairs = list(combinations(test_list[0:i + n], 2))\n",
    "#     new_city_pairs = list(set(total_city_pairs) - set(old_city_pairs))\n",
    "#     print(i+5, len(new_city_pairs), new_city_pairs[:2])\n",
    "#     temp_dict[i+5] = new_city_pairs\n",
    "#     old_city_pairs = list(combinations(test_list[0:i + n], 2))"
   ]
  },
  {
   "cell_type": "code",
   "execution_count": 126,
   "id": "b52046e7",
   "metadata": {},
   "outputs": [],
   "source": [
    "paragraphs_df = pd.DataFrame(columns= ['city_pair', 'paragraph_id', 'paragraph', 'article_id', 'title', 'url'])\n",
    "# paragraphs_df.to_csv(\"..\\..\\..\\..\\..\\data\\clean\\paragraphs_raw.csv\", index=False)"
   ]
  },
  {
   "cell_type": "code",
   "execution_count": 139,
   "id": "a3700400",
   "metadata": {},
   "outputs": [],
   "source": [
    "# paragraphs_df"
   ]
  },
  {
   "cell_type": "code",
   "execution_count": 152,
   "id": "965179ca",
   "metadata": {},
   "outputs": [
    {
     "data": {
      "text/html": [
       "<div>\n",
       "<style scoped>\n",
       "    .dataframe tbody tr th:only-of-type {\n",
       "        vertical-align: middle;\n",
       "    }\n",
       "\n",
       "    .dataframe tbody tr th {\n",
       "        vertical-align: top;\n",
       "    }\n",
       "\n",
       "    .dataframe thead th {\n",
       "        text-align: right;\n",
       "    }\n",
       "</style>\n",
       "<table border=\"1\" class=\"dataframe\">\n",
       "  <thead>\n",
       "    <tr style=\"text-align: right;\">\n",
       "      <th></th>\n",
       "      <th>city_pair</th>\n",
       "      <th>paragraph_id</th>\n",
       "      <th>paragraph</th>\n",
       "      <th>article_id</th>\n",
       "      <th>title</th>\n",
       "      <th>url</th>\n",
       "    </tr>\n",
       "  </thead>\n",
       "  <tbody>\n",
       "    <tr>\n",
       "      <th>0</th>\n",
       "      <td>('naples', 'dresden')</td>\n",
       "      <td>1</td>\n",
       "      <td>In September 1818, while waiting for his book ...</td>\n",
       "      <td>700</td>\n",
       "      <td>Arthur Schopenhauer</td>\n",
       "      <td>https://en.wikipedia.org/wiki?curid=700</td>\n",
       "    </tr>\n",
       "    <tr>\n",
       "      <th>1</th>\n",
       "      <td>('milan', 'dresden')</td>\n",
       "      <td>1</td>\n",
       "      <td>In September 1818, while waiting for his book ...</td>\n",
       "      <td>700</td>\n",
       "      <td>Arthur Schopenhauer</td>\n",
       "      <td>https://en.wikipedia.org/wiki?curid=700</td>\n",
       "    </tr>\n",
       "    <tr>\n",
       "      <th>2</th>\n",
       "      <td>('rome', 'dresden')</td>\n",
       "      <td>1</td>\n",
       "      <td>In September 1818, while waiting for his book ...</td>\n",
       "      <td>700</td>\n",
       "      <td>Arthur Schopenhauer</td>\n",
       "      <td>https://en.wikipedia.org/wiki?curid=700</td>\n",
       "    </tr>\n",
       "    <tr>\n",
       "      <th>3</th>\n",
       "      <td>('berlin', 'dresden')</td>\n",
       "      <td>1</td>\n",
       "      <td>He shortened his stay in Italy because of the ...</td>\n",
       "      <td>700</td>\n",
       "      <td>Arthur Schopenhauer</td>\n",
       "      <td>https://en.wikipedia.org/wiki?curid=700</td>\n",
       "    </tr>\n",
       "    <tr>\n",
       "      <th>4</th>\n",
       "      <td>('stuttgart', 'nuremberg')</td>\n",
       "      <td>1</td>\n",
       "      <td>After his tenure in academia, he continued to ...</td>\n",
       "      <td>700</td>\n",
       "      <td>Arthur Schopenhauer</td>\n",
       "      <td>https://en.wikipedia.org/wiki?curid=700</td>\n",
       "    </tr>\n",
       "  </tbody>\n",
       "</table>\n",
       "</div>"
      ],
      "text/plain": [
       "                    city_pair  paragraph_id  \\\n",
       "0       ('naples', 'dresden')             1   \n",
       "1        ('milan', 'dresden')             1   \n",
       "2         ('rome', 'dresden')             1   \n",
       "3       ('berlin', 'dresden')             1   \n",
       "4  ('stuttgart', 'nuremberg')             1   \n",
       "\n",
       "                                           paragraph  article_id  \\\n",
       "0  In September 1818, while waiting for his book ...         700   \n",
       "1  In September 1818, while waiting for his book ...         700   \n",
       "2  In September 1818, while waiting for his book ...         700   \n",
       "3  He shortened his stay in Italy because of the ...         700   \n",
       "4  After his tenure in academia, he continued to ...         700   \n",
       "\n",
       "                 title                                      url  \n",
       "0  Arthur Schopenhauer  https://en.wikipedia.org/wiki?curid=700  \n",
       "1  Arthur Schopenhauer  https://en.wikipedia.org/wiki?curid=700  \n",
       "2  Arthur Schopenhauer  https://en.wikipedia.org/wiki?curid=700  \n",
       "3  Arthur Schopenhauer  https://en.wikipedia.org/wiki?curid=700  \n",
       "4  Arthur Schopenhauer  https://en.wikipedia.org/wiki?curid=700  "
      ]
     },
     "execution_count": 152,
     "metadata": {},
     "output_type": "execute_result"
    }
   ],
   "source": [
    "# [[2], [3]]+ [[1], [3]]\n",
    "\n",
    "paragraphs_df = pd.read_csv(f\"..\\..\\..\\..\\..\\data\\clean\\paragraphs\\paragraphs_raw_folder_{1}.csv\")\n",
    "paragraphs_df.head()"
   ]
  },
  {
   "cell_type": "code",
   "execution_count": 149,
   "id": "04a21dde",
   "metadata": {},
   "outputs": [],
   "source": [
    "# paragraphs_df['paragraph'][10]\n",
    "\n",
    "# paragraphs_df = paragraphs_df\n",
    "# Create subdirectories in output path\n",
    "# [os.makedirs(os.path.join(output_dir, str(group)), exist_ok=override) for group in city_pairs.keys()]"
   ]
  },
  {
   "cell_type": "code",
   "execution_count": 155,
   "id": "3b2d936b",
   "metadata": {},
   "outputs": [
    {
     "data": {
      "application/vnd.jupyter.widget-view+json": {
       "model_id": "da4edcf6562a432da82d6fb3ae5be089",
       "version_major": 2,
       "version_minor": 0
      },
      "text/plain": [
       "Output()"
      ]
     },
     "metadata": {},
     "output_type": "display_data"
    }
   ],
   "source": [
    "from IPython.display import clear_output\n",
    "from ipywidgets import Output\n",
    "from IPython.display import display\n",
    "out = Output()\n",
    "display(out)\n",
    "\n",
    "import sys\n",
    "tokenizer = RegexpTokenizer('\\w+')\n",
    "\n",
    "def process_wikidump(city_pairs, basefolder=BASEFOLDER, output_dir=OUTPUT_PATH, override=False, df=paragraphs_df):\n",
    "    global paragraphs_df\n",
    "    \n",
    "    warnings.simplefilter('ignore')\n",
    "    folders = [f.path for f in os.scandir(basefolder) if f.is_dir()]\n",
    "    i = 0\n",
    "    for folder in tqdm(folders, total=len(folders), leave=True, desc='Folders'):\n",
    "        i+=1\n",
    "        subfolders = [ f.path for f in os.scandir(folder) if f.is_dir()]\n",
    "        \n",
    "        j = 0\n",
    "        for subfolder in tqdm(subfolders, total=len(subfolders), leave=False, desc='Sub Folders'):\n",
    "            j+=1\n",
    "            if '_V6' in subfolder:\n",
    "                continue\n",
    "            \n",
    "            nested_l = []\n",
    "            # tqdm(os.listdir(subfolder), total=len(os.listdir(subfolder)), leave=True, desc='Text Files'):             \n",
    "            for file in os.listdir(subfolder):               \n",
    "                with open(os.path.join(subfolder, file), \"r\", encoding=\"utf-8\") as f:\n",
    "                    nested_l = nested_l + process_file(file, f.read(), city_pairs, output_dir, df=paragraphs_df)\n",
    "                with out:\n",
    "                    print(subfolder)\n",
    "                    clear_output(wait=True)\n",
    "            \n",
    "            # Changes file name when it has been looked at\n",
    "            os.replace(subfolder, subfolder + '_V6')\n",
    "            \n",
    "            temp_df = pd.DataFrame(data=nested_l,columns=paragraphs_df.columns)\n",
    "            paragraphs_df = pd.concat([paragraphs_df, temp_df], axis=0, ignore_index=True)\n",
    "            \n",
    "            print(len(paragraphs_df))\n",
    "            paragraphs_df.to_csv(f\"..\\..\\..\\..\\..\\data\\clean\\paragraphs\\paragraphs_raw_folder_{i}.csv\", index=False)\n",
    "            \n",
    "    return paragraphs_df\n",
    "\n",
    "\n",
    "def process_file(filename, file_content, city_pairs, output_dir, df):\n",
    "    articles = file_content.split('</doc>')\n",
    "    articles = [x.strip() for x in articles if len(x.strip())]    \n",
    "    nested_l = []\n",
    "    \n",
    "    for idx, article in enumerate(articles):\n",
    "        for paragraph in article.split('\\n'):\n",
    "            tokenized_paragraph = tokenizer.tokenize(paragraph.lower())\n",
    "        \n",
    "            word_count = Counter(tokenized_paragraph)\n",
    "            words = set(word_count.keys())\n",
    "            \n",
    "            for group, group_city_pairs in city_pairs.items():\n",
    "                # directory = os.path.join(output_dir, str(group))\n",
    "                \n",
    "                for city_pair in group_city_pairs:\n",
    "                    detected_cities = words.intersection(set(city_pair))\n",
    "\n",
    "                    if len(detected_cities) == 2:\n",
    "                        reg_str = \"title=\\\"\" + \"(.*?)\" + \"\\\"\"\n",
    "                        title = re.findall(reg_str, article)\n",
    "                        \n",
    "                        reg_str = \"id=\\\"\" + \"(.*?)\" + \"\\\"\"\n",
    "                        article_id = re.findall(reg_str, article)\n",
    "                        \n",
    "                        reg_str = \"url=\\\"\" + \"(.*?)\" + \"\\\"\"\n",
    "                        url = re.findall(reg_str, article)\n",
    "                        \n",
    "                        paragraph = paragraph.replace('\"', \"'\").replace('“', \"'\").replace('”', \"'\")\n",
    "                        \n",
    "                        with out:\n",
    "                            print('\\r',filename,\" || \", \"title: \", title[0], \" || \", \"citypair: \", city_pair, end='                                         ')\n",
    "                        \n",
    "                        l = [city_pair, 0, paragraph, article_id[0], title[0], url[0]]\n",
    "                        nested_l.append([city_pair, idx, paragraph, article_id[0], title[0], url[0]])\n",
    "\n",
    "    return nested_l\n",
    "                        \n",
    "    \n",
    "    \n",
    "#                         article_id = find_article_id(line)[11:] # new\n",
    "#                         # paragraph_id = find_paragraph_id(line)[13:] \n",
    "\n",
    "#                        # city_pair = find_city_pair(line)\n",
    "# #                             \n",
    "# #                             \n",
    "\n",
    "\n",
    "#                         content = f'title=\"{title[0]}\", id={article_id[0]} \\n{paragraph} \\n\\n'\n",
    "\n",
    "#                         textfile = f'{output_dir}{city_pair[0]}_{city_pair[1]}.txt'\n",
    "\n",
    "# #                         with open(textfile, 'a+', encoding='utf-16') as f:\n",
    "# #                             f.writelines(content)\n",
    "                            \n",
    "\n",
    "#                         if 'title=' in line:\n",
    "#                         if line.startswith('<doc') or city_pair_paragraphs[index+1].startswith('<doc'):\n",
    "#                             pass\n",
    "#                         elif len(city_pair_paragraphs[index+1]) < 80:\n",
    "#                             pass\n",
    "#                         else:\n",
    "\n",
    "#                             title = find_title(line)\n",
    "#                             city_pair = find_city_pair(line)\n",
    "#                             article_id = find_article_id(line)[11:]\n",
    "#                             paragraph_id = find_paragraph_id(line)[13:]\n",
    "\n",
    "#                             paragraph = city_pair_paragraphs[index+1].replace('\"', \"'\").replace('“', \"'\").replace('”', \"'\")\n",
    "\n",
    "#                             d = { 'Title': title, 'city_pair': city_pair, 'article_id': article_id, 'paragraph_id': paragraph_id, 'paragraph': paragraph}\n",
    "#                             new_df = pd.DataFrame([d])\n",
    "#                             df = pd.concat([df, new_df], axis=0, ignore_index=True)\n",
    "\n",
    "                "
   ]
  },
  {
   "cell_type": "code",
   "execution_count": 156,
   "id": "c561b7b5",
   "metadata": {},
   "outputs": [
    {
     "data": {
      "application/vnd.jupyter.widget-view+json": {
       "model_id": "1a8d967058f6456681bec29e6a735091",
       "version_major": 2,
       "version_minor": 0
      },
      "text/plain": [
       "Folders:   0%|          | 0/62 [00:00<?, ?it/s]"
      ]
     },
     "metadata": {},
     "output_type": "display_data"
    },
    {
     "data": {
      "application/vnd.jupyter.widget-view+json": {
       "model_id": "",
       "version_major": 2,
       "version_minor": 0
      },
      "text/plain": [
       "Sub Folders:   0%|          | 0/4 [00:00<?, ?it/s]"
      ]
     },
     "metadata": {},
     "output_type": "display_data"
    },
    {
     "data": {
      "application/vnd.jupyter.widget-view+json": {
       "model_id": "",
       "version_major": 2,
       "version_minor": 0
      },
      "text/plain": [
       "Sub Folders:   0%|          | 0/6 [00:00<?, ?it/s]"
      ]
     },
     "metadata": {},
     "output_type": "display_data"
    },
    {
     "name": "stdout",
     "output_type": "stream",
     "text": [
      "3412\n",
      "4051\n",
      "4754\n",
      "5418\n",
      "6007\n",
      "6295\n"
     ]
    },
    {
     "data": {
      "application/vnd.jupyter.widget-view+json": {
       "model_id": "",
       "version_major": 2,
       "version_minor": 0
      },
      "text/plain": [
       "Sub Folders:   0%|          | 0/6 [00:00<?, ?it/s]"
      ]
     },
     "metadata": {},
     "output_type": "display_data"
    },
    {
     "name": "stdout",
     "output_type": "stream",
     "text": [
      "6871\n",
      "7449\n",
      "8002\n",
      "8552\n",
      "9195\n",
      "9213\n"
     ]
    },
    {
     "data": {
      "application/vnd.jupyter.widget-view+json": {
       "model_id": "",
       "version_major": 2,
       "version_minor": 0
      },
      "text/plain": [
       "Sub Folders:   0%|          | 0/1 [00:00<?, ?it/s]"
      ]
     },
     "metadata": {},
     "output_type": "display_data"
    },
    {
     "name": "stdout",
     "output_type": "stream",
     "text": [
      "9436\n"
     ]
    },
    {
     "data": {
      "application/vnd.jupyter.widget-view+json": {
       "model_id": "",
       "version_major": 2,
       "version_minor": 0
      },
      "text/plain": [
       "Sub Folders:   0%|          | 0/4 [00:00<?, ?it/s]"
      ]
     },
     "metadata": {},
     "output_type": "display_data"
    },
    {
     "name": "stdout",
     "output_type": "stream",
     "text": [
      "9976\n",
      "10638\n",
      "11342\n",
      "12054\n"
     ]
    },
    {
     "data": {
      "application/vnd.jupyter.widget-view+json": {
       "model_id": "",
       "version_major": 2,
       "version_minor": 0
      },
      "text/plain": [
       "Sub Folders:   0%|          | 0/2 [00:00<?, ?it/s]"
      ]
     },
     "metadata": {},
     "output_type": "display_data"
    },
    {
     "name": "stdout",
     "output_type": "stream",
     "text": [
      "12866\n",
      "13405\n"
     ]
    },
    {
     "data": {
      "application/vnd.jupyter.widget-view+json": {
       "model_id": "",
       "version_major": 2,
       "version_minor": 0
      },
      "text/plain": [
       "Sub Folders:   0%|          | 0/4 [00:00<?, ?it/s]"
      ]
     },
     "metadata": {},
     "output_type": "display_data"
    },
    {
     "name": "stdout",
     "output_type": "stream",
     "text": [
      "14016\n",
      "14658\n",
      "15194\n",
      "15245\n"
     ]
    },
    {
     "data": {
      "application/vnd.jupyter.widget-view+json": {
       "model_id": "",
       "version_major": 2,
       "version_minor": 0
      },
      "text/plain": [
       "Sub Folders:   0%|          | 0/3 [00:00<?, ?it/s]"
      ]
     },
     "metadata": {},
     "output_type": "display_data"
    },
    {
     "name": "stdout",
     "output_type": "stream",
     "text": [
      "15745\n",
      "16325\n",
      "16385\n"
     ]
    },
    {
     "data": {
      "application/vnd.jupyter.widget-view+json": {
       "model_id": "",
       "version_major": 2,
       "version_minor": 0
      },
      "text/plain": [
       "Sub Folders:   0%|          | 0/4 [00:00<?, ?it/s]"
      ]
     },
     "metadata": {},
     "output_type": "display_data"
    },
    {
     "name": "stdout",
     "output_type": "stream",
     "text": [
      "17199\n",
      "17777\n",
      "18351\n",
      "18716\n"
     ]
    },
    {
     "data": {
      "application/vnd.jupyter.widget-view+json": {
       "model_id": "",
       "version_major": 2,
       "version_minor": 0
      },
      "text/plain": [
       "Sub Folders:   0%|          | 0/3 [00:00<?, ?it/s]"
      ]
     },
     "metadata": {},
     "output_type": "display_data"
    },
    {
     "name": "stdout",
     "output_type": "stream",
     "text": [
      "19441\n",
      "20151\n",
      "20358\n"
     ]
    },
    {
     "data": {
      "application/vnd.jupyter.widget-view+json": {
       "model_id": "",
       "version_major": 2,
       "version_minor": 0
      },
      "text/plain": [
       "Sub Folders:   0%|          | 0/3 [00:00<?, ?it/s]"
      ]
     },
     "metadata": {},
     "output_type": "display_data"
    },
    {
     "name": "stdout",
     "output_type": "stream",
     "text": [
      "20894\n",
      "21372\n",
      "21955\n"
     ]
    },
    {
     "data": {
      "application/vnd.jupyter.widget-view+json": {
       "model_id": "",
       "version_major": 2,
       "version_minor": 0
      },
      "text/plain": [
       "Sub Folders:   0%|          | 0/6 [00:00<?, ?it/s]"
      ]
     },
     "metadata": {},
     "output_type": "display_data"
    },
    {
     "name": "stdout",
     "output_type": "stream",
     "text": [
      "22615\n",
      "23244\n",
      "23871\n",
      "24055\n",
      "24262\n",
      "24447\n"
     ]
    },
    {
     "data": {
      "application/vnd.jupyter.widget-view+json": {
       "model_id": "",
       "version_major": 2,
       "version_minor": 0
      },
      "text/plain": [
       "Sub Folders:   0%|          | 0/3 [00:00<?, ?it/s]"
      ]
     },
     "metadata": {},
     "output_type": "display_data"
    },
    {
     "name": "stdout",
     "output_type": "stream",
     "text": [
      "25121\n",
      "25708\n",
      "26214\n"
     ]
    },
    {
     "data": {
      "application/vnd.jupyter.widget-view+json": {
       "model_id": "",
       "version_major": 2,
       "version_minor": 0
      },
      "text/plain": [
       "Sub Folders:   0%|          | 0/1 [00:00<?, ?it/s]"
      ]
     },
     "metadata": {},
     "output_type": "display_data"
    },
    {
     "name": "stdout",
     "output_type": "stream",
     "text": [
      "26400\n"
     ]
    },
    {
     "data": {
      "application/vnd.jupyter.widget-view+json": {
       "model_id": "",
       "version_major": 2,
       "version_minor": 0
      },
      "text/plain": [
       "Sub Folders:   0%|          | 0/3 [00:00<?, ?it/s]"
      ]
     },
     "metadata": {},
     "output_type": "display_data"
    },
    {
     "name": "stdout",
     "output_type": "stream",
     "text": [
      "27202\n",
      "27888\n",
      "28533\n"
     ]
    },
    {
     "data": {
      "application/vnd.jupyter.widget-view+json": {
       "model_id": "",
       "version_major": 2,
       "version_minor": 0
      },
      "text/plain": [
       "Sub Folders:   0%|          | 0/3 [00:00<?, ?it/s]"
      ]
     },
     "metadata": {},
     "output_type": "display_data"
    },
    {
     "name": "stdout",
     "output_type": "stream",
     "text": [
      "29255\n",
      "29894\n",
      "30443\n"
     ]
    },
    {
     "data": {
      "application/vnd.jupyter.widget-view+json": {
       "model_id": "",
       "version_major": 2,
       "version_minor": 0
      },
      "text/plain": [
       "Sub Folders:   0%|          | 0/1 [00:00<?, ?it/s]"
      ]
     },
     "metadata": {},
     "output_type": "display_data"
    },
    {
     "name": "stdout",
     "output_type": "stream",
     "text": [
      "30578\n"
     ]
    },
    {
     "data": {
      "application/vnd.jupyter.widget-view+json": {
       "model_id": "",
       "version_major": 2,
       "version_minor": 0
      },
      "text/plain": [
       "Sub Folders:   0%|          | 0/3 [00:00<?, ?it/s]"
      ]
     },
     "metadata": {},
     "output_type": "display_data"
    },
    {
     "name": "stdout",
     "output_type": "stream",
     "text": [
      "31422\n",
      "32237\n",
      "32839\n"
     ]
    },
    {
     "data": {
      "application/vnd.jupyter.widget-view+json": {
       "model_id": "",
       "version_major": 2,
       "version_minor": 0
      },
      "text/plain": [
       "Sub Folders:   0%|          | 0/3 [00:00<?, ?it/s]"
      ]
     },
     "metadata": {},
     "output_type": "display_data"
    },
    {
     "name": "stdout",
     "output_type": "stream",
     "text": [
      "33633\n",
      "34278\n",
      "34807\n"
     ]
    },
    {
     "data": {
      "application/vnd.jupyter.widget-view+json": {
       "model_id": "",
       "version_major": 2,
       "version_minor": 0
      },
      "text/plain": [
       "Sub Folders:   0%|          | 0/1 [00:00<?, ?it/s]"
      ]
     },
     "metadata": {},
     "output_type": "display_data"
    },
    {
     "name": "stdout",
     "output_type": "stream",
     "text": [
      "34991\n"
     ]
    },
    {
     "data": {
      "application/vnd.jupyter.widget-view+json": {
       "model_id": "",
       "version_major": 2,
       "version_minor": 0
      },
      "text/plain": [
       "Sub Folders:   0%|          | 0/3 [00:00<?, ?it/s]"
      ]
     },
     "metadata": {},
     "output_type": "display_data"
    },
    {
     "name": "stdout",
     "output_type": "stream",
     "text": [
      "35641\n",
      "36418\n",
      "37066\n"
     ]
    },
    {
     "data": {
      "application/vnd.jupyter.widget-view+json": {
       "model_id": "",
       "version_major": 2,
       "version_minor": 0
      },
      "text/plain": [
       "Sub Folders:   0%|          | 0/3 [00:00<?, ?it/s]"
      ]
     },
     "metadata": {},
     "output_type": "display_data"
    },
    {
     "name": "stdout",
     "output_type": "stream",
     "text": [
      "37750\n",
      "38441\n",
      "39118\n"
     ]
    },
    {
     "data": {
      "application/vnd.jupyter.widget-view+json": {
       "model_id": "",
       "version_major": 2,
       "version_minor": 0
      },
      "text/plain": [
       "Sub Folders:   0%|          | 0/5 [00:00<?, ?it/s]"
      ]
     },
     "metadata": {},
     "output_type": "display_data"
    },
    {
     "name": "stdout",
     "output_type": "stream",
     "text": [
      "39890\n",
      "40693\n",
      "41306\n",
      "41999\n",
      "42601\n"
     ]
    },
    {
     "data": {
      "application/vnd.jupyter.widget-view+json": {
       "model_id": "",
       "version_major": 2,
       "version_minor": 0
      },
      "text/plain": [
       "Sub Folders:   0%|          | 0/1 [00:00<?, ?it/s]"
      ]
     },
     "metadata": {},
     "output_type": "display_data"
    },
    {
     "name": "stdout",
     "output_type": "stream",
     "text": [
      "43077\n"
     ]
    },
    {
     "data": {
      "application/vnd.jupyter.widget-view+json": {
       "model_id": "",
       "version_major": 2,
       "version_minor": 0
      },
      "text/plain": [
       "Sub Folders:   0%|          | 0/3 [00:00<?, ?it/s]"
      ]
     },
     "metadata": {},
     "output_type": "display_data"
    },
    {
     "name": "stdout",
     "output_type": "stream",
     "text": [
      "43829\n",
      "44647\n",
      "45097\n"
     ]
    },
    {
     "data": {
      "application/vnd.jupyter.widget-view+json": {
       "model_id": "",
       "version_major": 2,
       "version_minor": 0
      },
      "text/plain": [
       "Sub Folders:   0%|          | 0/3 [00:00<?, ?it/s]"
      ]
     },
     "metadata": {},
     "output_type": "display_data"
    },
    {
     "name": "stdout",
     "output_type": "stream",
     "text": [
      "45858\n",
      "46612\n",
      "46853\n"
     ]
    },
    {
     "data": {
      "application/vnd.jupyter.widget-view+json": {
       "model_id": "",
       "version_major": 2,
       "version_minor": 0
      },
      "text/plain": [
       "Sub Folders:   0%|          | 0/3 [00:00<?, ?it/s]"
      ]
     },
     "metadata": {},
     "output_type": "display_data"
    },
    {
     "name": "stdout",
     "output_type": "stream",
     "text": [
      "47537\n",
      "48166\n",
      "48292\n"
     ]
    },
    {
     "data": {
      "application/vnd.jupyter.widget-view+json": {
       "model_id": "",
       "version_major": 2,
       "version_minor": 0
      },
      "text/plain": [
       "Sub Folders:   0%|          | 0/3 [00:00<?, ?it/s]"
      ]
     },
     "metadata": {},
     "output_type": "display_data"
    },
    {
     "name": "stdout",
     "output_type": "stream",
     "text": [
      "48928\n",
      "49819\n",
      "50355\n"
     ]
    },
    {
     "data": {
      "application/vnd.jupyter.widget-view+json": {
       "model_id": "",
       "version_major": 2,
       "version_minor": 0
      },
      "text/plain": [
       "Sub Folders:   0%|          | 0/3 [00:00<?, ?it/s]"
      ]
     },
     "metadata": {},
     "output_type": "display_data"
    },
    {
     "name": "stdout",
     "output_type": "stream",
     "text": [
      "51046\n",
      "51665\n",
      "52024\n"
     ]
    },
    {
     "data": {
      "application/vnd.jupyter.widget-view+json": {
       "model_id": "",
       "version_major": 2,
       "version_minor": 0
      },
      "text/plain": [
       "Sub Folders:   0%|          | 0/2 [00:00<?, ?it/s]"
      ]
     },
     "metadata": {},
     "output_type": "display_data"
    },
    {
     "name": "stdout",
     "output_type": "stream",
     "text": [
      "52679\n",
      "53166\n"
     ]
    },
    {
     "data": {
      "application/vnd.jupyter.widget-view+json": {
       "model_id": "",
       "version_major": 2,
       "version_minor": 0
      },
      "text/plain": [
       "Sub Folders:   0%|          | 0/3 [00:00<?, ?it/s]"
      ]
     },
     "metadata": {},
     "output_type": "display_data"
    },
    {
     "name": "stdout",
     "output_type": "stream",
     "text": [
      "53804\n",
      "54485\n",
      "54846\n"
     ]
    },
    {
     "data": {
      "application/vnd.jupyter.widget-view+json": {
       "model_id": "",
       "version_major": 2,
       "version_minor": 0
      },
      "text/plain": [
       "Sub Folders:   0%|          | 0/3 [00:00<?, ?it/s]"
      ]
     },
     "metadata": {},
     "output_type": "display_data"
    },
    {
     "name": "stdout",
     "output_type": "stream",
     "text": [
      "55414\n",
      "55912\n",
      "56298\n"
     ]
    },
    {
     "data": {
      "application/vnd.jupyter.widget-view+json": {
       "model_id": "",
       "version_major": 2,
       "version_minor": 0
      },
      "text/plain": [
       "Sub Folders:   0%|          | 0/3 [00:00<?, ?it/s]"
      ]
     },
     "metadata": {},
     "output_type": "display_data"
    },
    {
     "name": "stdout",
     "output_type": "stream",
     "text": [
      "57035\n",
      "57598\n",
      "57965\n"
     ]
    },
    {
     "data": {
      "application/vnd.jupyter.widget-view+json": {
       "model_id": "",
       "version_major": 2,
       "version_minor": 0
      },
      "text/plain": [
       "Sub Folders:   0%|          | 0/6 [00:00<?, ?it/s]"
      ]
     },
     "metadata": {},
     "output_type": "display_data"
    },
    {
     "name": "stdout",
     "output_type": "stream",
     "text": [
      "58628\n",
      "59256\n",
      "59749\n",
      "60266\n",
      "60894\n",
      "61082\n"
     ]
    },
    {
     "data": {
      "application/vnd.jupyter.widget-view+json": {
       "model_id": "",
       "version_major": 2,
       "version_minor": 0
      },
      "text/plain": [
       "Sub Folders:   0%|          | 0/3 [00:00<?, ?it/s]"
      ]
     },
     "metadata": {},
     "output_type": "display_data"
    },
    {
     "name": "stdout",
     "output_type": "stream",
     "text": [
      "61729\n",
      "62386\n",
      "62702\n"
     ]
    },
    {
     "data": {
      "application/vnd.jupyter.widget-view+json": {
       "model_id": "",
       "version_major": 2,
       "version_minor": 0
      },
      "text/plain": [
       "Sub Folders:   0%|          | 0/3 [00:00<?, ?it/s]"
      ]
     },
     "metadata": {},
     "output_type": "display_data"
    },
    {
     "name": "stdout",
     "output_type": "stream",
     "text": [
      "63548\n",
      "64323\n",
      "64659\n"
     ]
    },
    {
     "data": {
      "application/vnd.jupyter.widget-view+json": {
       "model_id": "",
       "version_major": 2,
       "version_minor": 0
      },
      "text/plain": [
       "Sub Folders:   0%|          | 0/3 [00:00<?, ?it/s]"
      ]
     },
     "metadata": {},
     "output_type": "display_data"
    },
    {
     "name": "stdout",
     "output_type": "stream",
     "text": [
      "65266\n",
      "65935\n",
      "66295\n"
     ]
    },
    {
     "data": {
      "application/vnd.jupyter.widget-view+json": {
       "model_id": "",
       "version_major": 2,
       "version_minor": 0
      },
      "text/plain": [
       "Sub Folders:   0%|          | 0/1 [00:00<?, ?it/s]"
      ]
     },
     "metadata": {},
     "output_type": "display_data"
    },
    {
     "name": "stdout",
     "output_type": "stream",
     "text": [
      "66544\n"
     ]
    },
    {
     "data": {
      "application/vnd.jupyter.widget-view+json": {
       "model_id": "",
       "version_major": 2,
       "version_minor": 0
      },
      "text/plain": [
       "Sub Folders:   0%|          | 0/2 [00:00<?, ?it/s]"
      ]
     },
     "metadata": {},
     "output_type": "display_data"
    },
    {
     "name": "stdout",
     "output_type": "stream",
     "text": [
      "67115\n",
      "67572\n"
     ]
    },
    {
     "data": {
      "application/vnd.jupyter.widget-view+json": {
       "model_id": "",
       "version_major": 2,
       "version_minor": 0
      },
      "text/plain": [
       "Sub Folders:   0%|          | 0/3 [00:00<?, ?it/s]"
      ]
     },
     "metadata": {},
     "output_type": "display_data"
    },
    {
     "name": "stdout",
     "output_type": "stream",
     "text": [
      "68128\n",
      "68666\n",
      "68931\n"
     ]
    },
    {
     "data": {
      "application/vnd.jupyter.widget-view+json": {
       "model_id": "",
       "version_major": 2,
       "version_minor": 0
      },
      "text/plain": [
       "Sub Folders:   0%|          | 0/3 [00:00<?, ?it/s]"
      ]
     },
     "metadata": {},
     "output_type": "display_data"
    },
    {
     "name": "stdout",
     "output_type": "stream",
     "text": [
      "69513\n",
      "70071\n",
      "70188\n"
     ]
    },
    {
     "data": {
      "application/vnd.jupyter.widget-view+json": {
       "model_id": "",
       "version_major": 2,
       "version_minor": 0
      },
      "text/plain": [
       "Sub Folders:   0%|          | 0/2 [00:00<?, ?it/s]"
      ]
     },
     "metadata": {},
     "output_type": "display_data"
    },
    {
     "name": "stdout",
     "output_type": "stream",
     "text": [
      "70803\n",
      "71249\n"
     ]
    },
    {
     "data": {
      "application/vnd.jupyter.widget-view+json": {
       "model_id": "",
       "version_major": 2,
       "version_minor": 0
      },
      "text/plain": [
       "Sub Folders:   0%|          | 0/3 [00:00<?, ?it/s]"
      ]
     },
     "metadata": {},
     "output_type": "display_data"
    },
    {
     "name": "stdout",
     "output_type": "stream",
     "text": [
      "71779\n",
      "72283\n",
      "72444\n"
     ]
    },
    {
     "data": {
      "application/vnd.jupyter.widget-view+json": {
       "model_id": "",
       "version_major": 2,
       "version_minor": 0
      },
      "text/plain": [
       "Sub Folders:   0%|          | 0/3 [00:00<?, ?it/s]"
      ]
     },
     "metadata": {},
     "output_type": "display_data"
    },
    {
     "name": "stdout",
     "output_type": "stream",
     "text": [
      "73046\n",
      "73744\n",
      "73838\n"
     ]
    },
    {
     "data": {
      "application/vnd.jupyter.widget-view+json": {
       "model_id": "",
       "version_major": 2,
       "version_minor": 0
      },
      "text/plain": [
       "Sub Folders:   0%|          | 0/6 [00:00<?, ?it/s]"
      ]
     },
     "metadata": {},
     "output_type": "display_data"
    },
    {
     "name": "stdout",
     "output_type": "stream",
     "text": [
      "74407\n",
      "74887\n",
      "75520\n",
      "76228\n",
      "76734\n",
      "76983\n"
     ]
    },
    {
     "data": {
      "application/vnd.jupyter.widget-view+json": {
       "model_id": "",
       "version_major": 2,
       "version_minor": 0
      },
      "text/plain": [
       "Sub Folders:   0%|          | 0/3 [00:00<?, ?it/s]"
      ]
     },
     "metadata": {},
     "output_type": "display_data"
    },
    {
     "name": "stdout",
     "output_type": "stream",
     "text": [
      "77612\n",
      "78319\n",
      "78436\n"
     ]
    },
    {
     "data": {
      "application/vnd.jupyter.widget-view+json": {
       "model_id": "",
       "version_major": 2,
       "version_minor": 0
      },
      "text/plain": [
       "Sub Folders:   0%|          | 0/3 [00:00<?, ?it/s]"
      ]
     },
     "metadata": {},
     "output_type": "display_data"
    },
    {
     "name": "stdout",
     "output_type": "stream",
     "text": [
      "79014\n",
      "79686\n",
      "79873\n"
     ]
    },
    {
     "data": {
      "application/vnd.jupyter.widget-view+json": {
       "model_id": "",
       "version_major": 2,
       "version_minor": 0
      },
      "text/plain": [
       "Sub Folders:   0%|          | 0/1 [00:00<?, ?it/s]"
      ]
     },
     "metadata": {},
     "output_type": "display_data"
    },
    {
     "name": "stdout",
     "output_type": "stream",
     "text": [
      "80402\n"
     ]
    },
    {
     "data": {
      "application/vnd.jupyter.widget-view+json": {
       "model_id": "",
       "version_major": 2,
       "version_minor": 0
      },
      "text/plain": [
       "Sub Folders:   0%|          | 0/3 [00:00<?, ?it/s]"
      ]
     },
     "metadata": {},
     "output_type": "display_data"
    },
    {
     "name": "stdout",
     "output_type": "stream",
     "text": [
      "81102\n",
      "81772\n",
      "81854\n"
     ]
    },
    {
     "data": {
      "application/vnd.jupyter.widget-view+json": {
       "model_id": "",
       "version_major": 2,
       "version_minor": 0
      },
      "text/plain": [
       "Sub Folders:   0%|          | 0/3 [00:00<?, ?it/s]"
      ]
     },
     "metadata": {},
     "output_type": "display_data"
    },
    {
     "name": "stdout",
     "output_type": "stream",
     "text": [
      "82475\n",
      "83207\n",
      "83214\n"
     ]
    },
    {
     "data": {
      "application/vnd.jupyter.widget-view+json": {
       "model_id": "",
       "version_major": 2,
       "version_minor": 0
      },
      "text/plain": [
       "Sub Folders:   0%|          | 0/3 [00:00<?, ?it/s]"
      ]
     },
     "metadata": {},
     "output_type": "display_data"
    },
    {
     "name": "stdout",
     "output_type": "stream",
     "text": [
      "83908\n",
      "84478\n",
      "84584\n"
     ]
    },
    {
     "data": {
      "application/vnd.jupyter.widget-view+json": {
       "model_id": "",
       "version_major": 2,
       "version_minor": 0
      },
      "text/plain": [
       "Sub Folders:   0%|          | 0/2 [00:00<?, ?it/s]"
      ]
     },
     "metadata": {},
     "output_type": "display_data"
    },
    {
     "name": "stdout",
     "output_type": "stream",
     "text": [
      "85319\n",
      "85638\n"
     ]
    },
    {
     "data": {
      "application/vnd.jupyter.widget-view+json": {
       "model_id": "",
       "version_major": 2,
       "version_minor": 0
      },
      "text/plain": [
       "Sub Folders:   0%|          | 0/3 [00:00<?, ?it/s]"
      ]
     },
     "metadata": {},
     "output_type": "display_data"
    },
    {
     "name": "stdout",
     "output_type": "stream",
     "text": [
      "86202\n",
      "86868\n",
      "86957\n"
     ]
    },
    {
     "data": {
      "application/vnd.jupyter.widget-view+json": {
       "model_id": "",
       "version_major": 2,
       "version_minor": 0
      },
      "text/plain": [
       "Sub Folders:   0%|          | 0/2 [00:00<?, ?it/s]"
      ]
     },
     "metadata": {},
     "output_type": "display_data"
    },
    {
     "name": "stdout",
     "output_type": "stream",
     "text": [
      "87676\n",
      "88472\n"
     ]
    },
    {
     "data": {
      "application/vnd.jupyter.widget-view+json": {
       "model_id": "",
       "version_major": 2,
       "version_minor": 0
      },
      "text/plain": [
       "Sub Folders:   0%|          | 0/2 [00:00<?, ?it/s]"
      ]
     },
     "metadata": {},
     "output_type": "display_data"
    },
    {
     "name": "stdout",
     "output_type": "stream",
     "text": [
      "89315\n",
      "90107\n"
     ]
    },
    {
     "data": {
      "application/vnd.jupyter.widget-view+json": {
       "model_id": "",
       "version_major": 2,
       "version_minor": 0
      },
      "text/plain": [
       "Sub Folders:   0%|          | 0/6 [00:00<?, ?it/s]"
      ]
     },
     "metadata": {},
     "output_type": "display_data"
    },
    {
     "name": "stdout",
     "output_type": "stream",
     "text": [
      "90577\n",
      "91022\n",
      "91682\n",
      "92371\n",
      "92931\n",
      "93404\n"
     ]
    },
    {
     "data": {
      "application/vnd.jupyter.widget-view+json": {
       "model_id": "",
       "version_major": 2,
       "version_minor": 0
      },
      "text/plain": [
       "Sub Folders:   0%|          | 0/3 [00:00<?, ?it/s]"
      ]
     },
     "metadata": {},
     "output_type": "display_data"
    },
    {
     "name": "stdout",
     "output_type": "stream",
     "text": [
      "94148\n",
      "94895\n",
      "95024\n"
     ]
    },
    {
     "data": {
      "application/vnd.jupyter.widget-view+json": {
       "model_id": "",
       "version_major": 2,
       "version_minor": 0
      },
      "text/plain": [
       "Sub Folders:   0%|          | 0/3 [00:00<?, ?it/s]"
      ]
     },
     "metadata": {},
     "output_type": "display_data"
    },
    {
     "name": "stdout",
     "output_type": "stream",
     "text": [
      "95667\n",
      "96141\n",
      "96142\n"
     ]
    },
    {
     "data": {
      "application/vnd.jupyter.widget-view+json": {
       "model_id": "",
       "version_major": 2,
       "version_minor": 0
      },
      "text/plain": [
       "Sub Folders:   0%|          | 0/1 [00:00<?, ?it/s]"
      ]
     },
     "metadata": {},
     "output_type": "display_data"
    },
    {
     "name": "stdout",
     "output_type": "stream",
     "text": [
      "96574\n"
     ]
    },
    {
     "data": {
      "application/vnd.jupyter.widget-view+json": {
       "model_id": "",
       "version_major": 2,
       "version_minor": 0
      },
      "text/plain": [
       "Sub Folders:   0%|          | 0/6 [00:00<?, ?it/s]"
      ]
     },
     "metadata": {},
     "output_type": "display_data"
    },
    {
     "name": "stdout",
     "output_type": "stream",
     "text": [
      "97140\n",
      "97822\n",
      "98412\n",
      "98956\n",
      "99439\n",
      "99818\n"
     ]
    },
    {
     "data": {
      "application/vnd.jupyter.widget-view+json": {
       "model_id": "",
       "version_major": 2,
       "version_minor": 0
      },
      "text/plain": [
       "Sub Folders:   0%|          | 0/6 [00:00<?, ?it/s]"
      ]
     },
     "metadata": {},
     "output_type": "display_data"
    },
    {
     "name": "stdout",
     "output_type": "stream",
     "text": [
      "100413\n",
      "100915\n",
      "101447\n",
      "102064\n",
      "102798\n",
      "103028\n"
     ]
    },
    {
     "data": {
      "application/vnd.jupyter.widget-view+json": {
       "model_id": "",
       "version_major": 2,
       "version_minor": 0
      },
      "text/plain": [
       "Sub Folders:   0%|          | 0/6 [00:00<?, ?it/s]"
      ]
     },
     "metadata": {},
     "output_type": "display_data"
    },
    {
     "name": "stdout",
     "output_type": "stream",
     "text": [
      "103717\n",
      "104330\n",
      "104941\n",
      "105581\n",
      "106180\n",
      "107063\n",
      "CPU times: total: 8h 13min 48s\n",
      "Wall time: 8h 20min 10s\n"
     ]
    }
   ],
   "source": [
    "%%time\n",
    "\n",
    "protection = input(f\"Are you sure you want to collect window text of {city_pairs_to_process.keys()} cities? (currently: '...' cities).\\nType 'Yes' to continue.\")\n",
    "\n",
    "if protection == 'Y':\n",
    "    print()\n",
    "    t = 1\n",
    "    while t:\n",
    "        print(f\"\\rcontinuing processing in {t}...\", end=\"\")\n",
    "        t -= 1\n",
    "        time.sleep(1)\n",
    "    clear_output()\n",
    "    paragraphs_df = process_wikidump(basefolder=BASEFOLDER, output_dir=OUTPUT_PATH, city_pairs=city_pairs_to_process, df=paragraphs_df)\n",
    "else:\n",
    "    print(\"\\nCanceling Operation...\\n\")"
   ]
  },
  {
   "cell_type": "code",
   "execution_count": 154,
   "id": "73352e10",
   "metadata": {},
   "outputs": [
    {
     "data": {
      "text/html": [
       "<div>\n",
       "<style scoped>\n",
       "    .dataframe tbody tr th:only-of-type {\n",
       "        vertical-align: middle;\n",
       "    }\n",
       "\n",
       "    .dataframe tbody tr th {\n",
       "        vertical-align: top;\n",
       "    }\n",
       "\n",
       "    .dataframe thead th {\n",
       "        text-align: right;\n",
       "    }\n",
       "</style>\n",
       "<table border=\"1\" class=\"dataframe\">\n",
       "  <thead>\n",
       "    <tr style=\"text-align: right;\">\n",
       "      <th></th>\n",
       "      <th>city_pair</th>\n",
       "      <th>paragraph_id</th>\n",
       "      <th>paragraph</th>\n",
       "      <th>article_id</th>\n",
       "      <th>title</th>\n",
       "      <th>url</th>\n",
       "    </tr>\n",
       "  </thead>\n",
       "  <tbody>\n",
       "    <tr>\n",
       "      <th>0</th>\n",
       "      <td>('naples', 'dresden')</td>\n",
       "      <td>1</td>\n",
       "      <td>In September 1818, while waiting for his book ...</td>\n",
       "      <td>700</td>\n",
       "      <td>Arthur Schopenhauer</td>\n",
       "      <td>https://en.wikipedia.org/wiki?curid=700</td>\n",
       "    </tr>\n",
       "    <tr>\n",
       "      <th>1</th>\n",
       "      <td>('milan', 'dresden')</td>\n",
       "      <td>1</td>\n",
       "      <td>In September 1818, while waiting for his book ...</td>\n",
       "      <td>700</td>\n",
       "      <td>Arthur Schopenhauer</td>\n",
       "      <td>https://en.wikipedia.org/wiki?curid=700</td>\n",
       "    </tr>\n",
       "    <tr>\n",
       "      <th>2</th>\n",
       "      <td>('rome', 'dresden')</td>\n",
       "      <td>1</td>\n",
       "      <td>In September 1818, while waiting for his book ...</td>\n",
       "      <td>700</td>\n",
       "      <td>Arthur Schopenhauer</td>\n",
       "      <td>https://en.wikipedia.org/wiki?curid=700</td>\n",
       "    </tr>\n",
       "    <tr>\n",
       "      <th>3</th>\n",
       "      <td>('berlin', 'dresden')</td>\n",
       "      <td>1</td>\n",
       "      <td>He shortened his stay in Italy because of the ...</td>\n",
       "      <td>700</td>\n",
       "      <td>Arthur Schopenhauer</td>\n",
       "      <td>https://en.wikipedia.org/wiki?curid=700</td>\n",
       "    </tr>\n",
       "    <tr>\n",
       "      <th>4</th>\n",
       "      <td>('stuttgart', 'nuremberg')</td>\n",
       "      <td>1</td>\n",
       "      <td>After his tenure in academia, he continued to ...</td>\n",
       "      <td>700</td>\n",
       "      <td>Arthur Schopenhauer</td>\n",
       "      <td>https://en.wikipedia.org/wiki?curid=700</td>\n",
       "    </tr>\n",
       "    <tr>\n",
       "      <th>...</th>\n",
       "      <td>...</td>\n",
       "      <td>...</td>\n",
       "      <td>...</td>\n",
       "      <td>...</td>\n",
       "      <td>...</td>\n",
       "      <td>...</td>\n",
       "    </tr>\n",
       "    <tr>\n",
       "      <th>2385</th>\n",
       "      <td>('hamburg', 'bremen')</td>\n",
       "      <td>51</td>\n",
       "      <td>Dominion of England lent the Danes an importan...</td>\n",
       "      <td>40501</td>\n",
       "      <td>Cnut</td>\n",
       "      <td>https://en.wikipedia.org/wiki?curid=40501</td>\n",
       "    </tr>\n",
       "    <tr>\n",
       "      <th>2386</th>\n",
       "      <td>('rome', 'bremen')</td>\n",
       "      <td>51</td>\n",
       "      <td>Consistent with his role as a Christian king, ...</td>\n",
       "      <td>40501</td>\n",
       "      <td>Cnut</td>\n",
       "      <td>https://en.wikipedia.org/wiki?curid=40501</td>\n",
       "    </tr>\n",
       "    <tr>\n",
       "      <th>2387</th>\n",
       "      <td>('hamburg', 'bremen')</td>\n",
       "      <td>51</td>\n",
       "      <td>Consistent with his role as a Christian king, ...</td>\n",
       "      <td>40501</td>\n",
       "      <td>Cnut</td>\n",
       "      <td>https://en.wikipedia.org/wiki?curid=40501</td>\n",
       "    </tr>\n",
       "    <tr>\n",
       "      <th>2388</th>\n",
       "      <td>('hamburg', 'bremen')</td>\n",
       "      <td>8</td>\n",
       "      <td>The Archepiscopacies of Hamburg and Bremen had...</td>\n",
       "      <td>40539</td>\n",
       "      <td>Adalbert of Magdeburg</td>\n",
       "      <td>https://en.wikipedia.org/wiki?curid=40539</td>\n",
       "    </tr>\n",
       "    <tr>\n",
       "      <th>2389</th>\n",
       "      <td>('paris', 'dortmund')</td>\n",
       "      <td>0</td>\n",
       "      <td>Otto II convened the Imperial Diet in mid-July...</td>\n",
       "      <td>40599</td>\n",
       "      <td>Otto II, Holy Roman Emperor</td>\n",
       "      <td>https://en.wikipedia.org/wiki?curid=40599</td>\n",
       "    </tr>\n",
       "  </tbody>\n",
       "</table>\n",
       "<p>2390 rows × 6 columns</p>\n",
       "</div>"
      ],
      "text/plain": [
       "                       city_pair  paragraph_id  \\\n",
       "0          ('naples', 'dresden')             1   \n",
       "1           ('milan', 'dresden')             1   \n",
       "2            ('rome', 'dresden')             1   \n",
       "3          ('berlin', 'dresden')             1   \n",
       "4     ('stuttgart', 'nuremberg')             1   \n",
       "...                          ...           ...   \n",
       "2385       ('hamburg', 'bremen')            51   \n",
       "2386          ('rome', 'bremen')            51   \n",
       "2387       ('hamburg', 'bremen')            51   \n",
       "2388       ('hamburg', 'bremen')             8   \n",
       "2389       ('paris', 'dortmund')             0   \n",
       "\n",
       "                                              paragraph  article_id  \\\n",
       "0     In September 1818, while waiting for his book ...         700   \n",
       "1     In September 1818, while waiting for his book ...         700   \n",
       "2     In September 1818, while waiting for his book ...         700   \n",
       "3     He shortened his stay in Italy because of the ...         700   \n",
       "4     After his tenure in academia, he continued to ...         700   \n",
       "...                                                 ...         ...   \n",
       "2385  Dominion of England lent the Danes an importan...       40501   \n",
       "2386  Consistent with his role as a Christian king, ...       40501   \n",
       "2387  Consistent with his role as a Christian king, ...       40501   \n",
       "2388  The Archepiscopacies of Hamburg and Bremen had...       40539   \n",
       "2389  Otto II convened the Imperial Diet in mid-July...       40599   \n",
       "\n",
       "                            title                                        url  \n",
       "0             Arthur Schopenhauer    https://en.wikipedia.org/wiki?curid=700  \n",
       "1             Arthur Schopenhauer    https://en.wikipedia.org/wiki?curid=700  \n",
       "2             Arthur Schopenhauer    https://en.wikipedia.org/wiki?curid=700  \n",
       "3             Arthur Schopenhauer    https://en.wikipedia.org/wiki?curid=700  \n",
       "4             Arthur Schopenhauer    https://en.wikipedia.org/wiki?curid=700  \n",
       "...                           ...                                        ...  \n",
       "2385                         Cnut  https://en.wikipedia.org/wiki?curid=40501  \n",
       "2386                         Cnut  https://en.wikipedia.org/wiki?curid=40501  \n",
       "2387                         Cnut  https://en.wikipedia.org/wiki?curid=40501  \n",
       "2388        Adalbert of Magdeburg  https://en.wikipedia.org/wiki?curid=40539  \n",
       "2389  Otto II, Holy Roman Emperor  https://en.wikipedia.org/wiki?curid=40599  \n",
       "\n",
       "[2390 rows x 6 columns]"
      ]
     },
     "execution_count": 154,
     "metadata": {},
     "output_type": "execute_result"
    }
   ],
   "source": [
    "paragraphs_df\n",
    "#paragraphs_df.to_csv(f\"..\\..\\..\\..\\..\\data\\clean\\paragraphs\\paragraphs_raw_folder_{1}.csv\", index=False)"
   ]
  },
  {
   "cell_type": "code",
   "execution_count": null,
   "id": "876a1458",
   "metadata": {},
   "outputs": [],
   "source": [
    "%%time\n",
    "\n",
    "INPUT_DIR = '../../../../../data/enwiki_city_pairs3-raw/'\n",
    "for root, dirs, files in tqdm(os.walk(INPUT_DIR, topdown=True)):\n",
    "    \n",
    "    if root == '../../../../../data/enwiki_city_pairs3-raw/biggest_cities_40':\n",
    "        print(dirs)\n",
    "    # Create subdirectories in output path\n",
    "#     [os.makedirs(os.path.join(OUTPUT_DIR, dir), exist_ok=True) for dir in dirs]\n",
    "\n",
    "        for name in tqdm(files, total=len(files)):\n",
    "            file_path = os.path.join(root, name)\n",
    "            file_output_dir = root.replace(INPUT_DIR, OUTPUT_DIR)\n",
    "            file_output_dir = '../../../../../data/clean/city_pair_paragraphs3/40'\n",
    "            \n",
    "            city_dir = os.path.join(file_output_dir, f\"cities___{name[:-4]}___\")\n",
    "            # os.makedirs(city_dir, exist_ok = True)\n",
    "            \n",
    "            df = pd.DataFrame(columns= ['Title', 'city_pair', 'article_id', 'paragraph_id', 'paragraph'])\n",
    "\n",
    "            with open(file_path, 'r', encoding='utf-16') as f:\n",
    "                city_pair_paragraphs = [x.strip().lower() for x in f.read().split('\\n') if len(x)]\n",
    "                print(len(city_pair_paragraphs)/2)\n",
    "                for index, line in enumerate(city_pair_paragraphs):\n",
    "                    if 'title=' in line:\n",
    "                        if line.startswith('<doc') or city_pair_paragraphs[index+1].startswith('<doc'):\n",
    "                            pass\n",
    "                            # print('\\n', city_pair_paragraphs[index+1])\n",
    "                        elif len(city_pair_paragraphs[index+1]) < 80:\n",
    "                            pass\n",
    "                        else:\n",
    "\n",
    "                            title = find_title(line)\n",
    "                            city_pair = find_city_pair(line)\n",
    "                            article_id = find_article_id(line)[11:]\n",
    "                            paragraph_id = find_paragraph_id(line)[13:]\n",
    "\n",
    "                            paragraph = city_pair_paragraphs[index+1].replace('\"', \"'\").replace('“', \"'\").replace('”', \"'\")\n",
    "\n",
    "                            d = { 'Title': title, 'city_pair': city_pair, 'article_id': article_id, 'paragraph_id': paragraph_id, 'paragraph': paragraph}\n",
    "                            new_df = pd.DataFrame([d])\n",
    "                            df = pd.concat([df, new_df], axis=0, ignore_index=True)\n",
    "\n",
    "                \n",
    "                df.to_csv(os.path.join(city_dir, f'{name[:-4]}.csv'), index=False)"
   ]
  }
 ],
 "metadata": {
  "kernelspec": {
   "display_name": "Python 3 (ipykernel)",
   "language": "python",
   "name": "python3"
  },
  "language_info": {
   "codemirror_mode": {
    "name": "ipython",
    "version": 3
   },
   "file_extension": ".py",
   "mimetype": "text/x-python",
   "name": "python",
   "nbconvert_exporter": "python",
   "pygments_lexer": "ipython3",
   "version": "3.9.13"
  }
 },
 "nbformat": 4,
 "nbformat_minor": 5
}
