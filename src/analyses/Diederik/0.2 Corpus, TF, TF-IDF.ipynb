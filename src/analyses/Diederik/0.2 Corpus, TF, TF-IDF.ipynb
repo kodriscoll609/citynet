{
 "cells": [
  {
   "cell_type": "code",
   "execution_count": 1,
   "id": "2522dcaf",
   "metadata": {},
   "outputs": [],
   "source": [
    "from diedfunctions import *"
   ]
  },
  {
   "cell_type": "markdown",
   "id": "10ad8061",
   "metadata": {},
   "source": [
    "# Import Lemmatised Wordlists"
   ]
  },
  {
   "cell_type": "code",
   "execution_count": 2,
   "id": "18398019",
   "metadata": {},
   "outputs": [],
   "source": [
    "WORDLISTS_PATH = f'../../../../data/enwiki_city_pairs_lemmatised/VERB_SPACY_LARGE/'\n",
    "data = import_lemmatised_wordlists(PATH=WORDLISTS_PATH)"
   ]
  },
  {
   "cell_type": "markdown",
   "id": "e2f38d97",
   "metadata": {},
   "source": [
    "# Corpus"
   ]
  },
  {
   "cell_type": "markdown",
   "id": "bfc4fc6d",
   "metadata": {},
   "source": [
    "### Create"
   ]
  },
  {
   "cell_type": "code",
   "execution_count": 15,
   "id": "585c97d8",
   "metadata": {},
   "outputs": [
    {
     "name": "stdout",
     "output_type": "stream",
     "text": [
      "This file already exists. Are you sure you want to override?\n",
      "Type 'Yes' to continue: no\n",
      "\n",
      "Canceling Operation...\n",
      "\n"
     ]
    }
   ],
   "source": [
    "CORPUS_PATH = '../../../../data/new_corpus.csv'\n",
    "\n",
    "if check_path(CORPUS_PATH):\n",
    "    corpus = calculate_corpus(data=data, CORPUS_PATH=CORPUS_PATH)"
   ]
  },
  {
   "cell_type": "markdown",
   "id": "a5f1d9b9",
   "metadata": {},
   "source": [
    "### Read (Existing File)"
   ]
  },
  {
   "cell_type": "code",
   "execution_count": null,
   "id": "07e26b4b",
   "metadata": {},
   "outputs": [],
   "source": [
    "CORPUS_PATH = '../../../../data/new_corpus.csv'\n",
    "\n",
    "corpus = pd.read_csv(CORPUS_PATH)\n",
    "corpus.set_index('word', inplace=True)"
   ]
  },
  {
   "cell_type": "markdown",
   "id": "ef8164c7",
   "metadata": {},
   "source": [
    "# Term Frequency Matrix"
   ]
  },
  {
   "cell_type": "markdown",
   "id": "7453fee3",
   "metadata": {},
   "source": [
    "### Create"
   ]
  },
  {
   "cell_type": "code",
   "execution_count": null,
   "id": "1527a6fc",
   "metadata": {},
   "outputs": [],
   "source": [
    "TF_PATH = '../../../../data/new_tf.csv'\n",
    "\n",
    "if check_path(TF_PATH):\n",
    "    tf = calculate_tf(corpus, OUTPUT_PATH=TF_PATH, include_idf=False)"
   ]
  },
  {
   "cell_type": "markdown",
   "id": "13e95f7e",
   "metadata": {},
   "source": [
    "### Read (Existing File)"
   ]
  },
  {
   "cell_type": "code",
   "execution_count": null,
   "id": "71c9cf9f",
   "metadata": {},
   "outputs": [],
   "source": [
    "TF_PATH = '../../../../data/new_tf.csv'\n",
    "\n",
    "tf = pd.read_csv(TF_PATH)"
   ]
  },
  {
   "cell_type": "markdown",
   "id": "a60c45c6",
   "metadata": {},
   "source": [
    "# Term Frequency - Inverse Document Frequency"
   ]
  },
  {
   "cell_type": "markdown",
   "id": "efd9d99c",
   "metadata": {},
   "source": [
    "### Create"
   ]
  },
  {
   "cell_type": "code",
   "execution_count": null,
   "id": "c3efb482",
   "metadata": {},
   "outputs": [],
   "source": [
    "TFIDF_PATH = '../../../../data/new_tfidf.csv'\n",
    "\n",
    "if check_path(TFIDF_PATH):\n",
    "    tfidf = calculate_tf(corpus, OUTPUT_PATH=TFIDF_PATH, include_idf=True)"
   ]
  },
  {
   "cell_type": "markdown",
   "id": "147d1875",
   "metadata": {},
   "source": [
    "### Read (Existing File)"
   ]
  },
  {
   "cell_type": "code",
   "execution_count": null,
   "id": "6400194f",
   "metadata": {},
   "outputs": [],
   "source": [
    "TFIDF_PATH = '../../../../data/new_tfidf.csv'\n",
    "\n",
    "tfidf = pd.read_csv(TFIDF_PATH)"
   ]
  },
  {
   "cell_type": "markdown",
   "id": "a34642a2",
   "metadata": {},
   "source": [
    "<hr>\n",
    "<hr>\n",
    "<hr>\n",
    "<hr>\n",
    "<hr>\n",
    "<hr>\n",
    "<hr>\n",
    "<hr>\n",
    "<!-- <br>\n",
    "<br>\n",
    "<br>\n",
    "<br>\n",
    "<br>\n",
    "<br> -->\n",
    "<div style=\"height: 500px;\"></div>"
   ]
  },
  {
   "cell_type": "code",
   "execution_count": null,
   "id": "a767cfc8",
   "metadata": {},
   "outputs": [],
   "source": [
    "https://www.youtube.com/shorts/q8Ook-3h9DQ"
   ]
  },
  {
   "cell_type": "code",
   "execution_count": null,
   "id": "05321b04",
   "metadata": {},
   "outputs": [],
   "source": [
    "# import pandas\n",
    "# import math\n",
    "\n",
    "# CORPUS_PATH = f'../../../../data/corpus.csv'\n",
    "# TF_CSV_PATH = f'../../../../data/tf.csv'\n",
    "\n",
    "    \n",
    "\n",
    "# def calculate_tf(corpus='', OUTPUT_PATH='', include_idf=False) -> tuple:\n",
    "#     \"\"\"\n",
    "\n",
    "#     Calculates the tfidf per speaker per conference\n",
    "\n",
    "#     :return: ...\n",
    "\n",
    "#     \"\"\"\n",
    "    \n",
    "#     if not isinstance(corpus, pd.DataFrame):\n",
    "#         raise Exception(\"Corpus is required as input (can use calculate_corpus to create one.)\")\n",
    "        \n",
    "#     if not OUTPUT_PATH:\n",
    "#         OUTPUT_PATH = './new_tfidf.csv' if include_idf else './new_tf.csv'\n",
    "        \n",
    "#     try:\n",
    "#         corpus.set_index('word', inplace=True)\n",
    "#     except:\n",
    "#         pass\n",
    "    \n",
    "#     tf_idf = {k: [] for k in corpus.columns}\n",
    "\n",
    "#     # Create Dataframe with Relative Word Frequencies\n",
    "#     for index, row in tqdm(corpus.iterrows(), total=len(corpus)):\n",
    "#         docs_with = np.count_nonzero(row)\n",
    "\n",
    "#         for colname, count in row.items():\n",
    "#             total_uniques = np.count_nonzero(corpus[colname])\n",
    "#             tf = count / total_uniques\n",
    "#             result = tf\n",
    "            \n",
    "#             if include_idf:\n",
    "#                 idf = math.log(len(corpus.columns) / docs_with)\n",
    "#                 result *= idf\n",
    "\n",
    "#             tf_idf[colname].append(result)\n",
    "\n",
    "#     tf_idf_df = pd.DataFrame.from_dict(tf_idf)\n",
    "#     tf_idf_df.set_index(corpus.index, inplace=True)\n",
    "\n",
    "#     tf_idf_df.to_csv(OUTPUT_PATH)\n",
    "#     print(f\"Saved results to '{OUTPUT_PATH}'.\")\n",
    "\n",
    "#     return tf_idf_df"
   ]
  }
 ],
 "metadata": {
  "kernelspec": {
   "display_name": "Python 3 (ipykernel)",
   "language": "python",
   "name": "python3"
  },
  "language_info": {
   "codemirror_mode": {
    "name": "ipython",
    "version": 3
   },
   "file_extension": ".py",
   "mimetype": "text/x-python",
   "name": "python",
   "nbconvert_exporter": "python",
   "pygments_lexer": "ipython3",
   "version": "3.8.0"
  }
 },
 "nbformat": 4,
 "nbformat_minor": 5
}
