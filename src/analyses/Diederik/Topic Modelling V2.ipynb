{
 "cells": [
  {
   "cell_type": "code",
   "execution_count": 158,
   "id": "d6450462",
   "metadata": {},
   "outputs": [
    {
     "data": {
      "text/plain": [
       "['ner', 'parser']"
      ]
     },
     "execution_count": 158,
     "metadata": {},
     "output_type": "execute_result"
    }
   ],
   "source": [
    "import pickle\n",
    "import os \n",
    "from tqdm.notebook import tqdm\n",
    "import re\n",
    "import spacy\n",
    "\n",
    "nlp = spacy.load(\"en_core_web_sm\")\n",
    "nlp.max_length = 1500000\n",
    "nlp.disable_pipes('ner', 'parser')\n",
    "\n",
    "# gensim LDA\n",
    "\n",
    "from gensim.corpora import Dictionary\n",
    "from gensim.models.wrappers import LdaMallet\n",
    "from gensim.models import CoherenceModel\n",
    "\n",
    "# Visualise\n",
    "import warnings\n",
    "import gensim\n",
    "import pyLDAvis\n",
    "import pyLDAvis.gensim_models as gensimvis"
   ]
  },
  {
   "cell_type": "markdown",
   "id": "85f51227",
   "metadata": {},
   "source": [
    "# Save Lemmatized words"
   ]
  },
  {
   "cell_type": "code",
   "execution_count": 128,
   "id": "3cfbc70e",
   "metadata": {},
   "outputs": [
    {
     "data": {
      "application/vnd.jupyter.widget-view+json": {
       "model_id": "1d032a5d3179451bba389f6ed04411f5",
       "version_major": 2,
       "version_minor": 0
      },
      "text/plain": [
       "Folders:   0%|          | 0/12 [00:00<?, ?it/s]"
      ]
     },
     "metadata": {},
     "output_type": "display_data"
    },
    {
     "name": "stdout",
     "output_type": "stream",
     "text": [
      "933\n"
     ]
    },
    {
     "data": {
      "application/vnd.jupyter.widget-view+json": {
       "model_id": "46e2bc92ecbc4e5f81400b36aa1458e0",
       "version_major": 2,
       "version_minor": 0
      },
      "text/plain": [
       "  0%|          | 0/2 [00:00<?, ?it/s]"
      ]
     },
     "metadata": {},
     "output_type": "display_data"
    },
    {
     "name": "stdout",
     "output_type": "stream",
     "text": [
      "7419\n"
     ]
    },
    {
     "data": {
      "application/vnd.jupyter.widget-view+json": {
       "model_id": "0f4c614915fd44dfb993d0f799292f0a",
       "version_major": 2,
       "version_minor": 0
      },
      "text/plain": [
       "  0%|          | 0/9 [00:00<?, ?it/s]"
      ]
     },
     "metadata": {},
     "output_type": "display_data"
    },
    {
     "name": "stdout",
     "output_type": "stream",
     "text": [
      "2320\n"
     ]
    },
    {
     "data": {
      "application/vnd.jupyter.widget-view+json": {
       "model_id": "278295d465ee469da9fefe1b6e21ef51",
       "version_major": 2,
       "version_minor": 0
      },
      "text/plain": [
       "  0%|          | 0/4 [00:00<?, ?it/s]"
      ]
     },
     "metadata": {},
     "output_type": "display_data"
    },
    {
     "name": "stdout",
     "output_type": "stream",
     "text": [
      "2523\n"
     ]
    },
    {
     "data": {
      "application/vnd.jupyter.widget-view+json": {
       "model_id": "713c36957c6c46b5a9fa090da00ae286",
       "version_major": 2,
       "version_minor": 0
      },
      "text/plain": [
       "  0%|          | 0/4 [00:00<?, ?it/s]"
      ]
     },
     "metadata": {},
     "output_type": "display_data"
    },
    {
     "name": "stdout",
     "output_type": "stream",
     "text": [
      "1037\n"
     ]
    },
    {
     "data": {
      "application/vnd.jupyter.widget-view+json": {
       "model_id": "2b1d268507ab4a98a862d2ad1f53f254",
       "version_major": 2,
       "version_minor": 0
      },
      "text/plain": [
       "  0%|          | 0/3 [00:00<?, ?it/s]"
      ]
     },
     "metadata": {},
     "output_type": "display_data"
    },
    {
     "name": "stdout",
     "output_type": "stream",
     "text": [
      "1130\n"
     ]
    },
    {
     "data": {
      "application/vnd.jupyter.widget-view+json": {
       "model_id": "1dfa44c628a245cda5816ae89614fa7f",
       "version_major": 2,
       "version_minor": 0
      },
      "text/plain": [
       "  0%|          | 0/3 [00:00<?, ?it/s]"
      ]
     },
     "metadata": {},
     "output_type": "display_data"
    },
    {
     "name": "stdout",
     "output_type": "stream",
     "text": [
      "7662\n"
     ]
    },
    {
     "data": {
      "application/vnd.jupyter.widget-view+json": {
       "model_id": "460e05aef0db4a6f81a33e85cefec685",
       "version_major": 2,
       "version_minor": 0
      },
      "text/plain": [
       "  0%|          | 0/9 [00:00<?, ?it/s]"
      ]
     },
     "metadata": {},
     "output_type": "display_data"
    },
    {
     "name": "stdout",
     "output_type": "stream",
     "text": [
      "21193\n"
     ]
    },
    {
     "data": {
      "application/vnd.jupyter.widget-view+json": {
       "model_id": "7f43a6736d1d4ec0b5b0d0d026f98dc0",
       "version_major": 2,
       "version_minor": 0
      },
      "text/plain": [
       "  0%|          | 0/23 [00:00<?, ?it/s]"
      ]
     },
     "metadata": {},
     "output_type": "display_data"
    },
    {
     "name": "stdout",
     "output_type": "stream",
     "text": [
      "3294\n"
     ]
    },
    {
     "data": {
      "application/vnd.jupyter.widget-view+json": {
       "model_id": "92746d2b5c214d618ad6c59ba07a9883",
       "version_major": 2,
       "version_minor": 0
      },
      "text/plain": [
       "  0%|          | 0/5 [00:00<?, ?it/s]"
      ]
     },
     "metadata": {},
     "output_type": "display_data"
    },
    {
     "name": "stdout",
     "output_type": "stream",
     "text": [
      "3264\n"
     ]
    },
    {
     "data": {
      "application/vnd.jupyter.widget-view+json": {
       "model_id": "2a1a9ae5452b4e6f8385c546f68a1e82",
       "version_major": 2,
       "version_minor": 0
      },
      "text/plain": [
       "  0%|          | 0/5 [00:00<?, ?it/s]"
      ]
     },
     "metadata": {},
     "output_type": "display_data"
    }
   ],
   "source": [
    "city_pair_folder = \"../../../../enwiki_city_pairs/\"\n",
    "for file in tqdm(os.scandir(city_pair_folder), total=len(os.listdir(city_pair_folder)), leave=True, desc='Folders'): # tqdm(os.listdir(subfolder), total=len(os.listdir(subfolder)), leave=True, desc='Text Files'):                     \n",
    "    if not file.is_dir():\n",
    "        lemmatize_file(file.path, city_pair=file.name[:-4])"
   ]
  },
  {
   "cell_type": "code",
   "execution_count": 127,
   "id": "0eaae694",
   "metadata": {},
   "outputs": [],
   "source": [
    "def lemmatize_file(file_path, city_pair):\n",
    "    with open(file_path, 'r', encoding='utf-16') as f:\n",
    "        city_pair_text_list = [x.strip().lower() for x in f.read().split('\\n') if len(x) and 'title=' not in x]\n",
    "    print(len(city_pair_text_list))\n",
    "    \n",
    "    nr_of_chunks = len(city_pair_text_list)//1000 + 1\n",
    "    chunk_size = (len(city_pair_text_list)-1)//nr_of_chunks\n",
    "    chunked_text = [' '.join(city_pair_text_list[offs:offs+chunk_size]) for offs in range(0, len(city_pair_text_list), chunk_size)]\n",
    "    \n",
    "    processed_text = [text for text in tqdm(nlp.pipe(chunked_text, n_process=2, batch_size=1, disable=[\"ner\", \"parser\"]), total=len(chunked_text))]\n",
    "    lemmatized_text = [[word.lemma_ for word in text if word.pos_ == 'NOUN' and not word.is_punct and not word.is_stop] for text in processed_text]\n",
    "    regexed_text = [[re.sub(r'\\W+', '', word) for word in text] for text in lemmatized_text]\n",
    "    flattened_words = [item for sublist in regexed_text for item in sublist]\n",
    "    \n",
    "    with open(f'../../../../enwiki_city_pairs_nouns/NOUNS_{city_pair}.pickle', 'wb') as fp:\n",
    "        pickle.dump(flattened_words, fp)"
   ]
  },
  {
   "cell_type": "markdown",
   "id": "f1be48c1",
   "metadata": {},
   "source": [
    "# Open Lemmatized words"
   ]
  },
  {
   "cell_type": "code",
   "execution_count": 245,
   "id": "c7e898d3",
   "metadata": {},
   "outputs": [],
   "source": [
    "word_list_location = '../../../../enwiki_city_pairs_nouns/'\n",
    "words = []\n",
    "city_pairs = []\n",
    "for file in os.scandir(word_list_location):\n",
    "    with open(file.path, 'rb') as fp:\n",
    "        words.append(pickle.load(fp))\n",
    "        city_pairs.append(file.name.split('__')[1])"
   ]
  },
  {
   "cell_type": "code",
   "execution_count": 166,
   "id": "44c55d40",
   "metadata": {},
   "outputs": [
    {
     "data": {
      "text/plain": [
       "['berlin_milan',\n",
       " 'london_berlin',\n",
       " 'london_madrid',\n",
       " 'london_milan',\n",
       " 'madrid_berlin',\n",
       " 'madrid_milan',\n",
       " 'paris_berlin',\n",
       " 'paris_london',\n",
       " 'paris_madrid',\n",
       " 'paris_milan']"
      ]
     },
     "execution_count": 166,
     "metadata": {},
     "output_type": "execute_result"
    }
   ],
   "source": [
    "city_pairs"
   ]
  },
  {
   "cell_type": "code",
   "execution_count": 246,
   "id": "4589495a",
   "metadata": {},
   "outputs": [
    {
     "name": "stdout",
     "output_type": "stream",
     "text": [
      "['tenure', 'academia', 'vevey', 'milan', 'month']\n",
      "['station', 'spoorwegen', 'railway', 'stop', 'zuid']\n",
      "['fanbase', 'gooner', 'club', 'nickname', 'gunner']\n",
      "['plenty', 'air', 'connection', 'city', 'dubai']\n",
      "['organization', 'country', 'society', 'vienna', 'society']\n",
      "['partner', 'kind', 'sport', 'football', 'partnership']\n",
      "['station', 'spoorwegen', 'railway', 'stop', 'zuid']\n",
      "['revision', 'work', 'composer', 'instrumentation', 'saxophone']\n",
      "['arrangement', 'public', 'collection', 'gallery', 'collection']\n",
      "['plenty', 'air', 'connection', 'city', 'dubai']\n"
     ]
    }
   ],
   "source": [
    "for l in words:\n",
    "    print(l[:5])"
   ]
  },
  {
   "cell_type": "markdown",
   "id": "fbfee96b",
   "metadata": {},
   "source": [
    "# Vectorize words (dictionary & corpus)"
   ]
  },
  {
   "cell_type": "code",
   "execution_count": 241,
   "id": "8335b071",
   "metadata": {},
   "outputs": [],
   "source": [
    "def vectorize(lemmatized_text, filter_extremes=True, MIN_DF = 1, MAX_DF = 0.6):\n",
    "    \"\"\"\n",
    "    -->\n",
    "        function that vectorizes preprocessed (lemmatized) text.\n",
    "\n",
    "        Parameters:\n",
    "        -----------\n",
    "            lemmatized_text: list, str -> contains the key words to be matched\n",
    "            MIN_DF: int (default = 1) -> minimum document frequency\n",
    "            MAX_DF: int (default = 0.6) -> maximum document frequency\n",
    "\n",
    "    \"\"\"\n",
    "    \n",
    "    # Get Vocabulary\n",
    "    dictionary = Dictionary(lemmatized_text)\n",
    "    \n",
    "    if filter_extremes:\n",
    "        dictionary.filter_extremes(no_below=MIN_DF, no_above=MAX_DF)\n",
    "    \n",
    "    corpus = [dictionary.doc2bow(text) for text in lemmatized_text]\n",
    "    \n",
    "    return(dictionary, corpus)"
   ]
  },
  {
   "cell_type": "code",
   "execution_count": 248,
   "id": "c9b3d7f4",
   "metadata": {},
   "outputs": [
    {
     "data": {
      "text/plain": [
       "['tenure',\n",
       " 'academia',\n",
       " 'vevey',\n",
       " 'milan',\n",
       " 'month',\n",
       " 'florence',\n",
       " 'year',\n",
       " 'travel',\n",
       " 'incident',\n",
       " 'berlin']"
      ]
     },
     "execution_count": 248,
     "metadata": {},
     "output_type": "execute_result"
    }
   ],
   "source": [
    "words[0][:10]"
   ]
  },
  {
   "cell_type": "code",
   "execution_count": 249,
   "id": "9a73ab17",
   "metadata": {},
   "outputs": [],
   "source": [
    "dictionary, corpus = vectorize(words, filter_extremes=False)"
   ]
  },
  {
   "cell_type": "code",
   "execution_count": 250,
   "id": "962572ea",
   "metadata": {},
   "outputs": [
    {
     "data": {
      "text/plain": [
       "61461"
      ]
     },
     "execution_count": 250,
     "metadata": {},
     "output_type": "execute_result"
    }
   ],
   "source": [
    "len(dictionary)"
   ]
  },
  {
   "cell_type": "code",
   "execution_count": 178,
   "id": "38922101",
   "metadata": {
    "scrolled": true
   },
   "outputs": [
    {
     "data": {
      "text/plain": [
       "16456"
      ]
     },
     "execution_count": 178,
     "metadata": {},
     "output_type": "execute_result"
    }
   ],
   "source": [
    "len(corpus[1])"
   ]
  },
  {
   "cell_type": "markdown",
   "id": "5f93613e",
   "metadata": {},
   "source": [
    "# Train LDA model"
   ]
  },
  {
   "cell_type": "code",
   "execution_count": 251,
   "id": "3fbce143",
   "metadata": {},
   "outputs": [],
   "source": [
    "PATH_TO_MALLET = r'C:/mallet/bin/mallet.bat'\n",
    "\n",
    "def train_model(lemmatized_text, dictionary=[], corpus=[], MIN_DF = 10, MAX_DF = 0.9, N_TOPICS = 10, N_ITERATIONS = 1000):\n",
    "    # usually 1000 iterations will do\n",
    "    \n",
    "#     # Call vectorization function if either dictionary or corpus is missing as parameter\n",
    "#     if not type(dictionary) == gensim.corpora.dictionary.Dictionary or not corpus:\n",
    "#         dictionary, corpus = vectorize(lemmatized_text, MIN_DF, MAX_DF)\n",
    "    \n",
    "    \n",
    "    lda_model = LdaMallet(PATH_TO_MALLET,\n",
    "                corpus=corpus,\n",
    "                id2word=dictionary,\n",
    "                num_topics=N_TOPICS,\n",
    "                optimize_interval=10,\n",
    "                iterations=N_ITERATIONS)\n",
    "    \n",
    "    coherence_score = CoherenceModel(model=lda_model, texts=lemmatized_text, dictionary=dictionary, coherence='c_v').get_coherence()\n",
    "    \n",
    "    return(lda_model, coherence_score, dictionary, corpus)"
   ]
  },
  {
   "cell_type": "code",
   "execution_count": 252,
   "id": "cf23566c",
   "metadata": {},
   "outputs": [],
   "source": [
    "%%time\n",
    "\n",
    "lda_model, coherence_score, dictionary, corpus = train_model(words, dictionary, corpus, N_TOPICS=7)"
   ]
  },
  {
   "cell_type": "code",
   "execution_count": 253,
   "id": "617c352e",
   "metadata": {},
   "outputs": [
    {
     "data": {
      "text/plain": [
       "0.43825568993625336"
      ]
     },
     "execution_count": 253,
     "metadata": {},
     "output_type": "execute_result"
    }
   ],
   "source": [
    "coherence_score"
   ]
  },
  {
   "cell_type": "markdown",
   "id": "ece89bc8",
   "metadata": {},
   "source": [
    "# Word topic distribution"
   ]
  },
  {
   "cell_type": "code",
   "execution_count": 254,
   "id": "01d34bdb",
   "metadata": {},
   "outputs": [
    {
     "name": "stdout",
     "output_type": "stream",
     "text": [
      "0 : [('club', 0.022), ('season', 0.017), ('team', 0.015), ('champion', 0.012), ('league', 0.012), ('match', 0.011), ('milan', 0.011), ('goal', 0.011), ('title', 0.011), ('year', 0.009), ('time', 0.008), ('competition', 0.007), ('opera', 0.007), ('final', 0.007), ('city', 0.007), ('player', 0.007), ('round', 0.006), ('game', 0.006), ('win', 0.006), ('cup', 0.006)]\n",
      "1 : [('milan', 0.035), ('opera', 0.03), ('fashion', 0.025), ('model', 0.013), ('week', 0.012), ('role', 0.008), ('debut', 0.008), ('design', 0.007), ('house', 0.007), ('season', 0.007), ('naple', 0.006), ('year', 0.006), ('world', 0.006), ('festival', 0.006), ('florence', 0.005), ('city', 0.005), ('tour', 0.005), ('venice', 0.005), ('stage', 0.005), ('exhibition', 0.005)]\n",
      "2 : [('festival', 0.026), ('opera', 0.023), ('berlin', 0.02), ('film', 0.019), ('music', 0.01), ('orchestra', 0.009), ('vienna', 0.009), ('state', 0.008), ('debut', 0.007), ('deutsche', 0.006), ('album', 0.006), ('professor', 0.006), ('world', 0.006), ('university', 0.006), ('der', 0.005), ('museum', 0.005), ('title', 0.005), ('performance', 0.005), ('band', 0.005), ('oper', 0.005)]\n",
      "3 : [('académie', 0.006), ('eurovision', 0.005), ('eurostar', 0.005), ('diamond', 0.002), ('café', 0.002), ('française', 0.002), ('comédie', 0.002), ('salon', 0.002), ('engine', 0.002), ('commune', 0.002), ('exhibitor', 0.002), ('bacon', 0.002), ('messager', 0.002), ('concorde', 0.002), ('brittany', 0.002), ('slade', 0.002), ('bahá', 0.001), ('thier', 0.001), ('baptiste', 0.001), ('couture', 0.001)]\n",
      "4 : [('society', 0.012), ('album', 0.009), ('theatre', 0.009), ('band', 0.008), ('design', 0.008), ('week', 0.007), ('club', 0.007), ('fashion', 0.006), ('college', 0.006), ('school', 0.006), ('record', 0.006), ('title', 0.005), ('game', 0.005), ('bank', 0.005), ('hospital', 0.004), ('debut', 0.004), ('ballet', 0.004), ('appearance', 0.004), ('recording', 0.004), ('woman', 0.004)]\n",
      "5 : [('berlin', 0.015), ('study', 0.009), ('doctorate', 0.007), ('nazi', 0.005), ('philosophy', 0.005), ('piano', 0.004), ('wilhelm', 0.003), ('camp', 0.003), ('gymnasium', 0.003), ('medicine', 0.003), ('alliance', 0.003), ('physician', 0.003), ('reich', 0.002), ('teacher', 0.002), ('secession', 0.002), ('revolution', 0.002), ('habilitation', 0.002), ('philology', 0.002), ('coulondre', 0.002), ('concentration', 0.002)]\n",
      "6 : [('art', 0.021), ('year', 0.017), ('work', 0.014), ('time', 0.012), ('city', 0.009), ('world', 0.008), ('exhibition', 0.007), ('music', 0.006), ('school', 0.006), ('company', 0.006), ('museum', 0.006), ('gallery', 0.006), ('opera', 0.006), ('member', 0.005), ('artist', 0.005), ('war', 0.005), ('film', 0.005), ('collection', 0.005), ('family', 0.005), ('painting', 0.004)]\n"
     ]
    }
   ],
   "source": [
    "MAX_WORDS = 20\n",
    "N_TOPICS = 7\n",
    "\n",
    "for i in range(N_TOPICS):\n",
    "    words = lda_model.show_topic(i, topn=MAX_WORDS)\n",
    "    print(i, ':', [(x[0], round(x[1], 3)) for x in words])"
   ]
  },
  {
   "cell_type": "markdown",
   "id": "8c5bb14b",
   "metadata": {},
   "source": [
    "# Document topic distributions"
   ]
  },
  {
   "cell_type": "code",
   "execution_count": 238,
   "id": "e74e9f26",
   "metadata": {},
   "outputs": [],
   "source": [
    "transformed_docs = lda_model.load_document_topics()"
   ]
  },
  {
   "cell_type": "code",
   "execution_count": 239,
   "id": "d7956af1",
   "metadata": {},
   "outputs": [
    {
     "data": {
      "text/html": [
       "<div>\n",
       "<style scoped>\n",
       "    .dataframe tbody tr th:only-of-type {\n",
       "        vertical-align: middle;\n",
       "    }\n",
       "\n",
       "    .dataframe tbody tr th {\n",
       "        vertical-align: top;\n",
       "    }\n",
       "\n",
       "    .dataframe thead th {\n",
       "        text-align: right;\n",
       "    }\n",
       "</style>\n",
       "<table border=\"1\" class=\"dataframe\">\n",
       "  <thead>\n",
       "    <tr style=\"text-align: right;\">\n",
       "      <th></th>\n",
       "      <th>topic_0</th>\n",
       "      <th>topic_1</th>\n",
       "      <th>topic_2</th>\n",
       "      <th>topic_3</th>\n",
       "      <th>topic_4</th>\n",
       "      <th>topic_5</th>\n",
       "      <th>topic_6</th>\n",
       "    </tr>\n",
       "    <tr>\n",
       "      <th>city_pairs</th>\n",
       "      <th></th>\n",
       "      <th></th>\n",
       "      <th></th>\n",
       "      <th></th>\n",
       "      <th></th>\n",
       "      <th></th>\n",
       "      <th></th>\n",
       "    </tr>\n",
       "  </thead>\n",
       "  <tbody>\n",
       "    <tr>\n",
       "      <th>berlin_milan</th>\n",
       "      <td>0.114218</td>\n",
       "      <td>0.114833</td>\n",
       "      <td>0.003972</td>\n",
       "      <td>0.000032</td>\n",
       "      <td>0.699728</td>\n",
       "      <td>0.067213</td>\n",
       "      <td>0.000004</td>\n",
       "    </tr>\n",
       "    <tr>\n",
       "      <th>london_berlin</th>\n",
       "      <td>0.000040</td>\n",
       "      <td>0.372355</td>\n",
       "      <td>0.045556</td>\n",
       "      <td>0.000003</td>\n",
       "      <td>0.000003</td>\n",
       "      <td>0.582043</td>\n",
       "      <td>NaN</td>\n",
       "    </tr>\n",
       "    <tr>\n",
       "      <th>london_madrid</th>\n",
       "      <td>0.075852</td>\n",
       "      <td>0.000010</td>\n",
       "      <td>0.000010</td>\n",
       "      <td>0.776493</td>\n",
       "      <td>0.000010</td>\n",
       "      <td>0.147624</td>\n",
       "      <td>0.000001</td>\n",
       "    </tr>\n",
       "    <tr>\n",
       "      <th>london_milan</th>\n",
       "      <td>0.067127</td>\n",
       "      <td>0.000242</td>\n",
       "      <td>0.000009</td>\n",
       "      <td>0.000011</td>\n",
       "      <td>0.825628</td>\n",
       "      <td>0.106982</td>\n",
       "      <td>0.000001</td>\n",
       "    </tr>\n",
       "    <tr>\n",
       "      <th>madrid_berlin</th>\n",
       "      <td>0.195878</td>\n",
       "      <td>0.000024</td>\n",
       "      <td>0.014328</td>\n",
       "      <td>0.703813</td>\n",
       "      <td>0.000024</td>\n",
       "      <td>0.085928</td>\n",
       "      <td>0.000004</td>\n",
       "    </tr>\n",
       "    <tr>\n",
       "      <th>madrid_milan</th>\n",
       "      <td>0.999554</td>\n",
       "      <td>0.000020</td>\n",
       "      <td>0.000020</td>\n",
       "      <td>0.000296</td>\n",
       "      <td>0.000021</td>\n",
       "      <td>0.000085</td>\n",
       "      <td>0.000003</td>\n",
       "    </tr>\n",
       "    <tr>\n",
       "      <th>paris_berlin</th>\n",
       "      <td>0.000006</td>\n",
       "      <td>0.043976</td>\n",
       "      <td>0.399791</td>\n",
       "      <td>0.016124</td>\n",
       "      <td>0.000002</td>\n",
       "      <td>0.540101</td>\n",
       "      <td>NaN</td>\n",
       "    </tr>\n",
       "    <tr>\n",
       "      <th>paris_london</th>\n",
       "      <td>0.009340</td>\n",
       "      <td>0.005654</td>\n",
       "      <td>0.000533</td>\n",
       "      <td>0.065660</td>\n",
       "      <td>0.085956</td>\n",
       "      <td>0.524398</td>\n",
       "      <td>0.308458</td>\n",
       "    </tr>\n",
       "    <tr>\n",
       "      <th>paris_madrid</th>\n",
       "      <td>0.158860</td>\n",
       "      <td>0.000007</td>\n",
       "      <td>0.000006</td>\n",
       "      <td>0.704471</td>\n",
       "      <td>0.000354</td>\n",
       "      <td>0.136302</td>\n",
       "      <td>NaN</td>\n",
       "    </tr>\n",
       "    <tr>\n",
       "      <th>paris_milan</th>\n",
       "      <td>0.097534</td>\n",
       "      <td>0.000006</td>\n",
       "      <td>0.000006</td>\n",
       "      <td>0.000008</td>\n",
       "      <td>0.818767</td>\n",
       "      <td>0.083679</td>\n",
       "      <td>NaN</td>\n",
       "    </tr>\n",
       "  </tbody>\n",
       "</table>\n",
       "</div>"
      ],
      "text/plain": [
       "                topic_0   topic_1   topic_2   topic_3   topic_4   topic_5  \\\n",
       "city_pairs                                                                  \n",
       "berlin_milan   0.114218  0.114833  0.003972  0.000032  0.699728  0.067213   \n",
       "london_berlin  0.000040  0.372355  0.045556  0.000003  0.000003  0.582043   \n",
       "london_madrid  0.075852  0.000010  0.000010  0.776493  0.000010  0.147624   \n",
       "london_milan   0.067127  0.000242  0.000009  0.000011  0.825628  0.106982   \n",
       "madrid_berlin  0.195878  0.000024  0.014328  0.703813  0.000024  0.085928   \n",
       "madrid_milan   0.999554  0.000020  0.000020  0.000296  0.000021  0.000085   \n",
       "paris_berlin   0.000006  0.043976  0.399791  0.016124  0.000002  0.540101   \n",
       "paris_london   0.009340  0.005654  0.000533  0.065660  0.085956  0.524398   \n",
       "paris_madrid   0.158860  0.000007  0.000006  0.704471  0.000354  0.136302   \n",
       "paris_milan    0.097534  0.000006  0.000006  0.000008  0.818767  0.083679   \n",
       "\n",
       "                topic_6  \n",
       "city_pairs               \n",
       "berlin_milan   0.000004  \n",
       "london_berlin       NaN  \n",
       "london_madrid  0.000001  \n",
       "london_milan   0.000001  \n",
       "madrid_berlin  0.000004  \n",
       "madrid_milan   0.000003  \n",
       "paris_berlin        NaN  \n",
       "paris_london   0.308458  \n",
       "paris_madrid        NaN  \n",
       "paris_milan         NaN  "
      ]
     },
     "execution_count": 239,
     "metadata": {},
     "output_type": "execute_result"
    }
   ],
   "source": [
    "import pandas as pd\n",
    "\n",
    "transformed_docs = lda_model.load_document_topics()\n",
    "topic_distributions = pd.DataFrame([[x[1] for x in doc] for doc in transformed_docs], \n",
    "             columns=['topic_{}'.format(i) for i in range(N_TOPICS)])\n",
    "topic_distributions['city_pairs'] = city_pairs\n",
    "topic_distributions.set_index(\"city_pairs\", inplace=True)\n",
    "topic_distributions\n",
    "# topic_distributions.mean().sort_values(ascending=False)"
   ]
  },
  {
   "cell_type": "code",
   "execution_count": null,
   "id": "32286fa8",
   "metadata": {},
   "outputs": [],
   "source": []
  },
  {
   "cell_type": "markdown",
   "id": "9c6cae93",
   "metadata": {},
   "source": [
    "# Visualise"
   ]
  },
  {
   "cell_type": "code",
   "execution_count": 255,
   "id": "ea812ec0",
   "metadata": {},
   "outputs": [
    {
     "data": {
      "text/html": [
       "\n",
       "<link rel=\"stylesheet\" type=\"text/css\" href=\"https://cdn.jsdelivr.net/gh/bmabey/pyLDAvis@3.3.1/pyLDAvis/js/ldavis.v1.0.0.css\">\n",
       "\n",
       "\n",
       "<div id=\"ldavis_el2724822018747912161346739892\"></div>\n",
       "<script type=\"text/javascript\">\n",
       "\n",
       "var ldavis_el2724822018747912161346739892_data = {\"mdsDat\": {\"x\": [0.13252681198008198, 0.06059105510963444, 0.12686164327818747, 0.1682926747585497, 0.15002222961129746, -0.25431753583500655, -0.3839768789027438], \"y\": [-0.003400729115981729, 0.00982754173448211, 0.04241024731644949, -0.04990151610076628, -0.07939544031175955, 0.352299128162349, -0.27183923168477325], \"topics\": [1, 2, 3, 4, 5, 6, 7], \"cluster\": [1, 1, 1, 1, 1, 1, 1], \"Freq\": [61.3545332065205, 12.062119322468073, 9.206009548788845, 7.005444030498021, 5.980404715011724, 2.540925417583974, 1.8505637591288648]}, \"tinfo\": {\"Term\": [\"opera\", \"festival\", \"milan\", \"film\", \"fashion\", \"year\", \"berlin\", \"study\", \"club\", \"time\", \"art\", \"music\", \"city\", \"society\", \"exhibition\", \"season\", \"world\", \"role\", \"model\", \"house\", \"work\", \"museum\", \"team\", \"university\", \"week\", \"orchestra\", \"state\", \"school\", \"title\", \"vienna\", \"alley\", \"alto\", \"approximation\", \"assessor\", \"atr\", \"cane\", \"capability\", \"carpet\", \"census\", \"codename\", \"communion\", \"compass\", \"competitor\", \"courtship\", \"damnation\", \"degree\", \"desk\", \"distinction\", \"fontainebleau\", \"genocide\", \"gif\", \"gloria\", \"grant\", \"hr\", \"jeunesse\", \"judgment\", \"knowledge\", \"liberal\", \"louise\", \"manrico\", \"family\", \"centre\", \"art\", \"painter\", \"secretary\", \"order\", \"government\", \"minister\", \"court\", \"president\", \"figure\", \"building\", \"brother\", \"library\", \"hotel\", \"room\", \"affair\", \"month\", \"trip\", \"student\", \"board\", \"mission\", \"education\", \"train\", \"couple\", \"prince\", \"agent\", \"subject\", \"medal\", \"work\", \"interest\", \"idea\", \"painting\", \"service\", \"member\", \"writer\", \"year\", \"exhibition\", \"law\", \"academy\", \"time\", \"country\", \"series\", \"collection\", \"period\", \"artist\", \"city\", \"museum\", \"company\", \"gallery\", \"number\", \"world\", \"father\", \"school\", \"war\", \"concert\", \"study\", \"music\", \"group\", \"university\", \"office\", \"tour\", \"day\", \"career\", \"performance\", \"film\", \"opera\", \"house\", \"festival\", \"1760\", \"andrew\", \"arnolfini\", \"battersea\", \"biplane\", \"birkbeck\", \"blaise\", \"commodity\", \"cornet\", \"daisy\", \"darracq\", \"dirt\", \"enrollment\", \"esterhazy\", \"finch\", \"fraenkel\", \"fraser\", \"governess\", \"hanging\", \"kahn\", \"maidstone\", \"needle\", \"peach\", \"picnic\", \"plantation\", \"pollitt\", \"populaire\", \"rochefort\", \"rudge\", \"rugby\", \"lodge\", \"sussex\", \"thame\", \"dock\", \"gazette\", \"hampstead\", \"cholera\", \"aerodrome\", \"bible\", \"wilde\", \"grove\", \"lounge\", \"london\", \"norfolk\", \"bj\\u00f6rk\", \"deco\", \"appreciation\", \"gospel\", \"creditor\", \"bulletin\", \"hunt\", \"talleyrand\", \"barrister\", \"harrison\", \"pigeon\", \"reduction\", \"hearing\", \"rouge\", \"patent\", \"1850\", \"wallace\", \"gentleman\", \"moore\", \"manufacture\", \"watercolour\", \"inch\", \"telephone\", \"mail\", \"cent\", \"jane\", \"julian\", \"bank\", \"guy\", \"victoria\", \"edward\", \"chef\", \"hospital\", \"mile\", \"horse\", \"memoir\", \"lane\", \"guild\", \"invention\", \"banking\", \"society\", \"band\", \"physician\", \"album\", \"colony\", \"chess\", \"drama\", \"bond\", \"design\", \"debt\", \"glasgow\", \"wood\", \"record\", \"theatre\", \"week\", \"recording\", \"exchange\", \"college\", \"sale\", \"game\", \"oil\", \"ballet\", \"club\", \"cambridge\", \"story\", \"title\", \"appearance\", \"fashion\", \"label\", \"debut\", \"school\", \"street\", \"manchester\", \"portrait\", \"woman\", \"competition\", \"season\", \"team\", \"life\", \"book\", \"studio\", \"film\", \"191524\", \"19982018\", \"anastassov\", \"andr\\u00e1s\", \"andr\\u00e1ssy\", \"antonijevi\\u0107\", \"aret\\u00e9\", \"arsen\", \"asbaek\", \"asociaci\\u00f3n\", \"autostrada\", \"avus\", \"bacci\", \"barnaby\", \"barockorchester\", \"barrott\", \"bassarid\", \"bencke\", \"bertolt\", \"besta\", \"bienniale\", \"blanquerna\", \"blumenau\", \"boninsegna\", \"bonn\", \"boyatino\", \"brandenburg\", \"burggraf\", \"buribayev\", \"busse\", \"tegel\", \"friedrich\", \"dada\", \"breaststroke\", \"daad\", \"prey\", \"magdeburg\", \"luftwaffe\", \"erfurt\", \"frankfurter\", \"macfarlane\", \"tempelhof\", \"wuppertal\", \"ruhrtriennale\", \"hansa\", \"archaeopteryx\", \"historische\", \"schmidt\", \"privatdozent\", \"boris\", \"heist\", \"rsc\", \"sanitation\", \"klindworth\", \"barth\", \"beyeler\", \"eisenach\", \"k\\u00fcnstler\", \"mitchell\", \"platz\", \"komische\", \"nazism\", \"staatliche\", \"oder\", \"grammophon\", \"berlin\", \"hitler\", \"potsdamer\", \"f\\u00fcr\", \"deutsche\", \"gropius\", \"oper\", \"k\\u00fcnste\", \"previn\", \"philharmonic\", \"berliner\", \"marathon\", \"athletic\", \"und\", \"der\", \"festival\", \"symphony\", \"orchestra\", \"hochschule\", \"film\", \"vienna\", \"opera\", \"stuttgart\", \"hamburg\", \"concerto\", \"conductor\", \"state\", \"staatsoper\", \"cologne\", \"debut\", \"album\", \"professor\", \"band\", \"music\", \"guest\", \"title\", \"record\", \"theater\", \"university\", \"recording\", \"game\", \"radio\", \"performance\", \"museum\", \"award\", \"world\", \"role\", \"director\", \"15706min\", \"16a\", \"189394\", \"1952\", \"23195min\", \"750hl\", \"83638min\", \"abbadia\", \"addelheid\", \"admirandus\", \"alva\", \"amaq\", \"andreas\", \"androscoggin\", \"anorthosis\", \"aranka\", \"arkel\", \"artaud\", \"asi\", \"async\", \"baffigi\", \"baga\", \"balletmaster\", \"baratino\", \"bari85\", \"baukontor\", \"bauwen\", \"bdp\", \"bean\", \"berlino\", \"moschino\", \"cascella\", \"breakaway\", \"adriatico\", \"amstel\", \"womenswear\", \"topshop\", \"gymn\\u00e1zium\", \"supermodel\", \"ricordi\", \"klein\", \"strehler\", \"cavellini\", \"lombardy\", \"chloe\", \"marant\", \"vicenza\", \"versace\", \"het\", \"bfc\", \"millico\", \"samale\", \"sempione\", \"piazzi\", \"gino\", \"wevelgem\", \"cisalpine\", \"mladenovi\\u0107\", \"dkny\", \"pasaj\\u0131\", \"armani\", \"balmain\", \"bastogne\", \"roubaix\", \"prada\", \"brera\", \"milan\", \"valentino\", \"gucci\", \"monza\", \"crossfit\", \"delevingne\", \"congestion\", \"piero\", \"fashion\", \"model\", \"flander\", \"runway\", \"modeling\", \"classification\", \"esposizione\", \"turin\", \"rider\", \"arcade\", \"week\", \"naple\", \"catwalk\", \"vogue\", \"opera\", \"li\\u00e8ge\", \"bazaar\", \"designer\", \"debut\", \"venice\", \"florence\", \"design\", \"management\", \"brand\", \"race\", \"season\", \"role\", \"campaign\", \"house\", \"agency\", \"stage\", \"teatro\", \"store\", \"vienna\", \"tour\", \"magazine\", \"team\", \"world\", \"festival\", \"company\", \"exhibition\", \"city\", \"year\", \"state\", \"title\", \"career\", \"work\", \"11\", \"adschib\", \"aek\", \"asmallworld\", \"assist\", \"asturia\", \"behemoth\", \"bernab\\u00e9u\", \"calcio\", \"casabella\", \"catenaccio\", \"cemsa\", \"conjuror\", \"dudi\\u0107\", \"esxence\", \"eurobasket\", \"euroleague\", \"fototeca\", \"galatasaray\", \"goalless\", \"gotischen\", \"herrera\", \"heyncke\", \"insularity\", \"interfaith\", \"interfilm\", \"kkup\", \"lanieri\", \"lehar\", \"lenawee\", \"coppa\", \"federer\", \"madrid\", \"atl\\u00e9tico\", \"olympiaco\", \"kak\\u00e1\", \"striker\", \"scorer\", \"midfielder\", \"carlist\", \"liga\", \"nou\", \"zidane\", \"psv\", \"ronaldo\", \"copa\", \"ballon\", \"shakhtar\", \"st\\u00e9fano\", \"figuere\", \"werder\", \"ajax\", \"cernuda\", \"goalscorer\", \"juventus\", \"21\", \"aggregate\", \"goal\", \"penalty\", \"semi\", \"champion\", \"inter\", \"trophy\", \"cup\", \"complutense\", \"league\", \"draw\", \"match\", \"final\", \"football\", \"nadal\", \"round\", \"real\", \"win\", \"club\", \"sevilla\", \"arsenal\", \"team\", \"season\", \"transfer\", \"player\", \"barcelona\", \"germain\", \"chelsea\", \"title\", \"stadium\", \"victory\", \"competition\", \"milan\", \"teatro\", \"eurovision\", \"game\", \"winner\", \"tournament\", \"aire\", \"time\", \"year\", \"minute\", \"record\", \"city\", \"opera\", \"appearance\", \"group\", \"place\", \"debut\", \"13964\", \"18461915\", \"19331934\", \"19331936\", \"193442\", \"198586\", \"1nh\", \"2014bischoff\", \"21er\", \"2lo\", \"3rrr\", \"6qr\", \"aachener\", \"abdolrashidi\", \"abendblatt\", \"abolishment\", \"abreise\", \"ackland\", \"acl\", \"adaption\", \"adat\", \"adenauer\", \"adiatomea\", \"adiego\", \"aeg\", \"aeoline\", \"aerolite\", \"aerosol\", \"afowler\", \"afropunk\", \"schulze\", \"buemi\", \"ufa\", \"menshevik\", \"helene\", \"meiningen\", \"docent\", \"steeplechase\", \"comintern\", \"moldavia\", \"clemen\", \"epex\", \"sanatorium\", \"tagore\", \"walden\", \"marlene\", \"trance\", \"bofinger\", \"gerresheim\", \"herwarth\", \"poncet\", \"pressburger\", \"schlemmer\", \"gurevich\", \"al\", \"g\\u00f6ttingen\", \"trepper\", \"widf\", \"ego\", \"lso\", \"coulondre\", \"adolf\", \"schnabel\", \"boysen\", \"ophthalmology\", \"zoology\", \"secession\", \"zeitung\", \"kant\", \"heidelberg\", \"jew\", \"bolshevik\", \"apparatus\", \"gymnasium\", \"reich\", \"eprix\", \"habilitation\", \"nazi\", \"doctorate\", \"lap\", \"bauhaus\", \"wilhelm\", \"philology\", \"berlin\", \"communist\", \"comrade\", \"concentration\", \"philosophy\", \"gestapo\", \"instructor\", \"study\", \"alliance\", \"camp\", \"piano\", \"physician\", \"medicine\", \"orchestre\", \"physics\", \"mathematic\", \"revolution\", \"teacher\", \"hochschule\", \"munich\", \"science\", \"party\", \"12911\", \"12ja\", \"1330\", \"1394ca\", \"1540\", \"162e\", \"167980\", \"17\", \"171920\", \"17841790\", \"181\", \"18141876\", \"18171903\", \"18278\", \"18413\", \"184th\", \"1852\", \"185258\", \"18551876\", \"185558\", \"187880\", \"18861889\", \"18981992\", \"18a\", \"190211\", \"19023\", \"190308\", \"190910\", \"191011\", \"191419\", \"bah\\u00e1\", \"thier\", \"necklace\", \"whistler\", \"musard\", \"wafd\", \"burrough\", \"kaleidoscope\", \"mather\", \"rayne\", \"cody\", \"jacobite\", \"pastry\", \"staunton\", \"thaly\", \"bonham\", \"trium\", \"crescent\", \"jed\", \"kaye\", \"maclean\", \"occultist\", \"philidor\", \"sargent\", \"sheen\", \"smyrna\", \"voke\", \"caziel\", \"cityjet\", \"claridge\", \"confederacy\", \"concorde\", \"swift\", \"qanta\", \"eurostar\", \"maud\", \"guineas\", \"plume\", \"vangeli\", \"slade\", \"hughe\", \"hooke\", \"com\\u00e9die\", \"container\", \"rocker\", \"baring\", \"massigli\", \"folkestone\", \"crowley\", \"bacon\", \"acad\\u00e9mie\", \"creed\", \"prosper\", \"exhibitor\", \"eurovision\", \"fran\\u00e7aise\", \"diamond\", \"messager\", \"brittany\", \"colarossi\", \"commune\", \"caf\\u00e9\", \"wear\", \"baptiste\", \"engine\", \"rothschild\", \"jewel\", \"couture\", \"salon\", \"pound\"], \"Freq\": [9960.0, 6750.0, 3866.0, 6202.0, 3668.0, 14470.0, 2867.0, 3798.0, 3003.0, 10098.0, 16063.0, 6155.0, 8262.0, 3000.0, 5990.0, 2732.0, 7238.0, 3954.0, 1878.0, 3497.0, 10899.0, 4896.0, 2300.0, 3762.0, 2482.0, 2220.0, 2961.0, 5508.0, 2466.0, 2359.0, 20.129039993820953, 22.14194399320305, 5.032259998455238, 10.064519996910477, 5.032259998455238, 11.070971996601525, 35.22581998918667, 79.50970797559278, 44.2838879864061, 11.070971996601525, 11.070971996601525, 20.129039993820953, 122.78714396230782, 11.070971996601525, 35.22581998918667, 1458.3489475523281, 45.290339986097145, 159.01941595118555, 22.14194399320305, 20.129039993820953, 11.070971996601525, 40.258079987641906, 335.1485158971189, 10.064519996910477, 11.070971996601525, 40.258079987641906, 266.70977991812765, 45.290339986097145, 61.39357198115391, 10.064519996910477, 3422.9432509492535, 1824.6974754398698, 15703.670551179419, 1385.8844035745726, 1263.097259612265, 1410.0392515671579, 2534.2461352220585, 1011.484259689503, 1236.9295076202977, 1136.2843076511929, 819.2519277485129, 1174.5294836394528, 1523.768327532246, 678.3486477917662, 996.3874796941374, 663.2518677964005, 967.200371703097, 2089.394351358615, 1174.5294836394528, 1760.2845474596425, 644.1292798022705, 720.6196317787902, 1287.2521076048502, 1040.6713676805434, 620.9808838093765, 528.3872998378, 619.9744318096855, 775.9744917617978, 1226.8649876233872, 10339.281392826133, 1098.039131662933, 791.0712717571635, 3386.7109789603755, 3064.6463390592403, 4142.556430728353, 1100.0520356623151, 13144.263115965085, 5547.563422297056, 1567.0457635189614, 2484.929987237197, 9070.145421215722, 2796.9301071414216, 1924.3362234092835, 3445.085194942457, 1799.5361754475935, 4062.0402707530693, 6955.589769864831, 4297.5500386807735, 4437.44686663783, 4199.924194710742, 2193.058907326793, 5820.311914213329, 2359.123487275816, 4579.356598594267, 3670.5304428732516, 3126.039911040394, 3206.556071015678, 4756.492150539892, 3128.0528150397768, 3104.904419046882, 2746.6075071568694, 3148.1818550335975, 2617.781651196415, 2705.3429751695367, 2990.168891082103, 3578.9433109013657, 4156.646758724028, 2769.7559031497635, 3175.356059025256, 11.128151316308033, 22.256302632616066, 11.128151316308033, 11.128151316308033, 11.128151316308033, 11.128151316308033, 11.128151316308033, 35.40775418825283, 11.128151316308033, 11.128151316308033, 22.256302632616066, 11.128151316308033, 11.128151316308033, 11.128151316308033, 11.128151316308033, 11.128151316308033, 22.256302632616066, 44.51260526523213, 11.128151316308033, 11.128151316308033, 11.128151316308033, 35.40775418825283, 11.128151316308033, 11.128151316308033, 35.40775418825283, 11.128151316308033, 11.128151316308033, 11.128151316308033, 11.128151316308033, 44.51260526523213, 108.24656280408723, 66.7689078978482, 63.7339575388551, 62.722307419190734, 61.710657299526375, 60.699007179862, 54.6291064618758, 48.559205743889606, 48.559205743889606, 48.559205743889606, 47.54755562422523, 47.54755562422523, 46.53590550456087, 45.5242553848965, 43.50095514556777, 43.50095514556777, 42.4893050259034, 41.47765490623904, 40.466004786574665, 40.466004786574665, 39.4543546669103, 39.4543546669103, 38.44270454724594, 38.44270454724594, 38.44270454724594, 37.431054427581564, 36.419404307917205, 36.419404307917205, 139.60771651368262, 67.78055801751258, 85.99026017147116, 81.9436596928137, 76.88540909449188, 58.67570694053327, 105.21161244509413, 95.09511124845046, 91.048510769793, 135.56111603502515, 112.2931632827447, 65.75725777818383, 121.398014359724, 681.8521806537832, 133.5378157956964, 211.43487500985265, 127.4679150777102, 114.31646352207343, 629.2463744312362, 239.76107836045492, 216.49312560817447, 188.1669222575722, 185.1319718985791, 102.17666208610103, 96.10676136811485, 201.31837381320895, 1757.2362578570048, 1167.4442380926791, 344.972690805549, 1278.7257512557596, 177.03877094126418, 202.33002393287333, 297.42513518132375, 131.51451555636766, 1121.9199827077828, 162.87566926596304, 370.2639437971582, 214.46982536884573, 852.8210508770611, 1260.516049101801, 1009.626819425038, 544.2677643794293, 341.93774044655595, 919.5899587749093, 334.85618960890537, 708.1550837650567, 284.27368362568706, 572.5939677300315, 974.2190652367851, 312.5998869762893, 444.114402532657, 767.8424408252544, 552.3609653367442, 920.6016088945737, 318.6697876942755, 624.1881238329144, 913.5200580569231, 438.04450181467075, 333.844539489241, 472.44060588325925, 535.16291330245, 433.99790133601334, 471.42895576359484, 443.1027524129926, 462.32410468661556, 462.32410468661556, 431.9746010966846, 465.3590550456087, 1.0142617294064888, 1.0142617294064888, 1.0142617294064888, 4.057046917625955, 1.0142617294064888, 1.0142617294064888, 3.0427851882194665, 1.0142617294064888, 1.0142617294064888, 3.0427851882194665, 1.0142617294064888, 3.0427851882194665, 1.0142617294064888, 1.0142617294064888, 8.11409383525191, 1.0142617294064888, 2.0285234588129777, 1.0142617294064888, 34.48489879982061, 1.0142617294064888, 1.0142617294064888, 1.0142617294064888, 4.057046917625955, 2.0285234588129777, 1.0142617294064888, 1.0142617294064888, 3.0427851882194665, 1.0142617294064888, 3.0427851882194665, 4.057046917625955, 49.69882474091795, 43.61325436447902, 38.54194571744657, 31.442113611601155, 28.399328423381686, 27.385066693975197, 23.328019776349244, 22.313758046942752, 21.299496317536263, 21.299496317536263, 21.299496317536263, 20.285234588129775, 20.285234588129775, 19.270972858723287, 16.22818767050382, 16.22818767050382, 16.22818767050382, 16.22818767050382, 15.213925941097331, 15.213925941097331, 14.199664211690843, 14.199664211690843, 14.199664211690843, 13.185402482284355, 13.185402482284355, 13.185402482284355, 13.185402482284355, 13.185402482284355, 13.185402482284355, 46.65603955269849, 78.09815316429963, 36.5134222586336, 34.48489879982061, 31.442113611601155, 42.59899263507253, 2316.5737899644205, 369.1912695039619, 30.427851882194663, 182.56711129316798, 716.068780960981, 61.86996549379581, 542.6300252324714, 66.94127414082827, 26.37080496456871, 382.37667198624627, 171.4102322696966, 444.24663748004207, 106.49748158768132, 135.9110717404695, 610.5855611027063, 2896.7314991849316, 513.2164350796833, 1034.5469639946186, 149.09647422275384, 2149.2206046123497, 979.7768306066682, 2655.3372075861876, 175.46727918732256, 208.9379162577367, 259.65100272806114, 466.5603955269848, 926.0209589481243, 227.1946273870535, 441.2038522918226, 759.6820353254601, 714.0402575021681, 683.6124056199734, 559.8724746323818, 1109.6023319706987, 440.18959056241613, 567.9865684676337, 467.5746572563913, 383.39093371565275, 657.2416006554047, 350.9345583746451, 441.2038522918226, 392.51928928031117, 562.9152598206012, 599.4286820792348, 442.2181140212291, 660.2843858436242, 536.5444548560325, 468.58891898579776, 1.0256372422901567, 2.0512744845803135, 1.0256372422901567, 1.0256372422901567, 1.0256372422901567, 2.0512744845803135, 1.0256372422901567, 1.0256372422901567, 1.0256372422901567, 1.0256372422901567, 2.0512744845803135, 1.0256372422901567, 1.0256372422901567, 2.0512744845803135, 1.0256372422901567, 1.0256372422901567, 1.0256372422901567, 4.102548969160627, 1.0256372422901567, 1.0256372422901567, 1.0256372422901567, 2.0512744845803135, 8.205097938321254, 1.0256372422901567, 1.0256372422901567, 1.0256372422901567, 2.0512744845803135, 2.0512744845803135, 5.128186211450784, 1.0256372422901567, 53.33313659908816, 26.66656829954408, 26.66656829954408, 25.640931057253923, 23.589656572673604, 23.589656572673604, 22.56401933038345, 21.538382088093293, 21.538382088093293, 20.512744845803137, 19.487107603512978, 19.487107603512978, 17.435833118932667, 16.410195876642508, 16.410195876642508, 16.410195876642508, 16.410195876642508, 138.46102770917116, 15.384558634352352, 15.384558634352352, 15.384558634352352, 15.384558634352352, 15.384558634352352, 14.358921392062195, 14.358921392062195, 14.358921392062195, 13.33328414977204, 13.33328414977204, 13.33328414977204, 13.33328414977204, 55.38441108366847, 52.307499356798, 52.307499356798, 75.89715592947161, 52.307499356798, 183.58906636993808, 2987.6812867912267, 71.79460696031099, 77.94843041405191, 29.74348002641455, 34.871666237865334, 25.640931057253923, 24.615293814963767, 29.74348002641455, 2130.2485522366555, 1139.4829761843641, 137.43539046688102, 259.4862222994097, 163.07632152413495, 74.87151868718145, 46.15367590305706, 186.66597809680854, 116.92264562107789, 111.7944594096271, 1011.2783208980946, 525.1262680525602, 87.17916559466333, 205.12744845803138, 2623.580065778221, 134.35847874001055, 78.97406765634207, 391.79342655483987, 650.2540116119594, 454.3572983345395, 471.79313145347214, 576.4081301670682, 329.22955477514034, 260.51185954169983, 380.5114168896482, 576.4081301670682, 702.5615109687574, 264.61440851086047, 576.4081301670682, 262.5631340262801, 445.12656315392803, 245.1273009073475, 283.07587887208325, 375.3832306781974, 461.5367590305705, 331.28082925972063, 356.9217603169746, 508.71607217591776, 494.3571507838556, 437.94710245789696, 438.9727397001871, 462.5623962728607, 524.1006308102701, 353.84484859010405, 334.3577409865911, 341.5372016826222, 357.9473975592647, 12.18245548918224, 3.04561387229556, 4.060818496394081, 1.0152046240985202, 32.486547971152646, 6.09122774459112, 3.04561387229556, 32.486547971152646, 4.060818496394081, 5.076023120492601, 2.0304092481970404, 1.0152046240985202, 4.060818496394081, 1.0152046240985202, 1.0152046240985202, 1.0152046240985202, 78.17075605558605, 3.04561387229556, 36.54736646754672, 23.34970635426596, 1.0152046240985202, 12.18245548918224, 6.09122774459112, 1.0152046240985202, 1.0152046240985202, 1.0152046240985202, 1.0152046240985202, 1.0152046240985202, 3.04561387229556, 1.0152046240985202, 65.98830056640381, 64.97309594230529, 63.95789131820677, 58.88186819771417, 56.851458949517124, 56.851458949517124, 47.714617332630446, 45.6842080844334, 44.66900346033489, 41.62338958803932, 40.60818496394081, 38.57777571574376, 37.56257109164524, 35.5321618434482, 28.425729474758562, 27.410524850660046, 26.395320226561523, 26.395320226561523, 26.395320226561523, 25.380115602463004, 24.36491097836448, 24.36491097836448, 24.36491097836448, 24.36491097836448, 22.334501730167446, 116.74853177132982, 107.61169015444314, 790.8444021727472, 162.43273985576323, 126.90057801231501, 879.1672044693184, 193.90408320281733, 177.66080921724102, 405.0666450153095, 119.79414564362537, 861.9087258596436, 190.85846933052179, 838.5590195053776, 514.7087444179497, 338.0631398248072, 77.15555143148752, 471.05494558171335, 233.49706354265965, 427.401146745477, 1585.7496228418884, 100.5052577857535, 149.23507974248247, 1087.284152409515, 1239.564846024293, 194.91928782691585, 507.60231204926004, 195.93449245101436, 205.07133406790106, 163.44794447986175, 790.8444021727472, 241.6187005354478, 315.72863809463973, 528.9216091553291, 800.9964484137324, 309.63741035004864, 234.51226816675816, 427.401146745477, 246.6947236559404, 271.05963463430487, 329.941502832019, 621.3052299482943, 653.791777919447, 271.05963463430487, 346.1847768175954, 509.63272129745707, 522.8303814107379, 285.27249937168415, 326.8958889597235, 303.5461826054575, 280.19647625119154, 1.020887829393107, 3.062663488179321, 4.083551317572428, 1.020887829393107, 1.020887829393107, 4.083551317572428, 1.020887829393107, 3.062663488179321, 1.020887829393107, 1.020887829393107, 1.020887829393107, 1.020887829393107, 1.020887829393107, 1.020887829393107, 3.062663488179321, 3.062663488179321, 1.020887829393107, 4.083551317572428, 1.020887829393107, 9.187990464537963, 1.020887829393107, 7.146214805751749, 1.020887829393107, 1.020887829393107, 5.104439146965535, 1.020887829393107, 1.020887829393107, 3.062663488179321, 1.020887829393107, 7.146214805751749, 36.75196185815185, 32.66841054057942, 30.62663488179321, 24.50130790543457, 23.48042007604146, 22.459532246648354, 21.438644417255247, 21.438644417255247, 21.438644417255247, 19.39686875846903, 18.375980929075926, 18.375980929075926, 17.35509309968282, 17.35509309968282, 17.35509309968282, 16.33420527028971, 16.33420527028971, 15.313317440896604, 15.313317440896604, 15.313317440896604, 15.313317440896604, 15.313317440896604, 15.313317440896604, 15.313317440896604, 14.292429611503499, 13.27154178211039, 13.27154178211039, 13.27154178211039, 12.250653952717284, 12.250653952717284, 64.31593325176574, 22.459532246648354, 34.71018619936564, 20.41775658786214, 36.75196185815185, 33.689298369972526, 74.5248115456968, 23.48042007604146, 26.54308356422078, 40.83551317572428, 43.8981766639036, 60.23238193419331, 42.877288834510495, 94.94256813355895, 76.56658720448301, 30.62663488179321, 65.33682108115885, 152.11228657957292, 204.17756587862138, 53.08616712844156, 38.79373751693806, 106.17233425688312, 65.33682108115885, 468.58751369143613, 64.31593325176574, 39.81462534633118, 64.31593325176574, 147.0078474326074, 46.96084015208292, 54.10705495783467, 270.53527478917334, 90.85901681598652, 95.96345596295205, 137.81985696806944, 85.75457766902099, 93.92168030416585, 59.21149410480021, 56.148830616620884, 57.169718446013995, 71.46214805751748, 75.54569937508991, 54.10705495783467, 55.12794278722778, 54.10705495783467, 53.08616712844156, 0.9946502932432789, 0.9946502932432789, 1.9893005864865578, 0.9946502932432789, 2.9839508797298366, 0.9946502932432789, 0.9946502932432789, 0.9946502932432789, 0.9946502932432789, 0.9946502932432789, 0.9946502932432789, 0.9946502932432789, 0.9946502932432789, 0.9946502932432789, 0.9946502932432789, 2.9839508797298366, 0.9946502932432789, 0.9946502932432789, 0.9946502932432789, 0.9946502932432789, 0.9946502932432789, 0.9946502932432789, 0.9946502932432789, 0.9946502932432789, 0.9946502932432789, 0.9946502932432789, 0.9946502932432789, 0.9946502932432789, 0.9946502932432789, 0.9946502932432789, 33.818109970271486, 33.818109970271486, 23.871607037838693, 22.876956744595415, 16.909054985135743, 16.909054985135743, 15.914404691892463, 14.919754398649184, 14.919754398649184, 14.919754398649184, 13.925104105405904, 13.925104105405904, 13.925104105405904, 13.925104105405904, 13.925104105405904, 12.930453812162625, 12.930453812162625, 11.935803518919347, 11.935803518919347, 11.935803518919347, 11.935803518919347, 11.935803518919347, 11.935803518919347, 11.935803518919347, 11.935803518919347, 11.935803518919347, 11.935803518919347, 10.941153225676068, 10.941153225676068, 10.941153225676068, 28.84485850405509, 35.80741055675804, 31.828809383784925, 19.89300586486558, 107.42223167027412, 29.839508797298368, 18.8983555716223, 18.8983555716223, 23.871607037838693, 34.81276026351476, 29.839508797298368, 23.871607037838693, 48.73786436892066, 28.84485850405509, 18.8983555716223, 17.90370527837902, 24.86625733108197, 26.85555791756853, 30.834159090541647, 36.80206085000132, 129.30453812162625, 22.876956744595415, 23.871607037838693, 38.791361436487875, 123.33663636216659, 49.73251466216394, 55.700416421623615, 36.80206085000132, 34.81276026351476, 27.850208210811807, 38.791361436487875, 52.71646554189378, 27.850208210811807, 33.818109970271486, 40.78066202297444, 31.828809383784925, 27.850208210811807, 32.823459677028204, 41.775312316217715, 27.850208210811807], \"Total\": [9960.0, 6750.0, 3866.0, 6202.0, 3668.0, 14470.0, 2867.0, 3798.0, 3003.0, 10098.0, 16063.0, 6155.0, 8262.0, 3000.0, 5990.0, 2732.0, 7238.0, 3954.0, 1878.0, 3497.0, 10899.0, 4896.0, 2300.0, 3762.0, 2482.0, 2220.0, 2961.0, 5508.0, 2466.0, 2359.0, 20.129039993820953, 22.14194399320305, 5.032259998455238, 10.064519996910477, 5.032259998455238, 11.070971996601525, 35.22581998918667, 79.50970797559278, 44.2838879864061, 11.070971996601525, 11.070971996601525, 20.129039993820953, 122.78714396230782, 11.070971996601525, 35.22581998918667, 1458.3489475523281, 45.290339986097145, 159.01941595118555, 22.14194399320305, 20.129039993820953, 11.070971996601525, 40.258079987641906, 335.1485158971189, 10.064519996910477, 11.070971996601525, 40.258079987641906, 266.70977991812765, 45.290339986097145, 61.39357198115391, 10.064519996910477, 3429.0131516672395, 1824.6974754398698, 16063.25312667449, 1386.9100408168629, 1263.097259612265, 1414.0858520458153, 2557.5584853399546, 1011.484259689503, 1239.971566988159, 1139.3612193780634, 819.2519277485129, 1179.6339227864182, 1535.95483245111, 678.3486477917662, 1000.490028663298, 663.2518677964005, 971.2469721817545, 2114.773524066386, 1182.6226845967676, 1780.7023040475046, 645.143541531677, 722.6481552376032, 1298.4868842571368, 1047.752918518194, 621.9925339290409, 528.3872998378, 620.988693539092, 779.0514034886683, 1238.0009737689215, 10899.06687453729, 1109.2272477643999, 795.1283186747894, 3507.694212182737, 3194.5925309438508, 4374.705038475306, 1115.2450687254754, 14470.209009480985, 5990.5827624759, 1608.6568954760044, 2601.4658654202303, 10098.98161839097, 2959.4273892722977, 1998.7630584832937, 3720.520038071858, 1866.096384225153, 4460.693990703138, 8262.491258139291, 4896.978720760008, 5131.799980442817, 4832.299055764313, 2352.8163756330623, 7238.037505137008, 2569.5595043801673, 5508.090582592286, 4307.803770868786, 3642.547551508978, 3798.612314026708, 6155.985373542238, 3765.277157901199, 3762.146019702287, 3210.370014437884, 3929.2961364238286, 3050.567575442323, 3282.3870953121605, 3984.229601048722, 6202.753705739936, 9960.383714085663, 3497.2890309983986, 6750.1967459558755, 11.128151316308033, 22.256302632616066, 11.128151316308033, 11.128151316308033, 11.128151316308033, 11.128151316308033, 11.128151316308033, 35.40775418825283, 11.128151316308033, 11.128151316308033, 22.256302632616066, 11.128151316308033, 11.128151316308033, 11.128151316308033, 11.128151316308033, 11.128151316308033, 22.256302632616066, 44.51260526523213, 11.128151316308033, 11.128151316308033, 11.128151316308033, 35.40775418825283, 11.128151316308033, 11.128151316308033, 35.40775418825283, 11.128151316308033, 11.128151316308033, 11.128151316308033, 11.128151316308033, 44.51260526523213, 108.24656280408723, 66.7689078978482, 63.7339575388551, 62.722307419190734, 61.710657299526375, 60.699007179862, 54.6291064618758, 48.559205743889606, 48.559205743889606, 48.559205743889606, 47.54755562422523, 47.54755562422523, 46.53590550456087, 45.5242553848965, 43.50095514556777, 43.50095514556777, 42.4893050259034, 41.47765490623904, 40.466004786574665, 40.466004786574665, 39.4543546669103, 39.4543546669103, 38.44270454724594, 38.44270454724594, 38.44270454724594, 37.431054427581564, 36.419404307917205, 36.419404307917205, 142.65333038597817, 68.79481974691906, 88.03203583025737, 83.9731260463187, 78.89831309387397, 59.701344182823426, 110.23207073710161, 99.13254672991322, 95.13681150026248, 145.71316227601037, 119.39959565143434, 67.79240733698342, 131.60689265365508, 863.3867952655444, 146.74496563247675, 242.03430247999435, 139.63905583058806, 124.44857724325945, 834.1098734551477, 285.685236663296, 255.96625471223373, 220.67875990052707, 216.92672640957397, 111.30596054545146, 104.26635725490142, 243.08813096145923, 3000.049286014741, 1871.0030608689174, 457.0609105799455, 2174.465210569454, 215.283946929524, 254.3453257378642, 410.3067791644955, 151.83204798861138, 2092.9067745666325, 197.4343569580793, 552.1619589019881, 288.55813992635865, 1811.19533611396, 3151.125599551851, 2482.630893770785, 1073.7545918434705, 575.6684679907985, 2406.1964759860125, 574.575609697986, 1748.9573402374378, 456.1537585321603, 1321.1184828618534, 3003.711120826314, 537.819655878937, 980.3356490695539, 2466.063412450682, 1460.2822636997794, 3668.5317047676613, 590.6766304423155, 2319.425086168491, 5508.090582592286, 1217.0251120207079, 670.3289468097652, 1571.3036933231324, 2485.8068018470585, 1552.7024156778737, 2732.7160722372537, 2300.113189007923, 2885.749886414332, 2964.416291665005, 2252.554426485561, 6202.753705739936, 1.0142617294064888, 1.0142617294064888, 1.0142617294064888, 4.057046917625955, 1.0142617294064888, 1.0142617294064888, 3.0427851882194665, 1.0142617294064888, 1.0142617294064888, 3.0427851882194665, 1.0142617294064888, 3.0427851882194665, 1.0142617294064888, 1.0142617294064888, 8.11409383525191, 1.0142617294064888, 2.0285234588129777, 1.0142617294064888, 34.48489879982061, 1.0142617294064888, 1.0142617294064888, 1.0142617294064888, 4.057046917625955, 2.0285234588129777, 1.0142617294064888, 1.0142617294064888, 3.0427851882194665, 1.0142617294064888, 3.0427851882194665, 4.057046917625955, 49.69882474091795, 43.61325436447902, 38.54194571744657, 31.442113611601155, 28.399328423381686, 27.385066693975197, 23.328019776349244, 22.313758046942752, 21.299496317536263, 21.299496317536263, 21.299496317536263, 20.285234588129775, 20.285234588129775, 19.270972858723287, 16.22818767050382, 16.22818767050382, 16.22818767050382, 16.22818767050382, 15.213925941097331, 15.213925941097331, 14.199664211690843, 14.199664211690843, 14.199664211690843, 13.185402482284355, 13.185402482284355, 13.185402482284355, 13.185402482284355, 13.185402482284355, 13.185402482284355, 47.66249155238953, 82.12396116306383, 37.50807255187688, 35.500103423919136, 32.43676390484443, 44.629401883269566, 2867.1392547117275, 427.9501158320538, 31.44873971158777, 208.02501484782374, 908.9301771327193, 67.9086774919421, 708.1364361555954, 75.13593946095789, 27.396442206858865, 512.5435163790897, 215.69412025610268, 628.4259479570026, 129.64587758057542, 176.53991146959123, 1002.29944488854, 6750.1967459558755, 886.5365570567094, 2220.2744434178535, 220.37669963484345, 6202.753705739936, 2359.278023466805, 9960.383714085663, 295.27837463966347, 373.62555956205443, 511.19762716823624, 1122.4233114322883, 2961.180260653501, 435.6246732010578, 1084.9628169557736, 2319.425086168491, 2174.465210569454, 2462.093087054575, 1871.0030608689174, 6155.985373542238, 1417.8800032021393, 2466.063412450682, 1811.19533611396, 1259.5204447666454, 3762.146019702287, 1073.7545918434705, 1748.9573402374378, 1508.7478946164113, 3984.229601048722, 4896.978720760008, 2130.383249155543, 7238.037505137008, 3954.102287258422, 2810.499710733868, 1.0256372422901567, 2.0512744845803135, 1.0256372422901567, 1.0256372422901567, 1.0256372422901567, 2.0512744845803135, 1.0256372422901567, 1.0256372422901567, 1.0256372422901567, 1.0256372422901567, 2.0512744845803135, 1.0256372422901567, 1.0256372422901567, 2.0512744845803135, 1.0256372422901567, 1.0256372422901567, 1.0256372422901567, 4.102548969160627, 1.0256372422901567, 1.0256372422901567, 1.0256372422901567, 2.0512744845803135, 8.205097938321254, 1.0256372422901567, 1.0256372422901567, 1.0256372422901567, 2.0512744845803135, 2.0512744845803135, 5.128186211450784, 1.0256372422901567, 53.33313659908816, 26.66656829954408, 26.66656829954408, 25.640931057253923, 23.589656572673604, 23.589656572673604, 22.56401933038345, 21.538382088093293, 21.538382088093293, 20.512744845803137, 19.487107603512978, 19.487107603512978, 17.435833118932667, 16.410195876642508, 16.410195876642508, 16.410195876642508, 16.410195876642508, 141.48608725061146, 15.384558634352352, 15.384558634352352, 15.384558634352352, 15.384558634352352, 15.384558634352352, 14.358921392062195, 14.358921392062195, 14.358921392062195, 13.33328414977204, 13.33328414977204, 13.33328414977204, 13.33328414977204, 56.39086308335951, 53.32176108620449, 53.32270398089652, 78.94276980176717, 54.31641137944777, 202.87041107027372, 3866.7758883692586, 76.85285755863282, 84.0105465018336, 30.758684650513068, 36.86096682435189, 26.65258117691829, 25.629555544370255, 31.764193755512085, 3668.5317047676613, 1878.8414525474839, 174.97126883545928, 359.13016838879673, 217.48599787830383, 91.10275211609533, 53.22674138965597, 277.9072664445353, 163.26320072890346, 156.31630238458797, 2482.630893770785, 1150.9846065631612, 122.6217419209707, 362.8453697483316, 9960.383714085663, 218.9629245517821, 110.33783297567956, 1069.739429008735, 2319.425086168491, 1412.4851371960401, 1519.8245710613814, 2092.9067745666325, 916.3270474747615, 672.8767240975782, 1235.3903864178724, 2732.7160722372537, 3954.102287258422, 800.2216304685519, 3497.2890309983986, 844.2923898477056, 2357.267960309497, 789.7610432910839, 1088.464999319541, 2359.278023466805, 3929.2961364238286, 1827.7049897683419, 2300.113189007923, 7238.037505137008, 6750.1967459558755, 5131.799980442817, 5990.5827624759, 8262.491258139291, 14470.209009480985, 2961.180260653501, 2466.063412450682, 3282.3870953121605, 10899.06687453729, 12.18245548918224, 3.04561387229556, 4.060818496394081, 1.0152046240985202, 32.486547971152646, 6.09122774459112, 3.04561387229556, 32.486547971152646, 4.060818496394081, 5.076023120492601, 2.0304092481970404, 1.0152046240985202, 4.060818496394081, 1.0152046240985202, 1.0152046240985202, 1.0152046240985202, 78.17075605558605, 3.04561387229556, 36.54736646754672, 23.34970635426596, 1.0152046240985202, 12.18245548918224, 6.09122774459112, 1.0152046240985202, 1.0152046240985202, 1.0152046240985202, 1.0152046240985202, 1.0152046240985202, 3.04561387229556, 1.0152046240985202, 65.98830056640381, 64.97309594230529, 63.95789131820677, 58.88186819771417, 56.851458949517124, 56.851458949517124, 47.714617332630446, 45.6842080844334, 44.66900346033489, 41.62338958803932, 40.60818496394081, 38.57777571574376, 37.56257109164524, 35.5321618434482, 28.425729474758562, 27.410524850660046, 26.395320226561523, 26.395320226561523, 26.395320226561523, 25.380115602463004, 24.36491097836448, 24.36491097836448, 24.36491097836448, 24.36491097836448, 22.334501730167446, 118.78843074302647, 110.65447534266261, 918.2548053169938, 176.65040568032435, 137.04319530637989, 1057.2974525167651, 215.44246529091063, 196.9187240272537, 503.6991848913596, 139.00264066462512, 1226.997935746981, 234.63637970685983, 1227.0246731489303, 712.6107460916552, 459.1518740438034, 86.24340268204574, 699.3265869161914, 310.5653355181219, 637.5581988416415, 3003.711120826314, 119.78593195526355, 196.77279058569823, 2300.113189007923, 2732.7160722372537, 274.2815617661577, 922.5218890864726, 277.3228549951823, 297.28572502687456, 226.42724332580093, 2466.063412450682, 448.73646797799387, 677.1555415578346, 1552.7024156778737, 3866.7758883692586, 789.7610432910839, 488.2270150862684, 1748.9573402374378, 579.0580156596692, 767.2404704819915, 1383.283814266379, 10098.98161839097, 14470.209009480985, 787.9797209724359, 1811.19533611396, 8262.491258139291, 9960.383714085663, 1460.2822636997794, 3765.277157901199, 3193.372247880762, 2319.425086168491, 1.020887829393107, 3.062663488179321, 4.083551317572428, 1.020887829393107, 1.020887829393107, 4.083551317572428, 1.020887829393107, 3.062663488179321, 1.020887829393107, 1.020887829393107, 1.020887829393107, 1.020887829393107, 1.020887829393107, 1.020887829393107, 3.062663488179321, 3.062663488179321, 1.020887829393107, 4.083551317572428, 1.020887829393107, 9.187990464537963, 1.020887829393107, 7.146214805751749, 1.020887829393107, 1.020887829393107, 5.104439146965535, 1.020887829393107, 1.020887829393107, 3.062663488179321, 1.020887829393107, 7.146214805751749, 36.75196185815185, 32.66841054057942, 30.62663488179321, 24.50130790543457, 23.48042007604146, 22.459532246648354, 21.438644417255247, 21.438644417255247, 21.438644417255247, 19.39686875846903, 18.375980929075926, 18.375980929075926, 17.35509309968282, 17.35509309968282, 17.35509309968282, 16.33420527028971, 16.33420527028971, 15.313317440896604, 15.313317440896604, 15.313317440896604, 15.313317440896604, 15.313317440896604, 15.313317440896604, 15.313317440896604, 14.292429611503499, 13.27154178211039, 13.27154178211039, 13.27154178211039, 12.250653952717284, 12.250653952717284, 72.37136700227724, 23.465984246339403, 38.73599419812983, 21.42420858755319, 41.76937106811902, 38.721558368427765, 101.944004778323, 25.498522195396877, 29.60600816846546, 49.96386874038268, 56.07288319994969, 83.35717451419188, 55.07050244977671, 154.0655117741107, 119.21821345742666, 36.71220525823214, 101.84502012030819, 339.47952579827836, 564.0276108484063, 82.5235467228645, 53.02491665753779, 259.0093972283713, 123.77715843019703, 2867.1392547117275, 140.82190468771626, 61.95656933953423, 156.0904987368217, 715.3886995813252, 94.34999116443203, 127.75071811867312, 3798.612314026708, 410.12149711103064, 484.3029158712242, 1374.7959706481302, 457.0609105799455, 742.5971322917728, 216.24924497546544, 229.64125131953773, 268.72344740718825, 714.1994601907068, 1024.680303763813, 220.37669963484345, 601.2580938629214, 1693.4670679196856, 1355.4256365228007, 0.9946502932432789, 0.9946502932432789, 1.9893005864865578, 0.9946502932432789, 2.9839508797298366, 0.9946502932432789, 0.9946502932432789, 0.9946502932432789, 0.9946502932432789, 0.9946502932432789, 0.9946502932432789, 0.9946502932432789, 0.9946502932432789, 0.9946502932432789, 0.9946502932432789, 2.9839508797298366, 0.9946502932432789, 0.9946502932432789, 0.9946502932432789, 0.9946502932432789, 0.9946502932432789, 0.9946502932432789, 0.9946502932432789, 0.9946502932432789, 0.9946502932432789, 0.9946502932432789, 0.9946502932432789, 0.9946502932432789, 0.9946502932432789, 0.9946502932432789, 33.818109970271486, 33.818109970271486, 23.871607037838693, 22.876956744595415, 16.909054985135743, 16.909054985135743, 15.914404691892463, 14.919754398649184, 14.919754398649184, 14.919754398649184, 13.925104105405904, 13.925104105405904, 13.925104105405904, 13.925104105405904, 13.925104105405904, 12.930453812162625, 12.930453812162625, 11.935803518919347, 11.935803518919347, 11.935803518919347, 11.935803518919347, 11.935803518919347, 11.935803518919347, 11.935803518919347, 11.935803518919347, 11.935803518919347, 11.935803518919347, 10.941153225676068, 10.941153225676068, 10.941153225676068, 29.859120233461578, 37.82906718054761, 33.85472123285578, 20.899457864556627, 134.73073236012615, 32.88229398551783, 19.910005691286667, 19.91261730102879, 25.922881522419008, 39.88003075959989, 34.938264738969316, 26.948518764709164, 66.13570218467693, 34.92733362423874, 20.921655810951034, 19.938854837178617, 31.99399671737624, 35.944814634627875, 43.985610646178415, 57.955058092328265, 406.7490250411849, 29.030780198336355, 31.05106773386979, 68.9849214272193, 488.2270150862684, 122.19705863991939, 160.52490633028546, 77.77055758684298, 70.03858025270142, 45.02331293797518, 121.4607746504334, 291.5938635068845, 51.3801144932596, 110.32289777649316, 264.2130059543871, 113.46058187819949, 57.04512593156763, 143.71621268449718, 603.5280308116783, 185.78377104922598], \"Category\": [\"Default\", \"Default\", \"Default\", \"Default\", \"Default\", \"Default\", \"Default\", \"Default\", \"Default\", \"Default\", \"Default\", \"Default\", \"Default\", \"Default\", \"Default\", \"Default\", \"Default\", \"Default\", \"Default\", \"Default\", \"Default\", \"Default\", \"Default\", \"Default\", \"Default\", \"Default\", \"Default\", \"Default\", \"Default\", \"Default\", \"Topic1\", \"Topic1\", \"Topic1\", \"Topic1\", \"Topic1\", \"Topic1\", \"Topic1\", \"Topic1\", \"Topic1\", \"Topic1\", \"Topic1\", \"Topic1\", \"Topic1\", \"Topic1\", \"Topic1\", \"Topic1\", \"Topic1\", \"Topic1\", \"Topic1\", \"Topic1\", \"Topic1\", \"Topic1\", \"Topic1\", \"Topic1\", \"Topic1\", \"Topic1\", \"Topic1\", \"Topic1\", \"Topic1\", \"Topic1\", \"Topic1\", \"Topic1\", \"Topic1\", \"Topic1\", \"Topic1\", \"Topic1\", \"Topic1\", \"Topic1\", \"Topic1\", \"Topic1\", \"Topic1\", \"Topic1\", \"Topic1\", \"Topic1\", \"Topic1\", \"Topic1\", \"Topic1\", \"Topic1\", \"Topic1\", \"Topic1\", \"Topic1\", \"Topic1\", \"Topic1\", \"Topic1\", \"Topic1\", \"Topic1\", \"Topic1\", \"Topic1\", \"Topic1\", \"Topic1\", \"Topic1\", \"Topic1\", \"Topic1\", \"Topic1\", \"Topic1\", \"Topic1\", \"Topic1\", \"Topic1\", \"Topic1\", \"Topic1\", \"Topic1\", \"Topic1\", \"Topic1\", \"Topic1\", \"Topic1\", \"Topic1\", \"Topic1\", \"Topic1\", \"Topic1\", \"Topic1\", \"Topic1\", \"Topic1\", \"Topic1\", \"Topic1\", \"Topic1\", \"Topic1\", \"Topic1\", \"Topic1\", \"Topic1\", \"Topic1\", \"Topic1\", \"Topic1\", \"Topic1\", \"Topic1\", \"Topic1\", \"Topic1\", \"Topic1\", \"Topic1\", \"Topic1\", \"Topic2\", \"Topic2\", \"Topic2\", \"Topic2\", \"Topic2\", \"Topic2\", \"Topic2\", \"Topic2\", \"Topic2\", \"Topic2\", \"Topic2\", \"Topic2\", \"Topic2\", \"Topic2\", \"Topic2\", \"Topic2\", \"Topic2\", \"Topic2\", \"Topic2\", \"Topic2\", \"Topic2\", \"Topic2\", \"Topic2\", \"Topic2\", \"Topic2\", \"Topic2\", \"Topic2\", \"Topic2\", \"Topic2\", \"Topic2\", \"Topic2\", \"Topic2\", \"Topic2\", \"Topic2\", \"Topic2\", \"Topic2\", \"Topic2\", \"Topic2\", \"Topic2\", \"Topic2\", \"Topic2\", \"Topic2\", \"Topic2\", \"Topic2\", \"Topic2\", \"Topic2\", \"Topic2\", \"Topic2\", \"Topic2\", \"Topic2\", \"Topic2\", \"Topic2\", \"Topic2\", \"Topic2\", \"Topic2\", \"Topic2\", \"Topic2\", \"Topic2\", \"Topic2\", \"Topic2\", \"Topic2\", \"Topic2\", \"Topic2\", \"Topic2\", \"Topic2\", \"Topic2\", \"Topic2\", \"Topic2\", \"Topic2\", \"Topic2\", \"Topic2\", \"Topic2\", \"Topic2\", \"Topic2\", \"Topic2\", \"Topic2\", \"Topic2\", \"Topic2\", \"Topic2\", \"Topic2\", \"Topic2\", \"Topic2\", \"Topic2\", \"Topic2\", \"Topic2\", \"Topic2\", \"Topic2\", \"Topic2\", \"Topic2\", \"Topic2\", \"Topic2\", \"Topic2\", \"Topic2\", \"Topic2\", \"Topic2\", \"Topic2\", \"Topic2\", \"Topic2\", \"Topic2\", \"Topic2\", \"Topic2\", \"Topic2\", \"Topic2\", \"Topic2\", \"Topic2\", \"Topic2\", \"Topic2\", \"Topic2\", \"Topic2\", \"Topic2\", \"Topic2\", \"Topic2\", \"Topic2\", \"Topic2\", \"Topic2\", \"Topic2\", \"Topic2\", \"Topic2\", \"Topic2\", \"Topic2\", \"Topic2\", \"Topic2\", \"Topic2\", \"Topic2\", \"Topic2\", \"Topic2\", \"Topic3\", \"Topic3\", \"Topic3\", \"Topic3\", \"Topic3\", \"Topic3\", \"Topic3\", \"Topic3\", \"Topic3\", \"Topic3\", \"Topic3\", \"Topic3\", \"Topic3\", \"Topic3\", \"Topic3\", \"Topic3\", \"Topic3\", \"Topic3\", \"Topic3\", \"Topic3\", \"Topic3\", \"Topic3\", \"Topic3\", \"Topic3\", \"Topic3\", \"Topic3\", \"Topic3\", \"Topic3\", \"Topic3\", \"Topic3\", \"Topic3\", \"Topic3\", \"Topic3\", \"Topic3\", \"Topic3\", \"Topic3\", \"Topic3\", \"Topic3\", \"Topic3\", \"Topic3\", \"Topic3\", \"Topic3\", \"Topic3\", \"Topic3\", \"Topic3\", \"Topic3\", \"Topic3\", \"Topic3\", \"Topic3\", \"Topic3\", \"Topic3\", \"Topic3\", \"Topic3\", \"Topic3\", \"Topic3\", \"Topic3\", \"Topic3\", \"Topic3\", \"Topic3\", \"Topic3\", \"Topic3\", \"Topic3\", \"Topic3\", \"Topic3\", \"Topic3\", \"Topic3\", \"Topic3\", \"Topic3\", \"Topic3\", \"Topic3\", \"Topic3\", \"Topic3\", \"Topic3\", \"Topic3\", \"Topic3\", \"Topic3\", \"Topic3\", \"Topic3\", \"Topic3\", \"Topic3\", \"Topic3\", \"Topic3\", \"Topic3\", \"Topic3\", \"Topic3\", \"Topic3\", \"Topic3\", \"Topic3\", \"Topic3\", \"Topic3\", \"Topic3\", \"Topic3\", \"Topic3\", \"Topic3\", \"Topic3\", \"Topic3\", \"Topic3\", \"Topic3\", \"Topic3\", \"Topic3\", \"Topic3\", \"Topic3\", \"Topic3\", \"Topic3\", \"Topic3\", \"Topic3\", \"Topic3\", \"Topic3\", \"Topic3\", \"Topic3\", \"Topic3\", \"Topic3\", \"Topic3\", \"Topic4\", \"Topic4\", \"Topic4\", \"Topic4\", \"Topic4\", \"Topic4\", \"Topic4\", \"Topic4\", \"Topic4\", \"Topic4\", \"Topic4\", \"Topic4\", \"Topic4\", \"Topic4\", \"Topic4\", \"Topic4\", \"Topic4\", \"Topic4\", \"Topic4\", \"Topic4\", \"Topic4\", \"Topic4\", \"Topic4\", \"Topic4\", \"Topic4\", \"Topic4\", \"Topic4\", \"Topic4\", \"Topic4\", \"Topic4\", \"Topic4\", \"Topic4\", \"Topic4\", \"Topic4\", \"Topic4\", \"Topic4\", \"Topic4\", \"Topic4\", \"Topic4\", \"Topic4\", \"Topic4\", \"Topic4\", \"Topic4\", \"Topic4\", \"Topic4\", \"Topic4\", \"Topic4\", \"Topic4\", \"Topic4\", \"Topic4\", \"Topic4\", \"Topic4\", \"Topic4\", \"Topic4\", \"Topic4\", \"Topic4\", \"Topic4\", \"Topic4\", \"Topic4\", \"Topic4\", \"Topic4\", \"Topic4\", \"Topic4\", \"Topic4\", \"Topic4\", \"Topic4\", \"Topic4\", \"Topic4\", \"Topic4\", \"Topic4\", \"Topic4\", \"Topic4\", \"Topic4\", \"Topic4\", \"Topic4\", \"Topic4\", \"Topic4\", \"Topic4\", \"Topic4\", \"Topic4\", \"Topic4\", \"Topic4\", \"Topic4\", \"Topic4\", \"Topic4\", \"Topic4\", \"Topic4\", \"Topic4\", \"Topic4\", \"Topic4\", \"Topic4\", \"Topic4\", \"Topic4\", \"Topic4\", \"Topic4\", \"Topic4\", \"Topic4\", \"Topic4\", \"Topic4\", \"Topic4\", \"Topic4\", \"Topic4\", \"Topic4\", \"Topic4\", \"Topic4\", \"Topic4\", \"Topic4\", \"Topic4\", \"Topic4\", \"Topic4\", \"Topic4\", \"Topic4\", \"Topic4\", \"Topic4\", \"Topic4\", \"Topic4\", \"Topic4\", \"Topic4\", \"Topic4\", \"Topic4\", \"Topic4\", \"Topic5\", \"Topic5\", \"Topic5\", \"Topic5\", \"Topic5\", \"Topic5\", \"Topic5\", \"Topic5\", \"Topic5\", \"Topic5\", \"Topic5\", \"Topic5\", \"Topic5\", \"Topic5\", \"Topic5\", \"Topic5\", \"Topic5\", \"Topic5\", \"Topic5\", \"Topic5\", \"Topic5\", \"Topic5\", \"Topic5\", \"Topic5\", \"Topic5\", \"Topic5\", \"Topic5\", \"Topic5\", \"Topic5\", \"Topic5\", \"Topic5\", \"Topic5\", \"Topic5\", \"Topic5\", \"Topic5\", \"Topic5\", \"Topic5\", \"Topic5\", \"Topic5\", \"Topic5\", \"Topic5\", \"Topic5\", \"Topic5\", \"Topic5\", \"Topic5\", \"Topic5\", \"Topic5\", \"Topic5\", \"Topic5\", \"Topic5\", \"Topic5\", \"Topic5\", \"Topic5\", \"Topic5\", \"Topic5\", \"Topic5\", \"Topic5\", \"Topic5\", \"Topic5\", \"Topic5\", \"Topic5\", \"Topic5\", \"Topic5\", \"Topic5\", \"Topic5\", \"Topic5\", \"Topic5\", \"Topic5\", \"Topic5\", \"Topic5\", \"Topic5\", \"Topic5\", \"Topic5\", \"Topic5\", \"Topic5\", \"Topic5\", \"Topic5\", \"Topic5\", \"Topic5\", \"Topic5\", \"Topic5\", \"Topic5\", \"Topic5\", \"Topic5\", \"Topic5\", \"Topic5\", \"Topic5\", \"Topic5\", \"Topic5\", \"Topic5\", \"Topic5\", \"Topic5\", \"Topic5\", \"Topic5\", \"Topic5\", \"Topic5\", \"Topic5\", \"Topic5\", \"Topic5\", \"Topic5\", \"Topic5\", \"Topic5\", \"Topic5\", \"Topic5\", \"Topic5\", \"Topic6\", \"Topic6\", \"Topic6\", \"Topic6\", \"Topic6\", \"Topic6\", \"Topic6\", \"Topic6\", \"Topic6\", \"Topic6\", \"Topic6\", \"Topic6\", \"Topic6\", \"Topic6\", \"Topic6\", \"Topic6\", \"Topic6\", \"Topic6\", \"Topic6\", \"Topic6\", \"Topic6\", \"Topic6\", \"Topic6\", \"Topic6\", \"Topic6\", \"Topic6\", \"Topic6\", \"Topic6\", \"Topic6\", \"Topic6\", \"Topic6\", \"Topic6\", \"Topic6\", \"Topic6\", \"Topic6\", \"Topic6\", \"Topic6\", \"Topic6\", \"Topic6\", \"Topic6\", \"Topic6\", \"Topic6\", \"Topic6\", \"Topic6\", \"Topic6\", \"Topic6\", \"Topic6\", \"Topic6\", \"Topic6\", \"Topic6\", \"Topic6\", \"Topic6\", \"Topic6\", \"Topic6\", \"Topic6\", \"Topic6\", \"Topic6\", \"Topic6\", \"Topic6\", \"Topic6\", \"Topic6\", \"Topic6\", \"Topic6\", \"Topic6\", \"Topic6\", \"Topic6\", \"Topic6\", \"Topic6\", \"Topic6\", \"Topic6\", \"Topic6\", \"Topic6\", \"Topic6\", \"Topic6\", \"Topic6\", \"Topic6\", \"Topic6\", \"Topic6\", \"Topic6\", \"Topic6\", \"Topic6\", \"Topic6\", \"Topic6\", \"Topic6\", \"Topic6\", \"Topic6\", \"Topic6\", \"Topic6\", \"Topic6\", \"Topic6\", \"Topic6\", \"Topic6\", \"Topic6\", \"Topic6\", \"Topic6\", \"Topic6\", \"Topic6\", \"Topic6\", \"Topic6\", \"Topic6\", \"Topic6\", \"Topic6\", \"Topic6\", \"Topic6\", \"Topic6\", \"Topic7\", \"Topic7\", \"Topic7\", \"Topic7\", \"Topic7\", \"Topic7\", \"Topic7\", \"Topic7\", \"Topic7\", \"Topic7\", \"Topic7\", \"Topic7\", \"Topic7\", \"Topic7\", \"Topic7\", \"Topic7\", \"Topic7\", \"Topic7\", \"Topic7\", \"Topic7\", \"Topic7\", \"Topic7\", \"Topic7\", \"Topic7\", \"Topic7\", \"Topic7\", \"Topic7\", \"Topic7\", \"Topic7\", \"Topic7\", \"Topic7\", \"Topic7\", \"Topic7\", \"Topic7\", \"Topic7\", \"Topic7\", \"Topic7\", \"Topic7\", \"Topic7\", \"Topic7\", \"Topic7\", \"Topic7\", \"Topic7\", \"Topic7\", \"Topic7\", \"Topic7\", \"Topic7\", \"Topic7\", \"Topic7\", \"Topic7\", \"Topic7\", \"Topic7\", \"Topic7\", \"Topic7\", \"Topic7\", \"Topic7\", \"Topic7\", \"Topic7\", \"Topic7\", \"Topic7\", \"Topic7\", \"Topic7\", \"Topic7\", \"Topic7\", \"Topic7\", \"Topic7\", \"Topic7\", \"Topic7\", \"Topic7\", \"Topic7\", \"Topic7\", \"Topic7\", \"Topic7\", \"Topic7\", \"Topic7\", \"Topic7\", \"Topic7\", \"Topic7\", \"Topic7\", \"Topic7\", \"Topic7\", \"Topic7\", \"Topic7\", \"Topic7\", \"Topic7\", \"Topic7\", \"Topic7\", \"Topic7\", \"Topic7\", \"Topic7\", \"Topic7\", \"Topic7\", \"Topic7\", \"Topic7\", \"Topic7\", \"Topic7\", \"Topic7\", \"Topic7\", \"Topic7\", \"Topic7\"], \"logprob\": [30.0, 29.0, 28.0, 27.0, 26.0, 25.0, 24.0, 23.0, 22.0, 21.0, 20.0, 19.0, 18.0, 17.0, 16.0, 15.0, 14.0, 13.0, 12.0, 11.0, 10.0, 9.0, 8.0, 7.0, 6.0, 5.0, 4.0, 3.0, 2.0, 1.0, -10.5308, -10.4354, -11.917, -11.2239, -11.917, -11.1286, -9.9711, -9.157, -9.7423, -11.1286, -11.1286, -10.5308, -8.7225, -11.1286, -9.9711, -6.2479, -9.7198, -8.4639, -10.4354, -10.5308, -11.1286, -9.8376, -7.7183, -11.2239, -11.1286, -9.8376, -7.9468, -9.7198, -9.4156, -11.2239, -5.3947, -6.0237, -3.8713, -6.2988, -6.3916, -6.2815, -5.6953, -6.6137, -6.4125, -6.4974, -6.8245, -6.4643, -6.204, -7.0133, -6.6288, -7.0358, -6.6585, -5.8883, -6.4643, -6.0597, -7.065, -6.9528, -6.3726, -6.5853, -7.1016, -7.2631, -7.1032, -6.8788, -6.4207, -4.2892, -6.5316, -6.8595, -5.4053, -5.5052, -5.2038, -6.5298, -4.0492, -4.9118, -6.176, -5.7149, -4.4202, -5.5966, -5.9706, -5.3882, -6.0376, -5.2235, -4.6856, -5.1671, -5.1351, -5.1901, -5.8399, -4.8638, -5.7669, -5.1036, -5.3248, -5.4854, -5.46, -5.0656, -5.4847, -5.4922, -5.6148, -5.4783, -5.6628, -5.6299, -5.5298, -5.3501, -5.2005, -5.6064, -5.4697, -9.4968, -8.8037, -9.4968, -9.4968, -9.4968, -9.4968, -9.4968, -8.3394, -9.4968, -9.4968, -8.8037, -9.4968, -9.4968, -9.4968, -9.4968, -9.4968, -8.8037, -8.1105, -9.4968, -9.4968, -9.4968, -8.3394, -9.4968, -9.4968, -8.3394, -9.4968, -9.4968, -9.4968, -9.4968, -8.1105, -7.2219, -7.7051, -7.7516, -7.7676, -7.7839, -7.8004, -7.9057, -8.0235, -8.0235, -8.0235, -8.0446, -8.0446, -8.0661, -8.0881, -8.1335, -8.1335, -8.1571, -8.1812, -8.2059, -8.2059, -8.2312, -8.2312, -8.2571, -8.2571, -8.2571, -8.2838, -8.3112, -8.3112, -6.9675, -7.69, -7.4521, -7.5003, -7.564, -7.8343, -7.2503, -7.3514, -7.3949, -6.9969, -7.1852, -7.7203, -7.1072, -5.3815, -7.0119, -6.5524, -7.0585, -7.1673, -5.4618, -6.4267, -6.5288, -6.669, -6.6852, -7.2796, -7.3409, -6.6014, -4.4348, -4.8437, -6.0629, -4.7527, -6.7299, -6.5964, -6.2112, -7.0272, -4.8835, -6.8133, -5.9921, -6.5381, -5.1578, -4.767, -4.989, -5.6069, -6.0717, -5.0824, -6.0926, -5.3437, -6.2564, -5.5561, -5.0247, -6.1614, -5.8102, -5.2627, -5.5921, -5.0813, -6.1422, -5.4699, -5.089, -5.824, -6.0956, -5.7484, -5.6237, -5.8333, -5.7505, -5.8125, -5.77, -5.77, -5.8379, -5.7635, -11.6219, -11.6219, -11.6219, -10.2356, -11.6219, -11.6219, -10.5233, -11.6219, -11.6219, -10.5233, -11.6219, -10.5233, -11.6219, -11.6219, -9.5425, -11.6219, -10.9288, -11.6219, -8.0956, -11.6219, -11.6219, -11.6219, -10.2356, -10.9288, -11.6219, -11.6219, -10.5233, -11.6219, -10.5233, -10.2356, -7.7301, -7.8607, -7.9844, -8.188, -8.2897, -8.3261, -8.4864, -8.5309, -8.5774, -8.5774, -8.5774, -8.6262, -8.6262, -8.6775, -8.8494, -8.8494, -8.8494, -8.8494, -8.9139, -8.9139, -8.9829, -8.9829, -8.9829, -9.057, -9.057, -9.057, -9.057, -9.057, -9.057, -7.7933, -7.2781, -8.0384, -8.0956, -8.188, -7.8843, -3.8883, -5.7248, -8.2207, -6.429, -5.0623, -7.5111, -5.3397, -7.4323, -8.3638, -5.6897, -6.492, -5.5397, -6.968, -6.7241, -5.2217, -3.6648, -5.3954, -4.6944, -6.6315, -3.9632, -4.7488, -3.7518, -6.4686, -6.2941, -6.0768, -5.4907, -4.8052, -6.2103, -5.5466, -5.0032, -5.0652, -5.1087, -5.3084, -4.6243, -5.5489, -5.294, -5.4885, -5.687, -5.1481, -5.7755, -5.5466, -5.6635, -5.303, -5.2401, -5.5443, -5.1434, -5.351, -5.4864, -11.3376, -10.6445, -11.3376, -11.3376, -11.3376, -10.6445, -11.3376, -11.3376, -11.3376, -11.3376, -10.6445, -11.3376, -11.3376, -10.6445, -11.3376, -11.3376, -11.3376, -9.9513, -11.3376, -11.3376, -11.3376, -10.6445, -9.2582, -11.3376, -11.3376, -11.3376, -10.6445, -10.6445, -9.7282, -11.3376, -7.3864, -8.0795, -8.0795, -8.1187, -8.2021, -8.2021, -8.2466, -8.2931, -8.2931, -8.3419, -8.3932, -8.3932, -8.5044, -8.565, -8.565, -8.565, -8.565, -6.4323, -8.6296, -8.6296, -8.6296, -8.6296, -8.6296, -8.6986, -8.6986, -8.6986, -8.7727, -8.7727, -8.7727, -8.7727, -7.3486, -7.4058, -7.4058, -7.0336, -7.4058, -6.1502, -3.3607, -7.0891, -7.0069, -7.9703, -7.8113, -8.1187, -8.1596, -7.9703, -3.6989, -4.3246, -6.4398, -5.8042, -6.2687, -7.0472, -7.531, -6.1336, -6.6014, -6.6463, -4.444, -5.0993, -6.895, -6.0393, -3.4906, -6.4624, -6.9938, -5.3922, -4.8856, -5.244, -5.2064, -5.0061, -5.5662, -5.8003, -5.4214, -5.0061, -4.8082, -5.7847, -5.0061, -5.7924, -5.2646, -5.8612, -5.7172, -5.435, -5.2284, -5.56, -5.4854, -5.131, -5.1597, -5.2808, -5.2785, -5.2262, -5.1012, -5.4941, -5.5507, -5.5295, -5.4825, -8.7047, -10.091, -9.8033, -11.1896, -7.7239, -9.3979, -10.091, -7.7239, -9.8033, -9.5802, -10.4965, -11.1896, -9.8033, -11.1896, -11.1896, -11.1896, -6.8458, -10.091, -7.6061, -8.0541, -11.1896, -8.7047, -9.3979, -11.1896, -11.1896, -11.1896, -11.1896, -11.1896, -10.091, -11.1896, -7.0153, -7.0308, -7.0465, -7.1292, -7.1643, -7.1643, -7.3395, -7.383, -7.4055, -7.4761, -7.5008, -7.5521, -7.5787, -7.6343, -7.8574, -7.8938, -7.9315, -7.9315, -7.9315, -7.9708, -8.0116, -8.0116, -8.0116, -8.0116, -8.0986, -6.4447, -6.5262, -4.5316, -6.1145, -6.3613, -4.4258, -5.9374, -6.0249, -5.2007, -6.419, -4.4456, -5.9532, -4.473, -4.9611, -5.3815, -6.8589, -5.0498, -5.7516, -5.147, -3.8359, -6.5945, -6.1992, -4.2133, -4.0822, -5.9321, -4.975, -5.927, -5.8814, -6.1082, -4.5316, -5.7174, -5.4499, -4.9339, -4.5189, -5.4693, -5.7472, -5.147, -5.6966, -5.6024, -5.4058, -4.7729, -4.7219, -5.6024, -5.3578, -4.971, -4.9455, -5.5513, -5.4151, -5.4892, -5.5692, -10.3281, -9.2295, -8.9418, -10.3281, -10.3281, -8.9418, -10.3281, -9.2295, -10.3281, -10.3281, -10.3281, -10.3281, -10.3281, -10.3281, -9.2295, -9.2295, -10.3281, -8.9418, -10.3281, -8.1309, -10.3281, -8.3822, -10.3281, -10.3281, -8.7187, -10.3281, -10.3281, -9.2295, -10.3281, -8.3822, -6.7446, -6.8624, -6.9269, -7.15, -7.1926, -7.2371, -7.2836, -7.2836, -7.2836, -7.3837, -7.4377, -7.4377, -7.4949, -7.4949, -7.4949, -7.5555, -7.5555, -7.6201, -7.6201, -7.6201, -7.6201, -7.6201, -7.6201, -7.6201, -7.689, -7.7632, -7.7632, -7.7632, -7.8432, -7.8432, -6.185, -7.2371, -6.8017, -7.3324, -6.7446, -6.8316, -6.0376, -7.1926, -7.07, -6.6392, -6.5669, -6.2506, -6.5904, -5.7955, -6.0106, -6.9269, -6.1692, -5.3242, -5.0298, -6.3769, -6.6905, -5.6837, -6.1692, -4.1991, -6.185, -6.6645, -6.185, -5.3583, -6.4995, -6.3578, -4.7484, -5.8395, -5.7848, -5.4228, -5.8973, -5.8063, -6.2677, -6.3208, -6.3027, -6.0796, -6.024, -6.3578, -6.3391, -6.3578, -6.3769, -10.0371, -10.0371, -9.344, -10.0371, -8.9385, -10.0371, -10.0371, -10.0371, -10.0371, -10.0371, -10.0371, -10.0371, -10.0371, -10.0371, -10.0371, -8.9385, -10.0371, -10.0371, -10.0371, -10.0371, -10.0371, -10.0371, -10.0371, -10.0371, -10.0371, -10.0371, -10.0371, -10.0371, -10.0371, -10.0371, -6.5107, -6.5107, -6.859, -6.9016, -7.2039, -7.2039, -7.2645, -7.329, -7.329, -7.329, -7.398, -7.398, -7.398, -7.398, -7.398, -7.4722, -7.4722, -7.5522, -7.5522, -7.5522, -7.5522, -7.5522, -7.5522, -7.5522, -7.5522, -7.5522, -7.5522, -7.6392, -7.6392, -7.6392, -6.6698, -6.4536, -6.5714, -7.0414, -5.355, -6.6359, -7.0927, -7.0927, -6.859, -6.4818, -6.6359, -6.859, -6.1453, -6.6698, -7.0927, -7.1467, -6.8182, -6.7413, -6.6031, -6.4262, -5.1696, -6.9016, -6.859, -6.3735, -5.2168, -6.1251, -6.0117, -6.4262, -6.4818, -6.7049, -6.3735, -6.0668, -6.7049, -6.5107, -6.3235, -6.5714, -6.7049, -6.5406, -6.2994, -6.7049], \"loglift\": [30.0, 29.0, 28.0, 27.0, 26.0, 25.0, 24.0, 23.0, 22.0, 21.0, 20.0, 19.0, 18.0, 17.0, 16.0, 15.0, 14.0, 13.0, 12.0, 11.0, 10.0, 9.0, 8.0, 7.0, 6.0, 5.0, 4.0, 3.0, 2.0, 1.0, 0.4885, 0.4885, 0.4885, 0.4885, 0.4885, 0.4885, 0.4885, 0.4885, 0.4885, 0.4885, 0.4885, 0.4885, 0.4885, 0.4885, 0.4885, 0.4885, 0.4885, 0.4885, 0.4885, 0.4885, 0.4885, 0.4885, 0.4885, 0.4885, 0.4885, 0.4885, 0.4885, 0.4885, 0.4885, 0.4885, 0.4867, 0.4885, 0.4659, 0.4878, 0.4885, 0.4856, 0.4793, 0.4885, 0.486, 0.4858, 0.4885, 0.4842, 0.4805, 0.4885, 0.4844, 0.4885, 0.4843, 0.4764, 0.4816, 0.477, 0.4869, 0.4857, 0.4798, 0.4817, 0.4869, 0.4885, 0.4869, 0.4845, 0.4795, 0.4358, 0.4784, 0.4834, 0.4534, 0.447, 0.434, 0.4748, 0.3924, 0.4117, 0.4623, 0.4427, 0.3811, 0.432, 0.4506, 0.4116, 0.4522, 0.3949, 0.3163, 0.3579, 0.3431, 0.3482, 0.4182, 0.2705, 0.4031, 0.3038, 0.3284, 0.3356, 0.3191, 0.2306, 0.3031, 0.2965, 0.3325, 0.2669, 0.3355, 0.2952, 0.2015, -0.0614, -0.3854, 0.2553, -0.2657, 2.1151, 2.1151, 2.1151, 2.1151, 2.1151, 2.1151, 2.1151, 2.1151, 2.1151, 2.1151, 2.1151, 2.1151, 2.1151, 2.1151, 2.1151, 2.1151, 2.1151, 2.1151, 2.1151, 2.1151, 2.1151, 2.1151, 2.1151, 2.1151, 2.1151, 2.1151, 2.1151, 2.1151, 2.1151, 2.1151, 2.1151, 2.1151, 2.1151, 2.1151, 2.1151, 2.1151, 2.1151, 2.1151, 2.1151, 2.1151, 2.1151, 2.1151, 2.1151, 2.1151, 2.1151, 2.1151, 2.1151, 2.1151, 2.1151, 2.1151, 2.1151, 2.1151, 2.1151, 2.1151, 2.1151, 2.1151, 2.1151, 2.1151, 2.0935, 2.1002, 2.0916, 2.0906, 2.0893, 2.0978, 2.0685, 2.0735, 2.0712, 2.0429, 2.0537, 2.0846, 2.0344, 1.8791, 2.0208, 1.9799, 2.0239, 2.0302, 1.8333, 1.9399, 1.9476, 1.9557, 1.9566, 2.0295, 2.0336, 1.9266, 1.5802, 1.6434, 1.8337, 1.5842, 1.9195, 1.8863, 1.7934, 1.9714, 1.4916, 1.9227, 1.7155, 1.8184, 1.3619, 1.1989, 1.2154, 1.4356, 1.5942, 1.1532, 1.5752, 1.211, 1.6422, 1.279, 0.9891, 1.5725, 1.3233, 0.9483, 1.1429, 0.7326, 1.498, 0.8025, 0.3184, 1.0933, 1.418, 0.9134, 0.5793, 0.8404, 0.3578, 0.4682, 0.2838, 0.2569, 0.4636, -0.4748, 2.3853, 2.3853, 2.3853, 2.3853, 2.3853, 2.3853, 2.3853, 2.3853, 2.3853, 2.3853, 2.3853, 2.3853, 2.3853, 2.3853, 2.3853, 2.3853, 2.3853, 2.3853, 2.3853, 2.3853, 2.3853, 2.3853, 2.3853, 2.3853, 2.3853, 2.3853, 2.3853, 2.3853, 2.3853, 2.3853, 2.3853, 2.3853, 2.3853, 2.3853, 2.3853, 2.3853, 2.3853, 2.3853, 2.3853, 2.3853, 2.3853, 2.3853, 2.3853, 2.3853, 2.3853, 2.3853, 2.3853, 2.3853, 2.3853, 2.3853, 2.3853, 2.3853, 2.3853, 2.3853, 2.3853, 2.3853, 2.3853, 2.3853, 2.3853, 2.364, 2.3351, 2.3584, 2.3563, 2.3542, 2.3388, 2.1721, 2.2376, 2.3523, 2.2548, 2.1468, 2.2922, 2.1191, 2.2698, 2.3472, 2.0923, 2.1555, 2.0385, 2.1886, 2.1238, 1.8897, 1.5393, 1.8387, 1.6216, 1.9946, 1.3254, 1.5065, 1.0633, 1.8648, 1.8041, 1.7079, 1.5075, 1.2229, 1.7343, 1.4855, 1.2691, 1.2717, 1.1039, 1.1788, 0.6719, 1.2156, 0.917, 1.0311, 1.1959, 0.6406, 1.267, 1.008, 1.0389, 0.4283, 0.2849, 0.8131, -0.0091, 0.388, 0.5939, 2.6585, 2.6585, 2.6585, 2.6585, 2.6585, 2.6585, 2.6585, 2.6585, 2.6585, 2.6585, 2.6585, 2.6585, 2.6585, 2.6585, 2.6585, 2.6585, 2.6585, 2.6585, 2.6585, 2.6585, 2.6585, 2.6585, 2.6585, 2.6585, 2.6585, 2.6585, 2.6585, 2.6585, 2.6585, 2.6585, 2.6585, 2.6585, 2.6585, 2.6585, 2.6585, 2.6585, 2.6585, 2.6585, 2.6585, 2.6585, 2.6585, 2.6585, 2.6585, 2.6585, 2.6585, 2.6585, 2.6585, 2.6369, 2.6585, 2.6585, 2.6585, 2.6585, 2.6585, 2.6585, 2.6585, 2.6585, 2.6585, 2.6585, 2.6585, 2.6585, 2.6405, 2.6393, 2.6393, 2.6191, 2.6208, 2.5586, 2.4006, 2.5904, 2.5836, 2.6249, 2.603, 2.6198, 2.6181, 2.5928, 2.1149, 2.1584, 2.417, 2.3335, 2.3706, 2.4623, 2.5159, 2.2605, 2.3246, 2.3233, 1.7604, 1.8737, 2.3173, 2.0881, 1.3244, 2.1701, 2.3241, 1.654, 1.3868, 1.5243, 1.4887, 1.369, 1.6349, 1.7096, 1.4809, 1.1022, 0.9307, 1.5519, 0.8556, 1.4905, 0.9916, 1.4885, 1.3117, 0.8203, 0.5168, 0.9506, 0.7953, 0.0033, 0.0444, 0.1974, 0.045, -0.2242, -0.6597, 0.534, 0.6603, 0.3956, -0.7576, 2.8167, 2.8167, 2.8167, 2.8167, 2.8167, 2.8167, 2.8167, 2.8167, 2.8167, 2.8167, 2.8167, 2.8167, 2.8167, 2.8167, 2.8167, 2.8167, 2.8167, 2.8167, 2.8167, 2.8167, 2.8167, 2.8167, 2.8167, 2.8167, 2.8167, 2.8167, 2.8167, 2.8167, 2.8167, 2.8167, 2.8167, 2.8167, 2.8167, 2.8167, 2.8167, 2.8167, 2.8167, 2.8167, 2.8167, 2.8167, 2.8167, 2.8167, 2.8167, 2.8167, 2.8167, 2.8167, 2.8167, 2.8167, 2.8167, 2.8167, 2.8167, 2.8167, 2.8167, 2.8167, 2.8167, 2.7994, 2.7888, 2.6673, 2.7328, 2.7398, 2.6322, 2.7114, 2.7138, 2.5988, 2.668, 2.4635, 2.6102, 2.436, 2.4913, 2.5105, 2.7053, 2.4215, 2.5315, 2.4168, 2.1779, 2.6412, 2.5402, 2.0674, 2.0261, 2.4751, 2.2193, 2.4693, 2.4453, 2.4908, 1.6794, 2.1976, 2.0537, 1.7398, 1.2424, 1.8804, 2.0834, 1.4076, 1.9634, 1.7762, 1.3834, 0.0283, -0.2804, 1.7495, 1.1619, 0.0309, -0.1304, 1.1837, 0.3727, 0.4634, 0.7031, 3.6726, 3.6726, 3.6726, 3.6726, 3.6726, 3.6726, 3.6726, 3.6726, 3.6726, 3.6726, 3.6726, 3.6726, 3.6726, 3.6726, 3.6726, 3.6726, 3.6726, 3.6726, 3.6726, 3.6726, 3.6726, 3.6726, 3.6726, 3.6726, 3.6726, 3.6726, 3.6726, 3.6726, 3.6726, 3.6726, 3.6726, 3.6726, 3.6726, 3.6726, 3.6726, 3.6726, 3.6726, 3.6726, 3.6726, 3.6726, 3.6726, 3.6726, 3.6726, 3.6726, 3.6726, 3.6726, 3.6726, 3.6726, 3.6726, 3.6726, 3.6726, 3.6726, 3.6726, 3.6726, 3.6726, 3.6726, 3.6726, 3.6726, 3.6726, 3.6726, 3.5546, 3.6288, 3.5629, 3.6245, 3.5447, 3.5334, 3.3594, 3.5902, 3.5634, 3.4709, 3.4279, 3.3477, 3.4224, 3.1885, 3.2298, 3.4914, 3.2287, 2.8698, 2.6565, 3.2315, 3.3601, 2.7808, 3.0337, 1.8613, 2.889, 3.2304, 2.786, 2.0903, 2.9749, 2.8135, 1.0307, 2.1655, 2.0539, 1.3725, 1.9993, 1.6049, 2.3773, 2.2641, 2.125, 1.3706, 1.0652, 2.2683, 1.2833, 0.2291, 0.4327, 3.9897, 3.9897, 3.9897, 3.9897, 3.9897, 3.9897, 3.9897, 3.9897, 3.9897, 3.9897, 3.9897, 3.9897, 3.9897, 3.9897, 3.9897, 3.9897, 3.9897, 3.9897, 3.9897, 3.9897, 3.9897, 3.9897, 3.9897, 3.9897, 3.9897, 3.9897, 3.9897, 3.9897, 3.9897, 3.9897, 3.9897, 3.9897, 3.9897, 3.9897, 3.9897, 3.9897, 3.9897, 3.9897, 3.9897, 3.9897, 3.9897, 3.9897, 3.9897, 3.9897, 3.9897, 3.9897, 3.9897, 3.9897, 3.9897, 3.9897, 3.9897, 3.9897, 3.9897, 3.9897, 3.9897, 3.9897, 3.9897, 3.9897, 3.9897, 3.9897, 3.9551, 3.9348, 3.928, 3.9403, 3.7632, 3.8926, 3.9375, 3.9374, 3.9072, 3.8538, 3.8319, 3.8684, 3.6844, 3.7983, 3.888, 3.882, 3.7376, 3.6982, 3.6344, 3.5356, 2.8437, 3.7515, 3.7267, 3.414, 2.6138, 3.0907, 2.9312, 3.2415, 3.2906, 3.5093, 2.8483, 2.2792, 3.3773, 2.8073, 2.1211, 2.7186, 3.2727, 2.513, 1.3192, 2.0919]}, \"token.table\": {\"Topic\": [5, 7, 7, 7, 7, 6, 7, 4, 7, 7, 4, 7, 7, 2, 7, 7, 7, 7, 7, 7, 6, 7, 2, 3, 7, 7, 7, 7, 7, 7, 4, 7, 7, 7, 7, 7, 7, 7, 7, 3, 6, 6, 6, 4, 6, 3, 6, 6, 3, 4, 5, 6, 4, 6, 6, 6, 4, 4, 6, 4, 6, 6, 6, 6, 1, 3, 4, 1, 5, 6, 7, 6, 6, 6, 6, 4, 6, 6, 6, 4, 1, 6, 4, 5, 6, 5, 6, 2, 6, 6, 1, 2, 6, 6, 1, 4, 1, 3, 3, 5, 1, 2, 3, 4, 5, 5, 6, 1, 2, 3, 4, 5, 1, 1, 3, 5, 6, 1, 4, 4, 4, 3, 4, 2, 4, 3, 3, 4, 3, 1, 3, 4, 6, 2, 3, 4, 5, 2, 1, 4, 2, 4, 6, 3, 3, 4, 1, 4, 2, 3, 1, 3, 4, 5, 1, 2, 3, 4, 5, 4, 1, 2, 3, 5, 7, 3, 4, 5, 3, 1, 5, 5, 4, 1, 3, 5, 1, 3, 3, 1, 2, 3, 4, 5, 3, 1, 5, 7, 4, 4, 7, 1, 2, 4, 7, 4, 5, 3, 4, 2, 3, 4, 5, 2, 3, 4, 5, 2, 4, 5, 7, 1, 6, 7, 4, 2, 3, 4, 5, 7, 4, 3, 6, 7, 3, 3, 2, 3, 3, 3, 4, 5, 2, 2, 3, 4, 6, 4, 4, 2, 3, 4, 4, 4, 5, 3, 3, 4, 5, 6, 1, 3, 4, 5, 3, 3, 3, 4, 2, 3, 2, 2, 2, 2, 3, 3, 1, 3, 6, 1, 6, 7, 1, 2, 4, 5, 7, 3, 3, 1, 2, 5, 3, 3, 1, 6, 1, 2, 4, 5, 7, 3, 4, 3, 3, 4, 5, 1, 7, 1, 2, 3, 4, 5, 6, 1, 6, 2, 3, 3, 7, 3, 1, 2, 7, 5, 1, 2, 3, 1, 3, 4, 5, 6, 1, 2, 3, 4, 5, 1, 1, 1, 4, 5, 7, 5, 1, 5, 4, 5, 2, 4, 5, 6, 4, 7, 5, 1, 2, 5, 1, 5, 2, 3, 4, 5, 7, 2, 4, 5, 7, 2, 3, 4, 5, 1, 2, 3, 4, 4, 2, 4, 1, 3, 4, 5, 7, 7, 2, 3, 4, 5, 6, 2, 3, 4, 5, 1, 7, 1, 3, 5, 7, 1, 2, 4, 1, 2, 3, 6, 1, 3, 4, 5, 1, 2, 6, 2, 1, 2, 7, 1, 1, 3, 6, 1, 2, 4, 5, 1, 2, 3, 4, 5, 1, 1, 3, 5, 1, 6, 4, 6, 7, 1, 3, 6, 1, 3, 4, 2, 3, 4, 1, 5, 7, 1, 3, 4, 3, 7, 3, 4, 5, 1, 5, 7, 5, 5, 2, 1, 3, 6, 7, 1, 3, 4, 5, 1, 2, 1, 2, 5, 1, 1, 4, 7, 2, 4, 7, 7, 4, 7, 2, 7, 1, 3, 4, 5, 6, 3, 3, 2, 1, 2, 1, 2, 3, 4, 5, 2, 4, 5, 2, 3, 4, 5, 6, 2, 1, 2, 4, 1, 2, 3, 4, 5, 6, 1, 2, 3, 4, 5, 1, 2, 4, 6, 1, 1, 3, 4, 5, 1, 4, 7, 1, 3, 4, 6, 2, 1, 4, 6, 2, 1, 3, 6, 2, 3, 4, 5, 2, 3, 4, 5, 5, 1, 2, 4, 6, 2, 3, 6, 3, 1, 7, 2, 6, 3, 6, 3, 1, 2, 4, 5, 2, 5, 5, 5, 1, 4, 7, 1, 2, 5, 7, 1, 2, 3, 4, 5, 1, 2, 4, 1, 7, 1, 2, 1, 2, 4, 5, 1, 2, 5, 6, 5, 1, 3, 4, 5, 5, 1, 1, 2, 3, 4, 1, 2, 3, 5, 2, 2, 3, 4, 5, 1, 3, 4, 5, 1, 2, 7, 1, 2, 3, 4, 5, 5, 2, 3, 1, 7, 2, 3, 2, 3, 4, 5, 6, 5, 1, 2, 3, 4, 6, 1, 2, 3, 4, 5, 6, 2, 1, 2, 3, 5, 4, 5, 7, 6, 1, 3, 6, 1, 4, 2, 3, 4, 5, 7, 1, 2, 3, 4, 5, 5, 5, 2, 5, 2, 1, 2, 3, 3, 5, 1, 1, 3, 1, 2, 3, 4, 5, 6, 2, 1, 2, 3, 4, 1, 3, 4, 5, 2, 3, 5, 2, 7, 6, 2, 3, 4, 5, 3, 4, 6, 4, 6, 2, 3, 6, 1, 2, 3, 4, 5, 7, 2, 2, 3, 2, 2, 3, 6, 3, 6, 5, 6, 4, 5, 3, 2, 3, 6, 1, 3, 4, 6, 7, 4, 7, 1, 2, 3, 5, 1, 2, 3, 4, 5, 1, 4, 1, 3, 4, 1, 5, 6, 7, 2, 1, 3, 2, 3, 7, 1, 4, 6, 5, 4, 5, 1, 4, 5, 5, 5, 2, 3, 4, 7, 2, 3, 6, 7, 1, 1, 3, 4, 6, 1, 3, 7, 1, 2, 6, 5, 2, 5, 7, 2, 4, 6, 7, 5, 4, 3, 1, 1, 3, 3, 4, 5, 3, 2, 3, 4, 5, 2, 4, 5, 2, 5, 6, 1, 3, 5, 1, 2, 3, 4, 5, 6, 5, 5, 1, 1, 1, 2, 4, 7, 5, 1, 3, 4, 2, 4, 2, 1, 2, 6, 3, 3, 7, 5, 1, 2, 3, 4, 5, 3, 2, 2, 5, 1, 2, 3, 4, 5, 1, 2, 3, 4, 5, 6, 1, 2, 4, 4, 1, 2, 3, 7, 6, 2, 6, 7, 1, 2, 3, 4, 5, 1, 3, 4, 6, 7, 3, 7, 1, 2, 3, 1, 2, 3, 6, 6, 1, 2, 3, 6, 1, 2, 3, 4, 5, 6, 4, 6, 7, 5, 3, 4, 5, 2, 4, 5, 4, 1, 2, 3, 4, 5, 7, 1, 3, 3, 4, 1, 2, 4, 5, 7, 1, 4, 5, 6, 1, 3, 5, 4, 5, 1, 2, 4, 1, 2, 3, 4, 5, 6, 7, 1, 3, 1, 2, 3, 4, 6, 2, 5, 7, 1, 3, 4, 5, 1, 2, 3, 6, 3, 7, 7, 2, 2, 5, 1, 3, 4, 5, 7, 3, 7, 1, 2, 3, 4, 5, 1, 2, 4, 5, 5, 3, 4, 5, 1, 3, 4, 5, 7, 1, 5, 6, 7, 1, 3, 4, 1, 3, 6, 1, 2, 1, 4, 1, 2, 4, 1, 2, 3, 6, 4, 7, 2, 5, 2, 3, 4, 5, 6, 1, 2, 3, 4, 5, 1, 3, 4, 5, 2, 3, 4, 5, 7, 1, 3, 6, 7, 1, 3, 6, 1, 2, 3, 5, 6, 1, 3, 6, 1, 2, 3, 4, 6, 4, 2, 1, 3, 4, 2, 1, 2, 3, 4, 5, 2, 1, 3, 1, 2, 3, 4, 5, 3, 7, 2, 6, 2, 1, 2, 3, 4, 3, 6, 2, 4, 5, 7, 3, 4, 7, 1, 4, 6, 3, 4, 3, 1, 3, 1, 3, 4, 5, 6, 4, 7, 5, 1, 7, 1, 3, 4, 5, 1, 2, 3, 6, 7, 1, 3, 5, 2, 3, 4, 5, 1, 2, 3, 4, 5, 2, 1, 3, 4, 6, 1, 2, 4, 6, 4, 1, 4, 5, 2, 2, 7, 1, 3, 4, 5, 5, 1, 1, 2, 7, 4, 5, 2, 2, 3, 4, 5, 3, 2, 2, 3, 1, 2, 4, 1, 2, 4, 5, 6, 1, 2, 3, 4, 7, 4, 6, 3, 7, 6, 3, 1, 6, 1, 2, 3, 6, 1, 2, 3, 6, 5, 1, 2, 3, 4, 5, 6, 3, 4, 6, 1, 3, 5, 4, 1, 3, 4, 5, 6, 1, 5, 1, 3, 5, 6, 5, 7, 1, 5, 7, 7, 1, 2, 3, 3, 5, 1, 3, 4, 5, 2, 3, 4, 5, 7, 1, 2, 3, 4, 5, 1, 3, 4, 5, 7, 7, 6, 1, 2, 4, 5, 1, 2, 3, 1, 2, 4, 7, 4, 5, 1, 6, 1, 2, 3, 4, 1, 3, 6, 1, 3, 6, 5, 1, 4, 4, 2, 2, 3, 7, 2, 3, 4, 5, 6, 2, 1, 2, 3, 4, 6, 2, 3, 4, 5, 1, 3, 4, 5, 3, 2, 4, 6, 3, 7, 2, 1, 3, 4, 5, 1, 2, 3, 4, 5, 7, 1, 2, 3, 4, 5, 6, 1, 2, 3, 4, 5, 4, 1, 2, 3, 4, 5, 1, 5, 1, 2, 6, 2, 3, 4, 5, 6, 1, 2, 7, 2, 3, 5, 1, 3, 4, 5, 6, 2, 3, 4, 6, 1, 3, 2, 4, 4, 7, 1, 3, 4, 5, 6, 4, 5, 7, 4, 2, 3, 4, 5, 1, 2, 3, 4, 5, 6, 1, 3, 4, 5, 6, 1, 4, 7, 7, 7, 6, 2, 6, 1, 2, 3, 1, 2, 7, 3, 4, 6, 7, 2, 3, 4, 5, 5, 4, 7, 6, 2, 1, 3, 4, 6, 1, 3, 4, 5, 6, 7, 1, 3, 4, 5, 1, 2, 4, 6, 4, 1, 2, 3, 4, 1, 3, 4, 1, 3, 4, 5, 1, 2, 3, 3, 1, 2, 3, 4, 5, 1, 2, 6, 5, 1, 6], \"Freq\": [0.9850230941254612, 1.0053784800477736, 1.0053784800477736, 1.0053784800477736, 1.0053784800477736, 0.9795395450981874, 1.0053784800477736, 0.9750035965611866, 1.0053784800477736, 1.0053784800477736, 0.9750035965611866, 1.0053784800477736, 1.0053784800477736, 0.9884840426171928, 1.0053784800477736, 1.0053784800477736, 1.0053784800477736, 1.0053784800477736, 1.0053784800477736, 1.0053784800477736, 0.9795395450981874, 1.0053784800477736, 0.9884465174871738, 0.014535978198340791, 1.0053784800477736, 1.0053784800477736, 1.0053784800477736, 1.0053784800477736, 1.0053784800477736, 1.0053784800477736, 0.9750035965611866, 1.0053784800477736, 1.0053784800477736, 1.0053784800477736, 1.0053784800477736, 1.0053784800477736, 1.0053784800477736, 1.0053784800477736, 1.0053784800477736, 0.9859388075158526, 0.9795395450981874, 0.9795395450981874, 0.9795395450981874, 0.9750035965611866, 0.9795395450981874, 0.9859388075158526, 0.9795395450981874, 0.9795395450981874, 0.008418328230661515, 0.008418328230661515, 0.9849444029873974, 0.9795395450981874, 0.9750035965611866, 0.9795395450981874, 0.9795395450981874, 0.9795395450981874, 0.9750035965611866, 0.9750035965611866, 0.9795395450981874, 0.9750035965611866, 0.9795395450981874, 0.9795395450981874, 0.9795395450981874, 0.9795395450981874, 0.9552306770700538, 0.013069554535364921, 0.03152069034999775, 0.5605422163628152, 0.00983407397127746, 0.11063333217687142, 0.3171488855736981, 0.9795395450981874, 0.9795395450981874, 0.9795395450981874, 0.9795395450981874, 0.9750035965611866, 0.9795395450981874, 0.9795395450981874, 0.9795395450981874, 0.9750035965611866, 0.042614875621762846, 0.9375272636787826, 1.014003740423634, 0.9850230941254612, 0.9795395450981874, 0.9850230941254611, 0.9795395450981874, 1.0090774601717174, 0.9795395450981874, 0.9795395450981874, 0.9956272994373261, 0.004118416957341576, 0.9795395450981874, 0.9795395450981874, 0.6893346511212565, 0.31150345918366057, 0.9984078719155782, 0.0016103352772831906, 0.027111420398586952, 0.9760111343491303, 0.419292117798401, 0.002168752333440005, 0.2096460588992005, 0.1308480574508803, 0.23856275667840054, 0.9850230941254612, 0.9795395450981874, 0.00045988319111259435, 0.5881906014330082, 0.3283565984543924, 0.04506855272903425, 0.03771042167123274, 0.993589361744993, 0.7144224383845873, 0.02682132021239065, 0.03657452756235089, 0.22188546721159538, 0.993589361744993, 0.9750035965611866, 0.9750035965611866, 1.0173950572812382, 0.9859388075158526, 0.9750035965611866, 0.9884840426171928, 0.9750035965611866, 0.9859388075158526, 0.9859388075158526, 0.9750035965611866, 0.9859388075158526, 0.054475624273374754, 0.09079270712229126, 0.072634165697833, 0.7808172812517048, 0.37800911078756083, 0.24515808272091807, 0.181471765142579, 0.19516774741749063, 0.9884840426171928, 0.993589361744993, 0.9750035965611866, 0.28148055787390597, 0.7164959654972152, 0.006397285406225136, 0.9859388075158526, 0.9859388075158526, 0.9750035965611866, 0.017733369296400996, 0.9753353113020548, 0.9884840426171928, 0.9859388075158526, 0.16770611374557848, 0.015246010340507134, 0.055902037915192826, 0.757218513578521, 0.9776350952175485, 6.225389042393967e-05, 0.01917419825057342, 0.0029881867403491044, 0.00012450778084787935, 0.9750035965611866, 0.9106206362655483, 0.08048075047250908, 0.008294673447027398, 0.00022418036343317292, 0.00044836072686634584, 0.9859388075158526, 0.9750035965611866, 0.9850230941254611, 0.9859388075158526, 0.993589361744993, 0.9850230941254611, 0.9850230941254612, 0.9750035965611866, 0.17740633508154094, 0.8176118051584061, 1.0020062509207277, 0.993589361744993, 0.9859388075158526, 0.9859388075158526, 0.6627915425826311, 0.05538909491837851, 0.20747440638918052, 0.06477707710793419, 0.008918583080077896, 0.9859388075158526, 0.32784023733926865, 0.03450949866729144, 0.6384257253448915, 0.9750035965611866, 0.9750035965611866, 1.0053784800477734, 0.36787010877874454, 0.43372339985642105, 0.19453213571221678, 0.0037846719010158907, 0.9750035965611866, 0.9850230941254612, 0.018754069251075842, 0.9752116010559437, 0.6237296049414428, 0.2993046947448226, 0.02832705146692071, 0.048102540226846485, 0.7899124746171768, 0.04748740683182442, 0.09844950196841647, 0.06486084835566262, 0.8268606089692954, 0.06581974996770511, 0.09872962495155765, 0.004113734372981569, 0.6798226071975103, 0.009064301429300137, 0.3081862485962047, 0.9750035965611866, 0.039664960178601556, 0.15505393524362426, 0.09735944771111292, 0.7067574722732641, 0.00360590547078196, 0.9750035965611866, 0.05015333168158527, 0.05015333168158527, 0.9027599702685348, 0.9859388075158526, 0.9859388075158526, 0.9884840426171927, 0.9859388075158526, 0.9859388075158526, 0.9859388075158526, 0.9751943565845724, 0.018753737626626393, 0.9884840426171928, 0.018859058401892736, 0.18859058401892734, 0.056577175205678204, 0.7355032776738166, 0.9750035965611866, 0.9750035965611866, 0.2718922348838638, 0.009063074496128793, 0.7159828851941746, 0.9750035965611866, 0.9750035965611865, 0.9850230941254612, 0.9859388075158526, 0.8081225898575894, 0.026158478307863275, 0.002441457975400572, 0.16357768435183834, 0.20399257962042244, 0.7927893435248236, 0.9750035965611866, 0.9850230941254611, 0.9859388075158528, 0.9859388075158526, 0.9859388075158526, 0.9750035965611865, 1.0090774601717174, 0.9859388075158526, 0.9884840426171928, 0.9884840426171928, 1.0114720436082902, 0.9884840426171928, 0.9859388075158526, 0.9859388075158526, 0.9982274618622671, 0.0015500426426432719, 0.9795395450981875, 0.25192792488935273, 0.7197940711124363, 0.023993135703747878, 0.0526897984054069, 0.8693816736892139, 0.0526897984054069, 0.02634489920270345, 1.0053784800477736, 0.9859388075158526, 0.9859388075158526, 0.8419870066892958, 0.15584855652662447, 0.0020240072276184995, 0.9859388075158527, 0.9859388075158526, 0.04667616989973527, 0.9335233979947054, 0.42206839652669476, 0.10254478648007724, 0.38788680103333567, 0.07876628526730571, 0.010403094280587546, 0.9859388075158526, 1.0125037348904629, 0.9859388075158526, 0.039434040468468434, 0.906982930774774, 0.0542218056441441, 0.49972457856396985, 0.49972457856396985, 0.992216677080255, 0.0006510608117324508, 0.001953182435197352, 0.0006510608117324508, 0.0045574256821271555, 1.010150155882506, 0.996071728104027, 0.0042386030983150086, 0.9884840426171928, 0.9859388075158526, 0.9859388075158526, 1.0053784800477736, 0.9859388075158526, 0.586432094089534, 0.23320106665548718, 0.18175965489324736, 0.9850230941254611, 0.23056055806913897, 0.5819794731906491, 0.18779529326599223, 0.5864098494825404, 0.14866728578430602, 0.004129646827341834, 0.061944702410127506, 0.19822304771240803, 0.48111671234701797, 0.03748961394911828, 0.009997230386431542, 0.3311582565505448, 0.1399612254100416, 0.993589361744993, 0.993589361744993, 0.8240953676253562, 0.10419246422472156, 0.07159423711347826, 0.00030465632814246073, 1.0090480476407164, 1.0061664422734107, 0.9850230941254611, 1.0125037348904629, 0.9850230941254611, 0.24465481838722286, 0.7094989733229463, 0.01631032122581486, 0.024465481838722287, 0.9750035965611865, 1.0053784800477736, 0.9850230941254611, 0.993589361744993, 0.9380266272170961, 0.058626664201068504, 1.0001657943654783, 0.9850230941254612, 0.006620653424764592, 0.0926891479467043, 0.06431491898342746, 0.8313649086240109, 0.004729038160546138, 0.9160410068583136, 0.032141789714326796, 0.024106342285745094, 0.024106342285745094, 0.18549004697092553, 0.008832859379567883, 0.07949573441611095, 0.7198780394347825, 0.0039316625815668796, 0.7941958414765097, 0.0943599019576051, 0.10615488970230574, 0.9750035965611866, 1.0067893026656594, 0.9750035965611865, 0.8418768362565854, 0.04054467224639967, 0.05603636791069566, 0.06172472491242935, 1.0053784800477736, 1.0053784800477736, 0.010976616806544616, 0.09878955125890153, 0.8232462604908461, 0.06585970083926769, 0.9795395450981874, 0.3242655371372913, 0.10187397778645907, 0.04561024495668266, 0.5280134927102095, 0.993589361744993, 1.0053784800477736, 0.19989644059286665, 0.1554750093500074, 0.02221071562142963, 0.6219000374000296, 0.925945826053219, 0.008869727796736204, 0.06504467050939883, 0.6138318357376673, 0.3823461671487163, 0.0033247492795540545, 0.0004155936599442568, 0.4903393846184555, 0.40646554251266703, 0.06267495893619356, 0.04055438519400759, 0.1765110708065929, 0.8221699877043932, 0.9795395450981874, 0.9884840426171928, 0.45282108695824747, 0.22229398814313966, 0.3210913162067573, 0.993589361744993, 0.5254864302829938, 0.014202335953594426, 0.4544747505150216, 0.8646089124496891, 0.024357925187336295, 0.08535016985642638, 0.025527105596328436, 0.993589361744993, 0.27951267133858726, 0.23314190558656356, 0.14684075821474168, 0.34069632059472965, 1.0017335368412634, 0.057552863468988226, 0.07913518726985881, 0.8632929520348234, 0.3550874464890988, 0.6456135390710888, 0.13608383524633116, 0.12096340910784993, 0.7409008807855808, 0.42923816979383334, 0.1537569563440597, 0.41001855025082584, 0.858190581123645, 0.11063685354856972, 0.03129677743061277, 0.39710669457624903, 0.5086095595557869, 0.09389714945645297, 0.02643469888451857, 0.02643469888451857, 0.9516491598426685, 0.5051570064742058, 0.4160640600060919, 0.07929272235662137, 0.03349060495356965, 0.9712275436535198, 0.03901745382469804, 0.975436345617451, 0.9850230941254611, 0.028630871476144508, 0.14315435738072255, 0.8302952728081907, 0.9850230941254611, 1.000177295573545, 0.9884840426171928, 0.06908809667561855, 0.02763523867024742, 0.8843276374479174, 0.01381761933512371, 0.9451152645741251, 0.0030411288456085542, 0.00236532243547332, 0.0493338679398721, 0.9984042671336082, 0.0016077363399897074, 0.9976035200586277, 0.0008064701051403619, 0.0016129402102807238, 0.993589361744993, 0.32703338838450996, 0.4453220607789071, 0.229619187589124, 0.9884840426171928, 0.20667718741998664, 0.7922625517766154, 1.0053784800477736, 0.9495138900393014, 0.05425793657367437, 0.295551199790595, 0.7047759379621881, 0.04169155049264053, 0.06551529363129227, 0.05558873399018738, 0.8040513309294961, 0.03176499085153565, 0.9859388075158527, 1.011884565608375, 0.9884840426171928, 0.993589361744993, 0.9884840426171928, 0.8582009528572394, 0.044254059830300736, 0.0003278078505948203, 0.02524120449580116, 0.07211772713086045, 0.8255908571911289, 0.020259898335978622, 0.15194923751983966, 0.2690321854847225, 0.3276674053980595, 0.2802418598799193, 0.12071957040981139, 0.0021557066144609178, 1.0114720436082902, 0.9997607242403035, 0.03751981818804182, 0.9755152728890875, 0.2554126925895567, 0.0009977058304279558, 0.609598262391481, 0.09378434806022785, 0.022947234099842985, 0.01696099911727525, 0.00047780436861888647, 0.5360965015903906, 0.16818713775384803, 0.2752153163244786, 0.020067783481993232, 0.34213939401967336, 0.2907250042079738, 0.366444378294295, 0.0009348070874854464, 0.993589361744993, 0.09241633968517096, 0.7877392763640763, 0.07591342188424757, 0.04510797532252392, 0.6042676006950547, 0.049836503150107604, 0.34885552205075326, 0.7774418163627778, 0.16687423884400127, 0.05443871757597483, 0.0014232344464307144, 0.9884840426171928, 0.9998779020092018, 0.9750035965611865, 0.9795395450981874, 1.0044273336271474, 0.5123862634406997, 0.1258803622985802, 0.36168442125225864, 0.7238486300537826, 0.20228766429112446, 0.06580442091398024, 0.007311602323775583, 0.04688105064416149, 0.06392870542385658, 0.07245253281370412, 0.8140255157304404, 0.9850230941254611, 0.9911536385955039, 0.0007701271473158538, 0.0023103814419475613, 0.005390890031210976, 0.9094876733775547, 0.08593584315378469, 0.9795395450981874, 0.9859388075158526, 0.8440159832196074, 0.15517782651122827, 0.9884840426171928, 0.9795395450981874, 0.16343338564916618, 0.8444058258540253, 0.9859388075158527, 0.05636264632542425, 0.037575097550282835, 0.8642272436565052, 0.037575097550282835, 0.9884840426171928, 0.9850230941254611, 0.9850230941254611, 0.9978156018413762, 0.1484442313171827, 0.05195548096101395, 0.7941766375469275, 0.0491574600716416, 0.21711211531641705, 0.4813334632014907, 0.2519319828671632, 0.01737110951187245, 0.5940919453060377, 0.19976775938653316, 0.07295865994986428, 0.11638643372954541, 0.9261202490602131, 0.0006677146712762891, 0.07328168517257273, 0.4348776425243986, 0.5653409352817181, 0.9982463900249797, 0.001749774566213812, 0.14528973521131294, 0.25105412031823493, 0.5806137636024327, 0.022897444198405795, 0.9180561866649752, 0.08094772650543232, 0.0003891717620453477, 0.0003891717620453477, 1.0004140799711714, 0.4703566606265485, 0.4291726758535783, 0.0731830520785874, 0.027258464741822027, 0.9850230941254611, 0.9996924905026403, 0.5770017914282243, 0.07496670383183132, 0.34645902480560326, 0.0014509684612612514, 0.14032906540976875, 0.06595466074259132, 0.07297111401307976, 0.7226946868603091, 0.9884840426171928, 0.01714567208643358, 0.09715880848979029, 0.7829856919471335, 0.09715880848979029, 0.5849359307167667, 0.03750432851614815, 0.3105621589407356, 0.06777097959935544, 0.08346127335735135, 0.1669225467147027, 0.7511514602161621, 0.993589361744993, 0.071871643927673, 0.09800678717409955, 0.09365092996636179, 0.7361398681076811, 0.9850230941254612, 0.9884840426171928, 0.9859388075158527, 0.5892122183739618, 0.4091751516485846, 0.9884840426171928, 1.0088676169929656, 0.057685370236739766, 0.8797018961102815, 0.05287825605034479, 0.0048071141863949805, 0.0048071141863949805, 1.0123848467400574, 0.8691515056357985, 0.056080966196976514, 0.0333174743827056, 0.04076734443101245, 0.0006208225040255703, 0.0017153077041848952, 0.40481261818763525, 0.2521502325151796, 0.09033953908707114, 0.2441454632289834, 0.006289461582011282, 1.00468869905354, 0.993589361744993, 0.9765028868255977, 0.01190857179055607, 0.01190857179055607, 0.29937528951971853, 0.6895722960847449, 0.010091301893923096, 0.9795395450981875, 0.38155806434851314, 0.11658718632871234, 0.4981452506772255, 0.993589361744993, 0.9750035965611866, 0.6700932471620652, 0.20646116263912279, 0.05433188490503232, 0.06882038754637426, 0.0018110628301677438, 0.993589361744993, 0.022869469213123824, 0.0490060054566939, 0.06751938529588938, 0.8614166736943306, 0.9850230941254612, 0.9850230941254612, 0.9884840426171927, 0.9850230941254611, 1.0109495890403108, 0.9907886816762967, 0.0023459874072840493, 0.006646964320638139, 0.9634903938992652, 0.04481350669298908, 0.9995568654191371, 0.08835395153604556, 0.9129908325391374, 0.8307489379463308, 0.0002655846988319472, 0.010092218555613992, 0.07197345338345769, 0.08684619651804673, 0.0002655846988319472, 1.0095156179920266, 0.02380653481353497, 0.035709802220302456, 0.011903267406767485, 0.9284548577278637, 0.5176742730995112, 0.3103224525392165, 0.16432984418553964, 0.007758061313480413, 0.9163929721297235, 0.07187395859840968, 0.00898424482480121, 0.050226002719709714, 0.9542940516744846, 0.9795395450981875, 0.9131488730973125, 0.006814543829084422, 0.006814543829084422, 0.07495998211992864, 0.20770385033944572, 0.17525012372390733, 0.6166208056952295, 1.0214323392545763, 0.9795395450981875, 0.01963768083738828, 0.33384057423560076, 0.6382246272151191, 0.3104712646960489, 0.002676476419793525, 0.5593835717368468, 0.0642354340750446, 0.06155895765525108, 0.002676476419793525, 1.0049587766608126, 0.9884840426171928, 0.9859388075158526, 0.9884840426171927, 0.9884840426171927, 0.18013016659628403, 0.8205929811608494, 0.9859388075158527, 0.9795395450981874, 0.9850230941254612, 0.9795395450981875, 0.9750035965611865, 0.9850230941254612, 0.9859388075158526, 0.11683604735749661, 0.862250029498325, 0.02103048852434939, 0.018150739196239263, 0.6761150350599126, 0.03176379359341871, 0.24503497914923006, 0.027226108794358897, 0.1113233727684022, 0.8905869821472177, 0.042974414781224136, 0.8438612357040376, 0.09766912450278213, 0.011720294940333855, 0.06593855527950118, 0.7540972958328409, 0.091115094568038, 0.04076201599096437, 0.04795531293054632, 0.9955121705017922, 0.003998040845388724, 0.7920420575617184, 0.0431762998887435, 0.16469899825110101, 0.993589361744993, 0.028621913751904902, 0.11448765500761961, 0.858657412557147, 0.9884840426171928, 0.9948079843494068, 0.005030634560553258, 0.958312916733872, 0.03026251316001701, 0.010087504386672337, 0.5009756574561691, 0.07044970182977378, 0.4226982109786427, 0.9850230941254611, 0.1021154300768585, 0.9004724288595705, 0.9898783159293753, 0.0018030570417657107, 0.008113756687945698, 0.9850230941254611, 0.9850230941254611, 0.9207188447689552, 0.038363285198706465, 0.038363285198706465, 1.0053784800477736, 0.9735603527387117, 0.014750914435435025, 0.014750914435435025, 1.0053784800477736, 0.993589361744993, 0.017833932249107124, 0.17833932249107126, 0.017833932249107124, 0.7846930189607135, 0.490839480897795, 0.017529981460635537, 0.490839480897795, 0.993589361744993, 0.919404732990932, 0.07598386223065554, 0.985023094125461, 0.9884840426171928, 1.0026127922348445, 1.0053784800477734, 0.03377692778809471, 0.06755385557618943, 0.9119770502785571, 1.0053784800477736, 0.9850230941254611, 0.9750035965611866, 0.9859388075158526, 1.0010881493808041, 0.048706856602516696, 0.9497837037490756, 0.8917170728239117, 0.09316447029503555, 0.013309210042147935, 0.9859388075158526, 0.5400586100065, 0.2133146860840721, 0.17776223840339342, 0.07110489536135736, 0.8528225316538732, 0.1475152487185078, 0.9850230941254611, 0.012117753534736694, 0.33929709897262744, 0.6422409373410448, 0.974104549209247, 0.008081275775188393, 0.017405824746559613, 0.007334975665236888, 0.18255939433478474, 0.04726984317597105, 0.02118992969957323, 0.7025276692704663, 0.03993486751073416, 0.9850230941254612, 0.9850230941254611, 0.993589361744993, 0.9994860345149928, 0.8354847422330737, 0.16009703480368315, 0.0003465303783629505, 0.0038118341619924555, 1.0096486714785977, 0.3470907239459478, 0.036535865678520824, 0.6119757501152238, 0.9977222112397833, 0.9750035965611866, 1.009972826152349, 0.993589361744993, 1.0095156179920266, 0.9795395450981874, 0.9859388075158527, 0.9859388075158527, 1.0053784800477736, 1.0006583813338017, 0.7320656273798262, 0.08371154035060793, 0.0005471342506575682, 0.18110143696765507, 0.0027356712532878406, 0.9859388075158526, 0.9884840426171928, 0.9333405292679624, 0.06862798009323252, 0.1953451013950674, 0.36558999423099203, 0.0021826268312298033, 0.3590421137373026, 0.07748325250865801, 0.0014918048888671867, 0.49826283288164036, 0.1238198057759765, 0.07757385422109371, 0.29686917288457015, 0.0014918048888671867, 0.993589361744993, 0.9882524557457919, 0.016750041622810033, 0.9750035965611866, 0.28802120693524286, 0.0031825547727651147, 0.7065271595538555, 0.0015912773863825573, 0.9795395450981874, 0.06251172736145783, 0.15627931840364453, 0.7813965920182228, 0.015484611202837542, 0.18581533443405052, 0.06112346527435872, 0.054603628978427125, 0.6837678315358262, 0.6958827069401381, 0.08558985165573892, 0.003721297898075605, 0.21211398019030947, 1.0053784800477734, 0.0912345106251186, 0.9123451062511859, 0.9911139215541724, 0.006462030458380913, 0.002423261421892842, 0.7675763549488662, 0.045785256260107814, 0.06059813328543681, 0.1265827673073569, 0.9795395450981874, 0.9470352774787164, 0.011657928832105851, 0.0411456311721383, 0.00045717367969042553, 0.009062947430470961, 0.8519170584642703, 0.0951609480199451, 0.027188842291412885, 0.013594421145706442, 1.0203536928106118, 0.3728917587818111, 0.15430003811661147, 0.47575845085955204, 1.0074099826283125, 0.020171843999186378, 0.7727367931996012, 0.2071493210685678, 0.8400854128939821, 0.0840085412893982, 0.07700782951528169, 0.9750035965611865, 0.9995212385315302, 0.39848741235687707, 0.1916292970251224, 0.06091527322652898, 0.34391748009144485, 0.0050762727688774155, 0.9977192839618316, 0.00276759856854877, 0.9859388075158526, 0.9750035965611865, 0.2235420127816162, 0.16925323824893798, 0.6062246489482401, 0.0005322428875752767, 0.0005322428875752767, 0.21610586639374943, 0.7494735366421523, 0.03218598010119672, 0.9795395450981876, 0.9878126315782375, 0.0004728638734218466, 0.011348732962124318, 0.9753342947159994, 0.03251114315719998, 0.025349084429984972, 0.9759397505544214, 0.9937536657258247, 0.13471752118894034, 0.054884916039938655, 0.3808680537316955, 0.15966521029800337, 0.17796018231131625, 0.09147486006656443, 1.0053784800477734, 0.8776840262301472, 0.12232031915120013, 0.7725814327696059, 0.0037362012097773203, 0.18031231925447067, 0.041747987430990056, 0.0014619917777389513, 0.09276071851540535, 0.8928219157107765, 0.011595089814425669, 0.3518726468543568, 0.04691635291391424, 0.4561312088852773, 0.14596198684328873, 0.05007665767184306, 0.15906703025173677, 0.34464523221209636, 0.447744233301185, 0.9864543145699057, 0.02666092742080826, 1.0053784800477736, 0.9884840426171928, 1.0104503546753527, 1.010944754497184, 0.9320744375599387, 0.035701893641146766, 0.01870099190726735, 0.013175698843756543, 1.0053784800477736, 0.9557056952703641, 0.030829215976463358, 0.8556646080190177, 0.000311490574451772, 0.0566912845502225, 0.030526076296273654, 0.05700277512467427, 0.2806071365319587, 0.6225970841802833, 0.08768973016623707, 0.008768973016623709, 1.0026127922348445, 0.7668013849815365, 0.1454521964145456, 0.08896590654481916, 0.4173533991588397, 0.2665559958543949, 0.26344366595929647, 0.05250801726246648, 0.00020079547710312229, 0.047881975448907925, 0.023940987724453962, 0.8858165458047966, 0.047881975448907925, 0.4585018771070966, 0.4661585882179224, 0.07566632156580769, 0.7075169211220073, 0.018497174408418488, 0.2728333225241727, 0.9971106053851652, 0.002828682568468554, 0.9993438357282879, 0.0007210272985052582, 0.9655915809982671, 0.0008552626935325661, 0.033640332612280936, 0.8654108114770545, 0.0007377756278576764, 0.09517305599364026, 0.039102108276456854, 0.9750035965611865, 1.0053784800477736, 0.9814001511300224, 0.021030003238500482, 0.9884840426171928, 0.0679307808764154, 0.00566089840636795, 0.9170655418316079, 0.00566089840636795, 0.7504587585045243, 0.002509895513393058, 0.14130711740402915, 0.06826915796429117, 0.03739744314955656, 0.9645804017499354, 0.0010717560019443727, 0.030009168054442436, 0.004287024007777491, 0.13852482322200846, 0.7453025700113695, 0.0897484770170759, 0.025363700026564927, 1.0053784800477736, 0.3393194716429486, 0.10502745550853171, 0.5251372775426586, 0.024237105117353473, 0.65978117948499, 0.13419278226813358, 0.20548269784807954, 0.01093946098706124, 0.7548228081072256, 0.04156995175083271, 0.004375784394824496, 0.18815872897745334, 0.5399726716671578, 0.21773091599482167, 0.24385862591420027, 0.7855711124108458, 0.050916646174777036, 0.06182735606937212, 0.001454761319279344, 0.10037853103027473, 0.9750035965611866, 0.9884840426171928, 0.031481989050216916, 0.031481989050216916, 0.9444596715065074, 0.9884840426171927, 0.724625825108756, 0.0015657429237440708, 0.12431998814527921, 0.05448785374629366, 0.0951971697636395, 0.9884840426171928, 0.020980858688447342, 0.9861003583570251, 0.035771508936962196, 0.24281266672362217, 0.08129888394764136, 0.08997076490205642, 0.5506644406053575, 0.05021941540293324, 0.9541688926557315, 0.9884840426171928, 0.9795395450981875, 0.9884840426171928, 0.6364142108551347, 0.3003875075236236, 0.0006364142108551348, 0.061732178452948074, 0.953933298285592, 0.03179777660951973, 0.7535642064392432, 0.02691300737283011, 0.06997381916935828, 0.15071284128784862, 0.01841064191472671, 0.9573533795657889, 0.01841064191472671, 0.9970499089130853, 0.0026330543369183592, 0.9795395450981875, 0.9490283374638603, 0.036501089902456166, 0.9859388075158527, 0.9992670152406787, 0.9859388075158527, 0.719712836739191, 0.27781240424921366, 0.00040615848574446445, 0.0008123169714889289, 0.0012184754572333934, 0.22543508197512194, 0.7729202810575609, 1.0131666111004745, 0.04784813110850589, 0.9569626221701177, 0.34725865177235576, 0.22260169985407421, 0.30840453688873554, 0.1222285697380553, 0.7350465932427734, 0.0019884037689164294, 0.2604808937280523, 0.002651205025221906, 1.0053784800477734, 0.006439868753102669, 0.2414950782413501, 0.750244709736461, 0.4709596932985529, 0.25839289151667383, 0.0800576266451233, 0.19103406082215627, 0.008381803503674328, 0.5066334562220928, 0.3268903366432988, 0.08847459253878458, 0.06891705103021115, 0.9884840426171928, 0.016775960165803093, 0.2851913228186526, 0.050327880497409286, 0.6458744663834192, 0.7490904569672223, 0.14281724600122742, 0.007000845392217031, 0.09941200456948183, 1.023753776389246, 0.25112823843310533, 0.7166342413822762, 0.030625394930866502, 0.9884840426171928, 0.09559472816454322, 0.9081499175631605, 0.6395889170974084, 0.13580832284749242, 0.17779003903498541, 0.04703975428237168, 0.9850230941254612, 0.9996202531668139, 0.5288180177359773, 0.18508630620759203, 0.2820362761258545, 0.9627227444748044, 0.03800221359768965, 0.9884840426171927, 0.16015407120996858, 0.12011555340747643, 0.04575830605999102, 0.6735050673204929, 0.9859388075158527, 0.9884840426171928, 1.0109495890403108, 0.9859388075158527, 0.2756660640462317, 0.0027845056974366835, 0.721186975636101, 0.23843685267463974, 0.5830390193139001, 0.04525078955869075, 0.12008863382883316, 0.01392331986421254, 0.914621975813818, 0.0033138477384558624, 0.0016569238692279312, 0.011598467084595518, 0.0695908025075731, 0.9750035965611865, 0.9795395450981874, 0.9859388075158527, 1.0053784800477736, 0.9795395450981875, 0.9859388075158526, 0.10326312988226127, 0.9035523864697862, 0.831322566566248, 0.1659377213019329, 0.0027232667609726406, 1.0067489769064704, 0.8952048898490288, 0.021848668155945956, 0.05078339084895546, 0.03188724541678599, 1.006912496217138, 0.00402529926608672, 0.172355995847895, 0.15113169062671047, 0.2107793070241773, 0.4537610081770484, 0.007684662235256465, 0.23542335865839234, 0.029427919832299042, 0.7356979958074761, 0.9999229991106982, 0.0729696938081716, 0.9267151113637794, 0.9750035965611865, 0.9625953370681037, 0.012007426242013768, 0.01651021108276893, 0.008004950828009179, 0.0005003094267505737, 0.9594337839055918, 0.040693765712145814, 0.0250446772090099, 0.09183048309970297, 0.8431707993700001, 0.04174112868168317, 0.9850230941254612, 1.0053784800477736, 0.025075206336426428, 0.10030082534570571, 0.877632221774925, 1.0053784800477736, 0.3773271343497647, 0.585657045099414, 0.03699939214913771, 0.9577436886308224, 0.0281689320185536, 0.004591108178753047, 0.5210907782884708, 0.3030131397977011, 0.16987100261386276, 0.22507642504543013, 0.13593724680961622, 0.09805309605939531, 0.5392920283266742, 0.0022284794558953477, 0.6617830582973605, 0.008484398183299494, 0.029271173732383252, 0.18877785957841373, 0.11156983611038834, 0.5457283440229896, 0.3127131476270349, 0.11954692684662026, 0.021613003723682758, 0.0003377031831825431, 1.0053784800477736, 0.9795395450981874, 0.5705282212916548, 0.09370994939089983, 0.2599991733100456, 0.07533544951033123, 0.44270551663801433, 0.4529061045789824, 0.10404599699787434, 0.5940715543655093, 0.35989397069445794, 0.04437048953767289, 0.0016433514643582553, 0.9750035965611866, 1.0059810322983433, 0.9883740791481829, 0.011231523626683896, 0.7502593411857047, 0.19178226946285468, 0.0213091410514283, 0.0368470564014281, 0.8442556741465488, 0.08476779765362916, 0.0713418421246382, 0.39623626397557354, 0.5926610785959434, 0.010159904204501887, 0.9850230941254612, 0.9960831808080908, 0.003850837039206536, 1.0214323392545763, 1.0034610735659382, 0.029537977675902605, 0.029537977675902605, 0.9452152856288834, 0.31583581948340245, 0.5786563406963766, 0.07895895487085061, 0.025943656600422346, 0.9795395450981874, 0.9884840426171928, 0.8695395009811507, 0.0009759141425153208, 0.0019518282850306415, 0.05367527783834264, 0.07416947483116437, 0.1925992173415923, 0.17955638095277116, 0.15520975302697168, 0.4725854384882863, 0.050648231309704035, 0.24691012763480719, 0.31022041677193724, 0.3925237926502063, 1.0060600076692374, 0.9565172362303621, 0.01051117842011387, 0.03153353526034161, 0.9859388075158527, 1.0053784800477736, 1.0041742655158783, 0.5621187039414616, 0.304083988149124, 0.08495296796855423, 0.04922508424346133, 0.3538418145435313, 0.4001744646990072, 0.12090917609065958, 0.101233667120526, 0.02380101891548417, 1.0053784800477734, 0.8981103583239403, 0.019011817949084513, 0.0004950994257574092, 0.020596136111508224, 0.06149134867907022, 0.00019803977030296367, 0.002027522883132671, 0.3114275148491783, 0.23032659952387144, 0.13543852859326244, 0.32075412011158855, 1.0193219418594224, 0.8011612998110879, 0.00025449850692855396, 0.05700766555199609, 0.11757831020099192, 0.023922859651284073, 0.6464726758853137, 0.3532139015421774, 0.9935548559218098, 0.006680964449041949, 0.9795395450981874, 0.127606098545697, 0.047396550888401744, 0.11302254442618877, 0.7109482633260261, 0.9795395450981875, 0.9935544238276076, 0.0067646258643581795, 1.0053784800477736, 0.025391186260723467, 0.0710953215300257, 0.9039262308817554, 0.03598322608810158, 0.1547278721788368, 0.6728863278474996, 0.14033458174359617, 1.0121908632681271, 0.15293992035705034, 0.7703640432799572, 0.050979973452350114, 0.022657765978822273, 0.8253268171249001, 0.17463437000034115, 0.06505938957683369, 0.936855209906405, 0.0771519168604127, 0.9258230023249524, 0.504784072571124, 0.09982405923215777, 0.3214193112865222, 0.0729211212830656, 0.0014159441025837982, 0.9753609183888404, 0.014135665483896238, 0.007067832741948119, 0.9750035965611866, 0.8717772556947396, 0.057843040662210216, 0.06197468642379666, 0.004131645761586444, 0.029535311715811807, 0.17573510470908024, 0.06793121694636715, 0.22003807228279795, 0.46665792510982657, 0.04134943640213653, 0.392492953687291, 0.41538131167769454, 0.15894693048891373, 0.03221324457908652, 0.0008477169626075399, 0.3665473259097901, 0.5649789609887742, 0.06889987329131393, 1.0053784800477736, 1.0053784800477734, 0.9795395450981874, 0.9769170869321309, 0.022719002021677464, 0.852174378235349, 0.06267694963866637, 0.08519422413848354, 0.036287080277570175, 0.952535857286217, 0.009071770069392544, 0.07785113052881087, 0.3114045221152435, 0.05838834789660815, 0.5449579137016761, 0.40682648497374685, 0.08337928949461941, 0.4072292834737209, 0.10271361749337174, 0.9850230941254612, 0.9750035965611866, 1.0053784800477736, 0.9795395450981875, 1.0090774601717174, 0.2239300991417728, 0.3165908298211271, 0.04633036533967713, 0.40925156050048134, 0.0015684842604437794, 0.14900600474215903, 0.17567023716970329, 0.6697427792094938, 0.0015684842604437794, 0.0015684842604437794, 0.2901263698225688, 0.12952070081364678, 0.15369789829886082, 0.4265548413462767, 0.7599142453856004, 0.2152218746857047, 0.024539316552949508, 0.00040228387791720505, 1.0173950572812382, 0.09010315912985618, 0.741618309761124, 0.0866376530094771, 0.07970664076871893, 0.9486133188295474, 0.018533696721498072, 0.032846848645031235, 0.8040853609655113, 0.09118493784144974, 0.07032292933529986, 0.034401590185637855, 0.9863302971221403, 0.007173311251797384, 0.006276647345322711, 0.9859388075158527, 0.9083490080473583, 0.0007601825234723784, 0.009467727792337803, 0.036212331118138756, 0.045196306395539586, 0.03921795907766471, 0.03921795907766471, 0.9020130587862883, 1.011645339912636, 0.1291270344139049, 0.8780638340145535], \"Term\": [\"11\", \"12911\", \"12ja\", \"1330\", \"1394ca\", \"13964\", \"1540\", \"15706min\", \"162e\", \"167980\", \"16a\", \"17\", \"171920\", \"1760\", \"17841790\", \"181\", \"18141876\", \"18171903\", \"18278\", \"18413\", \"18461915\", \"184th\", \"1850\", \"1850\", \"1852\", \"185258\", \"18551876\", \"185558\", \"187880\", \"18861889\", \"189394\", \"18981992\", \"18a\", \"190211\", \"19023\", \"190308\", \"190910\", \"191011\", \"191419\", \"191524\", \"19331934\", \"19331936\", \"193442\", \"1952\", \"198586\", \"19982018\", \"1nh\", \"2014bischoff\", \"21\", \"21\", \"21\", \"21er\", \"23195min\", \"2lo\", \"3rrr\", \"6qr\", \"750hl\", \"83638min\", \"aachener\", \"abbadia\", \"abdolrashidi\", \"abendblatt\", \"abolishment\", \"abreise\", \"academy\", \"academy\", \"academy\", \"acad\\u00e9mie\", \"acad\\u00e9mie\", \"acad\\u00e9mie\", \"acad\\u00e9mie\", \"ackland\", \"acl\", \"adaption\", \"adat\", \"addelheid\", \"adenauer\", \"adiatomea\", \"adiego\", \"admirandus\", \"adolf\", \"adolf\", \"adriatico\", \"adschib\", \"aeg\", \"aek\", \"aeoline\", \"aerodrome\", \"aerolite\", \"aerosol\", \"affair\", \"affair\", \"afowler\", \"afropunk\", \"agency\", \"agency\", \"agent\", \"agent\", \"aggregate\", \"aggregate\", \"aire\", \"aire\", \"aire\", \"aire\", \"aire\", \"ajax\", \"al\", \"album\", \"album\", \"album\", \"album\", \"album\", \"alley\", \"alliance\", \"alliance\", \"alliance\", \"alliance\", \"alto\", \"alva\", \"amaq\", \"amstel\", \"anastassov\", \"andreas\", \"andrew\", \"androscoggin\", \"andr\\u00e1s\", \"andr\\u00e1ssy\", \"anorthosis\", \"antonijevi\\u0107\", \"apparatus\", \"apparatus\", \"apparatus\", \"apparatus\", \"appearance\", \"appearance\", \"appearance\", \"appearance\", \"appreciation\", \"approximation\", \"aranka\", \"arcade\", \"arcade\", \"arcade\", \"archaeopteryx\", \"aret\\u00e9\", \"arkel\", \"armani\", \"armani\", \"arnolfini\", \"arsen\", \"arsenal\", \"arsenal\", \"arsenal\", \"arsenal\", \"art\", \"art\", \"art\", \"art\", \"art\", \"artaud\", \"artist\", \"artist\", \"artist\", \"artist\", \"artist\", \"asbaek\", \"asi\", \"asmallworld\", \"asociaci\\u00f3n\", \"assessor\", \"assist\", \"asturia\", \"async\", \"athletic\", \"athletic\", \"atl\\u00e9tico\", \"atr\", \"autostrada\", \"avus\", \"award\", \"award\", \"award\", \"award\", \"award\", \"bacci\", \"bacon\", \"bacon\", \"bacon\", \"baffigi\", \"baga\", \"bah\\u00e1\", \"ballet\", \"ballet\", \"ballet\", \"ballet\", \"balletmaster\", \"ballon\", \"balmain\", \"balmain\", \"band\", \"band\", \"band\", \"band\", \"bank\", \"bank\", \"bank\", \"bank\", \"banking\", \"banking\", \"banking\", \"banking\", \"baptiste\", \"baptiste\", \"baptiste\", \"baratino\", \"barcelona\", \"barcelona\", \"barcelona\", \"barcelona\", \"barcelona\", \"bari85\", \"baring\", \"baring\", \"baring\", \"barnaby\", \"barockorchester\", \"barrister\", \"barrott\", \"barth\", \"bassarid\", \"bastogne\", \"bastogne\", \"battersea\", \"bauhaus\", \"bauhaus\", \"bauhaus\", \"bauhaus\", \"baukontor\", \"bauwen\", \"bazaar\", \"bazaar\", \"bazaar\", \"bdp\", \"bean\", \"behemoth\", \"bencke\", \"berlin\", \"berlin\", \"berlin\", \"berlin\", \"berliner\", \"berliner\", \"berlino\", \"bernab\\u00e9u\", \"bertolt\", \"besta\", \"beyeler\", \"bfc\", \"bible\", \"bienniale\", \"biplane\", \"birkbeck\", \"bj\\u00f6rk\", \"blaise\", \"blanquerna\", \"blumenau\", \"board\", \"board\", \"bofinger\", \"bolshevik\", \"bolshevik\", \"bolshevik\", \"bond\", \"bond\", \"bond\", \"bond\", \"bonham\", \"boninsegna\", \"bonn\", \"book\", \"book\", \"book\", \"boris\", \"boyatino\", \"boysen\", \"boysen\", \"brand\", \"brand\", \"brand\", \"brand\", \"brand\", \"brandenburg\", \"breakaway\", \"breaststroke\", \"brera\", \"brera\", \"brera\", \"brittany\", \"brittany\", \"brother\", \"brother\", \"brother\", \"brother\", \"brother\", \"buemi\", \"building\", \"building\", \"bulletin\", \"burggraf\", \"buribayev\", \"burrough\", \"busse\", \"caf\\u00e9\", \"caf\\u00e9\", \"caf\\u00e9\", \"calcio\", \"cambridge\", \"cambridge\", \"cambridge\", \"camp\", \"camp\", \"camp\", \"camp\", \"camp\", \"campaign\", \"campaign\", \"campaign\", \"campaign\", \"campaign\", \"cane\", \"capability\", \"career\", \"career\", \"career\", \"career\", \"carlist\", \"carpet\", \"casabella\", \"cascella\", \"catenaccio\", \"catwalk\", \"catwalk\", \"catwalk\", \"catwalk\", \"cavellini\", \"caziel\", \"cemsa\", \"census\", \"cent\", \"cent\", \"centre\", \"cernuda\", \"champion\", \"champion\", \"champion\", \"champion\", \"champion\", \"chef\", \"chef\", \"chef\", \"chef\", \"chelsea\", \"chelsea\", \"chelsea\", \"chelsea\", \"chess\", \"chess\", \"chess\", \"chess\", \"chloe\", \"cholera\", \"cisalpine\", \"city\", \"city\", \"city\", \"city\", \"cityjet\", \"claridge\", \"classification\", \"classification\", \"classification\", \"classification\", \"clemen\", \"club\", \"club\", \"club\", \"club\", \"codename\", \"cody\", \"colarossi\", \"colarossi\", \"colarossi\", \"colarossi\", \"collection\", \"collection\", \"collection\", \"college\", \"college\", \"college\", \"college\", \"cologne\", \"cologne\", \"cologne\", \"cologne\", \"colony\", \"colony\", \"comintern\", \"commodity\", \"commune\", \"commune\", \"commune\", \"communion\", \"communist\", \"communist\", \"communist\", \"company\", \"company\", \"company\", \"company\", \"compass\", \"competition\", \"competition\", \"competition\", \"competition\", \"competitor\", \"complutense\", \"complutense\", \"complutense\", \"comrade\", \"comrade\", \"com\\u00e9die\", \"com\\u00e9die\", \"com\\u00e9die\", \"concentration\", \"concentration\", \"concentration\", \"concert\", \"concert\", \"concert\", \"concerto\", \"concerto\", \"concerto\", \"concorde\", \"concorde\", \"concorde\", \"conductor\", \"conductor\", \"conductor\", \"confederacy\", \"confederacy\", \"congestion\", \"congestion\", \"conjuror\", \"container\", \"container\", \"container\", \"copa\", \"coppa\", \"cornet\", \"coulondre\", \"coulondre\", \"coulondre\", \"coulondre\", \"country\", \"country\", \"country\", \"country\", \"couple\", \"couple\", \"court\", \"court\", \"court\", \"courtship\", \"couture\", \"couture\", \"couture\", \"creditor\", \"creed\", \"creed\", \"crescent\", \"crossfit\", \"crossfit\", \"crowley\", \"crowley\", \"cup\", \"cup\", \"cup\", \"cup\", \"cup\", \"daad\", \"dada\", \"daisy\", \"damnation\", \"darracq\", \"day\", \"day\", \"day\", \"day\", \"day\", \"debt\", \"debt\", \"debt\", \"debut\", \"debut\", \"debut\", \"debut\", \"debut\", \"deco\", \"degree\", \"delevingne\", \"delevingne\", \"der\", \"der\", \"der\", \"der\", \"der\", \"der\", \"design\", \"design\", \"design\", \"design\", \"design\", \"designer\", \"designer\", \"designer\", \"designer\", \"desk\", \"deutsche\", \"deutsche\", \"deutsche\", \"deutsche\", \"diamond\", \"diamond\", \"diamond\", \"director\", \"director\", \"director\", \"director\", \"dirt\", \"distinction\", \"dkny\", \"docent\", \"dock\", \"doctorate\", \"doctorate\", \"doctorate\", \"drama\", \"drama\", \"drama\", \"drama\", \"draw\", \"draw\", \"draw\", \"draw\", \"dudi\\u0107\", \"education\", \"education\", \"education\", \"education\", \"edward\", \"edward\", \"ego\", \"eisenach\", \"engine\", \"engine\", \"enrollment\", \"epex\", \"eprix\", \"eprix\", \"erfurt\", \"esposizione\", \"esposizione\", \"esposizione\", \"esposizione\", \"esterhazy\", \"esxence\", \"eurobasket\", \"euroleague\", \"eurostar\", \"eurostar\", \"eurostar\", \"eurovision\", \"eurovision\", \"eurovision\", \"eurovision\", \"exchange\", \"exchange\", \"exchange\", \"exchange\", \"exchange\", \"exhibition\", \"exhibition\", \"exhibition\", \"exhibitor\", \"exhibitor\", \"family\", \"family\", \"fashion\", \"fashion\", \"fashion\", \"fashion\", \"father\", \"father\", \"father\", \"father\", \"federer\", \"festival\", \"festival\", \"festival\", \"festival\", \"figuere\", \"figure\", \"film\", \"film\", \"film\", \"film\", \"final\", \"final\", \"final\", \"final\", \"finch\", \"flander\", \"flander\", \"flander\", \"flander\", \"florence\", \"florence\", \"florence\", \"florence\", \"folkestone\", \"folkestone\", \"folkestone\", \"fontainebleau\", \"football\", \"football\", \"football\", \"football\", \"fototeca\", \"fraenkel\", \"frankfurter\", \"fran\\u00e7aise\", \"fran\\u00e7aise\", \"fraser\", \"friedrich\", \"f\\u00fcr\", \"f\\u00fcr\", \"f\\u00fcr\", \"f\\u00fcr\", \"f\\u00fcr\", \"galatasaray\", \"gallery\", \"gallery\", \"gallery\", \"gallery\", \"gallery\", \"game\", \"game\", \"game\", \"game\", \"game\", \"game\", \"gazette\", \"genocide\", \"gentleman\", \"gentleman\", \"gentleman\", \"germain\", \"germain\", \"germain\", \"gerresheim\", \"gestapo\", \"gestapo\", \"gestapo\", \"gif\", \"gino\", \"glasgow\", \"glasgow\", \"glasgow\", \"glasgow\", \"glasgow\", \"gloria\", \"goal\", \"goal\", \"goal\", \"goal\", \"goalless\", \"goalscorer\", \"gospel\", \"gotischen\", \"governess\", \"government\", \"government\", \"government\", \"grammophon\", \"grammophon\", \"grant\", \"gropius\", \"gropius\", \"group\", \"group\", \"group\", \"group\", \"group\", \"group\", \"grove\", \"gucci\", \"gucci\", \"gucci\", \"gucci\", \"guest\", \"guest\", \"guest\", \"guest\", \"guild\", \"guild\", \"guild\", \"guineas\", \"guineas\", \"gurevich\", \"guy\", \"guy\", \"guy\", \"guy\", \"gymnasium\", \"gymnasium\", \"gymnasium\", \"gymn\\u00e1zium\", \"g\\u00f6ttingen\", \"habilitation\", \"habilitation\", \"habilitation\", \"hamburg\", \"hamburg\", \"hamburg\", \"hamburg\", \"hamburg\", \"hamburg\", \"hampstead\", \"hanging\", \"hansa\", \"harrison\", \"hearing\", \"heidelberg\", \"heidelberg\", \"heist\", \"helene\", \"herrera\", \"herwarth\", \"het\", \"heyncke\", \"historische\", \"hitler\", \"hitler\", \"hitler\", \"hochschule\", \"hochschule\", \"hochschule\", \"hochschule\", \"hochschule\", \"hooke\", \"hooke\", \"horse\", \"horse\", \"horse\", \"horse\", \"hospital\", \"hospital\", \"hospital\", \"hospital\", \"hospital\", \"hotel\", \"hotel\", \"house\", \"house\", \"house\", \"hr\", \"hughe\", \"hughe\", \"hughe\", \"hunt\", \"idea\", \"idea\", \"inch\", \"inch\", \"inch\", \"instructor\", \"instructor\", \"instructor\", \"insularity\", \"inter\", \"inter\", \"interest\", \"interest\", \"interest\", \"interfaith\", \"interfilm\", \"invention\", \"invention\", \"invention\", \"jacobite\", \"jane\", \"jane\", \"jane\", \"jed\", \"jeunesse\", \"jew\", \"jew\", \"jew\", \"jew\", \"jewel\", \"jewel\", \"jewel\", \"judgment\", \"julian\", \"julian\", \"juventus\", \"kahn\", \"kak\\u00e1\", \"kaleidoscope\", \"kant\", \"kant\", \"kant\", \"kaye\", \"kkup\", \"klein\", \"klindworth\", \"knowledge\", \"komische\", \"komische\", \"k\\u00fcnste\", \"k\\u00fcnste\", \"k\\u00fcnste\", \"k\\u00fcnstler\", \"label\", \"label\", \"label\", \"label\", \"lane\", \"lane\", \"lanieri\", \"lap\", \"lap\", \"lap\", \"law\", \"law\", \"law\", \"league\", \"league\", \"league\", \"league\", \"league\", \"league\", \"lehar\", \"lenawee\", \"liberal\", \"library\", \"life\", \"life\", \"life\", \"life\", \"liga\", \"li\\u00e8ge\", \"li\\u00e8ge\", \"li\\u00e8ge\", \"lodge\", \"lombardy\", \"london\", \"louise\", \"lounge\", \"lso\", \"luftwaffe\", \"macfarlane\", \"maclean\", \"madrid\", \"magazine\", \"magazine\", \"magazine\", \"magazine\", \"magazine\", \"magdeburg\", \"maidstone\", \"mail\", \"mail\", \"management\", \"management\", \"management\", \"management\", \"management\", \"manchester\", \"manchester\", \"manchester\", \"manchester\", \"manchester\", \"manchester\", \"manrico\", \"manufacture\", \"manufacture\", \"marant\", \"marathon\", \"marathon\", \"marathon\", \"marathon\", \"marlene\", \"massigli\", \"massigli\", \"massigli\", \"match\", \"match\", \"match\", \"match\", \"match\", \"mathematic\", \"mathematic\", \"mathematic\", \"mathematic\", \"mather\", \"maud\", \"maud\", \"medal\", \"medal\", \"medal\", \"medicine\", \"medicine\", \"medicine\", \"medicine\", \"meiningen\", \"member\", \"member\", \"member\", \"member\", \"memoir\", \"memoir\", \"memoir\", \"memoir\", \"memoir\", \"menshevik\", \"messager\", \"messager\", \"messager\", \"midfielder\", \"milan\", \"milan\", \"milan\", \"mile\", \"mile\", \"mile\", \"millico\", \"minister\", \"minute\", \"minute\", \"minute\", \"minute\", \"minute\", \"mission\", \"mission\", \"mitchell\", \"mladenovi\\u0107\", \"model\", \"model\", \"model\", \"model\", \"model\", \"modeling\", \"modeling\", \"modeling\", \"moldavia\", \"month\", \"month\", \"month\", \"monza\", \"monza\", \"moore\", \"moore\", \"moschino\", \"munich\", \"munich\", \"munich\", \"munich\", \"munich\", \"munich\", \"musard\", \"museum\", \"museum\", \"music\", \"music\", \"music\", \"music\", \"music\", \"nadal\", \"nadal\", \"nadal\", \"naple\", \"naple\", \"naple\", \"naple\", \"nazi\", \"nazi\", \"nazi\", \"nazi\", \"nazism\", \"nazism\", \"necklace\", \"needle\", \"norfolk\", \"nou\", \"number\", \"number\", \"number\", \"number\", \"occultist\", \"oder\", \"oder\", \"office\", \"office\", \"office\", \"office\", \"office\", \"oil\", \"oil\", \"oil\", \"oil\", \"olympiaco\", \"oper\", \"oper\", \"oper\", \"opera\", \"opera\", \"opera\", \"opera\", \"opera\", \"ophthalmology\", \"ophthalmology\", \"ophthalmology\", \"ophthalmology\", \"orchestra\", \"orchestra\", \"orchestra\", \"orchestre\", \"orchestre\", \"orchestre\", \"order\", \"order\", \"painter\", \"painter\", \"painting\", \"painting\", \"painting\", \"party\", \"party\", \"party\", \"party\", \"pasaj\\u0131\", \"pastry\", \"patent\", \"patent\", \"peach\", \"penalty\", \"penalty\", \"penalty\", \"penalty\", \"performance\", \"performance\", \"performance\", \"performance\", \"performance\", \"period\", \"period\", \"period\", \"period\", \"philharmonic\", \"philharmonic\", \"philharmonic\", \"philharmonic\", \"philidor\", \"philology\", \"philology\", \"philology\", \"philology\", \"philosophy\", \"philosophy\", \"philosophy\", \"physician\", \"physician\", \"physician\", \"physician\", \"physician\", \"physics\", \"physics\", \"physics\", \"piano\", \"piano\", \"piano\", \"piano\", \"piano\", \"piazzi\", \"picnic\", \"piero\", \"piero\", \"piero\", \"pigeon\", \"place\", \"place\", \"place\", \"place\", \"place\", \"plantation\", \"platz\", \"platz\", \"player\", \"player\", \"player\", \"player\", \"player\", \"plume\", \"plume\", \"pollitt\", \"poncet\", \"populaire\", \"portrait\", \"portrait\", \"portrait\", \"portrait\", \"potsdamer\", \"potsdamer\", \"pound\", \"pound\", \"pound\", \"pound\", \"prada\", \"prada\", \"prada\", \"president\", \"president\", \"pressburger\", \"previn\", \"previn\", \"prey\", \"prince\", \"privatdozent\", \"professor\", \"professor\", \"professor\", \"professor\", \"professor\", \"prosper\", \"prosper\", \"psv\", \"qanta\", \"qanta\", \"race\", \"race\", \"race\", \"race\", \"radio\", \"radio\", \"radio\", \"radio\", \"rayne\", \"real\", \"real\", \"real\", \"record\", \"record\", \"record\", \"record\", \"recording\", \"recording\", \"recording\", \"recording\", \"recording\", \"reduction\", \"reich\", \"reich\", \"reich\", \"reich\", \"revolution\", \"revolution\", \"revolution\", \"revolution\", \"ricordi\", \"rider\", \"rider\", \"rider\", \"rochefort\", \"rocker\", \"rocker\", \"role\", \"role\", \"role\", \"role\", \"ronaldo\", \"room\", \"rothschild\", \"rothschild\", \"rothschild\", \"roubaix\", \"roubaix\", \"rouge\", \"round\", \"round\", \"round\", \"round\", \"rsc\", \"rudge\", \"rugby\", \"ruhrtriennale\", \"runway\", \"runway\", \"runway\", \"sale\", \"sale\", \"sale\", \"sale\", \"sale\", \"salon\", \"salon\", \"salon\", \"salon\", \"salon\", \"samale\", \"sanatorium\", \"sanitation\", \"sargent\", \"schlemmer\", \"schmidt\", \"schnabel\", \"schnabel\", \"school\", \"school\", \"school\", \"schulze\", \"science\", \"science\", \"science\", \"science\", \"scorer\", \"season\", \"season\", \"season\", \"season\", \"season\", \"season\", \"secession\", \"secession\", \"secession\", \"secretary\", \"semi\", \"semi\", \"sempione\", \"series\", \"series\", \"series\", \"series\", \"series\", \"service\", \"service\", \"sevilla\", \"sevilla\", \"sevilla\", \"sevilla\", \"shakhtar\", \"sheen\", \"slade\", \"slade\", \"slade\", \"smyrna\", \"society\", \"society\", \"society\", \"staatliche\", \"staatliche\", \"staatsoper\", \"staatsoper\", \"staatsoper\", \"staatsoper\", \"stadium\", \"stadium\", \"stadium\", \"stadium\", \"stadium\", \"stage\", \"stage\", \"stage\", \"stage\", \"stage\", \"state\", \"state\", \"state\", \"state\", \"state\", \"staunton\", \"steeplechase\", \"store\", \"store\", \"store\", \"store\", \"story\", \"story\", \"story\", \"street\", \"street\", \"street\", \"street\", \"strehler\", \"striker\", \"student\", \"student\", \"studio\", \"studio\", \"studio\", \"studio\", \"study\", \"study\", \"study\", \"stuttgart\", \"stuttgart\", \"stuttgart\", \"st\\u00e9fano\", \"subject\", \"subject\", \"supermodel\", \"sussex\", \"swift\", \"swift\", \"swift\", \"symphony\", \"symphony\", \"symphony\", \"symphony\", \"tagore\", \"talleyrand\", \"teacher\", \"teacher\", \"teacher\", \"teacher\", \"teacher\", \"team\", \"team\", \"team\", \"team\", \"teatro\", \"teatro\", \"teatro\", \"teatro\", \"tegel\", \"telephone\", \"telephone\", \"telephone\", \"tempelhof\", \"thaly\", \"thame\", \"theater\", \"theater\", \"theater\", \"theater\", \"theatre\", \"theatre\", \"theatre\", \"theatre\", \"theatre\", \"thier\", \"time\", \"time\", \"time\", \"time\", \"time\", \"time\", \"title\", \"title\", \"title\", \"title\", \"title\", \"topshop\", \"tour\", \"tour\", \"tour\", \"tour\", \"tour\", \"tournament\", \"tournament\", \"train\", \"train\", \"trance\", \"transfer\", \"transfer\", \"transfer\", \"transfer\", \"trepper\", \"trip\", \"trip\", \"trium\", \"trophy\", \"trophy\", \"trophy\", \"turin\", \"turin\", \"turin\", \"turin\", \"ufa\", \"und\", \"und\", \"und\", \"und\", \"university\", \"university\", \"valentino\", \"valentino\", \"vangeli\", \"vangeli\", \"venice\", \"venice\", \"venice\", \"venice\", \"venice\", \"versace\", \"versace\", \"versace\", \"vicenza\", \"victoria\", \"victoria\", \"victoria\", \"victoria\", \"victory\", \"victory\", \"victory\", \"victory\", \"victory\", \"victory\", \"vienna\", \"vienna\", \"vienna\", \"vienna\", \"vienna\", \"vogue\", \"vogue\", \"vogue\", \"voke\", \"wafd\", \"walden\", \"wallace\", \"wallace\", \"war\", \"war\", \"war\", \"watercolour\", \"watercolour\", \"watercolour\", \"wear\", \"wear\", \"wear\", \"wear\", \"week\", \"week\", \"week\", \"week\", \"werder\", \"wevelgem\", \"whistler\", \"widf\", \"wilde\", \"wilhelm\", \"wilhelm\", \"wilhelm\", \"wilhelm\", \"win\", \"win\", \"win\", \"win\", \"win\", \"win\", \"winner\", \"winner\", \"winner\", \"winner\", \"woman\", \"woman\", \"woman\", \"woman\", \"womenswear\", \"wood\", \"wood\", \"wood\", \"wood\", \"work\", \"work\", \"work\", \"world\", \"world\", \"world\", \"world\", \"writer\", \"writer\", \"writer\", \"wuppertal\", \"year\", \"year\", \"year\", \"year\", \"year\", \"zeitung\", \"zeitung\", \"zeitung\", \"zidane\", \"zoology\", \"zoology\"]}, \"R\": 30, \"lambda.step\": 0.01, \"plot.opts\": {\"xlab\": \"PC1\", \"ylab\": \"PC2\"}, \"topic.order\": [7, 5, 3, 2, 1, 6, 4]};\n",
       "\n",
       "function LDAvis_load_lib(url, callback){\n",
       "  var s = document.createElement('script');\n",
       "  s.src = url;\n",
       "  s.async = true;\n",
       "  s.onreadystatechange = s.onload = callback;\n",
       "  s.onerror = function(){console.warn(\"failed to load library \" + url);};\n",
       "  document.getElementsByTagName(\"head\")[0].appendChild(s);\n",
       "}\n",
       "\n",
       "if(typeof(LDAvis) !== \"undefined\"){\n",
       "   // already loaded: just create the visualization\n",
       "   !function(LDAvis){\n",
       "       new LDAvis(\"#\" + \"ldavis_el2724822018747912161346739892\", ldavis_el2724822018747912161346739892_data);\n",
       "   }(LDAvis);\n",
       "}else if(typeof define === \"function\" && define.amd){\n",
       "   // require.js is available: use it to load d3/LDAvis\n",
       "   require.config({paths: {d3: \"https://d3js.org/d3.v5\"}});\n",
       "   require([\"d3\"], function(d3){\n",
       "      window.d3 = d3;\n",
       "      LDAvis_load_lib(\"https://cdn.jsdelivr.net/gh/bmabey/pyLDAvis@3.3.1/pyLDAvis/js/ldavis.v3.0.0.js\", function(){\n",
       "        new LDAvis(\"#\" + \"ldavis_el2724822018747912161346739892\", ldavis_el2724822018747912161346739892_data);\n",
       "      });\n",
       "    });\n",
       "}else{\n",
       "    // require.js not available: dynamically load d3 & LDAvis\n",
       "    LDAvis_load_lib(\"https://d3js.org/d3.v5.js\", function(){\n",
       "         LDAvis_load_lib(\"https://cdn.jsdelivr.net/gh/bmabey/pyLDAvis@3.3.1/pyLDAvis/js/ldavis.v3.0.0.js\", function(){\n",
       "                 new LDAvis(\"#\" + \"ldavis_el2724822018747912161346739892\", ldavis_el2724822018747912161346739892_data);\n",
       "            })\n",
       "         });\n",
       "}\n",
       "</script>"
      ],
      "text/plain": [
       "PreparedData(topic_coordinates=              x         y  topics  cluster       Freq\n",
       "topic                                                \n",
       "6      0.132527 -0.003401       1        1  61.354533\n",
       "4      0.060591  0.009828       2        1  12.062119\n",
       "2      0.126862  0.042410       3        1   9.206010\n",
       "1      0.168293 -0.049902       4        1   7.005444\n",
       "0      0.150022 -0.079395       5        1   5.980405\n",
       "5     -0.254318  0.352299       6        1   2.540925\n",
       "3     -0.383977 -0.271839       7        1   1.850564, topic_info=             Term         Freq        Total Category  logprob  loglift\n",
       "3757        opera  9960.000000  9960.000000  Default  30.0000  30.0000\n",
       "1964     festival  6750.000000  6750.000000  Default  29.0000  29.0000\n",
       "3358        milan  3866.000000  3866.000000  Default  28.0000  28.0000\n",
       "1985         film  6202.000000  6202.000000  Default  27.0000  27.0000\n",
       "1924      fashion  3668.000000  3668.000000  Default  26.0000  26.0000\n",
       "...           ...          ...          ...      ...      ...      ...\n",
       "18640  rothschild    31.828809   113.460582   Topic7  -6.5714   2.7186\n",
       "13532       jewel    27.850208    57.045126   Topic7  -6.7049   3.2727\n",
       "9217      couture    32.823460   143.716213   Topic7  -6.5406   2.5130\n",
       "4632        salon    41.775312   603.528031   Topic7  -6.2994   1.3192\n",
       "17523       pound    27.850208   185.783771   Topic7  -6.7049   2.0919\n",
       "\n",
       "[799 rows x 6 columns], token_table=       Topic      Freq     Term\n",
       "term                           \n",
       "3          5  0.985023       11\n",
       "38948      7  1.005378    12911\n",
       "38949      7  1.005378     12ja\n",
       "38951      7  1.005378     1330\n",
       "38952      7  1.005378   1394ca\n",
       "...      ...       ...      ...\n",
       "22438      2  0.039218  zeitung\n",
       "22438      6  0.902013  zeitung\n",
       "30067      5  1.011645   zidane\n",
       "22491      1  0.129127  zoology\n",
       "22491      6  0.878064  zoology\n",
       "\n",
       "[1505 rows x 3 columns], R=30, lambda_step=0.01, plot_opts={'xlab': 'PC1', 'ylab': 'PC2'}, topic_order=[7, 5, 3, 2, 1, 6, 4])"
      ]
     },
     "execution_count": 255,
     "metadata": {},
     "output_type": "execute_result"
    }
   ],
   "source": [
    "warnings.filterwarnings('ignore')\n",
    "pyLDAvis.enable_notebook()\n",
    "\n",
    "lda_conv = gensim.models.wrappers.ldamallet.malletmodel2ldamodel(lda_model)\n",
    "gensimvis.prepare(lda_conv, corpus, dictionary)\n"
   ]
  },
  {
   "cell_type": "code",
   "execution_count": 161,
   "id": "7b9cc241",
   "metadata": {},
   "outputs": [],
   "source": [
    "# for file in os.scandir(word_list_location):\n",
    "#     print(file.path)\n",
    "#     filename = file.path\n",
    "#     print(filename.split('__'))\n",
    "#     file = filename.replace('.pickle', '__.pickle')\n",
    "#     file = filename.replace('NOUNS___', 'NOUNS__')\n",
    "#     os.rename(filename, file)\n",
    "#os.rename()"
   ]
  },
  {
   "cell_type": "code",
   "execution_count": null,
   "id": "f9e166b2",
   "metadata": {},
   "outputs": [],
   "source": [
    "    # dictionary, corpus = vectorize(lemmatized_text, MIN_DF=1, MAX_DF=0.6)\n",
    "    # model, coherence, dictionary, corpus = train_model(lemmatized_text=lemmatized_text, dictionary=[], corpus=[], N_TOPICS=4)"
   ]
  }
 ],
 "metadata": {
  "kernelspec": {
   "display_name": "Python 3 (ipykernel)",
   "language": "python",
   "name": "python3"
  },
  "language_info": {
   "codemirror_mode": {
    "name": "ipython",
    "version": 3
   },
   "file_extension": ".py",
   "mimetype": "text/x-python",
   "name": "python",
   "nbconvert_exporter": "python",
   "pygments_lexer": "ipython3",
   "version": "3.8.0"
  }
 },
 "nbformat": 4,
 "nbformat_minor": 5
}
