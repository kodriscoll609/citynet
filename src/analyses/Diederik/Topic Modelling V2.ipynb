{
 "cells": [
  {
   "cell_type": "code",
   "execution_count": 3,
   "id": "d6450462",
   "metadata": {
    "collapsed": true
   },
   "outputs": [
    {
     "name": "stderr",
     "output_type": "stream",
     "text": [
      "c:\\users\\deejay\\personal files [local]\\applied data science\\thesis - citynet\\citynet\\venv_citynet\\lib\\site-packages\\past\\builtins\\misc.py:45: DeprecationWarning: the imp module is deprecated in favour of importlib; see the module's documentation for alternative uses\n",
      "  from imp import reload\n"
     ]
    }
   ],
   "source": [
    "import pickle\n",
    "import os \n",
    "from tqdm.notebook import tqdm\n",
    "import re\n",
    "import spacy\n",
    "\n",
    "nlp = spacy.load(\"en_core_web_sm\")\n",
    "nlp.max_length = 1500000\n",
    "nlp.disable_pipes('ner', 'parser')\n",
    "\n",
    "# gensim LDA\n",
    "\n",
    "from gensim.corpora import Dictionary\n",
    "from gensim.models.wrappers import LdaMallet\n",
    "from gensim.models import CoherenceModel\n",
    "\n",
    "# Visualise\n",
    "import warnings\n",
    "import gensim\n",
    "import pyLDAvis\n",
    "import pyLDAvis.gensim_models as gensimvis"
   ]
  },
  {
   "cell_type": "markdown",
   "id": "85f51227",
   "metadata": {},
   "source": [
    "# Save Lemmatized words"
   ]
  },
  {
   "cell_type": "code",
   "execution_count": 128,
   "id": "3cfbc70e",
   "metadata": {
    "collapsed": true
   },
   "outputs": [
    {
     "data": {
      "application/vnd.jupyter.widget-view+json": {
       "model_id": "1d032a5d3179451bba389f6ed04411f5",
       "version_major": 2,
       "version_minor": 0
      },
      "text/plain": [
       "Folders:   0%|          | 0/12 [00:00<?, ?it/s]"
      ]
     },
     "metadata": {},
     "output_type": "display_data"
    },
    {
     "name": "stdout",
     "output_type": "stream",
     "text": [
      "933\n"
     ]
    },
    {
     "data": {
      "application/vnd.jupyter.widget-view+json": {
       "model_id": "46e2bc92ecbc4e5f81400b36aa1458e0",
       "version_major": 2,
       "version_minor": 0
      },
      "text/plain": [
       "  0%|          | 0/2 [00:00<?, ?it/s]"
      ]
     },
     "metadata": {},
     "output_type": "display_data"
    },
    {
     "name": "stdout",
     "output_type": "stream",
     "text": [
      "7419\n"
     ]
    },
    {
     "data": {
      "application/vnd.jupyter.widget-view+json": {
       "model_id": "0f4c614915fd44dfb993d0f799292f0a",
       "version_major": 2,
       "version_minor": 0
      },
      "text/plain": [
       "  0%|          | 0/9 [00:00<?, ?it/s]"
      ]
     },
     "metadata": {},
     "output_type": "display_data"
    },
    {
     "name": "stdout",
     "output_type": "stream",
     "text": [
      "2320\n"
     ]
    },
    {
     "data": {
      "application/vnd.jupyter.widget-view+json": {
       "model_id": "278295d465ee469da9fefe1b6e21ef51",
       "version_major": 2,
       "version_minor": 0
      },
      "text/plain": [
       "  0%|          | 0/4 [00:00<?, ?it/s]"
      ]
     },
     "metadata": {},
     "output_type": "display_data"
    },
    {
     "name": "stdout",
     "output_type": "stream",
     "text": [
      "2523\n"
     ]
    },
    {
     "data": {
      "application/vnd.jupyter.widget-view+json": {
       "model_id": "713c36957c6c46b5a9fa090da00ae286",
       "version_major": 2,
       "version_minor": 0
      },
      "text/plain": [
       "  0%|          | 0/4 [00:00<?, ?it/s]"
      ]
     },
     "metadata": {},
     "output_type": "display_data"
    },
    {
     "name": "stdout",
     "output_type": "stream",
     "text": [
      "1037\n"
     ]
    },
    {
     "data": {
      "application/vnd.jupyter.widget-view+json": {
       "model_id": "2b1d268507ab4a98a862d2ad1f53f254",
       "version_major": 2,
       "version_minor": 0
      },
      "text/plain": [
       "  0%|          | 0/3 [00:00<?, ?it/s]"
      ]
     },
     "metadata": {},
     "output_type": "display_data"
    },
    {
     "name": "stdout",
     "output_type": "stream",
     "text": [
      "1130\n"
     ]
    },
    {
     "data": {
      "application/vnd.jupyter.widget-view+json": {
       "model_id": "1dfa44c628a245cda5816ae89614fa7f",
       "version_major": 2,
       "version_minor": 0
      },
      "text/plain": [
       "  0%|          | 0/3 [00:00<?, ?it/s]"
      ]
     },
     "metadata": {},
     "output_type": "display_data"
    },
    {
     "name": "stdout",
     "output_type": "stream",
     "text": [
      "7662\n"
     ]
    },
    {
     "data": {
      "application/vnd.jupyter.widget-view+json": {
       "model_id": "460e05aef0db4a6f81a33e85cefec685",
       "version_major": 2,
       "version_minor": 0
      },
      "text/plain": [
       "  0%|          | 0/9 [00:00<?, ?it/s]"
      ]
     },
     "metadata": {},
     "output_type": "display_data"
    },
    {
     "name": "stdout",
     "output_type": "stream",
     "text": [
      "21193\n"
     ]
    },
    {
     "data": {
      "application/vnd.jupyter.widget-view+json": {
       "model_id": "7f43a6736d1d4ec0b5b0d0d026f98dc0",
       "version_major": 2,
       "version_minor": 0
      },
      "text/plain": [
       "  0%|          | 0/23 [00:00<?, ?it/s]"
      ]
     },
     "metadata": {},
     "output_type": "display_data"
    },
    {
     "name": "stdout",
     "output_type": "stream",
     "text": [
      "3294\n"
     ]
    },
    {
     "data": {
      "application/vnd.jupyter.widget-view+json": {
       "model_id": "92746d2b5c214d618ad6c59ba07a9883",
       "version_major": 2,
       "version_minor": 0
      },
      "text/plain": [
       "  0%|          | 0/5 [00:00<?, ?it/s]"
      ]
     },
     "metadata": {},
     "output_type": "display_data"
    },
    {
     "name": "stdout",
     "output_type": "stream",
     "text": [
      "3264\n"
     ]
    },
    {
     "data": {
      "application/vnd.jupyter.widget-view+json": {
       "model_id": "2a1a9ae5452b4e6f8385c546f68a1e82",
       "version_major": 2,
       "version_minor": 0
      },
      "text/plain": [
       "  0%|          | 0/5 [00:00<?, ?it/s]"
      ]
     },
     "metadata": {},
     "output_type": "display_data"
    }
   ],
   "source": [
    "city_pair_folder = \"../../../../enwiki_city_pairs/\"\n",
    "for file in tqdm(os.scandir(city_pair_folder), total=len(os.listdir(city_pair_folder)), leave=True, desc='Folders'): # tqdm(os.listdir(subfolder), total=len(os.listdir(subfolder)), leave=True, desc='Text Files'):                     \n",
    "    if not file.is_dir():\n",
    "        lemmatize_file(file.path, city_pair=file.name[:-4])"
   ]
  },
  {
   "cell_type": "code",
   "execution_count": 127,
   "id": "0eaae694",
   "metadata": {},
   "outputs": [],
   "source": [
    "def lemmatize_file(file_path, city_pair):\n",
    "    with open(file_path, 'r', encoding='utf-16') as f:\n",
    "        city_pair_text_list = [x.strip().lower() for x in f.read().split('\\n') if len(x) and 'title=' not in x]\n",
    "    print(len(city_pair_text_list))\n",
    "    \n",
    "    nr_of_chunks = len(city_pair_text_list)//1000 + 1\n",
    "    chunk_size = (len(city_pair_text_list)-1)//nr_of_chunks\n",
    "    chunked_text = [' '.join(city_pair_text_list[offs:offs+chunk_size]) for offs in range(0, len(city_pair_text_list), chunk_size)]\n",
    "    \n",
    "    processed_text = [text for text in tqdm(nlp.pipe(chunked_text, n_process=2, batch_size=1, disable=[\"ner\", \"parser\"]), total=len(chunked_text))]\n",
    "    lemmatized_text = [[word.lemma_ for word in text if word.pos_ == 'NOUN' and not word.is_punct and not word.is_stop] for text in processed_text]\n",
    "    regexed_text = [[re.sub(r'\\W+', '', word) for word in text] for text in lemmatized_text]\n",
    "    flattened_words = [item for sublist in regexed_text for item in sublist]\n",
    "    \n",
    "    with open(f'../../../../enwiki_city_pairs_nouns/NOUNS_{city_pair}.pickle', 'wb') as fp:\n",
    "        pickle.dump(flattened_words, fp)"
   ]
  },
  {
   "cell_type": "markdown",
   "id": "f1be48c1",
   "metadata": {},
   "source": [
    "# Open Lemmatized words"
   ]
  },
  {
   "cell_type": "code",
   "execution_count": 103,
   "id": "c7e898d3",
   "metadata": {},
   "outputs": [],
   "source": [
    "word_list_location = '../../../../enwiki_city_pairs_nouns/'\n",
    "words = []\n",
    "city_pairs = []\n",
    "for file in os.scandir(word_list_location):\n",
    "    with open(file.path, 'rb') as fp:\n",
    "        words.append(pickle.load(fp))\n",
    "        city_pairs.append(file.name.split('__')[1])"
   ]
  },
  {
   "cell_type": "code",
   "execution_count": 5,
   "id": "44c55d40",
   "metadata": {},
   "outputs": [
    {
     "data": {
      "text/plain": [
       "['berlin_milan',\n",
       " 'london_berlin',\n",
       " 'london_madrid',\n",
       " 'london_milan',\n",
       " 'madrid_berlin',\n",
       " 'madrid_milan',\n",
       " 'paris_berlin',\n",
       " 'paris_london',\n",
       " 'paris_madrid',\n",
       " 'paris_milan']"
      ]
     },
     "execution_count": 5,
     "metadata": {},
     "output_type": "execute_result"
    }
   ],
   "source": [
    "city_pairs"
   ]
  },
  {
   "cell_type": "code",
   "execution_count": 87,
   "id": "4589495a",
   "metadata": {},
   "outputs": [
    {
     "name": "stdout",
     "output_type": "stream",
     "text": [
      "('study', 0.017707267144319343)\n",
      "('doctorate', 0.010747185261003071)\n",
      "('piano', 0.007471852610030706)\n",
      "('literature', 0.006857727737973388)\n",
      "('philosophy', 0.005834186284544524)\n",
      "('camp', 0.0053224155578300925)\n",
      "('budapest', 0.005015353121801433)\n",
      "('berlin', 0.004708290685772774)\n",
      "('thesis', 0.004708290685772774)\n",
      "('concentration', 0.0040941658137154556)\n",
      "('philology', 0.003991811668372569)\n",
      "('dissertation', 0.0038894575230296827)\n",
      "('habilitation', 0.0037871033776867963)\n",
      "('party', 0.0033776867963152507)\n",
      "('sorbonne', 0.003172978505629478)\n",
      "('secession', 0.0030706243602865915)\n",
      "('coulondre', 0.0030706243602865915)\n",
      "('comrade', 0.002968270214943705)\n",
      "('instructor', 0.0028659160696008186)\n",
      "('apparatus', 0.0027635619242579327)\n"
     ]
    }
   ],
   "source": [
    "for l in words:\n",
    "    print(l[:5])"
   ]
  },
  {
   "cell_type": "code",
   "execution_count": 102,
   "id": "f8eb4589",
   "metadata": {},
   "outputs": [
    {
     "data": {
      "text/plain": [
       "[('paralympic', 0.004208387752140473),\n",
       " ('breaststroke', 0.00391815411406182),\n",
       " ('murphy', 0.0034828036569438396),\n",
       " ('ury', 0.0031925700188651864),\n",
       " ('macfarlane', 0.0030474531998258597),\n",
       " ('throw', 0.002466985923668553),\n",
       " ('raf', 0.0023218691046292266),\n",
       " ('archaeopteryx', 0.0023218691046292266),\n",
       " ('bowie', 0.0020316354665505733),\n",
       " ('bafta', 0.0020316354665505733),\n",
       " ('dungeon', 0.0020316354665505733),\n",
       " ('prey', 0.0018865186475112464),\n",
       " ('wachowski', 0.0018865186475112464),\n",
       " ('luftwaffe', 0.0018865186475112464),\n",
       " ('dyke', 0.0017414018284719198),\n",
       " ('willa', 0.0017414018284719198),\n",
       " ('secker', 0.0015962850094325932),\n",
       " ('accum', 0.0015962850094325932),\n",
       " ('mining', 0.0014511681903932665),\n",
       " ('wax', 0.00130605137135394)]"
      ]
     },
     "execution_count": 102,
     "metadata": {},
     "output_type": "execute_result"
    }
   ],
   "source": [
    "words"
   ]
  },
  {
   "cell_type": "markdown",
   "id": "fbfee96b",
   "metadata": {},
   "source": [
    "# Vectorize words (dictionary & corpus)"
   ]
  },
  {
   "cell_type": "code",
   "execution_count": 113,
   "id": "8335b071",
   "metadata": {},
   "outputs": [],
   "source": [
    "def vectorize(lemmatized_text, filter_extremes=True, MIN_DF = 5, MAX_DF = 1):\n",
    "    \"\"\"\n",
    "    -->\n",
    "        function that vectorizes preprocessed (lemmatized) text.\n",
    "\n",
    "        Parameters:\n",
    "        -----------\n",
    "            lemmatized_text: list, str -> contains the key words to be matched\n",
    "            MIN_DF: int (default = 1) -> minimum document frequency (only keep the words occuring in at least one document)\n",
    "            MAX_DF: int (default = 0.6) -> maximum document frequency (word has to occur in less than 60% of the documents)\n",
    "\n",
    "    \"\"\"\n",
    "    \n",
    "    # Get Vocabulary\n",
    "    dictionary = Dictionary(lemmatized_text)\n",
    "    \n",
    "    if filter_extremes:\n",
    "        dictionary.filter_extremes(no_below=MIN_DF, no_above=MAX_DF)\n",
    "    \n",
    "    corpus = [dictionary.doc2bow(text) for text in lemmatized_text]\n",
    "    \n",
    "    return(dictionary, corpus)"
   ]
  },
  {
   "cell_type": "code",
   "execution_count": 114,
   "id": "9a73ab17",
   "metadata": {},
   "outputs": [],
   "source": [
    "dictionary, corpus = vectorize(words, filter_extremes=True)"
   ]
  },
  {
   "cell_type": "code",
   "execution_count": 117,
   "id": "962572ea",
   "metadata": {},
   "outputs": [
    {
     "data": {
      "text/plain": [
       "8740"
      ]
     },
     "execution_count": 117,
     "metadata": {},
     "output_type": "execute_result"
    }
   ],
   "source": [
    "len(dictionary)"
   ]
  },
  {
   "cell_type": "code",
   "execution_count": 11,
   "id": "38922101",
   "metadata": {
    "scrolled": true
   },
   "outputs": [
    {
     "data": {
      "text/plain": [
       "list"
      ]
     },
     "execution_count": 11,
     "metadata": {},
     "output_type": "execute_result"
    }
   ],
   "source": [
    "len(corpus[1])\n",
    "type(corpus)"
   ]
  },
  {
   "cell_type": "markdown",
   "id": "5f93613e",
   "metadata": {},
   "source": [
    "# Train LDA model"
   ]
  },
  {
   "cell_type": "code",
   "execution_count": 126,
   "id": "3fbce143",
   "metadata": {},
   "outputs": [],
   "source": [
    "PATH_TO_MALLET = r'C:/mallet/bin/mallet.bat'\n",
    "\n",
    "def train_model(lemmatized_text, dictionary=[], corpus=[], MIN_DF = 2, MAX_DF = 1, N_TOPICS = 10, N_ITERATIONS = 1000):\n",
    "    \"\"\"\n",
    "    -->\n",
    "        function that trains model.\n",
    "\n",
    "        Parameters:\n",
    "        -----------\n",
    "            lemmatized_text: list, str -> contains the key words to be matched (created with the lemmatization function)\n",
    "            dictionary: gensim.corpora.dictionary.Dictionary -> output from vectorization function\n",
    "            corpus: list ([dictionary.doc2bow(text)...) -> output from vectorization function\n",
    "            MIN_DF: int (default = 1) -> minimum document frequency\n",
    "            MAX_DF: int (default = 0.6) -> maximum document frequency\n",
    "            N_TOPICS: int (default = 10) -> Topics to detect\n",
    "            N_ITERATIONS: int (default = 1000) -> 1000 often enough\n",
    "\n",
    "    \"\"\"\n",
    "\n",
    "    # Call vectorization function if either dictionary or corpus is missing as parameter\n",
    "#     if vectorize and not type(dictionary) == gensim.corpora.dictionary.Dictionary or not corpus:\n",
    "#         dictionary, corpus = vectorize(lemmatized_text, MIN_DF, MAX_DF)\n",
    "    \n",
    "    lda_model = LdaMallet(PATH_TO_MALLET,\n",
    "                corpus=corpus,\n",
    "                id2word=dictionary,\n",
    "                num_topics=N_TOPICS,\n",
    "                optimize_interval=10,\n",
    "                iterations=N_ITERATIONS)\n",
    "    \n",
    "    coherence_score = CoherenceModel(model=lda_model, texts=lemmatized_text, dictionary=dictionary, coherence='c_v').get_coherence()\n",
    "    \n",
    "    return(lda_model, coherence_score, dictionary, corpus)"
   ]
  },
  {
   "cell_type": "code",
   "execution_count": 132,
   "id": "cf23566c",
   "metadata": {},
   "outputs": [
    {
     "name": "stdout",
     "output_type": "stream",
     "text": [
      "CPU times: total: 8.19 s\n",
      "Wall time: 5min 2s\n"
     ]
    }
   ],
   "source": [
    "%%time\n",
    "\n",
    "lda_model, coherence_score, dictionary, corpus = train_model(words, dictionary, corpus, N_TOPICS=6)"
   ]
  },
  {
   "cell_type": "code",
   "execution_count": 141,
   "id": "617c352e",
   "metadata": {},
   "outputs": [
    {
     "data": {
      "text/plain": [
       "0.3902262937009409"
      ]
     },
     "execution_count": 141,
     "metadata": {},
     "output_type": "execute_result"
    }
   ],
   "source": [
    "coherence_score"
   ]
  },
  {
   "cell_type": "markdown",
   "id": "ece89bc8",
   "metadata": {},
   "source": [
    "# Word topic distribution"
   ]
  },
  {
   "cell_type": "code",
   "execution_count": 140,
   "id": "01d34bdb",
   "metadata": {},
   "outputs": [
    {
     "name": "stdout",
     "output_type": "stream",
     "text": [
      "0 [('opera', 0.034), ('milan', 0.034), ('fashion', 0.023), ('year', 0.012), ('model', 0.012), ('work', 0.01), ('art', 0.01), ('week', 0.01)]\n",
      "1 [('berlin', 0.017), ('festival', 0.017), ('opera', 0.016), ('art', 0.016), ('year', 0.013), ('film', 0.013), ('work', 0.012), ('time', 0.009)]\n",
      "2 [('year', 0.016), ('art', 0.015), ('work', 0.013), ('time', 0.013), ('school', 0.008), ('exhibition', 0.007), ('war', 0.007), ('painting', 0.007)]\n",
      "3 [('art', 0.017), ('opera', 0.015), ('festival', 0.012), ('city', 0.012), ('work', 0.011), ('year', 0.01), ('museum', 0.008), ('world', 0.007)]\n",
      "4 [('club', 0.031), ('season', 0.025), ('team', 0.021), ('champion', 0.019), ('milan', 0.018), ('league', 0.018), ('goal', 0.017), ('time', 0.017)]\n",
      "5 [('art', 0.017), ('year', 0.012), ('world', 0.01), ('music', 0.01), ('gallery', 0.009), ('film', 0.009), ('company', 0.009), ('city', 0.008)]\n"
     ]
    }
   ],
   "source": [
    "MAX_WORDS = 8\n",
    "N_TOPICS = 6\n",
    "\n",
    "for i in range(N_TOPICS):\n",
    "    topic_words = lda_model.show_topic(i, topn=MAX_WORDS)\n",
    "    print(i, [(x[0], round(x[1], 3)) for x in topic_words])"
   ]
  },
  {
   "cell_type": "markdown",
   "id": "8c5bb14b",
   "metadata": {},
   "source": [
    "# Document topic distributions"
   ]
  },
  {
   "cell_type": "code",
   "execution_count": 44,
   "id": "c069b811",
   "metadata": {
    "collapsed": true
   },
   "outputs": [
    {
     "data": {
      "text/plain": [
       "[(0,\n",
       "  '0.026*\"year\" + 0.014*\"company\" + 0.013*\"city\" + 0.012*\"exhibition\" + 0.009*\"book\" + 0.009*\"art\" + 0.009*\"gallery\" + 0.009*\"theatre\" + 0.008*\"group\" + 0.007*\"woman\"'),\n",
       " (1,\n",
       "  '0.005*\"messager\" + 0.003*\"westminster\" + 0.002*\"pastry\" + 0.002*\"cody\" + 0.002*\"crane\" + 0.002*\"truce\" + 0.002*\"val\" + 0.002*\"wardrobe\" + 0.002*\"crédit\" + 0.002*\"stuff\"'),\n",
       " (2,\n",
       "  '0.014*\"college\" + 0.011*\"eurovision\" + 0.007*\"eurostar\" + 0.007*\"pound\" + 0.005*\"investment\" + 0.004*\"gatwick\" + 0.004*\"cent\" + 0.004*\"drury\" + 0.003*\"edward\" + 0.003*\"exhibitor\"'),\n",
       " (3,\n",
       "  '0.004*\"bourbon\" + 0.003*\"park\" + 0.003*\"whistler\" + 0.003*\"creed\" + 0.003*\"tile\" + 0.003*\"obelisk\" + 0.002*\"côte\" + 0.002*\"woman\" + 0.002*\"hospital\" + 0.002*\"mather\"'),\n",
       " (4,\n",
       "  '0.052*\"milan\" + 0.043*\"fashion\" + 0.023*\"model\" + 0.015*\"week\" + 0.010*\"race\" + 0.009*\"design\" + 0.009*\"opera\" + 0.008*\"designer\" + 0.007*\"tour\" + 0.007*\"naple\"'),\n",
       " (5,\n",
       "  '0.029*\"art\" + 0.017*\"work\" + 0.015*\"time\" + 0.015*\"world\" + 0.011*\"film\" + 0.010*\"museum\" + 0.009*\"war\" + 0.009*\"music\" + 0.009*\"member\" + 0.008*\"school\"'),\n",
       " (6,\n",
       "  '0.005*\"slade\" + 0.002*\"penny\" + 0.002*\"gobar\" + 0.002*\"freeman\" + 0.002*\"rhy\" + 0.002*\"clementine\" + 0.002*\"guild\" + 0.002*\"crescent\" + 0.002*\"löwenthal\" + 0.002*\"modelling\"'),\n",
       " (7,\n",
       "  '0.032*\"club\" + 0.026*\"season\" + 0.025*\"team\" + 0.023*\"milan\" + 0.019*\"champion\" + 0.018*\"league\" + 0.018*\"goal\" + 0.018*\"match\" + 0.014*\"time\" + 0.013*\"title\"'),\n",
       " (8,\n",
       "  '0.016*\"painting\" + 0.014*\"school\" + 0.010*\"society\" + 0.009*\"director\" + 0.009*\"portrait\" + 0.008*\"painter\" + 0.008*\"work\" + 0.008*\"time\" + 0.007*\"career\" + 0.007*\"service\"'),\n",
       " (9,\n",
       "  '0.006*\"wolff\" + 0.004*\"cigarette\" + 0.003*\"spd\" + 0.002*\"dona\" + 0.002*\"infirmary\" + 0.002*\"sanskrit\" + 0.002*\"rie\" + 0.002*\"pow\" + 0.002*\"skyline\" + 0.002*\"entertainer\"'),\n",
       " (10,\n",
       "  '0.060*\"milan\" + 0.003*\"tuzla\" + 0.003*\"paladino\" + 0.002*\"skirt\" + 0.002*\"chervonet\" + 0.002*\"bowie\" + 0.002*\"ferrando\" + 0.002*\"mislow\" + 0.002*\"tamino\" + 0.002*\"piazzi\"'),\n",
       " (11,\n",
       "  '0.048*\"opera\" + 0.018*\"festival\" + 0.015*\"year\" + 0.013*\"art\" + 0.013*\"role\" + 0.012*\"city\" + 0.012*\"state\" + 0.011*\"work\" + 0.009*\"vienna\" + 0.009*\"music\"'),\n",
       " (12,\n",
       "  '0.010*\"master\" + 0.010*\"eurovision\" + 0.008*\"saint\" + 0.008*\"round\" + 0.007*\"embassy\" + 0.007*\"race\" + 0.007*\"painting\" + 0.007*\"aire\" + 0.006*\"germain\" + 0.006*\"buenos\"'),\n",
       " (13,\n",
       "  '0.040*\"berlin\" + 0.026*\"film\" + 0.022*\"festival\" + 0.012*\"orchestra\" + 0.008*\"vienna\" + 0.008*\"der\" + 0.007*\"marathon\" + 0.007*\"state\" + 0.007*\"race\" + 0.007*\"deutsche\"'),\n",
       " (14,\n",
       "  '0.018*\"study\" + 0.011*\"doctorate\" + 0.007*\"piano\" + 0.007*\"literature\" + 0.006*\"philosophy\" + 0.005*\"camp\" + 0.005*\"budapest\" + 0.005*\"thesis\" + 0.005*\"berlin\" + 0.004*\"concentration\"')]"
      ]
     },
     "execution_count": 44,
     "metadata": {},
     "output_type": "execute_result"
    }
   ],
   "source": [
    "lda_model.print_topics()"
   ]
  },
  {
   "cell_type": "code",
   "execution_count": 138,
   "id": "d7956af1",
   "metadata": {},
   "outputs": [
    {
     "data": {
      "text/html": [
       "<div>\n",
       "<style scoped>\n",
       "    .dataframe tbody tr th:only-of-type {\n",
       "        vertical-align: middle;\n",
       "    }\n",
       "\n",
       "    .dataframe tbody tr th {\n",
       "        vertical-align: top;\n",
       "    }\n",
       "\n",
       "    .dataframe thead th {\n",
       "        text-align: right;\n",
       "    }\n",
       "</style>\n",
       "<table border=\"1\" class=\"dataframe\">\n",
       "  <thead>\n",
       "    <tr style=\"text-align: right;\">\n",
       "      <th></th>\n",
       "      <th>topic_0</th>\n",
       "      <th>topic_1</th>\n",
       "      <th>topic_2</th>\n",
       "      <th>topic_3</th>\n",
       "      <th>topic_4</th>\n",
       "      <th>topic_5</th>\n",
       "    </tr>\n",
       "    <tr>\n",
       "      <th>city_pairs</th>\n",
       "      <th></th>\n",
       "      <th></th>\n",
       "      <th></th>\n",
       "      <th></th>\n",
       "      <th></th>\n",
       "      <th></th>\n",
       "    </tr>\n",
       "  </thead>\n",
       "  <tbody>\n",
       "    <tr>\n",
       "      <th>berlin_milan</th>\n",
       "      <td>0.385312</td>\n",
       "      <td>0.346716</td>\n",
       "      <td>0.005675</td>\n",
       "      <td>0.014046</td>\n",
       "      <td>0.029740</td>\n",
       "      <td>0.218511</td>\n",
       "    </tr>\n",
       "    <tr>\n",
       "      <th>london_berlin</th>\n",
       "      <td>0.010370</td>\n",
       "      <td>0.333222</td>\n",
       "      <td>0.126719</td>\n",
       "      <td>0.018533</td>\n",
       "      <td>0.000066</td>\n",
       "      <td>0.511090</td>\n",
       "    </tr>\n",
       "    <tr>\n",
       "      <th>london_madrid</th>\n",
       "      <td>0.009128</td>\n",
       "      <td>0.046449</td>\n",
       "      <td>0.105221</td>\n",
       "      <td>0.307612</td>\n",
       "      <td>0.075346</td>\n",
       "      <td>0.456244</td>\n",
       "    </tr>\n",
       "    <tr>\n",
       "      <th>london_milan</th>\n",
       "      <td>0.487751</td>\n",
       "      <td>0.043231</td>\n",
       "      <td>0.101632</td>\n",
       "      <td>0.002799</td>\n",
       "      <td>0.044314</td>\n",
       "      <td>0.320273</td>\n",
       "    </tr>\n",
       "    <tr>\n",
       "      <th>madrid_berlin</th>\n",
       "      <td>0.011195</td>\n",
       "      <td>0.312714</td>\n",
       "      <td>0.002470</td>\n",
       "      <td>0.323248</td>\n",
       "      <td>0.078263</td>\n",
       "      <td>0.272110</td>\n",
       "    </tr>\n",
       "    <tr>\n",
       "      <th>madrid_milan</th>\n",
       "      <td>0.089897</td>\n",
       "      <td>0.012905</td>\n",
       "      <td>0.008892</td>\n",
       "      <td>0.046982</td>\n",
       "      <td>0.756225</td>\n",
       "      <td>0.085099</td>\n",
       "    </tr>\n",
       "    <tr>\n",
       "      <th>paris_berlin</th>\n",
       "      <td>0.013869</td>\n",
       "      <td>0.395010</td>\n",
       "      <td>0.247337</td>\n",
       "      <td>0.031856</td>\n",
       "      <td>0.000163</td>\n",
       "      <td>0.311765</td>\n",
       "    </tr>\n",
       "    <tr>\n",
       "      <th>paris_london</th>\n",
       "      <td>0.030657</td>\n",
       "      <td>0.046643</td>\n",
       "      <td>0.424022</td>\n",
       "      <td>0.028611</td>\n",
       "      <td>0.001678</td>\n",
       "      <td>0.468389</td>\n",
       "    </tr>\n",
       "    <tr>\n",
       "      <th>paris_madrid</th>\n",
       "      <td>0.000654</td>\n",
       "      <td>0.057089</td>\n",
       "      <td>0.236460</td>\n",
       "      <td>0.361039</td>\n",
       "      <td>0.105110</td>\n",
       "      <td>0.239647</td>\n",
       "    </tr>\n",
       "    <tr>\n",
       "      <th>paris_milan</th>\n",
       "      <td>0.487361</td>\n",
       "      <td>0.040046</td>\n",
       "      <td>0.210085</td>\n",
       "      <td>0.000700</td>\n",
       "      <td>0.074753</td>\n",
       "      <td>0.187056</td>\n",
       "    </tr>\n",
       "  </tbody>\n",
       "</table>\n",
       "</div>"
      ],
      "text/plain": [
       "                topic_0   topic_1   topic_2   topic_3   topic_4   topic_5\n",
       "city_pairs                                                               \n",
       "berlin_milan   0.385312  0.346716  0.005675  0.014046  0.029740  0.218511\n",
       "london_berlin  0.010370  0.333222  0.126719  0.018533  0.000066  0.511090\n",
       "london_madrid  0.009128  0.046449  0.105221  0.307612  0.075346  0.456244\n",
       "london_milan   0.487751  0.043231  0.101632  0.002799  0.044314  0.320273\n",
       "madrid_berlin  0.011195  0.312714  0.002470  0.323248  0.078263  0.272110\n",
       "madrid_milan   0.089897  0.012905  0.008892  0.046982  0.756225  0.085099\n",
       "paris_berlin   0.013869  0.395010  0.247337  0.031856  0.000163  0.311765\n",
       "paris_london   0.030657  0.046643  0.424022  0.028611  0.001678  0.468389\n",
       "paris_madrid   0.000654  0.057089  0.236460  0.361039  0.105110  0.239647\n",
       "paris_milan    0.487361  0.040046  0.210085  0.000700  0.074753  0.187056"
      ]
     },
     "execution_count": 138,
     "metadata": {},
     "output_type": "execute_result"
    }
   ],
   "source": [
    "import pandas as pd\n",
    "\n",
    "transformed_docs = lda_model.load_document_topics()\n",
    "topic_distributions = pd.DataFrame([[x[1] for x in doc] for doc in transformed_docs], \n",
    "             columns=['topic_{}'.format(i) for i in range(6)])\n",
    "topic_distributions['city_pairs'] = city_pairs\n",
    "topic_distributions.set_index(\"city_pairs\", inplace=True)\n",
    "topic_distributions\n",
    "# topic_distributions.mean().sort_values(ascending=False)"
   ]
  },
  {
   "cell_type": "code",
   "execution_count": null,
   "id": "32286fa8",
   "metadata": {},
   "outputs": [],
   "source": []
  },
  {
   "cell_type": "markdown",
   "id": "9c6cae93",
   "metadata": {},
   "source": [
    "# Visualise"
   ]
  },
  {
   "cell_type": "code",
   "execution_count": 134,
   "id": "ea812ec0",
   "metadata": {},
   "outputs": [
    {
     "data": {
      "text/html": [
       "\n",
       "<link rel=\"stylesheet\" type=\"text/css\" href=\"https://cdn.jsdelivr.net/gh/bmabey/pyLDAvis@3.3.1/pyLDAvis/js/ldavis.v1.0.0.css\">\n",
       "\n",
       "\n",
       "<div id=\"ldavis_el3214816365831873925828157115\"></div>\n",
       "<script type=\"text/javascript\">\n",
       "\n",
       "var ldavis_el3214816365831873925828157115_data = {\"mdsDat\": {\"x\": [-0.017458580871882918, -0.09790717730562398, -0.1140710215069827, -0.004378471475702049, -0.04339237613483766, 0.27720762729502896], \"y\": [0.0240363427818794, -0.15182769503363297, -0.028440300155363717, 0.13486629153236218, 0.07180825717878962, -0.05044289630403438], \"topics\": [1, 2, 3, 4, 5, 6], \"cluster\": [1, 1, 1, 1, 1, 1], \"Freq\": [39.4243863171501, 27.063118024107492, 15.189385535184064, 8.165648904233318, 6.333828383970032, 3.8236328353550073]}, \"tinfo\": {\"Term\": [\"opera\", \"milan\", \"club\", \"fashion\", \"season\", \"festival\", \"berlin\", \"year\", \"time\", \"team\", \"city\", \"film\", \"art\", \"title\", \"league\", \"model\", \"museum\", \"match\", \"champion\", \"work\", \"world\", \"competition\", \"record\", \"goal\", \"music\", \"game\", \"week\", \"gallery\", \"study\", \"group\", \"girlfriend\", \"indie\", \"mineral\", \"perkin\", \"rarity\", \"vor\", \"aeroplane\", \"archeology\", \"ashe\", \"assassin\", \"edward\", \"employ\", \"entourage\", \"fault\", \"female\", \"freud\", \"iteration\", \"ivor\", \"methodist\", \"montgomery\", \"no\\u00ebl\", \"recorder\", \"remedy\", \"smoke\", \"stockbroker\", \"trinidad\", \"perfection\", \"ambience\", \"broker\", \"chart\", \"keyboard\", \"broadway\", \"song\", \"screen\", \"cambridge\", \"cork\", \"band\", \"marche\", \"fare\", \"parker\", \"standard\", \"detective\", \"wembley\", \"earth\", \"dublin\", \"suez\", \"creditor\", \"juilliard\", \"scot\", \"contingent\", \"blitz\", \"clark\", \"gaiety\", \"adaptation\", \"process\", \"glasgow\", \"album\", \"session\", \"temple\", \"cabinet\", \"soho\", \"cable\", \"kind\", \"camera\", \"sea\", \"incident\", \"theatre\", \"victoria\", \"rock\", \"gas\", \"gallery\", \"programme\", \"community\", \"channel\", \"play\", \"date\", \"college\", \"economic\", \"version\", \"office\", \"track\", \"company\", \"dance\", \"trade\", \"music\", \"venue\", \"system\", \"record\", \"museum\", \"performance\", \"event\", \"concert\", \"summer\", \"world\", \"film\", \"singer\", \"series\", \"show\", \"art\", \"collection\", \"award\", \"centre\", \"game\", \"city\", \"year\", \"project\", \"society\", \"school\", \"book\", \"time\", \"artist\", \"work\", \"opera\", \"festival\", \"house\", \"exhibition\", \"group\", \"1790\", \"adolphe\", \"aggression\", \"barclay\", \"battlefield\", \"copp\\u00e9lia\", \"creature\", \"elsa\", \"englishman\", \"fit\", \"human\", \"impressionism\", \"jewel\", \"karin\", \"knowle\", \"lambert\", \"legislature\", \"liberalization\", \"livery\", \"minimalism\", \"mogador\", \"monique\", \"monopoly\", \"par\", \"paris\", \"pastel\", \"phoenix\", \"plymouth\", \"pont\", \"scripture\", \"telephone\", \"politique\", \"pantomime\", \"julian\", \"traveler\", \"gem\", \"hunt\", \"inheritance\", \"yacht\", \"dome\", \"horizon\", \"employer\", \"rouge\", \"commodity\", \"pantheon\", \"patent\", \"waste\", \"green\", \"waterloo\", \"vicar\", \"acad\\u00e9mie\", \"chef\", \"rothschild\", \"watercolour\", \"jacque\", \"seine\", \"fran\\u00e7aise\", \"commune\", \"inch\", \"soci\\u00e9t\\u00e9\", \"exhibitor\", \"surrealist\", \"mansion\", \"eurostar\", \"salon\", \"universelle\", \"claude\", \"antoine\", \"lithograph\", \"painter\", \"jean\", \"rue\", \"des\", \"sorbonne\", \"pound\", \"peace\", \"exposition\", \"sculptor\", \"friend\", \"fran\\u00e7ois\", \"husband\", \"revolution\", \"painting\", \"caf\\u00e9\", \"father\", \"train\", \"daughter\", \"son\", \"study\", \"law\", \"war\", \"family\", \"trip\", \"wife\", \"minister\", \"influence\", \"time\", \"period\", \"academy\", \"work\", \"death\", \"school\", \"year\", \"mother\", \"member\", \"art\", \"fashion\", \"exhibition\", \"life\", \"service\", \"student\", \"society\", \"artist\", \"city\", \"day\", \"century\", \"tour\", \"career\", \"hann\", \"anti\", \"capitain\", \"chemnitz\", \"fischer\", \"frey\", \"f\\u00fchrer\", \"goebbel\", \"invitational\", \"saratoga\", \"st\\u00e4dtische\", \"walther\", \"bavarian\", \"fuch\", \"hohenzollern\", \"kampnagel\", \"saxony\", \"sibelius\", \"voltage\", \"montpelier\", \"berlinale\", \"brun\", \"eine\", \"kleine\", \"komische\", \"lithographische\", \"mischa\", \"cochabamba\", \"equation\", \"hager\", \"berlin\", \"ribbon\", \"secession\", \"oder\", \"schmidt\", \"tegel\", \"universit\\u00e4t\", \"rostock\", \"hochschule\", \"berliner\", \"nazism\", \"dash\", \"k\\u00fcnste\", \"rundfunk\", \"reunification\", \"friedrich\", \"deutsche\", \"hitler\", \"f\\u00fcr\", \"nationalgalerie\", \"strauss\", \"habilitation\", \"reich\", \"georg\", \"heinrich\", \"marathon\", \"der\", \"und\", \"gymnasium\", \"oper\", \"nazi\", \"philharmonic\", \"wilhelm\", \"gropius\", \"vienna\", \"festival\", \"doctorate\", \"philosophy\", \"orchestra\", \"professor\", \"film\", \"cologne\", \"study\", \"state\", \"conductor\", \"opera\", \"war\", \"theater\", \"university\", \"art\", \"work\", \"year\", \"music\", \"director\", \"member\", \"time\", \"history\", \"role\", \"museum\", \"world\", \"city\", \"artist\", \"academy\", \"exhibition\", \"school\", \"place\", \"annotation\", \"blacksmith\", \"blasis\", \"b\\u00e9jart\", \"faggioni\", \"lombardo\", \"nelsson\", \"peri\\u0107\", \"legnano\", \"prada\", \"visconti\", \"brera\", \"lightness\", \"pinacoteca\", \"klein\", \"esposizione\", \"romani\", \"modena\", \"napoleone\", \"milano\", \"armani\", \"coup\\u00e9\", \"varese\", \"piero\", \"gucci\", \"armida\", \"gp\", \"adelina\", \"maurizio\", \"hd\", \"como\", \"milan\", \"istituto\", \"monza\", \"flander\", \"classification\", \"modeling\", \"versace\", \"vinci\", \"fashion\", \"model\", \"runway\", \"li\\u00e8ge\", \"rider\", \"arcade\", \"dal\", \"naple\", \"turin\", \"opera\", \"week\", \"catwalk\", \"giuseppe\", \"florence\", \"venice\", \"race\", \"management\", \"vogue\", \"designer\", \"debut\", \"verona\", \"campaign\", \"role\", \"teatro\", \"brand\", \"house\", \"agency\", \"tour\", \"exhibition\", \"design\", \"stage\", \"year\", \"work\", \"world\", \"vienna\", \"city\", \"festival\", \"magazine\", \"art\", \"company\", \"saint\", \"state\", \"career\", \"season\", \"time\", \"music\", \"botero\", \"cartagena\", \"competitiveness\", \"donostia\", \"elizalde\", \"extraordinary\", \"howth\", \"iberm\\u00fasica\", \"internacional\", \"intracatal\\u00f2nia\", \"irunea\", \"laudium\", \"lino\", \"obsesi\\u00f3n\", \"odelot\", \"poete\", \"razon\", \"sitge\", \"corriente\", \"wacoal\", \"sof\\u00eda\", \"maya\", \"barrio\", \"complutense\", \"federer\", \"alonso\", \"cuenca\", \"dolore\", \"vel\\u00e1zquez\", \"mcdonald\", \"santander\", \"semifinal\", \"nadal\", \"open\", \"bayonne\", \"henare\", \"codex\", \"infante\", \"amaia\", \"palacio\", \"quarterfinal\", \"atp\", \"granada\", \"academia\", \"auditorio\", \"voting\", \"seville\", \"real\", \"gibraltar\", \"mexico\", \"eurovision\", \"hammond\", \"burgo\", \"catalan\", \"germain\", \"round\", \"museo\", \"spaniard\", \"spanish\", \"slam\", \"aire\", \"teatro\", \"barcelona\", \"buenos\", \"lisbon\", \"master\", \"bombing\", \"embassy\", \"toulouse\", \"festival\", \"saint\", \"opera\", \"art\", \"city\", \"museum\", \"work\", \"center\", \"event\", \"year\", \"country\", \"ambassador\", \"exhibition\", \"world\", \"office\", \"service\", \"secretary\", \"painting\", \"role\", \"tour\", \"study\", \"time\", \"concert\", \"gallery\", \"place\", \"bernab\\u00e9u\", \"liga\", \"matchday\", \"ajax\", \"copa\", \"coppa\", \"feyenoord\", \"landsbanki\", \"mortal\", \"pereira\", \"54\", \"spain\", \"midfielder\", \"assist\", \"shootout\", \"st\\u00e9fano\", \"lazio\", \"supercopa\", \"21\", \"zidane\", \"inter\", \"01\", \"nou\", \"goalscorer\", \"goalless\", \"bayern\", \"internazionale\", \"scorer\", \"lyonnais\", \"aggregate\", \"goalkeeper\", \"goal\", \"penalty\", \"champion\", \"striker\", \"galatasaray\", \"cup\", \"semi\", \"win\", \"league\", \"draw\", \"match\", \"trophy\", \"football\", \"transfer\", \"club\", \"final\", \"season\", \"team\", \"player\", \"chelsea\", \"kick\", \"victory\", \"competition\", \"milan\", \"title\", \"winner\", \"leg\", \"stadium\", \"minute\", \"quarter\", \"time\", \"game\", \"year\", \"group\", \"record\", \"city\", \"round\", \"stage\", \"career\", \"day\", \"place\", \"world\"], \"Freq\": [9846.0, 3734.0, 2959.0, 3610.0, 2676.0, 6715.0, 2838.0, 14520.0, 10142.0, 2256.0, 8268.0, 6223.0, 16157.0, 2432.0, 1198.0, 1850.0, 4914.0, 1198.0, 1026.0, 10947.0, 7251.0, 1533.0, 1806.0, 889.0, 6182.0, 1739.0, 2454.0, 4864.0, 3808.0, 3766.0, 46.870504478678335, 50.94620052030254, 34.643416353805726, 23.435252239339167, 23.435252239339167, 9.170316093654456, 18.340632187308913, 9.170316093654456, 25.47310026015127, 18.340632187308913, 140.611513436035, 18.340632187308913, 19.359556197714966, 23.435252239339167, 23.435252239339167, 125.32765327994426, 19.359556197714966, 18.340632187308913, 17.321708176902863, 19.359556197714966, 17.321708176902863, 38.71911239542993, 9.170316093654456, 34.643416353805726, 34.643416353805726, 34.643416353805726, 18.340632187308913, 7.1324680728423555, 41.77588442664808, 184.4252458834952, 124.3087292695382, 116.15733718628978, 1828.9685986788613, 184.4252458834952, 531.8783334319585, 75.40037677004776, 1817.7604345643947, 59.09759260355094, 55.021896561926745, 55.021896561926745, 252.69315458070062, 52.98404854111464, 51.96512453070859, 160.98999364415604, 397.3803640583598, 42.79480843705414, 40.75696041624204, 40.75696041624204, 40.75696041624204, 37.70018838502388, 37.70018838502388, 37.70018838502388, 37.70018838502388, 217.03081421648884, 381.077579891863, 531.8783334319585, 2036.8290968016959, 346.4341635380573, 124.3087292695382, 236.39037041420377, 116.15733718628978, 111.06271713425953, 204.80372609161623, 210.91727015405255, 351.5287835900875, 168.1224617169984, 2731.7352718986226, 232.31467437257956, 474.8185888492197, 134.49796937359872, 4047.1661693328338, 498.25384108855883, 553.2757376504856, 455.45903265150474, 977.1481259794027, 677.5844669200238, 1999.128908416672, 706.1143392113933, 1172.7815359773645, 2461.720409141019, 597.0894700979458, 3720.0915619924917, 869.1421808763614, 570.5974458273885, 4281.518691726225, 1097.3811592073168, 922.126229417476, 1385.7366541522292, 3269.727149393017, 2725.621727836186, 1789.2305622730255, 2510.6287616405093, 1515.1400034737976, 4440.47083734957, 3810.7757989186302, 869.1421808763614, 1460.1181069118709, 1103.494703269753, 7155.903325081695, 2262.0113031014325, 1442.7963987349679, 1282.8253291012181, 1214.5574204040124, 3577.442200535644, 5169.001504789896, 1298.1091892573088, 1744.397905815159, 2526.9315458070064, 1699.565249357293, 3422.5657509539246, 2151.9675099775795, 3400.149422724992, 3006.844754708256, 2435.2283848704615, 1774.9656261273406, 2000.147832427078, 1654.7325928994264, 13.256307598781929, 49.966082487716506, 26.512615197563857, 34.67034295066043, 26.512615197563857, 14.276023567919001, 25.492899228426786, 13.256307598781929, 47.92665054944236, 14.276023567919001, 30.591479074112144, 56.08437830253893, 58.12381024081307, 17.335171475330213, 17.335171475330213, 27.53233116670093, 23.453467290152645, 8.157727753096571, 29.571763104975073, 13.256307598781929, 13.256307598781929, 13.256307598781929, 34.67034295066043, 28.552047135838002, 44.86750264203115, 44.86750264203115, 12.236591629644858, 23.453467290152645, 23.453467290152645, 14.276023567919001, 95.85330109888471, 82.59699350010278, 68.32096993218379, 131.54336001868222, 48.94636651857943, 39.76892279634579, 39.76892279634579, 39.76892279634579, 39.76892279634579, 101.97159691370715, 37.72949085807164, 36.709774888934575, 36.709774888934575, 35.6900589197975, 35.6900589197975, 141.74051971005292, 34.67034295066043, 33.65062698152336, 31.611195043249214, 30.591479074112144, 397.6892279634579, 123.38563226558566, 113.18847257421494, 109.10960869766664, 131.54336001868222, 106.05046079025543, 121.34620032731151, 120.32648435817444, 97.89273303715886, 180.48972653726165, 69.34068590132085, 68.32096993218379, 85.656141407514, 132.56307598781927, 553.7057712414298, 138.6813718026417, 101.97159691370715, 119.30676838903736, 74.43926574700622, 1171.6536485384952, 540.4494636426479, 95.85330109888471, 135.6222238952305, 292.6584831423395, 172.33199878416508, 618.9675932662024, 549.6269073648815, 289.5993352349283, 1279.7435412670245, 138.6813718026417, 603.6718537291463, 539.4297476735109, 2109.792340144601, 247.79098050030836, 1597.8949236377912, 718.8997582416354, 941.1978395135169, 1301.157576618903, 2002.7221633852082, 971.7893185876292, 2135.2852393730277, 1778.3846501750527, 749.4912373157475, 919.7838041616384, 641.401344587218, 484.3650853401089, 3804.5602808504136, 1017.6765371987973, 1301.157576618903, 3857.5855112455415, 976.8878984333144, 2303.5383742806443, 4659.082262987279, 854.5219821368659, 1769.2072064528188, 4274.649342622603, 1521.4162259525106, 2141.40353518785, 1227.7380268410338, 1278.7238252978875, 916.7246562542273, 1160.4367728779873, 1354.182807014031, 1712.103112181143, 1083.958075192707, 940.1781235443799, 994.2230699086447, 953.4344311431618, 19.1062268143387, 31.173317433921042, 10.055908849651948, 23.12859035419948, 30.167726548955844, 15.083863274477922, 10.055908849651948, 37.20686274371221, 9.050317964686753, 9.050317964686753, 21.11740858426909, 35.19568097378182, 15.083863274477922, 23.12859035419948, 9.050317964686753, 5.027954424825974, 15.083863274477922, 21.11740858426909, 9.050317964686753, 5.027954424825974, 12.06709061958234, 12.06709061958234, 13.072681504547534, 12.06709061958234, 81.45286168218078, 6.03354530979117, 6.03354530979117, 6.03354530979117, 14.07827238951273, 11.061499734617144, 2834.7607047168844, 44.245998938468574, 99.55349761155429, 32.178908318886236, 16.089454159443118, 48.26836247832936, 84.46963433707636, 41.22922628357299, 206.14613141786492, 202.12376787800417, 36.20127185874701, 34.190090088816625, 70.39136194756364, 75.41931637238962, 31.173317433921042, 41.22922628357299, 759.2211181487221, 368.0462638972613, 184.02313194863066, 29.16213566399065, 39.2180445136426, 89.49758876190235, 103.57586115141508, 74.41372548742441, 142.79390566505768, 466.5941706238504, 704.9192103606015, 145.81067831995327, 127.71004239057974, 500.78426071266705, 254.4144938961943, 358.99594593257456, 197.09581345317818, 60.33545309791169, 1203.6922893033382, 2810.6265234777193, 355.97917327767897, 430.3928987651034, 1031.7362479742899, 1068.9431107180021, 2170.0651297548907, 544.0246687661704, 1410.8440116061684, 1151.401563285148, 549.0526231909964, 2698.000344361618, 1371.6259670925258, 555.0861685007876, 1170.5077900994868, 2594.4244832102027, 1968.9469527618517, 2218.3334922332197, 1263.0221515162848, 784.360890272852, 953.3001589470047, 1436.9893746152634, 686.8185744312281, 834.6404345211117, 851.73547956552, 970.395203991413, 1012.6300211599512, 722.0142554050099, 594.3042130144302, 647.6005299175855, 621.4551669084905, 573.186804430161, 8.92072670881797, 4.95595928267665, 8.92072670881797, 5.94715113921198, 6.93834299574731, 8.92072670881797, 4.95595928267665, 6.93834299574731, 13.87668599149462, 51.54197653983715, 24.77979641338325, 187.33526088517738, 19.8238371307066, 36.67409869180721, 17.84145341763594, 48.56840097023116, 13.87668599149462, 26.76218012645391, 10.903110421888629, 41.630057974483854, 49.5595928267665, 9.9119185653533, 9.9119185653533, 27.75337198298924, 73.34819738361442, 17.84145341763594, 8.92072670881797, 7.929534852282639, 7.929534852282639, 6.93834299574731, 34.69171497873655, 2986.461063740949, 34.69171497873655, 25.770988269918575, 135.7932843453402, 72.35700552707908, 165.5290400414001, 109.03110421888628, 33.70052312220122, 2035.9080733235676, 1024.8923796575311, 229.95651071619653, 144.71401105415816, 109.03110421888628, 105.06633679274498, 26.76218012645391, 558.0410152293908, 161.56427261525877, 2990.4258311670906, 876.2136011772318, 78.30415666629106, 43.612441687554515, 520.3757246810483, 481.7192422761703, 430.1772657363332, 344.9347660742948, 172.4673830371474, 377.64409733996075, 640.3099393218232, 176.43215046328874, 269.60418497760975, 761.2353458191334, 262.6658419818624, 237.88604556847918, 659.1425845959944, 263.65703383839775, 622.4684859041872, 773.1296480975574, 430.1772657363332, 439.09799244515114, 1077.4255480539036, 925.7731940039981, 755.2881946799215, 433.1508413059392, 779.0767992367693, 654.1866253133178, 372.68813805728405, 899.0110138775442, 534.2524106725429, 349.8907253569715, 422.24773088405055, 427.2036901667272, 394.49435890106133, 450.0011028670398, 404.4062774664146, 6.881259541117394, 13.762519082234787, 6.881259541117394, 10.813407850327334, 4.915185386512424, 9.830370773024848, 4.915185386512424, 5.898222463814909, 4.915185386512424, 5.898222463814909, 5.898222463814909, 5.898222463814909, 5.898222463814909, 5.898222463814909, 5.898222463814909, 5.898222463814909, 5.898222463814909, 12.779482004932301, 8.847333695722364, 8.847333695722364, 8.847333695722364, 38.33844601479691, 28.50807524177206, 129.760894203928, 59.965261715451575, 19.660741546049696, 18.677704468747212, 17.694667391444728, 33.42326062828448, 15.728593236839757, 38.33844601479691, 111.0831897351808, 74.71081787498885, 98.30370773024848, 26.54200108716709, 14.745556159537273, 85.52422572531619, 13.762519082234787, 13.762519082234787, 60.94829879275406, 63.89741002466151, 17.694667391444728, 94.37155942103854, 84.54118864801369, 58.98222463814909, 54.06703925163666, 178.91274806905224, 191.69223007398455, 83.5581515707112, 51.117928019729206, 279.18252995390566, 27.525038164469574, 24.57592693256212, 81.59207741610624, 168.0993402187249, 328.33438381902994, 94.37155942103854, 47.18577971051927, 54.06703925163666, 54.06703925163666, 459.07831510026045, 284.0977153404181, 132.71000543583546, 370.60497814303676, 187.76008176477458, 371.5880152203393, 134.67607959044042, 300.8093456545604, 127.79482004932302, 813.9547000064574, 347.0120882877771, 1008.5960413123494, 1183.5766410721917, 811.0055887745499, 575.0766902219536, 761.8537349094257, 319.48705012330754, 353.89334782889455, 716.6340293535114, 345.0460141331722, 223.14941654766403, 440.4006106315132, 473.8238712597977, 342.09690290126474, 340.13082874665974, 234.94586147529387, 316.53793889140013, 308.6736422729802, 293.92808611344293, 289.995937804233, 330.30045797363493, 272.3012704127883, 279.18252995390566, 259.521788407856, 31.232491752029325, 39.040614690036655, 16.59226124326558, 23.424368814021992, 26.352414915774744, 63.44099887130957, 13.664215141512829, 5.856092203505498, 4.880076836254582, 7.808122938007331, 15.616245876014663, 5.856092203505498, 41.968660791789404, 30.25647638477841, 25.376399548523825, 24.400384181272912, 42.94467615904032, 19.520307345018328, 108.33770576485173, 34.160537853782074, 194.22705808293236, 25.376399548523825, 34.160537853782074, 21.47233807952016, 20.496322712269244, 31.232491752029325, 30.25647638477841, 40.01663005728757, 9.760153672509164, 95.64950599058982, 72.22513717656781, 718.3473102966746, 145.42628972038656, 772.0281554954748, 40.01663005728757, 31.232491752029325, 349.41350147582807, 103.45762892859713, 410.9024696126358, 737.8676176416928, 164.9465970654049, 691.0188800136488, 139.57019751688105, 287.92453333902034, 179.58682757416864, 1306.884576748977, 354.2935783120827, 1039.456366122226, 893.0540610345885, 433.35082305940693, 133.71410531337554, 51.728814464298566, 246.93188791448188, 428.47074622315233, 746.6517559469511, 561.2088361692769, 212.77135006069977, 183.49088904317227, 171.77870463616128, 215.69939616245253, 145.42628972038656, 697.8509875844053, 299.63671774603137, 680.2827109738887, 348.4374861085772, 264.50016452499835, 376.74193175885375, 193.25104271568145, 249.8599340162346, 255.71602621974012, 204.96322712269244, 197.15510418468514, 199.10713491918696], \"Total\": [9846.0, 3734.0, 2959.0, 3610.0, 2676.0, 6715.0, 2838.0, 14520.0, 10142.0, 2256.0, 8268.0, 6223.0, 16157.0, 2432.0, 1198.0, 1850.0, 4914.0, 1198.0, 1026.0, 10947.0, 7251.0, 1533.0, 1806.0, 889.0, 6182.0, 1739.0, 2454.0, 4864.0, 3808.0, 3766.0, 46.870504478678335, 50.94620052030254, 34.643416353805726, 23.435252239339167, 23.435252239339167, 9.170316093654456, 18.340632187308913, 9.170316093654456, 25.47310026015127, 18.340632187308913, 140.611513436035, 18.340632187308913, 19.359556197714966, 23.435252239339167, 23.435252239339167, 125.32765327994426, 19.359556197714966, 18.340632187308913, 17.321708176902863, 19.359556197714966, 17.321708176902863, 38.71911239542993, 9.170316093654456, 34.643416353805726, 34.643416353805726, 34.643416353805726, 18.340632187308913, 7.1324680728423555, 41.77588442664808, 184.4252458834952, 124.3087292695382, 116.15733718628978, 1881.1311442778217, 185.41643774003052, 541.837005340908, 75.40037677004776, 1881.0982612887722, 59.09759260355094, 55.021896561926745, 55.021896561926745, 256.65636708513284, 52.98404854111464, 51.96512453070859, 163.00117541408645, 406.2777594986605, 42.79480843705414, 40.75696041624204, 40.75696041624204, 40.75696041624204, 37.70018838502388, 37.70018838502388, 37.70018838502388, 37.70018838502388, 220.9936711125943, 392.80494078815843, 554.3714388857283, 2184.748736703751, 359.3065641843985, 126.27480342414317, 243.3843989936347, 118.16824501196217, 113.04510084733019, 211.81328676865832, 218.83787276624778, 370.88926191952004, 174.06961285621037, 3163.8911556581993, 243.36177507876684, 513.4057027864787, 138.52005896920153, 4864.595153629286, 542.6780694895261, 606.0242449762808, 494.12691692023765, 1124.7558177295089, 761.9778853803896, 2431.3865974345194, 810.5258094622716, 1411.5922424103699, 3221.9018149400404, 682.4282921168467, 5157.517202691305, 1041.809833684718, 655.2248352762875, 6182.073623596952, 1360.346644671565, 1122.1034173213586, 1806.2362279650608, 4914.571174639695, 3991.6287376185483, 2449.050087808568, 3656.6308176470434, 2029.6701950671834, 7251.050493731265, 6223.52430150938, 1069.5747277101073, 2014.35223626398, 1473.8503147660438, 16157.341589594032, 3745.3256515999647, 2136.7057045840156, 1839.6058571481765, 1739.4381497427564, 8268.999653646912, 14520.759548391698, 1919.235800669149, 3026.436492640895, 5561.815550239693, 2991.8907317399135, 10142.267954844681, 4496.658351034418, 10947.49333813234, 9846.365215167947, 6715.0159496370925, 3498.1625434374405, 6011.4662945668415, 3766.9521399746995, 13.256307598781929, 49.966082487716506, 26.512615197563857, 34.67034295066043, 26.512615197563857, 14.276023567919001, 25.492899228426786, 13.256307598781929, 47.92665054944236, 14.276023567919001, 30.591479074112144, 56.08437830253893, 58.12381024081307, 17.335171475330213, 17.335171475330213, 27.53233116670093, 23.453467290152645, 8.157727753096571, 29.571763104975073, 13.256307598781929, 13.256307598781929, 13.256307598781929, 34.67034295066043, 28.552047135838002, 44.86750264203115, 44.86750264203115, 12.236591629644858, 23.453467290152645, 23.453467290152645, 14.276023567919001, 95.85330109888471, 82.59699350010278, 68.32096993218379, 132.5489509036474, 48.94636651857943, 39.76892279634579, 39.76892279634579, 39.76892279634579, 39.76892279634579, 102.94761228095807, 37.72949085807164, 36.709774888934575, 36.709774888934575, 35.6900589197975, 35.6900589197975, 143.75170147998332, 34.67034295066043, 33.65062698152336, 31.611195043249214, 30.591479074112144, 412.51257802144426, 125.33766300008749, 115.2129874695862, 111.14745671847875, 134.51693558828822, 108.00951323480884, 124.31977589691749, 123.2545304599272, 99.90391480708925, 188.46245847483388, 70.31670126857178, 69.32656081714899, 87.66732317744439, 137.57449957823738, 610.0096410316391, 145.64666949140516, 106.04729295533134, 125.25640988356699, 76.41349468084402, 1399.022337804266, 622.496906416404, 99.87566463874549, 144.50211046368315, 328.74698596277295, 187.08839955780792, 749.3625398531883, 676.0830180166292, 340.77885737227575, 1824.322512755681, 150.8255519080366, 810.4923557666469, 719.2317084817147, 3525.1639930059955, 294.1394698381097, 2587.2880010328763, 1053.0296673194746, 1479.6775118945177, 2222.210271886779, 3808.415978738373, 1615.0006327493766, 4331.748585543705, 3456.715550892986, 1190.0158594416816, 1599.4208124231423, 1016.2994058349501, 720.6932740569147, 10142.267954844681, 1874.8119971268043, 2619.2834794299824, 10947.49333813234, 1798.4368782570132, 5561.815550239693, 14520.759548391698, 1561.013585900095, 4407.072425775417, 16157.341589594032, 3610.6595099821375, 6011.4662945668415, 2913.6672220487962, 3211.0843886044613, 1788.6427470703752, 3026.436492640895, 4496.658351034418, 8268.999653646912, 3060.2265226315562, 2337.294909029091, 3929.516391424353, 3282.2060701170794, 19.1062268143387, 31.173317433921042, 10.055908849651948, 23.12859035419948, 30.167726548955844, 15.083863274477922, 10.055908849651948, 37.20686274371221, 9.050317964686753, 9.050317964686753, 21.11740858426909, 35.19568097378182, 15.083863274477922, 23.12859035419948, 9.050317964686753, 5.027954424825974, 15.083863274477922, 21.11740858426909, 9.050317964686753, 5.027954424825974, 12.06709061958234, 12.06709061958234, 13.072681504547534, 12.06709061958234, 81.45286168218078, 6.03354530979117, 6.03354530979117, 6.03354530979117, 14.07827238951273, 11.061499734617144, 2838.839568593433, 44.245998938468574, 100.57242162196034, 32.178908318886236, 16.089454159443118, 49.28807844746643, 87.41874556898381, 42.248150293979045, 218.3420843620201, 214.35402383780087, 37.192463715282344, 35.16610545606754, 74.33912401845346, 80.40627562510917, 32.19303340305812, 43.19530043817796, 898.2733037360363, 425.1060084800002, 206.1132099634595, 30.138151031241566, 41.200428226713264, 100.34767550406427, 117.85109276060307, 82.56907736432792, 168.70672253925395, 625.4098366882347, 994.0224941060558, 174.98591487911588, 151.8510101685142, 696.8748344706406, 337.01148739629707, 508.57159773929766, 257.23053151966366, 67.4367859900366, 2338.2381272869184, 6715.0159496370925, 562.3457592971804, 713.6390907642016, 2214.0887660280173, 2466.724286371279, 6223.52430150938, 1079.0826543557635, 3808.415978738373, 2947.485243834277, 1119.003524995078, 9846.365215167947, 4331.748585543705, 1251.4980948395007, 3774.7771753622787, 16157.341589594032, 10947.49333813234, 14520.759548391698, 6182.073623596952, 2817.3948676383443, 4407.072425775417, 10142.267954844681, 2435.685685690835, 3935.3593811959813, 4914.571174639695, 7251.050493731265, 8268.999653646912, 4496.658351034418, 2619.2834794299824, 6011.4662945668415, 5561.815550239693, 3190.188941485335, 8.92072670881797, 4.95595928267665, 8.92072670881797, 5.94715113921198, 6.93834299574731, 8.92072670881797, 4.95595928267665, 6.93834299574731, 13.87668599149462, 52.525013617139635, 25.798720423789298, 196.21927347273433, 20.84355309984367, 38.67685173824677, 18.86116938677301, 51.56893123285332, 14.882276876459814, 28.786695021825153, 11.908701306853823, 45.65242151434463, 54.526278908062366, 10.917509450318494, 10.930842575759351, 30.812519890400456, 81.46370253375926, 19.879301438448042, 9.939650719224021, 8.905550219533556, 8.935125737247834, 7.914358362998226, 39.71966940356252, 3734.1317436983063, 39.71966940356252, 29.803775668387644, 170.01870168982887, 88.22943199745467, 211.9355885270951, 137.53945075283812, 39.80073405919667, 3610.6595099821375, 1850.514911712952, 352.32163505391406, 214.51078963815024, 159.49231076782135, 152.9647371738436, 31.84346705304331, 1126.0781635947992, 270.60425895734323, 9846.365215167947, 2454.2849090718723, 120.06881079902485, 57.84476465358736, 1503.2100293726576, 1397.1048808498842, 1214.673150611751, 907.9161868376209, 358.8638424257835, 1063.87413859139, 2289.8236278604772, 401.5775661828043, 791.2076608073328, 3935.3593811959813, 767.9539536579439, 666.0105147456969, 3498.1625434374405, 841.6452244438083, 3929.516391424353, 6011.4662945668415, 2085.20655696583, 2345.737187552314, 14520.759548391698, 10947.49333813234, 7251.050493731265, 2338.2381272869184, 8268.999653646912, 6715.0159496370925, 1830.0546103178742, 16157.341589594032, 5157.517202691305, 1610.548699012805, 2947.485243834277, 3282.2060701170794, 2676.9455533249024, 10142.267954844681, 6182.073623596952, 6.881259541117394, 13.762519082234787, 6.881259541117394, 10.813407850327334, 4.915185386512424, 9.830370773024848, 4.915185386512424, 5.898222463814909, 4.915185386512424, 5.898222463814909, 5.898222463814909, 5.898222463814909, 5.898222463814909, 5.898222463814909, 5.898222463814909, 5.898222463814909, 5.898222463814909, 12.779482004932301, 8.847333695722364, 8.847333695722364, 8.847333695722364, 39.32963787133224, 29.513666126737256, 134.72940915119094, 62.92366079577315, 20.651933402585026, 19.653719835998128, 18.700258276409922, 35.420043369785006, 16.748309205976827, 41.28166860583407, 124.99310752764562, 83.74381216824669, 113.05017366400311, 28.52438480023775, 15.736748016072603, 105.4632550834617, 14.781443092640838, 14.782235051371858, 74.9537542073435, 79.57253299184674, 19.64669812594656, 125.4393310252744, 111.32567320023296, 74.90830640355901, 69.15677433063237, 276.79878233725617, 301.14795855294904, 116.02505913435122, 66.28179004685227, 483.12572378131995, 32.56632571473641, 28.567389605338093, 120.32945232539731, 287.6693191166739, 680.6413350907276, 147.61379953560888, 62.893084522240414, 75.31036126302067, 78.49454925050017, 1360.7035497182198, 767.9539536579439, 268.7496834741136, 1187.1383611337396, 483.96801694789303, 1434.661698053854, 311.07526405229794, 1113.198947115125, 302.2750749798184, 6715.0159496370925, 1610.548699012805, 9846.365215167947, 16157.341589594032, 8268.999653646912, 4914.571174639695, 10947.49333813234, 1927.0144862441991, 2449.050087808568, 14520.759548391698, 2969.3014010519673, 1113.9554820979533, 6011.4662945668415, 7251.050493731265, 3221.9018149400404, 3211.0843886044613, 1266.136502183021, 3525.1639930059955, 3935.3593811959813, 3929.516391424353, 3808.415978738373, 10142.267954844681, 3656.6308176470434, 4864.595153629286, 3190.188941485335, 31.232491752029325, 39.040614690036655, 16.59226124326558, 23.424368814021992, 26.352414915774744, 63.44099887130957, 13.664215141512829, 5.856092203505498, 4.880076836254582, 7.808122938007331, 15.616245876014663, 5.856092203505498, 42.959852648324734, 31.239513462080893, 26.38199043348902, 25.405975066238106, 44.918905092878134, 20.50334442232081, 114.38458420008376, 36.19838587459417, 207.1690824286221, 27.358783261594485, 37.14851245181793, 23.43841223412513, 22.484950674536922, 34.275930657806626, 33.2300519543844, 43.971332174160224, 10.779077682915215, 106.46291384091715, 82.12507990261662, 889.115697489661, 170.81903474127597, 1026.2329938273724, 45.975995750635605, 35.22499133204137, 489.67217950840893, 132.75838453357173, 617.8838939558366, 1198.284347997029, 227.3998614298354, 1198.2635309606899, 190.66075371515214, 447.769399346941, 267.2017513023792, 2959.627598347748, 693.9061079130272, 2676.9455533249024, 2256.1825134183027, 907.112850799806, 221.28009180559206, 63.64511730648577, 661.6344510655385, 1533.1370187742505, 3734.1317436983063, 2432.973011322355, 568.8756847319194, 489.90270899923405, 439.7239837216857, 780.7701845566628, 359.28471695332394, 10142.267954844681, 1739.4381497427564, 14520.759548391698, 3766.9521399746995, 1806.2362279650608, 8268.999653646912, 680.6413350907276, 2345.737187552314, 3282.2060701170794, 3060.2265226315562, 3190.188941485335, 7251.050493731265], \"Category\": [\"Default\", \"Default\", \"Default\", \"Default\", \"Default\", \"Default\", \"Default\", \"Default\", \"Default\", \"Default\", \"Default\", \"Default\", \"Default\", \"Default\", \"Default\", \"Default\", \"Default\", \"Default\", \"Default\", \"Default\", \"Default\", \"Default\", \"Default\", \"Default\", \"Default\", \"Default\", \"Default\", \"Default\", \"Default\", \"Default\", \"Topic1\", \"Topic1\", \"Topic1\", \"Topic1\", \"Topic1\", \"Topic1\", \"Topic1\", \"Topic1\", \"Topic1\", \"Topic1\", \"Topic1\", \"Topic1\", \"Topic1\", \"Topic1\", \"Topic1\", \"Topic1\", \"Topic1\", \"Topic1\", \"Topic1\", \"Topic1\", \"Topic1\", \"Topic1\", \"Topic1\", \"Topic1\", \"Topic1\", \"Topic1\", \"Topic1\", \"Topic1\", \"Topic1\", \"Topic1\", \"Topic1\", \"Topic1\", \"Topic1\", \"Topic1\", \"Topic1\", \"Topic1\", \"Topic1\", \"Topic1\", \"Topic1\", \"Topic1\", \"Topic1\", \"Topic1\", \"Topic1\", \"Topic1\", \"Topic1\", \"Topic1\", \"Topic1\", \"Topic1\", \"Topic1\", \"Topic1\", \"Topic1\", \"Topic1\", \"Topic1\", \"Topic1\", \"Topic1\", \"Topic1\", \"Topic1\", \"Topic1\", \"Topic1\", \"Topic1\", \"Topic1\", \"Topic1\", \"Topic1\", \"Topic1\", \"Topic1\", \"Topic1\", \"Topic1\", \"Topic1\", \"Topic1\", \"Topic1\", \"Topic1\", \"Topic1\", \"Topic1\", \"Topic1\", \"Topic1\", \"Topic1\", \"Topic1\", \"Topic1\", \"Topic1\", \"Topic1\", \"Topic1\", \"Topic1\", \"Topic1\", \"Topic1\", \"Topic1\", \"Topic1\", \"Topic1\", \"Topic1\", \"Topic1\", \"Topic1\", \"Topic1\", \"Topic1\", \"Topic1\", \"Topic1\", \"Topic1\", \"Topic1\", \"Topic1\", \"Topic1\", \"Topic1\", \"Topic1\", \"Topic1\", \"Topic1\", \"Topic1\", \"Topic1\", \"Topic1\", \"Topic1\", \"Topic1\", \"Topic1\", \"Topic1\", \"Topic1\", \"Topic1\", \"Topic1\", \"Topic1\", \"Topic1\", \"Topic1\", \"Topic1\", \"Topic1\", \"Topic2\", \"Topic2\", \"Topic2\", \"Topic2\", \"Topic2\", \"Topic2\", \"Topic2\", \"Topic2\", \"Topic2\", \"Topic2\", \"Topic2\", \"Topic2\", \"Topic2\", \"Topic2\", \"Topic2\", \"Topic2\", \"Topic2\", \"Topic2\", \"Topic2\", \"Topic2\", \"Topic2\", \"Topic2\", \"Topic2\", \"Topic2\", \"Topic2\", \"Topic2\", \"Topic2\", \"Topic2\", \"Topic2\", \"Topic2\", \"Topic2\", \"Topic2\", \"Topic2\", \"Topic2\", \"Topic2\", \"Topic2\", \"Topic2\", \"Topic2\", \"Topic2\", \"Topic2\", \"Topic2\", \"Topic2\", \"Topic2\", \"Topic2\", \"Topic2\", \"Topic2\", \"Topic2\", \"Topic2\", \"Topic2\", \"Topic2\", \"Topic2\", \"Topic2\", \"Topic2\", \"Topic2\", \"Topic2\", \"Topic2\", \"Topic2\", \"Topic2\", \"Topic2\", \"Topic2\", \"Topic2\", \"Topic2\", \"Topic2\", \"Topic2\", \"Topic2\", \"Topic2\", \"Topic2\", \"Topic2\", \"Topic2\", \"Topic2\", \"Topic2\", \"Topic2\", \"Topic2\", \"Topic2\", \"Topic2\", \"Topic2\", \"Topic2\", \"Topic2\", \"Topic2\", \"Topic2\", \"Topic2\", \"Topic2\", \"Topic2\", \"Topic2\", \"Topic2\", \"Topic2\", \"Topic2\", \"Topic2\", \"Topic2\", \"Topic2\", \"Topic2\", \"Topic2\", \"Topic2\", \"Topic2\", \"Topic2\", \"Topic2\", \"Topic2\", \"Topic2\", \"Topic2\", \"Topic2\", \"Topic2\", \"Topic2\", \"Topic2\", \"Topic2\", \"Topic2\", \"Topic2\", \"Topic2\", \"Topic2\", \"Topic2\", \"Topic2\", \"Topic2\", \"Topic2\", \"Topic2\", \"Topic2\", \"Topic2\", \"Topic2\", \"Topic2\", \"Topic2\", \"Topic3\", \"Topic3\", \"Topic3\", \"Topic3\", \"Topic3\", \"Topic3\", \"Topic3\", \"Topic3\", \"Topic3\", \"Topic3\", \"Topic3\", \"Topic3\", \"Topic3\", \"Topic3\", \"Topic3\", \"Topic3\", \"Topic3\", \"Topic3\", \"Topic3\", \"Topic3\", \"Topic3\", \"Topic3\", \"Topic3\", \"Topic3\", \"Topic3\", \"Topic3\", \"Topic3\", \"Topic3\", \"Topic3\", \"Topic3\", \"Topic3\", \"Topic3\", \"Topic3\", \"Topic3\", \"Topic3\", \"Topic3\", \"Topic3\", \"Topic3\", \"Topic3\", \"Topic3\", \"Topic3\", \"Topic3\", \"Topic3\", \"Topic3\", \"Topic3\", \"Topic3\", \"Topic3\", \"Topic3\", \"Topic3\", \"Topic3\", \"Topic3\", \"Topic3\", \"Topic3\", \"Topic3\", \"Topic3\", \"Topic3\", \"Topic3\", \"Topic3\", \"Topic3\", \"Topic3\", \"Topic3\", \"Topic3\", \"Topic3\", \"Topic3\", \"Topic3\", \"Topic3\", \"Topic3\", \"Topic3\", \"Topic3\", \"Topic3\", \"Topic3\", \"Topic3\", \"Topic3\", \"Topic3\", \"Topic3\", \"Topic3\", \"Topic3\", \"Topic3\", \"Topic3\", \"Topic3\", \"Topic3\", \"Topic3\", \"Topic3\", \"Topic3\", \"Topic3\", \"Topic3\", \"Topic3\", \"Topic3\", \"Topic3\", \"Topic3\", \"Topic3\", \"Topic3\", \"Topic3\", \"Topic3\", \"Topic3\", \"Topic3\", \"Topic4\", \"Topic4\", \"Topic4\", \"Topic4\", \"Topic4\", \"Topic4\", \"Topic4\", \"Topic4\", \"Topic4\", \"Topic4\", \"Topic4\", \"Topic4\", \"Topic4\", \"Topic4\", \"Topic4\", \"Topic4\", \"Topic4\", \"Topic4\", \"Topic4\", \"Topic4\", \"Topic4\", \"Topic4\", \"Topic4\", \"Topic4\", \"Topic4\", \"Topic4\", \"Topic4\", \"Topic4\", \"Topic4\", \"Topic4\", \"Topic4\", \"Topic4\", \"Topic4\", \"Topic4\", \"Topic4\", \"Topic4\", \"Topic4\", \"Topic4\", \"Topic4\", \"Topic4\", \"Topic4\", \"Topic4\", \"Topic4\", \"Topic4\", \"Topic4\", \"Topic4\", \"Topic4\", \"Topic4\", \"Topic4\", \"Topic4\", \"Topic4\", \"Topic4\", \"Topic4\", \"Topic4\", \"Topic4\", \"Topic4\", \"Topic4\", \"Topic4\", \"Topic4\", \"Topic4\", \"Topic4\", \"Topic4\", \"Topic4\", \"Topic4\", \"Topic4\", \"Topic4\", \"Topic4\", \"Topic4\", \"Topic4\", \"Topic4\", \"Topic4\", \"Topic4\", \"Topic4\", \"Topic4\", \"Topic4\", \"Topic4\", \"Topic4\", \"Topic4\", \"Topic4\", \"Topic4\", \"Topic4\", \"Topic4\", \"Topic4\", \"Topic4\", \"Topic4\", \"Topic5\", \"Topic5\", \"Topic5\", \"Topic5\", \"Topic5\", \"Topic5\", \"Topic5\", \"Topic5\", \"Topic5\", \"Topic5\", \"Topic5\", \"Topic5\", \"Topic5\", \"Topic5\", \"Topic5\", \"Topic5\", \"Topic5\", \"Topic5\", \"Topic5\", \"Topic5\", \"Topic5\", \"Topic5\", \"Topic5\", \"Topic5\", \"Topic5\", \"Topic5\", \"Topic5\", \"Topic5\", \"Topic5\", \"Topic5\", \"Topic5\", \"Topic5\", \"Topic5\", \"Topic5\", \"Topic5\", \"Topic5\", \"Topic5\", \"Topic5\", \"Topic5\", \"Topic5\", \"Topic5\", \"Topic5\", \"Topic5\", \"Topic5\", \"Topic5\", \"Topic5\", \"Topic5\", \"Topic5\", \"Topic5\", \"Topic5\", \"Topic5\", \"Topic5\", \"Topic5\", \"Topic5\", \"Topic5\", \"Topic5\", \"Topic5\", \"Topic5\", \"Topic5\", \"Topic5\", \"Topic5\", \"Topic5\", \"Topic5\", \"Topic5\", \"Topic5\", \"Topic5\", \"Topic5\", \"Topic5\", \"Topic5\", \"Topic5\", \"Topic5\", \"Topic5\", \"Topic5\", \"Topic5\", \"Topic5\", \"Topic5\", \"Topic5\", \"Topic5\", \"Topic5\", \"Topic5\", \"Topic5\", \"Topic5\", \"Topic5\", \"Topic5\", \"Topic5\", \"Topic5\", \"Topic5\", \"Topic5\", \"Topic5\", \"Topic5\", \"Topic5\", \"Topic5\", \"Topic5\", \"Topic5\", \"Topic6\", \"Topic6\", \"Topic6\", \"Topic6\", \"Topic6\", \"Topic6\", \"Topic6\", \"Topic6\", \"Topic6\", \"Topic6\", \"Topic6\", \"Topic6\", \"Topic6\", \"Topic6\", \"Topic6\", \"Topic6\", \"Topic6\", \"Topic6\", \"Topic6\", \"Topic6\", \"Topic6\", \"Topic6\", \"Topic6\", \"Topic6\", \"Topic6\", \"Topic6\", \"Topic6\", \"Topic6\", \"Topic6\", \"Topic6\", \"Topic6\", \"Topic6\", \"Topic6\", \"Topic6\", \"Topic6\", \"Topic6\", \"Topic6\", \"Topic6\", \"Topic6\", \"Topic6\", \"Topic6\", \"Topic6\", \"Topic6\", \"Topic6\", \"Topic6\", \"Topic6\", \"Topic6\", \"Topic6\", \"Topic6\", \"Topic6\", \"Topic6\", \"Topic6\", \"Topic6\", \"Topic6\", \"Topic6\", \"Topic6\", \"Topic6\", \"Topic6\", \"Topic6\", \"Topic6\", \"Topic6\", \"Topic6\", \"Topic6\", \"Topic6\", \"Topic6\", \"Topic6\", \"Topic6\", \"Topic6\", \"Topic6\", \"Topic6\", \"Topic6\", \"Topic6\", \"Topic6\"], \"logprob\": [30.0, 29.0, 28.0, 27.0, 26.0, 25.0, 24.0, 23.0, 22.0, 21.0, 20.0, 19.0, 18.0, 17.0, 16.0, 15.0, 14.0, 13.0, 12.0, 11.0, 10.0, 9.0, 8.0, 7.0, 6.0, 5.0, 4.0, 3.0, 2.0, 1.0, -9.1222, -9.0388, -9.4244, -9.8153, -9.8153, -10.7536, -10.0604, -10.7536, -9.7319, -10.0604, -8.0235, -10.0604, -10.0064, -9.8153, -9.8153, -8.1386, -10.0064, -10.0604, -10.1176, -10.0064, -10.1176, -9.3132, -10.7536, -9.4244, -9.4244, -9.4244, -10.0604, -11.0049, -9.2372, -7.7523, -8.1468, -8.2146, -5.458, -7.7523, -6.6931, -8.6467, -5.4642, -8.8904, -8.9618, -8.9618, -7.4374, -8.9996, -9.019, -7.8882, -6.9847, -9.2131, -9.2619, -9.2619, -9.2619, -9.3399, -9.3399, -9.3399, -9.3399, -7.5895, -7.0265, -6.6931, -5.3504, -7.1219, -8.1468, -7.5041, -8.2146, -8.2595, -7.6475, -7.6181, -7.1073, -7.8449, -5.0569, -7.5215, -6.8066, -8.068, -4.6638, -6.7584, -6.6537, -6.8482, -6.0849, -6.451, -5.3691, -6.4098, -5.9024, -5.1609, -6.5775, -4.748, -6.202, -6.6229, -4.6075, -5.9689, -6.1429, -5.7356, -4.8771, -5.0591, -5.48, -5.1413, -5.6463, -4.571, -4.724, -6.202, -5.6833, -5.9633, -4.0939, -5.2455, -5.6952, -5.8127, -5.8674, -4.7871, -4.4191, -5.8009, -5.5054, -5.1348, -5.5314, -4.8314, -5.2954, -4.838, -4.9609, -5.1718, -5.488, -5.3686, -5.5582, -10.0089, -8.682, -9.3157, -9.0475, -9.3157, -9.9348, -9.3549, -10.0089, -8.7237, -9.9348, -9.1726, -8.5665, -8.5308, -9.7406, -9.7406, -9.278, -9.4383, -10.4944, -9.2065, -10.0089, -10.0089, -10.0089, -9.0475, -9.2416, -8.7896, -8.7896, -10.0889, -9.4383, -9.4383, -9.9348, -8.0305, -8.1794, -8.3691, -7.714, -8.7026, -8.9103, -8.9103, -8.9103, -8.9103, -7.9686, -8.9629, -8.9903, -8.9903, -9.0185, -9.0185, -7.6393, -9.0475, -9.0773, -9.1398, -9.1726, -6.6077, -7.778, -7.8643, -7.901, -7.714, -7.9294, -7.7947, -7.8031, -8.0095, -7.3977, -8.3543, -8.3691, -8.143, -7.7063, -6.2767, -7.6612, -7.9686, -7.8116, -8.2834, -5.5272, -6.3009, -8.0305, -7.6835, -6.9143, -7.4439, -6.1653, -6.2841, -6.9248, -5.4389, -7.6612, -6.1903, -6.3028, -4.939, -7.0808, -5.2169, -6.0156, -5.7462, -5.4223, -4.9911, -5.7142, -4.927, -5.1099, -5.9739, -5.7692, -6.1297, -6.4105, -4.3494, -5.6681, -5.4223, -4.3355, -5.709, -4.8511, -4.1468, -5.8428, -5.115, -4.2329, -5.2659, -4.9241, -5.4804, -5.4397, -5.7725, -5.5368, -5.3824, -5.1479, -5.605, -5.7473, -5.6914, -5.7333, -9.0657, -8.5762, -9.7076, -8.8747, -8.609, -9.3021, -9.7076, -8.3993, -9.813, -9.813, -8.9657, -8.4548, -9.3021, -8.8747, -9.813, -10.4007, -9.3021, -8.9657, -9.813, -10.4007, -9.5253, -9.5253, -9.4452, -9.5253, -7.6157, -10.2184, -10.2184, -10.2184, -9.3711, -9.6123, -4.066, -8.226, -7.4151, -8.5444, -9.2376, -8.139, -7.5794, -8.2966, -6.6872, -6.7069, -8.4267, -8.4838, -7.7617, -7.6927, -8.5762, -8.2966, -5.3835, -6.1076, -6.8007, -8.6429, -8.3466, -7.5215, -7.3755, -7.7061, -7.0544, -5.8703, -5.4577, -7.0335, -7.166, -5.7996, -6.4768, -6.1324, -6.7321, -7.9158, -4.9226, -4.0746, -6.1409, -5.9511, -5.0768, -5.0413, -4.3332, -5.7168, -4.7638, -4.967, -5.7076, -4.1155, -4.792, -5.6966, -4.9506, -4.1546, -4.4305, -4.3112, -4.8745, -5.3509, -5.1558, -4.7455, -5.4837, -5.2888, -5.2685, -5.1381, -5.0955, -5.4337, -5.6284, -5.5425, -5.5837, -5.6645, -9.2067, -9.7945, -9.2067, -9.6122, -9.458, -9.2067, -9.7945, -9.458, -8.7649, -7.4527, -8.1851, -6.1622, -8.4082, -7.793, -8.5136, -7.5121, -8.7649, -8.1081, -9.0061, -7.6663, -7.4919, -9.1014, -9.1014, -8.0717, -7.0999, -8.5136, -9.2067, -9.3245, -9.3245, -9.458, -7.8486, -3.3933, -7.8486, -8.1459, -6.484, -7.1135, -6.286, -6.7035, -7.8776, -3.7764, -4.4628, -5.9572, -6.4203, -6.7035, -6.7405, -8.1081, -5.0707, -6.3102, -3.3919, -4.6195, -7.0345, -7.6198, -5.1405, -5.2177, -5.3309, -5.5517, -6.2449, -5.4611, -4.9331, -6.2222, -5.7981, -4.7602, -5.8242, -5.9233, -4.9042, -5.8205, -4.9614, -4.7447, -5.3309, -5.3104, -4.4128, -4.5645, -4.768, -5.324, -4.737, -4.9117, -5.4744, -4.5938, -5.1142, -5.5375, -5.3495, -5.3378, -5.4175, -5.2859, -5.3927, -9.2123, -8.5191, -9.2123, -8.7603, -9.5487, -8.8556, -9.5487, -9.3664, -9.5487, -9.3664, -9.3664, -9.3664, -9.3664, -9.3664, -9.3664, -9.3664, -9.3664, -8.5932, -8.961, -8.961, -8.961, -7.4946, -7.7909, -6.2754, -7.0473, -8.1624, -8.2137, -8.2678, -7.6318, -8.3856, -7.4946, -6.4308, -6.8274, -6.553, -7.8623, -8.4501, -6.6923, -8.5191, -8.5191, -7.031, -6.9838, -8.2678, -6.5938, -6.7038, -7.0638, -7.1508, -5.9542, -5.8852, -6.7155, -7.2069, -5.5092, -7.826, -7.9393, -6.7393, -6.0165, -5.347, -6.5938, -7.287, -7.1508, -7.1508, -5.0118, -5.4918, -6.2529, -5.2259, -5.9059, -5.2233, -6.2382, -5.4346, -6.2906, -4.4392, -5.2917, -4.2248, -4.0648, -4.4428, -4.7866, -4.5053, -5.3744, -5.2721, -4.5665, -5.2974, -5.7332, -5.0534, -4.9802, -5.306, -5.3117, -5.6817, -5.3836, -5.4088, -5.4577, -5.4712, -5.3411, -5.5342, -5.5092, -5.5822, -7.1949, -6.9718, -7.8274, -7.4826, -7.3648, -6.4863, -8.0216, -8.8689, -9.0512, -8.5812, -7.8881, -8.8689, -6.8994, -7.2267, -7.4025, -7.4418, -6.8765, -7.6649, -5.9511, -7.1053, -5.3673, -7.4025, -7.1053, -7.5696, -7.6161, -7.1949, -7.2267, -6.9471, -8.3581, -6.0757, -6.3566, -4.0594, -5.6567, -3.9873, -6.9471, -7.1949, -4.7801, -5.9972, -4.618, -4.0326, -5.5307, -4.0982, -5.6978, -4.9737, -5.4457, -3.461, -4.7662, -3.6899, -3.8417, -4.5648, -5.7407, -6.6903, -5.1273, -4.5761, -4.0208, -4.3063, -5.2761, -5.4242, -5.4902, -5.2625, -5.6567, -4.0884, -4.9338, -4.1139, -4.7829, -5.0585, -4.7048, -5.3724, -5.1155, -5.0923, -5.3135, -5.3524, -5.3425], \"loglift\": [30.0, 29.0, 28.0, 27.0, 26.0, 25.0, 24.0, 23.0, 22.0, 21.0, 20.0, 19.0, 18.0, 17.0, 16.0, 15.0, 14.0, 13.0, 12.0, 11.0, 10.0, 9.0, 8.0, 7.0, 6.0, 5.0, 4.0, 3.0, 2.0, 1.0, 0.9308, 0.9308, 0.9308, 0.9308, 0.9308, 0.9308, 0.9308, 0.9308, 0.9308, 0.9308, 0.9308, 0.9308, 0.9308, 0.9308, 0.9308, 0.9308, 0.9308, 0.9308, 0.9308, 0.9308, 0.9308, 0.9308, 0.9308, 0.9308, 0.9308, 0.9308, 0.9308, 0.9308, 0.9308, 0.9308, 0.9308, 0.9308, 0.9027, 0.9254, 0.9122, 0.9308, 0.8965, 0.9308, 0.9308, 0.9308, 0.9152, 0.9308, 0.9308, 0.9184, 0.9086, 0.9308, 0.9308, 0.9308, 0.9308, 0.9308, 0.9308, 0.9308, 0.9308, 0.9127, 0.9005, 0.8894, 0.8607, 0.8943, 0.9151, 0.9016, 0.9136, 0.9131, 0.8971, 0.8939, 0.8772, 0.896, 0.7839, 0.8843, 0.8527, 0.9013, 0.7468, 0.8454, 0.8397, 0.8493, 0.7901, 0.8134, 0.735, 0.7929, 0.7454, 0.6617, 0.7972, 0.6041, 0.7496, 0.7925, 0.5634, 0.716, 0.7345, 0.6658, 0.5233, 0.5493, 0.6169, 0.5548, 0.6384, 0.4404, 0.4403, 0.7233, 0.609, 0.6414, 0.1163, 0.4265, 0.5381, 0.5703, 0.5716, 0.0929, -0.1021, 0.5398, 0.3798, 0.1419, 0.3653, -0.1555, 0.1938, -0.2385, -0.2554, -0.0835, 0.2523, -0.1697, 0.1082, 1.307, 1.307, 1.307, 1.307, 1.307, 1.307, 1.307, 1.307, 1.307, 1.307, 1.307, 1.307, 1.307, 1.307, 1.307, 1.307, 1.307, 1.307, 1.307, 1.307, 1.307, 1.307, 1.307, 1.307, 1.307, 1.307, 1.307, 1.307, 1.307, 1.307, 1.307, 1.307, 1.307, 1.2994, 1.307, 1.307, 1.307, 1.307, 1.307, 1.2975, 1.307, 1.307, 1.307, 1.307, 1.307, 1.2929, 1.307, 1.307, 1.307, 1.307, 1.2704, 1.2913, 1.2893, 1.2885, 1.2846, 1.2887, 1.2828, 1.283, 1.2867, 1.2638, 1.293, 1.2924, 1.2838, 1.2699, 1.2102, 1.258, 1.2678, 1.2583, 1.2808, 1.1296, 1.1657, 1.2659, 1.2436, 1.1907, 1.2248, 1.1158, 1.0999, 1.1443, 0.9524, 1.2231, 1.0124, 1.0193, 0.7937, 1.1355, 0.8251, 0.9253, 0.8546, 0.7718, 0.6643, 0.799, 0.5996, 0.6424, 0.8447, 0.7537, 0.8467, 0.9096, 0.3265, 0.696, 0.6074, 0.2639, 0.6967, 0.4255, 0.1702, 0.7044, 0.3943, -0.0227, 0.4427, 0.2748, 0.4428, 0.3863, 0.6386, 0.3484, 0.1069, -0.2678, 0.2691, 0.3963, -0.0673, 0.0708, 1.8846, 1.8846, 1.8846, 1.8846, 1.8846, 1.8846, 1.8846, 1.8846, 1.8846, 1.8846, 1.8846, 1.8846, 1.8846, 1.8846, 1.8846, 1.8846, 1.8846, 1.8846, 1.8846, 1.8846, 1.8846, 1.8846, 1.8846, 1.8846, 1.8846, 1.8846, 1.8846, 1.8846, 1.8846, 1.8846, 1.8831, 1.8846, 1.8744, 1.8846, 1.8846, 1.8637, 1.8503, 1.8602, 1.8271, 1.8258, 1.8576, 1.8564, 1.83, 1.8205, 1.8524, 1.838, 1.7164, 1.7404, 1.7712, 1.8517, 1.8353, 1.7701, 1.7555, 1.7806, 1.7178, 1.5916, 1.5409, 1.7022, 1.7114, 1.5541, 1.6034, 1.5363, 1.6183, 1.7733, 1.2206, 1.0136, 1.4273, 1.3789, 1.121, 1.0484, 0.831, 1.1997, 0.8915, 0.9446, 1.1726, 0.59, 0.7346, 1.0716, 0.7137, 0.0556, 0.169, 0.0058, 0.2964, 0.6059, 0.3535, -0.0696, 0.6187, 0.3338, 0.1319, -0.1266, -0.2154, 0.0555, 0.4013, -0.3436, -0.307, 0.1679, 2.5052, 2.5052, 2.5052, 2.5052, 2.5052, 2.5052, 2.5052, 2.5052, 2.5052, 2.4863, 2.4649, 2.4589, 2.4551, 2.4521, 2.4497, 2.4453, 2.4353, 2.4323, 2.417, 2.413, 2.4097, 2.4086, 2.4074, 2.4007, 2.4003, 2.3971, 2.3971, 2.3892, 2.3858, 2.3736, 2.3699, 2.2818, 2.3699, 2.3598, 2.2805, 2.3069, 2.2581, 2.273, 2.3389, 1.9323, 1.9144, 2.0786, 2.1116, 2.1249, 2.1296, 2.3314, 1.8032, 1.9895, 1.3135, 1.4753, 2.0778, 2.2228, 1.4444, 1.4404, 1.4672, 1.5374, 1.7725, 1.4695, 1.231, 1.6828, 1.4286, 0.8624, 1.4324, 1.4757, 0.8362, 1.3445, 0.6627, 0.4543, 0.9268, 0.8296, -0.0958, 0.035, 0.2434, 0.8192, 0.1431, 0.1765, 0.9139, -0.3836, 0.2379, 0.9785, 0.5621, 0.4662, 0.5904, -0.61, -0.2218, 2.7593, 2.7593, 2.7593, 2.7593, 2.7593, 2.7593, 2.7593, 2.7593, 2.7593, 2.7593, 2.7593, 2.7593, 2.7593, 2.7593, 2.7593, 2.7593, 2.7593, 2.7593, 2.7593, 2.7593, 2.7593, 2.7337, 2.7246, 2.7217, 2.7111, 2.7101, 2.7083, 2.704, 2.7012, 2.6964, 2.6853, 2.6413, 2.6451, 2.6195, 2.6872, 2.6942, 2.5497, 2.6878, 2.6878, 2.5524, 2.5399, 2.6546, 2.4747, 2.484, 2.5202, 2.5131, 2.3229, 2.3076, 2.431, 2.4995, 2.2109, 2.5911, 2.6088, 2.3708, 2.222, 2.0303, 2.3119, 2.4719, 2.4279, 2.3865, 1.6727, 1.7649, 2.0537, 1.5951, 1.8124, 1.4084, 1.9221, 1.4507, 1.8984, 0.6491, 1.2243, 0.4807, 0.1454, 0.4373, 0.6138, 0.0942, 0.9623, 0.8248, -0.2495, 0.6069, 1.1514, 0.1455, 0.0312, 0.5166, 0.5142, 1.0749, 0.349, 0.2138, 0.1663, 0.1842, -0.6652, 0.1619, -0.0986, 0.2503, 3.264, 3.264, 3.264, 3.264, 3.264, 3.264, 3.264, 3.264, 3.264, 3.264, 3.264, 3.264, 3.2406, 3.232, 3.2251, 3.2236, 3.219, 3.2148, 3.2097, 3.206, 3.1995, 3.1888, 3.1801, 3.1764, 3.1714, 3.171, 3.1702, 3.1697, 3.1647, 3.1569, 3.1355, 3.0507, 3.103, 2.9793, 3.1251, 3.1437, 2.9265, 3.0146, 2.856, 2.7791, 2.9429, 2.7135, 2.952, 2.8224, 2.8666, 2.4466, 2.5918, 2.318, 2.3372, 2.5252, 2.7602, 3.0567, 2.2784, 1.9891, 1.6543, 1.7972, 2.2805, 2.2819, 2.324, 1.9776, 2.3595, 0.5875, 1.5052, 0.2031, 0.8834, 1.3428, 0.1753, 2.0049, 1.0245, 0.7118, 0.5606, 0.4801, -0.3311]}, \"token.table\": {\"Topic\": [4, 6, 2, 1, 3, 6, 6, 2, 3, 4, 5, 6, 1, 2, 3, 4, 5, 6, 1, 2, 4, 5, 6, 1, 3, 4, 5, 4, 6, 2, 1, 1, 4, 5, 6, 5, 6, 2, 1, 2, 3, 4, 5, 6, 6, 1, 2, 3, 4, 4, 5, 2, 5, 1, 2, 3, 5, 6, 1, 4, 3, 1, 2, 3, 5, 6, 2, 3, 4, 1, 1, 2, 4, 6, 1, 4, 1, 2, 3, 4, 5, 6, 1, 2, 3, 4, 5, 6, 1, 1, 5, 6, 5, 6, 2, 3, 4, 5, 6, 1, 2, 3, 4, 5, 6, 1, 3, 4, 3, 4, 5, 6, 2, 3, 5, 2, 3, 1, 3, 6, 4, 5, 2, 3, 3, 1, 2, 3, 6, 4, 4, 1, 1, 2, 3, 4, 5, 1, 2, 3, 4, 5, 6, 5, 1, 2, 3, 4, 5, 6, 2, 4, 5, 1, 1, 3, 1, 2, 3, 4, 5, 6, 2, 5, 6, 4, 1, 3, 5, 1, 4, 1, 2, 3, 5, 6, 1, 3, 5, 6, 1, 3, 4, 5, 6, 1, 4, 5, 6, 3, 1, 2, 3, 4, 5, 6, 5, 1, 3, 4, 5, 6, 2, 4, 6, 1, 2, 3, 4, 5, 6, 1, 2, 3, 4, 5, 6, 1, 2, 3, 4, 5, 6, 1, 2, 3, 5, 6, 1, 2, 3, 4, 5, 6, 1, 2, 6, 1, 2, 5, 6, 3, 1, 2, 3, 4, 5, 6, 1, 3, 4, 5, 6, 1, 2, 1, 2, 3, 6, 3, 3, 4, 5, 1, 2, 3, 4, 5, 6, 1, 2, 4, 5, 1, 2, 3, 4, 5, 6, 2, 2, 6, 1, 2, 3, 4, 5, 3, 4, 1, 2, 4, 5, 6, 1, 2, 3, 4, 6, 5, 1, 4, 5, 6, 1, 2, 3, 4, 5, 6, 1, 3, 4, 5, 6, 1, 6, 6, 2, 1, 5, 1, 2, 3, 4, 5, 6, 3, 4, 2, 1, 5, 6, 1, 3, 4, 5, 6, 1, 3, 4, 1, 2, 3, 4, 6, 3, 6, 1, 3, 4, 5, 6, 1, 2, 3, 4, 5, 1, 2, 3, 4, 5, 6, 1, 2, 3, 4, 5, 6, 1, 2, 3, 4, 5, 6, 1, 3, 4, 5, 6, 2, 3, 5, 6, 1, 2, 3, 4, 5, 1, 2, 4, 1, 1, 3, 4, 5, 6, 1, 2, 3, 4, 5, 2, 3, 4, 5, 3, 5, 2, 6, 5, 2, 3, 4, 5, 6, 1, 4, 5, 6, 1, 3, 1, 2, 3, 4, 5, 1, 3, 5, 2, 1, 2, 3, 4, 5, 6, 1, 2, 2, 1, 3, 1, 3, 4, 6, 1, 2, 4, 2, 5, 1, 2, 3, 4, 5, 6, 1, 2, 3, 4, 5, 6, 2, 6, 1, 2, 3, 4, 5, 5, 4, 1, 2, 3, 4, 5, 6, 1, 1, 2, 4, 5, 1, 2, 3, 4, 5, 6, 1, 4, 5, 6, 1, 1, 2, 3, 4, 5, 6, 1, 3, 4, 5, 1, 3, 5, 6, 3, 2, 1, 2, 4, 6, 1, 2, 3, 4, 5, 6, 1, 2, 3, 6, 2, 4, 1, 2, 3, 6, 1, 3, 3, 5, 1, 2, 3, 4, 5, 6, 3, 3, 1, 3, 4, 5, 1, 1, 4, 6, 1, 2, 3, 4, 5, 1, 2, 3, 4, 5, 6, 1, 2, 3, 4, 2, 1, 2, 3, 4, 5, 6, 1, 4, 5, 1, 2, 4, 6, 1, 3, 4, 6, 1, 2, 3, 4, 5, 6, 3, 4, 5, 6, 3, 5, 6, 5, 6, 3, 1, 4, 1, 3, 4, 5, 6, 2, 2, 3, 5, 1, 2, 3, 4, 5, 6, 1, 4, 5, 1, 3, 4, 5, 2, 3, 5, 3, 1, 3, 5, 3, 4, 6, 1, 2, 3, 4, 4, 5, 1, 2, 3, 5, 6, 1, 3, 1, 2, 3, 5, 3, 2, 1, 2, 3, 4, 5, 6, 5, 2, 2, 2, 3, 4, 5, 6, 5, 2, 2, 3, 1, 4, 1, 1, 5, 2, 3, 4, 5, 2, 1, 3, 4, 6, 5, 4, 6, 5, 3, 5, 3, 4, 1, 1, 2, 4, 1, 2, 3, 4, 5, 6, 2, 1, 2, 3, 3, 2, 1, 1, 3, 4, 5, 6, 1, 3, 6, 2, 4, 3, 2, 3, 2, 3, 6, 2, 6, 5, 1, 2, 3, 4, 5, 6, 4, 5, 6, 1, 2, 3, 5, 6, 1, 2, 3, 4, 5, 6, 2, 4, 2, 1, 2, 3, 4, 5, 6, 6, 2, 4, 5, 1, 2, 3, 4, 5, 6, 2, 4, 5, 3, 2, 1, 2, 3, 4, 5, 4, 1, 6, 1, 2, 3, 4, 5, 6, 1, 2, 4, 5, 6, 2, 3, 1, 3, 5, 6, 1, 1, 2, 3, 4, 5, 1, 2, 3, 5, 6, 6, 3, 4, 4, 5, 2, 5, 1, 2, 3, 4, 5, 6, 1, 1, 3, 5, 4, 6, 1, 4, 6, 3, 4, 1, 2, 1, 2, 3, 4, 5, 6, 1, 2, 3, 4, 5, 6, 3, 1, 2, 3, 4, 5, 1, 2, 4, 5, 6, 1, 3, 4, 2, 2, 2, 1, 3, 1, 4, 6, 6, 1, 2, 3, 4, 5, 6, 1, 2, 3, 4, 5, 6, 1, 3, 4, 5, 6, 1, 2, 3, 4, 5, 2, 4, 5, 6, 1, 2, 3, 4, 5, 6, 3, 4, 3, 6, 2, 3, 3, 4, 4, 3, 4, 6, 1, 5, 5, 3, 1, 2, 3, 4, 5, 6, 4, 5, 6, 3, 4, 5, 6, 1, 3, 4, 5, 6, 1, 3, 4, 5, 6, 1, 2, 3, 4, 5, 6, 1, 2, 3, 4, 5, 6, 2, 3, 4, 5, 2, 2, 2, 2, 1, 2, 2, 3, 1, 2, 3, 4, 5, 6, 1, 2, 3, 5, 6, 6, 1, 1, 3, 4, 5, 6, 1, 2, 3, 4, 5, 6, 4, 1, 1, 3, 4, 5, 2, 3, 4, 5, 6, 2, 2, 4, 2, 4, 5, 1, 2, 3, 4, 5, 6, 1, 2, 3, 6, 1, 2, 3, 4, 6, 2, 5, 2, 2, 1, 2, 4, 6, 4, 5, 1, 4, 6, 1, 2, 3, 4, 5, 6, 1, 4, 5, 1, 3, 4, 5, 6, 1, 2, 3, 5, 6, 2, 4, 5, 6, 2, 3, 4, 5, 6, 1, 5, 3, 4, 5, 6, 1, 2, 3, 5, 6, 1, 1, 2, 3, 1, 2, 3, 2, 3, 4, 5, 6, 3, 1, 2, 4, 5, 1, 2, 4, 5, 1, 2, 3, 4, 5, 6, 3, 4, 1, 3, 1, 2, 3, 2, 1, 4, 5, 6, 2, 3, 1, 3, 5, 1, 2, 4, 1, 2, 3, 4, 5, 6, 1, 2, 4, 5, 4, 5, 6, 3, 3, 3, 1, 2, 3, 4, 5, 6, 3, 5, 6, 1, 1, 4, 2, 1, 2, 3, 4, 5, 6, 1, 2, 3, 1, 2, 3, 4, 5, 6, 1, 3, 2, 3, 4, 5, 6, 2, 5, 6, 1, 2, 5, 6, 1, 2, 3, 5, 6, 1, 2, 3, 4, 5, 6, 1, 2, 3, 4, 5, 6, 1, 2, 3, 4, 5, 6, 1, 3, 4, 5, 6, 3, 6, 1, 3, 4, 5, 3, 1, 3, 4, 5, 5, 1, 3, 5, 1, 1, 2, 3, 5, 6, 2, 3, 4, 5, 1, 2, 4, 1, 2, 3, 4, 6, 1, 2, 4, 5, 6, 2, 3, 5, 6, 4, 5, 6, 1, 2, 4, 5, 6, 1, 3, 4, 5, 6, 1, 2, 3, 4, 5, 6, 1, 3, 6, 1, 2, 3, 4, 5, 6, 1, 3, 4, 2, 4, 5, 6, 1, 2, 3, 4, 5, 6, 2, 3, 4, 5, 6, 3, 3, 6, 1, 1, 3, 4, 5, 6, 5, 6, 2, 3, 1, 2, 3, 4, 5, 1, 2, 3, 4, 5, 6, 1, 2, 3, 4, 5, 6, 2, 3, 2, 1, 5, 2, 3, 4, 5, 6, 1, 2, 3, 4, 6, 1, 2, 3, 4, 5, 6, 1, 2, 3, 4, 5, 6, 1, 2, 3, 4, 5, 6, 1, 2, 3, 4, 5, 6, 1, 2, 3, 6, 1, 2, 3, 4, 5, 6, 1, 2, 3, 4, 5, 6, 1, 2, 3, 6, 2, 1, 1, 2, 3, 4, 5, 6, 1, 2, 3, 5, 6, 1, 2, 3, 4, 5, 6, 1, 3, 4, 5, 1, 2, 3, 4, 6, 1, 2, 3, 4, 5, 6, 3, 5, 1, 4, 3, 4, 5, 1, 2, 3, 4, 5, 6, 1, 2, 3, 4, 5, 6, 3, 4, 5, 6, 2, 4, 6, 1, 3, 4, 5, 6, 2, 1, 3, 4, 1, 2, 3, 4, 5, 6, 2, 3, 4, 5, 6, 1, 3, 4, 1, 4, 2, 3, 4, 5, 6, 3, 1, 1, 4, 5, 5, 3, 1, 2, 3, 4, 5, 6, 2, 1, 2, 2, 1, 2, 3, 4, 5, 6, 1, 1, 2, 3, 5, 6, 2, 3, 4, 1, 2, 3, 4, 5, 6, 1, 2, 3, 4, 5, 6, 1, 2, 3, 4, 5, 6, 1, 2, 3, 4, 5, 6, 2, 1, 2, 3, 4, 5, 6, 1, 6], \"Freq\": [0.07310266618499608, 0.913783327312451, 0.980665234502745, 0.008742436815181146, 0.043712184075905734, 0.9441831760395638, 1.0245740318788623, 0.008982653966990854, 0.07186123173592683, 0.08982653966990854, 0.7635255871942226, 0.07186123173592683, 0.20158184638911447, 0.4967007237731779, 0.2267795771877538, 0.06833930019630964, 0.0011453513999381505, 0.005344973199711368, 0.0024241685060764754, 0.9648190654184372, 0.014545011036458852, 0.016969179542535327, 0.0024241685060764754, 0.9819285724677628, 0.004525016462985082, 0.004525016462985082, 0.009050032925970165, 0.8983161963931988, 0.11228952454914985, 1.0006788107170865, 0.9814274565985452, 0.6617990381494615, 0.31367135739938573, 0.023762981621165587, 0.0011881490810582793, 0.10332236459765526, 0.9017224546704459, 1.018383128137466, 0.172704774709131, 0.020577590178109225, 0.2182694386749443, 0.20945047145575463, 0.3373254961340048, 0.041890094291150926, 0.9818834472172432, 0.932372664086458, 0.005034903929774687, 0.06087656569636667, 0.0018308741562817045, 0.048421616538567226, 0.9684323307713445, 0.06764876870951904, 0.9470827619332665, 0.39678425853030064, 0.27110598659762625, 0.13016678164455564, 0.2001875331499028, 0.0017954038847524916, 0.9814274565985451, 1.0088864162942768, 0.9944401992412765, 0.007983623360509513, 0.950051179900632, 0.007983623360509513, 0.023950870081528536, 0.007983623360509513, 0.30072290417968195, 0.013074908877377476, 0.6864327160623175, 0.9814274565985452, 0.018339780744732574, 0.018339780744732574, 0.9169890372366286, 0.055019342234197716, 0.10060715695632301, 0.9054644126069071, 0.4428946408243759, 0.2645856050201519, 0.1605462127303565, 0.0556403412662261, 0.07327938160090289, 0.0030945684797678585, 0.4785776085267743, 0.3011124916102474, 0.160563677210191, 0.031134231037987174, 0.0273536458405173, 0.0013343241873423075, 0.9814274565985451, 0.9814274565985452, 0.03201074181945307, 0.9603222545835921, 0.9161844847724394, 0.1017982760858266, 0.05339861748376084, 0.02669930874188042, 0.06674827185470104, 0.7876296078854723, 0.06674827185470104, 0.6753386752814096, 0.007956172889663176, 0.21200860700102464, 0.06458540345726578, 0.025740559348910275, 0.014508315269385792, 0.9664566904412838, 0.03295946909095687, 0.0005316043401767238, 0.07813962691428715, 0.17860486151837063, 0.49488430379048526, 0.24930261920272564, 1.0095083296351788, 0.03388260867713998, 0.9825956516370594, 1.018383128137466, 0.9944401992412766, 0.05834998384046747, 0.029174991920233734, 0.9044247495272457, 0.070115447327135, 0.9465585389163224, 0.0014090264361018084, 0.9986474865871567, 0.9944401992412765, 0.037321436083950096, 0.018660718041975048, 0.9423662611197399, 0.9925560933826479, 1.0088864162942768, 1.0088864162942768, 1.0079525229931006, 0.3503975166012394, 0.003214656115607701, 0.20895264751450057, 0.003214656115607701, 0.4339785756070396, 0.5682025690194162, 0.3064951504651792, 0.0832249645210792, 0.01637760345997141, 0.025401997203220963, 0.0006684736106110779, 1.0172556285914083, 0.22071723605764554, 0.3047999926510343, 0.0015014777963105138, 0.3573517155219023, 0.07657536761183621, 0.03903842270407336, 0.005096339326416653, 0.9530154540399142, 0.04077071461133323, 0.9986454821529057, 1.0053647116375342, 0.9944401992412765, 0.13646261068110624, 0.03200974818445702, 0.23249185523447727, 0.2493390911210336, 0.3125162256956198, 0.03790628074475173, 0.07000989686598039, 0.8751237108247548, 0.07000989686598039, 1.0088864162942768, 0.9696595220393406, 0.020543633941511454, 0.008217453576604581, 0.9819089829457347, 0.017692053746769996, 0.010199243242163859, 0.8431374413522122, 0.006799495494775905, 0.1359899098955181, 0.0033997477473879526, 0.9818450839570861, 0.011073440796508491, 0.005536720398254246, 0.0018455734660847484, 0.9641841118853325, 0.00456959294732385, 0.022847964736619254, 0.00456959294732385, 0.00456959294732385, 0.5055562778447416, 0.3412504875452006, 0.02527781389223708, 0.1289168508504091, 0.9944401992412767, 0.36834981539013295, 0.2903534938517756, 0.07891034093138498, 0.13009542694093199, 0.053927144188629886, 0.07799632153835735, 1.0172556285914083, 0.05817362137633985, 0.07479465605529409, 0.05817362137633985, 0.6814624218371239, 0.13296827743163395, 0.3414708593110592, 0.6496274884454297, 0.008328557544172176, 0.5023314598359128, 0.04151499668065395, 0.19563942185758174, 0.07991636861025884, 0.16554104926410762, 0.015049186296737056, 0.6974320042603871, 0.1440525963593161, 0.061969796169668065, 0.027723329865377816, 0.04511836036914429, 0.024461761645921603, 0.4509486568974859, 0.40217432398827013, 0.05947045854720165, 0.07230580931278474, 0.008984745535908164, 0.006417675382791545, 0.18221982836721792, 0.04872187924257163, 0.0019488751697028653, 0.01461656377277149, 0.752265815505306, 0.9208160584246141, 0.006071314670931522, 0.0020237715569771737, 0.05059428892442935, 0.018213944012794567, 0.0020237715569771737, 0.9976942100228304, 0.9813490778100286, 0.015956895574146805, 0.3253794745496416, 0.05874907179368529, 0.009038318737490045, 0.6055673554118329, 0.9944401992412766, 0.43257953196580684, 0.20703834462551338, 0.1225057494775964, 0.09420728414910919, 0.09807715974958607, 0.045591971918118306, 1.0079525229931006, 0.07933860438092748, 0.8160542164895398, 0.07933860438092748, 0.022668172680264994, 0.03771902034015011, 0.9618350186738277, 0.4267428782949202, 0.12535360874696388, 0.006081846246483423, 0.4416096135641019, 0.9944401992412765, 0.07585580393539859, 0.11378370590309789, 0.8154498923055349, 0.603952822909724, 0.20185160659582285, 0.07582785221324563, 0.08997882463332316, 0.027500946401282745, 0.0010679979184964174, 0.8221646043904525, 0.17644252890620515, 0.0004112879461683104, 0.0008225758923366208, 0.24835910290857377, 0.04726236659827337, 0.5041319103815826, 0.1102788553959712, 0.0685767672210241, 0.021314400622750734, 1.0086842412028234, 0.9735950439486254, 0.024339876098715633, 0.9125047464423538, 0.0016500989989915982, 0.042902573973781555, 0.004950296996974794, 0.03795227697680676, 0.12588221591672014, 0.881175511417041, 0.7212772839727656, 0.10974272653994228, 0.10353819076383247, 0.04013559080171034, 0.02520592659044611, 0.5022382152220277, 0.024785782049918253, 0.10240441531150436, 0.09131603913127777, 0.27916617677276345, 1.0172556285914083, 0.0074222844611291795, 0.02226685338338754, 0.9648969799467934, 0.0074222844611291795, 0.686697707595149, 0.003555185264331715, 0.1534199179453917, 0.08149578529006547, 0.07438541476140204, 0.0002734757895639781, 0.3753339382928641, 0.4906150764828152, 0.08400330999887912, 0.04468261170153144, 0.0053619134041837735, 1.0079525229931006, 0.9866268455129785, 0.9930486770518204, 0.9806652345027449, 0.9946899897958228, 1.0172556285914083, 0.4559995154147381, 0.21823315065638868, 0.13235436451845795, 0.04378134195267057, 0.11618894595131805, 0.03367795534820813, 0.0915959820827842, 0.915959820827842, 0.9806652345027449, 1.0059631430135088, 0.9667381115914372, 0.050880953241654585, 0.2409775456683335, 0.038801469217782505, 0.0020421825904096058, 0.0040843651808192116, 0.7127217240529524, 0.1256144625626661, 0.03140361564066652, 0.8478976222979961, 0.8341253575294864, 0.001919736150815849, 0.07966905025885773, 0.07966905025885773, 0.003839472301631698, 0.966840073959161, 0.02843647276350474, 0.8897896028328084, 0.0013123740454761186, 0.022310358773094015, 0.03149697709142684, 0.0564320839554731, 0.22099409997880062, 0.6359493825078024, 0.1115107843929728, 0.023653802750024534, 0.00810987522857984, 0.34572604092399095, 0.3542221440090796, 0.12384704112494573, 0.05195693809727275, 0.057512082422138386, 0.066988505093968, 0.28635978622676006, 0.5432495362010574, 0.12900091340700648, 0.008896614717724585, 0.021685498374453674, 0.01112076839715573, 0.3943535165822917, 0.00043671485778769845, 0.224471436902877, 0.279497508984127, 0.034063758907440476, 0.06725408809930555, 0.15693809840821954, 0.7092394831909921, 0.0794750626554445, 0.0321924304427117, 0.021126282478029553, 0.9411627246384063, 0.020760942455258963, 0.006920314151752988, 0.03460157075876494, 0.37310452405830846, 0.33857557067502025, 0.08152669548831933, 0.20621458270574888, 0.0004795687969901137, 0.0469980406387187, 0.5978150769245019, 0.3553051872287134, 1.0003010615331327, 0.0022264938651541106, 0.8449544218259851, 0.06790806288720039, 0.06345507515689217, 0.02115169171896405, 0.43444389498231994, 0.15759239327790037, 0.27827125299521144, 0.0866048287383056, 0.0433024143691528, 0.3360921583835044, 0.6330624782250136, 0.0053347961648175304, 0.026673980824087652, 0.05347519725230127, 0.9625535505414229, 0.9907951990341272, 0.009713678421903207, 1.0172556285914083, 0.15831144211628229, 0.03518032047028495, 0.021987700293928096, 0.06156556082299867, 0.7255941096996271, 0.9771639985656387, 0.017229591914255594, 0.002461370273465085, 0.002461370273465085, 0.9877229387518054, 0.01226985017082988, 0.8710395051681115, 0.014805204053848919, 0.04071431114808453, 0.00123376700448741, 0.07155848626026978, 1.002762836089818, 0.9944401992412765, 1.0172556285914083, 0.980665234502745, 0.2892564719311573, 0.21649319793605248, 0.2048151416158505, 0.0008983120246309232, 0.2703919194139079, 0.017966240492618465, 0.9814274565985452, 1.0079059354611544, 1.0015304522581225, 0.9814274565985451, 0.9944401992412765, 0.019391520748890837, 0.019391520748890837, 0.9501845166956511, 0.019391520748890837, 0.014537577866039179, 0.9667489280916054, 0.021806366799058768, 0.42225033766228875, 0.5774894323910714, 0.7304873056315533, 0.001633286317789946, 0.019191114234031866, 0.10003878696463418, 0.1445458391244102, 0.004083215794474865, 0.33269753201604046, 0.35615270802317134, 0.10779400037319711, 0.12858759612419965, 0.0731934570435289, 0.0014971388940721822, 0.9812747008204681, 0.014221372475658958, 0.0014791082949156453, 0.8135095622036049, 0.0029582165898312906, 0.0976211474644326, 0.08430917281019179, 1.0172556285914083, 1.0088864162942768, 0.24994824922079567, 0.5143610961974244, 0.15882128335904724, 0.033847158748649415, 0.03616149438958271, 0.006653714967683218, 0.9996020391281478, 0.0019387039904060713, 0.4212526813439478, 0.5638859034952516, 0.01274005479409704, 0.09585326407458135, 0.6176351451257298, 0.21296430848828357, 0.01932525485374624, 0.03362594344551846, 0.02087127524204594, 0.9814274565985452, 0.03178454614220965, 0.9535363842662894, 0.015892273071104825, 0.9814274565985452, 0.3626201364617157, 0.00014891997390624874, 0.41861404665046525, 0.09739366293468668, 0.12122085875968648, 1.0245740318788625, 0.6123539999796779, 0.34867703488740515, 0.016710788768797297, 0.022334611912142543, 0.2104031054563067, 0.015852288767255984, 0.2637244404007132, 0.5101554748735108, 0.9944401992412766, 0.9806652345027449, 0.05881705895062858, 0.08234388253088001, 0.7999120017285487, 0.05881705895062858, 0.19358572276253674, 0.18227659119221673, 0.13637482187738842, 0.3459263774450828, 0.10776937143481427, 0.03326215167741181, 0.31489422949769347, 0.02009963167006554, 0.0223329240778506, 0.6431882134420973, 0.9732964777890997, 0.024131317631134703, 0.05304141041617317, 0.9215945059810089, 0.01989052890606494, 0.006630176302021646, 0.9973856266245377, 0.9944401992412766, 0.9491773314247479, 0.046301333240231606, 0.058103761401203435, 0.7016303263541547, 0.158414972122149, 0.04111115193481375, 0.03837040847249284, 0.0027407434623209167, 0.9944401992412766, 0.9944401992412767, 0.05822043139363753, 0.8927132813691088, 0.019406810464545843, 0.029110215696818764, 1.0079525229931006, 0.02838893530373646, 0.08516680591120938, 0.8800569944158302, 0.8319294560371977, 0.017884324851800394, 0.022612364755149925, 0.07030389769328431, 0.05735317969715299, 0.6985014098832344, 0.0005748982797392876, 0.09025902991906815, 0.03506879506409654, 0.0034493896784357258, 0.17246948392178627, 0.9673689211307186, 0.007219171053214317, 0.014438342106428635, 0.007219171053214317, 1.005810496925892, 0.0363332145127745, 0.060555357521290834, 0.8962192913151044, 0.33371650579484985, 0.5840038851409872, 0.07995291284668277, 0.24132717715383706, 0.043094138777470904, 0.7239815314615112, 1.002762836089818, 0.22473943973759047, 0.7606565652656908, 0.017287649210583882, 0.9596453978027905, 0.0018038447327120121, 0.0018038447327120121, 0.036076894654240244, 0.0652333550782624, 0.09785003261739361, 0.02024483433463316, 0.006748278111544387, 0.0022494260371814625, 0.8075439473481449, 0.02435309654945343, 0.03652964482418015, 0.06088274137363357, 0.8767114757803235, 0.04447419140360623, 0.04447419140360623, 0.8894838280721246, 0.08533001211951133, 0.8959651272548689, 0.9944401992412766, 0.10060715695632301, 0.9054644126069071, 0.023915943870870444, 0.15943962580580295, 0.04783188774174089, 0.7493662412872739, 0.015943962580580295, 1.0103823628210098, 0.08897221170781279, 0.889722117078128, 0.014828701951302132, 0.4393472331217661, 0.20308195367864113, 0.1324678364518195, 0.09052411268551193, 0.04220919037242345, 0.09238237892832302, 0.08592784003524931, 0.8961046175104571, 0.012275405719321331, 0.08561023061732326, 0.8429315014628752, 0.06585402355178713, 0.006585402355178713, 0.009965352909041705, 0.8869164089047118, 0.09965352909041705, 0.9944401992412766, 0.030706565080736006, 0.12282626032294403, 0.8597838222606081, 0.9944401992412767, 0.8844684153710931, 0.12635263076729902, 0.005927446072976282, 0.02370978429190513, 0.8476247884356083, 0.12447636753250192, 0.06354553043479237, 0.9531829565218854, 0.3403559025986846, 0.3050475701216196, 0.28205609781097263, 0.023402034316194233, 0.0488568786601248, 0.1340842022059579, 0.8656664282770615, 0.022899845508984863, 0.027479814610781837, 0.9434736349701763, 0.0045799691017969725, 0.9944401992412766, 1.0071697003001165, 0.5074092406969205, 0.13692902889792954, 0.11520333746527267, 0.18838461387001162, 0.039449281811929596, 0.01257803188206451, 1.0172556285914083, 1.0133540756528365, 1.005810496925892, 0.7452260292185912, 0.1727345100837794, 0.03084544822924632, 0.05058653509596397, 0.001233817929169853, 1.0172556285914083, 0.998495511493704, 0.9809425405324141, 0.020019235521069677, 0.9651311176223265, 0.03446896848651166, 1.001056005730516, 0.06765239318871814, 0.9471335046420541, 0.6715755751062795, 0.18731963355237136, 0.055502113645147066, 0.08602827614997796, 1.005810496925892, 0.004826975088546523, 0.009653950177093047, 0.04826975088546523, 0.9364331671780254, 1.0172556285914083, 0.09027972643913298, 0.9027972643913298, 1.0172556285914083, 0.9944401992412766, 1.0172556285914083, 0.12588221591672014, 0.881175511417041, 0.9814274565985451, 0.9814274565985452, 0.9812890802389989, 0.022302024550886337, 0.00803216843081847, 0.8674741905283948, 0.014457903175473246, 0.033735107409437574, 0.0530123116434019, 0.022490071606291715, 0.9978698877396353, 1.0059631430135088, 0.9958585043494879, 0.0075443826087082414, 0.9944401992412767, 0.980665234502745, 0.997516431296882, 0.015712124391011134, 0.0471363731730334, 0.03142424878202227, 0.0942727463460668, 0.817030468332579, 0.9678335251173371, 0.028326834881483038, 0.00472113914691384, 0.05301898198853362, 0.9543416757936052, 0.9944401992412765, 0.980665234502745, 0.9944401992412766, 0.013451866876340465, 0.9416306813438325, 0.040355600629021396, 1.0169861691139577, 1.0245740318788625, 1.0172556285914083, 0.017956649311418788, 0.6018573493344505, 0.2235293241869718, 0.012383896076840544, 0.13498446723756194, 0.009907116861472436, 0.022262341389050228, 0.022262341389050228, 0.9572806797291599, 0.17358150454662843, 0.13435876073080374, 0.0734383288466505, 0.002503579392499449, 0.6158805305548644, 0.43273898287492724, 0.004082443234669125, 0.0020412216173345626, 0.0020412216173345626, 0.1837099455601106, 0.37354355597222494, 0.9806652345027449, 1.0088864162942768, 0.980665234502745, 0.4691681979518478, 0.42146199494138187, 0.07447659031130283, 0.009266672527212794, 0.01853334505442559, 0.006864201872009477, 0.9989596810818908, 0.04797646520292647, 0.9595293040585293, 1.0172556285914083, 0.2603477824725057, 0.016530017934762265, 0.11364387330149057, 0.13224014347809812, 0.38845542146691325, 0.08678259415750189, 0.9684153343473628, 0.013086693707396796, 0.013086693707396796, 0.9944401992412765, 1.014481277071805, 0.009323540337405503, 0.15383841556719077, 0.14917664539848804, 0.6759566744618989, 0.013985310506108253, 1.0088864162942768, 0.09277231590834484, 0.9277231590834484, 0.4502597875245231, 0.2956195935082124, 0.006557181371716356, 0.2038190543041834, 0.03551806576346359, 0.008196476714645445, 0.4163379896514661, 0.15750352518560756, 0.3799910223009413, 0.03524554409747861, 0.011014232530462067, 0.9809812468658405, 0.022813517368973038, 0.203066841213291, 0.7467103531228889, 0.047968545168493935, 0.0015989515056164644, 0.9983486196433478, 0.17425710907256378, 0.4140348911564115, 0.09131072515402341, 0.06133850239354245, 0.2592945782999749, 0.3021038282870646, 0.04589975291654297, 0.0008345409621189631, 0.07427414562858771, 0.5766678048242034, 1.0245740318788623, 0.11191784306193955, 0.8953427444955164, 0.025426117658940102, 0.9661924710397238, 0.05970751958909013, 0.9553203134254421, 0.3247053512509992, 0.40140025601888024, 0.21624332616506098, 0.013841388138582076, 0.039481992395299696, 0.004311252043164909, 0.9814274565985451, 0.09052260048738592, 0.13578390073107888, 0.7694421041427804, 0.02327754725292327, 0.9776569846227775, 0.0002677998711983295, 0.7996504153982119, 0.20004650378515215, 0.08761857240679213, 0.9199950102713174, 1.0102929700279142, 0.980665234502745, 0.0009839620039711042, 0.6307196445454778, 0.21745560287761403, 0.034438670138988645, 0.1151235544646192, 0.0009839620039711042, 0.5801963355673253, 0.028177305480090852, 0.08965506289119816, 0.02305415902916524, 0.0012807866127314024, 0.2766499083499829, 0.9944401992412765, 0.0021615605336016185, 0.4387967883211285, 0.0005403901334004046, 0.5538998867354147, 0.004863511200603641, 0.06605780604049026, 0.09436829434355751, 0.7832568430515273, 0.023592073585889377, 0.03302890302024513, 0.03473827055317854, 0.03473827055317854, 0.9379333049358206, 0.980665234502745, 0.980665234502745, 1.0095083296351788, 0.9814274565985451, 0.9944401992412767, 0.10065838749357012, 0.872372691610941, 0.03355279583119004, 1.0245740318788623, 0.15630869724897833, 0.547721049786379, 0.16463661964339113, 0.08584166160394713, 0.042920830801973564, 0.0032030470747741466, 0.1490375565781229, 0.006774434389914677, 0.047421040729402744, 0.14226312218820822, 0.6367968326519796, 0.013548868779829354, 0.665368326920148, 0.17336202279387342, 0.04395093535619326, 0.11699901773060706, 0.0004069531051499376, 0.6926478493649157, 0.0006470320872161753, 0.20430038153850738, 0.06535024080883371, 0.03704258699312604, 0.05970590388164655, 0.02388236155265862, 0.8955885582246983, 0.02388236155265862, 0.019536832087897887, 0.12432529510480474, 0.13231763550439932, 0.4955251047748646, 0.1713912996801951, 0.05683442061933931, 0.08397221277390418, 0.923694340512946, 0.9622355389333027, 0.0331805358252863, 0.24628240610207747, 0.753683507830454, 0.9679380284024486, 0.026887167455623574, 1.0088864162942768, 0.026918978284716302, 0.053837956569432605, 0.9152452616803542, 0.9814274565985451, 1.0172556285914083, 1.0172556285914083, 0.9944401992412766, 0.7641449496020157, 0.0018622541420032876, 0.04903935907275324, 0.04624597785974831, 0.1061484860941874, 0.032589447485057536, 0.06191940952523195, 0.8668717333532473, 0.07076503945740793, 0.7189239375828073, 0.11766818938481077, 0.12197312314279166, 0.04161435966048186, 0.3053918816019369, 0.27400974278750445, 0.3036653561655442, 0.1024743626658977, 0.014421565409868655, 0.4069394207786693, 0.4661059736332816, 0.08491077814249703, 0.03658389909330989, 0.005871489977938625, 0.0007147848701039881, 0.837727867761874, 0.0657602080495669, 0.024302685583535592, 0.06147149882894297, 0.01143655792166381, 0.09503103987917938, 0.5985537138658761, 0.14552514465080305, 0.07091868647699955, 0.08992489445283541, 0.00028367474590799816, 0.04002467964047729, 0.04002467964047729, 0.10673247904127277, 0.8138351526897049, 1.0086842412028234, 0.995302029047562, 1.015688992877843, 1.0029530807414435, 0.9996020391281478, 1.0029530807414435, 0.987814394807513, 0.013912878800105817, 0.028023818756825268, 0.826035419546421, 0.11209527502730107, 0.0013344675598488222, 0.021351480957581156, 0.010675740478790578, 0.09366637637446987, 0.035124891140426204, 0.005854148523404367, 0.011708297046808733, 0.8488515358936333, 1.0245740318788623, 0.9814274565985452, 0.6829292449744119, 0.13904098714629443, 0.09294451573202744, 0.053862724750366305, 0.03131553764556181, 0.11947864657538225, 0.5429877777399068, 0.18721877208910342, 0.07627431455481992, 0.05173852106166106, 0.02240224623288417, 1.0088864162942768, 0.9814274565985452, 0.21039318844315408, 0.7058986415989935, 0.07668536775030849, 0.007865165923108564, 0.308279076703061, 0.6025454681014374, 0.021019027957026887, 0.05745200974920682, 0.009808879713279213, 0.9806652345027449, 0.09736302031352653, 0.9087215229262476, 0.02585525850882842, 0.9566445648266515, 0.02585525850882842, 0.43288972074394244, 0.15108822983242598, 0.1796131860870956, 0.09309793414985583, 0.08149987501334181, 0.0617518283754936, 0.8686329820211319, 0.09068635022124406, 0.02222704662285394, 0.01778163729828315, 0.4751338266456981, 0.042993548118752264, 0.0033071960091347894, 0.0011023986697115964, 0.4773386239851213, 0.9806652345027449, 1.0172556285914083, 1.0048791909102202, 0.9806652345027449, 0.010690133673317493, 0.9193514959053044, 0.010690133673317493, 0.05879573520324621, 0.9900045029789708, 0.019038548134210978, 0.9699470664384415, 0.0025457928252977467, 0.028003721078275215, 0.21161667839574316, 0.2752638402887157, 0.43336825518208705, 0.02108058865244951, 0.05513384724486795, 0.00405395935624029, 0.917671135058852, 0.04238240181998714, 0.040539688697379006, 0.676310852239963, 0.13338642386242722, 0.06460904905836319, 0.12244456877996249, 0.003126244309275638, 0.0027833079249232687, 0.47872896308680224, 0.025049771324309418, 0.08628254567262134, 0.40357964911387395, 0.012567150527965011, 0.012567150527965011, 0.8042976337897607, 0.17594010739151014, 0.1432484120624282, 0.31366462641255827, 0.35400469647611565, 0.18358848212598555, 0.004939600415945799, 0.9814274565985452, 1.0172556285914083, 0.08633629835956061, 0.0763744177796113, 0.6375603571167553, 0.20255823845896911, 0.7673414908533273, 0.006090011832169263, 0.07972379125748855, 0.0005536374392881148, 0.14671392141135045, 1.007254494930086, 0.008485284069714575, 0.11030869290628949, 0.8824695432503159, 0.9814274565985452, 0.031062621141660012, 0.9629412553914604, 0.7494107860425389, 0.23636332769430726, 0.006951862579244331, 0.004171117547546599, 0.0027807450316977324, 0.9944401992412766, 0.08777852632896077, 0.13793768423122407, 0.6834185264183374, 0.08777852632896077, 0.925194241945436, 0.005843332054392227, 0.03311221497488929, 0.03700776967781744, 0.35193736221851474, 0.13289764652728028, 0.21217884292596376, 0.1933749694211478, 0.07851887720254228, 0.03125508704178867, 0.06719401932252447, 0.9407162705153427, 0.023669675312211574, 0.9704566878006746, 0.00867957703348313, 0.9807922047835937, 0.00867957703348313, 1.0079059354611544, 0.1851195240488951, 0.04848368486994871, 0.4818984435558539, 0.28355609636060913, 0.9611951054066681, 0.04004979605861117, 0.024873680374463737, 0.9327630140423901, 0.037310520561695606, 0.002838315619893666, 0.34343619000713355, 0.6528125925755431, 0.0006209064032729689, 0.4718888664874563, 0.07637148760257517, 0.2173172411455391, 0.21545452193572018, 0.018627192098189065, 0.004917955058753571, 0.9081823675164928, 0.03278636705835714, 0.05409750564628929, 0.02422382703442071, 0.9205054273079869, 0.04844765406884142, 0.9944401992412766, 0.9944401992412766, 0.9944401992412766, 0.45434804106207655, 0.4142532198682328, 0.11165418816760964, 0.01779994304121313, 0.0008989870222834914, 0.0010787844267401898, 0.02274209014271463, 0.0682262704281439, 0.9096836057085853, 1.0059631430135088, 0.9923607757904589, 0.005393265085817711, 0.9806652345027449, 0.00586890869762835, 0.8509917611561107, 0.12324708265019534, 0.0117378173952567, 0.00586890869762835, 0.002934454348814175, 0.9490703456288825, 0.04853200631056785, 0.002696222572809325, 0.38177840364762894, 0.0007471201636939901, 0.0452007699034864, 0.14718267224771606, 0.036608888021005516, 0.38812892503902785, 0.009943083639358708, 0.994308363935871, 0.5733978909448233, 0.22667382190243016, 0.0007898042574997566, 0.1856040005124428, 0.014216476634995619, 0.9813950348017936, 0.009258443724545222, 0.009258443724545222, 0.13558465676755949, 0.03012992372612433, 0.05272736652071758, 0.7758455359477014, 0.02400132342766555, 0.016000882285110367, 0.008000441142555183, 0.8880489668236253, 0.06400352914044147, 0.7247987584871763, 0.10971268878470271, 0.059076063191763, 0.06453687575570748, 0.03574350041854568, 0.006453687575570748, 0.3652971576090488, 0.39830781294285883, 0.056367251088864305, 0.04577892767990637, 0.10588323408957936, 0.02865075745953324, 0.9629659864004892, 0.002783138689018755, 0.01113255475607502, 0.002783138689018755, 0.002783138689018755, 0.01669883213411253, 0.07225465311343629, 0.08309285108045174, 0.16618570216090348, 0.6466791453652547, 0.03251459390104633, 0.037904645690819846, 0.9476161422704962, 0.7483799331244083, 0.002713979811874554, 0.21508290009105843, 0.03324625269546329, 0.9944401992412767, 0.8124724504855072, 0.02804853108695652, 0.1346329492173913, 0.02524367797826087, 1.0172556285914083, 0.28027423827597575, 0.02547947620690689, 0.687945857586486, 1.0102929700279142, 0.5762552772016605, 0.3832890605240402, 0.03932017086410413, 0.0006608432078000694, 0.0003304216039000347, 0.9550973783143983, 0.015918289638573304, 0.02653048273095551, 1.0172556285914083, 0.9816512040798889, 0.008462510379999042, 0.008462510379999042, 0.3172517060689383, 0.5854531483626791, 0.07470040171268619, 0.007650041139250996, 0.01485007985854605, 0.9722873418812938, 0.0010631900950041485, 0.0010631900950041485, 0.02339018209009127, 0.002126380190008297, 0.8912629241053455, 0.09429744248213554, 0.015209264916473474, 1.0245740318788625, 0.09539999581159458, 0.7472999671908243, 0.15899999301932433, 0.18589739532791702, 0.0398351561416965, 0.013278385380565501, 0.717032810550537, 0.0398351561416965, 0.4002510813951772, 0.004548307743127014, 0.05685384678908767, 0.14782000165162792, 0.39115446590892317, 0.2429939735042411, 0.3052345351386607, 0.12661264935220984, 0.18714799011993305, 0.031972891250558036, 0.10657630416852679, 0.9857538422807955, 0.0077925204923383045, 0.0077925204923383045, 0.27311417476438477, 0.11026348670611809, 0.390502379073052, 0.14317289658455948, 0.07328280962622002, 0.009160351203277503, 1.0102929700279142, 0.9465921030091001, 0.04854318476969745, 0.021750480520830815, 0.06525144156249245, 0.04350096104166163, 0.8700192208332326, 0.0956032166177855, 0.5126792376521012, 0.2504692458758357, 0.046962983601719195, 0.08553972013170281, 0.00838624707173557, 0.525940446417185, 0.37049524208419765, 0.023894448639023378, 0.0761471440144701, 0.003676069021388212, 0.9944401992412767, 0.0393608195470874, 0.9446596691300977, 1.0047947769937486, 0.7464266872923424, 0.13007039303312104, 0.06503519651656052, 0.009361126771323105, 0.04926908827012161, 0.04877253092970323, 0.9754506185940646, 0.980865042178454, 0.01442448591438903, 0.8216711452505531, 0.006238284183030229, 0.06772994255861392, 0.045450356190648813, 0.05881810801142787, 0.3962445390313376, 0.0004432265537263284, 0.06914334238130723, 0.10814727910922413, 0.03058263220711666, 0.39580131247761124, 0.0013021614059498835, 0.016928098277348487, 0.17318746699133453, 0.3424684497648194, 0.36981383928976697, 0.09635994404029138, 0.020288881845248793, 0.973866328571942, 1.0015304522581225, 0.9819852942751979, 0.015838472488309642, 0.2900523792220021, 0.4434685136865321, 0.13503816002346655, 0.10307646534335611, 0.02876552521209938, 0.8634936745893362, 0.009165928463796028, 0.026233519396381737, 0.10082521310175631, 0.00031606649875158717, 0.3374984781746895, 0.3751626378775032, 0.14168428663074167, 0.0443687745190214, 0.032537101313949025, 0.06882089914283764, 0.3251166356218972, 0.12166185100389579, 0.1664630055965466, 0.08179293361410561, 0.07439457780981465, 0.2305820892337349, 0.013232979928189788, 0.31097502831246004, 0.08270612455118617, 0.15217926917418256, 0.4234553577020732, 0.01984946989228468, 0.36976560351573523, 0.2529573364725677, 0.12520624702666328, 0.15828919847679787, 0.07481836712568903, 0.018831833902384312, 0.8748171887014621, 0.0073267771248028656, 0.10697094602212183, 0.01025748797472401, 0.8714565890336367, 0.08394065218362524, 0.0030523873521318273, 0.01678813043672505, 0.01220954940852731, 0.013735743084593223, 0.0009496408610647566, 0.68279177910556, 0.14529505174290774, 0.05317988821962637, 0.10635977643925273, 0.012345331193841836, 0.3218541779042383, 0.0037424904407469574, 0.0037424904407469574, 0.6736482793344524, 1.001095760221552, 1.0102929700279142, 0.07226794442920158, 0.6294033764822323, 0.17058596185032465, 0.0487388462429499, 0.0714276194939783, 0.007562924417009467, 0.07867376850093677, 0.020979671600249807, 0.06293901480074941, 0.10489835800124903, 0.7342885060087432, 0.048040633396125736, 0.11086300014490555, 0.08869040011592444, 0.5986602007824899, 0.0628223667487798, 0.09238583345408795, 0.0971506764515531, 0.8343528683486325, 0.0400032197153454, 0.028573728368103856, 0.00686593111598073, 0.9543644251213215, 0.00686593111598073, 0.02746372446392292, 0.00686593111598073, 0.4225414973923387, 0.1639831892701302, 0.31021698648678914, 0.025696881032637526, 0.0638448281326355, 0.0140405638631937, 0.9608923058008649, 0.03431758235003089, 0.091484255954581, 0.9148425595458101, 0.028232602359065655, 0.028232602359065655, 0.9316758778491666, 0.3478622161167724, 0.04151442085344197, 0.15174236587809825, 0.3449991526096385, 0.09448109573541967, 0.019325678673154024, 0.8064121040742921, 0.0014702134987680804, 0.0058808539950723215, 0.028669163225977564, 0.14922667012496016, 0.008086174243224442, 0.26395896814551434, 0.43827149427934453, 0.1693321682442922, 0.12948930512798815, 0.20357795415598037, 0.7924998929643522, 0.0072706412198564425, 0.8309765134420399, 0.0007084198750571526, 0.083593545256744, 0.07721776638122962, 0.007792618625628678, 1.0133540756528365, 0.9533132305799074, 0.041091087524996, 0.004109108752499601, 0.0030228172018235623, 0.2660079137604735, 0.09068451605470687, 0.17230058050394306, 0.09370733325653044, 0.37331792442520995, 0.2198236330173948, 0.5149176150835474, 0.18518216555745515, 0.06201250347766974, 0.017962242386635373, 0.12562582369871292, 0.025125164739742585, 0.8542556011512479, 0.038761612342521005, 0.9690403085630251, 0.5015829925446605, 0.0027865721808036695, 0.47929041509823117, 0.008359716542411008, 0.005573144361607339, 0.9944401992412766, 0.9814274565985452, 0.11567919524055176, 0.10121929583548278, 0.7808345678737243, 1.0172556285914083, 0.9944401992412766, 0.1366653646464328, 0.49287255662184803, 0.31673121671436794, 0.0020776829084761745, 0.045016463016983775, 0.006694756038423229, 1.0095083296351788, 0.017994113936999255, 0.9806792095664594, 1.0122995969060593, 0.39115263124159433, 0.18090809194923738, 0.00488940789051993, 0.35692677600795486, 0.03341095391855285, 0.03300350326100952, 1.0006711322181245, 0.26697164166138976, 0.5752082209097859, 0.11441641785488132, 0.03438744798917198, 0.009378394906137812, 0.22936624066917896, 0.7658499900309874, 0.003887563401172525, 0.05826337334918963, 0.040460675936937245, 0.1424215792980191, 0.0631186544616221, 0.030750113712072303, 0.6651735124032483, 0.36387563321070404, 0.001757853300534802, 0.09668193152941412, 0.11250261123422733, 0.05097774571550926, 0.37442275301391287, 0.31057337921888567, 0.35240944030190025, 0.17985852461234877, 0.08458557328137886, 0.06960497498964438, 0.0030143886806538902, 0.6123250698417427, 0.05681935332765721, 0.13377372021317352, 0.10412284408344949, 0.06536983853715903, 0.027444299301465497, 1.005810496925892, 0.35597311440726337, 0.32085098472111434, 0.15274683067427167, 0.07416967386663235, 0.04937758232346834, 0.046829506248198705, 0.05525108238054613, 0.9392684004692842], \"Term\": [\"01\", \"01\", \"1790\", \"21\", \"21\", \"21\", \"54\", \"academia\", \"academia\", \"academia\", \"academia\", \"academia\", \"academy\", \"academy\", \"academy\", \"academy\", \"academy\", \"academy\", \"acad\\u00e9mie\", \"acad\\u00e9mie\", \"acad\\u00e9mie\", \"acad\\u00e9mie\", \"acad\\u00e9mie\", \"adaptation\", \"adaptation\", \"adaptation\", \"adaptation\", \"adelina\", \"adelina\", \"adolphe\", \"aeroplane\", \"agency\", \"agency\", \"agency\", \"agency\", \"aggregate\", \"aggregate\", \"aggression\", \"aire\", \"aire\", \"aire\", \"aire\", \"aire\", \"aire\", \"ajax\", \"album\", \"album\", \"album\", \"album\", \"alonso\", \"alonso\", \"amaia\", \"amaia\", \"ambassador\", \"ambassador\", \"ambassador\", \"ambassador\", \"ambassador\", \"ambience\", \"annotation\", \"anti\", \"antoine\", \"antoine\", \"antoine\", \"antoine\", \"antoine\", \"arcade\", \"arcade\", \"arcade\", \"archeology\", \"armani\", \"armani\", \"armani\", \"armani\", \"armida\", \"armida\", \"art\", \"art\", \"art\", \"art\", \"art\", \"art\", \"artist\", \"artist\", \"artist\", \"artist\", \"artist\", \"artist\", \"ashe\", \"assassin\", \"assist\", \"assist\", \"atp\", \"atp\", \"auditorio\", \"auditorio\", \"auditorio\", \"auditorio\", \"auditorio\", \"award\", \"award\", \"award\", \"award\", \"award\", \"award\", \"band\", \"band\", \"band\", \"barcelona\", \"barcelona\", \"barcelona\", \"barcelona\", \"barclay\", \"barrio\", \"barrio\", \"battlefield\", \"bavarian\", \"bayern\", \"bayern\", \"bayern\", \"bayonne\", \"bayonne\", \"berlin\", \"berlin\", \"berlinale\", \"berliner\", \"berliner\", \"berliner\", \"bernab\\u00e9u\", \"blacksmith\", \"blasis\", \"blitz\", \"bombing\", \"bombing\", \"bombing\", \"bombing\", \"bombing\", \"book\", \"book\", \"book\", \"book\", \"book\", \"book\", \"botero\", \"brand\", \"brand\", \"brand\", \"brand\", \"brand\", \"brand\", \"brera\", \"brera\", \"brera\", \"broadway\", \"broker\", \"brun\", \"buenos\", \"buenos\", \"buenos\", \"buenos\", \"buenos\", \"buenos\", \"burgo\", \"burgo\", \"burgo\", \"b\\u00e9jart\", \"cabinet\", \"cabinet\", \"cabinet\", \"cable\", \"cable\", \"caf\\u00e9\", \"caf\\u00e9\", \"caf\\u00e9\", \"caf\\u00e9\", \"caf\\u00e9\", \"cambridge\", \"cambridge\", \"cambridge\", \"cambridge\", \"camera\", \"camera\", \"camera\", \"camera\", \"camera\", \"campaign\", \"campaign\", \"campaign\", \"campaign\", \"capitain\", \"career\", \"career\", \"career\", \"career\", \"career\", \"career\", \"cartagena\", \"catalan\", \"catalan\", \"catalan\", \"catalan\", \"catalan\", \"catwalk\", \"catwalk\", \"catwalk\", \"center\", \"center\", \"center\", \"center\", \"center\", \"center\", \"centre\", \"centre\", \"centre\", \"centre\", \"centre\", \"centre\", \"century\", \"century\", \"century\", \"century\", \"century\", \"century\", \"champion\", \"champion\", \"champion\", \"champion\", \"champion\", \"channel\", \"channel\", \"channel\", \"channel\", \"channel\", \"channel\", \"chart\", \"chef\", \"chef\", \"chelsea\", \"chelsea\", \"chelsea\", \"chelsea\", \"chemnitz\", \"city\", \"city\", \"city\", \"city\", \"city\", \"city\", \"clark\", \"classification\", \"classification\", \"classification\", \"classification\", \"claude\", \"claude\", \"club\", \"club\", \"club\", \"club\", \"cochabamba\", \"codex\", \"codex\", \"codex\", \"collection\", \"collection\", \"collection\", \"collection\", \"collection\", \"collection\", \"college\", \"college\", \"college\", \"college\", \"cologne\", \"cologne\", \"cologne\", \"cologne\", \"cologne\", \"cologne\", \"commodity\", \"commune\", \"commune\", \"community\", \"community\", \"community\", \"community\", \"community\", \"como\", \"como\", \"company\", \"company\", \"company\", \"company\", \"company\", \"competition\", \"competition\", \"competition\", \"competition\", \"competition\", \"competitiveness\", \"complutense\", \"complutense\", \"complutense\", \"complutense\", \"concert\", \"concert\", \"concert\", \"concert\", \"concert\", \"concert\", \"conductor\", \"conductor\", \"conductor\", \"conductor\", \"conductor\", \"contingent\", \"copa\", \"coppa\", \"copp\\u00e9lia\", \"cork\", \"corriente\", \"country\", \"country\", \"country\", \"country\", \"country\", \"country\", \"coup\\u00e9\", \"coup\\u00e9\", \"creature\", \"creditor\", \"cuenca\", \"cuenca\", \"cup\", \"cup\", \"cup\", \"cup\", \"cup\", \"dal\", \"dal\", \"dal\", \"dance\", \"dance\", \"dance\", \"dance\", \"dance\", \"dash\", \"dash\", \"date\", \"date\", \"date\", \"date\", \"date\", \"daughter\", \"daughter\", \"daughter\", \"daughter\", \"daughter\", \"day\", \"day\", \"day\", \"day\", \"day\", \"day\", \"death\", \"death\", \"death\", \"death\", \"death\", \"death\", \"debut\", \"debut\", \"debut\", \"debut\", \"debut\", \"debut\", \"der\", \"der\", \"der\", \"der\", \"der\", \"des\", \"des\", \"des\", \"des\", \"design\", \"design\", \"design\", \"design\", \"design\", \"designer\", \"designer\", \"designer\", \"detective\", \"deutsche\", \"deutsche\", \"deutsche\", \"deutsche\", \"deutsche\", \"director\", \"director\", \"director\", \"director\", \"director\", \"doctorate\", \"doctorate\", \"doctorate\", \"doctorate\", \"dolore\", \"dolore\", \"dome\", \"dome\", \"donostia\", \"draw\", \"draw\", \"draw\", \"draw\", \"draw\", \"dublin\", \"dublin\", \"dublin\", \"dublin\", \"earth\", \"earth\", \"economic\", \"economic\", \"economic\", \"economic\", \"economic\", \"edward\", \"eine\", \"elizalde\", \"elsa\", \"embassy\", \"embassy\", \"embassy\", \"embassy\", \"embassy\", \"embassy\", \"employ\", \"employer\", \"englishman\", \"entourage\", \"equation\", \"esposizione\", \"esposizione\", \"esposizione\", \"esposizione\", \"eurostar\", \"eurostar\", \"eurostar\", \"eurovision\", \"eurovision\", \"event\", \"event\", \"event\", \"event\", \"event\", \"event\", \"exhibition\", \"exhibition\", \"exhibition\", \"exhibition\", \"exhibition\", \"exhibition\", \"exhibitor\", \"exhibitor\", \"exposition\", \"exposition\", \"exposition\", \"exposition\", \"exposition\", \"extraordinary\", \"faggioni\", \"family\", \"family\", \"family\", \"family\", \"family\", \"family\", \"fare\", \"fashion\", \"fashion\", \"fashion\", \"fashion\", \"father\", \"father\", \"father\", \"father\", \"father\", \"father\", \"fault\", \"federer\", \"federer\", \"federer\", \"female\", \"festival\", \"festival\", \"festival\", \"festival\", \"festival\", \"feyenoord\", \"film\", \"film\", \"film\", \"film\", \"final\", \"final\", \"final\", \"final\", \"fischer\", \"fit\", \"flander\", \"flander\", \"flander\", \"flander\", \"florence\", \"florence\", \"florence\", \"florence\", \"florence\", \"florence\", \"football\", \"football\", \"football\", \"football\", \"fran\\u00e7aise\", \"fran\\u00e7aise\", \"fran\\u00e7ois\", \"fran\\u00e7ois\", \"fran\\u00e7ois\", \"fran\\u00e7ois\", \"freud\", \"frey\", \"friedrich\", \"friedrich\", \"friend\", \"friend\", \"friend\", \"friend\", \"friend\", \"friend\", \"fuch\", \"f\\u00fchrer\", \"f\\u00fcr\", \"f\\u00fcr\", \"f\\u00fcr\", \"f\\u00fcr\", \"gaiety\", \"galatasaray\", \"galatasaray\", \"galatasaray\", \"gallery\", \"gallery\", \"gallery\", \"gallery\", \"gallery\", \"game\", \"game\", \"game\", \"game\", \"game\", \"game\", \"gas\", \"gas\", \"gas\", \"gas\", \"gem\", \"georg\", \"georg\", \"georg\", \"germain\", \"germain\", \"germain\", \"gibraltar\", \"gibraltar\", \"gibraltar\", \"girlfriend\", \"giuseppe\", \"giuseppe\", \"giuseppe\", \"glasgow\", \"glasgow\", \"glasgow\", \"glasgow\", \"goal\", \"goal\", \"goal\", \"goal\", \"goal\", \"goal\", \"goalkeeper\", \"goalkeeper\", \"goalkeeper\", \"goalkeeper\", \"goalless\", \"goalless\", \"goalless\", \"goalscorer\", \"goalscorer\", \"goebbel\", \"gp\", \"gp\", \"granada\", \"granada\", \"granada\", \"granada\", \"granada\", \"green\", \"gropius\", \"gropius\", \"gropius\", \"group\", \"group\", \"group\", \"group\", \"group\", \"group\", \"gucci\", \"gucci\", \"gucci\", \"gymnasium\", \"gymnasium\", \"gymnasium\", \"gymnasium\", \"habilitation\", \"habilitation\", \"habilitation\", \"hager\", \"hammond\", \"hammond\", \"hammond\", \"hann\", \"hd\", \"hd\", \"heinrich\", \"heinrich\", \"heinrich\", \"heinrich\", \"henare\", \"henare\", \"history\", \"history\", \"history\", \"history\", \"history\", \"hitler\", \"hitler\", \"hochschule\", \"hochschule\", \"hochschule\", \"hochschule\", \"hohenzollern\", \"horizon\", \"house\", \"house\", \"house\", \"house\", \"house\", \"house\", \"howth\", \"human\", \"hunt\", \"husband\", \"husband\", \"husband\", \"husband\", \"husband\", \"iberm\\u00fasica\", \"impressionism\", \"inch\", \"inch\", \"incident\", \"incident\", \"indie\", \"infante\", \"infante\", \"influence\", \"influence\", \"influence\", \"influence\", \"inheritance\", \"inter\", \"inter\", \"inter\", \"inter\", \"internacional\", \"internazionale\", \"internazionale\", \"intracatal\\u00f2nia\", \"invitational\", \"irunea\", \"istituto\", \"istituto\", \"iteration\", \"ivor\", \"jacque\", \"jacque\", \"jean\", \"jean\", \"jean\", \"jean\", \"jean\", \"jean\", \"jewel\", \"juilliard\", \"julian\", \"julian\", \"kampnagel\", \"karin\", \"keyboard\", \"kick\", \"kick\", \"kick\", \"kick\", \"kick\", \"kind\", \"kind\", \"kind\", \"klein\", \"klein\", \"kleine\", \"knowle\", \"komische\", \"k\\u00fcnste\", \"k\\u00fcnste\", \"k\\u00fcnste\", \"lambert\", \"landsbanki\", \"laudium\", \"law\", \"law\", \"law\", \"law\", \"law\", \"law\", \"lazio\", \"lazio\", \"lazio\", \"league\", \"league\", \"league\", \"league\", \"league\", \"leg\", \"leg\", \"leg\", \"leg\", \"leg\", \"leg\", \"legislature\", \"legnano\", \"liberalization\", \"life\", \"life\", \"life\", \"life\", \"life\", \"life\", \"liga\", \"lightness\", \"lightness\", \"lino\", \"lisbon\", \"lisbon\", \"lisbon\", \"lisbon\", \"lisbon\", \"lisbon\", \"lithograph\", \"lithograph\", \"lithograph\", \"lithographische\", \"livery\", \"li\\u00e8ge\", \"li\\u00e8ge\", \"li\\u00e8ge\", \"li\\u00e8ge\", \"li\\u00e8ge\", \"lombardo\", \"lyonnais\", \"lyonnais\", \"magazine\", \"magazine\", \"magazine\", \"magazine\", \"magazine\", \"magazine\", \"management\", \"management\", \"management\", \"management\", \"management\", \"mansion\", \"mansion\", \"marathon\", \"marathon\", \"marathon\", \"marathon\", \"marche\", \"master\", \"master\", \"master\", \"master\", \"master\", \"match\", \"match\", \"match\", \"match\", \"match\", \"matchday\", \"maurizio\", \"maurizio\", \"maya\", \"maya\", \"mcdonald\", \"mcdonald\", \"member\", \"member\", \"member\", \"member\", \"member\", \"member\", \"methodist\", \"mexico\", \"mexico\", \"mexico\", \"midfielder\", \"midfielder\", \"milan\", \"milan\", \"milan\", \"milano\", \"milano\", \"mineral\", \"minimalism\", \"minister\", \"minister\", \"minister\", \"minister\", \"minister\", \"minister\", \"minute\", \"minute\", \"minute\", \"minute\", \"minute\", \"minute\", \"mischa\", \"model\", \"model\", \"model\", \"model\", \"model\", \"modeling\", \"modeling\", \"modeling\", \"modeling\", \"modeling\", \"modena\", \"modena\", \"modena\", \"mogador\", \"monique\", \"monopoly\", \"montgomery\", \"montpelier\", \"monza\", \"monza\", \"monza\", \"mortal\", \"mother\", \"mother\", \"mother\", \"mother\", \"mother\", \"mother\", \"museo\", \"museo\", \"museo\", \"museo\", \"museo\", \"museo\", \"museum\", \"museum\", \"museum\", \"museum\", \"museum\", \"music\", \"music\", \"music\", \"music\", \"music\", \"nadal\", \"nadal\", \"nadal\", \"nadal\", \"naple\", \"naple\", \"naple\", \"naple\", \"naple\", \"naple\", \"napoleone\", \"napoleone\", \"nationalgalerie\", \"nationalgalerie\", \"nazi\", \"nazi\", \"nazism\", \"nazism\", \"nelsson\", \"nou\", \"nou\", \"nou\", \"no\\u00ebl\", \"obsesi\\u00f3n\", \"odelot\", \"oder\", \"office\", \"office\", \"office\", \"office\", \"office\", \"office\", \"open\", \"open\", \"open\", \"oper\", \"oper\", \"oper\", \"oper\", \"opera\", \"opera\", \"opera\", \"opera\", \"opera\", \"orchestra\", \"orchestra\", \"orchestra\", \"orchestra\", \"orchestra\", \"painter\", \"painter\", \"painter\", \"painter\", \"painter\", \"painter\", \"painting\", \"painting\", \"painting\", \"painting\", \"painting\", \"painting\", \"palacio\", \"palacio\", \"palacio\", \"palacio\", \"pantheon\", \"pantomime\", \"par\", \"paris\", \"parker\", \"pastel\", \"patent\", \"patent\", \"peace\", \"peace\", \"peace\", \"peace\", \"peace\", \"peace\", \"penalty\", \"penalty\", \"penalty\", \"penalty\", \"penalty\", \"pereira\", \"perfection\", \"performance\", \"performance\", \"performance\", \"performance\", \"performance\", \"period\", \"period\", \"period\", \"period\", \"period\", \"period\", \"peri\\u0107\", \"perkin\", \"philharmonic\", \"philharmonic\", \"philharmonic\", \"philharmonic\", \"philosophy\", \"philosophy\", \"philosophy\", \"philosophy\", \"philosophy\", \"phoenix\", \"piero\", \"piero\", \"pinacoteca\", \"pinacoteca\", \"pinacoteca\", \"place\", \"place\", \"place\", \"place\", \"place\", \"place\", \"play\", \"play\", \"play\", \"play\", \"player\", \"player\", \"player\", \"player\", \"player\", \"plymouth\", \"poete\", \"politique\", \"pont\", \"pound\", \"pound\", \"pound\", \"pound\", \"prada\", \"prada\", \"process\", \"process\", \"process\", \"professor\", \"professor\", \"professor\", \"professor\", \"professor\", \"professor\", \"programme\", \"programme\", \"programme\", \"project\", \"project\", \"project\", \"project\", \"project\", \"quarter\", \"quarter\", \"quarter\", \"quarter\", \"quarter\", \"quarterfinal\", \"quarterfinal\", \"quarterfinal\", \"quarterfinal\", \"race\", \"race\", \"race\", \"race\", \"race\", \"rarity\", \"razon\", \"real\", \"real\", \"real\", \"real\", \"record\", \"record\", \"record\", \"record\", \"record\", \"recorder\", \"reich\", \"reich\", \"reich\", \"remedy\", \"reunification\", \"reunification\", \"revolution\", \"revolution\", \"revolution\", \"revolution\", \"revolution\", \"ribbon\", \"rider\", \"rider\", \"rider\", \"rider\", \"rock\", \"rock\", \"rock\", \"rock\", \"role\", \"role\", \"role\", \"role\", \"role\", \"role\", \"romani\", \"romani\", \"rostock\", \"rostock\", \"rothschild\", \"rothschild\", \"rothschild\", \"rouge\", \"round\", \"round\", \"round\", \"round\", \"rue\", \"rue\", \"rundfunk\", \"rundfunk\", \"rundfunk\", \"runway\", \"runway\", \"runway\", \"saint\", \"saint\", \"saint\", \"saint\", \"saint\", \"saint\", \"salon\", \"salon\", \"salon\", \"salon\", \"santander\", \"santander\", \"santander\", \"saratoga\", \"saxony\", \"schmidt\", \"school\", \"school\", \"school\", \"school\", \"school\", \"school\", \"scorer\", \"scorer\", \"scorer\", \"scot\", \"screen\", \"screen\", \"scripture\", \"sculptor\", \"sculptor\", \"sculptor\", \"sculptor\", \"sculptor\", \"sculptor\", \"sea\", \"sea\", \"sea\", \"season\", \"season\", \"season\", \"season\", \"season\", \"season\", \"secession\", \"secession\", \"secretary\", \"secretary\", \"secretary\", \"secretary\", \"secretary\", \"seine\", \"seine\", \"seine\", \"semi\", \"semi\", \"semi\", \"semi\", \"semifinal\", \"semifinal\", \"semifinal\", \"semifinal\", \"semifinal\", \"series\", \"series\", \"series\", \"series\", \"series\", \"series\", \"service\", \"service\", \"service\", \"service\", \"service\", \"service\", \"session\", \"session\", \"session\", \"session\", \"session\", \"session\", \"seville\", \"seville\", \"seville\", \"seville\", \"seville\", \"shootout\", \"shootout\", \"show\", \"show\", \"show\", \"show\", \"sibelius\", \"singer\", \"singer\", \"singer\", \"singer\", \"sitge\", \"slam\", \"slam\", \"slam\", \"smoke\", \"society\", \"society\", \"society\", \"society\", \"society\", \"soci\\u00e9t\\u00e9\", \"soci\\u00e9t\\u00e9\", \"soci\\u00e9t\\u00e9\", \"sof\\u00eda\", \"soho\", \"soho\", \"soho\", \"son\", \"son\", \"son\", \"son\", \"son\", \"song\", \"song\", \"song\", \"song\", \"song\", \"sorbonne\", \"sorbonne\", \"sorbonne\", \"spain\", \"spaniard\", \"spaniard\", \"spaniard\", \"spanish\", \"spanish\", \"spanish\", \"spanish\", \"spanish\", \"stadium\", \"stadium\", \"stadium\", \"stadium\", \"stadium\", \"stage\", \"stage\", \"stage\", \"stage\", \"stage\", \"stage\", \"standard\", \"standard\", \"standard\", \"state\", \"state\", \"state\", \"state\", \"state\", \"state\", \"stockbroker\", \"strauss\", \"strauss\", \"striker\", \"striker\", \"striker\", \"striker\", \"student\", \"student\", \"student\", \"student\", \"student\", \"student\", \"study\", \"study\", \"study\", \"study\", \"study\", \"st\\u00e4dtische\", \"st\\u00e9fano\", \"st\\u00e9fano\", \"suez\", \"summer\", \"summer\", \"summer\", \"summer\", \"summer\", \"supercopa\", \"supercopa\", \"surrealist\", \"surrealist\", \"system\", \"system\", \"system\", \"system\", \"system\", \"team\", \"team\", \"team\", \"team\", \"team\", \"team\", \"teatro\", \"teatro\", \"teatro\", \"teatro\", \"teatro\", \"teatro\", \"tegel\", \"tegel\", \"telephone\", \"temple\", \"temple\", \"theater\", \"theater\", \"theater\", \"theater\", \"theater\", \"theatre\", \"theatre\", \"theatre\", \"theatre\", \"theatre\", \"time\", \"time\", \"time\", \"time\", \"time\", \"time\", \"title\", \"title\", \"title\", \"title\", \"title\", \"title\", \"toulouse\", \"toulouse\", \"toulouse\", \"toulouse\", \"toulouse\", \"toulouse\", \"tour\", \"tour\", \"tour\", \"tour\", \"tour\", \"tour\", \"track\", \"track\", \"track\", \"track\", \"trade\", \"trade\", \"trade\", \"trade\", \"trade\", \"trade\", \"train\", \"train\", \"train\", \"train\", \"train\", \"train\", \"transfer\", \"transfer\", \"transfer\", \"transfer\", \"traveler\", \"trinidad\", \"trip\", \"trip\", \"trip\", \"trip\", \"trip\", \"trip\", \"trophy\", \"trophy\", \"trophy\", \"trophy\", \"trophy\", \"turin\", \"turin\", \"turin\", \"turin\", \"turin\", \"turin\", \"und\", \"und\", \"und\", \"und\", \"universelle\", \"universelle\", \"universelle\", \"universelle\", \"universelle\", \"university\", \"university\", \"university\", \"university\", \"university\", \"university\", \"universit\\u00e4t\", \"universit\\u00e4t\", \"varese\", \"varese\", \"vel\\u00e1zquez\", \"vel\\u00e1zquez\", \"vel\\u00e1zquez\", \"venice\", \"venice\", \"venice\", \"venice\", \"venice\", \"venice\", \"venue\", \"venue\", \"venue\", \"venue\", \"venue\", \"venue\", \"verona\", \"verona\", \"verona\", \"verona\", \"versace\", \"versace\", \"versace\", \"version\", \"version\", \"version\", \"version\", \"version\", \"vicar\", \"victoria\", \"victoria\", \"victoria\", \"victory\", \"victory\", \"victory\", \"victory\", \"victory\", \"victory\", \"vienna\", \"vienna\", \"vienna\", \"vienna\", \"vienna\", \"vinci\", \"vinci\", \"vinci\", \"visconti\", \"visconti\", \"vogue\", \"vogue\", \"vogue\", \"vogue\", \"vogue\", \"voltage\", \"vor\", \"voting\", \"voting\", \"voting\", \"wacoal\", \"walther\", \"war\", \"war\", \"war\", \"war\", \"war\", \"war\", \"waste\", \"watercolour\", \"watercolour\", \"waterloo\", \"week\", \"week\", \"week\", \"week\", \"week\", \"week\", \"wembley\", \"wife\", \"wife\", \"wife\", \"wife\", \"wife\", \"wilhelm\", \"wilhelm\", \"wilhelm\", \"win\", \"win\", \"win\", \"win\", \"win\", \"win\", \"winner\", \"winner\", \"winner\", \"winner\", \"winner\", \"winner\", \"work\", \"work\", \"work\", \"work\", \"work\", \"work\", \"world\", \"world\", \"world\", \"world\", \"world\", \"world\", \"yacht\", \"year\", \"year\", \"year\", \"year\", \"year\", \"year\", \"zidane\", \"zidane\"]}, \"R\": 30, \"lambda.step\": 0.01, \"plot.opts\": {\"xlab\": \"PC1\", \"ylab\": \"PC2\"}, \"topic.order\": [6, 3, 2, 1, 4, 5]};\n",
       "\n",
       "function LDAvis_load_lib(url, callback){\n",
       "  var s = document.createElement('script');\n",
       "  s.src = url;\n",
       "  s.async = true;\n",
       "  s.onreadystatechange = s.onload = callback;\n",
       "  s.onerror = function(){console.warn(\"failed to load library \" + url);};\n",
       "  document.getElementsByTagName(\"head\")[0].appendChild(s);\n",
       "}\n",
       "\n",
       "if(typeof(LDAvis) !== \"undefined\"){\n",
       "   // already loaded: just create the visualization\n",
       "   !function(LDAvis){\n",
       "       new LDAvis(\"#\" + \"ldavis_el3214816365831873925828157115\", ldavis_el3214816365831873925828157115_data);\n",
       "   }(LDAvis);\n",
       "}else if(typeof define === \"function\" && define.amd){\n",
       "   // require.js is available: use it to load d3/LDAvis\n",
       "   require.config({paths: {d3: \"https://d3js.org/d3.v5\"}});\n",
       "   require([\"d3\"], function(d3){\n",
       "      window.d3 = d3;\n",
       "      LDAvis_load_lib(\"https://cdn.jsdelivr.net/gh/bmabey/pyLDAvis@3.3.1/pyLDAvis/js/ldavis.v3.0.0.js\", function(){\n",
       "        new LDAvis(\"#\" + \"ldavis_el3214816365831873925828157115\", ldavis_el3214816365831873925828157115_data);\n",
       "      });\n",
       "    });\n",
       "}else{\n",
       "    // require.js not available: dynamically load d3 & LDAvis\n",
       "    LDAvis_load_lib(\"https://d3js.org/d3.v5.js\", function(){\n",
       "         LDAvis_load_lib(\"https://cdn.jsdelivr.net/gh/bmabey/pyLDAvis@3.3.1/pyLDAvis/js/ldavis.v3.0.0.js\", function(){\n",
       "                 new LDAvis(\"#\" + \"ldavis_el3214816365831873925828157115\", ldavis_el3214816365831873925828157115_data);\n",
       "            })\n",
       "         });\n",
       "}\n",
       "</script>"
      ],
      "text/plain": [
       "PreparedData(topic_coordinates=              x         y  topics  cluster       Freq\n",
       "topic                                                \n",
       "5     -0.017459  0.024036       1        1  39.424386\n",
       "2     -0.097907 -0.151828       2        1  27.063118\n",
       "1     -0.114071 -0.028440       3        1  15.189386\n",
       "0     -0.004378  0.134866       4        1   8.165649\n",
       "3     -0.043392  0.071808       5        1   6.333828\n",
       "4      0.277208 -0.050443       6        1   3.823633, topic_info=         Term         Freq        Total Category  logprob  loglift\n",
       "2783    opera  9846.000000  9846.000000  Default  30.0000  30.0000\n",
       "2516    milan  3734.000000  3734.000000  Default  29.0000  29.0000\n",
       "811      club  2959.000000  2959.000000  Default  28.0000  28.0000\n",
       "1468  fashion  3610.000000  3610.000000  Default  27.0000  27.0000\n",
       "3532   season  2676.000000  2676.000000  Default  26.0000  26.0000\n",
       "...       ...          ...          ...      ...      ...      ...\n",
       "3742    stage   249.859934  2345.737188   Topic6  -5.1155   1.0245\n",
       "636    career   255.716026  3282.206070   Topic6  -5.0923   0.7118\n",
       "1067      day   204.963227  3060.226523   Topic6  -5.3135   0.5606\n",
       "3004    place   197.155104  3190.188941   Topic6  -5.3524   0.4801\n",
       "4321    world   199.107135  7251.050494   Topic6  -5.3425  -0.3311\n",
       "\n",
       "[613 rows x 6 columns], token_table=      Topic      Freq    Term\n",
       "term                         \n",
       "0         4  0.073103      01\n",
       "0         6  0.913783      01\n",
       "4364      2  0.980665    1790\n",
       "21        1  0.008742      21\n",
       "21        3  0.043712      21\n",
       "...     ...       ...     ...\n",
       "4338      4  0.074170    year\n",
       "4338      5  0.049378    year\n",
       "4338      6  0.046830    year\n",
       "8731      1  0.055251  zidane\n",
       "8731      6  0.939268  zidane\n",
       "\n",
       "[1539 rows x 3 columns], R=30, lambda_step=0.01, plot_opts={'xlab': 'PC1', 'ylab': 'PC2'}, topic_order=[6, 3, 2, 1, 4, 5])"
      ]
     },
     "execution_count": 134,
     "metadata": {},
     "output_type": "execute_result"
    }
   ],
   "source": [
    "warnings.filterwarnings('ignore')\n",
    "pyLDAvis.enable_notebook()\n",
    "\n",
    "lda_conv = gensim.models.wrappers.ldamallet.malletmodel2ldamodel(lda_model) # my_models[0]['lda_model__2']['model']\n",
    "gensimvis.prepare(lda_conv, corpus, dictionary)\n"
   ]
  },
  {
   "cell_type": "markdown",
   "id": "ac3de52e",
   "metadata": {},
   "source": [
    "# Save Models"
   ]
  },
  {
   "cell_type": "code",
   "execution_count": 123,
   "id": "d0609c1d",
   "metadata": {},
   "outputs": [],
   "source": [
    "%%time\n",
    "\n",
    "my_models = []\n",
    "\n",
    "for n_topics in tqdm(range(2,30, 3)):\n",
    "    model, coherence, _, _ = train_model(words, dictionary, corpus, N_TOPICS=n_topics)\n",
    "    keyname = f'lda_model__{n_topics}'\n",
    "    model.save(f'../../../../lda_models/{keyname}.model')\n",
    "\n",
    "    my_models.append({ keyname: { 'model': model, 'n_topics': n_topics, 'coherence_score': coherence } })\n",
    "    print(keyname)"
   ]
  },
  {
   "cell_type": "code",
   "execution_count": 122,
   "id": "0fce6b6a",
   "metadata": {},
   "outputs": [
    {
     "data": {
      "text/plain": [
       "[{'lda_model__2': {'model': <gensim.models.wrappers.ldamallet.LdaMallet at 0x17d0dad1310>,\n",
       "   'n_topics': 2,\n",
       "   'coherence_score': nan}},\n",
       " {'lda_model__5': {'model': <gensim.models.wrappers.ldamallet.LdaMallet at 0x17d0bf79cd0>,\n",
       "   'n_topics': 5,\n",
       "   'coherence_score': nan}},\n",
       " {'lda_model__8': {'model': <gensim.models.wrappers.ldamallet.LdaMallet at 0x17d09b54d00>,\n",
       "   'n_topics': 8,\n",
       "   'coherence_score': nan}},\n",
       " {'lda_model__11': {'model': <gensim.models.wrappers.ldamallet.LdaMallet at 0x17d09b78880>,\n",
       "   'n_topics': 11,\n",
       "   'coherence_score': nan}},\n",
       " {'lda_model__14': {'model': <gensim.models.wrappers.ldamallet.LdaMallet at 0x17d0bfa90d0>,\n",
       "   'n_topics': 14,\n",
       "   'coherence_score': nan}},\n",
       " {'lda_model__17': {'model': <gensim.models.wrappers.ldamallet.LdaMallet at 0x17d09b54970>,\n",
       "   'n_topics': 17,\n",
       "   'coherence_score': nan}},\n",
       " {'lda_model__20': {'model': <gensim.models.wrappers.ldamallet.LdaMallet at 0x17d0bf79a00>,\n",
       "   'n_topics': 20,\n",
       "   'coherence_score': nan}},\n",
       " {'lda_model__23': {'model': <gensim.models.wrappers.ldamallet.LdaMallet at 0x17d08289250>,\n",
       "   'n_topics': 23,\n",
       "   'coherence_score': nan}},\n",
       " {'lda_model__26': {'model': <gensim.models.wrappers.ldamallet.LdaMallet at 0x17d0825bb80>,\n",
       "   'n_topics': 26,\n",
       "   'coherence_score': nan}},\n",
       " {'lda_model__29': {'model': <gensim.models.wrappers.ldamallet.LdaMallet at 0x17d08295fd0>,\n",
       "   'n_topics': 29,\n",
       "   'coherence_score': nan}}]"
      ]
     },
     "execution_count": 122,
     "metadata": {},
     "output_type": "execute_result"
    }
   ],
   "source": [
    "my_models"
   ]
  },
  {
   "cell_type": "code",
   "execution_count": 97,
   "id": "fd8824c2",
   "metadata": {},
   "outputs": [],
   "source": [
    "coherence_score = CoherenceModel(model=lda_model, texts=words, dictionary=dictionary, coherence='c_v').get_coherence()"
   ]
  },
  {
   "cell_type": "code",
   "execution_count": 98,
   "id": "e3c12e84",
   "metadata": {},
   "outputs": [
    {
     "data": {
      "text/plain": [
       "0.6355124667963096"
      ]
     },
     "execution_count": 98,
     "metadata": {},
     "output_type": "execute_result"
    }
   ],
   "source": [
    "coherence_score"
   ]
  },
  {
   "cell_type": "code",
   "execution_count": 73,
   "id": "2c74e644",
   "metadata": {},
   "outputs": [
    {
     "name": "stdout",
     "output_type": "stream",
     "text": [
      "2 nan\n",
      "5 nan\n",
      "8 nan\n"
     ]
    },
    {
     "ename": "KeyboardInterrupt",
     "evalue": "",
     "output_type": "error",
     "traceback": [
      "\u001b[1;31m---------------------------------------------------------------------------\u001b[0m",
      "\u001b[1;31mKeyboardInterrupt\u001b[0m                         Traceback (most recent call last)",
      "Input \u001b[1;32mIn [73]\u001b[0m, in \u001b[0;36m<cell line: 1>\u001b[1;34m()\u001b[0m\n\u001b[0;32m      2\u001b[0m     model \u001b[38;5;241m=\u001b[39m \u001b[38;5;28mlist\u001b[39m(model\u001b[38;5;241m.\u001b[39mvalues())[\u001b[38;5;241m0\u001b[39m]\n\u001b[0;32m      3\u001b[0m    \u001b[38;5;66;03m# print(dlist(model.items())[0][0])\u001b[39;00m\n\u001b[1;32m----> 4\u001b[0m     coherence_score \u001b[38;5;241m=\u001b[39m \u001b[43mCoherenceModel\u001b[49m\u001b[43m(\u001b[49m\u001b[43mmodel\u001b[49m\u001b[38;5;241;43m=\u001b[39;49m\u001b[43mmodel\u001b[49m\u001b[43m[\u001b[49m\u001b[38;5;124;43m'\u001b[39;49m\u001b[38;5;124;43mmodel\u001b[39;49m\u001b[38;5;124;43m'\u001b[39;49m\u001b[43m]\u001b[49m\u001b[43m,\u001b[49m\u001b[43m \u001b[49m\u001b[43mtexts\u001b[49m\u001b[38;5;241;43m=\u001b[39;49m\u001b[43mwords\u001b[49m\u001b[43m,\u001b[49m\u001b[43m \u001b[49m\u001b[43mdictionary\u001b[49m\u001b[38;5;241;43m=\u001b[39;49m\u001b[43mdictionary\u001b[49m\u001b[43m,\u001b[49m\u001b[43m \u001b[49m\u001b[43mcoherence\u001b[49m\u001b[38;5;241;43m=\u001b[39;49m\u001b[38;5;124;43m'\u001b[39;49m\u001b[38;5;124;43mc_v\u001b[39;49m\u001b[38;5;124;43m'\u001b[39;49m\u001b[43m)\u001b[49m\u001b[38;5;241;43m.\u001b[39;49m\u001b[43mget_coherence\u001b[49m\u001b[43m(\u001b[49m\u001b[43m)\u001b[49m\n\u001b[0;32m      5\u001b[0m     \u001b[38;5;28mprint\u001b[39m(model[\u001b[38;5;124m'\u001b[39m\u001b[38;5;124mn_topics\u001b[39m\u001b[38;5;124m'\u001b[39m], coherence_score)\n\u001b[0;32m      8\u001b[0m my_models\n",
      "File \u001b[1;32mc:\\users\\deejay\\personal files [local]\\applied data science\\thesis - citynet\\citynet\\venv_citynet\\lib\\site-packages\\gensim\\models\\coherencemodel.py:609\u001b[0m, in \u001b[0;36mCoherenceModel.get_coherence\u001b[1;34m(self)\u001b[0m\n\u001b[0;32m    600\u001b[0m \u001b[38;5;28;01mdef\u001b[39;00m \u001b[38;5;21mget_coherence\u001b[39m(\u001b[38;5;28mself\u001b[39m):\n\u001b[0;32m    601\u001b[0m     \u001b[38;5;124;03m\"\"\"Get coherence value based on pipeline parameters.\u001b[39;00m\n\u001b[0;32m    602\u001b[0m \n\u001b[0;32m    603\u001b[0m \u001b[38;5;124;03m    Returns\u001b[39;00m\n\u001b[1;32m   (...)\u001b[0m\n\u001b[0;32m    607\u001b[0m \n\u001b[0;32m    608\u001b[0m \u001b[38;5;124;03m    \"\"\"\u001b[39;00m\n\u001b[1;32m--> 609\u001b[0m     confirmed_measures \u001b[38;5;241m=\u001b[39m \u001b[38;5;28;43mself\u001b[39;49m\u001b[38;5;241;43m.\u001b[39;49m\u001b[43mget_coherence_per_topic\u001b[49m\u001b[43m(\u001b[49m\u001b[43m)\u001b[49m\n\u001b[0;32m    610\u001b[0m     \u001b[38;5;28;01mreturn\u001b[39;00m \u001b[38;5;28mself\u001b[39m\u001b[38;5;241m.\u001b[39maggregate_measures(confirmed_measures)\n",
      "File \u001b[1;32mc:\\users\\deejay\\personal files [local]\\applied data science\\thesis - citynet\\citynet\\venv_citynet\\lib\\site-packages\\gensim\\models\\coherencemodel.py:569\u001b[0m, in \u001b[0;36mCoherenceModel.get_coherence_per_topic\u001b[1;34m(self, segmented_topics, with_std, with_support)\u001b[0m\n\u001b[0;32m    567\u001b[0m     segmented_topics \u001b[38;5;241m=\u001b[39m measure\u001b[38;5;241m.\u001b[39mseg(\u001b[38;5;28mself\u001b[39m\u001b[38;5;241m.\u001b[39mtopics)\n\u001b[0;32m    568\u001b[0m \u001b[38;5;28;01mif\u001b[39;00m \u001b[38;5;28mself\u001b[39m\u001b[38;5;241m.\u001b[39m_accumulator \u001b[38;5;129;01mis\u001b[39;00m \u001b[38;5;28;01mNone\u001b[39;00m:\n\u001b[1;32m--> 569\u001b[0m     \u001b[38;5;28;43mself\u001b[39;49m\u001b[38;5;241;43m.\u001b[39;49m\u001b[43mestimate_probabilities\u001b[49m\u001b[43m(\u001b[49m\u001b[43msegmented_topics\u001b[49m\u001b[43m)\u001b[49m\n\u001b[0;32m    571\u001b[0m kwargs \u001b[38;5;241m=\u001b[39m \u001b[38;5;28mdict\u001b[39m(with_std\u001b[38;5;241m=\u001b[39mwith_std, with_support\u001b[38;5;241m=\u001b[39mwith_support)\n\u001b[0;32m    572\u001b[0m \u001b[38;5;28;01mif\u001b[39;00m \u001b[38;5;28mself\u001b[39m\u001b[38;5;241m.\u001b[39mcoherence \u001b[38;5;129;01min\u001b[39;00m BOOLEAN_DOCUMENT_BASED \u001b[38;5;129;01mor\u001b[39;00m \u001b[38;5;28mself\u001b[39m\u001b[38;5;241m.\u001b[39mcoherence \u001b[38;5;241m==\u001b[39m \u001b[38;5;124m'\u001b[39m\u001b[38;5;124mc_w2v\u001b[39m\u001b[38;5;124m'\u001b[39m:\n",
      "File \u001b[1;32mc:\\users\\deejay\\personal files [local]\\applied data science\\thesis - citynet\\citynet\\venv_citynet\\lib\\site-packages\\gensim\\models\\coherencemodel.py:541\u001b[0m, in \u001b[0;36mCoherenceModel.estimate_probabilities\u001b[1;34m(self, segmented_topics)\u001b[0m\n\u001b[0;32m    538\u001b[0m     \u001b[38;5;28;01mif\u001b[39;00m \u001b[38;5;28mself\u001b[39m\u001b[38;5;241m.\u001b[39mcoherence \u001b[38;5;241m==\u001b[39m \u001b[38;5;124m'\u001b[39m\u001b[38;5;124mc_w2v\u001b[39m\u001b[38;5;124m'\u001b[39m:\n\u001b[0;32m    539\u001b[0m         kwargs[\u001b[38;5;124m'\u001b[39m\u001b[38;5;124mmodel\u001b[39m\u001b[38;5;124m'\u001b[39m] \u001b[38;5;241m=\u001b[39m \u001b[38;5;28mself\u001b[39m\u001b[38;5;241m.\u001b[39mkeyed_vectors\n\u001b[1;32m--> 541\u001b[0m     \u001b[38;5;28mself\u001b[39m\u001b[38;5;241m.\u001b[39m_accumulator \u001b[38;5;241m=\u001b[39m \u001b[38;5;28;43mself\u001b[39;49m\u001b[38;5;241;43m.\u001b[39;49m\u001b[43mmeasure\u001b[49m\u001b[38;5;241;43m.\u001b[39;49m\u001b[43mprob\u001b[49m\u001b[43m(\u001b[49m\u001b[38;5;241;43m*\u001b[39;49m\u001b[38;5;241;43m*\u001b[39;49m\u001b[43mkwargs\u001b[49m\u001b[43m)\u001b[49m\n\u001b[0;32m    543\u001b[0m \u001b[38;5;28;01mreturn\u001b[39;00m \u001b[38;5;28mself\u001b[39m\u001b[38;5;241m.\u001b[39m_accumulator\n",
      "File \u001b[1;32mc:\\users\\deejay\\personal files [local]\\applied data science\\thesis - citynet\\citynet\\venv_citynet\\lib\\site-packages\\gensim\\topic_coherence\\probability_estimation.py:156\u001b[0m, in \u001b[0;36mp_boolean_sliding_window\u001b[1;34m(texts, segmented_topics, dictionary, window_size, processes)\u001b[0m\n\u001b[0;32m    154\u001b[0m     accumulator \u001b[38;5;241m=\u001b[39m ParallelWordOccurrenceAccumulator(processes, top_ids, dictionary)\n\u001b[0;32m    155\u001b[0m logger\u001b[38;5;241m.\u001b[39minfo(\u001b[38;5;124m\"\u001b[39m\u001b[38;5;124musing \u001b[39m\u001b[38;5;132;01m%s\u001b[39;00m\u001b[38;5;124m to estimate probabilities from sliding windows\u001b[39m\u001b[38;5;124m\"\u001b[39m, accumulator)\n\u001b[1;32m--> 156\u001b[0m \u001b[38;5;28;01mreturn\u001b[39;00m \u001b[43maccumulator\u001b[49m\u001b[38;5;241;43m.\u001b[39;49m\u001b[43maccumulate\u001b[49m\u001b[43m(\u001b[49m\u001b[43mtexts\u001b[49m\u001b[43m,\u001b[49m\u001b[43m \u001b[49m\u001b[43mwindow_size\u001b[49m\u001b[43m)\u001b[49m\n",
      "File \u001b[1;32mc:\\users\\deejay\\personal files [local]\\applied data science\\thesis - citynet\\citynet\\venv_citynet\\lib\\site-packages\\gensim\\topic_coherence\\text_analysis.py:444\u001b[0m, in \u001b[0;36mParallelWordOccurrenceAccumulator.accumulate\u001b[1;34m(self, texts, window_size)\u001b[0m\n\u001b[0;32m    443\u001b[0m \u001b[38;5;28;01mdef\u001b[39;00m \u001b[38;5;21maccumulate\u001b[39m(\u001b[38;5;28mself\u001b[39m, texts, window_size):\n\u001b[1;32m--> 444\u001b[0m     workers, input_q, output_q \u001b[38;5;241m=\u001b[39m \u001b[38;5;28;43mself\u001b[39;49m\u001b[38;5;241;43m.\u001b[39;49m\u001b[43mstart_workers\u001b[49m\u001b[43m(\u001b[49m\u001b[43mwindow_size\u001b[49m\u001b[43m)\u001b[49m\n\u001b[0;32m    445\u001b[0m     \u001b[38;5;28;01mtry\u001b[39;00m:\n\u001b[0;32m    446\u001b[0m         \u001b[38;5;28mself\u001b[39m\u001b[38;5;241m.\u001b[39mqueue_all_texts(input_q, texts, window_size)\n",
      "File \u001b[1;32mc:\\users\\deejay\\personal files [local]\\applied data science\\thesis - citynet\\citynet\\venv_citynet\\lib\\site-packages\\gensim\\topic_coherence\\text_analysis.py:478\u001b[0m, in \u001b[0;36mParallelWordOccurrenceAccumulator.start_workers\u001b[1;34m(self, window_size)\u001b[0m\n\u001b[0;32m    476\u001b[0m     accumulator \u001b[38;5;241m=\u001b[39m PatchedWordOccurrenceAccumulator(\u001b[38;5;28mself\u001b[39m\u001b[38;5;241m.\u001b[39mrelevant_ids, \u001b[38;5;28mself\u001b[39m\u001b[38;5;241m.\u001b[39mdictionary)\n\u001b[0;32m    477\u001b[0m     worker \u001b[38;5;241m=\u001b[39m AccumulatingWorker(input_q, output_q, accumulator, window_size)\n\u001b[1;32m--> 478\u001b[0m     \u001b[43mworker\u001b[49m\u001b[38;5;241;43m.\u001b[39;49m\u001b[43mstart\u001b[49m\u001b[43m(\u001b[49m\u001b[43m)\u001b[49m\n\u001b[0;32m    479\u001b[0m     workers\u001b[38;5;241m.\u001b[39mappend(worker)\n\u001b[0;32m    481\u001b[0m \u001b[38;5;28;01mreturn\u001b[39;00m workers, input_q, output_q\n",
      "File \u001b[1;32m~\\AppData\\Local\\Programs\\Python\\Python38\\lib\\multiprocessing\\process.py:121\u001b[0m, in \u001b[0;36mBaseProcess.start\u001b[1;34m(self)\u001b[0m\n\u001b[0;32m    118\u001b[0m \u001b[38;5;28;01massert\u001b[39;00m \u001b[38;5;129;01mnot\u001b[39;00m _current_process\u001b[38;5;241m.\u001b[39m_config\u001b[38;5;241m.\u001b[39mget(\u001b[38;5;124m'\u001b[39m\u001b[38;5;124mdaemon\u001b[39m\u001b[38;5;124m'\u001b[39m), \\\n\u001b[0;32m    119\u001b[0m        \u001b[38;5;124m'\u001b[39m\u001b[38;5;124mdaemonic processes are not allowed to have children\u001b[39m\u001b[38;5;124m'\u001b[39m\n\u001b[0;32m    120\u001b[0m _cleanup()\n\u001b[1;32m--> 121\u001b[0m \u001b[38;5;28mself\u001b[39m\u001b[38;5;241m.\u001b[39m_popen \u001b[38;5;241m=\u001b[39m \u001b[38;5;28;43mself\u001b[39;49m\u001b[38;5;241;43m.\u001b[39;49m\u001b[43m_Popen\u001b[49m\u001b[43m(\u001b[49m\u001b[38;5;28;43mself\u001b[39;49m\u001b[43m)\u001b[49m\n\u001b[0;32m    122\u001b[0m \u001b[38;5;28mself\u001b[39m\u001b[38;5;241m.\u001b[39m_sentinel \u001b[38;5;241m=\u001b[39m \u001b[38;5;28mself\u001b[39m\u001b[38;5;241m.\u001b[39m_popen\u001b[38;5;241m.\u001b[39msentinel\n\u001b[0;32m    123\u001b[0m \u001b[38;5;66;03m# Avoid a refcycle if the target function holds an indirect\u001b[39;00m\n\u001b[0;32m    124\u001b[0m \u001b[38;5;66;03m# reference to the process object (see bpo-30775)\u001b[39;00m\n",
      "File \u001b[1;32m~\\AppData\\Local\\Programs\\Python\\Python38\\lib\\multiprocessing\\context.py:224\u001b[0m, in \u001b[0;36mProcess._Popen\u001b[1;34m(process_obj)\u001b[0m\n\u001b[0;32m    222\u001b[0m \u001b[38;5;129m@staticmethod\u001b[39m\n\u001b[0;32m    223\u001b[0m \u001b[38;5;28;01mdef\u001b[39;00m \u001b[38;5;21m_Popen\u001b[39m(process_obj):\n\u001b[1;32m--> 224\u001b[0m     \u001b[38;5;28;01mreturn\u001b[39;00m \u001b[43m_default_context\u001b[49m\u001b[38;5;241;43m.\u001b[39;49m\u001b[43mget_context\u001b[49m\u001b[43m(\u001b[49m\u001b[43m)\u001b[49m\u001b[38;5;241;43m.\u001b[39;49m\u001b[43mProcess\u001b[49m\u001b[38;5;241;43m.\u001b[39;49m\u001b[43m_Popen\u001b[49m\u001b[43m(\u001b[49m\u001b[43mprocess_obj\u001b[49m\u001b[43m)\u001b[49m\n",
      "File \u001b[1;32m~\\AppData\\Local\\Programs\\Python\\Python38\\lib\\multiprocessing\\context.py:326\u001b[0m, in \u001b[0;36mSpawnProcess._Popen\u001b[1;34m(process_obj)\u001b[0m\n\u001b[0;32m    323\u001b[0m \u001b[38;5;129m@staticmethod\u001b[39m\n\u001b[0;32m    324\u001b[0m \u001b[38;5;28;01mdef\u001b[39;00m \u001b[38;5;21m_Popen\u001b[39m(process_obj):\n\u001b[0;32m    325\u001b[0m     \u001b[38;5;28;01mfrom\u001b[39;00m \u001b[38;5;21;01m.\u001b[39;00m\u001b[38;5;21;01mpopen_spawn_win32\u001b[39;00m \u001b[38;5;28;01mimport\u001b[39;00m Popen\n\u001b[1;32m--> 326\u001b[0m     \u001b[38;5;28;01mreturn\u001b[39;00m \u001b[43mPopen\u001b[49m\u001b[43m(\u001b[49m\u001b[43mprocess_obj\u001b[49m\u001b[43m)\u001b[49m\n",
      "File \u001b[1;32m~\\AppData\\Local\\Programs\\Python\\Python38\\lib\\multiprocessing\\popen_spawn_win32.py:93\u001b[0m, in \u001b[0;36mPopen.__init__\u001b[1;34m(self, process_obj)\u001b[0m\n\u001b[0;32m     91\u001b[0m \u001b[38;5;28;01mtry\u001b[39;00m:\n\u001b[0;32m     92\u001b[0m     reduction\u001b[38;5;241m.\u001b[39mdump(prep_data, to_child)\n\u001b[1;32m---> 93\u001b[0m     \u001b[43mreduction\u001b[49m\u001b[38;5;241;43m.\u001b[39;49m\u001b[43mdump\u001b[49m\u001b[43m(\u001b[49m\u001b[43mprocess_obj\u001b[49m\u001b[43m,\u001b[49m\u001b[43m \u001b[49m\u001b[43mto_child\u001b[49m\u001b[43m)\u001b[49m\n\u001b[0;32m     94\u001b[0m \u001b[38;5;28;01mfinally\u001b[39;00m:\n\u001b[0;32m     95\u001b[0m     set_spawning_popen(\u001b[38;5;28;01mNone\u001b[39;00m)\n",
      "File \u001b[1;32m~\\AppData\\Local\\Programs\\Python\\Python38\\lib\\multiprocessing\\reduction.py:60\u001b[0m, in \u001b[0;36mdump\u001b[1;34m(obj, file, protocol)\u001b[0m\n\u001b[0;32m     58\u001b[0m \u001b[38;5;28;01mdef\u001b[39;00m \u001b[38;5;21mdump\u001b[39m(obj, file, protocol\u001b[38;5;241m=\u001b[39m\u001b[38;5;28;01mNone\u001b[39;00m):\n\u001b[0;32m     59\u001b[0m     \u001b[38;5;124;03m'''Replacement for pickle.dump() using ForkingPickler.'''\u001b[39;00m\n\u001b[1;32m---> 60\u001b[0m     \u001b[43mForkingPickler\u001b[49m\u001b[43m(\u001b[49m\u001b[43mfile\u001b[49m\u001b[43m,\u001b[49m\u001b[43m \u001b[49m\u001b[43mprotocol\u001b[49m\u001b[43m)\u001b[49m\u001b[38;5;241;43m.\u001b[39;49m\u001b[43mdump\u001b[49m\u001b[43m(\u001b[49m\u001b[43mobj\u001b[49m\u001b[43m)\u001b[49m\n",
      "\u001b[1;31mKeyboardInterrupt\u001b[0m: "
     ]
    }
   ],
   "source": [
    "for model in my_models:\n",
    "    model = list(model.values())[0]\n",
    "   # print(dlist(model.items())[0][0])\n",
    "    coherence_score = CoherenceModel(model=model['model'], texts=words, dictionary=dictionary, coherence='c_v').get_coherence()\n",
    "    print(model['n_topics'], coherence_score)\n"
   ]
  },
  {
   "cell_type": "markdown",
   "id": "72626619",
   "metadata": {},
   "source": [
    "# Import Models"
   ]
  },
  {
   "cell_type": "code",
   "execution_count": null,
   "id": "34d22862",
   "metadata": {},
   "outputs": [],
   "source": [
    "# import os\n",
    "# import glob\n",
    "\n",
    "# # I used these for importing my models at a later stage\n",
    "# def import_models():\n",
    "#     imported_models = []\n",
    "    \n",
    "#     folder_path = 'best_models'\n",
    "#     for filename in glob.glob(os.path.join(folder_path, '*.model')):\n",
    "#         name = filename[12:-6]\n",
    "#         POS_combination, = re.findall(r'\\[.*?\\]', name)\n",
    "#         n_topics, = int(re.findall(r'\\d+', filename))\n",
    "\n",
    "#         # Get the right lemmatized text\n",
    "#         for nested_dictionary in lemmatized_texts_list:\n",
    "#             if POS_combination in nested_dictionary.keys():\n",
    "#                 lemmatized_text = nested_dictionary[POS_combination]\n",
    "        \n",
    "#         model = gensim.models.LdaModel.load(f'models/{name}.model')\n",
    "        \n",
    "#         dictionary, corpus = vectorize(lemmatized_text, MIN_DF=1, MAX_DF=0.6)\n",
    "        \n",
    "#         coherence_score = CoherenceModel(model=model, texts=lemmatized_text, dictionary=dictionary, coherence='c_v').get_coherence()\n",
    "        \n",
    "#         print(f'loaded model: {name} with {n_topics} topics and coherence score of {coherence_score}.')\n",
    "#         imported_models.append({ 'name': name, 'model': model, 'n_topics': n_topics, 'coherence_score': coherence_score, 'corpus': corpus, 'dictionary': dictionary })\n",
    "\n",
    "#     return imported_models\n",
    "\n",
    "# my_models = import_models()"
   ]
  },
  {
   "cell_type": "code",
   "execution_count": 161,
   "id": "7b9cc241",
   "metadata": {},
   "outputs": [],
   "source": [
    "# for file in os.scandir(word_list_location):\n",
    "#     print(file.path)\n",
    "#     filename = file.path\n",
    "#     print(filename.split('__'))\n",
    "#     file = filename.replace('.pickle', '__.pickle')\n",
    "#     file = filename.replace('NOUNS___', 'NOUNS__')\n",
    "#     os.rename(filename, file)\n",
    "#os.rename()"
   ]
  },
  {
   "cell_type": "code",
   "execution_count": null,
   "id": "f9e166b2",
   "metadata": {},
   "outputs": [],
   "source": [
    "    # dictionary, corpus = vectorize(lemmatized_text, MIN_DF=1, MAX_DF=0.6)\n",
    "    # model, coherence, dictionary, corpus = train_model(lemmatized_text=lemmatized_text, dictionary=[], corpus=[], N_TOPICS=4)"
   ]
  }
 ],
 "metadata": {
  "kernelspec": {
   "display_name": "Python 3 (ipykernel)",
   "language": "python",
   "name": "python3"
  },
  "language_info": {
   "codemirror_mode": {
    "name": "ipython",
    "version": 3
   },
   "file_extension": ".py",
   "mimetype": "text/x-python",
   "name": "python",
   "nbconvert_exporter": "python",
   "pygments_lexer": "ipython3",
   "version": "3.8.0"
  }
 },
 "nbformat": 4,
 "nbformat_minor": 5
}
