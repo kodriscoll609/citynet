{
 "cells": [
  {
   "cell_type": "markdown",
   "id": "10609389",
   "metadata": {},
   "source": [
    "# Clean the Extracted wikidump files"
   ]
  },
  {
   "cell_type": "code",
   "execution_count": 1,
   "id": "f8524718",
   "metadata": {},
   "outputs": [],
   "source": [
    "import re\n",
    "import pandas as pd\n",
    "import os"
   ]
  },
  {
   "cell_type": "code",
   "execution_count": 2,
   "id": "74a2f252",
   "metadata": {},
   "outputs": [],
   "source": [
    "# open 1 of the extracted docs\n",
    "# with open('../../../enwiki_extracted/ms2/AA/wiki_00', 'r') as fh:\n",
    "#     doc = fh.read()"
   ]
  },
  {
   "cell_type": "code",
   "execution_count": 3,
   "id": "d36b15b5",
   "metadata": {},
   "outputs": [],
   "source": [
    "# split per article\n",
    "# docs = doc.split('</doc>')"
   ]
  },
  {
   "cell_type": "code",
   "execution_count": 4,
   "id": "17c02e67",
   "metadata": {},
   "outputs": [],
   "source": [
    "# define functions for extracting metadata\n",
    "def find_id(string):\n",
    "    \"\"\"function to extract id from article\"\"\"\n",
    "    \n",
    "    id_pattern = 'id=\\\"\\d+\\\"'\n",
    "#     id_float = '[0-9]+'\n",
    "    \n",
    "    short_string = re.findall(id_pattern, string)[0]\n",
    "    quotation_sym = '\"'\n",
    "    start = short_string.index(quotation_sym) + len(quotation_sym)\n",
    "    end = short_string.index(quotation_sym, start + 1)\n",
    "    actual_id = int(short_string[start:end])\n",
    "\n",
    "#     actual_id = re.findall(id_float, short_string)\n",
    "    \n",
    "    return actual_id\n",
    " \n",
    "def find_url(string):\n",
    "    \"\"\"function to extract url from article\"\"\"\n",
    "    \n",
    "    url_pattern = 'https://en\\.wikipedia\\.org/[a-zA-z\\?=\\d]+'\n",
    "    \n",
    "    url = re.findall(url_pattern, string)\n",
    "    \n",
    "    return url[0]\n",
    "\n",
    "def find_title(string):\n",
    "    \"\"\"function to extract title from article\"\"\"\n",
    "    \n",
    "    pattern = 'title=\\\"[^>]+'\n",
    "    short_string = re.findall(pattern, string)[0]\n",
    "    \n",
    "    quotation_sym = '\"'\n",
    "    start = short_string.index(quotation_sym) + len(quotation_sym)\n",
    "    end = short_string.index(quotation_sym, start + 1)\n",
    "    title = short_string[start:end]\n",
    "    \n",
    "    return title"
   ]
  },
  {
   "cell_type": "code",
   "execution_count": 5,
   "id": "d5fca327",
   "metadata": {},
   "outputs": [],
   "source": [
    "# some sort of attempt at loading files\n",
    "path = \"../../../enwiki_extracted/ms1/AA\" \n",
    "\n",
    "wikidump = []\n",
    "\n",
    "# expand this to go over directories as well\n",
    "for filename in os.listdir(path): \n",
    "    f = os.path.join(path,filename)\n",
    "    with open(f, 'r') as fh:\n",
    "        wikidump.append(fh.read())"
   ]
  },
  {
   "cell_type": "markdown",
   "id": "81b27ab5",
   "metadata": {},
   "source": [
    "***"
   ]
  },
  {
   "cell_type": "code",
   "execution_count": 6,
   "id": "91d136ea",
   "metadata": {},
   "outputs": [],
   "source": [
    "wikidump = [dump.split('</doc>') for dump in wikidump]\n",
    "wikidump = [article for dump in wikidump for article in dump]"
   ]
  },
  {
   "cell_type": "code",
   "execution_count": 7,
   "id": "5b4ba867",
   "metadata": {},
   "outputs": [
    {
     "data": {
      "text/plain": [
       "7412"
      ]
     },
     "execution_count": 7,
     "metadata": {},
     "output_type": "execute_result"
    }
   ],
   "source": [
    "len(wikidump)"
   ]
  },
  {
   "cell_type": "markdown",
   "id": "3c5bd5f9",
   "metadata": {},
   "source": [
    "# Processing"
   ]
  },
  {
   "cell_type": "code",
   "execution_count": 8,
   "id": "eb08503a",
   "metadata": {},
   "outputs": [],
   "source": [
    "from nltk.tokenize import RegexpTokenizer\n",
    "\n",
    "tokenizer = RegexpTokenizer('\\w+')"
   ]
  },
  {
   "cell_type": "code",
   "execution_count": 9,
   "id": "533b6329",
   "metadata": {},
   "outputs": [],
   "source": [
    "# load cities csv\n",
    "fp = '../input/List_of_cities_300k.csv'\n",
    "\n",
    "cities = pd.read_csv(fp, sep=';')\n",
    "\n",
    "# cities = cities[cities.SizeMUA1k >= 300] # only cities with a population of 300.000 or more"
   ]
  },
  {
   "cell_type": "code",
   "execution_count": 10,
   "id": "332c0186",
   "metadata": {},
   "outputs": [
    {
     "data": {
      "text/html": [
       "<div>\n",
       "<style scoped>\n",
       "    .dataframe tbody tr th:only-of-type {\n",
       "        vertical-align: middle;\n",
       "    }\n",
       "\n",
       "    .dataframe tbody tr th {\n",
       "        vertical-align: top;\n",
       "    }\n",
       "\n",
       "    .dataframe thead th {\n",
       "        text-align: right;\n",
       "    }\n",
       "</style>\n",
       "<table border=\"1\" class=\"dataframe\">\n",
       "  <thead>\n",
       "    <tr style=\"text-align: right;\">\n",
       "      <th></th>\n",
       "      <th>id_MUA</th>\n",
       "      <th>Mua</th>\n",
       "      <th>Mua_Eng</th>\n",
       "      <th>SizeMUA1k</th>\n",
       "      <th>EU15</th>\n",
       "      <th>Code_Country</th>\n",
       "      <th>NUTS_1</th>\n",
       "      <th>NUTS_2</th>\n",
       "      <th>NUTS_3</th>\n",
       "      <th>X_COORD_first</th>\n",
       "      <th>...</th>\n",
       "      <th>PUR</th>\n",
       "      <th>Supra_poly_fua</th>\n",
       "      <th>PIA</th>\n",
       "      <th>Name_supra_poly_fua</th>\n",
       "      <th>Poly_fua</th>\n",
       "      <th>id_poly_fua</th>\n",
       "      <th>Name_poly_fua</th>\n",
       "      <th>SizeHinterland1k</th>\n",
       "      <th>GDP_per_capita</th>\n",
       "      <th>Dummy_Capital</th>\n",
       "    </tr>\n",
       "  </thead>\n",
       "  <tbody>\n",
       "    <tr>\n",
       "      <th>0</th>\n",
       "      <td>FR00810</td>\n",
       "      <td>Paris</td>\n",
       "      <td>Paris</td>\n",
       "      <td>9591</td>\n",
       "      <td>1</td>\n",
       "      <td>FR</td>\n",
       "      <td>FR1</td>\n",
       "      <td>FR10</td>\n",
       "      <td>FR101</td>\n",
       "      <td>-923451</td>\n",
       "      <td>...</td>\n",
       "      <td></td>\n",
       "      <td>0</td>\n",
       "      <td>PIA_Paris</td>\n",
       "      <td>99</td>\n",
       "      <td>0</td>\n",
       "      <td></td>\n",
       "      <td></td>\n",
       "      <td>1201</td>\n",
       "      <td>44</td>\n",
       "      <td>1</td>\n",
       "    </tr>\n",
       "    <tr>\n",
       "      <th>1</th>\n",
       "      <td>UK01886</td>\n",
       "      <td>London</td>\n",
       "      <td>London</td>\n",
       "      <td>8256</td>\n",
       "      <td>1</td>\n",
       "      <td>UK</td>\n",
       "      <td>UKI</td>\n",
       "      <td>UKI1</td>\n",
       "      <td>UKI11</td>\n",
       "      <td>-1039874</td>\n",
       "      <td>...</td>\n",
       "      <td></td>\n",
       "      <td>0</td>\n",
       "      <td>PIA_London</td>\n",
       "      <td>99</td>\n",
       "      <td>0</td>\n",
       "      <td></td>\n",
       "      <td></td>\n",
       "      <td>2752</td>\n",
       "      <td>45</td>\n",
       "      <td>1</td>\n",
       "    </tr>\n",
       "    <tr>\n",
       "      <th>2</th>\n",
       "      <td>ES00540</td>\n",
       "      <td>Madrid</td>\n",
       "      <td>Madrid</td>\n",
       "      <td>4955</td>\n",
       "      <td>1</td>\n",
       "      <td>ES</td>\n",
       "      <td>ES3</td>\n",
       "      <td>ES30</td>\n",
       "      <td>ES300</td>\n",
       "      <td>-1573058</td>\n",
       "      <td>...</td>\n",
       "      <td></td>\n",
       "      <td>0</td>\n",
       "      <td>PIA_Madrid</td>\n",
       "      <td>99</td>\n",
       "      <td>0</td>\n",
       "      <td></td>\n",
       "      <td></td>\n",
       "      <td>308</td>\n",
       "      <td>29</td>\n",
       "      <td>1</td>\n",
       "    </tr>\n",
       "    <tr>\n",
       "      <th>3</th>\n",
       "      <td>DE00219</td>\n",
       "      <td>Berlin</td>\n",
       "      <td>Berlin</td>\n",
       "      <td>3776</td>\n",
       "      <td>1</td>\n",
       "      <td>DE</td>\n",
       "      <td>DE3</td>\n",
       "      <td>DE30</td>\n",
       "      <td>DE300</td>\n",
       "      <td>-108502</td>\n",
       "      <td>...</td>\n",
       "      <td></td>\n",
       "      <td>0</td>\n",
       "      <td>PIA_Berlin</td>\n",
       "      <td>99</td>\n",
       "      <td>0</td>\n",
       "      <td></td>\n",
       "      <td></td>\n",
       "      <td>240</td>\n",
       "      <td>22</td>\n",
       "      <td>1</td>\n",
       "    </tr>\n",
       "    <tr>\n",
       "      <th>4</th>\n",
       "      <td>IT01156</td>\n",
       "      <td>Milano</td>\n",
       "      <td>Milan</td>\n",
       "      <td>3698</td>\n",
       "      <td>1</td>\n",
       "      <td>IT</td>\n",
       "      <td>ITC</td>\n",
       "      <td>ITC4</td>\n",
       "      <td>ITC45</td>\n",
       "      <td>-455713</td>\n",
       "      <td>...</td>\n",
       "      <td>Milano</td>\n",
       "      <td>0</td>\n",
       "      <td>PIA_Milano</td>\n",
       "      <td>99</td>\n",
       "      <td>1</td>\n",
       "      <td>IT03</td>\n",
       "      <td>Milano metropolitan area</td>\n",
       "      <td>604</td>\n",
       "      <td>35</td>\n",
       "      <td>0</td>\n",
       "    </tr>\n",
       "  </tbody>\n",
       "</table>\n",
       "<p>5 rows × 25 columns</p>\n",
       "</div>"
      ],
      "text/plain": [
       "    id_MUA     Mua Mua_Eng  SizeMUA1k  EU15 Code_Country NUTS_1 NUTS_2 NUTS_3  \\\n",
       "0  FR00810   Paris   Paris       9591     1           FR    FR1   FR10  FR101   \n",
       "1  UK01886  London  London       8256     1           UK    UKI   UKI1  UKI11   \n",
       "2  ES00540  Madrid  Madrid       4955     1           ES    ES3   ES30  ES300   \n",
       "3  DE00219  Berlin  Berlin       3776     1           DE    DE3   DE30  DE300   \n",
       "4  IT01156  Milano   Milan       3698     1           IT    ITC   ITC4  ITC45   \n",
       "\n",
       "  X_COORD_first  ...     PUR  Supra_poly_fua         PIA Name_supra_poly_fua  \\\n",
       "0       -923451  ...                       0   PIA_Paris                  99   \n",
       "1      -1039874  ...                       0  PIA_London                  99   \n",
       "2      -1573058  ...                       0  PIA_Madrid                  99   \n",
       "3       -108502  ...                       0  PIA_Berlin                  99   \n",
       "4       -455713  ...  Milano               0  PIA_Milano                  99   \n",
       "\n",
       "  Poly_fua id_poly_fua             Name_poly_fua SizeHinterland1k  \\\n",
       "0        0                                                   1201   \n",
       "1        0                                                   2752   \n",
       "2        0                                                    308   \n",
       "3        0                                                    240   \n",
       "4        1        IT03  Milano metropolitan area              604   \n",
       "\n",
       "   GDP_per_capita  Dummy_Capital  \n",
       "0              44              1  \n",
       "1              45              1  \n",
       "2              29              1  \n",
       "3              22              1  \n",
       "4              35              0  \n",
       "\n",
       "[5 rows x 25 columns]"
      ]
     },
     "execution_count": 10,
     "metadata": {},
     "output_type": "execute_result"
    }
   ],
   "source": [
    "cities.head()"
   ]
  },
  {
   "cell_type": "code",
   "execution_count": 19,
   "id": "9a01fded",
   "metadata": {},
   "outputs": [],
   "source": [
    "# list of all cities\n",
    "cities_ls = [city for city in cities.Mua_Eng]\n",
    "\n",
    "# split combined citynames \n",
    "stopwords = ['a', 'The', 'the', 'A', 'de', 'di', 'en', 'am']\n",
    "cities_ls = [tokenizer.tokenize(city) for city in cities_ls]\n",
    "cities_ls = [city_component for city in cities_ls for city_component in city]\n",
    "cities_ls = [word for word in cities_ls if not word in stopwords]"
   ]
  },
  {
   "cell_type": "code",
   "execution_count": 21,
   "id": "8ce77bf2",
   "metadata": {},
   "outputs": [],
   "source": [
    "def list_in_corpus(list_of_words, text_corpus):\n",
    "    inclusion = False\n",
    "    for word in list_of_words:\n",
    "        if word in text_corpus:\n",
    "            inclusion = True\n",
    "        else: \n",
    "            pass\n",
    "    return inclusion"
   ]
  },
  {
   "cell_type": "code",
   "execution_count": 23,
   "id": "372ed0ad",
   "metadata": {
    "scrolled": true
   },
   "outputs": [],
   "source": [
    "articles = []\n",
    "\n",
    "# info we have article id, article url, article title\n",
    "for article in wikidump: \n",
    "    try: \n",
    "        article_id = find_id(article)\n",
    "        url = find_url(article)\n",
    "        title = find_title(article)\n",
    "        tokenized_text = tokenizer.tokenize(article)\n",
    "        # need to add some more cleaning of text / exclude stopwords / replace accents/etc/ maybe only certain POS-tags\n",
    "        if (len(tokenized_text) > 20) & list_in_corpus(cities_ls, article): \n",
    "            articles.append((article_id, title, url, tokenized_text))\n",
    "        else: \n",
    "            pass\n",
    "    except:\n",
    "        pass"
   ]
  },
  {
   "cell_type": "code",
   "execution_count": 24,
   "id": "f8460b6b",
   "metadata": {},
   "outputs": [
    {
     "data": {
      "text/plain": [
       "2899"
      ]
     },
     "execution_count": 24,
     "metadata": {},
     "output_type": "execute_result"
    }
   ],
   "source": [
    "len(articles) # 5393"
   ]
  },
  {
   "cell_type": "code",
   "execution_count": 25,
   "id": "579965c5",
   "metadata": {
    "scrolled": false
   },
   "outputs": [
    {
     "data": {
      "text/html": [
       "<div>\n",
       "<style scoped>\n",
       "    .dataframe tbody tr th:only-of-type {\n",
       "        vertical-align: middle;\n",
       "    }\n",
       "\n",
       "    .dataframe tbody tr th {\n",
       "        vertical-align: top;\n",
       "    }\n",
       "\n",
       "    .dataframe thead th {\n",
       "        text-align: right;\n",
       "    }\n",
       "</style>\n",
       "<table border=\"1\" class=\"dataframe\">\n",
       "  <thead>\n",
       "    <tr style=\"text-align: right;\">\n",
       "      <th></th>\n",
       "      <th>article_id</th>\n",
       "      <th>title</th>\n",
       "      <th>url</th>\n",
       "      <th>text</th>\n",
       "    </tr>\n",
       "  </thead>\n",
       "  <tbody>\n",
       "    <tr>\n",
       "      <th>0</th>\n",
       "      <td>8683</td>\n",
       "      <td>Disc jockey</td>\n",
       "      <td>https://en.wikipedia.org/wiki?curid=8683</td>\n",
       "      <td>[doc, id, 8683, url, https, en, wikipedia, org...</td>\n",
       "    </tr>\n",
       "    <tr>\n",
       "      <th>1</th>\n",
       "      <td>8687</td>\n",
       "      <td>Detroit</td>\n",
       "      <td>https://en.wikipedia.org/wiki?curid=8687</td>\n",
       "      <td>[doc, id, 8687, url, https, en, wikipedia, org...</td>\n",
       "    </tr>\n",
       "    <tr>\n",
       "      <th>2</th>\n",
       "      <td>8688</td>\n",
       "      <td>Deccan Traps</td>\n",
       "      <td>https://en.wikipedia.org/wiki?curid=8688</td>\n",
       "      <td>[doc, id, 8688, url, https, en, wikipedia, org...</td>\n",
       "    </tr>\n",
       "    <tr>\n",
       "      <th>3</th>\n",
       "      <td>8691</td>\n",
       "      <td>Divination</td>\n",
       "      <td>https://en.wikipedia.org/wiki?curid=8691</td>\n",
       "      <td>[doc, id, 8691, url, https, en, wikipedia, org...</td>\n",
       "    </tr>\n",
       "    <tr>\n",
       "      <th>4</th>\n",
       "      <td>8693</td>\n",
       "      <td>Diets of Nuremberg</td>\n",
       "      <td>https://en.wikipedia.org/wiki?curid=8693</td>\n",
       "      <td>[doc, id, 8693, url, https, en, wikipedia, org...</td>\n",
       "    </tr>\n",
       "  </tbody>\n",
       "</table>\n",
       "</div>"
      ],
      "text/plain": [
       "   article_id               title                                       url  \\\n",
       "0        8683         Disc jockey  https://en.wikipedia.org/wiki?curid=8683   \n",
       "1        8687             Detroit  https://en.wikipedia.org/wiki?curid=8687   \n",
       "2        8688        Deccan Traps  https://en.wikipedia.org/wiki?curid=8688   \n",
       "3        8691          Divination  https://en.wikipedia.org/wiki?curid=8691   \n",
       "4        8693  Diets of Nuremberg  https://en.wikipedia.org/wiki?curid=8693   \n",
       "\n",
       "                                                text  \n",
       "0  [doc, id, 8683, url, https, en, wikipedia, org...  \n",
       "1  [doc, id, 8687, url, https, en, wikipedia, org...  \n",
       "2  [doc, id, 8688, url, https, en, wikipedia, org...  \n",
       "3  [doc, id, 8691, url, https, en, wikipedia, org...  \n",
       "4  [doc, id, 8693, url, https, en, wikipedia, org...  "
      ]
     },
     "execution_count": 25,
     "metadata": {},
     "output_type": "execute_result"
    }
   ],
   "source": [
    "# create df of doc\n",
    "df_articles = pd.DataFrame(articles, columns = ['article_id', 'title', 'url', 'text'])\n",
    "df_articles.head()"
   ]
  },
  {
   "cell_type": "code",
   "execution_count": 26,
   "id": "84b6b33b",
   "metadata": {},
   "outputs": [
    {
     "data": {
      "text/plain": [
       "True"
      ]
     },
     "execution_count": 26,
     "metadata": {},
     "output_type": "execute_result"
    }
   ],
   "source": [
    "list_in_corpus(cities_ls, df_articles.text[1])"
   ]
  },
  {
   "cell_type": "code",
   "execution_count": 135,
   "id": "2bf7dc94",
   "metadata": {},
   "outputs": [],
   "source": [
    "df = df_articles[['article_id', 'title', 'text']]"
   ]
  },
  {
   "cell_type": "code",
   "execution_count": 136,
   "id": "953c267b",
   "metadata": {},
   "outputs": [],
   "source": [
    "df.to_csv('../../../enwikitrial1folder_exclstumps.csv')"
   ]
  },
  {
   "cell_type": "code",
   "execution_count": null,
   "id": "a2beb91b",
   "metadata": {},
   "outputs": [],
   "source": []
  }
 ],
 "metadata": {
  "kernelspec": {
   "display_name": "Python 3 (ipykernel)",
   "language": "python",
   "name": "python3"
  },
  "language_info": {
   "codemirror_mode": {
    "name": "ipython",
    "version": 3
   },
   "file_extension": ".py",
   "mimetype": "text/x-python",
   "name": "python",
   "nbconvert_exporter": "python",
   "pygments_lexer": "ipython3",
   "version": "3.10.4"
  }
 },
 "nbformat": 4,
 "nbformat_minor": 5
}
