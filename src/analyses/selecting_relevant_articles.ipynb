{
 "cells": [
  {
   "cell_type": "markdown",
   "id": "10609389",
   "metadata": {},
   "source": [
    "# Select relevant extracted wikidump files"
   ]
  },
  {
   "cell_type": "code",
   "execution_count": 1,
   "id": "f8524718",
   "metadata": {},
   "outputs": [],
   "source": [
    "import re\n",
    "import pandas as pd\n",
    "import os\n",
    "import time\n",
    "from tqdm.notebook import tqdm\n",
    "import unidecode\n",
    "import matplotlib.pyplot as plt\n",
    "%matplotlib inline\n",
    "\n",
    "# import from script\n",
    "from preprocessing_functions import *"
   ]
  },
  {
   "cell_type": "markdown",
   "id": "3c37c758",
   "metadata": {},
   "source": [
    "## Load Data"
   ]
  },
  {
   "cell_type": "code",
   "execution_count": 2,
   "id": "1bc5b5ea",
   "metadata": {},
   "outputs": [],
   "source": [
    "# load articles from dump\n",
    "language = \"en\" # 'en' for english; 'fr' for french\n",
    "indir = f\"/Volumes/NIJMAN/THESIS/{language}wiki_extracted\" # path/to/wikidump/extracted"
   ]
  },
  {
   "cell_type": "code",
   "execution_count": 4,
   "id": "da3ac32e",
   "metadata": {},
   "outputs": [
    {
     "data": {
      "text/plain": [
       "['ms8',\n",
       " 'ms6',\n",
       " '.DS_Store',\n",
       " '._.DS_Store',\n",
       " 'ms1',\n",
       " 'ms7',\n",
       " 'ms9',\n",
       " 'ms2',\n",
       " 'ms5',\n",
       " 'ms4',\n",
       " 'ms3',\n",
       " 'ms10',\n",
       " 'ms11',\n",
       " 'ms12',\n",
       " 'ms15',\n",
       " 'ms13',\n",
       " 'ms14',\n",
       " '._ms15',\n",
       " 'ms16',\n",
       " '._ms16',\n",
       " 'ms17',\n",
       " '._ms17',\n",
       " 'ms18',\n",
       " '._ms18',\n",
       " 'ms19',\n",
       " '._ms19',\n",
       " 'ms20',\n",
       " '._ms20',\n",
       " 'ms22',\n",
       " 'ms23',\n",
       " 'ms24',\n",
       " 'ms25',\n",
       " 'ms21',\n",
       " 'ms26',\n",
       " 'ms27',\n",
       " 'ms28',\n",
       " 'ms29',\n",
       " 'ms30',\n",
       " 'ms31',\n",
       " 'ms32',\n",
       " 'ms33',\n",
       " 'ms34',\n",
       " 'ms35',\n",
       " 'ms36',\n",
       " 'ms37',\n",
       " 'ms38',\n",
       " 'ms39',\n",
       " 'ms40',\n",
       " 'ms41',\n",
       " 'ms42',\n",
       " 'ms43',\n",
       " 'ms44',\n",
       " 'ms45',\n",
       " 'ms46',\n",
       " 'ms47',\n",
       " 'ms48',\n",
       " 'ms49',\n",
       " 'ms50',\n",
       " 'ms51',\n",
       " 'ms52',\n",
       " 'ms53',\n",
       " 'ms54',\n",
       " 'ms55',\n",
       " 'ms56',\n",
       " 'ms57',\n",
       " 'ms58',\n",
       " 'ms59',\n",
       " 'ms60',\n",
       " 'ms61',\n",
       " 'ms62']"
      ]
     },
     "execution_count": 4,
     "metadata": {},
     "output_type": "execute_result"
    }
   ],
   "source": [
    "dir_list = os.listdir(indir)\n",
    "dir_list"
   ]
  },
  {
   "cell_type": "code",
   "execution_count": 3,
   "id": "f40f5139",
   "metadata": {},
   "outputs": [
    {
     "name": "stdout",
     "output_type": "stream",
     "text": [
      "It took 51.44147300720215s to read /Volumes/NIJMAN/THESIS/frwiki_extracted.\n"
     ]
    }
   ],
   "source": [
    "wikidump = read_stream(indir)"
   ]
  },
  {
   "cell_type": "code",
   "execution_count": 4,
   "id": "34d61995",
   "metadata": {
    "scrolled": true
   },
   "outputs": [
    {
     "data": {
      "text/plain": [
       "5384"
      ]
     },
     "execution_count": 4,
     "metadata": {},
     "output_type": "execute_result"
    }
   ],
   "source": [
    "len(wikidump)\n",
    "\n",
    "# enwiki length 16498\n",
    "# frwiki length 5384"
   ]
  },
  {
   "cell_type": "markdown",
   "id": "93014763",
   "metadata": {},
   "source": [
    "## City List"
   ]
  },
  {
   "cell_type": "code",
   "execution_count": 5,
   "id": "533b6329",
   "metadata": {},
   "outputs": [],
   "source": [
    "# load cities csv\n",
    "fp = '../input/List_of_cities_300k.csv' # path to csv with city information\n",
    "cities = pd.read_csv(fp, sep=';')\n",
    "name_col = f'Mua_{language}' #column with citynames\n",
    "\n",
    "# split combined citynames \n",
    "cities_ls = [unidecode.unidecode(city_component) \n",
    "             for city in cities[name_col] \n",
    "             for city_component in city.split('-')]"
   ]
  },
  {
   "cell_type": "code",
   "execution_count": 6,
   "id": "8c22fbbf",
   "metadata": {
    "scrolled": true
   },
   "outputs": [
    {
     "name": "stdout",
     "output_type": "stream",
     "text": [
      "['Paris', 'Londres', 'Madrid', 'Berlin', 'Milan', 'Barcelone', 'Athenes', 'Rome', 'Birmingham', 'Lisbonne', 'Naples', 'Katowice', 'Manchester', 'Hambourg', 'Budapest', 'Bucarest', 'Varsovie', 'Stuttgart', 'Vienne', 'Munich', 'Bruxelles', 'Stockholm', 'Francfort', 'Cologne', 'Copenhague', 'Valence', 'Turin', 'Glasgow', 'Prague', 'Lyon', 'Sofia', 'Liverpool', 'Porto', 'Seville', 'Dublin', 'Helsinki', 'Amsterdam', 'Rotterdam', 'Dusseldorf', 'Essen', 'Oberhausen', 'Lille', 'Lodz', 'Marseille', 'Anvers', 'Bilbao', 'Newcastle', 'Cracovie', 'Bochum', 'Herne', 'Thessalonique', 'Nuremberg', 'Riga', 'Duisbourg', 'Dortmund', 'Hanovre', 'Zurich', 'Oslo', 'Breme', 'Dresde', 'Sheffield', 'Palerme', 'Poznan', 'Gelsenkirchen', 'Bottrop', 'Bordeaux', 'Wroclaw', 'Goteborg', 'Gothembourg', 'Saragosse', 'Genes', 'Catane', 'La Haye', 'Toulouse', 'Bristol', 'Vilnius', 'Sarrebruck', 'Malaga', 'Nantes', 'Leeds', 'Nottingham', 'Florence', 'Gdansk', 'Leipzig', 'Mannheim', 'Belfast', 'Portsmouth', 'Venise', 'Edimbourg ', 'Murcie', 'Nice', 'Liege', 'Bratislava', 'Leicester', 'Karlsruhe', 'Bergame', 'Palma', 'Bologne', 'Bielefeld', 'Rouen', 'Strasbourg', 'Tallinn', 'Szczecin', 'Grenoble', 'Bari', 'Toulon', 'Brighton', 'Darmstadt', 'Wuppertal', 'Utrecht', 'Bournemouth', 'Middlesbrough', 'Geneve', 'Bydgoszcz', 'Bale', 'Kaunas', 'Brno', 'Southampton', 'Lens', 'Augsbourg', 'Padoue', 'Ostrava', 'Las Palmas de Grande Canarie', 'Constanta', 'Castellamare di Stabia', 'Torre Annunziata', 'Stoke', 'Santa Cruz de Tenerife', 'Lublin', 'Cardiff', 'Iasi', 'Plovdiv', 'Bradford', 'Alicante', 'Cluj', 'Napoca', 'Grenade', 'Timisoara', 'Brescia', 'Galati', 'Montpellier', 'Varna', 'Verone', 'Busto Arsizio', 'Valladolid', 'Eindhoven', 'Charleroi', 'Cordoue', 'La Cologne', 'Craiova', 'Caserte', 'Coventry', 'Brasov', 'Bonn', 'La Valette', 'Gand', 'Gdynia']\n"
     ]
    }
   ],
   "source": [
    "print(cities_ls)"
   ]
  },
  {
   "cell_type": "markdown",
   "id": "81b27ab5",
   "metadata": {},
   "source": [
    "***"
   ]
  },
  {
   "cell_type": "markdown",
   "id": "b9e39ab1",
   "metadata": {},
   "source": [
    "## Fr Dump"
   ]
  },
  {
   "cell_type": "code",
   "execution_count": 15,
   "id": "16e413fc",
   "metadata": {},
   "outputs": [
    {
     "data": {
      "application/vnd.jupyter.widget-view+json": {
       "model_id": "5d05724f36e04cddb0b83150e4d6da64",
       "version_major": 2,
       "version_minor": 0
      },
      "text/plain": [
       "Progress:   0%|          | 0/5384 [00:00<?, ?it/s]"
      ]
     },
     "metadata": {},
     "output_type": "display_data"
    },
    {
     "data": {
      "text/plain": [
       "4045588"
      ]
     },
     "execution_count": 15,
     "metadata": {},
     "output_type": "execute_result"
    }
   ],
   "source": [
    "frwikidump = split_dump(wikidump)\n",
    "len(frwikidump)"
   ]
  },
  {
   "cell_type": "code",
   "execution_count": 16,
   "id": "d66f7494",
   "metadata": {
    "scrolled": true
   },
   "outputs": [
    {
     "data": {
      "application/vnd.jupyter.widget-view+json": {
       "model_id": "ec543a50b68d459f9a541fa79c78ad87",
       "version_major": 2,
       "version_minor": 0
      },
      "text/plain": [
       "Progress:   0%|          | 0/4045588 [00:23<?, ?it/s]"
      ]
     },
     "metadata": {},
     "output_type": "display_data"
    },
    {
     "name": "stdout",
     "output_type": "stream",
     "text": [
      "After processing 274745 articles remain, that is 6.79% of the total number of articles (4045588) in this dump.\n"
     ]
    }
   ],
   "source": [
    "p_frwikidump = process_dump2(frwikidump, cities_ls)"
   ]
  },
  {
   "cell_type": "code",
   "execution_count": 18,
   "id": "98dc3642",
   "metadata": {},
   "outputs": [],
   "source": [
    "df = pd.DataFrame(p_frwikidump, columns = ['article_id', 'title', 'text'])\n",
    "outputfp = '../../../data/frwikidump_complete.csv'\n",
    "df.to_csv(outputfp, index = False)"
   ]
  },
  {
   "cell_type": "code",
   "execution_count": 19,
   "id": "f91c5be1",
   "metadata": {},
   "outputs": [
    {
     "data": {
      "text/plain": [
       "<AxesSubplot:ylabel='Frequency'>"
      ]
     },
     "execution_count": 19,
     "metadata": {},
     "output_type": "execute_result"
    },
    {
     "data": {
      "image/png": "[encoded data removed]",
      "text/plain": [
       "<Figure size 432x288 with 1 Axes>"
      ]
     },
     "metadata": {
      "needs_background": "light"
     },
     "output_type": "display_data"
    }
   ],
   "source": [
    "df['length'] = [len(text.split()) for text in df.text]\n",
    "\n",
    "df['length'].plot.hist()"
   ]
  },
  {
   "cell_type": "code",
   "execution_count": 20,
   "id": "b055f2b4",
   "metadata": {},
   "outputs": [
    {
     "data": {
      "text/html": [
       "<div>\n",
       "<style scoped>\n",
       "    .dataframe tbody tr th:only-of-type {\n",
       "        vertical-align: middle;\n",
       "    }\n",
       "\n",
       "    .dataframe tbody tr th {\n",
       "        vertical-align: top;\n",
       "    }\n",
       "\n",
       "    .dataframe thead th {\n",
       "        text-align: right;\n",
       "    }\n",
       "</style>\n",
       "<table border=\"1\" class=\"dataframe\">\n",
       "  <thead>\n",
       "    <tr style=\"text-align: right;\">\n",
       "      <th></th>\n",
       "      <th>article_id</th>\n",
       "      <th>title</th>\n",
       "      <th>text</th>\n",
       "      <th>length</th>\n",
       "    </tr>\n",
       "  </thead>\n",
       "  <tbody>\n",
       "    <tr>\n",
       "      <th>190331</th>\n",
       "      <td>8335484</td>\n",
       "      <td>Paris-Nice-Rome</td>\n",
       "      <td>\\nParis-Nice-Rome\\n\\n\\n\\n</td>\n",
       "      <td>1</td>\n",
       "    </tr>\n",
       "    <tr>\n",
       "      <th>150163</th>\n",
       "      <td>5625176</td>\n",
       "      <td>Bordeaux-Grenoble</td>\n",
       "      <td>\\nBordeaux-Grenoble\\n\\n\\n\\n</td>\n",
       "      <td>1</td>\n",
       "    </tr>\n",
       "    <tr>\n",
       "      <th>254532</th>\n",
       "      <td>13456161</td>\n",
       "      <td>Paris-Lyon-Mediterranee</td>\n",
       "      <td>\\nParis-Lyon-Mediterranee\\n\\n\\n\\n</td>\n",
       "      <td>1</td>\n",
       "    </tr>\n",
       "    <tr>\n",
       "      <th>158114</th>\n",
       "      <td>6083427</td>\n",
       "      <td>Nice-Genes</td>\n",
       "      <td>\\nNice-Genes\\n\\n\\n\\n</td>\n",
       "      <td>1</td>\n",
       "    </tr>\n",
       "    <tr>\n",
       "      <th>87640</th>\n",
       "      <td>2155965</td>\n",
       "      <td>Paris-Madrid</td>\n",
       "      <td>\\nParis-Madrid\\n\\n\\n\\n</td>\n",
       "      <td>1</td>\n",
       "    </tr>\n",
       "    <tr>\n",
       "      <th>127635</th>\n",
       "      <td>4550071</td>\n",
       "      <td>Liege-Rome-Liege</td>\n",
       "      <td>\\nLiege-Rome-Liege\\n\\n\\n\\n</td>\n",
       "      <td>1</td>\n",
       "    </tr>\n",
       "    <tr>\n",
       "      <th>178274</th>\n",
       "      <td>7375911</td>\n",
       "      <td>Paris-Bruxelles</td>\n",
       "      <td>\\nParis-Bruxelles\\n\\n\\n\\n</td>\n",
       "      <td>1</td>\n",
       "    </tr>\n",
       "    <tr>\n",
       "      <th>116694</th>\n",
       "      <td>3934340</td>\n",
       "      <td>Lyon-Turin</td>\n",
       "      <td>\\nLyon-Turin\\n\\n\\n\\n</td>\n",
       "      <td>1</td>\n",
       "    </tr>\n",
       "    <tr>\n",
       "      <th>90660</th>\n",
       "      <td>2518914</td>\n",
       "      <td>Athenes-Helsinki</td>\n",
       "      <td>\\nAthenes-Helsinki\\n\\n\\n\\n</td>\n",
       "      <td>1</td>\n",
       "    </tr>\n",
       "    <tr>\n",
       "      <th>84428</th>\n",
       "      <td>1923454</td>\n",
       "      <td>Ligne Paris-Toulouse</td>\n",
       "      <td>\\nLigne Paris-Toulouse\\n\\n\\n\\n</td>\n",
       "      <td>2</td>\n",
       "    </tr>\n",
       "    <tr>\n",
       "      <th>253887</th>\n",
       "      <td>13412737</td>\n",
       "      <td>Ligne Lyon-Grenoble</td>\n",
       "      <td>\\nLigne Lyon-Grenoble\\n\\n\\n\\n</td>\n",
       "      <td>2</td>\n",
       "    </tr>\n",
       "    <tr>\n",
       "      <th>124801</th>\n",
       "      <td>4345424</td>\n",
       "      <td>TGV Paris-Lille</td>\n",
       "      <td>\\nTGV Paris-Lille\\n\\n\\n\\n</td>\n",
       "      <td>2</td>\n",
       "    </tr>\n",
       "    <tr>\n",
       "      <th>124726</th>\n",
       "      <td>4340609</td>\n",
       "      <td>Ligne Nuremberg-Munich</td>\n",
       "      <td>\\nLigne Nuremberg-Munich\\n\\n\\n\\n</td>\n",
       "      <td>2</td>\n",
       "    </tr>\n",
       "    <tr>\n",
       "      <th>109243</th>\n",
       "      <td>3566035</td>\n",
       "      <td>LGV Madrid-Saragosse-Huesca</td>\n",
       "      <td>\\nLGV Madrid-Saragosse-Huesca\\n\\n\\n\\n</td>\n",
       "      <td>2</td>\n",
       "    </tr>\n",
       "    <tr>\n",
       "      <th>124504</th>\n",
       "      <td>4327519</td>\n",
       "      <td>LGV Madrid-Barcelone</td>\n",
       "      <td>\\nLGV Madrid-Barcelone\\n\\n\\n\\n</td>\n",
       "      <td>2</td>\n",
       "    </tr>\n",
       "    <tr>\n",
       "      <th>124431</th>\n",
       "      <td>4323828</td>\n",
       "      <td>LGV Madrid-Segovie-Valladolid</td>\n",
       "      <td>\\nLGV Madrid-Segovie-Valladolid\\n\\n\\n\\n</td>\n",
       "      <td>2</td>\n",
       "    </tr>\n",
       "    <tr>\n",
       "      <th>124394</th>\n",
       "      <td>4322089</td>\n",
       "      <td>LGV Madrid-Barcelone-Figuieres</td>\n",
       "      <td>\\nLGV Madrid-Barcelone-Figuieres\\n\\n\\n\\n</td>\n",
       "      <td>2</td>\n",
       "    </tr>\n",
       "    <tr>\n",
       "      <th>50798</th>\n",
       "      <td>790717</td>\n",
       "      <td>Ligne Bordeaux-Toulouse</td>\n",
       "      <td>\\nLigne Bordeaux-Toulouse\\n\\n\\n\\n</td>\n",
       "      <td>2</td>\n",
       "    </tr>\n",
       "    <tr>\n",
       "      <th>84456</th>\n",
       "      <td>1924899</td>\n",
       "      <td>Ligne Lyon-Bordeaux</td>\n",
       "      <td>\\nLigne Lyon-Bordeaux\\n\\n\\n\\n</td>\n",
       "      <td>2</td>\n",
       "    </tr>\n",
       "    <tr>\n",
       "      <th>252010</th>\n",
       "      <td>13286715</td>\n",
       "      <td>Paris-Nice 1959</td>\n",
       "      <td>\\nParis-Nice 1959\\n\\n\\n\\n</td>\n",
       "      <td>2</td>\n",
       "    </tr>\n",
       "  </tbody>\n",
       "</table>\n",
       "</div>"
      ],
      "text/plain": [
       "       article_id                           title  \\\n",
       "190331    8335484                 Paris-Nice-Rome   \n",
       "150163    5625176               Bordeaux-Grenoble   \n",
       "254532   13456161         Paris-Lyon-Mediterranee   \n",
       "158114    6083427                      Nice-Genes   \n",
       "87640     2155965                    Paris-Madrid   \n",
       "127635    4550071                Liege-Rome-Liege   \n",
       "178274    7375911                 Paris-Bruxelles   \n",
       "116694    3934340                      Lyon-Turin   \n",
       "90660     2518914                Athenes-Helsinki   \n",
       "84428     1923454            Ligne Paris-Toulouse   \n",
       "253887   13412737             Ligne Lyon-Grenoble   \n",
       "124801    4345424                 TGV Paris-Lille   \n",
       "124726    4340609          Ligne Nuremberg-Munich   \n",
       "109243    3566035     LGV Madrid-Saragosse-Huesca   \n",
       "124504    4327519            LGV Madrid-Barcelone   \n",
       "124431    4323828   LGV Madrid-Segovie-Valladolid   \n",
       "124394    4322089  LGV Madrid-Barcelone-Figuieres   \n",
       "50798      790717         Ligne Bordeaux-Toulouse   \n",
       "84456     1924899             Ligne Lyon-Bordeaux   \n",
       "252010   13286715                 Paris-Nice 1959   \n",
       "\n",
       "                                            text  length  \n",
       "190331                 \\nParis-Nice-Rome\\n\\n\\n\\n       1  \n",
       "150163               \\nBordeaux-Grenoble\\n\\n\\n\\n       1  \n",
       "254532         \\nParis-Lyon-Mediterranee\\n\\n\\n\\n       1  \n",
       "158114                      \\nNice-Genes\\n\\n\\n\\n       1  \n",
       "87640                     \\nParis-Madrid\\n\\n\\n\\n       1  \n",
       "127635                \\nLiege-Rome-Liege\\n\\n\\n\\n       1  \n",
       "178274                 \\nParis-Bruxelles\\n\\n\\n\\n       1  \n",
       "116694                      \\nLyon-Turin\\n\\n\\n\\n       1  \n",
       "90660                 \\nAthenes-Helsinki\\n\\n\\n\\n       1  \n",
       "84428             \\nLigne Paris-Toulouse\\n\\n\\n\\n       2  \n",
       "253887             \\nLigne Lyon-Grenoble\\n\\n\\n\\n       2  \n",
       "124801                 \\nTGV Paris-Lille\\n\\n\\n\\n       2  \n",
       "124726          \\nLigne Nuremberg-Munich\\n\\n\\n\\n       2  \n",
       "109243     \\nLGV Madrid-Saragosse-Huesca\\n\\n\\n\\n       2  \n",
       "124504            \\nLGV Madrid-Barcelone\\n\\n\\n\\n       2  \n",
       "124431   \\nLGV Madrid-Segovie-Valladolid\\n\\n\\n\\n       2  \n",
       "124394  \\nLGV Madrid-Barcelone-Figuieres\\n\\n\\n\\n       2  \n",
       "50798          \\nLigne Bordeaux-Toulouse\\n\\n\\n\\n       2  \n",
       "84456              \\nLigne Lyon-Bordeaux\\n\\n\\n\\n       2  \n",
       "252010                 \\nParis-Nice 1959\\n\\n\\n\\n       2  "
      ]
     },
     "execution_count": 20,
     "metadata": {},
     "output_type": "execute_result"
    }
   ],
   "source": [
    "df.sort_values('length', ascending=True).head(20)"
   ]
  },
  {
   "cell_type": "code",
   "execution_count": 22,
   "id": "f80e2c7f",
   "metadata": {},
   "outputs": [
    {
     "data": {
      "text/plain": [
       "'\\nTGV Paris-Lille\\n\\n\\n\\n'"
      ]
     },
     "execution_count": 22,
     "metadata": {},
     "output_type": "execute_result"
    }
   ],
   "source": [
    "df.text[124801]"
   ]
  },
  {
   "cell_type": "code",
   "execution_count": 28,
   "id": "d865075b",
   "metadata": {},
   "outputs": [
    {
     "data": {
      "text/html": [
       "<div>\n",
       "<style scoped>\n",
       "    .dataframe tbody tr th:only-of-type {\n",
       "        vertical-align: middle;\n",
       "    }\n",
       "\n",
       "    .dataframe tbody tr th {\n",
       "        vertical-align: top;\n",
       "    }\n",
       "\n",
       "    .dataframe thead th {\n",
       "        text-align: right;\n",
       "    }\n",
       "</style>\n",
       "<table border=\"1\" class=\"dataframe\">\n",
       "  <thead>\n",
       "    <tr style=\"text-align: right;\">\n",
       "      <th></th>\n",
       "      <th>article_id</th>\n",
       "      <th>title</th>\n",
       "      <th>text</th>\n",
       "      <th>length</th>\n",
       "      <th>length_title</th>\n",
       "    </tr>\n",
       "  </thead>\n",
       "  <tbody>\n",
       "    <tr>\n",
       "      <th>11920</th>\n",
       "      <td>131797</td>\n",
       "      <td>Gare de Lyon (Paris)</td>\n",
       "      <td>\\nGare de Lyon (Paris)\\n\\n\\n\\n</td>\n",
       "      <td>4</td>\n",
       "      <td>4</td>\n",
       "    </tr>\n",
       "    <tr>\n",
       "      <th>26533</th>\n",
       "      <td>329463</td>\n",
       "      <td>Bordeaux - Milan AC (1996)</td>\n",
       "      <td>\\nBordeaux - Milan AC (1996)\\n\\n\\n\\n</td>\n",
       "      <td>5</td>\n",
       "      <td>5</td>\n",
       "    </tr>\n",
       "    <tr>\n",
       "      <th>26534</th>\n",
       "      <td>329470</td>\n",
       "      <td>Liverpool - Milan AC (2005)</td>\n",
       "      <td>\\nLiverpool - Milan AC (2005)\\n\\n\\n\\n</td>\n",
       "      <td>5</td>\n",
       "      <td>5</td>\n",
       "    </tr>\n",
       "    <tr>\n",
       "      <th>37623</th>\n",
       "      <td>504102</td>\n",
       "      <td>Districts de Stockholm et de Goteborg</td>\n",
       "      <td>\\nDistricts de Stockholm et de Goteborg\\n\\n\\n\\n</td>\n",
       "      <td>6</td>\n",
       "      <td>6</td>\n",
       "    </tr>\n",
       "    <tr>\n",
       "      <th>39332</th>\n",
       "      <td>536800</td>\n",
       "      <td>Charleroi Bruxelles-Sud</td>\n",
       "      <td>\\nCharleroi Bruxelles-Sud\\n\\n\\n\\n</td>\n",
       "      <td>2</td>\n",
       "      <td>2</td>\n",
       "    </tr>\n",
       "    <tr>\n",
       "      <th>...</th>\n",
       "      <td>...</td>\n",
       "      <td>...</td>\n",
       "      <td>...</td>\n",
       "      <td>...</td>\n",
       "      <td>...</td>\n",
       "    </tr>\n",
       "    <tr>\n",
       "      <th>271601</th>\n",
       "      <td>14601337</td>\n",
       "      <td>Heures de Turin-Milan</td>\n",
       "      <td>\\nHeures de Turin-Milan\\n\\n\\n\\n</td>\n",
       "      <td>3</td>\n",
       "      <td>3</td>\n",
       "    </tr>\n",
       "    <tr>\n",
       "      <th>271650</th>\n",
       "      <td>14604820</td>\n",
       "      <td>Heures de Milan-Turin</td>\n",
       "      <td>\\nHeures de Milan-Turin\\n\\n\\n\\n</td>\n",
       "      <td>3</td>\n",
       "      <td>3</td>\n",
       "    </tr>\n",
       "    <tr>\n",
       "      <th>272422</th>\n",
       "      <td>14658402</td>\n",
       "      <td>Rome Paris Films</td>\n",
       "      <td>\\nRome Paris Films\\n\\n\\n\\n</td>\n",
       "      <td>3</td>\n",
       "      <td>3</td>\n",
       "    </tr>\n",
       "    <tr>\n",
       "      <th>273381</th>\n",
       "      <td>14824491</td>\n",
       "      <td>Porte de Berlin (Szczecin)</td>\n",
       "      <td>\\nPorte de Berlin (Szczecin)\\n\\n\\n\\n</td>\n",
       "      <td>4</td>\n",
       "      <td>4</td>\n",
       "    </tr>\n",
       "    <tr>\n",
       "      <th>274621</th>\n",
       "      <td>14918625</td>\n",
       "      <td>Leipziger Strasse (metro de Francfort)</td>\n",
       "      <td>\\nLeipziger Strasse (metro de Francfort)\\n\\n\\n\\n</td>\n",
       "      <td>5</td>\n",
       "      <td>5</td>\n",
       "    </tr>\n",
       "  </tbody>\n",
       "</table>\n",
       "<p>427 rows × 5 columns</p>\n",
       "</div>"
      ],
      "text/plain": [
       "       article_id                                   title  \\\n",
       "11920      131797                    Gare de Lyon (Paris)   \n",
       "26533      329463              Bordeaux - Milan AC (1996)   \n",
       "26534      329470             Liverpool - Milan AC (2005)   \n",
       "37623      504102   Districts de Stockholm et de Goteborg   \n",
       "39332      536800                 Charleroi Bruxelles-Sud   \n",
       "...           ...                                     ...   \n",
       "271601   14601337                   Heures de Turin-Milan   \n",
       "271650   14604820                   Heures de Milan-Turin   \n",
       "272422   14658402                        Rome Paris Films   \n",
       "273381   14824491              Porte de Berlin (Szczecin)   \n",
       "274621   14918625  Leipziger Strasse (metro de Francfort)   \n",
       "\n",
       "                                                    text  length  length_title  \n",
       "11920                     \\nGare de Lyon (Paris)\\n\\n\\n\\n       4             4  \n",
       "26533               \\nBordeaux - Milan AC (1996)\\n\\n\\n\\n       5             5  \n",
       "26534              \\nLiverpool - Milan AC (2005)\\n\\n\\n\\n       5             5  \n",
       "37623    \\nDistricts de Stockholm et de Goteborg\\n\\n\\n\\n       6             6  \n",
       "39332                  \\nCharleroi Bruxelles-Sud\\n\\n\\n\\n       2             2  \n",
       "...                                                  ...     ...           ...  \n",
       "271601                   \\nHeures de Turin-Milan\\n\\n\\n\\n       3             3  \n",
       "271650                   \\nHeures de Milan-Turin\\n\\n\\n\\n       3             3  \n",
       "272422                        \\nRome Paris Films\\n\\n\\n\\n       3             3  \n",
       "273381              \\nPorte de Berlin (Szczecin)\\n\\n\\n\\n       4             4  \n",
       "274621  \\nLeipziger Strasse (metro de Francfort)\\n\\n\\n\\n       5             5  \n",
       "\n",
       "[427 rows x 5 columns]"
      ]
     },
     "execution_count": 28,
     "metadata": {},
     "output_type": "execute_result"
    }
   ],
   "source": [
    "# df['length_title'] = [len(title.split()) for title in df.title]\n",
    "df[df.length == df.length_title] # think this should be cover the empty referral pages"
   ]
  },
  {
   "cell_type": "markdown",
   "id": "9d3f4691",
   "metadata": {},
   "source": [
    "## En Dump 1"
   ]
  },
  {
   "cell_type": "code",
   "execution_count": 16,
   "id": "b0f6a2d4",
   "metadata": {
    "scrolled": true
   },
   "outputs": [
    {
     "data": {
      "application/vnd.jupyter.widget-view+json": {
       "model_id": "d0f40f75847a457090174981b186bfe1",
       "version_major": 2,
       "version_minor": 0
      },
      "text/plain": [
       "Progress:   0%|          | 0/8249 [00:00<?, ?it/s]"
      ]
     },
     "metadata": {},
     "output_type": "display_data"
    }
   ],
   "source": [
    "# extract articles from first half of dump\n",
    "wikidump1 = split_dump(wikidump[:round(len(wikidump)/2)])"
   ]
  },
  {
   "cell_type": "code",
   "execution_count": 17,
   "id": "4dc10ebf",
   "metadata": {},
   "outputs": [
    {
     "name": "stdout",
     "output_type": "stream",
     "text": [
      "5090764\n"
     ]
    }
   ],
   "source": [
    "wikilength1 = len(wikidump1) #5090764\n",
    "print(wikilength1)"
   ]
  },
  {
   "cell_type": "code",
   "execution_count": 20,
   "id": "9fbc213c",
   "metadata": {
    "scrolled": true
   },
   "outputs": [
    {
     "data": {
      "application/vnd.jupyter.widget-view+json": {
       "model_id": "675ffd08fbe94dd0b600a7798b6b403b",
       "version_major": 2,
       "version_minor": 0
      },
      "text/plain": [
       "Progress:   0%|          | 0/5090764 [00:00<?, ?it/s]"
      ]
     },
     "metadata": {},
     "output_type": "display_data"
    },
    {
     "name": "stdout",
     "output_type": "stream",
     "text": [
      "After processing 232261 articles remain, that is 4.56% of the total number of articles (5090764) in this dump.\n"
     ]
    }
   ],
   "source": [
    "p_wikidump1 = process_dump2(wikidump1, cities_ls)"
   ]
  },
  {
   "cell_type": "code",
   "execution_count": 17,
   "id": "a6ca6071",
   "metadata": {},
   "outputs": [
    {
     "name": "stdout",
     "output_type": "stream",
     "text": [
      "232260\n"
     ]
    }
   ],
   "source": [
    "p_wikilength1 = len(p_wikidump1) #232260\n",
    "\n",
    "print(p_wikilength1)"
   ]
  },
  {
   "cell_type": "code",
   "execution_count": 23,
   "id": "34cc9ca8",
   "metadata": {},
   "outputs": [],
   "source": [
    "# save to .csv\n",
    "df = pd.DataFrame(p_wikidump1, columns = ['article_id', 'title', 'text'])\n",
    "outputfp = '../../../data/enwikidump_1.csv'\n",
    "df.to_csv(outputfp, index = False)"
   ]
  },
  {
   "cell_type": "code",
   "execution_count": null,
   "id": "b6b68df8",
   "metadata": {},
   "outputs": [],
   "source": [
    "df['length'] = [len(text.split()) for text in df.text]\n",
    "\n",
    "df['length'].plot.hist()"
   ]
  },
  {
   "cell_type": "code",
   "execution_count": null,
   "id": "7a933dc4",
   "metadata": {},
   "outputs": [],
   "source": [
    "df.sort_values('length', ascending=True).head(20)"
   ]
  },
  {
   "cell_type": "markdown",
   "id": "c85ac1a2",
   "metadata": {},
   "source": [
    "## En Dump2"
   ]
  },
  {
   "cell_type": "code",
   "execution_count": 15,
   "id": "05f654b1",
   "metadata": {},
   "outputs": [
    {
     "data": {
      "application/vnd.jupyter.widget-view+json": {
       "model_id": "5de7eb6644a54bafa7c9b007dbe45115",
       "version_major": 2,
       "version_minor": 0
      },
      "text/plain": [
       "Progress:   0%|          | 0/8249 [00:00<?, ?it/s]"
      ]
     },
     "metadata": {},
     "output_type": "display_data"
    }
   ],
   "source": [
    "# extract articles from second half of dump\n",
    "wikidump2 = split_dump(wikidump[round(len(wikidump)/2):])"
   ]
  },
  {
   "cell_type": "code",
   "execution_count": 16,
   "id": "e50b46de",
   "metadata": {},
   "outputs": [
    {
     "name": "stdout",
     "output_type": "stream",
     "text": [
      "11305922\n"
     ]
    }
   ],
   "source": [
    "wikilength2 = len(wikidump2) # 11305922\n",
    "# wikilength2 = nr that it should be\n",
    "\n",
    "print(wikilength2)"
   ]
  },
  {
   "cell_type": "code",
   "execution_count": 17,
   "id": "e28e3056",
   "metadata": {},
   "outputs": [
    {
     "name": "stdout",
     "output_type": "stream",
     "text": [
      "nr of articles in the enwiki dump is 16396686.\n"
     ]
    }
   ],
   "source": [
    "wikilength1 = 5090764 #len(wikidump1)\n",
    "wikilength2 = 11305922 #len(wikidump2)\n",
    "wikilength = wikilength1 + wikilength2 #16396686\n",
    "\n",
    "print(f\"nr of articles in the enwiki dump is {wikilength}.\")"
   ]
  },
  {
   "cell_type": "code",
   "execution_count": 18,
   "id": "28675ffb",
   "metadata": {},
   "outputs": [
    {
     "data": {
      "application/vnd.jupyter.widget-view+json": {
       "model_id": "6a8f966a34ad4a108ebded2255171946",
       "version_major": 2,
       "version_minor": 0
      },
      "text/plain": [
       "Progress:   0%|          | 0/11305922 [00:57<?, ?it/s]"
      ]
     },
     "metadata": {},
     "output_type": "display_data"
    },
    {
     "name": "stdout",
     "output_type": "stream",
     "text": [
      "After processing 277634 articles remain, that is 2.46% of the total number of articles (11305922) in this dump.\n"
     ]
    }
   ],
   "source": [
    "p_wikidump2 = process_dump2(wikidump2, cities_ls)"
   ]
  },
  {
   "cell_type": "code",
   "execution_count": 22,
   "id": "e03992c7",
   "metadata": {},
   "outputs": [
    {
     "name": "stdout",
     "output_type": "stream",
     "text": [
      "277634\n"
     ]
    }
   ],
   "source": [
    "p_wikilength2 = len(p_wikidump2) # 277634\n",
    "# p_wikilength2 = 'nr that should actually go here'\n",
    "print(p_wikilength2)"
   ]
  },
  {
   "cell_type": "code",
   "execution_count": 23,
   "id": "ef309506",
   "metadata": {},
   "outputs": [
    {
     "name": "stdout",
     "output_type": "stream",
     "text": [
      "509894\n"
     ]
    }
   ],
   "source": [
    "p_wikilength1 = 232260\n",
    "p_wikilength2 = 277634\n",
    "\n",
    "p_wikilength = p_wikilength1 + p_wikilength2 # 509894\n",
    "print(p_wikilength)"
   ]
  },
  {
   "cell_type": "code",
   "execution_count": 24,
   "id": "91e62f62",
   "metadata": {},
   "outputs": [],
   "source": [
    "# save to .csv\n",
    "df = pd.DataFrame(p_wikidump2, columns = ['article_id', 'title', 'text'])\n",
    "outputfp = f'../../../data/enwikidump_2.csv'\n",
    "df.to_csv(outputfp, index = False)"
   ]
  },
  {
   "cell_type": "code",
   "execution_count": 25,
   "id": "54749061",
   "metadata": {},
   "outputs": [
    {
     "name": "stdout",
     "output_type": "stream",
     "text": [
      "After processing 509894 articles remain, that is 3.11% of the total number of articles (16396686) in this dump.\n"
     ]
    }
   ],
   "source": [
    "print(\n",
    "    f\"After processing {p_wikilength} articles remain, \" \n",
    "    f\"that is {round(((p_wikilength/wikilength)*100), 2)}% \"\n",
    "    f\"of the total number of articles ({wikilength}) in this dump.\"\n",
    ")"
   ]
  },
  {
   "cell_type": "code",
   "execution_count": 25,
   "id": "1d64a652",
   "metadata": {},
   "outputs": [
    {
     "data": {
      "text/plain": [
       "<AxesSubplot:ylabel='Frequency'>"
      ]
     },
     "execution_count": 25,
     "metadata": {},
     "output_type": "execute_result"
    },
    {
     "data": {
      "image/png": "[encoded data removed]",
      "text/plain": [
       "<Figure size 432x288 with 1 Axes>"
      ]
     },
     "metadata": {
      "needs_background": "light"
     },
     "output_type": "display_data"
    }
   ],
   "source": [
    "df['length'] = [len(text.split()) for text in df.text]\n",
    "\n",
    "df['length'].plot.hist()"
   ]
  },
  {
   "cell_type": "code",
   "execution_count": 31,
   "id": "a76692d0",
   "metadata": {
    "scrolled": true
   },
   "outputs": [
    {
     "data": {
      "text/html": [
       "<div>\n",
       "<style scoped>\n",
       "    .dataframe tbody tr th:only-of-type {\n",
       "        vertical-align: middle;\n",
       "    }\n",
       "\n",
       "    .dataframe tbody tr th {\n",
       "        vertical-align: top;\n",
       "    }\n",
       "\n",
       "    .dataframe thead th {\n",
       "        text-align: right;\n",
       "    }\n",
       "</style>\n",
       "<table border=\"1\" class=\"dataframe\">\n",
       "  <thead>\n",
       "    <tr style=\"text-align: right;\">\n",
       "      <th></th>\n",
       "      <th>article_id</th>\n",
       "      <th>title</th>\n",
       "      <th>text</th>\n",
       "      <th>length</th>\n",
       "    </tr>\n",
       "  </thead>\n",
       "  <tbody>\n",
       "    <tr>\n",
       "      <th>209078</th>\n",
       "      <td>55896674</td>\n",
       "      <td>Paris-Gare-de-Lyon</td>\n",
       "      <td>\\nParis-Gare-de-Lyon\\n\\n\\n\\n</td>\n",
       "      <td>1</td>\n",
       "    </tr>\n",
       "    <tr>\n",
       "      <th>259952</th>\n",
       "      <td>66489250</td>\n",
       "      <td>Rome-Berlin-Tokyo</td>\n",
       "      <td>\\nRome-Berlin-Tokyo\\n\\n\\n\\n</td>\n",
       "      <td>1</td>\n",
       "    </tr>\n",
       "    <tr>\n",
       "      <th>252284</th>\n",
       "      <td>64797958</td>\n",
       "      <td>Gdansk-Gdynia-Sopot</td>\n",
       "      <td>\\nGdansk-Gdynia-Sopot\\n\\n\\n\\n</td>\n",
       "      <td>1</td>\n",
       "    </tr>\n",
       "    <tr>\n",
       "      <th>245703</th>\n",
       "      <td>63558110</td>\n",
       "      <td>Nice-Genoa</td>\n",
       "      <td>\\nNice-Genoa\\n\\n\\n\\n</td>\n",
       "      <td>1</td>\n",
       "    </tr>\n",
       "    <tr>\n",
       "      <th>265662</th>\n",
       "      <td>67713650</td>\n",
       "      <td>Liege-Sofia-Liege</td>\n",
       "      <td>\\nLiege-Sofia-Liege\\n\\n\\n\\n</td>\n",
       "      <td>1</td>\n",
       "    </tr>\n",
       "    <tr>\n",
       "      <th>...</th>\n",
       "      <td>...</td>\n",
       "      <td>...</td>\n",
       "      <td>...</td>\n",
       "      <td>...</td>\n",
       "    </tr>\n",
       "    <tr>\n",
       "      <th>186332</th>\n",
       "      <td>51189286</td>\n",
       "      <td>FC Barcelona 1-1 Atletico Madrid (May 2014)</td>\n",
       "      <td>\\nFC Barcelona 1-1 Atletico Madrid (May 2014)\\...</td>\n",
       "      <td>7</td>\n",
       "    </tr>\n",
       "    <tr>\n",
       "      <th>137839</th>\n",
       "      <td>41600041</td>\n",
       "      <td>Bois de Boulogne (Porte de Madrid, Paris)</td>\n",
       "      <td>\\nBois de Boulogne (Porte de Madrid, Paris)\\n\\...</td>\n",
       "      <td>7</td>\n",
       "    </tr>\n",
       "    <tr>\n",
       "      <th>213469</th>\n",
       "      <td>56774776</td>\n",
       "      <td>Church of Saint Anthony of Padua, Turin</td>\n",
       "      <td>\\nChurch of Saint Anthony of Padua, Turin\\n\\n\\n\\n</td>\n",
       "      <td>7</td>\n",
       "    </tr>\n",
       "    <tr>\n",
       "      <th>134536</th>\n",
       "      <td>40999984</td>\n",
       "      <td>London, Bristol and South Wales Direct Railway</td>\n",
       "      <td>\\nLondon, Bristol and South Wales Direct Railw...</td>\n",
       "      <td>7</td>\n",
       "    </tr>\n",
       "    <tr>\n",
       "      <th>207880</th>\n",
       "      <td>55718865</td>\n",
       "      <td>Parish Church of St. Anna (Lehel, Munich)</td>\n",
       "      <td>\\nParish Church of St. Anna (Lehel, Munich)\\n\\...</td>\n",
       "      <td>7</td>\n",
       "    </tr>\n",
       "  </tbody>\n",
       "</table>\n",
       "<p>1000 rows × 4 columns</p>\n",
       "</div>"
      ],
      "text/plain": [
       "       article_id                                           title  \\\n",
       "209078   55896674                              Paris-Gare-de-Lyon   \n",
       "259952   66489250                               Rome-Berlin-Tokyo   \n",
       "252284   64797958                             Gdansk-Gdynia-Sopot   \n",
       "245703   63558110                                      Nice-Genoa   \n",
       "265662   67713650                               Liege-Sofia-Liege   \n",
       "...           ...                                             ...   \n",
       "186332   51189286     FC Barcelona 1-1 Atletico Madrid (May 2014)   \n",
       "137839   41600041       Bois de Boulogne (Porte de Madrid, Paris)   \n",
       "213469   56774776         Church of Saint Anthony of Padua, Turin   \n",
       "134536   40999984  London, Bristol and South Wales Direct Railway   \n",
       "207880   55718865       Parish Church of St. Anna (Lehel, Munich)   \n",
       "\n",
       "                                                     text  length  \n",
       "209078                       \\nParis-Gare-de-Lyon\\n\\n\\n\\n       1  \n",
       "259952                        \\nRome-Berlin-Tokyo\\n\\n\\n\\n       1  \n",
       "252284                      \\nGdansk-Gdynia-Sopot\\n\\n\\n\\n       1  \n",
       "245703                               \\nNice-Genoa\\n\\n\\n\\n       1  \n",
       "265662                        \\nLiege-Sofia-Liege\\n\\n\\n\\n       1  \n",
       "...                                                   ...     ...  \n",
       "186332  \\nFC Barcelona 1-1 Atletico Madrid (May 2014)\\...       7  \n",
       "137839  \\nBois de Boulogne (Porte de Madrid, Paris)\\n\\...       7  \n",
       "213469  \\nChurch of Saint Anthony of Padua, Turin\\n\\n\\n\\n       7  \n",
       "134536  \\nLondon, Bristol and South Wales Direct Railw...       7  \n",
       "207880  \\nParish Church of St. Anna (Lehel, Munich)\\n\\...       7  \n",
       "\n",
       "[1000 rows x 4 columns]"
      ]
     },
     "execution_count": 31,
     "metadata": {},
     "output_type": "execute_result"
    }
   ],
   "source": [
    "df.sort_values('length', ascending=True).head(1000)"
   ]
  },
  {
   "cell_type": "markdown",
   "id": "cf347c58",
   "metadata": {},
   "source": [
    "***"
   ]
  }
 ],
 "metadata": {
  "kernelspec": {
   "display_name": "Python 3 (ipykernel)",
   "language": "python",
   "name": "python3"
  },
  "language_info": {
   "codemirror_mode": {
    "name": "ipython",
    "version": 3
   },
   "file_extension": ".py",
   "mimetype": "text/x-python",
   "name": "python",
   "nbconvert_exporter": "python",
   "pygments_lexer": "ipython3",
   "version": "3.8.0"
  }
 },
 "nbformat": 4,
 "nbformat_minor": 5
}
