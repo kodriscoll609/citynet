{
 "cells": [
  {
   "cell_type": "markdown",
   "id": "10609389",
   "metadata": {},
   "source": [
    "# Select relevant extracted wikidump files"
   ]
  },
  {
   "cell_type": "code",
   "execution_count": 38,
   "id": "f8524718",
   "metadata": {},
   "outputs": [],
   "source": [
    "import re\n",
    "import pandas as pd\n",
    "import os\n",
    "import time\n",
    "from tqdm.notebook import tqdm\n",
    "import unidecode"
   ]
  },
  {
   "cell_type": "markdown",
   "id": "fb2c9a31",
   "metadata": {},
   "source": [
    "## Functions"
   ]
  },
  {
   "cell_type": "code",
   "execution_count": 39,
   "id": "17c02e67",
   "metadata": {},
   "outputs": [],
   "source": [
    "# define functions for extracting metadata\n",
    "def find_id(string):\n",
    "    \"\"\"function to extract id from article\"\"\"\n",
    "    \n",
    "    id_pattern = 'id=\\\"\\d+\\\"'\n",
    "#     id_float = '[0-9]+'\n",
    "    \n",
    "    short_string = re.findall(id_pattern, string)[0]\n",
    "    quotation_sym = '\"'\n",
    "    start = short_string.index(quotation_sym) + len(quotation_sym)\n",
    "    end = short_string.index(quotation_sym, start + 1)\n",
    "    actual_id = int(short_string[start:end])\n",
    "\n",
    "#     actual_id = re.findall(id_float, short_string)\n",
    "    \n",
    "    return actual_id\n",
    " \n",
    "def find_url(string):\n",
    "    \"\"\"function to extract url from article\"\"\"\n",
    "    \n",
    "    url_pattern = 'https://en\\.wikipedia\\.org/[a-zA-z\\?=\\d]+'\n",
    "    \n",
    "    url = re.findall(url_pattern, string)\n",
    "    \n",
    "    return url[0]\n",
    "\n",
    "def find_title(string):\n",
    "    \"\"\"function to extract title from article\"\"\"\n",
    "    \n",
    "    pattern = 'title=\\\"[^>]+'\n",
    "    short_string = re.findall(pattern, string)[0]\n",
    "    \n",
    "    quotation_sym = '\"'\n",
    "    start = short_string.index(quotation_sym) + len(quotation_sym)\n",
    "    end = short_string.index(quotation_sym, start + 1)\n",
    "    title = short_string[start:end]\n",
    "    \n",
    "    return title"
   ]
  },
  {
   "cell_type": "code",
   "execution_count": 42,
   "id": "0f0564f7",
   "metadata": {},
   "outputs": [],
   "source": [
    "# function that checks if key words in corpus\n",
    "def list_in_corpus(list_of_words, text_corpus):\n",
    "    inclusion = False\n",
    "    count = 0\n",
    "    for word in list_of_words:\n",
    "        if count < 2: # only compare if inclusion condition has not yet been met\n",
    "            if word in text_corpus: \n",
    "                count += 1 # add 1 every time a city name is in the corpus\n",
    "        else: \n",
    "            pass\n",
    "    if count > 1: \n",
    "        inclusion = True \n",
    "        # thus the corpus is only marked for inclusion if \n",
    "        # at least two cities from the list have been mentioned\n",
    "    return inclusion"
   ]
  },
  {
   "cell_type": "code",
   "execution_count": 43,
   "id": "cda9abfa",
   "metadata": {},
   "outputs": [],
   "source": [
    "# function to split dumps into flat list\n",
    "\n",
    "def split_dump(input_dump, split_pattern = \"</doc>\"):\n",
    "    \"\"\"\n",
    "    splits list of wikidump documents into a flat list of articles\n",
    "    \n",
    "        Parameters:\n",
    "        -----------\n",
    "            input_dump:    a list of strings\n",
    "            key_words: list of strings, which should be included in the remaining articles\n",
    "            split_pattern: str, optional\n",
    "                string pattern at which the strings \n",
    "                should be split into articles. default = '<\\doc>'\n",
    "        \n",
    "    \"\"\"\n",
    "    \n",
    "    article_list = [\n",
    "        article for dump \n",
    "        in tqdm(input_dump, total = len(input_dump), desc = \"Progress\") \n",
    "        for article in dump.split(split_pattern)]\n",
    "    \n",
    "    return article_list"
   ]
  },
  {
   "cell_type": "code",
   "execution_count": 44,
   "id": "8ce77bf2",
   "metadata": {},
   "outputs": [],
   "source": [
    "## old list_in_corpus function\n",
    "# def list_in_corpus_dep(list_of_words, text_corpus):\n",
    "#     inclusion = False\n",
    "#     count = 0\n",
    "#     for word in list_of_words:\n",
    "#         if word in text_corpus:\n",
    "#             count += 1 # add 1 every time a city name is in the corpus\n",
    "#         else: \n",
    "#             pass\n",
    "#     if count > 1: \n",
    "#         inclusion = True \n",
    "#         # thus the corpus is only marked for inclusion if \n",
    "#         # at least two cities from the list have been mentioned\n",
    "#     return inclusion, count"
   ]
  },
  {
   "cell_type": "code",
   "execution_count": 45,
   "id": "e920ee06",
   "metadata": {},
   "outputs": [],
   "source": [
    "def process_dump(dump, key_words, message = True): \n",
    "    \"\"\"extracts titles and ids from articles containing key words and returns as a list\"\"\"\n",
    "    \n",
    "    articles = []\n",
    "    for article in tqdm(dump, total = len(dump), desc = \"Progress\"):\n",
    "        article = unidecode.unidecode(article)\n",
    "        if (list_in_corpus(cities_ls, article)):\n",
    "            try: \n",
    "                article_id = find_id(article)\n",
    "                title = find_title(article)\n",
    "                articles.append((article_id, title, article)) \n",
    "            except: \n",
    "                pass\n",
    "        else: \n",
    "            pass\n",
    "            \n",
    "    if message: \n",
    "        print(f\"After processing {len(articles)} articles remain, \" \n",
    "              f\"that is {round(((len(articles)/len(dump))*100), 2)}% \"\n",
    "              f\"of the total number of articles ({len(dump)}) in this dump.\")\n",
    "    \n",
    "    return articles"
   ]
  },
  {
   "cell_type": "markdown",
   "id": "3c37c758",
   "metadata": {},
   "source": [
    "## Load Data"
   ]
  },
  {
   "cell_type": "code",
   "execution_count": 46,
   "id": "1bc5b5ea",
   "metadata": {},
   "outputs": [],
   "source": [
    "# load articles from dump\n",
    "which_wiki = \"frwiki\"\n",
    "indir = f\"/Volumes/NIJMAN/THESIS/{which_wiki}_extracted\" # path/to/wikidump/extracted\n",
    "wikidump = [] # initialize empty list"
   ]
  },
  {
   "cell_type": "code",
   "execution_count": 47,
   "id": "ad9d4291",
   "metadata": {},
   "outputs": [
    {
     "name": "stdout",
     "output_type": "stream",
     "text": [
      "This took 87.24080204963684s.\n"
     ]
    }
   ],
   "source": [
    "t0 = time.time()\n",
    "fp_list = []\n",
    "\n",
    "for root, dirs, files in os.walk(indir):\n",
    "\n",
    "    for filename in files:\n",
    "        if not filename.startswith(\".\"): \n",
    "            fp = os.path.join(root, filename)\n",
    "#             fp_list.append(fp)\n",
    "            \n",
    "            with open(fp, 'r') as f: \n",
    "                wikidump.append(f.read())\n",
    "\n",
    "t1 = time.time()\n",
    "\n",
    "total = t1-t0\n",
    "print(f\"This took {total}s.\")"
   ]
  },
  {
   "cell_type": "code",
   "execution_count": 48,
   "id": "34d61995",
   "metadata": {
    "scrolled": true
   },
   "outputs": [
    {
     "data": {
      "text/plain": [
       "5384"
      ]
     },
     "execution_count": 48,
     "metadata": {},
     "output_type": "execute_result"
    }
   ],
   "source": [
    "len(wikidump)\n",
    "\n",
    "# enwiki length 16498\n",
    "# frwiki length 5384"
   ]
  },
  {
   "cell_type": "markdown",
   "id": "93014763",
   "metadata": {},
   "source": [
    "## City List"
   ]
  },
  {
   "cell_type": "code",
   "execution_count": 49,
   "id": "533b6329",
   "metadata": {},
   "outputs": [],
   "source": [
    "# load cities csv\n",
    "fp = '../input/List_of_cities_300k.csv' # path to csv with city information\n",
    "\n",
    "cities = pd.read_csv(fp, sep=';')\n"
   ]
  },
  {
   "cell_type": "code",
   "execution_count": 50,
   "id": "9a01fded",
   "metadata": {},
   "outputs": [],
   "source": [
    "# list of all cities\n",
    "name_col = 'Mua_Fr' # for french 'Mua_Fr'; for english Mua_Eng\n",
    "cities_ls = [city for city in cities[name_col]]\n",
    "\n",
    "# split combined citynames \n",
    "\n",
    "cities_ls = [city.split('-') for city in cities_ls] # splits Muas that are made up of multiple cities e.g. Essen-Oberhausen\n",
    "cities_ls = [city_component for city in cities_ls for city_component in city]\n",
    "cities_ls = [unidecode.unidecode(word) for word in cities_ls] # remove accents\n"
   ]
  },
  {
   "cell_type": "code",
   "execution_count": 51,
   "id": "8c22fbbf",
   "metadata": {},
   "outputs": [
    {
     "data": {
      "text/plain": [
       "['Paris',\n",
       " 'Londres',\n",
       " 'Madrid',\n",
       " 'Berlin',\n",
       " 'Milan',\n",
       " 'Barcelone',\n",
       " 'Athenes',\n",
       " 'Rome',\n",
       " 'Birmingham',\n",
       " 'Lisbonne',\n",
       " 'Naples',\n",
       " 'Katowice',\n",
       " 'Manchester',\n",
       " 'Hambourg',\n",
       " 'Budapest',\n",
       " 'Bucarest',\n",
       " 'Varsovie',\n",
       " 'Stuttgart',\n",
       " 'Vienne',\n",
       " 'Munich',\n",
       " 'Bruxelles',\n",
       " 'Stockholm',\n",
       " 'Francfort',\n",
       " 'Cologne',\n",
       " 'Copenhague',\n",
       " 'Valence',\n",
       " 'Turin',\n",
       " 'Glasgow',\n",
       " 'Prague',\n",
       " 'Lyon',\n",
       " 'Sofia',\n",
       " 'Liverpool',\n",
       " 'Porto',\n",
       " 'Seville',\n",
       " 'Dublin',\n",
       " 'Helsinki',\n",
       " 'Amsterdam',\n",
       " 'Rotterdam',\n",
       " 'Dusseldorf',\n",
       " 'Essen',\n",
       " 'Oberhausen',\n",
       " 'Lille',\n",
       " 'Lodz',\n",
       " 'Marseille',\n",
       " 'Anvers',\n",
       " 'Bilbao',\n",
       " 'Newcastle',\n",
       " 'Cracovie',\n",
       " 'Bochum',\n",
       " 'Herne',\n",
       " 'Thessalonique',\n",
       " 'Nuremberg',\n",
       " 'Riga',\n",
       " 'Duisbourg',\n",
       " 'Dortmund',\n",
       " 'Hanovre',\n",
       " 'Zurich',\n",
       " 'Oslo',\n",
       " 'Breme',\n",
       " 'Dresde',\n",
       " 'Sheffield',\n",
       " 'Palerme',\n",
       " 'Poznan',\n",
       " 'Gelsenkirchen',\n",
       " 'Bottrop',\n",
       " 'Bordeaux',\n",
       " 'Wroclaw',\n",
       " 'Goteborg',\n",
       " 'Gothembourg',\n",
       " 'Saragosse',\n",
       " 'Genes',\n",
       " 'Catane',\n",
       " 'La Haye',\n",
       " 'Toulouse',\n",
       " 'Bristol',\n",
       " 'Vilnius',\n",
       " 'Sarrebruck',\n",
       " 'Malaga',\n",
       " 'Nantes',\n",
       " 'Leeds',\n",
       " 'Nottingham',\n",
       " 'Florence',\n",
       " 'Gdansk',\n",
       " 'Leipzig',\n",
       " 'Mannheim',\n",
       " 'Belfast',\n",
       " 'Portsmouth',\n",
       " 'Venise',\n",
       " 'Edimbourg ',\n",
       " 'Murcie',\n",
       " 'Nice',\n",
       " 'Liege',\n",
       " 'Bratislava',\n",
       " 'Leicester',\n",
       " 'Karlsruhe',\n",
       " 'Bergame',\n",
       " 'Palma',\n",
       " 'Bologne',\n",
       " 'Bielefeld',\n",
       " 'Rouen',\n",
       " 'Strasbourg',\n",
       " 'Tallinn',\n",
       " 'Szczecin',\n",
       " 'Grenoble',\n",
       " 'Bari',\n",
       " 'Toulon',\n",
       " 'Brighton',\n",
       " 'Darmstadt',\n",
       " 'Wuppertal',\n",
       " 'Utrecht',\n",
       " 'Bournemouth',\n",
       " 'Middlesbrough',\n",
       " 'Geneve',\n",
       " 'Bydgoszcz',\n",
       " 'Bale',\n",
       " 'Kaunas',\n",
       " 'Brno',\n",
       " 'Southampton',\n",
       " 'Lens',\n",
       " 'Augsbourg',\n",
       " 'Padoue',\n",
       " 'Ostrava',\n",
       " 'Las Palmas de Grande Canarie',\n",
       " 'Constanta',\n",
       " 'Castellamare di Stabia',\n",
       " 'Torre Annunziata',\n",
       " 'Stoke',\n",
       " 'Santa Cruz de Tenerife',\n",
       " 'Lublin',\n",
       " 'Cardiff',\n",
       " 'Iasi',\n",
       " 'Plovdiv',\n",
       " 'Bradford',\n",
       " 'Alicante',\n",
       " 'Cluj',\n",
       " 'Napoca',\n",
       " 'Grenade',\n",
       " 'Timisoara',\n",
       " 'Brescia',\n",
       " 'Galati',\n",
       " 'Montpellier',\n",
       " 'Varna',\n",
       " 'Verone',\n",
       " 'Busto Arsizio',\n",
       " 'Valladolid',\n",
       " 'Eindhoven',\n",
       " 'Charleroi',\n",
       " 'Cordoue',\n",
       " 'La Cologne',\n",
       " 'Craiova',\n",
       " 'Caserte',\n",
       " 'Coventry',\n",
       " 'Brasov',\n",
       " 'Bonn',\n",
       " 'La Valette',\n",
       " 'Gand',\n",
       " 'Gdynia']"
      ]
     },
     "execution_count": 51,
     "metadata": {},
     "output_type": "execute_result"
    }
   ],
   "source": [
    "cities_ls"
   ]
  },
  {
   "cell_type": "markdown",
   "id": "81b27ab5",
   "metadata": {},
   "source": [
    "***"
   ]
  },
  {
   "cell_type": "markdown",
   "id": "b9e39ab1",
   "metadata": {},
   "source": [
    "## Fr Dump"
   ]
  },
  {
   "cell_type": "code",
   "execution_count": 52,
   "id": "16e413fc",
   "metadata": {},
   "outputs": [
    {
     "data": {
      "application/vnd.jupyter.widget-view+json": {
       "model_id": "207e88c1520e4a4aaefa25379ea5413d",
       "version_major": 2,
       "version_minor": 0
      },
      "text/plain": [
       "Progress:   0%|          | 0/5384 [00:00<?, ?it/s]"
      ]
     },
     "metadata": {},
     "output_type": "display_data"
    },
    {
     "data": {
      "text/plain": [
       "4045588"
      ]
     },
     "execution_count": 52,
     "metadata": {},
     "output_type": "execute_result"
    }
   ],
   "source": [
    "frwikidump = split_dump(wikidump)\n",
    "len(frwikidump)"
   ]
  },
  {
   "cell_type": "code",
   "execution_count": 53,
   "id": "d66f7494",
   "metadata": {
    "scrolled": true
   },
   "outputs": [
    {
     "data": {
      "application/vnd.jupyter.widget-view+json": {
       "model_id": "8105bba71e794df6b7e71818582511de",
       "version_major": 2,
       "version_minor": 0
      },
      "text/plain": [
       "Progress:   0%|          | 0/4045588 [00:00<?, ?it/s]"
      ]
     },
     "metadata": {},
     "output_type": "display_data"
    },
    {
     "name": "stdout",
     "output_type": "stream",
     "text": [
      "After processing 274639 articles remain, that is 6.79% of the total number of articles (4045588) in this dump.\n"
     ]
    }
   ],
   "source": [
    "p_frwikidump = process_dump(frwikidump, cities_ls)"
   ]
  },
  {
   "cell_type": "code",
   "execution_count": 54,
   "id": "98dc3642",
   "metadata": {},
   "outputs": [],
   "source": [
    "df = pd.DataFrame(p_frwikidump, columns = ['article_id', 'title', 'text'])\n",
    "outputfp = '../../../data/frwikidump.csv'\n",
    "df.to_csv(outputfp, index = False)"
   ]
  },
  {
   "cell_type": "code",
   "execution_count": 56,
   "id": "f91c5be1",
   "metadata": {},
   "outputs": [
    {
     "data": {
      "text/plain": [
       "<AxesSubplot:ylabel='Frequency'>"
      ]
     },
     "execution_count": 56,
     "metadata": {},
     "output_type": "execute_result"
    },
    {
     "data": {
      "image/png": "[encoded data removed]",
      "text/plain": [
       "<Figure size 432x288 with 1 Axes>"
      ]
     },
     "metadata": {
      "needs_background": "light"
     },
     "output_type": "display_data"
    }
   ],
   "source": [
    "df['length'] = [len(text.split()) for text in df.text]\n",
    "\n",
    "import matplotlib.pyplot as plt\n",
    "%matplotlib inline\n",
    "\n",
    "df['length'].plot.hist()"
   ]
  },
  {
   "cell_type": "code",
   "execution_count": 57,
   "id": "b055f2b4",
   "metadata": {},
   "outputs": [
    {
     "data": {
      "text/html": [
       "<div>\n",
       "<style scoped>\n",
       "    .dataframe tbody tr th:only-of-type {\n",
       "        vertical-align: middle;\n",
       "    }\n",
       "\n",
       "    .dataframe tbody tr th {\n",
       "        vertical-align: top;\n",
       "    }\n",
       "\n",
       "    .dataframe thead th {\n",
       "        text-align: right;\n",
       "    }\n",
       "</style>\n",
       "<table border=\"1\" class=\"dataframe\">\n",
       "  <thead>\n",
       "    <tr style=\"text-align: right;\">\n",
       "      <th></th>\n",
       "      <th>article_id</th>\n",
       "      <th>title</th>\n",
       "      <th>text</th>\n",
       "      <th>length</th>\n",
       "    </tr>\n",
       "  </thead>\n",
       "  <tbody>\n",
       "    <tr>\n",
       "      <th>127609</th>\n",
       "      <td>4550071</td>\n",
       "      <td>Liege-Rome-Liege</td>\n",
       "      <td>\\n&lt;doc id=\"4550071\" url=\"https://fr.wikipedia....</td>\n",
       "      <td>5</td>\n",
       "    </tr>\n",
       "    <tr>\n",
       "      <th>116675</th>\n",
       "      <td>3934340</td>\n",
       "      <td>Lyon-Turin</td>\n",
       "      <td>\\n&lt;doc id=\"3934340\" url=\"https://fr.wikipedia....</td>\n",
       "      <td>5</td>\n",
       "    </tr>\n",
       "    <tr>\n",
       "      <th>190275</th>\n",
       "      <td>8335484</td>\n",
       "      <td>Paris-Nice-Rome</td>\n",
       "      <td>\\n&lt;doc id=\"8335484\" url=\"https://fr.wikipedia....</td>\n",
       "      <td>5</td>\n",
       "    </tr>\n",
       "    <tr>\n",
       "      <th>90650</th>\n",
       "      <td>2518914</td>\n",
       "      <td>Athenes-Helsinki</td>\n",
       "      <td>\\n&lt;doc id=\"2518914\" url=\"https://fr.wikipedia....</td>\n",
       "      <td>5</td>\n",
       "    </tr>\n",
       "    <tr>\n",
       "      <th>254446</th>\n",
       "      <td>13456161</td>\n",
       "      <td>Paris-Lyon-Mediterranee</td>\n",
       "      <td>\\n&lt;doc id=\"13456161\" url=\"https://fr.wikipedia...</td>\n",
       "      <td>5</td>\n",
       "    </tr>\n",
       "    <tr>\n",
       "      <th>87630</th>\n",
       "      <td>2155965</td>\n",
       "      <td>Paris-Madrid</td>\n",
       "      <td>\\n&lt;doc id=\"2155965\" url=\"https://fr.wikipedia....</td>\n",
       "      <td>5</td>\n",
       "    </tr>\n",
       "    <tr>\n",
       "      <th>158067</th>\n",
       "      <td>6083427</td>\n",
       "      <td>Nice-Genes</td>\n",
       "      <td>\\n&lt;doc id=\"6083427\" url=\"https://fr.wikipedia....</td>\n",
       "      <td>5</td>\n",
       "    </tr>\n",
       "    <tr>\n",
       "      <th>178221</th>\n",
       "      <td>7375911</td>\n",
       "      <td>Paris-Bruxelles</td>\n",
       "      <td>\\n&lt;doc id=\"7375911\" url=\"https://fr.wikipedia....</td>\n",
       "      <td>5</td>\n",
       "    </tr>\n",
       "    <tr>\n",
       "      <th>150120</th>\n",
       "      <td>5625176</td>\n",
       "      <td>Bordeaux-Grenoble</td>\n",
       "      <td>\\n&lt;doc id=\"5625176\" url=\"https://fr.wikipedia....</td>\n",
       "      <td>5</td>\n",
       "    </tr>\n",
       "    <tr>\n",
       "      <th>87683</th>\n",
       "      <td>2168052</td>\n",
       "      <td>Axe Rome-Berlin</td>\n",
       "      <td>\\n&lt;doc id=\"2168052\" url=\"https://fr.wikipedia....</td>\n",
       "      <td>7</td>\n",
       "    </tr>\n",
       "    <tr>\n",
       "      <th>266304</th>\n",
       "      <td>14223412</td>\n",
       "      <td>LGV Bordeaux-Paris</td>\n",
       "      <td>\\n&lt;doc id=\"14223412\" url=\"https://fr.wikipedia...</td>\n",
       "      <td>7</td>\n",
       "    </tr>\n",
       "    <tr>\n",
       "      <th>235604</th>\n",
       "      <td>12161818</td>\n",
       "      <td>Paris-Strasbourg (marche)</td>\n",
       "      <td>\\n&lt;doc id=\"12161818\" url=\"https://fr.wikipedia...</td>\n",
       "      <td>7</td>\n",
       "    </tr>\n",
       "    <tr>\n",
       "      <th>245124</th>\n",
       "      <td>12819819</td>\n",
       "      <td>Ligne Berlin-Wroclaw</td>\n",
       "      <td>\\n&lt;doc id=\"12819819\" url=\"https://fr.wikipedia...</td>\n",
       "      <td>7</td>\n",
       "    </tr>\n",
       "    <tr>\n",
       "      <th>224728</th>\n",
       "      <td>11207568</td>\n",
       "      <td>Marasti, Cluj-Napoca</td>\n",
       "      <td>\\n&lt;doc id=\"11207568\" url=\"https://fr.wikipedia...</td>\n",
       "      <td>7</td>\n",
       "    </tr>\n",
       "    <tr>\n",
       "      <th>114008</th>\n",
       "      <td>3808447</td>\n",
       "      <td>Axe Rome-Berlin-Tokyo</td>\n",
       "      <td>\\n&lt;doc id=\"3808447\" url=\"https://fr.wikipedia....</td>\n",
       "      <td>7</td>\n",
       "    </tr>\n",
       "    <tr>\n",
       "      <th>88263</th>\n",
       "      <td>2257216</td>\n",
       "      <td>Ligne Paris-Marseille</td>\n",
       "      <td>\\n&lt;doc id=\"2257216\" url=\"https://fr.wikipedia....</td>\n",
       "      <td>7</td>\n",
       "    </tr>\n",
       "    <tr>\n",
       "      <th>130744</th>\n",
       "      <td>4725417</td>\n",
       "      <td>LGV Madrid-Lisbonne</td>\n",
       "      <td>\\n&lt;doc id=\"4725417\" url=\"https://fr.wikipedia....</td>\n",
       "      <td>7</td>\n",
       "    </tr>\n",
       "    <tr>\n",
       "      <th>124876</th>\n",
       "      <td>4352706</td>\n",
       "      <td>Brighton Sheffield</td>\n",
       "      <td>\\n&lt;doc id=\"4352706\" url=\"https://fr.wikipedia....</td>\n",
       "      <td>7</td>\n",
       "    </tr>\n",
       "    <tr>\n",
       "      <th>109228</th>\n",
       "      <td>3566035</td>\n",
       "      <td>LGV Madrid-Saragosse-Huesca</td>\n",
       "      <td>\\n&lt;doc id=\"3566035\" url=\"https://fr.wikipedia....</td>\n",
       "      <td>7</td>\n",
       "    </tr>\n",
       "    <tr>\n",
       "      <th>200006</th>\n",
       "      <td>9296512</td>\n",
       "      <td>Barij Essence</td>\n",
       "      <td>\\n&lt;doc id=\"9296512\" url=\"https://fr.wikipedia....</td>\n",
       "      <td>7</td>\n",
       "    </tr>\n",
       "  </tbody>\n",
       "</table>\n",
       "</div>"
      ],
      "text/plain": [
       "        article_id                        title  \\\n",
       "127609     4550071             Liege-Rome-Liege   \n",
       "116675     3934340                   Lyon-Turin   \n",
       "190275     8335484              Paris-Nice-Rome   \n",
       "90650      2518914             Athenes-Helsinki   \n",
       "254446    13456161      Paris-Lyon-Mediterranee   \n",
       "87630      2155965                 Paris-Madrid   \n",
       "158067     6083427                   Nice-Genes   \n",
       "178221     7375911              Paris-Bruxelles   \n",
       "150120     5625176            Bordeaux-Grenoble   \n",
       "87683      2168052              Axe Rome-Berlin   \n",
       "266304    14223412           LGV Bordeaux-Paris   \n",
       "235604    12161818    Paris-Strasbourg (marche)   \n",
       "245124    12819819         Ligne Berlin-Wroclaw   \n",
       "224728    11207568         Marasti, Cluj-Napoca   \n",
       "114008     3808447        Axe Rome-Berlin-Tokyo   \n",
       "88263      2257216        Ligne Paris-Marseille   \n",
       "130744     4725417          LGV Madrid-Lisbonne   \n",
       "124876     4352706           Brighton Sheffield   \n",
       "109228     3566035  LGV Madrid-Saragosse-Huesca   \n",
       "200006     9296512                Barij Essence   \n",
       "\n",
       "                                                     text  length  \n",
       "127609  \\n<doc id=\"4550071\" url=\"https://fr.wikipedia....       5  \n",
       "116675  \\n<doc id=\"3934340\" url=\"https://fr.wikipedia....       5  \n",
       "190275  \\n<doc id=\"8335484\" url=\"https://fr.wikipedia....       5  \n",
       "90650   \\n<doc id=\"2518914\" url=\"https://fr.wikipedia....       5  \n",
       "254446  \\n<doc id=\"13456161\" url=\"https://fr.wikipedia...       5  \n",
       "87630   \\n<doc id=\"2155965\" url=\"https://fr.wikipedia....       5  \n",
       "158067  \\n<doc id=\"6083427\" url=\"https://fr.wikipedia....       5  \n",
       "178221  \\n<doc id=\"7375911\" url=\"https://fr.wikipedia....       5  \n",
       "150120  \\n<doc id=\"5625176\" url=\"https://fr.wikipedia....       5  \n",
       "87683   \\n<doc id=\"2168052\" url=\"https://fr.wikipedia....       7  \n",
       "266304  \\n<doc id=\"14223412\" url=\"https://fr.wikipedia...       7  \n",
       "235604  \\n<doc id=\"12161818\" url=\"https://fr.wikipedia...       7  \n",
       "245124  \\n<doc id=\"12819819\" url=\"https://fr.wikipedia...       7  \n",
       "224728  \\n<doc id=\"11207568\" url=\"https://fr.wikipedia...       7  \n",
       "114008  \\n<doc id=\"3808447\" url=\"https://fr.wikipedia....       7  \n",
       "88263   \\n<doc id=\"2257216\" url=\"https://fr.wikipedia....       7  \n",
       "130744  \\n<doc id=\"4725417\" url=\"https://fr.wikipedia....       7  \n",
       "124876  \\n<doc id=\"4352706\" url=\"https://fr.wikipedia....       7  \n",
       "109228  \\n<doc id=\"3566035\" url=\"https://fr.wikipedia....       7  \n",
       "200006  \\n<doc id=\"9296512\" url=\"https://fr.wikipedia....       7  "
      ]
     },
     "execution_count": 57,
     "metadata": {},
     "output_type": "execute_result"
    }
   ],
   "source": [
    "df.sort_values('length', ascending=True).head(20)"
   ]
  },
  {
   "cell_type": "code",
   "execution_count": 58,
   "id": "f80e2c7f",
   "metadata": {},
   "outputs": [
    {
     "data": {
      "text/plain": [
       "'\\n<doc id=\"3934340\" url=\"https://fr.wikipedia.org/wiki?curid=3934340\" title=\"Lyon-Turin\">\\nLyon-Turin\\n\\n\\n\\n'"
      ]
     },
     "execution_count": 58,
     "metadata": {},
     "output_type": "execute_result"
    }
   ],
   "source": [
    "df.text[116675]"
   ]
  },
  {
   "cell_type": "markdown",
   "id": "9d3f4691",
   "metadata": {},
   "source": [
    "## En Dump 1"
   ]
  },
  {
   "cell_type": "code",
   "execution_count": 12,
   "id": "b0f6a2d4",
   "metadata": {
    "scrolled": true
   },
   "outputs": [
    {
     "data": {
      "application/vnd.jupyter.widget-view+json": {
       "model_id": "3ac62fca06ab466e8c1141836f2d2623",
       "version_major": 2,
       "version_minor": 0
      },
      "text/plain": [
       "Progress:   0%|          | 0/8249 [00:00<?, ?it/s]"
      ]
     },
     "metadata": {},
     "output_type": "display_data"
    }
   ],
   "source": [
    "# extract articles from first half of dump\n",
    "wikidump1 = split_dump(wikidump[:round(len(wikidump)/2)])"
   ]
  },
  {
   "cell_type": "code",
   "execution_count": 14,
   "id": "4dc10ebf",
   "metadata": {},
   "outputs": [
    {
     "name": "stdout",
     "output_type": "stream",
     "text": [
      "5090764\n"
     ]
    }
   ],
   "source": [
    "wikilength1 = len(wikidump1) #5090764\n",
    "print(wikilength1)"
   ]
  },
  {
   "cell_type": "code",
   "execution_count": 15,
   "id": "9fbc213c",
   "metadata": {},
   "outputs": [
    {
     "data": {
      "application/vnd.jupyter.widget-view+json": {
       "model_id": "f679dc78d2654e7f9d46502ffdcb00af",
       "version_major": 2,
       "version_minor": 0
      },
      "text/plain": [
       "Progress:   0%|          | 0/5090764 [00:00<?, ?it/s]"
      ]
     },
     "metadata": {},
     "output_type": "display_data"
    },
    {
     "name": "stdout",
     "output_type": "stream",
     "text": [
      "After processing 232260 articles remain, that is 4.56% of the total number of articles (232260) in this dump.\n"
     ]
    }
   ],
   "source": [
    "p_wikidump1 = process_dump(wikidump1, cities_ls)"
   ]
  },
  {
   "cell_type": "code",
   "execution_count": 17,
   "id": "a6ca6071",
   "metadata": {},
   "outputs": [
    {
     "name": "stdout",
     "output_type": "stream",
     "text": [
      "232260\n"
     ]
    }
   ],
   "source": [
    "p_wikilength1 = len(p_wikidump1) #232260\n",
    "\n",
    "print(p_wikilength1)"
   ]
  },
  {
   "cell_type": "code",
   "execution_count": 5,
   "id": "34cc9ca8",
   "metadata": {},
   "outputs": [],
   "source": [
    "# save to .csv\n",
    "\n",
    "df = pd.DataFrame(p_wikidump1, columns = ['article_id', 'title', 'text'])\n",
    "outputfp = '../../../data/enwikidump1.csv'\n",
    "df.to_csv(outputfp, index = False)"
   ]
  },
  {
   "cell_type": "markdown",
   "id": "c85ac1a2",
   "metadata": {},
   "source": [
    "## En Dump2"
   ]
  },
  {
   "cell_type": "code",
   "execution_count": 12,
   "id": "05f654b1",
   "metadata": {},
   "outputs": [
    {
     "data": {
      "application/vnd.jupyter.widget-view+json": {
       "model_id": "e6abea22659a4ca59125936b3efc204c",
       "version_major": 2,
       "version_minor": 0
      },
      "text/plain": [
       "Progress:   0%|          | 0/8249 [00:00<?, ?it/s]"
      ]
     },
     "metadata": {},
     "output_type": "display_data"
    }
   ],
   "source": [
    "# extract articles from second half of dump\n",
    "wikidump2 = split_dump(wikidump[round(len(wikidump)/2):])"
   ]
  },
  {
   "cell_type": "code",
   "execution_count": 13,
   "id": "e50b46de",
   "metadata": {},
   "outputs": [
    {
     "name": "stdout",
     "output_type": "stream",
     "text": [
      "11305922\n"
     ]
    }
   ],
   "source": [
    "wikilength2 = len(wikidump2) # 11305922\n",
    "# wikilength2 = nr that it should be\n",
    "\n",
    "print(wikilength2)"
   ]
  },
  {
   "cell_type": "code",
   "execution_count": 19,
   "id": "e28e3056",
   "metadata": {},
   "outputs": [
    {
     "name": "stdout",
     "output_type": "stream",
     "text": [
      "nr of articles in the enwiki dump is 16396686.\n"
     ]
    }
   ],
   "source": [
    "wikilength1 = 5090764 #len(wikidump1)\n",
    "wikilength2 = 11305922 #len(wikidump2)\n",
    "wikilength = wikilength1 + wikilength2\n",
    "\n",
    "print(f\"nr of articles in the enwiki dump is {wikilength}.\")"
   ]
  },
  {
   "cell_type": "code",
   "execution_count": 15,
   "id": "28675ffb",
   "metadata": {},
   "outputs": [
    {
     "data": {
      "application/vnd.jupyter.widget-view+json": {
       "model_id": "4e07a9b2ed3446488f231b7cbf3efa14",
       "version_major": 2,
       "version_minor": 0
      },
      "text/plain": [
       "Progress:   0%|          | 0/11305922 [01:01<?, ?it/s]"
      ]
     },
     "metadata": {},
     "output_type": "display_data"
    },
    {
     "name": "stdout",
     "output_type": "stream",
     "text": [
      "After processing 277634 articles remain, that is 2.46% of the total number of articles (11305922) in this dump.\n"
     ]
    }
   ],
   "source": [
    "p_wikidump2 = process_dump(wikidump2, cities_ls)"
   ]
  },
  {
   "cell_type": "code",
   "execution_count": 17,
   "id": "e03992c7",
   "metadata": {},
   "outputs": [
    {
     "name": "stdout",
     "output_type": "stream",
     "text": [
      "277634\n"
     ]
    }
   ],
   "source": [
    "p_wikilength2 = len(p_wikidump2) # 277634\n",
    "# p_wikilength2 = 'nr that should actually go here'\n",
    "print(p_wikilength2)"
   ]
  },
  {
   "cell_type": "code",
   "execution_count": 18,
   "id": "ef309506",
   "metadata": {},
   "outputs": [
    {
     "name": "stdout",
     "output_type": "stream",
     "text": [
      "509894\n"
     ]
    }
   ],
   "source": [
    "p_wikilength1 = 232260\n",
    "p_wikilength2 = 277634\n",
    "\n",
    "p_wikilength = p_wikilength1 + p_wikilength2 # 509894\n",
    "print(p_wikilength)"
   ]
  },
  {
   "cell_type": "code",
   "execution_count": 21,
   "id": "91e62f62",
   "metadata": {},
   "outputs": [],
   "source": [
    "# save to .csv\n",
    "df = pd.DataFrame(p_wikidump2, columns = ['article_id', 'title', 'text'])\n",
    "outputfp = f'../../../data/enwikidump2.csv'\n",
    "df.to_csv(outputfp, index = False)"
   ]
  },
  {
   "cell_type": "code",
   "execution_count": 20,
   "id": "dcb77072",
   "metadata": {},
   "outputs": [],
   "source": [
    "# dumps = [p_wikidump1, p_wikidump2]\n",
    "# for i in range(2): \n",
    "#     df = pd.DataFrame(dumps[i], columns = ['article_id', 'title', 'text'])\n",
    "#     outputfp = f'../../../data/enwikidump{i+1}.csv'\n",
    "#     df.to_csv(outputfp)\n",
    "    "
   ]
  },
  {
   "cell_type": "code",
   "execution_count": 25,
   "id": "54749061",
   "metadata": {},
   "outputs": [
    {
     "name": "stdout",
     "output_type": "stream",
     "text": [
      "After processing 509894 articles remain, that is 3.11% of the total number of articles (16396686) in this dump.\n"
     ]
    }
   ],
   "source": [
    "print(\n",
    "    f\"After processing {p_wikilength} articles remain, \" \n",
    "    f\"that is {round(((p_wikilength/wikilength)*100), 2)}% \"\n",
    "    f\"of the total number of articles ({wikilength}) in this dump.\"\n",
    ")"
   ]
  },
  {
   "cell_type": "code",
   "execution_count": null,
   "id": "73897837",
   "metadata": {},
   "outputs": [],
   "source": []
  },
  {
   "cell_type": "markdown",
   "id": "cf347c58",
   "metadata": {},
   "source": [
    "***"
   ]
  }
 ],
 "metadata": {
  "kernelspec": {
   "display_name": "Python 3 (ipykernel)",
   "language": "python",
   "name": "python3"
  },
  "language_info": {
   "codemirror_mode": {
    "name": "ipython",
    "version": 3
   },
   "file_extension": ".py",
   "mimetype": "text/x-python",
   "name": "python",
   "nbconvert_exporter": "python",
   "pygments_lexer": "ipython3",
   "version": "3.10.4"
  }
 },
 "nbformat": 4,
 "nbformat_minor": 5
}
