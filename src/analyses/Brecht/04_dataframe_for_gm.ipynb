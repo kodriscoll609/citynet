{
 "cells": [
  {
   "cell_type": "markdown",
   "id": "ebfbafb7",
   "metadata": {},
   "source": [
    "# Creation of dataframe for gravity model\n",
    "\n",
    "This notebook combines the city data frame from notebook 03 and the co-occurrence data from notebook 01 into one dataframe. The combined dataframe is then used to calculate the distances between the cities as needed for the gravity model.\n",
    "\n",
    "Add Dummies for Borders, Region and Language Sphere.\n",
    "\n",
    "Furthermore LineString objects are created for the connection between each city (for mapping).\n",
    "\n",
    "## Required Input\n",
    "All required input is available within this repository\n",
    "\n",
    "## Creates the following output\n",
    "saved as a .csv at `../../output/edges.csv`  \n",
    "saved as a shapefile at `../../output/maps/edges.shp`  \n",
    "\n",
    "also versions without only the city links that appear in both corpuses  \n",
    "saved as a .csv at `../../output/edges_nz.csv`   \n",
    "saved as a shapefile at `../../output/maps/edges_nz.shp` "
   ]
  },
  {
   "cell_type": "code",
   "execution_count": 1,
   "id": "20e78767",
   "metadata": {},
   "outputs": [],
   "source": [
    "import pandas as pd\n",
    "import geopandas as gpd\n",
    "import numpy as np\n",
    "import os\n",
    "import re\n",
    "from tqdm.notebook import tqdm\n",
    "import unidecode\n",
    "from collections import Counter\n",
    "from shapely.geometry import Point, LineString, Polygon"
   ]
  },
  {
   "cell_type": "markdown",
   "id": "6fd8b71f",
   "metadata": {},
   "source": [
    "## Functions"
   ]
  },
  {
   "cell_type": "code",
   "execution_count": 2,
   "id": "41313ca5",
   "metadata": {},
   "outputs": [],
   "source": [
    "# creates a shapely line object between the two city points\n",
    "def create_edge(row):\n",
    "    edge = LineString([row['geometry_A'], row['geometry_B']])\n",
    "    return edge"
   ]
  },
  {
   "cell_type": "markdown",
   "id": "64ce967e",
   "metadata": {},
   "source": [
    "## Load Data"
   ]
  },
  {
   "cell_type": "code",
   "execution_count": 3,
   "id": "ce17d1f7",
   "metadata": {},
   "outputs": [],
   "source": [
    "INDIR = \"../../input\"\n",
    "OUTDIR = \"../../output\"\n",
    "FILE_cities = \"List_of_cities_300k.csv\"\n",
    "FILE_enpair = \"citypairs_en.csv\"\n",
    "FILE_frpair = \"citypairs_fr.csv\""
   ]
  },
  {
   "cell_type": "code",
   "execution_count": 4,
   "id": "107628cb",
   "metadata": {},
   "outputs": [
    {
     "data": {
      "text/plain": [
       "<Derived Projected CRS: EPSG:3035>\n",
       "Name: ETRS89-extended / LAEA Europe\n",
       "Axis Info [cartesian]:\n",
       "- Y[north]: Northing (metre)\n",
       "- X[east]: Easting (metre)\n",
       "Area of Use:\n",
       "- name: Europe - European Union (EU) countries and candidates. Europe - onshore and offshore: Albania; Andorra; Austria; Belgium; Bosnia and Herzegovina; Bulgaria; Croatia; Cyprus; Czechia; Denmark; Estonia; Faroe Islands; Finland; France; Germany; Gibraltar; Greece; Hungary; Iceland; Ireland; Italy; Kosovo; Latvia; Liechtenstein; Lithuania; Luxembourg; Malta; Monaco; Montenegro; Netherlands; North Macedonia; Norway including Svalbard and Jan Mayen; Poland; Portugal including Madeira and Azores; Romania; San Marino; Serbia; Slovakia; Slovenia; Spain including Canary Islands; Sweden; Switzerland; Turkey; United Kingdom (UK) including Channel Islands and Isle of Man; Vatican City State.\n",
       "- bounds: (-35.58, 24.6, 44.83, 84.73)\n",
       "Coordinate Operation:\n",
       "- name: Europe Equal Area 2001\n",
       "- method: Lambert Azimuthal Equal Area\n",
       "Datum: European Terrestrial Reference System 1989 ensemble\n",
       "- Ellipsoid: GRS 1980\n",
       "- Prime Meridian: Greenwich"
      ]
     },
     "execution_count": 4,
     "metadata": {},
     "output_type": "execute_result"
    }
   ],
   "source": [
    "# load the nodes dataset\n",
    "fp = os.path.join(INDIR, \"maps/nodes.shp\")\n",
    "gdf = gpd.read_file(fp)\n",
    "\n",
    "# change projection CRS (needed for distance calculation later on)\n",
    "gdf = gdf.to_crs('EPSG:3035')\n",
    "gdf.crs"
   ]
  },
  {
   "cell_type": "code",
   "execution_count": 5,
   "id": "229f5d8b",
   "metadata": {},
   "outputs": [
    {
     "data": {
      "text/plain": [
       "<AxesSubplot:>"
      ]
     },
     "execution_count": 5,
     "metadata": {},
     "output_type": "execute_result"
    },
    {
     "data": {
      "image/png": "[encoded data removed]",
      "text/plain": [
       "<Figure size 432x288 with 1 Axes>"
      ]
     },
     "metadata": {
      "needs_background": "light"
     },
     "output_type": "display_data"
    }
   ],
   "source": [
    "gdf.plot()"
   ]
  },
  {
   "cell_type": "code",
   "execution_count": 6,
   "id": "541bb2c2",
   "metadata": {},
   "outputs": [],
   "source": [
    "# load the pairs datasets\n",
    "pairs_df_en = pd.read_csv(os.path.join(OUTDIR, FILE_enpair))\n",
    "pairs_df_fr = pd.read_csv(os.path.join(OUTDIR, FILE_frpair))"
   ]
  },
  {
   "cell_type": "markdown",
   "id": "af6b654d",
   "metadata": {},
   "source": [
    "## Edges"
   ]
  },
  {
   "cell_type": "code",
   "execution_count": 7,
   "id": "6dcb5c44",
   "metadata": {},
   "outputs": [
    {
     "data": {
      "text/html": [
       "<div>\n",
       "<style scoped>\n",
       "    .dataframe tbody tr th:only-of-type {\n",
       "        vertical-align: middle;\n",
       "    }\n",
       "\n",
       "    .dataframe tbody tr th {\n",
       "        vertical-align: top;\n",
       "    }\n",
       "\n",
       "    .dataframe thead th {\n",
       "        text-align: right;\n",
       "    }\n",
       "</style>\n",
       "<table border=\"1\" class=\"dataframe\">\n",
       "  <thead>\n",
       "    <tr style=\"text-align: right;\">\n",
       "      <th></th>\n",
       "      <th>city_A</th>\n",
       "      <th>city_B</th>\n",
       "      <th>col_en</th>\n",
       "    </tr>\n",
       "  </thead>\n",
       "  <tbody>\n",
       "    <tr>\n",
       "      <th>0</th>\n",
       "      <td>Paris</td>\n",
       "      <td>London</td>\n",
       "      <td>21874.0</td>\n",
       "    </tr>\n",
       "    <tr>\n",
       "      <th>1</th>\n",
       "      <td>Paris</td>\n",
       "      <td>Madrid</td>\n",
       "      <td>3394.0</td>\n",
       "    </tr>\n",
       "    <tr>\n",
       "      <th>2</th>\n",
       "      <td>Paris</td>\n",
       "      <td>Berlin</td>\n",
       "      <td>7899.0</td>\n",
       "    </tr>\n",
       "    <tr>\n",
       "      <th>3</th>\n",
       "      <td>Paris</td>\n",
       "      <td>Milan</td>\n",
       "      <td>3342.0</td>\n",
       "    </tr>\n",
       "    <tr>\n",
       "      <th>4</th>\n",
       "      <td>Paris</td>\n",
       "      <td>Barcelona</td>\n",
       "      <td>2397.0</td>\n",
       "    </tr>\n",
       "  </tbody>\n",
       "</table>\n",
       "</div>"
      ],
      "text/plain": [
       "  city_A     city_B   col_en\n",
       "0  Paris     London  21874.0\n",
       "1  Paris     Madrid   3394.0\n",
       "2  Paris     Berlin   7899.0\n",
       "3  Paris      Milan   3342.0\n",
       "4  Paris  Barcelona   2397.0"
      ]
     },
     "execution_count": 7,
     "metadata": {},
     "output_type": "execute_result"
    }
   ],
   "source": [
    "pairs_df_en.head()"
   ]
  },
  {
   "cell_type": "code",
   "execution_count": 8,
   "id": "8a801b39",
   "metadata": {},
   "outputs": [],
   "source": [
    "# remove accents from names to enable join\n",
    "gdf['MUA'] = [unidecode.unidecode(city) for city in gdf['MUA']]"
   ]
  },
  {
   "cell_type": "code",
   "execution_count": 9,
   "id": "a2f4dd0f",
   "metadata": {},
   "outputs": [],
   "source": [
    "# join on city_A\n",
    "edges = pd.merge(pairs_df_en, gdf, how='left', left_on = 'city_A', right_on = 'MUA')"
   ]
  },
  {
   "cell_type": "code",
   "execution_count": 10,
   "id": "8f54db4d",
   "metadata": {},
   "outputs": [],
   "source": [
    "# join on city_B\n",
    "edges = pd.merge(edges, gdf, how='left', left_on = 'city_B', right_on = 'MUA', suffixes=('_A', '_B'))"
   ]
  },
  {
   "cell_type": "code",
   "execution_count": 11,
   "id": "739c751e",
   "metadata": {},
   "outputs": [
    {
     "data": {
      "text/html": [
       "<div>\n",
       "<style scoped>\n",
       "    .dataframe tbody tr th:only-of-type {\n",
       "        vertical-align: middle;\n",
       "    }\n",
       "\n",
       "    .dataframe tbody tr th {\n",
       "        vertical-align: top;\n",
       "    }\n",
       "\n",
       "    .dataframe thead th {\n",
       "        text-align: right;\n",
       "    }\n",
       "</style>\n",
       "<table border=\"1\" class=\"dataframe\">\n",
       "  <thead>\n",
       "    <tr style=\"text-align: right;\">\n",
       "      <th></th>\n",
       "      <th>city_A</th>\n",
       "      <th>city_B</th>\n",
       "      <th>col_en</th>\n",
       "      <th>MUA_A</th>\n",
       "      <th>POP_A</th>\n",
       "      <th>CC_A</th>\n",
       "      <th>WEST_A</th>\n",
       "      <th>SOUTH_A</th>\n",
       "      <th>NORTH_A</th>\n",
       "      <th>CEAST_A</th>\n",
       "      <th>...</th>\n",
       "      <th>POP_B</th>\n",
       "      <th>CC_B</th>\n",
       "      <th>WEST_B</th>\n",
       "      <th>SOUTH_B</th>\n",
       "      <th>NORTH_B</th>\n",
       "      <th>CEAST_B</th>\n",
       "      <th>REGION_B</th>\n",
       "      <th>EN_DUM_B</th>\n",
       "      <th>FR_DUM_B</th>\n",
       "      <th>geometry_B</th>\n",
       "    </tr>\n",
       "  </thead>\n",
       "  <tbody>\n",
       "    <tr>\n",
       "      <th>0</th>\n",
       "      <td>Paris</td>\n",
       "      <td>London</td>\n",
       "      <td>21874.0</td>\n",
       "      <td>Paris</td>\n",
       "      <td>9591</td>\n",
       "      <td>FR</td>\n",
       "      <td>1</td>\n",
       "      <td>0</td>\n",
       "      <td>0</td>\n",
       "      <td>0</td>\n",
       "      <td>...</td>\n",
       "      <td>8256</td>\n",
       "      <td>UK</td>\n",
       "      <td>1</td>\n",
       "      <td>0</td>\n",
       "      <td>0</td>\n",
       "      <td>0</td>\n",
       "      <td>west</td>\n",
       "      <td>1</td>\n",
       "      <td>0</td>\n",
       "      <td>POINT (3623219.566 3204183.954)</td>\n",
       "    </tr>\n",
       "    <tr>\n",
       "      <th>1</th>\n",
       "      <td>Paris</td>\n",
       "      <td>Madrid</td>\n",
       "      <td>3394.0</td>\n",
       "      <td>Paris</td>\n",
       "      <td>9591</td>\n",
       "      <td>FR</td>\n",
       "      <td>1</td>\n",
       "      <td>0</td>\n",
       "      <td>0</td>\n",
       "      <td>0</td>\n",
       "      <td>...</td>\n",
       "      <td>4955</td>\n",
       "      <td>ES</td>\n",
       "      <td>0</td>\n",
       "      <td>1</td>\n",
       "      <td>0</td>\n",
       "      <td>0</td>\n",
       "      <td>south</td>\n",
       "      <td>0</td>\n",
       "      <td>0</td>\n",
       "      <td>POINT (3161798.324 2030549.871)</td>\n",
       "    </tr>\n",
       "    <tr>\n",
       "      <th>2</th>\n",
       "      <td>Paris</td>\n",
       "      <td>Berlin</td>\n",
       "      <td>7899.0</td>\n",
       "      <td>Paris</td>\n",
       "      <td>9591</td>\n",
       "      <td>FR</td>\n",
       "      <td>1</td>\n",
       "      <td>0</td>\n",
       "      <td>0</td>\n",
       "      <td>0</td>\n",
       "      <td>...</td>\n",
       "      <td>3776</td>\n",
       "      <td>DE</td>\n",
       "      <td>1</td>\n",
       "      <td>0</td>\n",
       "      <td>0</td>\n",
       "      <td>0</td>\n",
       "      <td>west</td>\n",
       "      <td>0</td>\n",
       "      <td>0</td>\n",
       "      <td>POINT (4552085.153 3273010.955)</td>\n",
       "    </tr>\n",
       "    <tr>\n",
       "      <th>3</th>\n",
       "      <td>Paris</td>\n",
       "      <td>Milan</td>\n",
       "      <td>3342.0</td>\n",
       "      <td>Paris</td>\n",
       "      <td>9591</td>\n",
       "      <td>FR</td>\n",
       "      <td>1</td>\n",
       "      <td>0</td>\n",
       "      <td>0</td>\n",
       "      <td>0</td>\n",
       "      <td>...</td>\n",
       "      <td>3698</td>\n",
       "      <td>IT</td>\n",
       "      <td>0</td>\n",
       "      <td>1</td>\n",
       "      <td>0</td>\n",
       "      <td>0</td>\n",
       "      <td>south</td>\n",
       "      <td>0</td>\n",
       "      <td>0</td>\n",
       "      <td>POINT (4256391.191 2484870.286)</td>\n",
       "    </tr>\n",
       "    <tr>\n",
       "      <th>4</th>\n",
       "      <td>Paris</td>\n",
       "      <td>Barcelona</td>\n",
       "      <td>2397.0</td>\n",
       "      <td>Paris</td>\n",
       "      <td>9591</td>\n",
       "      <td>FR</td>\n",
       "      <td>1</td>\n",
       "      <td>0</td>\n",
       "      <td>0</td>\n",
       "      <td>0</td>\n",
       "      <td>...</td>\n",
       "      <td>3659</td>\n",
       "      <td>ES</td>\n",
       "      <td>0</td>\n",
       "      <td>1</td>\n",
       "      <td>0</td>\n",
       "      <td>0</td>\n",
       "      <td>south</td>\n",
       "      <td>0</td>\n",
       "      <td>0</td>\n",
       "      <td>POINT (3664331.118 2067683.425)</td>\n",
       "    </tr>\n",
       "  </tbody>\n",
       "</table>\n",
       "<p>5 rows × 25 columns</p>\n",
       "</div>"
      ],
      "text/plain": [
       "  city_A     city_B   col_en  MUA_A  POP_A CC_A  WEST_A  SOUTH_A  NORTH_A  \\\n",
       "0  Paris     London  21874.0  Paris   9591   FR       1        0        0   \n",
       "1  Paris     Madrid   3394.0  Paris   9591   FR       1        0        0   \n",
       "2  Paris     Berlin   7899.0  Paris   9591   FR       1        0        0   \n",
       "3  Paris      Milan   3342.0  Paris   9591   FR       1        0        0   \n",
       "4  Paris  Barcelona   2397.0  Paris   9591   FR       1        0        0   \n",
       "\n",
       "   CEAST_A  ... POP_B  CC_B  WEST_B SOUTH_B NORTH_B  CEAST_B REGION_B  \\\n",
       "0        0  ...  8256    UK       1       0       0        0     west   \n",
       "1        0  ...  4955    ES       0       1       0        0    south   \n",
       "2        0  ...  3776    DE       1       0       0        0     west   \n",
       "3        0  ...  3698    IT       0       1       0        0    south   \n",
       "4        0  ...  3659    ES       0       1       0        0    south   \n",
       "\n",
       "   EN_DUM_B  FR_DUM_B                       geometry_B  \n",
       "0         1         0  POINT (3623219.566 3204183.954)  \n",
       "1         0         0  POINT (3161798.324 2030549.871)  \n",
       "2         0         0  POINT (4552085.153 3273010.955)  \n",
       "3         0         0  POINT (4256391.191 2484870.286)  \n",
       "4         0         0  POINT (3664331.118 2067683.425)  \n",
       "\n",
       "[5 rows x 25 columns]"
      ]
     },
     "execution_count": 11,
     "metadata": {},
     "output_type": "execute_result"
    }
   ],
   "source": [
    "edges.head()"
   ]
  },
  {
   "cell_type": "code",
   "execution_count": 12,
   "id": "c6739683",
   "metadata": {},
   "outputs": [],
   "source": [
    "# add the french collocations\n",
    "edges['col_fr'] = pairs_df_fr['col_fr'].copy()"
   ]
  },
  {
   "cell_type": "markdown",
   "id": "ee25bc2c",
   "metadata": {},
   "source": [
    "### Create LineString Edges"
   ]
  },
  {
   "cell_type": "code",
   "execution_count": 13,
   "id": "d252d253",
   "metadata": {
    "scrolled": false
   },
   "outputs": [
    {
     "data": {
      "text/html": [
       "<div>\n",
       "<style scoped>\n",
       "    .dataframe tbody tr th:only-of-type {\n",
       "        vertical-align: middle;\n",
       "    }\n",
       "\n",
       "    .dataframe tbody tr th {\n",
       "        vertical-align: top;\n",
       "    }\n",
       "\n",
       "    .dataframe thead th {\n",
       "        text-align: right;\n",
       "    }\n",
       "</style>\n",
       "<table border=\"1\" class=\"dataframe\">\n",
       "  <thead>\n",
       "    <tr style=\"text-align: right;\">\n",
       "      <th></th>\n",
       "      <th>city_A</th>\n",
       "      <th>city_B</th>\n",
       "      <th>col_en</th>\n",
       "      <th>MUA_A</th>\n",
       "      <th>POP_A</th>\n",
       "      <th>CC_A</th>\n",
       "      <th>WEST_A</th>\n",
       "      <th>SOUTH_A</th>\n",
       "      <th>NORTH_A</th>\n",
       "      <th>CEAST_A</th>\n",
       "      <th>...</th>\n",
       "      <th>CC_B</th>\n",
       "      <th>WEST_B</th>\n",
       "      <th>SOUTH_B</th>\n",
       "      <th>NORTH_B</th>\n",
       "      <th>CEAST_B</th>\n",
       "      <th>REGION_B</th>\n",
       "      <th>EN_DUM_B</th>\n",
       "      <th>FR_DUM_B</th>\n",
       "      <th>geometry_B</th>\n",
       "      <th>col_fr</th>\n",
       "    </tr>\n",
       "  </thead>\n",
       "  <tbody>\n",
       "    <tr>\n",
       "      <th>0</th>\n",
       "      <td>Paris</td>\n",
       "      <td>London</td>\n",
       "      <td>21874.0</td>\n",
       "      <td>Paris</td>\n",
       "      <td>9591</td>\n",
       "      <td>FR</td>\n",
       "      <td>1</td>\n",
       "      <td>0</td>\n",
       "      <td>0</td>\n",
       "      <td>0</td>\n",
       "      <td>...</td>\n",
       "      <td>UK</td>\n",
       "      <td>1</td>\n",
       "      <td>0</td>\n",
       "      <td>0</td>\n",
       "      <td>0</td>\n",
       "      <td>west</td>\n",
       "      <td>1</td>\n",
       "      <td>0</td>\n",
       "      <td>POINT (3623219.566 3204183.954)</td>\n",
       "      <td>10733.0</td>\n",
       "    </tr>\n",
       "    <tr>\n",
       "      <th>1</th>\n",
       "      <td>Paris</td>\n",
       "      <td>Madrid</td>\n",
       "      <td>3394.0</td>\n",
       "      <td>Paris</td>\n",
       "      <td>9591</td>\n",
       "      <td>FR</td>\n",
       "      <td>1</td>\n",
       "      <td>0</td>\n",
       "      <td>0</td>\n",
       "      <td>0</td>\n",
       "      <td>...</td>\n",
       "      <td>ES</td>\n",
       "      <td>0</td>\n",
       "      <td>1</td>\n",
       "      <td>0</td>\n",
       "      <td>0</td>\n",
       "      <td>south</td>\n",
       "      <td>0</td>\n",
       "      <td>0</td>\n",
       "      <td>POINT (3161798.324 2030549.871)</td>\n",
       "      <td>2404.0</td>\n",
       "    </tr>\n",
       "    <tr>\n",
       "      <th>2</th>\n",
       "      <td>Paris</td>\n",
       "      <td>Berlin</td>\n",
       "      <td>7899.0</td>\n",
       "      <td>Paris</td>\n",
       "      <td>9591</td>\n",
       "      <td>FR</td>\n",
       "      <td>1</td>\n",
       "      <td>0</td>\n",
       "      <td>0</td>\n",
       "      <td>0</td>\n",
       "      <td>...</td>\n",
       "      <td>DE</td>\n",
       "      <td>1</td>\n",
       "      <td>0</td>\n",
       "      <td>0</td>\n",
       "      <td>0</td>\n",
       "      <td>west</td>\n",
       "      <td>0</td>\n",
       "      <td>0</td>\n",
       "      <td>POINT (4552085.153 3273010.955)</td>\n",
       "      <td>4723.0</td>\n",
       "    </tr>\n",
       "    <tr>\n",
       "      <th>3</th>\n",
       "      <td>Paris</td>\n",
       "      <td>Milan</td>\n",
       "      <td>3342.0</td>\n",
       "      <td>Paris</td>\n",
       "      <td>9591</td>\n",
       "      <td>FR</td>\n",
       "      <td>1</td>\n",
       "      <td>0</td>\n",
       "      <td>0</td>\n",
       "      <td>0</td>\n",
       "      <td>...</td>\n",
       "      <td>IT</td>\n",
       "      <td>0</td>\n",
       "      <td>1</td>\n",
       "      <td>0</td>\n",
       "      <td>0</td>\n",
       "      <td>south</td>\n",
       "      <td>0</td>\n",
       "      <td>0</td>\n",
       "      <td>POINT (4256391.191 2484870.286)</td>\n",
       "      <td>2713.0</td>\n",
       "    </tr>\n",
       "    <tr>\n",
       "      <th>4</th>\n",
       "      <td>Paris</td>\n",
       "      <td>Barcelona</td>\n",
       "      <td>2397.0</td>\n",
       "      <td>Paris</td>\n",
       "      <td>9591</td>\n",
       "      <td>FR</td>\n",
       "      <td>1</td>\n",
       "      <td>0</td>\n",
       "      <td>0</td>\n",
       "      <td>0</td>\n",
       "      <td>...</td>\n",
       "      <td>ES</td>\n",
       "      <td>0</td>\n",
       "      <td>1</td>\n",
       "      <td>0</td>\n",
       "      <td>0</td>\n",
       "      <td>south</td>\n",
       "      <td>0</td>\n",
       "      <td>0</td>\n",
       "      <td>POINT (3664331.118 2067683.425)</td>\n",
       "      <td>1696.0</td>\n",
       "    </tr>\n",
       "  </tbody>\n",
       "</table>\n",
       "<p>5 rows × 26 columns</p>\n",
       "</div>"
      ],
      "text/plain": [
       "  city_A     city_B   col_en  MUA_A  POP_A CC_A  WEST_A  SOUTH_A  NORTH_A  \\\n",
       "0  Paris     London  21874.0  Paris   9591   FR       1        0        0   \n",
       "1  Paris     Madrid   3394.0  Paris   9591   FR       1        0        0   \n",
       "2  Paris     Berlin   7899.0  Paris   9591   FR       1        0        0   \n",
       "3  Paris      Milan   3342.0  Paris   9591   FR       1        0        0   \n",
       "4  Paris  Barcelona   2397.0  Paris   9591   FR       1        0        0   \n",
       "\n",
       "   CEAST_A  ... CC_B  WEST_B  SOUTH_B NORTH_B CEAST_B  REGION_B EN_DUM_B  \\\n",
       "0        0  ...   UK       1        0       0       0      west        1   \n",
       "1        0  ...   ES       0        1       0       0     south        0   \n",
       "2        0  ...   DE       1        0       0       0      west        0   \n",
       "3        0  ...   IT       0        1       0       0     south        0   \n",
       "4        0  ...   ES       0        1       0       0     south        0   \n",
       "\n",
       "   FR_DUM_B                       geometry_B   col_fr  \n",
       "0         0  POINT (3623219.566 3204183.954)  10733.0  \n",
       "1         0  POINT (3161798.324 2030549.871)   2404.0  \n",
       "2         0  POINT (4552085.153 3273010.955)   4723.0  \n",
       "3         0  POINT (4256391.191 2484870.286)   2713.0  \n",
       "4         0  POINT (3664331.118 2067683.425)   1696.0  \n",
       "\n",
       "[5 rows x 26 columns]"
      ]
     },
     "execution_count": 13,
     "metadata": {},
     "output_type": "execute_result"
    }
   ],
   "source": [
    "edges.head()"
   ]
  },
  {
   "cell_type": "code",
   "execution_count": 14,
   "id": "bb4f18ce",
   "metadata": {
    "scrolled": true
   },
   "outputs": [
    {
     "name": "stderr",
     "output_type": "stream",
     "text": [
      "/Users/brecht/opt/anaconda3/envs/citynet/lib/python3.10/site-packages/pandas/core/dtypes/cast.py:122: ShapelyDeprecationWarning: The array interface is deprecated and will no longer work in Shapely 2.0. Convert the '.coords' to a numpy array instead.\n",
      "  arr = construct_1d_object_array_from_listlike(values)\n"
     ]
    }
   ],
   "source": [
    "# add LineString objects\n",
    "edges['geometry'] = edges.apply(create_edge, axis = 1)"
   ]
  },
  {
   "cell_type": "code",
   "execution_count": 15,
   "id": "154ab0fe",
   "metadata": {
    "scrolled": true
   },
   "outputs": [
    {
     "data": {
      "text/html": [
       "<div>\n",
       "<style scoped>\n",
       "    .dataframe tbody tr th:only-of-type {\n",
       "        vertical-align: middle;\n",
       "    }\n",
       "\n",
       "    .dataframe tbody tr th {\n",
       "        vertical-align: top;\n",
       "    }\n",
       "\n",
       "    .dataframe thead th {\n",
       "        text-align: right;\n",
       "    }\n",
       "</style>\n",
       "<table border=\"1\" class=\"dataframe\">\n",
       "  <thead>\n",
       "    <tr style=\"text-align: right;\">\n",
       "      <th></th>\n",
       "      <th>city_A</th>\n",
       "      <th>city_B</th>\n",
       "      <th>col_en</th>\n",
       "      <th>MUA_A</th>\n",
       "      <th>POP_A</th>\n",
       "      <th>CC_A</th>\n",
       "      <th>WEST_A</th>\n",
       "      <th>SOUTH_A</th>\n",
       "      <th>NORTH_A</th>\n",
       "      <th>CEAST_A</th>\n",
       "      <th>...</th>\n",
       "      <th>WEST_B</th>\n",
       "      <th>SOUTH_B</th>\n",
       "      <th>NORTH_B</th>\n",
       "      <th>CEAST_B</th>\n",
       "      <th>REGION_B</th>\n",
       "      <th>EN_DUM_B</th>\n",
       "      <th>FR_DUM_B</th>\n",
       "      <th>geometry_B</th>\n",
       "      <th>col_fr</th>\n",
       "      <th>geometry</th>\n",
       "    </tr>\n",
       "  </thead>\n",
       "  <tbody>\n",
       "    <tr>\n",
       "      <th>0</th>\n",
       "      <td>Paris</td>\n",
       "      <td>London</td>\n",
       "      <td>21874.0</td>\n",
       "      <td>Paris</td>\n",
       "      <td>9591</td>\n",
       "      <td>FR</td>\n",
       "      <td>1</td>\n",
       "      <td>0</td>\n",
       "      <td>0</td>\n",
       "      <td>0</td>\n",
       "      <td>...</td>\n",
       "      <td>1</td>\n",
       "      <td>0</td>\n",
       "      <td>0</td>\n",
       "      <td>0</td>\n",
       "      <td>west</td>\n",
       "      <td>1</td>\n",
       "      <td>0</td>\n",
       "      <td>POINT (3623219.566 3204183.954)</td>\n",
       "      <td>10733.0</td>\n",
       "      <td>LINESTRING (3760015.3675289643 2889948.6954368...</td>\n",
       "    </tr>\n",
       "    <tr>\n",
       "      <th>1</th>\n",
       "      <td>Paris</td>\n",
       "      <td>Madrid</td>\n",
       "      <td>3394.0</td>\n",
       "      <td>Paris</td>\n",
       "      <td>9591</td>\n",
       "      <td>FR</td>\n",
       "      <td>1</td>\n",
       "      <td>0</td>\n",
       "      <td>0</td>\n",
       "      <td>0</td>\n",
       "      <td>...</td>\n",
       "      <td>0</td>\n",
       "      <td>1</td>\n",
       "      <td>0</td>\n",
       "      <td>0</td>\n",
       "      <td>south</td>\n",
       "      <td>0</td>\n",
       "      <td>0</td>\n",
       "      <td>POINT (3161798.324 2030549.871)</td>\n",
       "      <td>2404.0</td>\n",
       "      <td>LINESTRING (3760015.3675289643 2889948.6954368...</td>\n",
       "    </tr>\n",
       "    <tr>\n",
       "      <th>2</th>\n",
       "      <td>Paris</td>\n",
       "      <td>Berlin</td>\n",
       "      <td>7899.0</td>\n",
       "      <td>Paris</td>\n",
       "      <td>9591</td>\n",
       "      <td>FR</td>\n",
       "      <td>1</td>\n",
       "      <td>0</td>\n",
       "      <td>0</td>\n",
       "      <td>0</td>\n",
       "      <td>...</td>\n",
       "      <td>1</td>\n",
       "      <td>0</td>\n",
       "      <td>0</td>\n",
       "      <td>0</td>\n",
       "      <td>west</td>\n",
       "      <td>0</td>\n",
       "      <td>0</td>\n",
       "      <td>POINT (4552085.153 3273010.955)</td>\n",
       "      <td>4723.0</td>\n",
       "      <td>LINESTRING (3760015.3675289643 2889948.6954368...</td>\n",
       "    </tr>\n",
       "    <tr>\n",
       "      <th>3</th>\n",
       "      <td>Paris</td>\n",
       "      <td>Milan</td>\n",
       "      <td>3342.0</td>\n",
       "      <td>Paris</td>\n",
       "      <td>9591</td>\n",
       "      <td>FR</td>\n",
       "      <td>1</td>\n",
       "      <td>0</td>\n",
       "      <td>0</td>\n",
       "      <td>0</td>\n",
       "      <td>...</td>\n",
       "      <td>0</td>\n",
       "      <td>1</td>\n",
       "      <td>0</td>\n",
       "      <td>0</td>\n",
       "      <td>south</td>\n",
       "      <td>0</td>\n",
       "      <td>0</td>\n",
       "      <td>POINT (4256391.191 2484870.286)</td>\n",
       "      <td>2713.0</td>\n",
       "      <td>LINESTRING (3760015.3675289643 2889948.6954368...</td>\n",
       "    </tr>\n",
       "    <tr>\n",
       "      <th>4</th>\n",
       "      <td>Paris</td>\n",
       "      <td>Barcelona</td>\n",
       "      <td>2397.0</td>\n",
       "      <td>Paris</td>\n",
       "      <td>9591</td>\n",
       "      <td>FR</td>\n",
       "      <td>1</td>\n",
       "      <td>0</td>\n",
       "      <td>0</td>\n",
       "      <td>0</td>\n",
       "      <td>...</td>\n",
       "      <td>0</td>\n",
       "      <td>1</td>\n",
       "      <td>0</td>\n",
       "      <td>0</td>\n",
       "      <td>south</td>\n",
       "      <td>0</td>\n",
       "      <td>0</td>\n",
       "      <td>POINT (3664331.118 2067683.425)</td>\n",
       "      <td>1696.0</td>\n",
       "      <td>LINESTRING (3760015.3675289643 2889948.6954368...</td>\n",
       "    </tr>\n",
       "  </tbody>\n",
       "</table>\n",
       "<p>5 rows × 27 columns</p>\n",
       "</div>"
      ],
      "text/plain": [
       "  city_A     city_B   col_en  MUA_A  POP_A CC_A  WEST_A  SOUTH_A  NORTH_A  \\\n",
       "0  Paris     London  21874.0  Paris   9591   FR       1        0        0   \n",
       "1  Paris     Madrid   3394.0  Paris   9591   FR       1        0        0   \n",
       "2  Paris     Berlin   7899.0  Paris   9591   FR       1        0        0   \n",
       "3  Paris      Milan   3342.0  Paris   9591   FR       1        0        0   \n",
       "4  Paris  Barcelona   2397.0  Paris   9591   FR       1        0        0   \n",
       "\n",
       "   CEAST_A  ... WEST_B  SOUTH_B  NORTH_B CEAST_B REGION_B  EN_DUM_B FR_DUM_B  \\\n",
       "0        0  ...      1        0        0       0     west         1        0   \n",
       "1        0  ...      0        1        0       0    south         0        0   \n",
       "2        0  ...      1        0        0       0     west         0        0   \n",
       "3        0  ...      0        1        0       0    south         0        0   \n",
       "4        0  ...      0        1        0       0    south         0        0   \n",
       "\n",
       "                        geometry_B   col_fr  \\\n",
       "0  POINT (3623219.566 3204183.954)  10733.0   \n",
       "1  POINT (3161798.324 2030549.871)   2404.0   \n",
       "2  POINT (4552085.153 3273010.955)   4723.0   \n",
       "3  POINT (4256391.191 2484870.286)   2713.0   \n",
       "4  POINT (3664331.118 2067683.425)   1696.0   \n",
       "\n",
       "                                            geometry  \n",
       "0  LINESTRING (3760015.3675289643 2889948.6954368...  \n",
       "1  LINESTRING (3760015.3675289643 2889948.6954368...  \n",
       "2  LINESTRING (3760015.3675289643 2889948.6954368...  \n",
       "3  LINESTRING (3760015.3675289643 2889948.6954368...  \n",
       "4  LINESTRING (3760015.3675289643 2889948.6954368...  \n",
       "\n",
       "[5 rows x 27 columns]"
      ]
     },
     "execution_count": 15,
     "metadata": {},
     "output_type": "execute_result"
    }
   ],
   "source": [
    "edges.head()"
   ]
  },
  {
   "cell_type": "markdown",
   "id": "af38b36f",
   "metadata": {},
   "source": [
    "### Distances"
   ]
  },
  {
   "cell_type": "code",
   "execution_count": 16,
   "id": "e7a730b8",
   "metadata": {},
   "outputs": [],
   "source": [
    "# add column with the distances\n",
    "edges['distance'] = [edge.length/1000 for edge in edges.geometry]"
   ]
  },
  {
   "cell_type": "markdown",
   "id": "cb8f1313",
   "metadata": {},
   "source": [
    "### Dummies\n"
   ]
  },
  {
   "cell_type": "code",
   "execution_count": 17,
   "id": "e516c530",
   "metadata": {},
   "outputs": [],
   "source": [
    "## BORDER DUMMIES\n",
    "\n",
    "# border dummy (1 if the two cities are in different spheres)\n",
    "edges['border_DUM'] = np.where(edges['CC_A'] != edges['CC_B'], 1, 0)\n",
    "\n",
    "# regional border\n",
    "edges['reg_border'] = np.where(edges['REGION_A'] != edges['REGION_B'], 1, 0)\n",
    "\n",
    "## REGION DUMMIES\n",
    "\n",
    "edges['CEAST'] = np.where((edges['REGION_A'] == 'central_east') | (edges['REGION_B'] == 'central_east'), 1, 0)\n",
    "edges['SOUTH'] = np.where((edges['REGION_A'] == 'south') | (edges['REGION_B'] == 'south'), 1, 0)\n",
    "edges['WEST'] = np.where((edges['REGION_A'] == 'west') | (edges['REGION_B'] == 'west'), 1, 0)\n",
    "edges['NORTH'] = np.where((edges['REGION_A'] == 'north') | (edges['REGION_B'] == 'north'), 1, 0)\n",
    "\n",
    "## LANGUAGE SPHERE DUMMIES\n",
    "\n",
    "# French sphere Dummy\n",
    "edges['FR_con'] = np.where((edges['FR_DUM_A'] == 1) | (edges['FR_DUM_B'] == 1), 1, 0)\n",
    "\n",
    "# inside french sphere completely is 1 if both cities in the french sphere\n",
    "edges['FR_int'] = np.where((edges['FR_DUM_A'] == 1) & (edges['FR_DUM_B'] == 1), 1, 0)\n",
    "\n",
    "# English sphere Dummy\n",
    "edges['EN_con'] = np.where((edges['EN_DUM_A'] == 1) | (edges['EN_DUM_B'] == 1), 1, 0)\n",
    "\n",
    "# is 1 if both cities in the english sphere\n",
    "edges['EN_int'] = np.where((edges['EN_DUM_A'] == 1) & (edges['EN_DUM_B'] == 1), 1, 0)\n"
   ]
  },
  {
   "cell_type": "code",
   "execution_count": 18,
   "id": "a2434078",
   "metadata": {},
   "outputs": [],
   "source": [
    "# adjust order of columns and drop the dummies for nodes\n",
    "edges = edges[['city_A', 'city_B', 'POP_A', 'POP_B', 'CC_A', 'CC_B','distance', 'border_DUM', 'reg_border', \n",
    "         'FR_con', 'FR_int', 'EN_con', 'EN_int', 'CEAST', 'SOUTH', 'WEST', 'NORTH',\n",
    "         'col_en', 'col_fr', 'geometry']].copy()"
   ]
  },
  {
   "cell_type": "code",
   "execution_count": 19,
   "id": "3217b761",
   "metadata": {},
   "outputs": [
    {
     "data": {
      "text/plain": [
       "(11325, 20)"
      ]
     },
     "execution_count": 19,
     "metadata": {},
     "output_type": "execute_result"
    }
   ],
   "source": [
    "edges.shape"
   ]
  },
  {
   "cell_type": "markdown",
   "id": "12ddfeda",
   "metadata": {},
   "source": [
    "## adjust co-occurrences\n",
    "Use paragraph count from notebook 02 to calculate a comparable version of french and english co-occurrences"
   ]
  },
  {
   "cell_type": "code",
   "execution_count": 20,
   "id": "61526110",
   "metadata": {},
   "outputs": [],
   "source": [
    "# fr paragraph count = 6005355\n",
    "# en paragraph count = 10436996\n",
    "# see count paragraph notebook\n",
    "fr_count = 6005355\n",
    "en_count = 10436996\n",
    "\n",
    "edges['col_prop_fr'] = [(collocation / fr_count)*1000 for collocation in edges['col_fr']]\n",
    "edges['col_prop_en'] = [(collocation / en_count)*1000 for collocation in edges['col_en']]"
   ]
  },
  {
   "cell_type": "code",
   "execution_count": 21,
   "id": "ae763a1f",
   "metadata": {},
   "outputs": [
    {
     "data": {
      "text/html": [
       "<div>\n",
       "<style scoped>\n",
       "    .dataframe tbody tr th:only-of-type {\n",
       "        vertical-align: middle;\n",
       "    }\n",
       "\n",
       "    .dataframe tbody tr th {\n",
       "        vertical-align: top;\n",
       "    }\n",
       "\n",
       "    .dataframe thead th {\n",
       "        text-align: right;\n",
       "    }\n",
       "</style>\n",
       "<table border=\"1\" class=\"dataframe\">\n",
       "  <thead>\n",
       "    <tr style=\"text-align: right;\">\n",
       "      <th></th>\n",
       "      <th>city_A</th>\n",
       "      <th>city_B</th>\n",
       "      <th>col_prop_fr</th>\n",
       "      <th>col_prop_en</th>\n",
       "    </tr>\n",
       "  </thead>\n",
       "  <tbody>\n",
       "    <tr>\n",
       "      <th>0</th>\n",
       "      <td>Paris</td>\n",
       "      <td>London</td>\n",
       "      <td>1.787238</td>\n",
       "      <td>2.095814</td>\n",
       "    </tr>\n",
       "    <tr>\n",
       "      <th>1</th>\n",
       "      <td>Paris</td>\n",
       "      <td>Madrid</td>\n",
       "      <td>0.400309</td>\n",
       "      <td>0.325189</td>\n",
       "    </tr>\n",
       "    <tr>\n",
       "      <th>2</th>\n",
       "      <td>Paris</td>\n",
       "      <td>Berlin</td>\n",
       "      <td>0.786465</td>\n",
       "      <td>0.756827</td>\n",
       "    </tr>\n",
       "    <tr>\n",
       "      <th>3</th>\n",
       "      <td>Paris</td>\n",
       "      <td>Milan</td>\n",
       "      <td>0.451763</td>\n",
       "      <td>0.320207</td>\n",
       "    </tr>\n",
       "    <tr>\n",
       "      <th>4</th>\n",
       "      <td>Paris</td>\n",
       "      <td>Barcelona</td>\n",
       "      <td>0.282415</td>\n",
       "      <td>0.229664</td>\n",
       "    </tr>\n",
       "  </tbody>\n",
       "</table>\n",
       "</div>"
      ],
      "text/plain": [
       "  city_A     city_B  col_prop_fr  col_prop_en\n",
       "0  Paris     London     1.787238     2.095814\n",
       "1  Paris     Madrid     0.400309     0.325189\n",
       "2  Paris     Berlin     0.786465     0.756827\n",
       "3  Paris      Milan     0.451763     0.320207\n",
       "4  Paris  Barcelona     0.282415     0.229664"
      ]
     },
     "execution_count": 21,
     "metadata": {},
     "output_type": "execute_result"
    }
   ],
   "source": [
    "edges[['city_A', 'city_B', 'col_prop_fr', 'col_prop_en']].head()"
   ]
  },
  {
   "cell_type": "markdown",
   "id": "b756fa85",
   "metadata": {},
   "source": [
    "### Saving the output\n",
    "saved as a .csv at `../../output/edges.csv`  \n",
    "saved as a shapefile at `../../output/edges.shp`  \n",
    "\n",
    "also versions without only the city links that appear in both corpuses  \n",
    "saved as a .csv at `../../output/edges_nz.csv`   \n",
    "saved as a shapefile at `../../output/edges_nz.shp`  "
   ]
  },
  {
   "cell_type": "code",
   "execution_count": 22,
   "id": "f86dcd60",
   "metadata": {},
   "outputs": [
    {
     "name": "stderr",
     "output_type": "stream",
     "text": [
      "/Users/brecht/opt/anaconda3/envs/citynet/lib/python3.10/site-packages/geopandas/io/file.py:362: FutureWarning: pandas.Int64Index is deprecated and will be removed from pandas in a future version. Use pandas.Index with the appropriate dtype instead.\n",
      "  pd.Int64Index,\n",
      "/var/folders/15/8v892gvj639_bp8s5ftm80400000gn/T/ipykernel_13538/119097748.py:6: UserWarning: Column names longer than 10 characters will be truncated when saved to ESRI Shapefile.\n",
      "  edge_gdf.to_file(fp)\n"
     ]
    }
   ],
   "source": [
    "# transform into a geodataframe\n",
    "edge_gdf = gpd.GeoDataFrame(edges, columns = edges.columns, geometry = 'geometry', crs = gdf.crs)\n",
    "\n",
    "# save as .shp for mapping\n",
    "fp = os.path.join(OUTDIR, \"maps/edges.shp\")\n",
    "edge_gdf.to_file(fp)"
   ]
  },
  {
   "cell_type": "code",
   "execution_count": 23,
   "id": "684e058e",
   "metadata": {
    "scrolled": true
   },
   "outputs": [
    {
     "data": {
      "text/plain": [
       "<AxesSubplot:>"
      ]
     },
     "execution_count": 23,
     "metadata": {},
     "output_type": "execute_result"
    },
    {
     "data": {
      "image/png": "[encoded data removed]",
      "text/plain": [
       "<Figure size 432x288 with 1 Axes>"
      ]
     },
     "metadata": {
      "needs_background": "light"
     },
     "output_type": "display_data"
    }
   ],
   "source": [
    "edge_gdf.plot()"
   ]
  },
  {
   "cell_type": "code",
   "execution_count": 24,
   "id": "81fb9fd3",
   "metadata": {},
   "outputs": [],
   "source": [
    "# drop geometry column from df\n",
    "edges.drop(['geometry'], axis = 1, inplace=True)\n",
    "\n",
    "# # save as csv for gravity model\n",
    "# file_name = \"edges.csv\"\n",
    "# fp = os.path.join(OUTDIR, file_name)\n",
    "# edges.to_csv(fp, index = False, sep = \";\")"
   ]
  },
  {
   "cell_type": "markdown",
   "id": "f119d60b",
   "metadata": {},
   "source": [
    "### Save a no-zeroes version"
   ]
  },
  {
   "cell_type": "code",
   "execution_count": 25,
   "id": "77c5d00a",
   "metadata": {},
   "outputs": [],
   "source": [
    "# subset so collocations are all larger than 0\n",
    "nz_edge_df = edge_gdf[(edge_gdf.col_en > 0 ) & (edge_gdf.col_fr > 0)].copy()"
   ]
  },
  {
   "cell_type": "code",
   "execution_count": 26,
   "id": "33b17f1f",
   "metadata": {},
   "outputs": [
    {
     "name": "stderr",
     "output_type": "stream",
     "text": [
      "/Users/brecht/opt/anaconda3/envs/citynet/lib/python3.10/site-packages/geopandas/io/file.py:362: FutureWarning: pandas.Int64Index is deprecated and will be removed from pandas in a future version. Use pandas.Index with the appropriate dtype instead.\n",
      "  pd.Int64Index,\n",
      "/var/folders/15/8v892gvj639_bp8s5ftm80400000gn/T/ipykernel_13538/2064704536.py:3: UserWarning: Column names longer than 10 characters will be truncated when saved to ESRI Shapefile.\n",
      "  nz_edge_df.to_file(fp)\n"
     ]
    }
   ],
   "source": [
    "# save the edges map\n",
    "fp = os.path.join(OUTDIR, \"maps/edges_nz.shp\")\n",
    "nz_edge_df.to_file(fp)\n",
    "\n",
    "# and as csv\n",
    "nz_edge_df.drop(['geometry'], axis = 1, inplace=True)\n",
    "\n",
    "# save\n",
    "fp = os.path.join(OUTDIR, \"edges_nz.csv\")\n",
    "nz_edge_df.to_csv(fp, sep = \";\", index = False)"
   ]
  }
 ],
 "metadata": {
  "kernelspec": {
   "display_name": "Python 3 (ipykernel)",
   "language": "python",
   "name": "python3"
  },
  "language_info": {
   "codemirror_mode": {
    "name": "ipython",
    "version": 3
   },
   "file_extension": ".py",
   "mimetype": "text/x-python",
   "name": "python",
   "nbconvert_exporter": "python",
   "pygments_lexer": "ipython3",
   "version": "3.10.4"
  }
 },
 "nbformat": 4,
 "nbformat_minor": 5
}
