{
 "cells": [
  {
   "cell_type": "code",
   "execution_count": 2,
   "id": "2e114d6b",
   "metadata": {},
   "outputs": [],
   "source": [
    "# load packages\n",
    "import re, string\n",
    "import pandas as pd\n",
    "import numpy as np\n",
    "import os\n",
    "import time\n",
    "from tqdm.notebook import tqdm\n",
    "import unidecode\n",
    "\n",
    "# import from script\n",
    "from preprocessing_functions import *"
   ]
  },
  {
   "cell_type": "code",
   "execution_count": 3,
   "id": "eee5d7d6",
   "metadata": {},
   "outputs": [],
   "source": [
    "data_dir = f'../../../../data/' # directory where new directories will be created for each language\n",
    "out_dir = '../../output/'\n",
    "in_dir = '../../input/'\n",
    "\n",
    "# list of languages to iterate over\n",
    "lang_list = ['en', 'fr']"
   ]
  },
  {
   "cell_type": "code",
   "execution_count": 4,
   "id": "89a3a230",
   "metadata": {},
   "outputs": [],
   "source": [
    "# cities dataframe\n",
    "fp = '../../input/List_of_cities_300k.csv' # path to csv with city information\n",
    "cities = pd.read_csv(fp, sep=';')"
   ]
  },
  {
   "cell_type": "markdown",
   "id": "3aaf2cf0",
   "metadata": {},
   "source": [
    "### Discard unrelated articles"
   ]
  },
  {
   "cell_type": "code",
   "execution_count": 5,
   "id": "830adebd",
   "metadata": {},
   "outputs": [
    {
     "name": "stdout",
     "output_type": "stream",
     "text": [
      "Mon Jul  4 01:38:28 2022\n"
     ]
    }
   ],
   "source": [
    "print(time.asctime(time.localtime(time.time())))"
   ]
  },
  {
   "cell_type": "code",
   "execution_count": 6,
   "id": "f7d23436",
   "metadata": {},
   "outputs": [
    {
     "data": {
      "application/vnd.jupyter.widget-view+json": {
       "model_id": "4ed8674228fd4b33866c503f51176f22",
       "version_major": 2,
       "version_minor": 0
      },
      "text/plain": [
       "Progress Total:   0%|          | 0/70 [00:00<?, ?it/s]"
      ]
     },
     "metadata": {},
     "output_type": "display_data"
    },
    {
     "name": "stdout",
     "output_type": "stream",
     "text": [
      "\n",
      "Starting preprocessing on: /Volumes/NIJMAN/THESIS/enwiki_extracted/ms8\n",
      "It took 13.513367891311646s to read /Volumes/NIJMAN/THESIS/enwiki_extracted/ms8.\n"
     ]
    },
    {
     "data": {
      "application/vnd.jupyter.widget-view+json": {
       "model_id": "55b200e596864a68af99e88b1d7d5e3e",
       "version_major": 2,
       "version_minor": 0
      },
      "text/plain": [
       "Progress split_dump():   0%|          | 0/550 [00:00<?, ?it/s]"
      ]
     },
     "metadata": {},
     "output_type": "display_data"
    },
    {
     "data": {
      "application/vnd.jupyter.widget-view+json": {
       "model_id": "caa519fa34d144a7aff94aa83b045099",
       "version_major": 2,
       "version_minor": 0
      },
      "text/plain": [
       "Progress process_dump():   0%|          | 0/292718 [00:00<?, ?it/s]"
      ]
     },
     "metadata": {},
     "output_type": "display_data"
    },
    {
     "name": "stdout",
     "output_type": "stream",
     "text": [
      "16467 articles out of 292718 contain 2 toponyms\n",
      "Removing 17 referral pages\n",
      "file has been written to: ../../../../data/enwiki/enwikidump_ms8.csv\n",
      "\n",
      "Starting preprocessing on: /Volumes/NIJMAN/THESIS/enwiki_extracted/ms6\n",
      "It took 13.561256885528564s to read /Volumes/NIJMAN/THESIS/enwiki_extracted/ms6.\n"
     ]
    },
    {
     "data": {
      "application/vnd.jupyter.widget-view+json": {
       "model_id": "acc0f1fd57374a0c9ac14e1df7da15b1",
       "version_major": 2,
       "version_minor": 0
      },
      "text/plain": [
       "Progress split_dump():   0%|          | 0/565 [00:00<?, ?it/s]"
      ]
     },
     "metadata": {},
     "output_type": "display_data"
    },
    {
     "data": {
      "application/vnd.jupyter.widget-view+json": {
       "model_id": "19d828ac255b4c8db65b97f182509d23",
       "version_major": 2,
       "version_minor": 0
      },
      "text/plain": [
       "Progress process_dump():   0%|          | 0/222323 [00:00<?, ?it/s]"
      ]
     },
     "metadata": {},
     "output_type": "display_data"
    },
    {
     "name": "stdout",
     "output_type": "stream",
     "text": [
      "16067 articles out of 222323 contain 2 toponyms\n",
      "Removing 1 referral pages\n",
      "file has been written to: ../../../../data/enwiki/enwikidump_ms6.csv\n",
      "Skipping: /Volumes/NIJMAN/THESIS/enwiki_extracted/.DS_Store\n",
      "Skipping: /Volumes/NIJMAN/THESIS/enwiki_extracted/._.DS_Store\n",
      "\n",
      "Starting preprocessing on: /Volumes/NIJMAN/THESIS/enwiki_extracted/ms1\n",
      "It took 3.8940141201019287s to read /Volumes/NIJMAN/THESIS/enwiki_extracted/ms1.\n"
     ]
    },
    {
     "data": {
      "application/vnd.jupyter.widget-view+json": {
       "model_id": "f1df8433ddb0476fb3d89e98a0cfce2f",
       "version_major": 2,
       "version_minor": 0
      },
      "text/plain": [
       "Progress split_dump():   0%|          | 0/346 [00:00<?, ?it/s]"
      ]
     },
     "metadata": {},
     "output_type": "display_data"
    },
    {
     "data": {
      "application/vnd.jupyter.widget-view+json": {
       "model_id": "a02da9aaf6d0490084de5a500d314113",
       "version_major": 2,
       "version_minor": 0
      },
      "text/plain": [
       "Progress process_dump():   0%|          | 0/27503 [00:00<?, ?it/s]"
      ]
     },
     "metadata": {},
     "output_type": "display_data"
    },
    {
     "name": "stdout",
     "output_type": "stream",
     "text": [
      "5447 articles out of 27503 contain 2 toponyms\n",
      "Removing 0 referral pages\n",
      "file has been written to: ../../../../data/enwiki/enwikidump_ms1.csv\n",
      "\n",
      "Starting preprocessing on: /Volumes/NIJMAN/THESIS/enwiki_extracted/ms7\n",
      "It took 4.864075660705566s to read /Volumes/NIJMAN/THESIS/enwiki_extracted/ms7.\n"
     ]
    },
    {
     "data": {
      "application/vnd.jupyter.widget-view+json": {
       "model_id": "554ca39440a1423692cb8810b1235186",
       "version_major": 2,
       "version_minor": 0
      },
      "text/plain": [
       "Progress split_dump():   0%|          | 0/559 [00:00<?, ?it/s]"
      ]
     },
     "metadata": {},
     "output_type": "display_data"
    },
    {
     "data": {
      "application/vnd.jupyter.widget-view+json": {
       "model_id": "00eeffa75d9b4712872874562f4b019e",
       "version_major": 2,
       "version_minor": 0
      },
      "text/plain": [
       "Progress process_dump():   0%|          | 0/266286 [00:00<?, ?it/s]"
      ]
     },
     "metadata": {},
     "output_type": "display_data"
    },
    {
     "name": "stdout",
     "output_type": "stream",
     "text": [
      "15477 articles out of 266286 contain 2 toponyms\n",
      "Removing 12 referral pages\n",
      "file has been written to: ../../../../data/enwiki/enwikidump_ms7.csv\n",
      "\n",
      "Starting preprocessing on: /Volumes/NIJMAN/THESIS/enwiki_extracted/ms9\n",
      "It took 5.248453140258789s to read /Volumes/NIJMAN/THESIS/enwiki_extracted/ms9.\n"
     ]
    },
    {
     "data": {
      "application/vnd.jupyter.widget-view+json": {
       "model_id": "12dbbfc16e6c4e0b9b3d3ceaa88d17f7",
       "version_major": 2,
       "version_minor": 0
      },
      "text/plain": [
       "Progress split_dump():   0%|          | 0/573 [00:00<?, ?it/s]"
      ]
     },
     "metadata": {},
     "output_type": "display_data"
    },
    {
     "data": {
      "application/vnd.jupyter.widget-view+json": {
       "model_id": "27ce595f509a49959752f3100d4c1f18",
       "version_major": 2,
       "version_minor": 0
      },
      "text/plain": [
       "Progress process_dump():   0%|          | 0/345965 [00:00<?, ?it/s]"
      ]
     },
     "metadata": {},
     "output_type": "display_data"
    },
    {
     "name": "stdout",
     "output_type": "stream",
     "text": [
      "17430 articles out of 345965 contain 2 toponyms\n",
      "Removing 12 referral pages\n",
      "file has been written to: ../../../../data/enwiki/enwikidump_ms9.csv\n",
      "\n",
      "Starting preprocessing on: /Volumes/NIJMAN/THESIS/enwiki_extracted/ms2\n",
      "It took 5.691041946411133s to read /Volumes/NIJMAN/THESIS/enwiki_extracted/ms2.\n"
     ]
    },
    {
     "data": {
      "application/vnd.jupyter.widget-view+json": {
       "model_id": "561cd5e076f045fab6a6c3f83cdb5f53",
       "version_major": 2,
       "version_minor": 0
      },
      "text/plain": [
       "Progress split_dump():   0%|          | 0/521 [00:00<?, ?it/s]"
      ]
     },
     "metadata": {},
     "output_type": "display_data"
    },
    {
     "data": {
      "application/vnd.jupyter.widget-view+json": {
       "model_id": "595a20c3ab0b47d4b661ba0100f44648",
       "version_major": 2,
       "version_minor": 0
      },
      "text/plain": [
       "Progress process_dump():   0%|          | 0/83597 [00:00<?, ?it/s]"
      ]
     },
     "metadata": {},
     "output_type": "display_data"
    },
    {
     "name": "stdout",
     "output_type": "stream",
     "text": [
      "8255 articles out of 83597 contain 2 toponyms\n",
      "Removing 1 referral pages\n",
      "file has been written to: ../../../../data/enwiki/enwikidump_ms2.csv\n",
      "\n",
      "Starting preprocessing on: /Volumes/NIJMAN/THESIS/enwiki_extracted/ms5\n",
      "It took 8.092775821685791s to read /Volumes/NIJMAN/THESIS/enwiki_extracted/ms5.\n"
     ]
    },
    {
     "data": {
      "application/vnd.jupyter.widget-view+json": {
       "model_id": "ac0dd2c4af7b4354943284b1f76d27df",
       "version_major": 2,
       "version_minor": 0
      },
      "text/plain": [
       "Progress split_dump():   0%|          | 0/540 [00:00<?, ?it/s]"
      ]
     },
     "metadata": {},
     "output_type": "display_data"
    },
    {
     "data": {
      "application/vnd.jupyter.widget-view+json": {
       "model_id": "24369c5535ae495eb6ed5e60355a3c81",
       "version_major": 2,
       "version_minor": 0
      },
      "text/plain": [
       "Progress process_dump():   0%|          | 0/209056 [00:00<?, ?it/s]"
      ]
     },
     "metadata": {},
     "output_type": "display_data"
    },
    {
     "name": "stdout",
     "output_type": "stream",
     "text": [
      "13970 articles out of 209056 contain 2 toponyms\n",
      "Removing 5 referral pages\n",
      "file has been written to: ../../../../data/enwiki/enwikidump_ms5.csv\n",
      "\n",
      "Starting preprocessing on: /Volumes/NIJMAN/THESIS/enwiki_extracted/ms4\n",
      "It took 9.967669010162354s to read /Volumes/NIJMAN/THESIS/enwiki_extracted/ms4.\n"
     ]
    },
    {
     "data": {
      "application/vnd.jupyter.widget-view+json": {
       "model_id": "8de1771e23c24b7b9ffea7a327f1eb66",
       "version_major": 2,
       "version_minor": 0
      },
      "text/plain": [
       "Progress split_dump():   0%|          | 0/529 [00:00<?, ?it/s]"
      ]
     },
     "metadata": {},
     "output_type": "display_data"
    },
    {
     "data": {
      "application/vnd.jupyter.widget-view+json": {
       "model_id": "49e57da898f14845ad465f8a37564f00",
       "version_major": 2,
       "version_minor": 0
      },
      "text/plain": [
       "Progress process_dump():   0%|          | 0/138287 [00:00<?, ?it/s]"
      ]
     },
     "metadata": {},
     "output_type": "display_data"
    },
    {
     "name": "stdout",
     "output_type": "stream",
     "text": [
      "13091 articles out of 138287 contain 2 toponyms\n",
      "Removing 5 referral pages\n",
      "file has been written to: ../../../../data/enwiki/enwikidump_ms4.csv\n",
      "\n",
      "Starting preprocessing on: /Volumes/NIJMAN/THESIS/enwiki_extracted/ms3\n",
      "It took 8.67671012878418s to read /Volumes/NIJMAN/THESIS/enwiki_extracted/ms3.\n"
     ]
    },
    {
     "data": {
      "application/vnd.jupyter.widget-view+json": {
       "model_id": "5baf62332503467d956cf1f8d1af4a84",
       "version_major": 2,
       "version_minor": 0
      },
      "text/plain": [
       "Progress split_dump():   0%|          | 0/492 [00:00<?, ?it/s]"
      ]
     },
     "metadata": {},
     "output_type": "display_data"
    },
    {
     "data": {
      "application/vnd.jupyter.widget-view+json": {
       "model_id": "2aab80c0a8604b54ad972a98090b39d1",
       "version_major": 2,
       "version_minor": 0
      },
      "text/plain": [
       "Progress process_dump():   0%|          | 0/88831 [00:00<?, ?it/s]"
      ]
     },
     "metadata": {},
     "output_type": "display_data"
    },
    {
     "name": "stdout",
     "output_type": "stream",
     "text": [
      "11789 articles out of 88831 contain 2 toponyms\n",
      "Removing 3 referral pages\n",
      "file has been written to: ../../../../data/enwiki/enwikidump_ms3.csv\n",
      "\n",
      "Starting preprocessing on: /Volumes/NIJMAN/THESIS/enwiki_extracted/ms10\n",
      "It took 8.543264150619507s to read /Volumes/NIJMAN/THESIS/enwiki_extracted/ms10.\n"
     ]
    },
    {
     "data": {
      "application/vnd.jupyter.widget-view+json": {
       "model_id": "90ef4887c8fb46c8813bc7a1931f5813",
       "version_major": 2,
       "version_minor": 0
      },
      "text/plain": [
       "Progress split_dump():   0%|          | 0/545 [00:00<?, ?it/s]"
      ]
     },
     "metadata": {},
     "output_type": "display_data"
    },
    {
     "data": {
      "application/vnd.jupyter.widget-view+json": {
       "model_id": "f66d8784246345cc9258dbb71e37d55c",
       "version_major": 2,
       "version_minor": 0
      },
      "text/plain": [
       "Progress process_dump():   0%|          | 0/376352 [00:00<?, ?it/s]"
      ]
     },
     "metadata": {},
     "output_type": "display_data"
    },
    {
     "name": "stdout",
     "output_type": "stream",
     "text": [
      "16531 articles out of 376352 contain 2 toponyms\n",
      "Removing 21 referral pages\n",
      "file has been written to: ../../../../data/enwiki/enwikidump_ms10.csv\n",
      "\n",
      "Starting preprocessing on: /Volumes/NIJMAN/THESIS/enwiki_extracted/ms11\n",
      "It took 8.191452026367188s to read /Volumes/NIJMAN/THESIS/enwiki_extracted/ms11.\n"
     ]
    },
    {
     "data": {
      "application/vnd.jupyter.widget-view+json": {
       "model_id": "ea980f102de449338d5b67795e0c3468",
       "version_major": 2,
       "version_minor": 0
      },
      "text/plain": [
       "Progress split_dump():   0%|          | 0/505 [00:00<?, ?it/s]"
      ]
     },
     "metadata": {},
     "output_type": "display_data"
    },
    {
     "data": {
      "application/vnd.jupyter.widget-view+json": {
       "model_id": "feeeeb2ce3e04aa690eaaa108f6791d7",
       "version_major": 2,
       "version_minor": 0
      },
      "text/plain": [
       "Progress process_dump():   0%|          | 0/385132 [00:00<?, ?it/s]"
      ]
     },
     "metadata": {},
     "output_type": "display_data"
    },
    {
     "name": "stdout",
     "output_type": "stream",
     "text": [
      "16517 articles out of 385132 contain 2 toponyms\n",
      "Removing 14 referral pages\n",
      "file has been written to: ../../../../data/enwiki/enwikidump_ms11.csv\n",
      "\n",
      "Starting preprocessing on: /Volumes/NIJMAN/THESIS/enwiki_extracted/ms12\n",
      "It took 4.223640203475952s to read /Volumes/NIJMAN/THESIS/enwiki_extracted/ms12.\n"
     ]
    },
    {
     "data": {
      "application/vnd.jupyter.widget-view+json": {
       "model_id": "f78c5e794a514b35b11bb135909b7af5",
       "version_major": 2,
       "version_minor": 0
      },
      "text/plain": [
       "Progress split_dump():   0%|          | 0/49 [00:00<?, ?it/s]"
      ]
     },
     "metadata": {},
     "output_type": "display_data"
    },
    {
     "data": {
      "application/vnd.jupyter.widget-view+json": {
       "model_id": "0ffb86b8aabc4533b4c74aa40c99f7cd",
       "version_major": 2,
       "version_minor": 0
      },
      "text/plain": [
       "Progress process_dump():   0%|          | 0/36777 [00:00<?, ?it/s]"
      ]
     },
     "metadata": {},
     "output_type": "display_data"
    },
    {
     "name": "stdout",
     "output_type": "stream",
     "text": [
      "1439 articles out of 36777 contain 2 toponyms\n",
      "Removing 1 referral pages\n",
      "file has been written to: ../../../../data/enwiki/enwikidump_ms12.csv\n",
      "\n",
      "Starting preprocessing on: /Volumes/NIJMAN/THESIS/enwiki_extracted/ms15\n",
      "It took 5.296568870544434s to read /Volumes/NIJMAN/THESIS/enwiki_extracted/ms15.\n"
     ]
    },
    {
     "data": {
      "application/vnd.jupyter.widget-view+json": {
       "model_id": "a45eb4dc035b49c695bec2e5f88bc994",
       "version_major": 2,
       "version_minor": 0
      },
      "text/plain": [
       "Progress split_dump():   0%|          | 0/314 [00:00<?, ?it/s]"
      ]
     },
     "metadata": {},
     "output_type": "display_data"
    },
    {
     "data": {
      "application/vnd.jupyter.widget-view+json": {
       "model_id": "af2a449042c74670bcea76e8f19f4291",
       "version_major": 2,
       "version_minor": 0
      },
      "text/plain": [
       "Progress process_dump():   0%|          | 0/276494 [00:00<?, ?it/s]"
      ]
     },
     "metadata": {},
     "output_type": "display_data"
    },
    {
     "name": "stdout",
     "output_type": "stream",
     "text": [
      "10252 articles out of 276494 contain 2 toponyms\n",
      "Removing 9 referral pages\n",
      "file has been written to: ../../../../data/enwiki/enwikidump_ms15.csv\n",
      "\n",
      "Starting preprocessing on: /Volumes/NIJMAN/THESIS/enwiki_extracted/ms13\n",
      "It took 9.923979997634888s to read /Volumes/NIJMAN/THESIS/enwiki_extracted/ms13.\n"
     ]
    },
    {
     "data": {
      "application/vnd.jupyter.widget-view+json": {
       "model_id": "411a093ec99e4731ae4e7b4f44d660ca",
       "version_major": 2,
       "version_minor": 0
      },
      "text/plain": [
       "Progress split_dump():   0%|          | 0/400 [00:00<?, ?it/s]"
      ]
     },
     "metadata": {},
     "output_type": "display_data"
    },
    {
     "data": {
      "application/vnd.jupyter.widget-view+json": {
       "model_id": "29f27758196149d0a06abcfe171e327f",
       "version_major": 2,
       "version_minor": 0
      },
      "text/plain": [
       "Progress process_dump():   0%|          | 0/347494 [00:00<?, ?it/s]"
      ]
     },
     "metadata": {},
     "output_type": "display_data"
    },
    {
     "name": "stdout",
     "output_type": "stream",
     "text": [
      "13386 articles out of 347494 contain 2 toponyms\n",
      "Removing 26 referral pages\n",
      "file has been written to: ../../../../data/enwiki/enwikidump_ms13.csv\n",
      "\n",
      "Starting preprocessing on: /Volumes/NIJMAN/THESIS/enwiki_extracted/ms14\n",
      "It took 5.138877868652344s to read /Volumes/NIJMAN/THESIS/enwiki_extracted/ms14.\n"
     ]
    },
    {
     "data": {
      "application/vnd.jupyter.widget-view+json": {
       "model_id": "a9627648853943f3b97555a8e192ba2d",
       "version_major": 2,
       "version_minor": 0
      },
      "text/plain": [
       "Progress split_dump():   0%|          | 0/158 [00:00<?, ?it/s]"
      ]
     },
     "metadata": {},
     "output_type": "display_data"
    },
    {
     "data": {
      "application/vnd.jupyter.widget-view+json": {
       "model_id": "1b3869f726bd46e280fbfbfc1e169d54",
       "version_major": 2,
       "version_minor": 0
      },
      "text/plain": [
       "Progress process_dump():   0%|          | 0/131819 [00:00<?, ?it/s]"
      ]
     },
     "metadata": {},
     "output_type": "display_data"
    },
    {
     "name": "stdout",
     "output_type": "stream",
     "text": [
      "5305 articles out of 131819 contain 2 toponyms\n",
      "Removing 3 referral pages\n",
      "file has been written to: ../../../../data/enwiki/enwikidump_ms14.csv\n",
      "Skipping: /Volumes/NIJMAN/THESIS/enwiki_extracted/._ms15\n",
      "\n",
      "Starting preprocessing on: /Volumes/NIJMAN/THESIS/enwiki_extracted/ms16\n",
      "It took 6.542466878890991s to read /Volumes/NIJMAN/THESIS/enwiki_extracted/ms16.\n"
     ]
    },
    {
     "data": {
      "application/vnd.jupyter.widget-view+json": {
       "model_id": "ecb30eb6c34c40ac9083d4ced7d598c4",
       "version_major": 2,
       "version_minor": 0
      },
      "text/plain": [
       "Progress split_dump():   0%|          | 0/216 [00:00<?, ?it/s]"
      ]
     },
     "metadata": {},
     "output_type": "display_data"
    },
    {
     "data": {
      "application/vnd.jupyter.widget-view+json": {
       "model_id": "375559da6d6e44dc94b375ad4df4bfbe",
       "version_major": 2,
       "version_minor": 0
      },
      "text/plain": [
       "Progress process_dump():   0%|          | 0/192306 [00:00<?, ?it/s]"
      ]
     },
     "metadata": {},
     "output_type": "display_data"
    },
    {
     "name": "stdout",
     "output_type": "stream",
     "text": [
      "6626 articles out of 192306 contain 2 toponyms\n",
      "Removing 7 referral pages\n",
      "file has been written to: ../../../../data/enwiki/enwikidump_ms16.csv\n",
      "Skipping: /Volumes/NIJMAN/THESIS/enwiki_extracted/._ms16\n",
      "\n",
      "Starting preprocessing on: /Volumes/NIJMAN/THESIS/enwiki_extracted/ms17\n",
      "It took 8.853909969329834s to read /Volumes/NIJMAN/THESIS/enwiki_extracted/ms17.\n"
     ]
    },
    {
     "data": {
      "application/vnd.jupyter.widget-view+json": {
       "model_id": "4210745629c143f78bfcc52dfef58352",
       "version_major": 2,
       "version_minor": 0
      },
      "text/plain": [
       "Progress split_dump():   0%|          | 0/358 [00:00<?, ?it/s]"
      ]
     },
     "metadata": {},
     "output_type": "display_data"
    },
    {
     "data": {
      "application/vnd.jupyter.widget-view+json": {
       "model_id": "02a45e2e23d74870bac1e99545e5e5dc",
       "version_major": 2,
       "version_minor": 0
      },
      "text/plain": [
       "Progress process_dump():   0%|          | 0/383322 [00:00<?, ?it/s]"
      ]
     },
     "metadata": {},
     "output_type": "display_data"
    },
    {
     "name": "stdout",
     "output_type": "stream",
     "text": [
      "11297 articles out of 383322 contain 2 toponyms\n",
      "Removing 15 referral pages\n",
      "file has been written to: ../../../../data/enwiki/enwikidump_ms17.csv\n",
      "Skipping: /Volumes/NIJMAN/THESIS/enwiki_extracted/._ms17\n",
      "\n",
      "Starting preprocessing on: /Volumes/NIJMAN/THESIS/enwiki_extracted/ms18\n",
      "It took 7.934264183044434s to read /Volumes/NIJMAN/THESIS/enwiki_extracted/ms18.\n"
     ]
    },
    {
     "data": {
      "application/vnd.jupyter.widget-view+json": {
       "model_id": "40362c28db6845d392376e12a4c4a41e",
       "version_major": 2,
       "version_minor": 0
      },
      "text/plain": [
       "Progress split_dump():   0%|          | 0/231 [00:00<?, ?it/s]"
      ]
     },
     "metadata": {},
     "output_type": "display_data"
    },
    {
     "data": {
      "application/vnd.jupyter.widget-view+json": {
       "model_id": "2f9d3b071ce3492b97d2db055dd96429",
       "version_major": 2,
       "version_minor": 0
      },
      "text/plain": [
       "Progress process_dump():   0%|          | 0/257062 [00:00<?, ?it/s]"
      ]
     },
     "metadata": {},
     "output_type": "display_data"
    },
    {
     "name": "stdout",
     "output_type": "stream",
     "text": [
      "7519 articles out of 257062 contain 2 toponyms\n",
      "Removing 15 referral pages\n",
      "file has been written to: ../../../../data/enwiki/enwikidump_ms18.csv\n",
      "Skipping: /Volumes/NIJMAN/THESIS/enwiki_extracted/._ms18\n",
      "\n",
      "Starting preprocessing on: /Volumes/NIJMAN/THESIS/enwiki_extracted/ms19\n",
      "It took 6.781339883804321s to read /Volumes/NIJMAN/THESIS/enwiki_extracted/ms19.\n"
     ]
    },
    {
     "data": {
      "application/vnd.jupyter.widget-view+json": {
       "model_id": "99c9e38042254be08321e41568bf13cb",
       "version_major": 2,
       "version_minor": 0
      },
      "text/plain": [
       "Progress split_dump():   0%|          | 0/293 [00:00<?, ?it/s]"
      ]
     },
     "metadata": {},
     "output_type": "display_data"
    },
    {
     "data": {
      "application/vnd.jupyter.widget-view+json": {
       "model_id": "85ab95f2f1a64b4e98a4b37e9ba116e9",
       "version_major": 2,
       "version_minor": 0
      },
      "text/plain": [
       "Progress process_dump():   0%|          | 0/367382 [00:00<?, ?it/s]"
      ]
     },
     "metadata": {},
     "output_type": "display_data"
    },
    {
     "name": "stdout",
     "output_type": "stream",
     "text": [
      "9189 articles out of 367382 contain 2 toponyms\n",
      "Removing 14 referral pages\n",
      "file has been written to: ../../../../data/enwiki/enwikidump_ms19.csv\n",
      "Skipping: /Volumes/NIJMAN/THESIS/enwiki_extracted/._ms19\n",
      "\n",
      "Starting preprocessing on: /Volumes/NIJMAN/THESIS/enwiki_extracted/ms20\n",
      "It took 7.7395830154418945s to read /Volumes/NIJMAN/THESIS/enwiki_extracted/ms20.\n"
     ]
    },
    {
     "data": {
      "application/vnd.jupyter.widget-view+json": {
       "model_id": "f1812ef6db5f4c84a83080528753b7bb",
       "version_major": 2,
       "version_minor": 0
      },
      "text/plain": [
       "Progress split_dump():   0%|          | 0/267 [00:00<?, ?it/s]"
      ]
     },
     "metadata": {},
     "output_type": "display_data"
    },
    {
     "data": {
      "application/vnd.jupyter.widget-view+json": {
       "model_id": "c87f1b3c035646ee99fa377c546a3ad9",
       "version_major": 2,
       "version_minor": 0
      },
      "text/plain": [
       "Progress process_dump():   0%|          | 0/392114 [00:00<?, ?it/s]"
      ]
     },
     "metadata": {},
     "output_type": "display_data"
    },
    {
     "name": "stdout",
     "output_type": "stream",
     "text": [
      "8477 articles out of 392114 contain 2 toponyms\n",
      "Removing 48 referral pages\n",
      "file has been written to: ../../../../data/enwiki/enwikidump_ms20.csv\n",
      "Skipping: /Volumes/NIJMAN/THESIS/enwiki_extracted/._ms20\n",
      "\n",
      "Starting preprocessing on: /Volumes/NIJMAN/THESIS/enwiki_extracted/ms22\n",
      "It took 6.7934410572052s to read /Volumes/NIJMAN/THESIS/enwiki_extracted/ms22.\n"
     ]
    },
    {
     "data": {
      "application/vnd.jupyter.widget-view+json": {
       "model_id": "a75ddd13ab8d48da86c7cb118bfd550c",
       "version_major": 2,
       "version_minor": 0
      },
      "text/plain": [
       "Progress split_dump():   0%|          | 0/290 [00:00<?, ?it/s]"
      ]
     },
     "metadata": {},
     "output_type": "display_data"
    },
    {
     "data": {
      "application/vnd.jupyter.widget-view+json": {
       "model_id": "d0555b3200da476b91f3d84c9aea13fc",
       "version_major": 2,
       "version_minor": 0
      },
      "text/plain": [
       "Progress process_dump():   0%|          | 0/325814 [00:00<?, ?it/s]"
      ]
     },
     "metadata": {},
     "output_type": "display_data"
    },
    {
     "name": "stdout",
     "output_type": "stream",
     "text": [
      "9422 articles out of 325814 contain 2 toponyms\n",
      "Removing 12 referral pages\n",
      "file has been written to: ../../../../data/enwiki/enwikidump_ms22.csv\n",
      "\n",
      "Starting preprocessing on: /Volumes/NIJMAN/THESIS/enwiki_extracted/ms23\n",
      "It took 6.28942608833313s to read /Volumes/NIJMAN/THESIS/enwiki_extracted/ms23.\n"
     ]
    },
    {
     "data": {
      "application/vnd.jupyter.widget-view+json": {
       "model_id": "96dcef7dbc144a7b91fd96957acd300e",
       "version_major": 2,
       "version_minor": 0
      },
      "text/plain": [
       "Progress split_dump():   0%|          | 0/271 [00:00<?, ?it/s]"
      ]
     },
     "metadata": {},
     "output_type": "display_data"
    },
    {
     "data": {
      "application/vnd.jupyter.widget-view+json": {
       "model_id": "a5f0a32f91e848fb84c3b8e0bbb8f72f",
       "version_major": 2,
       "version_minor": 0
      },
      "text/plain": [
       "Progress process_dump():   0%|          | 0/330422 [00:00<?, ?it/s]"
      ]
     },
     "metadata": {},
     "output_type": "display_data"
    },
    {
     "name": "stdout",
     "output_type": "stream",
     "text": [
      "9211 articles out of 330422 contain 2 toponyms\n",
      "Removing 25 referral pages\n",
      "file has been written to: ../../../../data/enwiki/enwikidump_ms23.csv\n",
      "\n",
      "Starting preprocessing on: /Volumes/NIJMAN/THESIS/enwiki_extracted/ms24\n",
      "It took 3.7380599975585938s to read /Volumes/NIJMAN/THESIS/enwiki_extracted/ms24.\n"
     ]
    },
    {
     "data": {
      "application/vnd.jupyter.widget-view+json": {
       "model_id": "a76cc665421c49f693e8f2a2a953ca2a",
       "version_major": 2,
       "version_minor": 0
      },
      "text/plain": [
       "Progress split_dump():   0%|          | 0/20 [00:00<?, ?it/s]"
      ]
     },
     "metadata": {},
     "output_type": "display_data"
    },
    {
     "data": {
      "application/vnd.jupyter.widget-view+json": {
       "model_id": "2a8e226380744fb2b734a65ce9c7871c",
       "version_major": 2,
       "version_minor": 0
      },
      "text/plain": [
       "Progress process_dump():   0%|          | 0/19885 [00:00<?, ?it/s]"
      ]
     },
     "metadata": {},
     "output_type": "display_data"
    },
    {
     "name": "stdout",
     "output_type": "stream",
     "text": [
      "663 articles out of 19885 contain 2 toponyms\n",
      "Removing 1 referral pages\n",
      "file has been written to: ../../../../data/enwiki/enwikidump_ms24.csv\n",
      "\n",
      "Starting preprocessing on: /Volumes/NIJMAN/THESIS/enwiki_extracted/ms25\n",
      "It took 8.449805974960327s to read /Volumes/NIJMAN/THESIS/enwiki_extracted/ms25.\n"
     ]
    },
    {
     "data": {
      "application/vnd.jupyter.widget-view+json": {
       "model_id": "6208a1a44ec842c48596485e093feae4",
       "version_major": 2,
       "version_minor": 0
      },
      "text/plain": [
       "Progress split_dump():   0%|          | 0/300 [00:00<?, ?it/s]"
      ]
     },
     "metadata": {},
     "output_type": "display_data"
    },
    {
     "data": {
      "application/vnd.jupyter.widget-view+json": {
       "model_id": "8ceb804746dd457ead895eb91bc540ed",
       "version_major": 2,
       "version_minor": 0
      },
      "text/plain": [
       "Progress process_dump():   0%|          | 0/330669 [00:00<?, ?it/s]"
      ]
     },
     "metadata": {},
     "output_type": "display_data"
    },
    {
     "name": "stdout",
     "output_type": "stream",
     "text": [
      "9917 articles out of 330669 contain 2 toponyms\n",
      "Removing 39 referral pages\n",
      "file has been written to: ../../../../data/enwiki/enwikidump_ms25.csv\n",
      "\n",
      "Starting preprocessing on: /Volumes/NIJMAN/THESIS/enwiki_extracted/ms21\n",
      "It took 4.088361978530884s to read /Volumes/NIJMAN/THESIS/enwiki_extracted/ms21.\n"
     ]
    },
    {
     "data": {
      "application/vnd.jupyter.widget-view+json": {
       "model_id": "b4eca2cdd45c4ab68271f8e0812976a8",
       "version_major": 2,
       "version_minor": 0
      },
      "text/plain": [
       "Progress split_dump():   0%|          | 0/25 [00:00<?, ?it/s]"
      ]
     },
     "metadata": {},
     "output_type": "display_data"
    },
    {
     "data": {
      "application/vnd.jupyter.widget-view+json": {
       "model_id": "6bbdfb93f3e041568209eed7bbabbf94",
       "version_major": 2,
       "version_minor": 0
      },
      "text/plain": [
       "Progress process_dump():   0%|          | 0/25890 [00:00<?, ?it/s]"
      ]
     },
     "metadata": {},
     "output_type": "display_data"
    },
    {
     "name": "stdout",
     "output_type": "stream",
     "text": [
      "817 articles out of 25890 contain 2 toponyms\n",
      "Removing 2 referral pages\n",
      "file has been written to: ../../../../data/enwiki/enwikidump_ms21.csv\n",
      "\n",
      "Starting preprocessing on: /Volumes/NIJMAN/THESIS/enwiki_extracted/ms26\n",
      "It took 3.7024099826812744s to read /Volumes/NIJMAN/THESIS/enwiki_extracted/ms26.\n"
     ]
    },
    {
     "data": {
      "application/vnd.jupyter.widget-view+json": {
       "model_id": "66e82710c46b460c94a128ae7dc5c757",
       "version_major": 2,
       "version_minor": 0
      },
      "text/plain": [
       "Progress split_dump():   0%|          | 0/292 [00:00<?, ?it/s]"
      ]
     },
     "metadata": {},
     "output_type": "display_data"
    },
    {
     "data": {
      "application/vnd.jupyter.widget-view+json": {
       "model_id": "65101de2218d446e86e74bb4f9e6f06d",
       "version_major": 2,
       "version_minor": 0
      },
      "text/plain": [
       "Progress process_dump():   0%|          | 0/387488 [00:00<?, ?it/s]"
      ]
     },
     "metadata": {},
     "output_type": "display_data"
    },
    {
     "name": "stdout",
     "output_type": "stream",
     "text": [
      "9477 articles out of 387488 contain 2 toponyms\n",
      "Removing 15 referral pages\n",
      "file has been written to: ../../../../data/enwiki/enwikidump_ms26.csv\n",
      "\n",
      "Starting preprocessing on: /Volumes/NIJMAN/THESIS/enwiki_extracted/ms27\n",
      "It took 4.342329025268555s to read /Volumes/NIJMAN/THESIS/enwiki_extracted/ms27.\n"
     ]
    },
    {
     "data": {
      "application/vnd.jupyter.widget-view+json": {
       "model_id": "aa137c0923a046c49cf112dfe716692e",
       "version_major": 2,
       "version_minor": 0
      },
      "text/plain": [
       "Progress split_dump():   0%|          | 0/32 [00:00<?, ?it/s]"
      ]
     },
     "metadata": {},
     "output_type": "display_data"
    },
    {
     "data": {
      "application/vnd.jupyter.widget-view+json": {
       "model_id": "2c49d545f0e8496dacb56b2dc41399e8",
       "version_major": 2,
       "version_minor": 0
      },
      "text/plain": [
       "Progress process_dump():   0%|          | 0/40899 [00:00<?, ?it/s]"
      ]
     },
     "metadata": {},
     "output_type": "display_data"
    },
    {
     "name": "stdout",
     "output_type": "stream",
     "text": [
      "1000 articles out of 40899 contain 2 toponyms\n",
      "Removing 4 referral pages\n",
      "file has been written to: ../../../../data/enwiki/enwikidump_ms27.csv\n",
      "\n",
      "Starting preprocessing on: /Volumes/NIJMAN/THESIS/enwiki_extracted/ms28\n",
      "It took 4.447183847427368s to read /Volumes/NIJMAN/THESIS/enwiki_extracted/ms28.\n"
     ]
    },
    {
     "data": {
      "application/vnd.jupyter.widget-view+json": {
       "model_id": "719a13e57002480aba5dbd12e71d6b1b",
       "version_major": 2,
       "version_minor": 0
      },
      "text/plain": [
       "Progress split_dump():   0%|          | 0/299 [00:00<?, ?it/s]"
      ]
     },
     "metadata": {},
     "output_type": "display_data"
    },
    {
     "data": {
      "application/vnd.jupyter.widget-view+json": {
       "model_id": "e8dfafcdf2874aa99a59e938140a0642",
       "version_major": 2,
       "version_minor": 0
      },
      "text/plain": [
       "Progress process_dump():   0%|          | 0/337488 [00:00<?, ?it/s]"
      ]
     },
     "metadata": {},
     "output_type": "display_data"
    },
    {
     "name": "stdout",
     "output_type": "stream",
     "text": [
      "10702 articles out of 337488 contain 2 toponyms\n",
      "Removing 30 referral pages\n",
      "file has been written to: ../../../../data/enwiki/enwikidump_ms28.csv\n",
      "\n",
      "Starting preprocessing on: /Volumes/NIJMAN/THESIS/enwiki_extracted/ms29\n",
      "It took 6.528804063796997s to read /Volumes/NIJMAN/THESIS/enwiki_extracted/ms29.\n"
     ]
    },
    {
     "data": {
      "application/vnd.jupyter.widget-view+json": {
       "model_id": "7ff14a3eed5b4a488a1344daad5d2217",
       "version_major": 2,
       "version_minor": 0
      },
      "text/plain": [
       "Progress split_dump():   0%|          | 0/275 [00:00<?, ?it/s]"
      ]
     },
     "metadata": {},
     "output_type": "display_data"
    },
    {
     "data": {
      "application/vnd.jupyter.widget-view+json": {
       "model_id": "b3f3358bfab44772a72f4f7a1362688c",
       "version_major": 2,
       "version_minor": 0
      },
      "text/plain": [
       "Progress process_dump():   0%|          | 0/316833 [00:00<?, ?it/s]"
      ]
     },
     "metadata": {},
     "output_type": "display_data"
    },
    {
     "name": "stdout",
     "output_type": "stream",
     "text": [
      "9258 articles out of 316833 contain 2 toponyms\n",
      "Removing 50 referral pages\n",
      "file has been written to: ../../../../data/enwiki/enwikidump_ms29.csv\n",
      "\n",
      "Starting preprocessing on: /Volumes/NIJMAN/THESIS/enwiki_extracted/ms30\n",
      "It took 4.538147687911987s to read /Volumes/NIJMAN/THESIS/enwiki_extracted/ms30.\n"
     ]
    },
    {
     "data": {
      "application/vnd.jupyter.widget-view+json": {
       "model_id": "7656f0fabab74daf857145636ee148f7",
       "version_major": 2,
       "version_minor": 0
      },
      "text/plain": [
       "Progress split_dump():   0%|          | 0/71 [00:00<?, ?it/s]"
      ]
     },
     "metadata": {},
     "output_type": "display_data"
    },
    {
     "data": {
      "application/vnd.jupyter.widget-view+json": {
       "model_id": "bb8e294b1b6e41fbb957bbabb7e6ac2e",
       "version_major": 2,
       "version_minor": 0
      },
      "text/plain": [
       "Progress process_dump():   0%|          | 0/95983 [00:00<?, ?it/s]"
      ]
     },
     "metadata": {},
     "output_type": "display_data"
    },
    {
     "name": "stdout",
     "output_type": "stream",
     "text": [
      "2141 articles out of 95983 contain 2 toponyms\n",
      "Removing 8 referral pages\n",
      "file has been written to: ../../../../data/enwiki/enwikidump_ms30.csv\n",
      "\n",
      "Starting preprocessing on: /Volumes/NIJMAN/THESIS/enwiki_extracted/ms31\n",
      "It took 3.2320780754089355s to read /Volumes/NIJMAN/THESIS/enwiki_extracted/ms31.\n"
     ]
    },
    {
     "data": {
      "application/vnd.jupyter.widget-view+json": {
       "model_id": "93446ae0e98f4e179a81149d557f50bc",
       "version_major": 2,
       "version_minor": 0
      },
      "text/plain": [
       "Progress split_dump():   0%|          | 0/269 [00:00<?, ?it/s]"
      ]
     },
     "metadata": {},
     "output_type": "display_data"
    },
    {
     "data": {
      "application/vnd.jupyter.widget-view+json": {
       "model_id": "723f3be835a74d6498bbe33035440e2b",
       "version_major": 2,
       "version_minor": 0
      },
      "text/plain": [
       "Progress process_dump():   0%|          | 0/391888 [00:00<?, ?it/s]"
      ]
     },
     "metadata": {},
     "output_type": "display_data"
    },
    {
     "name": "stdout",
     "output_type": "stream",
     "text": [
      "9133 articles out of 391888 contain 2 toponyms\n",
      "Removing 60 referral pages\n",
      "file has been written to: ../../../../data/enwiki/enwikidump_ms31.csv\n",
      "\n",
      "Starting preprocessing on: /Volumes/NIJMAN/THESIS/enwiki_extracted/ms32\n",
      "It took 6.615565061569214s to read /Volumes/NIJMAN/THESIS/enwiki_extracted/ms32.\n"
     ]
    },
    {
     "data": {
      "application/vnd.jupyter.widget-view+json": {
       "model_id": "d66c7ea770b940718e5219055fd7842b",
       "version_major": 2,
       "version_minor": 0
      },
      "text/plain": [
       "Progress split_dump():   0%|          | 0/233 [00:00<?, ?it/s]"
      ]
     },
     "metadata": {},
     "output_type": "display_data"
    },
    {
     "data": {
      "application/vnd.jupyter.widget-view+json": {
       "model_id": "7a5476107217440eaea7e82ff58aac7b",
       "version_major": 2,
       "version_minor": 0
      },
      "text/plain": [
       "Progress process_dump():   0%|          | 0/353985 [00:00<?, ?it/s]"
      ]
     },
     "metadata": {},
     "output_type": "display_data"
    },
    {
     "name": "stdout",
     "output_type": "stream",
     "text": [
      "7699 articles out of 353985 contain 2 toponyms\n",
      "Removing 38 referral pages\n",
      "file has been written to: ../../../../data/enwiki/enwikidump_ms32.csv\n",
      "\n",
      "Starting preprocessing on: /Volumes/NIJMAN/THESIS/enwiki_extracted/ms33\n",
      "It took 6.54094123840332s to read /Volumes/NIJMAN/THESIS/enwiki_extracted/ms33.\n"
     ]
    },
    {
     "data": {
      "application/vnd.jupyter.widget-view+json": {
       "model_id": "59025161731b4d3abcbabcc55d74e426",
       "version_major": 2,
       "version_minor": 0
      },
      "text/plain": [
       "Progress split_dump():   0%|          | 0/220 [00:00<?, ?it/s]"
      ]
     },
     "metadata": {},
     "output_type": "display_data"
    },
    {
     "data": {
      "application/vnd.jupyter.widget-view+json": {
       "model_id": "e12264a669de4b7a81aca5208197c5c5",
       "version_major": 2,
       "version_minor": 0
      },
      "text/plain": [
       "Progress process_dump():   0%|          | 0/233638 [00:00<?, ?it/s]"
      ]
     },
     "metadata": {},
     "output_type": "display_data"
    },
    {
     "name": "stdout",
     "output_type": "stream",
     "text": [
      "7714 articles out of 233638 contain 2 toponyms\n",
      "Removing 22 referral pages\n",
      "file has been written to: ../../../../data/enwiki/enwikidump_ms33.csv\n",
      "\n",
      "Starting preprocessing on: /Volumes/NIJMAN/THESIS/enwiki_extracted/ms34\n",
      "It took 6.430477142333984s to read /Volumes/NIJMAN/THESIS/enwiki_extracted/ms34.\n"
     ]
    },
    {
     "data": {
      "application/vnd.jupyter.widget-view+json": {
       "model_id": "eec1712474ba42eeb4c157c4dc8c3c91",
       "version_major": 2,
       "version_minor": 0
      },
      "text/plain": [
       "Progress split_dump():   0%|          | 0/275 [00:00<?, ?it/s]"
      ]
     },
     "metadata": {},
     "output_type": "display_data"
    },
    {
     "data": {
      "application/vnd.jupyter.widget-view+json": {
       "model_id": "132cda3e29f74de0a99b7fee7e240872",
       "version_major": 2,
       "version_minor": 0
      },
      "text/plain": [
       "Progress process_dump():   0%|          | 0/335557 [00:00<?, ?it/s]"
      ]
     },
     "metadata": {},
     "output_type": "display_data"
    },
    {
     "name": "stdout",
     "output_type": "stream",
     "text": [
      "9452 articles out of 335557 contain 2 toponyms\n",
      "Removing 26 referral pages\n",
      "file has been written to: ../../../../data/enwiki/enwikidump_ms34.csv\n",
      "\n",
      "Starting preprocessing on: /Volumes/NIJMAN/THESIS/enwiki_extracted/ms35\n",
      "It took 3.0469141006469727s to read /Volumes/NIJMAN/THESIS/enwiki_extracted/ms35.\n"
     ]
    },
    {
     "data": {
      "application/vnd.jupyter.widget-view+json": {
       "model_id": "070caa3cac9b446d8db85f21beaf5b60",
       "version_major": 2,
       "version_minor": 0
      },
      "text/plain": [
       "Progress split_dump():   0%|          | 0/258 [00:00<?, ?it/s]"
      ]
     },
     "metadata": {},
     "output_type": "display_data"
    },
    {
     "data": {
      "application/vnd.jupyter.widget-view+json": {
       "model_id": "8c10a7bb34b94fd6ab110974b1516f9c",
       "version_major": 2,
       "version_minor": 0
      },
      "text/plain": [
       "Progress process_dump():   0%|          | 0/313413 [00:00<?, ?it/s]"
      ]
     },
     "metadata": {},
     "output_type": "display_data"
    },
    {
     "name": "stdout",
     "output_type": "stream",
     "text": [
      "8742 articles out of 313413 contain 2 toponyms\n",
      "Removing 23 referral pages\n",
      "file has been written to: ../../../../data/enwiki/enwikidump_ms35.csv\n",
      "\n",
      "Starting preprocessing on: /Volumes/NIJMAN/THESIS/enwiki_extracted/ms36\n",
      "It took 5.773509979248047s to read /Volumes/NIJMAN/THESIS/enwiki_extracted/ms36.\n"
     ]
    },
    {
     "data": {
      "application/vnd.jupyter.widget-view+json": {
       "model_id": "9febaa78a4044328808c09ba5e1523fd",
       "version_major": 2,
       "version_minor": 0
      },
      "text/plain": [
       "Progress split_dump():   0%|          | 0/184 [00:00<?, ?it/s]"
      ]
     },
     "metadata": {},
     "output_type": "display_data"
    },
    {
     "data": {
      "application/vnd.jupyter.widget-view+json": {
       "model_id": "2365e9ee69a24a00a03d7106f0bb6195",
       "version_major": 2,
       "version_minor": 0
      },
      "text/plain": [
       "Progress process_dump():   0%|          | 0/252247 [00:00<?, ?it/s]"
      ]
     },
     "metadata": {},
     "output_type": "display_data"
    },
    {
     "name": "stdout",
     "output_type": "stream",
     "text": [
      "6297 articles out of 252247 contain 2 toponyms\n",
      "Removing 26 referral pages\n",
      "file has been written to: ../../../../data/enwiki/enwikidump_ms36.csv\n",
      "\n",
      "Starting preprocessing on: /Volumes/NIJMAN/THESIS/enwiki_extracted/ms37\n",
      "It took 6.484813928604126s to read /Volumes/NIJMAN/THESIS/enwiki_extracted/ms37.\n"
     ]
    },
    {
     "data": {
      "application/vnd.jupyter.widget-view+json": {
       "model_id": "aff7bf4cdf444bd1b9ec5fbd4c338437",
       "version_major": 2,
       "version_minor": 0
      },
      "text/plain": [
       "Progress split_dump():   0%|          | 0/260 [00:00<?, ?it/s]"
      ]
     },
     "metadata": {},
     "output_type": "display_data"
    },
    {
     "data": {
      "application/vnd.jupyter.widget-view+json": {
       "model_id": "e0851cca28b140bf8fdbe139483f8f04",
       "version_major": 2,
       "version_minor": 0
      },
      "text/plain": [
       "Progress process_dump():   0%|          | 0/360755 [00:00<?, ?it/s]"
      ]
     },
     "metadata": {},
     "output_type": "display_data"
    },
    {
     "name": "stdout",
     "output_type": "stream",
     "text": [
      "8931 articles out of 360755 contain 2 toponyms\n",
      "Removing 15 referral pages\n",
      "file has been written to: ../../../../data/enwiki/enwikidump_ms37.csv\n",
      "\n",
      "Starting preprocessing on: /Volumes/NIJMAN/THESIS/enwiki_extracted/ms38\n",
      "It took 6.155057907104492s to read /Volumes/NIJMAN/THESIS/enwiki_extracted/ms38.\n"
     ]
    },
    {
     "data": {
      "application/vnd.jupyter.widget-view+json": {
       "model_id": "c5a250f27aab4ab7a0ba006869fd8aa0",
       "version_major": 2,
       "version_minor": 0
      },
      "text/plain": [
       "Progress split_dump():   0%|          | 0/244 [00:00<?, ?it/s]"
      ]
     },
     "metadata": {},
     "output_type": "display_data"
    },
    {
     "data": {
      "application/vnd.jupyter.widget-view+json": {
       "model_id": "ce503854889549c9b6d4c141a8d28b5a",
       "version_major": 2,
       "version_minor": 0
      },
      "text/plain": [
       "Progress process_dump():   0%|          | 0/346569 [00:00<?, ?it/s]"
      ]
     },
     "metadata": {},
     "output_type": "display_data"
    },
    {
     "name": "stdout",
     "output_type": "stream",
     "text": [
      "7738 articles out of 346569 contain 2 toponyms\n",
      "Removing 17 referral pages\n",
      "file has been written to: ../../../../data/enwiki/enwikidump_ms38.csv\n",
      "\n",
      "Starting preprocessing on: /Volumes/NIJMAN/THESIS/enwiki_extracted/ms39\n",
      "It took 6.37571907043457s to read /Volumes/NIJMAN/THESIS/enwiki_extracted/ms39.\n"
     ]
    },
    {
     "data": {
      "application/vnd.jupyter.widget-view+json": {
       "model_id": "d9224595144d4891978aeb4bb9048210",
       "version_major": 2,
       "version_minor": 0
      },
      "text/plain": [
       "Progress split_dump():   0%|          | 0/255 [00:00<?, ?it/s]"
      ]
     },
     "metadata": {},
     "output_type": "display_data"
    },
    {
     "data": {
      "application/vnd.jupyter.widget-view+json": {
       "model_id": "08441f22635c446fa51a07e46ecd70d1",
       "version_major": 2,
       "version_minor": 0
      },
      "text/plain": [
       "Progress process_dump():   0%|          | 0/326297 [00:00<?, ?it/s]"
      ]
     },
     "metadata": {},
     "output_type": "display_data"
    },
    {
     "name": "stdout",
     "output_type": "stream",
     "text": [
      "8293 articles out of 326297 contain 2 toponyms\n",
      "Removing 8 referral pages\n",
      "file has been written to: ../../../../data/enwiki/enwikidump_ms39.csv\n",
      "\n",
      "Starting preprocessing on: /Volumes/NIJMAN/THESIS/enwiki_extracted/ms40\n",
      "It took 5.89150071144104s to read /Volumes/NIJMAN/THESIS/enwiki_extracted/ms40.\n"
     ]
    },
    {
     "data": {
      "application/vnd.jupyter.widget-view+json": {
       "model_id": "ad9b20b07c204e4ba94e7acc66a297b9",
       "version_major": 2,
       "version_minor": 0
      },
      "text/plain": [
       "Progress split_dump():   0%|          | 0/252 [00:00<?, ?it/s]"
      ]
     },
     "metadata": {},
     "output_type": "display_data"
    },
    {
     "data": {
      "application/vnd.jupyter.widget-view+json": {
       "model_id": "c0aefba8859a42eebe98a555d52f10c5",
       "version_major": 2,
       "version_minor": 0
      },
      "text/plain": [
       "Progress process_dump():   0%|          | 0/332238 [00:00<?, ?it/s]"
      ]
     },
     "metadata": {},
     "output_type": "display_data"
    },
    {
     "name": "stdout",
     "output_type": "stream",
     "text": [
      "8350 articles out of 332238 contain 2 toponyms\n",
      "Removing 28 referral pages\n",
      "file has been written to: ../../../../data/enwiki/enwikidump_ms40.csv\n",
      "\n",
      "Starting preprocessing on: /Volumes/NIJMAN/THESIS/enwiki_extracted/ms41\n",
      "It took 6.566182851791382s to read /Volumes/NIJMAN/THESIS/enwiki_extracted/ms41.\n"
     ]
    },
    {
     "data": {
      "application/vnd.jupyter.widget-view+json": {
       "model_id": "084949cfc3154d17b28f5d8e82b7bdfa",
       "version_major": 2,
       "version_minor": 0
      },
      "text/plain": [
       "Progress split_dump():   0%|          | 0/251 [00:00<?, ?it/s]"
      ]
     },
     "metadata": {},
     "output_type": "display_data"
    },
    {
     "data": {
      "application/vnd.jupyter.widget-view+json": {
       "model_id": "08f39c89d3f44c8889d93adb271eb34c",
       "version_major": 2,
       "version_minor": 0
      },
      "text/plain": [
       "Progress process_dump():   0%|          | 0/331115 [00:00<?, ?it/s]"
      ]
     },
     "metadata": {},
     "output_type": "display_data"
    },
    {
     "name": "stdout",
     "output_type": "stream",
     "text": [
      "8886 articles out of 331115 contain 2 toponyms\n",
      "Removing 24 referral pages\n",
      "file has been written to: ../../../../data/enwiki/enwikidump_ms41.csv\n",
      "\n",
      "Starting preprocessing on: /Volumes/NIJMAN/THESIS/enwiki_extracted/ms42\n",
      "It took 6.221320867538452s to read /Volumes/NIJMAN/THESIS/enwiki_extracted/ms42.\n"
     ]
    },
    {
     "data": {
      "application/vnd.jupyter.widget-view+json": {
       "model_id": "04488b1f37dd4938895271129529c47e",
       "version_major": 2,
       "version_minor": 0
      },
      "text/plain": [
       "Progress split_dump():   0%|          | 0/257 [00:00<?, ?it/s]"
      ]
     },
     "metadata": {},
     "output_type": "display_data"
    },
    {
     "data": {
      "application/vnd.jupyter.widget-view+json": {
       "model_id": "545214fde8ed4a088ef1fef65185d214",
       "version_major": 2,
       "version_minor": 0
      },
      "text/plain": [
       "Progress process_dump():   0%|          | 0/357107 [00:00<?, ?it/s]"
      ]
     },
     "metadata": {},
     "output_type": "display_data"
    },
    {
     "name": "stdout",
     "output_type": "stream",
     "text": [
      "8338 articles out of 357107 contain 2 toponyms\n",
      "Removing 27 referral pages\n",
      "file has been written to: ../../../../data/enwiki/enwikidump_ms42.csv\n",
      "\n",
      "Starting preprocessing on: /Volumes/NIJMAN/THESIS/enwiki_extracted/ms43\n",
      "It took 3.9988858699798584s to read /Volumes/NIJMAN/THESIS/enwiki_extracted/ms43.\n"
     ]
    },
    {
     "data": {
      "application/vnd.jupyter.widget-view+json": {
       "model_id": "22bd20e44b2c4b2fa1478bf2806cbcd4",
       "version_major": 2,
       "version_minor": 0
      },
      "text/plain": [
       "Progress split_dump():   0%|          | 0/43 [00:00<?, ?it/s]"
      ]
     },
     "metadata": {},
     "output_type": "display_data"
    },
    {
     "data": {
      "application/vnd.jupyter.widget-view+json": {
       "model_id": "b24f51fcdcf846199d869477e7668a07",
       "version_major": 2,
       "version_minor": 0
      },
      "text/plain": [
       "Progress process_dump():   0%|          | 0/52357 [00:00<?, ?it/s]"
      ]
     },
     "metadata": {},
     "output_type": "display_data"
    },
    {
     "name": "stdout",
     "output_type": "stream",
     "text": [
      "1364 articles out of 52357 contain 2 toponyms\n",
      "Removing 1 referral pages\n",
      "file has been written to: ../../../../data/enwiki/enwikidump_ms43.csv\n",
      "\n",
      "Starting preprocessing on: /Volumes/NIJMAN/THESIS/enwiki_extracted/ms44\n",
      "It took 1.3349909782409668s to read /Volumes/NIJMAN/THESIS/enwiki_extracted/ms44.\n"
     ]
    },
    {
     "data": {
      "application/vnd.jupyter.widget-view+json": {
       "model_id": "e65992ef9c85410ba2516f45cef51ea8",
       "version_major": 2,
       "version_minor": 0
      },
      "text/plain": [
       "Progress split_dump():   0%|          | 0/161 [00:00<?, ?it/s]"
      ]
     },
     "metadata": {},
     "output_type": "display_data"
    },
    {
     "data": {
      "application/vnd.jupyter.widget-view+json": {
       "model_id": "2fff112164b94123b9ff1b69aee2c723",
       "version_major": 2,
       "version_minor": 0
      },
      "text/plain": [
       "Progress process_dump():   0%|          | 0/200419 [00:00<?, ?it/s]"
      ]
     },
     "metadata": {},
     "output_type": "display_data"
    },
    {
     "name": "stdout",
     "output_type": "stream",
     "text": [
      "5528 articles out of 200419 contain 2 toponyms\n",
      "Removing 12 referral pages\n",
      "file has been written to: ../../../../data/enwiki/enwikidump_ms44.csv\n",
      "\n",
      "Starting preprocessing on: /Volumes/NIJMAN/THESIS/enwiki_extracted/ms45\n",
      "It took 5.956556081771851s to read /Volumes/NIJMAN/THESIS/enwiki_extracted/ms45.\n"
     ]
    },
    {
     "data": {
      "application/vnd.jupyter.widget-view+json": {
       "model_id": "97adc27d8c284c5ab6b15a5ae875973d",
       "version_major": 2,
       "version_minor": 0
      },
      "text/plain": [
       "Progress split_dump():   0%|          | 0/255 [00:00<?, ?it/s]"
      ]
     },
     "metadata": {},
     "output_type": "display_data"
    },
    {
     "data": {
      "application/vnd.jupyter.widget-view+json": {
       "model_id": "05e08f4dd64c47a8bc71954fde8c36cb",
       "version_major": 2,
       "version_minor": 0
      },
      "text/plain": [
       "Progress process_dump():   0%|          | 0/342069 [00:00<?, ?it/s]"
      ]
     },
     "metadata": {},
     "output_type": "display_data"
    },
    {
     "name": "stdout",
     "output_type": "stream",
     "text": [
      "8436 articles out of 342069 contain 2 toponyms\n",
      "Removing 26 referral pages\n",
      "file has been written to: ../../../../data/enwiki/enwikidump_ms45.csv\n",
      "\n",
      "Starting preprocessing on: /Volumes/NIJMAN/THESIS/enwiki_extracted/ms46\n",
      "It took 5.793597221374512s to read /Volumes/NIJMAN/THESIS/enwiki_extracted/ms46.\n"
     ]
    },
    {
     "data": {
      "application/vnd.jupyter.widget-view+json": {
       "model_id": "b197dbc470d54cd2b458de563dab1640",
       "version_major": 2,
       "version_minor": 0
      },
      "text/plain": [
       "Progress split_dump():   0%|          | 0/217 [00:00<?, ?it/s]"
      ]
     },
     "metadata": {},
     "output_type": "display_data"
    },
    {
     "data": {
      "application/vnd.jupyter.widget-view+json": {
       "model_id": "4e4443500389431f843ede7cdf8c3e96",
       "version_major": 2,
       "version_minor": 0
      },
      "text/plain": [
       "Progress process_dump():   0%|          | 0/281406 [00:00<?, ?it/s]"
      ]
     },
     "metadata": {},
     "output_type": "display_data"
    },
    {
     "name": "stdout",
     "output_type": "stream",
     "text": [
      "7276 articles out of 281406 contain 2 toponyms\n",
      "Removing 10 referral pages\n",
      "file has been written to: ../../../../data/enwiki/enwikidump_ms46.csv\n",
      "\n",
      "Starting preprocessing on: /Volumes/NIJMAN/THESIS/enwiki_extracted/ms47\n",
      "It took 5.9237260818481445s to read /Volumes/NIJMAN/THESIS/enwiki_extracted/ms47.\n"
     ]
    },
    {
     "data": {
      "application/vnd.jupyter.widget-view+json": {
       "model_id": "26ab17942c6c411d9d73eb191b16316f",
       "version_major": 2,
       "version_minor": 0
      },
      "text/plain": [
       "Progress split_dump():   0%|          | 0/176 [00:00<?, ?it/s]"
      ]
     },
     "metadata": {},
     "output_type": "display_data"
    },
    {
     "data": {
      "application/vnd.jupyter.widget-view+json": {
       "model_id": "4eda7bbcad014b0d95083f822a205b75",
       "version_major": 2,
       "version_minor": 0
      },
      "text/plain": [
       "Progress process_dump():   0%|          | 0/291486 [00:00<?, ?it/s]"
      ]
     },
     "metadata": {},
     "output_type": "display_data"
    },
    {
     "name": "stdout",
     "output_type": "stream",
     "text": [
      "5939 articles out of 291486 contain 2 toponyms\n",
      "Removing 90 referral pages\n",
      "file has been written to: ../../../../data/enwiki/enwikidump_ms47.csv\n",
      "\n",
      "Starting preprocessing on: /Volumes/NIJMAN/THESIS/enwiki_extracted/ms48\n",
      "It took 7.207803010940552s to read /Volumes/NIJMAN/THESIS/enwiki_extracted/ms48.\n"
     ]
    },
    {
     "data": {
      "application/vnd.jupyter.widget-view+json": {
       "model_id": "bceba93dc4664f6ba309cb9786ae950c",
       "version_major": 2,
       "version_minor": 0
      },
      "text/plain": [
       "Progress split_dump():   0%|          | 0/226 [00:00<?, ?it/s]"
      ]
     },
     "metadata": {},
     "output_type": "display_data"
    },
    {
     "data": {
      "application/vnd.jupyter.widget-view+json": {
       "model_id": "9bf0e6b8a6da4541ad565709de30b078",
       "version_major": 2,
       "version_minor": 0
      },
      "text/plain": [
       "Progress process_dump():   0%|          | 0/337879 [00:00<?, ?it/s]"
      ]
     },
     "metadata": {},
     "output_type": "display_data"
    },
    {
     "name": "stdout",
     "output_type": "stream",
     "text": [
      "7557 articles out of 337879 contain 2 toponyms\n",
      "Removing 35 referral pages\n",
      "file has been written to: ../../../../data/enwiki/enwikidump_ms48.csv\n",
      "\n",
      "Starting preprocessing on: /Volumes/NIJMAN/THESIS/enwiki_extracted/ms49\n",
      "It took 6.379866123199463s to read /Volumes/NIJMAN/THESIS/enwiki_extracted/ms49.\n"
     ]
    },
    {
     "data": {
      "application/vnd.jupyter.widget-view+json": {
       "model_id": "26d0906fe6be4b0e9e8bd924ad29d4aa",
       "version_major": 2,
       "version_minor": 0
      },
      "text/plain": [
       "Progress split_dump():   0%|          | 0/216 [00:00<?, ?it/s]"
      ]
     },
     "metadata": {},
     "output_type": "display_data"
    },
    {
     "data": {
      "application/vnd.jupyter.widget-view+json": {
       "model_id": "07649adf92f54a21b4c280433f9ba21f",
       "version_major": 2,
       "version_minor": 0
      },
      "text/plain": [
       "Progress process_dump():   0%|          | 0/287421 [00:00<?, ?it/s]"
      ]
     },
     "metadata": {},
     "output_type": "display_data"
    },
    {
     "name": "stdout",
     "output_type": "stream",
     "text": [
      "7394 articles out of 287421 contain 2 toponyms\n",
      "Removing 36 referral pages\n",
      "file has been written to: ../../../../data/enwiki/enwikidump_ms49.csv\n",
      "\n",
      "Starting preprocessing on: /Volumes/NIJMAN/THESIS/enwiki_extracted/ms50\n",
      "It took 6.073312044143677s to read /Volumes/NIJMAN/THESIS/enwiki_extracted/ms50.\n"
     ]
    },
    {
     "data": {
      "application/vnd.jupyter.widget-view+json": {
       "model_id": "7a4c427704df4312adc95b7daffc0fce",
       "version_major": 2,
       "version_minor": 0
      },
      "text/plain": [
       "Progress split_dump():   0%|          | 0/210 [00:00<?, ?it/s]"
      ]
     },
     "metadata": {},
     "output_type": "display_data"
    },
    {
     "data": {
      "application/vnd.jupyter.widget-view+json": {
       "model_id": "c3cfcef5c8aa47eaacd09fb12be244f9",
       "version_major": 2,
       "version_minor": 0
      },
      "text/plain": [
       "Progress process_dump():   0%|          | 0/308747 [00:00<?, ?it/s]"
      ]
     },
     "metadata": {},
     "output_type": "display_data"
    },
    {
     "name": "stdout",
     "output_type": "stream",
     "text": [
      "7030 articles out of 308747 contain 2 toponyms\n",
      "Removing 21 referral pages\n",
      "file has been written to: ../../../../data/enwiki/enwikidump_ms50.csv\n",
      "\n",
      "Starting preprocessing on: /Volumes/NIJMAN/THESIS/enwiki_extracted/ms51\n",
      "It took 6.100778102874756s to read /Volumes/NIJMAN/THESIS/enwiki_extracted/ms51.\n"
     ]
    },
    {
     "data": {
      "application/vnd.jupyter.widget-view+json": {
       "model_id": "ed7e635a471740df976ca219b5b0e4de",
       "version_major": 2,
       "version_minor": 0
      },
      "text/plain": [
       "Progress split_dump():   0%|          | 0/224 [00:00<?, ?it/s]"
      ]
     },
     "metadata": {},
     "output_type": "display_data"
    },
    {
     "data": {
      "application/vnd.jupyter.widget-view+json": {
       "model_id": "5e876913e296401d921dc37909172ffa",
       "version_major": 2,
       "version_minor": 0
      },
      "text/plain": [
       "Progress process_dump():   0%|          | 0/365074 [00:00<?, ?it/s]"
      ]
     },
     "metadata": {},
     "output_type": "display_data"
    },
    {
     "name": "stdout",
     "output_type": "stream",
     "text": [
      "7475 articles out of 365074 contain 2 toponyms\n",
      "Removing 88 referral pages\n",
      "file has been written to: ../../../../data/enwiki/enwikidump_ms51.csv\n",
      "\n",
      "Starting preprocessing on: /Volumes/NIJMAN/THESIS/enwiki_extracted/ms52\n",
      "It took 5.0175862312316895s to read /Volumes/NIJMAN/THESIS/enwiki_extracted/ms52.\n"
     ]
    },
    {
     "data": {
      "application/vnd.jupyter.widget-view+json": {
       "model_id": "14399c2bbfd74012b5e9dbbe63813d84",
       "version_major": 2,
       "version_minor": 0
      },
      "text/plain": [
       "Progress split_dump():   0%|          | 0/68 [00:00<?, ?it/s]"
      ]
     },
     "metadata": {},
     "output_type": "display_data"
    },
    {
     "data": {
      "application/vnd.jupyter.widget-view+json": {
       "model_id": "4f2463cec43440abbba4d8f180d18556",
       "version_major": 2,
       "version_minor": 0
      },
      "text/plain": [
       "Progress process_dump():   0%|          | 0/96242 [00:00<?, ?it/s]"
      ]
     },
     "metadata": {},
     "output_type": "display_data"
    },
    {
     "name": "stdout",
     "output_type": "stream",
     "text": [
      "2417 articles out of 96242 contain 2 toponyms\n",
      "Removing 10 referral pages\n",
      "file has been written to: ../../../../data/enwiki/enwikidump_ms52.csv\n",
      "\n",
      "Starting preprocessing on: /Volumes/NIJMAN/THESIS/enwiki_extracted/ms53\n",
      "It took 2.5438709259033203s to read /Volumes/NIJMAN/THESIS/enwiki_extracted/ms53.\n"
     ]
    },
    {
     "data": {
      "application/vnd.jupyter.widget-view+json": {
       "model_id": "1e580cfe265d4a82a884f293895a3580",
       "version_major": 2,
       "version_minor": 0
      },
      "text/plain": [
       "Progress split_dump():   0%|          | 0/214 [00:00<?, ?it/s]"
      ]
     },
     "metadata": {},
     "output_type": "display_data"
    },
    {
     "data": {
      "application/vnd.jupyter.widget-view+json": {
       "model_id": "6a0c57c7888e4da7aac93fd224bb8853",
       "version_major": 2,
       "version_minor": 0
      },
      "text/plain": [
       "Progress process_dump():   0%|          | 0/309931 [00:00<?, ?it/s]"
      ]
     },
     "metadata": {},
     "output_type": "display_data"
    },
    {
     "name": "stdout",
     "output_type": "stream",
     "text": [
      "7388 articles out of 309931 contain 2 toponyms\n",
      "Removing 20 referral pages\n",
      "file has been written to: ../../../../data/enwiki/enwikidump_ms53.csv\n",
      "\n",
      "Starting preprocessing on: /Volumes/NIJMAN/THESIS/enwiki_extracted/ms54\n",
      "It took 6.676106929779053s to read /Volumes/NIJMAN/THESIS/enwiki_extracted/ms54.\n"
     ]
    },
    {
     "data": {
      "application/vnd.jupyter.widget-view+json": {
       "model_id": "ad36d72e5862493085dffca023c65a9c",
       "version_major": 2,
       "version_minor": 0
      },
      "text/plain": [
       "Progress split_dump():   0%|          | 0/202 [00:00<?, ?it/s]"
      ]
     },
     "metadata": {},
     "output_type": "display_data"
    },
    {
     "data": {
      "application/vnd.jupyter.widget-view+json": {
       "model_id": "77424a3d9d684b768b3377236dae6bf2",
       "version_major": 2,
       "version_minor": 0
      },
      "text/plain": [
       "Progress process_dump():   0%|          | 0/337315 [00:00<?, ?it/s]"
      ]
     },
     "metadata": {},
     "output_type": "display_data"
    },
    {
     "name": "stdout",
     "output_type": "stream",
     "text": [
      "6449 articles out of 337315 contain 2 toponyms\n",
      "Removing 15 referral pages\n",
      "file has been written to: ../../../../data/enwiki/enwikidump_ms54.csv\n",
      "\n",
      "Starting preprocessing on: /Volumes/NIJMAN/THESIS/enwiki_extracted/ms55\n",
      "It took 5.8077991008758545s to read /Volumes/NIJMAN/THESIS/enwiki_extracted/ms55.\n"
     ]
    },
    {
     "data": {
      "application/vnd.jupyter.widget-view+json": {
       "model_id": "a44a3b078ec34979928cc7fc1d2dfd2e",
       "version_major": 2,
       "version_minor": 0
      },
      "text/plain": [
       "Progress split_dump():   0%|          | 0/214 [00:00<?, ?it/s]"
      ]
     },
     "metadata": {},
     "output_type": "display_data"
    },
    {
     "data": {
      "application/vnd.jupyter.widget-view+json": {
       "model_id": "b1fb918ccc0a4c148605f99a1b4adbff",
       "version_major": 2,
       "version_minor": 0
      },
      "text/plain": [
       "Progress process_dump():   0%|          | 0/321997 [00:00<?, ?it/s]"
      ]
     },
     "metadata": {},
     "output_type": "display_data"
    },
    {
     "name": "stdout",
     "output_type": "stream",
     "text": [
      "7037 articles out of 321997 contain 2 toponyms\n",
      "Removing 21 referral pages\n",
      "file has been written to: ../../../../data/enwiki/enwikidump_ms55.csv\n",
      "\n",
      "Starting preprocessing on: /Volumes/NIJMAN/THESIS/enwiki_extracted/ms56\n",
      "It took 4.893411636352539s to read /Volumes/NIJMAN/THESIS/enwiki_extracted/ms56.\n"
     ]
    },
    {
     "data": {
      "application/vnd.jupyter.widget-view+json": {
       "model_id": "7766463bd7f1499ea2b5895571a65233",
       "version_major": 2,
       "version_minor": 0
      },
      "text/plain": [
       "Progress split_dump():   0%|          | 0/145 [00:00<?, ?it/s]"
      ]
     },
     "metadata": {},
     "output_type": "display_data"
    },
    {
     "data": {
      "application/vnd.jupyter.widget-view+json": {
       "model_id": "498242a4cc1643b7a7ccf5736d47d8ba",
       "version_major": 2,
       "version_minor": 0
      },
      "text/plain": [
       "Progress process_dump():   0%|          | 0/208443 [00:00<?, ?it/s]"
      ]
     },
     "metadata": {},
     "output_type": "display_data"
    },
    {
     "name": "stdout",
     "output_type": "stream",
     "text": [
      "5083 articles out of 208443 contain 2 toponyms\n",
      "Removing 23 referral pages\n",
      "file has been written to: ../../../../data/enwiki/enwikidump_ms56.csv\n",
      "\n",
      "Starting preprocessing on: /Volumes/NIJMAN/THESIS/enwiki_extracted/ms57\n",
      "It took 6.495649099349976s to read /Volumes/NIJMAN/THESIS/enwiki_extracted/ms57.\n"
     ]
    },
    {
     "data": {
      "application/vnd.jupyter.widget-view+json": {
       "model_id": "cd74a2eb1a294eeeb2aa62ed8876e0fe",
       "version_major": 2,
       "version_minor": 0
      },
      "text/plain": [
       "Progress split_dump():   0%|          | 0/207 [00:00<?, ?it/s]"
      ]
     },
     "metadata": {},
     "output_type": "display_data"
    },
    {
     "data": {
      "application/vnd.jupyter.widget-view+json": {
       "model_id": "2ef7a5a855f0461681d53a630b922e34",
       "version_major": 2,
       "version_minor": 0
      },
      "text/plain": [
       "Progress process_dump():   0%|          | 0/299481 [00:00<?, ?it/s]"
      ]
     },
     "metadata": {},
     "output_type": "display_data"
    },
    {
     "name": "stdout",
     "output_type": "stream",
     "text": [
      "7174 articles out of 299481 contain 2 toponyms\n",
      "Removing 19 referral pages\n",
      "file has been written to: ../../../../data/enwiki/enwikidump_ms57.csv\n",
      "\n",
      "Starting preprocessing on: /Volumes/NIJMAN/THESIS/enwiki_extracted/ms58\n",
      "It took 6.345254182815552s to read /Volumes/NIJMAN/THESIS/enwiki_extracted/ms58.\n"
     ]
    },
    {
     "data": {
      "application/vnd.jupyter.widget-view+json": {
       "model_id": "f4cafe962536449080db6255805dfedd",
       "version_major": 2,
       "version_minor": 0
      },
      "text/plain": [
       "Progress split_dump():   0%|          | 0/188 [00:00<?, ?it/s]"
      ]
     },
     "metadata": {},
     "output_type": "display_data"
    },
    {
     "data": {
      "application/vnd.jupyter.widget-view+json": {
       "model_id": "282f9c8f48554888b1f6bebbc7571c14",
       "version_major": 2,
       "version_minor": 0
      },
      "text/plain": [
       "Progress process_dump():   0%|          | 0/263436 [00:00<?, ?it/s]"
      ]
     },
     "metadata": {},
     "output_type": "display_data"
    },
    {
     "name": "stdout",
     "output_type": "stream",
     "text": [
      "6793 articles out of 263436 contain 2 toponyms\n",
      "Removing 25 referral pages\n",
      "file has been written to: ../../../../data/enwiki/enwikidump_ms58.csv\n",
      "\n",
      "Starting preprocessing on: /Volumes/NIJMAN/THESIS/enwiki_extracted/ms59\n",
      "It took 6.488804817199707s to read /Volumes/NIJMAN/THESIS/enwiki_extracted/ms59.\n"
     ]
    },
    {
     "data": {
      "application/vnd.jupyter.widget-view+json": {
       "model_id": "48ef536cd97047fd9bdaf44b6b639b1a",
       "version_major": 2,
       "version_minor": 0
      },
      "text/plain": [
       "Progress split_dump():   0%|          | 0/199 [00:00<?, ?it/s]"
      ]
     },
     "metadata": {},
     "output_type": "display_data"
    },
    {
     "data": {
      "application/vnd.jupyter.widget-view+json": {
       "model_id": "82055aafed5f4ed19d69f7bca2fd4ab7",
       "version_major": 2,
       "version_minor": 0
      },
      "text/plain": [
       "Progress process_dump():   0%|          | 0/295211 [00:00<?, ?it/s]"
      ]
     },
     "metadata": {},
     "output_type": "display_data"
    },
    {
     "name": "stdout",
     "output_type": "stream",
     "text": [
      "7206 articles out of 295211 contain 2 toponyms\n",
      "Removing 25 referral pages\n",
      "file has been written to: ../../../../data/enwiki/enwikidump_ms59.csv\n",
      "\n",
      "Starting preprocessing on: /Volumes/NIJMAN/THESIS/enwiki_extracted/ms60\n",
      "It took 6.043583393096924s to read /Volumes/NIJMAN/THESIS/enwiki_extracted/ms60.\n"
     ]
    },
    {
     "data": {
      "application/vnd.jupyter.widget-view+json": {
       "model_id": "a748ac8c510c4d7183360ab33755c8b3",
       "version_major": 2,
       "version_minor": 0
      },
      "text/plain": [
       "Progress split_dump():   0%|          | 0/209 [00:00<?, ?it/s]"
      ]
     },
     "metadata": {},
     "output_type": "display_data"
    },
    {
     "data": {
      "application/vnd.jupyter.widget-view+json": {
       "model_id": "fd065904503049e0aed0fbe9585a9663",
       "version_major": 2,
       "version_minor": 0
      },
      "text/plain": [
       "Progress process_dump():   0%|          | 0/324456 [00:00<?, ?it/s]"
      ]
     },
     "metadata": {},
     "output_type": "display_data"
    },
    {
     "name": "stdout",
     "output_type": "stream",
     "text": [
      "7170 articles out of 324456 contain 2 toponyms\n",
      "Removing 43 referral pages\n",
      "file has been written to: ../../../../data/enwiki/enwikidump_ms60.csv\n",
      "\n",
      "Starting preprocessing on: /Volumes/NIJMAN/THESIS/enwiki_extracted/ms61\n",
      "It took 6.773868083953857s to read /Volumes/NIJMAN/THESIS/enwiki_extracted/ms61.\n"
     ]
    },
    {
     "data": {
      "application/vnd.jupyter.widget-view+json": {
       "model_id": "5119e07b51de40ef826373380274d031",
       "version_major": 2,
       "version_minor": 0
      },
      "text/plain": [
       "Progress split_dump():   0%|          | 0/202 [00:00<?, ?it/s]"
      ]
     },
     "metadata": {},
     "output_type": "display_data"
    },
    {
     "data": {
      "application/vnd.jupyter.widget-view+json": {
       "model_id": "e37a6588ebf9494ea039ab08ad6b414f",
       "version_major": 2,
       "version_minor": 0
      },
      "text/plain": [
       "Progress process_dump():   0%|          | 0/371250 [00:00<?, ?it/s]"
      ]
     },
     "metadata": {},
     "output_type": "display_data"
    },
    {
     "name": "stdout",
     "output_type": "stream",
     "text": [
      "6140 articles out of 371250 contain 2 toponyms\n",
      "Removing 24 referral pages\n",
      "file has been written to: ../../../../data/enwiki/enwikidump_ms61.csv\n",
      "\n",
      "Starting preprocessing on: /Volumes/NIJMAN/THESIS/enwiki_extracted/ms62\n",
      "It took 4.24592399597168s to read /Volumes/NIJMAN/THESIS/enwiki_extracted/ms62.\n"
     ]
    },
    {
     "data": {
      "application/vnd.jupyter.widget-view+json": {
       "model_id": "ec6666d0586e482e8a61f76a0484b3a9",
       "version_major": 2,
       "version_minor": 0
      },
      "text/plain": [
       "Progress split_dump():   0%|          | 0/78 [00:00<?, ?it/s]"
      ]
     },
     "metadata": {},
     "output_type": "display_data"
    },
    {
     "data": {
      "application/vnd.jupyter.widget-view+json": {
       "model_id": "7df5768b4a474d48a72cf8c1bd34f4c8",
       "version_major": 2,
       "version_minor": 0
      },
      "text/plain": [
       "Progress process_dump():   0%|          | 0/135066 [00:00<?, ?it/s]"
      ]
     },
     "metadata": {},
     "output_type": "display_data"
    },
    {
     "name": "stdout",
     "output_type": "stream",
     "text": [
      "2381 articles out of 135066 contain 2 toponyms\n",
      "Removing 5 referral pages\n",
      "file has been written to: ../../../../data/enwiki/enwikidump_ms62.csv\n",
      "----------\n",
      "Files in /Volumes/NIJMAN/THESIS/enwiki_extracted have been processed\n",
      "----------\n"
     ]
    },
    {
     "data": {
      "application/vnd.jupyter.widget-view+json": {
       "model_id": "93a3f974808d45f196bb31fada150b6f",
       "version_major": 2,
       "version_minor": 0
      },
      "text/plain": [
       "Progress Total:   0%|          | 0/13 [00:00<?, ?it/s]"
      ]
     },
     "metadata": {},
     "output_type": "display_data"
    },
    {
     "name": "stdout",
     "output_type": "stream",
     "text": [
      "\n",
      "Starting preprocessing on: /Volumes/NIJMAN/THESIS/frwiki_extracted/ms1\n",
      "It took 9.577381134033203s to read /Volumes/NIJMAN/THESIS/frwiki_extracted/ms1.\n"
     ]
    },
    {
     "data": {
      "application/vnd.jupyter.widget-view+json": {
       "model_id": "1e098a046e2144fdb7425c96fe43d134",
       "version_major": 2,
       "version_minor": 0
      },
      "text/plain": [
       "Progress split_dump():   0%|          | 0/781 [00:00<?, ?it/s]"
      ]
     },
     "metadata": {},
     "output_type": "display_data"
    },
    {
     "data": {
      "application/vnd.jupyter.widget-view+json": {
       "model_id": "3cc5912adc054a81899139e81bdb89e8",
       "version_major": 2,
       "version_minor": 0
      },
      "text/plain": [
       "Progress process_dump():   0%|          | 0/151301 [00:00<?, ?it/s]"
      ]
     },
     "metadata": {},
     "output_type": "display_data"
    },
    {
     "name": "stdout",
     "output_type": "stream",
     "text": [
      "24501 articles out of 151301 contain 2 toponyms\n",
      "Removing 1 referral pages\n",
      "file has been written to: ../../../../data/frwiki/frwikidump_ms1.csv\n",
      "\n",
      "Starting preprocessing on: /Volumes/NIJMAN/THESIS/frwiki_extracted/ms2\n",
      "It took 12.770291805267334s to read /Volumes/NIJMAN/THESIS/frwiki_extracted/ms2.\n"
     ]
    },
    {
     "data": {
      "application/vnd.jupyter.widget-view+json": {
       "model_id": "e59b43c22e954ab3a9d681e2333e2843",
       "version_major": 2,
       "version_minor": 0
      },
      "text/plain": [
       "Progress split_dump():   0%|          | 0/794 [00:00<?, ?it/s]"
      ]
     },
     "metadata": {},
     "output_type": "display_data"
    },
    {
     "data": {
      "application/vnd.jupyter.widget-view+json": {
       "model_id": "3b771f4d4cd94bdbb809587d66689e0a",
       "version_major": 2,
       "version_minor": 0
      },
      "text/plain": [
       "Progress process_dump():   0%|          | 0/323342 [00:00<?, ?it/s]"
      ]
     },
     "metadata": {},
     "output_type": "display_data"
    },
    {
     "name": "stdout",
     "output_type": "stream",
     "text": [
      "37381 articles out of 323342 contain 2 toponyms\n",
      "Removing 11 referral pages\n",
      "file has been written to: ../../../../data/frwiki/frwikidump_ms2.csv\n",
      "\n",
      "Starting preprocessing on: /Volumes/NIJMAN/THESIS/frwiki_extracted/ms3\n",
      "It took 11.32495403289795s to read /Volumes/NIJMAN/THESIS/frwiki_extracted/ms3.\n"
     ]
    },
    {
     "data": {
      "application/vnd.jupyter.widget-view+json": {
       "model_id": "8b17e1bd549e4dbfb4b2d2153f3b3b23",
       "version_major": 2,
       "version_minor": 0
      },
      "text/plain": [
       "Progress split_dump():   0%|          | 0/567 [00:00<?, ?it/s]"
      ]
     },
     "metadata": {},
     "output_type": "display_data"
    },
    {
     "data": {
      "application/vnd.jupyter.widget-view+json": {
       "model_id": "58e0798364f541b5893145728aad5174",
       "version_major": 2,
       "version_minor": 0
      },
      "text/plain": [
       "Progress process_dump():   0%|          | 0/545167 [00:00<?, ?it/s]"
      ]
     },
     "metadata": {},
     "output_type": "display_data"
    },
    {
     "name": "stdout",
     "output_type": "stream",
     "text": [
      "28889 articles out of 545167 contain 2 toponyms\n",
      "Removing 30 referral pages\n",
      "file has been written to: ../../../../data/frwiki/frwikidump_ms3.csv\n",
      "\n",
      "Starting preprocessing on: /Volumes/NIJMAN/THESIS/frwiki_extracted/ms4\n",
      "It took 5.646147966384888s to read /Volumes/NIJMAN/THESIS/frwiki_extracted/ms4.\n"
     ]
    },
    {
     "data": {
      "application/vnd.jupyter.widget-view+json": {
       "model_id": "c1ce1b6c463b4c7bbc90d911d41e992b",
       "version_major": 2,
       "version_minor": 0
      },
      "text/plain": [
       "Progress split_dump():   0%|          | 0/149 [00:00<?, ?it/s]"
      ]
     },
     "metadata": {},
     "output_type": "display_data"
    },
    {
     "data": {
      "application/vnd.jupyter.widget-view+json": {
       "model_id": "9fb7948dfa4b4b8ea006b2769e1cd569",
       "version_major": 2,
       "version_minor": 0
      },
      "text/plain": [
       "Progress process_dump():   0%|          | 0/189230 [00:00<?, ?it/s]"
      ]
     },
     "metadata": {},
     "output_type": "display_data"
    },
    {
     "name": "stdout",
     "output_type": "stream",
     "text": [
      "7503 articles out of 189230 contain 2 toponyms\n",
      "Removing 17 referral pages\n",
      "file has been written to: ../../../../data/frwiki/frwikidump_ms4.csv\n",
      "\n",
      "Starting preprocessing on: /Volumes/NIJMAN/THESIS/frwiki_extracted/ms5\n",
      "It took 10.469121932983398s to read /Volumes/NIJMAN/THESIS/frwiki_extracted/ms5.\n"
     ]
    },
    {
     "data": {
      "application/vnd.jupyter.widget-view+json": {
       "model_id": "fb7ce8a96ef64228b318096f2d0b31ae",
       "version_major": 2,
       "version_minor": 0
      },
      "text/plain": [
       "Progress split_dump():   0%|          | 0/535 [00:00<?, ?it/s]"
      ]
     },
     "metadata": {},
     "output_type": "display_data"
    },
    {
     "data": {
      "application/vnd.jupyter.widget-view+json": {
       "model_id": "9a5d5849b42d4f328e4562fcd127b89f",
       "version_major": 2,
       "version_minor": 0
      },
      "text/plain": [
       "Progress process_dump():   0%|          | 0/446533 [00:00<?, ?it/s]"
      ]
     },
     "metadata": {},
     "output_type": "display_data"
    },
    {
     "name": "stdout",
     "output_type": "stream",
     "text": [
      "28382 articles out of 446533 contain 2 toponyms\n",
      "Removing 92 referral pages\n",
      "file has been written to: ../../../../data/frwiki/frwikidump_ms5.csv\n",
      "\n",
      "Starting preprocessing on: /Volumes/NIJMAN/THESIS/frwiki_extracted/ms6\n",
      "It took 5.838398218154907s to read /Volumes/NIJMAN/THESIS/frwiki_extracted/ms6.\n"
     ]
    },
    {
     "data": {
      "application/vnd.jupyter.widget-view+json": {
       "model_id": "628c4a45cc1a4fc1822da6588918d331",
       "version_major": 2,
       "version_minor": 0
      },
      "text/plain": [
       "Progress split_dump():   0%|          | 0/246 [00:00<?, ?it/s]"
      ]
     },
     "metadata": {},
     "output_type": "display_data"
    },
    {
     "data": {
      "application/vnd.jupyter.widget-view+json": {
       "model_id": "1bb23d1a071c4957a6be55fba01f0011",
       "version_major": 2,
       "version_minor": 0
      },
      "text/plain": [
       "Progress process_dump():   0%|          | 0/228636 [00:00<?, ?it/s]"
      ]
     },
     "metadata": {},
     "output_type": "display_data"
    },
    {
     "name": "stdout",
     "output_type": "stream",
     "text": [
      "14817 articles out of 228636 contain 2 toponyms\n",
      "Removing 38 referral pages\n",
      "file has been written to: ../../../../data/frwiki/frwikidump_ms6.csv\n",
      "\n",
      "Starting preprocessing on: /Volumes/NIJMAN/THESIS/frwiki_extracted/ms7\n",
      "It took 9.150965929031372s to read /Volumes/NIJMAN/THESIS/frwiki_extracted/ms7.\n"
     ]
    },
    {
     "data": {
      "application/vnd.jupyter.widget-view+json": {
       "model_id": "edf6b775bf8e4ed0a9e427dc7c29f252",
       "version_major": 2,
       "version_minor": 0
      },
      "text/plain": [
       "Progress split_dump():   0%|          | 0/454 [00:00<?, ?it/s]"
      ]
     },
     "metadata": {},
     "output_type": "display_data"
    },
    {
     "data": {
      "application/vnd.jupyter.widget-view+json": {
       "model_id": "a4a97b12e8a24b8e9f8ba201fed51e9e",
       "version_major": 2,
       "version_minor": 0
      },
      "text/plain": [
       "Progress process_dump():   0%|          | 0/428552 [00:00<?, ?it/s]"
      ]
     },
     "metadata": {},
     "output_type": "display_data"
    },
    {
     "name": "stdout",
     "output_type": "stream",
     "text": [
      "26329 articles out of 428552 contain 2 toponyms\n",
      "Removing 72 referral pages\n",
      "file has been written to: ../../../../data/frwiki/frwikidump_ms7.csv\n",
      "\n",
      "Starting preprocessing on: /Volumes/NIJMAN/THESIS/frwiki_extracted/ms8\n",
      "It took 4.507461786270142s to read /Volumes/NIJMAN/THESIS/frwiki_extracted/ms8.\n"
     ]
    },
    {
     "data": {
      "application/vnd.jupyter.widget-view+json": {
       "model_id": "cc2f96b70e71462eab23c5f828f77599",
       "version_major": 2,
       "version_minor": 0
      },
      "text/plain": [
       "Progress split_dump():   0%|          | 0/362 [00:00<?, ?it/s]"
      ]
     },
     "metadata": {},
     "output_type": "display_data"
    },
    {
     "data": {
      "application/vnd.jupyter.widget-view+json": {
       "model_id": "279f75afc6da44a4831e2a5a48074de4",
       "version_major": 2,
       "version_minor": 0
      },
      "text/plain": [
       "Progress process_dump():   0%|          | 0/350754 [00:00<?, ?it/s]"
      ]
     },
     "metadata": {},
     "output_type": "display_data"
    },
    {
     "name": "stdout",
     "output_type": "stream",
     "text": [
      "21138 articles out of 350754 contain 2 toponyms\n",
      "Removing 34 referral pages\n",
      "file has been written to: ../../../../data/frwiki/frwikidump_ms8.csv\n",
      "\n",
      "Starting preprocessing on: /Volumes/NIJMAN/THESIS/frwiki_extracted/ms9\n",
      "It took 1.8405041694641113s to read /Volumes/NIJMAN/THESIS/frwiki_extracted/ms9.\n"
     ]
    },
    {
     "data": {
      "application/vnd.jupyter.widget-view+json": {
       "model_id": "cdd313138ee047b098b5defa4912ef14",
       "version_major": 2,
       "version_minor": 0
      },
      "text/plain": [
       "Progress split_dump():   0%|          | 0/139 [00:00<?, ?it/s]"
      ]
     },
     "metadata": {},
     "output_type": "display_data"
    },
    {
     "data": {
      "application/vnd.jupyter.widget-view+json": {
       "model_id": "bbff950c1e774847be323d94c9e13843",
       "version_major": 2,
       "version_minor": 0
      },
      "text/plain": [
       "Progress process_dump():   0%|          | 0/129239 [00:00<?, ?it/s]"
      ]
     },
     "metadata": {},
     "output_type": "display_data"
    },
    {
     "name": "stdout",
     "output_type": "stream",
     "text": [
      "8570 articles out of 129239 contain 2 toponyms\n",
      "Removing 20 referral pages\n",
      "file has been written to: ../../../../data/frwiki/frwikidump_ms9.csv\n",
      "\n",
      "Starting preprocessing on: /Volumes/NIJMAN/THESIS/frwiki_extracted/ms10\n",
      "It took 4.210906982421875s to read /Volumes/NIJMAN/THESIS/frwiki_extracted/ms10.\n"
     ]
    },
    {
     "data": {
      "application/vnd.jupyter.widget-view+json": {
       "model_id": "2df02e025de941b6bc618a47b1c29069",
       "version_major": 2,
       "version_minor": 0
      },
      "text/plain": [
       "Progress split_dump():   0%|          | 0/327 [00:00<?, ?it/s]"
      ]
     },
     "metadata": {},
     "output_type": "display_data"
    },
    {
     "data": {
      "application/vnd.jupyter.widget-view+json": {
       "model_id": "8d31dfda75994b9299c8a74103dd2ff0",
       "version_major": 2,
       "version_minor": 0
      },
      "text/plain": [
       "Progress process_dump():   0%|          | 0/319747 [00:00<?, ?it/s]"
      ]
     },
     "metadata": {},
     "output_type": "display_data"
    },
    {
     "name": "stdout",
     "output_type": "stream",
     "text": [
      "19052 articles out of 319747 contain 2 toponyms\n",
      "Removing 22 referral pages\n",
      "file has been written to: ../../../../data/frwiki/frwikidump_ms10.csv\n",
      "\n",
      "Starting preprocessing on: /Volumes/NIJMAN/THESIS/frwiki_extracted/ms11\n",
      "It took 6.790105104446411s to read /Volumes/NIJMAN/THESIS/frwiki_extracted/ms11.\n"
     ]
    },
    {
     "data": {
      "application/vnd.jupyter.widget-view+json": {
       "model_id": "380f2f4e5c25468a8a7b54897b2c145f",
       "version_major": 2,
       "version_minor": 0
      },
      "text/plain": [
       "Progress split_dump():   0%|          | 0/332 [00:00<?, ?it/s]"
      ]
     },
     "metadata": {},
     "output_type": "display_data"
    },
    {
     "data": {
      "application/vnd.jupyter.widget-view+json": {
       "model_id": "8bf7d8d8de954381a85ec7f3775c733b",
       "version_major": 2,
       "version_minor": 0
      },
      "text/plain": [
       "Progress process_dump():   0%|          | 0/312521 [00:00<?, ?it/s]"
      ]
     },
     "metadata": {},
     "output_type": "display_data"
    },
    {
     "name": "stdout",
     "output_type": "stream",
     "text": [
      "18419 articles out of 312521 contain 2 toponyms\n",
      "Removing 39 referral pages\n",
      "file has been written to: ../../../../data/frwiki/frwikidump_ms11.csv\n",
      "\n",
      "Starting preprocessing on: /Volumes/NIJMAN/THESIS/frwiki_extracted/ms12\n",
      "It took 7.955502033233643s to read /Volumes/NIJMAN/THESIS/frwiki_extracted/ms12.\n"
     ]
    },
    {
     "data": {
      "application/vnd.jupyter.widget-view+json": {
       "model_id": "c439546dfcec4ddbb9e413ecdba2802f",
       "version_major": 2,
       "version_minor": 0
      },
      "text/plain": [
       "Progress split_dump():   0%|          | 0/378 [00:00<?, ?it/s]"
      ]
     },
     "metadata": {},
     "output_type": "display_data"
    },
    {
     "data": {
      "application/vnd.jupyter.widget-view+json": {
       "model_id": "9e40314a6b4b489ebea6c8d45393624f",
       "version_major": 2,
       "version_minor": 0
      },
      "text/plain": [
       "Progress process_dump():   0%|          | 0/339629 [00:00<?, ?it/s]"
      ]
     },
     "metadata": {},
     "output_type": "display_data"
    },
    {
     "name": "stdout",
     "output_type": "stream",
     "text": [
      "21686 articles out of 339629 contain 2 toponyms\n",
      "Removing 28 referral pages\n",
      "file has been written to: ../../../../data/frwiki/frwikidump_ms12.csv\n",
      "\n",
      "Starting preprocessing on: /Volumes/NIJMAN/THESIS/frwiki_extracted/ms13\n",
      "It took 6.848477125167847s to read /Volumes/NIJMAN/THESIS/frwiki_extracted/ms13.\n"
     ]
    },
    {
     "data": {
      "application/vnd.jupyter.widget-view+json": {
       "model_id": "bb4130b5c96d4ff896888f1b09b6b53f",
       "version_major": 2,
       "version_minor": 0
      },
      "text/plain": [
       "Progress split_dump():   0%|          | 0/320 [00:00<?, ?it/s]"
      ]
     },
     "metadata": {},
     "output_type": "display_data"
    },
    {
     "data": {
      "application/vnd.jupyter.widget-view+json": {
       "model_id": "89c28501bb0d43f3bfe1a1ff49357c8f",
       "version_major": 2,
       "version_minor": 0
      },
      "text/plain": [
       "Progress process_dump():   0%|          | 0/280937 [00:00<?, ?it/s]"
      ]
     },
     "metadata": {},
     "output_type": "display_data"
    },
    {
     "name": "stdout",
     "output_type": "stream",
     "text": [
      "18338 articles out of 280937 contain 2 toponyms\n",
      "Removing 23 referral pages\n",
      "file has been written to: ../../../../data/frwiki/frwikidump_ms13.csv\n",
      "----------\n",
      "Files in /Volumes/NIJMAN/THESIS/frwiki_extracted have been processed\n",
      "----------\n"
     ]
    }
   ],
   "source": [
    "for lang in lang_list:\n",
    "    base_dir = f\"/Volumes/NIJMAN/THESIS/{lang}wiki_extracted\" # path/to/wikidump/extracted\n",
    "\n",
    "    # load city list\n",
    "    name_col = f'Mua_{lang}' \n",
    "    cities_ls = [unidecode.unidecode(city_component) \n",
    "             for city in cities[name_col] \n",
    "             for city_component in city.split('-')]\n",
    "    \n",
    "    # do the whole preprocessing/extraction thing\n",
    "    preprocess(base_dir, data_dir, lang, cities_ls, overwrite_protection = False)"
   ]
  },
  {
   "cell_type": "code",
   "execution_count": 7,
   "id": "e0c2d4e8",
   "metadata": {},
   "outputs": [
    {
     "name": "stdout",
     "output_type": "stream",
     "text": [
      "Mon Jul  4 05:46:33 2022\n"
     ]
    }
   ],
   "source": [
    "print(time.asctime(time.localtime(time.time())))"
   ]
  },
  {
   "cell_type": "markdown",
   "id": "40759645",
   "metadata": {},
   "source": [
    "## Create Co-occurence matrix"
   ]
  },
  {
   "cell_type": "code",
   "execution_count": 8,
   "id": "747f17d0",
   "metadata": {},
   "outputs": [
    {
     "data": {
      "application/vnd.jupyter.widget-view+json": {
       "model_id": "bb52a3831ae24a48bef97cfc5ad47c93",
       "version_major": 2,
       "version_minor": 0
      },
      "text/plain": [
       "Articles processed:   0%|          | 0/508671 [00:00<?, ?it/s]"
      ]
     },
     "metadata": {},
     "output_type": "display_data"
    },
    {
     "name": "stdout",
     "output_type": "stream",
     "text": [
      "It took 14663.291790246964s to process the corpus.\n",
      "Matrix has been written to: ../../output/en_matrix.csv\n"
     ]
    },
    {
     "data": {
      "application/vnd.jupyter.widget-view+json": {
       "model_id": "ce2b14ac56f94421913954a20e6eefbc",
       "version_major": 2,
       "version_minor": 0
      },
      "text/plain": [
       "Articles processed:   0%|          | 0/274578 [00:00<?, ?it/s]"
      ]
     },
     "metadata": {},
     "output_type": "display_data"
    },
    {
     "name": "stdout",
     "output_type": "stream",
     "text": [
      "It took 6564.615874052048s to process the corpus.\n",
      "Matrix has been written to: ../../output/fr_matrix.csv\n"
     ]
    }
   ],
   "source": [
    "# create co-occurence matrix\n",
    "for lang in lang_list:\n",
    "    name_col = f'Mua_{lang}'\n",
    "\n",
    "    # list of complete city names\n",
    "    city_l = [unidecode.unidecode(city) for city in cities[name_col]]\n",
    "    \n",
    "    # folder of extracted streams\n",
    "    inputfp = os.path.join(data_dir, f'{lang}wiki/')\n",
    "    \n",
    "    #- loop over .csv files create dataframes\n",
    "    df = pd.DataFrame(columns = ['article_id', 'title', 'text'])\n",
    "    # iterate over directory for each file path, create a dataframe\n",
    "    for file in os.listdir(inputfp):\n",
    "        fp = os.path.join(inputfp, file)\n",
    "        df_temp = pd.read_csv(fp)\n",
    "        df = pd.concat([df, df_temp])\n",
    "    \n",
    "    # create matrix\n",
    "    t0 = time.time()\n",
    "\n",
    "    matrix = process_corpus(df.text, city_l)\n",
    "\n",
    "    t1 = time.time()\n",
    "    total = t1-t0\n",
    "    print(f\"It took {total}s to process the corpus.\")\n",
    "    \n",
    "    # save matrix\n",
    "    FILENAME = f\"{lang}_matrix.csv\"\n",
    "\n",
    "    write_matrix(matrix = matrix, \n",
    "                 outdir = out_dir, \n",
    "                 filename = FILENAME)\n"
   ]
  },
  {
   "cell_type": "code",
   "execution_count": 9,
   "id": "4a682f3e",
   "metadata": {},
   "outputs": [
    {
     "name": "stdout",
     "output_type": "stream",
     "text": [
      "Mon Jul  4 11:41:15 2022\n"
     ]
    }
   ],
   "source": [
    "print(time.asctime(time.localtime(time.time())))\n"
   ]
  },
  {
   "cell_type": "code",
   "execution_count": 10,
   "id": "0ffe5d8c",
   "metadata": {},
   "outputs": [],
   "source": [
    "# create city-pairs dataframe\n",
    "\n",
    "for lang in lang_list:\n",
    "    # load matrix\n",
    "    FILENAME = f\"{lang}_matrix.csv\"\n",
    "    matrix = pd.read_csv(os.path.join(out_dir, FILENAME))\n",
    "    matrix.set_index('index', inplace=True)\n",
    "    \n",
    "    \n",
    "    # create city pairs list\n",
    "    citylink = create_citylink(matrix)\n",
    "    \n",
    "    # as dataframe\n",
    "    df = pd.DataFrame(citylink, columns = ['city_A', 'city_B', f'col_{lang}'])\n",
    "    \n",
    "    # save as csv\n",
    "    FILENAME = f\"citypairs_{lang}.csv\"\n",
    "    fp = os.path.join(out_dir, FILENAME)\n",
    "    \n",
    "    df.to_csv(fp, index = False)"
   ]
  },
  {
   "cell_type": "code",
   "execution_count": 5,
   "id": "845c1c6a",
   "metadata": {},
   "outputs": [
    {
     "data": {
      "text/html": [
       "<div>\n",
       "<style scoped>\n",
       "    .dataframe tbody tr th:only-of-type {\n",
       "        vertical-align: middle;\n",
       "    }\n",
       "\n",
       "    .dataframe tbody tr th {\n",
       "        vertical-align: top;\n",
       "    }\n",
       "\n",
       "    .dataframe thead th {\n",
       "        text-align: right;\n",
       "    }\n",
       "</style>\n",
       "<table border=\"1\" class=\"dataframe\">\n",
       "  <thead>\n",
       "    <tr style=\"text-align: right;\">\n",
       "      <th></th>\n",
       "      <th>city_A</th>\n",
       "      <th>city_B</th>\n",
       "      <th>col_fr</th>\n",
       "    </tr>\n",
       "  </thead>\n",
       "  <tbody>\n",
       "    <tr>\n",
       "      <th>0</th>\n",
       "      <td>Paris</td>\n",
       "      <td>Londres</td>\n",
       "      <td>10733.0</td>\n",
       "    </tr>\n",
       "    <tr>\n",
       "      <th>1</th>\n",
       "      <td>Paris</td>\n",
       "      <td>Madrid</td>\n",
       "      <td>2404.0</td>\n",
       "    </tr>\n",
       "    <tr>\n",
       "      <th>2</th>\n",
       "      <td>Paris</td>\n",
       "      <td>Berlin</td>\n",
       "      <td>4723.0</td>\n",
       "    </tr>\n",
       "    <tr>\n",
       "      <th>3</th>\n",
       "      <td>Paris</td>\n",
       "      <td>Milan</td>\n",
       "      <td>2713.0</td>\n",
       "    </tr>\n",
       "    <tr>\n",
       "      <th>4</th>\n",
       "      <td>Paris</td>\n",
       "      <td>Barcelone</td>\n",
       "      <td>1696.0</td>\n",
       "    </tr>\n",
       "  </tbody>\n",
       "</table>\n",
       "</div>"
      ],
      "text/plain": [
       "  city_A     city_B   col_fr\n",
       "0  Paris    Londres  10733.0\n",
       "1  Paris     Madrid   2404.0\n",
       "2  Paris     Berlin   4723.0\n",
       "3  Paris      Milan   2713.0\n",
       "4  Paris  Barcelone   1696.0"
      ]
     },
     "execution_count": 5,
     "metadata": {},
     "output_type": "execute_result"
    }
   ],
   "source": [
    "df.head()"
   ]
  }
 ],
 "metadata": {
  "kernelspec": {
   "display_name": "Python 3 (ipykernel)",
   "language": "python",
   "name": "python3"
  },
  "language_info": {
   "codemirror_mode": {
    "name": "ipython",
    "version": 3
   },
   "file_extension": ".py",
   "mimetype": "text/x-python",
   "name": "python",
   "nbconvert_exporter": "python",
   "pygments_lexer": "ipython3",
   "version": "3.10.4"
  }
 },
 "nbformat": 4,
 "nbformat_minor": 5
}
