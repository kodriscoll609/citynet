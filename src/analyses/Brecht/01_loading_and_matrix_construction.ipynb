{
 "cells": [
  {
   "cell_type": "code",
   "execution_count": 1,
   "id": "2e114d6b",
   "metadata": {},
   "outputs": [],
   "source": [
    "# load packages\n",
    "import re, string\n",
    "import pandas as pd\n",
    "import numpy as np\n",
    "import os\n",
    "import time\n",
    "from tqdm.notebook import tqdm\n",
    "import unidecode\n",
    "import matplotlib.pyplot as plt\n",
    "%matplotlib inline\n",
    "\n",
    "# import from script\n",
    "from preprocessing_functions import *"
   ]
  },
  {
   "cell_type": "code",
   "execution_count": 2,
   "id": "eee5d7d6",
   "metadata": {},
   "outputs": [],
   "source": [
    "data_dir = f'../../../../data/' # directory where new directories will be created for each language\n",
    "out_dir = '../../output/'\n",
    "in_dir = '../../input/'\n",
    "\n",
    "# list of languages to iterate over\n",
    "lang_list = ['en', 'fr']"
   ]
  },
  {
   "cell_type": "code",
   "execution_count": 3,
   "id": "89a3a230",
   "metadata": {},
   "outputs": [],
   "source": [
    "# cities dataframe\n",
    "fp = '../../input/List_of_cities_300k.csv' # path to csv with city information\n",
    "cities = pd.read_csv(fp, sep=';')"
   ]
  },
  {
   "cell_type": "markdown",
   "id": "3aaf2cf0",
   "metadata": {},
   "source": [
    "### Discard unrelated articles"
   ]
  },
  {
   "cell_type": "code",
   "execution_count": 2,
   "id": "f7d23436",
   "metadata": {},
   "outputs": [
    {
     "data": {
      "application/vnd.jupyter.widget-view+json": {
       "model_id": "484a1646c6484f8e9048316ee3b409a9",
       "version_major": 2,
       "version_minor": 0
      },
      "text/plain": [
       "Progress Total:   0%|          | 0/70 [00:00<?, ?it/s]"
      ]
     },
     "metadata": {},
     "output_type": "display_data"
    },
    {
     "name": "stdout",
     "output_type": "stream",
     "text": [
      "\n",
      "Starting preprocessing on: /Volumes/NIJMAN/THESIS/enwiki_extracted/ms8\n",
      "It took 4.222147226333618s to read /Volumes/NIJMAN/THESIS/enwiki_extracted/ms8.\n"
     ]
    },
    {
     "data": {
      "application/vnd.jupyter.widget-view+json": {
       "model_id": "4db46d74e9be4c14a5bd4100ef9d5b88",
       "version_major": 2,
       "version_minor": 0
      },
      "text/plain": [
       "Progress split_dump():   0%|          | 0/550 [00:00<?, ?it/s]"
      ]
     },
     "metadata": {},
     "output_type": "display_data"
    },
    {
     "data": {
      "application/vnd.jupyter.widget-view+json": {
       "model_id": "a24d60b405394ecd87ffde0eb14ab982",
       "version_major": 2,
       "version_minor": 0
      },
      "text/plain": [
       "Progress process_dump():   0%|          | 0/292718 [00:00<?, ?it/s]"
      ]
     },
     "metadata": {},
     "output_type": "display_data"
    },
    {
     "name": "stdout",
     "output_type": "stream",
     "text": [
      "5.63% of articles contain 2 toponyms\n",
      "Removing 17 referral pages\n",
      "file has been written to: ../../../../data/enwiki/enwikidump_ms8.csv\n",
      "\n",
      "Starting preprocessing on: /Volumes/NIJMAN/THESIS/enwiki_extracted/ms6\n",
      "It took 6.659209966659546s to read /Volumes/NIJMAN/THESIS/enwiki_extracted/ms6.\n"
     ]
    },
    {
     "data": {
      "application/vnd.jupyter.widget-view+json": {
       "model_id": "d3c29bb05a414ac7b2650930d771fedf",
       "version_major": 2,
       "version_minor": 0
      },
      "text/plain": [
       "Progress split_dump():   0%|          | 0/565 [00:00<?, ?it/s]"
      ]
     },
     "metadata": {},
     "output_type": "display_data"
    },
    {
     "data": {
      "application/vnd.jupyter.widget-view+json": {
       "model_id": "b86351c2472245bf96594f769b48803e",
       "version_major": 2,
       "version_minor": 0
      },
      "text/plain": [
       "Progress process_dump():   0%|          | 0/222323 [00:00<?, ?it/s]"
      ]
     },
     "metadata": {},
     "output_type": "display_data"
    },
    {
     "name": "stdout",
     "output_type": "stream",
     "text": [
      "7.23% of articles contain 2 toponyms\n",
      "Removing 1 referral pages\n",
      "file has been written to: ../../../../data/enwiki/enwikidump_ms6.csv\n",
      "Skipping: /Volumes/NIJMAN/THESIS/enwiki_extracted/.DS_Store\n",
      "Skipping: /Volumes/NIJMAN/THESIS/enwiki_extracted/._.DS_Store\n",
      "\n",
      "Starting preprocessing on: /Volumes/NIJMAN/THESIS/enwiki_extracted/ms1\n",
      "It took 2.935770034790039s to read /Volumes/NIJMAN/THESIS/enwiki_extracted/ms1.\n"
     ]
    },
    {
     "data": {
      "application/vnd.jupyter.widget-view+json": {
       "model_id": "6d3ce65d12994f2ab7025530058c759c",
       "version_major": 2,
       "version_minor": 0
      },
      "text/plain": [
       "Progress split_dump():   0%|          | 0/346 [00:00<?, ?it/s]"
      ]
     },
     "metadata": {},
     "output_type": "display_data"
    },
    {
     "data": {
      "application/vnd.jupyter.widget-view+json": {
       "model_id": "b4898e9c09e648bea778e6d1e57195b4",
       "version_major": 2,
       "version_minor": 0
      },
      "text/plain": [
       "Progress process_dump():   0%|          | 0/27503 [00:00<?, ?it/s]"
      ]
     },
     "metadata": {},
     "output_type": "display_data"
    },
    {
     "name": "stdout",
     "output_type": "stream",
     "text": [
      "19.81% of articles contain 2 toponyms\n",
      "Removing 0 referral pages\n",
      "file has been written to: ../../../../data/enwiki/enwikidump_ms1.csv\n",
      "\n",
      "Starting preprocessing on: /Volumes/NIJMAN/THESIS/enwiki_extracted/ms7\n",
      "It took 4.507014274597168s to read /Volumes/NIJMAN/THESIS/enwiki_extracted/ms7.\n"
     ]
    },
    {
     "data": {
      "application/vnd.jupyter.widget-view+json": {
       "model_id": "ebcefd5d22ef4e63be4217b48ea6ae43",
       "version_major": 2,
       "version_minor": 0
      },
      "text/plain": [
       "Progress split_dump():   0%|          | 0/559 [00:00<?, ?it/s]"
      ]
     },
     "metadata": {},
     "output_type": "display_data"
    },
    {
     "data": {
      "application/vnd.jupyter.widget-view+json": {
       "model_id": "f98d50a8f67e49c6a2861e78c7126cbf",
       "version_major": 2,
       "version_minor": 0
      },
      "text/plain": [
       "Progress process_dump():   0%|          | 0/266286 [00:00<?, ?it/s]"
      ]
     },
     "metadata": {},
     "output_type": "display_data"
    },
    {
     "name": "stdout",
     "output_type": "stream",
     "text": [
      "5.81% of articles contain 2 toponyms\n",
      "Removing 12 referral pages\n",
      "file has been written to: ../../../../data/enwiki/enwikidump_ms7.csv\n",
      "\n",
      "Starting preprocessing on: /Volumes/NIJMAN/THESIS/enwiki_extracted/ms9\n",
      "It took 5.070642948150635s to read /Volumes/NIJMAN/THESIS/enwiki_extracted/ms9.\n"
     ]
    },
    {
     "data": {
      "application/vnd.jupyter.widget-view+json": {
       "model_id": "2ccd5d92daba4cb89a65a09e816f9685",
       "version_major": 2,
       "version_minor": 0
      },
      "text/plain": [
       "Progress split_dump():   0%|          | 0/573 [00:00<?, ?it/s]"
      ]
     },
     "metadata": {},
     "output_type": "display_data"
    },
    {
     "data": {
      "application/vnd.jupyter.widget-view+json": {
       "model_id": "86c160a875ad4829b6c4740c75553d44",
       "version_major": 2,
       "version_minor": 0
      },
      "text/plain": [
       "Progress process_dump():   0%|          | 0/345965 [00:00<?, ?it/s]"
      ]
     },
     "metadata": {},
     "output_type": "display_data"
    },
    {
     "name": "stdout",
     "output_type": "stream",
     "text": [
      "5.04% of articles contain 2 toponyms\n",
      "Removing 12 referral pages\n",
      "file has been written to: ../../../../data/enwiki/enwikidump_ms9.csv\n",
      "\n",
      "Starting preprocessing on: /Volumes/NIJMAN/THESIS/enwiki_extracted/ms2\n",
      "It took 4.579323768615723s to read /Volumes/NIJMAN/THESIS/enwiki_extracted/ms2.\n"
     ]
    },
    {
     "data": {
      "application/vnd.jupyter.widget-view+json": {
       "model_id": "00aa5b5a6fe84b738e4791c0ac8bc037",
       "version_major": 2,
       "version_minor": 0
      },
      "text/plain": [
       "Progress split_dump():   0%|          | 0/521 [00:00<?, ?it/s]"
      ]
     },
     "metadata": {},
     "output_type": "display_data"
    },
    {
     "data": {
      "application/vnd.jupyter.widget-view+json": {
       "model_id": "89b073e168af41e481fb5f4fa2feeb2d",
       "version_major": 2,
       "version_minor": 0
      },
      "text/plain": [
       "Progress process_dump():   0%|          | 0/83597 [00:00<?, ?it/s]"
      ]
     },
     "metadata": {},
     "output_type": "display_data"
    },
    {
     "name": "stdout",
     "output_type": "stream",
     "text": [
      "9.87% of articles contain 2 toponyms\n",
      "Removing 1 referral pages\n",
      "file has been written to: ../../../../data/enwiki/enwikidump_ms2.csv\n",
      "\n",
      "Starting preprocessing on: /Volumes/NIJMAN/THESIS/enwiki_extracted/ms5\n",
      "It took 4.952727794647217s to read /Volumes/NIJMAN/THESIS/enwiki_extracted/ms5.\n"
     ]
    },
    {
     "data": {
      "application/vnd.jupyter.widget-view+json": {
       "model_id": "e7e95a2d497742bba92cfe8484e5391b",
       "version_major": 2,
       "version_minor": 0
      },
      "text/plain": [
       "Progress split_dump():   0%|          | 0/540 [00:00<?, ?it/s]"
      ]
     },
     "metadata": {},
     "output_type": "display_data"
    },
    {
     "data": {
      "application/vnd.jupyter.widget-view+json": {
       "model_id": "5b2ab4af323f44eca7ddb64f8de72e2d",
       "version_major": 2,
       "version_minor": 0
      },
      "text/plain": [
       "Progress process_dump():   0%|          | 0/209056 [00:00<?, ?it/s]"
      ]
     },
     "metadata": {},
     "output_type": "display_data"
    },
    {
     "name": "stdout",
     "output_type": "stream",
     "text": [
      "6.68% of articles contain 2 toponyms\n",
      "Removing 5 referral pages\n",
      "file has been written to: ../../../../data/enwiki/enwikidump_ms5.csv\n",
      "\n",
      "Starting preprocessing on: /Volumes/NIJMAN/THESIS/enwiki_extracted/ms4\n",
      "It took 4.853988170623779s to read /Volumes/NIJMAN/THESIS/enwiki_extracted/ms4.\n"
     ]
    },
    {
     "data": {
      "application/vnd.jupyter.widget-view+json": {
       "model_id": "8eeeaae7691a484c89b3c21e9d50f5e0",
       "version_major": 2,
       "version_minor": 0
      },
      "text/plain": [
       "Progress split_dump():   0%|          | 0/529 [00:00<?, ?it/s]"
      ]
     },
     "metadata": {},
     "output_type": "display_data"
    },
    {
     "data": {
      "application/vnd.jupyter.widget-view+json": {
       "model_id": "f077349333e7401cb7e4f15e25c63cda",
       "version_major": 2,
       "version_minor": 0
      },
      "text/plain": [
       "Progress process_dump():   0%|          | 0/138287 [00:00<?, ?it/s]"
      ]
     },
     "metadata": {},
     "output_type": "display_data"
    },
    {
     "name": "stdout",
     "output_type": "stream",
     "text": [
      "9.47% of articles contain 2 toponyms\n",
      "Removing 5 referral pages\n",
      "file has been written to: ../../../../data/enwiki/enwikidump_ms4.csv\n",
      "\n",
      "Starting preprocessing on: /Volumes/NIJMAN/THESIS/enwiki_extracted/ms3\n",
      "It took 4.472886085510254s to read /Volumes/NIJMAN/THESIS/enwiki_extracted/ms3.\n"
     ]
    },
    {
     "data": {
      "application/vnd.jupyter.widget-view+json": {
       "model_id": "5a726c7b6d9f42c1a1786db3cf02ff7d",
       "version_major": 2,
       "version_minor": 0
      },
      "text/plain": [
       "Progress split_dump():   0%|          | 0/492 [00:00<?, ?it/s]"
      ]
     },
     "metadata": {},
     "output_type": "display_data"
    },
    {
     "data": {
      "application/vnd.jupyter.widget-view+json": {
       "model_id": "5c3caeedb2304b519bcd538208e0cab1",
       "version_major": 2,
       "version_minor": 0
      },
      "text/plain": [
       "Progress process_dump():   0%|          | 0/88831 [00:00<?, ?it/s]"
      ]
     },
     "metadata": {},
     "output_type": "display_data"
    },
    {
     "name": "stdout",
     "output_type": "stream",
     "text": [
      "13.27% of articles contain 2 toponyms\n",
      "Removing 3 referral pages\n",
      "file has been written to: ../../../../data/enwiki/enwikidump_ms3.csv\n",
      "\n",
      "Starting preprocessing on: /Volumes/NIJMAN/THESIS/enwiki_extracted/ms10\n",
      "It took 5.034361124038696s to read /Volumes/NIJMAN/THESIS/enwiki_extracted/ms10.\n"
     ]
    },
    {
     "data": {
      "application/vnd.jupyter.widget-view+json": {
       "model_id": "2a7b84a4c6884ede93924c068994fb99",
       "version_major": 2,
       "version_minor": 0
      },
      "text/plain": [
       "Progress split_dump():   0%|          | 0/545 [00:00<?, ?it/s]"
      ]
     },
     "metadata": {},
     "output_type": "display_data"
    },
    {
     "data": {
      "application/vnd.jupyter.widget-view+json": {
       "model_id": "6cf5e37e90174f3da42400c5465350a1",
       "version_major": 2,
       "version_minor": 0
      },
      "text/plain": [
       "Progress process_dump():   0%|          | 0/376352 [00:00<?, ?it/s]"
      ]
     },
     "metadata": {},
     "output_type": "display_data"
    },
    {
     "name": "stdout",
     "output_type": "stream",
     "text": [
      "4.39% of articles contain 2 toponyms\n",
      "Removing 21 referral pages\n",
      "file has been written to: ../../../../data/enwiki/enwikidump_ms10.csv\n",
      "\n",
      "Starting preprocessing on: /Volumes/NIJMAN/THESIS/enwiki_extracted/ms11\n",
      "It took 4.819719076156616s to read /Volumes/NIJMAN/THESIS/enwiki_extracted/ms11.\n"
     ]
    },
    {
     "data": {
      "application/vnd.jupyter.widget-view+json": {
       "model_id": "9ba82dde08b74904b46377768a1b8394",
       "version_major": 2,
       "version_minor": 0
      },
      "text/plain": [
       "Progress split_dump():   0%|          | 0/505 [00:00<?, ?it/s]"
      ]
     },
     "metadata": {},
     "output_type": "display_data"
    },
    {
     "data": {
      "application/vnd.jupyter.widget-view+json": {
       "model_id": "b3312810f0b9428183d5c8bf2fd52a35",
       "version_major": 2,
       "version_minor": 0
      },
      "text/plain": [
       "Progress process_dump():   0%|          | 0/385132 [00:00<?, ?it/s]"
      ]
     },
     "metadata": {},
     "output_type": "display_data"
    },
    {
     "name": "stdout",
     "output_type": "stream",
     "text": [
      "4.29% of articles contain 2 toponyms\n",
      "Removing 14 referral pages\n",
      "file has been written to: ../../../../data/enwiki/enwikidump_ms11.csv\n",
      "\n",
      "Starting preprocessing on: /Volumes/NIJMAN/THESIS/enwiki_extracted/ms12\n",
      "It took 0.641721248626709s to read /Volumes/NIJMAN/THESIS/enwiki_extracted/ms12.\n"
     ]
    },
    {
     "data": {
      "application/vnd.jupyter.widget-view+json": {
       "model_id": "ddac6e3b27cc4d92a61d8a07d4b0b435",
       "version_major": 2,
       "version_minor": 0
      },
      "text/plain": [
       "Progress split_dump():   0%|          | 0/49 [00:00<?, ?it/s]"
      ]
     },
     "metadata": {},
     "output_type": "display_data"
    },
    {
     "data": {
      "application/vnd.jupyter.widget-view+json": {
       "model_id": "e4467ed8ba5e4da6ac6d4cb7f561ac19",
       "version_major": 2,
       "version_minor": 0
      },
      "text/plain": [
       "Progress process_dump():   0%|          | 0/36777 [00:00<?, ?it/s]"
      ]
     },
     "metadata": {},
     "output_type": "display_data"
    },
    {
     "name": "stdout",
     "output_type": "stream",
     "text": [
      "3.91% of articles contain 2 toponyms\n",
      "Removing 1 referral pages\n",
      "file has been written to: ../../../../data/enwiki/enwikidump_ms12.csv\n",
      "\n",
      "Starting preprocessing on: /Volumes/NIJMAN/THESIS/enwiki_extracted/ms15\n",
      "It took 5.698629856109619s to read /Volumes/NIJMAN/THESIS/enwiki_extracted/ms15.\n"
     ]
    },
    {
     "data": {
      "application/vnd.jupyter.widget-view+json": {
       "model_id": "59832b55d15a4fcfa8c15db6b19c83ac",
       "version_major": 2,
       "version_minor": 0
      },
      "text/plain": [
       "Progress split_dump():   0%|          | 0/314 [00:00<?, ?it/s]"
      ]
     },
     "metadata": {},
     "output_type": "display_data"
    },
    {
     "data": {
      "application/vnd.jupyter.widget-view+json": {
       "model_id": "1de10a6bd2fb48878491a543bb664480",
       "version_major": 2,
       "version_minor": 0
      },
      "text/plain": [
       "Progress process_dump():   0%|          | 0/276494 [00:00<?, ?it/s]"
      ]
     },
     "metadata": {},
     "output_type": "display_data"
    },
    {
     "name": "stdout",
     "output_type": "stream",
     "text": [
      "3.71% of articles contain 2 toponyms\n",
      "Removing 9 referral pages\n",
      "file has been written to: ../../../../data/enwiki/enwikidump_ms15.csv\n",
      "\n",
      "Starting preprocessing on: /Volumes/NIJMAN/THESIS/enwiki_extracted/ms13\n",
      "It took 7.096321105957031s to read /Volumes/NIJMAN/THESIS/enwiki_extracted/ms13.\n"
     ]
    },
    {
     "data": {
      "application/vnd.jupyter.widget-view+json": {
       "model_id": "7deb9b0115224f8f99caa0f226611a35",
       "version_major": 2,
       "version_minor": 0
      },
      "text/plain": [
       "Progress split_dump():   0%|          | 0/400 [00:00<?, ?it/s]"
      ]
     },
     "metadata": {},
     "output_type": "display_data"
    },
    {
     "data": {
      "application/vnd.jupyter.widget-view+json": {
       "model_id": "20e64f8f0d0b43a28a699972316b3b5c",
       "version_major": 2,
       "version_minor": 0
      },
      "text/plain": [
       "Progress process_dump():   0%|          | 0/347494 [00:00<?, ?it/s]"
      ]
     },
     "metadata": {},
     "output_type": "display_data"
    },
    {
     "name": "stdout",
     "output_type": "stream",
     "text": [
      "3.85% of articles contain 2 toponyms\n",
      "Removing 26 referral pages\n",
      "file has been written to: ../../../../data/enwiki/enwikidump_ms13.csv\n",
      "\n",
      "Starting preprocessing on: /Volumes/NIJMAN/THESIS/enwiki_extracted/ms14\n",
      "It took 1.403275966644287s to read /Volumes/NIJMAN/THESIS/enwiki_extracted/ms14.\n"
     ]
    },
    {
     "data": {
      "application/vnd.jupyter.widget-view+json": {
       "model_id": "88141c9aaf6d44c7897c058574ac97a2",
       "version_major": 2,
       "version_minor": 0
      },
      "text/plain": [
       "Progress split_dump():   0%|          | 0/158 [00:00<?, ?it/s]"
      ]
     },
     "metadata": {},
     "output_type": "display_data"
    },
    {
     "data": {
      "application/vnd.jupyter.widget-view+json": {
       "model_id": "5b62096879034e9eb4ca04cf10e79e4f",
       "version_major": 2,
       "version_minor": 0
      },
      "text/plain": [
       "Progress process_dump():   0%|          | 0/131819 [00:00<?, ?it/s]"
      ]
     },
     "metadata": {},
     "output_type": "display_data"
    },
    {
     "name": "stdout",
     "output_type": "stream",
     "text": [
      "4.02% of articles contain 2 toponyms\n",
      "Removing 3 referral pages\n",
      "file has been written to: ../../../../data/enwiki/enwikidump_ms14.csv\n",
      "Skipping: /Volumes/NIJMAN/THESIS/enwiki_extracted/._ms15\n",
      "\n",
      "Starting preprocessing on: /Volumes/NIJMAN/THESIS/enwiki_extracted/ms16\n",
      "It took 2.897017002105713s to read /Volumes/NIJMAN/THESIS/enwiki_extracted/ms16.\n"
     ]
    },
    {
     "data": {
      "application/vnd.jupyter.widget-view+json": {
       "model_id": "5cea2b67f1e3403687daa32dda9739bf",
       "version_major": 2,
       "version_minor": 0
      },
      "text/plain": [
       "Progress split_dump():   0%|          | 0/216 [00:00<?, ?it/s]"
      ]
     },
     "metadata": {},
     "output_type": "display_data"
    },
    {
     "data": {
      "application/vnd.jupyter.widget-view+json": {
       "model_id": "68b9bb1e474b4569ad6833638042c62b",
       "version_major": 2,
       "version_minor": 0
      },
      "text/plain": [
       "Progress process_dump():   0%|          | 0/192306 [00:00<?, ?it/s]"
      ]
     },
     "metadata": {},
     "output_type": "display_data"
    },
    {
     "name": "stdout",
     "output_type": "stream",
     "text": [
      "3.45% of articles contain 2 toponyms\n",
      "Removing 7 referral pages\n",
      "file has been written to: ../../../../data/enwiki/enwikidump_ms16.csv\n",
      "Skipping: /Volumes/NIJMAN/THESIS/enwiki_extracted/._ms16\n",
      "\n",
      "Starting preprocessing on: /Volumes/NIJMAN/THESIS/enwiki_extracted/ms17\n",
      "It took 5.2743449211120605s to read /Volumes/NIJMAN/THESIS/enwiki_extracted/ms17.\n"
     ]
    },
    {
     "data": {
      "application/vnd.jupyter.widget-view+json": {
       "model_id": "9dd36f708076409a94f1f67dc29a5bdb",
       "version_major": 2,
       "version_minor": 0
      },
      "text/plain": [
       "Progress split_dump():   0%|          | 0/358 [00:00<?, ?it/s]"
      ]
     },
     "metadata": {},
     "output_type": "display_data"
    },
    {
     "data": {
      "application/vnd.jupyter.widget-view+json": {
       "model_id": "5272a99828f1462d9b0a3f1d92ee8a1e",
       "version_major": 2,
       "version_minor": 0
      },
      "text/plain": [
       "Progress process_dump():   0%|          | 0/383322 [00:00<?, ?it/s]"
      ]
     },
     "metadata": {},
     "output_type": "display_data"
    },
    {
     "name": "stdout",
     "output_type": "stream",
     "text": [
      "2.95% of articles contain 2 toponyms\n",
      "Removing 15 referral pages\n",
      "file has been written to: ../../../../data/enwiki/enwikidump_ms17.csv\n",
      "Skipping: /Volumes/NIJMAN/THESIS/enwiki_extracted/._ms17\n",
      "\n",
      "Starting preprocessing on: /Volumes/NIJMAN/THESIS/enwiki_extracted/ms18\n",
      "It took 4.366613864898682s to read /Volumes/NIJMAN/THESIS/enwiki_extracted/ms18.\n"
     ]
    },
    {
     "data": {
      "application/vnd.jupyter.widget-view+json": {
       "model_id": "71e28c0a45c84eb7b53b71221f5d0be0",
       "version_major": 2,
       "version_minor": 0
      },
      "text/plain": [
       "Progress split_dump():   0%|          | 0/231 [00:00<?, ?it/s]"
      ]
     },
     "metadata": {},
     "output_type": "display_data"
    },
    {
     "data": {
      "application/vnd.jupyter.widget-view+json": {
       "model_id": "69c8c9a1444d42049bbf6b1e5d47b9ae",
       "version_major": 2,
       "version_minor": 0
      },
      "text/plain": [
       "Progress process_dump():   0%|          | 0/257062 [00:00<?, ?it/s]"
      ]
     },
     "metadata": {},
     "output_type": "display_data"
    },
    {
     "name": "stdout",
     "output_type": "stream",
     "text": [
      "2.92% of articles contain 2 toponyms\n",
      "Removing 15 referral pages\n",
      "file has been written to: ../../../../data/enwiki/enwikidump_ms18.csv\n",
      "Skipping: /Volumes/NIJMAN/THESIS/enwiki_extracted/._ms18\n",
      "\n",
      "Starting preprocessing on: /Volumes/NIJMAN/THESIS/enwiki_extracted/ms19\n",
      "It took 3.2143568992614746s to read /Volumes/NIJMAN/THESIS/enwiki_extracted/ms19.\n"
     ]
    },
    {
     "data": {
      "application/vnd.jupyter.widget-view+json": {
       "model_id": "9e55485bcbf942379777b3f8e6c6d150",
       "version_major": 2,
       "version_minor": 0
      },
      "text/plain": [
       "Progress split_dump():   0%|          | 0/293 [00:00<?, ?it/s]"
      ]
     },
     "metadata": {},
     "output_type": "display_data"
    },
    {
     "data": {
      "application/vnd.jupyter.widget-view+json": {
       "model_id": "85817434b964406a91f3b6368b369f78",
       "version_major": 2,
       "version_minor": 0
      },
      "text/plain": [
       "Progress process_dump():   0%|          | 0/367382 [00:00<?, ?it/s]"
      ]
     },
     "metadata": {},
     "output_type": "display_data"
    },
    {
     "name": "stdout",
     "output_type": "stream",
     "text": [
      "2.5% of articles contain 2 toponyms\n",
      "Removing 14 referral pages\n",
      "file has been written to: ../../../../data/enwiki/enwikidump_ms19.csv\n",
      "Skipping: /Volumes/NIJMAN/THESIS/enwiki_extracted/._ms19\n",
      "\n",
      "Starting preprocessing on: /Volumes/NIJMAN/THESIS/enwiki_extracted/ms20\n",
      "It took 4.340741157531738s to read /Volumes/NIJMAN/THESIS/enwiki_extracted/ms20.\n"
     ]
    },
    {
     "data": {
      "application/vnd.jupyter.widget-view+json": {
       "model_id": "c2fd6e9129354ba191721601bc0a457f",
       "version_major": 2,
       "version_minor": 0
      },
      "text/plain": [
       "Progress split_dump():   0%|          | 0/267 [00:00<?, ?it/s]"
      ]
     },
     "metadata": {},
     "output_type": "display_data"
    },
    {
     "data": {
      "application/vnd.jupyter.widget-view+json": {
       "model_id": "513ce303ab134824904744f65c4c3803",
       "version_major": 2,
       "version_minor": 0
      },
      "text/plain": [
       "Progress process_dump():   0%|          | 0/392114 [00:00<?, ?it/s]"
      ]
     },
     "metadata": {},
     "output_type": "display_data"
    },
    {
     "name": "stdout",
     "output_type": "stream",
     "text": [
      "2.16% of articles contain 2 toponyms\n",
      "Removing 48 referral pages\n",
      "file has been written to: ../../../../data/enwiki/enwikidump_ms20.csv\n",
      "Skipping: /Volumes/NIJMAN/THESIS/enwiki_extracted/._ms20\n",
      "\n",
      "Starting preprocessing on: /Volumes/NIJMAN/THESIS/enwiki_extracted/ms22\n",
      "It took 3.2287120819091797s to read /Volumes/NIJMAN/THESIS/enwiki_extracted/ms22.\n"
     ]
    },
    {
     "data": {
      "application/vnd.jupyter.widget-view+json": {
       "model_id": "04446a585c1b497c894d4a9a30871da6",
       "version_major": 2,
       "version_minor": 0
      },
      "text/plain": [
       "Progress split_dump():   0%|          | 0/290 [00:00<?, ?it/s]"
      ]
     },
     "metadata": {},
     "output_type": "display_data"
    },
    {
     "data": {
      "application/vnd.jupyter.widget-view+json": {
       "model_id": "c3da4cbd5cd3416587957922e9701631",
       "version_major": 2,
       "version_minor": 0
      },
      "text/plain": [
       "Progress process_dump():   0%|          | 0/325814 [00:00<?, ?it/s]"
      ]
     },
     "metadata": {},
     "output_type": "display_data"
    },
    {
     "name": "stdout",
     "output_type": "stream",
     "text": [
      "2.89% of articles contain 2 toponyms\n",
      "Removing 12 referral pages\n",
      "file has been written to: ../../../../data/enwiki/enwikidump_ms22.csv\n",
      "\n",
      "Starting preprocessing on: /Volumes/NIJMAN/THESIS/enwiki_extracted/ms23\n",
      "It took 2.9646689891815186s to read /Volumes/NIJMAN/THESIS/enwiki_extracted/ms23.\n"
     ]
    },
    {
     "data": {
      "application/vnd.jupyter.widget-view+json": {
       "model_id": "4144eb9acb6c40e5abcac94f3fd14917",
       "version_major": 2,
       "version_minor": 0
      },
      "text/plain": [
       "Progress split_dump():   0%|          | 0/271 [00:00<?, ?it/s]"
      ]
     },
     "metadata": {},
     "output_type": "display_data"
    },
    {
     "data": {
      "application/vnd.jupyter.widget-view+json": {
       "model_id": "9e2c7444587c42c49dd2a8d27a108a94",
       "version_major": 2,
       "version_minor": 0
      },
      "text/plain": [
       "Progress process_dump():   0%|          | 0/330422 [00:00<?, ?it/s]"
      ]
     },
     "metadata": {},
     "output_type": "display_data"
    },
    {
     "name": "stdout",
     "output_type": "stream",
     "text": [
      "2.79% of articles contain 2 toponyms\n",
      "Removing 25 referral pages\n",
      "file has been written to: ../../../../data/enwiki/enwikidump_ms23.csv\n",
      "\n",
      "Starting preprocessing on: /Volumes/NIJMAN/THESIS/enwiki_extracted/ms24\n",
      "It took 0.18143796920776367s to read /Volumes/NIJMAN/THESIS/enwiki_extracted/ms24.\n"
     ]
    },
    {
     "data": {
      "application/vnd.jupyter.widget-view+json": {
       "model_id": "5418eabcad6143caa72956e6ea1fe634",
       "version_major": 2,
       "version_minor": 0
      },
      "text/plain": [
       "Progress split_dump():   0%|          | 0/20 [00:00<?, ?it/s]"
      ]
     },
     "metadata": {},
     "output_type": "display_data"
    },
    {
     "data": {
      "application/vnd.jupyter.widget-view+json": {
       "model_id": "0bfef855d2a64f108a54bd5eb756af41",
       "version_major": 2,
       "version_minor": 0
      },
      "text/plain": [
       "Progress process_dump():   0%|          | 0/19885 [00:00<?, ?it/s]"
      ]
     },
     "metadata": {},
     "output_type": "display_data"
    },
    {
     "name": "stdout",
     "output_type": "stream",
     "text": [
      "3.33% of articles contain 2 toponyms\n",
      "Removing 1 referral pages\n",
      "file has been written to: ../../../../data/enwiki/enwikidump_ms24.csv\n",
      "\n",
      "Starting preprocessing on: /Volumes/NIJMAN/THESIS/enwiki_extracted/ms25\n",
      "It took 7.903895139694214s to read /Volumes/NIJMAN/THESIS/enwiki_extracted/ms25.\n"
     ]
    },
    {
     "data": {
      "application/vnd.jupyter.widget-view+json": {
       "model_id": "76c3985020ab4a70869125249f83a0b9",
       "version_major": 2,
       "version_minor": 0
      },
      "text/plain": [
       "Progress split_dump():   0%|          | 0/300 [00:00<?, ?it/s]"
      ]
     },
     "metadata": {},
     "output_type": "display_data"
    },
    {
     "data": {
      "application/vnd.jupyter.widget-view+json": {
       "model_id": "05d472a3e97f43759b16550f44ec344a",
       "version_major": 2,
       "version_minor": 0
      },
      "text/plain": [
       "Progress process_dump():   0%|          | 0/330669 [00:00<?, ?it/s]"
      ]
     },
     "metadata": {},
     "output_type": "display_data"
    },
    {
     "name": "stdout",
     "output_type": "stream",
     "text": [
      "3.0% of articles contain 2 toponyms\n",
      "Removing 39 referral pages\n",
      "file has been written to: ../../../../data/enwiki/enwikidump_ms25.csv\n",
      "\n",
      "Starting preprocessing on: /Volumes/NIJMAN/THESIS/enwiki_extracted/ms21\n",
      "It took 0.5582940578460693s to read /Volumes/NIJMAN/THESIS/enwiki_extracted/ms21.\n"
     ]
    },
    {
     "data": {
      "application/vnd.jupyter.widget-view+json": {
       "model_id": "a3bf4c00b78b4506929d8772d823b771",
       "version_major": 2,
       "version_minor": 0
      },
      "text/plain": [
       "Progress split_dump():   0%|          | 0/25 [00:00<?, ?it/s]"
      ]
     },
     "metadata": {},
     "output_type": "display_data"
    },
    {
     "data": {
      "application/vnd.jupyter.widget-view+json": {
       "model_id": "4cdc67b46c0e47e89525d1583456384f",
       "version_major": 2,
       "version_minor": 0
      },
      "text/plain": [
       "Progress process_dump():   0%|          | 0/25890 [00:00<?, ?it/s]"
      ]
     },
     "metadata": {},
     "output_type": "display_data"
    },
    {
     "name": "stdout",
     "output_type": "stream",
     "text": [
      "3.16% of articles contain 2 toponyms\n",
      "Removing 2 referral pages\n",
      "file has been written to: ../../../../data/enwiki/enwikidump_ms21.csv\n",
      "\n",
      "Starting preprocessing on: /Volumes/NIJMAN/THESIS/enwiki_extracted/ms26\n",
      "It took 3.5624399185180664s to read /Volumes/NIJMAN/THESIS/enwiki_extracted/ms26.\n"
     ]
    },
    {
     "data": {
      "application/vnd.jupyter.widget-view+json": {
       "model_id": "341e3eba43ca4d4e89a35558979d2417",
       "version_major": 2,
       "version_minor": 0
      },
      "text/plain": [
       "Progress split_dump():   0%|          | 0/292 [00:00<?, ?it/s]"
      ]
     },
     "metadata": {},
     "output_type": "display_data"
    },
    {
     "data": {
      "application/vnd.jupyter.widget-view+json": {
       "model_id": "7559bd112132441f8026caddc9bd4313",
       "version_major": 2,
       "version_minor": 0
      },
      "text/plain": [
       "Progress process_dump():   0%|          | 0/387488 [00:00<?, ?it/s]"
      ]
     },
     "metadata": {},
     "output_type": "display_data"
    },
    {
     "name": "stdout",
     "output_type": "stream",
     "text": [
      "2.45% of articles contain 2 toponyms\n",
      "Removing 15 referral pages\n",
      "file has been written to: ../../../../data/enwiki/enwikidump_ms26.csv\n",
      "\n",
      "Starting preprocessing on: /Volumes/NIJMAN/THESIS/enwiki_extracted/ms27\n",
      "It took 0.6364450454711914s to read /Volumes/NIJMAN/THESIS/enwiki_extracted/ms27.\n"
     ]
    },
    {
     "data": {
      "application/vnd.jupyter.widget-view+json": {
       "model_id": "3ea838bcc6a04c92963d3e9c6d4d2ec7",
       "version_major": 2,
       "version_minor": 0
      },
      "text/plain": [
       "Progress split_dump():   0%|          | 0/32 [00:00<?, ?it/s]"
      ]
     },
     "metadata": {},
     "output_type": "display_data"
    },
    {
     "data": {
      "application/vnd.jupyter.widget-view+json": {
       "model_id": "4b946e9dc5ce489097110b88411f57f3",
       "version_major": 2,
       "version_minor": 0
      },
      "text/plain": [
       "Progress process_dump():   0%|          | 0/40899 [00:00<?, ?it/s]"
      ]
     },
     "metadata": {},
     "output_type": "display_data"
    },
    {
     "name": "stdout",
     "output_type": "stream",
     "text": [
      "2.45% of articles contain 2 toponyms\n",
      "Removing 4 referral pages\n",
      "file has been written to: ../../../../data/enwiki/enwikidump_ms27.csv\n",
      "\n",
      "Starting preprocessing on: /Volumes/NIJMAN/THESIS/enwiki_extracted/ms28\n",
      "It took 4.29301905632019s to read /Volumes/NIJMAN/THESIS/enwiki_extracted/ms28.\n"
     ]
    },
    {
     "data": {
      "application/vnd.jupyter.widget-view+json": {
       "model_id": "9e38cffc57df4769a4481ca5a67b19e0",
       "version_major": 2,
       "version_minor": 0
      },
      "text/plain": [
       "Progress split_dump():   0%|          | 0/299 [00:00<?, ?it/s]"
      ]
     },
     "metadata": {},
     "output_type": "display_data"
    },
    {
     "data": {
      "application/vnd.jupyter.widget-view+json": {
       "model_id": "91d2e3cf4c2143daaea35f979389f6e6",
       "version_major": 2,
       "version_minor": 0
      },
      "text/plain": [
       "Progress process_dump():   0%|          | 0/337488 [00:00<?, ?it/s]"
      ]
     },
     "metadata": {},
     "output_type": "display_data"
    },
    {
     "name": "stdout",
     "output_type": "stream",
     "text": [
      "3.17% of articles contain 2 toponyms\n",
      "Removing 30 referral pages\n",
      "file has been written to: ../../../../data/enwiki/enwikidump_ms28.csv\n",
      "\n",
      "Starting preprocessing on: /Volumes/NIJMAN/THESIS/enwiki_extracted/ms29\n",
      "It took 2.896519184112549s to read /Volumes/NIJMAN/THESIS/enwiki_extracted/ms29.\n"
     ]
    },
    {
     "data": {
      "application/vnd.jupyter.widget-view+json": {
       "model_id": "3af13d510460463ab8f0a9a86a66d496",
       "version_major": 2,
       "version_minor": 0
      },
      "text/plain": [
       "Progress split_dump():   0%|          | 0/275 [00:00<?, ?it/s]"
      ]
     },
     "metadata": {},
     "output_type": "display_data"
    },
    {
     "data": {
      "application/vnd.jupyter.widget-view+json": {
       "model_id": "af7c3804768f4b73bb12e12cb2dc0d97",
       "version_major": 2,
       "version_minor": 0
      },
      "text/plain": [
       "Progress process_dump():   0%|          | 0/316833 [00:00<?, ?it/s]"
      ]
     },
     "metadata": {},
     "output_type": "display_data"
    },
    {
     "name": "stdout",
     "output_type": "stream",
     "text": [
      "2.92% of articles contain 2 toponyms\n",
      "Removing 50 referral pages\n",
      "file has been written to: ../../../../data/enwiki/enwikidump_ms29.csv\n",
      "\n",
      "Starting preprocessing on: /Volumes/NIJMAN/THESIS/enwiki_extracted/ms30\n",
      "It took 1.0021560192108154s to read /Volumes/NIJMAN/THESIS/enwiki_extracted/ms30.\n"
     ]
    },
    {
     "data": {
      "application/vnd.jupyter.widget-view+json": {
       "model_id": "8dcf5f86c2b1467393b1c363d9ffd993",
       "version_major": 2,
       "version_minor": 0
      },
      "text/plain": [
       "Progress split_dump():   0%|          | 0/71 [00:00<?, ?it/s]"
      ]
     },
     "metadata": {},
     "output_type": "display_data"
    },
    {
     "data": {
      "application/vnd.jupyter.widget-view+json": {
       "model_id": "041f0d369c6b49e3a74e7fed8d1d9855",
       "version_major": 2,
       "version_minor": 0
      },
      "text/plain": [
       "Progress process_dump():   0%|          | 0/95983 [00:00<?, ?it/s]"
      ]
     },
     "metadata": {},
     "output_type": "display_data"
    },
    {
     "name": "stdout",
     "output_type": "stream",
     "text": [
      "2.23% of articles contain 2 toponyms\n",
      "Removing 8 referral pages\n",
      "file has been written to: ../../../../data/enwiki/enwikidump_ms30.csv\n",
      "\n",
      "Starting preprocessing on: /Volumes/NIJMAN/THESIS/enwiki_extracted/ms31\n",
      "It took 3.498806953430176s to read /Volumes/NIJMAN/THESIS/enwiki_extracted/ms31.\n"
     ]
    },
    {
     "data": {
      "application/vnd.jupyter.widget-view+json": {
       "model_id": "b844f63a058c46bfab4955a40c543e4e",
       "version_major": 2,
       "version_minor": 0
      },
      "text/plain": [
       "Progress split_dump():   0%|          | 0/269 [00:00<?, ?it/s]"
      ]
     },
     "metadata": {},
     "output_type": "display_data"
    },
    {
     "data": {
      "application/vnd.jupyter.widget-view+json": {
       "model_id": "4274bbe63188476eb83024fb3946f7b1",
       "version_major": 2,
       "version_minor": 0
      },
      "text/plain": [
       "Progress process_dump():   0%|          | 0/391888 [00:00<?, ?it/s]"
      ]
     },
     "metadata": {},
     "output_type": "display_data"
    },
    {
     "name": "stdout",
     "output_type": "stream",
     "text": [
      "2.33% of articles contain 2 toponyms\n",
      "Removing 60 referral pages\n",
      "file has been written to: ../../../../data/enwiki/enwikidump_ms31.csv\n",
      "\n",
      "Starting preprocessing on: /Volumes/NIJMAN/THESIS/enwiki_extracted/ms32\n",
      "It took 3.3478689193725586s to read /Volumes/NIJMAN/THESIS/enwiki_extracted/ms32.\n"
     ]
    },
    {
     "data": {
      "application/vnd.jupyter.widget-view+json": {
       "model_id": "12578761389847cbacee3905d2345e39",
       "version_major": 2,
       "version_minor": 0
      },
      "text/plain": [
       "Progress split_dump():   0%|          | 0/233 [00:00<?, ?it/s]"
      ]
     },
     "metadata": {},
     "output_type": "display_data"
    },
    {
     "data": {
      "application/vnd.jupyter.widget-view+json": {
       "model_id": "5b7206038f694f3d807f1082550e5a8d",
       "version_major": 2,
       "version_minor": 0
      },
      "text/plain": [
       "Progress process_dump():   0%|          | 0/353985 [00:00<?, ?it/s]"
      ]
     },
     "metadata": {},
     "output_type": "display_data"
    },
    {
     "name": "stdout",
     "output_type": "stream",
     "text": [
      "2.17% of articles contain 2 toponyms\n",
      "Removing 38 referral pages\n",
      "file has been written to: ../../../../data/enwiki/enwikidump_ms32.csv\n",
      "\n",
      "Starting preprocessing on: /Volumes/NIJMAN/THESIS/enwiki_extracted/ms33\n",
      "It took 3.1874330043792725s to read /Volumes/NIJMAN/THESIS/enwiki_extracted/ms33.\n"
     ]
    },
    {
     "data": {
      "application/vnd.jupyter.widget-view+json": {
       "model_id": "95480a1711134a9b8c4c85874823af45",
       "version_major": 2,
       "version_minor": 0
      },
      "text/plain": [
       "Progress split_dump():   0%|          | 0/220 [00:00<?, ?it/s]"
      ]
     },
     "metadata": {},
     "output_type": "display_data"
    },
    {
     "data": {
      "application/vnd.jupyter.widget-view+json": {
       "model_id": "95ab5114c4ed4fdfa17507c8734c32aa",
       "version_major": 2,
       "version_minor": 0
      },
      "text/plain": [
       "Progress process_dump():   0%|          | 0/233638 [00:00<?, ?it/s]"
      ]
     },
     "metadata": {},
     "output_type": "display_data"
    },
    {
     "name": "stdout",
     "output_type": "stream",
     "text": [
      "3.3% of articles contain 2 toponyms\n",
      "Removing 22 referral pages\n",
      "file has been written to: ../../../../data/enwiki/enwikidump_ms33.csv\n",
      "\n",
      "Starting preprocessing on: /Volumes/NIJMAN/THESIS/enwiki_extracted/ms34\n",
      "It took 2.8493261337280273s to read /Volumes/NIJMAN/THESIS/enwiki_extracted/ms34.\n"
     ]
    },
    {
     "data": {
      "application/vnd.jupyter.widget-view+json": {
       "model_id": "320e638518f447b191363d02c29b0fdb",
       "version_major": 2,
       "version_minor": 0
      },
      "text/plain": [
       "Progress split_dump():   0%|          | 0/275 [00:00<?, ?it/s]"
      ]
     },
     "metadata": {},
     "output_type": "display_data"
    },
    {
     "data": {
      "application/vnd.jupyter.widget-view+json": {
       "model_id": "2a2395aadd7c4ad783dfc7321c193f64",
       "version_major": 2,
       "version_minor": 0
      },
      "text/plain": [
       "Progress process_dump():   0%|          | 0/335557 [00:00<?, ?it/s]"
      ]
     },
     "metadata": {},
     "output_type": "display_data"
    },
    {
     "name": "stdout",
     "output_type": "stream",
     "text": [
      "2.82% of articles contain 2 toponyms\n",
      "Removing 26 referral pages\n",
      "file has been written to: ../../../../data/enwiki/enwikidump_ms34.csv\n",
      "\n",
      "Starting preprocessing on: /Volumes/NIJMAN/THESIS/enwiki_extracted/ms35\n",
      "It took 3.1894288063049316s to read /Volumes/NIJMAN/THESIS/enwiki_extracted/ms35.\n"
     ]
    },
    {
     "data": {
      "application/vnd.jupyter.widget-view+json": {
       "model_id": "b30290f07728491dbbc733dc3db2d18e",
       "version_major": 2,
       "version_minor": 0
      },
      "text/plain": [
       "Progress split_dump():   0%|          | 0/258 [00:00<?, ?it/s]"
      ]
     },
     "metadata": {},
     "output_type": "display_data"
    },
    {
     "data": {
      "application/vnd.jupyter.widget-view+json": {
       "model_id": "f9513230dd624550995a3715765f05f1",
       "version_major": 2,
       "version_minor": 0
      },
      "text/plain": [
       "Progress process_dump():   0%|          | 0/313413 [00:00<?, ?it/s]"
      ]
     },
     "metadata": {},
     "output_type": "display_data"
    },
    {
     "name": "stdout",
     "output_type": "stream",
     "text": [
      "2.79% of articles contain 2 toponyms\n",
      "Removing 23 referral pages\n",
      "file has been written to: ../../../../data/enwiki/enwikidump_ms35.csv\n",
      "\n",
      "Starting preprocessing on: /Volumes/NIJMAN/THESIS/enwiki_extracted/ms36\n",
      "It took 2.028160810470581s to read /Volumes/NIJMAN/THESIS/enwiki_extracted/ms36.\n"
     ]
    },
    {
     "data": {
      "application/vnd.jupyter.widget-view+json": {
       "model_id": "ff74d568e9d84f9c9678664e50f5c643",
       "version_major": 2,
       "version_minor": 0
      },
      "text/plain": [
       "Progress split_dump():   0%|          | 0/184 [00:00<?, ?it/s]"
      ]
     },
     "metadata": {},
     "output_type": "display_data"
    },
    {
     "data": {
      "application/vnd.jupyter.widget-view+json": {
       "model_id": "0814700319a54345aa6bb3eb77174eb9",
       "version_major": 2,
       "version_minor": 0
      },
      "text/plain": [
       "Progress process_dump():   0%|          | 0/252247 [00:00<?, ?it/s]"
      ]
     },
     "metadata": {},
     "output_type": "display_data"
    },
    {
     "name": "stdout",
     "output_type": "stream",
     "text": [
      "2.5% of articles contain 2 toponyms\n",
      "Removing 26 referral pages\n",
      "file has been written to: ../../../../data/enwiki/enwikidump_ms36.csv\n",
      "\n",
      "Starting preprocessing on: /Volumes/NIJMAN/THESIS/enwiki_extracted/ms37\n",
      "It took 3.025315046310425s to read /Volumes/NIJMAN/THESIS/enwiki_extracted/ms37.\n"
     ]
    },
    {
     "data": {
      "application/vnd.jupyter.widget-view+json": {
       "model_id": "8f98c20816f84ab9806f5cadbc045e36",
       "version_major": 2,
       "version_minor": 0
      },
      "text/plain": [
       "Progress split_dump():   0%|          | 0/260 [00:00<?, ?it/s]"
      ]
     },
     "metadata": {},
     "output_type": "display_data"
    },
    {
     "data": {
      "application/vnd.jupyter.widget-view+json": {
       "model_id": "693ab442f69345bf9ec157bc14c045fd",
       "version_major": 2,
       "version_minor": 0
      },
      "text/plain": [
       "Progress process_dump():   0%|          | 0/360755 [00:00<?, ?it/s]"
      ]
     },
     "metadata": {},
     "output_type": "display_data"
    },
    {
     "name": "stdout",
     "output_type": "stream",
     "text": [
      "2.48% of articles contain 2 toponyms\n",
      "Removing 15 referral pages\n",
      "file has been written to: ../../../../data/enwiki/enwikidump_ms37.csv\n",
      "\n",
      "Starting preprocessing on: /Volumes/NIJMAN/THESIS/enwiki_extracted/ms38\n",
      "It took 2.472594976425171s to read /Volumes/NIJMAN/THESIS/enwiki_extracted/ms38.\n"
     ]
    },
    {
     "data": {
      "application/vnd.jupyter.widget-view+json": {
       "model_id": "160dfdaf5c8a4b69b7a55438145d2925",
       "version_major": 2,
       "version_minor": 0
      },
      "text/plain": [
       "Progress split_dump():   0%|          | 0/244 [00:00<?, ?it/s]"
      ]
     },
     "metadata": {},
     "output_type": "display_data"
    },
    {
     "data": {
      "application/vnd.jupyter.widget-view+json": {
       "model_id": "58ef872b2389491cb04195d2125ff832",
       "version_major": 2,
       "version_minor": 0
      },
      "text/plain": [
       "Progress process_dump():   0%|          | 0/346569 [00:00<?, ?it/s]"
      ]
     },
     "metadata": {},
     "output_type": "display_data"
    },
    {
     "name": "stdout",
     "output_type": "stream",
     "text": [
      "2.23% of articles contain 2 toponyms\n",
      "Removing 17 referral pages\n",
      "file has been written to: ../../../../data/enwiki/enwikidump_ms38.csv\n",
      "\n",
      "Starting preprocessing on: /Volumes/NIJMAN/THESIS/enwiki_extracted/ms39\n",
      "It took 2.7295618057250977s to read /Volumes/NIJMAN/THESIS/enwiki_extracted/ms39.\n"
     ]
    },
    {
     "data": {
      "application/vnd.jupyter.widget-view+json": {
       "model_id": "a08dcdd89bd6441e900d74fe3859f4fe",
       "version_major": 2,
       "version_minor": 0
      },
      "text/plain": [
       "Progress split_dump():   0%|          | 0/255 [00:00<?, ?it/s]"
      ]
     },
     "metadata": {},
     "output_type": "display_data"
    },
    {
     "data": {
      "application/vnd.jupyter.widget-view+json": {
       "model_id": "ad3d856996044359a911bb4c87109f75",
       "version_major": 2,
       "version_minor": 0
      },
      "text/plain": [
       "Progress process_dump():   0%|          | 0/326297 [00:00<?, ?it/s]"
      ]
     },
     "metadata": {},
     "output_type": "display_data"
    },
    {
     "name": "stdout",
     "output_type": "stream",
     "text": [
      "2.54% of articles contain 2 toponyms\n",
      "Removing 8 referral pages\n",
      "file has been written to: ../../../../data/enwiki/enwikidump_ms39.csv\n",
      "\n",
      "Starting preprocessing on: /Volumes/NIJMAN/THESIS/enwiki_extracted/ms40\n",
      "It took 2.245037078857422s to read /Volumes/NIJMAN/THESIS/enwiki_extracted/ms40.\n"
     ]
    },
    {
     "data": {
      "application/vnd.jupyter.widget-view+json": {
       "model_id": "c8edd176dbef4a52b5af4e6941c96999",
       "version_major": 2,
       "version_minor": 0
      },
      "text/plain": [
       "Progress split_dump():   0%|          | 0/252 [00:00<?, ?it/s]"
      ]
     },
     "metadata": {},
     "output_type": "display_data"
    },
    {
     "data": {
      "application/vnd.jupyter.widget-view+json": {
       "model_id": "4af2624a4ad743fba92918f99ffcd714",
       "version_major": 2,
       "version_minor": 0
      },
      "text/plain": [
       "Progress process_dump():   0%|          | 0/332238 [00:00<?, ?it/s]"
      ]
     },
     "metadata": {},
     "output_type": "display_data"
    },
    {
     "name": "stdout",
     "output_type": "stream",
     "text": [
      "2.51% of articles contain 2 toponyms\n",
      "Removing 28 referral pages\n",
      "file has been written to: ../../../../data/enwiki/enwikidump_ms40.csv\n",
      "\n",
      "Starting preprocessing on: /Volumes/NIJMAN/THESIS/enwiki_extracted/ms41\n",
      "It took 3.084923028945923s to read /Volumes/NIJMAN/THESIS/enwiki_extracted/ms41.\n"
     ]
    },
    {
     "data": {
      "application/vnd.jupyter.widget-view+json": {
       "model_id": "e976097f2a744ae1b1ab8139937cb747",
       "version_major": 2,
       "version_minor": 0
      },
      "text/plain": [
       "Progress split_dump():   0%|          | 0/251 [00:00<?, ?it/s]"
      ]
     },
     "metadata": {},
     "output_type": "display_data"
    },
    {
     "data": {
      "application/vnd.jupyter.widget-view+json": {
       "model_id": "51543b7b37cd44f3847b4420f04dac10",
       "version_major": 2,
       "version_minor": 0
      },
      "text/plain": [
       "Progress process_dump():   0%|          | 0/331115 [00:00<?, ?it/s]"
      ]
     },
     "metadata": {},
     "output_type": "display_data"
    },
    {
     "name": "stdout",
     "output_type": "stream",
     "text": [
      "2.68% of articles contain 2 toponyms\n",
      "Removing 24 referral pages\n",
      "file has been written to: ../../../../data/enwiki/enwikidump_ms41.csv\n",
      "\n",
      "Starting preprocessing on: /Volumes/NIJMAN/THESIS/enwiki_extracted/ms42\n",
      "It took 2.5147621631622314s to read /Volumes/NIJMAN/THESIS/enwiki_extracted/ms42.\n"
     ]
    },
    {
     "data": {
      "application/vnd.jupyter.widget-view+json": {
       "model_id": "2fc7b8366262437fb817e8fbbd3f176b",
       "version_major": 2,
       "version_minor": 0
      },
      "text/plain": [
       "Progress split_dump():   0%|          | 0/257 [00:00<?, ?it/s]"
      ]
     },
     "metadata": {},
     "output_type": "display_data"
    },
    {
     "data": {
      "application/vnd.jupyter.widget-view+json": {
       "model_id": "ad6b0df6a7f54202ab80b90c8e5e0ece",
       "version_major": 2,
       "version_minor": 0
      },
      "text/plain": [
       "Progress process_dump():   0%|          | 0/357107 [00:00<?, ?it/s]"
      ]
     },
     "metadata": {},
     "output_type": "display_data"
    },
    {
     "name": "stdout",
     "output_type": "stream",
     "text": [
      "2.33% of articles contain 2 toponyms\n",
      "Removing 27 referral pages\n",
      "file has been written to: ../../../../data/enwiki/enwikidump_ms42.csv\n",
      "\n",
      "Starting preprocessing on: /Volumes/NIJMAN/THESIS/enwiki_extracted/ms43\n",
      "It took 0.41187095642089844s to read /Volumes/NIJMAN/THESIS/enwiki_extracted/ms43.\n"
     ]
    },
    {
     "data": {
      "application/vnd.jupyter.widget-view+json": {
       "model_id": "70e082b147cd48e59ff34afd616d6290",
       "version_major": 2,
       "version_minor": 0
      },
      "text/plain": [
       "Progress split_dump():   0%|          | 0/43 [00:00<?, ?it/s]"
      ]
     },
     "metadata": {},
     "output_type": "display_data"
    },
    {
     "data": {
      "application/vnd.jupyter.widget-view+json": {
       "model_id": "5c147307cf7b4c77b80777b35740099f",
       "version_major": 2,
       "version_minor": 0
      },
      "text/plain": [
       "Progress process_dump():   0%|          | 0/52357 [00:00<?, ?it/s]"
      ]
     },
     "metadata": {},
     "output_type": "display_data"
    },
    {
     "name": "stdout",
     "output_type": "stream",
     "text": [
      "2.61% of articles contain 2 toponyms\n",
      "Removing 1 referral pages\n",
      "file has been written to: ../../../../data/enwiki/enwikidump_ms43.csv\n",
      "\n",
      "Starting preprocessing on: /Volumes/NIJMAN/THESIS/enwiki_extracted/ms44\n",
      "It took 1.4195470809936523s to read /Volumes/NIJMAN/THESIS/enwiki_extracted/ms44.\n"
     ]
    },
    {
     "data": {
      "application/vnd.jupyter.widget-view+json": {
       "model_id": "ea75e6b2ee364e57829a56c30de2ea96",
       "version_major": 2,
       "version_minor": 0
      },
      "text/plain": [
       "Progress split_dump():   0%|          | 0/161 [00:00<?, ?it/s]"
      ]
     },
     "metadata": {},
     "output_type": "display_data"
    },
    {
     "data": {
      "application/vnd.jupyter.widget-view+json": {
       "model_id": "a6c771383a074410a5e00729e2f59f4d",
       "version_major": 2,
       "version_minor": 0
      },
      "text/plain": [
       "Progress process_dump():   0%|          | 0/200419 [00:00<?, ?it/s]"
      ]
     },
     "metadata": {},
     "output_type": "display_data"
    },
    {
     "name": "stdout",
     "output_type": "stream",
     "text": [
      "2.76% of articles contain 2 toponyms\n",
      "Removing 12 referral pages\n",
      "file has been written to: ../../../../data/enwiki/enwikidump_ms44.csv\n",
      "\n",
      "Starting preprocessing on: /Volumes/NIJMAN/THESIS/enwiki_extracted/ms45\n",
      "It took 2.4139201641082764s to read /Volumes/NIJMAN/THESIS/enwiki_extracted/ms45.\n"
     ]
    },
    {
     "data": {
      "application/vnd.jupyter.widget-view+json": {
       "model_id": "97856c25eb8248b8bd43e32f973de282",
       "version_major": 2,
       "version_minor": 0
      },
      "text/plain": [
       "Progress split_dump():   0%|          | 0/255 [00:00<?, ?it/s]"
      ]
     },
     "metadata": {},
     "output_type": "display_data"
    },
    {
     "data": {
      "application/vnd.jupyter.widget-view+json": {
       "model_id": "a7613ee6e66b4dd39d6989d1df1d6d54",
       "version_major": 2,
       "version_minor": 0
      },
      "text/plain": [
       "Progress process_dump():   0%|          | 0/342069 [00:00<?, ?it/s]"
      ]
     },
     "metadata": {},
     "output_type": "display_data"
    },
    {
     "name": "stdout",
     "output_type": "stream",
     "text": [
      "2.47% of articles contain 2 toponyms\n",
      "Removing 26 referral pages\n",
      "file has been written to: ../../../../data/enwiki/enwikidump_ms45.csv\n",
      "\n",
      "Starting preprocessing on: /Volumes/NIJMAN/THESIS/enwiki_extracted/ms46\n",
      "It took 2.0712409019470215s to read /Volumes/NIJMAN/THESIS/enwiki_extracted/ms46.\n"
     ]
    },
    {
     "data": {
      "application/vnd.jupyter.widget-view+json": {
       "model_id": "11dc1d66ebd64bf19f696915c26cc1d2",
       "version_major": 2,
       "version_minor": 0
      },
      "text/plain": [
       "Progress split_dump():   0%|          | 0/217 [00:00<?, ?it/s]"
      ]
     },
     "metadata": {},
     "output_type": "display_data"
    },
    {
     "data": {
      "application/vnd.jupyter.widget-view+json": {
       "model_id": "b1c384e95e274723a587f6b78d40ab24",
       "version_major": 2,
       "version_minor": 0
      },
      "text/plain": [
       "Progress process_dump():   0%|          | 0/281406 [00:00<?, ?it/s]"
      ]
     },
     "metadata": {},
     "output_type": "display_data"
    },
    {
     "name": "stdout",
     "output_type": "stream",
     "text": [
      "2.59% of articles contain 2 toponyms\n",
      "Removing 10 referral pages\n",
      "file has been written to: ../../../../data/enwiki/enwikidump_ms46.csv\n",
      "\n",
      "Starting preprocessing on: /Volumes/NIJMAN/THESIS/enwiki_extracted/ms47\n",
      "It took 2.3775548934936523s to read /Volumes/NIJMAN/THESIS/enwiki_extracted/ms47.\n"
     ]
    },
    {
     "data": {
      "application/vnd.jupyter.widget-view+json": {
       "model_id": "a0fb2e462904494ba3508e573e936401",
       "version_major": 2,
       "version_minor": 0
      },
      "text/plain": [
       "Progress split_dump():   0%|          | 0/176 [00:00<?, ?it/s]"
      ]
     },
     "metadata": {},
     "output_type": "display_data"
    },
    {
     "data": {
      "application/vnd.jupyter.widget-view+json": {
       "model_id": "c7122bf3c2214617b4ca8db5658065c6",
       "version_major": 2,
       "version_minor": 0
      },
      "text/plain": [
       "Progress process_dump():   0%|          | 0/291486 [00:00<?, ?it/s]"
      ]
     },
     "metadata": {},
     "output_type": "display_data"
    },
    {
     "name": "stdout",
     "output_type": "stream",
     "text": [
      "2.04% of articles contain 2 toponyms\n",
      "Removing 90 referral pages\n",
      "file has been written to: ../../../../data/enwiki/enwikidump_ms47.csv\n",
      "\n",
      "Starting preprocessing on: /Volumes/NIJMAN/THESIS/enwiki_extracted/ms48\n",
      "It took 3.490537166595459s to read /Volumes/NIJMAN/THESIS/enwiki_extracted/ms48.\n"
     ]
    },
    {
     "data": {
      "application/vnd.jupyter.widget-view+json": {
       "model_id": "5aafe1378ba04942a96be4a6dc770c0f",
       "version_major": 2,
       "version_minor": 0
      },
      "text/plain": [
       "Progress split_dump():   0%|          | 0/226 [00:00<?, ?it/s]"
      ]
     },
     "metadata": {},
     "output_type": "display_data"
    },
    {
     "data": {
      "application/vnd.jupyter.widget-view+json": {
       "model_id": "74a4944f38214c499431ec3ec7064fe5",
       "version_major": 2,
       "version_minor": 0
      },
      "text/plain": [
       "Progress process_dump():   0%|          | 0/337879 [00:00<?, ?it/s]"
      ]
     },
     "metadata": {},
     "output_type": "display_data"
    },
    {
     "name": "stdout",
     "output_type": "stream",
     "text": [
      "2.24% of articles contain 2 toponyms\n",
      "Removing 35 referral pages\n",
      "file has been written to: ../../../../data/enwiki/enwikidump_ms48.csv\n",
      "\n",
      "Starting preprocessing on: /Volumes/NIJMAN/THESIS/enwiki_extracted/ms49\n",
      "It took 6.3793230056762695s to read /Volumes/NIJMAN/THESIS/enwiki_extracted/ms49.\n"
     ]
    },
    {
     "data": {
      "application/vnd.jupyter.widget-view+json": {
       "model_id": "ea63c6ccfdb24207aca1f42bcff085fd",
       "version_major": 2,
       "version_minor": 0
      },
      "text/plain": [
       "Progress split_dump():   0%|          | 0/216 [00:00<?, ?it/s]"
      ]
     },
     "metadata": {},
     "output_type": "display_data"
    },
    {
     "data": {
      "application/vnd.jupyter.widget-view+json": {
       "model_id": "e1db7eb82f6d45118979d68bace4a1c2",
       "version_major": 2,
       "version_minor": 0
      },
      "text/plain": [
       "Progress process_dump():   0%|          | 0/287421 [00:00<?, ?it/s]"
      ]
     },
     "metadata": {},
     "output_type": "display_data"
    },
    {
     "name": "stdout",
     "output_type": "stream",
     "text": [
      "2.57% of articles contain 2 toponyms\n",
      "Removing 36 referral pages\n",
      "file has been written to: ../../../../data/enwiki/enwikidump_ms49.csv\n",
      "\n",
      "Starting preprocessing on: /Volumes/NIJMAN/THESIS/enwiki_extracted/ms50\n",
      "It took 2.434727907180786s to read /Volumes/NIJMAN/THESIS/enwiki_extracted/ms50.\n"
     ]
    },
    {
     "data": {
      "application/vnd.jupyter.widget-view+json": {
       "model_id": "558f5eb4ee174d7e9b78311feb29580a",
       "version_major": 2,
       "version_minor": 0
      },
      "text/plain": [
       "Progress split_dump():   0%|          | 0/210 [00:00<?, ?it/s]"
      ]
     },
     "metadata": {},
     "output_type": "display_data"
    },
    {
     "data": {
      "application/vnd.jupyter.widget-view+json": {
       "model_id": "c56573c70c444a008950f9b55efc5e35",
       "version_major": 2,
       "version_minor": 0
      },
      "text/plain": [
       "Progress process_dump():   0%|          | 0/308747 [00:00<?, ?it/s]"
      ]
     },
     "metadata": {},
     "output_type": "display_data"
    },
    {
     "name": "stdout",
     "output_type": "stream",
     "text": [
      "2.28% of articles contain 2 toponyms\n",
      "Removing 21 referral pages\n",
      "file has been written to: ../../../../data/enwiki/enwikidump_ms50.csv\n",
      "\n",
      "Starting preprocessing on: /Volumes/NIJMAN/THESIS/enwiki_extracted/ms51\n",
      "It took 2.7175121307373047s to read /Volumes/NIJMAN/THESIS/enwiki_extracted/ms51.\n"
     ]
    },
    {
     "data": {
      "application/vnd.jupyter.widget-view+json": {
       "model_id": "e32be0e906284acfa6f78f7f820b30d7",
       "version_major": 2,
       "version_minor": 0
      },
      "text/plain": [
       "Progress split_dump():   0%|          | 0/224 [00:00<?, ?it/s]"
      ]
     },
     "metadata": {},
     "output_type": "display_data"
    },
    {
     "data": {
      "application/vnd.jupyter.widget-view+json": {
       "model_id": "f17a9586ecd54ef9bbeb2aeb7323a59b",
       "version_major": 2,
       "version_minor": 0
      },
      "text/plain": [
       "Progress process_dump():   0%|          | 0/365074 [00:00<?, ?it/s]"
      ]
     },
     "metadata": {},
     "output_type": "display_data"
    },
    {
     "name": "stdout",
     "output_type": "stream",
     "text": [
      "2.05% of articles contain 2 toponyms\n",
      "Removing 88 referral pages\n",
      "file has been written to: ../../../../data/enwiki/enwikidump_ms51.csv\n",
      "\n",
      "Starting preprocessing on: /Volumes/NIJMAN/THESIS/enwiki_extracted/ms52\n",
      "It took 4.245742082595825s to read /Volumes/NIJMAN/THESIS/enwiki_extracted/ms52.\n"
     ]
    },
    {
     "data": {
      "application/vnd.jupyter.widget-view+json": {
       "model_id": "f803973a957547aaa4ad1120e415b4e8",
       "version_major": 2,
       "version_minor": 0
      },
      "text/plain": [
       "Progress split_dump():   0%|          | 0/68 [00:00<?, ?it/s]"
      ]
     },
     "metadata": {},
     "output_type": "display_data"
    },
    {
     "data": {
      "application/vnd.jupyter.widget-view+json": {
       "model_id": "1247f89931484148844cf7be5fec491e",
       "version_major": 2,
       "version_minor": 0
      },
      "text/plain": [
       "Progress process_dump():   0%|          | 0/96242 [00:00<?, ?it/s]"
      ]
     },
     "metadata": {},
     "output_type": "display_data"
    },
    {
     "name": "stdout",
     "output_type": "stream",
     "text": [
      "2.51% of articles contain 2 toponyms\n",
      "Removing 10 referral pages\n",
      "file has been written to: ../../../../data/enwiki/enwikidump_ms52.csv\n",
      "\n",
      "Starting preprocessing on: /Volumes/NIJMAN/THESIS/enwiki_extracted/ms53\n",
      "It took 2.790736198425293s to read /Volumes/NIJMAN/THESIS/enwiki_extracted/ms53.\n"
     ]
    },
    {
     "data": {
      "application/vnd.jupyter.widget-view+json": {
       "model_id": "a1299a4d33f54f35aa621427e9f32168",
       "version_major": 2,
       "version_minor": 0
      },
      "text/plain": [
       "Progress split_dump():   0%|          | 0/214 [00:00<?, ?it/s]"
      ]
     },
     "metadata": {},
     "output_type": "display_data"
    },
    {
     "data": {
      "application/vnd.jupyter.widget-view+json": {
       "model_id": "e27e02c0641f40ef802033e36cdd80d8",
       "version_major": 2,
       "version_minor": 0
      },
      "text/plain": [
       "Progress process_dump():   0%|          | 0/309931 [00:00<?, ?it/s]"
      ]
     },
     "metadata": {},
     "output_type": "display_data"
    },
    {
     "name": "stdout",
     "output_type": "stream",
     "text": [
      "2.38% of articles contain 2 toponyms\n",
      "Removing 20 referral pages\n",
      "file has been written to: ../../../../data/enwiki/enwikidump_ms53.csv\n",
      "\n",
      "Starting preprocessing on: /Volumes/NIJMAN/THESIS/enwiki_extracted/ms54\n",
      "It took 3.2475991249084473s to read /Volumes/NIJMAN/THESIS/enwiki_extracted/ms54.\n"
     ]
    },
    {
     "data": {
      "application/vnd.jupyter.widget-view+json": {
       "model_id": "0670330da4b24e4f97b46986a149acc8",
       "version_major": 2,
       "version_minor": 0
      },
      "text/plain": [
       "Progress split_dump():   0%|          | 0/202 [00:00<?, ?it/s]"
      ]
     },
     "metadata": {},
     "output_type": "display_data"
    },
    {
     "data": {
      "application/vnd.jupyter.widget-view+json": {
       "model_id": "15460fbdb7d741a2b54e58aa4949c07a",
       "version_major": 2,
       "version_minor": 0
      },
      "text/plain": [
       "Progress process_dump():   0%|          | 0/337315 [00:00<?, ?it/s]"
      ]
     },
     "metadata": {},
     "output_type": "display_data"
    },
    {
     "name": "stdout",
     "output_type": "stream",
     "text": [
      "1.91% of articles contain 2 toponyms\n",
      "Removing 15 referral pages\n",
      "file has been written to: ../../../../data/enwiki/enwikidump_ms54.csv\n",
      "\n",
      "Starting preprocessing on: /Volumes/NIJMAN/THESIS/enwiki_extracted/ms55\n",
      "It took 6.469252824783325s to read /Volumes/NIJMAN/THESIS/enwiki_extracted/ms55.\n"
     ]
    },
    {
     "data": {
      "application/vnd.jupyter.widget-view+json": {
       "model_id": "0c83c3bc2fc542e087078057df29be70",
       "version_major": 2,
       "version_minor": 0
      },
      "text/plain": [
       "Progress split_dump():   0%|          | 0/214 [00:00<?, ?it/s]"
      ]
     },
     "metadata": {},
     "output_type": "display_data"
    },
    {
     "data": {
      "application/vnd.jupyter.widget-view+json": {
       "model_id": "8442c636399f428c8201e1a87730ee92",
       "version_major": 2,
       "version_minor": 0
      },
      "text/plain": [
       "Progress process_dump():   0%|          | 0/321997 [00:00<?, ?it/s]"
      ]
     },
     "metadata": {},
     "output_type": "display_data"
    },
    {
     "name": "stdout",
     "output_type": "stream",
     "text": [
      "2.19% of articles contain 2 toponyms\n",
      "Removing 21 referral pages\n",
      "file has been written to: ../../../../data/enwiki/enwikidump_ms55.csv\n",
      "\n",
      "Starting preprocessing on: /Volumes/NIJMAN/THESIS/enwiki_extracted/ms56\n",
      "It took 1.2216589450836182s to read /Volumes/NIJMAN/THESIS/enwiki_extracted/ms56.\n"
     ]
    },
    {
     "data": {
      "application/vnd.jupyter.widget-view+json": {
       "model_id": "b590dd337b0a4b6085a175e41736eb36",
       "version_major": 2,
       "version_minor": 0
      },
      "text/plain": [
       "Progress split_dump():   0%|          | 0/145 [00:00<?, ?it/s]"
      ]
     },
     "metadata": {},
     "output_type": "display_data"
    },
    {
     "data": {
      "application/vnd.jupyter.widget-view+json": {
       "model_id": "b5f33f13658a403eaaf79e1a13a2d7e9",
       "version_major": 2,
       "version_minor": 0
      },
      "text/plain": [
       "Progress process_dump():   0%|          | 0/208443 [00:00<?, ?it/s]"
      ]
     },
     "metadata": {},
     "output_type": "display_data"
    },
    {
     "name": "stdout",
     "output_type": "stream",
     "text": [
      "2.44% of articles contain 2 toponyms\n",
      "Removing 23 referral pages\n",
      "file has been written to: ../../../../data/enwiki/enwikidump_ms56.csv\n",
      "\n",
      "Starting preprocessing on: /Volumes/NIJMAN/THESIS/enwiki_extracted/ms57\n",
      "It took 2.7944607734680176s to read /Volumes/NIJMAN/THESIS/enwiki_extracted/ms57.\n"
     ]
    },
    {
     "data": {
      "application/vnd.jupyter.widget-view+json": {
       "model_id": "928c653a23304b28ab9852966e6fbb0c",
       "version_major": 2,
       "version_minor": 0
      },
      "text/plain": [
       "Progress split_dump():   0%|          | 0/207 [00:00<?, ?it/s]"
      ]
     },
     "metadata": {},
     "output_type": "display_data"
    },
    {
     "data": {
      "application/vnd.jupyter.widget-view+json": {
       "model_id": "fc932e46eeec4ce7b1d73d03f2bb7a8f",
       "version_major": 2,
       "version_minor": 0
      },
      "text/plain": [
       "Progress process_dump():   0%|          | 0/299481 [00:00<?, ?it/s]"
      ]
     },
     "metadata": {},
     "output_type": "display_data"
    },
    {
     "name": "stdout",
     "output_type": "stream",
     "text": [
      "2.4% of articles contain 2 toponyms\n",
      "Removing 19 referral pages\n",
      "file has been written to: ../../../../data/enwiki/enwikidump_ms57.csv\n",
      "\n",
      "Starting preprocessing on: /Volumes/NIJMAN/THESIS/enwiki_extracted/ms58\n",
      "It took 6.452521800994873s to read /Volumes/NIJMAN/THESIS/enwiki_extracted/ms58.\n"
     ]
    },
    {
     "data": {
      "application/vnd.jupyter.widget-view+json": {
       "model_id": "d386e7590a7e4d8fab1510079421c5aa",
       "version_major": 2,
       "version_minor": 0
      },
      "text/plain": [
       "Progress split_dump():   0%|          | 0/188 [00:00<?, ?it/s]"
      ]
     },
     "metadata": {},
     "output_type": "display_data"
    },
    {
     "data": {
      "application/vnd.jupyter.widget-view+json": {
       "model_id": "10d3dc6237a84528832e8bb18ed1b7d9",
       "version_major": 2,
       "version_minor": 0
      },
      "text/plain": [
       "Progress process_dump():   0%|          | 0/263436 [00:00<?, ?it/s]"
      ]
     },
     "metadata": {},
     "output_type": "display_data"
    },
    {
     "name": "stdout",
     "output_type": "stream",
     "text": [
      "2.58% of articles contain 2 toponyms\n",
      "Removing 25 referral pages\n",
      "file has been written to: ../../../../data/enwiki/enwikidump_ms58.csv\n",
      "\n",
      "Starting preprocessing on: /Volumes/NIJMAN/THESIS/enwiki_extracted/ms59\n",
      "It took 2.742626905441284s to read /Volumes/NIJMAN/THESIS/enwiki_extracted/ms59.\n"
     ]
    },
    {
     "data": {
      "application/vnd.jupyter.widget-view+json": {
       "model_id": "0223401e351d44bea26e23ae35ec0a5b",
       "version_major": 2,
       "version_minor": 0
      },
      "text/plain": [
       "Progress split_dump():   0%|          | 0/199 [00:00<?, ?it/s]"
      ]
     },
     "metadata": {},
     "output_type": "display_data"
    },
    {
     "data": {
      "application/vnd.jupyter.widget-view+json": {
       "model_id": "98b600d898af447a9a94530dedabaa38",
       "version_major": 2,
       "version_minor": 0
      },
      "text/plain": [
       "Progress process_dump():   0%|          | 0/295211 [00:00<?, ?it/s]"
      ]
     },
     "metadata": {},
     "output_type": "display_data"
    },
    {
     "name": "stdout",
     "output_type": "stream",
     "text": [
      "2.44% of articles contain 2 toponyms\n",
      "Removing 25 referral pages\n",
      "file has been written to: ../../../../data/enwiki/enwikidump_ms59.csv\n",
      "\n",
      "Starting preprocessing on: /Volumes/NIJMAN/THESIS/enwiki_extracted/ms60\n",
      "It took 2.646697998046875s to read /Volumes/NIJMAN/THESIS/enwiki_extracted/ms60.\n"
     ]
    },
    {
     "data": {
      "application/vnd.jupyter.widget-view+json": {
       "model_id": "583b37935e4147d884e2053e0b1f080d",
       "version_major": 2,
       "version_minor": 0
      },
      "text/plain": [
       "Progress split_dump():   0%|          | 0/209 [00:00<?, ?it/s]"
      ]
     },
     "metadata": {},
     "output_type": "display_data"
    },
    {
     "data": {
      "application/vnd.jupyter.widget-view+json": {
       "model_id": "ce8c053fa341432b9b516114732ea2ec",
       "version_major": 2,
       "version_minor": 0
      },
      "text/plain": [
       "Progress process_dump():   0%|          | 0/324456 [00:00<?, ?it/s]"
      ]
     },
     "metadata": {},
     "output_type": "display_data"
    },
    {
     "name": "stdout",
     "output_type": "stream",
     "text": [
      "2.21% of articles contain 2 toponyms\n",
      "Removing 43 referral pages\n",
      "file has been written to: ../../../../data/enwiki/enwikidump_ms60.csv\n",
      "\n",
      "Starting preprocessing on: /Volumes/NIJMAN/THESIS/enwiki_extracted/ms61\n",
      "It took 2.034956932067871s to read /Volumes/NIJMAN/THESIS/enwiki_extracted/ms61.\n"
     ]
    },
    {
     "data": {
      "application/vnd.jupyter.widget-view+json": {
       "model_id": "b07e354b0d704f32aab12af1bcd5d734",
       "version_major": 2,
       "version_minor": 0
      },
      "text/plain": [
       "Progress split_dump():   0%|          | 0/202 [00:00<?, ?it/s]"
      ]
     },
     "metadata": {},
     "output_type": "display_data"
    },
    {
     "data": {
      "application/vnd.jupyter.widget-view+json": {
       "model_id": "4ad70b3ee85d488594b3b4545eb53c5e",
       "version_major": 2,
       "version_minor": 0
      },
      "text/plain": [
       "Progress process_dump():   0%|          | 0/371250 [00:00<?, ?it/s]"
      ]
     },
     "metadata": {},
     "output_type": "display_data"
    },
    {
     "name": "stdout",
     "output_type": "stream",
     "text": [
      "1.65% of articles contain 2 toponyms\n",
      "Removing 24 referral pages\n",
      "file has been written to: ../../../../data/enwiki/enwikidump_ms61.csv\n",
      "\n",
      "Starting preprocessing on: /Volumes/NIJMAN/THESIS/enwiki_extracted/ms62\n",
      "It took 4.231887102127075s to read /Volumes/NIJMAN/THESIS/enwiki_extracted/ms62.\n"
     ]
    },
    {
     "data": {
      "application/vnd.jupyter.widget-view+json": {
       "model_id": "68183e5d6cc34823bbfd6f0bf9f5854b",
       "version_major": 2,
       "version_minor": 0
      },
      "text/plain": [
       "Progress split_dump():   0%|          | 0/78 [00:00<?, ?it/s]"
      ]
     },
     "metadata": {},
     "output_type": "display_data"
    },
    {
     "data": {
      "application/vnd.jupyter.widget-view+json": {
       "model_id": "4049e24fc56d47c593bd21a5bb4f3f6b",
       "version_major": 2,
       "version_minor": 0
      },
      "text/plain": [
       "Progress process_dump():   0%|          | 0/135066 [00:00<?, ?it/s]"
      ]
     },
     "metadata": {},
     "output_type": "display_data"
    },
    {
     "name": "stdout",
     "output_type": "stream",
     "text": [
      "1.76% of articles contain 2 toponyms\n",
      "Removing 5 referral pages\n",
      "file has been written to: ../../../../data/enwiki/enwikidump_ms62.csv\n",
      "----------\n",
      "Files in /Volumes/NIJMAN/THESIS/enwiki_extracted have been processed\n",
      "----------\n"
     ]
    },
    {
     "data": {
      "application/vnd.jupyter.widget-view+json": {
       "model_id": "88e0c5d7a4a244319ba4ad54af65c2dd",
       "version_major": 2,
       "version_minor": 0
      },
      "text/plain": [
       "Progress Total:   0%|          | 0/13 [00:00<?, ?it/s]"
      ]
     },
     "metadata": {},
     "output_type": "display_data"
    },
    {
     "name": "stdout",
     "output_type": "stream",
     "text": [
      "\n",
      "Starting preprocessing on: /Volumes/NIJMAN/THESIS/frwiki_extracted/ms1\n",
      "It took 9.43010401725769s to read /Volumes/NIJMAN/THESIS/frwiki_extracted/ms1.\n"
     ]
    },
    {
     "data": {
      "application/vnd.jupyter.widget-view+json": {
       "model_id": "227934bcfcd2445e8e6a8bb43923b58e",
       "version_major": 2,
       "version_minor": 0
      },
      "text/plain": [
       "Progress split_dump():   0%|          | 0/781 [00:00<?, ?it/s]"
      ]
     },
     "metadata": {},
     "output_type": "display_data"
    },
    {
     "data": {
      "application/vnd.jupyter.widget-view+json": {
       "model_id": "fbc32561291544cc9e46e8a9d9f09cbc",
       "version_major": 2,
       "version_minor": 0
      },
      "text/plain": [
       "Progress process_dump():   0%|          | 0/151301 [00:00<?, ?it/s]"
      ]
     },
     "metadata": {},
     "output_type": "display_data"
    },
    {
     "name": "stdout",
     "output_type": "stream",
     "text": [
      "16.19% of articles contain 2 toponyms\n",
      "Removing 1 referral pages\n",
      "file has been written to: ../../../../data/frwiki/frwikidump_ms1.csv\n",
      "\n",
      "Starting preprocessing on: /Volumes/NIJMAN/THESIS/frwiki_extracted/ms2\n",
      "It took 13.013782024383545s to read /Volumes/NIJMAN/THESIS/frwiki_extracted/ms2.\n"
     ]
    },
    {
     "data": {
      "application/vnd.jupyter.widget-view+json": {
       "model_id": "eca08792c19746b0ad2b0f5c857c8c2c",
       "version_major": 2,
       "version_minor": 0
      },
      "text/plain": [
       "Progress split_dump():   0%|          | 0/794 [00:00<?, ?it/s]"
      ]
     },
     "metadata": {},
     "output_type": "display_data"
    },
    {
     "data": {
      "application/vnd.jupyter.widget-view+json": {
       "model_id": "0caf0053a12b4bad81583c5f444c9d20",
       "version_major": 2,
       "version_minor": 0
      },
      "text/plain": [
       "Progress process_dump():   0%|          | 0/323342 [00:00<?, ?it/s]"
      ]
     },
     "metadata": {},
     "output_type": "display_data"
    },
    {
     "name": "stdout",
     "output_type": "stream",
     "text": [
      "11.56% of articles contain 2 toponyms\n",
      "Removing 11 referral pages\n",
      "file has been written to: ../../../../data/frwiki/frwikidump_ms2.csv\n",
      "\n",
      "Starting preprocessing on: /Volumes/NIJMAN/THESIS/frwiki_extracted/ms3\n",
      "It took 10.96682095527649s to read /Volumes/NIJMAN/THESIS/frwiki_extracted/ms3.\n"
     ]
    },
    {
     "data": {
      "application/vnd.jupyter.widget-view+json": {
       "model_id": "e28ee51e42d14b6db0c297ae25a579ee",
       "version_major": 2,
       "version_minor": 0
      },
      "text/plain": [
       "Progress split_dump():   0%|          | 0/567 [00:00<?, ?it/s]"
      ]
     },
     "metadata": {},
     "output_type": "display_data"
    },
    {
     "data": {
      "application/vnd.jupyter.widget-view+json": {
       "model_id": "6dfbdb544a7d46d294f5893790e962a8",
       "version_major": 2,
       "version_minor": 0
      },
      "text/plain": [
       "Progress process_dump():   0%|          | 0/545167 [00:00<?, ?it/s]"
      ]
     },
     "metadata": {},
     "output_type": "display_data"
    },
    {
     "name": "stdout",
     "output_type": "stream",
     "text": [
      "5.3% of articles contain 2 toponyms\n",
      "Removing 30 referral pages\n",
      "file has been written to: ../../../../data/frwiki/frwikidump_ms3.csv\n",
      "\n",
      "Starting preprocessing on: /Volumes/NIJMAN/THESIS/frwiki_extracted/ms4\n",
      "It took 4.849968910217285s to read /Volumes/NIJMAN/THESIS/frwiki_extracted/ms4.\n"
     ]
    },
    {
     "data": {
      "application/vnd.jupyter.widget-view+json": {
       "model_id": "aa78064257484eb6acb2d32b9a0b3ca2",
       "version_major": 2,
       "version_minor": 0
      },
      "text/plain": [
       "Progress split_dump():   0%|          | 0/149 [00:00<?, ?it/s]"
      ]
     },
     "metadata": {},
     "output_type": "display_data"
    },
    {
     "data": {
      "application/vnd.jupyter.widget-view+json": {
       "model_id": "87c544bf0416464388ff0b6584e614bc",
       "version_major": 2,
       "version_minor": 0
      },
      "text/plain": [
       "Progress process_dump():   0%|          | 0/189230 [00:00<?, ?it/s]"
      ]
     },
     "metadata": {},
     "output_type": "display_data"
    },
    {
     "name": "stdout",
     "output_type": "stream",
     "text": [
      "3.97% of articles contain 2 toponyms\n",
      "Removing 17 referral pages\n",
      "file has been written to: ../../../../data/frwiki/frwikidump_ms4.csv\n",
      "\n",
      "Starting preprocessing on: /Volumes/NIJMAN/THESIS/frwiki_extracted/ms5\n",
      "It took 10.017971992492676s to read /Volumes/NIJMAN/THESIS/frwiki_extracted/ms5.\n"
     ]
    },
    {
     "data": {
      "application/vnd.jupyter.widget-view+json": {
       "model_id": "cf2868fa796a48cca3ced3496843b853",
       "version_major": 2,
       "version_minor": 0
      },
      "text/plain": [
       "Progress split_dump():   0%|          | 0/535 [00:00<?, ?it/s]"
      ]
     },
     "metadata": {},
     "output_type": "display_data"
    },
    {
     "data": {
      "application/vnd.jupyter.widget-view+json": {
       "model_id": "bdd023aae54a47a19f94a04f48e7e8f0",
       "version_major": 2,
       "version_minor": 0
      },
      "text/plain": [
       "Progress process_dump():   0%|          | 0/446533 [00:00<?, ?it/s]"
      ]
     },
     "metadata": {},
     "output_type": "display_data"
    },
    {
     "name": "stdout",
     "output_type": "stream",
     "text": [
      "6.36% of articles contain 2 toponyms\n",
      "Removing 92 referral pages\n",
      "file has been written to: ../../../../data/frwiki/frwikidump_ms5.csv\n",
      "\n",
      "Starting preprocessing on: /Volumes/NIJMAN/THESIS/frwiki_extracted/ms6\n",
      "It took 5.479469060897827s to read /Volumes/NIJMAN/THESIS/frwiki_extracted/ms6.\n"
     ]
    },
    {
     "data": {
      "application/vnd.jupyter.widget-view+json": {
       "model_id": "c5169d272283450386a639d3b894f0b4",
       "version_major": 2,
       "version_minor": 0
      },
      "text/plain": [
       "Progress split_dump():   0%|          | 0/246 [00:00<?, ?it/s]"
      ]
     },
     "metadata": {},
     "output_type": "display_data"
    },
    {
     "data": {
      "application/vnd.jupyter.widget-view+json": {
       "model_id": "d14a12644d2d489bbb83ce17d1739b86",
       "version_major": 2,
       "version_minor": 0
      },
      "text/plain": [
       "Progress process_dump():   0%|          | 0/228636 [00:00<?, ?it/s]"
      ]
     },
     "metadata": {},
     "output_type": "display_data"
    },
    {
     "name": "stdout",
     "output_type": "stream",
     "text": [
      "6.48% of articles contain 2 toponyms\n",
      "Removing 38 referral pages\n",
      "file has been written to: ../../../../data/frwiki/frwikidump_ms6.csv\n",
      "\n",
      "Starting preprocessing on: /Volumes/NIJMAN/THESIS/frwiki_extracted/ms7\n",
      "It took 5.249217987060547s to read /Volumes/NIJMAN/THESIS/frwiki_extracted/ms7.\n"
     ]
    },
    {
     "data": {
      "application/vnd.jupyter.widget-view+json": {
       "model_id": "c3a0d17284cd4d109ad64eb88caeb78e",
       "version_major": 2,
       "version_minor": 0
      },
      "text/plain": [
       "Progress split_dump():   0%|          | 0/454 [00:00<?, ?it/s]"
      ]
     },
     "metadata": {},
     "output_type": "display_data"
    },
    {
     "data": {
      "application/vnd.jupyter.widget-view+json": {
       "model_id": "a6ad69e3a153452bb35aac8276f196fc",
       "version_major": 2,
       "version_minor": 0
      },
      "text/plain": [
       "Progress process_dump():   0%|          | 0/428552 [00:00<?, ?it/s]"
      ]
     },
     "metadata": {},
     "output_type": "display_data"
    },
    {
     "name": "stdout",
     "output_type": "stream",
     "text": [
      "6.14% of articles contain 2 toponyms\n",
      "Removing 72 referral pages\n",
      "file has been written to: ../../../../data/frwiki/frwikidump_ms7.csv\n",
      "\n",
      "Starting preprocessing on: /Volumes/NIJMAN/THESIS/frwiki_extracted/ms8\n",
      "It took 7.005007743835449s to read /Volumes/NIJMAN/THESIS/frwiki_extracted/ms8.\n"
     ]
    },
    {
     "data": {
      "application/vnd.jupyter.widget-view+json": {
       "model_id": "a9706679b62140a4a590760c2442d24d",
       "version_major": 2,
       "version_minor": 0
      },
      "text/plain": [
       "Progress split_dump():   0%|          | 0/362 [00:00<?, ?it/s]"
      ]
     },
     "metadata": {},
     "output_type": "display_data"
    },
    {
     "data": {
      "application/vnd.jupyter.widget-view+json": {
       "model_id": "605ba852390a46e1850b48aa51be7b5b",
       "version_major": 2,
       "version_minor": 0
      },
      "text/plain": [
       "Progress process_dump():   0%|          | 0/350754 [00:00<?, ?it/s]"
      ]
     },
     "metadata": {},
     "output_type": "display_data"
    },
    {
     "name": "stdout",
     "output_type": "stream",
     "text": [
      "6.03% of articles contain 2 toponyms\n",
      "Removing 34 referral pages\n",
      "file has been written to: ../../../../data/frwiki/frwikidump_ms8.csv\n",
      "\n",
      "Starting preprocessing on: /Volumes/NIJMAN/THESIS/frwiki_extracted/ms9\n",
      "It took 4.939444065093994s to read /Volumes/NIJMAN/THESIS/frwiki_extracted/ms9.\n"
     ]
    },
    {
     "data": {
      "application/vnd.jupyter.widget-view+json": {
       "model_id": "616617a3a2c24e9686191958a5fe0473",
       "version_major": 2,
       "version_minor": 0
      },
      "text/plain": [
       "Progress split_dump():   0%|          | 0/139 [00:00<?, ?it/s]"
      ]
     },
     "metadata": {},
     "output_type": "display_data"
    },
    {
     "data": {
      "application/vnd.jupyter.widget-view+json": {
       "model_id": "0ed8ae78513b4ace8feac74605577759",
       "version_major": 2,
       "version_minor": 0
      },
      "text/plain": [
       "Progress process_dump():   0%|          | 0/129239 [00:00<?, ?it/s]"
      ]
     },
     "metadata": {},
     "output_type": "display_data"
    },
    {
     "name": "stdout",
     "output_type": "stream",
     "text": [
      "6.63% of articles contain 2 toponyms\n",
      "Removing 20 referral pages\n",
      "file has been written to: ../../../../data/frwiki/frwikidump_ms9.csv\n",
      "\n",
      "Starting preprocessing on: /Volumes/NIJMAN/THESIS/frwiki_extracted/ms10\n",
      "It took 7.1308159828186035s to read /Volumes/NIJMAN/THESIS/frwiki_extracted/ms10.\n"
     ]
    },
    {
     "data": {
      "application/vnd.jupyter.widget-view+json": {
       "model_id": "3f8c030fcd884e92a9ce6900eafada1e",
       "version_major": 2,
       "version_minor": 0
      },
      "text/plain": [
       "Progress split_dump():   0%|          | 0/327 [00:00<?, ?it/s]"
      ]
     },
     "metadata": {},
     "output_type": "display_data"
    },
    {
     "data": {
      "application/vnd.jupyter.widget-view+json": {
       "model_id": "d3371682c7f34ebb997ed5c1a363975a",
       "version_major": 2,
       "version_minor": 0
      },
      "text/plain": [
       "Progress process_dump():   0%|          | 0/319747 [00:00<?, ?it/s]"
      ]
     },
     "metadata": {},
     "output_type": "display_data"
    },
    {
     "name": "stdout",
     "output_type": "stream",
     "text": [
      "5.96% of articles contain 2 toponyms\n",
      "Removing 22 referral pages\n",
      "file has been written to: ../../../../data/frwiki/frwikidump_ms10.csv\n",
      "\n",
      "Starting preprocessing on: /Volumes/NIJMAN/THESIS/frwiki_extracted/ms11\n",
      "It took 4.83545184135437s to read /Volumes/NIJMAN/THESIS/frwiki_extracted/ms11.\n"
     ]
    },
    {
     "data": {
      "application/vnd.jupyter.widget-view+json": {
       "model_id": "86658b4d7dc34ddd8b634463e6a0f15a",
       "version_major": 2,
       "version_minor": 0
      },
      "text/plain": [
       "Progress split_dump():   0%|          | 0/332 [00:00<?, ?it/s]"
      ]
     },
     "metadata": {},
     "output_type": "display_data"
    },
    {
     "data": {
      "application/vnd.jupyter.widget-view+json": {
       "model_id": "0ec01d89e1ad4919b7a0e08adbedf65a",
       "version_major": 2,
       "version_minor": 0
      },
      "text/plain": [
       "Progress process_dump():   0%|          | 0/312521 [00:00<?, ?it/s]"
      ]
     },
     "metadata": {},
     "output_type": "display_data"
    },
    {
     "name": "stdout",
     "output_type": "stream",
     "text": [
      "5.89% of articles contain 2 toponyms\n",
      "Removing 39 referral pages\n",
      "file has been written to: ../../../../data/frwiki/frwikidump_ms11.csv\n",
      "\n",
      "Starting preprocessing on: /Volumes/NIJMAN/THESIS/frwiki_extracted/ms12\n",
      "It took 8.615331172943115s to read /Volumes/NIJMAN/THESIS/frwiki_extracted/ms12.\n"
     ]
    },
    {
     "data": {
      "application/vnd.jupyter.widget-view+json": {
       "model_id": "6b37fd62d13945fc8a4abf5164cc5ec3",
       "version_major": 2,
       "version_minor": 0
      },
      "text/plain": [
       "Progress split_dump():   0%|          | 0/378 [00:00<?, ?it/s]"
      ]
     },
     "metadata": {},
     "output_type": "display_data"
    },
    {
     "data": {
      "application/vnd.jupyter.widget-view+json": {
       "model_id": "be1ee1654eee445ebef97f5214c50ed3",
       "version_major": 2,
       "version_minor": 0
      },
      "text/plain": [
       "Progress process_dump():   0%|          | 0/339629 [00:00<?, ?it/s]"
      ]
     },
     "metadata": {},
     "output_type": "display_data"
    },
    {
     "name": "stdout",
     "output_type": "stream",
     "text": [
      "6.39% of articles contain 2 toponyms\n",
      "Removing 28 referral pages\n",
      "file has been written to: ../../../../data/frwiki/frwikidump_ms12.csv\n",
      "\n",
      "Starting preprocessing on: /Volumes/NIJMAN/THESIS/frwiki_extracted/ms13\n",
      "It took 3.1632843017578125s to read /Volumes/NIJMAN/THESIS/frwiki_extracted/ms13.\n"
     ]
    },
    {
     "data": {
      "application/vnd.jupyter.widget-view+json": {
       "model_id": "d092c1a990ab453d985b0d2a42cf2407",
       "version_major": 2,
       "version_minor": 0
      },
      "text/plain": [
       "Progress split_dump():   0%|          | 0/320 [00:00<?, ?it/s]"
      ]
     },
     "metadata": {},
     "output_type": "display_data"
    },
    {
     "data": {
      "application/vnd.jupyter.widget-view+json": {
       "model_id": "7f47fbd38b2849028a10fc142759455b",
       "version_major": 2,
       "version_minor": 0
      },
      "text/plain": [
       "Progress process_dump():   0%|          | 0/280937 [00:00<?, ?it/s]"
      ]
     },
     "metadata": {},
     "output_type": "display_data"
    },
    {
     "name": "stdout",
     "output_type": "stream",
     "text": [
      "6.53% of articles contain 2 toponyms\n",
      "Removing 23 referral pages\n",
      "file has been written to: ../../../../data/frwiki/frwikidump_ms13.csv\n",
      "----------\n",
      "Files in /Volumes/NIJMAN/THESIS/frwiki_extracted have been processed\n",
      "----------\n"
     ]
    }
   ],
   "source": [
    "for lang in lang_list:\n",
    "    base_dir = f\"/Volumes/NIJMAN/THESIS/{lang}wiki_extracted\" # path/to/wikidump/extracted\n",
    "\n",
    "    \n",
    "    # load city list\n",
    "    name_col = f'Mua_{lang}' \n",
    "    cities_ls = [unidecode.unidecode(city_component) \n",
    "             for city in cities[name_col] \n",
    "             for city_component in city.split('-')]\n",
    "    \n",
    "    # do the whole preprocessing/extraction thing\n",
    "    preprocess(base_dir, data_dir, lang, cities_ls, overwrite_protection = False)"
   ]
  },
  {
   "cell_type": "code",
   "execution_count": 9,
   "id": "e0c2d4e8",
   "metadata": {},
   "outputs": [
    {
     "name": "stdout",
     "output_type": "stream",
     "text": [
      "Sun Jun  5 11:58:46 2022\n"
     ]
    }
   ],
   "source": [
    "print(time.asctime(time.localtime(time.time())))"
   ]
  },
  {
   "cell_type": "markdown",
   "id": "40759645",
   "metadata": {},
   "source": [
    "## Create Co-occurence matrix"
   ]
  },
  {
   "cell_type": "code",
   "execution_count": 10,
   "id": "747f17d0",
   "metadata": {},
   "outputs": [
    {
     "data": {
      "application/vnd.jupyter.widget-view+json": {
       "model_id": "a27e40e4fabd4da8a02facdbe18619d9",
       "version_major": 2,
       "version_minor": 0
      },
      "text/plain": [
       "Articles processed:   0%|          | 0/508671 [00:00<?, ?it/s]"
      ]
     },
     "metadata": {},
     "output_type": "display_data"
    },
    {
     "name": "stdout",
     "output_type": "stream",
     "text": [
      "It took 16460.77367091179s to process the corpus.\n",
      "File ../../output/en_matrix_20220603.csv already exists.\n",
      "Are you sure you want to continue and overwrite the file?\n",
      "Continue? [y/n]y\n",
      "Matrix has been written to: ../../output/en_matrix_20220603.csv\n"
     ]
    },
    {
     "data": {
      "application/vnd.jupyter.widget-view+json": {
       "model_id": "508a52a1ac2e4c339957c1baa517c850",
       "version_major": 2,
       "version_minor": 0
      },
      "text/plain": [
       "Articles processed:   0%|          | 0/274578 [00:00<?, ?it/s]"
      ]
     },
     "metadata": {},
     "output_type": "display_data"
    },
    {
     "name": "stdout",
     "output_type": "stream",
     "text": [
      "It took 8106.863595962524s to process the corpus.\n",
      "File ../../output/fr_matrix_20220603.csv already exists.\n",
      "Are you sure you want to continue and overwrite the file?\n",
      "Continue? [y/n]y\n",
      "Matrix has been written to: ../../output/fr_matrix_20220603.csv\n"
     ]
    }
   ],
   "source": [
    "# create co-occurence matrix\n",
    "for lang in lang_list:\n",
    "    name_col = f'Mua_{lang}'\n",
    "\n",
    "    # list of complete city names\n",
    "    city_l = [unidecode.unidecode(city) for city in cities[name_col]]\n",
    "    \n",
    "    # folder of extracted streams\n",
    "    inputfp = os.path.join(data_dir, f'{lang}wiki/')\n",
    "    \n",
    "    #- loop over .csv files create dataframes\n",
    "    df = pd.DataFrame(columns = ['article_id', 'title', 'text'])\n",
    "    # iterate over directory for each file path, create a dataframe\n",
    "    for file in os.listdir(inputfp):\n",
    "        fp = os.path.join(inputfp, file)\n",
    "        df_temp = pd.read_csv(fp)\n",
    "        df = pd.concat([df, df_temp])\n",
    "    \n",
    "    # create matrix\n",
    "    t0 = time.time()\n",
    "\n",
    "    matrix = process_corpus(df.text, city_l)\n",
    "\n",
    "    t1 = time.time()\n",
    "    total = t1-t0\n",
    "    print(f\"It took {total}s to process the corpus.\")\n",
    "    \n",
    "    # save matrix\n",
    "    FILENAME = f\"{lang}_matrix_20220603.csv\"\n",
    "\n",
    "    write_matrix(matrix = matrix, \n",
    "                 outdir = out_dir, \n",
    "                 filename = FILENAME)\n"
   ]
  },
  {
   "cell_type": "code",
   "execution_count": 11,
   "id": "4a682f3e",
   "metadata": {},
   "outputs": [
    {
     "name": "stdout",
     "output_type": "stream",
     "text": [
      "Mon Jun  6 06:26:25 2022\n"
     ]
    }
   ],
   "source": [
    "print(time.asctime(time.localtime(time.time())))\n"
   ]
  },
  {
   "cell_type": "code",
   "execution_count": 4,
   "id": "0ffe5d8c",
   "metadata": {},
   "outputs": [],
   "source": [
    "# create city-pairs dataframe\n",
    "\n",
    "for lang in lang_list:\n",
    "    # load matrix\n",
    "    FILENAME = f\"{lang}_matrix_20220603.csv\"\n",
    "    matrix = pd.read_csv(os.path.join(out_dir, FILENAME))\n",
    "    matrix.set_index('index', inplace=True)\n",
    "    \n",
    "    \n",
    "    # create city pairs list\n",
    "    citylink = create_citylink(matrix)\n",
    "    \n",
    "    # as dataframe\n",
    "    df = pd.DataFrame(citylink, columns = ['city_A', 'city_B', f'col_{lang}'])\n",
    "    \n",
    "    # save as csv\n",
    "    FILENAME = f\"citypairs_{lang}.csv\"\n",
    "    fp = os.path.join(out_dir, FILENAME)\n",
    "    \n",
    "    df.to_csv(fp, index = False)"
   ]
  },
  {
   "cell_type": "code",
   "execution_count": 5,
   "id": "845c1c6a",
   "metadata": {},
   "outputs": [
    {
     "data": {
      "text/html": [
       "<div>\n",
       "<style scoped>\n",
       "    .dataframe tbody tr th:only-of-type {\n",
       "        vertical-align: middle;\n",
       "    }\n",
       "\n",
       "    .dataframe tbody tr th {\n",
       "        vertical-align: top;\n",
       "    }\n",
       "\n",
       "    .dataframe thead th {\n",
       "        text-align: right;\n",
       "    }\n",
       "</style>\n",
       "<table border=\"1\" class=\"dataframe\">\n",
       "  <thead>\n",
       "    <tr style=\"text-align: right;\">\n",
       "      <th></th>\n",
       "      <th>city_A</th>\n",
       "      <th>city_B</th>\n",
       "      <th>col_fr</th>\n",
       "    </tr>\n",
       "  </thead>\n",
       "  <tbody>\n",
       "    <tr>\n",
       "      <th>0</th>\n",
       "      <td>Paris</td>\n",
       "      <td>Londres</td>\n",
       "      <td>10733.0</td>\n",
       "    </tr>\n",
       "    <tr>\n",
       "      <th>1</th>\n",
       "      <td>Paris</td>\n",
       "      <td>Madrid</td>\n",
       "      <td>2404.0</td>\n",
       "    </tr>\n",
       "    <tr>\n",
       "      <th>2</th>\n",
       "      <td>Paris</td>\n",
       "      <td>Berlin</td>\n",
       "      <td>4723.0</td>\n",
       "    </tr>\n",
       "    <tr>\n",
       "      <th>3</th>\n",
       "      <td>Paris</td>\n",
       "      <td>Milan</td>\n",
       "      <td>2713.0</td>\n",
       "    </tr>\n",
       "    <tr>\n",
       "      <th>4</th>\n",
       "      <td>Paris</td>\n",
       "      <td>Barcelone</td>\n",
       "      <td>1696.0</td>\n",
       "    </tr>\n",
       "  </tbody>\n",
       "</table>\n",
       "</div>"
      ],
      "text/plain": [
       "  city_A     city_B   col_fr\n",
       "0  Paris    Londres  10733.0\n",
       "1  Paris     Madrid   2404.0\n",
       "2  Paris     Berlin   4723.0\n",
       "3  Paris      Milan   2713.0\n",
       "4  Paris  Barcelone   1696.0"
      ]
     },
     "execution_count": 5,
     "metadata": {},
     "output_type": "execute_result"
    }
   ],
   "source": [
    "df.head()"
   ]
  },
  {
   "cell_type": "code",
   "execution_count": 6,
   "id": "d4ab5e5e",
   "metadata": {},
   "outputs": [
    {
     "data": {
      "text/plain": [
       "[('Paris', 'Londres', 10733.0),\n",
       " ('Paris', 'Madrid', 2404.0),\n",
       " ('Paris', 'Berlin', 4723.0),\n",
       " ('Paris', 'Milan', 2713.0),\n",
       " ('Paris', 'Barcelone', 1696.0),\n",
       " ('Paris', 'Athenes', 957.0),\n",
       " ('Paris', 'Rome', 6116.0),\n",
       " ('Paris', 'Birmingham', 171.0),\n",
       " ('Paris', 'Lisbonne', 807.0),\n",
       " ('Paris', 'Naples', 979.0),\n",
       " ('Paris', 'Katowice', 27.0),\n",
       " ('Paris', 'Manchester', 401.0),\n",
       " ('Paris', 'Hambourg', 792.0),\n",
       " ('Paris', 'Budapest', 827.0),\n",
       " ('Paris', 'Bucarest', 549.0),\n",
       " ('Paris', 'Varsovie', 1019.0),\n",
       " ('Paris', 'Stuttgart', 430.0),\n",
       " ('Paris', 'Vienne', 4115.0),\n",
       " ('Paris', 'Munich', 1861.0),\n",
       " ('Paris', 'Bruxelles', 5860.0),\n",
       " ('Paris', 'Stockholm', 912.0),\n",
       " ('Paris', 'Francfort', 1031.0),\n",
       " ('Paris', 'Cologne', 840.0),\n",
       " ('Paris', 'Copenhague', 618.0),\n",
       " ('Paris', 'Valence', 704.0),\n",
       " ('Paris', 'Turin', 1019.0),\n",
       " ('Paris', 'Glasgow', 251.0),\n",
       " ('Paris', 'Prague', 963.0),\n",
       " ('Paris', 'Lyon', 12977.0),\n",
       " ('Paris', 'Sofia', 305.0),\n",
       " ('Paris', 'Liverpool', 214.0),\n",
       " ('Paris', 'Porto', 366.0),\n",
       " ('Paris', 'Seville', 340.0),\n",
       " ('Paris', 'Dublin', 383.0),\n",
       " ('Paris', 'Helsinki', 324.0),\n",
       " ('Paris', 'Amsterdam', 1956.0),\n",
       " ('Paris', 'Rotterdam', 348.0),\n",
       " ('Paris', 'Dusseldorf', 405.0),\n",
       " ('Paris', 'Essen-Oberhausen', 95.0),\n",
       " ('Paris', 'Lille', 5237.0),\n",
       " ('Paris', 'Lodz', 99.0),\n",
       " ('Paris', 'Marseille', 7482.0),\n",
       " ('Paris', 'Anvers', 1275.0),\n",
       " ('Paris', 'Bilbao', 164.0),\n",
       " ('Paris', 'Newcastle', 77.0),\n",
       " ('Paris', 'Cracovie', 294.0),\n",
       " ('Paris', 'Bochum-Herne', 47.0),\n",
       " ('Paris', 'Thessalonique', 80.0),\n",
       " ('Paris', 'Nuremberg', 173.0),\n",
       " ('Paris', 'Riga', 125.0),\n",
       " ('Paris', 'Duisbourg', 24.0),\n",
       " ('Paris', 'Dortmund', 113.0),\n",
       " ('Paris', 'Hanovre', 232.0),\n",
       " ('Paris', 'Zurich', 1224.0),\n",
       " ('Paris', 'Oslo', 368.0),\n",
       " ('Paris', 'Breme', 104.0),\n",
       " ('Paris', 'Dresde', 494.0),\n",
       " ('Paris', 'Sheffield', 41.0),\n",
       " ('Paris', 'Palerme', 163.0),\n",
       " ('Paris', 'Poznan', 63.0),\n",
       " ('Paris', 'Gelsenkirchen-Bottrop', 13.0),\n",
       " ('Paris', 'Bordeaux', 6802.0),\n",
       " ('Paris', 'Wroclaw', 54.0),\n",
       " ('Paris', 'Goteborg-Gothembourg', 113.0),\n",
       " ('Paris', 'Saragosse', 82.0),\n",
       " ('Paris', 'Genes', 462.0),\n",
       " ('Paris', 'Catane', 41.0),\n",
       " ('Paris', 'La Haye', 588.0),\n",
       " ('Paris', 'Toulouse', 5708.0),\n",
       " ('Paris', 'Bristol', 144.0),\n",
       " ('Paris', 'Vilnius', 101.0),\n",
       " ('Paris', 'Sarrebruck', 186.0),\n",
       " ('Paris', 'Malaga', 71.0),\n",
       " ('Paris', 'Nantes', 3860.0),\n",
       " ('Paris', 'Leeds', 100.0),\n",
       " ('Paris', 'Nottingham', 45.0),\n",
       " ('Paris', 'Florence', 1601.0),\n",
       " ('Paris', 'Gdansk', 43.0),\n",
       " ('Paris', 'Leipzig', 660.0),\n",
       " ('Paris', 'Mannheim', 177.0),\n",
       " ('Paris', 'Belfast', 42.0),\n",
       " ('Paris', 'Portsmouth', 32.0),\n",
       " ('Paris', 'Venise', 1758.0),\n",
       " ('Paris', 'Edimbourg ', 134.0),\n",
       " ('Paris', 'Murcie', 30.0),\n",
       " ('Paris', 'Nice', 4749.0),\n",
       " ('Paris', 'Liege', 1350.0),\n",
       " ('Paris', 'Bratislava', 87.0),\n",
       " ('Paris', 'Leicester', 104.0),\n",
       " ('Paris', 'Karlsruhe', 173.0),\n",
       " ('Paris', 'Bergame', 74.0),\n",
       " ('Paris', 'Palma', 90.0),\n",
       " ('Paris', 'Bologne', 633.0),\n",
       " ('Paris', 'Bielefeld', 26.0),\n",
       " ('Paris', 'Rouen', 3678.0),\n",
       " ('Paris', 'Strasbourg', 4946.0),\n",
       " ('Paris', 'Tallinn', 49.0),\n",
       " ('Paris', 'Szczecin', 10.0),\n",
       " ('Paris', 'Grenoble', 2379.0),\n",
       " ('Paris', 'Bari', 59.0),\n",
       " ('Paris', 'Toulon', 1193.0),\n",
       " ('Paris', 'Brighton', 70.0),\n",
       " ('Paris', 'Darmstadt', 128.0),\n",
       " ('Paris', 'Wuppertal', 23.0),\n",
       " ('Paris', 'Utrecht', 187.0),\n",
       " ('Paris', 'Bournemouth', 15.0),\n",
       " ('Paris', 'Middlesbrough', 2.0),\n",
       " ('Paris', 'Geneve', 3638.0),\n",
       " ('Paris', 'Bydgoszcz', 11.0),\n",
       " ('Paris', 'Bale', 937.0),\n",
       " ('Paris', 'Kaunas', 26.0),\n",
       " ('Paris', 'Brno', 50.0),\n",
       " ('Paris', 'Southampton', 61.0),\n",
       " ('Paris', 'Lens', 591.0),\n",
       " ('Paris', 'Augsbourg', 131.0),\n",
       " ('Paris', 'Padoue', 245.0),\n",
       " ('Paris', 'Ostrava', 13.0),\n",
       " ('Paris', 'Las Palmas de Grande Canarie', 2.0),\n",
       " ('Paris', 'Constanta', 11.0),\n",
       " ('Paris', 'Castellammare di Stabia-Torre Annunziata', 5.0),\n",
       " ('Paris', 'Stoke', 14.0),\n",
       " ('Paris', 'Santa Cruz de Tenerife', 2.0),\n",
       " ('Paris', 'Lublin', 46.0),\n",
       " ('Paris', 'Cardiff', 52.0),\n",
       " ('Paris', 'Iasi', 56.0),\n",
       " ('Paris', 'Plovdiv', 21.0),\n",
       " ('Paris', 'Bradford', 32.0),\n",
       " ('Paris', 'Alicante', 58.0),\n",
       " ('Paris', 'Cluj-Napoca', 60.0),\n",
       " ('Paris', 'Grenade', 136.0),\n",
       " ('Paris', 'Timisoara', 25.0),\n",
       " ('Paris', 'Brescia', 79.0),\n",
       " ('Paris', 'Galati', 21.0),\n",
       " ('Paris', 'Montpellier', 3012.0),\n",
       " ('Paris', 'Varna', 65.0),\n",
       " ('Paris', 'Verone', 198.0),\n",
       " ('Paris', 'Busto Arsizio', 2.0),\n",
       " ('Paris', 'Valladolid', 56.0),\n",
       " ('Paris', 'Eindhoven', 55.0),\n",
       " ('Paris', 'Charleroi', 191.0),\n",
       " ('Paris', 'Cordoue', 44.0),\n",
       " ('Paris', 'La Corogne', 40.0),\n",
       " ('Paris', 'Craiova', 24.0),\n",
       " ('Paris', 'Caserte', 5.0),\n",
       " ('Paris', 'Coventry', 22.0),\n",
       " ('Paris', 'Brasov', 12.0),\n",
       " ('Paris', 'Bonn', 329.0),\n",
       " ('Paris', 'La Valette', 51.0),\n",
       " ('Paris', 'Gand', 753.0),\n",
       " ('Paris', 'Gdynia', 5.0),\n",
       " ('Londres', 'Madrid', 913.0),\n",
       " ('Londres', 'Berlin', 2484.0),\n",
       " ('Londres', 'Milan', 1022.0),\n",
       " ('Londres', 'Barcelone', 648.0),\n",
       " ('Londres', 'Athenes', 520.0),\n",
       " ('Londres', 'Rome', 1673.0),\n",
       " ('Londres', 'Birmingham', 712.0),\n",
       " ('Londres', 'Lisbonne', 428.0),\n",
       " ('Londres', 'Naples', 411.0),\n",
       " ('Londres', 'Katowice', 14.0),\n",
       " ('Londres', 'Manchester', 1064.0),\n",
       " ('Londres', 'Hambourg', 587.0),\n",
       " ('Londres', 'Budapest', 360.0),\n",
       " ('Londres', 'Bucarest', 150.0),\n",
       " ('Londres', 'Varsovie', 384.0),\n",
       " ('Londres', 'Stuttgart', 195.0),\n",
       " ('Londres', 'Vienne', 1671.0),\n",
       " ('Londres', 'Munich', 768.0),\n",
       " ('Londres', 'Bruxelles', 1802.0),\n",
       " ('Londres', 'Stockholm', 668.0),\n",
       " ('Londres', 'Francfort', 506.0),\n",
       " ('Londres', 'Cologne', 327.0),\n",
       " ('Londres', 'Copenhague', 367.0),\n",
       " ('Londres', 'Valence', 81.0),\n",
       " ('Londres', 'Turin', 285.0),\n",
       " ('Londres', 'Glasgow', 688.0),\n",
       " ('Londres', 'Prague', 435.0),\n",
       " ('Londres', 'Lyon', 684.0),\n",
       " ('Londres', 'Sofia', 119.0),\n",
       " ('Londres', 'Liverpool', 792.0),\n",
       " ('Londres', 'Porto', 145.0),\n",
       " ('Londres', 'Seville', 132.0),\n",
       " ('Londres', 'Dublin', 911.0),\n",
       " ('Londres', 'Helsinki', 325.0),\n",
       " ('Londres', 'Amsterdam', 1221.0),\n",
       " ('Londres', 'Rotterdam', 281.0),\n",
       " ('Londres', 'Dusseldorf', 202.0),\n",
       " ('Londres', 'Essen-Oberhausen', 45.0),\n",
       " ('Londres', 'Lille', 308.0),\n",
       " ('Londres', 'Lodz', 21.0),\n",
       " ('Londres', 'Marseille', 450.0),\n",
       " ('Londres', 'Anvers', 497.0),\n",
       " ('Londres', 'Bilbao', 64.0),\n",
       " ('Londres', 'Newcastle', 279.0),\n",
       " ('Londres', 'Cracovie', 72.0),\n",
       " ('Londres', 'Bochum-Herne', 45.0),\n",
       " ('Londres', 'Thessalonique', 53.0),\n",
       " ('Londres', 'Nuremberg', 120.0),\n",
       " ('Londres', 'Riga', 56.0),\n",
       " ('Londres', 'Duisbourg', 9.0),\n",
       " ('Londres', 'Dortmund', 39.0),\n",
       " ('Londres', 'Hanovre', 183.0),\n",
       " ('Londres', 'Zurich', 559.0),\n",
       " ('Londres', 'Oslo', 261.0),\n",
       " ('Londres', 'Breme', 75.0),\n",
       " ('Londres', 'Dresde', 256.0),\n",
       " ('Londres', 'Sheffield', 239.0),\n",
       " ('Londres', 'Palerme', 73.0),\n",
       " ('Londres', 'Poznan', 29.0),\n",
       " ('Londres', 'Gelsenkirchen-Bottrop', 8.0),\n",
       " ('Londres', 'Bordeaux', 373.0),\n",
       " ('Londres', 'Wroclaw', 23.0),\n",
       " ('Londres', 'Goteborg-Gothembourg', 63.0),\n",
       " ('Londres', 'Saragosse', 37.0),\n",
       " ('Londres', 'Genes', 179.0),\n",
       " ('Londres', 'Catane', 16.0),\n",
       " ('Londres', 'La Haye', 318.0),\n",
       " ('Londres', 'Toulouse', 271.0),\n",
       " ('Londres', 'Bristol', 577.0),\n",
       " ('Londres', 'Vilnius', 39.0),\n",
       " ('Londres', 'Sarrebruck', 18.0),\n",
       " ('Londres', 'Malaga', 35.0),\n",
       " ('Londres', 'Nantes', 230.0),\n",
       " ('Londres', 'Leeds', 381.0),\n",
       " ('Londres', 'Nottingham', 226.0),\n",
       " ('Londres', 'Florence', 650.0),\n",
       " ('Londres', 'Gdansk', 29.0),\n",
       " ('Londres', 'Leipzig', 273.0),\n",
       " ('Londres', 'Mannheim', 53.0),\n",
       " ('Londres', 'Belfast', 226.0),\n",
       " ('Londres', 'Portsmouth', 203.0),\n",
       " ('Londres', 'Venise', 667.0),\n",
       " ('Londres', 'Edimbourg ', 457.0),\n",
       " ('Londres', 'Murcie', 4.0),\n",
       " ('Londres', 'Nice', 279.0),\n",
       " ('Londres', 'Liege', 198.0),\n",
       " ('Londres', 'Bratislava', 34.0),\n",
       " ('Londres', 'Leicester', 314.0),\n",
       " ('Londres', 'Karlsruhe', 50.0),\n",
       " ('Londres', 'Bergame', 27.0),\n",
       " ('Londres', 'Palma', 30.0),\n",
       " ('Londres', 'Bologne', 175.0),\n",
       " ('Londres', 'Bielefeld', 8.0),\n",
       " ('Londres', 'Rouen', 189.0),\n",
       " ('Londres', 'Strasbourg', 254.0),\n",
       " ('Londres', 'Tallinn', 30.0),\n",
       " ('Londres', 'Szczecin', 4.0),\n",
       " ('Londres', 'Grenoble', 115.0),\n",
       " ('Londres', 'Bari', 21.0),\n",
       " ('Londres', 'Toulon', 94.0),\n",
       " ('Londres', 'Brighton', 337.0),\n",
       " ('Londres', 'Darmstadt', 54.0),\n",
       " ('Londres', 'Wuppertal', 11.0),\n",
       " ('Londres', 'Utrecht', 111.0),\n",
       " ('Londres', 'Bournemouth', 73.0),\n",
       " ('Londres', 'Middlesbrough', 23.0),\n",
       " ('Londres', 'Geneve', 786.0),\n",
       " ('Londres', 'Bydgoszcz', 7.0),\n",
       " ('Londres', 'Bale', 266.0),\n",
       " ('Londres', 'Kaunas', 10.0),\n",
       " ('Londres', 'Brno', 20.0),\n",
       " ('Londres', 'Southampton', 230.0),\n",
       " ('Londres', 'Lens', 18.0),\n",
       " ('Londres', 'Augsbourg', 48.0),\n",
       " ('Londres', 'Padoue', 65.0),\n",
       " ('Londres', 'Ostrava', 24.0),\n",
       " ('Londres', 'Las Palmas de Grande Canarie', 3.0),\n",
       " ('Londres', 'Constanta', 5.0),\n",
       " ('Londres', 'Castellammare di Stabia-Torre Annunziata', 2.0),\n",
       " ('Londres', 'Stoke', 128.0),\n",
       " ('Londres', 'Santa Cruz de Tenerife', 4.0),\n",
       " ('Londres', 'Lublin', 25.0),\n",
       " ('Londres', 'Cardiff', 245.0),\n",
       " ('Londres', 'Iasi', 7.0),\n",
       " ('Londres', 'Plovdiv', 7.0),\n",
       " ('Londres', 'Bradford', 103.0),\n",
       " ('Londres', 'Alicante', 29.0),\n",
       " ('Londres', 'Cluj-Napoca', 17.0),\n",
       " ('Londres', 'Grenade', 69.0),\n",
       " ('Londres', 'Timisoara', 7.0),\n",
       " ('Londres', 'Brescia', 31.0),\n",
       " ('Londres', 'Galati', 3.0),\n",
       " ('Londres', 'Montpellier', 189.0),\n",
       " ('Londres', 'Varna', 11.0),\n",
       " ('Londres', 'Verone', 63.0),\n",
       " ('Londres', 'Busto Arsizio', 0.0),\n",
       " ('Londres', 'Valladolid', 14.0),\n",
       " ('Londres', 'Eindhoven', 33.0),\n",
       " ('Londres', 'Charleroi', 45.0),\n",
       " ('Londres', 'Cordoue', 14.0),\n",
       " ('Londres', 'La Corogne', 8.0),\n",
       " ('Londres', 'Craiova', 1.0),\n",
       " ('Londres', 'Caserte', 2.0),\n",
       " ('Londres', 'Coventry', 159.0),\n",
       " ('Londres', 'Brasov', 2.0),\n",
       " ('Londres', 'Bonn', 115.0),\n",
       " ('Londres', 'La Valette', 20.0),\n",
       " ('Londres', 'Gand', 189.0),\n",
       " ('Londres', 'Gdynia', 4.0),\n",
       " ('Madrid', 'Berlin', 482.0),\n",
       " ('Madrid', 'Milan', 730.0),\n",
       " ('Madrid', 'Barcelone', 2760.0),\n",
       " ('Madrid', 'Athenes', 130.0),\n",
       " ('Madrid', 'Rome', 1051.0),\n",
       " ('Madrid', 'Birmingham', 28.0),\n",
       " ('Madrid', 'Lisbonne', 500.0),\n",
       " ('Madrid', 'Naples', 241.0),\n",
       " ('Madrid', 'Katowice', 9.0),\n",
       " ('Madrid', 'Manchester', 389.0),\n",
       " ('Madrid', 'Hambourg', 263.0),\n",
       " ('Madrid', 'Budapest', 110.0),\n",
       " ('Madrid', 'Bucarest', 96.0),\n",
       " ('Madrid', 'Varsovie', 114.0),\n",
       " ('Madrid', 'Stuttgart', 222.0),\n",
       " ('Madrid', 'Vienne', 371.0),\n",
       " ('Madrid', 'Munich', 473.0),\n",
       " ('Madrid', 'Bruxelles', 408.0),\n",
       " ('Madrid', 'Stockholm', 132.0),\n",
       " ('Madrid', 'Francfort', 137.0),\n",
       " ('Madrid', 'Cologne', 88.0),\n",
       " ('Madrid', 'Copenhague', 108.0),\n",
       " ('Madrid', 'Valence', 972.0),\n",
       " ('Madrid', 'Turin', 180.0),\n",
       " ('Madrid', 'Glasgow', 83.0),\n",
       " ('Madrid', 'Prague', 136.0),\n",
       " ('Madrid', 'Lyon', 242.0),\n",
       " ('Madrid', 'Sofia', 236.0),\n",
       " ('Madrid', 'Liverpool', 230.0),\n",
       " ('Madrid', 'Porto', 209.0),\n",
       " ('Madrid', 'Seville', 1024.0),\n",
       " ('Madrid', 'Dublin', 66.0),\n",
       " ('Madrid', 'Helsinki', 78.0),\n",
       " ('Madrid', 'Amsterdam', 288.0),\n",
       " ('Madrid', 'Rotterdam', 71.0),\n",
       " ('Madrid', 'Dusseldorf', 53.0),\n",
       " ('Madrid', 'Essen-Oberhausen', 39.0),\n",
       " ('Madrid', 'Lille', 102.0),\n",
       " ('Madrid', 'Lodz', 4.0),\n",
       " ('Madrid', 'Marseille', 254.0),\n",
       " ('Madrid', 'Anvers', 87.0),\n",
       " ('Madrid', 'Bilbao', 516.0),\n",
       " ('Madrid', 'Newcastle', 27.0),\n",
       " ('Madrid', 'Cracovie', 16.0),\n",
       " ('Madrid', 'Bochum-Herne', 10.0),\n",
       " ('Madrid', 'Thessalonique', 7.0),\n",
       " ('Madrid', 'Nuremberg', 30.0),\n",
       " ('Madrid', 'Riga', 20.0),\n",
       " ('Madrid', 'Duisbourg', 3.0),\n",
       " ('Madrid', 'Dortmund', 113.0),\n",
       " ('Madrid', 'Hanovre', 37.0),\n",
       " ('Madrid', 'Zurich', 129.0),\n",
       " ('Madrid', 'Oslo', 61.0),\n",
       " ('Madrid', 'Breme', 37.0),\n",
       " ('Madrid', 'Dresde', 66.0),\n",
       " ('Madrid', 'Sheffield', 4.0),\n",
       " ('Madrid', 'Palerme', 35.0),\n",
       " ('Madrid', 'Poznan', 10.0),\n",
       " ('Madrid', 'Gelsenkirchen-Bottrop', 3.0),\n",
       " ('Madrid', 'Bordeaux', 221.0),\n",
       " ('Madrid', 'Wroclaw', 5.0),\n",
       " ('Madrid', 'Goteborg-Gothembourg', 22.0),\n",
       " ('Madrid', 'Saragosse', 484.0),\n",
       " ('Madrid', 'Genes', 65.0),\n",
       " ('Madrid', 'Catane', 12.0),\n",
       " ('Madrid', 'La Haye', 63.0),\n",
       " ('Madrid', 'Toulouse', 158.0),\n",
       " ('Madrid', 'Bristol', 16.0),\n",
       " ('Madrid', 'Vilnius', 8.0),\n",
       " ('Madrid', 'Sarrebruck', 3.0),\n",
       " ('Madrid', 'Malaga', 319.0),\n",
       " ('Madrid', 'Nantes', 72.0),\n",
       " ('Madrid', 'Leeds', 29.0),\n",
       " ('Madrid', 'Nottingham', 10.0),\n",
       " ('Madrid', 'Florence', 146.0),\n",
       " ('Madrid', 'Gdansk', 5.0),\n",
       " ('Madrid', 'Leipzig', 61.0),\n",
       " ('Madrid', 'Mannheim', 11.0),\n",
       " ('Madrid', 'Belfast', 11.0),\n",
       " ('Madrid', 'Portsmouth', 5.0),\n",
       " ('Madrid', 'Venise', 211.0),\n",
       " ('Madrid', 'Edimbourg ', 6.0),\n",
       " ('Madrid', 'Murcie', 201.0),\n",
       " ('Madrid', 'Nice', 147.0),\n",
       " ('Madrid', 'Liege', 69.0),\n",
       " ('Madrid', 'Bratislava', 16.0),\n",
       " ('Madrid', 'Leicester', 21.0),\n",
       " ('Madrid', 'Karlsruhe', 15.0),\n",
       " ('Madrid', 'Bergame', 11.0),\n",
       " ('Madrid', 'Palma', 75.0),\n",
       " ('Madrid', 'Bologne', 95.0),\n",
       " ('Madrid', 'Bielefeld', 4.0),\n",
       " ('Madrid', 'Rouen', 28.0),\n",
       " ('Madrid', 'Strasbourg', 92.0),\n",
       " ('Madrid', 'Tallinn', 9.0),\n",
       " ('Madrid', 'Szczecin', 0.0),\n",
       " ('Madrid', 'Grenoble', 31.0),\n",
       " ('Madrid', 'Bari', 10.0),\n",
       " ('Madrid', 'Toulon', 17.0),\n",
       " ('Madrid', 'Brighton', 6.0),\n",
       " ('Madrid', 'Darmstadt', 20.0),\n",
       " ('Madrid', 'Wuppertal', 4.0),\n",
       " ('Madrid', 'Utrecht', 43.0),\n",
       " ('Madrid', 'Bournemouth', 5.0),\n",
       " ('Madrid', 'Middlesbrough', 12.0),\n",
       " ('Madrid', 'Geneve', 168.0),\n",
       " ('Madrid', 'Bydgoszcz', 2.0),\n",
       " ('Madrid', 'Bale', 108.0),\n",
       " ('Madrid', 'Kaunas', 16.0),\n",
       " ('Madrid', 'Brno', 12.0),\n",
       " ('Madrid', 'Southampton', 16.0),\n",
       " ('Madrid', 'Lens', 35.0),\n",
       " ('Madrid', 'Augsbourg', 10.0),\n",
       " ('Madrid', 'Padoue', 35.0),\n",
       " ('Madrid', 'Ostrava', 5.0),\n",
       " ('Madrid', 'Las Palmas de Grande Canarie', 8.0),\n",
       " ('Madrid', 'Constanta', 1.0),\n",
       " ('Madrid', 'Castellammare di Stabia-Torre Annunziata', 0.0),\n",
       " ('Madrid', 'Stoke', 11.0),\n",
       " ('Madrid', 'Santa Cruz de Tenerife', 20.0),\n",
       " ('Madrid', 'Lublin', 0.0),\n",
       " ('Madrid', 'Cardiff', 10.0),\n",
       " ('Madrid', 'Iasi', 4.0),\n",
       " ('Madrid', 'Plovdiv', 1.0),\n",
       " ('Madrid', 'Bradford', 2.0),\n",
       " ('Madrid', 'Alicante', 246.0),\n",
       " ('Madrid', 'Cluj-Napoca', 9.0),\n",
       " ('Madrid', 'Grenade', 317.0),\n",
       " ('Madrid', 'Timisoara', 6.0),\n",
       " ('Madrid', 'Brescia', 14.0),\n",
       " ('Madrid', 'Galati', 1.0),\n",
       " ('Madrid', 'Montpellier', 86.0),\n",
       " ('Madrid', 'Varna', 4.0),\n",
       " ('Madrid', 'Verone', 35.0),\n",
       " ('Madrid', 'Busto Arsizio', 1.0),\n",
       " ('Madrid', 'Valladolid', 384.0),\n",
       " ('Madrid', 'Eindhoven', 43.0),\n",
       " ('Madrid', 'Charleroi', 18.0),\n",
       " ('Madrid', 'Cordoue', 181.0),\n",
       " ('Madrid', 'La Corogne', 203.0),\n",
       " ('Madrid', 'Craiova', 2.0),\n",
       " ('Madrid', 'Caserte', 11.0),\n",
       " ('Madrid', 'Coventry', 4.0),\n",
       " ('Madrid', 'Brasov', 2.0),\n",
       " ('Madrid', 'Bonn', 31.0),\n",
       " ('Madrid', 'La Valette', 3.0),\n",
       " ('Madrid', 'Gand', 46.0),\n",
       " ('Madrid', 'Gdynia', 3.0),\n",
       " ('Berlin', 'Milan', 500.0),\n",
       " ('Berlin', 'Barcelone', 419.0),\n",
       " ('Berlin', 'Athenes', 251.0),\n",
       " ('Berlin', 'Rome', 1129.0),\n",
       " ('Berlin', 'Birmingham', 54.0),\n",
       " ('Berlin', 'Lisbonne', 175.0),\n",
       " ('Berlin', 'Naples', 163.0),\n",
       " ('Berlin', 'Katowice', 25.0),\n",
       " ('Berlin', 'Manchester', 83.0),\n",
       " ('Berlin', 'Hambourg', 1641.0),\n",
       " ('Berlin', 'Budapest', 469.0),\n",
       " ('Berlin', 'Bucarest', 163.0),\n",
       " ('Berlin', 'Varsovie', 617.0),\n",
       " ('Berlin', 'Stuttgart', 617.0),\n",
       " ('Berlin', 'Vienne', 2527.0),\n",
       " ('Berlin', 'Munich', 2298.0),\n",
       " ('Berlin', 'Bruxelles', 834.0),\n",
       " ('Berlin', 'Stockholm', 424.0),\n",
       " ('Berlin', 'Francfort', 1287.0),\n",
       " ('Berlin', 'Cologne', 889.0),\n",
       " ('Berlin', 'Copenhague', 349.0),\n",
       " ('Berlin', 'Valence', 61.0),\n",
       " ('Berlin', 'Turin', 219.0),\n",
       " ('Berlin', 'Glasgow', 81.0),\n",
       " ('Berlin', 'Prague', 751.0),\n",
       " ('Berlin', 'Lyon', 243.0),\n",
       " ('Berlin', 'Sofia', 127.0),\n",
       " ('Berlin', 'Liverpool', 52.0),\n",
       " ('Berlin', 'Porto', 62.0),\n",
       " ('Berlin', 'Seville', 74.0),\n",
       " ('Berlin', 'Dublin', 106.0),\n",
       " ('Berlin', 'Helsinki', 196.0),\n",
       " ('Berlin', 'Amsterdam', 712.0),\n",
       " ('Berlin', 'Rotterdam', 165.0),\n",
       " ('Berlin', 'Dusseldorf', 578.0),\n",
       " ('Berlin', 'Essen-Oberhausen', 173.0),\n",
       " ('Berlin', 'Lille', 87.0),\n",
       " ('Berlin', 'Lodz', 60.0),\n",
       " ('Berlin', 'Marseille', 195.0),\n",
       " ('Berlin', 'Anvers', 175.0),\n",
       " ('Berlin', 'Bilbao', 42.0),\n",
       " ('Berlin', 'Newcastle', 11.0),\n",
       " ('Berlin', 'Cracovie', 122.0),\n",
       " ('Berlin', 'Bochum-Herne', 89.0),\n",
       " ('Berlin', 'Thessalonique', 59.0),\n",
       " ('Berlin', 'Nuremberg', 342.0),\n",
       " ('Berlin', 'Riga', 132.0),\n",
       " ('Berlin', 'Duisbourg', 44.0),\n",
       " ('Berlin', 'Dortmund', 162.0),\n",
       " ('Berlin', 'Hanovre', 526.0),\n",
       " ('Berlin', 'Zurich', 694.0),\n",
       " ('Berlin', 'Oslo', 187.0),\n",
       " ('Berlin', 'Breme', 296.0),\n",
       " ('Berlin', 'Dresde', 1064.0),\n",
       " ('Berlin', 'Sheffield', 16.0),\n",
       " ('Berlin', 'Palerme', 57.0),\n",
       " ('Berlin', 'Poznan', 100.0),\n",
       " ('Berlin', 'Gelsenkirchen-Bottrop', 26.0),\n",
       " ('Berlin', 'Bordeaux', 145.0),\n",
       " ('Berlin', 'Wroclaw', 120.0),\n",
       " ('Berlin', 'Goteborg-Gothembourg', 64.0),\n",
       " ('Berlin', 'Saragosse', 13.0),\n",
       " ('Berlin', 'Genes', 63.0),\n",
       " ('Berlin', 'Catane', 10.0),\n",
       " ('Berlin', 'La Haye', 192.0),\n",
       " ('Berlin', 'Toulouse', 113.0),\n",
       " ('Berlin', 'Bristol', 35.0),\n",
       " ('Berlin', 'Vilnius', 60.0),\n",
       " ('Berlin', 'Sarrebruck', 78.0),\n",
       " ('Berlin', 'Malaga', 24.0),\n",
       " ('Berlin', 'Nantes', 143.0),\n",
       " ('Berlin', 'Leeds', 26.0),\n",
       " ('Berlin', 'Nottingham', 13.0),\n",
       " ('Berlin', 'Florence', 235.0),\n",
       " ('Berlin', 'Gdansk', 61.0),\n",
       " ('Berlin', 'Leipzig', 1392.0),\n",
       " ('Berlin', 'Mannheim', 206.0),\n",
       " ('Berlin', 'Belfast', 17.0),\n",
       " ('Berlin', 'Portsmouth', 8.0),\n",
       " ('Berlin', 'Venise', 420.0),\n",
       " ('Berlin', 'Edimbourg ', 26.0),\n",
       " ('Berlin', 'Murcie', 3.0),\n",
       " ('Berlin', 'Nice', 149.0),\n",
       " ('Berlin', 'Liege', 111.0),\n",
       " ('Berlin', 'Bratislava', 50.0),\n",
       " ('Berlin', 'Leicester', 9.0),\n",
       " ('Berlin', 'Karlsruhe', 257.0),\n",
       " ('Berlin', 'Bergame', 11.0),\n",
       " ('Berlin', 'Palma', 20.0),\n",
       " ('Berlin', 'Bologne', 111.0),\n",
       " ('Berlin', 'Bielefeld', 68.0),\n",
       " ('Berlin', 'Rouen', 45.0),\n",
       " ('Berlin', 'Strasbourg', 480.0),\n",
       " ('Berlin', 'Tallinn', 41.0),\n",
       " ('Berlin', 'Szczecin', 74.0),\n",
       " ('Berlin', 'Grenoble', 56.0),\n",
       " ('Berlin', 'Bari', 14.0),\n",
       " ('Berlin', 'Toulon', 20.0),\n",
       " ('Berlin', 'Brighton', 21.0),\n",
       " ('Berlin', 'Darmstadt', 214.0),\n",
       " ('Berlin', 'Wuppertal', 63.0),\n",
       " ('Berlin', 'Utrecht', 67.0),\n",
       " ('Berlin', 'Bournemouth', 3.0),\n",
       " ('Berlin', 'Middlesbrough', 1.0),\n",
       " ('Berlin', 'Geneve', 444.0),\n",
       " ('Berlin', 'Bydgoszcz', 30.0),\n",
       " ('Berlin', 'Bale', 295.0),\n",
       " ('Berlin', 'Kaunas', 38.0),\n",
       " ('Berlin', 'Brno', 49.0),\n",
       " ('Berlin', 'Southampton', 15.0),\n",
       " ('Berlin', 'Lens', 6.0),\n",
       " ('Berlin', 'Augsbourg', 103.0),\n",
       " ('Berlin', 'Padoue', 33.0),\n",
       " ('Berlin', 'Ostrava', 27.0),\n",
       " ('Berlin', 'Las Palmas de Grande Canarie', 2.0),\n",
       " ('Berlin', 'Constanta', 5.0),\n",
       " ('Berlin', 'Castellammare di Stabia-Torre Annunziata', 1.0),\n",
       " ('Berlin', 'Stoke', 2.0),\n",
       " ('Berlin', 'Santa Cruz de Tenerife', 6.0),\n",
       " ('Berlin', 'Lublin', 31.0),\n",
       " ('Berlin', 'Cardiff', 15.0),\n",
       " ('Berlin', 'Iasi', 18.0),\n",
       " ('Berlin', 'Plovdiv', 7.0),\n",
       " ('Berlin', 'Bradford', 5.0),\n",
       " ('Berlin', 'Alicante', 12.0),\n",
       " ('Berlin', 'Cluj-Napoca', 12.0),\n",
       " ('Berlin', 'Grenade', 18.0),\n",
       " ('Berlin', 'Timisoara', 5.0),\n",
       " ('Berlin', 'Brescia', 12.0),\n",
       " ('Berlin', 'Galati', 5.0),\n",
       " ('Berlin', 'Montpellier', 98.0),\n",
       " ('Berlin', 'Varna', 13.0),\n",
       " ('Berlin', 'Verone', 50.0),\n",
       " ('Berlin', 'Busto Arsizio', 0.0),\n",
       " ('Berlin', 'Valladolid', 11.0),\n",
       " ('Berlin', 'Eindhoven', 24.0),\n",
       " ('Berlin', 'Charleroi', 13.0),\n",
       " ('Berlin', 'Cordoue', 5.0),\n",
       " ('Berlin', 'La Corogne', 9.0),\n",
       " ('Berlin', 'Craiova', 7.0),\n",
       " ('Berlin', 'Caserte', 3.0),\n",
       " ('Berlin', 'Coventry', 15.0),\n",
       " ('Berlin', 'Brasov', 6.0),\n",
       " ('Berlin', 'Bonn', 670.0),\n",
       " ('Berlin', 'La Valette', 0.0),\n",
       " ('Berlin', 'Gand', 71.0),\n",
       " ('Berlin', 'Gdynia', 10.0),\n",
       " ('Milan', 'Barcelone', 591.0),\n",
       " ('Milan', 'Athenes', 138.0),\n",
       " ('Milan', 'Rome', 2574.0),\n",
       " ('Milan', 'Birmingham', 14.0),\n",
       " ('Milan', 'Lisbonne', 176.0),\n",
       " ('Milan', 'Naples', 1140.0),\n",
       " ('Milan', 'Katowice', 3.0),\n",
       " ('Milan', 'Manchester', 285.0),\n",
       " ('Milan', 'Hambourg', 162.0),\n",
       " ('Milan', 'Budapest', 111.0),\n",
       " ('Milan', 'Bucarest', 82.0),\n",
       " ('Milan', 'Varsovie', 84.0),\n",
       " ('Milan', 'Stuttgart', 83.0),\n",
       " ('Milan', 'Vienne', 726.0),\n",
       " ('Milan', 'Munich', 501.0),\n",
       " ('Milan', 'Bruxelles', 467.0),\n",
       " ('Milan', 'Stockholm', 117.0),\n",
       " ('Milan', 'Francfort', 161.0),\n",
       " ('Milan', 'Cologne', 146.0),\n",
       " ('Milan', 'Copenhague', 96.0),\n",
       " ('Milan', 'Valence', 164.0),\n",
       " ('Milan', 'Turin', 1476.0),\n",
       " ('Milan', 'Glasgow', 84.0),\n",
       " ('Milan', 'Prague', 238.0),\n",
       " ('Milan', 'Lyon', 370.0),\n",
       " ('Milan', 'Sofia', 43.0),\n",
       " ('Milan', 'Liverpool', 234.0),\n",
       " ('Milan', 'Porto', 138.0),\n",
       " ('Milan', 'Seville', 134.0),\n",
       " ('Milan', 'Dublin', 54.0),\n",
       " ('Milan', 'Helsinki', 44.0),\n",
       " ('Milan', 'Amsterdam', 339.0),\n",
       " ('Milan', 'Rotterdam', 66.0),\n",
       " ('Milan', 'Dusseldorf', 70.0),\n",
       " ('Milan', 'Essen-Oberhausen', 19.0),\n",
       " ('Milan', 'Lille', 84.0),\n",
       " ('Milan', 'Lodz', 4.0),\n",
       " ('Milan', 'Marseille', 312.0),\n",
       " ('Milan', 'Anvers', 93.0),\n",
       " ('Milan', 'Bilbao', 34.0),\n",
       " ('Milan', 'Newcastle', 32.0),\n",
       " ('Milan', 'Cracovie', 20.0),\n",
       " ('Milan', 'Bochum-Herne', 10.0),\n",
       " ('Milan', 'Thessalonique', 41.0),\n",
       " ('Milan', 'Nuremberg', 29.0),\n",
       " ('Milan', 'Riga', 17.0),\n",
       " ('Milan', 'Duisbourg', 3.0),\n",
       " ('Milan', 'Dortmund', 80.0),\n",
       " ('Milan', 'Hanovre', 30.0),\n",
       " ('Milan', 'Zurich', 296.0),\n",
       " ('Milan', 'Oslo', 48.0),\n",
       " ('Milan', 'Breme', 51.0),\n",
       " ('Milan', 'Dresde', 70.0),\n",
       " ('Milan', 'Sheffield', 9.0),\n",
       " ('Milan', 'Palerme', 268.0),\n",
       " ('Milan', 'Poznan', 14.0),\n",
       " ('Milan', 'Gelsenkirchen-Bottrop', 11.0),\n",
       " ('Milan', 'Bordeaux', 183.0),\n",
       " ('Milan', 'Wroclaw', 9.0),\n",
       " ('Milan', 'Goteborg-Gothembourg', 19.0),\n",
       " ('Milan', 'Saragosse', 17.0),\n",
       " ('Milan', 'Genes', 778.0),\n",
       " ('Milan', 'Catane', 92.0),\n",
       " ('Milan', 'La Haye', 45.0),\n",
       " ('Milan', 'Toulouse', 103.0),\n",
       " ('Milan', 'Bristol', 10.0),\n",
       " ('Milan', 'Vilnius', 9.0),\n",
       " ('Milan', 'Sarrebruck', 8.0),\n",
       " ('Milan', 'Malaga', 22.0),\n",
       " ('Milan', 'Nantes', 96.0),\n",
       " ('Milan', 'Leeds', 37.0),\n",
       " ('Milan', 'Nottingham', 8.0),\n",
       " ('Milan', 'Florence', 1041.0),\n",
       " ('Milan', 'Gdansk', 8.0),\n",
       " ('Milan', 'Leipzig', 76.0),\n",
       " ('Milan', 'Mannheim', 29.0),\n",
       " ('Milan', 'Belfast', 4.0),\n",
       " ('Milan', 'Portsmouth', 12.0),\n",
       " ('Milan', 'Venise', 1404.0),\n",
       " ('Milan', 'Edimbourg ', 10.0),\n",
       " ('Milan', 'Murcie', 14.0),\n",
       " ('Milan', 'Nice', 360.0),\n",
       " ('Milan', 'Liege', 266.0),\n",
       " ('Milan', 'Bratislava', 31.0),\n",
       " ('Milan', 'Leicester', 14.0),\n",
       " ('Milan', 'Karlsruhe', 18.0),\n",
       " ('Milan', 'Bergame', 379.0),\n",
       " ('Milan', 'Palma', 16.0),\n",
       " ('Milan', 'Bologne', 818.0),\n",
       " ('Milan', 'Bielefeld', 3.0),\n",
       " ('Milan', 'Rouen', 33.0),\n",
       " ('Milan', 'Strasbourg', 125.0),\n",
       " ('Milan', 'Tallinn', 7.0),\n",
       " ('Milan', 'Szczecin', 0.0),\n",
       " ('Milan', 'Grenoble', 86.0),\n",
       " ('Milan', 'Bari', 124.0),\n",
       " ('Milan', 'Toulon', 24.0),\n",
       " ('Milan', 'Brighton', 11.0),\n",
       " ('Milan', 'Darmstadt', 26.0),\n",
       " ('Milan', 'Wuppertal', 7.0),\n",
       " ('Milan', 'Utrecht', 27.0),\n",
       " ('Milan', 'Bournemouth', 2.0),\n",
       " ('Milan', 'Middlesbrough', 10.0),\n",
       " ('Milan', 'Geneve', 293.0),\n",
       " ('Milan', 'Bydgoszcz', 1.0),\n",
       " ('Milan', 'Bale', 139.0),\n",
       " ('Milan', 'Kaunas', 5.0),\n",
       " ('Milan', 'Brno', 26.0),\n",
       " ('Milan', 'Southampton', 9.0),\n",
       " ('Milan', 'Lens', 34.0),\n",
       " ('Milan', 'Augsbourg', 21.0),\n",
       " ('Milan', 'Padoue', 314.0),\n",
       " ('Milan', 'Ostrava', 4.0),\n",
       " ('Milan', 'Las Palmas de Grande Canarie', 1.0),\n",
       " ('Milan', 'Constanta', 3.0),\n",
       " ('Milan', 'Castellammare di Stabia-Torre Annunziata', 4.0),\n",
       " ('Milan', 'Stoke', 3.0),\n",
       " ('Milan', 'Santa Cruz de Tenerife', 0.0),\n",
       " ('Milan', 'Lublin', 1.0),\n",
       " ('Milan', 'Cardiff', 13.0),\n",
       " ('Milan', 'Iasi', 5.0),\n",
       " ('Milan', 'Plovdiv', 8.0),\n",
       " ('Milan', 'Bradford', 2.0),\n",
       " ('Milan', 'Alicante', 14.0),\n",
       " ('Milan', 'Cluj-Napoca', 15.0),\n",
       " ('Milan', 'Grenade', 24.0),\n",
       " ('Milan', 'Timisoara', 6.0),\n",
       " ('Milan', 'Brescia', 328.0),\n",
       " ('Milan', 'Galati', 2.0),\n",
       " ('Milan', 'Montpellier', 73.0),\n",
       " ('Milan', 'Varna', 3.0),\n",
       " ('Milan', 'Verone', 461.0),\n",
       " ('Milan', 'Busto Arsizio', 27.0),\n",
       " ('Milan', 'Valladolid', 18.0),\n",
       " ('Milan', 'Eindhoven', 63.0),\n",
       " ('Milan', 'Charleroi', 14.0),\n",
       " ('Milan', 'Cordoue', 18.0),\n",
       " ('Milan', 'La Corogne', 22.0),\n",
       " ('Milan', 'Craiova', 10.0),\n",
       " ('Milan', 'Caserte', 18.0),\n",
       " ('Milan', 'Coventry', 4.0),\n",
       " ('Milan', 'Brasov', 2.0),\n",
       " ('Milan', 'Bonn', 23.0),\n",
       " ('Milan', 'La Valette', 5.0),\n",
       " ('Milan', 'Gand', 180.0),\n",
       " ('Milan', 'Gdynia', 1.0),\n",
       " ('Barcelone', 'Athenes', 208.0),\n",
       " ('Barcelone', 'Rome', 551.0),\n",
       " ('Barcelone', 'Birmingham', 38.0),\n",
       " ('Barcelone', 'Lisbonne', 239.0),\n",
       " ('Barcelone', 'Naples', 229.0),\n",
       " ('Barcelone', 'Katowice', 2.0),\n",
       " ('Barcelone', 'Manchester', 362.0),\n",
       " ('Barcelone', 'Hambourg', 143.0),\n",
       " ('Barcelone', 'Budapest', 115.0),\n",
       " ('Barcelone', 'Bucarest', 67.0),\n",
       " ('Barcelone', 'Varsovie', 78.0),\n",
       " ('Barcelone', 'Stuttgart', 104.0),\n",
       " ('Barcelone', 'Vienne', 304.0),\n",
       " ('Barcelone', 'Munich', 358.0),\n",
       " ('Barcelone', 'Bruxelles', 321.0),\n",
       " ('Barcelone', 'Stockholm', 95.0),\n",
       " ('Barcelone', 'Francfort', 97.0),\n",
       " ('Barcelone', 'Cologne', 98.0),\n",
       " ('Barcelone', 'Copenhague', 79.0),\n",
       " ('Barcelone', 'Valence', 976.0),\n",
       " ('Barcelone', 'Turin', 153.0),\n",
       " ('Barcelone', 'Glasgow', 64.0),\n",
       " ('Barcelone', 'Prague', 104.0),\n",
       " ('Barcelone', 'Lyon', 277.0),\n",
       " ('Barcelone', 'Sofia', 47.0),\n",
       " ('Barcelone', 'Liverpool', 180.0),\n",
       " ('Barcelone', 'Porto', 176.0),\n",
       " ('Barcelone', 'Seville', 620.0),\n",
       " ('Barcelone', 'Dublin', 53.0),\n",
       " ('Barcelone', 'Helsinki', 70.0),\n",
       " ('Barcelone', 'Amsterdam', 316.0),\n",
       " ('Barcelone', 'Rotterdam', 71.0),\n",
       " ('Barcelone', 'Dusseldorf', 43.0),\n",
       " ('Barcelone', 'Essen-Oberhausen', 14.0),\n",
       " ('Barcelone', 'Lille', 80.0),\n",
       " ('Barcelone', 'Lodz', 3.0),\n",
       " ('Barcelone', 'Marseille', 348.0),\n",
       " ('Barcelone', 'Anvers', 63.0),\n",
       " ('Barcelone', 'Bilbao', 413.0),\n",
       " ('Barcelone', 'Newcastle', 30.0),\n",
       " ('Barcelone', 'Cracovie', 13.0),\n",
       " ('Barcelone', 'Bochum-Herne', 3.0),\n",
       " ('Barcelone', 'Thessalonique', 10.0),\n",
       " ('Barcelone', 'Nuremberg', 10.0),\n",
       " ('Barcelone', 'Riga', 21.0),\n",
       " ('Barcelone', 'Duisbourg', 9.0),\n",
       " ('Barcelone', 'Dortmund', 65.0),\n",
       " ('Barcelone', 'Hanovre', 19.0),\n",
       " ('Barcelone', 'Zurich', 131.0),\n",
       " ('Barcelone', 'Oslo', 36.0),\n",
       " ('Barcelone', 'Breme', 34.0),\n",
       " ('Barcelone', 'Dresde', 30.0),\n",
       " ('Barcelone', 'Sheffield', 19.0),\n",
       " ('Barcelone', 'Palerme', 74.0),\n",
       " ('Barcelone', 'Poznan', 10.0),\n",
       " ('Barcelone', 'Gelsenkirchen-Bottrop', 3.0),\n",
       " ('Barcelone', 'Bordeaux', 168.0),\n",
       " ('Barcelone', 'Wroclaw', 7.0),\n",
       " ('Barcelone', 'Goteborg-Gothembourg', 62.0),\n",
       " ('Barcelone', 'Saragosse', 445.0),\n",
       " ('Barcelone', 'Genes', 179.0),\n",
       " ('Barcelone', 'Catane', 20.0),\n",
       " ('Barcelone', 'La Haye', 23.0),\n",
       " ('Barcelone', 'Toulouse', 468.0),\n",
       " ('Barcelone', 'Bristol', 11.0),\n",
       " ('Barcelone', 'Vilnius', 11.0),\n",
       " ('Barcelone', 'Sarrebruck', 7.0),\n",
       " ('Barcelone', 'Malaga', 236.0),\n",
       " ('Barcelone', 'Nantes', 97.0),\n",
       " ('Barcelone', 'Leeds', 23.0),\n",
       " ('Barcelone', 'Nottingham', 13.0),\n",
       " ('Barcelone', 'Florence', 99.0),\n",
       " ('Barcelone', 'Gdansk', 6.0),\n",
       " ('Barcelone', 'Leipzig', 37.0),\n",
       " ('Barcelone', 'Mannheim', 15.0),\n",
       " ('Barcelone', 'Belfast', 3.0),\n",
       " ('Barcelone', 'Portsmouth', 8.0),\n",
       " ('Barcelone', 'Venise', 168.0),\n",
       " ('Barcelone', 'Edimbourg ', 11.0),\n",
       " ('Barcelone', 'Murcie', 99.0),\n",
       " ('Barcelone', 'Nice', 140.0),\n",
       " ('Barcelone', 'Liege', 70.0),\n",
       " ('Barcelone', 'Bratislava', 22.0),\n",
       " ('Barcelone', 'Leicester', 16.0),\n",
       " ('Barcelone', 'Karlsruhe', 9.0),\n",
       " ('Barcelone', 'Bergame', 13.0),\n",
       " ('Barcelone', 'Palma', 141.0),\n",
       " ('Barcelone', 'Bologne', 78.0),\n",
       " ('Barcelone', 'Bielefeld', 3.0),\n",
       " ('Barcelone', 'Rouen', 23.0),\n",
       " ('Barcelone', 'Strasbourg', 85.0),\n",
       " ('Barcelone', 'Tallinn', 12.0),\n",
       " ('Barcelone', 'Szczecin', 3.0),\n",
       " ('Barcelone', 'Grenoble', 61.0),\n",
       " ('Barcelone', 'Bari', 15.0),\n",
       " ('Barcelone', 'Toulon', 82.0),\n",
       " ('Barcelone', 'Brighton', 6.0),\n",
       " ('Barcelone', 'Darmstadt', 14.0),\n",
       " ('Barcelone', 'Wuppertal', 1.0),\n",
       " ('Barcelone', 'Utrecht', 18.0),\n",
       " ('Barcelone', 'Bournemouth', 2.0),\n",
       " ('Barcelone', 'Middlesbrough', 10.0),\n",
       " ('Barcelone', 'Geneve', 182.0),\n",
       " ('Barcelone', 'Bydgoszcz', 10.0),\n",
       " ('Barcelone', 'Bale', 84.0),\n",
       " ('Barcelone', 'Kaunas', 10.0),\n",
       " ('Barcelone', 'Brno', 16.0),\n",
       " ('Barcelone', 'Southampton', 13.0),\n",
       " ('Barcelone', 'Lens', 18.0),\n",
       " ('Barcelone', 'Augsbourg', 13.0),\n",
       " ('Barcelone', 'Padoue', 13.0),\n",
       " ('Barcelone', 'Ostrava', 8.0),\n",
       " ('Barcelone', 'Las Palmas de Grande Canarie', 5.0),\n",
       " ('Barcelone', 'Constanta', 1.0),\n",
       " ('Barcelone', 'Castellammare di Stabia-Torre Annunziata', 0.0),\n",
       " ('Barcelone', 'Stoke', 7.0),\n",
       " ('Barcelone', 'Santa Cruz de Tenerife', 16.0),\n",
       " ('Barcelone', 'Lublin', 0.0),\n",
       " ('Barcelone', 'Cardiff', 6.0),\n",
       " ('Barcelone', 'Iasi', 2.0),\n",
       " ('Barcelone', 'Plovdiv', 2.0),\n",
       " ('Barcelone', 'Bradford', 4.0),\n",
       " ('Barcelone', 'Alicante', 154.0),\n",
       " ('Barcelone', 'Cluj-Napoca', 2.0),\n",
       " ('Barcelone', 'Grenade', 174.0),\n",
       " ('Barcelone', 'Timisoara', 3.0),\n",
       " ('Barcelone', 'Brescia', 16.0),\n",
       " ('Barcelone', 'Galati', 1.0),\n",
       " ('Barcelone', 'Montpellier', 236.0),\n",
       " ('Barcelone', 'Varna', 2.0),\n",
       " ('Barcelone', 'Verone', 38.0),\n",
       " ('Barcelone', 'Busto Arsizio', 1.0),\n",
       " ('Barcelone', 'Valladolid', 158.0),\n",
       " ('Barcelone', 'Eindhoven', 54.0),\n",
       " ('Barcelone', 'Charleroi', 14.0),\n",
       " ('Barcelone', 'Cordoue', 122.0),\n",
       " ('Barcelone', 'La Corogne', 129.0),\n",
       " ('Barcelone', 'Craiova', 3.0),\n",
       " ('Barcelone', 'Caserte', 2.0),\n",
       " ('Barcelone', 'Coventry', 3.0),\n",
       " ('Barcelone', 'Brasov', 1.0),\n",
       " ('Barcelone', 'Bonn', 25.0),\n",
       " ('Barcelone', 'La Valette', 6.0),\n",
       " ('Barcelone', 'Gand', 34.0),\n",
       " ('Barcelone', 'Gdynia', 4.0),\n",
       " ('Athenes', 'Rome', 690.0),\n",
       " ('Athenes', 'Birmingham', 21.0),\n",
       " ('Athenes', 'Lisbonne', 76.0),\n",
       " ('Athenes', 'Naples', 104.0),\n",
       " ('Athenes', 'Katowice', 3.0),\n",
       " ('Athenes', 'Manchester', 39.0),\n",
       " ('Athenes', 'Hambourg', 44.0),\n",
       " ('Athenes', 'Budapest', 106.0),\n",
       " ('Athenes', 'Bucarest', 79.0),\n",
       " ('Athenes', 'Varsovie', 61.0),\n",
       " ('Athenes', 'Stuttgart', 48.0),\n",
       " ('Athenes', 'Vienne', 153.0),\n",
       " ('Athenes', 'Munich', 177.0),\n",
       " ('Athenes', 'Bruxelles', 138.0),\n",
       " ('Athenes', 'Stockholm', 77.0),\n",
       " ('Athenes', 'Francfort', 36.0),\n",
       " ('Athenes', 'Cologne', 35.0),\n",
       " ('Athenes', 'Copenhague', 69.0),\n",
       " ('Athenes', 'Valence', 26.0),\n",
       " ('Athenes', 'Turin', 69.0),\n",
       " ('Athenes', 'Glasgow', 13.0),\n",
       " ('Athenes', 'Prague', 61.0),\n",
       " ('Athenes', 'Lyon', 93.0),\n",
       " ('Athenes', 'Sofia', 89.0),\n",
       " ('Athenes', 'Liverpool', 24.0),\n",
       " ('Athenes', 'Porto', 44.0),\n",
       " ('Athenes', 'Seville', 47.0),\n",
       " ('Athenes', 'Dublin', 24.0),\n",
       " ('Athenes', 'Helsinki', 128.0),\n",
       " ('Athenes', 'Amsterdam', 74.0),\n",
       " ('Athenes', 'Rotterdam', 14.0),\n",
       " ('Athenes', 'Dusseldorf', 11.0),\n",
       " ('Athenes', 'Essen-Oberhausen', 3.0),\n",
       " ('Athenes', 'Lille', 42.0),\n",
       " ('Athenes', 'Lodz', 2.0),\n",
       " ('Athenes', 'Marseille', 109.0),\n",
       " ('Athenes', 'Anvers', 21.0),\n",
       " ('Athenes', 'Bilbao', 9.0),\n",
       " ('Athenes', 'Newcastle', 9.0),\n",
       " ('Athenes', 'Cracovie', 10.0),\n",
       " ('Athenes', 'Bochum-Herne', 3.0),\n",
       " ('Athenes', 'Thessalonique', 408.0),\n",
       " ('Athenes', 'Nuremberg', 6.0),\n",
       " ('Athenes', 'Riga', 13.0),\n",
       " ('Athenes', 'Duisbourg', 1.0),\n",
       " ('Athenes', 'Dortmund', 8.0),\n",
       " ('Athenes', 'Hanovre', 22.0),\n",
       " ('Athenes', 'Zurich', 68.0),\n",
       " ('Athenes', 'Oslo', 30.0),\n",
       " ('Athenes', 'Breme', 11.0),\n",
       " ('Athenes', 'Dresde', 30.0),\n",
       " ('Athenes', 'Sheffield', 4.0),\n",
       " ('Athenes', 'Palerme', 32.0),\n",
       " ('Athenes', 'Poznan', 8.0),\n",
       " ('Athenes', 'Gelsenkirchen-Bottrop', 2.0),\n",
       " ('Athenes', 'Bordeaux', 47.0),\n",
       " ('Athenes', 'Wroclaw', 7.0),\n",
       " ('Athenes', 'Goteborg-Gothembourg', 46.0),\n",
       " ('Athenes', 'Saragosse', 0.0),\n",
       " ('Athenes', 'Genes', 26.0),\n",
       " ('Athenes', 'Catane', 19.0),\n",
       " ('Athenes', 'La Haye', 21.0),\n",
       " ('Athenes', 'Toulouse', 30.0),\n",
       " ('Athenes', 'Bristol', 11.0),\n",
       " ('Athenes', 'Vilnius', 15.0),\n",
       " ('Athenes', 'Sarrebruck', 1.0),\n",
       " ('Athenes', 'Malaga', 8.0),\n",
       " ('Athenes', 'Nantes', 18.0),\n",
       " ('Athenes', 'Leeds', 10.0),\n",
       " ('Athenes', 'Nottingham', 3.0),\n",
       " ('Athenes', 'Florence', 104.0),\n",
       " ('Athenes', 'Gdansk', 8.0),\n",
       " ('Athenes', 'Leipzig', 26.0),\n",
       " ('Athenes', 'Mannheim', 5.0),\n",
       " ('Athenes', 'Belfast', 4.0),\n",
       " ('Athenes', 'Portsmouth', 8.0),\n",
       " ('Athenes', 'Venise', 138.0),\n",
       " ('Athenes', 'Edimbourg ', 13.0),\n",
       " ('Athenes', 'Murcie', 2.0),\n",
       " ('Athenes', 'Nice', 37.0),\n",
       " ('Athenes', 'Liege', 42.0),\n",
       " ('Athenes', 'Bratislava', 12.0),\n",
       " ('Athenes', 'Leicester', 9.0),\n",
       " ('Athenes', 'Karlsruhe', 6.0),\n",
       " ('Athenes', 'Bergame', 1.0),\n",
       " ('Athenes', 'Palma', 8.0),\n",
       " ('Athenes', 'Bologne', 34.0),\n",
       " ('Athenes', 'Bielefeld', 2.0),\n",
       " ('Athenes', 'Rouen', 13.0),\n",
       " ('Athenes', 'Strasbourg', 47.0),\n",
       " ('Athenes', 'Tallinn', 11.0),\n",
       " ('Athenes', 'Szczecin', 2.0),\n",
       " ('Athenes', 'Grenoble', 26.0),\n",
       " ('Athenes', 'Bari', 13.0),\n",
       " ('Athenes', 'Toulon', 20.0),\n",
       " ('Athenes', 'Brighton', 1.0),\n",
       " ('Athenes', 'Darmstadt', 9.0),\n",
       " ('Athenes', 'Wuppertal', 1.0),\n",
       " ('Athenes', 'Utrecht', 11.0),\n",
       " ('Athenes', 'Bournemouth', 0.0),\n",
       " ('Athenes', 'Middlesbrough', 0.0),\n",
       " ('Athenes', 'Geneve', 65.0),\n",
       " ('Athenes', 'Bydgoszcz', 6.0),\n",
       " ('Athenes', 'Bale', 29.0),\n",
       " ('Athenes', 'Kaunas', 5.0),\n",
       " ('Athenes', 'Brno', 4.0),\n",
       " ('Athenes', 'Southampton', 2.0),\n",
       " ('Athenes', 'Lens', 10.0),\n",
       " ('Athenes', 'Augsbourg', 3.0),\n",
       " ('Athenes', 'Padoue', 14.0),\n",
       " ('Athenes', 'Ostrava', 6.0),\n",
       " ('Athenes', 'Las Palmas de Grande Canarie', 0.0),\n",
       " ('Athenes', 'Constanta', 6.0),\n",
       " ('Athenes', 'Castellammare di Stabia-Torre Annunziata', 0.0),\n",
       " ('Athenes', 'Stoke', 1.0),\n",
       " ...]"
      ]
     },
     "execution_count": 6,
     "metadata": {},
     "output_type": "execute_result"
    }
   ],
   "source": [
    "citylink"
   ]
  },
  {
   "cell_type": "code",
   "execution_count": null,
   "id": "f7f2ad6c",
   "metadata": {},
   "outputs": [],
   "source": []
  }
 ],
 "metadata": {
  "kernelspec": {
   "display_name": "Python 3 (ipykernel)",
   "language": "python",
   "name": "python3"
  },
  "language_info": {
   "codemirror_mode": {
    "name": "ipython",
    "version": 3
   },
   "file_extension": ".py",
   "mimetype": "text/x-python",
   "name": "python",
   "nbconvert_exporter": "python",
   "pygments_lexer": "ipython3",
   "version": "3.10.4"
  }
 },
 "nbformat": 4,
 "nbformat_minor": 5
}
