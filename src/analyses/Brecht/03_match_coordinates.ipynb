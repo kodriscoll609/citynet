{
 "cells": [
  {
   "cell_type": "markdown",
   "id": "ebfbafb7",
   "metadata": {},
   "source": [
    "# Creation of dataframe for gravity model\n",
    "\n",
    "- join on cityname\n",
    "- create city dataframe (nodes)\n",
    "- create separate city-pairs dataframes (basically edges)\n",
    "- calculate distances\n",
    "\n",
    "Add summary of what this script does\n",
    "\n",
    "## Required Input\n",
    "This notebook requires input not available in this repository, namely `euro-global-map-shp/data/FullEurope/BuiltupP.shp`. This dataset can be obtained from [https://www.mapsforeurope.org/datasets/euro-global-map](https://www.mapsforeurope.org/datasets/euro-global-map). \n",
    "\n",
    "Furthermore it requires QGIS (or equivalent) for the addition of one of the datapoints.\n",
    "\n",
    "## Generated output\n",
    "\n",
    "`../../input/maps/nodes.shp`"
   ]
  },
  {
   "cell_type": "code",
   "execution_count": 1,
   "id": "20e78767",
   "metadata": {},
   "outputs": [],
   "source": [
    "import pandas as pd\n",
    "import geopandas as gpd\n",
    "import numpy as np\n",
    "import os\n",
    "import re\n",
    "from tqdm.notebook import tqdm\n",
    "import unidecode\n",
    "from collections import Counter\n",
    "from shapely.geometry import Point, LineString, Polygon"
   ]
  },
  {
   "cell_type": "code",
   "execution_count": 2,
   "id": "ce17d1f7",
   "metadata": {},
   "outputs": [],
   "source": [
    "INDIR = \"../../input\"\n",
    "OUTDIR = \"../../output\"\n",
    "DATADIR = \"../../../../data\" # path/to/non/repo/files\n",
    "FILE_cities = \"List_of_cities_300k.csv\"\n",
    "FILE_coords = \"euro-global-map-shp/data/FullEurope/BuiltupP.shp\" #path/to/eucoordinates/shapefile"
   ]
  },
  {
   "cell_type": "code",
   "execution_count": 3,
   "id": "5841168c",
   "metadata": {},
   "outputs": [
    {
     "data": {
      "text/html": [
       "<div>\n",
       "<style scoped>\n",
       "    .dataframe tbody tr th:only-of-type {\n",
       "        vertical-align: middle;\n",
       "    }\n",
       "\n",
       "    .dataframe tbody tr th {\n",
       "        vertical-align: top;\n",
       "    }\n",
       "\n",
       "    .dataframe thead th {\n",
       "        text-align: right;\n",
       "    }\n",
       "</style>\n",
       "<table border=\"1\" class=\"dataframe\">\n",
       "  <thead>\n",
       "    <tr style=\"text-align: right;\">\n",
       "      <th></th>\n",
       "      <th>id_MUA</th>\n",
       "      <th>Mua</th>\n",
       "      <th>Mua_en</th>\n",
       "      <th>Mua_fr</th>\n",
       "      <th>SizeMUA1k</th>\n",
       "      <th>EU15</th>\n",
       "      <th>Code_Country</th>\n",
       "      <th>NUTS_1</th>\n",
       "      <th>NUTS_2</th>\n",
       "      <th>NUTS_3</th>\n",
       "      <th>...</th>\n",
       "      <th>PUR</th>\n",
       "      <th>Supra_poly_fua</th>\n",
       "      <th>PIA</th>\n",
       "      <th>Name_supra_poly_fua</th>\n",
       "      <th>Poly_fua</th>\n",
       "      <th>id_poly_fua</th>\n",
       "      <th>Name_poly_fua</th>\n",
       "      <th>SizeHinterland1k</th>\n",
       "      <th>GDP_per_capita</th>\n",
       "      <th>Dummy_Capital</th>\n",
       "    </tr>\n",
       "  </thead>\n",
       "  <tbody>\n",
       "    <tr>\n",
       "      <th>0</th>\n",
       "      <td>FR00810</td>\n",
       "      <td>Paris</td>\n",
       "      <td>Paris</td>\n",
       "      <td>Paris</td>\n",
       "      <td>9591</td>\n",
       "      <td>1</td>\n",
       "      <td>FR</td>\n",
       "      <td>FR1</td>\n",
       "      <td>FR10</td>\n",
       "      <td>FR101</td>\n",
       "      <td>...</td>\n",
       "      <td></td>\n",
       "      <td>0</td>\n",
       "      <td>PIA_Paris</td>\n",
       "      <td>99</td>\n",
       "      <td>0</td>\n",
       "      <td></td>\n",
       "      <td></td>\n",
       "      <td>1201</td>\n",
       "      <td>44</td>\n",
       "      <td>1</td>\n",
       "    </tr>\n",
       "    <tr>\n",
       "      <th>1</th>\n",
       "      <td>UK01886</td>\n",
       "      <td>London</td>\n",
       "      <td>London</td>\n",
       "      <td>Londres</td>\n",
       "      <td>8256</td>\n",
       "      <td>1</td>\n",
       "      <td>UK</td>\n",
       "      <td>UKI</td>\n",
       "      <td>UKI1</td>\n",
       "      <td>UKI11</td>\n",
       "      <td>...</td>\n",
       "      <td></td>\n",
       "      <td>0</td>\n",
       "      <td>PIA_London</td>\n",
       "      <td>99</td>\n",
       "      <td>0</td>\n",
       "      <td></td>\n",
       "      <td></td>\n",
       "      <td>2752</td>\n",
       "      <td>45</td>\n",
       "      <td>1</td>\n",
       "    </tr>\n",
       "    <tr>\n",
       "      <th>2</th>\n",
       "      <td>ES00540</td>\n",
       "      <td>Madrid</td>\n",
       "      <td>Madrid</td>\n",
       "      <td>Madrid</td>\n",
       "      <td>4955</td>\n",
       "      <td>1</td>\n",
       "      <td>ES</td>\n",
       "      <td>ES3</td>\n",
       "      <td>ES30</td>\n",
       "      <td>ES300</td>\n",
       "      <td>...</td>\n",
       "      <td></td>\n",
       "      <td>0</td>\n",
       "      <td>PIA_Madrid</td>\n",
       "      <td>99</td>\n",
       "      <td>0</td>\n",
       "      <td></td>\n",
       "      <td></td>\n",
       "      <td>308</td>\n",
       "      <td>29</td>\n",
       "      <td>1</td>\n",
       "    </tr>\n",
       "    <tr>\n",
       "      <th>3</th>\n",
       "      <td>DE00219</td>\n",
       "      <td>Berlin</td>\n",
       "      <td>Berlin</td>\n",
       "      <td>Berlin</td>\n",
       "      <td>3776</td>\n",
       "      <td>1</td>\n",
       "      <td>DE</td>\n",
       "      <td>DE3</td>\n",
       "      <td>DE30</td>\n",
       "      <td>DE300</td>\n",
       "      <td>...</td>\n",
       "      <td></td>\n",
       "      <td>0</td>\n",
       "      <td>PIA_Berlin</td>\n",
       "      <td>99</td>\n",
       "      <td>0</td>\n",
       "      <td></td>\n",
       "      <td></td>\n",
       "      <td>240</td>\n",
       "      <td>22</td>\n",
       "      <td>1</td>\n",
       "    </tr>\n",
       "    <tr>\n",
       "      <th>4</th>\n",
       "      <td>IT01156</td>\n",
       "      <td>Milano</td>\n",
       "      <td>Milan</td>\n",
       "      <td>Milan</td>\n",
       "      <td>3698</td>\n",
       "      <td>1</td>\n",
       "      <td>IT</td>\n",
       "      <td>ITC</td>\n",
       "      <td>ITC4</td>\n",
       "      <td>ITC45</td>\n",
       "      <td>...</td>\n",
       "      <td>Milano</td>\n",
       "      <td>0</td>\n",
       "      <td>PIA_Milano</td>\n",
       "      <td>99</td>\n",
       "      <td>1</td>\n",
       "      <td>IT03</td>\n",
       "      <td>Milano metropolitan area</td>\n",
       "      <td>604</td>\n",
       "      <td>35</td>\n",
       "      <td>0</td>\n",
       "    </tr>\n",
       "  </tbody>\n",
       "</table>\n",
       "<p>5 rows × 26 columns</p>\n",
       "</div>"
      ],
      "text/plain": [
       "    id_MUA     Mua  Mua_en   Mua_fr  SizeMUA1k  EU15 Code_Country NUTS_1  \\\n",
       "0  FR00810   Paris   Paris    Paris       9591     1           FR    FR1   \n",
       "1  UK01886  London  London  Londres       8256     1           UK    UKI   \n",
       "2  ES00540  Madrid  Madrid   Madrid       4955     1           ES    ES3   \n",
       "3  DE00219  Berlin  Berlin   Berlin       3776     1           DE    DE3   \n",
       "4  IT01156  Milano   Milan    Milan       3698     1           IT    ITC   \n",
       "\n",
       "  NUTS_2 NUTS_3  ...     PUR Supra_poly_fua         PIA Name_supra_poly_fua  \\\n",
       "0   FR10  FR101  ...                      0   PIA_Paris                  99   \n",
       "1   UKI1  UKI11  ...                      0  PIA_London                  99   \n",
       "2   ES30  ES300  ...                      0  PIA_Madrid                  99   \n",
       "3   DE30  DE300  ...                      0  PIA_Berlin                  99   \n",
       "4   ITC4  ITC45  ...  Milano              0  PIA_Milano                  99   \n",
       "\n",
       "  Poly_fua id_poly_fua             Name_poly_fua  SizeHinterland1k  \\\n",
       "0        0                                                    1201   \n",
       "1        0                                                    2752   \n",
       "2        0                                                     308   \n",
       "3        0                                                     240   \n",
       "4        1        IT03  Milano metropolitan area               604   \n",
       "\n",
       "  GDP_per_capita  Dummy_Capital  \n",
       "0             44              1  \n",
       "1             45              1  \n",
       "2             29              1  \n",
       "3             22              1  \n",
       "4             35              0  \n",
       "\n",
       "[5 rows x 26 columns]"
      ]
     },
     "execution_count": 3,
     "metadata": {},
     "output_type": "execute_result"
    }
   ],
   "source": [
    "# load citylist\n",
    "list_of_cities = pd.read_csv(os.path.join(INDIR, FILE_cities), sep=\";\")\n",
    "list_of_cities.head()"
   ]
  },
  {
   "cell_type": "markdown",
   "id": "de36a1f2",
   "metadata": {},
   "source": [
    "## Select relevant coordinates"
   ]
  },
  {
   "cell_type": "code",
   "execution_count": 4,
   "id": "49a00d77",
   "metadata": {},
   "outputs": [],
   "source": [
    "# load data with city coordinates\n",
    "built_up = gpd.read_file(os.path.join(DATADIR, FILE_coords))"
   ]
  },
  {
   "cell_type": "code",
   "execution_count": 5,
   "id": "ff49a9a5",
   "metadata": {},
   "outputs": [
    {
     "data": {
      "text/plain": [
       "(72846, 18)"
      ]
     },
     "execution_count": 5,
     "metadata": {},
     "output_type": "execute_result"
    }
   ],
   "source": [
    "built_up.shape"
   ]
  },
  {
   "cell_type": "code",
   "execution_count": 6,
   "id": "502af370",
   "metadata": {
    "scrolled": true
   },
   "outputs": [
    {
     "data": {
      "text/html": [
       "<div>\n",
       "<style scoped>\n",
       "    .dataframe tbody tr th:only-of-type {\n",
       "        vertical-align: middle;\n",
       "    }\n",
       "\n",
       "    .dataframe tbody tr th {\n",
       "        vertical-align: top;\n",
       "    }\n",
       "\n",
       "    .dataframe thead th {\n",
       "        text-align: right;\n",
       "    }\n",
       "</style>\n",
       "<table border=\"1\" class=\"dataframe\">\n",
       "  <thead>\n",
       "    <tr style=\"text-align: right;\">\n",
       "      <th></th>\n",
       "      <th>OBJECTID</th>\n",
       "      <th>FCsubtype</th>\n",
       "      <th>inspireId</th>\n",
       "      <th>beginLifes</th>\n",
       "      <th>F_CODE</th>\n",
       "      <th>ICC</th>\n",
       "      <th>NAMN1</th>\n",
       "      <th>NAMN2</th>\n",
       "      <th>NAMA1</th>\n",
       "      <th>NAMA2</th>\n",
       "      <th>NLN1</th>\n",
       "      <th>NLN2</th>\n",
       "      <th>PPL</th>\n",
       "      <th>PP1</th>\n",
       "      <th>PP2</th>\n",
       "      <th>USE</th>\n",
       "      <th>PopulatedP</th>\n",
       "      <th>geometry</th>\n",
       "    </tr>\n",
       "  </thead>\n",
       "  <tbody>\n",
       "    <tr>\n",
       "      <th>0</th>\n",
       "      <td>1</td>\n",
       "      <td>1</td>\n",
       "      <td>_EG.EGM.BuiltupP:40c2730a-3a4b-474b-8f55-615cd...</td>\n",
       "      <td>20220125104612</td>\n",
       "      <td>AL020</td>\n",
       "      <td>MD</td>\n",
       "      <td>Cernoleuca</td>\n",
       "      <td>UNK</td>\n",
       "      <td>Cernoleuca</td>\n",
       "      <td>UNK</td>\n",
       "      <td>rum</td>\n",
       "      <td>UNK</td>\n",
       "      <td>1771</td>\n",
       "      <td>-32768</td>\n",
       "      <td>-32768</td>\n",
       "      <td>3</td>\n",
       "      <td>N.MD.BUILTUP.000823</td>\n",
       "      <td>POINT (27.56031 48.31269)</td>\n",
       "    </tr>\n",
       "    <tr>\n",
       "      <th>1</th>\n",
       "      <td>2</td>\n",
       "      <td>1</td>\n",
       "      <td>_EG.EGM.BuiltupP:f90e3db3-2ef5-4cf7-95ba-2f99f...</td>\n",
       "      <td>20220125104612</td>\n",
       "      <td>AL020</td>\n",
       "      <td>MD</td>\n",
       "      <td>Mo?ana</td>\n",
       "      <td>UNK</td>\n",
       "      <td>Mosana</td>\n",
       "      <td>UNK</td>\n",
       "      <td>rum</td>\n",
       "      <td>UNK</td>\n",
       "      <td>1630</td>\n",
       "      <td>-32768</td>\n",
       "      <td>-32768</td>\n",
       "      <td>3</td>\n",
       "      <td>N.MD.BUILTUP.000825</td>\n",
       "      <td>POINT (27.68990 48.32328)</td>\n",
       "    </tr>\n",
       "    <tr>\n",
       "      <th>2</th>\n",
       "      <td>3</td>\n",
       "      <td>1</td>\n",
       "      <td>_EG.EGM.BuiltupP:d947c478-818e-41ed-91a2-0aa79...</td>\n",
       "      <td>20220125104612</td>\n",
       "      <td>AL020</td>\n",
       "      <td>MD</td>\n",
       "      <td>Gribova</td>\n",
       "      <td>UNK</td>\n",
       "      <td>Gribova</td>\n",
       "      <td>UNK</td>\n",
       "      <td>rum</td>\n",
       "      <td>UNK</td>\n",
       "      <td>2101</td>\n",
       "      <td>-32768</td>\n",
       "      <td>-32768</td>\n",
       "      <td>3</td>\n",
       "      <td>N.MD.BUILTUP.000831</td>\n",
       "      <td>POINT (27.93089 48.01388)</td>\n",
       "    </tr>\n",
       "    <tr>\n",
       "      <th>3</th>\n",
       "      <td>4</td>\n",
       "      <td>1</td>\n",
       "      <td>_EG.EGM.BuiltupP:0f9b7f83-5249-4030-9933-417ed...</td>\n",
       "      <td>20220125104612</td>\n",
       "      <td>AL020</td>\n",
       "      <td>MD</td>\n",
       "      <td>Chirca</td>\n",
       "      <td>UNK</td>\n",
       "      <td>Chirca</td>\n",
       "      <td>UNK</td>\n",
       "      <td>rum</td>\n",
       "      <td>UNK</td>\n",
       "      <td>1704</td>\n",
       "      <td>-32768</td>\n",
       "      <td>-32768</td>\n",
       "      <td>3</td>\n",
       "      <td>N.MD.BUILTUP.000838</td>\n",
       "      <td>POINT (29.10819 46.92171)</td>\n",
       "    </tr>\n",
       "    <tr>\n",
       "      <th>4</th>\n",
       "      <td>5</td>\n",
       "      <td>1</td>\n",
       "      <td>_EG.EGM.BuiltupP:0e4be3d7-1937-4614-a7fd-f6bd2...</td>\n",
       "      <td>20220125104612</td>\n",
       "      <td>AL020</td>\n",
       "      <td>MD</td>\n",
       "      <td>Delac?u</td>\n",
       "      <td>UNK</td>\n",
       "      <td>Delacau</td>\n",
       "      <td>UNK</td>\n",
       "      <td>rum</td>\n",
       "      <td>UNK</td>\n",
       "      <td>2126</td>\n",
       "      <td>-32768</td>\n",
       "      <td>-32768</td>\n",
       "      <td>3</td>\n",
       "      <td>N.MD.BUILTUP.000840</td>\n",
       "      <td>POINT (29.30339 47.09902)</td>\n",
       "    </tr>\n",
       "  </tbody>\n",
       "</table>\n",
       "</div>"
      ],
      "text/plain": [
       "   OBJECTID  FCsubtype                                          inspireId  \\\n",
       "0         1          1  _EG.EGM.BuiltupP:40c2730a-3a4b-474b-8f55-615cd...   \n",
       "1         2          1  _EG.EGM.BuiltupP:f90e3db3-2ef5-4cf7-95ba-2f99f...   \n",
       "2         3          1  _EG.EGM.BuiltupP:d947c478-818e-41ed-91a2-0aa79...   \n",
       "3         4          1  _EG.EGM.BuiltupP:0f9b7f83-5249-4030-9933-417ed...   \n",
       "4         5          1  _EG.EGM.BuiltupP:0e4be3d7-1937-4614-a7fd-f6bd2...   \n",
       "\n",
       "       beginLifes F_CODE ICC       NAMN1 NAMN2       NAMA1 NAMA2 NLN1 NLN2  \\\n",
       "0  20220125104612  AL020  MD  Cernoleuca   UNK  Cernoleuca   UNK  rum  UNK   \n",
       "1  20220125104612  AL020  MD      Mo?ana   UNK      Mosana   UNK  rum  UNK   \n",
       "2  20220125104612  AL020  MD     Gribova   UNK     Gribova   UNK  rum  UNK   \n",
       "3  20220125104612  AL020  MD      Chirca   UNK      Chirca   UNK  rum  UNK   \n",
       "4  20220125104612  AL020  MD     Delac?u   UNK     Delacau   UNK  rum  UNK   \n",
       "\n",
       "    PPL    PP1    PP2  USE           PopulatedP                   geometry  \n",
       "0  1771 -32768 -32768    3  N.MD.BUILTUP.000823  POINT (27.56031 48.31269)  \n",
       "1  1630 -32768 -32768    3  N.MD.BUILTUP.000825  POINT (27.68990 48.32328)  \n",
       "2  2101 -32768 -32768    3  N.MD.BUILTUP.000831  POINT (27.93089 48.01388)  \n",
       "3  1704 -32768 -32768    3  N.MD.BUILTUP.000838  POINT (29.10819 46.92171)  \n",
       "4  2126 -32768 -32768    3  N.MD.BUILTUP.000840  POINT (29.30339 47.09902)  "
      ]
     },
     "execution_count": 6,
     "metadata": {},
     "output_type": "execute_result"
    }
   ],
   "source": [
    "built_up.head()"
   ]
  },
  {
   "cell_type": "markdown",
   "id": "d384a197",
   "metadata": {},
   "source": [
    "`BuiltUpP.shp` contains 4 different name variables. `NAMN1`, `NAMN2`, `NAMA1`, and `NAMA2`. The first two are names in up to two national languages. The latter are transliterated versions of those names into ASCII characters. "
   ]
  },
  {
   "cell_type": "code",
   "execution_count": 7,
   "id": "ca98910c",
   "metadata": {},
   "outputs": [],
   "source": [
    "muas = list(list_of_cities.Mua)"
   ]
  },
  {
   "cell_type": "code",
   "execution_count": 8,
   "id": "0467a250",
   "metadata": {},
   "outputs": [],
   "source": [
    "# create a dictionary of toponyms and their country codes\n",
    "mua_dict = dict()\n",
    "\n",
    "for index, row in list_of_cities.iterrows():\n",
    "    if row['Code_Country'] == 'UK': \n",
    "        mua_dict[row['Mua']] = 'GB'\n",
    "    else: \n",
    "        mua_dict[row['Mua']] = row['Code_Country']\n",
    "    "
   ]
  },
  {
   "cell_type": "markdown",
   "id": "e48e4c10",
   "metadata": {},
   "source": [
    "### Names with issues:\n",
    "\n",
    "At least some of these non matches are combined cities. For these it is probably easiest to choose the coordinates of one. (although i guess the best option would be to calculate the midpoint between the combined cities and then take that);\n",
    "\n",
    "Another problem is that unidecode replaces 'ü' with 'u' while the `NAMA1` variable lists this with 'ue'. Same for 'oe'.\n",
    "\n",
    "Den Haag --> 's-Gravenhage (den Haag listed as NAMA2)\n",
    "\n",
    "**Manual edits**\n",
    "\n",
    "Antwerp listed with its dutch/flemish name Antwerpen. Brussels as Brussel\n",
    "\n",
    "Don't understand what is happening to Lyon and Marseille. (listed only with arrondissement numbers in name, e.g. 'Lyon 1er Arrondissement')\n",
    "\n",
    "error for Gent (negative population number)  \n",
    "Sofia should be done manually as well (other Sofias are present but Sofia, BU is listed as 'S?fiya')\n",
    "\n",
    "Stoke --> Stoke-on-Trent\n",
    "Belfast cause country code does not match\n",
    "\n",
    "Plovdiv --> Pl?vdiv\n",
    "\n",
    "Wuppertal not in the dataset. \n",
    "\n",
    "suggested process:\n",
    "1. un-decoded (so with accents). match to NAMA1 first. \n",
    "2. Then new list with left over cities, match to NAMN1 (for the umlauts).\n",
    "3. left-over match to NAMN2\n",
    "4. Manually match remaining cities\n",
    "\n",
    "\n"
   ]
  },
  {
   "cell_type": "markdown",
   "id": "3407e592",
   "metadata": {},
   "source": [
    "### First Match\n",
    "Match the cities in the built_up dataset with the cities in the CITYNET network by confirming that name and country match."
   ]
  },
  {
   "cell_type": "code",
   "execution_count": 9,
   "id": "e7929b6a",
   "metadata": {},
   "outputs": [],
   "source": [
    "cities = []\n",
    "for index, row in built_up.iterrows(): \n",
    "    if row['NAMA1'] in mua_dict and row['ICC'] == mua_dict[row['NAMA1']]:\n",
    "        cities.append(row['NAMA1'])\n",
    "    elif row['NAMN1'] in mua_dict and row['ICC'] == mua_dict[row['NAMN1']]:\n",
    "        cities.append(row['NAMN1'])\n",
    "    elif row['NAMN2'] in mua_dict and row['ICC'] == mua_dict[row['NAMN2']]: \n",
    "        cities.append(row['NAMN2'])"
   ]
  },
  {
   "cell_type": "code",
   "execution_count": 10,
   "id": "c4b77815",
   "metadata": {},
   "outputs": [
    {
     "data": {
      "text/plain": [
       "137"
      ]
     },
     "execution_count": 10,
     "metadata": {},
     "output_type": "execute_result"
    }
   ],
   "source": [
    "# check how many cities have been matched\n",
    "len(cities)"
   ]
  },
  {
   "cell_type": "code",
   "execution_count": 11,
   "id": "32045b3b",
   "metadata": {},
   "outputs": [
    {
     "name": "stdout",
     "output_type": "stream",
     "text": [
      "Bremen\n",
      "Leeds\n"
     ]
    }
   ],
   "source": [
    "# check if any cities have been matched more than once\n",
    "city_counts = Counter(cities) \n",
    "for key in city_counts:\n",
    "    if city_counts[key] > 1:\n",
    "        print(key)"
   ]
  },
  {
   "cell_type": "code",
   "execution_count": 12,
   "id": "1c386197",
   "metadata": {
    "scrolled": true
   },
   "outputs": [],
   "source": [
    "# cities not automatically matched\n",
    "leftovers = []\n",
    "for city in muas:\n",
    "    if city not in cities:\n",
    "        leftovers.append(city)"
   ]
  },
  {
   "cell_type": "code",
   "execution_count": 13,
   "id": "caf99719",
   "metadata": {
    "scrolled": false
   },
   "outputs": [
    {
     "name": "stdout",
     "output_type": "stream",
     "text": [
      "['Brussels', 'Kobenhavn', 'Lyon', 'Sofia', 'Essen-Oberhausen', 'Marseille', 'Antwerp', 'Bochum-Herne', 'Gelsenkirchen-Bottrop', 'Belfast', 'Palma de Mallorca', 'Wuppertal', 'Castellammare di Stabia-Torre Annunziata', 'Plovdiv', 'Alicanta', 'La Coruna']\n"
     ]
    }
   ],
   "source": [
    "print(leftovers)"
   ]
  },
  {
   "cell_type": "markdown",
   "id": "ea5d8a99",
   "metadata": {},
   "source": [
    "Matched: 135 cities  \n",
    "False Match: Bremen and Leeds duplicates\n",
    "\n",
    "Cities not matched:  \n",
    "'Brussels', 'Kobenhavn', 'Lyon', 'Sofia', 'Essen-Oberhausen', 'Marseille', 'Antwerp', 'Bochum-Herne', 'Gelsenkirchen-Bottrop', 'Belfast', 'Palma de Mallorca', 'Wuppertal', 'Castellammare di Stabia-Torre Annunziata', 'Plovdiv', 'Alicanta', 'La Coruna'\n",
    "\n",
    "These cities remain unmatched for a variety of issues.\n",
    "* language differences (e.g. Brussels, Alicante)\n",
    "* different name (e.g. Marseille, Mallorca, A Coruna)\n",
    "* different transliteration (e.g.Plovdiv, Kobenhavn, Sofia)\n",
    "* MUA is made up of multiple cities (e.g. Castellammare di Stabia-Torre Annunziata)\n",
    "* Belfast isn't matched cause the country codes don't match (the coordinate dataset uses a separate CC for northern ireland)\n",
    "\n",
    "One of the cities has no match because it is not present in the coordinate dataset: Wuppertal\n",
    "\n",
    "Considering the small size of the unmatched city list. A dictionary was created manually to match the diverging names in the two datasets"
   ]
  },
  {
   "cell_type": "code",
   "execution_count": 14,
   "id": "1a9be62c",
   "metadata": {},
   "outputs": [],
   "source": [
    "# dictionary of non matching names\n",
    "manual_names_v = {\"Pl?vdiv\":\"Plovdiv\", \n",
    "                \"S?fiya\":\"Sofia\", \n",
    "                \"Koebenhavn\": \"Kobenhavn\", \n",
    "                \"Brussel\": \"Brussels\", \n",
    "                \"Antwerpen\": \"Antwerp\",\n",
    "                \"A Coruna\": \"La Coruna\", \n",
    "                \"Alacant/Alicante\": \"Alicanta\", \n",
    "                \"Lyon 1er Arrondissement\": \"Lyon\", \n",
    "                \"Marseille 1er Arrondissement\": \"Marseille\", \n",
    "                \"Mallorca\": \"Palma de Mallorca\"}"
   ]
  },
  {
   "cell_type": "code",
   "execution_count": 15,
   "id": "2e2eb0c6",
   "metadata": {},
   "outputs": [],
   "source": [
    "# add first one of the compound cities to the dictionary\n",
    "for city in leftovers:\n",
    "    if '-' in city:\n",
    "        manual_names_v[city.split('-')[0]] = city"
   ]
  },
  {
   "cell_type": "code",
   "execution_count": 16,
   "id": "8257f3c2",
   "metadata": {},
   "outputs": [
    {
     "data": {
      "text/plain": [
       "{'Pl?vdiv': 'Plovdiv',\n",
       " 'S?fiya': 'Sofia',\n",
       " 'Koebenhavn': 'Kobenhavn',\n",
       " 'Brussel': 'Brussels',\n",
       " 'Antwerpen': 'Antwerp',\n",
       " 'A Coruna': 'La Coruna',\n",
       " 'Alacant/Alicante': 'Alicanta',\n",
       " 'Lyon 1er Arrondissement': 'Lyon',\n",
       " 'Marseille 1er Arrondissement': 'Marseille',\n",
       " 'Mallorca': 'Palma de Mallorca',\n",
       " 'Essen': 'Essen-Oberhausen',\n",
       " 'Bochum': 'Bochum-Herne',\n",
       " 'Gelsenkirchen': 'Gelsenkirchen-Bottrop',\n",
       " 'Castellammare di Stabia': 'Castellammare di Stabia-Torre Annunziata'}"
      ]
     },
     "execution_count": 16,
     "metadata": {},
     "output_type": "execute_result"
    }
   ],
   "source": [
    "# full dictionary\n",
    "manual_names_v"
   ]
  },
  {
   "cell_type": "code",
   "execution_count": 17,
   "id": "a4376c3a",
   "metadata": {},
   "outputs": [],
   "source": [
    "# reverse of dictionary\n",
    "manual_names_r = {value: key for key, value in manual_names_v.items()}"
   ]
  },
  {
   "cell_type": "code",
   "execution_count": 18,
   "id": "cf5f33f3",
   "metadata": {},
   "outputs": [],
   "source": [
    "# add new spellings to the original city : country code dictionary\n",
    "for key in manual_names_v:\n",
    "    # create new mua_dict key from the name dictionary and gives it the same country code as the corresponding name\n",
    "    mua_dict[key] = mua_dict[manual_names_v[key]]"
   ]
  },
  {
   "cell_type": "markdown",
   "id": "48076711",
   "metadata": {},
   "source": [
    "### Match with this new dictionary"
   ]
  },
  {
   "cell_type": "code",
   "execution_count": null,
   "id": "18f1272f",
   "metadata": {},
   "outputs": [],
   "source": [
    "cities = []\n",
    "for index, row in built_up.iterrows(): \n",
    "    if row['NAMA1'] in mua_dict and row['ICC'] == mua_dict[row['NAMA1']]:\n",
    "        cities.append(tuple(row))\n",
    "    elif row['NAMN1'] in mua_dict and row['ICC'] == mua_dict[row['NAMN1']]:\n",
    "        cities.append(tuple(row))\n",
    "    elif row['NAMN2'] in mua_dict and row['ICC'] == mua_dict[row['NAMN2']]: \n",
    "        cities.append(tuple(row))\n",
    "    # don't require country code match for Belfast (there is only one Belfast in the dataset)\n",
    "    elif row['NAMA1'] == \"Belfast\": \n",
    "        cities.append(tuple(row))"
   ]
  },
  {
   "cell_type": "code",
   "execution_count": null,
   "id": "e9e33c5c",
   "metadata": {},
   "outputs": [],
   "source": [
    "df = pd.DataFrame(cities, columns = built_up.columns)\n",
    "df.shape"
   ]
  },
  {
   "cell_type": "code",
   "execution_count": null,
   "id": "7c176585",
   "metadata": {},
   "outputs": [],
   "source": [
    "df.head()"
   ]
  },
  {
   "cell_type": "code",
   "execution_count": null,
   "id": "7da3b6e1",
   "metadata": {},
   "outputs": [],
   "source": [
    "# exclude the duplicate Bremen and Leeds\n",
    "# Wrong BREMEN 27573\n",
    "# Wrong LEEDS 63132\n",
    "duplicate_IDs = [27573, 63132]\n",
    "\n",
    "# done this way because that way the projection metadata is preserved\n",
    "gdf = built_up[(~built_up.OBJECTID.isin(duplicate_IDs)) & (built_up.OBJECTID.isin(df.OBJECTID))]"
   ]
  },
  {
   "cell_type": "code",
   "execution_count": null,
   "id": "017c4a42",
   "metadata": {},
   "outputs": [],
   "source": [
    "# save as shapefile (outside this repo)\n",
    "fp = os.path.join(DATADIR, \"city_coordinates.shp\")\n",
    "gdf.to_file(fp)"
   ]
  },
  {
   "cell_type": "markdown",
   "id": "bea239a8",
   "metadata": {},
   "source": [
    "### Manual Addition\n",
    "Wuppertal is not in the EGM dataset, and was added manually in QGIS (3.16.12 Hannover) based on OpenStreetMap data.\n",
    "\n",
    "- Loaded the just created `city_coordinates.shp` in QGIS . \n",
    "- Used OSM plugin and overlaid it. Toggled editing then `edit` > `add point feature`\n",
    "- Added point object to city_coordinates layer. And added 'Wuppertal' for 'NAMN1', and 'DE' for 'ICC'.\n",
    "- Next `save layer edits` and untoggled editting.\n",
    "- Finally right-clicked city_coordinates layer > `Export` > `Save Features as` > \"city_coordinates_complete.shp\""
   ]
  },
  {
   "cell_type": "code",
   "execution_count": null,
   "id": "1a4b23f0",
   "metadata": {},
   "outputs": [],
   "source": [
    "# load file with wuppertal coordinates also included\n",
    "coords = gpd.read_file(os.path.join(DATADIR, \"city_coordinates_complete.shp\"))"
   ]
  },
  {
   "cell_type": "code",
   "execution_count": null,
   "id": "b156d93b",
   "metadata": {},
   "outputs": [],
   "source": [
    "coords.crs"
   ]
  },
  {
   "cell_type": "code",
   "execution_count": null,
   "id": "e578e0ef",
   "metadata": {
    "scrolled": true
   },
   "outputs": [],
   "source": [
    "coords.head()"
   ]
  },
  {
   "cell_type": "markdown",
   "id": "e428820b",
   "metadata": {},
   "source": [
    "## Create Cities dataframe\n",
    "\n",
    "following columns: Mua, Mua_en, Mua_fr, population, country_code, geometry, (dummies: fr_dum, en_dum, additional disambiguation dummies).  \n",
    "\n"
   ]
  },
  {
   "cell_type": "code",
   "execution_count": null,
   "id": "02eccf68",
   "metadata": {},
   "outputs": [],
   "source": [
    "df = list_of_cities.copy()\n",
    "df = df[['id_MUA', 'Mua', 'Mua_en', 'Mua_fr', 'SizeMUA1k', 'Code_Country']]\n",
    "df.head()"
   ]
  },
  {
   "cell_type": "code",
   "execution_count": null,
   "id": "5bde730d",
   "metadata": {},
   "outputs": [],
   "source": [
    "# change the names in coords so that they match the names in the cities dataframe\n",
    "coords.replace({'NAMA1': manual_names_v}, inplace=True)"
   ]
  },
  {
   "cell_type": "code",
   "execution_count": null,
   "id": "5814c8ec",
   "metadata": {},
   "outputs": [],
   "source": [
    "output_df = []\n",
    "for index, row in coords.iterrows(): \n",
    "    for index2, row2 in df.iterrows(): \n",
    "        if row['NAMA1'] == row2['Mua']:\n",
    "            new_row = list(row2[['id_MUA', 'Mua', 'Mua_en', 'Mua_fr', 'SizeMUA1k', 'Code_Country']])\n",
    "            new_row.append(row.geometry)\n",
    "            output_df.append(tuple(new_row))\n",
    "        elif row['NAMN1'] == row2['Mua']:\n",
    "            new_row = list(row2[['id_MUA', 'Mua', 'Mua_en', 'Mua_fr', 'SizeMUA1k', 'Code_Country']])\n",
    "            new_row.append(row.geometry)\n",
    "            output_df.append(tuple(new_row))\n",
    "        elif row['NAMN2'] == row2['Mua']: \n",
    "            new_row = list(row2[['id_MUA', 'Mua', 'Mua_en', 'Mua_fr', 'SizeMUA1k', 'Code_Country']])\n",
    "            new_row.append(row.geometry)\n",
    "            output_df.append(tuple(new_row))"
   ]
  },
  {
   "cell_type": "code",
   "execution_count": null,
   "id": "bc2951ea",
   "metadata": {},
   "outputs": [],
   "source": [
    "# transform to GeoDataFrame\n",
    "output_df = gpd.GeoDataFrame(output_df, columns = ['id_MUA', 'Mua', 'Mua_en', 'Mua_fr', 'SizeMUA1k', 'Code_Country', 'geometry'], crs = coords.crs)"
   ]
  },
  {
   "cell_type": "code",
   "execution_count": null,
   "id": "d71a1c89",
   "metadata": {},
   "outputs": [],
   "source": [
    "output_df.plot()"
   ]
  },
  {
   "cell_type": "code",
   "execution_count": null,
   "id": "f3db854c",
   "metadata": {},
   "outputs": [],
   "source": [
    "output_df.crs"
   ]
  },
  {
   "cell_type": "code",
   "execution_count": null,
   "id": "da912ea5",
   "metadata": {},
   "outputs": [],
   "source": [
    "# rename columns to avoid name being cut off when saving\n",
    "output_df.rename(columns = {'Code_Country': 'CC', 'SizeMUA1k': 'POP', 'Mua_en': 'MUA'}, inplace = True)\n",
    "output_df.drop(['Mua_fr', 'Mua', 'id_MUA'], axis = 1, inplace = True)"
   ]
  },
  {
   "cell_type": "code",
   "execution_count": null,
   "id": "7775df15",
   "metadata": {},
   "outputs": [],
   "source": [
    "output_df.head()"
   ]
  },
  {
   "cell_type": "code",
   "execution_count": null,
   "id": "57b39619",
   "metadata": {},
   "outputs": [],
   "source": [
    "## if you want to save a version of the coordinate shapefile without the dummy values\n",
    "# fp = os.path.join(INDIR, \"maps/city_coordinates.shp\")\n",
    "# output_df.to_file(fp)"
   ]
  },
  {
   "cell_type": "markdown",
   "id": "60430901",
   "metadata": {},
   "source": [
    "### European area zone dummies\n",
    "*  Central and Eastern Europe\n",
    "*  Northern Europe\n",
    "*  Southern Europe\n",
    "*  Western Europe  \n",
    "\n",
    "Categorisation derived from EUROVOC:  \n",
    "[https://eur-lex.europa.eu/browse/eurovoc.html?params=72,7206,914#arrow_914](https://eur-lex.europa.eu/browse/eurovoc.html?params=72,7206,914#arrow_914)\n",
    "\n",
    "Only countries included in our dataset are listed here, of course more countries belong to these categories. \n",
    "\n",
    "\n",
    "| **Central / East** | **West**         | **North** | **South** |\n",
    "|--------------------|------------------|-----------|-----------|\n",
    "| Bulgaria           | Austria          | Denmark   | Greece    |\n",
    "| Czech Republic     | Belgium          | Estonia   | Italy     |\n",
    "| Hungary            | France           | Finland   | Malta     |\n",
    "| Poland             | Germany          | Latvia    | Portugal  |\n",
    "| Romania            | Ireland          | Lithuania | Spain     |\n",
    "| Slovakia           | Netherlands      | Norway    |       -   |\n",
    "|       -            | Switzerland      | Sweden    |       -   |\n",
    "|       -            | (United Kingdom) |     -     |       -   |\n",
    "\n"
   ]
  },
  {
   "cell_type": "code",
   "execution_count": null,
   "id": "edcadb01",
   "metadata": {},
   "outputs": [],
   "source": [
    "set(output_df.CC)"
   ]
  },
  {
   "cell_type": "code",
   "execution_count": null,
   "id": "7418499c",
   "metadata": {},
   "outputs": [],
   "source": [
    "west = ['AT', 'BE', 'FR', 'DE', 'IE', 'NL', 'CH', 'UK']\n",
    "south =  ['GR', 'IT', 'MT', 'PT', 'ES']\n",
    "north = ['DK', 'EE', 'FI', 'LV', 'LT', 'NO', 'SE']\n",
    "central_east = ['PL', 'RO', 'HU', 'CZ', 'BG', 'SK']\n",
    "\n",
    "len(west) + len(south) + len(north) + len(central_east)"
   ]
  },
  {
   "cell_type": "code",
   "execution_count": null,
   "id": "7287b526",
   "metadata": {},
   "outputs": [],
   "source": [
    "output_df['WEST'] = np.where((output_df['CC'].isin(west)), 1, 0)\n",
    "output_df['SOUTH'] = np.where((output_df['CC'].isin(south)), 1, 0)\n",
    "output_df['NORTH'] = np.where((output_df['CC'].isin(north)), 1, 0)\n",
    "output_df['CEAST'] = np.where((output_df['CC'].isin(central_east)), 1, 0)"
   ]
  },
  {
   "cell_type": "code",
   "execution_count": null,
   "id": "9508a14d",
   "metadata": {},
   "outputs": [],
   "source": [
    "def region_lab(row): \n",
    "    if row['WEST'] == 1: \n",
    "        region = 'west'\n",
    "    elif row['CEAST'] == 1:\n",
    "        region = 'central_east'\n",
    "    elif row['NORTH'] == 1: \n",
    "        region = 'north'\n",
    "    else: \n",
    "        region = 'south'\n",
    "    return region"
   ]
  },
  {
   "cell_type": "code",
   "execution_count": null,
   "id": "30f791a2",
   "metadata": {},
   "outputs": [],
   "source": [
    "output_df['REGION'] = output_df.apply(region_lab, axis = 1)"
   ]
  },
  {
   "cell_type": "code",
   "execution_count": null,
   "id": "bdd4a875",
   "metadata": {
    "scrolled": true
   },
   "outputs": [],
   "source": [
    "output_df.head()"
   ]
  },
  {
   "cell_type": "code",
   "execution_count": null,
   "id": "3da849ae",
   "metadata": {},
   "outputs": [],
   "source": [
    "output_df[output_df['SOUTH'] == 0]"
   ]
  },
  {
   "cell_type": "markdown",
   "id": "ce984b63",
   "metadata": {},
   "source": [
    "### Language Sphere dummies\n",
    "\n",
    "Add language sphere dummies (1 if the city is English or French speaking)."
   ]
  },
  {
   "cell_type": "code",
   "execution_count": null,
   "id": "0e6b2ee6",
   "metadata": {
    "scrolled": true
   },
   "outputs": [],
   "source": [
    "# create english language sphere dummy based on country code\n",
    "output_df['EN_DUM'] = np.where((output_df['CC']== 'UK') | (output_df['CC'] == 'IE'), 1, 0)"
   ]
  },
  {
   "cell_type": "code",
   "execution_count": null,
   "id": "d310df73",
   "metadata": {
    "scrolled": false
   },
   "outputs": [],
   "source": [
    "# French-speaking cities in countries which speak french only in certain regions\n",
    "french_sphere = ['Charleroi', 'Liège', 'Brussels', 'Geneva']\n",
    "\n",
    "# french dummy CC French or city from previous list\n",
    "fr_dum = []\n",
    "for i, row in output_df.iterrows(): \n",
    "    if row['MUA'] in french_sphere:\n",
    "        fr_dum.append(1)\n",
    "    elif row['CC'] == 'FR':\n",
    "        fr_dum.append(1)\n",
    "    else:\n",
    "        fr_dum.append(0)\n",
    "\n",
    "# add to dataframe\n",
    "output_df['FR_DUM'] = fr_dum"
   ]
  },
  {
   "cell_type": "code",
   "execution_count": null,
   "id": "096909f8",
   "metadata": {},
   "outputs": [],
   "source": [
    "output_df.head()"
   ]
  },
  {
   "cell_type": "code",
   "execution_count": null,
   "id": "f7434623",
   "metadata": {},
   "outputs": [],
   "source": [
    "fp = os.path.join(INDIR, \"maps/nodes.shp\")\n",
    "# output_df.to_file(fp)"
   ]
  }
 ],
 "metadata": {
  "kernelspec": {
   "display_name": "Python 3 (ipykernel)",
   "language": "python",
   "name": "python3"
  },
  "language_info": {
   "codemirror_mode": {
    "name": "ipython",
    "version": 3
   },
   "file_extension": ".py",
   "mimetype": "text/x-python",
   "name": "python",
   "nbconvert_exporter": "python",
   "pygments_lexer": "ipython3",
   "version": "3.10.4"
  }
 },
 "nbformat": 4,
 "nbformat_minor": 5
}
