{
 "cells": [
  {
   "cell_type": "code",
   "execution_count": 3,
   "id": "ff1938e8",
   "metadata": {},
   "outputs": [],
   "source": [
    "import re\n",
    "import pandas as pd\n",
    "import os\n",
    "import time\n",
    "from tqdm.notebook import tqdm\n",
    "import unidecode\n",
    "import numpy as np\n",
    "\n",
    "from preprocessing_functions import *"
   ]
  },
  {
   "cell_type": "code",
   "execution_count": 12,
   "id": "bf9b6388",
   "metadata": {},
   "outputs": [],
   "source": [
    "language = 'fr' #'fr'\n",
    "indir = f'../../../../data/'\n",
    "inputfp = os.path.join(indir, f'{language}wiki/')"
   ]
  },
  {
   "cell_type": "code",
   "execution_count": 13,
   "id": "6d3ebc6c",
   "metadata": {},
   "outputs": [],
   "source": [
    "#- loop over .csv files create dataframes\n",
    "df = pd.DataFrame(columns = ['article_id', 'title', 'text'])\n",
    "# iterate over directory for each file path, create a dataframe\n",
    "for file in os.listdir(inputfp):\n",
    "    fp = os.path.join(inputfp, file)\n",
    "    df_temp = pd.read_csv(fp)\n",
    "    df = pd.concat([df, df_temp])"
   ]
  },
  {
   "cell_type": "code",
   "execution_count": 4,
   "id": "caf5a970",
   "metadata": {},
   "outputs": [],
   "source": [
    "def count_pars(article):\n",
    "    \"\"\"count number of paragraphs in an article\"\"\"\n",
    "    count = 0 # initialise count at 0\n",
    "\n",
    "    # split article into paragraphs (by using '\\n' as end of paragraph)\n",
    "    paragraphs = article.splitlines()\n",
    "    for paragraph in paragraphs:\n",
    "        # if paragraph empty skip\n",
    "        if not paragraph:\n",
    "            continue\n",
    "\n",
    "        # check if paragraph > 2\n",
    "        length = len(paragraph.split(' '))\n",
    "        if length >= 2:\n",
    "            count += 1\n",
    "    \n",
    "    return count"
   ]
  },
  {
   "cell_type": "code",
   "execution_count": 14,
   "id": "0e6a0233",
   "metadata": {},
   "outputs": [
    {
     "data": {
      "application/vnd.jupyter.widget-view+json": {
       "model_id": "e73d2f25e617449ab37e6073797875c7",
       "version_major": 2,
       "version_minor": 0
      },
      "text/plain": [
       "Articles processed:   0%|          | 0/274578 [00:00<?, ?it/s]"
      ]
     },
     "metadata": {},
     "output_type": "display_data"
    },
    {
     "name": "stdout",
     "output_type": "stream",
     "text": [
      "Total number of paragraphs where a collocation could occur is: 6005355\n"
     ]
    }
   ],
   "source": [
    "# loop over multiple articles\n",
    "total_count = 0\n",
    "for article in tqdm(df.text, total = len(df.text), desc = \"Articles processed\"):\n",
    "    total_count += count_pars(article)\n",
    "\n",
    "    \n",
    "print(f\"Total number of paragraphs where a collocation could occur is: {total_count}\")"
   ]
  },
  {
   "cell_type": "markdown",
   "id": "1bbba1e4",
   "metadata": {},
   "source": [
    "number of paragraphs for **english**:\\\n",
    "Total number of paragraphs where a collocation could occur is: **10,436,996**  \n",
    "  \n",
    "  \n",
    "  \n",
    "number of paragraphs for **french**:\\\n",
    "Total number of paragraphs where a collocation could occur is: **6,005,355**"
   ]
  },
  {
   "cell_type": "code",
   "execution_count": null,
   "id": "a605be86",
   "metadata": {},
   "outputs": [],
   "source": []
  }
 ],
 "metadata": {
  "kernelspec": {
   "display_name": "Python 3 (ipykernel)",
   "language": "python",
   "name": "python3"
  },
  "language_info": {
   "codemirror_mode": {
    "name": "ipython",
    "version": 3
   },
   "file_extension": ".py",
   "mimetype": "text/x-python",
   "name": "python",
   "nbconvert_exporter": "python",
   "pygments_lexer": "ipython3",
   "version": "3.10.4"
  }
 },
 "nbformat": 4,
 "nbformat_minor": 5
}
