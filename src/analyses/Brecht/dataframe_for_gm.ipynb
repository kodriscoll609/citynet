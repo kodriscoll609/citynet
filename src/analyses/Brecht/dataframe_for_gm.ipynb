{
 "cells": [
  {
   "cell_type": "markdown",
   "id": "ebfbafb7",
   "metadata": {},
   "source": [
    "# Creation of dataframe for gravity model\n",
    "\n",
    "- join on cityname\n",
    "- create city dataframe (nodes)\n",
    "- create separate city-pairs dataframes (basically edges)\n",
    "- calculate distances"
   ]
  },
  {
   "cell_type": "code",
   "execution_count": 1,
   "id": "20e78767",
   "metadata": {},
   "outputs": [],
   "source": [
    "import pandas as pd\n",
    "import geopandas as gpd\n",
    "import numpy as np\n",
    "import os\n",
    "import re\n",
    "from tqdm.notebook import tqdm\n",
    "import unidecode\n",
    "from collections import Counter\n",
    "import shapely"
   ]
  },
  {
   "cell_type": "code",
   "execution_count": 2,
   "id": "ce17d1f7",
   "metadata": {},
   "outputs": [],
   "source": [
    "INDIR = \"../../input\"\n",
    "OUTDIR = \"../../output\"\n",
    "DATADIR = \"../../../../data\"\n",
    "FILE_cities = \"List_of_cities_300k.csv\"\n",
    "FILE_coords = \"euro-global-map-shp/data/FullEurope/BuiltupP.shp\" #path/to/shapefile"
   ]
  },
  {
   "cell_type": "code",
   "execution_count": 3,
   "id": "5841168c",
   "metadata": {},
   "outputs": [
    {
     "data": {
      "text/html": [
       "<div>\n",
       "<style scoped>\n",
       "    .dataframe tbody tr th:only-of-type {\n",
       "        vertical-align: middle;\n",
       "    }\n",
       "\n",
       "    .dataframe tbody tr th {\n",
       "        vertical-align: top;\n",
       "    }\n",
       "\n",
       "    .dataframe thead th {\n",
       "        text-align: right;\n",
       "    }\n",
       "</style>\n",
       "<table border=\"1\" class=\"dataframe\">\n",
       "  <thead>\n",
       "    <tr style=\"text-align: right;\">\n",
       "      <th></th>\n",
       "      <th>id_MUA</th>\n",
       "      <th>Mua</th>\n",
       "      <th>Mua_en</th>\n",
       "      <th>Mua_fr</th>\n",
       "      <th>SizeMUA1k</th>\n",
       "      <th>EU15</th>\n",
       "      <th>Code_Country</th>\n",
       "      <th>NUTS_1</th>\n",
       "      <th>NUTS_2</th>\n",
       "      <th>NUTS_3</th>\n",
       "      <th>...</th>\n",
       "      <th>PUR</th>\n",
       "      <th>Supra_poly_fua</th>\n",
       "      <th>PIA</th>\n",
       "      <th>Name_supra_poly_fua</th>\n",
       "      <th>Poly_fua</th>\n",
       "      <th>id_poly_fua</th>\n",
       "      <th>Name_poly_fua</th>\n",
       "      <th>SizeHinterland1k</th>\n",
       "      <th>GDP_per_capita</th>\n",
       "      <th>Dummy_Capital</th>\n",
       "    </tr>\n",
       "  </thead>\n",
       "  <tbody>\n",
       "    <tr>\n",
       "      <th>0</th>\n",
       "      <td>FR00810</td>\n",
       "      <td>Paris</td>\n",
       "      <td>Paris</td>\n",
       "      <td>Paris</td>\n",
       "      <td>9591</td>\n",
       "      <td>1</td>\n",
       "      <td>FR</td>\n",
       "      <td>FR1</td>\n",
       "      <td>FR10</td>\n",
       "      <td>FR101</td>\n",
       "      <td>...</td>\n",
       "      <td></td>\n",
       "      <td>0</td>\n",
       "      <td>PIA_Paris</td>\n",
       "      <td>99</td>\n",
       "      <td>0</td>\n",
       "      <td></td>\n",
       "      <td></td>\n",
       "      <td>1201</td>\n",
       "      <td>44</td>\n",
       "      <td>1</td>\n",
       "    </tr>\n",
       "    <tr>\n",
       "      <th>1</th>\n",
       "      <td>UK01886</td>\n",
       "      <td>London</td>\n",
       "      <td>London</td>\n",
       "      <td>Londres</td>\n",
       "      <td>8256</td>\n",
       "      <td>1</td>\n",
       "      <td>UK</td>\n",
       "      <td>UKI</td>\n",
       "      <td>UKI1</td>\n",
       "      <td>UKI11</td>\n",
       "      <td>...</td>\n",
       "      <td></td>\n",
       "      <td>0</td>\n",
       "      <td>PIA_London</td>\n",
       "      <td>99</td>\n",
       "      <td>0</td>\n",
       "      <td></td>\n",
       "      <td></td>\n",
       "      <td>2752</td>\n",
       "      <td>45</td>\n",
       "      <td>1</td>\n",
       "    </tr>\n",
       "    <tr>\n",
       "      <th>2</th>\n",
       "      <td>ES00540</td>\n",
       "      <td>Madrid</td>\n",
       "      <td>Madrid</td>\n",
       "      <td>Madrid</td>\n",
       "      <td>4955</td>\n",
       "      <td>1</td>\n",
       "      <td>ES</td>\n",
       "      <td>ES3</td>\n",
       "      <td>ES30</td>\n",
       "      <td>ES300</td>\n",
       "      <td>...</td>\n",
       "      <td></td>\n",
       "      <td>0</td>\n",
       "      <td>PIA_Madrid</td>\n",
       "      <td>99</td>\n",
       "      <td>0</td>\n",
       "      <td></td>\n",
       "      <td></td>\n",
       "      <td>308</td>\n",
       "      <td>29</td>\n",
       "      <td>1</td>\n",
       "    </tr>\n",
       "    <tr>\n",
       "      <th>3</th>\n",
       "      <td>DE00219</td>\n",
       "      <td>Berlin</td>\n",
       "      <td>Berlin</td>\n",
       "      <td>Berlin</td>\n",
       "      <td>3776</td>\n",
       "      <td>1</td>\n",
       "      <td>DE</td>\n",
       "      <td>DE3</td>\n",
       "      <td>DE30</td>\n",
       "      <td>DE300</td>\n",
       "      <td>...</td>\n",
       "      <td></td>\n",
       "      <td>0</td>\n",
       "      <td>PIA_Berlin</td>\n",
       "      <td>99</td>\n",
       "      <td>0</td>\n",
       "      <td></td>\n",
       "      <td></td>\n",
       "      <td>240</td>\n",
       "      <td>22</td>\n",
       "      <td>1</td>\n",
       "    </tr>\n",
       "    <tr>\n",
       "      <th>4</th>\n",
       "      <td>IT01156</td>\n",
       "      <td>Milano</td>\n",
       "      <td>Milan</td>\n",
       "      <td>Milan</td>\n",
       "      <td>3698</td>\n",
       "      <td>1</td>\n",
       "      <td>IT</td>\n",
       "      <td>ITC</td>\n",
       "      <td>ITC4</td>\n",
       "      <td>ITC45</td>\n",
       "      <td>...</td>\n",
       "      <td>Milano</td>\n",
       "      <td>0</td>\n",
       "      <td>PIA_Milano</td>\n",
       "      <td>99</td>\n",
       "      <td>1</td>\n",
       "      <td>IT03</td>\n",
       "      <td>Milano metropolitan area</td>\n",
       "      <td>604</td>\n",
       "      <td>35</td>\n",
       "      <td>0</td>\n",
       "    </tr>\n",
       "  </tbody>\n",
       "</table>\n",
       "<p>5 rows × 26 columns</p>\n",
       "</div>"
      ],
      "text/plain": [
       "    id_MUA     Mua  Mua_en   Mua_fr  SizeMUA1k  EU15 Code_Country NUTS_1  \\\n",
       "0  FR00810   Paris   Paris    Paris       9591     1           FR    FR1   \n",
       "1  UK01886  London  London  Londres       8256     1           UK    UKI   \n",
       "2  ES00540  Madrid  Madrid   Madrid       4955     1           ES    ES3   \n",
       "3  DE00219  Berlin  Berlin   Berlin       3776     1           DE    DE3   \n",
       "4  IT01156  Milano   Milan    Milan       3698     1           IT    ITC   \n",
       "\n",
       "  NUTS_2 NUTS_3  ...     PUR Supra_poly_fua         PIA Name_supra_poly_fua  \\\n",
       "0   FR10  FR101  ...                      0   PIA_Paris                  99   \n",
       "1   UKI1  UKI11  ...                      0  PIA_London                  99   \n",
       "2   ES30  ES300  ...                      0  PIA_Madrid                  99   \n",
       "3   DE30  DE300  ...                      0  PIA_Berlin                  99   \n",
       "4   ITC4  ITC45  ...  Milano              0  PIA_Milano                  99   \n",
       "\n",
       "  Poly_fua id_poly_fua             Name_poly_fua  SizeHinterland1k  \\\n",
       "0        0                                                    1201   \n",
       "1        0                                                    2752   \n",
       "2        0                                                     308   \n",
       "3        0                                                     240   \n",
       "4        1        IT03  Milano metropolitan area               604   \n",
       "\n",
       "  GDP_per_capita  Dummy_Capital  \n",
       "0             44              1  \n",
       "1             45              1  \n",
       "2             29              1  \n",
       "3             22              1  \n",
       "4             35              0  \n",
       "\n",
       "[5 rows x 26 columns]"
      ]
     },
     "execution_count": 3,
     "metadata": {},
     "output_type": "execute_result"
    }
   ],
   "source": [
    "# load citylist\n",
    "list_of_cities = pd.read_csv(os.path.join(INDIR, FILE_cities), sep=\";\")\n",
    "list_of_cities.head()"
   ]
  },
  {
   "cell_type": "markdown",
   "id": "de36a1f2",
   "metadata": {},
   "source": [
    "## Select relevant coordinates"
   ]
  },
  {
   "cell_type": "code",
   "execution_count": 4,
   "id": "49a00d77",
   "metadata": {},
   "outputs": [],
   "source": [
    "built_up_complete = gpd.read_file(os.path.join(DATADIR, FILE_coords))"
   ]
  },
  {
   "cell_type": "code",
   "execution_count": 5,
   "id": "39b38075",
   "metadata": {},
   "outputs": [
    {
     "data": {
      "text/html": [
       "<div>\n",
       "<style scoped>\n",
       "    .dataframe tbody tr th:only-of-type {\n",
       "        vertical-align: middle;\n",
       "    }\n",
       "\n",
       "    .dataframe tbody tr th {\n",
       "        vertical-align: top;\n",
       "    }\n",
       "\n",
       "    .dataframe thead th {\n",
       "        text-align: right;\n",
       "    }\n",
       "</style>\n",
       "<table border=\"1\" class=\"dataframe\">\n",
       "  <thead>\n",
       "    <tr style=\"text-align: right;\">\n",
       "      <th></th>\n",
       "      <th>OBJECTID</th>\n",
       "      <th>FCsubtype</th>\n",
       "      <th>inspireId</th>\n",
       "      <th>beginLifes</th>\n",
       "      <th>F_CODE</th>\n",
       "      <th>ICC</th>\n",
       "      <th>NAMN1</th>\n",
       "      <th>NAMN2</th>\n",
       "      <th>NAMA1</th>\n",
       "      <th>NAMA2</th>\n",
       "      <th>NLN1</th>\n",
       "      <th>NLN2</th>\n",
       "      <th>PPL</th>\n",
       "      <th>PP1</th>\n",
       "      <th>PP2</th>\n",
       "      <th>USE</th>\n",
       "      <th>PopulatedP</th>\n",
       "      <th>geometry</th>\n",
       "    </tr>\n",
       "  </thead>\n",
       "  <tbody>\n",
       "    <tr>\n",
       "      <th>0</th>\n",
       "      <td>1</td>\n",
       "      <td>1</td>\n",
       "      <td>_EG.EGM.BuiltupP:40c2730a-3a4b-474b-8f55-615cd...</td>\n",
       "      <td>20220125104612</td>\n",
       "      <td>AL020</td>\n",
       "      <td>MD</td>\n",
       "      <td>Cernoleuca</td>\n",
       "      <td>UNK</td>\n",
       "      <td>Cernoleuca</td>\n",
       "      <td>UNK</td>\n",
       "      <td>rum</td>\n",
       "      <td>UNK</td>\n",
       "      <td>1771</td>\n",
       "      <td>-32768</td>\n",
       "      <td>-32768</td>\n",
       "      <td>3</td>\n",
       "      <td>N.MD.BUILTUP.000823</td>\n",
       "      <td>POINT (27.56031 48.31269)</td>\n",
       "    </tr>\n",
       "    <tr>\n",
       "      <th>1</th>\n",
       "      <td>2</td>\n",
       "      <td>1</td>\n",
       "      <td>_EG.EGM.BuiltupP:f90e3db3-2ef5-4cf7-95ba-2f99f...</td>\n",
       "      <td>20220125104612</td>\n",
       "      <td>AL020</td>\n",
       "      <td>MD</td>\n",
       "      <td>Mo?ana</td>\n",
       "      <td>UNK</td>\n",
       "      <td>Mosana</td>\n",
       "      <td>UNK</td>\n",
       "      <td>rum</td>\n",
       "      <td>UNK</td>\n",
       "      <td>1630</td>\n",
       "      <td>-32768</td>\n",
       "      <td>-32768</td>\n",
       "      <td>3</td>\n",
       "      <td>N.MD.BUILTUP.000825</td>\n",
       "      <td>POINT (27.68990 48.32328)</td>\n",
       "    </tr>\n",
       "    <tr>\n",
       "      <th>2</th>\n",
       "      <td>3</td>\n",
       "      <td>1</td>\n",
       "      <td>_EG.EGM.BuiltupP:d947c478-818e-41ed-91a2-0aa79...</td>\n",
       "      <td>20220125104612</td>\n",
       "      <td>AL020</td>\n",
       "      <td>MD</td>\n",
       "      <td>Gribova</td>\n",
       "      <td>UNK</td>\n",
       "      <td>Gribova</td>\n",
       "      <td>UNK</td>\n",
       "      <td>rum</td>\n",
       "      <td>UNK</td>\n",
       "      <td>2101</td>\n",
       "      <td>-32768</td>\n",
       "      <td>-32768</td>\n",
       "      <td>3</td>\n",
       "      <td>N.MD.BUILTUP.000831</td>\n",
       "      <td>POINT (27.93089 48.01388)</td>\n",
       "    </tr>\n",
       "    <tr>\n",
       "      <th>3</th>\n",
       "      <td>4</td>\n",
       "      <td>1</td>\n",
       "      <td>_EG.EGM.BuiltupP:0f9b7f83-5249-4030-9933-417ed...</td>\n",
       "      <td>20220125104612</td>\n",
       "      <td>AL020</td>\n",
       "      <td>MD</td>\n",
       "      <td>Chirca</td>\n",
       "      <td>UNK</td>\n",
       "      <td>Chirca</td>\n",
       "      <td>UNK</td>\n",
       "      <td>rum</td>\n",
       "      <td>UNK</td>\n",
       "      <td>1704</td>\n",
       "      <td>-32768</td>\n",
       "      <td>-32768</td>\n",
       "      <td>3</td>\n",
       "      <td>N.MD.BUILTUP.000838</td>\n",
       "      <td>POINT (29.10819 46.92171)</td>\n",
       "    </tr>\n",
       "    <tr>\n",
       "      <th>4</th>\n",
       "      <td>5</td>\n",
       "      <td>1</td>\n",
       "      <td>_EG.EGM.BuiltupP:0e4be3d7-1937-4614-a7fd-f6bd2...</td>\n",
       "      <td>20220125104612</td>\n",
       "      <td>AL020</td>\n",
       "      <td>MD</td>\n",
       "      <td>Delac?u</td>\n",
       "      <td>UNK</td>\n",
       "      <td>Delacau</td>\n",
       "      <td>UNK</td>\n",
       "      <td>rum</td>\n",
       "      <td>UNK</td>\n",
       "      <td>2126</td>\n",
       "      <td>-32768</td>\n",
       "      <td>-32768</td>\n",
       "      <td>3</td>\n",
       "      <td>N.MD.BUILTUP.000840</td>\n",
       "      <td>POINT (29.30339 47.09902)</td>\n",
       "    </tr>\n",
       "  </tbody>\n",
       "</table>\n",
       "</div>"
      ],
      "text/plain": [
       "   OBJECTID  FCsubtype                                          inspireId  \\\n",
       "0         1          1  _EG.EGM.BuiltupP:40c2730a-3a4b-474b-8f55-615cd...   \n",
       "1         2          1  _EG.EGM.BuiltupP:f90e3db3-2ef5-4cf7-95ba-2f99f...   \n",
       "2         3          1  _EG.EGM.BuiltupP:d947c478-818e-41ed-91a2-0aa79...   \n",
       "3         4          1  _EG.EGM.BuiltupP:0f9b7f83-5249-4030-9933-417ed...   \n",
       "4         5          1  _EG.EGM.BuiltupP:0e4be3d7-1937-4614-a7fd-f6bd2...   \n",
       "\n",
       "       beginLifes F_CODE ICC       NAMN1 NAMN2       NAMA1 NAMA2 NLN1 NLN2  \\\n",
       "0  20220125104612  AL020  MD  Cernoleuca   UNK  Cernoleuca   UNK  rum  UNK   \n",
       "1  20220125104612  AL020  MD      Mo?ana   UNK      Mosana   UNK  rum  UNK   \n",
       "2  20220125104612  AL020  MD     Gribova   UNK     Gribova   UNK  rum  UNK   \n",
       "3  20220125104612  AL020  MD      Chirca   UNK      Chirca   UNK  rum  UNK   \n",
       "4  20220125104612  AL020  MD     Delac?u   UNK     Delacau   UNK  rum  UNK   \n",
       "\n",
       "    PPL    PP1    PP2  USE           PopulatedP                   geometry  \n",
       "0  1771 -32768 -32768    3  N.MD.BUILTUP.000823  POINT (27.56031 48.31269)  \n",
       "1  1630 -32768 -32768    3  N.MD.BUILTUP.000825  POINT (27.68990 48.32328)  \n",
       "2  2101 -32768 -32768    3  N.MD.BUILTUP.000831  POINT (27.93089 48.01388)  \n",
       "3  1704 -32768 -32768    3  N.MD.BUILTUP.000838  POINT (29.10819 46.92171)  \n",
       "4  2126 -32768 -32768    3  N.MD.BUILTUP.000840  POINT (29.30339 47.09902)  "
      ]
     },
     "execution_count": 5,
     "metadata": {},
     "output_type": "execute_result"
    }
   ],
   "source": [
    "built_up_complete.head(5)"
   ]
  },
  {
   "cell_type": "code",
   "execution_count": 6,
   "id": "52a1c12a",
   "metadata": {
    "scrolled": true
   },
   "outputs": [
    {
     "data": {
      "text/plain": [
       "(72846, 18)"
      ]
     },
     "execution_count": 6,
     "metadata": {},
     "output_type": "execute_result"
    }
   ],
   "source": [
    "built_up_complete.shape"
   ]
  },
  {
   "cell_type": "code",
   "execution_count": 7,
   "id": "15e0265b",
   "metadata": {},
   "outputs": [],
   "source": [
    "built_up = built_up_complete"
   ]
  },
  {
   "cell_type": "code",
   "execution_count": 8,
   "id": "ff49a9a5",
   "metadata": {},
   "outputs": [
    {
     "data": {
      "text/plain": [
       "(72846, 18)"
      ]
     },
     "execution_count": 8,
     "metadata": {},
     "output_type": "execute_result"
    }
   ],
   "source": [
    "built_up.shape"
   ]
  },
  {
   "cell_type": "code",
   "execution_count": 9,
   "id": "ca98910c",
   "metadata": {},
   "outputs": [],
   "source": [
    "muas = list(list_of_cities.Mua)"
   ]
  },
  {
   "cell_type": "code",
   "execution_count": 10,
   "id": "0467a250",
   "metadata": {},
   "outputs": [],
   "source": [
    "mua_dict = dict()\n",
    "\n",
    "for index, row in list_of_cities.iterrows():\n",
    "    if row['Code_Country'] == 'UK': \n",
    "        mua_dict[row['Mua']] = 'GB'\n",
    "    else: \n",
    "        mua_dict[row['Mua']] = row['Code_Country']\n",
    "    "
   ]
  },
  {
   "cell_type": "markdown",
   "id": "e48e4c10",
   "metadata": {},
   "source": [
    "### Names with issues:\n",
    "\n",
    "At least some of these non matches are combined cities. For these it is probably easiest to choose the coordinates of one. (although i guess the best option would be to calculate the midpoint between the combined cities and then take that);\n",
    "\n",
    "Another problem is that unidecode replaces 'ü' with 'u' while the `NAMA1` variable lists this with 'ue'. Same for 'oe'.\n",
    "\n",
    "Den Haag --> 's-Gravenhage (den Haag listed as NAMA2)\n",
    "\n",
    "**Manual edits**\n",
    "\n",
    "Antwerp listed with its dutch/flemish name Antwerpen. Brussels as Brussel\n",
    "\n",
    "Don't understand what is happening to Lyon and Marseille. (listed only with arrondissement numbers in name, e.g. 'Lyon 1er Arrondissement')\n",
    "\n",
    "error for Gent (negative population number)  \n",
    "Sofia should be done manually as well (other Sofias are present but Sofia, BU is listed as 'S?fiya')\n",
    "\n",
    "Stoke --> Stoke-on-Trent\n",
    "Belfast cause country code does not match\n",
    "\n",
    "Plovdiv --> Pl?vdiv\n",
    "\n",
    "Wuppertal not in the dataset. \n",
    "\n",
    "suggested process:\n",
    "1. un-decoded (so with accents). match to NAMA1 first. \n",
    "2. Then new list with left over cities, match to NAMN1 (for the umlauts).\n",
    "3. left-over match to NAMN2\n",
    "4. Manually match remaining cities\n",
    "\n",
    "\n"
   ]
  },
  {
   "cell_type": "code",
   "execution_count": 11,
   "id": "e7929b6a",
   "metadata": {},
   "outputs": [],
   "source": [
    "cities = []\n",
    "for index, row in built_up.iterrows(): \n",
    "    if row['NAMA1'] in mua_dict and row['ICC'] == mua_dict[row['NAMA1']]:\n",
    "        cities.append(row['NAMA1'])\n",
    "    elif row['NAMN1'] in mua_dict and row['ICC'] == mua_dict[row['NAMN1']]:\n",
    "        cities.append(row['NAMN1'])\n",
    "    elif row['NAMN2'] in mua_dict and row['ICC'] == mua_dict[row['NAMN2']]: \n",
    "        cities.append(row['NAMN2'])"
   ]
  },
  {
   "cell_type": "code",
   "execution_count": 12,
   "id": "c4b77815",
   "metadata": {},
   "outputs": [
    {
     "data": {
      "text/plain": [
       "137"
      ]
     },
     "execution_count": 12,
     "metadata": {},
     "output_type": "execute_result"
    }
   ],
   "source": [
    "len(cities)"
   ]
  },
  {
   "cell_type": "code",
   "execution_count": 13,
   "id": "32045b3b",
   "metadata": {},
   "outputs": [
    {
     "name": "stdout",
     "output_type": "stream",
     "text": [
      "Bremen\n",
      "Leeds\n"
     ]
    }
   ],
   "source": [
    "city_counts = Counter(cities) \n",
    "for key in city_counts:\n",
    "    if city_counts[key] > 1:\n",
    "        print(key)"
   ]
  },
  {
   "cell_type": "code",
   "execution_count": 14,
   "id": "1c386197",
   "metadata": {
    "scrolled": true
   },
   "outputs": [],
   "source": [
    "# cities not automatically matched\n",
    "leftovers = []\n",
    "for city in muas:\n",
    "    if city not in cities:\n",
    "        leftovers.append(city)"
   ]
  },
  {
   "cell_type": "code",
   "execution_count": 15,
   "id": "3757b465",
   "metadata": {},
   "outputs": [
    {
     "name": "stdout",
     "output_type": "stream",
     "text": [
      "14\n",
      "16\n"
     ]
    }
   ],
   "source": [
    "# length of complete list - length of initial 'matches'\n",
    "print(len(muas) - len(cities))\n",
    "\n",
    "# length unmatched cities\n",
    "print(len(leftovers))"
   ]
  },
  {
   "cell_type": "code",
   "execution_count": 16,
   "id": "caf99719",
   "metadata": {
    "scrolled": false
   },
   "outputs": [
    {
     "data": {
      "text/plain": [
       "['Brussels',\n",
       " 'Kobenhavn',\n",
       " 'Lyon',\n",
       " 'Sofia',\n",
       " 'Essen-Oberhausen',\n",
       " 'Marseille',\n",
       " 'Antwerp',\n",
       " 'Bochum-Herne',\n",
       " 'Gelsenkirchen-Bottrop',\n",
       " 'Belfast',\n",
       " 'Palma de Mallorca',\n",
       " 'Wuppertal',\n",
       " 'Castellammare di Stabia-Torre Annunziata',\n",
       " 'Plovdiv',\n",
       " 'Alicanta',\n",
       " 'La Coruna']"
      ]
     },
     "execution_count": 16,
     "metadata": {},
     "output_type": "execute_result"
    }
   ],
   "source": [
    "leftovers"
   ]
  },
  {
   "cell_type": "code",
   "execution_count": 17,
   "id": "1a9be62c",
   "metadata": {},
   "outputs": [],
   "source": [
    "manual_names_v = {\"Pl?vdiv\":\"Plovdiv\", \n",
    "                \"S?fiya\":\"Sofia\", \n",
    "                \"Koebenhavn\": \"Kobenhavn\", \n",
    "                \"Brussel\": \"Brussels\", \n",
    "                \"Antwerpen\": \"Antwerp\",\n",
    "                \"A Coruna\": \"La Coruna\", \n",
    "                \"Alacant/Alicante\": \"Alicanta\", \n",
    "                \"Lyon 1er Arrondissement\": \"Lyon\", \n",
    "                \"Marseille 1er Arrondissement\": \"Marseille\", \n",
    "                \"Mallorca\": \"Palma de Mallorca\"}"
   ]
  },
  {
   "cell_type": "code",
   "execution_count": 18,
   "id": "2e2eb0c6",
   "metadata": {},
   "outputs": [],
   "source": [
    "# add one of the compound cities to the dictionary\n",
    "for city in leftovers:\n",
    "    if '-' in city:\n",
    "        manual_names_v[city.split('-')[0]] = city"
   ]
  },
  {
   "cell_type": "code",
   "execution_count": 19,
   "id": "8257f3c2",
   "metadata": {},
   "outputs": [
    {
     "data": {
      "text/plain": [
       "{'Pl?vdiv': 'Plovdiv',\n",
       " 'S?fiya': 'Sofia',\n",
       " 'Koebenhavn': 'Kobenhavn',\n",
       " 'Brussel': 'Brussels',\n",
       " 'Antwerpen': 'Antwerp',\n",
       " 'A Coruna': 'La Coruna',\n",
       " 'Alacant/Alicante': 'Alicanta',\n",
       " 'Lyon 1er Arrondissement': 'Lyon',\n",
       " 'Marseille 1er Arrondissement': 'Marseille',\n",
       " 'Mallorca': 'Palma de Mallorca',\n",
       " 'Essen': 'Essen-Oberhausen',\n",
       " 'Bochum': 'Bochum-Herne',\n",
       " 'Gelsenkirchen': 'Gelsenkirchen-Bottrop',\n",
       " 'Castellammare di Stabia': 'Castellammare di Stabia-Torre Annunziata'}"
      ]
     },
     "execution_count": 19,
     "metadata": {},
     "output_type": "execute_result"
    }
   ],
   "source": [
    "manual_names_v"
   ]
  },
  {
   "cell_type": "code",
   "execution_count": 20,
   "id": "a4376c3a",
   "metadata": {},
   "outputs": [],
   "source": [
    "manual_names_r = {value: key for key, value in manual_names_v.items()}"
   ]
  },
  {
   "cell_type": "code",
   "execution_count": 21,
   "id": "7e823b8d",
   "metadata": {},
   "outputs": [
    {
     "data": {
      "text/plain": [
       "{'Plovdiv': 'Pl?vdiv',\n",
       " 'Sofia': 'S?fiya',\n",
       " 'Kobenhavn': 'Koebenhavn',\n",
       " 'Brussels': 'Brussel',\n",
       " 'Antwerp': 'Antwerpen',\n",
       " 'La Coruna': 'A Coruna',\n",
       " 'Alicanta': 'Alacant/Alicante',\n",
       " 'Lyon': 'Lyon 1er Arrondissement',\n",
       " 'Marseille': 'Marseille 1er Arrondissement',\n",
       " 'Palma de Mallorca': 'Mallorca',\n",
       " 'Essen-Oberhausen': 'Essen',\n",
       " 'Bochum-Herne': 'Bochum',\n",
       " 'Gelsenkirchen-Bottrop': 'Gelsenkirchen',\n",
       " 'Castellammare di Stabia-Torre Annunziata': 'Castellammare di Stabia'}"
      ]
     },
     "execution_count": 21,
     "metadata": {},
     "output_type": "execute_result"
    }
   ],
   "source": [
    "manual_names_r"
   ]
  },
  {
   "cell_type": "code",
   "execution_count": 22,
   "id": "cf5f33f3",
   "metadata": {},
   "outputs": [],
   "source": [
    "for key in manual_names_v:\n",
    "    mua_dict[key] = mua_dict[manual_names_v[key]]"
   ]
  },
  {
   "cell_type": "code",
   "execution_count": 23,
   "id": "922ae232",
   "metadata": {},
   "outputs": [
    {
     "data": {
      "text/plain": [
       "{'Paris': 'FR',\n",
       " 'London': 'GB',\n",
       " 'Madrid': 'ES',\n",
       " 'Berlin': 'DE',\n",
       " 'Milano': 'IT',\n",
       " 'Barcelona': 'ES',\n",
       " 'Athinai': 'GR',\n",
       " 'Roma': 'IT',\n",
       " 'Birmingham': 'GB',\n",
       " 'Lisboa': 'PT',\n",
       " 'Napoli': 'IT',\n",
       " 'Katowice': 'PL',\n",
       " 'Manchester': 'GB',\n",
       " 'Hamburg': 'DE',\n",
       " 'Budapest': 'HU',\n",
       " 'Bucuresti': 'RO',\n",
       " 'Warszawa': 'PL',\n",
       " 'Stuttgart': 'DE',\n",
       " 'Wien': 'AT',\n",
       " 'München': 'DE',\n",
       " 'Brussels': 'BE',\n",
       " 'Stockholm': 'SE',\n",
       " 'Frankfurt am Main': 'DE',\n",
       " 'Köln': 'DE',\n",
       " 'Kobenhavn': 'DK',\n",
       " 'Valencia': 'ES',\n",
       " 'Torino': 'IT',\n",
       " 'Glasgow': 'GB',\n",
       " 'Praha': 'CZ',\n",
       " 'Lyon': 'FR',\n",
       " 'Sofia': 'BG',\n",
       " 'Liverpool': 'GB',\n",
       " 'Porto': 'PT',\n",
       " 'Sevilla': 'ES',\n",
       " 'Dublin': 'IE',\n",
       " 'Helsinki': 'FI',\n",
       " 'Amsterdam': 'NL',\n",
       " 'Rotterdam': 'NL',\n",
       " 'Düsseldorf': 'DE',\n",
       " 'Essen-Oberhausen': 'DE',\n",
       " 'Lille': 'FR',\n",
       " 'Lodz': 'PL',\n",
       " 'Marseille': 'FR',\n",
       " 'Antwerp': 'BE',\n",
       " 'Bilbao': 'ES',\n",
       " 'Newcastle upon Tyne': 'GB',\n",
       " 'Krakow': 'PL',\n",
       " 'Bochum-Herne': 'DE',\n",
       " 'Thessaloniki': 'GR',\n",
       " 'Nürnberg': 'DE',\n",
       " 'Riga': 'LV',\n",
       " 'Duisburg': 'DE',\n",
       " 'Dortmund': 'DE',\n",
       " 'Hannover': 'DE',\n",
       " 'Zürich': 'CH',\n",
       " 'Oslo': 'NO',\n",
       " 'Bremen': 'DE',\n",
       " 'Dresden': 'DE',\n",
       " 'Sheffield': 'GB',\n",
       " 'Palermo': 'IT',\n",
       " 'Poznan': 'PL',\n",
       " 'Gelsenkirchen-Bottrop': 'DE',\n",
       " 'Bordeaux': 'FR',\n",
       " 'Wroclaw': 'PL',\n",
       " 'Göteborg': 'SE',\n",
       " 'Zaragoza': 'ES',\n",
       " 'Genova': 'IT',\n",
       " 'Catania': 'IT',\n",
       " 'Den Haag': 'NL',\n",
       " 'Toulouse': 'FR',\n",
       " 'Bristol': 'GB',\n",
       " 'Vilnius': 'LT',\n",
       " 'Saarbrücken': 'DE',\n",
       " 'Malaga': 'ES',\n",
       " 'Nantes': 'FR',\n",
       " 'Leeds': 'GB',\n",
       " 'Nottingham': 'GB',\n",
       " 'Firenze': 'IT',\n",
       " 'Gdansk': 'PL',\n",
       " 'Leipzig': 'DE',\n",
       " 'Mannheim': 'DE',\n",
       " 'Belfast': 'GB',\n",
       " 'Portsmouth': 'GB',\n",
       " 'Venezia': 'IT',\n",
       " 'Edinburgh': 'GB',\n",
       " 'Murcia': 'ES',\n",
       " 'Nice': 'FR',\n",
       " 'Liège': 'BE',\n",
       " 'Bratislava': 'SK',\n",
       " 'Leicester': 'GB',\n",
       " 'Karlsruhe': 'DE',\n",
       " 'Bergamo': 'IT',\n",
       " 'Palma de Mallorca': 'ES',\n",
       " 'Bologna': 'IT',\n",
       " 'Bielefeld': 'DE',\n",
       " 'Rouen': 'FR',\n",
       " 'Strasbourg': 'FR',\n",
       " 'Tallinn': 'EE',\n",
       " 'Szczecin': 'PL',\n",
       " 'Grenoble': 'FR',\n",
       " 'Bari': 'IT',\n",
       " 'Toulon': 'FR',\n",
       " 'Brighton': 'GB',\n",
       " 'Darmstadt': 'DE',\n",
       " 'Wuppertal': 'DE',\n",
       " 'Utrecht': 'NL',\n",
       " 'Bournemouth': 'GB',\n",
       " 'Middlesbrough': 'GB',\n",
       " 'Genève': 'CH',\n",
       " 'Bydgoszcz': 'PL',\n",
       " 'Basel': 'CH',\n",
       " 'Kaunas': 'LT',\n",
       " 'Brno': 'CZ',\n",
       " 'Southampton': 'GB',\n",
       " 'Lens': 'FR',\n",
       " 'Augsburg': 'DE',\n",
       " 'Padova': 'IT',\n",
       " 'Ostrava': 'CZ',\n",
       " 'Las Palmas de Gran Canaria': 'ES',\n",
       " 'Constanta': 'RO',\n",
       " 'Castellammare di Stabia-Torre Annunziata': 'IT',\n",
       " 'Stoke-on-Trent': 'GB',\n",
       " 'Santa Cruz de Tenerife': 'ES',\n",
       " 'Lublin': 'PL',\n",
       " 'Cardiff': 'GB',\n",
       " 'Iasi': 'RO',\n",
       " 'Plovdiv': 'BG',\n",
       " 'Bradford': 'GB',\n",
       " 'Alicanta': 'ES',\n",
       " 'Cluj-Napoca': 'RO',\n",
       " 'Granada': 'ES',\n",
       " 'Timisoara': 'RO',\n",
       " 'Brescia': 'IT',\n",
       " 'Galati': 'RO',\n",
       " 'Montpellier': 'FR',\n",
       " 'Varna': 'BG',\n",
       " 'Verona': 'IT',\n",
       " 'Busto Arsizio': 'IT',\n",
       " 'Valladolid': 'ES',\n",
       " 'Eindhoven': 'NL',\n",
       " 'Charleroi': 'BE',\n",
       " 'Cordoba': 'ES',\n",
       " 'La Coruna': 'ES',\n",
       " 'Craiova': 'RO',\n",
       " 'Caserta': 'IT',\n",
       " 'Coventry': 'GB',\n",
       " 'Brasov': 'RO',\n",
       " 'Bonn': 'DE',\n",
       " 'Valletta': 'MT',\n",
       " 'Gent': 'BE',\n",
       " 'Gdynia': 'PL',\n",
       " 'Pl?vdiv': 'BG',\n",
       " 'S?fiya': 'BG',\n",
       " 'Koebenhavn': 'DK',\n",
       " 'Brussel': 'BE',\n",
       " 'Antwerpen': 'BE',\n",
       " 'A Coruna': 'ES',\n",
       " 'Alacant/Alicante': 'ES',\n",
       " 'Lyon 1er Arrondissement': 'FR',\n",
       " 'Marseille 1er Arrondissement': 'FR',\n",
       " 'Mallorca': 'ES',\n",
       " 'Essen': 'DE',\n",
       " 'Bochum': 'DE',\n",
       " 'Gelsenkirchen': 'DE',\n",
       " 'Castellammare di Stabia': 'IT'}"
      ]
     },
     "execution_count": 23,
     "metadata": {},
     "output_type": "execute_result"
    }
   ],
   "source": [
    "mua_dict"
   ]
  },
  {
   "cell_type": "code",
   "execution_count": 24,
   "id": "39fff71f",
   "metadata": {},
   "outputs": [],
   "source": [
    "cities = []\n",
    "for index, row in built_up.iterrows(): \n",
    "    if row['NAMA1'] in mua_dict and row['ICC'] == mua_dict[row['NAMA1']]:\n",
    "        cities.append(row['NAMA1'])\n",
    "    elif row['NAMN1'] in mua_dict and row['ICC'] == mua_dict[row['NAMN1']]:\n",
    "        cities.append(row['NAMN1'])\n",
    "    elif row['NAMN2'] in mua_dict and row['ICC'] == mua_dict[row['NAMN2']]: \n",
    "        cities.append(row['NAMN2'])"
   ]
  },
  {
   "cell_type": "code",
   "execution_count": 25,
   "id": "7976b541",
   "metadata": {},
   "outputs": [
    {
     "data": {
      "text/plain": [
       "151"
      ]
     },
     "execution_count": 25,
     "metadata": {},
     "output_type": "execute_result"
    }
   ],
   "source": [
    "len(cities)"
   ]
  },
  {
   "cell_type": "code",
   "execution_count": 26,
   "id": "e3e7634f",
   "metadata": {},
   "outputs": [],
   "source": [
    "muas_2 = []\n",
    "for city in muas: \n",
    "    if city in manual_names_r: \n",
    "        muas_2.append(manual_names_r[city])\n",
    "    else: \n",
    "        muas_2.append(city)"
   ]
  },
  {
   "cell_type": "code",
   "execution_count": 27,
   "id": "32a98e45",
   "metadata": {},
   "outputs": [
    {
     "data": {
      "text/plain": [
       "['Belfast', 'Wuppertal']"
      ]
     },
     "execution_count": 27,
     "metadata": {},
     "output_type": "execute_result"
    }
   ],
   "source": [
    "# Cities not matched\n",
    "leftovers = []\n",
    "for city in muas_2:\n",
    "    if city not in cities:\n",
    "        leftovers.append(city)\n",
    "leftovers"
   ]
  },
  {
   "cell_type": "code",
   "execution_count": 28,
   "id": "ed40063e",
   "metadata": {
    "scrolled": true
   },
   "outputs": [
    {
     "name": "stdout",
     "output_type": "stream",
     "text": [
      "Bremen\n",
      "Leeds\n"
     ]
    }
   ],
   "source": [
    "# cities matched more than once\n",
    "city_counts = Counter(cities) \n",
    "for key in city_counts:\n",
    "    if city_counts[key] > 1:\n",
    "        print(key)"
   ]
  },
  {
   "cell_type": "markdown",
   "id": "c0533c22",
   "metadata": {},
   "source": [
    "***\n",
    "\n",
    "### Create new dataframe"
   ]
  },
  {
   "cell_type": "code",
   "execution_count": 29,
   "id": "18f1272f",
   "metadata": {},
   "outputs": [],
   "source": [
    "df = []\n",
    "for index, row in built_up.iterrows(): \n",
    "    if row['NAMA1'] in mua_dict and row['ICC'] == mua_dict[row['NAMA1']]:\n",
    "        df.append(tuple(row))\n",
    "    elif row['NAMN1'] in mua_dict and row['ICC'] == mua_dict[row['NAMN1']]:\n",
    "        df.append(tuple(row))\n",
    "    elif row['NAMN2'] in mua_dict and row['ICC'] == mua_dict[row['NAMN2']]: \n",
    "        df.append(tuple(row))\n",
    "    elif row['NAMA1'] == \"Belfast\":\n",
    "        df.append(tuple(row))"
   ]
  },
  {
   "cell_type": "code",
   "execution_count": 30,
   "id": "e9e33c5c",
   "metadata": {},
   "outputs": [],
   "source": [
    "df2 = pd.DataFrame(df, columns = built_up.columns)"
   ]
  },
  {
   "cell_type": "code",
   "execution_count": 31,
   "id": "7da3b6e1",
   "metadata": {},
   "outputs": [],
   "source": [
    "# exclude the duplicate Bremen and Leeds\n",
    "# Wrong BREMEN 27573\n",
    "# Wrong LEEDS 63132"
   ]
  },
  {
   "cell_type": "code",
   "execution_count": 32,
   "id": "9e1d9b2c",
   "metadata": {
    "scrolled": true
   },
   "outputs": [],
   "source": [
    "duplicate_IDs = [27573, 63132]\n",
    "gdf = built_up[(~built_up.OBJECTID.isin(duplicate_IDs)) & (built_up.OBJECTID.isin(df2.OBJECTID))]"
   ]
  },
  {
   "cell_type": "code",
   "execution_count": 33,
   "id": "185fbe6e",
   "metadata": {},
   "outputs": [
    {
     "data": {
      "text/plain": [
       "150"
      ]
     },
     "execution_count": 33,
     "metadata": {},
     "output_type": "execute_result"
    }
   ],
   "source": [
    "len(gdf)"
   ]
  },
  {
   "cell_type": "code",
   "execution_count": 34,
   "id": "017c4a42",
   "metadata": {},
   "outputs": [],
   "source": [
    "fp = os.path.join(DATADIR, \"city_coordinates.shp\")\n",
    "gdf.to_file(fp)"
   ]
  },
  {
   "cell_type": "markdown",
   "id": "bea239a8",
   "metadata": {},
   "source": [
    "**Wuppertal:**\n",
    "Wuppertal is not in this dataset, added manually in QGIS based on OpenStreetMap data."
   ]
  },
  {
   "cell_type": "code",
   "execution_count": 36,
   "id": "1a4b23f0",
   "metadata": {},
   "outputs": [],
   "source": [
    "# load file with wuppertal coordinates also included\n",
    "coords = gpd.read_file(os.path.join(DATADIR, \"city_coordinates_complete.shp\"))"
   ]
  },
  {
   "cell_type": "code",
   "execution_count": 37,
   "id": "e578e0ef",
   "metadata": {
    "scrolled": true
   },
   "outputs": [
    {
     "data": {
      "text/html": [
       "<div>\n",
       "<style scoped>\n",
       "    .dataframe tbody tr th:only-of-type {\n",
       "        vertical-align: middle;\n",
       "    }\n",
       "\n",
       "    .dataframe tbody tr th {\n",
       "        vertical-align: top;\n",
       "    }\n",
       "\n",
       "    .dataframe thead th {\n",
       "        text-align: right;\n",
       "    }\n",
       "</style>\n",
       "<table border=\"1\" class=\"dataframe\">\n",
       "  <thead>\n",
       "    <tr style=\"text-align: right;\">\n",
       "      <th></th>\n",
       "      <th>OBJECTID</th>\n",
       "      <th>FCsubtype</th>\n",
       "      <th>inspireId</th>\n",
       "      <th>beginLifes</th>\n",
       "      <th>F_CODE</th>\n",
       "      <th>ICC</th>\n",
       "      <th>NAMN1</th>\n",
       "      <th>NAMN2</th>\n",
       "      <th>NAMA1</th>\n",
       "      <th>NAMA2</th>\n",
       "      <th>NLN1</th>\n",
       "      <th>NLN2</th>\n",
       "      <th>PPL</th>\n",
       "      <th>PP1</th>\n",
       "      <th>PP2</th>\n",
       "      <th>USE</th>\n",
       "      <th>PopulatedP</th>\n",
       "      <th>geometry</th>\n",
       "    </tr>\n",
       "  </thead>\n",
       "  <tbody>\n",
       "    <tr>\n",
       "      <th>0</th>\n",
       "      <td>1331.0</td>\n",
       "      <td>2.0</td>\n",
       "      <td>_EG.EGM.BuiltupP:22ad56b0-8466-40b2-94eb-33e32...</td>\n",
       "      <td>20220125104612</td>\n",
       "      <td>AL022</td>\n",
       "      <td>NL</td>\n",
       "      <td>Utrecht</td>\n",
       "      <td>UNK</td>\n",
       "      <td>Utrecht</td>\n",
       "      <td>UNK</td>\n",
       "      <td>dut</td>\n",
       "      <td>UNK</td>\n",
       "      <td>305240.0</td>\n",
       "      <td>-32768.0</td>\n",
       "      <td>-32768.0</td>\n",
       "      <td>2.0</td>\n",
       "      <td>N.NL.BUILTUP.000116</td>\n",
       "      <td>POINT (5.11148 52.09863)</td>\n",
       "    </tr>\n",
       "    <tr>\n",
       "      <th>1</th>\n",
       "      <td>1339.0</td>\n",
       "      <td>2.0</td>\n",
       "      <td>_EG.EGM.BuiltupP:610f3331-bf58-429c-a74d-8f280...</td>\n",
       "      <td>20220125104612</td>\n",
       "      <td>AL022</td>\n",
       "      <td>NL</td>\n",
       "      <td>Eindhoven</td>\n",
       "      <td>UNK</td>\n",
       "      <td>Eindhoven</td>\n",
       "      <td>UNK</td>\n",
       "      <td>dut</td>\n",
       "      <td>UNK</td>\n",
       "      <td>228545.0</td>\n",
       "      <td>-32768.0</td>\n",
       "      <td>-32768.0</td>\n",
       "      <td>3.0</td>\n",
       "      <td>N.NL.BUILTUP.000247</td>\n",
       "      <td>POINT (5.47234 51.45709)</td>\n",
       "    </tr>\n",
       "    <tr>\n",
       "      <th>2</th>\n",
       "      <td>1347.0</td>\n",
       "      <td>2.0</td>\n",
       "      <td>_EG.EGM.BuiltupP:df56f111-3a4b-4593-b750-f34eb...</td>\n",
       "      <td>20220125104612</td>\n",
       "      <td>AL022</td>\n",
       "      <td>NL</td>\n",
       "      <td>Amsterdam</td>\n",
       "      <td>UNK</td>\n",
       "      <td>Amsterdam</td>\n",
       "      <td>UNK</td>\n",
       "      <td>dut</td>\n",
       "      <td>UNK</td>\n",
       "      <td>861985.0</td>\n",
       "      <td>-32768.0</td>\n",
       "      <td>-32768.0</td>\n",
       "      <td>1.0</td>\n",
       "      <td>N.NL.BUILTUP.000110</td>\n",
       "      <td>POINT (4.87429 52.37074)</td>\n",
       "    </tr>\n",
       "    <tr>\n",
       "      <th>3</th>\n",
       "      <td>1373.0</td>\n",
       "      <td>2.0</td>\n",
       "      <td>_EG.EGM.BuiltupP:c41a764f-1c42-4c97-b10b-f338d...</td>\n",
       "      <td>20220125104612</td>\n",
       "      <td>AL022</td>\n",
       "      <td>NL</td>\n",
       "      <td>Rotterdam</td>\n",
       "      <td>UNK</td>\n",
       "      <td>Rotterdam</td>\n",
       "      <td>UNK</td>\n",
       "      <td>dut</td>\n",
       "      <td>UNK</td>\n",
       "      <td>583140.0</td>\n",
       "      <td>-32768.0</td>\n",
       "      <td>-32768.0</td>\n",
       "      <td>3.0</td>\n",
       "      <td>N.NL.BUILTUP.000009</td>\n",
       "      <td>POINT (4.47374 51.92364)</td>\n",
       "    </tr>\n",
       "    <tr>\n",
       "      <th>4</th>\n",
       "      <td>4397.0</td>\n",
       "      <td>2.0</td>\n",
       "      <td>_EG.EGM.BuiltupP:2646a7da-071b-49d4-8209-fa15a...</td>\n",
       "      <td>20220125104612</td>\n",
       "      <td>AL022</td>\n",
       "      <td>PL</td>\n",
       "      <td>Pozna?</td>\n",
       "      <td>UNK</td>\n",
       "      <td>Poznan</td>\n",
       "      <td>UNK</td>\n",
       "      <td>pol</td>\n",
       "      <td>UNK</td>\n",
       "      <td>550700.0</td>\n",
       "      <td>-32768.0</td>\n",
       "      <td>-32768.0</td>\n",
       "      <td>2.0</td>\n",
       "      <td>N.PL.BUILTUP.0969400</td>\n",
       "      <td>POINT (16.91751 52.40734)</td>\n",
       "    </tr>\n",
       "  </tbody>\n",
       "</table>\n",
       "</div>"
      ],
      "text/plain": [
       "   OBJECTID  FCsubtype                                          inspireId  \\\n",
       "0    1331.0        2.0  _EG.EGM.BuiltupP:22ad56b0-8466-40b2-94eb-33e32...   \n",
       "1    1339.0        2.0  _EG.EGM.BuiltupP:610f3331-bf58-429c-a74d-8f280...   \n",
       "2    1347.0        2.0  _EG.EGM.BuiltupP:df56f111-3a4b-4593-b750-f34eb...   \n",
       "3    1373.0        2.0  _EG.EGM.BuiltupP:c41a764f-1c42-4c97-b10b-f338d...   \n",
       "4    4397.0        2.0  _EG.EGM.BuiltupP:2646a7da-071b-49d4-8209-fa15a...   \n",
       "\n",
       "       beginLifes F_CODE ICC      NAMN1 NAMN2      NAMA1 NAMA2 NLN1 NLN2  \\\n",
       "0  20220125104612  AL022  NL    Utrecht   UNK    Utrecht   UNK  dut  UNK   \n",
       "1  20220125104612  AL022  NL  Eindhoven   UNK  Eindhoven   UNK  dut  UNK   \n",
       "2  20220125104612  AL022  NL  Amsterdam   UNK  Amsterdam   UNK  dut  UNK   \n",
       "3  20220125104612  AL022  NL  Rotterdam   UNK  Rotterdam   UNK  dut  UNK   \n",
       "4  20220125104612  AL022  PL     Pozna?   UNK     Poznan   UNK  pol  UNK   \n",
       "\n",
       "        PPL      PP1      PP2  USE            PopulatedP  \\\n",
       "0  305240.0 -32768.0 -32768.0  2.0   N.NL.BUILTUP.000116   \n",
       "1  228545.0 -32768.0 -32768.0  3.0   N.NL.BUILTUP.000247   \n",
       "2  861985.0 -32768.0 -32768.0  1.0   N.NL.BUILTUP.000110   \n",
       "3  583140.0 -32768.0 -32768.0  3.0   N.NL.BUILTUP.000009   \n",
       "4  550700.0 -32768.0 -32768.0  2.0  N.PL.BUILTUP.0969400   \n",
       "\n",
       "                    geometry  \n",
       "0   POINT (5.11148 52.09863)  \n",
       "1   POINT (5.47234 51.45709)  \n",
       "2   POINT (4.87429 52.37074)  \n",
       "3   POINT (4.47374 51.92364)  \n",
       "4  POINT (16.91751 52.40734)  "
      ]
     },
     "execution_count": 37,
     "metadata": {},
     "output_type": "execute_result"
    }
   ],
   "source": [
    "coords.head()"
   ]
  },
  {
   "cell_type": "markdown",
   "id": "e428820b",
   "metadata": {},
   "source": [
    "## Create Cities dataframe\n",
    "\n",
    "following columns: Mua, Mua_en, Mua_fr, population, country_code, geometry, (dummies: fr_dum, en_dum, additional disambiguation dummies).  \n",
    "\n"
   ]
  },
  {
   "cell_type": "code",
   "execution_count": 38,
   "id": "02eccf68",
   "metadata": {},
   "outputs": [
    {
     "data": {
      "text/html": [
       "<div>\n",
       "<style scoped>\n",
       "    .dataframe tbody tr th:only-of-type {\n",
       "        vertical-align: middle;\n",
       "    }\n",
       "\n",
       "    .dataframe tbody tr th {\n",
       "        vertical-align: top;\n",
       "    }\n",
       "\n",
       "    .dataframe thead th {\n",
       "        text-align: right;\n",
       "    }\n",
       "</style>\n",
       "<table border=\"1\" class=\"dataframe\">\n",
       "  <thead>\n",
       "    <tr style=\"text-align: right;\">\n",
       "      <th></th>\n",
       "      <th>id_MUA</th>\n",
       "      <th>Mua</th>\n",
       "      <th>Mua_en</th>\n",
       "      <th>Mua_fr</th>\n",
       "      <th>SizeMUA1k</th>\n",
       "      <th>Code_Country</th>\n",
       "    </tr>\n",
       "  </thead>\n",
       "  <tbody>\n",
       "    <tr>\n",
       "      <th>0</th>\n",
       "      <td>FR00810</td>\n",
       "      <td>Paris</td>\n",
       "      <td>Paris</td>\n",
       "      <td>Paris</td>\n",
       "      <td>9591</td>\n",
       "      <td>FR</td>\n",
       "    </tr>\n",
       "    <tr>\n",
       "      <th>1</th>\n",
       "      <td>UK01886</td>\n",
       "      <td>London</td>\n",
       "      <td>London</td>\n",
       "      <td>Londres</td>\n",
       "      <td>8256</td>\n",
       "      <td>UK</td>\n",
       "    </tr>\n",
       "    <tr>\n",
       "      <th>2</th>\n",
       "      <td>ES00540</td>\n",
       "      <td>Madrid</td>\n",
       "      <td>Madrid</td>\n",
       "      <td>Madrid</td>\n",
       "      <td>4955</td>\n",
       "      <td>ES</td>\n",
       "    </tr>\n",
       "    <tr>\n",
       "      <th>3</th>\n",
       "      <td>DE00219</td>\n",
       "      <td>Berlin</td>\n",
       "      <td>Berlin</td>\n",
       "      <td>Berlin</td>\n",
       "      <td>3776</td>\n",
       "      <td>DE</td>\n",
       "    </tr>\n",
       "    <tr>\n",
       "      <th>4</th>\n",
       "      <td>IT01156</td>\n",
       "      <td>Milano</td>\n",
       "      <td>Milan</td>\n",
       "      <td>Milan</td>\n",
       "      <td>3698</td>\n",
       "      <td>IT</td>\n",
       "    </tr>\n",
       "  </tbody>\n",
       "</table>\n",
       "</div>"
      ],
      "text/plain": [
       "    id_MUA     Mua  Mua_en   Mua_fr  SizeMUA1k Code_Country\n",
       "0  FR00810   Paris   Paris    Paris       9591           FR\n",
       "1  UK01886  London  London  Londres       8256           UK\n",
       "2  ES00540  Madrid  Madrid   Madrid       4955           ES\n",
       "3  DE00219  Berlin  Berlin   Berlin       3776           DE\n",
       "4  IT01156  Milano   Milan    Milan       3698           IT"
      ]
     },
     "execution_count": 38,
     "metadata": {},
     "output_type": "execute_result"
    }
   ],
   "source": [
    "df = list_of_cities.copy()\n",
    "df = df[['id_MUA', 'Mua', 'Mua_en', 'Mua_fr', 'SizeMUA1k', 'Code_Country']]\n",
    "df.head()"
   ]
  },
  {
   "cell_type": "code",
   "execution_count": 39,
   "id": "5bde730d",
   "metadata": {},
   "outputs": [],
   "source": [
    "# change the names in coords so that they match the names in the cities dataframe\n",
    "coords.replace({'NAMA1': manual_names_v}, inplace=True)"
   ]
  },
  {
   "cell_type": "code",
   "execution_count": 40,
   "id": "5814c8ec",
   "metadata": {},
   "outputs": [],
   "source": [
    "output_df = []\n",
    "for index, row in coords.iterrows(): \n",
    "    for index2, row2 in df.iterrows(): \n",
    "        if row['NAMA1'] == row2['Mua']:\n",
    "            new_row = list(row2[['id_MUA', 'Mua', 'Mua_en', 'Mua_fr', 'SizeMUA1k', 'Code_Country']])\n",
    "            new_row.append(row.geometry)\n",
    "            output_df.append(tuple(new_row))\n",
    "        elif row['NAMN1'] == row2['Mua']:\n",
    "            new_row = list(row2[['id_MUA', 'Mua', 'Mua_en', 'Mua_fr', 'SizeMUA1k', 'Code_Country']])\n",
    "            new_row.append(row.geometry)\n",
    "            output_df.append(tuple(new_row))\n",
    "        elif row['NAMN2'] == row2['Mua']: \n",
    "            new_row = list(row2[['id_MUA', 'Mua', 'Mua_en', 'Mua_fr', 'SizeMUA1k', 'Code_Country']])\n",
    "            new_row.append(row.geometry)\n",
    "            output_df.append(tuple(new_row))"
   ]
  },
  {
   "cell_type": "code",
   "execution_count": 41,
   "id": "bc2951ea",
   "metadata": {},
   "outputs": [],
   "source": [
    "output_df = gpd.GeoDataFrame(output_df, columns = ['id_MUA', 'Mua', 'Mua_en', 'Mua_fr', 'SizeMUA1k', 'Code_Country', 'geometry'], crs = coords.crs)\n"
   ]
  },
  {
   "cell_type": "code",
   "execution_count": 42,
   "id": "545b8fdc",
   "metadata": {},
   "outputs": [
    {
     "data": {
      "text/plain": [
       "(151, 6)"
      ]
     },
     "execution_count": 42,
     "metadata": {},
     "output_type": "execute_result"
    }
   ],
   "source": [
    "df.shape"
   ]
  },
  {
   "cell_type": "code",
   "execution_count": 43,
   "id": "2dc76ff0",
   "metadata": {},
   "outputs": [
    {
     "data": {
      "text/plain": [
       "(151, 7)"
      ]
     },
     "execution_count": 43,
     "metadata": {},
     "output_type": "execute_result"
    }
   ],
   "source": [
    "output_df.shape"
   ]
  },
  {
   "cell_type": "code",
   "execution_count": 44,
   "id": "d71a1c89",
   "metadata": {},
   "outputs": [
    {
     "data": {
      "text/plain": [
       "<AxesSubplot:>"
      ]
     },
     "execution_count": 44,
     "metadata": {},
     "output_type": "execute_result"
    },
    {
     "data": {
      "image/png": "[encoded data removed]",
      "text/plain": [
       "<Figure size 432x288 with 1 Axes>"
      ]
     },
     "metadata": {
      "needs_background": "light"
     },
     "output_type": "display_data"
    }
   ],
   "source": [
    "output_df.plot()"
   ]
  },
  {
   "cell_type": "code",
   "execution_count": 45,
   "id": "909dc55f",
   "metadata": {},
   "outputs": [
    {
     "data": {
      "text/plain": [
       "<Geographic 2D CRS: EPSG:4258>\n",
       "Name: ETRS89\n",
       "Axis Info [ellipsoidal]:\n",
       "- Lat[north]: Geodetic latitude (degree)\n",
       "- Lon[east]: Geodetic longitude (degree)\n",
       "Area of Use:\n",
       "- name: Europe - onshore and offshore: Albania; Andorra; Austria; Belgium; Bosnia and Herzegovina; Bulgaria; Croatia; Cyprus; Czechia; Denmark; Estonia; Faroe Islands; Finland; France; Germany; Gibraltar; Greece; Hungary; Ireland; Italy; Kosovo; Latvia; Liechtenstein; Lithuania; Luxembourg; Malta; Moldova; Monaco; Montenegro; Netherlands; North Macedonia; Norway including Svalbard and Jan Mayen; Poland; Portugal; Romania; San Marino; Serbia; Slovakia; Slovenia; Spain; Sweden; Switzerland; United Kingdom (UK) including Channel Islands and Isle of Man; Vatican City State.\n",
       "- bounds: (-16.1, 32.88, 40.18, 84.73)\n",
       "Datum: European Terrestrial Reference System 1989 ensemble\n",
       "- Ellipsoid: GRS 1980\n",
       "- Prime Meridian: Greenwich"
      ]
     },
     "execution_count": 45,
     "metadata": {},
     "output_type": "execute_result"
    }
   ],
   "source": [
    "output_df.crs"
   ]
  },
  {
   "cell_type": "code",
   "execution_count": 48,
   "id": "da912ea5",
   "metadata": {},
   "outputs": [],
   "source": [
    "output_df.rename(columns = {'Code_Country': 'CC'}, inplace = True)"
   ]
  },
  {
   "cell_type": "code",
   "execution_count": 49,
   "id": "57b39619",
   "metadata": {},
   "outputs": [
    {
     "name": "stderr",
     "output_type": "stream",
     "text": [
      "/Users/brecht/opt/anaconda3/envs/citynet/lib/python3.10/site-packages/geopandas/io/file.py:362: FutureWarning: pandas.Int64Index is deprecated and will be removed from pandas in a future version. Use pandas.Index with the appropriate dtype instead.\n",
      "  pd.Int64Index,\n"
     ]
    }
   ],
   "source": [
    "fp = os.path.join(INDIR, \"city_coordinates.shp\")\n",
    "output_df.to_file(fp)"
   ]
  },
  {
   "cell_type": "markdown",
   "id": "d780d866",
   "metadata": {},
   "source": [
    "## Calculate distances\n",
    "- Planar or Geodesic distance\n",
    "- Join the pairs dataset"
   ]
  },
  {
   "cell_type": "code",
   "execution_count": 29,
   "id": "541bb2c2",
   "metadata": {},
   "outputs": [],
   "source": [
    "fp = os.path.join(INDIR, \"city_coordinates.shp\")\n",
    "gdf = gpd.read_file(fp)"
   ]
  },
  {
   "cell_type": "code",
   "execution_count": 30,
   "id": "c609a6dc",
   "metadata": {},
   "outputs": [
    {
     "data": {
      "text/html": [
       "<div>\n",
       "<style scoped>\n",
       "    .dataframe tbody tr th:only-of-type {\n",
       "        vertical-align: middle;\n",
       "    }\n",
       "\n",
       "    .dataframe tbody tr th {\n",
       "        vertical-align: top;\n",
       "    }\n",
       "\n",
       "    .dataframe thead th {\n",
       "        text-align: right;\n",
       "    }\n",
       "</style>\n",
       "<table border=\"1\" class=\"dataframe\">\n",
       "  <thead>\n",
       "    <tr style=\"text-align: right;\">\n",
       "      <th></th>\n",
       "      <th>id_MUA</th>\n",
       "      <th>Mua</th>\n",
       "      <th>Mua_en</th>\n",
       "      <th>Mua_fr</th>\n",
       "      <th>SizeMUA1k</th>\n",
       "      <th>CC</th>\n",
       "      <th>geometry</th>\n",
       "    </tr>\n",
       "  </thead>\n",
       "  <tbody>\n",
       "    <tr>\n",
       "      <th>0</th>\n",
       "      <td>NL01410</td>\n",
       "      <td>Utrecht</td>\n",
       "      <td>Utrecht</td>\n",
       "      <td>Utrecht</td>\n",
       "      <td>390</td>\n",
       "      <td>NL</td>\n",
       "      <td>POINT (5.11148 52.09863)</td>\n",
       "    </tr>\n",
       "    <tr>\n",
       "      <th>1</th>\n",
       "      <td>NL01354</td>\n",
       "      <td>Eindhoven</td>\n",
       "      <td>Eindhoven</td>\n",
       "      <td>Eindhoven</td>\n",
       "      <td>316</td>\n",
       "      <td>NL</td>\n",
       "      <td>POINT (5.47234 51.45709)</td>\n",
       "    </tr>\n",
       "    <tr>\n",
       "      <th>2</th>\n",
       "      <td>NL01331</td>\n",
       "      <td>Amsterdam</td>\n",
       "      <td>Amsterdam</td>\n",
       "      <td>Amsterdam</td>\n",
       "      <td>1052</td>\n",
       "      <td>NL</td>\n",
       "      <td>POINT (4.87429 52.37074)</td>\n",
       "    </tr>\n",
       "    <tr>\n",
       "      <th>3</th>\n",
       "      <td>NL01403</td>\n",
       "      <td>Rotterdam</td>\n",
       "      <td>Rotterdam</td>\n",
       "      <td>Rotterdam</td>\n",
       "      <td>1025</td>\n",
       "      <td>NL</td>\n",
       "      <td>POINT (4.47374 51.92364)</td>\n",
       "    </tr>\n",
       "    <tr>\n",
       "      <th>4</th>\n",
       "      <td>PL01510</td>\n",
       "      <td>Poznan</td>\n",
       "      <td>Poznan</td>\n",
       "      <td>Poznan</td>\n",
       "      <td>679</td>\n",
       "      <td>PL</td>\n",
       "      <td>POINT (16.91751 52.40734)</td>\n",
       "    </tr>\n",
       "  </tbody>\n",
       "</table>\n",
       "</div>"
      ],
      "text/plain": [
       "    id_MUA        Mua     Mua_en     Mua_fr  SizeMUA1k  CC  \\\n",
       "0  NL01410    Utrecht    Utrecht    Utrecht        390  NL   \n",
       "1  NL01354  Eindhoven  Eindhoven  Eindhoven        316  NL   \n",
       "2  NL01331  Amsterdam  Amsterdam  Amsterdam       1052  NL   \n",
       "3  NL01403  Rotterdam  Rotterdam  Rotterdam       1025  NL   \n",
       "4  PL01510     Poznan     Poznan     Poznan        679  PL   \n",
       "\n",
       "                    geometry  \n",
       "0   POINT (5.11148 52.09863)  \n",
       "1   POINT (5.47234 51.45709)  \n",
       "2   POINT (4.87429 52.37074)  \n",
       "3   POINT (4.47374 51.92364)  \n",
       "4  POINT (16.91751 52.40734)  "
      ]
     },
     "execution_count": 30,
     "metadata": {},
     "output_type": "execute_result"
    }
   ],
   "source": [
    "gdf.head()"
   ]
  },
  {
   "cell_type": "code",
   "execution_count": 31,
   "id": "114f88d9",
   "metadata": {},
   "outputs": [
    {
     "data": {
      "text/plain": [
       "11.810063106973496"
      ]
     },
     "execution_count": 31,
     "metadata": {},
     "output_type": "execute_result"
    }
   ],
   "source": [
    "gdf.geometry[0].distance(gdf.geometry[4])"
   ]
  },
  {
   "cell_type": "code",
   "execution_count": 32,
   "id": "20744300",
   "metadata": {},
   "outputs": [
    {
     "data": {
      "text/plain": [
       "<Geographic 2D CRS: EPSG:4258>\n",
       "Name: ETRS89\n",
       "Axis Info [ellipsoidal]:\n",
       "- Lat[north]: Geodetic latitude (degree)\n",
       "- Lon[east]: Geodetic longitude (degree)\n",
       "Area of Use:\n",
       "- name: Europe - onshore and offshore: Albania; Andorra; Austria; Belgium; Bosnia and Herzegovina; Bulgaria; Croatia; Cyprus; Czechia; Denmark; Estonia; Faroe Islands; Finland; France; Germany; Gibraltar; Greece; Hungary; Ireland; Italy; Kosovo; Latvia; Liechtenstein; Lithuania; Luxembourg; Malta; Moldova; Monaco; Montenegro; Netherlands; North Macedonia; Norway including Svalbard and Jan Mayen; Poland; Portugal; Romania; San Marino; Serbia; Slovakia; Slovenia; Spain; Sweden; Switzerland; United Kingdom (UK) including Channel Islands and Isle of Man; Vatican City State.\n",
       "- bounds: (-16.1, 32.88, 40.18, 84.73)\n",
       "Datum: European Terrestrial Reference System 1989 ensemble\n",
       "- Ellipsoid: GRS 1980\n",
       "- Prime Meridian: Greenwich"
      ]
     },
     "execution_count": 32,
     "metadata": {},
     "output_type": "execute_result"
    }
   ],
   "source": [
    "gdf.crs"
   ]
  },
  {
   "cell_type": "markdown",
   "id": "2029071d",
   "metadata": {},
   "source": [
    "### Option 1:\n",
    "Calculate distance on projected coordinates. This *will* result in destortion. (Especially considering how far north we are). Somewhat minimized by using a suitable projection. (I believe this to be, EPSG: 3035 - ETRS89-extended / LAEA Europe). "
   ]
  },
  {
   "cell_type": "code",
   "execution_count": 33,
   "id": "516b81c8",
   "metadata": {},
   "outputs": [],
   "source": [
    "gdf = gdf.to_crs('EPSG:3035')"
   ]
  },
  {
   "cell_type": "code",
   "execution_count": 34,
   "id": "7963042a",
   "metadata": {},
   "outputs": [
    {
     "data": {
      "text/plain": [
       "<Derived Projected CRS: EPSG:3035>\n",
       "Name: ETRS89-extended / LAEA Europe\n",
       "Axis Info [cartesian]:\n",
       "- Y[north]: Northing (metre)\n",
       "- X[east]: Easting (metre)\n",
       "Area of Use:\n",
       "- name: Europe - European Union (EU) countries and candidates. Europe - onshore and offshore: Albania; Andorra; Austria; Belgium; Bosnia and Herzegovina; Bulgaria; Croatia; Cyprus; Czechia; Denmark; Estonia; Faroe Islands; Finland; France; Germany; Gibraltar; Greece; Hungary; Iceland; Ireland; Italy; Kosovo; Latvia; Liechtenstein; Lithuania; Luxembourg; Malta; Monaco; Montenegro; Netherlands; North Macedonia; Norway including Svalbard and Jan Mayen; Poland; Portugal including Madeira and Azores; Romania; San Marino; Serbia; Slovakia; Slovenia; Spain including Canary Islands; Sweden; Switzerland; Turkey; United Kingdom (UK) including Channel Islands and Isle of Man; Vatican City State.\n",
       "- bounds: (-35.58, 24.6, 44.83, 84.73)\n",
       "Coordinate Operation:\n",
       "- name: Europe Equal Area 2001\n",
       "- method: Lambert Azimuthal Equal Area\n",
       "Datum: European Terrestrial Reference System 1989 ensemble\n",
       "- Ellipsoid: GRS 1980\n",
       "- Prime Meridian: Greenwich"
      ]
     },
     "execution_count": 34,
     "metadata": {},
     "output_type": "execute_result"
    }
   ],
   "source": [
    "gdf.crs"
   ]
  },
  {
   "cell_type": "code",
   "execution_count": 35,
   "id": "89fcece6",
   "metadata": {},
   "outputs": [
    {
     "data": {
      "text/plain": [
       "75.61913916162662"
      ]
     },
     "execution_count": 35,
     "metadata": {},
     "output_type": "execute_result"
    }
   ],
   "source": [
    "gdf.geometry[0].distance(gdf.geometry[1])/ 1000"
   ]
  },
  {
   "cell_type": "code",
   "execution_count": 36,
   "id": "9c272184",
   "metadata": {},
   "outputs": [
    {
     "data": {
      "text/html": [
       "<div>\n",
       "<style scoped>\n",
       "    .dataframe tbody tr th:only-of-type {\n",
       "        vertical-align: middle;\n",
       "    }\n",
       "\n",
       "    .dataframe tbody tr th {\n",
       "        vertical-align: top;\n",
       "    }\n",
       "\n",
       "    .dataframe thead th {\n",
       "        text-align: right;\n",
       "    }\n",
       "</style>\n",
       "<table border=\"1\" class=\"dataframe\">\n",
       "  <thead>\n",
       "    <tr style=\"text-align: right;\">\n",
       "      <th></th>\n",
       "      <th>id_MUA</th>\n",
       "      <th>Mua</th>\n",
       "      <th>Mua_en</th>\n",
       "      <th>Mua_fr</th>\n",
       "      <th>SizeMUA1k</th>\n",
       "      <th>CC</th>\n",
       "      <th>geometry</th>\n",
       "    </tr>\n",
       "  </thead>\n",
       "  <tbody>\n",
       "    <tr>\n",
       "      <th>0</th>\n",
       "      <td>NL01410</td>\n",
       "      <td>Utrecht</td>\n",
       "      <td>Utrecht</td>\n",
       "      <td>Utrecht</td>\n",
       "      <td>390</td>\n",
       "      <td>NL</td>\n",
       "      <td>POINT (3986294.355 3232207.546)</td>\n",
       "    </tr>\n",
       "    <tr>\n",
       "      <th>1</th>\n",
       "      <td>NL01354</td>\n",
       "      <td>Eindhoven</td>\n",
       "      <td>Eindhoven</td>\n",
       "      <td>Eindhoven</td>\n",
       "      <td>316</td>\n",
       "      <td>NL</td>\n",
       "      <td>POINT (4006534.020 3159347.337)</td>\n",
       "    </tr>\n",
       "    <tr>\n",
       "      <th>2</th>\n",
       "      <td>NL01331</td>\n",
       "      <td>Amsterdam</td>\n",
       "      <td>Amsterdam</td>\n",
       "      <td>Amsterdam</td>\n",
       "      <td>1052</td>\n",
       "      <td>NL</td>\n",
       "      <td>POINT (3972221.509 3263538.886)</td>\n",
       "    </tr>\n",
       "    <tr>\n",
       "      <th>3</th>\n",
       "      <td>NL01403</td>\n",
       "      <td>Rotterdam</td>\n",
       "      <td>Rotterdam</td>\n",
       "      <td>Rotterdam</td>\n",
       "      <td>1025</td>\n",
       "      <td>NL</td>\n",
       "      <td>POINT (3941243.288 3215906.046)</td>\n",
       "    </tr>\n",
       "    <tr>\n",
       "      <th>4</th>\n",
       "      <td>PL01510</td>\n",
       "      <td>Poznan</td>\n",
       "      <td>Poznan</td>\n",
       "      <td>Poznan</td>\n",
       "      <td>679</td>\n",
       "      <td>PL</td>\n",
       "      <td>POINT (4790943.558 3277681.393)</td>\n",
       "    </tr>\n",
       "  </tbody>\n",
       "</table>\n",
       "</div>"
      ],
      "text/plain": [
       "    id_MUA        Mua     Mua_en     Mua_fr  SizeMUA1k  CC  \\\n",
       "0  NL01410    Utrecht    Utrecht    Utrecht        390  NL   \n",
       "1  NL01354  Eindhoven  Eindhoven  Eindhoven        316  NL   \n",
       "2  NL01331  Amsterdam  Amsterdam  Amsterdam       1052  NL   \n",
       "3  NL01403  Rotterdam  Rotterdam  Rotterdam       1025  NL   \n",
       "4  PL01510     Poznan     Poznan     Poznan        679  PL   \n",
       "\n",
       "                          geometry  \n",
       "0  POINT (3986294.355 3232207.546)  \n",
       "1  POINT (4006534.020 3159347.337)  \n",
       "2  POINT (3972221.509 3263538.886)  \n",
       "3  POINT (3941243.288 3215906.046)  \n",
       "4  POINT (4790943.558 3277681.393)  "
      ]
     },
     "execution_count": 36,
     "metadata": {},
     "output_type": "execute_result"
    }
   ],
   "source": [
    "gdf.head()"
   ]
  },
  {
   "cell_type": "markdown",
   "id": "af6b654d",
   "metadata": {},
   "source": [
    "### Join the pairs dataset"
   ]
  },
  {
   "cell_type": "code",
   "execution_count": 37,
   "id": "9e6398a1",
   "metadata": {},
   "outputs": [],
   "source": [
    "# load the pairs dataset\n",
    "file_name = \"citypairs_english_20220603.csv\"\n",
    "fp = os.path.join(OUTDIR, file_name)\n",
    "pairs_df_en = pd.read_csv(fp, sep=';')"
   ]
  },
  {
   "cell_type": "code",
   "execution_count": 39,
   "id": "6dcb5c44",
   "metadata": {},
   "outputs": [
    {
     "data": {
      "text/html": [
       "<div>\n",
       "<style scoped>\n",
       "    .dataframe tbody tr th:only-of-type {\n",
       "        vertical-align: middle;\n",
       "    }\n",
       "\n",
       "    .dataframe tbody tr th {\n",
       "        vertical-align: top;\n",
       "    }\n",
       "\n",
       "    .dataframe thead th {\n",
       "        text-align: right;\n",
       "    }\n",
       "</style>\n",
       "<table border=\"1\" class=\"dataframe\">\n",
       "  <thead>\n",
       "    <tr style=\"text-align: right;\">\n",
       "      <th></th>\n",
       "      <th>city_A</th>\n",
       "      <th>city_B</th>\n",
       "      <th>collocation_en</th>\n",
       "    </tr>\n",
       "  </thead>\n",
       "  <tbody>\n",
       "    <tr>\n",
       "      <th>0</th>\n",
       "      <td>Paris</td>\n",
       "      <td>London</td>\n",
       "      <td>21874.0</td>\n",
       "    </tr>\n",
       "    <tr>\n",
       "      <th>1</th>\n",
       "      <td>Paris</td>\n",
       "      <td>Madrid</td>\n",
       "      <td>3394.0</td>\n",
       "    </tr>\n",
       "    <tr>\n",
       "      <th>2</th>\n",
       "      <td>Paris</td>\n",
       "      <td>Berlin</td>\n",
       "      <td>7899.0</td>\n",
       "    </tr>\n",
       "    <tr>\n",
       "      <th>3</th>\n",
       "      <td>Paris</td>\n",
       "      <td>Milan</td>\n",
       "      <td>3342.0</td>\n",
       "    </tr>\n",
       "    <tr>\n",
       "      <th>4</th>\n",
       "      <td>Paris</td>\n",
       "      <td>Barcelona</td>\n",
       "      <td>2397.0</td>\n",
       "    </tr>\n",
       "    <tr>\n",
       "      <th>...</th>\n",
       "      <td>...</td>\n",
       "      <td>...</td>\n",
       "      <td>...</td>\n",
       "    </tr>\n",
       "    <tr>\n",
       "      <th>11170</th>\n",
       "      <td>Brasov</td>\n",
       "      <td>Valletta</td>\n",
       "      <td>0.0</td>\n",
       "    </tr>\n",
       "    <tr>\n",
       "      <th>11171</th>\n",
       "      <td>Brasov</td>\n",
       "      <td>Ghent</td>\n",
       "      <td>1.0</td>\n",
       "    </tr>\n",
       "    <tr>\n",
       "      <th>11172</th>\n",
       "      <td>Bonn</td>\n",
       "      <td>Valletta</td>\n",
       "      <td>4.0</td>\n",
       "    </tr>\n",
       "    <tr>\n",
       "      <th>11173</th>\n",
       "      <td>Bonn</td>\n",
       "      <td>Ghent</td>\n",
       "      <td>22.0</td>\n",
       "    </tr>\n",
       "    <tr>\n",
       "      <th>11174</th>\n",
       "      <td>Valletta</td>\n",
       "      <td>Ghent</td>\n",
       "      <td>0.0</td>\n",
       "    </tr>\n",
       "  </tbody>\n",
       "</table>\n",
       "<p>11175 rows × 3 columns</p>\n",
       "</div>"
      ],
      "text/plain": [
       "         city_A     city_B  collocation_en\n",
       "0         Paris     London         21874.0\n",
       "1         Paris     Madrid          3394.0\n",
       "2         Paris     Berlin          7899.0\n",
       "3         Paris      Milan          3342.0\n",
       "4         Paris  Barcelona          2397.0\n",
       "...         ...        ...             ...\n",
       "11170    Brasov   Valletta             0.0\n",
       "11171    Brasov      Ghent             1.0\n",
       "11172      Bonn   Valletta             4.0\n",
       "11173      Bonn      Ghent            22.0\n",
       "11174  Valletta      Ghent             0.0\n",
       "\n",
       "[11175 rows x 3 columns]"
      ]
     },
     "execution_count": 39,
     "metadata": {},
     "output_type": "execute_result"
    }
   ],
   "source": [
    "pairs_df_en"
   ]
  },
  {
   "cell_type": "code",
   "execution_count": 40,
   "id": "8a801b39",
   "metadata": {},
   "outputs": [],
   "source": [
    "gdf['Mua_en'] = [unidecode.unidecode(city) for city in gdf['Mua_en']]"
   ]
  },
  {
   "cell_type": "code",
   "execution_count": 41,
   "id": "83f556ac",
   "metadata": {},
   "outputs": [],
   "source": [
    "gdf_min = gdf[['Mua_en', 'SizeMUA1k', 'geometry', 'CC']]"
   ]
  },
  {
   "cell_type": "code",
   "execution_count": 42,
   "id": "a2f4dd0f",
   "metadata": {},
   "outputs": [],
   "source": [
    "joined_df = pd.merge(pairs_df_en, gdf_min, how='left', left_on = 'city_A', right_on = 'Mua_en')"
   ]
  },
  {
   "cell_type": "code",
   "execution_count": 43,
   "id": "cb3da11c",
   "metadata": {},
   "outputs": [
    {
     "data": {
      "text/plain": [
       "(11175, 7)"
      ]
     },
     "execution_count": 43,
     "metadata": {},
     "output_type": "execute_result"
    }
   ],
   "source": [
    "joined_df.shape"
   ]
  },
  {
   "cell_type": "code",
   "execution_count": 44,
   "id": "0c1369d9",
   "metadata": {},
   "outputs": [
    {
     "data": {
      "text/html": [
       "<div>\n",
       "<style scoped>\n",
       "    .dataframe tbody tr th:only-of-type {\n",
       "        vertical-align: middle;\n",
       "    }\n",
       "\n",
       "    .dataframe tbody tr th {\n",
       "        vertical-align: top;\n",
       "    }\n",
       "\n",
       "    .dataframe thead th {\n",
       "        text-align: right;\n",
       "    }\n",
       "</style>\n",
       "<table border=\"1\" class=\"dataframe\">\n",
       "  <thead>\n",
       "    <tr style=\"text-align: right;\">\n",
       "      <th></th>\n",
       "      <th>city_A</th>\n",
       "      <th>city_B</th>\n",
       "      <th>collocation_en</th>\n",
       "      <th>Mua_en</th>\n",
       "      <th>SizeMUA1k</th>\n",
       "      <th>geometry</th>\n",
       "      <th>CC</th>\n",
       "    </tr>\n",
       "  </thead>\n",
       "  <tbody>\n",
       "    <tr>\n",
       "      <th>0</th>\n",
       "      <td>Paris</td>\n",
       "      <td>London</td>\n",
       "      <td>21874.0</td>\n",
       "      <td>Paris</td>\n",
       "      <td>9591</td>\n",
       "      <td>POINT (3760015.368 2889948.695)</td>\n",
       "      <td>FR</td>\n",
       "    </tr>\n",
       "    <tr>\n",
       "      <th>1</th>\n",
       "      <td>Paris</td>\n",
       "      <td>Madrid</td>\n",
       "      <td>3394.0</td>\n",
       "      <td>Paris</td>\n",
       "      <td>9591</td>\n",
       "      <td>POINT (3760015.368 2889948.695)</td>\n",
       "      <td>FR</td>\n",
       "    </tr>\n",
       "    <tr>\n",
       "      <th>2</th>\n",
       "      <td>Paris</td>\n",
       "      <td>Berlin</td>\n",
       "      <td>7899.0</td>\n",
       "      <td>Paris</td>\n",
       "      <td>9591</td>\n",
       "      <td>POINT (3760015.368 2889948.695)</td>\n",
       "      <td>FR</td>\n",
       "    </tr>\n",
       "    <tr>\n",
       "      <th>3</th>\n",
       "      <td>Paris</td>\n",
       "      <td>Milan</td>\n",
       "      <td>3342.0</td>\n",
       "      <td>Paris</td>\n",
       "      <td>9591</td>\n",
       "      <td>POINT (3760015.368 2889948.695)</td>\n",
       "      <td>FR</td>\n",
       "    </tr>\n",
       "    <tr>\n",
       "      <th>4</th>\n",
       "      <td>Paris</td>\n",
       "      <td>Barcelona</td>\n",
       "      <td>2397.0</td>\n",
       "      <td>Paris</td>\n",
       "      <td>9591</td>\n",
       "      <td>POINT (3760015.368 2889948.695)</td>\n",
       "      <td>FR</td>\n",
       "    </tr>\n",
       "  </tbody>\n",
       "</table>\n",
       "</div>"
      ],
      "text/plain": [
       "  city_A     city_B  collocation_en Mua_en  SizeMUA1k  \\\n",
       "0  Paris     London         21874.0  Paris       9591   \n",
       "1  Paris     Madrid          3394.0  Paris       9591   \n",
       "2  Paris     Berlin          7899.0  Paris       9591   \n",
       "3  Paris      Milan          3342.0  Paris       9591   \n",
       "4  Paris  Barcelona          2397.0  Paris       9591   \n",
       "\n",
       "                          geometry  CC  \n",
       "0  POINT (3760015.368 2889948.695)  FR  \n",
       "1  POINT (3760015.368 2889948.695)  FR  \n",
       "2  POINT (3760015.368 2889948.695)  FR  \n",
       "3  POINT (3760015.368 2889948.695)  FR  \n",
       "4  POINT (3760015.368 2889948.695)  FR  "
      ]
     },
     "execution_count": 44,
     "metadata": {},
     "output_type": "execute_result"
    }
   ],
   "source": [
    "joined_df.head()"
   ]
  },
  {
   "cell_type": "code",
   "execution_count": 45,
   "id": "8f54db4d",
   "metadata": {},
   "outputs": [],
   "source": [
    "joined_df = pd.merge(joined_df, gdf_min, how='left', left_on = 'city_B', right_on = 'Mua_en', suffixes=('_A', '_B'))"
   ]
  },
  {
   "cell_type": "code",
   "execution_count": 46,
   "id": "739c751e",
   "metadata": {},
   "outputs": [
    {
     "data": {
      "text/html": [
       "<div>\n",
       "<style scoped>\n",
       "    .dataframe tbody tr th:only-of-type {\n",
       "        vertical-align: middle;\n",
       "    }\n",
       "\n",
       "    .dataframe tbody tr th {\n",
       "        vertical-align: top;\n",
       "    }\n",
       "\n",
       "    .dataframe thead th {\n",
       "        text-align: right;\n",
       "    }\n",
       "</style>\n",
       "<table border=\"1\" class=\"dataframe\">\n",
       "  <thead>\n",
       "    <tr style=\"text-align: right;\">\n",
       "      <th></th>\n",
       "      <th>city_A</th>\n",
       "      <th>city_B</th>\n",
       "      <th>collocation_en</th>\n",
       "      <th>Mua_en_A</th>\n",
       "      <th>SizeMUA1k_A</th>\n",
       "      <th>geometry_A</th>\n",
       "      <th>CC_A</th>\n",
       "      <th>Mua_en_B</th>\n",
       "      <th>SizeMUA1k_B</th>\n",
       "      <th>geometry_B</th>\n",
       "      <th>CC_B</th>\n",
       "    </tr>\n",
       "  </thead>\n",
       "  <tbody>\n",
       "    <tr>\n",
       "      <th>0</th>\n",
       "      <td>Paris</td>\n",
       "      <td>London</td>\n",
       "      <td>21874.0</td>\n",
       "      <td>Paris</td>\n",
       "      <td>9591</td>\n",
       "      <td>POINT (3760015.368 2889948.695)</td>\n",
       "      <td>FR</td>\n",
       "      <td>London</td>\n",
       "      <td>8256</td>\n",
       "      <td>POINT (3623219.566 3204183.954)</td>\n",
       "      <td>UK</td>\n",
       "    </tr>\n",
       "    <tr>\n",
       "      <th>1</th>\n",
       "      <td>Paris</td>\n",
       "      <td>Madrid</td>\n",
       "      <td>3394.0</td>\n",
       "      <td>Paris</td>\n",
       "      <td>9591</td>\n",
       "      <td>POINT (3760015.368 2889948.695)</td>\n",
       "      <td>FR</td>\n",
       "      <td>Madrid</td>\n",
       "      <td>4955</td>\n",
       "      <td>POINT (3161798.324 2030549.871)</td>\n",
       "      <td>ES</td>\n",
       "    </tr>\n",
       "    <tr>\n",
       "      <th>2</th>\n",
       "      <td>Paris</td>\n",
       "      <td>Berlin</td>\n",
       "      <td>7899.0</td>\n",
       "      <td>Paris</td>\n",
       "      <td>9591</td>\n",
       "      <td>POINT (3760015.368 2889948.695)</td>\n",
       "      <td>FR</td>\n",
       "      <td>Berlin</td>\n",
       "      <td>3776</td>\n",
       "      <td>POINT (4552085.153 3273010.955)</td>\n",
       "      <td>DE</td>\n",
       "    </tr>\n",
       "    <tr>\n",
       "      <th>3</th>\n",
       "      <td>Paris</td>\n",
       "      <td>Milan</td>\n",
       "      <td>3342.0</td>\n",
       "      <td>Paris</td>\n",
       "      <td>9591</td>\n",
       "      <td>POINT (3760015.368 2889948.695)</td>\n",
       "      <td>FR</td>\n",
       "      <td>Milan</td>\n",
       "      <td>3698</td>\n",
       "      <td>POINT (4256391.191 2484870.286)</td>\n",
       "      <td>IT</td>\n",
       "    </tr>\n",
       "    <tr>\n",
       "      <th>4</th>\n",
       "      <td>Paris</td>\n",
       "      <td>Barcelona</td>\n",
       "      <td>2397.0</td>\n",
       "      <td>Paris</td>\n",
       "      <td>9591</td>\n",
       "      <td>POINT (3760015.368 2889948.695)</td>\n",
       "      <td>FR</td>\n",
       "      <td>Barcelona</td>\n",
       "      <td>3659</td>\n",
       "      <td>POINT (3664331.118 2067683.425)</td>\n",
       "      <td>ES</td>\n",
       "    </tr>\n",
       "  </tbody>\n",
       "</table>\n",
       "</div>"
      ],
      "text/plain": [
       "  city_A     city_B  collocation_en Mua_en_A  SizeMUA1k_A  \\\n",
       "0  Paris     London         21874.0    Paris         9591   \n",
       "1  Paris     Madrid          3394.0    Paris         9591   \n",
       "2  Paris     Berlin          7899.0    Paris         9591   \n",
       "3  Paris      Milan          3342.0    Paris         9591   \n",
       "4  Paris  Barcelona          2397.0    Paris         9591   \n",
       "\n",
       "                        geometry_A CC_A   Mua_en_B  SizeMUA1k_B  \\\n",
       "0  POINT (3760015.368 2889948.695)   FR     London         8256   \n",
       "1  POINT (3760015.368 2889948.695)   FR     Madrid         4955   \n",
       "2  POINT (3760015.368 2889948.695)   FR     Berlin         3776   \n",
       "3  POINT (3760015.368 2889948.695)   FR      Milan         3698   \n",
       "4  POINT (3760015.368 2889948.695)   FR  Barcelona         3659   \n",
       "\n",
       "                        geometry_B CC_B  \n",
       "0  POINT (3623219.566 3204183.954)   UK  \n",
       "1  POINT (3161798.324 2030549.871)   ES  \n",
       "2  POINT (4552085.153 3273010.955)   DE  \n",
       "3  POINT (4256391.191 2484870.286)   IT  \n",
       "4  POINT (3664331.118 2067683.425)   ES  "
      ]
     },
     "execution_count": 46,
     "metadata": {},
     "output_type": "execute_result"
    }
   ],
   "source": [
    "joined_df.head()"
   ]
  },
  {
   "cell_type": "code",
   "execution_count": 47,
   "id": "8adf7888",
   "metadata": {},
   "outputs": [
    {
     "data": {
      "text/plain": [
       "(11175, 11)"
      ]
     },
     "execution_count": 47,
     "metadata": {},
     "output_type": "execute_result"
    }
   ],
   "source": [
    "joined_df.shape"
   ]
  },
  {
   "cell_type": "code",
   "execution_count": 48,
   "id": "01fbd03a",
   "metadata": {},
   "outputs": [
    {
     "data": {
      "text/plain": [
       "342.7198407546638"
      ]
     },
     "execution_count": 48,
     "metadata": {},
     "output_type": "execute_result"
    }
   ],
   "source": [
    "joined_df.geometry_A[0].distance(joined_df.geometry_B[0])/ 1000"
   ]
  },
  {
   "cell_type": "code",
   "execution_count": 49,
   "id": "1752f558",
   "metadata": {},
   "outputs": [],
   "source": [
    "def city_dist(row):\n",
    "    dist = row['geometry_A'].distance(row['geometry_B']) / 1000\n",
    "    return dist"
   ]
  },
  {
   "cell_type": "code",
   "execution_count": 50,
   "id": "e7a730b8",
   "metadata": {},
   "outputs": [],
   "source": [
    "joined_df['distance'] = joined_df.apply(city_dist, axis = 1)"
   ]
  },
  {
   "cell_type": "code",
   "execution_count": 51,
   "id": "fe24691f",
   "metadata": {},
   "outputs": [],
   "source": [
    "# for index, row in joined_df.iterrows():\n",
    "#     try: \n",
    "#         row['geometry_A'].distance(row['geometry_B']) / 1000\n",
    "#     except:\n",
    "#         print(row)"
   ]
  },
  {
   "cell_type": "code",
   "execution_count": 52,
   "id": "a913abd5",
   "metadata": {
    "scrolled": true
   },
   "outputs": [
    {
     "data": {
      "text/html": [
       "<div>\n",
       "<style scoped>\n",
       "    .dataframe tbody tr th:only-of-type {\n",
       "        vertical-align: middle;\n",
       "    }\n",
       "\n",
       "    .dataframe tbody tr th {\n",
       "        vertical-align: top;\n",
       "    }\n",
       "\n",
       "    .dataframe thead th {\n",
       "        text-align: right;\n",
       "    }\n",
       "</style>\n",
       "<table border=\"1\" class=\"dataframe\">\n",
       "  <thead>\n",
       "    <tr style=\"text-align: right;\">\n",
       "      <th></th>\n",
       "      <th>city_A</th>\n",
       "      <th>city_B</th>\n",
       "      <th>collocation_en</th>\n",
       "      <th>Mua_en_A</th>\n",
       "      <th>SizeMUA1k_A</th>\n",
       "      <th>geometry_A</th>\n",
       "      <th>CC_A</th>\n",
       "      <th>Mua_en_B</th>\n",
       "      <th>SizeMUA1k_B</th>\n",
       "      <th>geometry_B</th>\n",
       "      <th>CC_B</th>\n",
       "      <th>distance</th>\n",
       "    </tr>\n",
       "  </thead>\n",
       "  <tbody>\n",
       "    <tr>\n",
       "      <th>0</th>\n",
       "      <td>Paris</td>\n",
       "      <td>London</td>\n",
       "      <td>21874.0</td>\n",
       "      <td>Paris</td>\n",
       "      <td>9591</td>\n",
       "      <td>POINT (3760015.368 2889948.695)</td>\n",
       "      <td>FR</td>\n",
       "      <td>London</td>\n",
       "      <td>8256</td>\n",
       "      <td>POINT (3623219.566 3204183.954)</td>\n",
       "      <td>UK</td>\n",
       "      <td>342.719841</td>\n",
       "    </tr>\n",
       "    <tr>\n",
       "      <th>1</th>\n",
       "      <td>Paris</td>\n",
       "      <td>Madrid</td>\n",
       "      <td>3394.0</td>\n",
       "      <td>Paris</td>\n",
       "      <td>9591</td>\n",
       "      <td>POINT (3760015.368 2889948.695)</td>\n",
       "      <td>FR</td>\n",
       "      <td>Madrid</td>\n",
       "      <td>4955</td>\n",
       "      <td>POINT (3161798.324 2030549.871)</td>\n",
       "      <td>ES</td>\n",
       "      <td>1047.105521</td>\n",
       "    </tr>\n",
       "    <tr>\n",
       "      <th>2</th>\n",
       "      <td>Paris</td>\n",
       "      <td>Berlin</td>\n",
       "      <td>7899.0</td>\n",
       "      <td>Paris</td>\n",
       "      <td>9591</td>\n",
       "      <td>POINT (3760015.368 2889948.695)</td>\n",
       "      <td>FR</td>\n",
       "      <td>Berlin</td>\n",
       "      <td>3776</td>\n",
       "      <td>POINT (4552085.153 3273010.955)</td>\n",
       "      <td>DE</td>\n",
       "      <td>879.835916</td>\n",
       "    </tr>\n",
       "    <tr>\n",
       "      <th>3</th>\n",
       "      <td>Paris</td>\n",
       "      <td>Milan</td>\n",
       "      <td>3342.0</td>\n",
       "      <td>Paris</td>\n",
       "      <td>9591</td>\n",
       "      <td>POINT (3760015.368 2889948.695)</td>\n",
       "      <td>FR</td>\n",
       "      <td>Milan</td>\n",
       "      <td>3698</td>\n",
       "      <td>POINT (4256391.191 2484870.286)</td>\n",
       "      <td>IT</td>\n",
       "      <td>640.685161</td>\n",
       "    </tr>\n",
       "    <tr>\n",
       "      <th>4</th>\n",
       "      <td>Paris</td>\n",
       "      <td>Barcelona</td>\n",
       "      <td>2397.0</td>\n",
       "      <td>Paris</td>\n",
       "      <td>9591</td>\n",
       "      <td>POINT (3760015.368 2889948.695)</td>\n",
       "      <td>FR</td>\n",
       "      <td>Barcelona</td>\n",
       "      <td>3659</td>\n",
       "      <td>POINT (3664331.118 2067683.425)</td>\n",
       "      <td>ES</td>\n",
       "      <td>827.813778</td>\n",
       "    </tr>\n",
       "    <tr>\n",
       "      <th>...</th>\n",
       "      <td>...</td>\n",
       "      <td>...</td>\n",
       "      <td>...</td>\n",
       "      <td>...</td>\n",
       "      <td>...</td>\n",
       "      <td>...</td>\n",
       "      <td>...</td>\n",
       "      <td>...</td>\n",
       "      <td>...</td>\n",
       "      <td>...</td>\n",
       "      <td>...</td>\n",
       "      <td>...</td>\n",
       "    </tr>\n",
       "    <tr>\n",
       "      <th>11170</th>\n",
       "      <td>Brasov</td>\n",
       "      <td>Valletta</td>\n",
       "      <td>0.0</td>\n",
       "      <td>Brasov</td>\n",
       "      <td>307</td>\n",
       "      <td>POINT (5529295.231 2631657.414)</td>\n",
       "      <td>RO</td>\n",
       "      <td>Valletta</td>\n",
       "      <td>301</td>\n",
       "      <td>POINT (4732026.336 1438539.627)</td>\n",
       "      <td>MT</td>\n",
       "      <td>1434.980050</td>\n",
       "    </tr>\n",
       "    <tr>\n",
       "      <th>11171</th>\n",
       "      <td>Brasov</td>\n",
       "      <td>Ghent</td>\n",
       "      <td>1.0</td>\n",
       "      <td>Brasov</td>\n",
       "      <td>307</td>\n",
       "      <td>POINT (5529295.231 2631657.414)</td>\n",
       "      <td>RO</td>\n",
       "      <td>Ghent</td>\n",
       "      <td>300</td>\n",
       "      <td>POINT (3881703.383 3123724.104)</td>\n",
       "      <td>BE</td>\n",
       "      <td>1719.502407</td>\n",
       "    </tr>\n",
       "    <tr>\n",
       "      <th>11172</th>\n",
       "      <td>Bonn</td>\n",
       "      <td>Valletta</td>\n",
       "      <td>4.0</td>\n",
       "      <td>Bonn</td>\n",
       "      <td>306</td>\n",
       "      <td>POINT (4116262.831 3073236.167)</td>\n",
       "      <td>DE</td>\n",
       "      <td>Valletta</td>\n",
       "      <td>301</td>\n",
       "      <td>POINT (4732026.336 1438539.627)</td>\n",
       "      <td>MT</td>\n",
       "      <td>1746.824968</td>\n",
       "    </tr>\n",
       "    <tr>\n",
       "      <th>11173</th>\n",
       "      <td>Bonn</td>\n",
       "      <td>Ghent</td>\n",
       "      <td>22.0</td>\n",
       "      <td>Bonn</td>\n",
       "      <td>306</td>\n",
       "      <td>POINT (4116262.831 3073236.167)</td>\n",
       "      <td>DE</td>\n",
       "      <td>Ghent</td>\n",
       "      <td>300</td>\n",
       "      <td>POINT (3881703.383 3123724.104)</td>\n",
       "      <td>BE</td>\n",
       "      <td>239.931587</td>\n",
       "    </tr>\n",
       "    <tr>\n",
       "      <th>11174</th>\n",
       "      <td>Valletta</td>\n",
       "      <td>Ghent</td>\n",
       "      <td>0.0</td>\n",
       "      <td>Valletta</td>\n",
       "      <td>301</td>\n",
       "      <td>POINT (4732026.336 1438539.627)</td>\n",
       "      <td>MT</td>\n",
       "      <td>Ghent</td>\n",
       "      <td>300</td>\n",
       "      <td>POINT (3881703.383 3123724.104)</td>\n",
       "      <td>BE</td>\n",
       "      <td>1887.563468</td>\n",
       "    </tr>\n",
       "  </tbody>\n",
       "</table>\n",
       "<p>11175 rows × 12 columns</p>\n",
       "</div>"
      ],
      "text/plain": [
       "         city_A     city_B  collocation_en  Mua_en_A  SizeMUA1k_A  \\\n",
       "0         Paris     London         21874.0     Paris         9591   \n",
       "1         Paris     Madrid          3394.0     Paris         9591   \n",
       "2         Paris     Berlin          7899.0     Paris         9591   \n",
       "3         Paris      Milan          3342.0     Paris         9591   \n",
       "4         Paris  Barcelona          2397.0     Paris         9591   \n",
       "...         ...        ...             ...       ...          ...   \n",
       "11170    Brasov   Valletta             0.0    Brasov          307   \n",
       "11171    Brasov      Ghent             1.0    Brasov          307   \n",
       "11172      Bonn   Valletta             4.0      Bonn          306   \n",
       "11173      Bonn      Ghent            22.0      Bonn          306   \n",
       "11174  Valletta      Ghent             0.0  Valletta          301   \n",
       "\n",
       "                            geometry_A CC_A   Mua_en_B  SizeMUA1k_B  \\\n",
       "0      POINT (3760015.368 2889948.695)   FR     London         8256   \n",
       "1      POINT (3760015.368 2889948.695)   FR     Madrid         4955   \n",
       "2      POINT (3760015.368 2889948.695)   FR     Berlin         3776   \n",
       "3      POINT (3760015.368 2889948.695)   FR      Milan         3698   \n",
       "4      POINT (3760015.368 2889948.695)   FR  Barcelona         3659   \n",
       "...                                ...  ...        ...          ...   \n",
       "11170  POINT (5529295.231 2631657.414)   RO   Valletta          301   \n",
       "11171  POINT (5529295.231 2631657.414)   RO      Ghent          300   \n",
       "11172  POINT (4116262.831 3073236.167)   DE   Valletta          301   \n",
       "11173  POINT (4116262.831 3073236.167)   DE      Ghent          300   \n",
       "11174  POINT (4732026.336 1438539.627)   MT      Ghent          300   \n",
       "\n",
       "                            geometry_B CC_B     distance  \n",
       "0      POINT (3623219.566 3204183.954)   UK   342.719841  \n",
       "1      POINT (3161798.324 2030549.871)   ES  1047.105521  \n",
       "2      POINT (4552085.153 3273010.955)   DE   879.835916  \n",
       "3      POINT (4256391.191 2484870.286)   IT   640.685161  \n",
       "4      POINT (3664331.118 2067683.425)   ES   827.813778  \n",
       "...                                ...  ...          ...  \n",
       "11170  POINT (4732026.336 1438539.627)   MT  1434.980050  \n",
       "11171  POINT (3881703.383 3123724.104)   BE  1719.502407  \n",
       "11172  POINT (4732026.336 1438539.627)   MT  1746.824968  \n",
       "11173  POINT (3881703.383 3123724.104)   BE   239.931587  \n",
       "11174  POINT (3881703.383 3123724.104)   BE  1887.563468  \n",
       "\n",
       "[11175 rows x 12 columns]"
      ]
     },
     "execution_count": 52,
     "metadata": {},
     "output_type": "execute_result"
    }
   ],
   "source": [
    "joined_df"
   ]
  },
  {
   "cell_type": "code",
   "execution_count": 56,
   "id": "c6739683",
   "metadata": {},
   "outputs": [],
   "source": [
    "# add the french collocations\n",
    "file_name = \"citypairs_french_20220603.csv\"\n",
    "fp = os.path.join(OUTDIR, file_name)\n",
    "pairs_df_fr = pd.read_csv(fp, sep=';')\n",
    "\n",
    "joined_df['collocation_fr'] = pairs_df_fr['collocation_fr'].copy()"
   ]
  },
  {
   "cell_type": "code",
   "execution_count": 57,
   "id": "ec2f1ed0",
   "metadata": {},
   "outputs": [],
   "source": [
    "gravity_df = joined_df[['city_A', 'city_B', 'SizeMUA1k_A', 'SizeMUA1k_B', 'CC_A', 'CC_B', \n",
    "                        'distance', 'collocation_en', 'collocation_fr']]"
   ]
  },
  {
   "cell_type": "code",
   "execution_count": 58,
   "id": "f368b00f",
   "metadata": {},
   "outputs": [
    {
     "data": {
      "text/html": [
       "<div>\n",
       "<style scoped>\n",
       "    .dataframe tbody tr th:only-of-type {\n",
       "        vertical-align: middle;\n",
       "    }\n",
       "\n",
       "    .dataframe tbody tr th {\n",
       "        vertical-align: top;\n",
       "    }\n",
       "\n",
       "    .dataframe thead th {\n",
       "        text-align: right;\n",
       "    }\n",
       "</style>\n",
       "<table border=\"1\" class=\"dataframe\">\n",
       "  <thead>\n",
       "    <tr style=\"text-align: right;\">\n",
       "      <th></th>\n",
       "      <th>city_A</th>\n",
       "      <th>city_B</th>\n",
       "      <th>SizeMUA1k_A</th>\n",
       "      <th>SizeMUA1k_B</th>\n",
       "      <th>CC_A</th>\n",
       "      <th>CC_B</th>\n",
       "      <th>distance</th>\n",
       "      <th>collocation_en</th>\n",
       "      <th>collocation_fr</th>\n",
       "    </tr>\n",
       "  </thead>\n",
       "  <tbody>\n",
       "    <tr>\n",
       "      <th>0</th>\n",
       "      <td>Paris</td>\n",
       "      <td>London</td>\n",
       "      <td>9591</td>\n",
       "      <td>8256</td>\n",
       "      <td>FR</td>\n",
       "      <td>UK</td>\n",
       "      <td>342.719841</td>\n",
       "      <td>21874.0</td>\n",
       "      <td>10733.0</td>\n",
       "    </tr>\n",
       "    <tr>\n",
       "      <th>1</th>\n",
       "      <td>Paris</td>\n",
       "      <td>Madrid</td>\n",
       "      <td>9591</td>\n",
       "      <td>4955</td>\n",
       "      <td>FR</td>\n",
       "      <td>ES</td>\n",
       "      <td>1047.105521</td>\n",
       "      <td>3394.0</td>\n",
       "      <td>2404.0</td>\n",
       "    </tr>\n",
       "    <tr>\n",
       "      <th>2</th>\n",
       "      <td>Paris</td>\n",
       "      <td>Berlin</td>\n",
       "      <td>9591</td>\n",
       "      <td>3776</td>\n",
       "      <td>FR</td>\n",
       "      <td>DE</td>\n",
       "      <td>879.835916</td>\n",
       "      <td>7899.0</td>\n",
       "      <td>4723.0</td>\n",
       "    </tr>\n",
       "    <tr>\n",
       "      <th>3</th>\n",
       "      <td>Paris</td>\n",
       "      <td>Milan</td>\n",
       "      <td>9591</td>\n",
       "      <td>3698</td>\n",
       "      <td>FR</td>\n",
       "      <td>IT</td>\n",
       "      <td>640.685161</td>\n",
       "      <td>3342.0</td>\n",
       "      <td>2713.0</td>\n",
       "    </tr>\n",
       "    <tr>\n",
       "      <th>4</th>\n",
       "      <td>Paris</td>\n",
       "      <td>Barcelona</td>\n",
       "      <td>9591</td>\n",
       "      <td>3659</td>\n",
       "      <td>FR</td>\n",
       "      <td>ES</td>\n",
       "      <td>827.813778</td>\n",
       "      <td>2397.0</td>\n",
       "      <td>1696.0</td>\n",
       "    </tr>\n",
       "    <tr>\n",
       "      <th>...</th>\n",
       "      <td>...</td>\n",
       "      <td>...</td>\n",
       "      <td>...</td>\n",
       "      <td>...</td>\n",
       "      <td>...</td>\n",
       "      <td>...</td>\n",
       "      <td>...</td>\n",
       "      <td>...</td>\n",
       "      <td>...</td>\n",
       "    </tr>\n",
       "    <tr>\n",
       "      <th>11170</th>\n",
       "      <td>Brasov</td>\n",
       "      <td>Valletta</td>\n",
       "      <td>307</td>\n",
       "      <td>301</td>\n",
       "      <td>RO</td>\n",
       "      <td>MT</td>\n",
       "      <td>1434.980050</td>\n",
       "      <td>0.0</td>\n",
       "      <td>0.0</td>\n",
       "    </tr>\n",
       "    <tr>\n",
       "      <th>11171</th>\n",
       "      <td>Brasov</td>\n",
       "      <td>Ghent</td>\n",
       "      <td>307</td>\n",
       "      <td>300</td>\n",
       "      <td>RO</td>\n",
       "      <td>BE</td>\n",
       "      <td>1719.502407</td>\n",
       "      <td>1.0</td>\n",
       "      <td>0.0</td>\n",
       "    </tr>\n",
       "    <tr>\n",
       "      <th>11172</th>\n",
       "      <td>Bonn</td>\n",
       "      <td>Valletta</td>\n",
       "      <td>306</td>\n",
       "      <td>301</td>\n",
       "      <td>DE</td>\n",
       "      <td>MT</td>\n",
       "      <td>1746.824968</td>\n",
       "      <td>4.0</td>\n",
       "      <td>0.0</td>\n",
       "    </tr>\n",
       "    <tr>\n",
       "      <th>11173</th>\n",
       "      <td>Bonn</td>\n",
       "      <td>Ghent</td>\n",
       "      <td>306</td>\n",
       "      <td>300</td>\n",
       "      <td>DE</td>\n",
       "      <td>BE</td>\n",
       "      <td>239.931587</td>\n",
       "      <td>22.0</td>\n",
       "      <td>14.0</td>\n",
       "    </tr>\n",
       "    <tr>\n",
       "      <th>11174</th>\n",
       "      <td>Valletta</td>\n",
       "      <td>Ghent</td>\n",
       "      <td>301</td>\n",
       "      <td>300</td>\n",
       "      <td>MT</td>\n",
       "      <td>BE</td>\n",
       "      <td>1887.563468</td>\n",
       "      <td>0.0</td>\n",
       "      <td>0.0</td>\n",
       "    </tr>\n",
       "  </tbody>\n",
       "</table>\n",
       "<p>11175 rows × 9 columns</p>\n",
       "</div>"
      ],
      "text/plain": [
       "         city_A     city_B  SizeMUA1k_A  SizeMUA1k_B CC_A CC_B     distance  \\\n",
       "0         Paris     London         9591         8256   FR   UK   342.719841   \n",
       "1         Paris     Madrid         9591         4955   FR   ES  1047.105521   \n",
       "2         Paris     Berlin         9591         3776   FR   DE   879.835916   \n",
       "3         Paris      Milan         9591         3698   FR   IT   640.685161   \n",
       "4         Paris  Barcelona         9591         3659   FR   ES   827.813778   \n",
       "...         ...        ...          ...          ...  ...  ...          ...   \n",
       "11170    Brasov   Valletta          307          301   RO   MT  1434.980050   \n",
       "11171    Brasov      Ghent          307          300   RO   BE  1719.502407   \n",
       "11172      Bonn   Valletta          306          301   DE   MT  1746.824968   \n",
       "11173      Bonn      Ghent          306          300   DE   BE   239.931587   \n",
       "11174  Valletta      Ghent          301          300   MT   BE  1887.563468   \n",
       "\n",
       "       collocation_en  collocation_fr  \n",
       "0             21874.0         10733.0  \n",
       "1              3394.0          2404.0  \n",
       "2              7899.0          4723.0  \n",
       "3              3342.0          2713.0  \n",
       "4              2397.0          1696.0  \n",
       "...               ...             ...  \n",
       "11170             0.0             0.0  \n",
       "11171             1.0             0.0  \n",
       "11172             4.0             0.0  \n",
       "11173            22.0            14.0  \n",
       "11174             0.0             0.0  \n",
       "\n",
       "[11175 rows x 9 columns]"
      ]
     },
     "execution_count": 58,
     "metadata": {},
     "output_type": "execute_result"
    }
   ],
   "source": [
    "gravity_df"
   ]
  },
  {
   "cell_type": "code",
   "execution_count": 198,
   "id": "093b4383",
   "metadata": {},
   "outputs": [],
   "source": [
    "# save the no dummies version\n",
    "file_name = \"gravity_df_noDUM.csv\"\n",
    "fp = os.path.join(OUTDIR, file_name)\n",
    "gravity_df.to_csv(fp, index = False, sep = \";\")"
   ]
  },
  {
   "cell_type": "markdown",
   "id": "cd5a639a",
   "metadata": {},
   "source": [
    "### Dummies\n",
    "- ~~Border~~\n",
    "- ~~French / English sphere (do I want to differentiate between single & double?)~~\n",
    "- Multiple names for 1 city (e.g. Lyons/Lyon, Goteborg/Gothenburg, etc)\n",
    "- Also a name (Florence, Sofia)\n",
    "- Also a word (Lens, Nice)\n",
    "- Multiple cities with the same name (Frankfurt, London, Valence, Birmingham, etc.) (perhaps put a lower limit in there, like the other place must have at least x inhabitants)"
   ]
  },
  {
   "cell_type": "code",
   "execution_count": 76,
   "id": "e2fdf7be",
   "metadata": {},
   "outputs": [],
   "source": [
    "# border dummy\n",
    "gravity_df['border_DUM'] = np.where(gravity_df['CC_A'] != gravity_df['CC_B'], 1, 0)\n"
   ]
  },
  {
   "cell_type": "code",
   "execution_count": 77,
   "id": "588ca1c5",
   "metadata": {
    "scrolled": true
   },
   "outputs": [],
   "source": [
    "# French sphere Dummy\n",
    "gravity_df['FR_DUM'] = np.where((gravity_df['CC_A'] == 'FR')|\n",
    "                            (gravity_df['CC_B'] == 'FR')|\n",
    "                            (gravity_df['CC_A'] == 'BE')|\n",
    "                            (gravity_df['CC_B'] == 'BE'), 1, 0)\n",
    "\n",
    "# is 1 if both cities in the french sphere\n",
    "gravity_df['FR_int'] = np.where((gravity_df['FR'] == 1) & (gravity_df['Border'] == 0), 1, 0)\n",
    "\n",
    "# french speaking swiss cities?!!! --> change earlier to include lang1 and lang2 from the open maps dataset"
   ]
  },
  {
   "cell_type": "code",
   "execution_count": 78,
   "id": "779380ae",
   "metadata": {},
   "outputs": [],
   "source": [
    "# English sphere Dummy\n",
    "gravity_df['EN_DUM'] = np.where((gravity_df['CC_A'] == 'UK')|\n",
    "                            (gravity_df['CC_B'] == 'UK')|\n",
    "                            (gravity_df['CC_A'] == 'IE')|\n",
    "                            (gravity_df['CC_B'] == 'IE'), 1, 0)\n",
    "\n",
    "# is 1 if both cities in the english sphere\n",
    "gravity_df['EN_int'] = np.where((gravity_df['EN'] == 1) & (gravity_df['Border'] == 0), 1, 0)"
   ]
  },
  {
   "cell_type": "code",
   "execution_count": 81,
   "id": "ef1808a8",
   "metadata": {},
   "outputs": [],
   "source": [
    "gravity_df = gravity_df[['city_A', 'city_B', 'SizeMUA1k_A', 'SizeMUA1k_B', 'distance',\n",
    "                         'border_DUM', 'FR_DUM', 'FR_int', 'EN_DUM', 'EN_int',\n",
    "                         'collocation_en', 'collocation_fr']]"
   ]
  },
  {
   "cell_type": "code",
   "execution_count": 83,
   "id": "7b2a69d5",
   "metadata": {},
   "outputs": [],
   "source": [
    "gravity_df.columns = gravity_df.columns.str.replace('SizeMUA1k', 'POP')"
   ]
  },
  {
   "cell_type": "code",
   "execution_count": 84,
   "id": "9106a080",
   "metadata": {
    "scrolled": true
   },
   "outputs": [
    {
     "data": {
      "text/html": [
       "<div>\n",
       "<style scoped>\n",
       "    .dataframe tbody tr th:only-of-type {\n",
       "        vertical-align: middle;\n",
       "    }\n",
       "\n",
       "    .dataframe tbody tr th {\n",
       "        vertical-align: top;\n",
       "    }\n",
       "\n",
       "    .dataframe thead th {\n",
       "        text-align: right;\n",
       "    }\n",
       "</style>\n",
       "<table border=\"1\" class=\"dataframe\">\n",
       "  <thead>\n",
       "    <tr style=\"text-align: right;\">\n",
       "      <th></th>\n",
       "      <th>city_A</th>\n",
       "      <th>city_B</th>\n",
       "      <th>POP_A</th>\n",
       "      <th>POP_B</th>\n",
       "      <th>distance</th>\n",
       "      <th>border_DUM</th>\n",
       "      <th>FR_DUM</th>\n",
       "      <th>FR_int</th>\n",
       "      <th>EN_DUM</th>\n",
       "      <th>EN_int</th>\n",
       "      <th>collocation_en</th>\n",
       "      <th>collocation_fr</th>\n",
       "    </tr>\n",
       "  </thead>\n",
       "  <tbody>\n",
       "    <tr>\n",
       "      <th>0</th>\n",
       "      <td>Paris</td>\n",
       "      <td>London</td>\n",
       "      <td>9591</td>\n",
       "      <td>8256</td>\n",
       "      <td>342.719841</td>\n",
       "      <td>1</td>\n",
       "      <td>1</td>\n",
       "      <td>0</td>\n",
       "      <td>1</td>\n",
       "      <td>0</td>\n",
       "      <td>21874.0</td>\n",
       "      <td>10733.0</td>\n",
       "    </tr>\n",
       "    <tr>\n",
       "      <th>1</th>\n",
       "      <td>Paris</td>\n",
       "      <td>Madrid</td>\n",
       "      <td>9591</td>\n",
       "      <td>4955</td>\n",
       "      <td>1047.105521</td>\n",
       "      <td>1</td>\n",
       "      <td>1</td>\n",
       "      <td>0</td>\n",
       "      <td>0</td>\n",
       "      <td>0</td>\n",
       "      <td>3394.0</td>\n",
       "      <td>2404.0</td>\n",
       "    </tr>\n",
       "    <tr>\n",
       "      <th>2</th>\n",
       "      <td>Paris</td>\n",
       "      <td>Berlin</td>\n",
       "      <td>9591</td>\n",
       "      <td>3776</td>\n",
       "      <td>879.835916</td>\n",
       "      <td>1</td>\n",
       "      <td>1</td>\n",
       "      <td>0</td>\n",
       "      <td>0</td>\n",
       "      <td>0</td>\n",
       "      <td>7899.0</td>\n",
       "      <td>4723.0</td>\n",
       "    </tr>\n",
       "    <tr>\n",
       "      <th>3</th>\n",
       "      <td>Paris</td>\n",
       "      <td>Milan</td>\n",
       "      <td>9591</td>\n",
       "      <td>3698</td>\n",
       "      <td>640.685161</td>\n",
       "      <td>1</td>\n",
       "      <td>1</td>\n",
       "      <td>0</td>\n",
       "      <td>0</td>\n",
       "      <td>0</td>\n",
       "      <td>3342.0</td>\n",
       "      <td>2713.0</td>\n",
       "    </tr>\n",
       "    <tr>\n",
       "      <th>4</th>\n",
       "      <td>Paris</td>\n",
       "      <td>Barcelona</td>\n",
       "      <td>9591</td>\n",
       "      <td>3659</td>\n",
       "      <td>827.813778</td>\n",
       "      <td>1</td>\n",
       "      <td>1</td>\n",
       "      <td>0</td>\n",
       "      <td>0</td>\n",
       "      <td>0</td>\n",
       "      <td>2397.0</td>\n",
       "      <td>1696.0</td>\n",
       "    </tr>\n",
       "    <tr>\n",
       "      <th>5</th>\n",
       "      <td>Paris</td>\n",
       "      <td>Athens</td>\n",
       "      <td>9591</td>\n",
       "      <td>3331</td>\n",
       "      <td>2096.025767</td>\n",
       "      <td>1</td>\n",
       "      <td>1</td>\n",
       "      <td>0</td>\n",
       "      <td>0</td>\n",
       "      <td>0</td>\n",
       "      <td>1249.0</td>\n",
       "      <td>957.0</td>\n",
       "    </tr>\n",
       "    <tr>\n",
       "      <th>6</th>\n",
       "      <td>Paris</td>\n",
       "      <td>Rome</td>\n",
       "      <td>9591</td>\n",
       "      <td>2532</td>\n",
       "      <td>1108.950763</td>\n",
       "      <td>1</td>\n",
       "      <td>1</td>\n",
       "      <td>0</td>\n",
       "      <td>0</td>\n",
       "      <td>0</td>\n",
       "      <td>6821.0</td>\n",
       "      <td>6116.0</td>\n",
       "    </tr>\n",
       "    <tr>\n",
       "      <th>7</th>\n",
       "      <td>Paris</td>\n",
       "      <td>Birmingham</td>\n",
       "      <td>9591</td>\n",
       "      <td>2363</td>\n",
       "      <td>501.095554</td>\n",
       "      <td>1</td>\n",
       "      <td>1</td>\n",
       "      <td>0</td>\n",
       "      <td>1</td>\n",
       "      <td>0</td>\n",
       "      <td>525.0</td>\n",
       "      <td>171.0</td>\n",
       "    </tr>\n",
       "    <tr>\n",
       "      <th>8</th>\n",
       "      <td>Paris</td>\n",
       "      <td>Lisbon</td>\n",
       "      <td>9591</td>\n",
       "      <td>2315</td>\n",
       "      <td>1444.535501</td>\n",
       "      <td>1</td>\n",
       "      <td>1</td>\n",
       "      <td>0</td>\n",
       "      <td>0</td>\n",
       "      <td>0</td>\n",
       "      <td>1071.0</td>\n",
       "      <td>807.0</td>\n",
       "    </tr>\n",
       "    <tr>\n",
       "      <th>9</th>\n",
       "      <td>Paris</td>\n",
       "      <td>Naples</td>\n",
       "      <td>9591</td>\n",
       "      <td>2308</td>\n",
       "      <td>1293.563826</td>\n",
       "      <td>1</td>\n",
       "      <td>1</td>\n",
       "      <td>0</td>\n",
       "      <td>0</td>\n",
       "      <td>0</td>\n",
       "      <td>1180.0</td>\n",
       "      <td>979.0</td>\n",
       "    </tr>\n",
       "  </tbody>\n",
       "</table>\n",
       "</div>"
      ],
      "text/plain": [
       "  city_A      city_B  POP_A  POP_B     distance  border_DUM  FR_DUM  FR_int  \\\n",
       "0  Paris      London   9591   8256   342.719841           1       1       0   \n",
       "1  Paris      Madrid   9591   4955  1047.105521           1       1       0   \n",
       "2  Paris      Berlin   9591   3776   879.835916           1       1       0   \n",
       "3  Paris       Milan   9591   3698   640.685161           1       1       0   \n",
       "4  Paris   Barcelona   9591   3659   827.813778           1       1       0   \n",
       "5  Paris      Athens   9591   3331  2096.025767           1       1       0   \n",
       "6  Paris        Rome   9591   2532  1108.950763           1       1       0   \n",
       "7  Paris  Birmingham   9591   2363   501.095554           1       1       0   \n",
       "8  Paris      Lisbon   9591   2315  1444.535501           1       1       0   \n",
       "9  Paris      Naples   9591   2308  1293.563826           1       1       0   \n",
       "\n",
       "   EN_DUM  EN_int  collocation_en  collocation_fr  \n",
       "0       1       0         21874.0         10733.0  \n",
       "1       0       0          3394.0          2404.0  \n",
       "2       0       0          7899.0          4723.0  \n",
       "3       0       0          3342.0          2713.0  \n",
       "4       0       0          2397.0          1696.0  \n",
       "5       0       0          1249.0           957.0  \n",
       "6       0       0          6821.0          6116.0  \n",
       "7       1       0           525.0           171.0  \n",
       "8       0       0          1071.0           807.0  \n",
       "9       0       0          1180.0           979.0  "
      ]
     },
     "execution_count": 84,
     "metadata": {},
     "output_type": "execute_result"
    }
   ],
   "source": [
    "gravity_df.head(10)"
   ]
  },
  {
   "cell_type": "code",
   "execution_count": 87,
   "id": "86d16063",
   "metadata": {},
   "outputs": [
    {
     "data": {
      "text/plain": [
       "(11175, 12)"
      ]
     },
     "execution_count": 87,
     "metadata": {},
     "output_type": "execute_result"
    }
   ],
   "source": [
    "gravity_df.shape"
   ]
  },
  {
   "cell_type": "code",
   "execution_count": 85,
   "id": "05a267a0",
   "metadata": {},
   "outputs": [],
   "source": [
    "# save the no dummies version\n",
    "file_name = \"gravity_df_DUM.csv\"\n",
    "fp = os.path.join(OUTDIR, file_name)\n",
    "gravity_df.to_csv(fp, index = False, sep = \";\")"
   ]
  },
  {
   "cell_type": "markdown",
   "id": "7599a4a6",
   "metadata": {},
   "source": [
    "## Normalize Collocations\n",
    "- count total nr of paragraphs for each language\n",
    "- calculate proportion of possible connections that connect"
   ]
  },
  {
   "cell_type": "code",
   "execution_count": 195,
   "id": "1b214a9a",
   "metadata": {},
   "outputs": [],
   "source": [
    "# def normalize_en(row):\n",
    "#     val = (row['collocation_en']-np.mean(gravity_df['collocation_en']))/np.std(gravity_df['collocation_en'])\n",
    "#     return val\n",
    "\n",
    "# def normalize_fr(row): \n",
    "#     val = (row['collocation_fr']-np.mean(gravity_df['collocation_fr']))/np.std(gravity_df['collocation_fr'])\n",
    "#     return val\n",
    "\n",
    "# # z-score normalisation of collocations\n",
    "# gravity_df['collocation_en_norm'] = gravity_df.apply(normalize_en, axis=1)\n",
    "# gravity_df['collocation_fr_norm'] = gravity_df.apply(normalize_fr, axis=1)"
   ]
  },
  {
   "cell_type": "code",
   "execution_count": null,
   "id": "87f13473",
   "metadata": {},
   "outputs": [],
   "source": []
  },
  {
   "cell_type": "code",
   "execution_count": 196,
   "id": "0be7885c",
   "metadata": {
    "scrolled": true
   },
   "outputs": [
    {
     "name": "stderr",
     "output_type": "stream",
     "text": [
      "/var/folders/15/8v892gvj639_bp8s5ftm80400000gn/T/ipykernel_46689/3238373789.py:2: SettingWithCopyWarning: \n",
      "A value is trying to be set on a copy of a slice from a DataFrame.\n",
      "Try using .loc[row_indexer,col_indexer] = value instead\n",
      "\n",
      "See the caveats in the documentation: https://pandas.pydata.org/pandas-docs/stable/user_guide/indexing.html#returning-a-view-versus-a-copy\n",
      "  gravity_df['collocation_en_norm'] = gravity_df.apply(normalize_en, axis=1)\n"
     ]
    }
   ],
   "source": []
  },
  {
   "cell_type": "code",
   "execution_count": 59,
   "id": "9995a265",
   "metadata": {},
   "outputs": [
    {
     "data": {
      "image/png": "[encoded data removed]",
      "text/plain": [
       "<Figure size 432x216 with 1 Axes>"
      ]
     },
     "metadata": {
      "needs_background": "light"
     },
     "output_type": "display_data"
    }
   ],
   "source": [
    "import matplotlib.pyplot as plt\n",
    "%matplotlib inline\n",
    "\n",
    "gravity_df['collocation_en'].plot.hist(color = 'red', figsize = (6, 3));"
   ]
  }
 ],
 "metadata": {
  "kernelspec": {
   "display_name": "Python 3 (ipykernel)",
   "language": "python",
   "name": "python3"
  },
  "language_info": {
   "codemirror_mode": {
    "name": "ipython",
    "version": 3
   },
   "file_extension": ".py",
   "mimetype": "text/x-python",
   "name": "python",
   "nbconvert_exporter": "python",
   "pygments_lexer": "ipython3",
   "version": "3.10.4"
  }
 },
 "nbformat": 4,
 "nbformat_minor": 5
}
