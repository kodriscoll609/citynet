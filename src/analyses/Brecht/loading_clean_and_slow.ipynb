{
 "cells": [
  {
   "cell_type": "code",
   "execution_count": 1,
   "id": "2e114d6b",
   "metadata": {},
   "outputs": [],
   "source": [
    "import re\n",
    "import pandas as pd\n",
    "import os\n",
    "import time\n",
    "from tqdm.notebook import tqdm\n",
    "import unidecode\n",
    "import matplotlib.pyplot as plt\n",
    "%matplotlib inline\n",
    "\n",
    "# import from script\n",
    "from preprocessing_functions import *"
   ]
  },
  {
   "cell_type": "markdown",
   "id": "3aaf2cf0",
   "metadata": {},
   "source": [
    "### Load Cities"
   ]
  },
  {
   "cell_type": "code",
   "execution_count": 2,
   "id": "f7d23436",
   "metadata": {},
   "outputs": [
    {
     "data": {
      "application/vnd.jupyter.widget-view+json": {
       "model_id": "b737235c46384b2a8e1973cea4aa96d7",
       "version_major": 2,
       "version_minor": 0
      },
      "text/plain": [
       "Progress Total:   0%|          | 0/70 [00:00<?, ?it/s]"
      ]
     },
     "metadata": {},
     "output_type": "display_data"
    },
    {
     "name": "stdout",
     "output_type": "stream",
     "text": [
      "\n",
      "Starting preprocessing on: /Volumes/NIJMAN/THESIS/enwiki_extracted/ms8\n",
      "It took 9.956931114196777s to read /Volumes/NIJMAN/THESIS/enwiki_extracted/ms8.\n"
     ]
    },
    {
     "data": {
      "application/vnd.jupyter.widget-view+json": {
       "model_id": "a320fcfa83384a6a851e34f701d8645f",
       "version_major": 2,
       "version_minor": 0
      },
      "text/plain": [
       "Progress split_dump():   0%|          | 0/550 [00:00<?, ?it/s]"
      ]
     },
     "metadata": {},
     "output_type": "display_data"
    },
    {
     "data": {
      "application/vnd.jupyter.widget-view+json": {
       "model_id": "a093644dc81641cba896b6659fe44cac",
       "version_major": 2,
       "version_minor": 0
      },
      "text/plain": [
       "Progress process_dump():   0%|          | 0/292718 [00:00<?, ?it/s]"
      ]
     },
     "metadata": {},
     "output_type": "display_data"
    },
    {
     "name": "stdout",
     "output_type": "stream",
     "text": [
      "5.63% of articles contain 2 toponyms\n",
      "Removing 17 referral pages\n",
      "file has been written to: ../../../data/enwiki/enwikidump_ms8.csv\n",
      "\n",
      "Starting preprocessing on: /Volumes/NIJMAN/THESIS/enwiki_extracted/ms6\n",
      "It took 7.188877105712891s to read /Volumes/NIJMAN/THESIS/enwiki_extracted/ms6.\n"
     ]
    },
    {
     "data": {
      "application/vnd.jupyter.widget-view+json": {
       "model_id": "d5391dfc60d84e958e47f4d5751c85b0",
       "version_major": 2,
       "version_minor": 0
      },
      "text/plain": [
       "Progress split_dump():   0%|          | 0/565 [00:00<?, ?it/s]"
      ]
     },
     "metadata": {},
     "output_type": "display_data"
    },
    {
     "data": {
      "application/vnd.jupyter.widget-view+json": {
       "model_id": "d61c5c994f41478eb6dbb39e0b868833",
       "version_major": 2,
       "version_minor": 0
      },
      "text/plain": [
       "Progress process_dump():   0%|          | 0/222323 [00:00<?, ?it/s]"
      ]
     },
     "metadata": {},
     "output_type": "display_data"
    },
    {
     "name": "stdout",
     "output_type": "stream",
     "text": [
      "7.23% of articles contain 2 toponyms\n",
      "Removing 1 referral pages\n",
      "file has been written to: ../../../data/enwiki/enwikidump_ms6.csv\n",
      "Skipping: /Volumes/NIJMAN/THESIS/enwiki_extracted/.DS_Store\n",
      "Skipping: /Volumes/NIJMAN/THESIS/enwiki_extracted/._.DS_Store\n",
      "\n",
      "Starting preprocessing on: /Volumes/NIJMAN/THESIS/enwiki_extracted/ms1\n",
      "It took 4.727787971496582s to read /Volumes/NIJMAN/THESIS/enwiki_extracted/ms1.\n"
     ]
    },
    {
     "data": {
      "application/vnd.jupyter.widget-view+json": {
       "model_id": "5766469597364ef4b78cf00d637cccab",
       "version_major": 2,
       "version_minor": 0
      },
      "text/plain": [
       "Progress split_dump():   0%|          | 0/346 [00:00<?, ?it/s]"
      ]
     },
     "metadata": {},
     "output_type": "display_data"
    },
    {
     "data": {
      "application/vnd.jupyter.widget-view+json": {
       "model_id": "d94aaaa8d6a84b8bb4b5ee9feb39453e",
       "version_major": 2,
       "version_minor": 0
      },
      "text/plain": [
       "Progress process_dump():   0%|          | 0/27503 [00:00<?, ?it/s]"
      ]
     },
     "metadata": {},
     "output_type": "display_data"
    },
    {
     "name": "stdout",
     "output_type": "stream",
     "text": [
      "19.81% of articles contain 2 toponyms\n",
      "Removing 0 referral pages\n",
      "file has been written to: ../../../data/enwiki/enwikidump_ms1.csv\n",
      "\n",
      "Starting preprocessing on: /Volumes/NIJMAN/THESIS/enwiki_extracted/ms7\n",
      "It took 7.149550914764404s to read /Volumes/NIJMAN/THESIS/enwiki_extracted/ms7.\n"
     ]
    },
    {
     "data": {
      "application/vnd.jupyter.widget-view+json": {
       "model_id": "a2a301c6263044a4ad4dee6d5f7596ec",
       "version_major": 2,
       "version_minor": 0
      },
      "text/plain": [
       "Progress split_dump():   0%|          | 0/559 [00:00<?, ?it/s]"
      ]
     },
     "metadata": {},
     "output_type": "display_data"
    },
    {
     "data": {
      "application/vnd.jupyter.widget-view+json": {
       "model_id": "e6789040abb344faaab2ba7ec591fd35",
       "version_major": 2,
       "version_minor": 0
      },
      "text/plain": [
       "Progress process_dump():   0%|          | 0/266286 [00:00<?, ?it/s]"
      ]
     },
     "metadata": {},
     "output_type": "display_data"
    },
    {
     "name": "stdout",
     "output_type": "stream",
     "text": [
      "5.81% of articles contain 2 toponyms\n",
      "Removing 12 referral pages\n",
      "file has been written to: ../../../data/enwiki/enwikidump_ms7.csv\n",
      "\n",
      "Starting preprocessing on: /Volumes/NIJMAN/THESIS/enwiki_extracted/ms9\n",
      "It took 7.085906982421875s to read /Volumes/NIJMAN/THESIS/enwiki_extracted/ms9.\n"
     ]
    },
    {
     "data": {
      "application/vnd.jupyter.widget-view+json": {
       "model_id": "f6eb471f5dae4afcae5e251c3296b29e",
       "version_major": 2,
       "version_minor": 0
      },
      "text/plain": [
       "Progress split_dump():   0%|          | 0/573 [00:00<?, ?it/s]"
      ]
     },
     "metadata": {},
     "output_type": "display_data"
    },
    {
     "data": {
      "application/vnd.jupyter.widget-view+json": {
       "model_id": "17d30bcaa38b4894ad676e0d2471e895",
       "version_major": 2,
       "version_minor": 0
      },
      "text/plain": [
       "Progress process_dump():   0%|          | 0/345965 [00:00<?, ?it/s]"
      ]
     },
     "metadata": {},
     "output_type": "display_data"
    },
    {
     "name": "stdout",
     "output_type": "stream",
     "text": [
      "5.04% of articles contain 2 toponyms\n",
      "Removing 12 referral pages\n",
      "file has been written to: ../../../data/enwiki/enwikidump_ms9.csv\n",
      "\n",
      "Starting preprocessing on: /Volumes/NIJMAN/THESIS/enwiki_extracted/ms2\n",
      "It took 4.511528253555298s to read /Volumes/NIJMAN/THESIS/enwiki_extracted/ms2.\n"
     ]
    },
    {
     "data": {
      "application/vnd.jupyter.widget-view+json": {
       "model_id": "58371a9b562b47868cf18385569c2190",
       "version_major": 2,
       "version_minor": 0
      },
      "text/plain": [
       "Progress split_dump():   0%|          | 0/521 [00:00<?, ?it/s]"
      ]
     },
     "metadata": {},
     "output_type": "display_data"
    },
    {
     "data": {
      "application/vnd.jupyter.widget-view+json": {
       "model_id": "f1ec5b88a61f46f29f3382b70f17ca94",
       "version_major": 2,
       "version_minor": 0
      },
      "text/plain": [
       "Progress process_dump():   0%|          | 0/83597 [00:00<?, ?it/s]"
      ]
     },
     "metadata": {},
     "output_type": "display_data"
    },
    {
     "name": "stdout",
     "output_type": "stream",
     "text": [
      "9.87% of articles contain 2 toponyms\n",
      "Removing 1 referral pages\n",
      "file has been written to: ../../../data/enwiki/enwikidump_ms2.csv\n",
      "\n",
      "Starting preprocessing on: /Volumes/NIJMAN/THESIS/enwiki_extracted/ms5\n",
      "It took 5.68272590637207s to read /Volumes/NIJMAN/THESIS/enwiki_extracted/ms5.\n"
     ]
    },
    {
     "data": {
      "application/vnd.jupyter.widget-view+json": {
       "model_id": "1dc21713ac7e47e396915d213598f018",
       "version_major": 2,
       "version_minor": 0
      },
      "text/plain": [
       "Progress split_dump():   0%|          | 0/540 [00:00<?, ?it/s]"
      ]
     },
     "metadata": {},
     "output_type": "display_data"
    },
    {
     "data": {
      "application/vnd.jupyter.widget-view+json": {
       "model_id": "bc27912582784397a73858c74b345d5c",
       "version_major": 2,
       "version_minor": 0
      },
      "text/plain": [
       "Progress process_dump():   0%|          | 0/209056 [00:00<?, ?it/s]"
      ]
     },
     "metadata": {},
     "output_type": "display_data"
    },
    {
     "name": "stdout",
     "output_type": "stream",
     "text": [
      "6.68% of articles contain 2 toponyms\n",
      "Removing 5 referral pages\n",
      "file has been written to: ../../../data/enwiki/enwikidump_ms5.csv\n",
      "\n",
      "Starting preprocessing on: /Volumes/NIJMAN/THESIS/enwiki_extracted/ms4\n",
      "It took 4.773979902267456s to read /Volumes/NIJMAN/THESIS/enwiki_extracted/ms4.\n"
     ]
    },
    {
     "data": {
      "application/vnd.jupyter.widget-view+json": {
       "model_id": "aea84ed1a7b24aebb17bdbac91cda3c8",
       "version_major": 2,
       "version_minor": 0
      },
      "text/plain": [
       "Progress split_dump():   0%|          | 0/529 [00:00<?, ?it/s]"
      ]
     },
     "metadata": {},
     "output_type": "display_data"
    },
    {
     "data": {
      "application/vnd.jupyter.widget-view+json": {
       "model_id": "e52775a8ebd24abab2c046f3bb1a657b",
       "version_major": 2,
       "version_minor": 0
      },
      "text/plain": [
       "Progress process_dump():   0%|          | 0/138287 [00:00<?, ?it/s]"
      ]
     },
     "metadata": {},
     "output_type": "display_data"
    },
    {
     "name": "stdout",
     "output_type": "stream",
     "text": [
      "9.47% of articles contain 2 toponyms\n",
      "Removing 5 referral pages\n",
      "file has been written to: ../../../data/enwiki/enwikidump_ms4.csv\n",
      "\n",
      "Starting preprocessing on: /Volumes/NIJMAN/THESIS/enwiki_extracted/ms3\n",
      "It took 4.796770095825195s to read /Volumes/NIJMAN/THESIS/enwiki_extracted/ms3.\n"
     ]
    },
    {
     "data": {
      "application/vnd.jupyter.widget-view+json": {
       "model_id": "e54af94cff594ac1ae6d860e07a56618",
       "version_major": 2,
       "version_minor": 0
      },
      "text/plain": [
       "Progress split_dump():   0%|          | 0/492 [00:00<?, ?it/s]"
      ]
     },
     "metadata": {},
     "output_type": "display_data"
    },
    {
     "data": {
      "application/vnd.jupyter.widget-view+json": {
       "model_id": "95b11dfdc7be4f038e83031449225ae1",
       "version_major": 2,
       "version_minor": 0
      },
      "text/plain": [
       "Progress process_dump():   0%|          | 0/88831 [00:00<?, ?it/s]"
      ]
     },
     "metadata": {},
     "output_type": "display_data"
    },
    {
     "name": "stdout",
     "output_type": "stream",
     "text": [
      "13.27% of articles contain 2 toponyms\n",
      "Removing 3 referral pages\n",
      "file has been written to: ../../../data/enwiki/enwikidump_ms3.csv\n",
      "\n",
      "Starting preprocessing on: /Volumes/NIJMAN/THESIS/enwiki_extracted/ms10\n",
      "It took 5.822203874588013s to read /Volumes/NIJMAN/THESIS/enwiki_extracted/ms10.\n"
     ]
    },
    {
     "data": {
      "application/vnd.jupyter.widget-view+json": {
       "model_id": "0a4314c1ca5a4dcc941ef44c05c01836",
       "version_major": 2,
       "version_minor": 0
      },
      "text/plain": [
       "Progress split_dump():   0%|          | 0/545 [00:00<?, ?it/s]"
      ]
     },
     "metadata": {},
     "output_type": "display_data"
    },
    {
     "data": {
      "application/vnd.jupyter.widget-view+json": {
       "model_id": "4bf6f99b136749b48087d00ff7f88cb6",
       "version_major": 2,
       "version_minor": 0
      },
      "text/plain": [
       "Progress process_dump():   0%|          | 0/376352 [00:00<?, ?it/s]"
      ]
     },
     "metadata": {},
     "output_type": "display_data"
    },
    {
     "name": "stdout",
     "output_type": "stream",
     "text": [
      "4.39% of articles contain 2 toponyms\n",
      "Removing 21 referral pages\n",
      "file has been written to: ../../../data/enwiki/enwikidump_ms10.csv\n",
      "\n",
      "Starting preprocessing on: /Volumes/NIJMAN/THESIS/enwiki_extracted/ms11\n",
      "It took 5.030411958694458s to read /Volumes/NIJMAN/THESIS/enwiki_extracted/ms11.\n"
     ]
    },
    {
     "data": {
      "application/vnd.jupyter.widget-view+json": {
       "model_id": "83df334ea0304b2785dd20b6762c3205",
       "version_major": 2,
       "version_minor": 0
      },
      "text/plain": [
       "Progress split_dump():   0%|          | 0/505 [00:00<?, ?it/s]"
      ]
     },
     "metadata": {},
     "output_type": "display_data"
    },
    {
     "data": {
      "application/vnd.jupyter.widget-view+json": {
       "model_id": "cff354a39f7d42a7a5635e026b4c087c",
       "version_major": 2,
       "version_minor": 0
      },
      "text/plain": [
       "Progress process_dump():   0%|          | 0/385132 [00:00<?, ?it/s]"
      ]
     },
     "metadata": {},
     "output_type": "display_data"
    },
    {
     "name": "stdout",
     "output_type": "stream",
     "text": [
      "4.29% of articles contain 2 toponyms\n",
      "Removing 14 referral pages\n",
      "file has been written to: ../../../data/enwiki/enwikidump_ms11.csv\n",
      "\n",
      "Starting preprocessing on: /Volumes/NIJMAN/THESIS/enwiki_extracted/ms12\n",
      "It took 2.4691340923309326s to read /Volumes/NIJMAN/THESIS/enwiki_extracted/ms12.\n"
     ]
    },
    {
     "data": {
      "application/vnd.jupyter.widget-view+json": {
       "model_id": "2a0c2e3af506440fabfb2efb91380a5f",
       "version_major": 2,
       "version_minor": 0
      },
      "text/plain": [
       "Progress split_dump():   0%|          | 0/49 [00:00<?, ?it/s]"
      ]
     },
     "metadata": {},
     "output_type": "display_data"
    },
    {
     "data": {
      "application/vnd.jupyter.widget-view+json": {
       "model_id": "25c2a3b6319a43249de46707e4ad9c1e",
       "version_major": 2,
       "version_minor": 0
      },
      "text/plain": [
       "Progress process_dump():   0%|          | 0/36777 [00:00<?, ?it/s]"
      ]
     },
     "metadata": {},
     "output_type": "display_data"
    },
    {
     "name": "stdout",
     "output_type": "stream",
     "text": [
      "3.91% of articles contain 2 toponyms\n",
      "Removing 1 referral pages\n",
      "file has been written to: ../../../data/enwiki/enwikidump_ms12.csv\n",
      "\n",
      "Starting preprocessing on: /Volumes/NIJMAN/THESIS/enwiki_extracted/ms15\n",
      "It took 7.501008749008179s to read /Volumes/NIJMAN/THESIS/enwiki_extracted/ms15.\n"
     ]
    },
    {
     "data": {
      "application/vnd.jupyter.widget-view+json": {
       "model_id": "24c524c802d84c03a67d136cd6d13480",
       "version_major": 2,
       "version_minor": 0
      },
      "text/plain": [
       "Progress split_dump():   0%|          | 0/314 [00:00<?, ?it/s]"
      ]
     },
     "metadata": {},
     "output_type": "display_data"
    },
    {
     "data": {
      "application/vnd.jupyter.widget-view+json": {
       "model_id": "b3419b27ea2c47e08f773c792dd973a0",
       "version_major": 2,
       "version_minor": 0
      },
      "text/plain": [
       "Progress process_dump():   0%|          | 0/276494 [00:00<?, ?it/s]"
      ]
     },
     "metadata": {},
     "output_type": "display_data"
    },
    {
     "name": "stdout",
     "output_type": "stream",
     "text": [
      "3.71% of articles contain 2 toponyms\n",
      "Removing 9 referral pages\n",
      "file has been written to: ../../../data/enwiki/enwikidump_ms15.csv\n",
      "\n",
      "Starting preprocessing on: /Volumes/NIJMAN/THESIS/enwiki_extracted/ms13\n",
      "It took 8.994899988174438s to read /Volumes/NIJMAN/THESIS/enwiki_extracted/ms13.\n"
     ]
    },
    {
     "data": {
      "application/vnd.jupyter.widget-view+json": {
       "model_id": "c22453316d824598a3ddf961d277ebcc",
       "version_major": 2,
       "version_minor": 0
      },
      "text/plain": [
       "Progress split_dump():   0%|          | 0/400 [00:00<?, ?it/s]"
      ]
     },
     "metadata": {},
     "output_type": "display_data"
    },
    {
     "data": {
      "application/vnd.jupyter.widget-view+json": {
       "model_id": "91f73a5ad3414a6ca4e238c302db230a",
       "version_major": 2,
       "version_minor": 0
      },
      "text/plain": [
       "Progress process_dump():   0%|          | 0/347494 [00:00<?, ?it/s]"
      ]
     },
     "metadata": {},
     "output_type": "display_data"
    },
    {
     "name": "stdout",
     "output_type": "stream",
     "text": [
      "3.85% of articles contain 2 toponyms\n",
      "Removing 26 referral pages\n",
      "file has been written to: ../../../data/enwiki/enwikidump_ms13.csv\n",
      "\n",
      "Starting preprocessing on: /Volumes/NIJMAN/THESIS/enwiki_extracted/ms14\n",
      "It took 1.5086190700531006s to read /Volumes/NIJMAN/THESIS/enwiki_extracted/ms14.\n"
     ]
    },
    {
     "data": {
      "application/vnd.jupyter.widget-view+json": {
       "model_id": "b636bf4c494b4006afd9178997ab2448",
       "version_major": 2,
       "version_minor": 0
      },
      "text/plain": [
       "Progress split_dump():   0%|          | 0/158 [00:00<?, ?it/s]"
      ]
     },
     "metadata": {},
     "output_type": "display_data"
    },
    {
     "data": {
      "application/vnd.jupyter.widget-view+json": {
       "model_id": "080676ea25394c8b99c48bce1a7caf61",
       "version_major": 2,
       "version_minor": 0
      },
      "text/plain": [
       "Progress process_dump():   0%|          | 0/131819 [00:00<?, ?it/s]"
      ]
     },
     "metadata": {},
     "output_type": "display_data"
    },
    {
     "name": "stdout",
     "output_type": "stream",
     "text": [
      "4.02% of articles contain 2 toponyms\n",
      "Removing 3 referral pages\n",
      "file has been written to: ../../../data/enwiki/enwikidump_ms14.csv\n",
      "Skipping: /Volumes/NIJMAN/THESIS/enwiki_extracted/._ms15\n",
      "\n",
      "Starting preprocessing on: /Volumes/NIJMAN/THESIS/enwiki_extracted/ms16\n",
      "It took 5.795973777770996s to read /Volumes/NIJMAN/THESIS/enwiki_extracted/ms16.\n"
     ]
    },
    {
     "data": {
      "application/vnd.jupyter.widget-view+json": {
       "model_id": "23c40506b15a4f4d9570bafff81cbe04",
       "version_major": 2,
       "version_minor": 0
      },
      "text/plain": [
       "Progress split_dump():   0%|          | 0/216 [00:00<?, ?it/s]"
      ]
     },
     "metadata": {},
     "output_type": "display_data"
    },
    {
     "data": {
      "application/vnd.jupyter.widget-view+json": {
       "model_id": "72c3c7556cd24e5aa6da72adcb573272",
       "version_major": 2,
       "version_minor": 0
      },
      "text/plain": [
       "Progress process_dump():   0%|          | 0/192306 [00:00<?, ?it/s]"
      ]
     },
     "metadata": {},
     "output_type": "display_data"
    },
    {
     "name": "stdout",
     "output_type": "stream",
     "text": [
      "3.45% of articles contain 2 toponyms\n",
      "Removing 7 referral pages\n",
      "file has been written to: ../../../data/enwiki/enwikidump_ms16.csv\n",
      "Skipping: /Volumes/NIJMAN/THESIS/enwiki_extracted/._ms16\n",
      "\n",
      "Starting preprocessing on: /Volumes/NIJMAN/THESIS/enwiki_extracted/ms17\n",
      "It took 6.227179050445557s to read /Volumes/NIJMAN/THESIS/enwiki_extracted/ms17.\n"
     ]
    },
    {
     "data": {
      "application/vnd.jupyter.widget-view+json": {
       "model_id": "16455e14d3ac4b6bbc1fe5147ef86347",
       "version_major": 2,
       "version_minor": 0
      },
      "text/plain": [
       "Progress split_dump():   0%|          | 0/358 [00:00<?, ?it/s]"
      ]
     },
     "metadata": {},
     "output_type": "display_data"
    },
    {
     "data": {
      "application/vnd.jupyter.widget-view+json": {
       "model_id": "aec0e427a3aa4c44a509ced39447def2",
       "version_major": 2,
       "version_minor": 0
      },
      "text/plain": [
       "Progress process_dump():   0%|          | 0/383322 [00:00<?, ?it/s]"
      ]
     },
     "metadata": {},
     "output_type": "display_data"
    },
    {
     "name": "stdout",
     "output_type": "stream",
     "text": [
      "2.95% of articles contain 2 toponyms\n",
      "Removing 15 referral pages\n",
      "file has been written to: ../../../data/enwiki/enwikidump_ms17.csv\n",
      "Skipping: /Volumes/NIJMAN/THESIS/enwiki_extracted/._ms17\n",
      "\n",
      "Starting preprocessing on: /Volumes/NIJMAN/THESIS/enwiki_extracted/ms18\n",
      "It took 4.623653888702393s to read /Volumes/NIJMAN/THESIS/enwiki_extracted/ms18.\n"
     ]
    },
    {
     "data": {
      "application/vnd.jupyter.widget-view+json": {
       "model_id": "e94462558bf64ac68b877c749eee66f1",
       "version_major": 2,
       "version_minor": 0
      },
      "text/plain": [
       "Progress split_dump():   0%|          | 0/231 [00:00<?, ?it/s]"
      ]
     },
     "metadata": {},
     "output_type": "display_data"
    },
    {
     "data": {
      "application/vnd.jupyter.widget-view+json": {
       "model_id": "ecae3f99b31b4da987f80d8eb349d642",
       "version_major": 2,
       "version_minor": 0
      },
      "text/plain": [
       "Progress process_dump():   0%|          | 0/257062 [00:00<?, ?it/s]"
      ]
     },
     "metadata": {},
     "output_type": "display_data"
    },
    {
     "name": "stdout",
     "output_type": "stream",
     "text": [
      "2.92% of articles contain 2 toponyms\n",
      "Removing 15 referral pages\n",
      "file has been written to: ../../../data/enwiki/enwikidump_ms18.csv\n",
      "Skipping: /Volumes/NIJMAN/THESIS/enwiki_extracted/._ms18\n",
      "\n",
      "Starting preprocessing on: /Volumes/NIJMAN/THESIS/enwiki_extracted/ms19\n",
      "It took 4.825576305389404s to read /Volumes/NIJMAN/THESIS/enwiki_extracted/ms19.\n"
     ]
    },
    {
     "data": {
      "application/vnd.jupyter.widget-view+json": {
       "model_id": "b4a16efa09974cdc9cf934bf6e0cf251",
       "version_major": 2,
       "version_minor": 0
      },
      "text/plain": [
       "Progress split_dump():   0%|          | 0/293 [00:00<?, ?it/s]"
      ]
     },
     "metadata": {},
     "output_type": "display_data"
    },
    {
     "data": {
      "application/vnd.jupyter.widget-view+json": {
       "model_id": "59c2234a47b84479b38f5ac2cbff0ed9",
       "version_major": 2,
       "version_minor": 0
      },
      "text/plain": [
       "Progress process_dump():   0%|          | 0/367382 [00:00<?, ?it/s]"
      ]
     },
     "metadata": {},
     "output_type": "display_data"
    },
    {
     "name": "stdout",
     "output_type": "stream",
     "text": [
      "2.5% of articles contain 2 toponyms\n",
      "Removing 14 referral pages\n",
      "file has been written to: ../../../data/enwiki/enwikidump_ms19.csv\n",
      "Skipping: /Volumes/NIJMAN/THESIS/enwiki_extracted/._ms19\n",
      "\n",
      "Starting preprocessing on: /Volumes/NIJMAN/THESIS/enwiki_extracted/ms20\n",
      "It took 5.047968864440918s to read /Volumes/NIJMAN/THESIS/enwiki_extracted/ms20.\n"
     ]
    },
    {
     "data": {
      "application/vnd.jupyter.widget-view+json": {
       "model_id": "3d25b26d82714cbc9480df5e560b4f2a",
       "version_major": 2,
       "version_minor": 0
      },
      "text/plain": [
       "Progress split_dump():   0%|          | 0/267 [00:00<?, ?it/s]"
      ]
     },
     "metadata": {},
     "output_type": "display_data"
    },
    {
     "data": {
      "application/vnd.jupyter.widget-view+json": {
       "model_id": "868bbdc493044baf888c77560b7bb0b0",
       "version_major": 2,
       "version_minor": 0
      },
      "text/plain": [
       "Progress process_dump():   0%|          | 0/392114 [00:00<?, ?it/s]"
      ]
     },
     "metadata": {},
     "output_type": "display_data"
    },
    {
     "name": "stdout",
     "output_type": "stream",
     "text": [
      "2.16% of articles contain 2 toponyms\n",
      "Removing 48 referral pages\n",
      "file has been written to: ../../../data/enwiki/enwikidump_ms20.csv\n",
      "Skipping: /Volumes/NIJMAN/THESIS/enwiki_extracted/._ms20\n",
      "\n",
      "Starting preprocessing on: /Volumes/NIJMAN/THESIS/enwiki_extracted/ms22\n",
      "It took 8.993782997131348s to read /Volumes/NIJMAN/THESIS/enwiki_extracted/ms22.\n"
     ]
    },
    {
     "data": {
      "application/vnd.jupyter.widget-view+json": {
       "model_id": "2434314dc4b844d09b3428b7095c2aac",
       "version_major": 2,
       "version_minor": 0
      },
      "text/plain": [
       "Progress split_dump():   0%|          | 0/290 [00:00<?, ?it/s]"
      ]
     },
     "metadata": {},
     "output_type": "display_data"
    },
    {
     "data": {
      "application/vnd.jupyter.widget-view+json": {
       "model_id": "9bac8f2f356f434abe8ee3f7a30c1035",
       "version_major": 2,
       "version_minor": 0
      },
      "text/plain": [
       "Progress process_dump():   0%|          | 0/325814 [00:00<?, ?it/s]"
      ]
     },
     "metadata": {},
     "output_type": "display_data"
    },
    {
     "name": "stdout",
     "output_type": "stream",
     "text": [
      "2.89% of articles contain 2 toponyms\n",
      "Removing 12 referral pages\n",
      "file has been written to: ../../../data/enwiki/enwikidump_ms22.csv\n",
      "\n",
      "Starting preprocessing on: /Volumes/NIJMAN/THESIS/enwiki_extracted/ms23\n",
      "It took 6.2003560066223145s to read /Volumes/NIJMAN/THESIS/enwiki_extracted/ms23.\n"
     ]
    },
    {
     "data": {
      "application/vnd.jupyter.widget-view+json": {
       "model_id": "b00358fd12124f00b08a5cb2436bc9fa",
       "version_major": 2,
       "version_minor": 0
      },
      "text/plain": [
       "Progress split_dump():   0%|          | 0/271 [00:00<?, ?it/s]"
      ]
     },
     "metadata": {},
     "output_type": "display_data"
    },
    {
     "data": {
      "application/vnd.jupyter.widget-view+json": {
       "model_id": "cc6ea11e1be94d40837bf1246cd7e2d5",
       "version_major": 2,
       "version_minor": 0
      },
      "text/plain": [
       "Progress process_dump():   0%|          | 0/330422 [00:00<?, ?it/s]"
      ]
     },
     "metadata": {},
     "output_type": "display_data"
    },
    {
     "name": "stdout",
     "output_type": "stream",
     "text": [
      "2.79% of articles contain 2 toponyms\n",
      "Removing 25 referral pages\n",
      "file has been written to: ../../../data/enwiki/enwikidump_ms23.csv\n",
      "\n",
      "Starting preprocessing on: /Volumes/NIJMAN/THESIS/enwiki_extracted/ms24\n",
      "It took 0.48223209381103516s to read /Volumes/NIJMAN/THESIS/enwiki_extracted/ms24.\n"
     ]
    },
    {
     "data": {
      "application/vnd.jupyter.widget-view+json": {
       "model_id": "2a58695e0529491bb69444a4f11f1401",
       "version_major": 2,
       "version_minor": 0
      },
      "text/plain": [
       "Progress split_dump():   0%|          | 0/20 [00:00<?, ?it/s]"
      ]
     },
     "metadata": {},
     "output_type": "display_data"
    },
    {
     "data": {
      "application/vnd.jupyter.widget-view+json": {
       "model_id": "4382ef0967e74db69c33de388c19cf63",
       "version_major": 2,
       "version_minor": 0
      },
      "text/plain": [
       "Progress process_dump():   0%|          | 0/19885 [00:00<?, ?it/s]"
      ]
     },
     "metadata": {},
     "output_type": "display_data"
    },
    {
     "name": "stdout",
     "output_type": "stream",
     "text": [
      "3.33% of articles contain 2 toponyms\n",
      "Removing 1 referral pages\n",
      "file has been written to: ../../../data/enwiki/enwikidump_ms24.csv\n",
      "\n",
      "Starting preprocessing on: /Volumes/NIJMAN/THESIS/enwiki_extracted/ms25\n",
      "It took 10.60898494720459s to read /Volumes/NIJMAN/THESIS/enwiki_extracted/ms25.\n"
     ]
    },
    {
     "data": {
      "application/vnd.jupyter.widget-view+json": {
       "model_id": "d64524e2d9384fc39008ac1adc25e893",
       "version_major": 2,
       "version_minor": 0
      },
      "text/plain": [
       "Progress split_dump():   0%|          | 0/300 [00:00<?, ?it/s]"
      ]
     },
     "metadata": {},
     "output_type": "display_data"
    },
    {
     "data": {
      "application/vnd.jupyter.widget-view+json": {
       "model_id": "e67da96404874b01bcb8e9bc56088cf0",
       "version_major": 2,
       "version_minor": 0
      },
      "text/plain": [
       "Progress process_dump():   0%|          | 0/330669 [00:00<?, ?it/s]"
      ]
     },
     "metadata": {},
     "output_type": "display_data"
    },
    {
     "name": "stdout",
     "output_type": "stream",
     "text": [
      "3.0% of articles contain 2 toponyms\n",
      "Removing 39 referral pages\n",
      "file has been written to: ../../../data/enwiki/enwikidump_ms25.csv\n",
      "\n",
      "Starting preprocessing on: /Volumes/NIJMAN/THESIS/enwiki_extracted/ms21\n",
      "It took 0.7230091094970703s to read /Volumes/NIJMAN/THESIS/enwiki_extracted/ms21.\n"
     ]
    },
    {
     "data": {
      "application/vnd.jupyter.widget-view+json": {
       "model_id": "841d9296a12c46cab75615751e437926",
       "version_major": 2,
       "version_minor": 0
      },
      "text/plain": [
       "Progress split_dump():   0%|          | 0/25 [00:00<?, ?it/s]"
      ]
     },
     "metadata": {},
     "output_type": "display_data"
    },
    {
     "data": {
      "application/vnd.jupyter.widget-view+json": {
       "model_id": "ed63fc70a0af443d86d12ffcfcf90f46",
       "version_major": 2,
       "version_minor": 0
      },
      "text/plain": [
       "Progress process_dump():   0%|          | 0/25890 [00:00<?, ?it/s]"
      ]
     },
     "metadata": {},
     "output_type": "display_data"
    },
    {
     "name": "stdout",
     "output_type": "stream",
     "text": [
      "3.16% of articles contain 2 toponyms\n",
      "Removing 2 referral pages\n",
      "file has been written to: ../../../data/enwiki/enwikidump_ms21.csv\n",
      "\n",
      "Starting preprocessing on: /Volumes/NIJMAN/THESIS/enwiki_extracted/ms26\n",
      "It took 5.8368239402771s to read /Volumes/NIJMAN/THESIS/enwiki_extracted/ms26.\n"
     ]
    },
    {
     "data": {
      "application/vnd.jupyter.widget-view+json": {
       "model_id": "bf676ab6ac294fe6bb88fd93b6590b11",
       "version_major": 2,
       "version_minor": 0
      },
      "text/plain": [
       "Progress split_dump():   0%|          | 0/292 [00:00<?, ?it/s]"
      ]
     },
     "metadata": {},
     "output_type": "display_data"
    },
    {
     "data": {
      "application/vnd.jupyter.widget-view+json": {
       "model_id": "c02d28b6c61f4714a14275ded4097be9",
       "version_major": 2,
       "version_minor": 0
      },
      "text/plain": [
       "Progress process_dump():   0%|          | 0/387488 [00:00<?, ?it/s]"
      ]
     },
     "metadata": {},
     "output_type": "display_data"
    },
    {
     "name": "stdout",
     "output_type": "stream",
     "text": [
      "2.45% of articles contain 2 toponyms\n",
      "Removing 15 referral pages\n",
      "file has been written to: ../../../data/enwiki/enwikidump_ms26.csv\n",
      "\n",
      "Starting preprocessing on: /Volumes/NIJMAN/THESIS/enwiki_extracted/ms27\n",
      "It took 1.8311269283294678s to read /Volumes/NIJMAN/THESIS/enwiki_extracted/ms27.\n"
     ]
    },
    {
     "data": {
      "application/vnd.jupyter.widget-view+json": {
       "model_id": "f2e6af5aaadf4c5c9363e6899543cd44",
       "version_major": 2,
       "version_minor": 0
      },
      "text/plain": [
       "Progress split_dump():   0%|          | 0/32 [00:00<?, ?it/s]"
      ]
     },
     "metadata": {},
     "output_type": "display_data"
    },
    {
     "data": {
      "application/vnd.jupyter.widget-view+json": {
       "model_id": "2e0047e7ea9d458e9cf5b8facb9d912e",
       "version_major": 2,
       "version_minor": 0
      },
      "text/plain": [
       "Progress process_dump():   0%|          | 0/40899 [00:00<?, ?it/s]"
      ]
     },
     "metadata": {},
     "output_type": "display_data"
    },
    {
     "name": "stdout",
     "output_type": "stream",
     "text": [
      "2.45% of articles contain 2 toponyms\n",
      "Removing 4 referral pages\n",
      "file has been written to: ../../../data/enwiki/enwikidump_ms27.csv\n",
      "\n",
      "Starting preprocessing on: /Volumes/NIJMAN/THESIS/enwiki_extracted/ms28\n",
      "It took 5.900837182998657s to read /Volumes/NIJMAN/THESIS/enwiki_extracted/ms28.\n"
     ]
    },
    {
     "data": {
      "application/vnd.jupyter.widget-view+json": {
       "model_id": "2eedeff4694941e2b7f88c822f4eda96",
       "version_major": 2,
       "version_minor": 0
      },
      "text/plain": [
       "Progress split_dump():   0%|          | 0/299 [00:00<?, ?it/s]"
      ]
     },
     "metadata": {},
     "output_type": "display_data"
    },
    {
     "data": {
      "application/vnd.jupyter.widget-view+json": {
       "model_id": "db297365646c4580af9200d1b499e10b",
       "version_major": 2,
       "version_minor": 0
      },
      "text/plain": [
       "Progress process_dump():   0%|          | 0/337488 [00:00<?, ?it/s]"
      ]
     },
     "metadata": {},
     "output_type": "display_data"
    },
    {
     "name": "stdout",
     "output_type": "stream",
     "text": [
      "3.17% of articles contain 2 toponyms\n",
      "Removing 30 referral pages\n",
      "file has been written to: ../../../data/enwiki/enwikidump_ms28.csv\n",
      "\n",
      "Starting preprocessing on: /Volumes/NIJMAN/THESIS/enwiki_extracted/ms29\n",
      "It took 3.6126158237457275s to read /Volumes/NIJMAN/THESIS/enwiki_extracted/ms29.\n"
     ]
    },
    {
     "data": {
      "application/vnd.jupyter.widget-view+json": {
       "model_id": "9231d9bed4c145018886cf6de6168907",
       "version_major": 2,
       "version_minor": 0
      },
      "text/plain": [
       "Progress split_dump():   0%|          | 0/275 [00:00<?, ?it/s]"
      ]
     },
     "metadata": {},
     "output_type": "display_data"
    },
    {
     "data": {
      "application/vnd.jupyter.widget-view+json": {
       "model_id": "0bd91b8e9ef84d8d88a653c5730d7710",
       "version_major": 2,
       "version_minor": 0
      },
      "text/plain": [
       "Progress process_dump():   0%|          | 0/316833 [00:00<?, ?it/s]"
      ]
     },
     "metadata": {},
     "output_type": "display_data"
    },
    {
     "name": "stdout",
     "output_type": "stream",
     "text": [
      "2.92% of articles contain 2 toponyms\n",
      "Removing 50 referral pages\n",
      "file has been written to: ../../../data/enwiki/enwikidump_ms29.csv\n",
      "\n",
      "Starting preprocessing on: /Volumes/NIJMAN/THESIS/enwiki_extracted/ms30\n",
      "It took 1.553048849105835s to read /Volumes/NIJMAN/THESIS/enwiki_extracted/ms30.\n"
     ]
    },
    {
     "data": {
      "application/vnd.jupyter.widget-view+json": {
       "model_id": "2d68be069e6044c793e75d507908da36",
       "version_major": 2,
       "version_minor": 0
      },
      "text/plain": [
       "Progress split_dump():   0%|          | 0/71 [00:00<?, ?it/s]"
      ]
     },
     "metadata": {},
     "output_type": "display_data"
    },
    {
     "data": {
      "application/vnd.jupyter.widget-view+json": {
       "model_id": "9c5c042c80704c5682f1d7f0f26fff3f",
       "version_major": 2,
       "version_minor": 0
      },
      "text/plain": [
       "Progress process_dump():   0%|          | 0/95983 [00:00<?, ?it/s]"
      ]
     },
     "metadata": {},
     "output_type": "display_data"
    },
    {
     "name": "stdout",
     "output_type": "stream",
     "text": [
      "2.23% of articles contain 2 toponyms\n",
      "Removing 8 referral pages\n",
      "file has been written to: ../../../data/enwiki/enwikidump_ms30.csv\n",
      "\n",
      "Starting preprocessing on: /Volumes/NIJMAN/THESIS/enwiki_extracted/ms31\n",
      "It took 3.7482709884643555s to read /Volumes/NIJMAN/THESIS/enwiki_extracted/ms31.\n"
     ]
    },
    {
     "data": {
      "application/vnd.jupyter.widget-view+json": {
       "model_id": "ba3e93a7eea640e09e8138975c458c92",
       "version_major": 2,
       "version_minor": 0
      },
      "text/plain": [
       "Progress split_dump():   0%|          | 0/269 [00:00<?, ?it/s]"
      ]
     },
     "metadata": {},
     "output_type": "display_data"
    },
    {
     "data": {
      "application/vnd.jupyter.widget-view+json": {
       "model_id": "5a0366ef080e47498398c147e31c9b48",
       "version_major": 2,
       "version_minor": 0
      },
      "text/plain": [
       "Progress process_dump():   0%|          | 0/391888 [00:00<?, ?it/s]"
      ]
     },
     "metadata": {},
     "output_type": "display_data"
    },
    {
     "name": "stdout",
     "output_type": "stream",
     "text": [
      "2.33% of articles contain 2 toponyms\n",
      "Removing 60 referral pages\n",
      "file has been written to: ../../../data/enwiki/enwikidump_ms31.csv\n",
      "\n",
      "Starting preprocessing on: /Volumes/NIJMAN/THESIS/enwiki_extracted/ms32\n",
      "It took 3.346011161804199s to read /Volumes/NIJMAN/THESIS/enwiki_extracted/ms32.\n"
     ]
    },
    {
     "data": {
      "application/vnd.jupyter.widget-view+json": {
       "model_id": "ea856b35caad4c208df0cfecdab72448",
       "version_major": 2,
       "version_minor": 0
      },
      "text/plain": [
       "Progress split_dump():   0%|          | 0/233 [00:00<?, ?it/s]"
      ]
     },
     "metadata": {},
     "output_type": "display_data"
    },
    {
     "data": {
      "application/vnd.jupyter.widget-view+json": {
       "model_id": "39313d5aeabf4d69a5a2eced330b4b62",
       "version_major": 2,
       "version_minor": 0
      },
      "text/plain": [
       "Progress process_dump():   0%|          | 0/353985 [00:00<?, ?it/s]"
      ]
     },
     "metadata": {},
     "output_type": "display_data"
    },
    {
     "name": "stdout",
     "output_type": "stream",
     "text": [
      "2.17% of articles contain 2 toponyms\n",
      "Removing 38 referral pages\n",
      "file has been written to: ../../../data/enwiki/enwikidump_ms32.csv\n",
      "\n",
      "Starting preprocessing on: /Volumes/NIJMAN/THESIS/enwiki_extracted/ms33\n",
      "It took 2.9132800102233887s to read /Volumes/NIJMAN/THESIS/enwiki_extracted/ms33.\n"
     ]
    },
    {
     "data": {
      "application/vnd.jupyter.widget-view+json": {
       "model_id": "2ca690c2a3274888a6a83d566aad68b8",
       "version_major": 2,
       "version_minor": 0
      },
      "text/plain": [
       "Progress split_dump():   0%|          | 0/220 [00:00<?, ?it/s]"
      ]
     },
     "metadata": {},
     "output_type": "display_data"
    },
    {
     "data": {
      "application/vnd.jupyter.widget-view+json": {
       "model_id": "dcbaa16608c444c1a43c7f3aac03e8e1",
       "version_major": 2,
       "version_minor": 0
      },
      "text/plain": [
       "Progress process_dump():   0%|          | 0/233638 [00:00<?, ?it/s]"
      ]
     },
     "metadata": {},
     "output_type": "display_data"
    },
    {
     "name": "stdout",
     "output_type": "stream",
     "text": [
      "3.3% of articles contain 2 toponyms\n",
      "Removing 22 referral pages\n",
      "file has been written to: ../../../data/enwiki/enwikidump_ms33.csv\n",
      "\n",
      "Starting preprocessing on: /Volumes/NIJMAN/THESIS/enwiki_extracted/ms34\n",
      "It took 4.243025779724121s to read /Volumes/NIJMAN/THESIS/enwiki_extracted/ms34.\n"
     ]
    },
    {
     "data": {
      "application/vnd.jupyter.widget-view+json": {
       "model_id": "9c70694bfb7c4a37a5803061d62743a4",
       "version_major": 2,
       "version_minor": 0
      },
      "text/plain": [
       "Progress split_dump():   0%|          | 0/275 [00:00<?, ?it/s]"
      ]
     },
     "metadata": {},
     "output_type": "display_data"
    },
    {
     "data": {
      "application/vnd.jupyter.widget-view+json": {
       "model_id": "79d626b5217b4ed49fb8d2932140e175",
       "version_major": 2,
       "version_minor": 0
      },
      "text/plain": [
       "Progress process_dump():   0%|          | 0/335557 [00:00<?, ?it/s]"
      ]
     },
     "metadata": {},
     "output_type": "display_data"
    },
    {
     "name": "stdout",
     "output_type": "stream",
     "text": [
      "2.82% of articles contain 2 toponyms\n",
      "Removing 26 referral pages\n",
      "file has been written to: ../../../data/enwiki/enwikidump_ms34.csv\n",
      "\n",
      "Starting preprocessing on: /Volumes/NIJMAN/THESIS/enwiki_extracted/ms35\n",
      "It took 5.217066049575806s to read /Volumes/NIJMAN/THESIS/enwiki_extracted/ms35.\n"
     ]
    },
    {
     "data": {
      "application/vnd.jupyter.widget-view+json": {
       "model_id": "64b585e09c25413986966b7424ca95be",
       "version_major": 2,
       "version_minor": 0
      },
      "text/plain": [
       "Progress split_dump():   0%|          | 0/258 [00:00<?, ?it/s]"
      ]
     },
     "metadata": {},
     "output_type": "display_data"
    },
    {
     "data": {
      "application/vnd.jupyter.widget-view+json": {
       "model_id": "3541f8d2e05d4f8ab9493df6f51fc269",
       "version_major": 2,
       "version_minor": 0
      },
      "text/plain": [
       "Progress process_dump():   0%|          | 0/313413 [00:00<?, ?it/s]"
      ]
     },
     "metadata": {},
     "output_type": "display_data"
    },
    {
     "name": "stdout",
     "output_type": "stream",
     "text": [
      "2.79% of articles contain 2 toponyms\n",
      "Removing 23 referral pages\n",
      "file has been written to: ../../../data/enwiki/enwikidump_ms35.csv\n",
      "\n",
      "Starting preprocessing on: /Volumes/NIJMAN/THESIS/enwiki_extracted/ms36\n",
      "It took 3.00168514251709s to read /Volumes/NIJMAN/THESIS/enwiki_extracted/ms36.\n"
     ]
    },
    {
     "data": {
      "application/vnd.jupyter.widget-view+json": {
       "model_id": "be487c3a5c554bf68191492136e88bfb",
       "version_major": 2,
       "version_minor": 0
      },
      "text/plain": [
       "Progress split_dump():   0%|          | 0/184 [00:00<?, ?it/s]"
      ]
     },
     "metadata": {},
     "output_type": "display_data"
    },
    {
     "data": {
      "application/vnd.jupyter.widget-view+json": {
       "model_id": "5c0eb25cc28f4284b8168bc4cd946fb1",
       "version_major": 2,
       "version_minor": 0
      },
      "text/plain": [
       "Progress process_dump():   0%|          | 0/252247 [00:00<?, ?it/s]"
      ]
     },
     "metadata": {},
     "output_type": "display_data"
    },
    {
     "name": "stdout",
     "output_type": "stream",
     "text": [
      "2.5% of articles contain 2 toponyms\n",
      "Removing 26 referral pages\n",
      "file has been written to: ../../../data/enwiki/enwikidump_ms36.csv\n",
      "\n",
      "Starting preprocessing on: /Volumes/NIJMAN/THESIS/enwiki_extracted/ms37\n",
      "It took 5.117502927780151s to read /Volumes/NIJMAN/THESIS/enwiki_extracted/ms37.\n"
     ]
    },
    {
     "data": {
      "application/vnd.jupyter.widget-view+json": {
       "model_id": "0d27a1f260cc4d45909f66d056c2f157",
       "version_major": 2,
       "version_minor": 0
      },
      "text/plain": [
       "Progress split_dump():   0%|          | 0/260 [00:00<?, ?it/s]"
      ]
     },
     "metadata": {},
     "output_type": "display_data"
    },
    {
     "data": {
      "application/vnd.jupyter.widget-view+json": {
       "model_id": "fc941bf710ed4866974b6deefbc74947",
       "version_major": 2,
       "version_minor": 0
      },
      "text/plain": [
       "Progress process_dump():   0%|          | 0/360755 [00:00<?, ?it/s]"
      ]
     },
     "metadata": {},
     "output_type": "display_data"
    },
    {
     "name": "stdout",
     "output_type": "stream",
     "text": [
      "2.48% of articles contain 2 toponyms\n",
      "Removing 15 referral pages\n",
      "file has been written to: ../../../data/enwiki/enwikidump_ms37.csv\n",
      "\n",
      "Starting preprocessing on: /Volumes/NIJMAN/THESIS/enwiki_extracted/ms38\n",
      "It took 2.908762216567993s to read /Volumes/NIJMAN/THESIS/enwiki_extracted/ms38.\n"
     ]
    },
    {
     "data": {
      "application/vnd.jupyter.widget-view+json": {
       "model_id": "42a3ac3205694d86ba2ce6e535b4a234",
       "version_major": 2,
       "version_minor": 0
      },
      "text/plain": [
       "Progress split_dump():   0%|          | 0/244 [00:00<?, ?it/s]"
      ]
     },
     "metadata": {},
     "output_type": "display_data"
    },
    {
     "data": {
      "application/vnd.jupyter.widget-view+json": {
       "model_id": "cf8688778db645efa0ce14bd3c5b0486",
       "version_major": 2,
       "version_minor": 0
      },
      "text/plain": [
       "Progress process_dump():   0%|          | 0/346569 [00:00<?, ?it/s]"
      ]
     },
     "metadata": {},
     "output_type": "display_data"
    },
    {
     "name": "stdout",
     "output_type": "stream",
     "text": [
      "2.23% of articles contain 2 toponyms\n",
      "Removing 17 referral pages\n",
      "file has been written to: ../../../data/enwiki/enwikidump_ms38.csv\n",
      "\n",
      "Starting preprocessing on: /Volumes/NIJMAN/THESIS/enwiki_extracted/ms39\n",
      "It took 4.994493246078491s to read /Volumes/NIJMAN/THESIS/enwiki_extracted/ms39.\n"
     ]
    },
    {
     "data": {
      "application/vnd.jupyter.widget-view+json": {
       "model_id": "64b20b30a7ba47b98f45467d2f8b50ab",
       "version_major": 2,
       "version_minor": 0
      },
      "text/plain": [
       "Progress split_dump():   0%|          | 0/255 [00:00<?, ?it/s]"
      ]
     },
     "metadata": {},
     "output_type": "display_data"
    },
    {
     "data": {
      "application/vnd.jupyter.widget-view+json": {
       "model_id": "f56cec78fdc345748783c2cfb8b84261",
       "version_major": 2,
       "version_minor": 0
      },
      "text/plain": [
       "Progress process_dump():   0%|          | 0/326297 [00:00<?, ?it/s]"
      ]
     },
     "metadata": {},
     "output_type": "display_data"
    },
    {
     "name": "stdout",
     "output_type": "stream",
     "text": [
      "2.54% of articles contain 2 toponyms\n",
      "Removing 8 referral pages\n",
      "file has been written to: ../../../data/enwiki/enwikidump_ms39.csv\n",
      "\n",
      "Starting preprocessing on: /Volumes/NIJMAN/THESIS/enwiki_extracted/ms40\n",
      "It took 4.253468036651611s to read /Volumes/NIJMAN/THESIS/enwiki_extracted/ms40.\n"
     ]
    },
    {
     "data": {
      "application/vnd.jupyter.widget-view+json": {
       "model_id": "28a98590ec12475e8f40eb9053f86c95",
       "version_major": 2,
       "version_minor": 0
      },
      "text/plain": [
       "Progress split_dump():   0%|          | 0/252 [00:00<?, ?it/s]"
      ]
     },
     "metadata": {},
     "output_type": "display_data"
    },
    {
     "data": {
      "application/vnd.jupyter.widget-view+json": {
       "model_id": "0b18c3e84fdc4b238bc269746ed41091",
       "version_major": 2,
       "version_minor": 0
      },
      "text/plain": [
       "Progress process_dump():   0%|          | 0/332238 [00:00<?, ?it/s]"
      ]
     },
     "metadata": {},
     "output_type": "display_data"
    },
    {
     "name": "stdout",
     "output_type": "stream",
     "text": [
      "2.51% of articles contain 2 toponyms\n",
      "Removing 28 referral pages\n",
      "file has been written to: ../../../data/enwiki/enwikidump_ms40.csv\n",
      "\n",
      "Starting preprocessing on: /Volumes/NIJMAN/THESIS/enwiki_extracted/ms41\n",
      "It took 7.236634731292725s to read /Volumes/NIJMAN/THESIS/enwiki_extracted/ms41.\n"
     ]
    },
    {
     "data": {
      "application/vnd.jupyter.widget-view+json": {
       "model_id": "74454865e5f9432a9205379451f3a773",
       "version_major": 2,
       "version_minor": 0
      },
      "text/plain": [
       "Progress split_dump():   0%|          | 0/251 [00:00<?, ?it/s]"
      ]
     },
     "metadata": {},
     "output_type": "display_data"
    },
    {
     "data": {
      "application/vnd.jupyter.widget-view+json": {
       "model_id": "29ed0a393bdd453698af319f1bcd59b9",
       "version_major": 2,
       "version_minor": 0
      },
      "text/plain": [
       "Progress process_dump():   0%|          | 0/331115 [00:00<?, ?it/s]"
      ]
     },
     "metadata": {},
     "output_type": "display_data"
    },
    {
     "name": "stdout",
     "output_type": "stream",
     "text": [
      "2.68% of articles contain 2 toponyms\n",
      "Removing 24 referral pages\n",
      "file has been written to: ../../../data/enwiki/enwikidump_ms41.csv\n",
      "\n",
      "Starting preprocessing on: /Volumes/NIJMAN/THESIS/enwiki_extracted/ms42\n",
      "It took 2.9985079765319824s to read /Volumes/NIJMAN/THESIS/enwiki_extracted/ms42.\n"
     ]
    },
    {
     "data": {
      "application/vnd.jupyter.widget-view+json": {
       "model_id": "b7ad87bd1880422c9f1d84caaadbb54b",
       "version_major": 2,
       "version_minor": 0
      },
      "text/plain": [
       "Progress split_dump():   0%|          | 0/257 [00:00<?, ?it/s]"
      ]
     },
     "metadata": {},
     "output_type": "display_data"
    },
    {
     "data": {
      "application/vnd.jupyter.widget-view+json": {
       "model_id": "cd98a3413ee149fe8ca1c9d4fb26ff16",
       "version_major": 2,
       "version_minor": 0
      },
      "text/plain": [
       "Progress process_dump():   0%|          | 0/357107 [00:00<?, ?it/s]"
      ]
     },
     "metadata": {},
     "output_type": "display_data"
    },
    {
     "name": "stdout",
     "output_type": "stream",
     "text": [
      "2.33% of articles contain 2 toponyms\n",
      "Removing 27 referral pages\n",
      "file has been written to: ../../../data/enwiki/enwikidump_ms42.csv\n",
      "\n",
      "Starting preprocessing on: /Volumes/NIJMAN/THESIS/enwiki_extracted/ms43\n",
      "It took 0.9544050693511963s to read /Volumes/NIJMAN/THESIS/enwiki_extracted/ms43.\n"
     ]
    },
    {
     "data": {
      "application/vnd.jupyter.widget-view+json": {
       "model_id": "5ffd394fd2bf4d61afd8d8cb3a86b7c9",
       "version_major": 2,
       "version_minor": 0
      },
      "text/plain": [
       "Progress split_dump():   0%|          | 0/43 [00:00<?, ?it/s]"
      ]
     },
     "metadata": {},
     "output_type": "display_data"
    },
    {
     "data": {
      "application/vnd.jupyter.widget-view+json": {
       "model_id": "221d57c58c5d41b482c7d25bf9d370c6",
       "version_major": 2,
       "version_minor": 0
      },
      "text/plain": [
       "Progress process_dump():   0%|          | 0/52357 [00:00<?, ?it/s]"
      ]
     },
     "metadata": {},
     "output_type": "display_data"
    },
    {
     "name": "stdout",
     "output_type": "stream",
     "text": [
      "2.61% of articles contain 2 toponyms\n",
      "Removing 1 referral pages\n",
      "file has been written to: ../../../data/enwiki/enwikidump_ms43.csv\n",
      "\n",
      "Starting preprocessing on: /Volumes/NIJMAN/THESIS/enwiki_extracted/ms44\n",
      "It took 2.429642915725708s to read /Volumes/NIJMAN/THESIS/enwiki_extracted/ms44.\n"
     ]
    },
    {
     "data": {
      "application/vnd.jupyter.widget-view+json": {
       "model_id": "6b838177c2f74c2d903c92da12e5f46f",
       "version_major": 2,
       "version_minor": 0
      },
      "text/plain": [
       "Progress split_dump():   0%|          | 0/161 [00:00<?, ?it/s]"
      ]
     },
     "metadata": {},
     "output_type": "display_data"
    },
    {
     "data": {
      "application/vnd.jupyter.widget-view+json": {
       "model_id": "00299568324b4c1d9b87c4390d7783c1",
       "version_major": 2,
       "version_minor": 0
      },
      "text/plain": [
       "Progress process_dump():   0%|          | 0/200419 [00:00<?, ?it/s]"
      ]
     },
     "metadata": {},
     "output_type": "display_data"
    },
    {
     "name": "stdout",
     "output_type": "stream",
     "text": [
      "2.76% of articles contain 2 toponyms\n",
      "Removing 12 referral pages\n",
      "file has been written to: ../../../data/enwiki/enwikidump_ms44.csv\n",
      "\n",
      "Starting preprocessing on: /Volumes/NIJMAN/THESIS/enwiki_extracted/ms45\n",
      "It took 2.850100040435791s to read /Volumes/NIJMAN/THESIS/enwiki_extracted/ms45.\n"
     ]
    },
    {
     "data": {
      "application/vnd.jupyter.widget-view+json": {
       "model_id": "89b9d55c7751457d950052488937ded3",
       "version_major": 2,
       "version_minor": 0
      },
      "text/plain": [
       "Progress split_dump():   0%|          | 0/255 [00:00<?, ?it/s]"
      ]
     },
     "metadata": {},
     "output_type": "display_data"
    },
    {
     "data": {
      "application/vnd.jupyter.widget-view+json": {
       "model_id": "53f74f91fdea4696938ea20f5916cb32",
       "version_major": 2,
       "version_minor": 0
      },
      "text/plain": [
       "Progress process_dump():   0%|          | 0/342069 [00:00<?, ?it/s]"
      ]
     },
     "metadata": {},
     "output_type": "display_data"
    },
    {
     "name": "stdout",
     "output_type": "stream",
     "text": [
      "2.47% of articles contain 2 toponyms\n",
      "Removing 26 referral pages\n",
      "file has been written to: ../../../data/enwiki/enwikidump_ms45.csv\n",
      "\n",
      "Starting preprocessing on: /Volumes/NIJMAN/THESIS/enwiki_extracted/ms46\n",
      "It took 3.1856048107147217s to read /Volumes/NIJMAN/THESIS/enwiki_extracted/ms46.\n"
     ]
    },
    {
     "data": {
      "application/vnd.jupyter.widget-view+json": {
       "model_id": "9aaf8638070440b0b047fbe4ba100199",
       "version_major": 2,
       "version_minor": 0
      },
      "text/plain": [
       "Progress split_dump():   0%|          | 0/217 [00:00<?, ?it/s]"
      ]
     },
     "metadata": {},
     "output_type": "display_data"
    },
    {
     "data": {
      "application/vnd.jupyter.widget-view+json": {
       "model_id": "0e2b36813e5c4ec0b6bbf16f066d88a2",
       "version_major": 2,
       "version_minor": 0
      },
      "text/plain": [
       "Progress process_dump():   0%|          | 0/281406 [00:00<?, ?it/s]"
      ]
     },
     "metadata": {},
     "output_type": "display_data"
    },
    {
     "name": "stdout",
     "output_type": "stream",
     "text": [
      "2.59% of articles contain 2 toponyms\n",
      "Removing 10 referral pages\n",
      "file has been written to: ../../../data/enwiki/enwikidump_ms46.csv\n",
      "\n",
      "Starting preprocessing on: /Volumes/NIJMAN/THESIS/enwiki_extracted/ms47\n",
      "It took 2.891186237335205s to read /Volumes/NIJMAN/THESIS/enwiki_extracted/ms47.\n"
     ]
    },
    {
     "data": {
      "application/vnd.jupyter.widget-view+json": {
       "model_id": "e282eed5d27a4fbdbd8ee145b253170f",
       "version_major": 2,
       "version_minor": 0
      },
      "text/plain": [
       "Progress split_dump():   0%|          | 0/176 [00:00<?, ?it/s]"
      ]
     },
     "metadata": {},
     "output_type": "display_data"
    },
    {
     "data": {
      "application/vnd.jupyter.widget-view+json": {
       "model_id": "ce201d8931b547579a479ddb50e69274",
       "version_major": 2,
       "version_minor": 0
      },
      "text/plain": [
       "Progress process_dump():   0%|          | 0/291486 [00:00<?, ?it/s]"
      ]
     },
     "metadata": {},
     "output_type": "display_data"
    },
    {
     "name": "stdout",
     "output_type": "stream",
     "text": [
      "2.04% of articles contain 2 toponyms\n",
      "Removing 90 referral pages\n",
      "file has been written to: ../../../data/enwiki/enwikidump_ms47.csv\n",
      "\n",
      "Starting preprocessing on: /Volumes/NIJMAN/THESIS/enwiki_extracted/ms48\n",
      "It took 3.739759683609009s to read /Volumes/NIJMAN/THESIS/enwiki_extracted/ms48.\n"
     ]
    },
    {
     "data": {
      "application/vnd.jupyter.widget-view+json": {
       "model_id": "ec47f1216d9b40b09cbe4a36ed9956b8",
       "version_major": 2,
       "version_minor": 0
      },
      "text/plain": [
       "Progress split_dump():   0%|          | 0/226 [00:00<?, ?it/s]"
      ]
     },
     "metadata": {},
     "output_type": "display_data"
    },
    {
     "data": {
      "application/vnd.jupyter.widget-view+json": {
       "model_id": "791eb5ecfbbb4a1583f7dff2166fab10",
       "version_major": 2,
       "version_minor": 0
      },
      "text/plain": [
       "Progress process_dump():   0%|          | 0/337879 [00:00<?, ?it/s]"
      ]
     },
     "metadata": {},
     "output_type": "display_data"
    },
    {
     "name": "stdout",
     "output_type": "stream",
     "text": [
      "2.24% of articles contain 2 toponyms\n",
      "Removing 35 referral pages\n",
      "file has been written to: ../../../data/enwiki/enwikidump_ms48.csv\n",
      "\n",
      "Starting preprocessing on: /Volumes/NIJMAN/THESIS/enwiki_extracted/ms49\n",
      "It took 4.6470019817352295s to read /Volumes/NIJMAN/THESIS/enwiki_extracted/ms49.\n"
     ]
    },
    {
     "data": {
      "application/vnd.jupyter.widget-view+json": {
       "model_id": "adba0babd76e416d92ce62c20bb164fa",
       "version_major": 2,
       "version_minor": 0
      },
      "text/plain": [
       "Progress split_dump():   0%|          | 0/216 [00:00<?, ?it/s]"
      ]
     },
     "metadata": {},
     "output_type": "display_data"
    },
    {
     "data": {
      "application/vnd.jupyter.widget-view+json": {
       "model_id": "9d02b6f7d36c47fca22790355769f227",
       "version_major": 2,
       "version_minor": 0
      },
      "text/plain": [
       "Progress process_dump():   0%|          | 0/287421 [00:00<?, ?it/s]"
      ]
     },
     "metadata": {},
     "output_type": "display_data"
    },
    {
     "name": "stdout",
     "output_type": "stream",
     "text": [
      "2.57% of articles contain 2 toponyms\n",
      "Removing 36 referral pages\n",
      "file has been written to: ../../../data/enwiki/enwikidump_ms49.csv\n",
      "\n",
      "Starting preprocessing on: /Volumes/NIJMAN/THESIS/enwiki_extracted/ms50\n",
      "It took 2.6253530979156494s to read /Volumes/NIJMAN/THESIS/enwiki_extracted/ms50.\n"
     ]
    },
    {
     "data": {
      "application/vnd.jupyter.widget-view+json": {
       "model_id": "dac4a68be282466c904ff8f09967bf92",
       "version_major": 2,
       "version_minor": 0
      },
      "text/plain": [
       "Progress split_dump():   0%|          | 0/210 [00:00<?, ?it/s]"
      ]
     },
     "metadata": {},
     "output_type": "display_data"
    },
    {
     "data": {
      "application/vnd.jupyter.widget-view+json": {
       "model_id": "1a6a89c9fca348b6bd442a5b62d07e37",
       "version_major": 2,
       "version_minor": 0
      },
      "text/plain": [
       "Progress process_dump():   0%|          | 0/308747 [00:00<?, ?it/s]"
      ]
     },
     "metadata": {},
     "output_type": "display_data"
    },
    {
     "name": "stdout",
     "output_type": "stream",
     "text": [
      "2.28% of articles contain 2 toponyms\n",
      "Removing 21 referral pages\n",
      "file has been written to: ../../../data/enwiki/enwikidump_ms50.csv\n",
      "\n",
      "Starting preprocessing on: /Volumes/NIJMAN/THESIS/enwiki_extracted/ms51\n",
      "It took 5.758764028549194s to read /Volumes/NIJMAN/THESIS/enwiki_extracted/ms51.\n"
     ]
    },
    {
     "data": {
      "application/vnd.jupyter.widget-view+json": {
       "model_id": "3adca56ef62a4e1b8796044e4a45631e",
       "version_major": 2,
       "version_minor": 0
      },
      "text/plain": [
       "Progress split_dump():   0%|          | 0/224 [00:00<?, ?it/s]"
      ]
     },
     "metadata": {},
     "output_type": "display_data"
    },
    {
     "data": {
      "application/vnd.jupyter.widget-view+json": {
       "model_id": "bb97453af659486994eb41564b7300ff",
       "version_major": 2,
       "version_minor": 0
      },
      "text/plain": [
       "Progress process_dump():   0%|          | 0/365074 [00:00<?, ?it/s]"
      ]
     },
     "metadata": {},
     "output_type": "display_data"
    },
    {
     "name": "stdout",
     "output_type": "stream",
     "text": [
      "2.05% of articles contain 2 toponyms\n",
      "Removing 88 referral pages\n",
      "file has been written to: ../../../data/enwiki/enwikidump_ms51.csv\n",
      "\n",
      "Starting preprocessing on: /Volumes/NIJMAN/THESIS/enwiki_extracted/ms52\n",
      "It took 1.7266349792480469s to read /Volumes/NIJMAN/THESIS/enwiki_extracted/ms52.\n"
     ]
    },
    {
     "data": {
      "application/vnd.jupyter.widget-view+json": {
       "model_id": "151cab6a6c9d4df2b4e81e82322074f0",
       "version_major": 2,
       "version_minor": 0
      },
      "text/plain": [
       "Progress split_dump():   0%|          | 0/68 [00:00<?, ?it/s]"
      ]
     },
     "metadata": {},
     "output_type": "display_data"
    },
    {
     "data": {
      "application/vnd.jupyter.widget-view+json": {
       "model_id": "d85c7652125448cdb6bf9e7731f07caa",
       "version_major": 2,
       "version_minor": 0
      },
      "text/plain": [
       "Progress process_dump():   0%|          | 0/96242 [00:00<?, ?it/s]"
      ]
     },
     "metadata": {},
     "output_type": "display_data"
    },
    {
     "name": "stdout",
     "output_type": "stream",
     "text": [
      "2.51% of articles contain 2 toponyms\n",
      "Removing 10 referral pages\n",
      "file has been written to: ../../../data/enwiki/enwikidump_ms52.csv\n",
      "\n",
      "Starting preprocessing on: /Volumes/NIJMAN/THESIS/enwiki_extracted/ms53\n",
      "It took 2.847572088241577s to read /Volumes/NIJMAN/THESIS/enwiki_extracted/ms53.\n"
     ]
    },
    {
     "data": {
      "application/vnd.jupyter.widget-view+json": {
       "model_id": "9826eb26356e42a294b650c0eb5f7ec5",
       "version_major": 2,
       "version_minor": 0
      },
      "text/plain": [
       "Progress split_dump():   0%|          | 0/214 [00:00<?, ?it/s]"
      ]
     },
     "metadata": {},
     "output_type": "display_data"
    },
    {
     "data": {
      "application/vnd.jupyter.widget-view+json": {
       "model_id": "c6babcffac97464e8997994212960341",
       "version_major": 2,
       "version_minor": 0
      },
      "text/plain": [
       "Progress process_dump():   0%|          | 0/309931 [00:00<?, ?it/s]"
      ]
     },
     "metadata": {},
     "output_type": "display_data"
    },
    {
     "name": "stdout",
     "output_type": "stream",
     "text": [
      "2.38% of articles contain 2 toponyms\n",
      "Removing 20 referral pages\n",
      "file has been written to: ../../../data/enwiki/enwikidump_ms53.csv\n",
      "\n",
      "Starting preprocessing on: /Volumes/NIJMAN/THESIS/enwiki_extracted/ms54\n",
      "It took 8.600178003311157s to read /Volumes/NIJMAN/THESIS/enwiki_extracted/ms54.\n"
     ]
    },
    {
     "data": {
      "application/vnd.jupyter.widget-view+json": {
       "model_id": "73e774d64b1f43a488c1fb0c3c7bd4cf",
       "version_major": 2,
       "version_minor": 0
      },
      "text/plain": [
       "Progress split_dump():   0%|          | 0/202 [00:00<?, ?it/s]"
      ]
     },
     "metadata": {},
     "output_type": "display_data"
    },
    {
     "data": {
      "application/vnd.jupyter.widget-view+json": {
       "model_id": "2bed5e94ed104b4aa05f5e08409efda9",
       "version_major": 2,
       "version_minor": 0
      },
      "text/plain": [
       "Progress process_dump():   0%|          | 0/337315 [00:00<?, ?it/s]"
      ]
     },
     "metadata": {},
     "output_type": "display_data"
    },
    {
     "name": "stdout",
     "output_type": "stream",
     "text": [
      "1.91% of articles contain 2 toponyms\n",
      "Removing 15 referral pages\n",
      "file has been written to: ../../../data/enwiki/enwikidump_ms54.csv\n",
      "\n",
      "Starting preprocessing on: /Volumes/NIJMAN/THESIS/enwiki_extracted/ms55\n",
      "It took 2.8320939540863037s to read /Volumes/NIJMAN/THESIS/enwiki_extracted/ms55.\n"
     ]
    },
    {
     "data": {
      "application/vnd.jupyter.widget-view+json": {
       "model_id": "fad2fbb63d204131b70f27e576cefc8b",
       "version_major": 2,
       "version_minor": 0
      },
      "text/plain": [
       "Progress split_dump():   0%|          | 0/214 [00:00<?, ?it/s]"
      ]
     },
     "metadata": {},
     "output_type": "display_data"
    },
    {
     "data": {
      "application/vnd.jupyter.widget-view+json": {
       "model_id": "c78bf216c5b149079632ff4fb65a3ada",
       "version_major": 2,
       "version_minor": 0
      },
      "text/plain": [
       "Progress process_dump():   0%|          | 0/321997 [00:00<?, ?it/s]"
      ]
     },
     "metadata": {},
     "output_type": "display_data"
    },
    {
     "name": "stdout",
     "output_type": "stream",
     "text": [
      "2.19% of articles contain 2 toponyms\n",
      "Removing 21 referral pages\n",
      "file has been written to: ../../../data/enwiki/enwikidump_ms55.csv\n",
      "\n",
      "Starting preprocessing on: /Volumes/NIJMAN/THESIS/enwiki_extracted/ms56\n",
      "It took 2.5649449825286865s to read /Volumes/NIJMAN/THESIS/enwiki_extracted/ms56.\n"
     ]
    },
    {
     "data": {
      "application/vnd.jupyter.widget-view+json": {
       "model_id": "d6b6589a2a0d49e798c101a28ae5bccb",
       "version_major": 2,
       "version_minor": 0
      },
      "text/plain": [
       "Progress split_dump():   0%|          | 0/145 [00:00<?, ?it/s]"
      ]
     },
     "metadata": {},
     "output_type": "display_data"
    },
    {
     "data": {
      "application/vnd.jupyter.widget-view+json": {
       "model_id": "684acc4f5d1a49778bb5620c89c2a39f",
       "version_major": 2,
       "version_minor": 0
      },
      "text/plain": [
       "Progress process_dump():   0%|          | 0/208443 [00:00<?, ?it/s]"
      ]
     },
     "metadata": {},
     "output_type": "display_data"
    },
    {
     "name": "stdout",
     "output_type": "stream",
     "text": [
      "2.44% of articles contain 2 toponyms\n",
      "Removing 23 referral pages\n",
      "file has been written to: ../../../data/enwiki/enwikidump_ms56.csv\n",
      "\n",
      "Starting preprocessing on: /Volumes/NIJMAN/THESIS/enwiki_extracted/ms57\n",
      "It took 5.465716361999512s to read /Volumes/NIJMAN/THESIS/enwiki_extracted/ms57.\n"
     ]
    },
    {
     "data": {
      "application/vnd.jupyter.widget-view+json": {
       "model_id": "d0f8d0e56a554b098c897dd35a0003dd",
       "version_major": 2,
       "version_minor": 0
      },
      "text/plain": [
       "Progress split_dump():   0%|          | 0/207 [00:00<?, ?it/s]"
      ]
     },
     "metadata": {},
     "output_type": "display_data"
    },
    {
     "data": {
      "application/vnd.jupyter.widget-view+json": {
       "model_id": "d896b623e3c4457db6db2c96179137bc",
       "version_major": 2,
       "version_minor": 0
      },
      "text/plain": [
       "Progress process_dump():   0%|          | 0/299481 [00:00<?, ?it/s]"
      ]
     },
     "metadata": {},
     "output_type": "display_data"
    },
    {
     "name": "stdout",
     "output_type": "stream",
     "text": [
      "2.4% of articles contain 2 toponyms\n",
      "Removing 19 referral pages\n",
      "file has been written to: ../../../data/enwiki/enwikidump_ms57.csv\n",
      "\n",
      "Starting preprocessing on: /Volumes/NIJMAN/THESIS/enwiki_extracted/ms58\n",
      "It took 2.877295970916748s to read /Volumes/NIJMAN/THESIS/enwiki_extracted/ms58.\n"
     ]
    },
    {
     "data": {
      "application/vnd.jupyter.widget-view+json": {
       "model_id": "26206be3924a4eeb8e13892dcc679ca4",
       "version_major": 2,
       "version_minor": 0
      },
      "text/plain": [
       "Progress split_dump():   0%|          | 0/188 [00:00<?, ?it/s]"
      ]
     },
     "metadata": {},
     "output_type": "display_data"
    },
    {
     "data": {
      "application/vnd.jupyter.widget-view+json": {
       "model_id": "400af12b30fa47c3b1e68bc51972608c",
       "version_major": 2,
       "version_minor": 0
      },
      "text/plain": [
       "Progress process_dump():   0%|          | 0/263436 [00:00<?, ?it/s]"
      ]
     },
     "metadata": {},
     "output_type": "display_data"
    },
    {
     "name": "stdout",
     "output_type": "stream",
     "text": [
      "2.58% of articles contain 2 toponyms\n",
      "Removing 25 referral pages\n",
      "file has been written to: ../../../data/enwiki/enwikidump_ms58.csv\n",
      "\n",
      "Starting preprocessing on: /Volumes/NIJMAN/THESIS/enwiki_extracted/ms59\n",
      "It took 3.2013590335845947s to read /Volumes/NIJMAN/THESIS/enwiki_extracted/ms59.\n"
     ]
    },
    {
     "data": {
      "application/vnd.jupyter.widget-view+json": {
       "model_id": "8e226f98434a486bb7ce288635fd6f99",
       "version_major": 2,
       "version_minor": 0
      },
      "text/plain": [
       "Progress split_dump():   0%|          | 0/199 [00:00<?, ?it/s]"
      ]
     },
     "metadata": {},
     "output_type": "display_data"
    },
    {
     "data": {
      "application/vnd.jupyter.widget-view+json": {
       "model_id": "dba25b7f73014e9ab5a5a31a163196cd",
       "version_major": 2,
       "version_minor": 0
      },
      "text/plain": [
       "Progress process_dump():   0%|          | 0/295211 [00:00<?, ?it/s]"
      ]
     },
     "metadata": {},
     "output_type": "display_data"
    },
    {
     "name": "stdout",
     "output_type": "stream",
     "text": [
      "2.44% of articles contain 2 toponyms\n",
      "Removing 25 referral pages\n",
      "file has been written to: ../../../data/enwiki/enwikidump_ms59.csv\n",
      "\n",
      "Starting preprocessing on: /Volumes/NIJMAN/THESIS/enwiki_extracted/ms60\n",
      "It took 3.7975690364837646s to read /Volumes/NIJMAN/THESIS/enwiki_extracted/ms60.\n"
     ]
    },
    {
     "data": {
      "application/vnd.jupyter.widget-view+json": {
       "model_id": "fd8f1353aa904a1498ef72a12eba3105",
       "version_major": 2,
       "version_minor": 0
      },
      "text/plain": [
       "Progress split_dump():   0%|          | 0/209 [00:00<?, ?it/s]"
      ]
     },
     "metadata": {},
     "output_type": "display_data"
    },
    {
     "data": {
      "application/vnd.jupyter.widget-view+json": {
       "model_id": "a7bc2b28e09943b5a2cd22e3ceb3a416",
       "version_major": 2,
       "version_minor": 0
      },
      "text/plain": [
       "Progress process_dump():   0%|          | 0/324456 [00:00<?, ?it/s]"
      ]
     },
     "metadata": {},
     "output_type": "display_data"
    },
    {
     "name": "stdout",
     "output_type": "stream",
     "text": [
      "2.21% of articles contain 2 toponyms\n",
      "Removing 43 referral pages\n",
      "file has been written to: ../../../data/enwiki/enwikidump_ms60.csv\n",
      "\n",
      "Starting preprocessing on: /Volumes/NIJMAN/THESIS/enwiki_extracted/ms61\n",
      "It took 6.708578109741211s to read /Volumes/NIJMAN/THESIS/enwiki_extracted/ms61.\n"
     ]
    },
    {
     "data": {
      "application/vnd.jupyter.widget-view+json": {
       "model_id": "64a909f15c1f415aabac648ace27db63",
       "version_major": 2,
       "version_minor": 0
      },
      "text/plain": [
       "Progress split_dump():   0%|          | 0/202 [00:00<?, ?it/s]"
      ]
     },
     "metadata": {},
     "output_type": "display_data"
    },
    {
     "data": {
      "application/vnd.jupyter.widget-view+json": {
       "model_id": "32fc8b72947146f0ad49ed172d69a535",
       "version_major": 2,
       "version_minor": 0
      },
      "text/plain": [
       "Progress process_dump():   0%|          | 0/371250 [00:00<?, ?it/s]"
      ]
     },
     "metadata": {},
     "output_type": "display_data"
    },
    {
     "name": "stdout",
     "output_type": "stream",
     "text": [
      "1.65% of articles contain 2 toponyms\n",
      "Removing 24 referral pages\n",
      "file has been written to: ../../../data/enwiki/enwikidump_ms61.csv\n",
      "\n",
      "Starting preprocessing on: /Volumes/NIJMAN/THESIS/enwiki_extracted/ms62\n",
      "It took 13.831887245178223s to read /Volumes/NIJMAN/THESIS/enwiki_extracted/ms62.\n"
     ]
    },
    {
     "data": {
      "application/vnd.jupyter.widget-view+json": {
       "model_id": "28a7da06ca734253a4efa7961d454b15",
       "version_major": 2,
       "version_minor": 0
      },
      "text/plain": [
       "Progress split_dump():   0%|          | 0/78 [00:00<?, ?it/s]"
      ]
     },
     "metadata": {},
     "output_type": "display_data"
    },
    {
     "data": {
      "application/vnd.jupyter.widget-view+json": {
       "model_id": "66aae11e0211452498c32658dff7de79",
       "version_major": 2,
       "version_minor": 0
      },
      "text/plain": [
       "Progress process_dump():   0%|          | 0/135066 [00:00<?, ?it/s]"
      ]
     },
     "metadata": {},
     "output_type": "display_data"
    },
    {
     "name": "stdout",
     "output_type": "stream",
     "text": [
      "1.76% of articles contain 2 toponyms\n",
      "Removing 5 referral pages\n",
      "file has been written to: ../../../data/enwiki/enwikidump_ms62.csv\n",
      "----------/nFiles in /Volumes/NIJMAN/THESIS/enwiki_extracted have been processed/n----------\n"
     ]
    },
    {
     "data": {
      "application/vnd.jupyter.widget-view+json": {
       "model_id": "e0e6743a5b3e4fffacea9aa2e1e45bf0",
       "version_major": 2,
       "version_minor": 0
      },
      "text/plain": [
       "Progress Total:   0%|          | 0/13 [00:00<?, ?it/s]"
      ]
     },
     "metadata": {},
     "output_type": "display_data"
    },
    {
     "name": "stdout",
     "output_type": "stream",
     "text": [
      "\n",
      "Starting preprocessing on: /Volumes/NIJMAN/THESIS/frwiki_extracted/ms1\n",
      "It took 23.903630018234253s to read /Volumes/NIJMAN/THESIS/frwiki_extracted/ms1.\n"
     ]
    },
    {
     "data": {
      "application/vnd.jupyter.widget-view+json": {
       "model_id": "ccfa50bd8fba48b4b7ff48c6ae92171c",
       "version_major": 2,
       "version_minor": 0
      },
      "text/plain": [
       "Progress split_dump():   0%|          | 0/781 [00:00<?, ?it/s]"
      ]
     },
     "metadata": {},
     "output_type": "display_data"
    },
    {
     "data": {
      "application/vnd.jupyter.widget-view+json": {
       "model_id": "69138a61dade40dc9313d5c0691b42d1",
       "version_major": 2,
       "version_minor": 0
      },
      "text/plain": [
       "Progress process_dump():   0%|          | 0/151301 [00:00<?, ?it/s]"
      ]
     },
     "metadata": {},
     "output_type": "display_data"
    },
    {
     "name": "stdout",
     "output_type": "stream",
     "text": [
      "16.19% of articles contain 2 toponyms\n",
      "Removing 1 referral pages\n",
      "file has been written to: ../../../data/frwiki/frwikidump_ms1.csv\n",
      "\n",
      "Starting preprocessing on: /Volumes/NIJMAN/THESIS/frwiki_extracted/ms2\n",
      "It took 10.870763063430786s to read /Volumes/NIJMAN/THESIS/frwiki_extracted/ms2.\n"
     ]
    },
    {
     "data": {
      "application/vnd.jupyter.widget-view+json": {
       "model_id": "846d7e76c3d749f886a69246d4173d81",
       "version_major": 2,
       "version_minor": 0
      },
      "text/plain": [
       "Progress split_dump():   0%|          | 0/794 [00:00<?, ?it/s]"
      ]
     },
     "metadata": {},
     "output_type": "display_data"
    },
    {
     "data": {
      "application/vnd.jupyter.widget-view+json": {
       "model_id": "7a04fed3054a44a3b9cd0a95d26c72cc",
       "version_major": 2,
       "version_minor": 0
      },
      "text/plain": [
       "Progress process_dump():   0%|          | 0/323342 [00:00<?, ?it/s]"
      ]
     },
     "metadata": {},
     "output_type": "display_data"
    },
    {
     "name": "stdout",
     "output_type": "stream",
     "text": [
      "11.55% of articles contain 2 toponyms\n",
      "Removing 11 referral pages\n",
      "file has been written to: ../../../data/frwiki/frwikidump_ms2.csv\n",
      "\n",
      "Starting preprocessing on: /Volumes/NIJMAN/THESIS/frwiki_extracted/ms3\n",
      "It took 10.873614072799683s to read /Volumes/NIJMAN/THESIS/frwiki_extracted/ms3.\n"
     ]
    },
    {
     "data": {
      "application/vnd.jupyter.widget-view+json": {
       "model_id": "aee9edd7f3434765b9e3a8bbcd770102",
       "version_major": 2,
       "version_minor": 0
      },
      "text/plain": [
       "Progress split_dump():   0%|          | 0/567 [00:00<?, ?it/s]"
      ]
     },
     "metadata": {},
     "output_type": "display_data"
    },
    {
     "data": {
      "application/vnd.jupyter.widget-view+json": {
       "model_id": "79353a7d125d41728c97a872aea8b962",
       "version_major": 2,
       "version_minor": 0
      },
      "text/plain": [
       "Progress process_dump():   0%|          | 0/545167 [00:00<?, ?it/s]"
      ]
     },
     "metadata": {},
     "output_type": "display_data"
    },
    {
     "name": "stdout",
     "output_type": "stream",
     "text": [
      "5.3% of articles contain 2 toponyms\n",
      "Removing 30 referral pages\n",
      "file has been written to: ../../../data/frwiki/frwikidump_ms3.csv\n",
      "\n",
      "Starting preprocessing on: /Volumes/NIJMAN/THESIS/frwiki_extracted/ms4\n",
      "It took 2.987581968307495s to read /Volumes/NIJMAN/THESIS/frwiki_extracted/ms4.\n"
     ]
    },
    {
     "data": {
      "application/vnd.jupyter.widget-view+json": {
       "model_id": "c5798b0721f3467681b47271d22b3b6c",
       "version_major": 2,
       "version_minor": 0
      },
      "text/plain": [
       "Progress split_dump():   0%|          | 0/149 [00:00<?, ?it/s]"
      ]
     },
     "metadata": {},
     "output_type": "display_data"
    },
    {
     "data": {
      "application/vnd.jupyter.widget-view+json": {
       "model_id": "efcfeaf34d6743c5ba021f1ec8e164a9",
       "version_major": 2,
       "version_minor": 0
      },
      "text/plain": [
       "Progress process_dump():   0%|          | 0/189230 [00:00<?, ?it/s]"
      ]
     },
     "metadata": {},
     "output_type": "display_data"
    },
    {
     "name": "stdout",
     "output_type": "stream",
     "text": [
      "3.96% of articles contain 2 toponyms\n",
      "Removing 17 referral pages\n",
      "file has been written to: ../../../data/frwiki/frwikidump_ms4.csv\n",
      "\n",
      "Starting preprocessing on: /Volumes/NIJMAN/THESIS/frwiki_extracted/ms5\n",
      "It took 10.56701397895813s to read /Volumes/NIJMAN/THESIS/frwiki_extracted/ms5.\n"
     ]
    },
    {
     "data": {
      "application/vnd.jupyter.widget-view+json": {
       "model_id": "6fc6635232514d90b2c623131519a3f2",
       "version_major": 2,
       "version_minor": 0
      },
      "text/plain": [
       "Progress split_dump():   0%|          | 0/535 [00:00<?, ?it/s]"
      ]
     },
     "metadata": {},
     "output_type": "display_data"
    },
    {
     "data": {
      "application/vnd.jupyter.widget-view+json": {
       "model_id": "6ad67444c5f5433180b50e49bfdb10f0",
       "version_major": 2,
       "version_minor": 0
      },
      "text/plain": [
       "Progress process_dump():   0%|          | 0/446533 [00:00<?, ?it/s]"
      ]
     },
     "metadata": {},
     "output_type": "display_data"
    },
    {
     "name": "stdout",
     "output_type": "stream",
     "text": [
      "6.35% of articles contain 2 toponyms\n",
      "Removing 92 referral pages\n",
      "file has been written to: ../../../data/frwiki/frwikidump_ms5.csv\n",
      "\n",
      "Starting preprocessing on: /Volumes/NIJMAN/THESIS/frwiki_extracted/ms6\n",
      "It took 8.181482076644897s to read /Volumes/NIJMAN/THESIS/frwiki_extracted/ms6.\n"
     ]
    },
    {
     "data": {
      "application/vnd.jupyter.widget-view+json": {
       "model_id": "da9ca066ad794e38921997ff85a65a6f",
       "version_major": 2,
       "version_minor": 0
      },
      "text/plain": [
       "Progress split_dump():   0%|          | 0/246 [00:00<?, ?it/s]"
      ]
     },
     "metadata": {},
     "output_type": "display_data"
    },
    {
     "data": {
      "application/vnd.jupyter.widget-view+json": {
       "model_id": "31dbffcd00284306be0631c68412a2ea",
       "version_major": 2,
       "version_minor": 0
      },
      "text/plain": [
       "Progress process_dump():   0%|          | 0/228636 [00:00<?, ?it/s]"
      ]
     },
     "metadata": {},
     "output_type": "display_data"
    },
    {
     "name": "stdout",
     "output_type": "stream",
     "text": [
      "6.48% of articles contain 2 toponyms\n",
      "Removing 38 referral pages\n",
      "file has been written to: ../../../data/frwiki/frwikidump_ms6.csv\n",
      "\n",
      "Starting preprocessing on: /Volumes/NIJMAN/THESIS/frwiki_extracted/ms7\n",
      "It took 7.404664993286133s to read /Volumes/NIJMAN/THESIS/frwiki_extracted/ms7.\n"
     ]
    },
    {
     "data": {
      "application/vnd.jupyter.widget-view+json": {
       "model_id": "f77e65beafdc4415924dce50d623e922",
       "version_major": 2,
       "version_minor": 0
      },
      "text/plain": [
       "Progress split_dump():   0%|          | 0/454 [00:00<?, ?it/s]"
      ]
     },
     "metadata": {},
     "output_type": "display_data"
    },
    {
     "data": {
      "application/vnd.jupyter.widget-view+json": {
       "model_id": "ceb523b7605b4b04835ed1bbd2764217",
       "version_major": 2,
       "version_minor": 0
      },
      "text/plain": [
       "Progress process_dump():   0%|          | 0/428552 [00:00<?, ?it/s]"
      ]
     },
     "metadata": {},
     "output_type": "display_data"
    },
    {
     "name": "stdout",
     "output_type": "stream",
     "text": [
      "6.14% of articles contain 2 toponyms\n",
      "Removing 72 referral pages\n",
      "file has been written to: ../../../data/frwiki/frwikidump_ms7.csv\n",
      "\n",
      "Starting preprocessing on: /Volumes/NIJMAN/THESIS/frwiki_extracted/ms8\n",
      "It took 4.891857862472534s to read /Volumes/NIJMAN/THESIS/frwiki_extracted/ms8.\n"
     ]
    },
    {
     "data": {
      "application/vnd.jupyter.widget-view+json": {
       "model_id": "bdb3c04d0db94874a20202698b84ac43",
       "version_major": 2,
       "version_minor": 0
      },
      "text/plain": [
       "Progress split_dump():   0%|          | 0/362 [00:00<?, ?it/s]"
      ]
     },
     "metadata": {},
     "output_type": "display_data"
    },
    {
     "data": {
      "application/vnd.jupyter.widget-view+json": {
       "model_id": "2430774575384675a7b451ab64e4c3dd",
       "version_major": 2,
       "version_minor": 0
      },
      "text/plain": [
       "Progress process_dump():   0%|          | 0/350754 [00:00<?, ?it/s]"
      ]
     },
     "metadata": {},
     "output_type": "display_data"
    },
    {
     "name": "stdout",
     "output_type": "stream",
     "text": [
      "6.02% of articles contain 2 toponyms\n",
      "Removing 34 referral pages\n",
      "file has been written to: ../../../data/frwiki/frwikidump_ms8.csv\n",
      "\n",
      "Starting preprocessing on: /Volumes/NIJMAN/THESIS/frwiki_extracted/ms9\n",
      "It took 2.163896083831787s to read /Volumes/NIJMAN/THESIS/frwiki_extracted/ms9.\n"
     ]
    },
    {
     "data": {
      "application/vnd.jupyter.widget-view+json": {
       "model_id": "cf9fc6cb6f5a42319ac9edb1049c8b78",
       "version_major": 2,
       "version_minor": 0
      },
      "text/plain": [
       "Progress split_dump():   0%|          | 0/139 [00:00<?, ?it/s]"
      ]
     },
     "metadata": {},
     "output_type": "display_data"
    },
    {
     "data": {
      "application/vnd.jupyter.widget-view+json": {
       "model_id": "32cc3628601c45fe869a658eafa129b0",
       "version_major": 2,
       "version_minor": 0
      },
      "text/plain": [
       "Progress process_dump():   0%|          | 0/129239 [00:00<?, ?it/s]"
      ]
     },
     "metadata": {},
     "output_type": "display_data"
    },
    {
     "name": "stdout",
     "output_type": "stream",
     "text": [
      "6.63% of articles contain 2 toponyms\n",
      "Removing 20 referral pages\n",
      "file has been written to: ../../../data/frwiki/frwikidump_ms9.csv\n",
      "\n",
      "Starting preprocessing on: /Volumes/NIJMAN/THESIS/frwiki_extracted/ms10\n",
      "It took 3.6920652389526367s to read /Volumes/NIJMAN/THESIS/frwiki_extracted/ms10.\n"
     ]
    },
    {
     "data": {
      "application/vnd.jupyter.widget-view+json": {
       "model_id": "0da9a91796644340a81a6431860f41a7",
       "version_major": 2,
       "version_minor": 0
      },
      "text/plain": [
       "Progress split_dump():   0%|          | 0/327 [00:00<?, ?it/s]"
      ]
     },
     "metadata": {},
     "output_type": "display_data"
    },
    {
     "data": {
      "application/vnd.jupyter.widget-view+json": {
       "model_id": "1fdac6cec9a5474ebade68ac2fd93835",
       "version_major": 2,
       "version_minor": 0
      },
      "text/plain": [
       "Progress process_dump():   0%|          | 0/319747 [00:00<?, ?it/s]"
      ]
     },
     "metadata": {},
     "output_type": "display_data"
    },
    {
     "name": "stdout",
     "output_type": "stream",
     "text": [
      "5.95% of articles contain 2 toponyms\n",
      "Removing 22 referral pages\n",
      "file has been written to: ../../../data/frwiki/frwikidump_ms10.csv\n",
      "\n",
      "Starting preprocessing on: /Volumes/NIJMAN/THESIS/frwiki_extracted/ms11\n",
      "It took 4.512436151504517s to read /Volumes/NIJMAN/THESIS/frwiki_extracted/ms11.\n"
     ]
    },
    {
     "data": {
      "application/vnd.jupyter.widget-view+json": {
       "model_id": "14249e07c7d44e16a3982ea2f9197b37",
       "version_major": 2,
       "version_minor": 0
      },
      "text/plain": [
       "Progress split_dump():   0%|          | 0/332 [00:00<?, ?it/s]"
      ]
     },
     "metadata": {},
     "output_type": "display_data"
    },
    {
     "data": {
      "application/vnd.jupyter.widget-view+json": {
       "model_id": "607d0b03095d453b8343c213610c2768",
       "version_major": 2,
       "version_minor": 0
      },
      "text/plain": [
       "Progress process_dump():   0%|          | 0/312521 [00:00<?, ?it/s]"
      ]
     },
     "metadata": {},
     "output_type": "display_data"
    },
    {
     "name": "stdout",
     "output_type": "stream",
     "text": [
      "5.89% of articles contain 2 toponyms\n",
      "Removing 39 referral pages\n",
      "file has been written to: ../../../data/frwiki/frwikidump_ms11.csv\n",
      "\n",
      "Starting preprocessing on: /Volumes/NIJMAN/THESIS/frwiki_extracted/ms12\n",
      "It took 3.6546638011932373s to read /Volumes/NIJMAN/THESIS/frwiki_extracted/ms12.\n"
     ]
    },
    {
     "data": {
      "application/vnd.jupyter.widget-view+json": {
       "model_id": "ad93476e98e04cfc9a95f421137b63c5",
       "version_major": 2,
       "version_minor": 0
      },
      "text/plain": [
       "Progress split_dump():   0%|          | 0/378 [00:00<?, ?it/s]"
      ]
     },
     "metadata": {},
     "output_type": "display_data"
    },
    {
     "data": {
      "application/vnd.jupyter.widget-view+json": {
       "model_id": "aa6d1f8d2ef54b08b78af7a81e30c4ee",
       "version_major": 2,
       "version_minor": 0
      },
      "text/plain": [
       "Progress process_dump():   0%|          | 0/339629 [00:00<?, ?it/s]"
      ]
     },
     "metadata": {},
     "output_type": "display_data"
    },
    {
     "name": "stdout",
     "output_type": "stream",
     "text": [
      "6.37% of articles contain 2 toponyms\n",
      "Removing 28 referral pages\n",
      "file has been written to: ../../../data/frwiki/frwikidump_ms12.csv\n",
      "\n",
      "Starting preprocessing on: /Volumes/NIJMAN/THESIS/frwiki_extracted/ms13\n",
      "It took 4.161671876907349s to read /Volumes/NIJMAN/THESIS/frwiki_extracted/ms13.\n"
     ]
    },
    {
     "data": {
      "application/vnd.jupyter.widget-view+json": {
       "model_id": "f0dafdd896934cb39a895f85eb0ce52b",
       "version_major": 2,
       "version_minor": 0
      },
      "text/plain": [
       "Progress split_dump():   0%|          | 0/320 [00:00<?, ?it/s]"
      ]
     },
     "metadata": {},
     "output_type": "display_data"
    },
    {
     "data": {
      "application/vnd.jupyter.widget-view+json": {
       "model_id": "cd69893990314d41abc4fdcd51c233eb",
       "version_major": 2,
       "version_minor": 0
      },
      "text/plain": [
       "Progress process_dump():   0%|          | 0/280937 [00:00<?, ?it/s]"
      ]
     },
     "metadata": {},
     "output_type": "display_data"
    },
    {
     "name": "stdout",
     "output_type": "stream",
     "text": [
      "6.52% of articles contain 2 toponyms\n",
      "Removing 23 referral pages\n",
      "file has been written to: ../../../data/frwiki/frwikidump_ms13.csv\n",
      "----------/nFiles in /Volumes/NIJMAN/THESIS/frwiki_extracted have been processed/n----------\n"
     ]
    }
   ],
   "source": [
    "out_dir = f'../../../../data/' # directory where new directories will be created for each language\n",
    "\n",
    "# cities dataframe\n",
    "fp = '../input/List_of_cities_300k.csv' # path to csv with city information\n",
    "cities = pd.read_csv(fp, sep=';')\n",
    "\n",
    "# list of languages to iterate over\n",
    "lang_list = ['en', 'fr']\n",
    "\n",
    "for language in lang_list:\n",
    "    base_dir = f\"/Volumes/NIJMAN/THESIS/{language}wiki_extracted\" # path/to/wikidump/extracted\n",
    "\n",
    "    \n",
    "    # load city list\n",
    "    name_col = f'Mua_{language}' \n",
    "    cities_ls = [unidecode.unidecode(city_component) \n",
    "             for city in cities[name_col] \n",
    "             for city_component in city.split('-')]\n",
    "    \n",
    "    # do the whole preprocessing/extraction thing\n",
    "    preprocess(base_dir, out_dir, language, cities_ls, overwrite_protection = False)"
   ]
  }
 ],
 "metadata": {
  "kernelspec": {
   "display_name": "Python 3 (ipykernel)",
   "language": "python",
   "name": "python3"
  },
  "language_info": {
   "codemirror_mode": {
    "name": "ipython",
    "version": 3
   },
   "file_extension": ".py",
   "mimetype": "text/x-python",
   "name": "python",
   "nbconvert_exporter": "python",
   "pygments_lexer": "ipython3",
   "version": "3.10.4"
  }
 },
 "nbformat": 4,
 "nbformat_minor": 5
}
