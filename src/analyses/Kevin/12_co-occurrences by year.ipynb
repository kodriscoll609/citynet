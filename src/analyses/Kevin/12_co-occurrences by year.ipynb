{
 "cells": [
  {
   "cell_type": "code",
   "execution_count": 1,
   "id": "dbf36d46",
   "metadata": {},
   "outputs": [],
   "source": [
    "import pandas as pd"
   ]
  },
  {
   "cell_type": "code",
   "execution_count": 27,
   "id": "9b5432c7",
   "metadata": {},
   "outputs": [
    {
     "name": "stderr",
     "output_type": "stream",
     "text": [
      "C:\\Users\\kodri\\AppData\\Local\\Temp\\ipykernel_26096\\1257135964.py:1: DtypeWarning: Columns (54) have mixed types. Specify dtype option on import or set low_memory=False.\n",
      "  df = pd.read_csv('cooccurrance_df.csv')\n"
     ]
    }
   ],
   "source": [
    "df = pd.read_csv('cooccurrance_df.csv')"
   ]
  },
  {
   "cell_type": "code",
   "execution_count": 28,
   "id": "79a046a0",
   "metadata": {},
   "outputs": [
    {
     "data": {
      "text/plain": [
       "1230209"
      ]
     },
     "execution_count": 28,
     "metadata": {},
     "output_type": "execute_result"
    }
   ],
   "source": [
    "len(df)"
   ]
  },
  {
   "cell_type": "code",
   "execution_count": 29,
   "id": "41564e53",
   "metadata": {},
   "outputs": [
    {
     "data": {
      "text/plain": [
       "1121437"
      ]
     },
     "execution_count": 29,
     "metadata": {},
     "output_type": "execute_result"
    }
   ],
   "source": [
    "city_variation_df = pd.read_csv('city_variations.csv')\n",
    "city_variation_df = city_variation_df[:39]\n",
    "\n",
    "#remove cities with <1million population\n",
    "cols1 = ['doc','line', 'created_utc', ' score',' subreddit',' link_id',' subreddit_id']\n",
    "cols2 = list(city_variation_df['col'])\n",
    "cols = cols1 + cols2\n",
    "\n",
    "#remove the rows with no co-occurrences when extra cities are gone\n",
    "df['occ_sum'] = df[cols2].sum(axis = 1)\n",
    "df = df[df['occ_sum']>1]\n",
    "\n",
    "len(df)"
   ]
  },
  {
   "cell_type": "code",
   "execution_count": 30,
   "id": "e7e895d8",
   "metadata": {},
   "outputs": [
    {
     "name": "stderr",
     "output_type": "stream",
     "text": [
      "C:\\Users\\kodri\\AppData\\Local\\Temp\\ipykernel_26096\\4062423715.py:1: FutureWarning: Dropping invalid columns in DataFrameGroupBy.max is deprecated. In a future version, a TypeError will be raised. Before calling .max, select only columns which should be valid for the function.\n",
      "  df = df.groupby(' link_id').max()\n"
     ]
    },
    {
     "data": {
      "text/plain": [
       "682130"
      ]
     },
     "execution_count": 30,
     "metadata": {},
     "output_type": "execute_result"
    }
   ],
   "source": [
    "df = df.groupby(' link_id').max()\n",
    "len(df)"
   ]
  },
  {
   "cell_type": "markdown",
   "id": "aab4f7f3",
   "metadata": {},
   "source": [
    "#### Checkpoint save"
   ]
  },
  {
   "cell_type": "code",
   "execution_count": 33,
   "id": "7dcfcd13",
   "metadata": {},
   "outputs": [],
   "source": [
    "df.to_csv('occurrance_df_year.csv')"
   ]
  }
 ],
 "metadata": {
  "kernelspec": {
   "display_name": "Python 3 (ipykernel)",
   "language": "python",
   "name": "python3"
  },
  "language_info": {
   "codemirror_mode": {
    "name": "ipython",
    "version": 3
   },
   "file_extension": ".py",
   "mimetype": "text/x-python",
   "name": "python",
   "nbconvert_exporter": "python",
   "pygments_lexer": "ipython3",
   "version": "3.10.4"
  }
 },
 "nbformat": 4,
 "nbformat_minor": 5
}
